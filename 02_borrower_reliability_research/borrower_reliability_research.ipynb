{
 "cells": [
  {
   "cell_type": "markdown",
   "id": "bf63b034",
   "metadata": {},
   "source": [
    "<div style=\"border:solid Chocolate 2px; padding: 40px\">\n",
    "\n",
    "<b>Светлана, привет!</b>\n",
    "\n",
    "Меня зовут Евгений Головин, я буду ревьюером твоего проекта. Если ты не против, то предлагаю посмотрить наше общение на \"ты\" ;) Если удобнее на \"вы\", то нет проблем, только скажи об этом. \n",
    "\n",
    "В ходе работы я оставил тебе комментарии <font color='green'>зеленого</font>, <font color='gold'>желтого</font> и <font color='red'>красного</font> цветов. Сейчас объясню, что они значат:\n",
    "\n",
    "<br/>\n",
    "\n",
    "<div class=\"alert alert-success\">\n",
    "<h2> Комментарий ревьюера <a class=\"tocSkip\"> </h2>\n",
    "\n",
    "<b>Все супер!👍:</b> Решение на этом шаге является полностью правильным.\n",
    "</div>\n",
    "\n",
    "<br/>\n",
    "\n",
    "<div class=\"alert alert-warning\">\n",
    "    <h2> Комментарий ревьюера <a class=\"tocSkip\"> </h2>\n",
    "    \n",
    "<b>Небольшие замечания и рекомендации💡:</b> Решение на этом шаге станет еще лучше, если внести небольшие коррективы.\n",
    "</div>\n",
    "\n",
    "\n",
    "<br/>\n",
    "<div class=\"alert alert-block alert-danger\">\n",
    "<h2> Комментарий ревьюера <a class=\"tocSkip\"></h2>\n",
    "\n",
    "    \n",
    "<b>На доработку🤔:</b>\n",
    " Решение на этом шаге требует существенной переработки и внесения правок. Напоминаю, что проект не может быть принят с первого раза, если ревью содержит комментарии, рекомендующие доработать шаги.\n",
    "</div>\n",
    "    \n",
    "Увидев мой комментарий, не удаляй его, он будет очень полезен в случае повторной проверки работы :)\n",
    "    \n",
    "<div class=\"alert alert-info\">\n",
    "<b>А свой помечай вот так, чтобы я его не потерял ;)</b> \n",
    "</div>\n",
    "    \n",
    "Увидев мой комментарий, не удаляй его, он будет очень полезен в случае повторной проверки работы :)\n",
    "    \n",
    "На мои комменатрии можно и нужно реагировать, только делать это стоит так, чтобы твои и мои комменты не смешались: выделяй свои цветами, сильно отличающимися от моих.\n",
    "    \n",
    "Увидев у тебя неточность, в первый раз я лишь укажу на ее наличие и дам тебе возможность самому найти и исправить ее. На реальной работе твой руководитель будет поступать также, и я пытаюсь подготовить тебя именно к работе аналитиком. Но если ты пока не справишься с такой задачей - при следующей проверке я дам более точную подсказку!"
   ]
  },
  {
   "cell_type": "markdown",
   "id": "e44201b2",
   "metadata": {
    "deletable": false,
    "editable": false,
    "id": "c81daeeb"
   },
   "source": [
    "# Исследование надежности заемщиков\n"
   ]
  },
  {
   "cell_type": "markdown",
   "id": "4373a406",
   "metadata": {
    "deletable": false,
    "editable": false,
    "id": "827c20bf"
   },
   "source": [
    "Во второй части проекта вы выполните шаги 3 и 4. Их вручную проверит ревьюер.\n",
    "Чтобы вам не пришлось писать код заново для шагов 1 и 2, мы добавили авторские решения в ячейки с кодом. \n",
    "\n"
   ]
  },
  {
   "cell_type": "markdown",
   "id": "805f50d2",
   "metadata": {},
   "source": [
    "<div class=\"alert alert-success\">\n",
    "<h2> Комментарий ревьюера <a class=\"tocSkip\"> </h2>\n",
    "\n",
    "<b>Все супер!👍:</b> Тогда давай туда и переноситься ;)"
   ]
  },
  {
   "cell_type": "markdown",
   "id": "fa37501c",
   "metadata": {
    "deletable": false,
    "editable": false,
    "id": "744d7639"
   },
   "source": [
    "## Откройте таблицу и изучите общую информацию о данных"
   ]
  },
  {
   "cell_type": "markdown",
   "id": "539c1186",
   "metadata": {
    "deletable": false,
    "editable": false,
    "id": "e7a14c31"
   },
   "source": [
    "**Задание 1. Импортируйте библиотеку pandas. Считайте данные из csv-файла в датафрейм и сохраните в переменную `data`. Путь к файлу:**\n",
    "\n",
    "`/datasets/data.csv`"
   ]
  },
  {
   "cell_type": "code",
   "execution_count": 2,
   "id": "ea1ec97c",
   "metadata": {
    "deletable": false,
    "id": "7bcf75c9"
   },
   "outputs": [],
   "source": [
    "import pandas as pd\n",
    "\n",
    "try:\n",
    "    data = pd.read_csv('/datasets/data.csv')\n",
    "except:\n",
    "    data = pd.read_csv('https://code.s3.yandex.net/datasets/data.csv')"
   ]
  },
  {
   "cell_type": "code",
   "execution_count": 3,
   "id": "ce6aa2bd",
   "metadata": {},
   "outputs": [],
   "source": [
    "data.to_csv('credit_trustability_data.csv')"
   ]
  },
  {
   "cell_type": "markdown",
   "id": "34c6d6dd",
   "metadata": {
    "deletable": false,
    "editable": false,
    "id": "b8038fe3"
   },
   "source": [
    "**Задание 2. Выведите первые 20 строчек датафрейма `data` на экран.**"
   ]
  },
  {
   "cell_type": "code",
   "execution_count": 2,
   "id": "d7317058",
   "metadata": {
    "deletable": false,
    "id": "2a7cab99",
    "outputId": "1a8f3ef2-d323-4ec2-ddf7-89670b5944c4"
   },
   "outputs": [
    {
     "data": {
      "text/html": [
       "<div>\n",
       "<style scoped>\n",
       "    .dataframe tbody tr th:only-of-type {\n",
       "        vertical-align: middle;\n",
       "    }\n",
       "\n",
       "    .dataframe tbody tr th {\n",
       "        vertical-align: top;\n",
       "    }\n",
       "\n",
       "    .dataframe thead th {\n",
       "        text-align: right;\n",
       "    }\n",
       "</style>\n",
       "<table border=\"1\" class=\"dataframe\">\n",
       "  <thead>\n",
       "    <tr style=\"text-align: right;\">\n",
       "      <th></th>\n",
       "      <th>children</th>\n",
       "      <th>days_employed</th>\n",
       "      <th>dob_years</th>\n",
       "      <th>education</th>\n",
       "      <th>education_id</th>\n",
       "      <th>family_status</th>\n",
       "      <th>family_status_id</th>\n",
       "      <th>gender</th>\n",
       "      <th>income_type</th>\n",
       "      <th>debt</th>\n",
       "      <th>total_income</th>\n",
       "      <th>purpose</th>\n",
       "    </tr>\n",
       "  </thead>\n",
       "  <tbody>\n",
       "    <tr>\n",
       "      <th>0</th>\n",
       "      <td>1</td>\n",
       "      <td>-8437.673028</td>\n",
       "      <td>42</td>\n",
       "      <td>высшее</td>\n",
       "      <td>0</td>\n",
       "      <td>женат / замужем</td>\n",
       "      <td>0</td>\n",
       "      <td>F</td>\n",
       "      <td>сотрудник</td>\n",
       "      <td>0</td>\n",
       "      <td>253875.639453</td>\n",
       "      <td>покупка жилья</td>\n",
       "    </tr>\n",
       "    <tr>\n",
       "      <th>1</th>\n",
       "      <td>1</td>\n",
       "      <td>-4024.803754</td>\n",
       "      <td>36</td>\n",
       "      <td>среднее</td>\n",
       "      <td>1</td>\n",
       "      <td>женат / замужем</td>\n",
       "      <td>0</td>\n",
       "      <td>F</td>\n",
       "      <td>сотрудник</td>\n",
       "      <td>0</td>\n",
       "      <td>112080.014102</td>\n",
       "      <td>приобретение автомобиля</td>\n",
       "    </tr>\n",
       "    <tr>\n",
       "      <th>2</th>\n",
       "      <td>0</td>\n",
       "      <td>-5623.422610</td>\n",
       "      <td>33</td>\n",
       "      <td>Среднее</td>\n",
       "      <td>1</td>\n",
       "      <td>женат / замужем</td>\n",
       "      <td>0</td>\n",
       "      <td>M</td>\n",
       "      <td>сотрудник</td>\n",
       "      <td>0</td>\n",
       "      <td>145885.952297</td>\n",
       "      <td>покупка жилья</td>\n",
       "    </tr>\n",
       "    <tr>\n",
       "      <th>3</th>\n",
       "      <td>3</td>\n",
       "      <td>-4124.747207</td>\n",
       "      <td>32</td>\n",
       "      <td>среднее</td>\n",
       "      <td>1</td>\n",
       "      <td>женат / замужем</td>\n",
       "      <td>0</td>\n",
       "      <td>M</td>\n",
       "      <td>сотрудник</td>\n",
       "      <td>0</td>\n",
       "      <td>267628.550329</td>\n",
       "      <td>дополнительное образование</td>\n",
       "    </tr>\n",
       "    <tr>\n",
       "      <th>4</th>\n",
       "      <td>0</td>\n",
       "      <td>340266.072047</td>\n",
       "      <td>53</td>\n",
       "      <td>среднее</td>\n",
       "      <td>1</td>\n",
       "      <td>гражданский брак</td>\n",
       "      <td>1</td>\n",
       "      <td>F</td>\n",
       "      <td>пенсионер</td>\n",
       "      <td>0</td>\n",
       "      <td>158616.077870</td>\n",
       "      <td>сыграть свадьбу</td>\n",
       "    </tr>\n",
       "    <tr>\n",
       "      <th>5</th>\n",
       "      <td>0</td>\n",
       "      <td>-926.185831</td>\n",
       "      <td>27</td>\n",
       "      <td>высшее</td>\n",
       "      <td>0</td>\n",
       "      <td>гражданский брак</td>\n",
       "      <td>1</td>\n",
       "      <td>M</td>\n",
       "      <td>компаньон</td>\n",
       "      <td>0</td>\n",
       "      <td>255763.565419</td>\n",
       "      <td>покупка жилья</td>\n",
       "    </tr>\n",
       "    <tr>\n",
       "      <th>6</th>\n",
       "      <td>0</td>\n",
       "      <td>-2879.202052</td>\n",
       "      <td>43</td>\n",
       "      <td>высшее</td>\n",
       "      <td>0</td>\n",
       "      <td>женат / замужем</td>\n",
       "      <td>0</td>\n",
       "      <td>F</td>\n",
       "      <td>компаньон</td>\n",
       "      <td>0</td>\n",
       "      <td>240525.971920</td>\n",
       "      <td>операции с жильем</td>\n",
       "    </tr>\n",
       "    <tr>\n",
       "      <th>7</th>\n",
       "      <td>0</td>\n",
       "      <td>-152.779569</td>\n",
       "      <td>50</td>\n",
       "      <td>СРЕДНЕЕ</td>\n",
       "      <td>1</td>\n",
       "      <td>женат / замужем</td>\n",
       "      <td>0</td>\n",
       "      <td>M</td>\n",
       "      <td>сотрудник</td>\n",
       "      <td>0</td>\n",
       "      <td>135823.934197</td>\n",
       "      <td>образование</td>\n",
       "    </tr>\n",
       "    <tr>\n",
       "      <th>8</th>\n",
       "      <td>2</td>\n",
       "      <td>-6929.865299</td>\n",
       "      <td>35</td>\n",
       "      <td>ВЫСШЕЕ</td>\n",
       "      <td>0</td>\n",
       "      <td>гражданский брак</td>\n",
       "      <td>1</td>\n",
       "      <td>F</td>\n",
       "      <td>сотрудник</td>\n",
       "      <td>0</td>\n",
       "      <td>95856.832424</td>\n",
       "      <td>на проведение свадьбы</td>\n",
       "    </tr>\n",
       "    <tr>\n",
       "      <th>9</th>\n",
       "      <td>0</td>\n",
       "      <td>-2188.756445</td>\n",
       "      <td>41</td>\n",
       "      <td>среднее</td>\n",
       "      <td>1</td>\n",
       "      <td>женат / замужем</td>\n",
       "      <td>0</td>\n",
       "      <td>M</td>\n",
       "      <td>сотрудник</td>\n",
       "      <td>0</td>\n",
       "      <td>144425.938277</td>\n",
       "      <td>покупка жилья для семьи</td>\n",
       "    </tr>\n",
       "    <tr>\n",
       "      <th>10</th>\n",
       "      <td>2</td>\n",
       "      <td>-4171.483647</td>\n",
       "      <td>36</td>\n",
       "      <td>высшее</td>\n",
       "      <td>0</td>\n",
       "      <td>женат / замужем</td>\n",
       "      <td>0</td>\n",
       "      <td>M</td>\n",
       "      <td>компаньон</td>\n",
       "      <td>0</td>\n",
       "      <td>113943.491460</td>\n",
       "      <td>покупка недвижимости</td>\n",
       "    </tr>\n",
       "    <tr>\n",
       "      <th>11</th>\n",
       "      <td>0</td>\n",
       "      <td>-792.701887</td>\n",
       "      <td>40</td>\n",
       "      <td>среднее</td>\n",
       "      <td>1</td>\n",
       "      <td>женат / замужем</td>\n",
       "      <td>0</td>\n",
       "      <td>F</td>\n",
       "      <td>сотрудник</td>\n",
       "      <td>0</td>\n",
       "      <td>77069.234271</td>\n",
       "      <td>покупка коммерческой недвижимости</td>\n",
       "    </tr>\n",
       "    <tr>\n",
       "      <th>12</th>\n",
       "      <td>0</td>\n",
       "      <td>NaN</td>\n",
       "      <td>65</td>\n",
       "      <td>среднее</td>\n",
       "      <td>1</td>\n",
       "      <td>гражданский брак</td>\n",
       "      <td>1</td>\n",
       "      <td>M</td>\n",
       "      <td>пенсионер</td>\n",
       "      <td>0</td>\n",
       "      <td>NaN</td>\n",
       "      <td>сыграть свадьбу</td>\n",
       "    </tr>\n",
       "    <tr>\n",
       "      <th>13</th>\n",
       "      <td>0</td>\n",
       "      <td>-1846.641941</td>\n",
       "      <td>54</td>\n",
       "      <td>неоконченное высшее</td>\n",
       "      <td>2</td>\n",
       "      <td>женат / замужем</td>\n",
       "      <td>0</td>\n",
       "      <td>F</td>\n",
       "      <td>сотрудник</td>\n",
       "      <td>0</td>\n",
       "      <td>130458.228857</td>\n",
       "      <td>приобретение автомобиля</td>\n",
       "    </tr>\n",
       "    <tr>\n",
       "      <th>14</th>\n",
       "      <td>0</td>\n",
       "      <td>-1844.956182</td>\n",
       "      <td>56</td>\n",
       "      <td>высшее</td>\n",
       "      <td>0</td>\n",
       "      <td>гражданский брак</td>\n",
       "      <td>1</td>\n",
       "      <td>F</td>\n",
       "      <td>компаньон</td>\n",
       "      <td>1</td>\n",
       "      <td>165127.911772</td>\n",
       "      <td>покупка жилой недвижимости</td>\n",
       "    </tr>\n",
       "    <tr>\n",
       "      <th>15</th>\n",
       "      <td>1</td>\n",
       "      <td>-972.364419</td>\n",
       "      <td>26</td>\n",
       "      <td>среднее</td>\n",
       "      <td>1</td>\n",
       "      <td>женат / замужем</td>\n",
       "      <td>0</td>\n",
       "      <td>F</td>\n",
       "      <td>сотрудник</td>\n",
       "      <td>0</td>\n",
       "      <td>116820.904450</td>\n",
       "      <td>строительство собственной недвижимости</td>\n",
       "    </tr>\n",
       "    <tr>\n",
       "      <th>16</th>\n",
       "      <td>0</td>\n",
       "      <td>-1719.934226</td>\n",
       "      <td>35</td>\n",
       "      <td>среднее</td>\n",
       "      <td>1</td>\n",
       "      <td>женат / замужем</td>\n",
       "      <td>0</td>\n",
       "      <td>F</td>\n",
       "      <td>сотрудник</td>\n",
       "      <td>0</td>\n",
       "      <td>289202.704229</td>\n",
       "      <td>недвижимость</td>\n",
       "    </tr>\n",
       "    <tr>\n",
       "      <th>17</th>\n",
       "      <td>0</td>\n",
       "      <td>-2369.999720</td>\n",
       "      <td>33</td>\n",
       "      <td>высшее</td>\n",
       "      <td>0</td>\n",
       "      <td>гражданский брак</td>\n",
       "      <td>1</td>\n",
       "      <td>M</td>\n",
       "      <td>сотрудник</td>\n",
       "      <td>0</td>\n",
       "      <td>90410.586745</td>\n",
       "      <td>строительство недвижимости</td>\n",
       "    </tr>\n",
       "    <tr>\n",
       "      <th>18</th>\n",
       "      <td>0</td>\n",
       "      <td>400281.136913</td>\n",
       "      <td>53</td>\n",
       "      <td>среднее</td>\n",
       "      <td>1</td>\n",
       "      <td>вдовец / вдова</td>\n",
       "      <td>2</td>\n",
       "      <td>F</td>\n",
       "      <td>пенсионер</td>\n",
       "      <td>0</td>\n",
       "      <td>56823.777243</td>\n",
       "      <td>на покупку подержанного автомобиля</td>\n",
       "    </tr>\n",
       "    <tr>\n",
       "      <th>19</th>\n",
       "      <td>0</td>\n",
       "      <td>-10038.818549</td>\n",
       "      <td>48</td>\n",
       "      <td>СРЕДНЕЕ</td>\n",
       "      <td>1</td>\n",
       "      <td>в разводе</td>\n",
       "      <td>3</td>\n",
       "      <td>F</td>\n",
       "      <td>сотрудник</td>\n",
       "      <td>0</td>\n",
       "      <td>242831.107982</td>\n",
       "      <td>на покупку своего автомобиля</td>\n",
       "    </tr>\n",
       "  </tbody>\n",
       "</table>\n",
       "</div>"
      ],
      "text/plain": [
       "    children  days_employed  dob_years            education  education_id  \\\n",
       "0          1   -8437.673028         42               высшее             0   \n",
       "1          1   -4024.803754         36              среднее             1   \n",
       "2          0   -5623.422610         33              Среднее             1   \n",
       "3          3   -4124.747207         32              среднее             1   \n",
       "4          0  340266.072047         53              среднее             1   \n",
       "5          0    -926.185831         27               высшее             0   \n",
       "6          0   -2879.202052         43               высшее             0   \n",
       "7          0    -152.779569         50              СРЕДНЕЕ             1   \n",
       "8          2   -6929.865299         35               ВЫСШЕЕ             0   \n",
       "9          0   -2188.756445         41              среднее             1   \n",
       "10         2   -4171.483647         36               высшее             0   \n",
       "11         0    -792.701887         40              среднее             1   \n",
       "12         0            NaN         65              среднее             1   \n",
       "13         0   -1846.641941         54  неоконченное высшее             2   \n",
       "14         0   -1844.956182         56               высшее             0   \n",
       "15         1    -972.364419         26              среднее             1   \n",
       "16         0   -1719.934226         35              среднее             1   \n",
       "17         0   -2369.999720         33               высшее             0   \n",
       "18         0  400281.136913         53              среднее             1   \n",
       "19         0  -10038.818549         48              СРЕДНЕЕ             1   \n",
       "\n",
       "       family_status  family_status_id gender income_type  debt  \\\n",
       "0    женат / замужем                 0      F   сотрудник     0   \n",
       "1    женат / замужем                 0      F   сотрудник     0   \n",
       "2    женат / замужем                 0      M   сотрудник     0   \n",
       "3    женат / замужем                 0      M   сотрудник     0   \n",
       "4   гражданский брак                 1      F   пенсионер     0   \n",
       "5   гражданский брак                 1      M   компаньон     0   \n",
       "6    женат / замужем                 0      F   компаньон     0   \n",
       "7    женат / замужем                 0      M   сотрудник     0   \n",
       "8   гражданский брак                 1      F   сотрудник     0   \n",
       "9    женат / замужем                 0      M   сотрудник     0   \n",
       "10   женат / замужем                 0      M   компаньон     0   \n",
       "11   женат / замужем                 0      F   сотрудник     0   \n",
       "12  гражданский брак                 1      M   пенсионер     0   \n",
       "13   женат / замужем                 0      F   сотрудник     0   \n",
       "14  гражданский брак                 1      F   компаньон     1   \n",
       "15   женат / замужем                 0      F   сотрудник     0   \n",
       "16   женат / замужем                 0      F   сотрудник     0   \n",
       "17  гражданский брак                 1      M   сотрудник     0   \n",
       "18    вдовец / вдова                 2      F   пенсионер     0   \n",
       "19         в разводе                 3      F   сотрудник     0   \n",
       "\n",
       "     total_income                                 purpose  \n",
       "0   253875.639453                           покупка жилья  \n",
       "1   112080.014102                 приобретение автомобиля  \n",
       "2   145885.952297                           покупка жилья  \n",
       "3   267628.550329              дополнительное образование  \n",
       "4   158616.077870                         сыграть свадьбу  \n",
       "5   255763.565419                           покупка жилья  \n",
       "6   240525.971920                       операции с жильем  \n",
       "7   135823.934197                             образование  \n",
       "8    95856.832424                   на проведение свадьбы  \n",
       "9   144425.938277                 покупка жилья для семьи  \n",
       "10  113943.491460                    покупка недвижимости  \n",
       "11   77069.234271       покупка коммерческой недвижимости  \n",
       "12            NaN                         сыграть свадьбу  \n",
       "13  130458.228857                 приобретение автомобиля  \n",
       "14  165127.911772              покупка жилой недвижимости  \n",
       "15  116820.904450  строительство собственной недвижимости  \n",
       "16  289202.704229                            недвижимость  \n",
       "17   90410.586745              строительство недвижимости  \n",
       "18   56823.777243      на покупку подержанного автомобиля  \n",
       "19  242831.107982            на покупку своего автомобиля  "
      ]
     },
     "execution_count": 2,
     "metadata": {},
     "output_type": "execute_result"
    }
   ],
   "source": [
    "data.head(20)"
   ]
  },
  {
   "cell_type": "markdown",
   "id": "a679b7ab",
   "metadata": {
    "deletable": false,
    "editable": false,
    "id": "1c12e233"
   },
   "source": [
    "**Задание 3. Выведите основную информацию о датафрейме с помощью метода `info()`.**"
   ]
  },
  {
   "cell_type": "code",
   "execution_count": 3,
   "id": "3700321d",
   "metadata": {
    "deletable": false,
    "id": "2b757bca",
    "outputId": "15376089-8dad-46c9-b520-c05248d43158"
   },
   "outputs": [
    {
     "name": "stdout",
     "output_type": "stream",
     "text": [
      "<class 'pandas.core.frame.DataFrame'>\n",
      "RangeIndex: 21525 entries, 0 to 21524\n",
      "Data columns (total 12 columns):\n",
      " #   Column            Non-Null Count  Dtype  \n",
      "---  ------            --------------  -----  \n",
      " 0   children          21525 non-null  int64  \n",
      " 1   days_employed     19351 non-null  float64\n",
      " 2   dob_years         21525 non-null  int64  \n",
      " 3   education         21525 non-null  object \n",
      " 4   education_id      21525 non-null  int64  \n",
      " 5   family_status     21525 non-null  object \n",
      " 6   family_status_id  21525 non-null  int64  \n",
      " 7   gender            21525 non-null  object \n",
      " 8   income_type       21525 non-null  object \n",
      " 9   debt              21525 non-null  int64  \n",
      " 10  total_income      19351 non-null  float64\n",
      " 11  purpose           21525 non-null  object \n",
      "dtypes: float64(2), int64(5), object(5)\n",
      "memory usage: 2.0+ MB\n"
     ]
    }
   ],
   "source": [
    "data.info()"
   ]
  },
  {
   "cell_type": "markdown",
   "id": "13a5b04f",
   "metadata": {
    "deletable": false,
    "editable": false,
    "id": "333ec665"
   },
   "source": [
    "## Предобработка данных"
   ]
  },
  {
   "cell_type": "markdown",
   "id": "ea5852cc",
   "metadata": {
    "deletable": false,
    "editable": false,
    "id": "02d92d53"
   },
   "source": [
    "### Удаление пропусков"
   ]
  },
  {
   "cell_type": "markdown",
   "id": "e83ddd3c",
   "metadata": {
    "deletable": false,
    "editable": false,
    "id": "cd84967c"
   },
   "source": [
    "**Задание 4. Выведите количество пропущенных значений для каждого столбца. Используйте комбинацию двух методов.**"
   ]
  },
  {
   "cell_type": "code",
   "execution_count": 4,
   "id": "8e500996",
   "metadata": {
    "deletable": false,
    "id": "7f9b2309",
    "outputId": "81f4d817-781c-465c-ed15-91ce4446810d"
   },
   "outputs": [
    {
     "data": {
      "text/plain": [
       "children               0\n",
       "days_employed       2174\n",
       "dob_years              0\n",
       "education              0\n",
       "education_id           0\n",
       "family_status          0\n",
       "family_status_id       0\n",
       "gender                 0\n",
       "income_type            0\n",
       "debt                   0\n",
       "total_income        2174\n",
       "purpose                0\n",
       "dtype: int64"
      ]
     },
     "execution_count": 4,
     "metadata": {},
     "output_type": "execute_result"
    }
   ],
   "source": [
    "data.isna().sum()"
   ]
  },
  {
   "cell_type": "markdown",
   "id": "b767e368",
   "metadata": {
    "deletable": false,
    "editable": false,
    "id": "db86e27b"
   },
   "source": [
    "**Задание 5. В двух столбцах есть пропущенные значения. Один из них — `days_employed`. Пропуски в этом столбце вы обработаете на следующем этапе. Другой столбец с пропущенными значениями — `total_income` — хранит данные о доходах. На сумму дохода сильнее всего влияет тип занятости, поэтому заполнить пропуски в этом столбце нужно медианным значением по каждому типу из столбца `income_type`. Например, у человека с типом занятости `сотрудник` пропуск в столбце `total_income` должен быть заполнен медианным доходом среди всех записей с тем же типом.**"
   ]
  },
  {
   "cell_type": "code",
   "execution_count": 5,
   "id": "2dda5675",
   "metadata": {
    "deletable": false,
    "id": "42006a93"
   },
   "outputs": [],
   "source": [
    "for t in data['income_type'].unique():\n",
    "    data.loc[(data['income_type'] == t) & (data['total_income'].isna()), 'total_income'] = \\\n",
    "    data.loc[(data['income_type'] == t), 'total_income'].median()"
   ]
  },
  {
   "cell_type": "markdown",
   "id": "71de57b1",
   "metadata": {
    "deletable": false,
    "editable": false,
    "id": "89da5ece"
   },
   "source": [
    "### Обработка аномальных значений"
   ]
  },
  {
   "cell_type": "markdown",
   "id": "964a4fe4",
   "metadata": {
    "deletable": false,
    "editable": false,
    "id": "57964554"
   },
   "source": [
    "**Задание 6. В данных могут встречаться артефакты (аномалии) — значения, которые не отражают действительность и появились по какой-то ошибке. таким артефактом будет отрицательное количество дней трудового стажа в столбце `days_employed`. Для реальных данных это нормально. Обработайте значения в этом столбце: замените все отрицательные значения положительными с помощью метода `abs()`.**"
   ]
  },
  {
   "cell_type": "code",
   "execution_count": 6,
   "id": "e9404eed",
   "metadata": {
    "deletable": false,
    "id": "f6f055bf"
   },
   "outputs": [],
   "source": [
    "data['days_employed'] = data['days_employed'].abs()"
   ]
  },
  {
   "cell_type": "markdown",
   "id": "126e848e",
   "metadata": {
    "deletable": false,
    "editable": false,
    "id": "6107dd2f"
   },
   "source": [
    "**Задание 7. Для каждого типа занятости выведите медианное значение трудового стажа `days_employed` в днях.**"
   ]
  },
  {
   "cell_type": "code",
   "execution_count": 7,
   "id": "7b460fc6",
   "metadata": {
    "deletable": false,
    "id": "85a5faf6",
    "outputId": "801ef80e-522b-4668-f34e-565af7432bcf"
   },
   "outputs": [
    {
     "data": {
      "text/plain": [
       "income_type\n",
       "безработный        366413.652744\n",
       "в декрете            3296.759962\n",
       "госслужащий          2689.368353\n",
       "компаньон            1547.382223\n",
       "пенсионер          365213.306266\n",
       "предприниматель       520.848083\n",
       "сотрудник            1574.202821\n",
       "студент               578.751554\n",
       "Name: days_employed, dtype: float64"
      ]
     },
     "execution_count": 7,
     "metadata": {},
     "output_type": "execute_result"
    }
   ],
   "source": [
    "data.groupby('income_type')['days_employed'].agg('median')"
   ]
  },
  {
   "cell_type": "markdown",
   "id": "64df4c49",
   "metadata": {
    "deletable": false,
    "editable": false,
    "id": "38d1a030"
   },
   "source": [
    "У двух типов (безработные и пенсионеры) получатся аномально большие значения. Исправить такие значения сложно, поэтому оставьте их как есть. Тем более этот столбец не понадобится вам для исследования."
   ]
  },
  {
   "cell_type": "markdown",
   "id": "2d9004c3",
   "metadata": {
    "deletable": false,
    "editable": false,
    "id": "d8a9f147"
   },
   "source": [
    "**Задание 8. Выведите перечень уникальных значений столбца `children`.**"
   ]
  },
  {
   "cell_type": "code",
   "execution_count": 8,
   "id": "afc8a191",
   "metadata": {
    "deletable": false,
    "id": "ef5056eb",
    "outputId": "6975b15c-7f95-4697-d16d-a0c79b657b03"
   },
   "outputs": [
    {
     "data": {
      "text/plain": [
       "array([ 1,  0,  3,  2, -1,  4, 20,  5])"
      ]
     },
     "execution_count": 8,
     "metadata": {},
     "output_type": "execute_result"
    }
   ],
   "source": [
    "data['children'].unique()"
   ]
  },
  {
   "cell_type": "markdown",
   "id": "69dba271",
   "metadata": {
    "deletable": false,
    "editable": false,
    "id": "40b9ebf2"
   },
   "source": [
    "**Задание 9. В столбце `children` есть два аномальных значения. Удалите строки, в которых встречаются такие аномальные значения из датафрейма `data`.**"
   ]
  },
  {
   "cell_type": "code",
   "execution_count": 9,
   "id": "036927b8",
   "metadata": {
    "deletable": false,
    "id": "3ff9801d"
   },
   "outputs": [],
   "source": [
    "data = data[(data['children'] != -1) & (data['children'] != 20)]"
   ]
  },
  {
   "cell_type": "markdown",
   "id": "703d8039",
   "metadata": {
    "deletable": false,
    "editable": false,
    "id": "bbc4d0ce"
   },
   "source": [
    "**Задание 10. Ещё раз выведите перечень уникальных значений столбца `children`, чтобы убедиться, что артефакты удалены.**"
   ]
  },
  {
   "cell_type": "code",
   "execution_count": 10,
   "id": "11a07161",
   "metadata": {
    "deletable": false,
    "id": "ad4fa8b7",
    "outputId": "b2097101-d49d-44d9-901b-32a65c9463d1"
   },
   "outputs": [
    {
     "data": {
      "text/plain": [
       "array([1, 0, 3, 2, 4, 5])"
      ]
     },
     "execution_count": 10,
     "metadata": {},
     "output_type": "execute_result"
    }
   ],
   "source": [
    "data['children'].unique()"
   ]
  },
  {
   "cell_type": "markdown",
   "id": "d946af32",
   "metadata": {
    "deletable": false,
    "editable": false,
    "id": "75440b63"
   },
   "source": [
    "### Удаление пропусков (продолжение)"
   ]
  },
  {
   "cell_type": "markdown",
   "id": "3a375fad",
   "metadata": {
    "deletable": false,
    "editable": false,
    "id": "f4ea573f"
   },
   "source": [
    "**Задание 11. Заполните пропуски в столбце `days_employed` медианными значениями по каждого типа занятости `income_type`.**"
   ]
  },
  {
   "cell_type": "code",
   "execution_count": 11,
   "id": "50a07038",
   "metadata": {
    "deletable": false,
    "id": "af6b1a7e"
   },
   "outputs": [],
   "source": [
    "for t in data['income_type'].unique():\n",
    "    data.loc[(data['income_type'] == t) & (data['days_employed'].isna()), 'days_employed'] = \\\n",
    "    data.loc[(data['income_type'] == t), 'days_employed'].median()"
   ]
  },
  {
   "cell_type": "markdown",
   "id": "478c3e27",
   "metadata": {
    "deletable": false,
    "editable": false,
    "id": "2753f40d"
   },
   "source": [
    "**Задание 12. Убедитесь, что все пропуски заполнены. Проверьте себя и ещё раз выведите количество пропущенных значений для каждого столбца с помощью двух методов.**"
   ]
  },
  {
   "cell_type": "code",
   "execution_count": 12,
   "id": "7de08842",
   "metadata": {
    "deletable": false,
    "id": "55f78bc2",
    "outputId": "8da1e4e1-358e-4e87-98c9-f261bce0a7b2"
   },
   "outputs": [
    {
     "data": {
      "text/plain": [
       "children            0\n",
       "days_employed       0\n",
       "dob_years           0\n",
       "education           0\n",
       "education_id        0\n",
       "family_status       0\n",
       "family_status_id    0\n",
       "gender              0\n",
       "income_type         0\n",
       "debt                0\n",
       "total_income        0\n",
       "purpose             0\n",
       "dtype: int64"
      ]
     },
     "execution_count": 12,
     "metadata": {},
     "output_type": "execute_result"
    }
   ],
   "source": [
    "data.isna().sum()"
   ]
  },
  {
   "cell_type": "markdown",
   "id": "9302133d",
   "metadata": {
    "deletable": false,
    "editable": false,
    "id": "ddc81e43"
   },
   "source": [
    "### Изменение типов данных"
   ]
  },
  {
   "cell_type": "markdown",
   "id": "09926207",
   "metadata": {
    "deletable": false,
    "editable": false,
    "id": "42d19d24"
   },
   "source": [
    "**Задание 13. Замените вещественный тип данных в столбце `total_income` на целочисленный с помощью метода `astype()`.**"
   ]
  },
  {
   "cell_type": "code",
   "execution_count": 13,
   "id": "8cf52502",
   "metadata": {
    "deletable": false,
    "id": "920b65ad"
   },
   "outputs": [],
   "source": [
    "data['total_income'] = data['total_income'].astype(int)"
   ]
  },
  {
   "cell_type": "markdown",
   "id": "0bbae327",
   "metadata": {
    "deletable": false,
    "editable": false,
    "id": "80c420ba"
   },
   "source": [
    "### Обработка дубликатов"
   ]
  },
  {
   "cell_type": "markdown",
   "id": "9b8c0e9b",
   "metadata": {
    "deletable": false,
    "editable": false
   },
   "source": [
    "**Задание 14. Обработайте неявные дубликаты в столбце `education`. В этом столбце есть одни и те же значения, но записанные по-разному: с использованием заглавных и строчных букв. Приведите их к нижнему регистру. Проверьте остальные столбцы.**"
   ]
  },
  {
   "cell_type": "code",
   "execution_count": 14,
   "id": "6200f4c1",
   "metadata": {
    "deletable": false
   },
   "outputs": [],
   "source": [
    "data['education'] = data['education'].str.lower()"
   ]
  },
  {
   "cell_type": "markdown",
   "id": "331cfd9f",
   "metadata": {
    "deletable": false,
    "editable": false,
    "id": "dc587695"
   },
   "source": [
    "**Задание 15. Выведите на экран количество строк-дубликатов в данных. Если такие строки присутствуют, удалите их.**"
   ]
  },
  {
   "cell_type": "code",
   "execution_count": 15,
   "id": "2e72710c",
   "metadata": {
    "deletable": false,
    "id": "3ee445e4",
    "outputId": "9684deba-1934-42d1-99e1-cda61740f822"
   },
   "outputs": [
    {
     "data": {
      "text/plain": [
       "71"
      ]
     },
     "execution_count": 15,
     "metadata": {},
     "output_type": "execute_result"
    }
   ],
   "source": [
    "data.duplicated().sum()"
   ]
  },
  {
   "cell_type": "code",
   "execution_count": 16,
   "id": "62f7f031",
   "metadata": {
    "deletable": false,
    "id": "8575fe05"
   },
   "outputs": [],
   "source": [
    "data = data.drop_duplicates()"
   ]
  },
  {
   "cell_type": "markdown",
   "id": "979663f7",
   "metadata": {
    "deletable": false,
    "editable": false,
    "id": "9904cf55"
   },
   "source": [
    "### Категоризация данных"
   ]
  },
  {
   "cell_type": "markdown",
   "id": "dfda1d25",
   "metadata": {
    "deletable": false,
    "editable": false,
    "id": "72fcc8a2"
   },
   "source": [
    "**Задание 16. На основании диапазонов, указанных ниже, создайте в датафрейме `data` столбец `total_income_category` с категориями:**\n",
    "\n",
    "- 0–30000 — `'E'`;\n",
    "- 30001–50000 — `'D'`;\n",
    "- 50001–200000 — `'C'`;\n",
    "- 200001–1000000 — `'B'`;\n",
    "- 1000001 и выше — `'A'`.\n",
    "\n",
    "\n",
    "**Например, кредитополучателю с доходом 25000 нужно назначить категорию `'E'`, а клиенту, получающему 235000, — `'B'`. Используйте собственную функцию с именем `categorize_income()` и метод `apply()`.**"
   ]
  },
  {
   "cell_type": "code",
   "execution_count": 17,
   "id": "66d75158",
   "metadata": {
    "deletable": false,
    "id": "e1771346"
   },
   "outputs": [],
   "source": [
    "def categorize_income(income):\n",
    "    try:\n",
    "        if 0 <= income <= 30000:\n",
    "            return 'E'\n",
    "        elif 30001 <= income <= 50000:\n",
    "            return 'D'\n",
    "        elif 50001 <= income <= 200000:\n",
    "            return 'C'\n",
    "        elif 200001 <= income <= 1000000:\n",
    "            return 'B'\n",
    "        elif income >= 1000001:\n",
    "            return 'A'\n",
    "    except:\n",
    "        pass"
   ]
  },
  {
   "cell_type": "code",
   "execution_count": 18,
   "id": "d4e61893",
   "metadata": {
    "deletable": false,
    "id": "d5f3586d"
   },
   "outputs": [],
   "source": [
    "data['total_income_category'] = data['total_income'].apply(categorize_income)"
   ]
  },
  {
   "cell_type": "markdown",
   "id": "2c676082",
   "metadata": {
    "deletable": false,
    "editable": false,
    "id": "dde49b5c"
   },
   "source": [
    "**Задание 17. Выведите на экран перечень уникальных целей взятия кредита из столбца `purpose`.**"
   ]
  },
  {
   "cell_type": "code",
   "execution_count": 19,
   "id": "0f628fcc",
   "metadata": {
    "deletable": false,
    "id": "f67ce9b3",
    "outputId": "673c12d9-7d7e-4ae0-9812-c622c89dd244"
   },
   "outputs": [
    {
     "data": {
      "text/plain": [
       "array(['покупка жилья', 'приобретение автомобиля',\n",
       "       'дополнительное образование', 'сыграть свадьбу',\n",
       "       'операции с жильем', 'образование', 'на проведение свадьбы',\n",
       "       'покупка жилья для семьи', 'покупка недвижимости',\n",
       "       'покупка коммерческой недвижимости', 'покупка жилой недвижимости',\n",
       "       'строительство собственной недвижимости', 'недвижимость',\n",
       "       'строительство недвижимости', 'на покупку подержанного автомобиля',\n",
       "       'на покупку своего автомобиля',\n",
       "       'операции с коммерческой недвижимостью',\n",
       "       'строительство жилой недвижимости', 'жилье',\n",
       "       'операции со своей недвижимостью', 'автомобили',\n",
       "       'заняться образованием', 'сделка с подержанным автомобилем',\n",
       "       'получение образования', 'автомобиль', 'свадьба',\n",
       "       'получение дополнительного образования', 'покупка своего жилья',\n",
       "       'операции с недвижимостью', 'получение высшего образования',\n",
       "       'свой автомобиль', 'сделка с автомобилем',\n",
       "       'профильное образование', 'высшее образование',\n",
       "       'покупка жилья для сдачи', 'на покупку автомобиля', 'ремонт жилью',\n",
       "       'заняться высшим образованием'], dtype=object)"
      ]
     },
     "execution_count": 19,
     "metadata": {},
     "output_type": "execute_result"
    }
   ],
   "source": [
    "data['purpose'].unique()"
   ]
  },
  {
   "cell_type": "markdown",
   "id": "72907abc",
   "metadata": {
    "deletable": false,
    "editable": false,
    "id": "85d0aef0"
   },
   "source": [
    "**Задание 18. Создайте функцию, которая на основании данных из столбца `purpose` сформирует новый столбец `purpose_category`, в который войдут следующие категории:**\n",
    "\n",
    "- `'операции с автомобилем'`,\n",
    "- `'операции с недвижимостью'`,\n",
    "- `'проведение свадьбы'`,\n",
    "- `'получение образования'`.\n",
    "\n",
    "**Например, если в столбце `purpose` находится подстрока `'на покупку автомобиля'`, то в столбце `purpose_category` должна появиться строка `'операции с автомобилем'`.**\n",
    "\n",
    "**Используйте собственную функцию с именем `categorize_purpose()` и метод `apply()`. Изучите данные в столбце `purpose` и определите, какие подстроки помогут вам правильно определить категорию.**"
   ]
  },
  {
   "cell_type": "code",
   "execution_count": 20,
   "id": "7152d27d",
   "metadata": {
    "deletable": false,
    "id": "e149fab4"
   },
   "outputs": [],
   "source": [
    "def categorize_purpose(row):\n",
    "    try:\n",
    "        if 'автом' in row:\n",
    "            return 'операции с автомобилем'\n",
    "        elif 'жил' in row or 'недвиж' in row:\n",
    "            return 'операции с недвижимостью'\n",
    "        elif 'свад' in row:\n",
    "            return 'проведение свадьбы'\n",
    "        elif 'образов' in row:\n",
    "            return 'получение образования'\n",
    "    except:\n",
    "        return 'нет категории'"
   ]
  },
  {
   "cell_type": "code",
   "execution_count": 21,
   "id": "acdbcf49",
   "metadata": {
    "deletable": false,
    "id": "bf36e69b"
   },
   "outputs": [],
   "source": [
    "data['purpose_category'] = data['purpose'].apply(categorize_purpose)"
   ]
  },
  {
   "cell_type": "markdown",
   "id": "d23ba0e0",
   "metadata": {},
   "source": [
    "<div class=\"alert alert-success\">\n",
    "<h2> Комментарий ревьюера <a class=\"tocSkip\"> </h2>\n",
    "\n",
    "<b>Все супер!👍:</b> ВЖУХ и мы здесь!"
   ]
  },
  {
   "cell_type": "markdown",
   "id": "d2374124",
   "metadata": {
    "deletable": false,
    "editable": false,
    "id": "09b242bf"
   },
   "source": [
    "### Шаг 3. Исследуйте данные и ответьте на вопросы"
   ]
  },
  {
   "cell_type": "markdown",
   "id": "17252a1c",
   "metadata": {
    "deletable": false,
    "editable": false,
    "id": "c5d66278"
   },
   "source": [
    "#### 3.1 Есть ли зависимость между количеством детей и возвратом кредита в срок?"
   ]
  },
  {
   "cell_type": "markdown",
   "id": "0e65ff4f",
   "metadata": {
    "deletable": false,
    "id": "2cacfc4a"
   },
   "source": [
    "Ответ на данный вопрос можно попробовать проиллюстрировать на гистограмме, где по оси X - *количество детей*, а по оси Y - *среднее значение долга* соответствующих клиентов."
   ]
  },
  {
   "cell_type": "code",
   "execution_count": 22,
   "id": "5e3a0f85",
   "metadata": {},
   "outputs": [
    {
     "data": {
      "text/plain": [
       "children\n",
       "0    0.075438\n",
       "1    0.092346\n",
       "2    0.094542\n",
       "3    0.081818\n",
       "4    0.097561\n",
       "5    0.000000\n",
       "Name: debt, dtype: float64"
      ]
     },
     "execution_count": 22,
     "metadata": {},
     "output_type": "execute_result"
    }
   ],
   "source": [
    "# вычисление среднего значения долга для каждой группы\n",
    "debt_table = data.groupby('children')['debt'].mean()\n",
    "debt_table"
   ]
  },
  {
   "cell_type": "code",
   "execution_count": 23,
   "id": "02939999",
   "metadata": {},
   "outputs": [
    {
     "data": {
      "text/plain": [
       "array([1, 0, 3, 2, 4, 5])"
      ]
     },
     "execution_count": 23,
     "metadata": {},
     "output_type": "execute_result"
    }
   ],
   "source": [
    "data['children'].unique()"
   ]
  },
  {
   "cell_type": "code",
   "execution_count": 24,
   "id": "3c4bd404",
   "metadata": {},
   "outputs": [
    {
     "data": {
      "text/plain": [
       "<AxesSubplot:ylabel='debt'>"
      ]
     },
     "execution_count": 24,
     "metadata": {},
     "output_type": "execute_result"
    },
    {
     "data": {
      "image/png": "[encoded data removed]",
      "text/plain": [
       "<Figure size 432x288 with 1 Axes>"
      ]
     },
     "metadata": {
      "needs_background": "light"
     },
     "output_type": "display_data"
    }
   ],
   "source": [
    "import seaborn as sns\n",
    "\n",
    "sns.barplot(x=[0, 1, 2, 3, 4, 5], y=debt_table)"
   ]
  },
  {
   "cell_type": "code",
   "execution_count": 25,
   "id": "d109cc47",
   "metadata": {},
   "outputs": [
    {
     "data": {
      "text/plain": [
       "children\n",
       "0    14091\n",
       "1     4808\n",
       "2     2052\n",
       "3      330\n",
       "4       41\n",
       "5        9\n",
       "Name: children, dtype: int64"
      ]
     },
     "execution_count": 25,
     "metadata": {},
     "output_type": "execute_result"
    }
   ],
   "source": [
    "# количество клиентов с соответствующим кол-вом детей\n",
    "data.groupby('children')['children'].count()"
   ]
  },
  {
   "cell_type": "markdown",
   "id": "6014671c",
   "metadata": {},
   "source": [
    "Следует заметить, что количество клиентов в группах, сформированных по кол-ву имеющихся детей, сильно различается. Клиентов без детей - абсолютное большинство. Клиентов с несколькими детьми больше, чем с одним. Такое неравенство групп может повлиять на правильность выводов. \n"
   ]
  },
  {
   "cell_type": "markdown",
   "id": "df8a08d3",
   "metadata": {
    "deletable": false,
    "id": "3a6b99ec"
   },
   "source": [
    "**Вывод:** \n",
    "\n",
    "Судя по полученной гистограмме, *клиенты с пятью детьми* вообще не имеют долгов. Однако по сравнению с другими группами, клиентов в этой гораздо меньше. Поэтому сделать вывод о том, что если у клиента 5 детей, он обязательно вернет кредит, нельзя.\n",
    "\n",
    "*Заемщики без детей* - самая многочисленная группа, при этом характеризующаяся самым низким значением среднего долга. Они представляются наиболее надежными клиентами.\n",
    "\n",
    "*Остальные группы клиентов* с меньшей вероятностью возвращают кредиты в срок. Можно предположить, что существует зависимость: **чем больше детей, тем больше вероятность, что кредит не вернут в срок**, однако, значение среднего долга у клиентов с тремя детьми выбивается из нее. Возможно, это связано с потерей некоторых данных на этапе предобработки. Тем не менее, наименее надежными клиентами кажутся *люди с четырьмя детьми*."
   ]
  },
  {
   "cell_type": "markdown",
   "id": "5b576865",
   "metadata": {},
   "source": [
    "<div class=\"alert alert-warning\">\n",
    "    <h2> Комментарий ревьюера <a class=\"tocSkip\"> </h2>\n",
    "    \n",
    "<b>Небольшие замечания и рекомендации💡:</b> Все верно, но хчоется все же почетче расставить акценты. Заемщиков с 3, 4 и 5 детьми мало, выводы по этим категориям не репрезентатвины, для рассмотрения остаются только заемщкик без детей и с 1 и 2 детьми. По ним можно сказать, что скорее наличие детей влияет на веротяность возвращения кредита в срок, уменьшая ее"
   ]
  },
  {
   "cell_type": "markdown",
   "id": "be14e603",
   "metadata": {},
   "source": [
    "<div class=\"alert alert-info\">\n",
    "<b>Ответ:</b>\n",
    "    Например, можно сделать так? Объединить категории по-другому: \"без детей\", \"с одним ребенком\", \"с двумя детьми и больше\" и по такой диаграмме уже делать выводы. Код и новый вывод ниже.\n",
    "</div>"
   ]
  },
  {
   "cell_type": "markdown",
   "id": "3890a117",
   "metadata": {},
   "source": [
    "<div class=\"alert alert-warning\">\n",
    "    <h2> Комментарий ревьюера v2 <a class=\"tocSkip\"> </h2>\n",
    "    \n",
    "<b>Небольшие замечания и рекомендации💡:</b> Можно, но я бы объединя лпо-другому: без детей, с одним ребенком, с 2 детьми, многодетные. Все же категория с 2 детьми сама по себе достаточная по численности, а остальные 3 категории  мы пытаемся объединить для того, чтоб была нормальная численность"
   ]
  },
  {
   "cell_type": "markdown",
   "id": "cfcc8320",
   "metadata": {},
   "source": [
    "Поскольку заемщиков с двумя и более детьми мало по сравнению с двумя другими категориями клиентов, следует объединить их в одну группу."
   ]
  },
  {
   "cell_type": "code",
   "execution_count": 26,
   "id": "02b79f40",
   "metadata": {},
   "outputs": [],
   "source": [
    "# ф-ция для определения новых категорий согласно кол-ву детей\n",
    "def define_children_category(children):\n",
    "    if children == 0:\n",
    "        return 0\n",
    "    if children == 1:\n",
    "        return 1\n",
    "    return '>2'"
   ]
  },
  {
   "cell_type": "code",
   "execution_count": 27,
   "id": "f21c7298",
   "metadata": {},
   "outputs": [],
   "source": [
    "data['children_category'] = data['children'].apply(define_children_category)"
   ]
  },
  {
   "cell_type": "code",
   "execution_count": 28,
   "id": "7dad9a00",
   "metadata": {},
   "outputs": [
    {
     "data": {
      "text/plain": [
       "children_category\n",
       "0     0.075438\n",
       "1     0.092346\n",
       ">2    0.092516\n",
       "Name: debt, dtype: float64"
      ]
     },
     "execution_count": 28,
     "metadata": {},
     "output_type": "execute_result"
    }
   ],
   "source": [
    "# вычисление среднего долга по новым категориям\n",
    "debt_children_table = data.groupby('children_category')['debt'].mean()\n",
    "debt_children_table"
   ]
  },
  {
   "cell_type": "code",
   "execution_count": 29,
   "id": "0599a44f",
   "metadata": {},
   "outputs": [
    {
     "data": {
      "text/plain": [
       "<AxesSubplot:ylabel='debt'>"
      ]
     },
     "execution_count": 29,
     "metadata": {},
     "output_type": "execute_result"
    },
    {
     "data": {
      "image/png": "[encoded data removed]",
      "text/plain": [
       "<Figure size 432x288 with 1 Axes>"
      ]
     },
     "metadata": {
      "needs_background": "light"
     },
     "output_type": "display_data"
    }
   ],
   "source": [
    "sns.barplot(x=[0, 1, '>2'], y=debt_children_table)"
   ]
  },
  {
   "cell_type": "code",
   "execution_count": 30,
   "id": "aca3bdd4",
   "metadata": {},
   "outputs": [
    {
     "data": {
      "text/plain": [
       "children_category\n",
       "0     14091\n",
       "1      4808\n",
       ">2     2432\n",
       "Name: children_category, dtype: int64"
      ]
     },
     "execution_count": 30,
     "metadata": {},
     "output_type": "execute_result"
    }
   ],
   "source": [
    "# количество клиентов с соответствующим кол-вом детей\n",
    "data.groupby('children_category')['children_category'].count()"
   ]
  },
  {
   "cell_type": "markdown",
   "id": "b8ae1840",
   "metadata": {},
   "source": [
    "**Вывод:**\n",
    "\n",
    "Судя по полученной диаграмме, величина среднего долга для клиентов *с одним* и *двумя или более детьми* сопоставима и, при этом, значительно выше, чем для заемщиков без детей. Поэтому можно сделать вывод, что **наличие детей, в целом, уменьшает вероятность возврата кредита в срок**.  "
   ]
  },
  {
   "cell_type": "markdown",
   "id": "f5261768",
   "metadata": {},
   "source": [
    "<div class=\"alert alert-success\">\n",
    "<h2> Комментарий ревьюера v2 <a class=\"tocSkip\"> </h2>\n",
    "\n",
    "<b>Все супер!👍:</b> Вывод абсолютно верный"
   ]
  },
  {
   "cell_type": "markdown",
   "id": "313bcecf",
   "metadata": {
    "deletable": false,
    "editable": false,
    "id": "97be82ca"
   },
   "source": [
    "#### 3.2 Есть ли зависимость между семейным положением и возвратом кредита в срок?"
   ]
  },
  {
   "cell_type": "code",
   "execution_count": 55,
   "id": "77e56f25",
   "metadata": {},
   "outputs": [
    {
     "data": {
      "text/plain": [
       "array(['женат / замужем', 'гражданский брак', 'вдовец / вдова',\n",
       "       'в разводе', 'Не женат / не замужем'], dtype=object)"
      ]
     },
     "execution_count": 55,
     "metadata": {},
     "output_type": "execute_result"
    }
   ],
   "source": [
    "data['family_status'].unique()"
   ]
  },
  {
   "cell_type": "code",
   "execution_count": 56,
   "id": "9eadcd5c",
   "metadata": {},
   "outputs": [
    {
     "data": {
      "text/plain": [
       "family_status_id\n",
       "0    0.075606\n",
       "1    0.093130\n",
       "2    0.066246\n",
       "3    0.070648\n",
       "4    0.097639\n",
       "Name: debt, dtype: float64"
      ]
     },
     "execution_count": 56,
     "metadata": {},
     "output_type": "execute_result"
    }
   ],
   "source": [
    "# среднее значение долга в соответствии с семейным положением\n",
    "debt_family_table = data.groupby('family_status_id')['debt'].mean()\n",
    "debt_family_table"
   ]
  },
  {
   "cell_type": "code",
   "execution_count": 58,
   "id": "2947f46c",
   "metadata": {},
   "outputs": [
    {
     "data": {
      "text/plain": [
       "<AxesSubplot:ylabel='debt'>"
      ]
     },
     "execution_count": 58,
     "metadata": {},
     "output_type": "execute_result"
    },
    {
     "data": {
      "image/png": "[encoded data removed]",
      "text/plain": [
       "<Figure size 432x288 with 1 Axes>"
      ]
     },
     "metadata": {
      "needs_background": "light"
     },
     "output_type": "display_data"
    }
   ],
   "source": [
    "sns.barplot(x=[0,1,2,3,4], y=debt_family_table)"
   ]
  },
  {
   "cell_type": "code",
   "execution_count": 54,
   "id": "b3760613",
   "metadata": {
    "deletable": false,
    "id": "dc3f7ee8"
   },
   "outputs": [
    {
     "data": {
      "text/plain": [
       "family_status\n",
       "Не женат / не замужем    4\n",
       "в разводе                3\n",
       "вдовец / вдова           2\n",
       "гражданский брак         1\n",
       "женат / замужем          0\n",
       "Name: family_status_id, dtype: int64"
      ]
     },
     "execution_count": 54,
     "metadata": {},
     "output_type": "execute_result"
    }
   ],
   "source": [
    "# словарь соответствия семейного положения и id семейного положения\n",
    "family_status_dict = data.groupby('family_status')['family_status_id'].mean()\n",
    "family_status_dict"
   ]
  },
  {
   "cell_type": "code",
   "execution_count": 46,
   "id": "3d73aaad",
   "metadata": {},
   "outputs": [
    {
     "data": {
      "text/plain": [
       "family_status\n",
       "Не женат / не замужем     2796\n",
       "в разводе                 1189\n",
       "вдовец / вдова             951\n",
       "гражданский брак          4134\n",
       "женат / замужем          12261\n",
       "Name: family_status, dtype: int64"
      ]
     },
     "execution_count": 46,
     "metadata": {},
     "output_type": "execute_result"
    }
   ],
   "source": [
    "data.groupby('family_status')['family_status'].count()"
   ]
  },
  {
   "cell_type": "markdown",
   "id": "70c6013e",
   "metadata": {
    "deletable": false,
    "id": "1cef7837"
   },
   "source": [
    "**Вывод:** \n",
    "\n",
    "Самыми маленькими значениями среднего долга характеризуются клиенты, находящиеся *в разводе* или же являющиеся *вдовцом или вдовой*, т.е. ранее имевшие семью. Сопоставимые значения среднего долга также демонстрирует категория заемщиков, состоящих *в официальном браке*. Большинство клиентов относятся именно к этой категории. \n",
    "\n",
    "Люди, попадающие в категории \"*не женат/не замужем*\" и \"*гражданский брак*\", напротив, показывают наиболее высокие значения. Они реже возвращают кредиты вовремя, а следовательно, менее надежны.\n",
    "\n",
    "Можно предположить, что зависимость есть, и **клиенты, состоящие или состоявшие в браке, более надежны**. "
   ]
  },
  {
   "cell_type": "markdown",
   "id": "fe6df491",
   "metadata": {},
   "source": [
    "<div class=\"alert alert-success\">\n",
    "<h2> Комментарий ревьюера <a class=\"tocSkip\"> </h2>\n",
    "\n",
    "<b>Все супер!👍:</b> Абсолютно верно!"
   ]
  },
  {
   "cell_type": "markdown",
   "id": "c5f679ef",
   "metadata": {
    "deletable": false,
    "editable": false,
    "id": "1e8b2fca"
   },
   "source": [
    "#### 3.3 Есть ли зависимость между уровнем дохода и возвратом кредита в срок?"
   ]
  },
  {
   "cell_type": "markdown",
   "id": "8f879676",
   "metadata": {
    "deletable": false,
    "id": "cd7e3720"
   },
   "source": [
    "Уровни дохода:\n",
    "- 0–30000 — 'E';\n",
    "- 30001–50000 — 'D';\n",
    "- 50001–200000 — 'C';\n",
    "- 200001–1000000 — 'B';\n",
    "- 1000001 и выше — 'A'."
   ]
  },
  {
   "cell_type": "code",
   "execution_count": 32,
   "id": "ee51f57c",
   "metadata": {},
   "outputs": [
    {
     "data": {
      "text/plain": [
       "total_income_category\n",
       "A    0.080000\n",
       "B    0.070602\n",
       "C    0.084982\n",
       "D    0.060172\n",
       "E    0.090909\n",
       "Name: debt, dtype: float64"
      ]
     },
     "execution_count": 32,
     "metadata": {},
     "output_type": "execute_result"
    }
   ],
   "source": [
    "# средний долг по категориям дохода\n",
    "debt_income_table = data.groupby('total_income_category')['debt'].mean()\n",
    "debt_income_table"
   ]
  },
  {
   "cell_type": "code",
   "execution_count": 33,
   "id": "8d7c94ce",
   "metadata": {},
   "outputs": [
    {
     "data": {
      "text/plain": [
       "<AxesSubplot:ylabel='debt'>"
      ]
     },
     "execution_count": 33,
     "metadata": {},
     "output_type": "execute_result"
    },
    {
     "data": {
      "image/png": "[encoded data removed]",
      "text/plain": [
       "<Figure size 432x288 with 1 Axes>"
      ]
     },
     "metadata": {
      "needs_background": "light"
     },
     "output_type": "display_data"
    }
   ],
   "source": [
    "sns.barplot(x=['A','B','C','D','E'], y=debt_income_table)"
   ]
  },
  {
   "cell_type": "code",
   "execution_count": 34,
   "id": "2ac303f6",
   "metadata": {},
   "outputs": [
    {
     "data": {
      "text/plain": [
       "<AxesSubplot:ylabel='debt'>"
      ]
     },
     "execution_count": 34,
     "metadata": {},
     "output_type": "execute_result"
    },
    {
     "data": {
      "image/png": "[encoded data removed]",
      "text/plain": [
       "<Figure size 432x288 with 1 Axes>"
      ]
     },
     "metadata": {
      "needs_background": "light"
     },
     "output_type": "display_data"
    }
   ],
   "source": [
    "# распределение клиентов по уровню дохода\n",
    "income_category_count = data.groupby('total_income_category')['debt'].count()\n",
    "sns.barplot(x=['A','B','C','D','E'], y=income_category_count)"
   ]
  },
  {
   "cell_type": "code",
   "execution_count": 35,
   "id": "ad5f7d0b",
   "metadata": {},
   "outputs": [
    {
     "data": {
      "text/plain": [
       "total_income_category\n",
       "A       25\n",
       "B     5014\n",
       "C    15921\n",
       "D      349\n",
       "E       22\n",
       "Name: debt, dtype: int64"
      ]
     },
     "execution_count": 35,
     "metadata": {},
     "output_type": "execute_result"
    }
   ],
   "source": [
    "income_category_count"
   ]
  },
  {
   "cell_type": "markdown",
   "id": "1374b2b6",
   "metadata": {
    "deletable": false,
    "id": "e8593def"
   },
   "source": [
    "**Вывод:** \n",
    "\n",
    "Абсолютное большинство клиентов относится к *категории С* - людям со средним уровнем дохода. Другие категории заемщиков слишком малочисленные, чтобы можно было делать по ним репрезентативные выводы. Даже если объединить между собой категории А и В (\"ниже среднего\") и С и D (\"выше среднего\"), не получится сформировать группы с сопоставимыми количествами заемщиков. Поэтому сделать однозначный вывод о том, есть ли зависимость вероятности возврата кредита в срок от дохода клиента, **не представляется возможным**.  "
   ]
  },
  {
   "cell_type": "markdown",
   "id": "0f48b1e9",
   "metadata": {},
   "source": [
    "<div class=\"alert alert-block alert-danger\">\n",
    "<h2> Комментарий ревьюера <a class=\"tocSkip\"></h2>\n",
    "\n",
    "<b>На доработку🤔:</b>  Вроде и обозначено, что есть малочилсенные категории, но как-то странновато. Можно ли по ним делать выводы? Будут ли они репрезентативны?"
   ]
  },
  {
   "cell_type": "markdown",
   "id": "58cb74b5",
   "metadata": {},
   "source": [
    "<div class=\"alert alert-info\">\n",
    "Переписала вывод\n",
    "</div>"
   ]
  },
  {
   "cell_type": "markdown",
   "id": "209434d8",
   "metadata": {},
   "source": [
    "<div class=\"alert alert-warning\">\n",
    "    <h2> Комментарий ревьюера v2 <a class=\"tocSkip\"> </h2>\n",
    "    \n",
    "<b>Небольшие замечания и рекомендации💡:</b> Зависимость здесь и правда нельзя установить, но не соглашусь с тем, что категория B малочисленная. Ее численность достаточна для того, чтобы делать вывод, он будет репрезентативен, поэтому здесь стоит рассматривать две категории: C и B"
   ]
  },
  {
   "cell_type": "markdown",
   "id": "8264a405",
   "metadata": {
    "deletable": false,
    "editable": false,
    "id": "99ecbd1f"
   },
   "source": [
    "#### 3.4 Как разные цели кредита влияют на его возврат в срок?"
   ]
  },
  {
   "cell_type": "code",
   "execution_count": 69,
   "id": "5ba25327",
   "metadata": {
    "deletable": false,
    "id": "2b687290"
   },
   "outputs": [
    {
     "data": {
      "text/plain": [
       "purpose_category\n",
       "операции с автомобилем      0.093480\n",
       "операции с недвижимостью    0.072551\n",
       "получение образования       0.092528\n",
       "проведение свадьбы          0.079118\n",
       "Name: debt, dtype: float64"
      ]
     },
     "execution_count": 69,
     "metadata": {},
     "output_type": "execute_result"
    }
   ],
   "source": [
    "debt_purpose_table = data.groupby('purpose_category')['debt'].mean()\n",
    "debt_purpose_table"
   ]
  },
  {
   "cell_type": "code",
   "execution_count": 72,
   "id": "3cada83c",
   "metadata": {},
   "outputs": [
    {
     "data": {
      "text/plain": [
       "['операции с автомобилем',\n",
       " 'операции с недвижимостью',\n",
       " 'получение образования',\n",
       " 'проведение свадьбы']"
      ]
     },
     "execution_count": 72,
     "metadata": {},
     "output_type": "execute_result"
    }
   ],
   "source": [
    "purposes = []\n",
    "for category in debt_purpose_table.index:\n",
    "    purposes.append(category)\n",
    "\n",
    "purposes"
   ]
  },
  {
   "cell_type": "code",
   "execution_count": 74,
   "id": "1c4aea68",
   "metadata": {},
   "outputs": [
    {
     "data": {
      "text/plain": [
       "<AxesSubplot:ylabel='debt'>"
      ]
     },
     "execution_count": 74,
     "metadata": {},
     "output_type": "execute_result"
    },
    {
     "data": {
      "image/png": "[encoded data removed]",
      "text/plain": [
       "<Figure size 432x288 with 1 Axes>"
      ]
     },
     "metadata": {
      "needs_background": "light"
     },
     "output_type": "display_data"
    }
   ],
   "source": [
    "sns.barplot(x=[0,1,2,3], y=debt_purpose_table)"
   ]
  },
  {
   "cell_type": "code",
   "execution_count": 75,
   "id": "0ade47ab",
   "metadata": {},
   "outputs": [
    {
     "data": {
      "text/plain": [
       "purpose_category\n",
       "операции с автомобилем       4279\n",
       "операции с недвижимостью    10751\n",
       "получение образования        3988\n",
       "проведение свадьбы           2313\n",
       "Name: debt, dtype: int64"
      ]
     },
     "execution_count": 75,
     "metadata": {},
     "output_type": "execute_result"
    }
   ],
   "source": [
    "data.groupby('purpose_category')['debt'].count()"
   ]
  },
  {
   "cell_type": "markdown",
   "id": "2b3bd034",
   "metadata": {
    "deletable": false,
    "id": "b4bb2ce6"
   },
   "source": [
    "**Вывод:** \n",
    "\n",
    "Как правило, лучше всего возвращаются кредиты, взятые на *операции с недвижимостью* (покупку жилья, аренду и тд.). Это самая популярная цель. На втором месте по вероятности возврата долга - кредит на *проведение свадьбы*. \n",
    "\n",
    "Кредиты, взятые на *операции с автомобилем* или *получение образования*, были оформлены примерно равным количеством людей, и с почти одинаковой вероятностью часть из них не была возвращена. "
   ]
  },
  {
   "cell_type": "markdown",
   "id": "9f0a7c02",
   "metadata": {},
   "source": [
    "<div class=\"alert alert-success\">\n",
    "<h2> Комментарий ревьюера <a class=\"tocSkip\"> </h2>\n",
    "\n",
    "<b>Все супер!👍:</b> Верно, молодец!)\n",
    "    "
   ]
  },
  {
   "cell_type": "markdown",
   "id": "b27c5b93",
   "metadata": {
    "deletable": false,
    "editable": false,
    "id": "09c3ac4c"
   },
   "source": [
    "#### 3.5 Приведите возможные причины появления пропусков в исходных данных."
   ]
  },
  {
   "cell_type": "markdown",
   "id": "5b6e011b",
   "metadata": {
    "deletable": false,
    "id": "9da2ceda"
   },
   "source": [
    "*Ответ:* \n",
    "\n",
    "Пропуски наблюдались в двух столбцах - \"days_employed\" и \"total_income\". В первом из них также наблюдались аномалии - отрицательные значения. Возможно, данные были неправильно или не до конца перенесены разработчиками.\n",
    "\n",
    "Пропуски, если и наблюдались, наблюдались в двух столбцах одновременно (это не полностью случайные пропуски). Возможно, для некоторых людей они не были получены по каким-то причинам (например, закрытая информация у госслужащих или недостаточность информации у пенсионеров). "
   ]
  },
  {
   "cell_type": "markdown",
   "id": "0e420813",
   "metadata": {},
   "source": [
    "<div class=\"alert alert-success\">\n",
    "<h2> Комментарий ревьюера <a class=\"tocSkip\"> </h2>\n",
    "\n",
    "<b>Все супер!👍:</b> Причины перечислены верно. Отмечу, что нельзя исключать техническую ошибку, например, выгрузки данных"
   ]
  },
  {
   "cell_type": "markdown",
   "id": "94ec718b",
   "metadata": {
    "deletable": false,
    "editable": false,
    "id": "7b0487d6"
   },
   "source": [
    "#### 3.6 Объясните, почему заполнить пропуски медианным значением — лучшее решение для количественных переменных."
   ]
  },
  {
   "cell_type": "markdown",
   "id": "b22fd348",
   "metadata": {
    "deletable": false,
    "id": "7ecf2b8e"
   },
   "source": [
    "*Ответ:* \n",
    "\n",
    "Потому что в количественных переменных могут встречаться значения, значительно отличающиеся от остальных и из-за этого искажающих получающееся среднее значение. Медиана же позволяет заполнить пропуск значением, лучше вписывающимся в данные."
   ]
  },
  {
   "cell_type": "markdown",
   "id": "dca64352",
   "metadata": {},
   "source": [
    "<div class=\"alert alert-success\">\n",
    "<h2> Комментарий ревьюера <a class=\"tocSkip\"> </h2>\n",
    "\n",
    "<b>Все супер!👍:</b> Да, правильно. Медиана нивелиурет выбросы, а вот среднее арифметическое нет."
   ]
  },
  {
   "cell_type": "markdown",
   "id": "16f40b1d",
   "metadata": {
    "deletable": false,
    "editable": false,
    "id": "6db5255a"
   },
   "source": [
    "### Шаг 4: общий вывод."
   ]
  },
  {
   "cell_type": "markdown",
   "id": "e79c9f65",
   "metadata": {
    "deletable": false,
    "id": "bad65432"
   },
   "source": [
    "Суммарно, до 10% заемщиков возвращают долг банку в срок. При этом, согласно полученным результатам:\n",
    "- *наиболее надежными клиентами* представляются люди без детей, состоящие или ранее состоявшие в браке.\n",
    "- *самой популярной указываемой целью* является взятие кредита на операции с недвижимостью. При этом, кредиты, взятые на эти нужды, лучше возвращаются в установленные сроки. \n",
    "- явной зависимости вероятности своевременного возврата долга от *дохода клиента* не было обнаружено в связи с недостатком данных о заемщиках с определенными уровнями дохода"
   ]
  },
  {
   "cell_type": "markdown",
   "id": "f9480d02",
   "metadata": {},
   "source": [
    "<div class=\"alert alert-block alert-danger\">\n",
    "<h2> Комментарий ревьюера <a class=\"tocSkip\"></h2>\n",
    "\n",
    "<b>На доработку🤔:</b>  Поправим красный коммент по доходу и вернемся сюда, хорошо?"
   ]
  },
  {
   "cell_type": "markdown",
   "id": "163e8a5b",
   "metadata": {},
   "source": [
    "<div class=\"alert alert-success\">\n",
    "<h2> Комментарий ревьюера v2 <a class=\"tocSkip\"> </h2>\n",
    "\n",
    "<b>Все супер!👍:</b> Вывод сформулирован верно, хотя еще есть небольшие замечания по разделам"
   ]
  },
  {
   "cell_type": "markdown",
   "id": "29d23205",
   "metadata": {},
   "source": [
    "<div style=\"border:solid Chocolate 2px; padding: 40px\">\n",
    "    \n",
    "**Общий вывод по проекту ревьювера**:\n",
    " Светлана, спасибо за  проект! Ты приложила много усилий, чтобы довести его до конца, проделана огромная работа, и это видно невооруженным глазом, ты большой молодец!\n",
    "    \n",
    "**Отмечу положительные моменты**:\n",
    "    \n",
    "    1. Все разложено по полочкам, всегда понятен ход твоих мыслей, приятно смотреть\n",
    "    \n",
    "    2. Отличные визуализации\n",
    "    \n",
    "    2. На разных шагах проекта ты предлагала очень интересные решения и методы для их реализации. Хорошая работа!\n",
    "    \n",
    "    \n",
    "**На что стоит обратить внимание**:\n",
    "    \n",
    "    1. На численность категорий и возможность делать вывод по ним\n",
    "    \n",
    "    \n",
    "**Удачи и жду твой проект на повторное ревью!**"
   ]
  },
  {
   "cell_type": "markdown",
   "id": "2fb8dbf3",
   "metadata": {},
   "source": [
    "<div style=\"border:solid Chocolate 2px; padding: 40px\">\n",
    "    \n",
    "**Общий вывод по проекту ревьювера v2**:\n",
    " Светлана, ошибки исправлены, проект зачтен, поздравляю тебя! Обрати внимание на новые желтые комментарии ;)"
   ]
  },
  {
   "cell_type": "code",
   "execution_count": null,
   "id": "aa19ca9c",
   "metadata": {},
   "outputs": [],
   "source": []
  }
 ],
 "metadata": {
  "ExecuteTimeLog": [
   {
    "duration": 462,
    "start_time": "2022-08-18T11:19:00.984Z"
   },
   {
    "duration": 20,
    "start_time": "2022-08-18T11:19:05.323Z"
   },
   {
    "duration": 14,
    "start_time": "2022-08-18T11:19:08.768Z"
   },
   {
    "duration": 14,
    "start_time": "2022-08-18T11:19:13.073Z"
   },
   {
    "duration": 32,
    "start_time": "2022-08-18T11:20:13.362Z"
   },
   {
    "duration": 4,
    "start_time": "2022-08-18T11:20:19.652Z"
   },
   {
    "duration": 8,
    "start_time": "2022-08-18T11:20:23.722Z"
   },
   {
    "duration": 5,
    "start_time": "2022-08-18T11:20:40.699Z"
   },
   {
    "duration": 7,
    "start_time": "2022-08-18T11:20:44.058Z"
   },
   {
    "duration": 5,
    "start_time": "2022-08-18T11:20:47.830Z"
   },
   {
    "duration": 49,
    "start_time": "2022-08-18T11:20:52.431Z"
   },
   {
    "duration": 11,
    "start_time": "2022-08-18T11:21:04.108Z"
   },
   {
    "duration": 5,
    "start_time": "2022-08-18T11:21:13.245Z"
   },
   {
    "duration": 11,
    "start_time": "2022-08-18T11:21:16.925Z"
   },
   {
    "duration": 23,
    "start_time": "2022-08-18T11:21:20.298Z"
   },
   {
    "duration": 20,
    "start_time": "2022-08-18T11:21:23.005Z"
   },
   {
    "duration": 6,
    "start_time": "2022-08-18T11:21:51.185Z"
   },
   {
    "duration": 9,
    "start_time": "2022-08-18T11:21:58.101Z"
   },
   {
    "duration": 7,
    "start_time": "2022-08-18T11:22:01.328Z"
   },
   {
    "duration": 5,
    "start_time": "2022-08-18T11:22:12.257Z"
   },
   {
    "duration": 7,
    "start_time": "2022-08-18T11:22:17.597Z"
   },
   {
    "duration": 703,
    "start_time": "2022-08-19T08:06:33.382Z"
   },
   {
    "duration": 20,
    "start_time": "2022-08-19T08:06:36.897Z"
   },
   {
    "duration": 13,
    "start_time": "2022-08-19T08:06:40.628Z"
   },
   {
    "duration": 9,
    "start_time": "2022-08-19T08:06:44.139Z"
   },
   {
    "duration": 30,
    "start_time": "2022-08-19T08:06:47.774Z"
   },
   {
    "duration": 4,
    "start_time": "2022-08-19T08:06:50.815Z"
   },
   {
    "duration": 8,
    "start_time": "2022-08-19T08:06:53.424Z"
   },
   {
    "duration": 4,
    "start_time": "2022-08-19T08:06:56.282Z"
   },
   {
    "duration": 6,
    "start_time": "2022-08-19T08:06:58.762Z"
   },
   {
    "duration": 5,
    "start_time": "2022-08-19T08:07:01.057Z"
   },
   {
    "duration": 32,
    "start_time": "2022-08-19T08:07:04.584Z"
   },
   {
    "duration": 18,
    "start_time": "2022-08-19T08:07:06.761Z"
   },
   {
    "duration": 4,
    "start_time": "2022-08-19T08:07:09.597Z"
   },
   {
    "duration": 19,
    "start_time": "2022-08-19T08:07:11.835Z"
   },
   {
    "duration": 28,
    "start_time": "2022-08-19T08:07:16.370Z"
   },
   {
    "duration": 25,
    "start_time": "2022-08-19T08:07:18.780Z"
   },
   {
    "duration": 5,
    "start_time": "2022-08-19T08:07:22.917Z"
   },
   {
    "duration": 16,
    "start_time": "2022-08-19T08:07:25.227Z"
   },
   {
    "duration": 8,
    "start_time": "2022-08-19T08:07:27.968Z"
   },
   {
    "duration": 5,
    "start_time": "2022-08-19T08:07:32.069Z"
   },
   {
    "duration": 14,
    "start_time": "2022-08-19T08:07:34.542Z"
   },
   {
    "duration": 5,
    "start_time": "2022-08-19T08:12:19.350Z"
   },
   {
    "duration": 6,
    "start_time": "2022-08-19T08:14:06.110Z"
   },
   {
    "duration": 4,
    "start_time": "2022-08-19T08:15:05.559Z"
   },
   {
    "duration": 6,
    "start_time": "2022-08-19T08:16:29.691Z"
   },
   {
    "duration": 947,
    "start_time": "2022-08-19T08:17:47.244Z"
   },
   {
    "duration": 5,
    "start_time": "2022-08-19T09:13:49.014Z"
   },
   {
    "duration": 6,
    "start_time": "2022-08-19T09:14:11.087Z"
   },
   {
    "duration": 237,
    "start_time": "2022-08-19T09:14:33.534Z"
   },
   {
    "duration": 136,
    "start_time": "2022-08-19T09:14:42.576Z"
   },
   {
    "duration": 125,
    "start_time": "2022-08-19T09:15:54.658Z"
   },
   {
    "duration": 999,
    "start_time": "2022-08-19T09:16:32.339Z"
   },
   {
    "duration": 124,
    "start_time": "2022-08-19T09:16:40.106Z"
   },
   {
    "duration": 6,
    "start_time": "2022-08-19T09:29:37.562Z"
   },
   {
    "duration": 105,
    "start_time": "2022-08-19T09:30:05.131Z"
   },
   {
    "duration": 6,
    "start_time": "2022-08-19T09:33:49.661Z"
   },
   {
    "duration": 4,
    "start_time": "2022-08-19T09:45:17.471Z"
   },
   {
    "duration": 3,
    "start_time": "2022-08-19T09:45:39.718Z"
   },
   {
    "duration": 4,
    "start_time": "2022-08-19T09:45:49.389Z"
   },
   {
    "duration": 102,
    "start_time": "2022-08-19T09:46:20.266Z"
   },
   {
    "duration": 5,
    "start_time": "2022-08-19T10:13:10.262Z"
   },
   {
    "duration": 1104,
    "start_time": "2022-08-19T10:21:57.798Z"
   },
   {
    "duration": 4,
    "start_time": "2022-08-19T10:22:28.096Z"
   },
   {
    "duration": 6,
    "start_time": "2022-08-19T10:23:48.380Z"
   },
   {
    "duration": 6,
    "start_time": "2022-08-19T10:24:52.157Z"
   },
   {
    "duration": 7,
    "start_time": "2022-08-19T10:25:45.249Z"
   },
   {
    "duration": 8,
    "start_time": "2022-08-19T10:26:28.638Z"
   },
   {
    "duration": 6,
    "start_time": "2022-08-19T10:27:13.377Z"
   },
   {
    "duration": 17,
    "start_time": "2022-08-19T10:32:07.847Z"
   },
   {
    "duration": 8,
    "start_time": "2022-08-19T10:32:28.952Z"
   },
   {
    "duration": 5,
    "start_time": "2022-08-19T10:32:34.158Z"
   },
   {
    "duration": 98,
    "start_time": "2022-08-19T10:32:36.569Z"
   },
   {
    "duration": 5,
    "start_time": "2022-08-19T10:50:15.311Z"
   },
   {
    "duration": 9,
    "start_time": "2022-08-19T10:56:25.712Z"
   },
   {
    "duration": 5,
    "start_time": "2022-08-19T10:59:16.272Z"
   },
   {
    "duration": 7,
    "start_time": "2022-08-19T11:00:00.206Z"
   },
   {
    "duration": 8,
    "start_time": "2022-08-19T11:21:39.172Z"
   },
   {
    "duration": 101,
    "start_time": "2022-08-19T11:22:35.456Z"
   },
   {
    "duration": 7,
    "start_time": "2022-08-19T11:23:03.333Z"
   },
   {
    "duration": 8,
    "start_time": "2022-08-19T11:24:14.786Z"
   },
   {
    "duration": 94,
    "start_time": "2022-08-19T11:24:32.252Z"
   },
   {
    "duration": 6,
    "start_time": "2022-08-19T11:25:30.158Z"
   },
   {
    "duration": 5,
    "start_time": "2022-08-19T11:26:27.621Z"
   },
   {
    "duration": 107,
    "start_time": "2022-08-19T11:27:15.126Z"
   },
   {
    "duration": 8,
    "start_time": "2022-08-19T11:52:10.889Z"
   },
   {
    "duration": 8,
    "start_time": "2022-08-19T11:53:07.175Z"
   },
   {
    "duration": 48,
    "start_time": "2022-08-19T11:55:38.790Z"
   },
   {
    "duration": 10,
    "start_time": "2022-08-19T11:55:46.837Z"
   },
   {
    "duration": 12,
    "start_time": "2022-08-19T11:55:51.273Z"
   },
   {
    "duration": 9,
    "start_time": "2022-08-19T11:55:53.439Z"
   },
   {
    "duration": 149,
    "start_time": "2022-08-19T11:56:13.486Z"
   },
   {
    "duration": 4,
    "start_time": "2022-08-19T12:02:01.814Z"
   },
   {
    "duration": 103,
    "start_time": "2022-08-19T12:02:34.046Z"
   },
   {
    "duration": 89,
    "start_time": "2022-08-19T12:03:00.147Z"
   },
   {
    "duration": 8,
    "start_time": "2022-08-19T12:04:39.169Z"
   },
   {
    "duration": 25,
    "start_time": "2022-08-19T12:17:24.203Z"
   },
   {
    "duration": 422,
    "start_time": "2022-08-19T12:18:23.874Z"
   },
   {
    "duration": 21,
    "start_time": "2022-08-19T12:18:26.414Z"
   },
   {
    "duration": 19,
    "start_time": "2022-08-19T12:18:49.260Z"
   },
   {
    "duration": 66,
    "start_time": "2022-08-20T12:54:00.269Z"
   },
   {
    "duration": 47,
    "start_time": "2022-08-20T12:54:56.529Z"
   },
   {
    "duration": 49,
    "start_time": "2022-08-20T12:55:10.157Z"
   },
   {
    "duration": 3,
    "start_time": "2022-08-20T14:19:10.064Z"
   },
   {
    "duration": 47,
    "start_time": "2022-08-20T14:20:36.118Z"
   },
   {
    "duration": 654,
    "start_time": "2022-08-20T14:22:35.915Z"
   },
   {
    "duration": 449,
    "start_time": "2022-08-20T14:22:51.426Z"
   },
   {
    "duration": 20,
    "start_time": "2022-08-20T14:22:58.109Z"
   },
   {
    "duration": 17,
    "start_time": "2022-08-20T14:23:02.475Z"
   },
   {
    "duration": 9,
    "start_time": "2022-08-20T14:23:05.619Z"
   },
   {
    "duration": 38,
    "start_time": "2022-08-20T14:23:08.194Z"
   },
   {
    "duration": 4,
    "start_time": "2022-08-20T14:23:11.035Z"
   },
   {
    "duration": 8,
    "start_time": "2022-08-20T14:23:13.278Z"
   },
   {
    "duration": 4,
    "start_time": "2022-08-20T14:23:15.835Z"
   },
   {
    "duration": 6,
    "start_time": "2022-08-20T14:23:18.475Z"
   },
   {
    "duration": 4,
    "start_time": "2022-08-20T14:23:22.452Z"
   },
   {
    "duration": 34,
    "start_time": "2022-08-20T14:23:25.429Z"
   },
   {
    "duration": 9,
    "start_time": "2022-08-20T14:23:27.778Z"
   },
   {
    "duration": 4,
    "start_time": "2022-08-20T14:23:30.477Z"
   },
   {
    "duration": 11,
    "start_time": "2022-08-20T14:23:32.934Z"
   },
   {
    "duration": 18,
    "start_time": "2022-08-20T14:23:35.220Z"
   },
   {
    "duration": 17,
    "start_time": "2022-08-20T14:23:37.138Z"
   },
   {
    "duration": 3,
    "start_time": "2022-08-20T14:23:41.134Z"
   },
   {
    "duration": 9,
    "start_time": "2022-08-20T14:23:43.231Z"
   },
   {
    "duration": 7,
    "start_time": "2022-08-20T14:23:45.984Z"
   },
   {
    "duration": 3,
    "start_time": "2022-08-20T14:23:49.854Z"
   },
   {
    "duration": 9,
    "start_time": "2022-08-20T14:23:52.228Z"
   },
   {
    "duration": 7,
    "start_time": "2022-08-20T14:23:54.957Z"
   },
   {
    "duration": 4,
    "start_time": "2022-08-20T14:23:57.347Z"
   },
   {
    "duration": 980,
    "start_time": "2022-08-20T14:23:59.732Z"
   },
   {
    "duration": 7,
    "start_time": "2022-08-20T14:24:02.863Z"
   },
   {
    "duration": 3,
    "start_time": "2022-08-20T14:24:07.253Z"
   },
   {
    "duration": 8,
    "start_time": "2022-08-20T14:24:10.063Z"
   },
   {
    "duration": 7,
    "start_time": "2022-08-20T14:24:13.624Z"
   },
   {
    "duration": 83,
    "start_time": "2022-08-20T14:24:20.536Z"
   },
   {
    "duration": 9,
    "start_time": "2022-08-20T14:32:39.563Z"
   },
   {
    "duration": 101,
    "start_time": "2022-08-20T14:35:46.599Z"
   },
   {
    "duration": 8,
    "start_time": "2022-08-20T14:35:53.149Z"
   },
   {
    "duration": 98,
    "start_time": "2022-08-20T14:35:55.515Z"
   },
   {
    "duration": 108,
    "start_time": "2022-08-20T14:35:58.260Z"
   },
   {
    "duration": 4,
    "start_time": "2022-08-20T14:36:00.790Z"
   },
   {
    "duration": 83,
    "start_time": "2022-08-20T14:56:26.347Z"
   },
   {
    "duration": 70,
    "start_time": "2022-10-08T15:58:38.314Z"
   },
   {
    "duration": 490,
    "start_time": "2022-10-08T15:58:41.525Z"
   },
   {
    "duration": 402,
    "start_time": "2022-10-08T15:58:44.451Z"
   }
  ],
  "colab": {
   "name": "dpp_template_part2.ipynb",
   "provenance": []
  },
  "kernelspec": {
   "display_name": "Python 3 (ipykernel)",
   "language": "python",
   "name": "python3"
  },
  "language_info": {
   "codemirror_mode": {
    "name": "ipython",
    "version": 3
   },
   "file_extension": ".py",
   "mimetype": "text/x-python",
   "name": "python",
   "nbconvert_exporter": "python",
   "pygments_lexer": "ipython3",
   "version": "3.9.5"
  },
  "toc": {
   "base_numbering": 1,
   "nav_menu": {},
   "number_sections": true,
   "sideBar": true,
   "skip_h1_title": true,
   "title_cell": "Table of Contents",
   "title_sidebar": "Contents",
   "toc_cell": false,
   "toc_position": {},
   "toc_section_display": true,
   "toc_window_display": false
  }
 },
 "nbformat": 4,
 "nbformat_minor": 5
}
