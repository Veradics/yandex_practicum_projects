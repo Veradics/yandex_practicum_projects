{
 "cells": [
  {
   "cell_type": "markdown",
   "metadata": {},
   "source": [
    "<div class=\"alert alert-success\"; style=\"border-left: 7px solid green\">\n",
    "<h3>✔ Комментарий ревьюера V.2</h3>\n",
    "    \n",
    "Спасибо, что поправила, удачи в следующих спринтах :)</div>    \n"
   ]
  },
  {
   "cell_type": "markdown",
   "metadata": {},
   "source": [
    "# <div class=\"alert alert-success\">\n",
    "<h2> Комментарий ревьюера</h2>\n",
    "    \n",
    "Привет! Меня зовут Алексей Тюрин, я буду делать ревью твоей работы. Давай будем общаться на «ты».\n",
    "\n",
    "У тебя хорошая, аккуратная работа 👍. В ней всё здорово, я её вернул, чтобы у тебя была возможность посмотреть комментарии и задать вопросы, если есть. Есть разве что вопросы к удалению некоторых значений и к интерпретации пропусков в `box_office`. \n",
    "\n",
    "---\n",
    "Комментарии делятся на 3 группы:\n",
    "    \n",
    "Зелёным цветом отмечены комментарии, либо подчёркивающие удачные решения, либо содержащие какую-то дополнительную информацию или советы, они формально не требуют правки, но правки приветствуются. Выделены они так:\n",
    "\n",
    "<div class=\"alert alert-success\"; style=\"border-left: 7px solid green\">\n",
    "<h3>✔ Комментарий ревьюера</h3>\n",
    "    \n",
    "Тут текст    \n",
    "</div>    \n",
    "\n",
    "Жёлтым цветом выделены правки, которые желательны:\n",
    "\n",
    "<div class=\"alert alert-warning\"; style=\"border-left: 7px solid yellow\" >\n",
    "<h3>!! Комментарий ревьюера</h3>\n",
    "    \n",
    "Тут текст    \n",
    "</div>    \n",
    "\n",
    "Красным выделены правки, которые обязательны\n",
    "    \n",
    "<div class=\"alert alert-danger\"; style=\"border-left: 7px solid red\">\n",
    "<h3>👀 Комментарий ревьюера</h3>\n",
    "    \n",
    "Тут текст    \n",
    "</div>    \n",
    "    \n",
    "Давай работать над проектом в диалоге: если ты **что-то меняешь** в проекте по моим рекомендациям — **пиши об этом**. Выбери для своих комментариев какой-то заметный цвет, так мне будет легче отследить изменения. Пожалуйста, **не перемещай, не изменяй и не удаляй мои комментарии**. Всё это поможет выполнить повторную проверку твоего проекта оперативнее. Если оставляешь комментарии на какой-то итерации ревью, пиши что-то вроде `комментарий студента V.{номер итерации}`\n",
    "</div>\n",
    "\n",
    "Цвет можно сделать, например, так\n",
    "\n",
    "<div class = \"alert alert-info\" style=\"border-left: 7px solid blue\">\n",
    "<h3>Комментарий студента</h3>\n",
    "Ревьюер душнила :)\n",
    "</div>\n",
    "\n",
    "Или так:\n",
    "    \n",
    "<div class=\"alert alert-info\" style=\"background:#ffdbf1;color:#2e00ab;border-left:7px solid #2e00ab\">\n",
    "<h3>Комментарий студента </h3>\n",
    "    ...\n",
    "</div>"
   ]
  },
  {
   "cell_type": "markdown",
   "metadata": {
    "id": "sIfNaMOxgFyK"
   },
   "source": [
    "## Исследование данных о российском кинопрокате\n",
    "\n"
   ]
  },
  {
   "cell_type": "markdown",
   "metadata": {},
   "source": [
    "**Описание проекта**\n",
    "\n",
    "Заказчик этого проекта — *Министерство культуры Российской Федерации*. Набор исследуемых данных содержит информацию о прокатных удостоверениях, сборах и государственной поддержке фильмов, а также информацию с сайта КиноПоиск.Источник: [портал открытых данных Министерства культуры](https://opendata.mkrf.ru/). \n",
    "\n",
    "**Цель исследования** - изучить рынок российского кинопроката, выявить текущие тренды и ответить на вопрос, какие фильмы интересны зрителю. Особое внимание следует уделить фильмам, которые получили государственную поддержку.\n",
    "\n",
    "**Ход исследования:**\n",
    "\n",
    "Данные представлены в двух таблицах. Поскольку о качестве данных ничего не сказано, после объединения таблиц потребуется изучить их на предмет пропусков и аномальных значений. Только после этого можно будет приступить к их анализу. Таким образом, можно выделить несколько этапов работы над проектом:\n",
    "\n",
    "1. [Объединение двух таблиц](#combination)\n",
    "2. [Предобработка данных](#preprocessing)\n",
    "3. [Исследовательский анализ данных](#analysis)\n",
    "4. [Исследование фильмов с гос.поддержкой](#film_analysis)"
   ]
  },
  {
   "cell_type": "markdown",
   "metadata": {},
   "source": [
    "**Описание данных**\n",
    "\n",
    "Таблица **mkrf_movies** содержит информацию из реестра прокатных удостоверений. У одного фильма может быть несколько прокатных удостоверений.\n",
    "\n",
    "- `title` — название фильма;\n",
    "- `puNumber` — номер прокатного удостоверения;\n",
    "- `show_start_date` — дата премьеры фильма;\n",
    "- `type` — тип фильма;\n",
    "- `film_studio` — студия-производитель;\n",
    "- `production_country` — страна-производитель;\n",
    "- `director` — режиссёр;\n",
    "- `producer` — продюсер;\n",
    "- `age_restriction` — возрастная категория;\n",
    "- `refundable_support` — объём возвратных средств государственной поддержки;\n",
    "- `nonrefundable_support` — объём невозвратных средств государственной поддержки;\n",
    "- `financing_source` — источник государственного финансирования;\n",
    "- `budget` — общий бюджет фильма;\n",
    "- `ratings` — рейтинг фильма на КиноПоиске;\n",
    "- `genres` — жанр фильма.\n",
    "\n",
    "Cтолбец `budget` уже включает в себя полный объём государственной поддержки. Данные в этом столбце указаны только для тех фильмов, которые получили государственную поддержку.\n",
    "\n",
    "Таблица **mkrf_shows** содержит сведения о показах фильмов в российских кинотеатрах.\n",
    "- `puNumber` — номер прокатного удостоверения;\n",
    "- `box_office` — сборы в рублях."
   ]
  },
  {
   "cell_type": "markdown",
   "metadata": {},
   "source": [
    "<div class=\"alert alert-success\"; style=\"border-left: 7px solid green\">\n",
    "<h3>✔ Комментарий ревьюера</h3>\n",
    "    \n",
    "Можно сопроводить введение гиперссылками на разделы работы, например:</div>    \n"
   ]
  },
  {
   "cell_type": "markdown",
   "metadata": {},
   "source": [
    "1. [Предобработка](#preprocessing)"
   ]
  },
  {
   "cell_type": "markdown",
   "metadata": {},
   "source": [
    "<div class=\"alert alert-success\"; style=\"border-left: 7px solid green\">\n",
    "<h3>✔ Комментарий ревьюера</h3>\n",
    "    \n",
    "Для этого я в ячейку с заголовком добавил\n",
    "\n",
    "```python\n",
    "\n",
    "<a id=\"preprocessing\"></a>\n",
    "### Шаг 2. Предобработка данных\n",
    "\n",
    "```\n",
    "</div>    \n"
   ]
  },
  {
   "cell_type": "markdown",
   "metadata": {},
   "source": [
    "<div class = \"alert alert-info\" style=\"border-left: 7px solid blue\">\n",
    "<h3>Комментарий студента</h3>\n",
    "    \n",
    "Сделано :)\n",
    "</div>"
   ]
  },
  {
   "cell_type": "markdown",
   "metadata": {},
   "source": [
    "<div class=\"alert alert-success\"; style=\"border-left: 7px solid green\">\n",
    "<h3>✔ Комментарий ревьюера V.2</h3>\n",
    "    \n",
    "👍\n",
    "</div>    \n"
   ]
  },
  {
   "cell_type": "markdown",
   "metadata": {
    "id": "3bSlkCsbgFyL"
   },
   "source": [
    "<a id=\"combination\"></a>\n",
    "### Шаг 1. Откройте файлы с данными и объедините их в один датафрейм. \n",
    "\n",
    "Объедините данные таким образом, чтобы все объекты из датасета `mkrf_movies` обязательно вошли в получившийся датафрейм. \n",
    "\n",
    "<div id=\"accordion\">\n",
    "    <div class=\"card\">\n",
    "        <div class=\"card-header\" id=\"headingThree\">\n",
    "            <button class=\"btn btn-link collapsed\" data-toggle=\"collapse\" data-target=\"#collapseHint_0\" aria-expanded=\"false\" aria-controls=\"collapseHint_0\">Подсказка</button>\n",
    "        </div>\n",
    "        <div id=\"collapseHint_0\" class=\"collapse\" aria-labelledby=\"headingThree\" data-parent=\"#accordion\">\n",
    "            <div class=\"card-body\">\n",
    "Обратите внимание на тип данных столбца, по которому будете соединять датафреймы. Тип данных этих столбцов должен быть одинаковым в обоих датафреймах.\n",
    "            </div>\n",
    "        </div>\n",
    "    </div>\n",
    "</div>"
   ]
  },
  {
   "cell_type": "code",
   "execution_count": 1,
   "metadata": {
    "id": "dw87FlzMgFyM"
   },
   "outputs": [],
   "source": [
    "# необходимые библиотеки\n",
    "import pandas as pd\n",
    "import numpy as np\n",
    "import matplotlib.pyplot as plt\n",
    "import sys\n",
    "import re\n",
    "\n",
    "np.set_printoptions(threshold=sys.maxsize)"
   ]
  },
  {
   "cell_type": "markdown",
   "metadata": {},
   "source": [
    "<div class=\"alert alert-success\"; style=\"border-left: 7px solid green\">\n",
    "<h3>✔ Комментарий ревьюера</h3>\n",
    "    \n",
    "Здорово, что все импорты собраны в самом начале 👍 `re` отдельно редко когда нужен, т.к. методы в `pandas` типа `str.exract` и `str.replace` интерпретируют строки как регулярные выражения в том числе</div>    \n"
   ]
  },
  {
   "cell_type": "code",
   "execution_count": 2,
   "metadata": {},
   "outputs": [
    {
     "data": {
      "text/html": [
       "<div>\n",
       "<style scoped>\n",
       "    .dataframe tbody tr th:only-of-type {\n",
       "        vertical-align: middle;\n",
       "    }\n",
       "\n",
       "    .dataframe tbody tr th {\n",
       "        vertical-align: top;\n",
       "    }\n",
       "\n",
       "    .dataframe thead th {\n",
       "        text-align: right;\n",
       "    }\n",
       "</style>\n",
       "<table border=\"1\" class=\"dataframe\">\n",
       "  <thead>\n",
       "    <tr style=\"text-align: right;\">\n",
       "      <th></th>\n",
       "      <th>title</th>\n",
       "      <th>puNumber</th>\n",
       "      <th>show_start_date</th>\n",
       "      <th>type</th>\n",
       "      <th>film_studio</th>\n",
       "      <th>production_country</th>\n",
       "      <th>director</th>\n",
       "      <th>producer</th>\n",
       "      <th>age_restriction</th>\n",
       "      <th>refundable_support</th>\n",
       "      <th>nonrefundable_support</th>\n",
       "      <th>budget</th>\n",
       "      <th>financing_source</th>\n",
       "      <th>ratings</th>\n",
       "      <th>genres</th>\n",
       "    </tr>\n",
       "  </thead>\n",
       "  <tbody>\n",
       "    <tr>\n",
       "      <th>4993</th>\n",
       "      <td>Ушел и не вернулся</td>\n",
       "      <td>111003111</td>\n",
       "      <td>2011-04-12T12:00:00.000Z</td>\n",
       "      <td>Художественный</td>\n",
       "      <td>ООО \"Продюсерский центр \"Бегущая по волнам\"</td>\n",
       "      <td>Россия</td>\n",
       "      <td>В.Пендраковский</td>\n",
       "      <td>В.Пендраковский</td>\n",
       "      <td>«16+» - для детей старше 16 лет</td>\n",
       "      <td>NaN</td>\n",
       "      <td>NaN</td>\n",
       "      <td>NaN</td>\n",
       "      <td>NaN</td>\n",
       "      <td>NaN</td>\n",
       "      <td>NaN</td>\n",
       "    </tr>\n",
       "    <tr>\n",
       "      <th>4169</th>\n",
       "      <td>Матрица</td>\n",
       "      <td>221137710</td>\n",
       "      <td>2010-12-01T12:00:00.000Z</td>\n",
       "      <td>Художественный</td>\n",
       "      <td>Уорнер Бразерс, Вилладж Роудшоу Филмз ЛТД, Сил...</td>\n",
       "      <td>США-Австралия</td>\n",
       "      <td>Ларри Вачовски, Энди Вачовски</td>\n",
       "      <td>Джоэл Силвер</td>\n",
       "      <td>«16+» - для детей старше 16 лет</td>\n",
       "      <td>NaN</td>\n",
       "      <td>NaN</td>\n",
       "      <td>NaN</td>\n",
       "      <td>NaN</td>\n",
       "      <td>8.5</td>\n",
       "      <td>фантастика,боевик</td>\n",
       "    </tr>\n",
       "    <tr>\n",
       "      <th>2481</th>\n",
       "      <td>Настроение SHNIT 2014</td>\n",
       "      <td>121006115</td>\n",
       "      <td>2015-03-30T12:00:00.000Z</td>\n",
       "      <td>Художественный</td>\n",
       "      <td>Топкапи Филмз, Филмакадеми, Ле Фильм Вельвет, ...</td>\n",
       "      <td>Великобритания - Нидерланды - Германия - Франц...</td>\n",
       "      <td>Виола Байер, Стефан Берман, Мэрайке Блау, Йори...</td>\n",
       "      <td>Лола Басара, Райан Беннетт, Мэрайке Блау, Феде...</td>\n",
       "      <td>«18+» - запрещено для детей</td>\n",
       "      <td>NaN</td>\n",
       "      <td>NaN</td>\n",
       "      <td>NaN</td>\n",
       "      <td>NaN</td>\n",
       "      <td>NaN</td>\n",
       "      <td>NaN</td>\n",
       "    </tr>\n",
       "    <tr>\n",
       "      <th>743</th>\n",
       "      <td>Отверженные /По одноименному произведению Викт...</td>\n",
       "      <td>121034112</td>\n",
       "      <td>2012-12-31T12:00:00.000Z</td>\n",
       "      <td>Художественный</td>\n",
       "      <td>Уоркинг Тайтл Филмз, Камерон Макинтош</td>\n",
       "      <td>Великобритания</td>\n",
       "      <td>Том Хупер</td>\n",
       "      <td>Тим Биван, Камерон Макинтош, Эрик Феллнер</td>\n",
       "      <td>«16+» - для детей старше 16 лет</td>\n",
       "      <td>NaN</td>\n",
       "      <td>NaN</td>\n",
       "      <td>NaN</td>\n",
       "      <td>NaN</td>\n",
       "      <td>7.9</td>\n",
       "      <td>мюзикл,драма,мелодрама</td>\n",
       "    </tr>\n",
       "    <tr>\n",
       "      <th>3217</th>\n",
       "      <td>Тролли</td>\n",
       "      <td>124004616</td>\n",
       "      <td>2016-09-27T12:00:00.000Z</td>\n",
       "      <td>Анимационный</td>\n",
       "      <td>ДримУоркс Анимейшн</td>\n",
       "      <td>США</td>\n",
       "      <td>Уолт Дорн, Майк Митчелл</td>\n",
       "      <td>Джонатан Айбел, Гленн Бергер, Джина Шэй</td>\n",
       "      <td>«6+» - для детей старше 6 лет</td>\n",
       "      <td>NaN</td>\n",
       "      <td>NaN</td>\n",
       "      <td>NaN</td>\n",
       "      <td>NaN</td>\n",
       "      <td>6.6</td>\n",
       "      <td>мультфильм,мюзикл,фэнтези</td>\n",
       "    </tr>\n",
       "  </tbody>\n",
       "</table>\n",
       "</div>"
      ],
      "text/plain": [
       "                                                  title   puNumber  \\\n",
       "4993                                 Ушел и не вернулся  111003111   \n",
       "4169                                            Матрица  221137710   \n",
       "2481                              Настроение SHNIT 2014  121006115   \n",
       "743   Отверженные /По одноименному произведению Викт...  121034112   \n",
       "3217                                             Тролли  124004616   \n",
       "\n",
       "               show_start_date            type  \\\n",
       "4993  2011-04-12T12:00:00.000Z  Художественный   \n",
       "4169  2010-12-01T12:00:00.000Z  Художественный   \n",
       "2481  2015-03-30T12:00:00.000Z  Художественный   \n",
       "743   2012-12-31T12:00:00.000Z  Художественный   \n",
       "3217  2016-09-27T12:00:00.000Z    Анимационный   \n",
       "\n",
       "                                            film_studio  \\\n",
       "4993        ООО \"Продюсерский центр \"Бегущая по волнам\"   \n",
       "4169  Уорнер Бразерс, Вилладж Роудшоу Филмз ЛТД, Сил...   \n",
       "2481  Топкапи Филмз, Филмакадеми, Ле Фильм Вельвет, ...   \n",
       "743               Уоркинг Тайтл Филмз, Камерон Макинтош   \n",
       "3217                                 ДримУоркс Анимейшн   \n",
       "\n",
       "                                     production_country  \\\n",
       "4993                                             Россия   \n",
       "4169                                      США-Австралия   \n",
       "2481  Великобритания - Нидерланды - Германия - Франц...   \n",
       "743                                      Великобритания   \n",
       "3217                                                США   \n",
       "\n",
       "                                               director  \\\n",
       "4993                                    В.Пендраковский   \n",
       "4169                      Ларри Вачовски, Энди Вачовски   \n",
       "2481  Виола Байер, Стефан Берман, Мэрайке Блау, Йори...   \n",
       "743                                           Том Хупер   \n",
       "3217                            Уолт Дорн, Майк Митчелл   \n",
       "\n",
       "                                               producer  \\\n",
       "4993                                    В.Пендраковский   \n",
       "4169                                       Джоэл Силвер   \n",
       "2481  Лола Басара, Райан Беннетт, Мэрайке Блау, Феде...   \n",
       "743           Тим Биван, Камерон Макинтош, Эрик Феллнер   \n",
       "3217           Джонатан Айбел, Гленн Бергер, Джина Шэй    \n",
       "\n",
       "                      age_restriction  refundable_support  \\\n",
       "4993  «16+» - для детей старше 16 лет                 NaN   \n",
       "4169  «16+» - для детей старше 16 лет                 NaN   \n",
       "2481      «18+» - запрещено для детей                 NaN   \n",
       "743   «16+» - для детей старше 16 лет                 NaN   \n",
       "3217    «6+» - для детей старше 6 лет                 NaN   \n",
       "\n",
       "      nonrefundable_support  budget financing_source ratings  \\\n",
       "4993                    NaN     NaN              NaN     NaN   \n",
       "4169                    NaN     NaN              NaN     8.5   \n",
       "2481                    NaN     NaN              NaN     NaN   \n",
       "743                     NaN     NaN              NaN     7.9   \n",
       "3217                    NaN     NaN              NaN     6.6   \n",
       "\n",
       "                         genres  \n",
       "4993                        NaN  \n",
       "4169          фантастика,боевик  \n",
       "2481                        NaN  \n",
       "743      мюзикл,драма,мелодрама  \n",
       "3217  мультфильм,мюзикл,фэнтези  "
      ]
     },
     "metadata": {},
     "output_type": "display_data"
    },
    {
     "data": {
      "text/html": [
       "<div>\n",
       "<style scoped>\n",
       "    .dataframe tbody tr th:only-of-type {\n",
       "        vertical-align: middle;\n",
       "    }\n",
       "\n",
       "    .dataframe tbody tr th {\n",
       "        vertical-align: top;\n",
       "    }\n",
       "\n",
       "    .dataframe thead th {\n",
       "        text-align: right;\n",
       "    }\n",
       "</style>\n",
       "<table border=\"1\" class=\"dataframe\">\n",
       "  <thead>\n",
       "    <tr style=\"text-align: right;\">\n",
       "      <th></th>\n",
       "      <th>puNumber</th>\n",
       "      <th>box_office</th>\n",
       "    </tr>\n",
       "  </thead>\n",
       "  <tbody>\n",
       "    <tr>\n",
       "      <th>2624</th>\n",
       "      <td>124000419</td>\n",
       "      <td>1022685.5</td>\n",
       "    </tr>\n",
       "    <tr>\n",
       "      <th>1009</th>\n",
       "      <td>121002211</td>\n",
       "      <td>180.0</td>\n",
       "    </tr>\n",
       "    <tr>\n",
       "      <th>44</th>\n",
       "      <td>111000910</td>\n",
       "      <td>32175.0</td>\n",
       "    </tr>\n",
       "    <tr>\n",
       "      <th>1910</th>\n",
       "      <td>121020012</td>\n",
       "      <td>1045.0</td>\n",
       "    </tr>\n",
       "    <tr>\n",
       "      <th>1036</th>\n",
       "      <td>121002714</td>\n",
       "      <td>450.0</td>\n",
       "    </tr>\n",
       "  </tbody>\n",
       "</table>\n",
       "</div>"
      ],
      "text/plain": [
       "       puNumber  box_office\n",
       "2624  124000419   1022685.5\n",
       "1009  121002211       180.0\n",
       "44    111000910     32175.0\n",
       "1910  121020012      1045.0\n",
       "1036  121002714       450.0"
      ]
     },
     "metadata": {},
     "output_type": "display_data"
    }
   ],
   "source": [
    "# данные\n",
    "df_movies = pd.read_csv('/datasets/mkrf_movies.csv')\n",
    "df_shows = pd.read_csv('/datasets/mkrf_shows.csv')\n",
    "\n",
    "display(df_movies.sample(5))\n",
    "display(df_shows.sample(5))"
   ]
  },
  {
   "cell_type": "code",
   "execution_count": 3,
   "metadata": {},
   "outputs": [],
   "source": [
    "df_movies.to_csv('mkrf_movies.csv')\n",
    "df_shows.to_csv('mkrf_shows.csv')"
   ]
  },
  {
   "cell_type": "markdown",
   "metadata": {},
   "source": [
    "<div class=\"alert alert-success\"; style=\"border-left: 7px solid green\">\n",
    "<h3>✔ Комментарий ревьюера</h3>\n",
    "    \n",
    "Переменные стоит чуть информативнее называть, чем `df1` и `df2` :)</div>    \n"
   ]
  },
  {
   "cell_type": "markdown",
   "metadata": {},
   "source": [
    "<div class = \"alert alert-info\" style=\"border-left: 7px solid blue\">\n",
    "<h3>Комментарий студента</h3>\n",
    "    \n",
    "Думаю, конкретно в этом случае это не столь критично: все же переменные используются только в этом разделе и просто обозначают две таблички, которые нужно объединить. Но все же поменяла названия на более понятные )\n",
    "</div>"
   ]
  },
  {
   "cell_type": "markdown",
   "metadata": {},
   "source": [
    "<div class=\"alert alert-success\"; style=\"border-left: 7px solid green\">\n",
    "<h3>✔ Комментарий ревьюера V.2</h3>\n",
    "    \n",
    "Да, это скорее общий комментарий\n",
    "</div>    \n"
   ]
  },
  {
   "cell_type": "code",
   "execution_count": 4,
   "metadata": {},
   "outputs": [
    {
     "data": {
      "text/plain": [
       "(dtype('O'), dtype('int64'))"
      ]
     },
     "execution_count": 4,
     "metadata": {},
     "output_type": "execute_result"
    }
   ],
   "source": [
    "df_movies['puNumber'].dtype, df_shows['puNumber'].dtype"
   ]
  },
  {
   "cell_type": "markdown",
   "metadata": {},
   "source": [
    "Объединять таблицы следует по столбцу *puNumber*. Однако тип данных столбца в датафреймах не совпадает из-за присутствующей строки с неопределенным номером прокатного удостоверения. "
   ]
  },
  {
   "cell_type": "code",
   "execution_count": 5,
   "metadata": {},
   "outputs": [
    {
     "data": {
      "text/html": [
       "<div>\n",
       "<style scoped>\n",
       "    .dataframe tbody tr th:only-of-type {\n",
       "        vertical-align: middle;\n",
       "    }\n",
       "\n",
       "    .dataframe tbody tr th {\n",
       "        vertical-align: top;\n",
       "    }\n",
       "\n",
       "    .dataframe thead th {\n",
       "        text-align: right;\n",
       "    }\n",
       "</style>\n",
       "<table border=\"1\" class=\"dataframe\">\n",
       "  <thead>\n",
       "    <tr style=\"text-align: right;\">\n",
       "      <th></th>\n",
       "      <th>title</th>\n",
       "      <th>puNumber</th>\n",
       "      <th>show_start_date</th>\n",
       "      <th>type</th>\n",
       "      <th>film_studio</th>\n",
       "      <th>production_country</th>\n",
       "      <th>director</th>\n",
       "      <th>producer</th>\n",
       "      <th>age_restriction</th>\n",
       "      <th>refundable_support</th>\n",
       "      <th>nonrefundable_support</th>\n",
       "      <th>budget</th>\n",
       "      <th>financing_source</th>\n",
       "      <th>ratings</th>\n",
       "      <th>genres</th>\n",
       "    </tr>\n",
       "  </thead>\n",
       "  <tbody>\n",
       "    <tr>\n",
       "      <th>1797</th>\n",
       "      <td>Курбан-роман. (История с жертвой)</td>\n",
       "      <td>нет</td>\n",
       "      <td>2014-05-15T12:00:00.000Z</td>\n",
       "      <td>Художественный</td>\n",
       "      <td>ФОНД \"ИННОВАЦИЯ\"</td>\n",
       "      <td>Россия</td>\n",
       "      <td>С.Юзеев</td>\n",
       "      <td>М.Галицкая</td>\n",
       "      <td>«12+» - для детей старше 12 лет</td>\n",
       "      <td>NaN</td>\n",
       "      <td>NaN</td>\n",
       "      <td>NaN</td>\n",
       "      <td>NaN</td>\n",
       "      <td>NaN</td>\n",
       "      <td>NaN</td>\n",
       "    </tr>\n",
       "  </tbody>\n",
       "</table>\n",
       "</div>"
      ],
      "text/plain": [
       "                                  title puNumber           show_start_date  \\\n",
       "1797  Курбан-роман. (История с жертвой)      нет  2014-05-15T12:00:00.000Z   \n",
       "\n",
       "                type       film_studio production_country director  \\\n",
       "1797  Художественный  ФОНД \"ИННОВАЦИЯ\"             Россия  С.Юзеев   \n",
       "\n",
       "        producer                  age_restriction  refundable_support  \\\n",
       "1797  М.Галицкая  «12+» - для детей старше 12 лет                 NaN   \n",
       "\n",
       "      nonrefundable_support  budget financing_source ratings genres  \n",
       "1797                    NaN     NaN              NaN     NaN    NaN  "
      ]
     },
     "execution_count": 5,
     "metadata": {},
     "output_type": "execute_result"
    }
   ],
   "source": [
    "df_movies.query('puNumber == \"нет\"')"
   ]
  },
  {
   "cell_type": "markdown",
   "metadata": {},
   "source": [
    "Приведем столбец в df_movies к числовому типу данных, заменив значение \"нет\" на пропуск."
   ]
  },
  {
   "cell_type": "code",
   "execution_count": 6,
   "metadata": {},
   "outputs": [
    {
     "data": {
      "text/plain": [
       "dtype('float64')"
      ]
     },
     "execution_count": 6,
     "metadata": {},
     "output_type": "execute_result"
    }
   ],
   "source": [
    "df_movies.loc[df_movies['puNumber'] == 'нет', 'puNumber'] = np.nan\n",
    "df_movies['puNumber'] = df_movies['puNumber'].astype('float64')\n",
    "df_movies['puNumber'].dtype"
   ]
  },
  {
   "cell_type": "markdown",
   "metadata": {},
   "source": [
    "Теперь можно объединить получившуюся таблицу c df_shows по ключам \"слева\", чтобы все значения из df_movies вошли в новый датафрейм."
   ]
  },
  {
   "cell_type": "code",
   "execution_count": 7,
   "metadata": {},
   "outputs": [
    {
     "data": {
      "text/html": [
       "<div>\n",
       "<style scoped>\n",
       "    .dataframe tbody tr th:only-of-type {\n",
       "        vertical-align: middle;\n",
       "    }\n",
       "\n",
       "    .dataframe tbody tr th {\n",
       "        vertical-align: top;\n",
       "    }\n",
       "\n",
       "    .dataframe thead th {\n",
       "        text-align: right;\n",
       "    }\n",
       "</style>\n",
       "<table border=\"1\" class=\"dataframe\">\n",
       "  <thead>\n",
       "    <tr style=\"text-align: right;\">\n",
       "      <th></th>\n",
       "      <th>title</th>\n",
       "      <th>puNumber</th>\n",
       "      <th>show_start_date</th>\n",
       "      <th>type</th>\n",
       "      <th>film_studio</th>\n",
       "      <th>production_country</th>\n",
       "      <th>director</th>\n",
       "      <th>producer</th>\n",
       "      <th>age_restriction</th>\n",
       "      <th>refundable_support</th>\n",
       "      <th>nonrefundable_support</th>\n",
       "      <th>budget</th>\n",
       "      <th>financing_source</th>\n",
       "      <th>ratings</th>\n",
       "      <th>genres</th>\n",
       "      <th>box_office</th>\n",
       "    </tr>\n",
       "  </thead>\n",
       "  <tbody>\n",
       "    <tr>\n",
       "      <th>5641</th>\n",
       "      <td>Ёлки Новые</td>\n",
       "      <td>111011617.0</td>\n",
       "      <td>2017-12-21T12:00:00.000Z</td>\n",
       "      <td>Художественный</td>\n",
       "      <td>ООО \"ТаББаК\"</td>\n",
       "      <td>Россия</td>\n",
       "      <td>Д.Киселев, А.Першин (Ж.Крыжовников), А.Карпило...</td>\n",
       "      <td>Т.Бекмамбетов, Г.Стрижевская</td>\n",
       "      <td>«6+» - для детей старше 6 лет</td>\n",
       "      <td>50000000.0</td>\n",
       "      <td>50000000.0</td>\n",
       "      <td>174381922.0</td>\n",
       "      <td>Фонд кино</td>\n",
       "      <td>5.8</td>\n",
       "      <td>комедия,мелодрама</td>\n",
       "      <td>855451052.0</td>\n",
       "    </tr>\n",
       "    <tr>\n",
       "      <th>5413</th>\n",
       "      <td>Гоголь. Начало. Гоголь. Заколдованное место. Г...</td>\n",
       "      <td>111005217.0</td>\n",
       "      <td>2017-07-25T12:00:00.000Z</td>\n",
       "      <td>Художественный</td>\n",
       "      <td>АО \"ТНТ-Телесеть\", ООО \"Продюсерская компания ...</td>\n",
       "      <td>Россия</td>\n",
       "      <td>Е.Баранов</td>\n",
       "      <td>Е.Никишов, В.Федорович, А.Цекало,  ООО \"Ника ТВ\"</td>\n",
       "      <td>«16+» - для детей старше 16 лет</td>\n",
       "      <td>NaN</td>\n",
       "      <td>NaN</td>\n",
       "      <td>NaN</td>\n",
       "      <td>NaN</td>\n",
       "      <td>NaN</td>\n",
       "      <td>NaN</td>\n",
       "      <td>NaN</td>\n",
       "    </tr>\n",
       "    <tr>\n",
       "      <th>4790</th>\n",
       "      <td>КРАСНЫЙ ЛЕД. Сага о хантах Югры</td>\n",
       "      <td>111005910.0</td>\n",
       "      <td>2010-06-04T12:00:00.000Z</td>\n",
       "      <td>Художественный</td>\n",
       "      <td>Департамент культуры и искусства ХМАО-Югры, ОО...</td>\n",
       "      <td>Россия</td>\n",
       "      <td>О.Фесенко</td>\n",
       "      <td>О.Урушев</td>\n",
       "      <td>«16+» - для детей старше 16 лет</td>\n",
       "      <td>NaN</td>\n",
       "      <td>NaN</td>\n",
       "      <td>NaN</td>\n",
       "      <td>NaN</td>\n",
       "      <td>4.5</td>\n",
       "      <td>драма,история</td>\n",
       "      <td>0.0</td>\n",
       "    </tr>\n",
       "    <tr>\n",
       "      <th>7256</th>\n",
       "      <td>Свердловск</td>\n",
       "      <td>111017019.0</td>\n",
       "      <td>2019-09-30T12:00:00.000Z</td>\n",
       "      <td>Художественный</td>\n",
       "      <td>ООО \"ФЭЙМ СТУДИО ПРОДАКШН\"</td>\n",
       "      <td>Россия</td>\n",
       "      <td>И.Кунилов</td>\n",
       "      <td>Д.Кунилов</td>\n",
       "      <td>«16+» - для детей старше 16 лет</td>\n",
       "      <td>NaN</td>\n",
       "      <td>NaN</td>\n",
       "      <td>NaN</td>\n",
       "      <td>NaN</td>\n",
       "      <td>NaN</td>\n",
       "      <td>NaN</td>\n",
       "      <td>NaN</td>\n",
       "    </tr>\n",
       "    <tr>\n",
       "      <th>1016</th>\n",
       "      <td>Вольфганг Амадей Моцарт. Дон Жуан, или Наказан...</td>\n",
       "      <td>126002212.0</td>\n",
       "      <td>2012-07-05T12:00:00.000Z</td>\n",
       "      <td>Прочие</td>\n",
       "      <td>Эр А И Синема</td>\n",
       "      <td>Италия</td>\n",
       "      <td>Роберт Карсен</td>\n",
       "      <td>NaN</td>\n",
       "      <td>«0+» - для любой зрительской аудитории</td>\n",
       "      <td>NaN</td>\n",
       "      <td>NaN</td>\n",
       "      <td>NaN</td>\n",
       "      <td>NaN</td>\n",
       "      <td>NaN</td>\n",
       "      <td>NaN</td>\n",
       "      <td>NaN</td>\n",
       "    </tr>\n",
       "  </tbody>\n",
       "</table>\n",
       "</div>"
      ],
      "text/plain": [
       "                                                  title     puNumber  \\\n",
       "5641                                         Ёлки Новые  111011617.0   \n",
       "5413  Гоголь. Начало. Гоголь. Заколдованное место. Г...  111005217.0   \n",
       "4790                    КРАСНЫЙ ЛЕД. Сага о хантах Югры  111005910.0   \n",
       "7256                                         Свердловск  111017019.0   \n",
       "1016  Вольфганг Амадей Моцарт. Дон Жуан, или Наказан...  126002212.0   \n",
       "\n",
       "               show_start_date             type  \\\n",
       "5641  2017-12-21T12:00:00.000Z   Художественный   \n",
       "5413  2017-07-25T12:00:00.000Z   Художественный   \n",
       "4790  2010-06-04T12:00:00.000Z   Художественный   \n",
       "7256  2019-09-30T12:00:00.000Z   Художественный   \n",
       "1016  2012-07-05T12:00:00.000Z           Прочие   \n",
       "\n",
       "                                            film_studio production_country  \\\n",
       "5641                                       ООО \"ТаББаК\"             Россия   \n",
       "5413  АО \"ТНТ-Телесеть\", ООО \"Продюсерская компания ...             Россия   \n",
       "4790  Департамент культуры и искусства ХМАО-Югры, ОО...             Россия   \n",
       "7256                         ООО \"ФЭЙМ СТУДИО ПРОДАКШН\"             Россия   \n",
       "1016                                      Эр А И Синема            Италия    \n",
       "\n",
       "                                               director  \\\n",
       "5641  Д.Киселев, А.Першин (Ж.Крыжовников), А.Карпило...   \n",
       "5413                                          Е.Баранов   \n",
       "4790                                          О.Фесенко   \n",
       "7256                                          И.Кунилов   \n",
       "1016                                      Роберт Карсен   \n",
       "\n",
       "                                              producer  \\\n",
       "5641                      Т.Бекмамбетов, Г.Стрижевская   \n",
       "5413  Е.Никишов, В.Федорович, А.Цекало,  ООО \"Ника ТВ\"   \n",
       "4790                                          О.Урушев   \n",
       "7256                                         Д.Кунилов   \n",
       "1016                                               NaN   \n",
       "\n",
       "                             age_restriction  refundable_support  \\\n",
       "5641           «6+» - для детей старше 6 лет          50000000.0   \n",
       "5413         «16+» - для детей старше 16 лет                 NaN   \n",
       "4790         «16+» - для детей старше 16 лет                 NaN   \n",
       "7256         «16+» - для детей старше 16 лет                 NaN   \n",
       "1016  «0+» - для любой зрительской аудитории                 NaN   \n",
       "\n",
       "      nonrefundable_support       budget financing_source ratings  \\\n",
       "5641             50000000.0  174381922.0        Фонд кино     5.8   \n",
       "5413                    NaN          NaN              NaN     NaN   \n",
       "4790                    NaN          NaN              NaN     4.5   \n",
       "7256                    NaN          NaN              NaN     NaN   \n",
       "1016                    NaN          NaN              NaN     NaN   \n",
       "\n",
       "                 genres   box_office  \n",
       "5641  комедия,мелодрама  855451052.0  \n",
       "5413                NaN          NaN  \n",
       "4790      драма,история          0.0  \n",
       "7256                NaN          NaN  \n",
       "1016                NaN          NaN  "
      ]
     },
     "execution_count": 7,
     "metadata": {},
     "output_type": "execute_result"
    }
   ],
   "source": [
    "# объединение таблиц по столбцу puNumber\n",
    "data = df_movies.merge(df_shows, on='puNumber', how='left')\n",
    "data.sample(5)"
   ]
  },
  {
   "cell_type": "code",
   "execution_count": 8,
   "metadata": {},
   "outputs": [
    {
     "data": {
      "text/plain": [
       "(7486, 3158, 7486)"
      ]
     },
     "execution_count": 8,
     "metadata": {},
     "output_type": "execute_result"
    }
   ],
   "source": [
    "# кол-во строк в таблицах до и после объединения:\n",
    "df_movies.shape[0], df_shows.shape[0], data.shape[0]"
   ]
  },
  {
   "cell_type": "markdown",
   "metadata": {},
   "source": [
    "Количество строк в df_movies совпадает с количеством строк в датафрейме, полученном после объединения. Таким образом, никакие значения из df_movies не потерялись. "
   ]
  },
  {
   "cell_type": "markdown",
   "metadata": {},
   "source": [
    "<div class=\"alert alert-success\"; style=\"border-left: 7px solid green\">\n",
    "<h3>✔ Комментарий ревьюера</h3>\n",
    "    \n",
    "На самом деле луччше привести к числовому типу, т.к.</div>    \n"
   ]
  },
  {
   "cell_type": "code",
   "execution_count": 9,
   "metadata": {},
   "outputs": [
    {
     "data": {
      "text/plain": [
       "(False, True)"
      ]
     },
     "execution_count": 9,
     "metadata": {},
     "output_type": "execute_result"
    }
   ],
   "source": [
    "# код ревьюера\n",
    "\n",
    "\" 1123\" == \"1123\", float(\" 1123\") == float(\"1123\")"
   ]
  },
  {
   "cell_type": "markdown",
   "metadata": {},
   "source": [
    "<div class=\"alert alert-warning\"; style=\"border-left: 7px solid yellow\" >\n",
    "<h3>!! Комментарий ревьюера</h3>\n",
    "    \n",
    "Ещё, т.к. задание в явном виде просит объединить без потерь, то стоило результат объединения как-то прокомментировать и показать, что ты ничего не теряешь\n",
    "\n",
    "> Объедините данные таким образом, чтобы все объекты из датасета mkrf_movies обязательно вошли в получившийся датафрейм.\n",
    "\n",
    "</div>   "
   ]
  },
  {
   "cell_type": "markdown",
   "metadata": {},
   "source": [
    "<div class = \"alert alert-info\" style=\"border-left: 7px solid blue\">\n",
    "<h3>Комментарий студента</h3>\n",
    "    \n",
    "Здесь вроде бы все исправила. Значение \"нет\" заменила на Nan и привела к числовому виду столбец. Также добавила комментарий, показывающий, что после объединения ничего не потерялось.\n",
    "</div>"
   ]
  },
  {
   "cell_type": "markdown",
   "metadata": {},
   "source": [
    "<div class=\"alert alert-success\"; style=\"border-left: 7px solid green\">\n",
    "<h3>✔ Комментарий ревьюера V.2</h3>\n",
    "    \n",
    "👍 Стоило также посмотерть на число строк с известной информацией о сборах, их должно быть столько же, сколько было во второй таблице\n",
    "</div>    \n"
   ]
  },
  {
   "cell_type": "markdown",
   "metadata": {
    "id": "KLDGpPG0gFyM"
   },
   "source": [
    "<a id=\"preprocessing\"></a>\n",
    "### Шаг 2. Предобработка данных"
   ]
  },
  {
   "cell_type": "markdown",
   "metadata": {
    "id": "ssWwKXsxgFyO"
   },
   "source": [
    "#### Шаг 2.1. Проверьте типы данных\n",
    "\n",
    "- Проверьте типы данных в датафрейме и преобразуйте их там, где это необходимо."
   ]
  },
  {
   "cell_type": "code",
   "execution_count": 10,
   "metadata": {
    "id": "kVGSplJOgFyO"
   },
   "outputs": [
    {
     "name": "stdout",
     "output_type": "stream",
     "text": [
      "<class 'pandas.core.frame.DataFrame'>\n",
      "Int64Index: 7486 entries, 0 to 7485\n",
      "Data columns (total 16 columns):\n",
      " #   Column                 Non-Null Count  Dtype  \n",
      "---  ------                 --------------  -----  \n",
      " 0   title                  7486 non-null   object \n",
      " 1   puNumber               7485 non-null   float64\n",
      " 2   show_start_date        7486 non-null   object \n",
      " 3   type                   7486 non-null   object \n",
      " 4   film_studio            7468 non-null   object \n",
      " 5   production_country     7484 non-null   object \n",
      " 6   director               7477 non-null   object \n",
      " 7   producer               6918 non-null   object \n",
      " 8   age_restriction        7486 non-null   object \n",
      " 9   refundable_support     332 non-null    float64\n",
      " 10  nonrefundable_support  332 non-null    float64\n",
      " 11  budget                 332 non-null    float64\n",
      " 12  financing_source       332 non-null    object \n",
      " 13  ratings                6519 non-null   object \n",
      " 14  genres                 6510 non-null   object \n",
      " 15  box_office             3158 non-null   float64\n",
      "dtypes: float64(5), object(11)\n",
      "memory usage: 994.2+ KB\n"
     ]
    }
   ],
   "source": [
    "data.info()"
   ]
  },
  {
   "cell_type": "markdown",
   "metadata": {},
   "source": [
    "В некоторых столбцах тип данных не соответствует ожидаемому. Для упрощения дальнейшего анализа следует привести *show_start_date* к формату даты, *ratings* - к вещественным числам. "
   ]
  },
  {
   "cell_type": "code",
   "execution_count": 11,
   "metadata": {},
   "outputs": [
    {
     "data": {
      "text/plain": [
       "datetime64[ns, UTC]"
      ]
     },
     "execution_count": 11,
     "metadata": {},
     "output_type": "execute_result"
    }
   ],
   "source": [
    "data['show_start_date'] = pd.to_datetime(data['show_start_date'])\n",
    "data['show_start_date'].dtype"
   ]
  },
  {
   "cell_type": "code",
   "execution_count": 12,
   "metadata": {},
   "outputs": [
    {
     "data": {
      "text/plain": [
       "array(['7.2', '6.6', '6.8', '7.7', '8.3', '8.0', '7.8', '8.1', '7.1',\n",
       "       '6.0', '7.4', '5.8', '8.7', '6.3', '6.9', '5.0', '4.3', '7.3',\n",
       "       '7.0', '6.4', nan, '8.2', '7.5', '6.7', '7.9', '5.9', '6.2', '5.6',\n",
       "       '6.5', '2.4', '7.6', '6.1', '8.6', '8.5', '8.8', '5.5', '5.1',\n",
       "       '5.7', '5.4', '99%', '4.4', '4.5', '5.3', '4.1', '8.4', '2.6',\n",
       "       '3.8', '4.6', '4.8', '4.0', '3.0', '1.6', '4.2', '5.2', '4.7',\n",
       "       '4.9', '3.9', '2.7', '3.3', '2.9', '28%', '3.7', '1.4', '3.1',\n",
       "       '97%', '3.5', '3.2', '2.8', '1.5', '2.1', '2.5', '9.2', '3.4',\n",
       "       '1.1', '3.6', '83%', '64%', '91%', '94%', '62%', '79%', '90%',\n",
       "       '19%', '88%', '1.0', '89%', '1.3', '1.9', '1.8', '1.2', '1.7',\n",
       "       '9.0', '98%', '8.9', '9.1'], dtype=object)"
      ]
     },
     "execution_count": 12,
     "metadata": {},
     "output_type": "execute_result"
    }
   ],
   "source": [
    "# уникальные значения рейтинга\n",
    "data['ratings'].unique()"
   ]
  },
  {
   "cell_type": "markdown",
   "metadata": {},
   "source": [
    "В некоторых случаях рейтинг представлен не по 10-балльной шкале, а в процентах - так называемый \"рейтинг ожидания\". Как правило, он не совпадает с итоговой оценкой, поэтому заменим эти значения на пропуски."
   ]
  },
  {
   "cell_type": "markdown",
   "metadata": {},
   "source": [
    "<div class=\"alert alert-success\"; style=\"border-left: 7px solid green\">\n",
    "<h3>✔ Комментарий ревьюера</h3>\n",
    "    \n",
    "На КиноПоиске такой рейтинг это рейтинг ожидания, поэтому может быть корректнее заменить такие значения пропуском, т.к. такой рейтинг с обычным не совпадает как правило. На пропуски можно заменить, сделав `data['ratings'] = pd.to_numeric(data['datings'], errors='coerce')`\n",
    "</div>    \n"
   ]
  },
  {
   "cell_type": "code",
   "execution_count": 13,
   "metadata": {},
   "outputs": [
    {
     "data": {
      "text/plain": [
       "dtype('float64')"
      ]
     },
     "execution_count": 13,
     "metadata": {},
     "output_type": "execute_result"
    }
   ],
   "source": [
    "data['ratings'] = pd.to_numeric(data['ratings'], errors='coerce')\n",
    "data['ratings'].dtype"
   ]
  },
  {
   "cell_type": "markdown",
   "metadata": {},
   "source": [
    "<div class=\"alert alert-success\"; style=\"border-left: 7px solid green\">\n",
    "<h3>✔ Комментарий ревьюера</h3>\n",
    "    \n",
    "А заменить проценты можно таким трюком:</div>    \n"
   ]
  },
  {
   "cell_type": "code",
   "execution_count": 14,
   "metadata": {},
   "outputs": [
    {
     "data": {
      "text/plain": [
       "0    9.9\n",
       "1    5.6\n",
       "dtype: float64"
      ]
     },
     "execution_count": 14,
     "metadata": {},
     "output_type": "execute_result"
    }
   ],
   "source": [
    "# Код ревьюера\n",
    "\n",
    "pd.Series(['99%',5.6], dtype='string').str.replace('%','e-1').astype(float)"
   ]
  },
  {
   "cell_type": "markdown",
   "metadata": {},
   "source": [
    "<div class = \"alert alert-info\" style=\"border-left: 7px solid blue\">\n",
    "<h3>Комментарий студента</h3>\n",
    "    \n",
    "Первый вариант (замена % на пропуски) мне показался более логичным, поэтому  я применила его.\n",
    "</div>"
   ]
  },
  {
   "cell_type": "markdown",
   "metadata": {},
   "source": [
    "<div class=\"alert alert-success\"; style=\"border-left: 7px solid green\">\n",
    "<h3>✔ Комментарий ревьюера V.2</h3>\n",
    "    \n",
    "👍 \n",
    "</div>    \n"
   ]
  },
  {
   "cell_type": "markdown",
   "metadata": {},
   "source": [
    "Значения в столбцах *refundable_support*, *nonrefundable_support* и *budget*, возможно, было бы проще воспринимать в целочисленном виде, однако, пока изменить тип данных для них изменить невозможно из-за присутствующих пропусков."
   ]
  },
  {
   "cell_type": "markdown",
   "metadata": {},
   "source": [
    "<div class=\"alert alert-success\"; style=\"border-left: 7px solid green\">\n",
    "<h3>✔ Комментарий ревьюера</h3>\n",
    "    \n",
    "Если хочется изменить тип только для визуального удобства, то чтобы не плодить заглушек, проще всего отформатировать чила при выводе, например:</div>    \n"
   ]
  },
  {
   "cell_type": "code",
   "execution_count": 15,
   "metadata": {},
   "outputs": [
    {
     "data": {
      "text/html": [
       "<style  type=\"text/css\" >\n",
       "</style><table id=\"T_7993f_\" ><thead>    <tr>        <th class=\"blank level0\" ></th>        <th class=\"col_heading level0 col0\" >col_1</th>    </tr></thead><tbody>\n",
       "                <tr>\n",
       "                        <th id=\"T_7993f_level0_row0\" class=\"row_heading level0 row0\" >0</th>\n",
       "                        <td id=\"T_7993f_row0_col0\" class=\"data row0 col0\" >123,123,123</td>\n",
       "            </tr>\n",
       "    </tbody></table>"
      ],
      "text/plain": [
       "<pandas.io.formats.style.Styler at 0x7f17603b66d0>"
      ]
     },
     "execution_count": 15,
     "metadata": {},
     "output_type": "execute_result"
    }
   ],
   "source": [
    "# Код ревьюера\n",
    "\n",
    "pd.DataFrame({'col_1' : [123123123.00]}).style.format('{:,.0f}')"
   ]
  },
  {
   "cell_type": "markdown",
   "metadata": {
    "id": "i0MOLbF-gFyP"
   },
   "source": [
    "#### Шаг 2.2. Изучите пропуски в датафрейме\n",
    "\n",
    "- Объясните, почему заполнили пропуски определённым образом или почему не стали этого делать."
   ]
  },
  {
   "cell_type": "code",
   "execution_count": 16,
   "metadata": {},
   "outputs": [
    {
     "data": {
      "text/plain": [
       "title                       0\n",
       "puNumber                    1\n",
       "show_start_date             0\n",
       "type                        0\n",
       "film_studio                18\n",
       "production_country          2\n",
       "director                    9\n",
       "producer                  568\n",
       "age_restriction             0\n",
       "refundable_support       7154\n",
       "nonrefundable_support    7154\n",
       "budget                   7154\n",
       "financing_source         7154\n",
       "ratings                   996\n",
       "genres                    976\n",
       "box_office               4328\n",
       "dtype: int64"
      ]
     },
     "execution_count": 16,
     "metadata": {},
     "output_type": "execute_result"
    }
   ],
   "source": [
    "# пропуски\n",
    "data.isnull().sum()"
   ]
  },
  {
   "cell_type": "code",
   "execution_count": 17,
   "metadata": {},
   "outputs": [
    {
     "data": {
      "text/html": [
       "<style  type=\"text/css\" >\n",
       "#T_7a1e6_row0_col0,#T_7a1e6_row1_col0,#T_7a1e6_row2_col0,#T_7a1e6_row3_col0,#T_7a1e6_row4_col0,#T_7a1e6_row5_col0,#T_7a1e6_row6_col0,#T_7a1e6_row8_col0{\n",
       "            background-color:  #3b4cc0;\n",
       "            color:  #f1f1f1;\n",
       "        }#T_7a1e6_row7_col0{\n",
       "            background-color:  #5470de;\n",
       "            color:  #000000;\n",
       "        }#T_7a1e6_row9_col0,#T_7a1e6_row10_col0,#T_7a1e6_row11_col0,#T_7a1e6_row12_col0{\n",
       "            background-color:  #b40426;\n",
       "            color:  #f1f1f1;\n",
       "        }#T_7a1e6_row13_col0,#T_7a1e6_row14_col0{\n",
       "            background-color:  #6485ec;\n",
       "            color:  #000000;\n",
       "        }#T_7a1e6_row15_col0{\n",
       "            background-color:  #f2cab5;\n",
       "            color:  #000000;\n",
       "        }</style><table id=\"T_7a1e6_\" ><thead>    <tr>        <th class=\"blank level0\" ></th>        <th class=\"col_heading level0 col0\" >0</th>    </tr></thead><tbody>\n",
       "                <tr>\n",
       "                        <th id=\"T_7a1e6_level0_row0\" class=\"row_heading level0 row0\" >title</th>\n",
       "                        <td id=\"T_7a1e6_row0_col0\" class=\"data row0 col0\" >0.000000</td>\n",
       "            </tr>\n",
       "            <tr>\n",
       "                        <th id=\"T_7a1e6_level0_row1\" class=\"row_heading level0 row1\" >puNumber</th>\n",
       "                        <td id=\"T_7a1e6_row1_col0\" class=\"data row1 col0\" >0.000000</td>\n",
       "            </tr>\n",
       "            <tr>\n",
       "                        <th id=\"T_7a1e6_level0_row2\" class=\"row_heading level0 row2\" >show_start_date</th>\n",
       "                        <td id=\"T_7a1e6_row2_col0\" class=\"data row2 col0\" >0.000000</td>\n",
       "            </tr>\n",
       "            <tr>\n",
       "                        <th id=\"T_7a1e6_level0_row3\" class=\"row_heading level0 row3\" >type</th>\n",
       "                        <td id=\"T_7a1e6_row3_col0\" class=\"data row3 col0\" >0.000000</td>\n",
       "            </tr>\n",
       "            <tr>\n",
       "                        <th id=\"T_7a1e6_level0_row4\" class=\"row_heading level0 row4\" >film_studio</th>\n",
       "                        <td id=\"T_7a1e6_row4_col0\" class=\"data row4 col0\" >0.000000</td>\n",
       "            </tr>\n",
       "            <tr>\n",
       "                        <th id=\"T_7a1e6_level0_row5\" class=\"row_heading level0 row5\" >production_country</th>\n",
       "                        <td id=\"T_7a1e6_row5_col0\" class=\"data row5 col0\" >0.000000</td>\n",
       "            </tr>\n",
       "            <tr>\n",
       "                        <th id=\"T_7a1e6_level0_row6\" class=\"row_heading level0 row6\" >director</th>\n",
       "                        <td id=\"T_7a1e6_row6_col0\" class=\"data row6 col0\" >0.000000</td>\n",
       "            </tr>\n",
       "            <tr>\n",
       "                        <th id=\"T_7a1e6_level0_row7\" class=\"row_heading level0 row7\" >producer</th>\n",
       "                        <td id=\"T_7a1e6_row7_col0\" class=\"data row7 col0\" >8.000000</td>\n",
       "            </tr>\n",
       "            <tr>\n",
       "                        <th id=\"T_7a1e6_level0_row8\" class=\"row_heading level0 row8\" >age_restriction</th>\n",
       "                        <td id=\"T_7a1e6_row8_col0\" class=\"data row8 col0\" >0.000000</td>\n",
       "            </tr>\n",
       "            <tr>\n",
       "                        <th id=\"T_7a1e6_level0_row9\" class=\"row_heading level0 row9\" >refundable_support</th>\n",
       "                        <td id=\"T_7a1e6_row9_col0\" class=\"data row9 col0\" >96.000000</td>\n",
       "            </tr>\n",
       "            <tr>\n",
       "                        <th id=\"T_7a1e6_level0_row10\" class=\"row_heading level0 row10\" >nonrefundable_support</th>\n",
       "                        <td id=\"T_7a1e6_row10_col0\" class=\"data row10 col0\" >96.000000</td>\n",
       "            </tr>\n",
       "            <tr>\n",
       "                        <th id=\"T_7a1e6_level0_row11\" class=\"row_heading level0 row11\" >budget</th>\n",
       "                        <td id=\"T_7a1e6_row11_col0\" class=\"data row11 col0\" >96.000000</td>\n",
       "            </tr>\n",
       "            <tr>\n",
       "                        <th id=\"T_7a1e6_level0_row12\" class=\"row_heading level0 row12\" >financing_source</th>\n",
       "                        <td id=\"T_7a1e6_row12_col0\" class=\"data row12 col0\" >96.000000</td>\n",
       "            </tr>\n",
       "            <tr>\n",
       "                        <th id=\"T_7a1e6_level0_row13\" class=\"row_heading level0 row13\" >ratings</th>\n",
       "                        <td id=\"T_7a1e6_row13_col0\" class=\"data row13 col0\" >13.000000</td>\n",
       "            </tr>\n",
       "            <tr>\n",
       "                        <th id=\"T_7a1e6_level0_row14\" class=\"row_heading level0 row14\" >genres</th>\n",
       "                        <td id=\"T_7a1e6_row14_col0\" class=\"data row14 col0\" >13.000000</td>\n",
       "            </tr>\n",
       "            <tr>\n",
       "                        <th id=\"T_7a1e6_level0_row15\" class=\"row_heading level0 row15\" >box_office</th>\n",
       "                        <td id=\"T_7a1e6_row15_col0\" class=\"data row15 col0\" >58.000000</td>\n",
       "            </tr>\n",
       "    </tbody></table>"
      ],
      "text/plain": [
       "<pandas.io.formats.style.Styler at 0x7f175fe9de50>"
      ]
     },
     "execution_count": 17,
     "metadata": {},
     "output_type": "execute_result"
    }
   ],
   "source": [
    "# количество пропусков в % по столбцам\n",
    "pd.DataFrame(round(data.isna().mean()*100,)).style.background_gradient('coolwarm')"
   ]
  },
  {
   "cell_type": "markdown",
   "metadata": {},
   "source": [
    "Наибольшее (и при этом одинаковое) количество пропусков наблюдается в столбцах *refundable_support*, *nonrefundable_support*, *budget* и *financing_source*. В них представлены только данные фильмов, получивших государственную поддержку. Это важный признак, поэтому заполнять в них пропуски не надо.\n",
    "\n",
    "На втором месте по кол-ву пропусков столбец *box_office*: больше половины значений отсутствует. Эти данные были перенесены из второй таблицы, однако, не для всех рассматрваемых фильмов указана эта информация. Заполнять пропуски в данном столбце тоже не стоит.\n",
    "\n",
    "Пропуски также присутствуют в столбцах *ratings*, *genres* и *producer* (8-13%). Единичные пропущенные значения есть и в *film_studio*, *production_country* и *director* (<1%). Пропуски в категорийных столбцах можно заменить на *unknown*, а вот в количественном столбце *ratings* не стоит: поскольку рейтинг зависит от содержания фильма и восприятия его зрителем, предположить корректную замену сложно."
   ]
  },
  {
   "cell_type": "code",
   "execution_count": 18,
   "metadata": {},
   "outputs": [],
   "source": [
    "# замена пропусков в категориальных столбцах\n",
    "data['producer'] = data['producer'].fillna('unknown')\n",
    "data['film_studio'] = data['film_studio'].fillna('unknown')\n",
    "data['production_country'] = data['production_country'].fillna('unknown')\n",
    "data['director'] = data['director'].fillna('unknown')\n",
    "data['genres'] = data['genres'].fillna('unknown')"
   ]
  },
  {
   "cell_type": "markdown",
   "metadata": {},
   "source": [
    "<div class=\"alert alert-warning\"; style=\"border-left: 7px solid yellow\" >\n",
    "<h3>!! Комментарий ревьюера</h3>\n",
    "    \n",
    "Рейтинг зависит от содержания фильма и восприятия его зрителем, поэтому заменять не стоит. В целом замену нужно делать только тогда, когда есть 100% уверенность в её точности и корректности. С точки зрения кода то, что выше, можно написать как:\n",
    "    \n",
    "```python\n",
    "\n",
    "data['ratings'] = data['ratings'].fillna(data.groupby('age_restriction')['ratings'].transform('median'))\n",
    "\n",
    "```\n",
    "    \n",
    "Дальше в курсе статитика будет и можно будет более строго рассуждать на тему того, достаточно нам данных для получения статистически значимых результатов или нет\n",
    "</div>   "
   ]
  },
  {
   "cell_type": "markdown",
   "metadata": {},
   "source": [
    "<div class = \"alert alert-info\" style=\"border-left: 7px solid blue\">\n",
    "<h3>Комментарий студента</h3>\n",
    "    \n",
    "Когда выполняла проект, достаточно долго думала, стоит ли заменять пропуски в рейтингах или нет. Первой идеей было заменить их на медианные значения по жанрам, но как раз-таки информация о них также отсутствует в нужных строчках. Буду учитывать впредь, что оставлять пропуски в столбцах - не так уж страшно )\n",
    "</div>"
   ]
  },
  {
   "cell_type": "markdown",
   "metadata": {},
   "source": [
    "<div class=\"alert alert-success\"; style=\"border-left: 7px solid green\">\n",
    "<h3>✔ Комментарий ревьюера V.2</h3>\n",
    "    \n",
    "👍 \n",
    "</div>    \n"
   ]
  },
  {
   "cell_type": "code",
   "execution_count": 19,
   "metadata": {},
   "outputs": [
    {
     "data": {
      "text/plain": [
       "title                       0\n",
       "puNumber                    1\n",
       "show_start_date             0\n",
       "type                        0\n",
       "film_studio                 0\n",
       "production_country          0\n",
       "director                    0\n",
       "producer                    0\n",
       "age_restriction             0\n",
       "refundable_support       7154\n",
       "nonrefundable_support    7154\n",
       "budget                   7154\n",
       "financing_source         7154\n",
       "ratings                   996\n",
       "genres                      0\n",
       "box_office               4328\n",
       "dtype: int64"
      ]
     },
     "execution_count": 19,
     "metadata": {},
     "output_type": "execute_result"
    }
   ],
   "source": [
    "# итого:\n",
    "data.isnull().sum()"
   ]
  },
  {
   "cell_type": "markdown",
   "metadata": {
    "id": "4c6k1t9ygFyQ"
   },
   "source": [
    "#### Шаг 2.3. Изучите дубликаты в датафрейме\n",
    "- Проверьте, есть ли в данных дубликаты. Опишите причины, которые могли повлиять на появление дублей."
   ]
  },
  {
   "cell_type": "code",
   "execution_count": 20,
   "metadata": {
    "id": "aKck8RIdgFyQ"
   },
   "outputs": [
    {
     "data": {
      "text/plain": [
       "0"
      ]
     },
     "execution_count": 20,
     "metadata": {},
     "output_type": "execute_result"
    }
   ],
   "source": [
    "# проверка на явные дубликаты\n",
    "data.duplicated().sum()"
   ]
  },
  {
   "cell_type": "markdown",
   "metadata": {},
   "source": [
    "Явных дубликатов, на первый взгляд, не обнаружено. Однако могли остаться строки с одинаковыми номерами прокатных удостоверений, которые тоже могут быть дубликатами, но с некоторыми ошибками в записи."
   ]
  },
  {
   "cell_type": "code",
   "execution_count": 21,
   "metadata": {},
   "outputs": [
    {
     "data": {
      "text/plain": [
       "221154310.0    2\n",
       "221054410.0    2\n",
       "111013418.0    1\n",
       "121007713.0    1\n",
       "121019317.0    1\n",
       "              ..\n",
       "121008815.0    1\n",
       "124010519.0    1\n",
       "124001812.0    1\n",
       "112000515.0    1\n",
       "221164010.0    1\n",
       "Name: puNumber, Length: 7483, dtype: int64"
      ]
     },
     "execution_count": 21,
     "metadata": {},
     "output_type": "execute_result"
    }
   ],
   "source": [
    "# явные дубликаты в строке с номером прокатного удостоверения\n",
    "data['puNumber'].value_counts()"
   ]
  },
  {
   "cell_type": "code",
   "execution_count": 22,
   "metadata": {},
   "outputs": [
    {
     "data": {
      "text/html": [
       "<div>\n",
       "<style scoped>\n",
       "    .dataframe tbody tr th:only-of-type {\n",
       "        vertical-align: middle;\n",
       "    }\n",
       "\n",
       "    .dataframe tbody tr th {\n",
       "        vertical-align: top;\n",
       "    }\n",
       "\n",
       "    .dataframe thead th {\n",
       "        text-align: right;\n",
       "    }\n",
       "</style>\n",
       "<table border=\"1\" class=\"dataframe\">\n",
       "  <thead>\n",
       "    <tr style=\"text-align: right;\">\n",
       "      <th></th>\n",
       "      <th>title</th>\n",
       "      <th>puNumber</th>\n",
       "      <th>show_start_date</th>\n",
       "      <th>type</th>\n",
       "      <th>film_studio</th>\n",
       "      <th>production_country</th>\n",
       "      <th>director</th>\n",
       "      <th>producer</th>\n",
       "      <th>age_restriction</th>\n",
       "      <th>refundable_support</th>\n",
       "      <th>nonrefundable_support</th>\n",
       "      <th>budget</th>\n",
       "      <th>financing_source</th>\n",
       "      <th>ratings</th>\n",
       "      <th>genres</th>\n",
       "      <th>box_office</th>\n",
       "    </tr>\n",
       "  </thead>\n",
       "  <tbody>\n",
       "    <tr>\n",
       "      <th>4638</th>\n",
       "      <td>Как жениться и остаться холостым</td>\n",
       "      <td>221154310.0</td>\n",
       "      <td>2010-12-17 12:00:00+00:00</td>\n",
       "      <td>Художественный</td>\n",
       "      <td>Ше Вам, Скрипт Ассосье, Тэ Фэ 1 Фильм Продюксь...</td>\n",
       "      <td>Франция</td>\n",
       "      <td>Эрик Лартиго</td>\n",
       "      <td>Амандин Било, Алан Шаба</td>\n",
       "      <td>«16+» - для детей старше 16 лет</td>\n",
       "      <td>NaN</td>\n",
       "      <td>NaN</td>\n",
       "      <td>NaN</td>\n",
       "      <td>NaN</td>\n",
       "      <td>7.0</td>\n",
       "      <td>мелодрама,комедия</td>\n",
       "      <td>NaN</td>\n",
       "    </tr>\n",
       "    <tr>\n",
       "      <th>4639</th>\n",
       "      <td>Иоанна - женщина на папском престоле /По роман...</td>\n",
       "      <td>221154310.0</td>\n",
       "      <td>2010-12-17 12:00:00+00:00</td>\n",
       "      <td>Художественный</td>\n",
       "      <td>Константин Фильм, А Эр Ди Дегето Фильм, Дюне ...</td>\n",
       "      <td>Германия - Великобритания - Италия - Испания</td>\n",
       "      <td>Зенке Вортманн</td>\n",
       "      <td>Оливер Бербен, Дорис Д.Хайнце, Фарук Элтан</td>\n",
       "      <td>«16+» - для детей старше 16 лет</td>\n",
       "      <td>NaN</td>\n",
       "      <td>NaN</td>\n",
       "      <td>NaN</td>\n",
       "      <td>NaN</td>\n",
       "      <td>7.6</td>\n",
       "      <td>драма,мелодрама,история</td>\n",
       "      <td>NaN</td>\n",
       "    </tr>\n",
       "    <tr>\n",
       "      <th>5067</th>\n",
       "      <td>Анализируй это!</td>\n",
       "      <td>221054410.0</td>\n",
       "      <td>2010-05-25 12:00:00+00:00</td>\n",
       "      <td>Художественный</td>\n",
       "      <td>Уорнер Бразерс, Вилладж Роудшоу Филмз ЛТД</td>\n",
       "      <td>США-Австралия</td>\n",
       "      <td>ХЭрольд Рэмис</td>\n",
       "      <td>Джейн Розенталь, Пола Уейнстейн</td>\n",
       "      <td>«16+» - для детей старше 16 лет</td>\n",
       "      <td>NaN</td>\n",
       "      <td>NaN</td>\n",
       "      <td>NaN</td>\n",
       "      <td>NaN</td>\n",
       "      <td>7.4</td>\n",
       "      <td>комедия,криминал</td>\n",
       "      <td>NaN</td>\n",
       "    </tr>\n",
       "    <tr>\n",
       "      <th>5068</th>\n",
       "      <td>Анализируй то!</td>\n",
       "      <td>221054410.0</td>\n",
       "      <td>2010-05-25 12:00:00+00:00</td>\n",
       "      <td>Художественный</td>\n",
       "      <td>Уорнер Бразерс, Виллидж Роадшоу Пикчерз, Эн-Пи...</td>\n",
       "      <td>США</td>\n",
       "      <td>Гарольд Реймис</td>\n",
       "      <td>Джейн Розенталь, Паул Уэйнстейн</td>\n",
       "      <td>«12+» - для детей старше 12 лет</td>\n",
       "      <td>NaN</td>\n",
       "      <td>NaN</td>\n",
       "      <td>NaN</td>\n",
       "      <td>NaN</td>\n",
       "      <td>6.8</td>\n",
       "      <td>комедия,криминал</td>\n",
       "      <td>NaN</td>\n",
       "    </tr>\n",
       "  </tbody>\n",
       "</table>\n",
       "</div>"
      ],
      "text/plain": [
       "                                                  title     puNumber  \\\n",
       "4638                   Как жениться и остаться холостым  221154310.0   \n",
       "4639  Иоанна - женщина на папском престоле /По роман...  221154310.0   \n",
       "5067                                    Анализируй это!  221054410.0   \n",
       "5068                                     Анализируй то!  221054410.0   \n",
       "\n",
       "               show_start_date            type  \\\n",
       "4638 2010-12-17 12:00:00+00:00  Художественный   \n",
       "4639 2010-12-17 12:00:00+00:00  Художественный   \n",
       "5067 2010-05-25 12:00:00+00:00  Художественный   \n",
       "5068 2010-05-25 12:00:00+00:00  Художественный   \n",
       "\n",
       "                                            film_studio  \\\n",
       "4638  Ше Вам, Скрипт Ассосье, Тэ Фэ 1 Фильм Продюксь...   \n",
       "4639   Константин Фильм, А Эр Ди Дегето Фильм, Дюне ...   \n",
       "5067          Уорнер Бразерс, Вилладж Роудшоу Филмз ЛТД   \n",
       "5068  Уорнер Бразерс, Виллидж Роадшоу Пикчерз, Эн-Пи...   \n",
       "\n",
       "                                production_country        director  \\\n",
       "4638                                       Франция    Эрик Лартиго   \n",
       "4639  Германия - Великобритания - Италия - Испания  Зенке Вортманн   \n",
       "5067                                 США-Австралия   ХЭрольд Рэмис   \n",
       "5068                                           США  Гарольд Реймис   \n",
       "\n",
       "                                        producer  \\\n",
       "4638                     Амандин Било, Алан Шаба   \n",
       "4639  Оливер Бербен, Дорис Д.Хайнце, Фарук Элтан   \n",
       "5067             Джейн Розенталь, Пола Уейнстейн   \n",
       "5068             Джейн Розенталь, Паул Уэйнстейн   \n",
       "\n",
       "                      age_restriction  refundable_support  \\\n",
       "4638  «16+» - для детей старше 16 лет                 NaN   \n",
       "4639  «16+» - для детей старше 16 лет                 NaN   \n",
       "5067  «16+» - для детей старше 16 лет                 NaN   \n",
       "5068  «12+» - для детей старше 12 лет                 NaN   \n",
       "\n",
       "      nonrefundable_support  budget financing_source  ratings  \\\n",
       "4638                    NaN     NaN              NaN      7.0   \n",
       "4639                    NaN     NaN              NaN      7.6   \n",
       "5067                    NaN     NaN              NaN      7.4   \n",
       "5068                    NaN     NaN              NaN      6.8   \n",
       "\n",
       "                       genres  box_office  \n",
       "4638        мелодрама,комедия         NaN  \n",
       "4639  драма,мелодрама,история         NaN  \n",
       "5067         комедия,криминал         NaN  \n",
       "5068         комедия,криминал         NaN  "
      ]
     },
     "execution_count": 22,
     "metadata": {},
     "output_type": "execute_result"
    }
   ],
   "source": [
    "data.query('puNumber in [221054410, 221154310]')"
   ]
  },
  {
   "cell_type": "markdown",
   "metadata": {},
   "source": [
    "В данных содержатся по 2 строки, в которых повторяется значение *puNumber*. Если в первом случае №221154310 соответствует двум абсолютно разным фильмам, то во втором - строки выглядят крайне похоже. Однако утверждать наверняка, что это один и тот же фильм нельзя, поэтому удалять ничего не будем. \n",
    "\n",
    "Оставшиеся же строки явными дубликатами являться точно не будут, т.к. номер прокатного удостоверения будет отличаться. "
   ]
  },
  {
   "cell_type": "markdown",
   "metadata": {},
   "source": [
    "<div class=\"alert alert-success\"; style=\"border-left: 7px solid green\">\n",
    "<h3>✔ Комментарий ревьюера</h3>\n",
    "    \n",
    "Фильмы в последних двух строках всё же разные. Т.к. нам отдельно прокатные удостоверения не нужны, то стоило оставить фильм\n",
    "</div>    "
   ]
  },
  {
   "cell_type": "markdown",
   "metadata": {},
   "source": [
    "<div class = \"alert alert-info\" style=\"border-left: 7px solid blue\">\n",
    "<h3>Комментарий студента</h3>\n",
    "    \n",
    "А выглядят так похоже.. \n",
    "</div>"
   ]
  },
  {
   "cell_type": "markdown",
   "metadata": {},
   "source": [
    "<div class=\"alert alert-success\"; style=\"border-left: 7px solid green\">\n",
    "<h3>✔ Комментарий ревьюера V.2</h3>\n",
    "    \n",
    ":) \n",
    "</div>    \n"
   ]
  },
  {
   "cell_type": "markdown",
   "metadata": {
    "id": "52fOPrEBgFyQ"
   },
   "source": [
    "#### Шаг 2.4. Изучите категориальные значения\n",
    "\n",
    "- Посмотрите, какая общая проблема встречается почти во всех категориальных столбцах;\n",
    "- Исправьте проблемные значения в поле `type`.\n",
    "\n",
    "<div id=\"accordion\">\n",
    "    <div class=\"card\">\n",
    "        <div class=\"card-header\" id=\"headingThree\">\n",
    "            <button class=\"btn btn-link collapsed\" data-toggle=\"collapse\" data-target=\"#collapseHint_1\" aria-expanded=\"false\" aria-controls=\"collapseHint_1\">Подсказка</button>\n",
    "        </div>\n",
    "        <div id=\"collapseHint_1\" class=\"collapse\" aria-labelledby=\"headingThree\" data-parent=\"#accordion\">\n",
    "            <div class=\"card-body\">\n",
    "В поле <code>type</code> есть несколько значений, у которых появился пробел в начале строки. Самый простой способ их «починить» -- использовать метод <a href=\"https://pandas.pydata.org/docs/reference/api/pandas.Series.str.strip.html#pandas.Series.str.strip\">.str.strip</a>. Этот метод удаляет все пробелы, которые встречаются в начале и в конце строки. Применяют его таким образом:<br>\n",
    "<code>df['type'].str.strip()</code>\n",
    "            </div>\n",
    "        </div>\n",
    "    </div>\n",
    "</div>"
   ]
  },
  {
   "cell_type": "markdown",
   "metadata": {
    "id": "PnXKIVdFgFyR"
   },
   "source": [
    "Несмотря на то, что явных дубликатов не обнаружено, в данных могли остаться неявные дубликаты в отдельных столбцах. Например, возникшие из-за ошибок записи или неверной выгрузки данных."
   ]
  },
  {
   "cell_type": "markdown",
   "metadata": {},
   "source": [
    "**Столбец *title***"
   ]
  },
  {
   "cell_type": "code",
   "execution_count": 23,
   "metadata": {},
   "outputs": [
    {
     "data": {
      "text/plain": [
       "6772"
      ]
     },
     "execution_count": 23,
     "metadata": {},
     "output_type": "execute_result"
    }
   ],
   "source": [
    "data['title'].nunique()"
   ]
  },
  {
   "cell_type": "code",
   "execution_count": 24,
   "metadata": {},
   "outputs": [
    {
     "data": {
      "text/plain": [
       "[' Я ПРЕПОД',\n",
       " '\"SOS\" над тайгой',\n",
       " '\"V\" значит вендетта',\n",
       " '\"АРТиШОК\" анимационный альманах авторских фильмов',\n",
       " '\"Бежин луг\" Сергея Эйзенштейна',\n",
       " '\"Державная\" Размышления 100 лет спустя',\n",
       " '\"Зеленое яблоко\" анимационный альманах выпуск № 7',\n",
       " '\"Машины песенки\". Серия \"Опять Новый Год!\"',\n",
       " '\"Море\"',\n",
       " '\"Сезон дождей\", \"Диета Матроскина\", \"Шарик хочет телефон\" из анимационного сериала \"Простоквашино\"',\n",
       " '\"Старый\" Новый год',\n",
       " '\"Уорнер Бразерс Пикчерз\" и \"Леджендари Пикчерз\": Тихоокеанский рубеж',\n",
       " '\"Фееринки\". Серия \"Фантик спешит на помощь\"',\n",
       " '\"Хороший день\", \"Бог из машины/Deus EX\", \"Голод\", \"Психотроника\", \"Темная ночь\"',\n",
       " '\"Чудовище из Простоквашино\", \"Ген героя\", \"Ненастоящий детектив\", \"Мама и Тама\", \"Как бы не стало зимы\" из анимационного сериала \"Простоквашино\"',\n",
       " '#ВСЁ_ИСПРАВИТЬ!?!',\n",
       " '#Москва-Руаян',\n",
       " '#ЯВОЛОНТЕР Истории неравнодушных',\n",
       " '(Не)жданный принц',\n",
       " '(Не)идеальный мужчина',\n",
       " '... в стиле JAZZ',\n",
       " '... и я там был',\n",
       " '... имени Сергея Герасимова',\n",
       " '007 Координаты Скайфолл',\n",
       " '007: Спектр',\n",
       " '1+1',\n",
       " '1+1. Нарушая правила',\n",
       " '1+1: Голливудская история',\n",
       " '10 000 км.: Любовь на расстоянии',\n",
       " '10 000 лет до н.э.',\n",
       " '10 лет спустя',\n",
       " '10 лет спустя.',\n",
       " '10 мгновений судьбы',\n",
       " '100 вещей и ничего лишнего',\n",
       " '100 лет Чувашской автономии',\n",
       " '100 лет дизайна',\n",
       " '100 миллионов евро',\n",
       " '1001 рецепт влюбленного кулинара',\n",
       " '11 минут',\n",
       " '11-11-11',\n",
       " '118 секунд, до... и после',\n",
       " '12 лет рабства',\n",
       " '12 мелодий любви',\n",
       " '12 месяцев',\n",
       " '12 месяцев. Новая сказка',\n",
       " '120/80',\n",
       " '127 часов',\n",
       " '128 ударов сердца в минуту',\n",
       " '13 грехов',\n",
       " '13 убийц',\n",
       " '13 часов: Тайные солдаты Бенгази',\n",
       " '13-й район: Кирпичные особняки',\n",
       " '13.',\n",
       " '14+',\n",
       " '1408 /По рассказу Стивена Кинга/',\n",
       " '1812: Уланская баллада',\n",
       " '1915',\n",
       " '1937. Время смерти (\"Судоходное кладбище\", \"Трагедия праздника\")',\n",
       " '2 + 2',\n",
       " '2 спальни, 1 ванная',\n",
       " '2+1',\n",
       " '20 000 дней на Земле',\n",
       " '2001 год: Космическая одиссея',\n",
       " '2012',\n",
       " '2016: Конец ночи',\n",
       " '20:17',\n",
       " '21 и больше',\n",
       " '21 и больше (в переводе Гоблина)',\n",
       " '21 мост',\n",
       " '22 мили',\n",
       " '22 минуты',\n",
       " '22 пули: Бессмертный',\n",
       " '22 ярда',\n",
       " '24 снега',\n",
       " '24 часа на жизнь',\n",
       " '28 Панфиловцев',\n",
       " '28 спален',\n",
       " '2:22 (2017)',\n",
       " '2рас: Легенда',\n",
       " '3 дня с Роми Шнайдер',\n",
       " '3 идиота',\n",
       " '3 сердца',\n",
       " '3 счастливых поросёнка',\n",
       " '30 безумных желаний',\n",
       " '30 свиданий',\n",
       " '300 спартанцев /По роману-комиксу Фрэнка Миллера и Линн Варли/',\n",
       " '300 спартанцев: Расцвет империи /По произведению Фрэнка Миллера \"Ксеркс\"/',\n",
       " '300 спартанцев: Расцвет империи /По произведению Фрэнка Миллера \"Ксеркс\"/ (на английском языке)',\n",
       " '300 спартанцев: Расцвет империи /По произведению Фрэнка Миллера \"Ксеркс\"/.',\n",
       " '302 БИС',\n",
       " '31: Праздник смерти',\n",
       " '321-я Сибирская, фильм первый \"Братья\"',\n",
       " '34 - й скорый',\n",
       " '36, Набережная Орфевр',\n",
       " '38-я параллель',\n",
       " '4 ДНЯ В МАЕ',\n",
       " '4.3.2.1.',\n",
       " '44 котёнка',\n",
       " '45 лет',\n",
       " '47 ронинов',\n",
       " '4:44. Последний день на Земле',\n",
       " '5 000 раз вокруг света',\n",
       " '5-я волна',\n",
       " '50 весенних дней',\n",
       " '50 первых поцелуев',\n",
       " '500 дней лета',\n",
       " '6 дней ',\n",
       " '695',\n",
       " '7 главных желаний',\n",
       " '7 дней и ночей с Мэрилин',\n",
       " '7 социопатов',\n",
       " '7 ящиков',\n",
       " '7-ой гном 3D',\n",
       " '72 метра (3 серии)',\n",
       " '72 часа',\n",
       " '8 1/2 (Восемь с половиной)',\n",
       " '8 лучших свиданий',\n",
       " '8 новых свиданий',\n",
       " '8 первых свиданий',\n",
       " '8 подруг Оушена',\n",
       " '9 месяцев строгого режима',\n",
       " '9/11',\n",
       " '901 километр',\n",
       " '999',\n",
       " 'All inclusive или Все Включено',\n",
       " 'Angry Birds 2 в кино',\n",
       " 'Angry Birds в кино',\n",
       " 'Aroused: Откровения лучших порномоделей',\n",
       " 'BEEF: РУССКИЙ ХИП-ХОП',\n",
       " 'BEST OF shnit 2017',\n",
       " 'BTS: Открой свою душу. Фильм',\n",
       " 'Best Erotic Shorts. Альманах',\n",
       " 'Best Of Shnit 2015. Лучшее Шнит 2015',\n",
       " 'Bjork. Biophilia Live',\n",
       " 'Blood-C: Последний темный',\n",
       " 'Bon Jovi. The Circle Tour',\n",
       " 'Cirque du Soleil: Сказочный мир в 3D',\n",
       " 'CitizenFour. Правда Сноудена',\n",
       " 'Coldplay: A Head Full Of Dreams',\n",
       " 'DED_005',\n",
       " 'Def Leppard. Viva Hysteria',\n",
       " 'Die erste liebe (Первая любовь)',\n",
       " 'Dream Theatre. Live At Luna Park',\n",
       " 'Duran Duran. Unstaged',\n",
       " 'Elton John. The Million Dollar Piano',\n",
       " 'Everybody In The Place: Рейв как забастовка',\n",
       " 'Fair play (Честная игра)',\n",
       " 'Ford против Ferrari',\n",
       " 'G.I.Joe: Бросок кобры 2',\n",
       " 'Generation П',\n",
       " 'George Michael: Live In London',\n",
       " 'Gimme Danger. История Игги и The Stooges',\n",
       " \"Guns N'Roses. 2012 Tour\",\n",
       " 'Italian Best Shorts 3: Итальянские фантазии (Лучшие итальянские короткометражки 3: Итальянские фантазии)',\n",
       " 'Italian best shorts 2: Любовь в Вечном городе (Лучшие итальянские короткометражки - 2: Любовь в Вечном городе',\n",
       " 'KISS Rocks Vegas',\n",
       " 'Kinematic Shorts: Lucly Seven. Программа короткометражного кино',\n",
       " 'Kinematic Shorts: Spring. Shorts. Fun. Программа короткометражного кино',\n",
       " 'Kingsman: Золотое кольцо',\n",
       " 'Kingsman: Секретная служба',\n",
       " 'LIAF-2014. Программа Лондонского международного анимационного фестиваля',\n",
       " 'Led Zeppelin. Celebration Day',\n",
       " 'Lil Peep: всё для всех',\n",
       " 'MAMMA MIA! 2',\n",
       " 'Magnetisme animal/Магнетизм',\n",
       " 'Metallica: Сквозь невозможное',\n",
       " 'Muse. Live at Rome',\n",
       " 'My Little Pony в кино',\n",
       " 'Mylene Farmer. Timeless 2013 the Movie',\n",
       " 'Need for Speed: Жажда скорости',\n",
       " 'No comment (Нет комментариев)',\n",
       " 'One Direction: Where We Are',\n",
       " 'One Direction: Это мы',\n",
       " 'Oscar Shorts - 2014. Фильмы',\n",
       " 'Oscar Shorts - Анимация',\n",
       " 'Oscar Shorts - Фильмы',\n",
       " 'P.S. Я люблю тебя /По одноименному произведению Сесилии Ахерн/',\n",
       " 'PRO КИНО',\n",
       " 'Paul McCartney. Rockshow',\n",
       " 'Prada и чувства',\n",
       " 'Pro любовь',\n",
       " 'Queen. Live in Bohemia',\n",
       " 'Queen. Live in Budapest 1986',\n",
       " 'Queen. Rock Montreal',\n",
       " 'SHNIT SHORTS 2019. Анимационная программа',\n",
       " 'SHNIT SHORTS 2019. Игровое кино',\n",
       " 'SLOVE. Прямо в сердце',\n",
       " 'SOS, ДЕД МОРОЗ ИЛИ ВСЁ СБУДЕТСЯ!',\n",
       " 'SaLsa Belly Dance - часть 1 и 2',\n",
       " 'Sex Doll / Влюбленные одиночки',\n",
       " 'Stars in Shorts',\n",
       " 'Starперцы',\n",
       " 'SuperАлиби',\n",
       " 'SuperЗять',\n",
       " 'Superнянь',\n",
       " 'Superнянь 2',\n",
       " \"The Chemical Brothers - Don't Think (Не думай)\",\n",
       " \"The Doors - Live At the Bowl'68. Концерт\",\n",
       " \"The Doors. When You' re Strange\",\n",
       " \"The Prodigy - World's On Fire (Продиджи. Миры в огне). Фильм-концерт\",\n",
       " 'Tomb Raider: Лара Крофт',\n",
       " 'Turbo (Турбо)',\n",
       " 'U2 3D.',\n",
       " 'UglyDolls. Куклы с характером',\n",
       " 'Update/Delete (Апдейт/Делит)',\n",
       " 'Va-Банк',\n",
       " 'WINX Club 3D: Волшебное приключение',\n",
       " 'WTF! Какого черта?',\n",
       " 'Weekend  (Уик-энд)',\n",
       " 'Weekend  (Уик-энд).',\n",
       " 'Whisky с молоком',\n",
       " 'Winx Club: Спасаем животных!',\n",
       " 'Winx Club: Спасаем океан',\n",
       " 'Yesterday (Вчера)',\n",
       " 'Zолушка',\n",
       " 'Zомбилэнд: Контрольный выстрел',\n",
       " 'g (джи)',\n",
       " 'Ёлки',\n",
       " 'Ёлки - 2',\n",
       " 'Ёлки 1914',\n",
       " 'Ёлки 3',\n",
       " 'Ёлки 5',\n",
       " 'Ёлки Новые',\n",
       " 'Ёлки Последние',\n",
       " 'А был ли Каротин?',\n",
       " 'А вот и она',\n",
       " 'А если это любовь?',\n",
       " 'А зори здесь тихие..._',\n",
       " 'А мама лучше! (рабочее название \"Вся прелесть любви\")',\n",
       " 'А.Адан. Жизель. Хореография Матса Эка',\n",
       " 'А.К.А',\n",
       " 'А.С.Пушкин \"Сказка о Царе Салтане\"',\n",
       " 'АБ ОВО',\n",
       " 'АНАТОМИЯ ИЗМЕНЫ',\n",
       " 'АРИФМЕТИКА СВОБОДЫ',\n",
       " 'АРМЕН и Я',\n",
       " 'АТАКА ТИТАНОВ. ФИЛЬМ ПЕРВЫЙ. ЖЕСТОКИЙ МИР',\n",
       " 'АТОМНЫЙ ИВАН',\n",
       " 'Абатуар. Лабиринт страха',\n",
       " 'Аббатство Даунтон',\n",
       " 'Абсолютная власть',\n",
       " 'Аванпост',\n",
       " 'Авантюристы.',\n",
       " 'Аварийное состояние',\n",
       " 'Авария - дочь мента',\n",
       " 'Аватар. Специальная версия',\n",
       " 'Аватар_',\n",
       " 'Август /По пьесе Трэйси Леттс/',\n",
       " 'Август. Восьмого',\n",
       " 'Автобан',\n",
       " 'Автобиография лжеца 3D',\n",
       " 'Автомобиль, скрипка и собака Клякса',\n",
       " 'Автостопом по Галактике',\n",
       " 'Агасфер',\n",
       " 'Агент 044: Операция Гегард',\n",
       " 'Агент 117: Миссия в Рио',\n",
       " 'Агент Джонни Инглиш 2: Перезагрузка',\n",
       " 'Агент Джонни Инглиш 3.0',\n",
       " 'Агент Джонни Инглиш: Перезагрузка',\n",
       " 'Агент Мамбо',\n",
       " 'Агент Эмерсон',\n",
       " 'Агент под прикрытием',\n",
       " 'Агенты А.Н.К.Л',\n",
       " 'Агитатор',\n",
       " 'Агора',\n",
       " 'Агорафобия',\n",
       " 'Адвокат Дьявола /По роману Эндрю Нейдермана/',\n",
       " 'Аджами',\n",
       " 'Адмирал Ушаков',\n",
       " 'Адмиралъ',\n",
       " 'Адольф Адан. Жизель /По мотивам легенды, пересказанной Генрихом Гейне/. Постановка Royal Opera House',\n",
       " 'Адольф Адан. Жизель в 3D. Постановка Мариинского театра. Хореография Жана Коралли, Жюля Перро, Мариуса Петипа',\n",
       " 'Адский бункер: Черное Солнце',\n",
       " 'Адъютант его превосходительства',\n",
       " 'Адъютант его превосходительства.',\n",
       " 'Азартные игры',\n",
       " 'Азбука смерти',\n",
       " 'Азор (Azor)',\n",
       " 'Аисты',\n",
       " 'Ай Вэйвэй: Никогда не извиняйся',\n",
       " 'Айболит - 66',\n",
       " 'Айка',\n",
       " 'Айрис',\n",
       " 'Айсылу. Фильм',\n",
       " 'Академия вампиров',\n",
       " 'Аквамен',\n",
       " 'Акварель',\n",
       " 'Аквариум.',\n",
       " 'Акрам Хан: Родом из Карри Хауса',\n",
       " 'Аксель',\n",
       " 'Акт убийства',\n",
       " 'Акулы',\n",
       " 'Акулы 3D',\n",
       " 'Акция',\n",
       " 'Аладдин',\n",
       " 'Албазинские скаски',\n",
       " 'Алекс и Эмма',\n",
       " 'Александр Буйнов \"Юбилейный концерт в Кремле. LIVE.\"',\n",
       " 'Александр Калягин и Et Cetera',\n",
       " 'Александр Невский (восстановленная версия)',\n",
       " 'Александр и ужасный, кошмарный, нехороший, очень плохой день',\n",
       " 'Алешкина любовь',\n",
       " 'Али, рули!',\n",
       " 'Алиби',\n",
       " 'Алиса в Зазеркалье (2016)',\n",
       " 'Алиса в стране чудес /По книгам Льюиса Кэрролла \"Алиса в стране чудес\" и \"Алиса в Зазеркалье\"/',\n",
       " 'Алиса в стране чудес /По одноименному произведению Льюиса Кэрола/',\n",
       " 'Алиса знает, что делать! Зеленая месть',\n",
       " 'Алиса знает, что делать! Серии \"Подмена растронаса\", \"Старики-разбойники\"',\n",
       " 'Алиса знает, что делать! Серии \"Энергия прошлого\", \"Устаревшие модели\", \"Долой креатив!\"',\n",
       " 'Алиса знает, что делать! Серия \"Гуманитарная помощь\"',\n",
       " 'Алиса знает, что делать! Серия \"Зеленая месть\"',\n",
       " 'Алита: Боевой ангел',\n",
       " 'Алла Пугачёва. Тот самый концерт',\n",
       " 'Алмазы для Марии',\n",
       " 'Алоис Небель и его призраки',\n",
       " 'Алые паруса',\n",
       " 'Альберт ГОГУАДЗЕ. ПЭРИ-ПЭРТАН',\n",
       " 'Альдабра: Путешествие по таинственному острову',\n",
       " 'Альфа',\n",
       " 'Альфа и Омега',\n",
       " 'АльфаГо',\n",
       " 'Амазония: Инструкция по выживанию',\n",
       " 'Амаль',\n",
       " 'Амальгама',\n",
       " 'Амбивалентность',\n",
       " 'Амели',\n",
       " 'Амелия',\n",
       " 'Америка',\n",
       " 'Американец (по роману Мартина Бута \"Очень скрытный джентльмен\")',\n",
       " 'Американская дочь',\n",
       " 'Американская пастораль',\n",
       " 'Американский грайдхаус',\n",
       " 'Американский пирог: Все в сборе',\n",
       " 'Амилькаре Понкьелли. Джоконда /По пьесе Виктора Гюго \"Анджело, тиран Падуанский\"/. Постановка Парижской национальной оперы',\n",
       " 'Амун',\n",
       " 'Амундсен',\n",
       " 'Анаболики. Реальная история',\n",
       " 'Анализируй то!',\n",
       " 'Анализируй это!',\n",
       " 'Ананас',\n",
       " 'Анархисты',\n",
       " 'Анархия в Жирмунае',\n",
       " 'Анатолий Крупнов. Он был',\n",
       " 'Анатомия любви /По произведению Скотта Спенсера/',\n",
       " 'Ангел',\n",
       " 'Ангел _',\n",
       " 'Ангел мой',\n",
       " 'Ангел-хранитель.',\n",
       " 'Ангел-хранитель._',\n",
       " 'Ангелы Революции',\n",
       " 'Ангелы Чарли',\n",
       " 'Ангельское личико',\n",
       " 'Андердог',\n",
       " 'Андре Рьё. Концерт в Маастрихте',\n",
       " 'Андреа Бочелли: Любовь в Портофино',\n",
       " 'Андрей Рублев.',\n",
       " 'Андроид',\n",
       " 'Анжелика, маркиза ангелов',\n",
       " 'Аниматор',\n",
       " 'Анимационный альманах \"Ладушки\" (ф. \"Дрип-Дроп\")',\n",
       " 'Анимационный альманах \"Ладушки\" (ф. \"Ладушки\")',\n",
       " 'Анимационный альманах \"Ладушки\" (ф. \"Про бабу, которая хотела улететь\")',\n",
       " 'Анимационный сериал \"Котяткины истории-2\"',\n",
       " 'Анимационный сериал \"Лунтик и его друзья\" (490-502 серии)',\n",
       " 'Анимационный фильм \"Динозавр Рики\", серия \"Пылесос\"',\n",
       " 'Анимационный фильм \"Динозавр Рики\", серия \"Ремонт\"',\n",
       " 'Анимационный фильм \"Динозавр Рики\", серия \"Спорт\"',\n",
       " 'Анимационный фильм \"Динозавр Рики\", серия \"Темные силы\"',\n",
       " 'Анимационный фильм \"Малышарики 3\", серия \"Брызгалки\"',\n",
       " 'Анимационный фильм \"Малышарики 3\", серия \"Дом для рыбки\"',\n",
       " 'Анимационный фильм \"Малышарики 3\", серия \"Нужная вещь\"',\n",
       " 'Анимационный фильм \"Малышарики 3\", серия \"Подарок\"',\n",
       " 'Анимационный фильм \"Малышарики 3\", серия \"Слон\"',\n",
       " 'Анимационный фильм \"Пинкод. Гуманитарные технологии 3\", серия \"Собратья по разуму. Часть 3\"',\n",
       " 'Анимационный фильм \"Пинкод. Гуманитарные технологии\", серии \"Бортовой дневник 4\", \"Игры с памятью\"',\n",
       " 'Анимационный фильм \"Сказки полуночи\"',\n",
       " 'Анимационный фильм \"Смешарики 7\", серия \"Красная книга\"',\n",
       " 'Анимационный фильм \"Смешарики 7\", серия \"Слишком фигурное катание\"',\n",
       " 'Анимационный фильм \"Смешарики. Начало\"',\n",
       " 'Анимационный фильм \"Смешарики. Спорт 2\", серия \"Эксклюзивное интервью/Таланты и поклонница\"',\n",
       " 'Анимированная жизнь',\n",
       " 'Анина: История самого необычного наказания /По произведению Сергио Лопеса Суареса/',\n",
       " 'Анкор, ещё анкор!',\n",
       " 'Анна',\n",
       " 'Анна Каренина /По одноименному роману Л.Н.Толстого/.',\n",
       " 'Анна Каренина. Интимный дневник',\n",
       " 'Анна Каренина. История Вронского',\n",
       " 'Анна Каренина. Мюзикл',\n",
       " 'Анна Павлова',\n",
       " 'Аннушка',\n",
       " 'Аномалия',\n",
       " 'Аномия',\n",
       " 'Анон',\n",
       " 'Аноним',\n",
       " 'Анонимные романтики',\n",
       " 'Антиганг',\n",
       " 'Антикиллер - 2.',\n",
       " 'Антон Чехов',\n",
       " 'Антон Чехов и Исаак Левитан: двойной портрет в интерьере эпохи',\n",
       " 'Антропоид',\n",
       " 'Антураж',\n",
       " 'Апартаменты 1303 3D',\n",
       " 'Апгрейд',\n",
       " 'Апокалипсис сегодня. Расширенная версия',\n",
       " 'Аполлон 18',\n",
       " 'Аполлон-11',\n",
       " 'Апостасия',\n",
       " 'Апостол Камчатки',\n",
       " 'Апофеоз',\n",
       " 'Аптекарь.',\n",
       " 'Арахисовый сокол',\n",
       " 'Арбузные корки',\n",
       " 'Арвентур. Тайна морского пейзажа',\n",
       " 'Аргентина',\n",
       " 'Арена смелых',\n",
       " 'Арестант no name',\n",
       " 'Арестуйте меня',\n",
       " 'Ариран',\n",
       " 'Ариэтти из страны лилипутов',\n",
       " 'Арктика 3D',\n",
       " 'Арло: говорящий поросенок',\n",
       " 'Армагеддец',\n",
       " 'Армия машин',\n",
       " 'Арриго Бойто. Мефистофель /По произведению Гёте/. Постановка оперного театра Сан-Франциско',\n",
       " 'Артемизия',\n",
       " 'Артист.',\n",
       " 'Артур Сеймур Салливан. Микадо. Постановка Sydney Opera House',\n",
       " 'Артур Чилингаров. Монологи',\n",
       " 'Артур и война двух миров',\n",
       " 'Аршалуйс',\n",
       " 'Асса',\n",
       " 'Астерикс и Обеликс в Британии 3D',\n",
       " 'Астерикс и тайное зелье',\n",
       " 'Астерикс: Земля Богов',\n",
       " 'Астрал',\n",
       " 'Астрал 3',\n",
       " 'Астрал 4: Последний ключ ',\n",
       " 'Астрал на улице Арлетт',\n",
       " 'Астрал. Глава 2',\n",
       " 'Астрал. Глава вторая',\n",
       " 'Астрал: Новое измерение',\n",
       " 'Ася_',\n",
       " 'Атака на Перл-Харбор',\n",
       " 'Атака пауков',\n",
       " 'Атака титанов. Фильм второй: Конец света',\n",
       " 'Атаман_',\n",
       " 'Атлантида',\n",
       " 'Атлантида: Затерянный мир',\n",
       " 'Атлантида: затерянный мир',\n",
       " 'Атлантика',\n",
       " 'Аттестат зрелости',\n",
       " 'Аустерлиц (2016)',\n",
       " 'Аутло/Outlaw',\n",
       " 'Афганский алфавит',\n",
       " 'Афера доктора Нока',\n",
       " 'Афера по-американски',\n",
       " 'Афера по-английски',\n",
       " 'Афера под прикрытием',\n",
       " 'Аферисты поневоле',\n",
       " 'Афтершок',\n",
       " 'Аэлита, не приставай к мужчинам',\n",
       " 'Аэронавты',\n",
       " 'Аэросмит. Рок для восходящего солнца',\n",
       " 'Аэротачки',\n",
       " 'БЕЛАЯ МАМА/WHITE МАМА',\n",
       " 'БЕЛЫЙ ЯГЕЛЬ',\n",
       " 'БЕРЦЫ',\n",
       " 'БИРМИНГЕМСКИЙ ОРНАМЕНТ',\n",
       " 'БИРМИНГЕМСКИЙ ОРНАМЕНТ. Часть 2',\n",
       " 'БЛИЖЕ, ЧЕМ КАЖЕТСЯ.',\n",
       " 'БОГАТЫРЯТА',\n",
       " 'БОЛЕРО17',\n",
       " 'БОЛЬШОЙ',\n",
       " 'БОРИС ГОДУНОВ',\n",
       " 'БУНКЕР-42. КАПСУЛА ВРЕМЕНИ',\n",
       " 'БЫК',\n",
       " 'Баария',\n",
       " 'Баба Яга',\n",
       " 'Бабадук',\n",
       " 'Бабай',\n",
       " 'Бабич',\n",
       " 'Бабло',\n",
       " 'Бабоньки',\n",
       " 'Бабочки',\n",
       " 'Бабочки (2016)',\n",
       " 'Бабушка легкого поведения',\n",
       " 'Бабушка лёгкого поведения 2',\n",
       " 'Бабье царство_',\n",
       " 'Баги',\n",
       " 'Багровая мята',\n",
       " 'Багровый пик',\n",
       " 'БайБайМэн',\n",
       " 'Байгал',\n",
       " 'Байкал - Сердце мира 3D',\n",
       " 'Байкал. Магия воды',\n",
       " 'Байкеры-3',\n",
       " 'Байконур. Падение \"Сатаны\"',\n",
       " 'Бал (2016)',\n",
       " 'Балбесы /По книге \"Вселенная Баллинга и Баха\"/',\n",
       " 'Балерина',\n",
       " 'Балет сегодня',\n",
       " 'Балканский рубеж',\n",
       " 'Балкон Европы',\n",
       " 'Баллада о доблестном рыцаре Айвенго',\n",
       " 'Баллистика: Экс против Сивер.',\n",
       " 'Бальные танцы',\n",
       " 'Бамблби',\n",
       " 'Банда Котиков',\n",
       " 'Банда Ольсена: рок-звезды зажигают',\n",
       " 'Бандитки.',\n",
       " 'Бандиты',\n",
       " 'Банды Индостана',\n",
       " 'Банкомат',\n",
       " 'Банщик Президента, или Пасечники Вселенной',\n",
       " 'Бар \"Гадкий койот\"',\n",
       " 'Барашек Шон.',\n",
       " 'Барбара.',\n",
       " 'Бармен.',\n",
       " 'Бархатный сезон',\n",
       " 'Баския: Взрыв реальности',\n",
       " 'Басни И.А.Крылова',\n",
       " 'Бассейн',\n",
       " 'Батальонъ',\n",
       " 'Бахубали: Рождение легенды',\n",
       " 'Бачата на 33-м километре',\n",
       " 'Бег иноходца',\n",
       " 'Беги без оглядки',\n",
       " 'Беги.',\n",
       " 'Беглец (2015)',\n",
       " 'Беглецы',\n",
       " 'Беглецы -',\n",
       " 'Бегство рогатых викингов или пять дней из джизни Джонни Воробьёва',\n",
       " 'Бегущая от реальности',\n",
       " 'Бегущий в лабиринте /По произведению Джеймса Дашнера/',\n",
       " 'Бегущий в лабиринте: Испытание огнем /По произведению Джеймса Дашнера/',\n",
       " 'Бегущий в лабиринте: Лекарство от смерти',\n",
       " 'Бегущий по лезвию 2049',\n",
       " 'Бедная богатая девочка',\n",
       " 'Бедуин',\n",
       " 'Без вины виноватые',\n",
       " 'Без границ',\n",
       " 'Без грома пушек',\n",
       " 'Без истерики!',\n",
       " 'Без компромиссов_',\n",
       " 'Без меня',\n",
       " 'Без мужчин',\n",
       " 'Без права на ошибку .',\n",
       " 'Без свидетелей',\n",
       " 'Без солнца',\n",
       " 'Без срока давности.',\n",
       " 'Без тормозов (2016)',\n",
       " 'Без ума от Тиффани',\n",
       " 'Безбашенные',\n",
       " 'Безбрачная неделя',\n",
       " 'Безопасность не гарантируется',\n",
       " 'Безответная любовь_',\n",
       " 'Безотцовщина',\n",
       " 'Безумная свадьба',\n",
       " 'Безумное свидание',\n",
       " 'Безумные преподы',\n",
       " 'Безумные соседи',\n",
       " 'Безумный Макс 2: Воин дороги',\n",
       " 'Безумный Макс: Дорога ярости',\n",
       " 'Безумцы',\n",
       " 'Безупречная жизнь',\n",
       " 'Белая белая ночь',\n",
       " 'Белая графиня',\n",
       " 'Белая лента',\n",
       " 'Белая мгла /По комиксу Грега Рукка и Стива Либера/',\n",
       " 'Белка и Стрелка. Звездные собаки',\n",
       " 'Белка и Стрелка. Лунные приключения',\n",
       " 'Белка и Стрелка. Тайны космоса (1-5 серии)',\n",
       " 'Белки в деле',\n",
       " 'Белль и Себастьян',\n",
       " 'Белль и Себастьян: Приключения продолжаются',\n",
       " 'Белль и Себастьян: друзья навек',\n",
       " 'Белое вино из Баббудойу',\n",
       " 'Белоснежка (Snow White; Blancanieves)',\n",
       " 'Белоснежка и Охотник 2',\n",
       " 'Белоснежка и охотник',\n",
       " 'Белоснежка. Сказка для взрослых',\n",
       " 'Белоснежка: Месть гномов',\n",
       " 'Белые ночи (2017)',\n",
       " 'Белые ночи почтальона Алексея Тряпицына',\n",
       " 'Белые ночи.',\n",
       " 'Белый Параллелепипед',\n",
       " 'Белый Тигр',\n",
       " 'Белый бог',\n",
       " 'Белый лебедь',\n",
       " 'Белый парень Рик',\n",
       " 'Белый песок',\n",
       " 'Бельканто',\n",
       " 'Бемоль',\n",
       " 'Бен-Гур (2016)',\n",
       " 'Бенджамин Бриттен. Питер Граймс /По поэме Джорджа Крэбба \"Городок\"/. Постановка English National Opera',\n",
       " 'Беовульф',\n",
       " 'Бергдорф Гудман: Больше века на вершине модного Олимпа',\n",
       " 'Бергман',\n",
       " 'Берег.',\n",
       " 'Берегись автомобиля (цветная версия)',\n",
       " 'Берегите мужчин!',\n",
       " 'Березовский - это кто?',\n",
       " 'Беременный',\n",
       " 'Берлин, я люблю тебя',\n",
       " 'Берлинале шортс: Чудо; Майк; Темная комната; Три камня для Жана Жене; Титьки; Любовные игры; Оптический звук.',\n",
       " 'Берлинский синдром',\n",
       " 'Берлинский фейсконтрольщик',\n",
       " 'Бернини',\n",
       " 'Берсерк: Золотой век. Фильм I: бехерит Властителя',\n",
       " 'Берсерк: Золотой век. Фильм II: Битва за Долдрей',\n",
       " 'Берсерк: Золотой век. Фильм III: Сошествие',\n",
       " 'Беспредел (Outrage; Autoreiji)',\n",
       " 'Беспредел _',\n",
       " 'Бесславные придурки',\n",
       " 'Бесславные ублюдки',\n",
       " 'Бессмертный гарнизон',\n",
       " 'Бессонная ночь',\n",
       " 'Бестолковая защита',\n",
       " 'Бесшабашное ограбление',\n",
       " 'Бесы.',\n",
       " 'Бешеное золото',\n",
       " 'Бешеные деньги.',\n",
       " 'Бибинур',\n",
       " 'Библиотекарь.',\n",
       " 'Бивень',\n",
       " 'Бизнесмены',\n",
       " 'Билет на Вегас',\n",
       " 'Битва',\n",
       " 'Битва в пути',\n",
       " 'Битва за Землю',\n",
       " 'Битва за Москву',\n",
       " 'Битва за Севастополь',\n",
       " 'Битва полов',\n",
       " 'Битва с экстрасенсами',\n",
       " 'Битва титанов.',\n",
       " 'Битва у Красной скалы',\n",
       " 'Бладрейн',\n",
       " 'Бладфест',\n",
       " 'Блеф .',\n",
       " 'Ближе, чем кажется',\n",
       " 'Ближе, чем кажется (2017)',\n",
       " 'Близкий враг',\n",
       " 'Близнецы',\n",
       " 'Близнецы-убийцы',\n",
       " 'Близнецы_',\n",
       " 'Блокада. День 901-й',\n",
       " 'Блокада. Искупление',\n",
       " 'Блокбастер',\n",
       " 'Блокбастер 3D',\n",
       " 'Блондинка в эфире',\n",
       " 'Блондинка и блондинка',\n",
       " 'Блондинка и разбойницы',\n",
       " 'Блуждание ягнят',\n",
       " 'Блэйд - 2',\n",
       " 'Блэйд. Троица',\n",
       " 'Блэйд: Троица',\n",
       " 'Блэки летит на Луну',\n",
       " 'Боб Марли',\n",
       " 'Бобби Фишер против всего мира',\n",
       " 'Бобр добр (серии: \"Соседи\", \"Пришельцы\", \"Поход\", \"Батут\", \"Зависть погубила\", \"Горки\", \"Симулянт\", \"Вой в лесу\", \"На испуг\", \"Подмена\", \"Ку-ку\", \"Помощники\", \"Клад\")',\n",
       " 'Бобро поржаловать!',\n",
       " 'Бобёр',\n",
       " 'Богатырша',\n",
       " 'Богемская рапсодия',\n",
       " 'Боги Египта',\n",
       " 'Богиня',\n",
       " 'Боевая кукла',\n",
       " 'Боевой конь',\n",
       " 'Боец',\n",
       " 'Боже мой!',\n",
       " 'Боже, благослови Америку',\n",
       " 'Боже, храни мой каблук',\n",
       " 'Божественная любовь',\n",
       " 'Бои без правил',\n",
       " 'Бой',\n",
       " 'Бой без правил',\n",
       " 'Бой после победы',\n",
       " 'Бой с тенью-3: последний раунд',\n",
       " 'Бойся своих желаний',\n",
       " 'Бойфренд из будущего',\n",
       " 'Бойцовая воля',\n",
       " 'Бойцовский клуб',\n",
       " 'Болевой порог',\n",
       " 'Болливуд: величайшая история любви',\n",
       " 'Болотные солдаты',\n",
       " 'Болт и Блип спешат на помощь',\n",
       " 'Боль и слава',\n",
       " 'Большая Ржака',\n",
       " 'Большая афера',\n",
       " 'Большая афера в маленьком городе',\n",
       " 'Большая вечеринка',\n",
       " 'Большая игра',\n",
       " 'Большая игра / Big Game',\n",
       " 'Большая поэзия',\n",
       " 'Большая свадьба',\n",
       " 'Больше - Меньше',\n",
       " 'Больше чем секс',\n",
       " 'Больше, чем друг',\n",
       " 'Больше, чем любовь \"Любимая женщина режиссера Тодоровского\"',\n",
       " 'Больше, чем любовь.',\n",
       " 'Больше, чем любовь_',\n",
       " 'Большие \"мамочки\": сын как отец',\n",
       " 'Большие глаза',\n",
       " 'Большие надежды /По роману Чарльза Диккенса/',\n",
       " 'Большое путешествие',\n",
       " 'Большое путешествие вглубь океанов 3D: Возвращение',\n",
       " 'Большой Вавилон',\n",
       " 'Большой Лебовски.',\n",
       " 'Большой Фитиль',\n",
       " 'Большой аттракцион',\n",
       " 'Большой белый танец',\n",
       " 'Большой всплеск',\n",
       " 'Большой злой лис и другие сказки',\n",
       " 'Большой и добрый великан',\n",
       " 'Большой и маленький',\n",
       " 'Большой кошачий побег',\n",
       " 'Большой собачий побег',\n",
       " 'Большой солдат',\n",
       " 'Бомж с дробовиком',\n",
       " 'Бомж.',\n",
       " 'Борг\\\\Макинрой',\n",
       " 'Борец и клоун',\n",
       " 'Борис Годунов',\n",
       " 'Борцу не больно',\n",
       " 'Босиком по городу',\n",
       " 'Босиком по мостовой',\n",
       " 'Босс-Молокосос',\n",
       " 'Брак за решеткой',\n",
       " 'Брандо без купюр',\n",
       " 'Братва из джунглей',\n",
       " 'Братец медвежонок /По одноименному произведению Лорны Кемерун/',\n",
       " 'Братство',\n",
       " 'Братц',\n",
       " 'Братья      .',\n",
       " 'Братья Гримм',\n",
       " 'Братья Карамазовы',\n",
       " 'Братья Медведи: Тайна трёх миров',\n",
       " 'Братья Систерс',\n",
       " 'Братья Ч',\n",
       " 'Братья из Гримсби',\n",
       " 'Бременские разбойники',\n",
       " 'Брестская крепость.',\n",
       " 'Бригада. Наследник',\n",
       " 'Бриджит Джонс 3',\n",
       " 'Брови',\n",
       " 'Бросок кобры',\n",
       " 'Бруклин',\n",
       " 'Брюс Ли: Рождение Дракона',\n",
       " 'Бугай',\n",
       " 'Буги-вуги.',\n",
       " 'Буду помнить',\n",
       " 'Будущее.',\n",
       " 'Будь что будет',\n",
       " 'Будьте моим мужем',\n",
       " 'Букашки 2',\n",
       " 'Букашки 3D',\n",
       " 'Букашки. Приключение в Долине Муравьев',\n",
       " 'Буквоежка',\n",
       " 'Букшоп',\n",
       " 'Бульвар страха',\n",
       " 'Бумажные города /По произведению Джона Грина/',\n",
       " 'Бункер_',\n",
       " 'Бунт ушастых',\n",
       " 'Бунтари без стыда',\n",
       " 'Бунюэль в лабиринте черепах',\n",
       " 'Бурлеск',\n",
       " 'Буря /По одноименной пьесе У.Шекспира/',\n",
       " 'Было. Есть. Будет',\n",
       " 'Быстрее, чем кролики',\n",
       " 'Быть Астрид Линдгрен',\n",
       " 'Быть Харви Вайнштейном',\n",
       " 'Быть или не быть_',\n",
       " 'Бьютифул',\n",
       " 'Бэйбэрикээн',\n",
       " 'Бэст Сай-Фай (Best Sci-Fi)',\n",
       " 'Бэтмен против Супермена: На заре справедливости',\n",
       " 'Бэтмэн и Робин /По мотивам комиксов Боба Кейна/',\n",
       " 'Бэтмэн: Начало',\n",
       " 'Бёрдмэн',\n",
       " 'В Кейптаунском порту...',\n",
       " 'В России идет снег',\n",
       " 'В Сочи всегда солнечно',\n",
       " 'В активном поиске (2016)',\n",
       " 'В белом плену',\n",
       " 'В гостях у Элис',\n",
       " 'В двух шагах от Славы.',\n",
       " 'В доме',\n",
       " 'В доме отца',\n",
       " 'В другой стране',\n",
       " 'В квадрате 45',\n",
       " 'В краю крови и меда',\n",
       " 'В маленьком городе...',\n",
       " 'В метре друг от друга',\n",
       " 'В небо... за мечтой',\n",
       " 'В объятиях лжи',\n",
       " 'В одной упряжке.',\n",
       " 'В одну сторону (2006)',\n",
       " 'В ожидании Шарлотты Корде',\n",
       " 'В ожидании молнии',\n",
       " 'В ожидании моря',\n",
       " 'В окружении',\n",
       " 'В первый раз.',\n",
       " 'В плену города грёз',\n",
       " 'В погоне за ветром',\n",
       " 'В погоне за счастьем .',\n",
       " 'В поисках Дори.     Песочник',\n",
       " 'В поисках Евы',\n",
       " 'В поисках Истины',\n",
       " 'В поисках Немо.',\n",
       " 'В поисках Немо_',\n",
       " 'В поисках йети',\n",
       " 'В поисках света',\n",
       " 'В постели с Викторией',\n",
       " 'В ритме сердца',\n",
       " 'В сердце моря',\n",
       " 'В следующий раз я буду стрелять в сердце /По роману Ивана Стефановича \"Убийца вне подозрений\"/',\n",
       " 'В спорте только девушки',\n",
       " 'В стране без женщин',\n",
       " 'В субботу',\n",
       " 'В тихом омуте',\n",
       " 'В тумане /По одноименной повести Василя Быкова/',\n",
       " 'В фокусе',\n",
       " 'В центре внимания',\n",
       " 'В четверг и больше никогда',\n",
       " 'В шесть часов вечера после войны',\n",
       " 'ВЕЗУХА! (11)',\n",
       " 'ВЕРКА-ФУЭТЕ',\n",
       " 'ВЕСУРИ',\n",
       " 'ВИЙ 3D',\n",
       " 'ВМаяковский',\n",
       " 'ВОДЯНАЯ',\n",
       " 'ВОИН.com',\n",
       " 'ВОСХОД ЗАКАТ',\n",
       " 'ВОСЬМЕРКА',\n",
       " 'ВРОНГ',\n",
       " 'ВСЕ И СРАЗУ',\n",
       " 'ВСТАВАЙ И БЕЙСЯ',\n",
       " 'ВСЯ НАША НАДЕЖДА...',\n",
       " 'ВЫЖИТЬ И ПОБЕДИТЬ',\n",
       " 'ВЫХОД',\n",
       " 'ВЫШЕ НА ЭТАЖ',\n",
       " 'Вавилон',\n",
       " 'Вайолет Эвергарден: вечность и призрак пера',\n",
       " 'Вакансия',\n",
       " 'Вакантна жизнь шеф-повара',\n",
       " 'Валентин и Валентина',\n",
       " 'Валентина',\n",
       " 'Валериан и город тысячи планет',\n",
       " 'Вальгалла: Рагнарек',\n",
       " 'Вальс для Моники',\n",
       " 'Вам и не снилось',\n",
       " 'Вампирский засос',\n",
       " 'Вампирша против Франкенштейнш',\n",
       " 'Ван Гог. На пороге вечности',\n",
       " 'Ван Гог. С любовью, Винсент',\n",
       " 'Ван Гог: Золото и лазурь',\n",
       " 'Ван Гоги',\n",
       " 'Ванька Тепляшин',\n",
       " 'Варда глазами Аньес',\n",
       " 'Варенье из сакуры.',\n",
       " 'Варкрафт',\n",
       " 'Вас ожидает гражданка Никанорова',\n",
       " 'Василиса',\n",
       " 'Васса',\n",
       " 'Вася',\n",
       " 'Ватерлоо',\n",
       " 'Ватиканские записи',\n",
       " 'Ваш репетитор',\n",
       " 'Ваша честь',\n",
       " 'Вверх',\n",
       " 'Вдали от обезумевшей толпы /По одноименному произведению Томаса Харди/',\n",
       " 'Вдвоем на льдине.',\n",
       " 'Вдовы',\n",
       " 'Вдохновенный свидетель Истины',\n",
       " 'Вдребезги_',\n",
       " 'Ведьма',\n",
       " 'Ведьма .',\n",
       " 'Ведьма войны',\n",
       " 'Ведьма из Блэр: Новая глава',\n",
       " 'Ведьмин ключ',\n",
       " 'Ведьмина гора',\n",
       " 'Ведьмы',\n",
       " 'Ведьмы из Сугаррамурди',\n",
       " 'Везучая.',\n",
       " 'Везучий случай',\n",
       " 'Век Адалин',\n",
       " 'Великая красота',\n",
       " 'Великая мистификация хип-хопа',\n",
       " 'Великая стена',\n",
       " 'Великие битвы России',\n",
       " 'Великий Гэтсби /По одноименному роману Фрэнсиса Скотта Фицджеральда/',\n",
       " 'Великий Северный Путь',\n",
       " 'Великий воин Албании Скандербег',\n",
       " 'Великий диктатор',\n",
       " 'Великий мастер',\n",
       " 'Великий уравнитель',\n",
       " 'Великий уравнитель 2',\n",
       " 'Великолепная',\n",
       " 'Великолепная афера /По роману Эрика Гарсии/',\n",
       " 'Великолепная семерка (2016)',\n",
       " 'Величайший кутюрье',\n",
       " 'Величайший шоумен',\n",
       " 'Велкам Хом',\n",
       " 'Велотачки',\n",
       " 'Вельзевул',\n",
       " 'Венера в мехах',\n",
       " 'Венецианские львы',\n",
       " 'Венецианский детектив',\n",
       " 'Венеция зовет',\n",
       " 'Веном',\n",
       " 'Вера (2016)',\n",
       " 'Верность',\n",
       " 'Вернуть Бена',\n",
       " 'Вероника решает умереть',\n",
       " 'Вероника решает умереть (2009)',\n",
       " 'Вертолёты',\n",
       " 'Вес воды',\n",
       " 'Веселые каникулы',\n",
       " 'Весенние надежды',\n",
       " 'Весна',\n",
       " 'Вествуд: панк, икона, активист',\n",
       " 'Весь Этот Джем',\n",
       " 'Весь этот мир',\n",
       " 'Весёлая карусель №49',\n",
       " 'Весёлая ферма',\n",
       " 'Весёлые ребята ;)',\n",
       " 'Ветер крепчает',\n",
       " 'Ветреная река',\n",
       " 'Вечер с Беверли Лафф Линн',\n",
       " 'Вечеринка',\n",
       " 'Вечеринка .',\n",
       " 'Вечерний лабиринт',\n",
       " 'Вечерняя школа',\n",
       " 'Вечная жизнь Александра Христофорова',\n",
       " 'Вечно молодой/ Все будет рок-н-ролл',\n",
       " 'Вечное возвращение.',\n",
       " 'Вечность (2016)',\n",
       " 'Вечный зов.',\n",
       " 'Вечный холод',\n",
       " 'Взломать блогеров',\n",
       " 'Взорвать Гитлера',\n",
       " 'Взрослая дочь или тест на ...',\n",
       " 'Взрослые дети.',\n",
       " 'Взрослые игры',\n",
       " 'Взрывная блондинка',\n",
       " 'Видели ночь',\n",
       " 'Виджай и Я',\n",
       " 'Видно будет',\n",
       " 'Видок: Охотник на призраков',\n",
       " 'Вижу лишь тебя',\n",
       " 'Византия',\n",
       " 'Визит',\n",
       " 'Визит (2015)',\n",
       " 'Викинг .',\n",
       " 'Викинг 18+',\n",
       " 'Викинги',\n",
       " 'Викинги. Британский музей',\n",
       " 'Виктор',\n",
       " 'Виктор Франкенштейн',\n",
       " 'Виктория и Абдул',\n",
       " 'Виктория: История любви /По роману Кнута Гамсуна/',\n",
       " 'Виктория_',\n",
       " 'Вилли и крутые тачки',\n",
       " 'Виноваты звезды /По произведению Д.Грина/',\n",
       " 'Винченцо Беллини. Норма /По произведению Александра Суме \"Норма или Детоубийство\"/. Постановка Театро Комунале (Болонья)',\n",
       " 'Винченцо Беллини. Пуритане. Постановка Театро Комунале (Болонья)',\n",
       " 'Винчестер. Дом, который построили призраки',\n",
       " 'Виолет и Дейзи',\n",
       " 'Вирус (2016)',\n",
       " 'Вирус любви',\n",
       " 'Виселица',\n",
       " 'Високосный год',\n",
       " 'Вита и Вирджиния',\n",
       " 'Витя Глушаков - друг апачей',\n",
       " 'Вишенка на новогоднем торте',\n",
       " 'Вкус Америки',\n",
       " 'Вкус Средиземного моря',\n",
       " 'Вкус жизни',\n",
       " 'Владение 18',\n",
       " 'Владимир Маканин. Цена личного голоса',\n",
       " 'Владыка времени',\n",
       " 'Властелин колец: Братство кольца /По произведению Джона Рональда Руэла Толкиена \"Властелин колец: Хранители\"/',\n",
       " 'Властелин колец: Возвращение короля /По произведению Джона Рональда Руэла Толкиена \"Властелин колец: Возвращение государя\"/',\n",
       " 'Властелин колец: Две крепости /По произведению Джона Рональда Руэла Толкиена \"Властелин колец: Две твердыни\"/',\n",
       " 'Властелин любви',\n",
       " 'Властелин разметки',\n",
       " 'Властелин танца 3D',\n",
       " 'Власть',\n",
       " 'Власть убеждений',\n",
       " 'Влечение .',\n",
       " 'Влюбленные_',\n",
       " 'Влюбленный скорпион /По роману Карлоса Бардема/',\n",
       " 'Вне Игры (серии 1-12)',\n",
       " 'Вне времени (2014)',\n",
       " 'Вне поля зрения /По роману Элмора Леонарда/',\n",
       " 'Вне/себя',\n",
       " 'Внеклассные занятия в 3D (Монстры из бездны; Язык насекомых; Как устроена клетка; Путешествие к солнцу)',\n",
       " 'Внимание, черепаха!',\n",
       " 'Внутри Льюина Дэвиса',\n",
       " ...]"
      ]
     },
     "execution_count": 24,
     "metadata": {},
     "output_type": "execute_result"
    }
   ],
   "source": [
    "sorted(data['title'].unique())"
   ]
  },
  {
   "cell_type": "markdown",
   "metadata": {},
   "source": [
    "Даже просмотрев относительно небольшое количество уникальных значений, можно заметить, что встречаются одинаковые названия фильмов с разными окончаниями: без знаков, со знаком точки, со знаком тире, со знаком подчеркивания, со знаком пробела, со знаком подчеркивания и пробелом. Также есть названия, отличающиеся только годом в скобках и регистром. Их можно привести к единому виду."
   ]
  },
  {
   "cell_type": "code",
   "execution_count": 25,
   "metadata": {},
   "outputs": [],
   "source": [
    "# приводит title к одному виду\n",
    "def right_title(title):\n",
    "    title = re.sub(r'\\s\\(\\d{4}\\)$', '', title)         # убираем год в скобках\n",
    "    title = re.sub(r'-*(\\s)*\\.*(\\s)*_*$', '',  title)  # убираем конечные символы\n",
    "    \n",
    "    return title.strip().lower().capitalize()          # каждое название фильма с большой буквы"
   ]
  },
  {
   "cell_type": "markdown",
   "metadata": {},
   "source": [
    "<div class=\"alert alert-success\"; style=\"border-left: 7px solid green\">\n",
    "<h3>✔ Комментарий ревьюера</h3>\n",
    "    \n",
    "👍 Хорошая обработка получилась. Можно тут как раз использовать `.str.replace()`, передав туда эти регулярные выражения. Можно в начале названия тоже лишние символы убрать\n",
    "</div>    "
   ]
  },
  {
   "cell_type": "markdown",
   "metadata": {},
   "source": [
    "<div class = \"alert alert-info\" style=\"border-left: 7px solid blue\">\n",
    "<h3>Комментарий студента</h3>\n",
    "    \n",
    "Пока не стала убирать старый код, но предполагаю, что можно попробовать записать так:\n",
    "\n",
    "```python\n",
    "    \n",
    "data['title'] = (\n",
    "    data['title']\n",
    "    .str.replace('\\s\\(\\d{4}\\)$', '', regex=True)\n",
    "    .str.replace('-*(\\s)*\\.*(\\s)*_*$', '', regex=True)\n",
    "    .str.strip()\n",
    "    .str.lower()\n",
    "    .str.capitalize()\n",
    ")\n",
    "```\n",
    "Правильно? А можно ли как-то сделать так, чтобы не надо было писать \".str\" на каждую функцию? И какие символы нужно убрать в начале? Я заметила разве что \"#\" и \"...\", но это вроде как часть названия фильма.\n",
    "</div>"
   ]
  },
  {
   "cell_type": "markdown",
   "metadata": {},
   "source": [
    "<div class=\"alert alert-success\"; style=\"border-left: 7px solid green\">\n",
    "<h3>✔ Комментарий ревьюера V.2</h3>\n",
    "    \n",
    "Да, можно записать так. Убрать кучу `.str` не получится, к сожалению. Это как с `.dt` для `datetime`. Можно посмотерть, какие символы встречаются в начале названия, не учитывая буквы:\n",
    "</div>    \n"
   ]
  },
  {
   "cell_type": "code",
   "execution_count": 91,
   "metadata": {},
   "outputs": [
    {
     "data": {
      "text/plain": [
       "array(['3', '5', 'T', '1', '9', '8', 'U', 'Z', '7', 'C', 'P', '2', 'Q',\n",
       "       'G', '\"', 'B', 'L', '(', '4', '0', 'M', 'W', 'S', 'Ё', 'D', 'O',\n",
       "       'A', 'N', 'E', 'V', '.', 'K', '#', 'I', '6', 'Y', 'F'],\n",
       "      dtype=object)"
      ]
     },
     "execution_count": 91,
     "metadata": {},
     "output_type": "execute_result"
    }
   ],
   "source": [
    "# Код ревьюера\n",
    "\n",
    "data['title'].str.extract('^([^А-Яа-я])').dropna()[0].unique()"
   ]
  },
  {
   "cell_type": "markdown",
   "metadata": {},
   "source": [
    "<div class=\"alert alert-success\"; style=\"border-left: 7px solid green\">\n",
    "<h3>✔ Комментарий ревьюера V.2</h3>\n",
    "    \n",
    "Далее выборочно можно проверить.\n",
    "\n",
    "P.S. я чуть-чуть попроверял, и кажется, что все символы в целом корректные\n",
    "</div>    \n"
   ]
  },
  {
   "cell_type": "code",
   "execution_count": 27,
   "metadata": {},
   "outputs": [],
   "source": [
    "data['title'] = data['title'].apply(right_title)"
   ]
  },
  {
   "cell_type": "code",
   "execution_count": 28,
   "metadata": {},
   "outputs": [
    {
     "data": {
      "text/plain": [
       "6619"
      ]
     },
     "execution_count": 28,
     "metadata": {},
     "output_type": "execute_result"
    }
   ],
   "source": [
    "# количество уникальных значений после обработки\n",
    "data['title'].nunique()"
   ]
  },
  {
   "cell_type": "markdown",
   "metadata": {},
   "source": [
    "<div class=\"alert alert-success\"; style=\"border-left: 7px solid green\">\n",
    "<h3>✔ Комментарий ревьюера</h3>\n",
    "    \n",
    "Для того, чтобы число уникальных значений посмотерть, есть `nunique\n",
    "    `</div>    "
   ]
  },
  {
   "cell_type": "markdown",
   "metadata": {},
   "source": [
    "<div class = \"alert alert-info\" style=\"border-left: 7px solid blue\">\n",
    "<h3>Комментарий студента</h3>\n",
    "    \n",
    "А я и забыла такую полезную функцию. Спасибо :)\n",
    "</div>"
   ]
  },
  {
   "cell_type": "code",
   "execution_count": 29,
   "metadata": {},
   "outputs": [
    {
     "data": {
      "text/plain": [
       "['\"sos\" над тайгой',\n",
       " '\"v\" значит вендетта',\n",
       " '\"артишок\" анимационный альманах авторских фильмов',\n",
       " '\"бежин луг\" сергея эйзенштейна',\n",
       " '\"державная\" размышления 100 лет спустя',\n",
       " '\"зеленое яблоко\" анимационный альманах выпуск № 7',\n",
       " '\"машины песенки\". серия \"опять новый год!\"',\n",
       " '\"море\"',\n",
       " '\"сезон дождей\", \"диета матроскина\", \"шарик хочет телефон\" из анимационного сериала \"простоквашино\"',\n",
       " '\"старый\" новый год',\n",
       " '\"уорнер бразерс пикчерз\" и \"леджендари пикчерз\": тихоокеанский рубеж',\n",
       " '\"фееринки\". серия \"фантик спешит на помощь\"',\n",
       " '\"хороший день\", \"бог из машины/deus ex\", \"голод\", \"психотроника\", \"темная ночь\"',\n",
       " '\"чудовище из простоквашино\", \"ген героя\", \"ненастоящий детектив\", \"мама и тама\", \"как бы не стало зимы\" из анимационного сериала \"простоквашино\"',\n",
       " '#всё_исправить!?!',\n",
       " '#москва-руаян',\n",
       " '#яволонтер истории неравнодушных',\n",
       " '(не)жданный принц',\n",
       " '(не)идеальный мужчина',\n",
       " '... в стиле jazz',\n",
       " '... и я там был',\n",
       " '... имени сергея герасимова',\n",
       " '007 координаты скайфолл',\n",
       " '007: спектр',\n",
       " '1+1',\n",
       " '1+1. нарушая правила',\n",
       " '1+1: голливудская история',\n",
       " '10 000 км.: любовь на расстоянии',\n",
       " '10 000 лет до н.э',\n",
       " '10 лет спустя',\n",
       " '10 мгновений судьбы',\n",
       " '100 вещей и ничего лишнего',\n",
       " '100 лет дизайна',\n",
       " '100 лет чувашской автономии',\n",
       " '100 миллионов евро',\n",
       " '1001 рецепт влюбленного кулинара',\n",
       " '11 минут',\n",
       " '11-11-11',\n",
       " '118 секунд, до... и после',\n",
       " '12 лет рабства',\n",
       " '12 мелодий любви',\n",
       " '12 месяцев',\n",
       " '12 месяцев. новая сказка',\n",
       " '120/80',\n",
       " '127 часов',\n",
       " '128 ударов сердца в минуту',\n",
       " '13',\n",
       " '13 грехов',\n",
       " '13 убийц',\n",
       " '13 часов: тайные солдаты бенгази',\n",
       " '13-й район: кирпичные особняки',\n",
       " '14+',\n",
       " '1408 /по рассказу стивена кинга/',\n",
       " '1812: уланская баллада',\n",
       " '1915',\n",
       " '1937. время смерти (\"судоходное кладбище\", \"трагедия праздника\")',\n",
       " '2 + 2',\n",
       " '2 спальни, 1 ванная',\n",
       " '2+1',\n",
       " '20 000 дней на земле',\n",
       " '2001 год: космическая одиссея',\n",
       " '2012',\n",
       " '2016: конец ночи',\n",
       " '20:17',\n",
       " '21 и больше',\n",
       " '21 и больше (в переводе гоблина)',\n",
       " '21 мост',\n",
       " '22 мили',\n",
       " '22 минуты',\n",
       " '22 пули: бессмертный',\n",
       " '22 ярда',\n",
       " '24 снега',\n",
       " '24 часа на жизнь',\n",
       " '28 панфиловцев',\n",
       " '28 спален',\n",
       " '2:22',\n",
       " '2рас: легенда',\n",
       " '3 дня с роми шнайдер',\n",
       " '3 идиота',\n",
       " '3 сердца',\n",
       " '3 счастливых поросёнка',\n",
       " '30 безумных желаний',\n",
       " '30 свиданий',\n",
       " '300 спартанцев /по роману-комиксу фрэнка миллера и линн варли/',\n",
       " '300 спартанцев: расцвет империи /по произведению фрэнка миллера \"ксеркс\"/',\n",
       " '300 спартанцев: расцвет империи /по произведению фрэнка миллера \"ксеркс\"/ (на английском языке)',\n",
       " '302 бис',\n",
       " '31: праздник смерти',\n",
       " '321-я сибирская, фильм первый \"братья\"',\n",
       " '34 - й скорый',\n",
       " '36, набережная орфевр',\n",
       " '38-я параллель',\n",
       " '4 дня в мае',\n",
       " '4.3.2.1',\n",
       " '44 котёнка',\n",
       " '45 лет',\n",
       " '47 ронинов',\n",
       " '4:44. последний день на земле',\n",
       " '5 000 раз вокруг света',\n",
       " '5-я волна',\n",
       " '50 весенних дней',\n",
       " '50 первых поцелуев',\n",
       " '500 дней лета',\n",
       " '6 дней',\n",
       " '695',\n",
       " '7 главных желаний',\n",
       " '7 дней и ночей с мэрилин',\n",
       " '7 социопатов',\n",
       " '7 ящиков',\n",
       " '7-ой гном 3d',\n",
       " '72 метра (3 серии)',\n",
       " '72 часа',\n",
       " '8 1/2 (восемь с половиной)',\n",
       " '8 лучших свиданий',\n",
       " '8 новых свиданий',\n",
       " '8 первых свиданий',\n",
       " '8 подруг оушена',\n",
       " '9 месяцев строгого режима',\n",
       " '9/11',\n",
       " '901 километр',\n",
       " '999',\n",
       " 'All inclusive или все включено',\n",
       " 'Angry birds 2 в кино',\n",
       " 'Angry birds в кино',\n",
       " 'Aroused: откровения лучших порномоделей',\n",
       " 'Beef: русский хип-хоп',\n",
       " 'Best erotic shorts. альманах',\n",
       " 'Best of shnit 2015. лучшее шнит 2015',\n",
       " 'Best of shnit 2017',\n",
       " 'Bjork. biophilia live',\n",
       " 'Blood-c: последний темный',\n",
       " 'Bon jovi. the circle tour',\n",
       " 'Bts: открой свою душу. фильм',\n",
       " 'Cirque du soleil: сказочный мир в 3d',\n",
       " 'Citizenfour. правда сноудена',\n",
       " 'Coldplay: a head full of dreams',\n",
       " 'Ded_005',\n",
       " 'Def leppard. viva hysteria',\n",
       " 'Die erste liebe (первая любовь)',\n",
       " 'Dream theatre. live at luna park',\n",
       " 'Duran duran. unstaged',\n",
       " 'Elton john. the million dollar piano',\n",
       " 'Everybody in the place: рейв как забастовка',\n",
       " 'Fair play (честная игра)',\n",
       " 'Ford против ferrari',\n",
       " 'G (джи)',\n",
       " 'G.i.joe: бросок кобры 2',\n",
       " 'Generation п',\n",
       " 'George michael: live in london',\n",
       " 'Gimme danger. история игги и the stooges',\n",
       " \"Guns n'roses. 2012 tour\",\n",
       " 'Italian best shorts 2: любовь в вечном городе (лучшие итальянские короткометражки - 2: любовь в вечном городе',\n",
       " 'Italian best shorts 3: итальянские фантазии (лучшие итальянские короткометражки 3: итальянские фантазии)',\n",
       " 'Kinematic shorts: lucly seven. программа короткометражного кино',\n",
       " 'Kinematic shorts: spring. shorts. fun. программа короткометражного кино',\n",
       " 'Kingsman: золотое кольцо',\n",
       " 'Kingsman: секретная служба',\n",
       " 'Kiss rocks vegas',\n",
       " 'Led zeppelin. celebration day',\n",
       " 'Liaf-2014. программа лондонского международного анимационного фестиваля',\n",
       " 'Lil peep: всё для всех',\n",
       " 'Magnetisme animal/магнетизм',\n",
       " 'Mamma mia! 2',\n",
       " 'Metallica: сквозь невозможное',\n",
       " 'Muse. live at rome',\n",
       " 'My little pony в кино',\n",
       " 'Mylene farmer. timeless 2013 the movie',\n",
       " 'Need for speed: жажда скорости',\n",
       " 'No comment (нет комментариев)',\n",
       " 'One direction: where we are',\n",
       " 'One direction: это мы',\n",
       " 'Oscar shorts - 2014. фильмы',\n",
       " 'Oscar shorts - анимация',\n",
       " 'Oscar shorts - фильмы',\n",
       " 'P.s. я люблю тебя /по одноименному произведению сесилии ахерн/',\n",
       " 'Paul mccartney. rockshow',\n",
       " 'Prada и чувства',\n",
       " 'Pro кино',\n",
       " 'Pro любовь',\n",
       " 'Queen. live in bohemia',\n",
       " 'Queen. live in budapest 1986',\n",
       " 'Queen. rock montreal',\n",
       " 'Salsa belly dance - часть 1 и 2',\n",
       " 'Sex doll / влюбленные одиночки',\n",
       " 'Shnit shorts 2019. анимационная программа',\n",
       " 'Shnit shorts 2019. игровое кино',\n",
       " 'Slove. прямо в сердце',\n",
       " 'Sos, дед мороз или всё сбудется!',\n",
       " 'Stars in shorts',\n",
       " 'Starперцы',\n",
       " 'Superалиби',\n",
       " 'Superзять',\n",
       " 'Superнянь',\n",
       " 'Superнянь 2',\n",
       " \"The chemical brothers - don't think (не думай)\",\n",
       " \"The doors - live at the bowl'68. концерт\",\n",
       " \"The doors. when you' re strange\",\n",
       " \"The prodigy - world's on fire (продиджи. миры в огне). фильм-концерт\",\n",
       " 'Tomb raider: лара крофт',\n",
       " 'Turbo (турбо)',\n",
       " 'U2 3d',\n",
       " 'Uglydolls. куклы с характером',\n",
       " 'Update/delete (апдейт/делит)',\n",
       " 'Va-банк',\n",
       " 'Weekend  (уик-энд)',\n",
       " 'Whisky с молоком',\n",
       " 'Winx club 3d: волшебное приключение',\n",
       " 'Winx club: спасаем животных!',\n",
       " 'Winx club: спасаем океан',\n",
       " 'Wtf! какого черта?',\n",
       " 'Yesterday (вчера)',\n",
       " 'Zолушка',\n",
       " 'Zомбилэнд: контрольный выстрел',\n",
       " 'Ёлки',\n",
       " 'Ёлки - 2',\n",
       " 'Ёлки 1914',\n",
       " 'Ёлки 3',\n",
       " 'Ёлки 5',\n",
       " 'Ёлки новые',\n",
       " 'Ёлки последние',\n",
       " 'А был ли каротин?',\n",
       " 'А вот и она',\n",
       " 'А если это любовь?',\n",
       " 'А зори здесь тихие',\n",
       " 'А мама лучше! (рабочее название \"вся прелесть любви\")',\n",
       " 'А.адан. жизель. хореография матса эка',\n",
       " 'А.к.а',\n",
       " 'А.с.пушкин \"сказка о царе салтане\"',\n",
       " 'Аб ово',\n",
       " 'Абатуар. лабиринт страха',\n",
       " 'Аббатство даунтон',\n",
       " 'Абсолютная власть',\n",
       " 'Аванпост',\n",
       " 'Авантюристы',\n",
       " 'Аварийное состояние',\n",
       " 'Авария - дочь мента',\n",
       " 'Аватар',\n",
       " 'Аватар. специальная версия',\n",
       " 'Август /по пьесе трэйси леттс/',\n",
       " 'Август. восьмого',\n",
       " 'Автобан',\n",
       " 'Автобиография лжеца 3d',\n",
       " 'Автомобиль, скрипка и собака клякса',\n",
       " 'Автостопом по галактике',\n",
       " 'Агасфер',\n",
       " 'Агент 044: операция гегард',\n",
       " 'Агент 117: миссия в рио',\n",
       " 'Агент джонни инглиш 2: перезагрузка',\n",
       " 'Агент джонни инглиш 3.0',\n",
       " 'Агент джонни инглиш: перезагрузка',\n",
       " 'Агент мамбо',\n",
       " 'Агент под прикрытием',\n",
       " 'Агент эмерсон',\n",
       " 'Агенты а.н.к.л',\n",
       " 'Агитатор',\n",
       " 'Агора',\n",
       " 'Агорафобия',\n",
       " 'Адвокат дьявола /по роману эндрю нейдермана/',\n",
       " 'Аджами',\n",
       " 'Адмирал ушаков',\n",
       " 'Адмиралъ',\n",
       " 'Адольф адан. жизель /по мотивам легенды, пересказанной генрихом гейне/. постановка royal opera house',\n",
       " 'Адольф адан. жизель в 3d. постановка мариинского театра. хореография жана коралли, жюля перро, мариуса петипа',\n",
       " 'Адский бункер: черное солнце',\n",
       " 'Адъютант его превосходительства',\n",
       " 'Азартные игры',\n",
       " 'Азбука смерти',\n",
       " 'Азор (azor)',\n",
       " 'Аисты',\n",
       " 'Ай вэйвэй: никогда не извиняйся',\n",
       " 'Айболит - 66',\n",
       " 'Айка',\n",
       " 'Айрис',\n",
       " 'Айсылу. фильм',\n",
       " 'Академия вампиров',\n",
       " 'Аквамен',\n",
       " 'Акварель',\n",
       " 'Аквариум',\n",
       " 'Акрам хан: родом из карри хауса',\n",
       " 'Аксель',\n",
       " 'Акт убийства',\n",
       " 'Акулы',\n",
       " 'Акулы 3d',\n",
       " 'Акция',\n",
       " 'Аладдин',\n",
       " 'Албазинские скаски',\n",
       " 'Алекс и эмма',\n",
       " 'Александр буйнов \"юбилейный концерт в кремле. live.\"',\n",
       " 'Александр и ужасный, кошмарный, нехороший, очень плохой день',\n",
       " 'Александр калягин и et cetera',\n",
       " 'Александр невский (восстановленная версия)',\n",
       " 'Алешкина любовь',\n",
       " 'Али, рули!',\n",
       " 'Алиби',\n",
       " 'Алиса в зазеркалье',\n",
       " 'Алиса в стране чудес /по книгам льюиса кэрролла \"алиса в стране чудес\" и \"алиса в зазеркалье\"/',\n",
       " 'Алиса в стране чудес /по одноименному произведению льюиса кэрола/',\n",
       " 'Алиса знает, что делать! зеленая месть',\n",
       " 'Алиса знает, что делать! серии \"подмена растронаса\", \"старики-разбойники\"',\n",
       " 'Алиса знает, что делать! серии \"энергия прошлого\", \"устаревшие модели\", \"долой креатив!\"',\n",
       " 'Алиса знает, что делать! серия \"гуманитарная помощь\"',\n",
       " 'Алиса знает, что делать! серия \"зеленая месть\"',\n",
       " 'Алита: боевой ангел',\n",
       " 'Алла пугачёва. тот самый концерт',\n",
       " 'Алмазы для марии',\n",
       " 'Алоис небель и его призраки',\n",
       " 'Алые паруса',\n",
       " 'Альберт гогуадзе. пэри-пэртан',\n",
       " 'Альдабра: путешествие по таинственному острову',\n",
       " 'Альманах документальных фильмов \"вокзалы россии: история, любовь и великие тайны…\" фильм первый \"вокзалы россии связь времен\"',\n",
       " 'Альфа',\n",
       " 'Альфа и омега',\n",
       " 'Альфаго',\n",
       " 'Амазония: инструкция по выживанию',\n",
       " 'Амаль',\n",
       " 'Амальгама',\n",
       " 'Амбивалентность',\n",
       " 'Амели',\n",
       " 'Амелия',\n",
       " 'Америка',\n",
       " 'Американец (по роману мартина бута \"очень скрытный джентльмен\")',\n",
       " 'Американская дочь',\n",
       " 'Американская пастораль',\n",
       " 'Американский грайдхаус',\n",
       " 'Американский пирог: все в сборе',\n",
       " 'Амилькаре понкьелли. джоконда /по пьесе виктора гюго \"анджело, тиран падуанский\"/. постановка парижской национальной оперы',\n",
       " 'Амун',\n",
       " 'Амундсен',\n",
       " 'Анаболики. реальная история',\n",
       " 'Анализируй то!',\n",
       " 'Анализируй это!',\n",
       " 'Ананас',\n",
       " 'Анархисты',\n",
       " 'Анархия в жирмунае',\n",
       " 'Анатолий крупнов. он был',\n",
       " 'Анатомия измены',\n",
       " 'Анатомия любви /по произведению скотта спенсера/',\n",
       " 'Ангел',\n",
       " 'Ангел мой',\n",
       " 'Ангел-хранитель',\n",
       " 'Ангелы революции',\n",
       " 'Ангелы чарли',\n",
       " 'Ангельское личико',\n",
       " 'Андердог',\n",
       " 'Андре рьё. концерт в маастрихте',\n",
       " 'Андреа бочелли: любовь в портофино',\n",
       " 'Андрей рублев',\n",
       " 'Андроид',\n",
       " 'Анжелика, маркиза ангелов',\n",
       " 'Аниматор',\n",
       " 'Анимационный альманах \"ладушки\" (ф. \"дрип-дроп\")',\n",
       " 'Анимационный альманах \"ладушки\" (ф. \"ладушки\")',\n",
       " 'Анимационный альманах \"ладушки\" (ф. \"про бабу, которая хотела улететь\")',\n",
       " 'Анимационный сериал \"котяткины истории-2\"',\n",
       " 'Анимационный сериал \"лунтик и его друзья\" (490-502 серии)',\n",
       " 'Анимационный фильм \"динозавр рики\", серия \"пылесос\"',\n",
       " 'Анимационный фильм \"динозавр рики\", серия \"ремонт\"',\n",
       " 'Анимационный фильм \"динозавр рики\", серия \"спорт\"',\n",
       " 'Анимационный фильм \"динозавр рики\", серия \"темные силы\"',\n",
       " 'Анимационный фильм \"малышарики 3\", серия \"брызгалки\"',\n",
       " 'Анимационный фильм \"малышарики 3\", серия \"дом для рыбки\"',\n",
       " 'Анимационный фильм \"малышарики 3\", серия \"нужная вещь\"',\n",
       " 'Анимационный фильм \"малышарики 3\", серия \"подарок\"',\n",
       " 'Анимационный фильм \"малышарики 3\", серия \"слон\"',\n",
       " 'Анимационный фильм \"пинкод. гуманитарные технологии 3\", серия \"собратья по разуму. часть 3\"',\n",
       " 'Анимационный фильм \"пинкод. гуманитарные технологии\", серии \"бортовой дневник 4\", \"игры с памятью\"',\n",
       " 'Анимационный фильм \"сказки полуночи\"',\n",
       " 'Анимационный фильм \"смешарики 7\", серия \"красная книга\"',\n",
       " 'Анимационный фильм \"смешарики 7\", серия \"слишком фигурное катание\"',\n",
       " 'Анимационный фильм \"смешарики. начало\"',\n",
       " 'Анимационный фильм \"смешарики. спорт 2\", серия \"эксклюзивное интервью/таланты и поклонница\"',\n",
       " 'Анимированная жизнь',\n",
       " 'Анина: история самого необычного наказания /по произведению сергио лопеса суареса/',\n",
       " 'Анкор, ещё анкор!',\n",
       " 'Анна',\n",
       " 'Анна каренина /по одноименному роману л.н.толстого/',\n",
       " 'Анна каренина. интимный дневник',\n",
       " 'Анна каренина. история вронского',\n",
       " 'Анна каренина. мюзикл',\n",
       " 'Анна павлова',\n",
       " 'Аннушка',\n",
       " 'Аномалия',\n",
       " 'Аномия',\n",
       " 'Анон',\n",
       " 'Аноним',\n",
       " 'Анонимные романтики',\n",
       " 'Антиганг',\n",
       " 'Антикиллер - 2',\n",
       " 'Антон чехов',\n",
       " 'Антон чехов и исаак левитан: двойной портрет в интерьере эпохи',\n",
       " 'Антропоид',\n",
       " 'Антураж',\n",
       " 'Апартаменты 1303 3d',\n",
       " 'Апгрейд',\n",
       " 'Апокалипсис сегодня. расширенная версия',\n",
       " 'Аполлон 18',\n",
       " 'Аполлон-11',\n",
       " 'Апостасия',\n",
       " 'Апостол камчатки',\n",
       " 'Апофеоз',\n",
       " 'Аптекарь',\n",
       " 'Арахисовый сокол',\n",
       " 'Арбузные корки',\n",
       " 'Арвентур. тайна морского пейзажа',\n",
       " 'Аргентина',\n",
       " 'Арена смелых',\n",
       " 'Арестант no name',\n",
       " 'Арестуйте меня',\n",
       " 'Ариран',\n",
       " 'Арифметика свободы',\n",
       " 'Ариэтти из страны лилипутов',\n",
       " 'Арктика 3d',\n",
       " 'Арло: говорящий поросенок',\n",
       " 'Армагеддец',\n",
       " 'Армен и я',\n",
       " 'Армия машин',\n",
       " 'Арриго бойто. мефистофель /по произведению гёте/. постановка оперного театра сан-франциско',\n",
       " 'Артемизия',\n",
       " 'Артист',\n",
       " 'Артур и война двух миров',\n",
       " 'Артур сеймур салливан. микадо. постановка sydney opera house',\n",
       " 'Артур чилингаров. монологи',\n",
       " 'Аршалуйс',\n",
       " 'Асса',\n",
       " 'Астерикс и обеликс в британии 3d',\n",
       " 'Астерикс и тайное зелье',\n",
       " 'Астерикс: земля богов',\n",
       " 'Астрал',\n",
       " 'Астрал 3',\n",
       " 'Астрал 4: последний ключ',\n",
       " 'Астрал на улице арлетт',\n",
       " 'Астрал. глава 2',\n",
       " 'Астрал. глава вторая',\n",
       " 'Астрал: новое измерение',\n",
       " 'Ася',\n",
       " 'Атака на перл-харбор',\n",
       " 'Атака пауков',\n",
       " 'Атака титанов. фильм второй: конец света',\n",
       " 'Атака титанов. фильм первый. жестокий мир',\n",
       " 'Атаман',\n",
       " 'Атлантида',\n",
       " 'Атлантида: затерянный мир',\n",
       " 'Атлантика',\n",
       " 'Атомный иван',\n",
       " 'Аттестат зрелости',\n",
       " 'Аустерлиц',\n",
       " 'Аутло/outlaw',\n",
       " 'Афганский алфавит',\n",
       " 'Афера доктора нока',\n",
       " 'Афера по-американски',\n",
       " 'Афера по-английски',\n",
       " 'Афера под прикрытием',\n",
       " 'Аферисты поневоле',\n",
       " 'Афтершок',\n",
       " 'Аэлита, не приставай к мужчинам',\n",
       " 'Аэронавты',\n",
       " 'Аэросмит. рок для восходящего солнца',\n",
       " 'Аэротачки',\n",
       " 'Баария',\n",
       " 'Баба яга',\n",
       " 'Бабадук',\n",
       " 'Бабай',\n",
       " 'Бабич',\n",
       " 'Бабло',\n",
       " 'Бабоньки',\n",
       " 'Бабочки',\n",
       " 'Бабушка легкого поведения',\n",
       " 'Бабушка лёгкого поведения 2',\n",
       " 'Бабье царство',\n",
       " 'Баги',\n",
       " 'Багровая мята',\n",
       " 'Багровый пик',\n",
       " 'Байбаймэн',\n",
       " 'Байгал',\n",
       " 'Байкал - сердце мира 3d',\n",
       " 'Байкал. магия воды',\n",
       " 'Байкеры-3',\n",
       " 'Байконур. падение \"сатаны\"',\n",
       " 'Бал',\n",
       " 'Балбесы /по книге \"вселенная баллинга и баха\"/',\n",
       " 'Балерина',\n",
       " 'Балет сегодня',\n",
       " 'Балканский рубеж',\n",
       " 'Балкон европы',\n",
       " 'Баллада о доблестном рыцаре айвенго',\n",
       " 'Баллистика: экс против сивер',\n",
       " 'Бальные танцы',\n",
       " 'Бамблби',\n",
       " 'Банда котиков',\n",
       " 'Банда ольсена: рок-звезды зажигают',\n",
       " 'Бандитки',\n",
       " 'Бандиты',\n",
       " 'Банды индостана',\n",
       " 'Банкомат',\n",
       " 'Банщик президента, или пасечники вселенной',\n",
       " 'Бар \"гадкий койот\"',\n",
       " 'Барашек шон',\n",
       " 'Барбара',\n",
       " 'Бармен',\n",
       " 'Бархатный сезон',\n",
       " 'Баския: взрыв реальности',\n",
       " 'Басни и.а.крылова',\n",
       " 'Бассейн',\n",
       " 'Батальонъ',\n",
       " 'Бахубали: рождение легенды',\n",
       " 'Бачата на 33-м километре',\n",
       " 'Бег иноходца',\n",
       " 'Беги',\n",
       " 'Беги без оглядки',\n",
       " 'Беглец',\n",
       " 'Беглецы',\n",
       " 'Бегство рогатых викингов или пять дней из джизни джонни воробьёва',\n",
       " 'Бегущая от реальности',\n",
       " 'Бегущий в лабиринте /по произведению джеймса дашнера/',\n",
       " 'Бегущий в лабиринте: испытание огнем /по произведению джеймса дашнера/',\n",
       " 'Бегущий в лабиринте: лекарство от смерти',\n",
       " 'Бегущий по лезвию 2049',\n",
       " 'Бедная богатая девочка',\n",
       " 'Бедуин',\n",
       " 'Без вины виноватые',\n",
       " 'Без границ',\n",
       " 'Без грома пушек',\n",
       " 'Без истерики!',\n",
       " 'Без компромиссов',\n",
       " 'Без меня',\n",
       " 'Без мужчин',\n",
       " 'Без права на ошибку',\n",
       " 'Без свидетелей',\n",
       " 'Без солнца',\n",
       " 'Без срока давности',\n",
       " 'Без тормозов',\n",
       " 'Без ума от тиффани',\n",
       " 'Безбашенные',\n",
       " 'Безбрачная неделя',\n",
       " 'Безопасность не гарантируется',\n",
       " 'Безответная любовь',\n",
       " 'Безотцовщина',\n",
       " 'Безумная свадьба',\n",
       " 'Безумное свидание',\n",
       " 'Безумные преподы',\n",
       " 'Безумные соседи',\n",
       " 'Безумный макс 2: воин дороги',\n",
       " 'Безумный макс: дорога ярости',\n",
       " 'Безумцы',\n",
       " 'Безупречная жизнь',\n",
       " 'Белая белая ночь',\n",
       " 'Белая графиня',\n",
       " 'Белая лента',\n",
       " 'Белая мама/white мама',\n",
       " 'Белая мгла /по комиксу грега рукка и стива либера/',\n",
       " 'Белка и стрелка. звездные собаки',\n",
       " 'Белка и стрелка. лунные приключения',\n",
       " 'Белка и стрелка. тайны космоса (1-5 серии)',\n",
       " 'Белки в деле',\n",
       " 'Белль и себастьян',\n",
       " 'Белль и себастьян: друзья навек',\n",
       " 'Белль и себастьян: приключения продолжаются',\n",
       " 'Белое вино из баббудойу',\n",
       " 'Белоснежка (snow white; blancanieves)',\n",
       " 'Белоснежка и охотник',\n",
       " 'Белоснежка и охотник 2',\n",
       " 'Белоснежка. сказка для взрослых',\n",
       " 'Белоснежка: месть гномов',\n",
       " 'Белые ночи',\n",
       " 'Белые ночи почтальона алексея тряпицына',\n",
       " 'Белый бог',\n",
       " 'Белый лебедь',\n",
       " 'Белый параллелепипед',\n",
       " 'Белый парень рик',\n",
       " 'Белый песок',\n",
       " 'Белый тигр',\n",
       " 'Белый ягель',\n",
       " 'Бельканто',\n",
       " 'Бемоль',\n",
       " 'Бен-гур',\n",
       " 'Бенджамин бриттен. питер граймс /по поэме джорджа крэбба \"городок\"/. постановка english national opera',\n",
       " 'Беовульф',\n",
       " 'Бергдорф гудман: больше века на вершине модного олимпа',\n",
       " 'Бергман',\n",
       " 'Берег',\n",
       " 'Берегись автомобиля (цветная версия)',\n",
       " 'Берегите мужчин!',\n",
       " 'Березовский - это кто?',\n",
       " 'Беременный',\n",
       " 'Берлин, я люблю тебя',\n",
       " 'Берлинале шортс: чудо; майк; темная комната; три камня для жана жене; титьки; любовные игры; оптический звук',\n",
       " 'Берлинский синдром',\n",
       " 'Берлинский фейсконтрольщик',\n",
       " 'Бернини',\n",
       " 'Берсерк: золотой век. фильм i: бехерит властителя',\n",
       " 'Берсерк: золотой век. фильм ii: битва за долдрей',\n",
       " 'Берсерк: золотой век. фильм iii: сошествие',\n",
       " 'Берцы',\n",
       " 'Беспредел',\n",
       " 'Беспредел (outrage; autoreiji)',\n",
       " 'Бесславные придурки',\n",
       " 'Бесславные ублюдки',\n",
       " 'Бессмертный гарнизон',\n",
       " 'Бессонная ночь',\n",
       " 'Бестолковая защита',\n",
       " 'Бесшабашное ограбление',\n",
       " 'Бесы',\n",
       " 'Бешеное золото',\n",
       " 'Бешеные деньги',\n",
       " 'Бибинур',\n",
       " 'Библиотекарь',\n",
       " 'Бивень',\n",
       " 'Бизнесмены',\n",
       " 'Билет на вегас',\n",
       " 'Бирмингемский орнамент',\n",
       " 'Бирмингемский орнамент. часть 2',\n",
       " 'Битва',\n",
       " 'Битва в пути',\n",
       " 'Битва за землю',\n",
       " 'Битва за москву',\n",
       " 'Битва за севастополь',\n",
       " 'Битва полов',\n",
       " 'Битва с экстрасенсами',\n",
       " 'Битва титанов',\n",
       " 'Битва у красной скалы',\n",
       " 'Бладрейн',\n",
       " 'Бладфест',\n",
       " 'Блеф',\n",
       " 'Ближе, чем кажется',\n",
       " 'Близкий враг',\n",
       " 'Близнецы',\n",
       " 'Близнецы-убийцы',\n",
       " 'Блокада. день 901-й',\n",
       " 'Блокада. искупление',\n",
       " 'Блокбастер',\n",
       " 'Блокбастер 3d',\n",
       " 'Блондинка в эфире',\n",
       " 'Блондинка и блондинка',\n",
       " 'Блондинка и разбойницы',\n",
       " 'Блуждание ягнят',\n",
       " 'Блэйд - 2',\n",
       " 'Блэйд. троица',\n",
       " 'Блэйд: троица',\n",
       " 'Блэки летит на луну',\n",
       " 'Боб марли',\n",
       " 'Бобби фишер против всего мира',\n",
       " 'Бобр добр (серии: \"соседи\", \"пришельцы\", \"поход\", \"батут\", \"зависть погубила\", \"горки\", \"симулянт\", \"вой в лесу\", \"на испуг\", \"подмена\", \"ку-ку\", \"помощники\", \"клад\")',\n",
       " 'Бобро поржаловать!',\n",
       " 'Бобёр',\n",
       " 'Богатырша',\n",
       " 'Богатырята',\n",
       " 'Богемская рапсодия',\n",
       " 'Боги египта',\n",
       " 'Богиня',\n",
       " 'Боевая кукла',\n",
       " 'Боевой конь',\n",
       " 'Боец',\n",
       " 'Боже мой!',\n",
       " 'Боже, благослови америку',\n",
       " 'Боже, храни мой каблук',\n",
       " 'Божественная любовь',\n",
       " 'Бои без правил',\n",
       " 'Бой',\n",
       " 'Бой без правил',\n",
       " 'Бой после победы',\n",
       " 'Бой с тенью-3: последний раунд',\n",
       " 'Бойся своих желаний',\n",
       " 'Бойфренд из будущего',\n",
       " 'Бойцовая воля',\n",
       " 'Бойцовский клуб',\n",
       " 'Болевой порог',\n",
       " 'Болеро17',\n",
       " 'Болливуд: величайшая история любви',\n",
       " 'Болотные солдаты',\n",
       " 'Болт и блип спешат на помощь',\n",
       " 'Боль и слава',\n",
       " 'Большая афера',\n",
       " 'Большая афера в маленьком городе',\n",
       " 'Большая вечеринка',\n",
       " 'Большая игра',\n",
       " 'Большая игра / big game',\n",
       " 'Большая поэзия',\n",
       " 'Большая ржака',\n",
       " 'Большая свадьба',\n",
       " 'Больше - меньше',\n",
       " 'Больше чем секс',\n",
       " 'Больше, чем друг',\n",
       " 'Больше, чем любовь',\n",
       " 'Больше, чем любовь \"любимая женщина режиссера тодоровского\"',\n",
       " 'Большие \"мамочки\": сын как отец',\n",
       " 'Большие глаза',\n",
       " 'Большие надежды /по роману чарльза диккенса/',\n",
       " 'Большое путешествие',\n",
       " 'Большое путешествие вглубь океанов 3d: возвращение',\n",
       " 'Большой',\n",
       " 'Большой аттракцион',\n",
       " 'Большой белый танец',\n",
       " 'Большой вавилон',\n",
       " 'Большой всплеск',\n",
       " 'Большой злой лис и другие сказки',\n",
       " 'Большой и добрый великан',\n",
       " 'Большой и маленький',\n",
       " 'Большой кошачий побег',\n",
       " 'Большой лебовски',\n",
       " 'Большой собачий побег',\n",
       " 'Большой солдат',\n",
       " 'Большой фитиль',\n",
       " 'Бомж',\n",
       " 'Бомж с дробовиком',\n",
       " 'Борг\\\\макинрой',\n",
       " 'Борец и клоун',\n",
       " 'Борис годунов',\n",
       " 'Борцу не больно',\n",
       " 'Босиком по городу',\n",
       " 'Босиком по мостовой',\n",
       " 'Босс-молокосос',\n",
       " 'Брак за решеткой',\n",
       " 'Брандо без купюр',\n",
       " 'Братва из джунглей',\n",
       " 'Братец медвежонок /по одноименному произведению лорны кемерун/',\n",
       " 'Братство',\n",
       " 'Братц',\n",
       " 'Братья',\n",
       " 'Братья гримм',\n",
       " 'Братья из гримсби',\n",
       " 'Братья карамазовы',\n",
       " 'Братья медведи: тайна трёх миров',\n",
       " 'Братья систерс',\n",
       " 'Братья ч',\n",
       " 'Бременские разбойники',\n",
       " 'Брестская крепость',\n",
       " 'Бригада. наследник',\n",
       " 'Бриджит джонс 3',\n",
       " 'Брови',\n",
       " 'Бросок кобры',\n",
       " 'Бруклин',\n",
       " 'Брюс ли: рождение дракона',\n",
       " 'Бугай',\n",
       " 'Буги-вуги',\n",
       " 'Буду помнить',\n",
       " 'Будущее',\n",
       " 'Будь что будет',\n",
       " 'Будьте моим мужем',\n",
       " 'Букашки 2',\n",
       " 'Букашки 3d',\n",
       " 'Букашки. приключение в долине муравьев',\n",
       " 'Буквоежка',\n",
       " 'Букшоп',\n",
       " 'Бульвар страха',\n",
       " 'Бумажные города /по произведению джона грина/',\n",
       " 'Бункер',\n",
       " 'Бункер-42. капсула времени',\n",
       " 'Бунт ушастых',\n",
       " 'Бунтари без стыда',\n",
       " 'Бунюэль в лабиринте черепах',\n",
       " 'Бурлеск',\n",
       " 'Буря /по одноименной пьесе у.шекспира/',\n",
       " 'Бык',\n",
       " 'Было. есть. будет',\n",
       " 'Быстрее, чем кролики',\n",
       " 'Быть астрид линдгрен',\n",
       " 'Быть или не быть',\n",
       " 'Быть харви вайнштейном',\n",
       " 'Бьютифул',\n",
       " 'Бэйбэрикээн',\n",
       " 'Бэст сай-фай (best sci-fi)',\n",
       " 'Бэтмен против супермена: на заре справедливости',\n",
       " 'Бэтмэн и робин /по мотивам комиксов боба кейна/',\n",
       " 'Бэтмэн: начало',\n",
       " 'Бёрдмэн',\n",
       " 'В активном поиске',\n",
       " 'В белом плену',\n",
       " 'В гостях у элис',\n",
       " 'В двух шагах от славы',\n",
       " 'В доме',\n",
       " 'В доме отца',\n",
       " 'В другой стране',\n",
       " 'В квадрате 45',\n",
       " 'В кейптаунском порту',\n",
       " 'В краю крови и меда',\n",
       " 'В маленьком городе',\n",
       " 'В метре друг от друга',\n",
       " 'В небо... за мечтой',\n",
       " 'В объятиях лжи',\n",
       " 'В одной упряжке',\n",
       " 'В одну сторону',\n",
       " 'В ожидании молнии',\n",
       " 'В ожидании моря',\n",
       " 'В ожидании шарлотты корде',\n",
       " 'В окружении',\n",
       " 'В первый раз',\n",
       " 'В плену города грёз',\n",
       " 'В погоне за ветром',\n",
       " 'В погоне за счастьем',\n",
       " 'В поисках дори.     песочник',\n",
       " 'В поисках евы',\n",
       " 'В поисках истины',\n",
       " 'В поисках йети',\n",
       " 'В поисках немо',\n",
       " 'В поисках света',\n",
       " 'В постели с викторией',\n",
       " 'В ритме сердца',\n",
       " 'В россии идет снег',\n",
       " 'В сердце моря',\n",
       " 'В следующий раз я буду стрелять в сердце /по роману ивана стефановича \"убийца вне подозрений\"/',\n",
       " 'В сочи всегда солнечно',\n",
       " 'В спорте только девушки',\n",
       " 'В стране без женщин',\n",
       " 'В субботу',\n",
       " 'В тихом омуте',\n",
       " 'В тумане /по одноименной повести василя быкова/',\n",
       " 'В фокусе',\n",
       " 'В центре внимания',\n",
       " 'В четверг и больше никогда',\n",
       " 'В шесть часов вечера после войны',\n",
       " 'Вавилон',\n",
       " 'Вайолет эвергарден: вечность и призрак пера',\n",
       " 'Вакансия',\n",
       " 'Вакантна жизнь шеф-повара',\n",
       " 'Валентин и валентина',\n",
       " 'Валентина',\n",
       " 'Валериан и город тысячи планет',\n",
       " 'Вальгалла: рагнарек',\n",
       " 'Вальс для моники',\n",
       " 'Вам и не снилось',\n",
       " 'Вампирский засос',\n",
       " 'Вампирша против франкенштейнш',\n",
       " 'Ван гог. на пороге вечности',\n",
       " 'Ван гог. с любовью, винсент',\n",
       " 'Ван гог: золото и лазурь',\n",
       " 'Ван гоги',\n",
       " 'Ванька тепляшин',\n",
       " 'Варда глазами аньес',\n",
       " 'Варенье из сакуры',\n",
       " 'Варкрафт',\n",
       " 'Вас ожидает гражданка никанорова',\n",
       " 'Василиса',\n",
       " 'Васса',\n",
       " 'Вася',\n",
       " 'Ватерлоо',\n",
       " 'Ватиканские записи',\n",
       " 'Ваш репетитор',\n",
       " 'Ваша честь',\n",
       " 'Вверх',\n",
       " 'Вдали от обезумевшей толпы /по одноименному произведению томаса харди/',\n",
       " 'Вдвоем на льдине',\n",
       " 'Вдовы',\n",
       " 'Вдохновенный свидетель истины',\n",
       " 'Вдребезги',\n",
       " 'Ведьма',\n",
       " 'Ведьма войны',\n",
       " 'Ведьма из блэр: новая глава',\n",
       " 'Ведьмин ключ',\n",
       " 'Ведьмина гора',\n",
       " 'Ведьмы',\n",
       " 'Ведьмы из сугаррамурди',\n",
       " 'Везуха! (11)',\n",
       " 'Везучая',\n",
       " 'Везучий случай',\n",
       " 'Век адалин',\n",
       " 'Великая красота',\n",
       " 'Великая мистификация хип-хопа',\n",
       " 'Великая стена',\n",
       " 'Великие битвы россии',\n",
       " 'Великий воин албании скандербег',\n",
       " 'Великий гэтсби /по одноименному роману фрэнсиса скотта фицджеральда/',\n",
       " 'Великий диктатор',\n",
       " 'Великий мастер',\n",
       " 'Великий северный путь',\n",
       " 'Великий уравнитель',\n",
       " 'Великий уравнитель 2',\n",
       " 'Великолепная',\n",
       " 'Великолепная афера /по роману эрика гарсии/',\n",
       " 'Великолепная семерка',\n",
       " 'Величайший кутюрье',\n",
       " 'Величайший шоумен',\n",
       " 'Велкам хом',\n",
       " 'Велотачки',\n",
       " 'Вельзевул',\n",
       " 'Венера в мехах',\n",
       " 'Венецианские львы',\n",
       " 'Венецианский детектив',\n",
       " 'Венеция зовет',\n",
       " 'Веном',\n",
       " 'Вера',\n",
       " 'Верка-фуэте',\n",
       " 'Верность',\n",
       " 'Вернуть бена',\n",
       " 'Вероника решает умереть',\n",
       " 'Вертолёты',\n",
       " 'Вес воды',\n",
       " 'Веселые каникулы',\n",
       " 'Весенние надежды',\n",
       " 'Весна',\n",
       " 'Вествуд: панк, икона, активист',\n",
       " 'Весури',\n",
       " 'Весь этот джем',\n",
       " 'Весь этот мир',\n",
       " 'Весёлая карусель №49',\n",
       " 'Весёлая ферма',\n",
       " 'Весёлые ребята ;)',\n",
       " 'Ветер крепчает',\n",
       " 'Ветреная река',\n",
       " 'Вечер с беверли лафф линн',\n",
       " 'Вечеринка',\n",
       " 'Вечерний лабиринт',\n",
       " 'Вечерняя школа',\n",
       " 'Вечная жизнь александра христофорова',\n",
       " 'Вечно молодой/ все будет рок-н-ролл',\n",
       " 'Вечное возвращение',\n",
       " 'Вечность',\n",
       " 'Вечный зов',\n",
       " 'Вечный холод',\n",
       " 'Взломать блогеров',\n",
       " 'Взорвать гитлера',\n",
       " 'Взрослая дочь или тест на',\n",
       " 'Взрослые дети',\n",
       " 'Взрослые игры',\n",
       " 'Взрывная блондинка',\n",
       " 'Видели ночь',\n",
       " 'Виджай и я',\n",
       " 'Видно будет',\n",
       " 'Видок: охотник на призраков',\n",
       " 'Вижу лишь тебя',\n",
       " 'Византия',\n",
       " 'Визит',\n",
       " 'Вий 3d',\n",
       " 'Викинг',\n",
       " 'Викинг 18+',\n",
       " 'Викинги',\n",
       " 'Викинги. британский музей',\n",
       " 'Виктор',\n",
       " 'Виктор франкенштейн',\n",
       " 'Виктория',\n",
       " 'Виктория и абдул',\n",
       " 'Виктория: история любви /по роману кнута гамсуна/',\n",
       " 'Вилли и крутые тачки',\n",
       " 'Виноваты звезды /по произведению д.грина/',\n",
       " 'Винченцо беллини. норма /по произведению александра суме \"норма или детоубийство\"/. постановка театро комунале (болонья)',\n",
       " 'Винченцо беллини. пуритане. постановка театро комунале (болонья)',\n",
       " 'Винчестер. дом, который построили призраки',\n",
       " 'Виолет и дейзи',\n",
       " 'Вирус',\n",
       " 'Вирус любви',\n",
       " 'Виселица',\n",
       " 'Високосный год',\n",
       " 'Вита и вирджиния',\n",
       " 'Витя глушаков - друг апачей',\n",
       " 'Вишенка на новогоднем торте',\n",
       " 'Вкус америки',\n",
       " 'Вкус жизни',\n",
       " 'Вкус средиземного моря',\n",
       " 'Владение 18',\n",
       " 'Владимир маканин. цена личного голоса',\n",
       " 'Владыка времени',\n",
       " 'Властелин колец: братство кольца /по произведению джона рональда руэла толкиена \"властелин колец: хранители\"/',\n",
       " 'Властелин колец: возвращение короля /по произведению джона рональда руэла толкиена \"властелин колец: возвращение государя\"/',\n",
       " 'Властелин колец: две крепости /по произведению джона рональда руэла толкиена \"властелин колец: две твердыни\"/',\n",
       " 'Властелин любви',\n",
       " 'Властелин разметки',\n",
       " 'Властелин танца 3d',\n",
       " 'Власть',\n",
       " 'Власть убеждений',\n",
       " 'Влечение',\n",
       " 'Влюбленные',\n",
       " 'Влюбленный скорпион /по роману карлоса бардема/',\n",
       " 'Вмаяковский',\n",
       " 'Вне времени',\n",
       " 'Вне игры (серии 1-12)',\n",
       " 'Вне поля зрения /по роману элмора леонарда/',\n",
       " 'Вне/себя',\n",
       " 'Внеклассные занятия в 3d (монстры из бездны; язык насекомых; как устроена клетка; путешествие к солнцу)',\n",
       " 'Внимание, черепаха!',\n",
       " 'Внутри льюина дэвиса',\n",
       " 'Во власти стихии',\n",
       " 'Во все тяжкое',\n",
       " 'Во всем виноват енот',\n",
       " 'Во имя чести',\n",
       " 'Вода в руке',\n",
       " 'Воды слонам! /по произведению сары груэн/',\n",
       " 'Водяная',\n",
       " 'Вождь разнокожих',\n",
       " 'Возврата нет',\n",
       " 'Возвращение буратино',\n",
       " 'Возвращение буратино 3d',\n",
       " 'Возвращение в \"а\"',\n",
       " 'Возвращение в бургундию',\n",
       " 'Возвращение в простоквашино. часть 2 из анимационного сериала \"простоквашино\"',\n",
       " 'Возвращение василия бортникова',\n",
       " 'Возвращение героя',\n",
       " 'Возвращение саввы',\n",
       " 'Возвращение супермена',\n",
       " 'Воздушный маршал',\n",
       " 'Возлюбленные',\n",
       " 'Возмездие',\n",
       " 'Возмещение ущерба',\n",
       " 'Возмутитель спокойствия',\n",
       " 'Возьми меня штурмом',\n",
       " 'Воин',\n",
       " 'Воин.com',\n",
       " 'Воины света',\n",
       " 'Вой банши',\n",
       " 'Война',\n",
       " 'Война анны',\n",
       " 'Война богов: бессмертные 3d',\n",
       " ...]"
      ]
     },
     "execution_count": 29,
     "metadata": {},
     "output_type": "execute_result"
    }
   ],
   "source": [
    "sorted(data['title'].unique())"
   ]
  },
  {
   "cell_type": "markdown",
   "metadata": {},
   "source": [
    "**Столбец *type***"
   ]
  },
  {
   "cell_type": "code",
   "execution_count": 30,
   "metadata": {},
   "outputs": [
    {
     "data": {
      "text/plain": [
       "array(['Художественный', 'Анимационный', 'Прочие', 'Документальный',\n",
       "       'Научно-популярный', ' Художественный', ' Анимационный',\n",
       "       'Музыкально-развлекательный'], dtype=object)"
      ]
     },
     "execution_count": 30,
     "metadata": {},
     "output_type": "execute_result"
    }
   ],
   "source": [
    "data['type'].unique()"
   ]
  },
  {
   "cell_type": "markdown",
   "metadata": {},
   "source": [
    "В столбце присутствуют одинаковые значения, отличающиеся только наличием пробела в начале. Это можно исправить."
   ]
  },
  {
   "cell_type": "code",
   "execution_count": 31,
   "metadata": {},
   "outputs": [
    {
     "data": {
      "text/plain": [
       "array(['Художественный', 'Анимационный', 'Прочие', 'Документальный',\n",
       "       'Научно-популярный', 'Музыкально-развлекательный'], dtype=object)"
      ]
     },
     "execution_count": 31,
     "metadata": {},
     "output_type": "execute_result"
    }
   ],
   "source": [
    "data['type'] = data['type'].str.strip()\n",
    "data['type'].unique()"
   ]
  },
  {
   "cell_type": "markdown",
   "metadata": {},
   "source": [
    "**Столбцы *age_restriction* и *financing_source***"
   ]
  },
  {
   "cell_type": "code",
   "execution_count": 32,
   "metadata": {},
   "outputs": [
    {
     "data": {
      "text/plain": [
       "array(['«18+» - запрещено для детей', '«6+» - для детей старше 6 лет',\n",
       "       '«12+» - для детей старше 12 лет',\n",
       "       '«16+» - для детей старше 16 лет',\n",
       "       '«0+» - для любой зрительской аудитории'], dtype=object)"
      ]
     },
     "execution_count": 32,
     "metadata": {},
     "output_type": "execute_result"
    }
   ],
   "source": [
    "data['age_restriction'].unique()"
   ]
  },
  {
   "cell_type": "code",
   "execution_count": 33,
   "metadata": {},
   "outputs": [
    {
     "data": {
      "text/plain": [
       "array([nan, 'Министерство культуры', 'Фонд кино',\n",
       "       'Министерство культуры, Фонд кино'], dtype=object)"
      ]
     },
     "execution_count": 33,
     "metadata": {},
     "output_type": "execute_result"
    }
   ],
   "source": [
    "data['financing_source'].unique()"
   ]
  },
  {
   "cell_type": "markdown",
   "metadata": {},
   "source": [
    "Неявных дубликатов в столбцах нет. Однако названия категорий в столбце с возрастным ограничением лучше уменьшить."
   ]
  },
  {
   "cell_type": "code",
   "execution_count": 34,
   "metadata": {},
   "outputs": [
    {
     "data": {
      "text/plain": [
       "array(['«18+»', '«6+»', '«12+»', '«16+»', '«0+»'], dtype=object)"
      ]
     },
     "execution_count": 34,
     "metadata": {},
     "output_type": "execute_result"
    }
   ],
   "source": [
    "data['age_restriction'] = data['age_restriction'].str.extract(r'(«\\d{1,2}\\+»)')\n",
    "data['age_restriction'].unique()"
   ]
  },
  {
   "cell_type": "markdown",
   "metadata": {},
   "source": [
    "<div class=\"alert alert-success\"; style=\"border-left: 7px solid green\">\n",
    "<h3>✔ Комментарий ревьюера</h3>\n",
    "    \n",
    "Можно так:\n",
    "</div>    "
   ]
  },
  {
   "cell_type": "code",
   "execution_count": 35,
   "metadata": {},
   "outputs": [
    {
     "data": {
      "text/html": [
       "<div>\n",
       "<style scoped>\n",
       "    .dataframe tbody tr th:only-of-type {\n",
       "        vertical-align: middle;\n",
       "    }\n",
       "\n",
       "    .dataframe tbody tr th {\n",
       "        vertical-align: top;\n",
       "    }\n",
       "\n",
       "    .dataframe thead th {\n",
       "        text-align: right;\n",
       "    }\n",
       "</style>\n",
       "<table border=\"1\" class=\"dataframe\">\n",
       "  <thead>\n",
       "    <tr style=\"text-align: right;\">\n",
       "      <th></th>\n",
       "      <th>0</th>\n",
       "    </tr>\n",
       "  </thead>\n",
       "  <tbody>\n",
       "    <tr>\n",
       "      <th>0</th>\n",
       "      <td>«18+»</td>\n",
       "    </tr>\n",
       "  </tbody>\n",
       "</table>\n",
       "</div>"
      ],
      "text/plain": [
       "       0\n",
       "0  «18+»"
      ]
     },
     "execution_count": 35,
     "metadata": {},
     "output_type": "execute_result"
    }
   ],
   "source": [
    "# Код ревьюера\n",
    "\n",
    "pd.Series(['«18+» - запрещено для детей']).str.extract(r'(«\\d{1,2}\\+»)')"
   ]
  },
  {
   "cell_type": "markdown",
   "metadata": {},
   "source": [
    "<div class = \"alert alert-info\" style=\"border-left: 7px solid blue\">\n",
    "<h3>Комментарий студента</h3>\n",
    "    \n",
    "Применила. Постараюсь запомнить эти функции для регулярок в pandas. Очень удобно\n",
    "</div>"
   ]
  },
  {
   "cell_type": "markdown",
   "metadata": {},
   "source": [
    "<div class=\"alert alert-success\"; style=\"border-left: 7px solid green\">\n",
    "<h3>✔ Комментарий ревьюера V.2</h3>\n",
    "    \n",
    "Да, часто пригождаются. С самими регулярными выражениями можно играться тут: https://regex101.com/</div>    \n"
   ]
  },
  {
   "cell_type": "markdown",
   "metadata": {},
   "source": [
    "**Столбцы с наборами значений**"
   ]
  },
  {
   "cell_type": "markdown",
   "metadata": {},
   "source": [
    "В столбцах *film_studio*, *production_country*, *director*, *producer* и *genres* существует другая проблема: в одной ячейке может содержаться несколько значений, записанные через различные разделители. Их следует привести к спискам, чтобы потом было удобнее вынимать отдельные элементы."
   ]
  },
  {
   "cell_type": "code",
   "execution_count": 36,
   "metadata": {},
   "outputs": [],
   "source": [
    "# переводит строковые наборы значений в списки\n",
    "def str_to_list(value, sep=', '):\n",
    "    return str(value).lower().strip().split(sep)"
   ]
  },
  {
   "cell_type": "code",
   "execution_count": 37,
   "metadata": {},
   "outputs": [
    {
     "name": "stdout",
     "output_type": "stream",
     "text": [
      "['амандин било', 'алан шаба']\n",
      "['германия', 'великобритания', 'италия', 'испания']\n",
      "['мелодрама', 'комедия']\n",
      "['в.панжев', 'г.курлаев', 'и.белостоцкий', 'м.сулейманова', 'н.репина', 'с.морозов и др.']\n"
     ]
    }
   ],
   "source": [
    "# проверка работоспособности функции\n",
    "print(str_to_list('Амандин Било, Алан Шаба '))\n",
    "print(str_to_list('Германия - Великобритания - Италия - Испания', sep=' - '))\n",
    "print(str_to_list('мелодрама,комедия', sep=','))\n",
    "print(str_to_list('В.Панжев, Г.Курлаев, И.Белостоцкий, М.Сулейманова, Н.Репина, С.Морозов и др.'))"
   ]
  },
  {
   "cell_type": "code",
   "execution_count": 38,
   "metadata": {},
   "outputs": [
    {
     "data": {
      "text/plain": [
       "array(['США', 'СССР', 'Франция', 'СССР, Венгрия',\n",
       "       'Германия-Великобритания', 'Великобритания - Италия',\n",
       "       'Чехословакия', 'США - Франция - Турция', 'Новая Зеландия',\n",
       "       'Канада - Франция - Испания', 'США-Германия',\n",
       "       'США - Великобритания', 'Великобритания', 'США - Германия',\n",
       "       'Франция - Мексика - США', 'Россия, Казахстан, США',\n",
       "       'СССР, Швеция', 'СССР, Франция, Англия, Куба, ГДР', 'Германия',\n",
       "       'Великобритания-США-Германия-КНР',\n",
       "       'СССР, ЧССР, Западный Берлин, ПНР', 'СССР, Италия', 'Гонконг, КНР',\n",
       "       'США - Франция', 'США - Япония - Франция - Великобритания',\n",
       "       'Гонконг - Сингапур - Таиланд - Великобритания', 'США-Канада',\n",
       "       'Франция - Италия - Великобритания - США', 'Франция - США',\n",
       "       'Ирландия-Великобритания-Германия', 'Чехия', 'США-Австралия',\n",
       "       'СССР, Финляндия', 'США-Франция-Великобритания-Австрия',\n",
       "       'США - Бельгия', 'США - Ирландия - Великобритания',\n",
       "       'Великобритания - США',\n",
       "       'Люксембург - Нидерланды - Испания - Великобритания - США - Италия',\n",
       "       'Великобритания - Франция - США', 'Новая Зеландия - США',\n",
       "       'США - Великобритания - Чехия',\n",
       "       'Канада - Франция - Великобритания', 'Ирландия',\n",
       "       'Великобритания - Германия - США',\n",
       "       'США - Франция - Великобритания', 'Япония', 'СССР, Польша',\n",
       "       'Франция - Испания', 'Канада-Франция', 'Германия - Италия - США',\n",
       "       'Аргентина - Бразилия', 'Дания - Швейцария - Бельгия - Франция',\n",
       "       'США - Испания', 'Германия - США',\n",
       "       'Франция - Австрия - Германия - Италия - США', 'Австрия',\n",
       "       'США - Канада - Германия', 'США - Канада',\n",
       "       'СССР - Швейцария - Франция', 'Россия - Казахстан', 'Гонконг',\n",
       "       'Италия', 'США - ОАЭ', 'Россия',\n",
       "       'США - Франция - Испания - Великобритания',\n",
       "       'Великобритания - Франция', 'США-Италия-Испания-Аргентина',\n",
       "       'Франция-Великобритания', 'КНР - Гонконг',\n",
       "       'Франция - Италия - Швейцария', 'США - Новая Зеландия',\n",
       "       'Франция - Бельгия', 'КНР', 'Германия - Великобритания - Австрия',\n",
       "       'Великобритания - Израиль - Франция - Япония - США', 'Швеция',\n",
       "       'Испания', 'Дания', 'Франция - Бельгия - Люксембург',\n",
       "       'США - Индия - ОАЭ',\n",
       "       'Германия-Канада-Великобритания-Швейцария-Франция',\n",
       "       'Мексика - Чили', 'Аргентина', 'Бразилия', 'Чили', 'Австралия',\n",
       "       'Португалия - Франция', 'США - ЮАР', 'Исландия-Ирландия-Германия',\n",
       "       'США-Индонезия', 'Южная Корея', 'Мексика - Испания - Дания - США',\n",
       "       'Великобритания-США', 'Франция - Италия', 'США-Франция',\n",
       "       'США - Венгрия - Великобритания', 'Бельгия-Франция-Италия',\n",
       "       'Чехия - Германия', 'Германия - Франция', 'США-Нидерланды',\n",
       "       'Украина', 'Великобритания - Германия', 'Франция-Бельгия',\n",
       "       'США-Франция-Испания', 'Италия - Франция', 'Канада',\n",
       "       'Швеция-Франция-Дания', 'Германия-Франция-Польша',\n",
       "       'Франция-Великобритания - Германия',\n",
       "       'США - Бразилия - Франция - Австралия - Великобритания - Германия',\n",
       "       'Германия-Австрия', 'Германия-Италия- Шри-Ланка',\n",
       "       'Великобритания - Испания',\n",
       "       'США - Великобритания - Канада - Швеция',\n",
       "       'Босния и Герцеговина - Франция - Великобритания - Германия - Словения - Бельгия - Сербия',\n",
       "       'Великобритания - Франция - Италия - США', 'США-ОАЭ',\n",
       "       'Испания - Франция', 'США-Великобритания', 'США-ЮАР',\n",
       "       'Великобритания-Австралия - США',\n",
       "       'Норвегия - Швеция - Дания - Германия', 'Норвегия', 'Швейцария',\n",
       "       'Греция - Германия - Франция', 'Норвения', 'Южная Корея - США',\n",
       "       'Чили - Франция - США', 'Австрия - Германия - Франция',\n",
       "       'Швеция - Дания', 'Великобритания - Франция - Бельгия - Италия',\n",
       "       'Франция - Германия', 'Грузия - Франция - Люксембург',\n",
       "       'США - Франция - Великобритания - Бразилия ', 'США - КНР',\n",
       "       'Мексика - Франция', 'США - Германия - Гонконг - Сингапур',\n",
       "       'Финляндия - Австрия - Россия', 'Испания - Куба',\n",
       "       'Великобритания - ЮАР', 'Великобритания - Ирландия', 'Израиль',\n",
       "       'Бразилия - Германия - Порртугалия - Франция ',\n",
       "       'Франция - Канада - Бельгия', 'Франция-Испания',\n",
       "       'Испания - Канада - Япония', 'Иран', 'Швеция-Куба',\n",
       "       'США-Великобритания-Ирландия', 'Гонконг - КНР', 'Нидерланды',\n",
       "       'Испания - Канада', 'Япония-Великобритания',\n",
       "       'Великобритания - Норвегия - Дания - Германия',\n",
       "       'Финляндия - Франция - Германия',\n",
       "       'Мексика - Франция - Нидерланды - Германия', 'США - Индия',\n",
       "       'США-Великобритания-Индия', 'США-Канада-Бельгия',\n",
       "       'Республика Узбекистан', 'Италия ', 'Турция',\n",
       "       'Сербия - Словения - Хорватия - Черногория - Македония',\n",
       "       'Киргизия', 'Германия - Нидерланды - Беларусь - Россия - Латвия',\n",
       "       'Индия', 'Нидерланды - Россия - Германия',\n",
       "       'Великобритания - Нидерланды - Франция - Хорватия',\n",
       "       'Канада - Южная Корея',\n",
       "       'Великобритания - Польша - КНР - Индия - Норвегия',\n",
       "       'Япония - Франция - США - Южная Корея - Турция',\n",
       "       'Мексика - Аргентина - Великобритания', 'Израиль - Франция',\n",
       "       'Польша - Португалия - Франция - Великобритания',\n",
       "       'Австралия - США', 'США - Великобритания ',\n",
       "       'Франция - Люксембург - Бельгия', 'Армения',\n",
       "       'Бельгия - Люксембург - Франция - Швейцария',\n",
       "       'США - Великобритания - Канада', 'Норвегия - Швеция',\n",
       "       'Канада - Франция', 'КНР - Гонконг - США',\n",
       "       'США - Сингапур - Малайзия - Индонезия', 'Германия - Россия',\n",
       "       'Япония - Канада', 'Финляндия - Дания - Германия - Ирландия',\n",
       "       'Франция - Люксембург - Германия - Бельгия - Швейцария - Великобритания ',\n",
       "       'Канада - США', 'США-Италия-Испания', 'США-Испания',\n",
       "       'США - Швейцария - Франция', 'Испания - США - Колумбия',\n",
       "       'Канада-ЮАР', 'Франция - Россия',\n",
       "       'Германия - Финляндия - Австралия', 'Дания - Швеция', 'Бельгия',\n",
       "       'Германия - Франция - Австрия', 'Франция-Индия', 'ЮАР',\n",
       "       'Франция-Перу', 'Франция - Канада', 'Республика Беларусь',\n",
       "       'Великобритания - Австрия - Франция - США',\n",
       "       'Австрия-Германия-Франция', 'США-Россия', 'Германия-США',\n",
       "       'США - Южная Корея', 'Канада - КНР',\n",
       "       'Дания - Швеция - Италия - Франция - Германия',\n",
       "       'Франция-Италия-Испания-Венгрия', 'Франция - Германия - Бельгия',\n",
       "       'Франция-Великобритания-Чехия', 'Румыния - Франция - Бельгия',\n",
       "       'Болгария - Франция - Изриль',\n",
       "       'Израиль - Германия - Польша - Бельгия - Франция - Люксембург',\n",
       "       'Россия, Германия, Франция, Бельгия', 'Индонезия',\n",
       "       'Франция - Португалия', 'Великобритания - Пуэрто-Рико',\n",
       "       'СССР, ФРГ, Западный Берлин', 'Россия, Республика Беларусь',\n",
       "       'США, Великобритания', 'Франция - Австрия', 'Бельгия-Нидерланды',\n",
       "       'Великобритания - США - Индия', 'США - Великобритания - Австралия',\n",
       "       'Канада - Франция - США - ОАЭ - Великобритания',\n",
       "       'США - Австралия - Франция',\n",
       "       'Дания-Франция-Бельгия-Германия-Великобритания',\n",
       "       'Испания - Аргентина', 'Исландия - Финляндия',\n",
       "       'Россия-Польша-Голландия-Словакия', 'Дания - Германия - Швеция',\n",
       "       'Южная Корея - США - Канада', 'Таиланд', 'США-Мальта',\n",
       "       'США -Германия',\n",
       "       'Великобритания - Германия - Франция - Кипр - США', 'Мексика',\n",
       "       'США - Великобритания - Ирландия', 'США - Украина',\n",
       "       'США - Финляндия - Испания - Великобритания - Франция',\n",
       "       'Австралия-Великобритания',\n",
       "       'США - Канада - Афганистан - Бельгия - Франция',\n",
       "       'США - Великобритания - Германия - Новая Зеландия - Бельгия - Франция',\n",
       "       'Франция-Канада',\n",
       "       'Ирландия - Финляндия - Бельгия - Великобритания - США - Швейцария',\n",
       "       'Малайзия - США', 'Германия - Италия',\n",
       "       'США - Франция - Бельгия - Италия', 'Франция - Ирландия - Швеция',\n",
       "       'Азербайджан-Россия', 'Великобритания - Италия - Швейцария',\n",
       "       'США - Германия - Великобритания',\n",
       "       'Германия - Бельгия - США -Франция', 'США-Китай', 'Чили - Испания',\n",
       "       'Франция - Швейцария', 'Канада - Испания',\n",
       "       'США - Румыния - Великобритания', 'США - Япония',\n",
       "       'США - Россия - Франция', 'Франция-США', 'Парагвай',\n",
       "       'Германия - Канада', 'США - Канада - Великобритания',\n",
       "       'Финляндия - Канада', 'Уругвай-Мексика-Германия ', 'США - Чили',\n",
       "       'Германия - Аргентина - Нидерланды - Чили',\n",
       "       'США - Канада - Индонезия', 'Армения - Казахстан', 'Финляндия',\n",
       "       'Испания - Италия - Франция',\n",
       "       'Бельгия - Испания - Канада - Нидерланды',\n",
       "       'Великобритания - Франция - Швеция - Бельгия',\n",
       "       'Мексика - Эквадор - Канада - США - Франция - Малайзия - Италия - Аргентина - Германия - Индия  ',\n",
       "       'Франция - Бенльгия', 'Индия - Великобритания',\n",
       "       'Япония - Великобритания - Франция',\n",
       "       'Испания - Уругвай - Аргентина',\n",
       "       'Франция - Италия - Бельгия - Люксембург',\n",
       "       'Франция - Украина - Грузия - Армения',\n",
       "       'Сербия - Германия - Венгрия', 'Франция-Польша', 'Франция ',\n",
       "       'Румыния-США', 'Россия-Азербайджан',\n",
       "       'США - Нидерланды - Бельгия - Венгрия - Греция - Канада',\n",
       "       'Германия - Франция - Люксембург', 'США - Россия',\n",
       "       'Великобритания - США - Франция', 'США - Австралия - Дания',\n",
       "       'Бельгия-Франция', 'США-Мексика',\n",
       "       'Норвегия - Азербайджан - Россия - Колумбия - Великобритания - Венгрия - Румыния - Франция - Грузия',\n",
       "       'СЩА', 'Бразилия - Испания', 'Россия, Франция, Латвия',\n",
       "       'Нидерланды - США - Германия - Канада - Франция - Ирландия - Великобритания',\n",
       "       'Уругвай - Колумбия', 'США - Испания - Болгария',\n",
       "       'Армения - Германия', 'США - Великобритания- Франция - Швеция',\n",
       "       'США - Мексика', 'Австралия-Турция-США', 'Швеция - Германия',\n",
       "       'Польша - Италия - Россия', 'Франция - Бразилия',\n",
       "       'США - Канада - КНР', 'СССР, Венгрия, ЧССР, ГДР',\n",
       "       'Бельгия - Германия - Люксембург', 'СССР  ', 'СССР ', ' СССР ',\n",
       "       'США - Австралия', 'Бразилия - США',\n",
       "       'США - Великобритания - Канада - КНР', 'Франция - Чили',\n",
       "       'Франция - США - Великобритания - Колумбия - Бельгия - Россия',\n",
       "       'Дания - Великобритания - ЮАР', 'СССР   ',\n",
       "       'Россия-США-Канада-Люксембург', 'Россия - Республика Кипр',\n",
       "       'Германия - США - Швеция - Франция',\n",
       "       'Великобритания-Германия-Канада-ЮАР', ' СССР   ', 'СССР     ',\n",
       "       'Ирландия, Канада',\n",
       "       'Япония - Великобритания - Швейцария - Ирландия - Дания - Франция - Польша - Австралия - Канада  ',\n",
       "       'Великобритания, Канада', 'Бельгия - США',\n",
       "       'Великобритания - США - Россия', 'Россия-Украина',\n",
       "       'Германия - США - Великобритания - Израиль', 'Канада - Германия',\n",
       "       'США- Ю.Корея', 'Индия - Мексика',\n",
       "       'Великобритания - Франция - Республика Кипр - Швейцария - США - Сербия',\n",
       "       'Испания - Аргентина - Индия - США',\n",
       "       'Норвегия - Исландия - США - Великобритания ',\n",
       "       'Турция - Германя - Франция', 'Германия - Великобритания',\n",
       "       'Австралия - Германия', 'Мексика - Испания',\n",
       "       'Великобритания - США - Германия - Бельгия',\n",
       "       'США - Чехия - Франция', 'Россия - Италия', 'Франция-Россия',\n",
       "       'Норвегия - Дания - Швеция', 'Франция - Швейцария - Германия',\n",
       "       'Грузия - Украина', 'Россия - Эстония - Финляндия - Беларусь',\n",
       "       'США - Франция - ЮАР', 'Великобритания - США - Швейцария',\n",
       "       'Канада-США', 'Мексика - Нидерланды - Германия - Франция',\n",
       "       'США - Испания - Франция', 'США - Великобритания - КНР',\n",
       "       'США-Франция-Канада',\n",
       "       'Япония, Великобритания, Австрия, Германия, Ю.Корея',\n",
       "       'Великобритания - Ирландия - США', 'Бельгия - Италия - Франция ',\n",
       "       'Швейцария-Германия-ЮАР', 'Великобритания - США - Германия',\n",
       "       'Германия - Исландия', 'Испания - США', 'СССР    ', 'Хорватия',\n",
       "       'Финляндия - Исландия - Швеция',\n",
       "       'Канада - США - Германия - Франция',\n",
       "       'США - Великобритания - Испания', 'Ирландия-Великобритания',\n",
       "       'Аргентина - Испания', 'Австрия - Германия', ' СССР',\n",
       "       'Германия - Швейцария - Франция - Южная Корея - США',\n",
       "       'Украина - Нидерланды', 'Венгрия - Германия - Швеция',\n",
       "       'Германия - Франция -  Польша - Турция - Канада - Италия - Россия ',\n",
       "       'СССР, Афганистан', 'СССР, Монголия', 'Россия-Кипр',\n",
       "       'Россия, Грузия, Испания',\n",
       "       'Великобритания - Нидерланды - Германия - Франция - Бельгия - Австрия ',\n",
       "       'Испания - Великобритания - Франция',\n",
       "       'Дания - Норвегия - Великобритания',\n",
       "       'Бельгия - Франция - Люксембург',\n",
       "       'Италия - Франция - Швейцария - Великобритания',\n",
       "       'Франция - Бельгия - Великобритания - Испания - Германия - США',\n",
       "       'Швейцария - Израиль - Франция - Великобритания',\n",
       "       'Великобритания - США - Канада - Нидерланды - Франция',\n",
       "       'Россия, Италия', 'СССР, Албания',\n",
       "       'Россия, Украина, Республика Беларусь, Литва',\n",
       "       'Финляндия - Великобритания - Германия', 'Россия, Украина, Польша',\n",
       "       'Франция - Италия - Бельгия - КНР',\n",
       "       'Германия - Бельгия - Люксембург - Ирландия', 'КНР - Сингапур',\n",
       "       'Франция - Бельгия - Великобритания - США - Нидерланды - Канада',\n",
       "       'США - Россия - Польша - Германия - Пуэрто Рико',\n",
       "       'Франция - Бельгия - Канада', 'США ', 'Мексика - США',\n",
       "       'США - Гонконг - КНР ', 'Греция - Россия',\n",
       "       'Ирландия - Дания - Бельгия - Люксембург - Франция',\n",
       "       'Эстония - Россия',\n",
       "       'Великобритания - Исландия - Испания - Швейцария - США',\n",
       "       'Австралия - Великобритания - Бельгия - Индия',\n",
       "       'Швеция - Германия - Франция - Норвегия',\n",
       "       'Нидерланды - Бельгия - Германия - Ирландия',\n",
       "       'Нидерланды - Великобритания - Бельгия',\n",
       "       'США - Колумбия - Испания', 'Франция-Испания-Бельгия-Панама',\n",
       "       'США-Великобритания-Чехия-Румыния',\n",
       "       'Аргентина - Уругвай - Россия - Германия - Франция - Нидерланды',\n",
       "       'Швеция - Франция - Норвегия - Дания',\n",
       "       'Италия-Франция-Великобритания', 'Великобритания, Франция',\n",
       "       'Австралия, США', 'Венесуэла',\n",
       "       'Великобритания - США - Австралия - Ирландия - Германия - Куба - Канада',\n",
       "       'Южная Корея - КНР',\n",
       "       'Аргентина - Мексика - Бразилия - Франция - США', 'Швеция - США',\n",
       "       'Франция - Германия - Турция - Катар', 'Франция-Китай',\n",
       "       'Россия, Германия, Великобритания',\n",
       "       'Великобритания - Италия - Испания', 'Италия - Россия',\n",
       "       'Япония - КНР - Южная Корея', 'Россия, Германия',\n",
       "       'Россия-Ирландия', 'Македония - Франция - Великобритания',\n",
       "       'Франция - Бразилия - Италия', 'Россия-США', 'Армения-Россия',\n",
       "       'Россия, Румыния', 'Франция -  Бельгия', 'Грузия-Франция',\n",
       "       'ЮАР - США', 'Великобритания-США-Франция',\n",
       "       'Великобритания - США - Германия - Канада - Австралия',\n",
       "       'США-Ирландия', 'Россия, Республика Кипр',\n",
       "       'Германия - Люксембург - Франция', 'Россия-Франция',\n",
       "       'США - Нидерланды - Финляндия - Великобритания - Италия',\n",
       "       'Республика Кипр', 'Венгрия', 'Франция - США - Норвегия - Дания',\n",
       "       'Германия - Австрия - Ирландия', 'США - Финляндия',\n",
       "       'Италия-Великобритания', 'Россия, Испания',\n",
       "       'США - Великобритания - Болгария', 'Великобритания - Люксембург',\n",
       "       'Индия - США', 'США - Канада - Россия - Франция - Чили - Ирландия',\n",
       "       'Грузия-Россия',\n",
       "       'Дания - Австрия - Ирландия - Финляндия - Норвегия - Швеция - Нидерланды',\n",
       "       'США-КНР', 'Грузия', 'Австралия - Ирландия',\n",
       "       'Великобритания - Канада', 'Италия - Аргентина - Словения ',\n",
       "       'Испания - Франция - Нидерланды - Германия - Бельгия - Великобритания - Канада',\n",
       "       'Франция - Чехия - Бельгия',\n",
       "       'Великобритания - Франция - Германия - США',\n",
       "       'Ирландия - Великобритания - Франция - США - Германия - Нидерланды',\n",
       "       'США - Канада - Япония - КНР', 'Италия-Франция',\n",
       "       'США - Великобритания - Исландия', 'Великобритания-Франция',\n",
       "       'Франция - Германия - Нидерланды', 'Иран ',\n",
       "       'Франция - Германия - Швеция - США - Чехия - Словакия - Великобритания - Нидерланды',\n",
       "       'Франция - Канада - Н.Зеландия - США - Нидерланды - Германия - Швеция - Россия',\n",
       "       'Турция - США',\n",
       "       'Великобритания - США - Канада - Бельгия - Нидерланды - Австрия - Германия',\n",
       "       'Израиль - Франция - Германия - Палестина - США - Австрия - Великобритания',\n",
       "       'Аргентина - Франция - Испания', 'СССР, Россия',\n",
       "       'Великобритания - Франция - Италия - Индия - Дания - КНР - Бангладеш - Камбоджа - Гаити - Уганда',\n",
       "       'Италия - Франция - Швейцария',\n",
       "       'Ирландия - Великобритания - Канада', 'Перу', 'США - Норвегия',\n",
       "       'Испания-Канада', 'Китай-Гонконг', 'США - Германия - КНР',\n",
       "       'Великобритания - Новая Зеландия',\n",
       "       'Франция - Дания - Швеция - КНР',\n",
       "       'США - Великобритания - Германия - Бельгия - Дания',\n",
       "       'США - Франция - Канада - Германия - Австралия - Индия', 'unknown',\n",
       "       'СССР, Румыния, Франция', 'СССР, ГДР', 'Австралия-Ирландия',\n",
       "       'США - Китай', 'Великобритания - Франция - Австрия - Швеция',\n",
       "       'Россия, Таджикистан', 'Нидерланды - Бельгия - Болгария',\n",
       "       'Великобритания - Канада - США', 'Франция - Бельгия - Испания',\n",
       "       'Китай-Гонконг-США', 'Франция - Великобритания', 'США - Вьетнам',\n",
       "       'США - Германия - Франция', 'Германия - Франция - Бельгия',\n",
       "       'США - Италия',\n",
       "       'Германия - Дания - Испания - Швеция - Канада - Эстония - Франция',\n",
       "       'Княжество Андорра - Украина', 'Германия - Люксембург - Бельгия',\n",
       "       'Великобритания - Россия - Украина - США',\n",
       "       'Германия - Бельгия - Люксембург - Норвегия',\n",
       "       'США - Австралия - Новая Зеландия - Великобритания',\n",
       "       'США - Франция - Канада - Великобритания', 'Испания-Колумбия',\n",
       "       'Великобритания - Чехия - Франция', 'Россия, Украина', 'Исландия',\n",
       "       'Великобритания - Франция - Венгрия',\n",
       "       'Россия, Франция, Германия, Бельгия', 'Франция - Македония',\n",
       "       'Нидерланды - Франция - Германия - Бельгия - Швеция - Великобритания',\n",
       "       'Испания - США - Великобритания - Канада', 'Германия - Австрия',\n",
       "       'Республика Казахстан',\n",
       "       'Франция - Испания - Дания - Венгрия - Швейцария', 'Франция-КНР',\n",
       "       'США - Пуэрто-Рико - Франция ', 'Мексика - Тайвань - США',\n",
       "       'Великобритания - Испания - Непал - Индия - Венгрия - Гонконг - Германия - Дания - Бахрейн',\n",
       "       'Великобритания - Аргентина - США - Франция - Россия - Испания',\n",
       "       'КНР - США', 'Италия - США', 'Финляндия - Швеция - Германия',\n",
       "       'Канада- Испания', 'Франция - Бельгия - Чехия',\n",
       "       'Франция-Бельгия-Канада', 'Франция - Германия - США',\n",
       "       'США - Дания', 'Индия - КНР', 'Чехия-Великобритания-США',\n",
       "       'США-ФРГ-Россия', 'Ирландия-Нидерланды-Франция-США-Великобритания',\n",
       "       'Россия, Грузия, Хорватия, Испания',\n",
       "       'Финляндия - Швеция - Норвегия', 'Сербия - Великобритания - США',\n",
       "       'США - Великобритания - Франция - Гонконг', 'Швейцария - Франция',\n",
       "       'Швейцария - Великобритания', 'ОАЭ - США',\n",
       "       'США - Франция - Германия - Канада - Австралия ',\n",
       "       'Германия - Австралия', 'Иран, Франция',\n",
       "       'США - Великобритания - Новая Зеландия', 'США-Колумбия',\n",
       "       'США-Франция-Ирландия', 'Великобритания - Франция - Бельгия',\n",
       "       'США - Великобритания - Япония', 'США - Франция - Германия',\n",
       "       'Польша - Ирландия', 'Ирландия - Великобритания - Франция - США',\n",
       "       'США - Бельгия - Великобритания', 'СССР, ВНР',\n",
       "       'Испания - Франция - США - Великобритания - Бельгия',\n",
       "       'Франция - Дания - США', 'США - Гонконг', 'Бразилия - К;анада',\n",
       "       'Франция-Германия', 'США - Колумбия',\n",
       "       'США - Ирландия - Великобритания - Франция',\n",
       "       'Великобритания - США - Канада', 'Польша - Франция',\n",
       "       'Канада - США - Нидерланды - Великобритания - Аргентина',\n",
       "       'Великобритания - Дания', 'Франция - Бельгия - Япония',\n",
       "       'Россия,  Испания', 'Франция -Бельгия',\n",
       "       'США - Канада - Германия - Франция', 'США-Канада-Франция',\n",
       "       'Россия - Германия', 'Россия-Италия', 'Китай - Гонконг',\n",
       "       'Германия-Австрия-Франция-Италия', 'США-Япония',\n",
       "       'США - Германия - Канада', 'Испания-Мексика',\n",
       "       'США - Япония - Канада - Великобритания - Германия - Франция',\n",
       "       'США -Великобритания - Австралия', 'Россия-Украина-Германия',\n",
       "       'Израиль - Франция - Великобритания - Германия', 'Корея',\n",
       "       'Россия - Болгария', 'США-Индия',\n",
       "       'Германия-Канада-Франция-Бельгия', 'Германия-Кения',\n",
       "       'Франция - Монако', 'Франция-Испания-Швейцария',\n",
       "       'Австрия-Франция-Германия', 'Румыния',\n",
       "       'США-Великобритания-Франция', 'Канада-Великобритания',\n",
       "       'Канада-Бразилия-Япония', 'Германия - Дания - Норвегия',\n",
       "       'Дания - Германия', 'СССР - Италия',\n",
       "       'СССР - ГДР - Польша - Италия',\n",
       "       'США - Испания - Франция - Великобритания', 'Китай',\n",
       "       'Мексика-Аргентина',\n",
       "       'Германия - Великобритания - Италия - Испания',\n",
       "       'Франция-Германия-Великобритания', 'Россия - Германия - Швейцария',\n",
       "       'Франция-Австралия', 'Голландия', 'Швейцария-Франция',\n",
       "       'Россия-Белоруссия', 'Франция - Испания - Тайвань',\n",
       "       'США-Южная Корея-Новая Зеландия', 'Великобритания-Венгрия',\n",
       "       'Россия-Германия', 'Великобритания-Франция-Германия',\n",
       "       'Франция-Германия-Италия', 'Швеция-Финляндия-Франция-Норвегия',\n",
       "       'Франция-Италия', 'Германия-Израиль',\n",
       "       'Швеция - Германия - Дания - Норвегия', 'США-Бельгия',\n",
       "       'Франция-Гонконг-Ирландия', 'Эстония', 'Литва-Россия-Украина',\n",
       "       'Германия - Италия - Франция',\n",
       "       'Великобритания - Австрия - Германия', 'Бельгия - Франция',\n",
       "       'Россия-Казахстан', 'Испания - Мальта',\n",
       "       'Франция-Россия-Румыния-Италия-Бельгия', 'Россия - Польша',\n",
       "       'Испания - Мексика', 'США-Аргентина', 'Великобритания ',\n",
       "       'Израиль-США-Франция', 'США - Новая Зеландия - Япония',\n",
       "       'Франция - Чехия - Великобритания', 'Россия-Польша',\n",
       "       'Германия-Франция-Великобритания', 'США-Германия-Канада',\n",
       "       'США-Гонконг-Китай', 'США - Великобритания - Германия',\n",
       "       'США-Канада-Австралия', 'Япония-США-Франция',\n",
       "       'Франция-Испания-Германия', 'США - Хорватия - Босния-Герцеговина',\n",
       "       'Великобритания - Чехия - Франция - Италия',\n",
       "       'США - Германия - Нидерланды', 'Германия - Франция - Канада',\n",
       "       'Франция-Грузия-Германия-Россия-Украина-Бельгия',\n",
       "       'Великобритания - Франция - Италия', 'Россия - США',\n",
       "       'Франция - Италия - Иран', 'Россия - Азербайджан', 'Греция',\n",
       "       'Дания - США', 'США-Великобритания-Новая Зеландия',\n",
       "       'США-Германия-Австралия', 'США-Канада-Италия',\n",
       "       'США - Япония - Германия', 'Австралия-США',\n",
       "       'Франция - Великобритания - Багамские острова - США',\n",
       "       'Швейцария - Люксембург', 'Швейцария - Австрия',\n",
       "       'Германия - Швейцария', 'Дания-Швеция-Франция-Германия', 'Польша',\n",
       "       'Швейцария-Австрия', 'Бразилия - Канада - США',\n",
       "       'Нидерланды - Россия', 'Португалия', 'Франция-Аргентина',\n",
       "       'Швеция-Франция', 'Франция-Украина', 'Германия-Украина-Нидерланды',\n",
       "       'Италия-Швейцария', 'США-Германия-Великобритания',\n",
       "       'Латвия - Россия', 'Германия-Франция-Великобритания-США',\n",
       "       'Канада - Италия', 'США - Объединенные Арабские Эмираты',\n",
       "       'США-Венгрия', 'Малайзия', 'Россия - Германия - Украина',\n",
       "       'США - Австралия - Мексика', 'Литва - Венгрия', 'Германия - Китай',\n",
       "       'Казахстан', 'Республика Корея',\n",
       "       'США - Германия - Франция - Великобритания - Канада ',\n",
       "       'Бельгия - Германия - Люксембург - Франция', 'Франция - Греция',\n",
       "       'Италия - Канада', 'США - Великобритания - Франция',\n",
       "       'США-Италия-Греция', 'Германия - США - Великобритания - Ирландия',\n",
       "       'Великобритания - Франция - Германия',\n",
       "       'Германия - Нидерланды - ЮАР',\n",
       "       'США-Япония-Германия-Великобритания-Нидерланды',\n",
       "       'США-Япония-Германия-Великобритания',\n",
       "       'Германия - Франция - Польша',\n",
       "       'Таиланд-Великобритания-Франция-Германия-Испания-Нидерланды',\n",
       "       'Германия-Италия-Швейцария',\n",
       "       'Дания - Швеция - Великобритания - Франция - Германия - Нидерланды - Норвегия - Финляндия',\n",
       "       'Франция - Великобритания - Нидерланды - Люксембург',\n",
       "       'Нидерланды-Великобритания-Франция-Италия-Япония',\n",
       "       'Финляндия-Дания-Германия-Ирландия', 'Испания-Аргентина',\n",
       "       'Великобритания - Нидерланды - Франция - США', 'Канада - Мексика',\n",
       "       'США, Франция', 'Канада-Южная Корея-США',\n",
       "       'Великобритания - Франция - Бельгия - США', 'КНР - Канада - США',\n",
       "       'Италия - Франция - Германия',\n",
       "       'Швеция - Германия - Франция - Дания', 'Франция - США - Бельгия',\n",
       "       'Украина - Германия - Латвия - Эстония', 'Австрия - Люксембург',\n",
       "       'Великобритания - КНР', 'Монголия', 'Франция - Дания',\n",
       "       'Швеция - Дания - Финляндия',\n",
       "       'Сингапур - Великобритания - Индонезия - Канада - США',\n",
       "       'США - Германия - Япония', 'Таиланд - США', 'Франция - Нидерланды',\n",
       "       'Великобритания - Румыния', 'США - Мальта',\n",
       "       'Великобритания - Германия - Нидерланды - Дания',\n",
       "       'Франция - Германия - Литва - Нидерланды - Россия',\n",
       "       'США - ЮАР - Гонконг', 'Австралия - Колумбия',\n",
       "       'Великобритания - Польша', 'США - Великобритания - Швеция',\n",
       "       'Франция - Швеция - Дания - Норвегия', 'Болгария - США',\n",
       "       'СССР, ФРГ', 'Бельгия - Нидерланды - Франция',\n",
       "       'Финляндия - Германия', 'Болгария',\n",
       "       'Грузия - Россия - Украина - Хорватия - Германия',\n",
       "       'Франция - Люксембург', 'Франция - Германия - Австрия',\n",
       "       'Норвегия - США', 'Германия-Швеция', 'Франция - Германия - Италия',\n",
       "       'Франция-Германия-Австрия', 'КНР-США',\n",
       "       'Великобритания - Ирландия - США ',\n",
       "       'Дания - Латвия - Россия - США', 'Финляндия - Польша',\n",
       "       'Германия - Бельгия', 'Германия - США - Франция - Испания',\n",
       "       'Бельгия-Германия-Канада-Франция-США-Великобритания',\n",
       "       'Нидерланды - Бельгия - Люксембург', 'Канада-Германия',\n",
       "       'Люксембург - Бельгия - Франция', 'США-Великобритания-Австралия',\n",
       "       'Великобритания, Новая Зеландия', 'Бельгия, Великобритания, США',\n",
       "       'Великобритания, Австралия', 'Исландия, Бельгия',\n",
       "       'Испания - Швейцария - Великобритания - Германия - Новая Зеландия - Нидерланды - Канада',\n",
       "       'Франция, Бельгия', 'Великобритания, США', 'Киргизия-Россия',\n",
       "       'Германия, США', 'Великобритания, США, Испания',\n",
       "       'Италия - Швейцария - Германия', 'Россия, Армения',\n",
       "       'Франция, Германия', 'Китай, Канада, США', 'Германия, Австралия',\n",
       "       'КНР, США', 'США, Великобритания, Люксембург',\n",
       "       'Испания, Ирландия, Бельгия, Франция',\n",
       "       'Великобритания - Гонконг - Венгрия - США - Ирландия',\n",
       "       'США - Пуэрто Рико', 'Аргентина - Испания - Уругвай',\n",
       "       'Израиль - Германия - Франция - Швейцария',\n",
       "       'Великобритания - Мексика - США', 'Испания - Болгария - США',\n",
       "       'Россия-Словакия-Чехия',\n",
       "       'Швейцария - КНР - США - Россия - Республика Корея - Великобритания',\n",
       "       'Россия, Нидерланды, Финляндия',\n",
       "       'Испания - Бельгия - Франция - Португалия - Великобритания',\n",
       "       'Бразилия - Португалия - Франция', 'Швеция - Норвегия',\n",
       "       'Франция - Польша - Бельгия', 'CША', 'Китай, США',\n",
       "       'Италия, Франция, Германия', 'Германия - Австрия - Франция',\n",
       "       'Чехия - Словакия - Хорватия', 'Россия, Польша, Финляндия',\n",
       "       'Россия, Латвия, Чешская Республика',\n",
       "       'Франция - Великобритания - Камбоджа - США - КНР',\n",
       "       'Чехия - Испания - США', 'Германия - Люксембург - Дания',\n",
       "       'Великобритания - Испания - Германия', 'Дания - Исландия',\n",
       "       'Германия, Франция, Великобритания',\n",
       "       'Великобритания - Испания - Италия - Латвия - Франция - Эстония',\n",
       "       'Дания, Швеция, Великобритания, Франция, Германия, Норвегия, Финляндия, Нидерланды, Италия',\n",
       "       'Польша - Франция - Великобритания',\n",
       "       'Дания, Норвегия, Венгрия, Чехия',\n",
       "       'Дания - Франция - Германия - Швеция',\n",
       "       'Великобритания, Швеция, США',\n",
       "       'Канада, Франция, Италия, Швейцария, США', 'США, Индия',\n",
       "       'США - Великобритания - Германия - - Швеция - Канада',\n",
       "       'Италия, Франция', 'Республика Беларусь, Германия, США, Россия',\n",
       "       'Италия-Швейцария-Франция-Германия ',\n",
       "       'Россия - Франция - Великобритания - Латвия', 'Россия-Беларусь',\n",
       "       'Франция - Испания - Румыния - США - Бельгия', 'Италия-США',\n",
       "       'Россия, Австрия', 'Ирландия - Великобритания - США',\n",
       "       'Швейцария, Великобритания, Франция, США, Ирландия',\n",
       "       'Мексика, Франция, Германия, Дания, Швеция', 'Нидерланды, Бельгия',\n",
       "       'Швеция, Норвегия, Финляндия, Франция', 'Испания, Франция, Италия',\n",
       "       'Испания-Франция-Греция-Индия-США-Россия-Великобритания',\n",
       "       'Великобритания - Япония - США',\n",
       "       'Дания, Канада, Норвегия, Австралия, США', 'Аргентина, Испания',\n",
       "       'Россия, Германия, Казахстан, Польша, Китай',\n",
       "       'Португалия, Франция, Польша, США', 'США - Канада - Аргентина',\n",
       "       'Ливан-США', 'Япония - США', 'США, Гонконг ',\n",
       "       'Франция - Россия - Швейцария - Румыния - Венгрия',\n",
       "       'Аргентина-Испания', 'Россия, Сербия', 'США - Болгария - Мексика',\n",
       "       'США - Великобритания - Швейцария - Франция',\n",
       "       'Таиланд - КНР - США',\n",
       "       'Великобритания, Нидерланды, Польша, Швейцария, Франция',\n",
       "       'Ирландия - США',\n",
       "       'Германия - Франция - Великобритания - Польша - США',\n",
       "       'Великобритания-Франция-Италия', 'США - Австралия - Индия',\n",
       "       'Франция - КНР', 'Великобритания - Израиль',\n",
       "       'Великобритания - Норвегия - Кения - Хорватия',\n",
       "       'США - Бразилия - Великобритания - Канада', 'Германия, Бельгия',\n",
       "       'Австралия, Канада', 'США, Великобритания, Франция',\n",
       "       'Кения, Германия', 'Нидерланды, Бельгия, Люксембург', 'Колумбия',\n",
       "       'Латвия - Франция', 'Ирландия, Великобритания',\n",
       "       'Франция - Израиль - Германия', 'Швеция, Франция, Великобритания',\n",
       "       'Бельгия - Люксембург', 'Германия - Бельгия - Великобритания',\n",
       "       'Испания, Франция, Великобритания, Дания, Бельгия, Германия',\n",
       "       'Румыния, ЮАР, Иран, Франция, Канада, Великобритания',\n",
       "       'Германия, Франция', 'США, Япония',\n",
       "       'США, Великобритания, Ирландия, Люксембург', 'Республика Армения',\n",
       "       'США, Франция, Япония', 'Япония, США', 'Канада, США',\n",
       "       'Республика Кипр - Россия',\n",
       "       'Дания - Франция - Италия - Бельгия - Нидерланды',\n",
       "       'Россия - Грузия', 'Италия, Германия', 'Норвегия, Швеция, Дания',\n",
       "       'Республика Кипр, Россия', 'КНР, Индия, Гонконг, США',\n",
       "       'Израиль, Украина', 'США, Россия', 'США - КНР - Индия - Ю.Корея',\n",
       "       'США - Швеция', 'Франция, Канада', 'Россия-Китай',\n",
       "       'Канада, Великобритания', 'США, Германия',\n",
       "       'Канада, США, Каймановы острова',\n",
       "       'Бразилия, Уругвай, Дания, Норвегия, Чили, Швеция',\n",
       "       'Пуэрто-Рико, Великобритания, США',\n",
       "       'Уругвай - Аргентина - Испания',\n",
       "       'США - Великобритания - Италия - Израиль - Сербия - Индия',\n",
       "       'США - Канада - Франция - Индия', 'Великобритания - Россия - КНР',\n",
       "       'Франция, Новая Зеландия', 'Франция, Люксембург, Бельгия',\n",
       "       'Канада, США, Норвегия', 'Италия, Испания',\n",
       "       'Испания - Германия - Нидерланды', 'Бразилия - США - КНР ',\n",
       "       'Великобритания, Германия, Дания, США', '2019',\n",
       "       'Италия - Фрация - Бразилия - Германия',\n",
       "       'Норвегия - Швеция - Россия', 'Великобритания, Япония, США',\n",
       "       'Сша, Канада', 'Бельгия, Канада',\n",
       "       'Великобритания - Австралия - США', 'США, Канада', 'КНР - США ',\n",
       "       'Франция - Финляндия', 'Колумбия - США',\n",
       "       'Великобритания, Франция, Бельгия', 'Норвегия - Нидерланды',\n",
       "       'Великобритания, Канада, США', 'Япония, Великобритания',\n",
       "       'Италия - Бельгия - Франция', 'Россия, Бельгия, Финляндия',\n",
       "       'США, Украина', 'Франция, Норвегия',\n",
       "       'Великобритания, Южная Корея, Канада, США, Индия, Китай, Япония',\n",
       "       'Канада - Норвегия', 'Республика Кипр-Россия', 'Германия, Россия',\n",
       "       'Польша - Франция - Испания - Бразилия - Швеция',\n",
       "       'Австрия, Великобритания, Германия', 'Франция - Сенегал - Бельгия',\n",
       "       'Франция, Бельгия, Люксембург', 'Финляндия, Латвия', 'Пакистан',\n",
       "       'Германия, Франция, США', 'Германия - Великобритания - США',\n",
       "       'КНР - Франция', 'Дания, Норвегия, Швеция, Исландия',\n",
       "       'Республика Кипр, США, Россия', 'Новая Зеландия - КНР',\n",
       "       'Дания - Канада - Швеция - Франция - Германия - Великобритания - США'],\n",
       "      dtype=object)"
      ]
     },
     "execution_count": 38,
     "metadata": {},
     "output_type": "execute_result"
    }
   ],
   "source": [
    "# уникальные значения стран\n",
    "data['production_country'].unique()"
   ]
  },
  {
   "cell_type": "markdown",
   "metadata": {},
   "source": [
    "В столбце со странами есть несколько видов разделителей: \" - \", \", \" и \"-\". Для использования функции, необходимо их привести к одному виду."
   ]
  },
  {
   "cell_type": "code",
   "execution_count": 39,
   "metadata": {},
   "outputs": [],
   "source": [
    "def one_sep(value):\n",
    "    new_value = re.sub(r'\\s-\\s', ', ', value)\n",
    "    if new_value == value:\n",
    "        new_value = re.sub('-', ', ', value)\n",
    "    \n",
    "    return new_value"
   ]
  },
  {
   "cell_type": "code",
   "execution_count": 40,
   "metadata": {},
   "outputs": [
    {
     "name": "stdout",
     "output_type": "stream",
     "text": [
      "США, Бразилия, Франция, Австралия, Шри-Ланка, Германия\n",
      "Франция, Италия, Испания, Венгрия\n",
      "СССР, Албания\n"
     ]
    }
   ],
   "source": [
    "# проверка работоспособности функции\n",
    "print(one_sep('США - Бразилия - Франция - Австралия - Шри-Ланка - Германия'))\n",
    "print(one_sep('Франция-Италия-Испания-Венгрия'))\n",
    "print(one_sep('СССР, Албания'))"
   ]
  },
  {
   "cell_type": "markdown",
   "metadata": {},
   "source": [
    "<div class=\"alert alert-success\"; style=\"border-left: 7px solid green\">\n",
    "<h3>✔ Комментарий ревьюера</h3>\n",
    "    \n",
    "Отмечу, что есть страны, которые пишутся через дефис</div>    "
   ]
  },
  {
   "cell_type": "markdown",
   "metadata": {},
   "source": [
    "<div class = \"alert alert-info\" style=\"border-left: 7px solid blue\">\n",
    "<h3>Комментарий студента</h3>\n",
    "    \n",
    "Немного изменила функцию, согласно следующему предположению: в одной ячейке может встречаться только один тип разделителей и при этом страны с названиям через дефис не будут записаны в ряд с остальными через тот же самый дефис.  \n",
    "</div>"
   ]
  },
  {
   "cell_type": "markdown",
   "metadata": {},
   "source": [
    "<div class=\"alert alert-success\"; style=\"border-left: 7px solid green\">\n",
    "<h3>✔ Комментарий ревьюера V.2</h3>\n",
    "    \n",
    "👍</div>    \n"
   ]
  },
  {
   "cell_type": "code",
   "execution_count": 41,
   "metadata": {},
   "outputs": [],
   "source": [
    "# приведение наборов значений к спискам\n",
    "data['film_studio'] = data['film_studio'].apply(str_to_list)\n",
    "data['director'] = data['director'].apply(str_to_list)\n",
    "data['producer'] = data['producer'].apply(str_to_list)\n",
    "data['genres'] = data['genres'].apply(lambda x: str_to_list(x, sep=','))\n",
    "\n",
    "data['production_country'] = data['production_country'].apply(lambda x: str_to_list(one_sep(x)))"
   ]
  },
  {
   "cell_type": "code",
   "execution_count": 42,
   "metadata": {},
   "outputs": [
    {
     "data": {
      "text/html": [
       "<div>\n",
       "<style scoped>\n",
       "    .dataframe tbody tr th:only-of-type {\n",
       "        vertical-align: middle;\n",
       "    }\n",
       "\n",
       "    .dataframe tbody tr th {\n",
       "        vertical-align: top;\n",
       "    }\n",
       "\n",
       "    .dataframe thead th {\n",
       "        text-align: right;\n",
       "    }\n",
       "</style>\n",
       "<table border=\"1\" class=\"dataframe\">\n",
       "  <thead>\n",
       "    <tr style=\"text-align: right;\">\n",
       "      <th></th>\n",
       "      <th>title</th>\n",
       "      <th>puNumber</th>\n",
       "      <th>show_start_date</th>\n",
       "      <th>type</th>\n",
       "      <th>film_studio</th>\n",
       "      <th>production_country</th>\n",
       "      <th>director</th>\n",
       "      <th>producer</th>\n",
       "      <th>age_restriction</th>\n",
       "      <th>refundable_support</th>\n",
       "      <th>nonrefundable_support</th>\n",
       "      <th>budget</th>\n",
       "      <th>financing_source</th>\n",
       "      <th>ratings</th>\n",
       "      <th>genres</th>\n",
       "      <th>box_office</th>\n",
       "    </tr>\n",
       "  </thead>\n",
       "  <tbody>\n",
       "    <tr>\n",
       "      <th>0</th>\n",
       "      <td>Открытый простор</td>\n",
       "      <td>221048915.0</td>\n",
       "      <td>2015-11-27 12:00:00+00:00</td>\n",
       "      <td>Художественный</td>\n",
       "      <td>[тачстоун пикчерз, кобальт пикчерз, бикон пикч...</td>\n",
       "      <td>[сша]</td>\n",
       "      <td>[кевин костнер]</td>\n",
       "      <td>[дэвид валдес, кевин костнер, джейк эбертс]</td>\n",
       "      <td>«18+»</td>\n",
       "      <td>NaN</td>\n",
       "      <td>NaN</td>\n",
       "      <td>NaN</td>\n",
       "      <td>NaN</td>\n",
       "      <td>7.2</td>\n",
       "      <td>[боевик, драма, мелодрама]</td>\n",
       "      <td>NaN</td>\n",
       "    </tr>\n",
       "    <tr>\n",
       "      <th>1</th>\n",
       "      <td>Особо важное задание</td>\n",
       "      <td>111013716.0</td>\n",
       "      <td>2016-09-13 12:00:00+00:00</td>\n",
       "      <td>Художественный</td>\n",
       "      <td>[киностудия \"мосфильм\"]</td>\n",
       "      <td>[ссср]</td>\n",
       "      <td>[е.матвеев]</td>\n",
       "      <td>[unknown]</td>\n",
       "      <td>«6+»</td>\n",
       "      <td>NaN</td>\n",
       "      <td>NaN</td>\n",
       "      <td>NaN</td>\n",
       "      <td>NaN</td>\n",
       "      <td>6.6</td>\n",
       "      <td>[драма, военный]</td>\n",
       "      <td>NaN</td>\n",
       "    </tr>\n",
       "    <tr>\n",
       "      <th>2</th>\n",
       "      <td>Особо опасен</td>\n",
       "      <td>221038416.0</td>\n",
       "      <td>2016-10-10 12:00:00+00:00</td>\n",
       "      <td>Художественный</td>\n",
       "      <td>[юниверсал пикчерз, кикстарт продакшнз, марк п...</td>\n",
       "      <td>[сша]</td>\n",
       "      <td>[тимур бекмамбетов]</td>\n",
       "      <td>[джим лемли, джейсон нетер, марк е.платт, яйн ...</td>\n",
       "      <td>«18+»</td>\n",
       "      <td>NaN</td>\n",
       "      <td>NaN</td>\n",
       "      <td>NaN</td>\n",
       "      <td>NaN</td>\n",
       "      <td>6.8</td>\n",
       "      <td>[фантастика, боевик, триллер]</td>\n",
       "      <td>NaN</td>\n",
       "    </tr>\n",
       "    <tr>\n",
       "      <th>3</th>\n",
       "      <td>Особо опасен</td>\n",
       "      <td>221026916.0</td>\n",
       "      <td>2016-06-10 12:00:00+00:00</td>\n",
       "      <td>Художественный</td>\n",
       "      <td>[юниверсал пикчерз, кикстарт продакшнз, марк п...</td>\n",
       "      <td>[сша]</td>\n",
       "      <td>[тимур бекмамбетов]</td>\n",
       "      <td>[джим лемли, джейсон нетер, марк е.платт, яйн ...</td>\n",
       "      <td>«18+»</td>\n",
       "      <td>NaN</td>\n",
       "      <td>NaN</td>\n",
       "      <td>NaN</td>\n",
       "      <td>NaN</td>\n",
       "      <td>6.8</td>\n",
       "      <td>[фантастика, боевик, триллер]</td>\n",
       "      <td>NaN</td>\n",
       "    </tr>\n",
       "    <tr>\n",
       "      <th>4</th>\n",
       "      <td>Особо опасен</td>\n",
       "      <td>221030815.0</td>\n",
       "      <td>2015-07-29 12:00:00+00:00</td>\n",
       "      <td>Художественный</td>\n",
       "      <td>[юниверсал пикчерз, кикстарт продакшнз, марк п...</td>\n",
       "      <td>[сша]</td>\n",
       "      <td>[тимур бекмамбетов]</td>\n",
       "      <td>[джим лемли, джейсон нетер, марк е.платт, яйн ...</td>\n",
       "      <td>«18+»</td>\n",
       "      <td>NaN</td>\n",
       "      <td>NaN</td>\n",
       "      <td>NaN</td>\n",
       "      <td>NaN</td>\n",
       "      <td>6.8</td>\n",
       "      <td>[фантастика, боевик, триллер]</td>\n",
       "      <td>NaN</td>\n",
       "    </tr>\n",
       "  </tbody>\n",
       "</table>\n",
       "</div>"
      ],
      "text/plain": [
       "                  title     puNumber           show_start_date  \\\n",
       "0      Открытый простор  221048915.0 2015-11-27 12:00:00+00:00   \n",
       "1  Особо важное задание  111013716.0 2016-09-13 12:00:00+00:00   \n",
       "2          Особо опасен  221038416.0 2016-10-10 12:00:00+00:00   \n",
       "3          Особо опасен  221026916.0 2016-06-10 12:00:00+00:00   \n",
       "4          Особо опасен  221030815.0 2015-07-29 12:00:00+00:00   \n",
       "\n",
       "             type                                        film_studio  \\\n",
       "0  Художественный  [тачстоун пикчерз, кобальт пикчерз, бикон пикч...   \n",
       "1  Художественный                            [киностудия \"мосфильм\"]   \n",
       "2  Художественный  [юниверсал пикчерз, кикстарт продакшнз, марк п...   \n",
       "3  Художественный  [юниверсал пикчерз, кикстарт продакшнз, марк п...   \n",
       "4  Художественный  [юниверсал пикчерз, кикстарт продакшнз, марк п...   \n",
       "\n",
       "  production_country             director  \\\n",
       "0              [сша]      [кевин костнер]   \n",
       "1             [ссср]          [е.матвеев]   \n",
       "2              [сша]  [тимур бекмамбетов]   \n",
       "3              [сша]  [тимур бекмамбетов]   \n",
       "4              [сша]  [тимур бекмамбетов]   \n",
       "\n",
       "                                            producer age_restriction  \\\n",
       "0        [дэвид валдес, кевин костнер, джейк эбертс]           «18+»   \n",
       "1                                          [unknown]            «6+»   \n",
       "2  [джим лемли, джейсон нетер, марк е.платт, яйн ...           «18+»   \n",
       "3  [джим лемли, джейсон нетер, марк е.платт, яйн ...           «18+»   \n",
       "4  [джим лемли, джейсон нетер, марк е.платт, яйн ...           «18+»   \n",
       "\n",
       "   refundable_support  nonrefundable_support  budget financing_source  \\\n",
       "0                 NaN                    NaN     NaN              NaN   \n",
       "1                 NaN                    NaN     NaN              NaN   \n",
       "2                 NaN                    NaN     NaN              NaN   \n",
       "3                 NaN                    NaN     NaN              NaN   \n",
       "4                 NaN                    NaN     NaN              NaN   \n",
       "\n",
       "   ratings                         genres  box_office  \n",
       "0      7.2     [боевик, драма, мелодрама]         NaN  \n",
       "1      6.6               [драма, военный]         NaN  \n",
       "2      6.8  [фантастика, боевик, триллер]         NaN  \n",
       "3      6.8  [фантастика, боевик, триллер]         NaN  \n",
       "4      6.8  [фантастика, боевик, триллер]         NaN  "
      ]
     },
     "execution_count": 42,
     "metadata": {},
     "output_type": "execute_result"
    }
   ],
   "source": [
    "data.head()"
   ]
  },
  {
   "cell_type": "markdown",
   "metadata": {},
   "source": [
    "<div class=\"alert alert-success\"; style=\"border-left: 7px solid green\">\n",
    "<h3>✔ Комментарий ревьюера</h3>\n",
    "    \n",
    "Всё здорово 👍</div>    "
   ]
  },
  {
   "cell_type": "markdown",
   "metadata": {
    "id": "XFSN5lrEgFyR"
   },
   "source": [
    "#### Шаг 2.5. Проверьте количественные значения\n",
    "\n",
    "- Проверьте, обнаружились ли в таких столбцах подозрительные данные. Как с такими данными лучше поступить?\n",
    "\n",
    "<div id=\"accordion\">\n",
    "    <div class=\"card\">\n",
    "        <div class=\"card-header\" id=\"headingThree\">\n",
    "            <button class=\"btn btn-link collapsed\" data-toggle=\"collapse\" data-target=\"#collapseHint_budget\" aria-expanded=\"false\" aria-controls=\"collapseHint_budget\">Подсказка</button>\n",
    "        </div>\n",
    "        <div id=\"collapseHint_budget\" class=\"collapse\" aria-labelledby=\"headingThree\" data-parent=\"#accordion\">\n",
    "            <div class=\"card-body\">\n",
    "Обратите внимание на описание столбца <code>budget</code>. Как этот столбец соотносится с двумя другими: <code>refundable_support</code> и <code>nonrefundable_support</code>?\n",
    "            </div>\n",
    "        </div>\n",
    "    </div>\n",
    "</div>"
   ]
  },
  {
   "cell_type": "code",
   "execution_count": 43,
   "metadata": {
    "id": "YbzClBxagFyS"
   },
   "outputs": [
    {
     "data": {
      "text/html": [
       "<div>\n",
       "<style scoped>\n",
       "    .dataframe tbody tr th:only-of-type {\n",
       "        vertical-align: middle;\n",
       "    }\n",
       "\n",
       "    .dataframe tbody tr th {\n",
       "        vertical-align: top;\n",
       "    }\n",
       "\n",
       "    .dataframe thead th {\n",
       "        text-align: right;\n",
       "    }\n",
       "</style>\n",
       "<table border=\"1\" class=\"dataframe\">\n",
       "  <thead>\n",
       "    <tr style=\"text-align: right;\">\n",
       "      <th></th>\n",
       "      <th>title</th>\n",
       "      <th>puNumber</th>\n",
       "      <th>show_start_date</th>\n",
       "      <th>type</th>\n",
       "      <th>film_studio</th>\n",
       "      <th>production_country</th>\n",
       "      <th>director</th>\n",
       "      <th>producer</th>\n",
       "      <th>age_restriction</th>\n",
       "      <th>refundable_support</th>\n",
       "      <th>nonrefundable_support</th>\n",
       "      <th>budget</th>\n",
       "      <th>financing_source</th>\n",
       "      <th>ratings</th>\n",
       "      <th>genres</th>\n",
       "      <th>box_office</th>\n",
       "    </tr>\n",
       "  </thead>\n",
       "  <tbody>\n",
       "    <tr>\n",
       "      <th>3389</th>\n",
       "      <td>Как витька чеснок вёз лёху штыря в дом инвалидов</td>\n",
       "      <td>111005017.0</td>\n",
       "      <td>2017-06-30 12:00:00+00:00</td>\n",
       "      <td>Художественный</td>\n",
       "      <td>[ооо \"продюсерский центр \"вгик - дебют\"]</td>\n",
       "      <td>[россия]</td>\n",
       "      <td>[а.хант]</td>\n",
       "      <td>[в.мадышев, ф.попов]</td>\n",
       "      <td>«18+»</td>\n",
       "      <td>0.0</td>\n",
       "      <td>25000000.0</td>\n",
       "      <td>38500000.0</td>\n",
       "      <td>Министерство культуры</td>\n",
       "      <td>NaN</td>\n",
       "      <td>[unknown]</td>\n",
       "      <td>5503875.00</td>\n",
       "    </tr>\n",
       "    <tr>\n",
       "      <th>6972</th>\n",
       "      <td>Верность</td>\n",
       "      <td>111009119.0</td>\n",
       "      <td>2019-06-13 12:00:00+00:00</td>\n",
       "      <td>Художественный</td>\n",
       "      <td>[ооо \"друг друга\", ооо \"1-2-3 продакшн\"]</td>\n",
       "      <td>[россия]</td>\n",
       "      <td>[н.сайфуллаева]</td>\n",
       "      <td>[с.корнихин, в.федорович, е.никишов, п.лилиенф...</td>\n",
       "      <td>«18+»</td>\n",
       "      <td>0.0</td>\n",
       "      <td>30000000.0</td>\n",
       "      <td>46300000.0</td>\n",
       "      <td>Министерство культуры</td>\n",
       "      <td>6.2</td>\n",
       "      <td>[драма]</td>\n",
       "      <td>97637352.29</td>\n",
       "    </tr>\n",
       "    <tr>\n",
       "      <th>2773</th>\n",
       "      <td>Переводчик</td>\n",
       "      <td>111011115.0</td>\n",
       "      <td>2015-06-30 12:00:00+00:00</td>\n",
       "      <td>Художественный</td>\n",
       "      <td>[ооо \"продакшн сервис\", ооо продюсерская  комп...</td>\n",
       "      <td>[россия]</td>\n",
       "      <td>[а.нужный]</td>\n",
       "      <td>[а.цекало, р.сорокин]</td>\n",
       "      <td>«16+»</td>\n",
       "      <td>30000000.0</td>\n",
       "      <td>20145285.0</td>\n",
       "      <td>84667038.0</td>\n",
       "      <td>Фонд кино</td>\n",
       "      <td>6.6</td>\n",
       "      <td>[триллер, детектив]</td>\n",
       "      <td>9200824.50</td>\n",
       "    </tr>\n",
       "    <tr>\n",
       "      <th>3782</th>\n",
       "      <td>Мотылёк</td>\n",
       "      <td>111001617.0</td>\n",
       "      <td>2017-03-22 12:00:00+00:00</td>\n",
       "      <td>Художественный</td>\n",
       "      <td>[ооо \"кинокомпания кит\"]</td>\n",
       "      <td>[россия]</td>\n",
       "      <td>[к.худяков]</td>\n",
       "      <td>[е.бабенко, в.ремизов]</td>\n",
       "      <td>«18+»</td>\n",
       "      <td>7346881.0</td>\n",
       "      <td>30000000.0</td>\n",
       "      <td>63170000.0</td>\n",
       "      <td>Министерство культуры, Фонд кино</td>\n",
       "      <td>8.0</td>\n",
       "      <td>[драма]</td>\n",
       "      <td>410058.00</td>\n",
       "    </tr>\n",
       "    <tr>\n",
       "      <th>3228</th>\n",
       "      <td>Зоология</td>\n",
       "      <td>111011416.0</td>\n",
       "      <td>2016-07-13 12:00:00+00:00</td>\n",
       "      <td>Художественный</td>\n",
       "      <td>[ооо \"компания \"новые люди\"]</td>\n",
       "      <td>[россия]</td>\n",
       "      <td>[и.твердовский]</td>\n",
       "      <td>[н.мокрицкая]</td>\n",
       "      <td>«18+»</td>\n",
       "      <td>0.0</td>\n",
       "      <td>30000000.0</td>\n",
       "      <td>50000000.0</td>\n",
       "      <td>Министерство культуры</td>\n",
       "      <td>6.1</td>\n",
       "      <td>[драма, фантастика]</td>\n",
       "      <td>1030756.50</td>\n",
       "    </tr>\n",
       "  </tbody>\n",
       "</table>\n",
       "</div>"
      ],
      "text/plain": [
       "                                                 title     puNumber  \\\n",
       "3389  Как витька чеснок вёз лёху штыря в дом инвалидов  111005017.0   \n",
       "6972                                          Верность  111009119.0   \n",
       "2773                                        Переводчик  111011115.0   \n",
       "3782                                           Мотылёк  111001617.0   \n",
       "3228                                          Зоология  111011416.0   \n",
       "\n",
       "               show_start_date            type  \\\n",
       "3389 2017-06-30 12:00:00+00:00  Художественный   \n",
       "6972 2019-06-13 12:00:00+00:00  Художественный   \n",
       "2773 2015-06-30 12:00:00+00:00  Художественный   \n",
       "3782 2017-03-22 12:00:00+00:00  Художественный   \n",
       "3228 2016-07-13 12:00:00+00:00  Художественный   \n",
       "\n",
       "                                            film_studio production_country  \\\n",
       "3389           [ооо \"продюсерский центр \"вгик - дебют\"]           [россия]   \n",
       "6972           [ооо \"друг друга\", ооо \"1-2-3 продакшн\"]           [россия]   \n",
       "2773  [ооо \"продакшн сервис\", ооо продюсерская  комп...           [россия]   \n",
       "3782                           [ооо \"кинокомпания кит\"]           [россия]   \n",
       "3228                       [ооо \"компания \"новые люди\"]           [россия]   \n",
       "\n",
       "             director                                           producer  \\\n",
       "3389         [а.хант]                               [в.мадышев, ф.попов]   \n",
       "6972  [н.сайфуллаева]  [с.корнихин, в.федорович, е.никишов, п.лилиенф...   \n",
       "2773       [а.нужный]                              [а.цекало, р.сорокин]   \n",
       "3782      [к.худяков]                             [е.бабенко, в.ремизов]   \n",
       "3228  [и.твердовский]                                      [н.мокрицкая]   \n",
       "\n",
       "     age_restriction  refundable_support  nonrefundable_support      budget  \\\n",
       "3389           «18+»                 0.0             25000000.0  38500000.0   \n",
       "6972           «18+»                 0.0             30000000.0  46300000.0   \n",
       "2773           «16+»          30000000.0             20145285.0  84667038.0   \n",
       "3782           «18+»           7346881.0             30000000.0  63170000.0   \n",
       "3228           «18+»                 0.0             30000000.0  50000000.0   \n",
       "\n",
       "                      financing_source  ratings               genres  \\\n",
       "3389             Министерство культуры      NaN            [unknown]   \n",
       "6972             Министерство культуры      6.2              [драма]   \n",
       "2773                         Фонд кино      6.6  [триллер, детектив]   \n",
       "3782  Министерство культуры, Фонд кино      8.0              [драма]   \n",
       "3228             Министерство культуры      6.1  [драма, фантастика]   \n",
       "\n",
       "       box_office  \n",
       "3389   5503875.00  \n",
       "6972  97637352.29  \n",
       "2773   9200824.50  \n",
       "3782    410058.00  \n",
       "3228   1030756.50  "
      ]
     },
     "execution_count": 43,
     "metadata": {},
     "output_type": "execute_result"
    }
   ],
   "source": [
    "data.query('not budget.isnull()').sample(5)"
   ]
  },
  {
   "cell_type": "markdown",
   "metadata": {},
   "source": [
    "В столбцах *refundable_support* и *nonrefundable_support* содержатся объем возвратных и невозвратных средств гос.поддержки соответственно. В столбце *budget* - общий бюджет фильма, уже включающий гос.поддержку. Логично предположить, что бюджет обязательно должен быть больше либо равен сумме предоставленной гос.поддержки."
   ]
  },
  {
   "cell_type": "code",
   "execution_count": 44,
   "metadata": {},
   "outputs": [
    {
     "data": {
      "text/html": [
       "<div>\n",
       "<style scoped>\n",
       "    .dataframe tbody tr th:only-of-type {\n",
       "        vertical-align: middle;\n",
       "    }\n",
       "\n",
       "    .dataframe tbody tr th {\n",
       "        vertical-align: top;\n",
       "    }\n",
       "\n",
       "    .dataframe thead th {\n",
       "        text-align: right;\n",
       "    }\n",
       "</style>\n",
       "<table border=\"1\" class=\"dataframe\">\n",
       "  <thead>\n",
       "    <tr style=\"text-align: right;\">\n",
       "      <th></th>\n",
       "      <th>title</th>\n",
       "      <th>puNumber</th>\n",
       "      <th>show_start_date</th>\n",
       "      <th>type</th>\n",
       "      <th>film_studio</th>\n",
       "      <th>production_country</th>\n",
       "      <th>director</th>\n",
       "      <th>producer</th>\n",
       "      <th>age_restriction</th>\n",
       "      <th>refundable_support</th>\n",
       "      <th>nonrefundable_support</th>\n",
       "      <th>budget</th>\n",
       "      <th>financing_source</th>\n",
       "      <th>ratings</th>\n",
       "      <th>genres</th>\n",
       "      <th>box_office</th>\n",
       "    </tr>\n",
       "  </thead>\n",
       "  <tbody>\n",
       "    <tr>\n",
       "      <th>2058</th>\n",
       "      <td>Дуxless 2</td>\n",
       "      <td>111000415.0</td>\n",
       "      <td>2015-01-26 12:00:00+00:00</td>\n",
       "      <td>Художественный</td>\n",
       "      <td>[ооо \"киностудия \"слово\", ооо \"арт пикчерс сту...</td>\n",
       "      <td>[россия]</td>\n",
       "      <td>[р.прыгунов]</td>\n",
       "      <td>[п.ануров, ф.бондарчук, д.рудовский]</td>\n",
       "      <td>«16+»</td>\n",
       "      <td>0.0</td>\n",
       "      <td>75000000.0</td>\n",
       "      <td>0.0</td>\n",
       "      <td>Фонд кино</td>\n",
       "      <td>6.6</td>\n",
       "      <td>[драма]</td>\n",
       "      <td>446163511.0</td>\n",
       "    </tr>\n",
       "  </tbody>\n",
       "</table>\n",
       "</div>"
      ],
      "text/plain": [
       "          title     puNumber           show_start_date            type  \\\n",
       "2058  Дуxless 2  111000415.0 2015-01-26 12:00:00+00:00  Художественный   \n",
       "\n",
       "                                            film_studio production_country  \\\n",
       "2058  [ооо \"киностудия \"слово\", ооо \"арт пикчерс сту...           [россия]   \n",
       "\n",
       "          director                              producer age_restriction  \\\n",
       "2058  [р.прыгунов]  [п.ануров, ф.бондарчук, д.рудовский]           «16+»   \n",
       "\n",
       "      refundable_support  nonrefundable_support  budget financing_source  \\\n",
       "2058                 0.0             75000000.0     0.0        Фонд кино   \n",
       "\n",
       "      ratings   genres   box_office  \n",
       "2058      6.6  [драма]  446163511.0  "
      ]
     },
     "execution_count": 44,
     "metadata": {},
     "output_type": "execute_result"
    }
   ],
   "source": [
    "data.query('budget < (refundable_support + nonrefundable_support)').sample()"
   ]
  },
  {
   "cell_type": "code",
   "execution_count": 45,
   "metadata": {},
   "outputs": [
    {
     "name": "stdout",
     "output_type": "stream",
     "text": [
      "Количество: 17\n",
      "Доля от data: 0.002\n",
      "Доля от фильмов с гос.поддержкой: 0.051\n"
     ]
    }
   ],
   "source": [
    "print('Количество:', data.query('budget < (refundable_support + nonrefundable_support)').shape[0])\n",
    "print('Доля от data:', round(data.query('budget < (refundable_support + nonrefundable_support)').shape[0] / data.shape[0], 3))\n",
    "\n",
    "print(\n",
    "    'Доля от фильмов с гос.поддержкой:', \n",
    "    round(data.query('budget < (refundable_support + nonrefundable_support)').shape[0] / data.query('not budget.isnull()').shape[0], 3)\n",
    ")"
   ]
  },
  {
   "cell_type": "markdown",
   "metadata": {},
   "source": [
    "Однако в датафрейме имеется 17 строк, противоречащие данному предположению. Это всего 0.2% от объема датафрейма и 5% от объема фильмов, получивших гос.поддержку, поэтому их удаление не сильно исказит последующий анализ данных."
   ]
  },
  {
   "cell_type": "code",
   "execution_count": 46,
   "metadata": {},
   "outputs": [
    {
     "data": {
      "text/plain": [
       "7469"
      ]
     },
     "execution_count": 46,
     "metadata": {},
     "output_type": "execute_result"
    }
   ],
   "source": [
    "data = data.drop(data[(data['budget'] < (data['refundable_support'] + data['nonrefundable_support']))].index)\n",
    "data.shape[0]"
   ]
  },
  {
   "cell_type": "markdown",
   "metadata": {},
   "source": [
    "<div class=\"alert alert-success\"; style=\"border-left: 7px solid green\">\n",
    "<h3>✔ Комментарий ревьюера</h3>\n",
    "    \n",
    "Чтобы не дописывать условие с пропуском, можно сделать как `data = data.drop(data[(data['budget'] < (data['refundable_support'] + data['nonrefundable_support']))].index)`</div>    "
   ]
  },
  {
   "cell_type": "markdown",
   "metadata": {},
   "source": [
    "<div class = \"alert alert-info\" style=\"border-left: 7px solid blue\">\n",
    "<h3>Комментарий студента</h3>\n",
    "    \n",
    "Применила. Запись короче и проще воспринимается. Спасибо\n",
    "</div>"
   ]
  },
  {
   "cell_type": "markdown",
   "metadata": {},
   "source": [
    "Проверка на аномально высокие значения в столбце *budget*:"
   ]
  },
  {
   "cell_type": "code",
   "execution_count": 47,
   "metadata": {},
   "outputs": [
    {
     "data": {
      "image/png": "[encoded data removed]",
      "text/plain": [
       "<Figure size 432x288 with 1 Axes>"
      ]
     },
     "metadata": {
      "needs_background": "light"
     },
     "output_type": "display_data"
    }
   ],
   "source": [
    "data.boxplot('budget')\n",
    "plt.show()"
   ]
  },
  {
   "cell_type": "markdown",
   "metadata": {},
   "source": [
    "Некоторое количество значений находятся за пределами \"нормальных\" значений (границ \"ящика с усами\"). Однако их нельзя назвать некорректными. Фильмы с бюджетом в несколько млрд рублей встречаются редко, но все же могут существовать. Поэтому удалять их не стоит. \n",
    "\n",
    "Одна точка на графике выделяется особенно. Фильм с самым большим бюджетом:"
   ]
  },
  {
   "cell_type": "code",
   "execution_count": 48,
   "metadata": {},
   "outputs": [
    {
     "data": {
      "text/html": [
       "<div>\n",
       "<style scoped>\n",
       "    .dataframe tbody tr th:only-of-type {\n",
       "        vertical-align: middle;\n",
       "    }\n",
       "\n",
       "    .dataframe tbody tr th {\n",
       "        vertical-align: top;\n",
       "    }\n",
       "\n",
       "    .dataframe thead th {\n",
       "        text-align: right;\n",
       "    }\n",
       "</style>\n",
       "<table border=\"1\" class=\"dataframe\">\n",
       "  <thead>\n",
       "    <tr style=\"text-align: right;\">\n",
       "      <th></th>\n",
       "      <th>title</th>\n",
       "      <th>puNumber</th>\n",
       "      <th>show_start_date</th>\n",
       "      <th>type</th>\n",
       "      <th>film_studio</th>\n",
       "      <th>production_country</th>\n",
       "      <th>director</th>\n",
       "      <th>producer</th>\n",
       "      <th>age_restriction</th>\n",
       "      <th>refundable_support</th>\n",
       "      <th>nonrefundable_support</th>\n",
       "      <th>budget</th>\n",
       "      <th>financing_source</th>\n",
       "      <th>ratings</th>\n",
       "      <th>genres</th>\n",
       "      <th>box_office</th>\n",
       "    </tr>\n",
       "  </thead>\n",
       "  <tbody>\n",
       "    <tr>\n",
       "      <th>7114</th>\n",
       "      <td>Тайна печати дракона</td>\n",
       "      <td>111012819.0</td>\n",
       "      <td>2019-09-12 12:00:00+00:00</td>\n",
       "      <td>Художественный</td>\n",
       "      <td>[ооо \"кинокомпания \"ств\"; ооо \"рфг корп\"; ооо ...</td>\n",
       "      <td>[россия, китай]</td>\n",
       "      <td>[о.степченко]</td>\n",
       "      <td>[с.сельянов, а.петрухин]</td>\n",
       "      <td>«6+»</td>\n",
       "      <td>180000000.0</td>\n",
       "      <td>90000000.0</td>\n",
       "      <td>2.305074e+09</td>\n",
       "      <td>Фонд кино</td>\n",
       "      <td>5.8</td>\n",
       "      <td>[приключения, фэнтези]</td>\n",
       "      <td>3.335971e+08</td>\n",
       "    </tr>\n",
       "  </tbody>\n",
       "</table>\n",
       "</div>"
      ],
      "text/plain": [
       "                     title     puNumber           show_start_date  \\\n",
       "7114  Тайна печати дракона  111012819.0 2019-09-12 12:00:00+00:00   \n",
       "\n",
       "                type                                        film_studio  \\\n",
       "7114  Художественный  [ооо \"кинокомпания \"ств\"; ооо \"рфг корп\"; ооо ...   \n",
       "\n",
       "     production_country       director                  producer  \\\n",
       "7114    [россия, китай]  [о.степченко]  [с.сельянов, а.петрухин]   \n",
       "\n",
       "     age_restriction  refundable_support  nonrefundable_support        budget  \\\n",
       "7114            «6+»         180000000.0             90000000.0  2.305074e+09   \n",
       "\n",
       "     financing_source  ratings                  genres    box_office  \n",
       "7114        Фонд кино      5.8  [приключения, фэнтези]  3.335971e+08  "
      ]
     },
     "execution_count": 48,
     "metadata": {},
     "output_type": "execute_result"
    }
   ],
   "source": [
    "data.query('budget == budget.max()')"
   ]
  },
  {
   "cell_type": "markdown",
   "metadata": {},
   "source": [
    "<div class=\"alert alert-warning\"; style=\"border-left: 7px solid yellow\" >\n",
    "<h3>!! Комментарий ревьюера</h3>\n",
    "    \n",
    "Ну величина не в триллионах, так что вполне нормальное значение. Можно было проверить, что это за фильм\n",
    "</div>  "
   ]
  },
  {
   "cell_type": "markdown",
   "metadata": {},
   "source": [
    "Что касается столбца *box_office*, в нем находится информация о сборах с показа того или иного фильма в российских кинотеатрах. Диаграмма размаха значений для фильмов, получивших гос.поддержку:"
   ]
  },
  {
   "cell_type": "code",
   "execution_count": 49,
   "metadata": {},
   "outputs": [
    {
     "data": {
      "image/png": "[encoded data removed]",
      "text/plain": [
       "<Figure size 432x288 with 1 Axes>"
      ]
     },
     "metadata": {
      "needs_background": "light"
     },
     "output_type": "display_data"
    }
   ],
   "source": [
    "data.query('not budget.isnull()').boxplot('box_office')\n",
    "plt.show()"
   ]
  },
  {
   "cell_type": "markdown",
   "metadata": {},
   "source": [
    "Раз существуют фильмы с бюджетом в несколько млрд рублей, то логично предположить, что могут существовать и фильмы с аналогичными сборами. Однако в данном столбце более подозрительными кажутся значения, равные 0: это бы означало, что фильм вообще не показывали либо же на показ никто не пришел."
   ]
  },
  {
   "cell_type": "code",
   "execution_count": 50,
   "metadata": {},
   "outputs": [
    {
     "name": "stdout",
     "output_type": "stream",
     "text": [
      "Количество: 24\n",
      "Доля от data: 0.003\n",
      "Доля от фильмов с гос.поддержкой: 0.0\n"
     ]
    }
   ],
   "source": [
    "print('Количество:', data.query('box_office == 0').shape[0])\n",
    "print('Доля от data:', round( data.query('box_office == 0').shape[0] / data.shape[0], 3))\n",
    "\n",
    "print(\n",
    "    'Доля от фильмов с гос.поддержкой:', \n",
    "    round( data.query('box_office == 0 and not budget.isnull()').shape[0] / data.query('not budget.isnull()').shape[0], 3)\n",
    ")"
   ]
  },
  {
   "cell_type": "markdown",
   "metadata": {},
   "source": [
    "Среди фильмов с нулевыми сборами нет ни одного, который бы получил гос.поддержку. Эти значения можно заменить на пропуски."
   ]
  },
  {
   "cell_type": "code",
   "execution_count": 51,
   "metadata": {},
   "outputs": [],
   "source": [
    "data.loc[data['box_office'] == 0, 'box_office'] = np.nan"
   ]
  },
  {
   "cell_type": "markdown",
   "metadata": {},
   "source": [
    "<div class=\"alert alert-success\"; style=\"border-left: 7px solid green\">\n",
    "<h3>✔ Комментарий ревьюера V.2</h3>\n",
    "    \n",
    "👍</div>    \n"
   ]
  },
  {
   "cell_type": "markdown",
   "metadata": {},
   "source": [
    "<div class=\"alert alert-danger\"; style=\"border-left: 7px solid red\">\n",
    "<h3>👀 Комментарий ревьюера</h3>\n",
    "    \n",
    "В общем тут не понимаю логику в удалении таких значений, если они вполне корректные. Нужно это как-то обосновать. На мой взгляд стоило обратить внимание на сборы, равные 0, они больше подозрений вызывают.\n",
    "    \n",
    "    \n",
    "Выбросы (если это не что-то некорректное) стоит удалять только если используешь неустойчиывае к выбросам инструменты анализа\n",
    "</div>   "
   ]
  },
  {
   "cell_type": "markdown",
   "metadata": {},
   "source": [
    "<div class = \"alert alert-info\" style=\"border-left: 7px solid blue\">\n",
    "<h3>Комментарий студента</h3>\n",
    "    \n",
    "Видимо, у меня немного неправильно уложился этот момент в голове. По материалам курса, я поняла, что выбросы (и в принципе сильно выбивающиеся, редкие значения) в любом случае, если возможно, следует удалять из данных, чтобы потом анализ был более корректным. \n",
    "    \n",
    "Но в данном конкретном случае, мы действительно не используем каких-то инструментов, для которых бы это было особенно важно. Так что я исправила этот момент и в *budget*, и в *box_office*. Заодно в последнем столбце удалила подозрительные нулевые значения.\n",
    "</div>"
   ]
  },
  {
   "cell_type": "markdown",
   "metadata": {},
   "source": [
    "<div class=\"alert alert-success\"; style=\"border-left: 7px solid green\">\n",
    "<h3>✔ Комментарий ревьюера V.2</h3>\n",
    "    \n",
    "В целом лучше не удалять, а сравнить результаты с такими значениями и без них. К выбросам не устойчива корреляция Пирсона например. Поэтому можно сравнивать корреляции с такими значениями и с ограниченными сборами, как вариант</div>    \n"
   ]
  },
  {
   "cell_type": "markdown",
   "metadata": {
    "id": "Eu6oWp2CgFyS"
   },
   "source": [
    "#### Шаг 2.6. Добавьте новые столбцы\n",
    "\n",
    "\n",
    "\n"
   ]
  },
  {
   "cell_type": "markdown",
   "metadata": {
    "id": "7GgW-UpAgFyS"
   },
   "source": [
    "- Создайте столбец с информацией о годе проката. Выделите год из даты премьеры фильма."
   ]
  },
  {
   "cell_type": "code",
   "execution_count": 52,
   "metadata": {
    "id": "I-yd1DkWgFyT"
   },
   "outputs": [],
   "source": [
    "data['show_start_year'] = data['show_start_date'].dt.year"
   ]
  },
  {
   "cell_type": "markdown",
   "metadata": {
    "id": "nFTDLDYOgFyT"
   },
   "source": [
    "- Создайте два столбца: с именем и фамилией главного режиссёра и основным жанром фильма. В столбцы войдут первые значения из списка режиссёров и жанров соответственно.\n",
    "\n",
    "<div id=\"accordion\">\n",
    "    <div class=\"card\">\n",
    "        <div class=\"card-header\" id=\"headingThree\">\n",
    "            <button class=\"btn btn-link collapsed\" data-toggle=\"collapse\" data-target=\"#collapseHint_2\" aria-expanded=\"false\" aria-controls=\"collapseHint_2\">Подсказка</button>\n",
    "        </div>\n",
    "        <div id=\"collapseHint_2\" class=\"collapse\" aria-labelledby=\"headingThree\" data-parent=\"#accordion\">\n",
    "            <div class=\"card-body\">\n",
    "Чтобы создать такие столбцы, лучше всего использовать собственную функцию. Эту функцию можно применить к двум столбцам сразу. \n",
    "            </div>\n",
    "        </div>\n",
    "    </div>\n",
    "</div>"
   ]
  },
  {
   "cell_type": "code",
   "execution_count": 53,
   "metadata": {
    "id": "LSbRZKbMgFyU"
   },
   "outputs": [],
   "source": [
    "def first_element(the_list):\n",
    "    return the_list[0]"
   ]
  },
  {
   "cell_type": "code",
   "execution_count": 54,
   "metadata": {},
   "outputs": [],
   "source": [
    "data['main_director'] = data['director'].apply(first_element)"
   ]
  },
  {
   "cell_type": "code",
   "execution_count": 55,
   "metadata": {},
   "outputs": [],
   "source": [
    "data['main_genre'] = data['genres'].apply(first_element)"
   ]
  },
  {
   "cell_type": "markdown",
   "metadata": {},
   "source": [
    "Дополнительно аналогичным образом выделим в отдельный столбец основную страну, выпустившую фильм."
   ]
  },
  {
   "cell_type": "code",
   "execution_count": 56,
   "metadata": {},
   "outputs": [],
   "source": [
    "data['main_country'] = data['production_country'].apply(first_element)"
   ]
  },
  {
   "cell_type": "markdown",
   "metadata": {
    "id": "1FsCXHwdgFyU"
   },
   "source": [
    "- Посчитайте, какую долю от общего бюджета фильма составляет государственная поддержка."
   ]
  },
  {
   "cell_type": "code",
   "execution_count": 57,
   "metadata": {
    "id": "LV6qFuZLgFyV"
   },
   "outputs": [],
   "source": [
    "data['support_share'] = round((data['refundable_support'] + data['nonrefundable_support']) / data['budget'], 2)"
   ]
  },
  {
   "cell_type": "code",
   "execution_count": 58,
   "metadata": {},
   "outputs": [
    {
     "data": {
      "text/html": [
       "<div>\n",
       "<style scoped>\n",
       "    .dataframe tbody tr th:only-of-type {\n",
       "        vertical-align: middle;\n",
       "    }\n",
       "\n",
       "    .dataframe tbody tr th {\n",
       "        vertical-align: top;\n",
       "    }\n",
       "\n",
       "    .dataframe thead th {\n",
       "        text-align: right;\n",
       "    }\n",
       "</style>\n",
       "<table border=\"1\" class=\"dataframe\">\n",
       "  <thead>\n",
       "    <tr style=\"text-align: right;\">\n",
       "      <th></th>\n",
       "      <th>title</th>\n",
       "      <th>puNumber</th>\n",
       "      <th>show_start_date</th>\n",
       "      <th>type</th>\n",
       "      <th>film_studio</th>\n",
       "      <th>production_country</th>\n",
       "      <th>director</th>\n",
       "      <th>producer</th>\n",
       "      <th>age_restriction</th>\n",
       "      <th>refundable_support</th>\n",
       "      <th>...</th>\n",
       "      <th>budget</th>\n",
       "      <th>financing_source</th>\n",
       "      <th>ratings</th>\n",
       "      <th>genres</th>\n",
       "      <th>box_office</th>\n",
       "      <th>show_start_year</th>\n",
       "      <th>main_director</th>\n",
       "      <th>main_genre</th>\n",
       "      <th>main_country</th>\n",
       "      <th>support_share</th>\n",
       "    </tr>\n",
       "  </thead>\n",
       "  <tbody>\n",
       "    <tr>\n",
       "      <th>1281</th>\n",
       "      <td>Пока еще жива</td>\n",
       "      <td>111005313.0</td>\n",
       "      <td>2013-10-11 12:00:00+00:00</td>\n",
       "      <td>Художественный</td>\n",
       "      <td>[ано содействия развитию кинематографии \"ангел...</td>\n",
       "      <td>[россия]</td>\n",
       "      <td>[а.атанесян]</td>\n",
       "      <td>[а.атанесян, м.бабаханов, р.бутко]</td>\n",
       "      <td>«16+»</td>\n",
       "      <td>0.0</td>\n",
       "      <td>...</td>\n",
       "      <td>79411900.0</td>\n",
       "      <td>Министерство культуры</td>\n",
       "      <td>8.1</td>\n",
       "      <td>[драма, мелодрама]</td>\n",
       "      <td>365353.6</td>\n",
       "      <td>2013</td>\n",
       "      <td>а.атанесян</td>\n",
       "      <td>драма</td>\n",
       "      <td>россия</td>\n",
       "      <td>0.33</td>\n",
       "    </tr>\n",
       "    <tr>\n",
       "      <th>1448</th>\n",
       "      <td>Бесславные придурки</td>\n",
       "      <td>111003314.0</td>\n",
       "      <td>2014-03-28 12:00:00+00:00</td>\n",
       "      <td>Художественный</td>\n",
       "      <td>[ооо \"компания \"атк-студио\"]</td>\n",
       "      <td>[россия]</td>\n",
       "      <td>[а.якимчук]</td>\n",
       "      <td>[а.тютрюмов]</td>\n",
       "      <td>«12+»</td>\n",
       "      <td>0.0</td>\n",
       "      <td>...</td>\n",
       "      <td>37142857.0</td>\n",
       "      <td>Министерство культуры</td>\n",
       "      <td>NaN</td>\n",
       "      <td>[unknown]</td>\n",
       "      <td>28140.0</td>\n",
       "      <td>2014</td>\n",
       "      <td>а.якимчук</td>\n",
       "      <td>unknown</td>\n",
       "      <td>россия</td>\n",
       "      <td>0.70</td>\n",
       "    </tr>\n",
       "    <tr>\n",
       "      <th>1498</th>\n",
       "      <td>Невидимки</td>\n",
       "      <td>111004213.0</td>\n",
       "      <td>2013-09-10 12:00:00+00:00</td>\n",
       "      <td>Художественный</td>\n",
       "      <td>[ооо \"компания \"реал-дакота\"]</td>\n",
       "      <td>[россия]</td>\n",
       "      <td>[р.давлетьяров, с.комаров]</td>\n",
       "      <td>[р.давлетьяров, а.котелевский, а.олейников]</td>\n",
       "      <td>«12+»</td>\n",
       "      <td>0.0</td>\n",
       "      <td>...</td>\n",
       "      <td>176023490.0</td>\n",
       "      <td>Фонд кино</td>\n",
       "      <td>5.3</td>\n",
       "      <td>[комедия, фантастика]</td>\n",
       "      <td>19957031.5</td>\n",
       "      <td>2013</td>\n",
       "      <td>р.давлетьяров</td>\n",
       "      <td>комедия</td>\n",
       "      <td>россия</td>\n",
       "      <td>0.61</td>\n",
       "    </tr>\n",
       "    <tr>\n",
       "      <th>1524</th>\n",
       "      <td>Берцы</td>\n",
       "      <td>111004314.0</td>\n",
       "      <td>2014-05-05 12:00:00+00:00</td>\n",
       "      <td>Художественный</td>\n",
       "      <td>[ооо \"студия \"пассажир\"]</td>\n",
       "      <td>[россия]</td>\n",
       "      <td>[е.миндадзе (псевдоним катя шагалова)]</td>\n",
       "      <td>[л.антонова]</td>\n",
       "      <td>«16+»</td>\n",
       "      <td>0.0</td>\n",
       "      <td>...</td>\n",
       "      <td>40574140.0</td>\n",
       "      <td>Министерство культуры</td>\n",
       "      <td>4.2</td>\n",
       "      <td>[драма]</td>\n",
       "      <td>55917.5</td>\n",
       "      <td>2014</td>\n",
       "      <td>е.миндадзе (псевдоним катя шагалова)</td>\n",
       "      <td>драма</td>\n",
       "      <td>россия</td>\n",
       "      <td>0.69</td>\n",
       "    </tr>\n",
       "    <tr>\n",
       "      <th>1792</th>\n",
       "      <td>Братья ч</td>\n",
       "      <td>111004414.0</td>\n",
       "      <td>2014-04-23 12:00:00+00:00</td>\n",
       "      <td>Художественный</td>\n",
       "      <td>[ооо \"студия \"пассажир\"]</td>\n",
       "      <td>[россия]</td>\n",
       "      <td>[м.угаров]</td>\n",
       "      <td>[а.миндадзе, л.антонова]</td>\n",
       "      <td>«16+»</td>\n",
       "      <td>0.0</td>\n",
       "      <td>...</td>\n",
       "      <td>40015122.0</td>\n",
       "      <td>Министерство культуры</td>\n",
       "      <td>6.4</td>\n",
       "      <td>[драма]</td>\n",
       "      <td>232100.0</td>\n",
       "      <td>2014</td>\n",
       "      <td>м.угаров</td>\n",
       "      <td>драма</td>\n",
       "      <td>россия</td>\n",
       "      <td>0.62</td>\n",
       "    </tr>\n",
       "  </tbody>\n",
       "</table>\n",
       "<p>5 rows × 21 columns</p>\n",
       "</div>"
      ],
      "text/plain": [
       "                    title     puNumber           show_start_date  \\\n",
       "1281        Пока еще жива  111005313.0 2013-10-11 12:00:00+00:00   \n",
       "1448  Бесславные придурки  111003314.0 2014-03-28 12:00:00+00:00   \n",
       "1498            Невидимки  111004213.0 2013-09-10 12:00:00+00:00   \n",
       "1524                Берцы  111004314.0 2014-05-05 12:00:00+00:00   \n",
       "1792             Братья ч  111004414.0 2014-04-23 12:00:00+00:00   \n",
       "\n",
       "                type                                        film_studio  \\\n",
       "1281  Художественный  [ано содействия развитию кинематографии \"ангел...   \n",
       "1448  Художественный                       [ооо \"компания \"атк-студио\"]   \n",
       "1498  Художественный                      [ооо \"компания \"реал-дакота\"]   \n",
       "1524  Художественный                           [ооо \"студия \"пассажир\"]   \n",
       "1792  Художественный                           [ооо \"студия \"пассажир\"]   \n",
       "\n",
       "     production_country                                director  \\\n",
       "1281           [россия]                            [а.атанесян]   \n",
       "1448           [россия]                             [а.якимчук]   \n",
       "1498           [россия]              [р.давлетьяров, с.комаров]   \n",
       "1524           [россия]  [е.миндадзе (псевдоним катя шагалова)]   \n",
       "1792           [россия]                              [м.угаров]   \n",
       "\n",
       "                                         producer age_restriction  \\\n",
       "1281           [а.атанесян, м.бабаханов, р.бутко]           «16+»   \n",
       "1448                                 [а.тютрюмов]           «12+»   \n",
       "1498  [р.давлетьяров, а.котелевский, а.олейников]           «12+»   \n",
       "1524                                 [л.антонова]           «16+»   \n",
       "1792                     [а.миндадзе, л.антонова]           «16+»   \n",
       "\n",
       "      refundable_support  ...       budget       financing_source ratings  \\\n",
       "1281                 0.0  ...   79411900.0  Министерство культуры     8.1   \n",
       "1448                 0.0  ...   37142857.0  Министерство культуры     NaN   \n",
       "1498                 0.0  ...  176023490.0              Фонд кино     5.3   \n",
       "1524                 0.0  ...   40574140.0  Министерство культуры     4.2   \n",
       "1792                 0.0  ...   40015122.0  Министерство культуры     6.4   \n",
       "\n",
       "                     genres  box_office  show_start_year  \\\n",
       "1281     [драма, мелодрама]    365353.6             2013   \n",
       "1448              [unknown]     28140.0             2014   \n",
       "1498  [комедия, фантастика]  19957031.5             2013   \n",
       "1524                [драма]     55917.5             2014   \n",
       "1792                [драма]    232100.0             2014   \n",
       "\n",
       "                             main_director main_genre main_country  \\\n",
       "1281                            а.атанесян      драма       россия   \n",
       "1448                             а.якимчук    unknown       россия   \n",
       "1498                         р.давлетьяров    комедия       россия   \n",
       "1524  е.миндадзе (псевдоним катя шагалова)      драма       россия   \n",
       "1792                              м.угаров      драма       россия   \n",
       "\n",
       "     support_share  \n",
       "1281          0.33  \n",
       "1448          0.70  \n",
       "1498          0.61  \n",
       "1524          0.69  \n",
       "1792          0.62  \n",
       "\n",
       "[5 rows x 21 columns]"
      ]
     },
     "execution_count": 58,
     "metadata": {},
     "output_type": "execute_result"
    }
   ],
   "source": [
    "# пример данных\n",
    "data.query('not budget.isnull()').head()"
   ]
  },
  {
   "cell_type": "markdown",
   "metadata": {
    "id": "6t4EukPLgFyV"
   },
   "source": [
    "<a id=\"analysis\"></a>\n",
    "### Шаг 3. Проведите исследовательский анализ данных"
   ]
  },
  {
   "cell_type": "markdown",
   "metadata": {
    "id": "vAH8WCzugFyV"
   },
   "source": [
    "- Посмотрите, сколько фильмов выходило в прокат каждый год. Обратите внимание, что данные о прокате в кинотеатрах известны не для всех фильмов. Посчитайте, какую долю составляют фильмы с указанной информацией о прокате в кинотеатрах."
   ]
  },
  {
   "cell_type": "code",
   "execution_count": 59,
   "metadata": {},
   "outputs": [
    {
     "data": {
      "image/png": "[encoded data removed]",
      "text/plain": [
       "<Figure size 432x288 with 1 Axes>"
      ]
     },
     "metadata": {
      "needs_background": "light"
     },
     "output_type": "display_data"
    }
   ],
   "source": [
    "data.pivot_table(index='show_start_year', values='puNumber', aggfunc='count').plot(title='Количество фильмов в прокате')\n",
    "plt.show()"
   ]
  },
  {
   "cell_type": "markdown",
   "metadata": {
    "id": "ABeV47y7gFyW"
   },
   "source": [
    "Информация об известных сборах фильмов, которые были показаны в российских кинотеатрах, указана в столбце *box_office*."
   ]
  },
  {
   "cell_type": "code",
   "execution_count": 60,
   "metadata": {},
   "outputs": [
    {
     "name": "stdout",
     "output_type": "stream",
     "text": [
      "Количество фильмов, для которых известна информация о сборах: 3117\n",
      "Доля фильмов с указанной информацией: 0.42\n"
     ]
    }
   ],
   "source": [
    "print('Количество фильмов, для которых известна информация о сборах:', data.query('not box_office.isnull()').shape[0])\n",
    "print('Доля фильмов с указанной информацией:', round(data.query('not box_office.isnull()').shape[0] / data.shape[0], 2))"
   ]
  },
  {
   "cell_type": "code",
   "execution_count": 61,
   "metadata": {},
   "outputs": [
    {
     "data": {
      "image/png": "[encoded data removed]",
      "text/plain": [
       "<Figure size 432x288 with 1 Axes>"
      ]
     },
     "metadata": {
      "needs_background": "light"
     },
     "output_type": "display_data"
    }
   ],
   "source": [
    "data.pivot_table(index='show_start_year', values='box_office', aggfunc='count').plot(title='Кол-во фильмов с известной информацией о сборах')\n",
    "plt.show()"
   ]
  },
  {
   "cell_type": "markdown",
   "metadata": {},
   "source": [
    "Общее количество фильмов, выходящих в прокат, менялось неравномерно в рассматриваемый период. В 2010-м году количество фильмов в прокате было на максимальном уровне, далее наблюдалась \"яма\" в районе 2012-го года и сильный минимум в 2017 году. К 2019-му году же количество выпускаемых фильмов снова начало расти и почти достигло уровня 2010 года. Такое поведение можно объяснить особенностями датафрейма, а также понижением интереса в середине рассматриваемого периода к другим способам выпуска фильмов, например, на dvd. \n",
    "\n",
    "При этом, количество фильмов с раскрытой информацией о сборах с каждым годом увеличивалось. Однако и здесь можно отметить локальный минимум, возникший в 2017 году."
   ]
  },
  {
   "cell_type": "markdown",
   "metadata": {},
   "source": [
    "<div class=\"alert alert-warning\"; style=\"border-left: 7px solid yellow\" >\n",
    "<h3>!! Комментарий ревьюера</h3>\n",
    "    \n",
    "> График количества фильмов, показанных в кинотеатрах, иллюстрирует обратную тенденцию: количество фильмов с каждым годом все увеличивалось. Кинотеатры становятся более популярными. Однако и здесь можно заменить минимум в 2017 году.\n",
    "    \n",
    "Это не совсем график числа фильмов, которые были показаны в кинотеатрах. Это фильмы, для которых у нас есть информация о сборах. Например:\n",
    "</div>    \n"
   ]
  },
  {
   "cell_type": "code",
   "execution_count": 62,
   "metadata": {},
   "outputs": [
    {
     "data": {
      "text/html": [
       "<div>\n",
       "<style scoped>\n",
       "    .dataframe tbody tr th:only-of-type {\n",
       "        vertical-align: middle;\n",
       "    }\n",
       "\n",
       "    .dataframe tbody tr th {\n",
       "        vertical-align: top;\n",
       "    }\n",
       "\n",
       "    .dataframe thead th {\n",
       "        text-align: right;\n",
       "    }\n",
       "</style>\n",
       "<table border=\"1\" class=\"dataframe\">\n",
       "  <thead>\n",
       "    <tr style=\"text-align: right;\">\n",
       "      <th></th>\n",
       "      <th>title</th>\n",
       "      <th>puNumber</th>\n",
       "      <th>show_start_date</th>\n",
       "      <th>type</th>\n",
       "      <th>film_studio</th>\n",
       "      <th>production_country</th>\n",
       "      <th>director</th>\n",
       "      <th>producer</th>\n",
       "      <th>age_restriction</th>\n",
       "      <th>refundable_support</th>\n",
       "      <th>...</th>\n",
       "      <th>budget</th>\n",
       "      <th>financing_source</th>\n",
       "      <th>ratings</th>\n",
       "      <th>genres</th>\n",
       "      <th>box_office</th>\n",
       "      <th>show_start_year</th>\n",
       "      <th>main_director</th>\n",
       "      <th>main_genre</th>\n",
       "      <th>main_country</th>\n",
       "      <th>support_share</th>\n",
       "    </tr>\n",
       "  </thead>\n",
       "  <tbody>\n",
       "    <tr>\n",
       "      <th>4866</th>\n",
       "      <td>Девичник в вегасе</td>\n",
       "      <td>121008411.0</td>\n",
       "      <td>2011-05-25 12:00:00+00:00</td>\n",
       "      <td>Художественный</td>\n",
       "      <td>[юниверсал пикчерз, релативити медиа, апатоу п...</td>\n",
       "      <td>[сша]</td>\n",
       "      <td>[пол фейг]</td>\n",
       "      <td>[джудд апатоу, бэрри мендел, клэйтон таунсенд]</td>\n",
       "      <td>«16+»</td>\n",
       "      <td>NaN</td>\n",
       "      <td>...</td>\n",
       "      <td>NaN</td>\n",
       "      <td>NaN</td>\n",
       "      <td>5.6</td>\n",
       "      <td>[мелодрама, комедия]</td>\n",
       "      <td>NaN</td>\n",
       "      <td>2011</td>\n",
       "      <td>пол фейг</td>\n",
       "      <td>мелодрама</td>\n",
       "      <td>сша</td>\n",
       "      <td>NaN</td>\n",
       "    </tr>\n",
       "    <tr>\n",
       "      <th>5210</th>\n",
       "      <td>Девичник в вегасе</td>\n",
       "      <td>221102311.0</td>\n",
       "      <td>2011-10-05 12:00:00+00:00</td>\n",
       "      <td>Художественный</td>\n",
       "      <td>[юниверсал пикчерз, релативити медиа, апатоу п...</td>\n",
       "      <td>[сша]</td>\n",
       "      <td>[пол фейг]</td>\n",
       "      <td>[джудд апатоу, бэрри мендел, клэйтон таунсенд]</td>\n",
       "      <td>«16+»</td>\n",
       "      <td>NaN</td>\n",
       "      <td>...</td>\n",
       "      <td>NaN</td>\n",
       "      <td>NaN</td>\n",
       "      <td>5.6</td>\n",
       "      <td>[мелодрама, комедия]</td>\n",
       "      <td>NaN</td>\n",
       "      <td>2011</td>\n",
       "      <td>пол фейг</td>\n",
       "      <td>мелодрама</td>\n",
       "      <td>сша</td>\n",
       "      <td>NaN</td>\n",
       "    </tr>\n",
       "  </tbody>\n",
       "</table>\n",
       "<p>2 rows × 21 columns</p>\n",
       "</div>"
      ],
      "text/plain": [
       "                  title     puNumber           show_start_date  \\\n",
       "4866  Девичник в вегасе  121008411.0 2011-05-25 12:00:00+00:00   \n",
       "5210  Девичник в вегасе  221102311.0 2011-10-05 12:00:00+00:00   \n",
       "\n",
       "                type                                        film_studio  \\\n",
       "4866  Художественный  [юниверсал пикчерз, релативити медиа, апатоу п...   \n",
       "5210  Художественный  [юниверсал пикчерз, релативити медиа, апатоу п...   \n",
       "\n",
       "     production_country    director  \\\n",
       "4866              [сша]  [пол фейг]   \n",
       "5210              [сша]  [пол фейг]   \n",
       "\n",
       "                                            producer age_restriction  \\\n",
       "4866  [джудд апатоу, бэрри мендел, клэйтон таунсенд]           «16+»   \n",
       "5210  [джудд апатоу, бэрри мендел, клэйтон таунсенд]           «16+»   \n",
       "\n",
       "      refundable_support  ...  budget  financing_source ratings  \\\n",
       "4866                 NaN  ...     NaN               NaN     5.6   \n",
       "5210                 NaN  ...     NaN               NaN     5.6   \n",
       "\n",
       "                    genres box_office  show_start_year  main_director  \\\n",
       "4866  [мелодрама, комедия]        NaN             2011       пол фейг   \n",
       "5210  [мелодрама, комедия]        NaN             2011       пол фейг   \n",
       "\n",
       "     main_genre main_country support_share  \n",
       "4866  мелодрама          сша           NaN  \n",
       "5210  мелодрама          сша           NaN  \n",
       "\n",
       "[2 rows x 21 columns]"
      ]
     },
     "execution_count": 62,
     "metadata": {},
     "output_type": "execute_result"
    }
   ],
   "source": [
    "# Код ревьюера\n",
    "\n",
    "data[data['title'].str.contains('Девичник')]"
   ]
  },
  {
   "cell_type": "markdown",
   "metadata": {},
   "source": [
    "<div class=\"alert alert-warning\"; style=\"border-left: 7px solid yellow\" >\n",
    "<h3>!! Комментарий ревьюера</h3>\n",
    "    \n",
    "Согласно КиноПоиску фильм в кинотеатрах показывался, но про его сборы ничего не известно. Поэтому последний гарфик нужно интерпретировать как долю информации о сборах\n",
    "</div>    \n"
   ]
  },
  {
   "cell_type": "markdown",
   "metadata": {},
   "source": [
    "<div class = \"alert alert-info\" style=\"border-left: 7px solid blue\">\n",
    "<h3>Комментарий студента</h3>\n",
    "    \n",
    "Поправила. Некорректно поняла.\n",
    "</div>"
   ]
  },
  {
   "cell_type": "markdown",
   "metadata": {},
   "source": [
    "<div class=\"alert alert-success\"; style=\"border-left: 7px solid green\">\n",
    "<h3>✔ Комментарий ревьюера V.2</h3>\n",
    "    \n",
    "👍</div>    \n"
   ]
  },
  {
   "cell_type": "markdown",
   "metadata": {
    "id": "BEOdcIrIgFyW"
   },
   "source": [
    "- Изучите, как менялась динамика проката по годам. В каком году сумма сборов была минимальной? А максимальной?"
   ]
  },
  {
   "cell_type": "code",
   "execution_count": 63,
   "metadata": {
    "id": "tfEhofYvgFyX"
   },
   "outputs": [
    {
     "data": {
      "image/png": "[encoded data removed]",
      "text/plain": [
       "<Figure size 432x288 with 1 Axes>"
      ]
     },
     "metadata": {
      "needs_background": "light"
     },
     "output_type": "display_data"
    }
   ],
   "source": [
    "data.pivot_table(index='show_start_year', values='box_office', aggfunc='sum').plot(title='Сумма сборов')\n",
    "plt.show()"
   ]
  },
  {
   "cell_type": "markdown",
   "metadata": {},
   "source": [
    "График по общей зависимости похож на предыдущий, однако, без локального минимума в 2017. Минимальные сборы наблюдались в 2010-2013 годах. Максимального же значения сумма сборов достигла к 2018-му году."
   ]
  },
  {
   "cell_type": "markdown",
   "metadata": {},
   "source": [
    "\n",
    "<div class=\"alert alert-success\"; style=\"border-left: 7px solid green\">\n",
    "<h3>✔ Комментарий ревьюера</h3>\n",
    "    \n",
    "Соответственно низкая сумма в 2010-2014 годах связана с особенностями датасета, а не состоянием киноиндустрии</div>    "
   ]
  },
  {
   "cell_type": "markdown",
   "metadata": {},
   "source": [
    "<div class = \"alert alert-info\" style=\"border-left: 7px solid blue\">\n",
    "<h3>Комментарий студента</h3>\n",
    "Есть.\n",
    "</div>"
   ]
  },
  {
   "cell_type": "code",
   "execution_count": 64,
   "metadata": {},
   "outputs": [
    {
     "data": {
      "text/html": [
       "<style  type=\"text/css\" >\n",
       "#T_4c835_row0_col0{\n",
       "            background-color:  red;\n",
       "        }#T_4c835_row8_col0{\n",
       "            background-color:  green;\n",
       "        }</style><table id=\"T_4c835_\" ><thead>    <tr>        <th class=\"blank level0\" ></th>        <th class=\"col_heading level0 col0\" >box_office</th>    </tr>    <tr>        <th class=\"index_name level0\" >show_start_year</th>        <th class=\"blank\" ></th>    </tr></thead><tbody>\n",
       "                <tr>\n",
       "                        <th id=\"T_4c835_level0_row0\" class=\"row_heading level0 row0\" >2010</th>\n",
       "                        <td id=\"T_4c835_row0_col0\" class=\"data row0 col0\" >2,428,654</td>\n",
       "            </tr>\n",
       "            <tr>\n",
       "                        <th id=\"T_4c835_level0_row1\" class=\"row_heading level0 row1\" >2011</th>\n",
       "                        <td id=\"T_4c835_row1_col0\" class=\"data row1 col0\" >14,102,765</td>\n",
       "            </tr>\n",
       "            <tr>\n",
       "                        <th id=\"T_4c835_level0_row2\" class=\"row_heading level0 row2\" >2012</th>\n",
       "                        <td id=\"T_4c835_row2_col0\" class=\"data row2 col0\" >6,955,423</td>\n",
       "            </tr>\n",
       "            <tr>\n",
       "                        <th id=\"T_4c835_level0_row3\" class=\"row_heading level0 row3\" >2013</th>\n",
       "                        <td id=\"T_4c835_row3_col0\" class=\"data row3 col0\" >29,799,706</td>\n",
       "            </tr>\n",
       "            <tr>\n",
       "                        <th id=\"T_4c835_level0_row4\" class=\"row_heading level0 row4\" >2014</th>\n",
       "                        <td id=\"T_4c835_row4_col0\" class=\"data row4 col0\" >7,434,717,843</td>\n",
       "            </tr>\n",
       "            <tr>\n",
       "                        <th id=\"T_4c835_level0_row5\" class=\"row_heading level0 row5\" >2015</th>\n",
       "                        <td id=\"T_4c835_row5_col0\" class=\"data row5 col0\" >38,527,827,199</td>\n",
       "            </tr>\n",
       "            <tr>\n",
       "                        <th id=\"T_4c835_level0_row6\" class=\"row_heading level0 row6\" >2016</th>\n",
       "                        <td id=\"T_4c835_row6_col0\" class=\"data row6 col0\" >46,742,316,269</td>\n",
       "            </tr>\n",
       "            <tr>\n",
       "                        <th id=\"T_4c835_level0_row7\" class=\"row_heading level0 row7\" >2017</th>\n",
       "                        <td id=\"T_4c835_row7_col0\" class=\"data row7 col0\" >48,458,147,253</td>\n",
       "            </tr>\n",
       "            <tr>\n",
       "                        <th id=\"T_4c835_level0_row8\" class=\"row_heading level0 row8\" >2018</th>\n",
       "                        <td id=\"T_4c835_row8_col0\" class=\"data row8 col0\" >49,251,991,405</td>\n",
       "            </tr>\n",
       "            <tr>\n",
       "                        <th id=\"T_4c835_level0_row9\" class=\"row_heading level0 row9\" >2019</th>\n",
       "                        <td id=\"T_4c835_row9_col0\" class=\"data row9 col0\" >48,278,101,953</td>\n",
       "            </tr>\n",
       "    </tbody></table>"
      ],
      "text/plain": [
       "<pandas.io.formats.style.Styler at 0x7f1756ac4160>"
      ]
     },
     "execution_count": 64,
     "metadata": {},
     "output_type": "execute_result"
    }
   ],
   "source": [
    "(data\n",
    " .pivot_table(index='show_start_year', values='box_office', aggfunc='sum')\n",
    " .astype('int64')\n",
    " .style.format('{:,.0f}')\n",
    " .highlight_max(color='green') \n",
    " .highlight_min(color='red')\n",
    ")"
   ]
  },
  {
   "cell_type": "markdown",
   "metadata": {},
   "source": [
    "\n",
    "<div class=\"alert alert-success\"; style=\"border-left: 7px solid green\">\n",
    "<h3>✔ Комментарий ревьюера</h3>\n",
    "    \n",
    "Круто, что выделила цветом 👍</div>    "
   ]
  },
  {
   "cell_type": "markdown",
   "metadata": {
    "id": "G-7qS-N-gFyY"
   },
   "source": [
    "- С помощью сводной таблицы посчитайте среднюю и медианную сумму сборов для каждого года."
   ]
  },
  {
   "cell_type": "code",
   "execution_count": 65,
   "metadata": {
    "id": "jmp-rgg9gFyY"
   },
   "outputs": [
    {
     "data": {
      "text/html": [
       "<style  type=\"text/css\" >\n",
       "#T_ff3ed_row0_col0,#T_ff3ed_row0_col1,#T_ff3ed_row1_col0,#T_ff3ed_row1_col1,#T_ff3ed_row2_col0,#T_ff3ed_row2_col1,#T_ff3ed_row3_col0,#T_ff3ed_row3_col1,#T_ff3ed_row4_col1{\n",
       "            background-color:  #f7fcf5;\n",
       "            color:  #000000;\n",
       "        }#T_ff3ed_row4_col0{\n",
       "            background-color:  #d3eecd;\n",
       "            color:  #000000;\n",
       "        }#T_ff3ed_row5_col0{\n",
       "            background-color:  #43ac5e;\n",
       "            color:  #000000;\n",
       "        }#T_ff3ed_row5_col1{\n",
       "            background-color:  #78c679;\n",
       "            color:  #000000;\n",
       "        }#T_ff3ed_row6_col0{\n",
       "            background-color:  #3aa357;\n",
       "            color:  #000000;\n",
       "        }#T_ff3ed_row6_col1{\n",
       "            background-color:  #9fd899;\n",
       "            color:  #000000;\n",
       "        }#T_ff3ed_row7_col0,#T_ff3ed_row7_col1{\n",
       "            background-color:  #00441b;\n",
       "            color:  #f1f1f1;\n",
       "        }#T_ff3ed_row8_col0{\n",
       "            background-color:  #1e8741;\n",
       "            color:  #000000;\n",
       "        }#T_ff3ed_row8_col1{\n",
       "            background-color:  #006b2b;\n",
       "            color:  #f1f1f1;\n",
       "        }#T_ff3ed_row9_col0{\n",
       "            background-color:  #369f54;\n",
       "            color:  #000000;\n",
       "        }#T_ff3ed_row9_col1{\n",
       "            background-color:  #81ca81;\n",
       "            color:  #000000;\n",
       "        }</style><table id=\"T_ff3ed_\" ><thead>    <tr>        <th class=\"blank level0\" ></th>        <th class=\"col_heading level0 col0\" >mean</th>        <th class=\"col_heading level0 col1\" >median</th>    </tr>    <tr>        <th class=\"blank level1\" ></th>        <th class=\"col_heading level1 col0\" >box_office</th>        <th class=\"col_heading level1 col1\" >box_office</th>    </tr>    <tr>        <th class=\"index_name level0\" >show_start_year</th>        <th class=\"blank\" ></th>        <th class=\"blank\" ></th>    </tr></thead><tbody>\n",
       "                <tr>\n",
       "                        <th id=\"T_ff3ed_level0_row0\" class=\"row_heading level0 row0\" >2010</th>\n",
       "                        <td id=\"T_ff3ed_row0_col0\" class=\"data row0 col0\" >24,046</td>\n",
       "                        <td id=\"T_ff3ed_row0_col1\" class=\"data row0 col1\" >1,710</td>\n",
       "            </tr>\n",
       "            <tr>\n",
       "                        <th id=\"T_ff3ed_level0_row1\" class=\"row_heading level0 row1\" >2011</th>\n",
       "                        <td id=\"T_ff3ed_row1_col0\" class=\"data row1 col0\" >129,383</td>\n",
       "                        <td id=\"T_ff3ed_row1_col1\" class=\"data row1 col1\" >3,000</td>\n",
       "            </tr>\n",
       "            <tr>\n",
       "                        <th id=\"T_ff3ed_level0_row2\" class=\"row_heading level0 row2\" >2012</th>\n",
       "                        <td id=\"T_ff3ed_row2_col0\" class=\"data row2 col0\" >56,548</td>\n",
       "                        <td id=\"T_ff3ed_row2_col1\" class=\"data row2 col1\" >6,220</td>\n",
       "            </tr>\n",
       "            <tr>\n",
       "                        <th id=\"T_ff3ed_level0_row3\" class=\"row_heading level0 row3\" >2013</th>\n",
       "                        <td id=\"T_ff3ed_row3_col0\" class=\"data row3 col0\" >166,478</td>\n",
       "                        <td id=\"T_ff3ed_row3_col1\" class=\"data row3 col1\" >3,580</td>\n",
       "            </tr>\n",
       "            <tr>\n",
       "                        <th id=\"T_ff3ed_level0_row4\" class=\"row_heading level0 row4\" >2014</th>\n",
       "                        <td id=\"T_ff3ed_row4_col0\" class=\"data row4 col0\" >27,333,521</td>\n",
       "                        <td id=\"T_ff3ed_row4_col1\" class=\"data row4 col1\" >20,310</td>\n",
       "            </tr>\n",
       "            <tr>\n",
       "                        <th id=\"T_ff3ed_level0_row5\" class=\"row_heading level0 row5\" >2015</th>\n",
       "                        <td id=\"T_ff3ed_row5_col0\" class=\"data row5 col0\" >84,490,849</td>\n",
       "                        <td id=\"T_ff3ed_row5_col1\" class=\"data row5 col1\" >4,864,744</td>\n",
       "            </tr>\n",
       "            <tr>\n",
       "                        <th id=\"T_ff3ed_level0_row6\" class=\"row_heading level0 row6\" >2016</th>\n",
       "                        <td id=\"T_ff3ed_row6_col0\" class=\"data row6 col0\" >89,544,667</td>\n",
       "                        <td id=\"T_ff3ed_row6_col1\" class=\"data row6 col1\" >3,777,202</td>\n",
       "            </tr>\n",
       "            <tr>\n",
       "                        <th id=\"T_ff3ed_level0_row7\" class=\"row_heading level0 row7\" >2017</th>\n",
       "                        <td id=\"T_ff3ed_row7_col0\" class=\"data row7 col0\" >136,501,823</td>\n",
       "                        <td id=\"T_ff3ed_row7_col1\" class=\"data row7 col1\" >9,919,415</td>\n",
       "            </tr>\n",
       "            <tr>\n",
       "                        <th id=\"T_ff3ed_level0_row8\" class=\"row_heading level0 row8\" >2018</th>\n",
       "                        <td id=\"T_ff3ed_row8_col0\" class=\"data row8 col0\" >104,568,983</td>\n",
       "                        <td id=\"T_ff3ed_row8_col1\" class=\"data row8 col1\" >8,751,895</td>\n",
       "            </tr>\n",
       "            <tr>\n",
       "                        <th id=\"T_ff3ed_level0_row9\" class=\"row_heading level0 row9\" >2019</th>\n",
       "                        <td id=\"T_ff3ed_row9_col0\" class=\"data row9 col0\" >91,262,952</td>\n",
       "                        <td id=\"T_ff3ed_row9_col1\" class=\"data row9 col1\" >4,601,033</td>\n",
       "            </tr>\n",
       "    </tbody></table>"
      ],
      "text/plain": [
       "<pandas.io.formats.style.Styler at 0x7f1756b77d30>"
      ]
     },
     "execution_count": 65,
     "metadata": {},
     "output_type": "execute_result"
    }
   ],
   "source": [
    "(data\n",
    " .pivot_table(index='show_start_year', values='box_office', aggfunc=['mean', 'median']).astype('int64')\n",
    " .style.format('{:,.0f}')\n",
    " .background_gradient(cmap='Greens')\n",
    ")"
   ]
  },
  {
   "cell_type": "markdown",
   "metadata": {},
   "source": [
    "\n",
    "<div class=\"alert alert-success\"; style=\"border-left: 7px solid green\">\n",
    "<h3>✔ Комментарий ревьюера</h3>\n",
    "    \n",
    "И тут 👍 Удобно было бы числа по разрядам отформатировать</div>    "
   ]
  },
  {
   "cell_type": "markdown",
   "metadata": {},
   "source": [
    "<div class = \"alert alert-info\" style=\"border-left: 7px solid blue\">\n",
    "<h3>Комментарий студента</h3>\n",
    "\n",
    "Сделано - и в этой, и в другой табличке.\n",
    "</div>"
   ]
  },
  {
   "cell_type": "markdown",
   "metadata": {},
   "source": [
    "<div class=\"alert alert-success\"; style=\"border-left: 7px solid green\">\n",
    "<h3>✔ Комментарий ревьюера V.2</h3>\n",
    "    \n",
    "👍</div>    \n"
   ]
  },
  {
   "cell_type": "markdown",
   "metadata": {},
   "source": [
    "По средней и медианной суммам сборов максимум наблюдается в 2017 году. При этом, медианные суммы оказались ниже средних почти на два порядка.  "
   ]
  },
  {
   "cell_type": "markdown",
   "metadata": {
    "id": "Ok89WFwJgFyZ"
   },
   "source": [
    "- Определите, влияет ли возрастное ограничение аудитории («6+», «12+», «16+», «18+» и т. д.) на сборы фильма в прокате в период с 2015 по 2019 год? Фильмы с каким возрастным ограничением собрали больше всего денег в прокате? Меняется ли картина в зависимости от года? Если да, предположите, с чем это может быть связано."
   ]
  },
  {
   "cell_type": "code",
   "execution_count": 66,
   "metadata": {
    "id": "jsSbEqfjgFya"
   },
   "outputs": [
    {
     "data": {
      "image/png": "[encoded data removed]",
      "text/plain": [
       "<Figure size 2250x900 with 1 Axes>"
      ]
     },
     "metadata": {
      "needs_background": "light"
     },
     "output_type": "display_data"
    }
   ],
   "source": [
    "fig, ax = plt.subplots(figsize=(15,6), dpi=150) # dpi это число пикселей на дюйм\n",
    "new_order = ['«0+»', '«6+»', '«12+»', '«16+»', '«18+»']\n",
    "\n",
    "(data\n",
    " .query('show_start_year > 2014')\n",
    " .pivot_table(index='show_start_year', columns='age_restriction', values='box_office', aggfunc='sum')\n",
    " .reindex(new_order, axis='columns')\n",
    " .plot(ax=ax, kind='bar', cmap='Paired', title='Ежегодная сумма сборов по возрастным категориям')\n",
    ")\n",
    "\n",
    "plt.show()"
   ]
  },
  {
   "cell_type": "markdown",
   "metadata": {},
   "source": [
    "<div class=\"alert alert-warning\"; style=\"border-left: 7px solid yellow\" >\n",
    "<h3>!! Комментарий ревьюера</h3>\n",
    "    \n",
    "Выше у тебя 2019 год в подписях потерялся.</div>    "
   ]
  },
  {
   "cell_type": "markdown",
   "metadata": {},
   "source": [
    "<div class=\"alert alert-success\"; style=\"border-left: 7px solid green\">\n",
    "<h3>✔ Комментарий ревьюера</h3>\n",
    "    \n",
    "На мой взгляд по барчарту чуть удобнее было бы ориентироваться:</div>    "
   ]
  },
  {
   "cell_type": "code",
   "execution_count": 67,
   "metadata": {},
   "outputs": [
    {
     "data": {
      "text/plain": [
       "\"\\nfig, ax = plt.subplots(figsize=(15,6), dpi=150) # dpi это число пикселей на дюйм\\n\\n(data\\n .query('show_start_year > 2014')\\n .pivot_table(index='show_start_year', columns='age_restriction', values='box_office', aggfunc='sum')\\n .plot(ax=ax, kind='bar', cmap='Paired')\\n)\\n\\nplt.show()\\n\""
      ]
     },
     "execution_count": 67,
     "metadata": {},
     "output_type": "execute_result"
    }
   ],
   "source": [
    "# Код ревьюера\n",
    "'''\n",
    "fig, ax = plt.subplots(figsize=(15,6), dpi=150) # dpi это число пикселей на дюйм\n",
    "\n",
    "(data\n",
    " .query('show_start_year > 2014')\n",
    " .pivot_table(index='show_start_year', columns='age_restriction', values='box_office', aggfunc='sum')\n",
    " .plot(ax=ax, kind='bar', cmap='Paired')\n",
    ")\n",
    "\n",
    "plt.show()\n",
    "'''"
   ]
  },
  {
   "cell_type": "markdown",
   "metadata": {},
   "source": [
    "<div class = \"alert alert-info\" style=\"border-left: 7px solid blue\">\n",
    "<h3>Комментарий студента</h3>\n",
    "    \n",
    "Да, пожалуй, удобнее. Я использовала твой код, однако, добавила одну строку - чтобы столбцы с возрастными ограничениями шли в заданном порядке. Так проще смотреть.\n",
    "    \n",
    "А еще я изменила вывод по этому графику (т.к. вернулись удаленные мной ранее строки и все поменялось).\n",
    "</div>"
   ]
  },
  {
   "cell_type": "markdown",
   "metadata": {},
   "source": [
    "<div class=\"alert alert-success\"; style=\"border-left: 7px solid green\">\n",
    "<h3>✔ Комментарий ревьюера V.2</h3>\n",
    "    \n",
    "👍 Да, с упорядоченной легендой удобнее :)\n",
    "</div>    \n"
   ]
  },
  {
   "cell_type": "markdown",
   "metadata": {},
   "source": [
    "Самые маленькие сборы характерны для фильмов с возрастным ограничением «0+». Сюда относятся мультфильмы и фильмы для детей, в том числе и маленьких. Их не так много показывают в кинотеатрах в принципе: в основном, выпускают на TV и dvd. С каждым годом они приносят все меньше прибыли.\n",
    "\n",
    "Фильмы для взрослых («18+») на протяжении почти всего рассматриваемого периода занимают предпоследнее место по ежегодной сумме сборов. Можно предположить, что это связано со специфичностью освещаемых тем. Тем не менее, общую тенденцию к росту отметить можно.\n",
    "\n",
    "Фильмы с возрастными категориями «6+» и «12+» занимают среднее положение. Сюда тоже входят фильмы/мультфильмы для детей, но постарше. Зачастую на них ходят семьями с детьми. При этом, отметить однозначные тенденции развития сложно: наблюдаются как спуски, так и падения. \n",
    "\n",
    "Лидирующие по сумме сборов позиции занимают фильмы с возрастным ограничением «16+» (за исключением 2015). Их предпочитают подростки и взрослые люди, вероятно, составляющие большую часть зрителей. К 2017-му году сумма сборов фильмов данной категории достигла максимального значения, после чего начала спадать."
   ]
  },
  {
   "cell_type": "markdown",
   "metadata": {},
   "source": [
    "<div class=\"alert alert-success\"; style=\"border-left: 7px solid green\">\n",
    "<h3>✔ Комментарий ревьюера</h3>\n",
    "    \n",
    "Можно также на медианные сборы посмотреть</div>    "
   ]
  },
  {
   "cell_type": "markdown",
   "metadata": {},
   "source": [
    "<div class = \"alert alert-info\" style=\"border-left: 7px solid blue\">\n",
    "<h3>Комментарий студента</h3>\n",
    "    \n",
    "Можно\n",
    "</div>"
   ]
  },
  {
   "cell_type": "code",
   "execution_count": 68,
   "metadata": {},
   "outputs": [
    {
     "data": {
      "image/png": "[encoded data removed]",
      "text/plain": [
       "<Figure size 2250x900 with 1 Axes>"
      ]
     },
     "metadata": {
      "needs_background": "light"
     },
     "output_type": "display_data"
    }
   ],
   "source": [
    "fig, ax = plt.subplots(figsize=(15,6), dpi=150) # dpi это число пикселей на дюйм\n",
    "\n",
    "(data\n",
    " .query('show_start_year > 2014')\n",
    " .pivot_table(index='show_start_year', columns='age_restriction', values='box_office', aggfunc='median')\n",
    " .reindex(new_order, axis='columns')\n",
    " .plot(ax=ax, kind='bar', cmap='Paired', title='Медианная сумма сборов по возрастным категориям')\n",
    ")\n",
    "\n",
    "plt.show()"
   ]
  },
  {
   "cell_type": "markdown",
   "metadata": {},
   "source": [
    "По ежегодным медианным суммам сбора ситуация немного отличается. Практически во всем рассматриваемом периоде по медианной сумме сбора лидируют фильмы с ограничением «6+». Глобальный максимум был достигнут в 2017-м году, когда количество выпускаемых фильмов было достаточно маленьким. В этот же год хорошо себя проявили и фильмы «0+», державшиеся в другие года на минимальном уровне.\n",
    "\n",
    "Фильмы «12+» и «16+» характеризуются относительно близкими средними значениями, за исключением 2015-го года, в котором медианная сумма фильмов «12+» все-таки была намного выше. \n",
    "\n",
    "Что же касается последней категории - фильмов «18+» - медианные сборы для них не менялись значительно сильно. Аналогично зависимости медианных сумм фильмов «16+», для них наблюдался слабый подъем к 2017 году и снижение в последующие года."
   ]
  },
  {
   "cell_type": "markdown",
   "metadata": {},
   "source": [
    "<div class=\"alert alert-success\"; style=\"border-left: 7px solid green\">\n",
    "<h3>✔ Комментарий ревьюера V.2</h3>\n",
    "    \n",
    "👍\n",
    "</div>    \n"
   ]
  },
  {
   "cell_type": "markdown",
   "metadata": {
    "id": "l_Kg6Ku4gFya"
   },
   "source": [
    "<a id=\"film_analysis\"></a>\n",
    "### Шаг 4. Исследуйте фильмы, которые получили государственную поддержку\n",
    "\n",
    "На этом этапе нет конкретных инструкций и заданий — поищите интересные закономерности в данных. Посмотрите, сколько выделяют средств на поддержку кино. Проверьте, хорошо ли окупаются такие фильмы, какой у них рейтинг."
   ]
  },
  {
   "cell_type": "code",
   "execution_count": 69,
   "metadata": {},
   "outputs": [],
   "source": [
    "# общее количество средств, выделенных на фильмы\n",
    "data['total_support'] = data['refundable_support'] + data['nonrefundable_support']"
   ]
  },
  {
   "cell_type": "code",
   "execution_count": 70,
   "metadata": {},
   "outputs": [],
   "source": [
    "support_data = data.loc[~data['budget'].isnull()].copy()"
   ]
  },
  {
   "cell_type": "code",
   "execution_count": 71,
   "metadata": {
    "id": "W9QKpjUdgFyb"
   },
   "outputs": [
    {
     "name": "stdout",
     "output_type": "stream",
     "text": [
      "Фильмов, получивших гос.поддержку: 315\n",
      "Доля: 0.04\n"
     ]
    }
   ],
   "source": [
    "print('Фильмов, получивших гос.поддержку:', support_data.shape[0])\n",
    "print('Доля:', round(support_data.shape[0] / data.shape[0], 2))"
   ]
  },
  {
   "cell_type": "markdown",
   "metadata": {},
   "source": [
    "Только 4% фильмов из всех представленных получили гос.поддержку. Причем, в выборку попали только фильмы, выпущенные с 2013 по 2019 год."
   ]
  },
  {
   "cell_type": "code",
   "execution_count": 72,
   "metadata": {},
   "outputs": [
    {
     "data": {
      "text/plain": [
       "array(['россия'], dtype=object)"
      ]
     },
     "execution_count": 72,
     "metadata": {},
     "output_type": "execute_result"
    }
   ],
   "source": [
    "support_data['main_country'].unique()"
   ]
  },
  {
   "cell_type": "code",
   "execution_count": 73,
   "metadata": {},
   "outputs": [
    {
     "name": "stdout",
     "output_type": "stream",
     "text": [
      "Доля поддержанных фильмов: 0.17\n"
     ]
    }
   ],
   "source": [
    "print('Доля поддержанных фильмов:', round(support_data.shape[0] / data.query('main_country == \"россия\"').shape[0], 2))"
   ]
  },
  {
   "cell_type": "markdown",
   "metadata": {},
   "source": [
    "Гос.поддержка выделялась только на отечественные фильмы. При этом, всего около 17% отечественных фильмов были поддержаны."
   ]
  },
  {
   "cell_type": "code",
   "execution_count": 74,
   "metadata": {},
   "outputs": [
    {
     "data": {
      "image/png": "[encoded data removed]",
      "text/plain": [
       "<Figure size 432x288 with 1 Axes>"
      ]
     },
     "metadata": {
      "needs_background": "light"
     },
     "output_type": "display_data"
    }
   ],
   "source": [
    "(\n",
    "    support_data\n",
    "    .pivot_table(index='show_start_year', values=['total_support'], aggfunc='count')\n",
    "    .plot(title='Количество фильмов, получивших гос.поддержку')\n",
    ")\n",
    "\n",
    "plt.show()"
   ]
  },
  {
   "cell_type": "markdown",
   "metadata": {},
   "source": [
    "Максимальное количество фильмов получили поддержку от государства в 2015-м году. Далее наблюдался спад к 2017-му году и подъем к 2019. "
   ]
  },
  {
   "cell_type": "code",
   "execution_count": 75,
   "metadata": {},
   "outputs": [
    {
     "data": {
      "image/png": "[encoded data removed]",
      "text/plain": [
       "<Figure size 720x360 with 1 Axes>"
      ]
     },
     "metadata": {
      "needs_background": "light"
     },
     "output_type": "display_data"
    }
   ],
   "source": [
    "(\n",
    "    support_data\n",
    "    .pivot_table(index='show_start_year', values=['refundable_support', 'nonrefundable_support', 'total_support'], aggfunc='sum')\n",
    "    .plot(title='Суммарное количество средств гос.поддержки', figsize=(10, 5))\n",
    ")\n",
    "\n",
    "plt.show()"
   ]
  },
  {
   "cell_type": "markdown",
   "metadata": {},
   "source": [
    "Форма полученного графика схожа с зависимостью, которая прослеживалась на предыдущей диаграмме, но является более пологой.  К 2016 году суммарная сумма средств, выделенных на поддержку фильмов, достигла максимума. При этом, можно заметить, что наибольшее количество выделенных средств являлись невозвратными."
   ]
  },
  {
   "cell_type": "code",
   "execution_count": 76,
   "metadata": {},
   "outputs": [
    {
     "data": {
      "image/png": "[encoded data removed]",
      "text/plain": [
       "<Figure size 432x288 with 1 Axes>"
      ]
     },
     "metadata": {
      "needs_background": "light"
     },
     "output_type": "display_data"
    }
   ],
   "source": [
    "(\n",
    "    support_data\n",
    "    .pivot_table(index='financing_source', values='total_support', aggfunc='sum')\n",
    "    .sort_values(by='total_support', ascending=False)\n",
    "    .plot(kind='bar')\n",
    ")\n",
    "plt.xticks(rotation=45)\n",
    "plt.show()"
   ]
  },
  {
   "cell_type": "markdown",
   "metadata": {},
   "source": [
    "Наибольшая часть средств была выделена Фондом кино. Наименьшая - совместно с Министерством культуры."
   ]
  },
  {
   "cell_type": "markdown",
   "metadata": {},
   "source": [
    "Теперь посмотрим на окупаемость поддержанных государством фильмов."
   ]
  },
  {
   "cell_type": "code",
   "execution_count": 77,
   "metadata": {},
   "outputs": [],
   "source": [
    "support_data['ratio'] = support_data['box_office'] / support_data['budget']"
   ]
  },
  {
   "cell_type": "code",
   "execution_count": 78,
   "metadata": {},
   "outputs": [
    {
     "name": "stdout",
     "output_type": "stream",
     "text": [
      "0.21\n"
     ]
    }
   ],
   "source": [
    "print(round(support_data.query('ratio > 1').shape[0] / support_data.shape[0], 2))"
   ]
  },
  {
   "cell_type": "markdown",
   "metadata": {},
   "source": [
    "При этом, всего 21% фильмов, получивших гос.поддержку действительно окупились. ТОП-10 окупившихся поддержанных фильмов:"
   ]
  },
  {
   "cell_type": "markdown",
   "metadata": {},
   "source": [
    "<div class=\"alert alert-success\"; style=\"border-left: 7px solid green\">\n",
    "<h3>✔ Комментарий ревьюера</h3>\n",
    "    \n",
    "👍</div>    "
   ]
  },
  {
   "cell_type": "code",
   "execution_count": 79,
   "metadata": {},
   "outputs": [
    {
     "data": {
      "text/html": [
       "<div>\n",
       "<style scoped>\n",
       "    .dataframe tbody tr th:only-of-type {\n",
       "        vertical-align: middle;\n",
       "    }\n",
       "\n",
       "    .dataframe tbody tr th {\n",
       "        vertical-align: top;\n",
       "    }\n",
       "\n",
       "    .dataframe thead th {\n",
       "        text-align: right;\n",
       "    }\n",
       "</style>\n",
       "<table border=\"1\" class=\"dataframe\">\n",
       "  <thead>\n",
       "    <tr style=\"text-align: right;\">\n",
       "      <th></th>\n",
       "      <th>puNumber</th>\n",
       "      <th>title</th>\n",
       "      <th>budget</th>\n",
       "      <th>support_share</th>\n",
       "      <th>ratio</th>\n",
       "      <th>ratings</th>\n",
       "      <th>main_genre</th>\n",
       "    </tr>\n",
       "  </thead>\n",
       "  <tbody>\n",
       "    <tr>\n",
       "      <th>7456</th>\n",
       "      <td>111021719.0</td>\n",
       "      <td>Холоп</td>\n",
       "      <td>160000000.0</td>\n",
       "      <td>0.38</td>\n",
       "      <td>19.209804</td>\n",
       "      <td>6.8</td>\n",
       "      <td>комедия</td>\n",
       "    </tr>\n",
       "    <tr>\n",
       "      <th>5708</th>\n",
       "      <td>111000518.0</td>\n",
       "      <td>Лёд</td>\n",
       "      <td>148585222.0</td>\n",
       "      <td>0.57</td>\n",
       "      <td>9.729984</td>\n",
       "      <td>NaN</td>\n",
       "      <td>unknown</td>\n",
       "    </tr>\n",
       "    <tr>\n",
       "      <th>5749</th>\n",
       "      <td>111001618.0</td>\n",
       "      <td>Я худею</td>\n",
       "      <td>87649127.0</td>\n",
       "      <td>0.34</td>\n",
       "      <td>7.227251</td>\n",
       "      <td>6.9</td>\n",
       "      <td>комедия</td>\n",
       "    </tr>\n",
       "    <tr>\n",
       "      <th>3229</th>\n",
       "      <td>111018216.0</td>\n",
       "      <td>Гуляй, вася !</td>\n",
       "      <td>39000000.0</td>\n",
       "      <td>0.65</td>\n",
       "      <td>6.643566</td>\n",
       "      <td>6.5</td>\n",
       "      <td>комедия</td>\n",
       "    </tr>\n",
       "    <tr>\n",
       "      <th>2701</th>\n",
       "      <td>111017815.0</td>\n",
       "      <td>Самый лучший день</td>\n",
       "      <td>130619336.0</td>\n",
       "      <td>0.48</td>\n",
       "      <td>5.229157</td>\n",
       "      <td>4.7</td>\n",
       "      <td>комедия</td>\n",
       "    </tr>\n",
       "    <tr>\n",
       "      <th>2205</th>\n",
       "      <td>111014914.0</td>\n",
       "      <td>8 новых свиданий</td>\n",
       "      <td>77401751.0</td>\n",
       "      <td>0.39</td>\n",
       "      <td>5.081857</td>\n",
       "      <td>6.0</td>\n",
       "      <td>комедия</td>\n",
       "    </tr>\n",
       "    <tr>\n",
       "      <th>5641</th>\n",
       "      <td>111011617.0</td>\n",
       "      <td>Ёлки новые</td>\n",
       "      <td>174381922.0</td>\n",
       "      <td>0.57</td>\n",
       "      <td>4.905618</td>\n",
       "      <td>5.8</td>\n",
       "      <td>комедия</td>\n",
       "    </tr>\n",
       "    <tr>\n",
       "      <th>6178</th>\n",
       "      <td>111016018.0</td>\n",
       "      <td>Непрощенный</td>\n",
       "      <td>82496889.0</td>\n",
       "      <td>0.48</td>\n",
       "      <td>4.767206</td>\n",
       "      <td>6.7</td>\n",
       "      <td>драма</td>\n",
       "    </tr>\n",
       "    <tr>\n",
       "      <th>5653</th>\n",
       "      <td>111011817.0</td>\n",
       "      <td>Движение вверх</td>\n",
       "      <td>590192191.0</td>\n",
       "      <td>0.68</td>\n",
       "      <td>4.709798</td>\n",
       "      <td>7.5</td>\n",
       "      <td>спорт</td>\n",
       "    </tr>\n",
       "    <tr>\n",
       "      <th>5505</th>\n",
       "      <td>111007017.0</td>\n",
       "      <td>Последний богатырь</td>\n",
       "      <td>352477575.0</td>\n",
       "      <td>0.28</td>\n",
       "      <td>4.695441</td>\n",
       "      <td>6.8</td>\n",
       "      <td>комедия</td>\n",
       "    </tr>\n",
       "  </tbody>\n",
       "</table>\n",
       "</div>"
      ],
      "text/plain": [
       "         puNumber               title       budget  support_share      ratio  \\\n",
       "7456  111021719.0               Холоп  160000000.0           0.38  19.209804   \n",
       "5708  111000518.0                 Лёд  148585222.0           0.57   9.729984   \n",
       "5749  111001618.0             Я худею   87649127.0           0.34   7.227251   \n",
       "3229  111018216.0       Гуляй, вася !   39000000.0           0.65   6.643566   \n",
       "2701  111017815.0   Самый лучший день  130619336.0           0.48   5.229157   \n",
       "2205  111014914.0    8 новых свиданий   77401751.0           0.39   5.081857   \n",
       "5641  111011617.0          Ёлки новые  174381922.0           0.57   4.905618   \n",
       "6178  111016018.0         Непрощенный   82496889.0           0.48   4.767206   \n",
       "5653  111011817.0      Движение вверх  590192191.0           0.68   4.709798   \n",
       "5505  111007017.0  Последний богатырь  352477575.0           0.28   4.695441   \n",
       "\n",
       "      ratings main_genre  \n",
       "7456      6.8    комедия  \n",
       "5708      NaN    unknown  \n",
       "5749      6.9    комедия  \n",
       "3229      6.5    комедия  \n",
       "2701      4.7    комедия  \n",
       "2205      6.0    комедия  \n",
       "5641      5.8    комедия  \n",
       "6178      6.7      драма  \n",
       "5653      7.5      спорт  \n",
       "5505      6.8    комедия  "
      ]
     },
     "execution_count": 79,
     "metadata": {},
     "output_type": "execute_result"
    }
   ],
   "source": [
    "support_data.sort_values(by='ratio', ascending=False)[['puNumber', 'title', 'budget', 'support_share', 'ratio', 'ratings', 'main_genre']].head(10)"
   ]
  },
  {
   "cell_type": "markdown",
   "metadata": {},
   "source": [
    "Доля гос.поддержки в таких фильмах варьировалась от 28 до 68%. Основным же жанром являлась комедия. При этом, в топ-10 окупившихся фильмов попали фильмы как с высоким рейтингом (7.5), так и не очень (< 5.0). Посмотрим на зависимость окупаемости от рейтинга в рамках всех фильмов с гос.поддержкой:"
   ]
  },
  {
   "cell_type": "markdown",
   "metadata": {},
   "source": [
    "<div class=\"alert alert-success\"; style=\"border-left: 7px solid green\">\n",
    "<h3>✔ Комментарий ревьюера</h3>\n",
    "    \n",
    "По топ-10 конечно тяжело зависимость проследить, можно на диаграмму рассеяния посмотреть. Можно посмотерть на окупаемость в разрезе по годам/жанрам/режиссерам и т.п.\n",
    "</div>    "
   ]
  },
  {
   "cell_type": "markdown",
   "metadata": {},
   "source": [
    "<div class = \"alert alert-info\" style=\"border-left: 7px solid blue\">\n",
    "<h3>Комментарий студента</h3>\n",
    "    \n",
    "Ок-с\n",
    "</div>"
   ]
  },
  {
   "cell_type": "code",
   "execution_count": 80,
   "metadata": {},
   "outputs": [
    {
     "data": {
      "image/png": "[encoded data removed]",
      "text/plain": [
       "<Figure size 432x288 with 1 Axes>"
      ]
     },
     "metadata": {
      "needs_background": "light"
     },
     "output_type": "display_data"
    }
   ],
   "source": [
    "support_data.plot(x='ratio', y='ratings', kind='scatter')\n",
    "plt.show()"
   ]
  },
  {
   "cell_type": "markdown",
   "metadata": {},
   "source": [
    "Как видно по диаграмме рассеяния, рейтинг почти не влияет на окупаемость. Однако возможно есть зависимость от других параметров. Посмотрим на медианную окупаемость по годам и жанрам."
   ]
  },
  {
   "cell_type": "code",
   "execution_count": 81,
   "metadata": {},
   "outputs": [
    {
     "data": {
      "image/png": "[encoded data removed]",
      "text/plain": [
       "<Figure size 432x288 with 1 Axes>"
      ]
     },
     "metadata": {
      "needs_background": "light"
     },
     "output_type": "display_data"
    }
   ],
   "source": [
    "(\n",
    "    support_data\n",
    "    .pivot_table(index='show_start_year', values='ratio', aggfunc='median')\n",
    "    .plot(kind='bar', title='Окупаемость фильмов по годам')\n",
    ")\n",
    "\n",
    "plt.xticks(rotation=0)\n",
    "plt.show()"
   ]
  },
  {
   "cell_type": "markdown",
   "metadata": {},
   "source": [
    "Медианная окупаемость фильмов, поддержанных государством, достигла максимума к 2017-му году, в дальнейшем пошла на спад. "
   ]
  },
  {
   "cell_type": "markdown",
   "metadata": {},
   "source": [
    "<div class=\"alert alert-success\"; style=\"border-left: 7px solid green\">\n",
    "<h3>✔ Комментарий ревьюера V.2</h3>\n",
    "    \n",
    "При этом стоит отметить, что окупаемость меньше 1, т.е. фильмы не окупаются\n",
    "</div>    \n"
   ]
  },
  {
   "cell_type": "code",
   "execution_count": 82,
   "metadata": {},
   "outputs": [
    {
     "data": {
      "image/png": "[encoded data removed]",
      "text/plain": [
       "<Figure size 720x360 with 1 Axes>"
      ]
     },
     "metadata": {
      "needs_background": "light"
     },
     "output_type": "display_data"
    }
   ],
   "source": [
    "(\n",
    "    support_data\n",
    "    .pivot_table(index='main_genre', values='ratio', aggfunc='median')\n",
    "    .sort_values(by='ratio', ascending=False)\n",
    "    .plot(kind='bar', title='Окупаемость фильмов по жанрам', figsize=(10, 5))\n",
    ")\n",
    "\n",
    "plt.show()"
   ]
  },
  {
   "cell_type": "markdown",
   "metadata": {},
   "source": [
    "Что касается жанров, здесь бесспорно лидирует \"спорт\". Остальные же по медианным значениям рентабельности находятся ниже 1. Следовательно, бОльшая часть фильмов, относящихся к другим жанрам (для которых указана информация о сборах), не окупилась в итоге.\n",
    "\n",
    "Жанры, на которые государством выделяется больше средств:"
   ]
  },
  {
   "cell_type": "markdown",
   "metadata": {},
   "source": [
    "<div class=\"alert alert-success\"; style=\"border-left: 7px solid green\">\n",
    "<h3>✔ Комментарий ревьюера</h3>\n",
    "    \n",
    "Можно на относительные величины посмотерть, т.к. сумма зависит от популярности жанра в целом. Также можно посмотерть на долю поддержанных фильмов для каждого жанра</div>    "
   ]
  },
  {
   "cell_type": "markdown",
   "metadata": {},
   "source": [
    "<div class = \"alert alert-info\" style=\"border-left: 7px solid blue\">\n",
    "<h3>Комментарий студента</h3>\n",
    "    \n",
    "Посмотрела на средние значения гос.поддержки, а также долю поддержанных отечественных фильмов. В последнем случае смотреть на фильмы, выпущенные не в России, нелогично, поскольку все равно не будут поддержаны.\n",
    "</div>"
   ]
  },
  {
   "cell_type": "code",
   "execution_count": 83,
   "metadata": {},
   "outputs": [
    {
     "data": {
      "image/png": "[encoded data removed]",
      "text/plain": [
       "<Figure size 720x360 with 1 Axes>"
      ]
     },
     "metadata": {
      "needs_background": "light"
     },
     "output_type": "display_data"
    }
   ],
   "source": [
    "(\n",
    "    support_data\n",
    "    .pivot_table(index='main_genre', values='total_support', aggfunc='mean')\n",
    "    .sort_values(by='total_support', ascending=False)\n",
    "    .plot(kind='bar', figsize=(10, 5))\n",
    ")\n",
    "\n",
    "plt.show()"
   ]
  },
  {
   "cell_type": "markdown",
   "metadata": {},
   "source": [
    "Больше всего государственных средств, в среднем, выделяется на поддержку фильмов в жанрах \"история\", \"спорт\" и \"фантастика\". Наименее спонсируемыми жанрами оказались \"мелодрама\", \"детский\" и \"ужасы\". \n",
    "\n",
    "Доля поддержанных отечественных фильмов по жанрам:"
   ]
  },
  {
   "cell_type": "code",
   "execution_count": 84,
   "metadata": {},
   "outputs": [
    {
     "data": {
      "image/png": "[encoded data removed]",
      "text/plain": [
       "<Figure size 720x360 with 1 Axes>"
      ]
     },
     "metadata": {
      "needs_background": "light"
     },
     "output_type": "display_data"
    }
   ],
   "source": [
    "genres_data = (\n",
    "    data.query('main_country == \"россия\"')\n",
    "    .pivot_table(index='main_genre', values=['total_support', 'puNumber'], aggfunc='count')\n",
    ")\n",
    "\n",
    "genres_data['ratio'] = genres_data['total_support'] / genres_data['puNumber']\n",
    "genres_data = genres_data.sort_values(by='ratio', ascending=False)\n",
    "\n",
    "genres_data['ratio'].plot(kind='bar', figsize=(10, 5))\n",
    "plt.show()"
   ]
  },
  {
   "cell_type": "markdown",
   "metadata": {},
   "source": [
    "При этом, как оказалось, 100% российских фильмов в жанре \"реальное тв\" (попавших в датасет) поддержано государтвом. На втором месте \"спорт\": около половины выпущенных фильмов получили поддержку. Третье место делят между собой мюзиклы и военные фильмы. А вот такие представленные жанры как \"аниме\", \"вестерн\", а также короткометражки и документальные поддерживаются хуже всего."
   ]
  },
  {
   "cell_type": "markdown",
   "metadata": {},
   "source": [
    "<div class=\"alert alert-success\"; style=\"border-left: 7px solid green\">\n",
    "<h3>✔ Комментарий ревьюера V.2</h3>\n",
    "    \n",
    "Здесь стоит также иметь в виду число самих фильмов в жанре. Для реального тв всего 1 фильм. В остально же да, почти каждый второй фильм про спорт поддержан\n",
    "</div>    \n"
   ]
  },
  {
   "cell_type": "code",
   "execution_count": 85,
   "metadata": {},
   "outputs": [
    {
     "data": {
      "image/png": "[encoded data removed]",
      "text/plain": [
       "<Figure size 720x360 with 1 Axes>"
      ]
     },
     "metadata": {
      "needs_background": "light"
     },
     "output_type": "display_data"
    }
   ],
   "source": [
    "(\n",
    "    support_data\n",
    "    .pivot_table(index='age_restriction', values='total_support', aggfunc='sum')\n",
    "    .sort_values(by='total_support', ascending=False)\n",
    "    .plot(kind='bar', title='Сумма гос.поддержки по возрастным категориям', figsize = (10, 5))\n",
    ")\n",
    "\n",
    "plt.xticks(rotation=0)\n",
    "plt.show()"
   ]
  },
  {
   "cell_type": "markdown",
   "metadata": {},
   "source": [
    "Что же касается возрастных ограничений, наиболее спонсируемыми оказались фильмы в категориях «12+» и «16+», наименее - фильмы без ограничения по возрасту и запрещенные для детей."
   ]
  },
  {
   "cell_type": "markdown",
   "metadata": {
    "id": "V2gYwMcPgFyd"
   },
   "source": [
    "### Шаг 5. Напишите общий вывод"
   ]
  },
  {
   "cell_type": "markdown",
   "metadata": {
    "id": "AYRg3dzXgFye"
   },
   "source": [
    "В рамках проекта были изучены основные закономерности в данных, предоставленных Министерством культуры РФ. Данные включали в себя информацию о прокатных удостоверениях фильмов, их оценках на сайте Кинопоиск, а также сборах и гос.поддержке фильмов. Рассматриваемый период: с 2010 по 2019 год. \n",
    "\n",
    "На этапе предобработки были выявлены и устранены некоторые проблемы в данных, а именно объединены данные из двух таблиц, заполнены пропуски в некоторых столбцах и удалены/заменены неверно записанные значения. Далее был проведен исследовательский анализ данных о фильмах, вышедших в прокат в российских кинотеатрах, а также более подробно изучены фильмы, получившие гос.поддержку.\n",
    "\n",
    "**Основные выводы:**\n",
    "\n",
    "- Всего для 42% представленных фильмов известна информация о кассовых сборов, из них 4% - фильмы, получившие гос.поддержку.\n",
    "- Гос.поддержку получают только отечественные фильмы, при этом наибольшая часть средств гос.поддержки выделяется Фондом кино.\n",
    "- В рассматриваемый период государством было поддержано 17% отечественных фильмов, при этом, только 21% из них окупилось.\n",
    "- Наименее прибыльными оказались фильмы с возрастной категорией «0+». Наиболее - фильмы для более взрослой аудитории «16+».\n",
    "- Государством, в основном, спонсируются фильмы с ограничением «12+».\n",
    "- Наибольшее количество средств государством выделено на жанры \"история\", \"спорт\" и \"фантастика\". \n",
    "- При этом \"спорт\" является самым окупаемым жанром. Половина фильмов этого жанра поддерживается государством.\n",
    "- 100% отечественных фильмов в категории \"реальное тв\" получают поддержку.\n",
    "- 7/10 ТОП-10 окупившихся поддержанных фильмов относится к комедийным.\n",
    "- Окупаемость фильмов почти не зависит от их рейтинга, зато определенным образом менялась с годами. \n",
    "\n",
    "В общем и целом, с годами можно наблюдать тенденцию к увеличению интереса к кинематографу. Это касается и фильмов, выходящих в прокат, и фильмов, получающих гос.поддержку. При этом, растет как количество выпускаемых фильмов, так и объемы выделяемых средств."
   ]
  },
  {
   "cell_type": "markdown",
   "metadata": {},
   "source": [
    "<div class=\"alert alert-success\"; style=\"border-left: 7px solid green\">\n",
    "<h3>✔ Комментарий ревьюера</h3>\n",
    "    \n",
    "В целом очень хорошяа работа 👍</div>    "
   ]
  },
  {
   "cell_type": "markdown",
   "metadata": {},
   "source": [
    "<div class = \"alert alert-info\" style=\"border-left: 7px solid blue\">\n",
    "<h3>Комментарий студента</h3>\n",
    "    \n",
    "Общий вывод также немного обновила. Твои комментарии и замечания оказались очень полезными, спасибо!\n",
    "</div>"
   ]
  },
  {
   "cell_type": "markdown",
   "metadata": {},
   "source": [
    "<div class=\"alert alert-success\"; style=\"border-left: 7px solid green\">\n",
    "<h3>✔ Комментарий ревьюера V.2</h3>\n",
    "    \n",
    "👍\n",
    "</div>    \n"
   ]
  }
 ],
 "metadata": {
  "ExecuteTimeLog": [
   {
    "duration": 537,
    "start_time": "2021-07-07T10:12:08.634Z"
   },
   {
    "duration": 206,
    "start_time": "2021-07-07T10:12:30.191Z"
   },
   {
    "duration": 227,
    "start_time": "2021-07-07T10:12:33.078Z"
   },
   {
    "duration": 153,
    "start_time": "2021-07-07T10:13:42.146Z"
   },
   {
    "duration": 233,
    "start_time": "2021-07-07T10:30:09.252Z"
   },
   {
    "duration": 19,
    "start_time": "2021-07-07T10:30:15.577Z"
   },
   {
    "duration": 18,
    "start_time": "2021-07-07T10:30:57.348Z"
   },
   {
    "duration": 19,
    "start_time": "2021-07-07T10:31:17.452Z"
   },
   {
    "duration": 21,
    "start_time": "2021-07-07T10:31:32.227Z"
   },
   {
    "duration": 27,
    "start_time": "2021-07-07T10:32:06.588Z"
   },
   {
    "duration": 23,
    "start_time": "2021-07-07T10:32:43.645Z"
   },
   {
    "duration": 24,
    "start_time": "2021-07-07T10:33:06.948Z"
   },
   {
    "duration": 7,
    "start_time": "2021-07-07T10:33:28.558Z"
   },
   {
    "duration": 23,
    "start_time": "2021-07-07T10:33:43.761Z"
   },
   {
    "duration": 28,
    "start_time": "2021-07-07T10:34:13.466Z"
   },
   {
    "duration": 23,
    "start_time": "2021-07-07T10:35:56.187Z"
   },
   {
    "duration": 6,
    "start_time": "2021-07-07T10:36:48.182Z"
   },
   {
    "duration": 14,
    "start_time": "2021-07-07T10:37:49.641Z"
   },
   {
    "duration": 6,
    "start_time": "2021-07-07T10:38:06.694Z"
   },
   {
    "duration": 6,
    "start_time": "2021-07-07T10:38:13.493Z"
   },
   {
    "duration": 19,
    "start_time": "2021-07-07T10:38:44.056Z"
   },
   {
    "duration": 186,
    "start_time": "2021-07-07T10:48:35.618Z"
   },
   {
    "duration": 24,
    "start_time": "2021-07-07T10:48:51.498Z"
   },
   {
    "duration": 20,
    "start_time": "2021-07-07T10:48:59.415Z"
   },
   {
    "duration": 20,
    "start_time": "2021-07-07T10:53:02.195Z"
   },
   {
    "duration": 188,
    "start_time": "2021-07-07T10:54:40.486Z"
   },
   {
    "duration": 115,
    "start_time": "2021-07-07T10:54:52.552Z"
   },
   {
    "duration": 214,
    "start_time": "2021-07-07T10:54:56.354Z"
   },
   {
    "duration": 47,
    "start_time": "2021-07-07T10:54:58.282Z"
   },
   {
    "duration": 217,
    "start_time": "2021-07-07T10:59:16.075Z"
   },
   {
    "duration": 51,
    "start_time": "2021-07-07T10:59:16.243Z"
   },
   {
    "duration": 578,
    "start_time": "2021-07-07T10:59:18.774Z"
   },
   {
    "duration": 161,
    "start_time": "2021-07-07T10:59:21.238Z"
   },
   {
    "duration": 59,
    "start_time": "2021-07-07T10:59:21.453Z"
   },
   {
    "duration": 3,
    "start_time": "2021-07-07T11:02:10.786Z"
   },
   {
    "duration": 13,
    "start_time": "2021-07-07T11:07:07.722Z"
   },
   {
    "duration": 26,
    "start_time": "2021-07-07T11:07:17.958Z"
   },
   {
    "duration": 22,
    "start_time": "2021-07-07T11:08:17.939Z"
   },
   {
    "duration": 212,
    "start_time": "2021-07-07T11:08:19.665Z"
   },
   {
    "duration": 21,
    "start_time": "2021-07-07T11:08:29.945Z"
   },
   {
    "duration": 31,
    "start_time": "2021-07-07T11:08:38.899Z"
   },
   {
    "duration": 23,
    "start_time": "2021-07-07T11:08:54.527Z"
   },
   {
    "duration": 8,
    "start_time": "2021-07-07T11:18:55.974Z"
   },
   {
    "duration": 7,
    "start_time": "2021-07-07T11:19:03.639Z"
   },
   {
    "duration": 7,
    "start_time": "2021-07-07T11:19:06.444Z"
   },
   {
    "duration": 578,
    "start_time": "2021-07-07T12:09:59.576Z"
   },
   {
    "duration": 195,
    "start_time": "2021-07-07T12:10:00.156Z"
   },
   {
    "duration": 115,
    "start_time": "2021-07-07T12:10:00.353Z"
   },
   {
    "duration": 3,
    "start_time": "2021-07-07T12:10:00.470Z"
   },
   {
    "duration": 32,
    "start_time": "2021-07-07T12:10:00.474Z"
   },
   {
    "duration": 23,
    "start_time": "2021-07-07T12:10:00.508Z"
   },
   {
    "duration": 19,
    "start_time": "2021-07-07T12:10:00.533Z"
   },
   {
    "duration": 44,
    "start_time": "2021-07-07T12:10:00.553Z"
   },
   {
    "duration": 7,
    "start_time": "2021-07-07T12:10:00.600Z"
   },
   {
    "duration": 7,
    "start_time": "2021-07-07T12:19:45.761Z"
   },
   {
    "duration": 21,
    "start_time": "2021-07-07T12:21:35.482Z"
   },
   {
    "duration": 21,
    "start_time": "2021-07-07T12:29:23.569Z"
   },
   {
    "duration": 525,
    "start_time": "2021-07-07T12:29:44.542Z"
   },
   {
    "duration": 214,
    "start_time": "2021-07-07T12:29:45.069Z"
   },
   {
    "duration": 92,
    "start_time": "2021-07-07T12:29:45.285Z"
   },
   {
    "duration": 3,
    "start_time": "2021-07-07T12:29:45.379Z"
   },
   {
    "duration": 28,
    "start_time": "2021-07-07T12:29:45.384Z"
   },
   {
    "duration": 23,
    "start_time": "2021-07-07T12:29:45.413Z"
   },
   {
    "duration": 21,
    "start_time": "2021-07-07T12:29:45.437Z"
   },
   {
    "duration": 41,
    "start_time": "2021-07-07T12:29:45.460Z"
   },
   {
    "duration": 7,
    "start_time": "2021-07-07T12:29:45.502Z"
   },
   {
    "duration": 20,
    "start_time": "2021-07-07T12:29:45.511Z"
   },
   {
    "duration": 12,
    "start_time": "2021-07-07T12:34:02.800Z"
   },
   {
    "duration": 7,
    "start_time": "2021-07-07T12:35:10.479Z"
   },
   {
    "duration": 8,
    "start_time": "2021-07-07T12:35:22.440Z"
   },
   {
    "duration": 6,
    "start_time": "2021-07-07T12:35:35.649Z"
   },
   {
    "duration": 6,
    "start_time": "2021-07-07T12:35:43.107Z"
   },
   {
    "duration": 22,
    "start_time": "2021-07-07T12:38:03.029Z"
   },
   {
    "duration": 10,
    "start_time": "2021-07-07T12:38:06.592Z"
   },
   {
    "duration": 563,
    "start_time": "2021-07-07T12:38:46.493Z"
   },
   {
    "duration": 265,
    "start_time": "2021-07-07T12:38:47.058Z"
   },
   {
    "duration": 94,
    "start_time": "2021-07-07T12:38:47.325Z"
   },
   {
    "duration": 3,
    "start_time": "2021-07-07T12:38:47.422Z"
   },
   {
    "duration": 30,
    "start_time": "2021-07-07T12:38:47.427Z"
   },
   {
    "duration": 16,
    "start_time": "2021-07-07T12:38:53.305Z"
   },
   {
    "duration": 10,
    "start_time": "2021-07-07T12:38:53.499Z"
   },
   {
    "duration": 8,
    "start_time": "2021-07-07T12:39:48.161Z"
   },
   {
    "duration": 27,
    "start_time": "2021-07-07T12:41:17.629Z"
   },
   {
    "duration": 17,
    "start_time": "2021-07-07T12:41:17.867Z"
   },
   {
    "duration": 21,
    "start_time": "2021-07-07T12:41:19.310Z"
   },
   {
    "duration": 7,
    "start_time": "2021-07-07T12:41:19.544Z"
   },
   {
    "duration": 20,
    "start_time": "2021-07-07T12:41:20.504Z"
   },
   {
    "duration": 554,
    "start_time": "2021-07-07T12:56:23.696Z"
   },
   {
    "duration": 200,
    "start_time": "2021-07-07T12:56:25.234Z"
   },
   {
    "duration": 119,
    "start_time": "2021-07-07T12:56:25.480Z"
   },
   {
    "duration": 4,
    "start_time": "2021-07-07T12:56:25.762Z"
   },
   {
    "duration": 26,
    "start_time": "2021-07-07T12:56:27.172Z"
   },
   {
    "duration": 12,
    "start_time": "2021-07-07T12:56:29.051Z"
   },
   {
    "duration": 10,
    "start_time": "2021-07-07T12:56:29.291Z"
   },
   {
    "duration": 8,
    "start_time": "2021-07-07T12:56:29.623Z"
   },
   {
    "duration": 28,
    "start_time": "2021-07-07T12:56:32.137Z"
   },
   {
    "duration": 19,
    "start_time": "2021-07-07T12:56:39.785Z"
   },
   {
    "duration": 20,
    "start_time": "2021-07-07T12:56:44.297Z"
   },
   {
    "duration": 7,
    "start_time": "2021-07-07T12:56:45.392Z"
   },
   {
    "duration": 23,
    "start_time": "2021-07-07T12:56:46.615Z"
   },
   {
    "duration": 4,
    "start_time": "2021-07-07T12:57:06.625Z"
   },
   {
    "duration": 32,
    "start_time": "2021-07-07T12:57:36.690Z"
   },
   {
    "duration": 18,
    "start_time": "2021-07-07T12:58:00.149Z"
   },
   {
    "duration": 15,
    "start_time": "2021-07-07T12:59:16.793Z"
   },
   {
    "duration": 7,
    "start_time": "2021-07-07T13:19:22.624Z"
   },
   {
    "duration": 6,
    "start_time": "2021-07-07T14:17:33.527Z"
   },
   {
    "duration": 9,
    "start_time": "2021-07-07T14:17:48.409Z"
   },
   {
    "duration": 8,
    "start_time": "2021-07-07T14:20:13.060Z"
   },
   {
    "duration": 8,
    "start_time": "2021-07-07T14:20:37.957Z"
   },
   {
    "duration": 8,
    "start_time": "2021-07-07T14:20:47.470Z"
   },
   {
    "duration": 9,
    "start_time": "2021-07-07T14:20:54.503Z"
   },
   {
    "duration": 10,
    "start_time": "2021-07-07T14:28:57.763Z"
   },
   {
    "duration": 3,
    "start_time": "2021-07-07T14:30:23.377Z"
   },
   {
    "duration": 3,
    "start_time": "2021-07-07T14:30:36.489Z"
   },
   {
    "duration": 103,
    "start_time": "2021-07-07T14:30:52.351Z"
   },
   {
    "duration": 8,
    "start_time": "2021-07-07T14:30:54.763Z"
   },
   {
    "duration": 8,
    "start_time": "2021-07-07T14:31:29.301Z"
   },
   {
    "duration": 13,
    "start_time": "2021-07-07T14:31:44.516Z"
   },
   {
    "duration": 7,
    "start_time": "2021-07-07T14:33:10.972Z"
   },
   {
    "duration": 11,
    "start_time": "2021-07-07T14:33:27.780Z"
   },
   {
    "duration": 8,
    "start_time": "2021-07-07T14:34:44.588Z"
   },
   {
    "duration": 57,
    "start_time": "2021-07-07T14:35:59.042Z"
   },
   {
    "duration": 3,
    "start_time": "2021-07-07T14:36:28.168Z"
   },
   {
    "duration": 5,
    "start_time": "2021-07-07T14:36:46.254Z"
   },
   {
    "duration": 4,
    "start_time": "2021-07-07T14:36:52.714Z"
   },
   {
    "duration": 3,
    "start_time": "2021-07-07T14:36:56.612Z"
   },
   {
    "duration": 4,
    "start_time": "2021-07-07T14:36:57.049Z"
   },
   {
    "duration": 3,
    "start_time": "2021-07-07T14:39:21.214Z"
   },
   {
    "duration": 7,
    "start_time": "2021-07-07T14:39:52.406Z"
   },
   {
    "duration": 11,
    "start_time": "2021-07-07T14:39:58.576Z"
   },
   {
    "duration": 9,
    "start_time": "2021-07-07T14:40:26.301Z"
   },
   {
    "duration": 10,
    "start_time": "2021-07-07T14:40:31.704Z"
   },
   {
    "duration": 11,
    "start_time": "2021-07-07T14:40:36.249Z"
   },
   {
    "duration": 10,
    "start_time": "2021-07-07T14:40:39.783Z"
   },
   {
    "duration": 9,
    "start_time": "2021-07-07T14:40:48.558Z"
   },
   {
    "duration": 10,
    "start_time": "2021-07-07T14:40:57.143Z"
   },
   {
    "duration": 9,
    "start_time": "2021-07-07T14:41:06.074Z"
   },
   {
    "duration": 4324,
    "start_time": "2021-07-07T14:41:22.004Z"
   },
   {
    "duration": 11,
    "start_time": "2021-07-07T14:41:33.392Z"
   },
   {
    "duration": 9,
    "start_time": "2021-07-07T14:41:39.288Z"
   },
   {
    "duration": 569,
    "start_time": "2021-07-07T14:42:14.387Z"
   },
   {
    "duration": 197,
    "start_time": "2021-07-07T14:42:14.959Z"
   },
   {
    "duration": 84,
    "start_time": "2021-07-07T14:42:16.052Z"
   },
   {
    "duration": 4,
    "start_time": "2021-07-07T14:42:16.900Z"
   },
   {
    "duration": 27,
    "start_time": "2021-07-07T14:42:19.898Z"
   },
   {
    "duration": 12,
    "start_time": "2021-07-07T14:42:21.577Z"
   },
   {
    "duration": 9,
    "start_time": "2021-07-07T14:42:21.813Z"
   },
   {
    "duration": 9,
    "start_time": "2021-07-07T14:42:22.569Z"
   },
   {
    "duration": 29,
    "start_time": "2021-07-07T14:42:25.837Z"
   },
   {
    "duration": 20,
    "start_time": "2021-07-07T14:42:27.003Z"
   },
   {
    "duration": 21,
    "start_time": "2021-07-07T14:42:28.767Z"
   },
   {
    "duration": 7,
    "start_time": "2021-07-07T14:42:29.838Z"
   },
   {
    "duration": 4,
    "start_time": "2021-07-07T14:43:25.493Z"
   },
   {
    "duration": 7,
    "start_time": "2021-07-07T14:43:26.573Z"
   },
   {
    "duration": 10,
    "start_time": "2021-07-07T14:43:31.639Z"
   },
   {
    "duration": 9,
    "start_time": "2021-07-07T14:43:32.046Z"
   },
   {
    "duration": 10,
    "start_time": "2021-07-07T14:43:33.301Z"
   },
   {
    "duration": 12,
    "start_time": "2021-07-07T14:43:33.658Z"
   },
   {
    "duration": 8,
    "start_time": "2021-07-07T14:43:34.552Z"
   },
   {
    "duration": 9,
    "start_time": "2021-07-07T14:43:35.058Z"
   },
   {
    "duration": 12,
    "start_time": "2021-07-07T14:43:35.914Z"
   },
   {
    "duration": 17,
    "start_time": "2021-07-07T14:45:34.368Z"
   },
   {
    "duration": 512,
    "start_time": "2021-07-07T14:51:58.236Z"
   },
   {
    "duration": 223,
    "start_time": "2021-07-07T14:51:58.750Z"
   },
   {
    "duration": 93,
    "start_time": "2021-07-07T14:51:58.977Z"
   },
   {
    "duration": 4,
    "start_time": "2021-07-07T14:51:59.071Z"
   },
   {
    "duration": 37,
    "start_time": "2021-07-07T14:51:59.077Z"
   },
   {
    "duration": 18,
    "start_time": "2021-07-07T14:51:59.116Z"
   },
   {
    "duration": 10,
    "start_time": "2021-07-07T14:51:59.137Z"
   },
   {
    "duration": 8,
    "start_time": "2021-07-07T14:51:59.149Z"
   },
   {
    "duration": 54,
    "start_time": "2021-07-07T14:51:59.158Z"
   },
   {
    "duration": 18,
    "start_time": "2021-07-07T14:51:59.213Z"
   },
   {
    "duration": 22,
    "start_time": "2021-07-07T14:51:59.232Z"
   },
   {
    "duration": 36,
    "start_time": "2021-07-07T14:51:59.255Z"
   },
   {
    "duration": 7,
    "start_time": "2021-07-07T14:51:59.293Z"
   },
   {
    "duration": 10,
    "start_time": "2021-07-07T14:51:59.302Z"
   },
   {
    "duration": 9,
    "start_time": "2021-07-07T14:51:59.313Z"
   },
   {
    "duration": 11,
    "start_time": "2021-07-07T14:51:59.324Z"
   },
   {
    "duration": 8,
    "start_time": "2021-07-07T14:51:59.337Z"
   },
   {
    "duration": 46,
    "start_time": "2021-07-07T14:51:59.347Z"
   },
   {
    "duration": 22,
    "start_time": "2021-07-07T14:51:59.395Z"
   },
   {
    "duration": 24,
    "start_time": "2021-07-07T14:57:32.911Z"
   },
   {
    "duration": 7,
    "start_time": "2021-07-07T14:58:22.070Z"
   },
   {
    "duration": 4,
    "start_time": "2021-07-07T14:59:11.239Z"
   },
   {
    "duration": 25,
    "start_time": "2021-07-07T15:07:22.208Z"
   },
   {
    "duration": 16,
    "start_time": "2021-07-07T15:08:25.560Z"
   },
   {
    "duration": 15,
    "start_time": "2021-07-07T15:08:40.647Z"
   },
   {
    "duration": 14,
    "start_time": "2021-07-07T15:08:46.669Z"
   },
   {
    "duration": 533,
    "start_time": "2021-07-07T15:18:07.440Z"
   },
   {
    "duration": 173,
    "start_time": "2021-07-07T15:18:07.974Z"
   },
   {
    "duration": 84,
    "start_time": "2021-07-07T15:18:08.149Z"
   },
   {
    "duration": 3,
    "start_time": "2021-07-07T15:18:08.235Z"
   },
   {
    "duration": 30,
    "start_time": "2021-07-07T15:18:08.240Z"
   },
   {
    "duration": 22,
    "start_time": "2021-07-07T15:18:08.272Z"
   },
   {
    "duration": 11,
    "start_time": "2021-07-07T15:18:08.295Z"
   },
   {
    "duration": 11,
    "start_time": "2021-07-07T15:18:08.309Z"
   },
   {
    "duration": 40,
    "start_time": "2021-07-07T15:18:08.322Z"
   },
   {
    "duration": 42,
    "start_time": "2021-07-07T15:18:08.364Z"
   },
   {
    "duration": 22,
    "start_time": "2021-07-07T15:18:08.408Z"
   },
   {
    "duration": 5,
    "start_time": "2021-07-07T15:18:08.432Z"
   },
   {
    "duration": 13,
    "start_time": "2021-07-07T15:18:08.439Z"
   },
   {
    "duration": 9,
    "start_time": "2021-07-07T15:18:08.454Z"
   },
   {
    "duration": 32,
    "start_time": "2021-07-07T15:18:08.465Z"
   },
   {
    "duration": 10,
    "start_time": "2021-07-07T15:18:08.501Z"
   },
   {
    "duration": 7,
    "start_time": "2021-07-07T15:18:08.513Z"
   },
   {
    "duration": 11,
    "start_time": "2021-07-07T15:18:08.521Z"
   },
   {
    "duration": 17,
    "start_time": "2021-07-07T15:18:08.534Z"
   },
   {
    "duration": 44,
    "start_time": "2021-07-07T15:18:08.553Z"
   },
   {
    "duration": 22,
    "start_time": "2021-07-07T15:18:08.599Z"
   },
   {
    "duration": 61,
    "start_time": "2021-07-07T15:18:08.622Z"
   },
   {
    "duration": 7,
    "start_time": "2021-07-07T15:18:39.457Z"
   },
   {
    "duration": 5,
    "start_time": "2021-07-07T16:05:17.020Z"
   },
   {
    "duration": 5,
    "start_time": "2021-07-07T16:51:28.794Z"
   },
   {
    "duration": 546,
    "start_time": "2021-07-07T16:52:26.306Z"
   },
   {
    "duration": 203,
    "start_time": "2021-07-07T16:52:27.523Z"
   },
   {
    "duration": 85,
    "start_time": "2021-07-07T16:52:27.736Z"
   },
   {
    "duration": 4,
    "start_time": "2021-07-07T16:52:27.899Z"
   },
   {
    "duration": 25,
    "start_time": "2021-07-07T16:52:28.674Z"
   },
   {
    "duration": 8,
    "start_time": "2021-07-07T16:52:32.956Z"
   },
   {
    "duration": 18,
    "start_time": "2021-07-07T16:52:35.616Z"
   },
   {
    "duration": 6,
    "start_time": "2021-07-07T16:52:36.913Z"
   },
   {
    "duration": 11,
    "start_time": "2021-07-07T16:52:40.258Z"
   },
   {
    "duration": 10,
    "start_time": "2021-07-07T16:52:46.251Z"
   },
   {
    "duration": 8,
    "start_time": "2021-07-07T16:52:47.182Z"
   },
   {
    "duration": 27,
    "start_time": "2021-07-07T16:53:20.391Z"
   },
   {
    "duration": 20,
    "start_time": "2021-07-07T16:53:22.022Z"
   },
   {
    "duration": 23,
    "start_time": "2021-07-07T16:53:23.690Z"
   },
   {
    "duration": 8,
    "start_time": "2021-07-07T16:53:24.261Z"
   },
   {
    "duration": 4,
    "start_time": "2021-07-07T16:53:38.733Z"
   },
   {
    "duration": 7,
    "start_time": "2021-07-07T16:53:40.445Z"
   },
   {
    "duration": 11,
    "start_time": "2021-07-07T16:53:41.348Z"
   },
   {
    "duration": 13,
    "start_time": "2021-07-07T16:53:45.250Z"
   },
   {
    "duration": 12,
    "start_time": "2021-07-07T16:53:45.467Z"
   },
   {
    "duration": 4,
    "start_time": "2021-07-07T16:55:32.704Z"
   },
   {
    "duration": 12,
    "start_time": "2021-07-07T16:55:49.012Z"
   },
   {
    "duration": 18,
    "start_time": "2021-07-07T16:55:49.547Z"
   },
   {
    "duration": 611,
    "start_time": "2021-07-07T16:58:35.156Z"
   },
   {
    "duration": 200,
    "start_time": "2021-07-07T16:58:35.770Z"
   },
   {
    "duration": 86,
    "start_time": "2021-07-07T16:58:35.972Z"
   },
   {
    "duration": 3,
    "start_time": "2021-07-07T16:58:36.060Z"
   },
   {
    "duration": 27,
    "start_time": "2021-07-07T16:58:36.065Z"
   },
   {
    "duration": 8,
    "start_time": "2021-07-07T16:58:36.094Z"
   },
   {
    "duration": 17,
    "start_time": "2021-07-07T16:58:36.103Z"
   },
   {
    "duration": 5,
    "start_time": "2021-07-07T16:58:36.123Z"
   },
   {
    "duration": 11,
    "start_time": "2021-07-07T16:58:36.130Z"
   },
   {
    "duration": 7,
    "start_time": "2021-07-07T16:58:36.143Z"
   },
   {
    "duration": 37,
    "start_time": "2021-07-07T16:58:36.152Z"
   },
   {
    "duration": 27,
    "start_time": "2021-07-07T16:58:36.191Z"
   },
   {
    "duration": 19,
    "start_time": "2021-07-07T16:58:36.219Z"
   },
   {
    "duration": 49,
    "start_time": "2021-07-07T16:58:36.240Z"
   },
   {
    "duration": 6,
    "start_time": "2021-07-07T16:58:36.291Z"
   },
   {
    "duration": 3,
    "start_time": "2021-07-07T16:58:36.299Z"
   },
   {
    "duration": 13,
    "start_time": "2021-07-07T16:58:36.304Z"
   },
   {
    "duration": 10,
    "start_time": "2021-07-07T16:58:36.319Z"
   },
   {
    "duration": 10,
    "start_time": "2021-07-07T16:58:36.331Z"
   },
   {
    "duration": 44,
    "start_time": "2021-07-07T16:58:36.343Z"
   },
   {
    "duration": 4,
    "start_time": "2021-07-07T16:58:36.388Z"
   },
   {
    "duration": 13,
    "start_time": "2021-07-07T16:58:36.394Z"
   },
   {
    "duration": 16,
    "start_time": "2021-07-07T16:58:36.410Z"
   },
   {
    "duration": 8,
    "start_time": "2021-07-07T17:02:31.629Z"
   },
   {
    "duration": 8,
    "start_time": "2021-07-07T17:02:34.308Z"
   },
   {
    "duration": 6,
    "start_time": "2021-07-07T17:05:13.483Z"
   },
   {
    "duration": 17,
    "start_time": "2021-07-07T17:05:20.606Z"
   },
   {
    "duration": 7,
    "start_time": "2021-07-07T17:05:34.638Z"
   },
   {
    "duration": 3,
    "start_time": "2021-07-07T17:06:31.883Z"
   },
   {
    "duration": 570,
    "start_time": "2021-07-07T17:06:37.165Z"
   },
   {
    "duration": 174,
    "start_time": "2021-07-07T17:06:37.737Z"
   },
   {
    "duration": 47,
    "start_time": "2021-07-07T17:06:37.913Z"
   },
   {
    "duration": 3,
    "start_time": "2021-07-07T17:06:37.962Z"
   },
   {
    "duration": 27,
    "start_time": "2021-07-07T17:06:37.967Z"
   },
   {
    "duration": 7,
    "start_time": "2021-07-07T17:06:37.996Z"
   },
   {
    "duration": 16,
    "start_time": "2021-07-07T17:06:38.005Z"
   },
   {
    "duration": 6,
    "start_time": "2021-07-07T17:06:38.024Z"
   },
   {
    "duration": 12,
    "start_time": "2021-07-07T17:06:38.031Z"
   },
   {
    "duration": 41,
    "start_time": "2021-07-07T17:06:38.045Z"
   },
   {
    "duration": 8,
    "start_time": "2021-07-07T17:06:38.088Z"
   },
   {
    "duration": 26,
    "start_time": "2021-07-07T17:06:38.098Z"
   },
   {
    "duration": 17,
    "start_time": "2021-07-07T17:06:38.126Z"
   },
   {
    "duration": 43,
    "start_time": "2021-07-07T17:06:38.144Z"
   },
   {
    "duration": 6,
    "start_time": "2021-07-07T17:06:38.188Z"
   },
   {
    "duration": 5,
    "start_time": "2021-07-07T17:06:38.195Z"
   },
   {
    "duration": 9,
    "start_time": "2021-07-07T17:06:38.201Z"
   },
   {
    "duration": 12,
    "start_time": "2021-07-07T17:06:38.212Z"
   },
   {
    "duration": 11,
    "start_time": "2021-07-07T17:06:38.226Z"
   },
   {
    "duration": 47,
    "start_time": "2021-07-07T17:06:38.239Z"
   },
   {
    "duration": 4,
    "start_time": "2021-07-07T17:06:38.288Z"
   },
   {
    "duration": 13,
    "start_time": "2021-07-07T17:06:38.293Z"
   },
   {
    "duration": 5,
    "start_time": "2021-07-07T17:06:38.309Z"
   },
   {
    "duration": 18,
    "start_time": "2021-07-07T17:06:38.325Z"
   },
   {
    "duration": 20,
    "start_time": "2021-07-07T17:07:02.805Z"
   },
   {
    "duration": 19,
    "start_time": "2021-07-07T17:07:08.527Z"
   },
   {
    "duration": 19,
    "start_time": "2021-07-07T17:07:12.758Z"
   },
   {
    "duration": 22,
    "start_time": "2021-07-07T17:07:17.497Z"
   },
   {
    "duration": 19,
    "start_time": "2021-07-07T17:07:19.645Z"
   },
   {
    "duration": 10,
    "start_time": "2021-07-07T17:07:34.239Z"
   },
   {
    "duration": 17,
    "start_time": "2021-07-07T17:07:54.144Z"
   },
   {
    "duration": 14,
    "start_time": "2021-07-07T17:08:14.357Z"
   },
   {
    "duration": 616,
    "start_time": "2021-07-07T17:08:45.254Z"
   },
   {
    "duration": 178,
    "start_time": "2021-07-07T17:08:45.872Z"
   },
   {
    "duration": 60,
    "start_time": "2021-07-07T17:08:46.054Z"
   },
   {
    "duration": 3,
    "start_time": "2021-07-07T17:08:46.116Z"
   },
   {
    "duration": 26,
    "start_time": "2021-07-07T17:08:46.121Z"
   },
   {
    "duration": 7,
    "start_time": "2021-07-07T17:08:46.149Z"
   },
   {
    "duration": 17,
    "start_time": "2021-07-07T17:08:46.158Z"
   },
   {
    "duration": 14,
    "start_time": "2021-07-07T17:08:46.176Z"
   },
   {
    "duration": 17,
    "start_time": "2021-07-07T17:08:46.193Z"
   },
   {
    "duration": 9,
    "start_time": "2021-07-07T17:08:46.211Z"
   },
   {
    "duration": 21,
    "start_time": "2021-07-07T17:08:46.221Z"
   },
   {
    "duration": 49,
    "start_time": "2021-07-07T17:08:46.244Z"
   },
   {
    "duration": 24,
    "start_time": "2021-07-07T17:08:46.295Z"
   },
   {
    "duration": 22,
    "start_time": "2021-07-07T17:08:46.321Z"
   },
   {
    "duration": 6,
    "start_time": "2021-07-07T17:08:46.345Z"
   },
   {
    "duration": 5,
    "start_time": "2021-07-07T17:08:46.353Z"
   },
   {
    "duration": 13,
    "start_time": "2021-07-07T17:08:46.386Z"
   },
   {
    "duration": 12,
    "start_time": "2021-07-07T17:08:46.402Z"
   },
   {
    "duration": 10,
    "start_time": "2021-07-07T17:08:46.415Z"
   },
   {
    "duration": 7,
    "start_time": "2021-07-07T17:08:46.427Z"
   },
   {
    "duration": 8,
    "start_time": "2021-07-07T17:08:46.435Z"
   },
   {
    "duration": 68,
    "start_time": "2021-07-07T17:08:46.446Z"
   },
   {
    "duration": 13,
    "start_time": "2021-07-07T17:08:46.516Z"
   },
   {
    "duration": 78,
    "start_time": "2021-07-07T17:08:46.530Z"
   },
   {
    "duration": 40,
    "start_time": "2021-07-07T17:09:08.185Z"
   },
   {
    "duration": 16,
    "start_time": "2021-07-07T17:09:19.324Z"
   },
   {
    "duration": 21,
    "start_time": "2021-07-07T17:09:23.290Z"
   },
   {
    "duration": 13,
    "start_time": "2021-07-07T17:09:54.812Z"
   },
   {
    "duration": 13,
    "start_time": "2021-07-07T17:10:02.039Z"
   },
   {
    "duration": 10,
    "start_time": "2021-07-07T17:10:29.632Z"
   },
   {
    "duration": 13,
    "start_time": "2021-07-07T17:10:52.372Z"
   },
   {
    "duration": 13,
    "start_time": "2021-07-07T17:11:17.270Z"
   },
   {
    "duration": 13,
    "start_time": "2021-07-07T17:14:59.284Z"
   },
   {
    "duration": 547,
    "start_time": "2021-07-07T17:18:52.403Z"
   },
   {
    "duration": 163,
    "start_time": "2021-07-07T17:18:52.952Z"
   },
   {
    "duration": 44,
    "start_time": "2021-07-07T17:18:53.117Z"
   },
   {
    "duration": 3,
    "start_time": "2021-07-07T17:18:53.162Z"
   },
   {
    "duration": 26,
    "start_time": "2021-07-07T17:18:53.167Z"
   },
   {
    "duration": 6,
    "start_time": "2021-07-07T17:18:53.195Z"
   },
   {
    "duration": 15,
    "start_time": "2021-07-07T17:18:53.203Z"
   },
   {
    "duration": 5,
    "start_time": "2021-07-07T17:18:53.220Z"
   },
   {
    "duration": 11,
    "start_time": "2021-07-07T17:18:53.228Z"
   },
   {
    "duration": 9,
    "start_time": "2021-07-07T17:18:53.241Z"
   },
   {
    "duration": 41,
    "start_time": "2021-07-07T17:18:53.252Z"
   },
   {
    "duration": 33,
    "start_time": "2021-07-07T17:18:53.295Z"
   },
   {
    "duration": 19,
    "start_time": "2021-07-07T17:18:53.330Z"
   },
   {
    "duration": 49,
    "start_time": "2021-07-07T17:18:53.350Z"
   },
   {
    "duration": 5,
    "start_time": "2021-07-07T17:18:53.401Z"
   },
   {
    "duration": 5,
    "start_time": "2021-07-07T17:18:53.408Z"
   },
   {
    "duration": 11,
    "start_time": "2021-07-07T17:18:53.414Z"
   },
   {
    "duration": 9,
    "start_time": "2021-07-07T17:18:53.427Z"
   },
   {
    "duration": 10,
    "start_time": "2021-07-07T17:18:53.437Z"
   },
   {
    "duration": 39,
    "start_time": "2021-07-07T17:18:53.448Z"
   },
   {
    "duration": 26,
    "start_time": "2021-07-07T17:18:55.799Z"
   },
   {
    "duration": 598,
    "start_time": "2021-07-07T17:20:17.862Z"
   },
   {
    "duration": 161,
    "start_time": "2021-07-07T17:20:18.462Z"
   },
   {
    "duration": 45,
    "start_time": "2021-07-07T17:20:18.626Z"
   },
   {
    "duration": 4,
    "start_time": "2021-07-07T17:20:18.673Z"
   },
   {
    "duration": 38,
    "start_time": "2021-07-07T17:20:26.877Z"
   },
   {
    "duration": 7,
    "start_time": "2021-07-07T17:20:37.405Z"
   },
   {
    "duration": 19,
    "start_time": "2021-07-07T17:20:51.534Z"
   },
   {
    "duration": 5,
    "start_time": "2021-07-07T17:20:57.228Z"
   },
   {
    "duration": 7,
    "start_time": "2021-07-07T17:21:08.235Z"
   },
   {
    "duration": 19,
    "start_time": "2021-07-07T17:21:42.158Z"
   },
   {
    "duration": 14,
    "start_time": "2021-07-07T17:21:50.225Z"
   },
   {
    "duration": 22,
    "start_time": "2021-07-07T17:22:54.104Z"
   },
   {
    "duration": 5,
    "start_time": "2021-07-07T17:22:56.371Z"
   },
   {
    "duration": 14,
    "start_time": "2021-07-07T17:22:58.316Z"
   },
   {
    "duration": 5,
    "start_time": "2021-07-07T17:22:58.493Z"
   },
   {
    "duration": 35,
    "start_time": "2021-07-07T17:22:59.666Z"
   },
   {
    "duration": 6,
    "start_time": "2021-07-07T17:23:02.410Z"
   },
   {
    "duration": 611,
    "start_time": "2021-07-07T17:24:59.664Z"
   },
   {
    "duration": 178,
    "start_time": "2021-07-07T17:25:01.945Z"
   },
   {
    "duration": 47,
    "start_time": "2021-07-07T17:25:02.125Z"
   },
   {
    "duration": 2,
    "start_time": "2021-07-07T17:25:07.903Z"
   },
   {
    "duration": 254,
    "start_time": "2021-07-07T17:25:08.232Z"
   },
   {
    "duration": 182,
    "start_time": "2021-07-07T17:25:08.671Z"
   },
   {
    "duration": 6,
    "start_time": "2021-07-07T17:25:13.104Z"
   },
   {
    "duration": 36,
    "start_time": "2021-07-07T17:25:13.662Z"
   },
   {
    "duration": 7,
    "start_time": "2021-07-07T17:25:14.528Z"
   },
   {
    "duration": 24,
    "start_time": "2021-07-07T17:25:27.982Z"
   },
   {
    "duration": 3,
    "start_time": "2021-07-07T17:25:48.982Z"
   },
   {
    "duration": 165,
    "start_time": "2021-07-07T17:25:48.987Z"
   },
   {
    "duration": 50,
    "start_time": "2021-07-07T17:25:49.154Z"
   },
   {
    "duration": 4,
    "start_time": "2021-07-07T17:25:49.206Z"
   },
   {
    "duration": 26,
    "start_time": "2021-07-07T17:25:49.212Z"
   },
   {
    "duration": 7,
    "start_time": "2021-07-07T17:25:49.240Z"
   },
   {
    "duration": 16,
    "start_time": "2021-07-07T17:25:49.249Z"
   },
   {
    "duration": 22,
    "start_time": "2021-07-07T17:25:49.266Z"
   },
   {
    "duration": 16,
    "start_time": "2021-07-07T17:25:49.291Z"
   },
   {
    "duration": 9,
    "start_time": "2021-07-07T17:25:49.309Z"
   },
   {
    "duration": 7,
    "start_time": "2021-07-07T17:25:49.319Z"
   },
   {
    "duration": 28,
    "start_time": "2021-07-07T17:25:49.328Z"
   },
   {
    "duration": 44,
    "start_time": "2021-07-07T17:25:49.357Z"
   },
   {
    "duration": 22,
    "start_time": "2021-07-07T17:25:49.403Z"
   },
   {
    "duration": 7,
    "start_time": "2021-07-07T17:25:49.427Z"
   },
   {
    "duration": 3,
    "start_time": "2021-07-07T17:25:49.436Z"
   },
   {
    "duration": 44,
    "start_time": "2021-07-07T17:25:49.441Z"
   },
   {
    "duration": 12,
    "start_time": "2021-07-07T17:25:49.488Z"
   },
   {
    "duration": 13,
    "start_time": "2021-07-07T17:25:49.502Z"
   },
   {
    "duration": 10,
    "start_time": "2021-07-07T17:25:49.516Z"
   },
   {
    "duration": 62,
    "start_time": "2021-07-07T17:25:49.527Z"
   },
   {
    "duration": 26,
    "start_time": "2021-07-07T17:26:51.809Z"
   },
   {
    "duration": 26,
    "start_time": "2021-07-07T17:26:55.759Z"
   },
   {
    "duration": 26,
    "start_time": "2021-07-07T17:27:04.501Z"
   },
   {
    "duration": 25,
    "start_time": "2021-07-07T17:28:24.859Z"
   },
   {
    "duration": 21,
    "start_time": "2021-07-07T17:28:55.250Z"
   },
   {
    "duration": 21,
    "start_time": "2021-07-07T17:28:58.885Z"
   },
   {
    "duration": 7,
    "start_time": "2021-07-07T17:45:40.972Z"
   },
   {
    "duration": 13,
    "start_time": "2021-07-07T17:45:42.529Z"
   },
   {
    "duration": 27,
    "start_time": "2021-07-07T17:45:51.026Z"
   },
   {
    "duration": 518,
    "start_time": "2021-07-07T17:46:15.532Z"
   },
   {
    "duration": 235,
    "start_time": "2021-07-07T17:46:16.053Z"
   },
   {
    "duration": 80,
    "start_time": "2021-07-07T17:46:16.292Z"
   },
   {
    "duration": 5,
    "start_time": "2021-07-07T17:46:16.373Z"
   },
   {
    "duration": 26,
    "start_time": "2021-07-07T17:46:16.380Z"
   },
   {
    "duration": 7,
    "start_time": "2021-07-07T17:46:16.408Z"
   },
   {
    "duration": 16,
    "start_time": "2021-07-07T17:46:16.418Z"
   },
   {
    "duration": 5,
    "start_time": "2021-07-07T17:46:16.436Z"
   },
   {
    "duration": 13,
    "start_time": "2021-07-07T17:46:16.442Z"
   },
   {
    "duration": 35,
    "start_time": "2021-07-07T17:46:16.456Z"
   },
   {
    "duration": 8,
    "start_time": "2021-07-07T17:46:16.493Z"
   },
   {
    "duration": 28,
    "start_time": "2021-07-07T17:46:16.502Z"
   },
   {
    "duration": 17,
    "start_time": "2021-07-07T17:46:16.532Z"
   },
   {
    "duration": 44,
    "start_time": "2021-07-07T17:46:16.551Z"
   },
   {
    "duration": 6,
    "start_time": "2021-07-07T17:46:16.597Z"
   },
   {
    "duration": 4,
    "start_time": "2021-07-07T17:46:16.605Z"
   },
   {
    "duration": 9,
    "start_time": "2021-07-07T17:46:16.610Z"
   },
   {
    "duration": 9,
    "start_time": "2021-07-07T17:46:16.621Z"
   },
   {
    "duration": 10,
    "start_time": "2021-07-07T17:46:16.632Z"
   },
   {
    "duration": 43,
    "start_time": "2021-07-07T17:46:16.644Z"
   },
   {
    "duration": 26,
    "start_time": "2021-07-07T17:46:16.689Z"
   },
   {
    "duration": 19,
    "start_time": "2021-07-07T17:46:16.718Z"
   },
   {
    "duration": 8,
    "start_time": "2021-07-07T17:46:16.738Z"
   },
   {
    "duration": 43,
    "start_time": "2021-07-07T17:46:16.747Z"
   },
   {
    "duration": 19,
    "start_time": "2021-07-07T17:46:16.791Z"
   },
   {
    "duration": 9,
    "start_time": "2021-07-07T17:46:16.812Z"
   },
   {
    "duration": 60,
    "start_time": "2021-07-07T17:46:16.822Z"
   },
   {
    "duration": -8,
    "start_time": "2021-07-07T17:46:16.892Z"
   },
   {
    "duration": 12,
    "start_time": "2021-07-07T17:48:47.707Z"
   },
   {
    "duration": 553,
    "start_time": "2021-07-07T18:10:09.350Z"
   },
   {
    "duration": 230,
    "start_time": "2021-07-07T18:10:09.905Z"
   },
   {
    "duration": 97,
    "start_time": "2021-07-07T18:10:10.137Z"
   },
   {
    "duration": 5,
    "start_time": "2021-07-07T18:10:10.236Z"
   },
   {
    "duration": 29,
    "start_time": "2021-07-07T18:10:10.242Z"
   },
   {
    "duration": 7,
    "start_time": "2021-07-07T18:10:10.272Z"
   },
   {
    "duration": 15,
    "start_time": "2021-07-07T18:10:10.281Z"
   },
   {
    "duration": 4,
    "start_time": "2021-07-07T18:10:10.299Z"
   },
   {
    "duration": 14,
    "start_time": "2021-07-07T18:10:10.305Z"
   },
   {
    "duration": 8,
    "start_time": "2021-07-07T18:10:10.321Z"
   },
   {
    "duration": 8,
    "start_time": "2021-07-07T18:10:10.331Z"
   },
   {
    "duration": 56,
    "start_time": "2021-07-07T18:10:10.341Z"
   },
   {
    "duration": 19,
    "start_time": "2021-07-07T18:10:10.399Z"
   },
   {
    "duration": 23,
    "start_time": "2021-07-07T18:10:10.419Z"
   },
   {
    "duration": 6,
    "start_time": "2021-07-07T18:10:10.444Z"
   },
   {
    "duration": 9,
    "start_time": "2021-07-07T18:10:10.451Z"
   },
   {
    "duration": 30,
    "start_time": "2021-07-07T18:10:10.462Z"
   },
   {
    "duration": 9,
    "start_time": "2021-07-07T18:10:10.494Z"
   },
   {
    "duration": 14,
    "start_time": "2021-07-07T18:10:10.505Z"
   },
   {
    "duration": 7,
    "start_time": "2021-07-07T18:10:10.521Z"
   },
   {
    "duration": 26,
    "start_time": "2021-07-07T18:10:10.530Z"
   },
   {
    "duration": 44,
    "start_time": "2021-07-07T18:10:10.558Z"
   },
   {
    "duration": 7,
    "start_time": "2021-07-07T18:10:10.605Z"
   },
   {
    "duration": 11,
    "start_time": "2021-07-07T18:10:10.614Z"
   },
   {
    "duration": 19,
    "start_time": "2021-07-07T18:10:10.626Z"
   },
   {
    "duration": 44,
    "start_time": "2021-07-07T18:10:10.646Z"
   },
   {
    "duration": 516,
    "start_time": "2021-07-07T18:14:00.826Z"
   },
   {
    "duration": 230,
    "start_time": "2021-07-07T18:14:01.344Z"
   },
   {
    "duration": 105,
    "start_time": "2021-07-07T18:14:01.576Z"
   },
   {
    "duration": 5,
    "start_time": "2021-07-07T18:14:01.683Z"
   },
   {
    "duration": 46,
    "start_time": "2021-07-07T18:14:01.690Z"
   },
   {
    "duration": 7,
    "start_time": "2021-07-07T18:14:01.738Z"
   },
   {
    "duration": 20,
    "start_time": "2021-07-07T18:14:01.747Z"
   },
   {
    "duration": 16,
    "start_time": "2021-07-07T18:14:01.769Z"
   },
   {
    "duration": 14,
    "start_time": "2021-07-07T18:14:01.787Z"
   },
   {
    "duration": 15,
    "start_time": "2021-07-07T18:14:01.803Z"
   },
   {
    "duration": 12,
    "start_time": "2021-07-07T18:14:01.820Z"
   },
   {
    "duration": 35,
    "start_time": "2021-07-07T18:14:01.833Z"
   },
   {
    "duration": 31,
    "start_time": "2021-07-07T18:14:01.869Z"
   },
   {
    "duration": 37,
    "start_time": "2021-07-07T18:14:01.902Z"
   },
   {
    "duration": 8,
    "start_time": "2021-07-07T18:14:01.942Z"
   },
   {
    "duration": 16,
    "start_time": "2021-07-07T18:14:01.952Z"
   },
   {
    "duration": 13,
    "start_time": "2021-07-07T18:14:01.970Z"
   },
   {
    "duration": 32,
    "start_time": "2021-07-07T18:14:01.985Z"
   },
   {
    "duration": 11,
    "start_time": "2021-07-07T18:14:02.019Z"
   },
   {
    "duration": 22,
    "start_time": "2021-07-07T18:14:02.031Z"
   },
   {
    "duration": 27,
    "start_time": "2021-07-07T18:14:02.055Z"
   },
   {
    "duration": 18,
    "start_time": "2021-07-07T18:14:02.084Z"
   },
   {
    "duration": 18,
    "start_time": "2021-07-07T18:14:02.106Z"
   },
   {
    "duration": 11,
    "start_time": "2021-07-07T18:14:02.126Z"
   },
   {
    "duration": 21,
    "start_time": "2021-07-07T18:14:02.138Z"
   },
   {
    "duration": 32,
    "start_time": "2021-07-07T18:14:02.161Z"
   },
   {
    "duration": 28,
    "start_time": "2021-07-07T18:14:44.295Z"
   },
   {
    "duration": 6,
    "start_time": "2021-07-07T18:15:05.834Z"
   },
   {
    "duration": 511,
    "start_time": "2021-07-07T18:15:41.541Z"
   },
   {
    "duration": 183,
    "start_time": "2021-07-07T18:15:42.054Z"
   },
   {
    "duration": 50,
    "start_time": "2021-07-07T18:15:42.239Z"
   },
   {
    "duration": 5,
    "start_time": "2021-07-07T18:15:42.291Z"
   },
   {
    "duration": 48,
    "start_time": "2021-07-07T18:15:42.297Z"
   },
   {
    "duration": 8,
    "start_time": "2021-07-07T18:15:42.346Z"
   },
   {
    "duration": 17,
    "start_time": "2021-07-07T18:15:42.356Z"
   },
   {
    "duration": 15,
    "start_time": "2021-07-07T18:15:42.375Z"
   },
   {
    "duration": 12,
    "start_time": "2021-07-07T18:15:42.392Z"
   },
   {
    "duration": 7,
    "start_time": "2021-07-07T18:15:42.406Z"
   },
   {
    "duration": 7,
    "start_time": "2021-07-07T18:15:42.415Z"
   },
   {
    "duration": 29,
    "start_time": "2021-07-07T18:15:42.423Z"
   },
   {
    "duration": 43,
    "start_time": "2021-07-07T18:15:42.453Z"
   },
   {
    "duration": 18,
    "start_time": "2021-07-07T18:15:42.497Z"
   },
   {
    "duration": 6,
    "start_time": "2021-07-07T18:15:42.516Z"
   },
   {
    "duration": 3,
    "start_time": "2021-07-07T18:15:42.523Z"
   },
   {
    "duration": 18,
    "start_time": "2021-07-07T18:15:42.528Z"
   },
   {
    "duration": 10,
    "start_time": "2021-07-07T18:15:42.547Z"
   },
   {
    "duration": 36,
    "start_time": "2021-07-07T18:15:42.559Z"
   },
   {
    "duration": 8,
    "start_time": "2021-07-07T18:15:42.597Z"
   },
   {
    "duration": 28,
    "start_time": "2021-07-07T18:15:42.606Z"
   },
   {
    "duration": 52,
    "start_time": "2021-07-07T18:15:42.635Z"
   },
   {
    "duration": 7,
    "start_time": "2021-07-07T18:15:42.690Z"
   },
   {
    "duration": 10,
    "start_time": "2021-07-07T18:15:42.699Z"
   },
   {
    "duration": 19,
    "start_time": "2021-07-07T18:15:42.711Z"
   },
   {
    "duration": 9,
    "start_time": "2021-07-07T18:15:42.732Z"
   },
   {
    "duration": 5,
    "start_time": "2021-07-07T18:15:42.743Z"
   },
   {
    "duration": 1450,
    "start_time": "2021-07-07T18:15:51.984Z"
   },
   {
    "duration": 161,
    "start_time": "2021-07-07T18:15:53.435Z"
   },
   {
    "duration": 124,
    "start_time": "2021-07-07T18:15:53.598Z"
   },
   {
    "duration": 5,
    "start_time": "2021-07-07T18:15:53.724Z"
   },
   {
    "duration": 34,
    "start_time": "2021-07-07T18:15:53.730Z"
   },
   {
    "duration": 7,
    "start_time": "2021-07-07T18:15:53.765Z"
   },
   {
    "duration": 15,
    "start_time": "2021-07-07T18:15:53.773Z"
   },
   {
    "duration": 5,
    "start_time": "2021-07-07T18:15:53.791Z"
   },
   {
    "duration": 19,
    "start_time": "2021-07-07T18:15:53.798Z"
   },
   {
    "duration": 9,
    "start_time": "2021-07-07T18:15:53.818Z"
   },
   {
    "duration": 19,
    "start_time": "2021-07-07T18:15:53.828Z"
   },
   {
    "duration": 27,
    "start_time": "2021-07-07T18:15:53.848Z"
   },
   {
    "duration": 16,
    "start_time": "2021-07-07T18:15:53.884Z"
   },
   {
    "duration": 29,
    "start_time": "2021-07-07T18:15:53.901Z"
   },
   {
    "duration": 5,
    "start_time": "2021-07-07T18:15:53.932Z"
   },
   {
    "duration": 15,
    "start_time": "2021-07-07T18:15:53.939Z"
   },
   {
    "duration": 13,
    "start_time": "2021-07-07T18:15:53.956Z"
   },
   {
    "duration": 20,
    "start_time": "2021-07-07T18:15:53.971Z"
   },
   {
    "duration": 14,
    "start_time": "2021-07-07T18:15:53.992Z"
   },
   {
    "duration": 9,
    "start_time": "2021-07-07T18:15:54.009Z"
   },
   {
    "duration": 28,
    "start_time": "2021-07-07T18:15:54.020Z"
   },
   {
    "duration": 50,
    "start_time": "2021-07-07T18:15:54.051Z"
   },
   {
    "duration": 8,
    "start_time": "2021-07-07T18:15:54.105Z"
   },
   {
    "duration": 11,
    "start_time": "2021-07-07T18:15:54.115Z"
   },
   {
    "duration": 20,
    "start_time": "2021-07-07T18:15:54.128Z"
   },
   {
    "duration": 13,
    "start_time": "2021-07-07T18:15:54.184Z"
   },
   {
    "duration": 7,
    "start_time": "2021-07-07T18:15:54.199Z"
   },
   {
    "duration": 7,
    "start_time": "2021-07-07T18:17:08.042Z"
   },
   {
    "duration": 8,
    "start_time": "2021-07-07T18:17:21.008Z"
   },
   {
    "duration": 7,
    "start_time": "2021-07-07T18:17:29.003Z"
   },
   {
    "duration": 8,
    "start_time": "2021-07-07T18:17:32.492Z"
   },
   {
    "duration": 9,
    "start_time": "2021-07-07T18:17:41.758Z"
   },
   {
    "duration": 255,
    "start_time": "2021-07-07T18:20:20.897Z"
   },
   {
    "duration": 173,
    "start_time": "2021-07-07T18:20:26.636Z"
   },
   {
    "duration": 7,
    "start_time": "2021-07-07T18:21:47.164Z"
   },
   {
    "duration": 254,
    "start_time": "2021-07-07T18:23:08.703Z"
   },
   {
    "duration": 21,
    "start_time": "2021-07-07T18:23:22.506Z"
   },
   {
    "duration": 315,
    "start_time": "2021-07-07T18:25:54.801Z"
   },
   {
    "duration": 34,
    "start_time": "2021-07-07T18:26:51.817Z"
   },
   {
    "duration": 327,
    "start_time": "2021-07-07T18:26:56.147Z"
   },
   {
    "duration": 342,
    "start_time": "2021-07-07T18:27:15.887Z"
   },
   {
    "duration": 302,
    "start_time": "2021-07-07T18:28:18.569Z"
   },
   {
    "duration": 226,
    "start_time": "2021-07-07T18:29:20.879Z"
   },
   {
    "duration": 207,
    "start_time": "2021-07-07T18:29:58.114Z"
   },
   {
    "duration": 140,
    "start_time": "2021-07-07T18:32:04.372Z"
   },
   {
    "duration": 158,
    "start_time": "2021-07-07T18:32:32.508Z"
   },
   {
    "duration": 145,
    "start_time": "2021-07-07T18:32:41.365Z"
   },
   {
    "duration": 132,
    "start_time": "2021-07-07T18:32:45.199Z"
   },
   {
    "duration": 11,
    "start_time": "2021-07-07T18:35:24.679Z"
   },
   {
    "duration": 268,
    "start_time": "2021-07-07T18:36:16.145Z"
   },
   {
    "duration": 227,
    "start_time": "2021-07-07T18:37:04.918Z"
   },
   {
    "duration": 3,
    "start_time": "2021-07-07T18:37:33.012Z"
   },
   {
    "duration": 671,
    "start_time": "2021-07-07T18:37:38.295Z"
   },
   {
    "duration": 54,
    "start_time": "2021-07-07T18:37:53.406Z"
   },
   {
    "duration": 631,
    "start_time": "2021-07-07T18:37:56.463Z"
   },
   {
    "duration": 19,
    "start_time": "2021-07-07T18:39:40.535Z"
   },
   {
    "duration": 20,
    "start_time": "2021-07-07T18:40:12.236Z"
   },
   {
    "duration": 633,
    "start_time": "2021-07-07T18:42:00.398Z"
   },
   {
    "duration": 218,
    "start_time": "2021-07-07T18:42:01.033Z"
   },
   {
    "duration": 49,
    "start_time": "2021-07-07T18:42:01.253Z"
   },
   {
    "duration": 5,
    "start_time": "2021-07-07T18:42:01.303Z"
   },
   {
    "duration": 27,
    "start_time": "2021-07-07T18:42:01.310Z"
   },
   {
    "duration": 8,
    "start_time": "2021-07-07T18:42:01.339Z"
   },
   {
    "duration": 20,
    "start_time": "2021-07-07T18:42:01.348Z"
   },
   {
    "duration": 6,
    "start_time": "2021-07-07T18:42:01.386Z"
   },
   {
    "duration": 16,
    "start_time": "2021-07-07T18:42:01.394Z"
   },
   {
    "duration": 9,
    "start_time": "2021-07-07T18:42:01.411Z"
   },
   {
    "duration": 11,
    "start_time": "2021-07-07T18:42:01.421Z"
   },
   {
    "duration": 31,
    "start_time": "2021-07-07T18:42:01.434Z"
   },
   {
    "duration": 18,
    "start_time": "2021-07-07T18:42:01.485Z"
   },
   {
    "duration": 23,
    "start_time": "2021-07-07T18:42:01.505Z"
   },
   {
    "duration": 6,
    "start_time": "2021-07-07T18:42:01.530Z"
   },
   {
    "duration": 10,
    "start_time": "2021-07-07T18:42:01.538Z"
   },
   {
    "duration": 13,
    "start_time": "2021-07-07T18:42:01.550Z"
   },
   {
    "duration": 24,
    "start_time": "2021-07-07T18:42:01.564Z"
   },
   {
    "duration": 20,
    "start_time": "2021-07-07T18:42:01.590Z"
   },
   {
    "duration": 8,
    "start_time": "2021-07-07T18:42:01.611Z"
   },
   {
    "duration": 31,
    "start_time": "2021-07-07T18:42:01.620Z"
   },
   {
    "duration": 39,
    "start_time": "2021-07-07T18:42:01.653Z"
   },
   {
    "duration": 8,
    "start_time": "2021-07-07T18:42:01.696Z"
   },
   {
    "duration": 13,
    "start_time": "2021-07-07T18:42:01.705Z"
   },
   {
    "duration": 20,
    "start_time": "2021-07-07T18:42:01.720Z"
   },
   {
    "duration": 12,
    "start_time": "2021-07-07T18:42:01.741Z"
   },
   {
    "duration": 35,
    "start_time": "2021-07-07T18:42:01.755Z"
   },
   {
    "duration": 14,
    "start_time": "2021-07-07T18:42:01.792Z"
   },
   {
    "duration": 188,
    "start_time": "2021-07-07T18:42:01.808Z"
   },
   {
    "duration": 19,
    "start_time": "2021-07-07T18:42:01.998Z"
   },
   {
    "duration": 175,
    "start_time": "2021-07-07T18:42:02.019Z"
   },
   {
    "duration": 134,
    "start_time": "2021-07-07T18:42:02.196Z"
   },
   {
    "duration": 10,
    "start_time": "2021-07-07T18:42:02.331Z"
   },
   {
    "duration": 19,
    "start_time": "2021-07-07T18:42:02.343Z"
   },
   {
    "duration": 628,
    "start_time": "2021-07-07T18:46:30.701Z"
   },
   {
    "duration": 183,
    "start_time": "2021-07-07T18:46:31.331Z"
   },
   {
    "duration": 48,
    "start_time": "2021-07-07T18:46:31.516Z"
   },
   {
    "duration": 5,
    "start_time": "2021-07-07T18:46:31.566Z"
   },
   {
    "duration": 28,
    "start_time": "2021-07-07T18:46:31.572Z"
   },
   {
    "duration": 8,
    "start_time": "2021-07-07T18:46:31.602Z"
   },
   {
    "duration": 19,
    "start_time": "2021-07-07T18:46:31.611Z"
   },
   {
    "duration": 6,
    "start_time": "2021-07-07T18:46:31.633Z"
   },
   {
    "duration": 17,
    "start_time": "2021-07-07T18:46:31.642Z"
   },
   {
    "duration": 10,
    "start_time": "2021-07-07T18:46:31.684Z"
   },
   {
    "duration": 9,
    "start_time": "2021-07-07T18:46:31.695Z"
   },
   {
    "duration": 28,
    "start_time": "2021-07-07T18:46:31.705Z"
   },
   {
    "duration": 18,
    "start_time": "2021-07-07T18:46:31.735Z"
   },
   {
    "duration": 48,
    "start_time": "2021-07-07T18:46:31.755Z"
   },
   {
    "duration": 6,
    "start_time": "2021-07-07T18:46:31.804Z"
   },
   {
    "duration": 4,
    "start_time": "2021-07-07T18:46:31.812Z"
   },
   {
    "duration": 9,
    "start_time": "2021-07-07T18:46:31.817Z"
   },
   {
    "duration": 10,
    "start_time": "2021-07-07T18:46:31.827Z"
   },
   {
    "duration": 12,
    "start_time": "2021-07-07T18:46:31.838Z"
   },
   {
    "duration": 39,
    "start_time": "2021-07-07T18:46:31.851Z"
   },
   {
    "duration": 24,
    "start_time": "2021-07-07T18:46:31.892Z"
   },
   {
    "duration": 15,
    "start_time": "2021-07-07T18:46:31.918Z"
   },
   {
    "duration": 7,
    "start_time": "2021-07-07T18:46:31.936Z"
   },
   {
    "duration": 8,
    "start_time": "2021-07-07T18:46:31.944Z"
   },
   {
    "duration": 19,
    "start_time": "2021-07-07T18:46:31.984Z"
   },
   {
    "duration": 10,
    "start_time": "2021-07-07T18:46:32.004Z"
   },
   {
    "duration": 5,
    "start_time": "2021-07-07T18:46:32.016Z"
   },
   {
    "duration": 9,
    "start_time": "2021-07-07T18:46:32.023Z"
   },
   {
    "duration": 199,
    "start_time": "2021-07-07T18:46:32.033Z"
   },
   {
    "duration": 19,
    "start_time": "2021-07-07T18:46:32.234Z"
   },
   {
    "duration": 159,
    "start_time": "2021-07-07T18:46:32.255Z"
   },
   {
    "duration": 134,
    "start_time": "2021-07-07T18:46:32.416Z"
   },
   {
    "duration": 10,
    "start_time": "2021-07-07T18:46:32.552Z"
   },
   {
    "duration": 34,
    "start_time": "2021-07-07T18:46:32.563Z"
   },
   {
    "duration": 1039,
    "start_time": "2021-07-08T08:41:09.419Z"
   },
   {
    "duration": 333,
    "start_time": "2021-07-08T08:41:10.459Z"
   },
   {
    "duration": 173,
    "start_time": "2021-07-08T08:41:10.794Z"
   },
   {
    "duration": 5,
    "start_time": "2021-07-08T08:41:10.968Z"
   },
   {
    "duration": 25,
    "start_time": "2021-07-08T08:41:10.975Z"
   },
   {
    "duration": 9,
    "start_time": "2021-07-08T08:41:11.002Z"
   },
   {
    "duration": 18,
    "start_time": "2021-07-08T08:41:11.013Z"
   },
   {
    "duration": 6,
    "start_time": "2021-07-08T08:41:11.033Z"
   },
   {
    "duration": 44,
    "start_time": "2021-07-08T08:41:11.042Z"
   },
   {
    "duration": 10,
    "start_time": "2021-07-08T08:41:11.088Z"
   },
   {
    "duration": 9,
    "start_time": "2021-07-08T08:41:11.100Z"
   },
   {
    "duration": 27,
    "start_time": "2021-07-08T08:41:11.111Z"
   },
   {
    "duration": 46,
    "start_time": "2021-07-08T08:41:11.140Z"
   },
   {
    "duration": 17,
    "start_time": "2021-07-08T08:41:11.187Z"
   },
   {
    "duration": 6,
    "start_time": "2021-07-08T08:41:11.206Z"
   },
   {
    "duration": 5,
    "start_time": "2021-07-08T08:41:11.213Z"
   },
   {
    "duration": 10,
    "start_time": "2021-07-08T08:41:11.219Z"
   },
   {
    "duration": 9,
    "start_time": "2021-07-08T08:41:11.230Z"
   },
   {
    "duration": 45,
    "start_time": "2021-07-08T08:41:11.241Z"
   },
   {
    "duration": 7,
    "start_time": "2021-07-08T08:41:11.287Z"
   },
   {
    "duration": 24,
    "start_time": "2021-07-08T08:41:11.296Z"
   },
   {
    "duration": 16,
    "start_time": "2021-07-08T08:41:11.322Z"
   },
   {
    "duration": 7,
    "start_time": "2021-07-08T08:41:11.341Z"
   },
   {
    "duration": 41,
    "start_time": "2021-07-08T08:41:11.349Z"
   },
   {
    "duration": 17,
    "start_time": "2021-07-08T08:41:11.391Z"
   },
   {
    "duration": 9,
    "start_time": "2021-07-08T08:41:11.410Z"
   },
   {
    "duration": 5,
    "start_time": "2021-07-08T08:41:11.421Z"
   },
   {
    "duration": 6,
    "start_time": "2021-07-08T08:41:11.428Z"
   },
   {
    "duration": 198,
    "start_time": "2021-07-08T08:41:11.435Z"
   },
   {
    "duration": 18,
    "start_time": "2021-07-08T08:41:11.635Z"
   },
   {
    "duration": 155,
    "start_time": "2021-07-08T08:41:11.655Z"
   },
   {
    "duration": 138,
    "start_time": "2021-07-08T08:41:11.811Z"
   },
   {
    "duration": 10,
    "start_time": "2021-07-08T08:41:11.950Z"
   },
   {
    "duration": 29,
    "start_time": "2021-07-08T08:41:11.961Z"
   },
   {
    "duration": 171,
    "start_time": "2021-07-08T08:47:44.522Z"
   },
   {
    "duration": 124,
    "start_time": "2021-07-08T08:47:46.872Z"
   },
   {
    "duration": 191,
    "start_time": "2021-07-08T08:47:58.148Z"
   },
   {
    "duration": 191,
    "start_time": "2021-07-08T08:48:07.412Z"
   },
   {
    "duration": 261,
    "start_time": "2021-07-08T08:48:10.385Z"
   },
   {
    "duration": 255,
    "start_time": "2021-07-08T08:48:14.494Z"
   },
   {
    "duration": 219,
    "start_time": "2021-07-08T08:48:22.752Z"
   },
   {
    "duration": 173,
    "start_time": "2021-07-08T08:49:06.395Z"
   },
   {
    "duration": 180,
    "start_time": "2021-07-08T08:49:21.011Z"
   },
   {
    "duration": 6,
    "start_time": "2021-07-08T08:50:31.697Z"
   },
   {
    "duration": 10,
    "start_time": "2021-07-08T08:50:47.394Z"
   },
   {
    "duration": 11,
    "start_time": "2021-07-08T08:53:49.332Z"
   },
   {
    "duration": 171,
    "start_time": "2021-07-08T08:54:28.408Z"
   },
   {
    "duration": 636,
    "start_time": "2021-07-08T09:02:48.385Z"
   },
   {
    "duration": 227,
    "start_time": "2021-07-08T09:02:49.023Z"
   },
   {
    "duration": 104,
    "start_time": "2021-07-08T09:02:49.252Z"
   },
   {
    "duration": 5,
    "start_time": "2021-07-08T09:02:49.358Z"
   },
   {
    "duration": 27,
    "start_time": "2021-07-08T09:02:49.365Z"
   },
   {
    "duration": 8,
    "start_time": "2021-07-08T09:02:49.394Z"
   },
   {
    "duration": 18,
    "start_time": "2021-07-08T09:02:49.404Z"
   },
   {
    "duration": 6,
    "start_time": "2021-07-08T09:02:49.424Z"
   },
   {
    "duration": 11,
    "start_time": "2021-07-08T09:02:49.433Z"
   },
   {
    "duration": 13,
    "start_time": "2021-07-08T09:02:49.485Z"
   },
   {
    "duration": 9,
    "start_time": "2021-07-08T09:02:49.500Z"
   },
   {
    "duration": 38,
    "start_time": "2021-07-08T09:02:49.511Z"
   },
   {
    "duration": 42,
    "start_time": "2021-07-08T09:02:49.551Z"
   },
   {
    "duration": 21,
    "start_time": "2021-07-08T09:02:49.594Z"
   },
   {
    "duration": 6,
    "start_time": "2021-07-08T09:02:49.616Z"
   },
   {
    "duration": 3,
    "start_time": "2021-07-08T09:02:49.623Z"
   },
   {
    "duration": 9,
    "start_time": "2021-07-08T09:02:49.628Z"
   },
   {
    "duration": 52,
    "start_time": "2021-07-08T09:02:49.638Z"
   },
   {
    "duration": 11,
    "start_time": "2021-07-08T09:02:49.692Z"
   },
   {
    "duration": 8,
    "start_time": "2021-07-08T09:02:49.704Z"
   },
   {
    "duration": 27,
    "start_time": "2021-07-08T09:02:49.713Z"
   },
   {
    "duration": 59,
    "start_time": "2021-07-08T09:02:49.741Z"
   },
   {
    "duration": 8,
    "start_time": "2021-07-08T09:02:49.803Z"
   },
   {
    "duration": 14,
    "start_time": "2021-07-08T09:02:49.813Z"
   },
   {
    "duration": 20,
    "start_time": "2021-07-08T09:02:49.829Z"
   },
   {
    "duration": 44,
    "start_time": "2021-07-08T09:02:49.851Z"
   },
   {
    "duration": 14,
    "start_time": "2021-07-08T09:02:49.896Z"
   },
   {
    "duration": 221,
    "start_time": "2021-07-08T09:02:49.912Z"
   },
   {
    "duration": 6,
    "start_time": "2021-07-08T09:02:50.134Z"
   },
   {
    "duration": 206,
    "start_time": "2021-07-08T09:02:50.142Z"
   },
   {
    "duration": 19,
    "start_time": "2021-07-08T09:02:50.350Z"
   },
   {
    "duration": 21,
    "start_time": "2021-07-08T09:02:50.370Z"
   },
   {
    "duration": 20,
    "start_time": "2021-07-08T09:02:50.393Z"
   },
   {
    "duration": 5,
    "start_time": "2021-07-08T09:02:50.414Z"
   },
   {
    "duration": 5,
    "start_time": "2021-07-08T09:03:34.173Z"
   },
   {
    "duration": 6,
    "start_time": "2021-07-08T09:04:49.062Z"
   },
   {
    "duration": 9,
    "start_time": "2021-07-08T09:04:50.118Z"
   },
   {
    "duration": 14,
    "start_time": "2021-07-08T09:04:58.512Z"
   },
   {
    "duration": 9,
    "start_time": "2021-07-08T09:05:10.988Z"
   },
   {
    "duration": 11,
    "start_time": "2021-07-08T09:05:11.743Z"
   },
   {
    "duration": 7,
    "start_time": "2021-07-08T09:05:25.677Z"
   },
   {
    "duration": 13,
    "start_time": "2021-07-08T09:05:47.189Z"
   },
   {
    "duration": 13,
    "start_time": "2021-07-08T09:05:54.755Z"
   },
   {
    "duration": 4,
    "start_time": "2021-07-08T09:06:29.189Z"
   },
   {
    "duration": 244,
    "start_time": "2021-07-08T09:06:29.195Z"
   },
   {
    "duration": 91,
    "start_time": "2021-07-08T09:06:29.441Z"
   },
   {
    "duration": 4,
    "start_time": "2021-07-08T09:06:29.534Z"
   },
   {
    "duration": 28,
    "start_time": "2021-07-08T09:06:29.540Z"
   },
   {
    "duration": 6,
    "start_time": "2021-07-08T09:06:29.570Z"
   },
   {
    "duration": 18,
    "start_time": "2021-07-08T09:06:29.578Z"
   },
   {
    "duration": 5,
    "start_time": "2021-07-08T09:06:29.597Z"
   },
   {
    "duration": 13,
    "start_time": "2021-07-08T09:06:29.605Z"
   },
   {
    "duration": 8,
    "start_time": "2021-07-08T09:06:29.620Z"
   },
   {
    "duration": 7,
    "start_time": "2021-07-08T09:06:29.630Z"
   },
   {
    "duration": 63,
    "start_time": "2021-07-08T09:06:29.639Z"
   },
   {
    "duration": 17,
    "start_time": "2021-07-08T09:06:29.704Z"
   },
   {
    "duration": 20,
    "start_time": "2021-07-08T09:06:29.723Z"
   },
   {
    "duration": 6,
    "start_time": "2021-07-08T09:06:29.745Z"
   },
   {
    "duration": 3,
    "start_time": "2021-07-08T09:06:29.752Z"
   },
   {
    "duration": 7,
    "start_time": "2021-07-08T09:06:29.785Z"
   },
   {
    "duration": 11,
    "start_time": "2021-07-08T09:06:29.794Z"
   },
   {
    "duration": 15,
    "start_time": "2021-07-08T09:06:29.807Z"
   },
   {
    "duration": 8,
    "start_time": "2021-07-08T09:06:29.823Z"
   },
   {
    "duration": 70,
    "start_time": "2021-07-08T09:06:29.832Z"
   },
   {
    "duration": 17,
    "start_time": "2021-07-08T09:06:29.903Z"
   },
   {
    "duration": 9,
    "start_time": "2021-07-08T09:06:29.921Z"
   },
   {
    "duration": 9,
    "start_time": "2021-07-08T09:06:29.932Z"
   },
   {
    "duration": 57,
    "start_time": "2021-07-08T09:06:29.942Z"
   },
   {
    "duration": 11,
    "start_time": "2021-07-08T09:06:30.001Z"
   },
   {
    "duration": 19,
    "start_time": "2021-07-08T09:06:30.016Z"
   },
   {
    "duration": 217,
    "start_time": "2021-07-08T09:06:30.037Z"
   },
   {
    "duration": 6,
    "start_time": "2021-07-08T09:06:30.255Z"
   },
   {
    "duration": 205,
    "start_time": "2021-07-08T09:06:30.263Z"
   },
   {
    "duration": 27,
    "start_time": "2021-07-08T09:06:30.470Z"
   },
   {
    "duration": 11,
    "start_time": "2021-07-08T09:06:30.500Z"
   },
   {
    "duration": 31,
    "start_time": "2021-07-08T09:06:30.513Z"
   },
   {
    "duration": 18,
    "start_time": "2021-07-08T09:06:30.546Z"
   },
   {
    "duration": 11,
    "start_time": "2021-07-08T09:06:30.566Z"
   },
   {
    "duration": 19,
    "start_time": "2021-07-08T09:06:30.579Z"
   },
   {
    "duration": 20,
    "start_time": "2021-07-08T09:06:49.466Z"
   },
   {
    "duration": 9,
    "start_time": "2021-07-08T09:06:51.994Z"
   },
   {
    "duration": 20,
    "start_time": "2021-07-08T09:06:52.273Z"
   },
   {
    "duration": 246,
    "start_time": "2021-07-08T09:10:21.272Z"
   },
   {
    "duration": 84,
    "start_time": "2021-07-08T09:10:21.436Z"
   },
   {
    "duration": 7,
    "start_time": "2021-07-08T09:10:37.608Z"
   },
   {
    "duration": 189,
    "start_time": "2021-07-08T09:10:38.573Z"
   },
   {
    "duration": 185,
    "start_time": "2021-07-08T09:10:53.181Z"
   },
   {
    "duration": 11,
    "start_time": "2021-07-08T09:10:59.549Z"
   },
   {
    "duration": 42,
    "start_time": "2021-07-08T09:10:59.709Z"
   },
   {
    "duration": 12,
    "start_time": "2021-07-08T09:11:02.857Z"
   },
   {
    "duration": 28,
    "start_time": "2021-07-08T09:11:10.062Z"
   },
   {
    "duration": 249,
    "start_time": "2021-07-08T09:11:37.388Z"
   },
   {
    "duration": 232,
    "start_time": "2021-07-08T09:11:49.485Z"
   },
   {
    "duration": 453,
    "start_time": "2021-07-08T09:12:01.546Z"
   },
   {
    "duration": 440,
    "start_time": "2021-07-08T09:12:12.347Z"
   },
   {
    "duration": 213,
    "start_time": "2021-07-08T09:13:32.196Z"
   },
   {
    "duration": 172,
    "start_time": "2021-07-08T09:14:07.400Z"
   },
   {
    "duration": 185,
    "start_time": "2021-07-08T09:14:14.905Z"
   },
   {
    "duration": 209,
    "start_time": "2021-07-08T09:14:40.109Z"
   },
   {
    "duration": 201,
    "start_time": "2021-07-08T09:14:54.506Z"
   },
   {
    "duration": 622,
    "start_time": "2021-07-08T09:18:14.497Z"
   },
   {
    "duration": 220,
    "start_time": "2021-07-08T09:18:15.121Z"
   },
   {
    "duration": 79,
    "start_time": "2021-07-08T09:18:15.343Z"
   },
   {
    "duration": 4,
    "start_time": "2021-07-08T09:18:15.425Z"
   },
   {
    "duration": 24,
    "start_time": "2021-07-08T09:18:15.431Z"
   },
   {
    "duration": 8,
    "start_time": "2021-07-08T09:18:15.457Z"
   },
   {
    "duration": 16,
    "start_time": "2021-07-08T09:18:15.466Z"
   },
   {
    "duration": 5,
    "start_time": "2021-07-08T09:18:15.484Z"
   },
   {
    "duration": 10,
    "start_time": "2021-07-08T09:18:15.493Z"
   },
   {
    "duration": 8,
    "start_time": "2021-07-08T09:18:15.504Z"
   },
   {
    "duration": 7,
    "start_time": "2021-07-08T09:18:15.513Z"
   },
   {
    "duration": 26,
    "start_time": "2021-07-08T09:18:15.522Z"
   },
   {
    "duration": 49,
    "start_time": "2021-07-08T09:18:15.550Z"
   },
   {
    "duration": 21,
    "start_time": "2021-07-08T09:18:15.601Z"
   },
   {
    "duration": 8,
    "start_time": "2021-07-08T09:18:15.624Z"
   },
   {
    "duration": 3,
    "start_time": "2021-07-08T09:18:15.634Z"
   },
   {
    "duration": 8,
    "start_time": "2021-07-08T09:18:15.639Z"
   },
   {
    "duration": 45,
    "start_time": "2021-07-08T09:18:15.649Z"
   },
   {
    "duration": 13,
    "start_time": "2021-07-08T09:18:15.696Z"
   },
   {
    "duration": 10,
    "start_time": "2021-07-08T09:18:15.711Z"
   },
   {
    "duration": 64,
    "start_time": "2021-07-08T09:18:15.722Z"
   },
   {
    "duration": 19,
    "start_time": "2021-07-08T09:18:15.788Z"
   },
   {
    "duration": 9,
    "start_time": "2021-07-08T09:18:15.809Z"
   },
   {
    "duration": 9,
    "start_time": "2021-07-08T09:18:15.820Z"
   },
   {
    "duration": 18,
    "start_time": "2021-07-08T09:18:15.831Z"
   },
   {
    "duration": 43,
    "start_time": "2021-07-08T09:18:15.851Z"
   },
   {
    "duration": 12,
    "start_time": "2021-07-08T09:18:15.897Z"
   },
   {
    "duration": 219,
    "start_time": "2021-07-08T09:18:15.911Z"
   },
   {
    "duration": 8,
    "start_time": "2021-07-08T09:18:16.132Z"
   },
   {
    "duration": 199,
    "start_time": "2021-07-08T09:18:16.141Z"
   },
   {
    "duration": 18,
    "start_time": "2021-07-08T09:18:16.341Z"
   },
   {
    "duration": 24,
    "start_time": "2021-07-08T09:18:16.361Z"
   },
   {
    "duration": 24,
    "start_time": "2021-07-08T09:18:16.387Z"
   },
   {
    "duration": 211,
    "start_time": "2021-07-08T09:18:16.413Z"
   },
   {
    "duration": 18,
    "start_time": "2021-07-08T09:18:16.626Z"
   },
   {
    "duration": 596,
    "start_time": "2021-07-08T10:06:33.623Z"
   },
   {
    "duration": 181,
    "start_time": "2021-07-08T10:06:34.221Z"
   },
   {
    "duration": 176,
    "start_time": "2021-07-08T10:06:34.635Z"
   },
   {
    "duration": 239,
    "start_time": "2021-07-08T10:06:55.572Z"
   },
   {
    "duration": 6,
    "start_time": "2021-07-08T10:06:57.687Z"
   },
   {
    "duration": 4,
    "start_time": "2021-07-08T10:07:03.956Z"
   },
   {
    "duration": 4,
    "start_time": "2021-07-08T10:07:10.376Z"
   },
   {
    "duration": 4,
    "start_time": "2021-07-08T10:17:19.889Z"
   },
   {
    "duration": 3,
    "start_time": "2021-07-08T10:19:19.407Z"
   },
   {
    "duration": 197,
    "start_time": "2021-07-08T10:19:19.412Z"
   },
   {
    "duration": 127,
    "start_time": "2021-07-08T10:19:19.611Z"
   },
   {
    "duration": 4,
    "start_time": "2021-07-08T10:19:19.740Z"
   },
   {
    "duration": 27,
    "start_time": "2021-07-08T10:19:19.746Z"
   },
   {
    "duration": 7,
    "start_time": "2021-07-08T10:19:19.775Z"
   },
   {
    "duration": 30,
    "start_time": "2021-07-08T10:19:19.784Z"
   },
   {
    "duration": 7,
    "start_time": "2021-07-08T10:19:19.817Z"
   },
   {
    "duration": 26,
    "start_time": "2021-07-08T10:19:19.826Z"
   },
   {
    "duration": 18,
    "start_time": "2021-07-08T10:19:19.854Z"
   },
   {
    "duration": 14,
    "start_time": "2021-07-08T10:19:19.874Z"
   },
   {
    "duration": 48,
    "start_time": "2021-07-08T10:19:19.890Z"
   },
   {
    "duration": 17,
    "start_time": "2021-07-08T10:19:19.940Z"
   },
   {
    "duration": 38,
    "start_time": "2021-07-08T10:19:19.959Z"
   },
   {
    "duration": 8,
    "start_time": "2021-07-08T10:19:19.999Z"
   },
   {
    "duration": 15,
    "start_time": "2021-07-08T10:19:20.009Z"
   },
   {
    "duration": 22,
    "start_time": "2021-07-08T10:19:20.026Z"
   },
   {
    "duration": 10,
    "start_time": "2021-07-08T10:19:20.050Z"
   },
   {
    "duration": 10,
    "start_time": "2021-07-08T10:19:20.062Z"
   },
   {
    "duration": 20,
    "start_time": "2021-07-08T10:19:20.073Z"
   },
   {
    "duration": 29,
    "start_time": "2021-07-08T10:19:20.095Z"
   },
   {
    "duration": 17,
    "start_time": "2021-07-08T10:19:20.126Z"
   },
   {
    "duration": 40,
    "start_time": "2021-07-08T10:19:20.146Z"
   },
   {
    "duration": 15,
    "start_time": "2021-07-08T10:19:20.189Z"
   },
   {
    "duration": 19,
    "start_time": "2021-07-08T10:19:20.206Z"
   },
   {
    "duration": 10,
    "start_time": "2021-07-08T10:19:20.226Z"
   },
   {
    "duration": 11,
    "start_time": "2021-07-08T10:19:20.238Z"
   },
   {
    "duration": 297,
    "start_time": "2021-07-08T10:19:20.250Z"
   },
   {
    "duration": 6,
    "start_time": "2021-07-08T10:19:20.549Z"
   },
   {
    "duration": 191,
    "start_time": "2021-07-08T10:19:20.557Z"
   },
   {
    "duration": 19,
    "start_time": "2021-07-08T10:19:20.750Z"
   },
   {
    "duration": 20,
    "start_time": "2021-07-08T10:19:20.771Z"
   },
   {
    "duration": 15,
    "start_time": "2021-07-08T10:19:20.793Z"
   },
   {
    "duration": 222,
    "start_time": "2021-07-08T10:19:20.809Z"
   },
   {
    "duration": 20,
    "start_time": "2021-07-08T10:19:21.033Z"
   },
   {
    "duration": 27,
    "start_time": "2021-07-08T10:45:04.055Z"
   },
   {
    "duration": 8,
    "start_time": "2021-07-08T10:45:08.478Z"
   },
   {
    "duration": 8,
    "start_time": "2021-07-08T10:45:31.982Z"
   },
   {
    "duration": 10,
    "start_time": "2021-07-08T10:46:01.221Z"
   },
   {
    "duration": 17,
    "start_time": "2021-07-08T10:46:40.011Z"
   },
   {
    "duration": 193,
    "start_time": "2021-07-08T10:48:19.471Z"
   },
   {
    "duration": 225,
    "start_time": "2021-07-08T10:49:26.480Z"
   },
   {
    "duration": 204,
    "start_time": "2021-07-08T10:49:59.992Z"
   },
   {
    "duration": 435,
    "start_time": "2021-07-08T10:50:06.779Z"
   },
   {
    "duration": 199,
    "start_time": "2021-07-08T10:50:14.891Z"
   },
   {
    "duration": 204,
    "start_time": "2021-07-08T10:50:18.501Z"
   },
   {
    "duration": 244,
    "start_time": "2021-07-08T10:50:23.359Z"
   },
   {
    "duration": 192,
    "start_time": "2021-07-08T10:50:29.135Z"
   },
   {
    "duration": 218,
    "start_time": "2021-07-08T10:50:33.092Z"
   },
   {
    "duration": 207,
    "start_time": "2021-07-08T10:52:45.381Z"
   },
   {
    "duration": 5,
    "start_time": "2021-07-08T10:53:34.641Z"
   },
   {
    "duration": 196,
    "start_time": "2021-07-08T10:53:41.478Z"
   },
   {
    "duration": 43,
    "start_time": "2021-07-08T10:53:50.335Z"
   },
   {
    "duration": 32,
    "start_time": "2021-07-08T10:53:55.294Z"
   },
   {
    "duration": 55,
    "start_time": "2021-07-08T10:54:09.675Z"
   },
   {
    "duration": 16,
    "start_time": "2021-07-08T10:54:12.260Z"
   },
   {
    "duration": 15,
    "start_time": "2021-07-08T10:54:49.150Z"
   },
   {
    "duration": 20,
    "start_time": "2021-07-08T10:56:07.596Z"
   },
   {
    "duration": 16,
    "start_time": "2021-07-08T10:58:26.276Z"
   },
   {
    "duration": 22,
    "start_time": "2021-07-08T10:59:00.486Z"
   },
   {
    "duration": 18,
    "start_time": "2021-07-08T11:02:09.653Z"
   },
   {
    "duration": 10,
    "start_time": "2021-07-08T11:03:44.331Z"
   },
   {
    "duration": 10,
    "start_time": "2021-07-08T11:03:54.055Z"
   },
   {
    "duration": 12,
    "start_time": "2021-07-08T11:04:41.967Z"
   },
   {
    "duration": 24,
    "start_time": "2021-07-08T11:07:30.732Z"
   },
   {
    "duration": 6,
    "start_time": "2021-07-08T11:07:37.364Z"
   },
   {
    "duration": 16,
    "start_time": "2021-07-08T11:08:01.819Z"
   },
   {
    "duration": 17,
    "start_time": "2021-07-08T11:09:47.488Z"
   },
   {
    "duration": 246,
    "start_time": "2021-07-08T11:10:00.830Z"
   },
   {
    "duration": 18,
    "start_time": "2021-07-08T11:13:55.195Z"
   },
   {
    "duration": 204,
    "start_time": "2021-07-08T11:14:04.951Z"
   },
   {
    "duration": 19,
    "start_time": "2021-07-08T11:15:10.613Z"
   },
   {
    "duration": 680,
    "start_time": "2021-07-08T11:16:25.793Z"
   },
   {
    "duration": 451,
    "start_time": "2021-07-08T11:16:40.313Z"
   },
   {
    "duration": 469,
    "start_time": "2021-07-08T11:17:21.286Z"
   },
   {
    "duration": 20,
    "start_time": "2021-07-08T11:19:12.554Z"
   },
   {
    "duration": 35,
    "start_time": "2021-07-08T11:20:05.484Z"
   },
   {
    "duration": 53,
    "start_time": "2021-07-08T11:21:40.050Z"
   },
   {
    "duration": 13,
    "start_time": "2021-07-08T11:22:26.059Z"
   },
   {
    "duration": 19,
    "start_time": "2021-07-08T11:22:47.419Z"
   },
   {
    "duration": 25,
    "start_time": "2021-07-08T11:23:19.958Z"
   },
   {
    "duration": 29,
    "start_time": "2021-07-08T11:23:25.415Z"
   },
   {
    "duration": 10,
    "start_time": "2021-07-08T11:24:45.138Z"
   },
   {
    "duration": 19,
    "start_time": "2021-07-08T11:24:54.498Z"
   },
   {
    "duration": 12,
    "start_time": "2021-07-08T11:25:32.225Z"
   },
   {
    "duration": 19,
    "start_time": "2021-07-08T11:25:37.092Z"
   },
   {
    "duration": 17,
    "start_time": "2021-07-08T11:25:58.116Z"
   },
   {
    "duration": 15,
    "start_time": "2021-07-08T11:26:02.258Z"
   },
   {
    "duration": 8,
    "start_time": "2021-07-08T11:26:59.682Z"
   },
   {
    "duration": 184,
    "start_time": "2021-07-08T11:27:21.894Z"
   },
   {
    "duration": 8,
    "start_time": "2021-07-08T11:27:23.824Z"
   },
   {
    "duration": 202,
    "start_time": "2021-07-08T11:27:23.962Z"
   },
   {
    "duration": 360,
    "start_time": "2021-07-08T11:28:33.215Z"
   },
   {
    "duration": 231,
    "start_time": "2021-07-08T11:32:05.542Z"
   },
   {
    "duration": 607,
    "start_time": "2021-07-08T11:36:27.854Z"
   },
   {
    "duration": 241,
    "start_time": "2021-07-08T11:36:28.463Z"
   },
   {
    "duration": 67,
    "start_time": "2021-07-08T11:36:28.709Z"
   },
   {
    "duration": 5,
    "start_time": "2021-07-08T11:36:28.778Z"
   },
   {
    "duration": 32,
    "start_time": "2021-07-08T11:36:28.784Z"
   },
   {
    "duration": 11,
    "start_time": "2021-07-08T11:36:28.819Z"
   },
   {
    "duration": 20,
    "start_time": "2021-07-08T11:36:28.834Z"
   },
   {
    "duration": 36,
    "start_time": "2021-07-08T11:36:28.857Z"
   },
   {
    "duration": 16,
    "start_time": "2021-07-08T11:36:28.895Z"
   },
   {
    "duration": 14,
    "start_time": "2021-07-08T11:36:28.913Z"
   },
   {
    "duration": 9,
    "start_time": "2021-07-08T11:36:28.930Z"
   },
   {
    "duration": 55,
    "start_time": "2021-07-08T11:36:28.941Z"
   },
   {
    "duration": 27,
    "start_time": "2021-07-08T11:36:28.999Z"
   },
   {
    "duration": 30,
    "start_time": "2021-07-08T11:36:29.028Z"
   },
   {
    "duration": 31,
    "start_time": "2021-07-08T11:36:29.060Z"
   },
   {
    "duration": 3,
    "start_time": "2021-07-08T11:36:29.093Z"
   },
   {
    "duration": 12,
    "start_time": "2021-07-08T11:36:29.099Z"
   },
   {
    "duration": 11,
    "start_time": "2021-07-08T11:36:29.112Z"
   },
   {
    "duration": 12,
    "start_time": "2021-07-08T11:36:29.125Z"
   },
   {
    "duration": 9,
    "start_time": "2021-07-08T11:36:29.139Z"
   },
   {
    "duration": 31,
    "start_time": "2021-07-08T11:36:29.191Z"
   },
   {
    "duration": 17,
    "start_time": "2021-07-08T11:36:29.226Z"
   },
   {
    "duration": 7,
    "start_time": "2021-07-08T11:36:29.245Z"
   },
   {
    "duration": 10,
    "start_time": "2021-07-08T11:36:29.254Z"
   },
   {
    "duration": 30,
    "start_time": "2021-07-08T11:36:29.292Z"
   },
   {
    "duration": 11,
    "start_time": "2021-07-08T11:36:29.324Z"
   },
   {
    "duration": 11,
    "start_time": "2021-07-08T11:36:29.337Z"
   },
   {
    "duration": 230,
    "start_time": "2021-07-08T11:36:29.349Z"
   },
   {
    "duration": 13,
    "start_time": "2021-07-08T11:36:29.588Z"
   },
   {
    "duration": 205,
    "start_time": "2021-07-08T11:36:29.603Z"
   },
   {
    "duration": 20,
    "start_time": "2021-07-08T11:36:29.810Z"
   },
   {
    "duration": 9,
    "start_time": "2021-07-08T11:36:29.832Z"
   },
   {
    "duration": 16,
    "start_time": "2021-07-08T11:36:29.843Z"
   },
   {
    "duration": 283,
    "start_time": "2021-07-08T11:36:29.861Z"
   },
   {
    "duration": 50,
    "start_time": "2021-07-08T11:36:30.146Z"
   },
   {
    "duration": 14,
    "start_time": "2021-07-08T11:36:30.198Z"
   },
   {
    "duration": 11,
    "start_time": "2021-07-08T11:36:30.214Z"
   },
   {
    "duration": 245,
    "start_time": "2021-07-08T11:36:30.227Z"
   },
   {
    "duration": 439,
    "start_time": "2021-07-08T11:36:30.474Z"
   },
   {
    "duration": 210,
    "start_time": "2021-07-08T11:36:30.915Z"
   },
   {
    "duration": 15,
    "start_time": "2021-07-08T11:36:31.127Z"
   },
   {
    "duration": 17,
    "start_time": "2021-07-08T11:38:20.451Z"
   },
   {
    "duration": 642,
    "start_time": "2021-07-08T11:46:17.881Z"
   },
   {
    "duration": 210,
    "start_time": "2021-07-08T11:46:18.525Z"
   },
   {
    "duration": 104,
    "start_time": "2021-07-08T11:46:18.741Z"
   },
   {
    "duration": 8,
    "start_time": "2021-07-08T11:46:18.847Z"
   },
   {
    "duration": 25,
    "start_time": "2021-07-08T11:46:18.857Z"
   },
   {
    "duration": 14,
    "start_time": "2021-07-08T11:46:18.884Z"
   },
   {
    "duration": 22,
    "start_time": "2021-07-08T11:46:18.900Z"
   },
   {
    "duration": 5,
    "start_time": "2021-07-08T11:46:18.924Z"
   },
   {
    "duration": 13,
    "start_time": "2021-07-08T11:46:18.931Z"
   },
   {
    "duration": 45,
    "start_time": "2021-07-08T11:46:18.946Z"
   },
   {
    "duration": 12,
    "start_time": "2021-07-08T11:46:18.993Z"
   },
   {
    "duration": 38,
    "start_time": "2021-07-08T11:46:19.006Z"
   },
   {
    "duration": 50,
    "start_time": "2021-07-08T11:46:19.046Z"
   },
   {
    "duration": 29,
    "start_time": "2021-07-08T11:46:19.099Z"
   },
   {
    "duration": 7,
    "start_time": "2021-07-08T11:46:19.130Z"
   },
   {
    "duration": 3,
    "start_time": "2021-07-08T11:46:19.139Z"
   },
   {
    "duration": 11,
    "start_time": "2021-07-08T11:46:19.144Z"
   },
   {
    "duration": 40,
    "start_time": "2021-07-08T11:46:19.157Z"
   },
   {
    "duration": 15,
    "start_time": "2021-07-08T11:46:19.199Z"
   },
   {
    "duration": 10,
    "start_time": "2021-07-08T11:46:19.217Z"
   },
   {
    "duration": 68,
    "start_time": "2021-07-08T11:46:19.230Z"
   },
   {
    "duration": 17,
    "start_time": "2021-07-08T11:46:19.301Z"
   },
   {
    "duration": 7,
    "start_time": "2021-07-08T11:46:19.321Z"
   },
   {
    "duration": 11,
    "start_time": "2021-07-08T11:46:19.330Z"
   },
   {
    "duration": 59,
    "start_time": "2021-07-08T11:46:19.343Z"
   },
   {
    "duration": 17,
    "start_time": "2021-07-08T11:46:19.405Z"
   },
   {
    "duration": 16,
    "start_time": "2021-07-08T11:46:19.424Z"
   },
   {
    "duration": 252,
    "start_time": "2021-07-08T11:46:19.443Z"
   },
   {
    "duration": 9,
    "start_time": "2021-07-08T11:46:19.697Z"
   },
   {
    "duration": 224,
    "start_time": "2021-07-08T11:46:19.708Z"
   },
   {
    "duration": 21,
    "start_time": "2021-07-08T11:46:19.934Z"
   },
   {
    "duration": 9,
    "start_time": "2021-07-08T11:46:19.956Z"
   },
   {
    "duration": 32,
    "start_time": "2021-07-08T11:46:19.967Z"
   },
   {
    "duration": 288,
    "start_time": "2021-07-08T11:46:20.004Z"
   },
   {
    "duration": 23,
    "start_time": "2021-07-08T11:46:20.300Z"
   },
   {
    "duration": 11,
    "start_time": "2021-07-08T11:46:20.325Z"
   },
   {
    "duration": 11,
    "start_time": "2021-07-08T11:46:20.339Z"
   },
   {
    "duration": 259,
    "start_time": "2021-07-08T11:46:20.352Z"
   },
   {
    "duration": 438,
    "start_time": "2021-07-08T11:46:20.613Z"
   },
   {
    "duration": 207,
    "start_time": "2021-07-08T11:46:21.054Z"
   },
   {
    "duration": 27,
    "start_time": "2021-07-08T11:46:21.262Z"
   },
   {
    "duration": 19,
    "start_time": "2021-07-08T11:46:21.291Z"
   },
   {
    "duration": 820,
    "start_time": "2021-07-08T11:49:01.655Z"
   },
   {
    "duration": 372,
    "start_time": "2021-07-08T11:49:02.478Z"
   },
   {
    "duration": 98,
    "start_time": "2021-07-08T11:49:02.853Z"
   },
   {
    "duration": 6,
    "start_time": "2021-07-08T11:49:02.953Z"
   },
   {
    "duration": 39,
    "start_time": "2021-07-08T11:49:02.960Z"
   },
   {
    "duration": 9,
    "start_time": "2021-07-08T11:49:03.003Z"
   },
   {
    "duration": 23,
    "start_time": "2021-07-08T11:49:03.014Z"
   },
   {
    "duration": 6,
    "start_time": "2021-07-08T11:49:03.041Z"
   },
   {
    "duration": 20,
    "start_time": "2021-07-08T11:49:03.049Z"
   },
   {
    "duration": 18,
    "start_time": "2021-07-08T11:49:03.084Z"
   },
   {
    "duration": 14,
    "start_time": "2021-07-08T11:49:03.104Z"
   },
   {
    "duration": 39,
    "start_time": "2021-07-08T11:49:03.119Z"
   },
   {
    "duration": 38,
    "start_time": "2021-07-08T11:49:03.160Z"
   },
   {
    "duration": 26,
    "start_time": "2021-07-08T11:49:03.200Z"
   },
   {
    "duration": 7,
    "start_time": "2021-07-08T11:49:03.227Z"
   },
   {
    "duration": 4,
    "start_time": "2021-07-08T11:49:03.236Z"
   },
   {
    "duration": 15,
    "start_time": "2021-07-08T11:49:03.243Z"
   },
   {
    "duration": 21,
    "start_time": "2021-07-08T11:49:03.285Z"
   },
   {
    "duration": 17,
    "start_time": "2021-07-08T11:49:03.309Z"
   },
   {
    "duration": 10,
    "start_time": "2021-07-08T11:49:03.328Z"
   },
   {
    "duration": 65,
    "start_time": "2021-07-08T11:49:03.340Z"
   },
   {
    "duration": 18,
    "start_time": "2021-07-08T11:49:03.407Z"
   },
   {
    "duration": 8,
    "start_time": "2021-07-08T11:49:03.428Z"
   },
   {
    "duration": 15,
    "start_time": "2021-07-08T11:49:03.438Z"
   },
   {
    "duration": 40,
    "start_time": "2021-07-08T11:49:03.455Z"
   },
   {
    "duration": 12,
    "start_time": "2021-07-08T11:49:03.497Z"
   },
   {
    "duration": 29,
    "start_time": "2021-07-08T11:49:03.511Z"
   },
   {
    "duration": 285,
    "start_time": "2021-07-08T11:49:03.542Z"
   },
   {
    "duration": 8,
    "start_time": "2021-07-08T11:49:03.829Z"
   },
   {
    "duration": 227,
    "start_time": "2021-07-08T11:49:03.838Z"
   },
   {
    "duration": 40,
    "start_time": "2021-07-08T11:49:04.066Z"
   },
   {
    "duration": 10,
    "start_time": "2021-07-08T11:49:04.108Z"
   },
   {
    "duration": 26,
    "start_time": "2021-07-08T11:49:04.121Z"
   },
   {
    "duration": 290,
    "start_time": "2021-07-08T11:49:04.149Z"
   },
   {
    "duration": 26,
    "start_time": "2021-07-08T11:49:04.441Z"
   },
   {
    "duration": 31,
    "start_time": "2021-07-08T11:49:04.470Z"
   },
   {
    "duration": 14,
    "start_time": "2021-07-08T11:49:04.503Z"
   },
   {
    "duration": 259,
    "start_time": "2021-07-08T11:49:04.521Z"
   },
   {
    "duration": 480,
    "start_time": "2021-07-08T11:49:04.782Z"
   },
   {
    "duration": 225,
    "start_time": "2021-07-08T11:49:05.264Z"
   },
   {
    "duration": 22,
    "start_time": "2021-07-08T11:49:05.491Z"
   },
   {
    "duration": 24,
    "start_time": "2021-07-08T11:49:05.515Z"
   },
   {
    "duration": 634,
    "start_time": "2021-07-08T11:52:24.960Z"
   },
   {
    "duration": 199,
    "start_time": "2021-07-08T11:52:25.599Z"
   },
   {
    "duration": 106,
    "start_time": "2021-07-08T11:52:25.803Z"
   },
   {
    "duration": 7,
    "start_time": "2021-07-08T11:52:25.911Z"
   },
   {
    "duration": 29,
    "start_time": "2021-07-08T11:52:25.920Z"
   },
   {
    "duration": 7,
    "start_time": "2021-07-08T11:52:25.951Z"
   },
   {
    "duration": 26,
    "start_time": "2021-07-08T11:52:25.961Z"
   },
   {
    "duration": 11,
    "start_time": "2021-07-08T11:52:25.990Z"
   },
   {
    "duration": 29,
    "start_time": "2021-07-08T11:52:26.005Z"
   },
   {
    "duration": 9,
    "start_time": "2021-07-08T11:52:26.036Z"
   },
   {
    "duration": 8,
    "start_time": "2021-07-08T11:52:26.047Z"
   },
   {
    "duration": 63,
    "start_time": "2021-07-08T11:52:26.057Z"
   },
   {
    "duration": 17,
    "start_time": "2021-07-08T11:52:26.122Z"
   },
   {
    "duration": 43,
    "start_time": "2021-07-08T11:52:26.142Z"
   },
   {
    "duration": 17,
    "start_time": "2021-07-08T11:52:26.187Z"
   },
   {
    "duration": 5,
    "start_time": "2021-07-08T11:52:26.206Z"
   },
   {
    "duration": 12,
    "start_time": "2021-07-08T11:52:26.212Z"
   },
   {
    "duration": 11,
    "start_time": "2021-07-08T11:52:26.226Z"
   },
   {
    "duration": 12,
    "start_time": "2021-07-08T11:52:26.238Z"
   },
   {
    "duration": 38,
    "start_time": "2021-07-08T11:52:26.252Z"
   },
   {
    "duration": 40,
    "start_time": "2021-07-08T11:52:26.292Z"
   },
   {
    "duration": 17,
    "start_time": "2021-07-08T11:52:26.336Z"
   },
   {
    "duration": 39,
    "start_time": "2021-07-08T11:52:26.355Z"
   },
   {
    "duration": 11,
    "start_time": "2021-07-08T11:52:26.395Z"
   },
   {
    "duration": 23,
    "start_time": "2021-07-08T11:52:26.408Z"
   },
   {
    "duration": 12,
    "start_time": "2021-07-08T11:52:26.432Z"
   },
   {
    "duration": 41,
    "start_time": "2021-07-08T11:52:26.446Z"
   },
   {
    "duration": 215,
    "start_time": "2021-07-08T11:52:26.493Z"
   },
   {
    "duration": 8,
    "start_time": "2021-07-08T11:52:26.710Z"
   },
   {
    "duration": 228,
    "start_time": "2021-07-08T11:52:26.720Z"
   },
   {
    "duration": 18,
    "start_time": "2021-07-08T11:52:26.950Z"
   },
   {
    "duration": 35,
    "start_time": "2021-07-08T11:52:26.969Z"
   },
   {
    "duration": 23,
    "start_time": "2021-07-08T11:52:27.006Z"
   },
   {
    "duration": 258,
    "start_time": "2021-07-08T11:52:27.030Z"
   },
   {
    "duration": 24,
    "start_time": "2021-07-08T11:52:27.290Z"
   },
   {
    "duration": 12,
    "start_time": "2021-07-08T11:52:27.316Z"
   },
   {
    "duration": 10,
    "start_time": "2021-07-08T11:52:27.329Z"
   },
   {
    "duration": 298,
    "start_time": "2021-07-08T11:52:27.341Z"
   },
   {
    "duration": 436,
    "start_time": "2021-07-08T11:52:27.641Z"
   },
   {
    "duration": 216,
    "start_time": "2021-07-08T11:52:28.079Z"
   },
   {
    "duration": 20,
    "start_time": "2021-07-08T11:52:28.297Z"
   },
   {
    "duration": 17,
    "start_time": "2021-07-08T11:52:28.319Z"
   },
   {
    "duration": 378,
    "start_time": "2022-09-16T15:56:26.737Z"
   },
   {
    "duration": 382,
    "start_time": "2022-09-16T15:58:00.606Z"
   },
   {
    "duration": 153,
    "start_time": "2022-09-16T15:59:23.720Z"
   },
   {
    "duration": 69,
    "start_time": "2022-09-16T16:01:34.840Z"
   },
   {
    "duration": 6,
    "start_time": "2022-09-16T16:02:32.345Z"
   },
   {
    "duration": 7,
    "start_time": "2022-09-16T16:02:41.184Z"
   },
   {
    "duration": 7,
    "start_time": "2022-09-16T16:03:03.725Z"
   },
   {
    "duration": 6,
    "start_time": "2022-09-16T16:03:13.910Z"
   },
   {
    "duration": 4,
    "start_time": "2022-09-16T16:03:38.591Z"
   },
   {
    "duration": 4,
    "start_time": "2022-09-16T16:06:37.961Z"
   },
   {
    "duration": 455,
    "start_time": "2022-09-16T16:07:12.811Z"
   },
   {
    "duration": 5,
    "start_time": "2022-09-16T16:08:29.266Z"
   },
   {
    "duration": 19,
    "start_time": "2022-09-16T16:09:45.513Z"
   },
   {
    "duration": 16,
    "start_time": "2022-09-16T16:12:06.237Z"
   },
   {
    "duration": 14,
    "start_time": "2022-09-16T16:14:53.646Z"
   },
   {
    "duration": 15,
    "start_time": "2022-09-16T16:15:05.666Z"
   },
   {
    "duration": 14,
    "start_time": "2022-09-16T16:15:12.034Z"
   },
   {
    "duration": 16,
    "start_time": "2022-09-16T16:16:31.069Z"
   },
   {
    "duration": 4,
    "start_time": "2022-09-16T16:18:50.889Z"
   },
   {
    "duration": 12,
    "start_time": "2022-09-16T16:19:20.412Z"
   },
   {
    "duration": 5,
    "start_time": "2022-09-16T16:19:48.080Z"
   },
   {
    "duration": 13,
    "start_time": "2022-09-16T16:19:51.199Z"
   },
   {
    "duration": 2,
    "start_time": "2022-09-16T16:22:44.698Z"
   },
   {
    "duration": 14,
    "start_time": "2022-09-16T16:24:31.741Z"
   },
   {
    "duration": 545,
    "start_time": "2022-09-16T16:24:39.201Z"
   },
   {
    "duration": 489,
    "start_time": "2022-09-16T16:25:39.213Z"
   },
   {
    "duration": 393,
    "start_time": "2022-09-16T16:28:47.053Z"
   },
   {
    "duration": 153,
    "start_time": "2022-09-16T16:28:48.953Z"
   },
   {
    "duration": 6,
    "start_time": "2022-09-16T16:28:51.976Z"
   },
   {
    "duration": 18,
    "start_time": "2022-09-16T16:28:54.372Z"
   },
   {
    "duration": 384,
    "start_time": "2022-09-16T16:28:56.789Z"
   },
   {
    "duration": 3,
    "start_time": "2022-09-16T16:32:36.566Z"
   },
   {
    "duration": 412,
    "start_time": "2022-09-16T16:32:47.899Z"
   },
   {
    "duration": 152,
    "start_time": "2022-09-16T16:32:49.927Z"
   },
   {
    "duration": 5,
    "start_time": "2022-09-16T16:32:56.713Z"
   },
   {
    "duration": 19,
    "start_time": "2022-09-16T16:33:00.521Z"
   },
   {
    "duration": 6,
    "start_time": "2022-09-16T16:33:23.069Z"
   },
   {
    "duration": 27,
    "start_time": "2022-09-16T16:33:33.604Z"
   },
   {
    "duration": 17,
    "start_time": "2022-09-16T16:34:50.991Z"
   },
   {
    "duration": 13,
    "start_time": "2022-09-16T16:35:38.637Z"
   },
   {
    "duration": 9,
    "start_time": "2022-09-16T16:35:53.598Z"
   },
   {
    "duration": 10,
    "start_time": "2022-09-16T16:37:06.197Z"
   },
   {
    "duration": 23,
    "start_time": "2022-09-16T16:40:28.649Z"
   },
   {
    "duration": 26,
    "start_time": "2022-09-16T16:40:49.856Z"
   },
   {
    "duration": 29,
    "start_time": "2022-09-16T16:41:05.873Z"
   },
   {
    "duration": 28,
    "start_time": "2022-09-16T16:42:02.179Z"
   },
   {
    "duration": 31,
    "start_time": "2022-09-16T16:42:14.299Z"
   },
   {
    "duration": 36,
    "start_time": "2022-09-16T16:42:29.374Z"
   },
   {
    "duration": 27,
    "start_time": "2022-09-16T16:46:34.346Z"
   },
   {
    "duration": 9,
    "start_time": "2022-09-16T16:51:18.456Z"
   },
   {
    "duration": 1236,
    "start_time": "2022-09-16T16:51:52.037Z"
   },
   {
    "duration": 17,
    "start_time": "2022-09-16T16:52:12.166Z"
   },
   {
    "duration": 7,
    "start_time": "2022-09-16T16:53:07.456Z"
   },
   {
    "duration": 1293,
    "start_time": "2022-09-16T16:53:11.847Z"
   },
   {
    "duration": 5,
    "start_time": "2022-09-16T16:53:19.750Z"
   },
   {
    "duration": 3,
    "start_time": "2022-09-16T16:58:22.665Z"
   },
   {
    "duration": 10,
    "start_time": "2022-09-16T16:59:05.196Z"
   },
   {
    "duration": 2,
    "start_time": "2022-09-16T16:59:38.036Z"
   },
   {
    "duration": 3,
    "start_time": "2022-09-16T16:59:39.902Z"
   },
   {
    "duration": 3,
    "start_time": "2022-09-16T17:00:26.158Z"
   },
   {
    "duration": 4,
    "start_time": "2022-09-16T17:02:24.330Z"
   },
   {
    "duration": 9,
    "start_time": "2022-09-16T17:02:42.568Z"
   },
   {
    "duration": 3,
    "start_time": "2022-09-16T17:02:56.629Z"
   },
   {
    "duration": 5,
    "start_time": "2022-09-16T17:02:58.510Z"
   },
   {
    "duration": 3,
    "start_time": "2022-09-16T17:03:38.073Z"
   },
   {
    "duration": 4,
    "start_time": "2022-09-16T17:03:40.439Z"
   },
   {
    "duration": 1855,
    "start_time": "2022-09-16T17:03:42.650Z"
   },
   {
    "duration": 448,
    "start_time": "2022-09-16T17:03:54.050Z"
   },
   {
    "duration": 3,
    "start_time": "2022-09-16T17:04:54.428Z"
   },
   {
    "duration": 4,
    "start_time": "2022-09-16T17:04:59.259Z"
   },
   {
    "duration": 1156,
    "start_time": "2022-09-16T17:05:01.990Z"
   },
   {
    "duration": 3,
    "start_time": "2022-09-16T17:06:19.652Z"
   },
   {
    "duration": 4,
    "start_time": "2022-09-16T17:06:21.716Z"
   },
   {
    "duration": 5,
    "start_time": "2022-09-16T17:06:24.207Z"
   },
   {
    "duration": 7,
    "start_time": "2022-09-16T17:06:26.839Z"
   },
   {
    "duration": 3,
    "start_time": "2022-09-16T17:09:19.984Z"
   },
   {
    "duration": 12,
    "start_time": "2022-09-16T17:10:36.162Z"
   },
   {
    "duration": 11,
    "start_time": "2022-09-16T17:11:43.909Z"
   },
   {
    "duration": 3,
    "start_time": "2022-09-16T17:15:46.357Z"
   },
   {
    "duration": 444,
    "start_time": "2022-09-16T17:15:54.097Z"
   },
   {
    "duration": 5,
    "start_time": "2022-09-16T17:17:10.281Z"
   },
   {
    "duration": 409,
    "start_time": "2022-09-16T17:18:29.097Z"
   },
   {
    "duration": 150,
    "start_time": "2022-09-16T17:18:30.904Z"
   },
   {
    "duration": 4,
    "start_time": "2022-09-16T17:18:34.234Z"
   },
   {
    "duration": 17,
    "start_time": "2022-09-16T17:18:37.575Z"
   },
   {
    "duration": 7,
    "start_time": "2022-09-16T17:18:41.212Z"
   },
   {
    "duration": 31,
    "start_time": "2022-09-16T17:18:44.449Z"
   },
   {
    "duration": 19,
    "start_time": "2022-09-16T17:19:01.463Z"
   },
   {
    "duration": 11,
    "start_time": "2022-09-16T17:19:22.606Z"
   },
   {
    "duration": 4,
    "start_time": "2022-09-16T17:19:25.468Z"
   },
   {
    "duration": 3,
    "start_time": "2022-09-16T17:19:28.184Z"
   },
   {
    "duration": 4,
    "start_time": "2022-09-16T17:19:30.110Z"
   },
   {
    "duration": 5,
    "start_time": "2022-09-16T17:19:32.265Z"
   },
   {
    "duration": 7,
    "start_time": "2022-09-16T17:19:35.125Z"
   },
   {
    "duration": 12,
    "start_time": "2022-09-16T17:19:37.153Z"
   },
   {
    "duration": 11,
    "start_time": "2022-09-16T17:19:39.678Z"
   },
   {
    "duration": 6,
    "start_time": "2022-09-16T17:19:43.716Z"
   },
   {
    "duration": 289,
    "start_time": "2022-09-16T17:19:46.177Z"
   },
   {
    "duration": 401,
    "start_time": "2022-09-16T17:26:00.213Z"
   },
   {
    "duration": 167,
    "start_time": "2022-09-16T17:26:01.991Z"
   },
   {
    "duration": 4,
    "start_time": "2022-09-16T17:26:10.457Z"
   },
   {
    "duration": 16,
    "start_time": "2022-09-16T17:26:13.148Z"
   },
   {
    "duration": 5,
    "start_time": "2022-09-16T17:26:16.091Z"
   },
   {
    "duration": 27,
    "start_time": "2022-09-16T17:26:27.307Z"
   },
   {
    "duration": 18,
    "start_time": "2022-09-16T17:26:41.771Z"
   },
   {
    "duration": 6,
    "start_time": "2022-09-16T17:27:44.369Z"
   },
   {
    "duration": 28,
    "start_time": "2022-09-16T17:27:48.071Z"
   },
   {
    "duration": 14,
    "start_time": "2022-09-16T17:27:55.609Z"
   },
   {
    "duration": 9,
    "start_time": "2022-09-16T17:28:12.702Z"
   },
   {
    "duration": 8,
    "start_time": "2022-09-16T17:28:15.352Z"
   },
   {
    "duration": 3,
    "start_time": "2022-09-16T17:28:18.970Z"
   },
   {
    "duration": 3,
    "start_time": "2022-09-16T17:28:21.495Z"
   },
   {
    "duration": 5,
    "start_time": "2022-09-16T17:28:23.886Z"
   },
   {
    "duration": 7,
    "start_time": "2022-09-16T17:28:25.646Z"
   },
   {
    "duration": 9,
    "start_time": "2022-09-16T17:28:27.928Z"
   },
   {
    "duration": 10,
    "start_time": "2022-09-16T17:28:31.137Z"
   },
   {
    "duration": 287,
    "start_time": "2022-09-16T17:28:47.144Z"
   },
   {
    "duration": 4,
    "start_time": "2022-09-16T17:37:55.741Z"
   },
   {
    "duration": 12,
    "start_time": "2022-09-16T17:51:11.290Z"
   },
   {
    "duration": 6,
    "start_time": "2022-09-16T17:51:43.422Z"
   },
   {
    "duration": 6,
    "start_time": "2022-09-16T17:52:37.399Z"
   },
   {
    "duration": 4,
    "start_time": "2022-09-16T17:53:44.223Z"
   },
   {
    "duration": 14,
    "start_time": "2022-09-16T17:55:25.496Z"
   },
   {
    "duration": 71,
    "start_time": "2022-09-16T17:55:44.133Z"
   },
   {
    "duration": 9,
    "start_time": "2022-09-16T17:55:53.204Z"
   },
   {
    "duration": 11,
    "start_time": "2022-09-16T17:56:14.587Z"
   },
   {
    "duration": 8,
    "start_time": "2022-09-16T17:58:22.139Z"
   },
   {
    "duration": 13,
    "start_time": "2022-09-16T18:02:28.206Z"
   },
   {
    "duration": 416,
    "start_time": "2022-09-16T18:03:01.864Z"
   },
   {
    "duration": 147,
    "start_time": "2022-09-16T18:03:02.282Z"
   },
   {
    "duration": 5,
    "start_time": "2022-09-16T18:03:02.431Z"
   },
   {
    "duration": 34,
    "start_time": "2022-09-16T18:03:02.437Z"
   },
   {
    "duration": 23,
    "start_time": "2022-09-16T18:03:02.472Z"
   },
   {
    "duration": 50,
    "start_time": "2022-09-16T18:03:02.496Z"
   },
   {
    "duration": 16,
    "start_time": "2022-09-16T18:03:02.548Z"
   },
   {
    "duration": 21,
    "start_time": "2022-09-16T18:03:02.566Z"
   },
   {
    "duration": 19,
    "start_time": "2022-09-16T18:03:02.588Z"
   },
   {
    "duration": 38,
    "start_time": "2022-09-16T18:03:02.609Z"
   },
   {
    "duration": 19,
    "start_time": "2022-09-16T18:03:02.648Z"
   },
   {
    "duration": 21,
    "start_time": "2022-09-16T18:03:02.669Z"
   },
   {
    "duration": 17,
    "start_time": "2022-09-16T18:03:02.692Z"
   },
   {
    "duration": 30,
    "start_time": "2022-09-16T18:03:02.711Z"
   },
   {
    "duration": 30,
    "start_time": "2022-09-16T18:03:02.742Z"
   },
   {
    "duration": 280,
    "start_time": "2022-09-16T18:03:02.774Z"
   },
   {
    "duration": 4,
    "start_time": "2022-09-16T18:03:03.055Z"
   },
   {
    "duration": 24,
    "start_time": "2022-09-16T18:03:03.060Z"
   },
   {
    "duration": 8,
    "start_time": "2022-09-16T18:10:10.575Z"
   },
   {
    "duration": 30,
    "start_time": "2022-09-16T18:11:44.386Z"
   },
   {
    "duration": 7,
    "start_time": "2022-09-16T18:13:14.634Z"
   },
   {
    "duration": 9,
    "start_time": "2022-09-16T18:15:36.043Z"
   },
   {
    "duration": 70,
    "start_time": "2022-09-16T18:16:03.029Z"
   },
   {
    "duration": 8,
    "start_time": "2022-09-16T18:16:20.950Z"
   },
   {
    "duration": 6,
    "start_time": "2022-09-16T18:17:03.948Z"
   },
   {
    "duration": 11,
    "start_time": "2022-09-16T18:20:45.615Z"
   },
   {
    "duration": 9,
    "start_time": "2022-09-16T18:21:50.589Z"
   },
   {
    "duration": 9,
    "start_time": "2022-09-16T18:22:29.875Z"
   },
   {
    "duration": 11,
    "start_time": "2022-09-16T18:24:30.535Z"
   },
   {
    "duration": 12,
    "start_time": "2022-09-16T18:25:40.803Z"
   },
   {
    "duration": 14,
    "start_time": "2022-09-16T18:29:38.208Z"
   },
   {
    "duration": 8,
    "start_time": "2022-09-16T18:29:56.549Z"
   },
   {
    "duration": 23,
    "start_time": "2022-09-16T18:30:41.683Z"
   },
   {
    "duration": 466,
    "start_time": "2022-09-16T18:39:08.271Z"
   },
   {
    "duration": 149,
    "start_time": "2022-09-16T18:39:09.701Z"
   },
   {
    "duration": 5,
    "start_time": "2022-09-16T18:39:13.264Z"
   },
   {
    "duration": 17,
    "start_time": "2022-09-16T18:39:17.421Z"
   },
   {
    "duration": 7,
    "start_time": "2022-09-16T18:39:19.443Z"
   },
   {
    "duration": 34,
    "start_time": "2022-09-16T18:39:21.678Z"
   },
   {
    "duration": 17,
    "start_time": "2022-09-16T18:39:24.445Z"
   },
   {
    "duration": 8,
    "start_time": "2022-09-16T18:39:26.427Z"
   },
   {
    "duration": 4,
    "start_time": "2022-09-16T18:39:28.318Z"
   },
   {
    "duration": 3,
    "start_time": "2022-09-16T18:39:30.369Z"
   },
   {
    "duration": 4,
    "start_time": "2022-09-16T18:39:32.674Z"
   },
   {
    "duration": 5,
    "start_time": "2022-09-16T18:39:35.482Z"
   },
   {
    "duration": 6,
    "start_time": "2022-09-16T18:39:37.434Z"
   },
   {
    "duration": 9,
    "start_time": "2022-09-16T18:39:39.479Z"
   },
   {
    "duration": 11,
    "start_time": "2022-09-16T18:39:41.905Z"
   },
   {
    "duration": 313,
    "start_time": "2022-09-16T18:39:44.922Z"
   },
   {
    "duration": 10,
    "start_time": "2022-09-16T18:39:48.249Z"
   },
   {
    "duration": 10,
    "start_time": "2022-09-16T18:39:52.472Z"
   },
   {
    "duration": 31,
    "start_time": "2022-09-16T18:44:09.338Z"
   },
   {
    "duration": 6,
    "start_time": "2022-09-16T18:44:36.864Z"
   },
   {
    "duration": 10,
    "start_time": "2022-09-16T18:49:01.251Z"
   },
   {
    "duration": 87,
    "start_time": "2022-09-16T18:50:13.500Z"
   },
   {
    "duration": 9,
    "start_time": "2022-09-16T18:50:42.947Z"
   },
   {
    "duration": 28,
    "start_time": "2022-09-16T18:51:41.606Z"
   },
   {
    "duration": 20,
    "start_time": "2022-09-16T18:55:12.290Z"
   },
   {
    "duration": 405,
    "start_time": "2022-09-16T18:55:25.866Z"
   },
   {
    "duration": 145,
    "start_time": "2022-09-16T18:55:26.273Z"
   },
   {
    "duration": 6,
    "start_time": "2022-09-16T18:55:26.420Z"
   },
   {
    "duration": 18,
    "start_time": "2022-09-16T18:55:26.428Z"
   },
   {
    "duration": 6,
    "start_time": "2022-09-16T18:55:26.447Z"
   },
   {
    "duration": 50,
    "start_time": "2022-09-16T18:55:26.455Z"
   },
   {
    "duration": 20,
    "start_time": "2022-09-16T18:55:26.506Z"
   },
   {
    "duration": 8,
    "start_time": "2022-09-16T18:55:26.528Z"
   },
   {
    "duration": 6,
    "start_time": "2022-09-16T18:55:26.538Z"
   },
   {
    "duration": 4,
    "start_time": "2022-09-16T18:55:26.546Z"
   },
   {
    "duration": 6,
    "start_time": "2022-09-16T18:55:26.552Z"
   },
   {
    "duration": 29,
    "start_time": "2022-09-16T18:55:26.560Z"
   },
   {
    "duration": 9,
    "start_time": "2022-09-16T18:55:26.591Z"
   },
   {
    "duration": 15,
    "start_time": "2022-09-16T18:55:26.602Z"
   },
   {
    "duration": 10,
    "start_time": "2022-09-16T18:55:26.619Z"
   },
   {
    "duration": 295,
    "start_time": "2022-09-16T18:55:26.631Z"
   },
   {
    "duration": 8,
    "start_time": "2022-09-16T18:55:26.928Z"
   },
   {
    "duration": 21,
    "start_time": "2022-09-16T18:55:26.937Z"
   },
   {
    "duration": 31,
    "start_time": "2022-09-16T18:55:26.959Z"
   },
   {
    "duration": 28,
    "start_time": "2022-09-16T18:55:26.992Z"
   },
   {
    "duration": 8,
    "start_time": "2022-09-16T18:58:58.569Z"
   },
   {
    "duration": 21,
    "start_time": "2022-09-16T18:59:29.377Z"
   },
   {
    "duration": 24,
    "start_time": "2022-09-16T19:05:15.017Z"
   },
   {
    "duration": 4,
    "start_time": "2022-09-16T19:05:46.937Z"
   },
   {
    "duration": 6,
    "start_time": "2022-09-16T19:06:29.415Z"
   },
   {
    "duration": 398,
    "start_time": "2022-09-16T19:06:46.713Z"
   },
   {
    "duration": 149,
    "start_time": "2022-09-16T19:06:47.113Z"
   },
   {
    "duration": 5,
    "start_time": "2022-09-16T19:06:47.264Z"
   },
   {
    "duration": 31,
    "start_time": "2022-09-16T19:06:47.270Z"
   },
   {
    "duration": 6,
    "start_time": "2022-09-16T19:06:47.302Z"
   },
   {
    "duration": 42,
    "start_time": "2022-09-16T19:06:47.310Z"
   },
   {
    "duration": 21,
    "start_time": "2022-09-16T19:06:47.354Z"
   },
   {
    "duration": 11,
    "start_time": "2022-09-16T19:06:47.389Z"
   },
   {
    "duration": 6,
    "start_time": "2022-09-16T19:06:47.402Z"
   },
   {
    "duration": 27,
    "start_time": "2022-09-16T19:06:47.410Z"
   },
   {
    "duration": 11,
    "start_time": "2022-09-16T19:06:47.439Z"
   },
   {
    "duration": 16,
    "start_time": "2022-09-16T19:06:47.452Z"
   },
   {
    "duration": 12,
    "start_time": "2022-09-16T19:06:47.470Z"
   },
   {
    "duration": 26,
    "start_time": "2022-09-16T19:06:47.484Z"
   },
   {
    "duration": 14,
    "start_time": "2022-09-16T19:06:47.512Z"
   },
   {
    "duration": 286,
    "start_time": "2022-09-16T19:06:47.527Z"
   },
   {
    "duration": 8,
    "start_time": "2022-09-16T19:06:47.814Z"
   },
   {
    "duration": 23,
    "start_time": "2022-09-16T19:06:47.823Z"
   },
   {
    "duration": 27,
    "start_time": "2022-09-16T19:06:47.848Z"
   },
   {
    "duration": 6,
    "start_time": "2022-09-16T19:06:47.877Z"
   },
   {
    "duration": 21,
    "start_time": "2022-09-16T19:06:47.889Z"
   },
   {
    "duration": 10,
    "start_time": "2022-09-16T19:06:47.912Z"
   },
   {
    "duration": 23,
    "start_time": "2022-09-16T19:06:47.923Z"
   },
   {
    "duration": 1471,
    "start_time": "2022-09-16T19:07:39.431Z"
   },
   {
    "duration": 10,
    "start_time": "2022-09-16T19:07:47.252Z"
   },
   {
    "duration": 6,
    "start_time": "2022-09-16T19:09:02.986Z"
   },
   {
    "duration": 8,
    "start_time": "2022-09-16T19:09:22.929Z"
   },
   {
    "duration": 9,
    "start_time": "2022-09-16T19:09:35.792Z"
   },
   {
    "duration": 3,
    "start_time": "2022-09-16T19:10:42.070Z"
   },
   {
    "duration": 62,
    "start_time": "2022-09-16T19:10:50.631Z"
   },
   {
    "duration": 16,
    "start_time": "2022-09-16T19:12:15.532Z"
   },
   {
    "duration": 3,
    "start_time": "2022-09-16T19:19:44.610Z"
   },
   {
    "duration": 2,
    "start_time": "2022-09-16T19:32:48.897Z"
   },
   {
    "duration": 22,
    "start_time": "2022-09-16T19:33:54.122Z"
   },
   {
    "duration": 17,
    "start_time": "2022-09-16T19:34:41.246Z"
   },
   {
    "duration": 6,
    "start_time": "2022-09-16T19:35:39.776Z"
   },
   {
    "duration": 6,
    "start_time": "2022-09-16T19:36:00.119Z"
   },
   {
    "duration": 394,
    "start_time": "2022-09-16T19:36:07.498Z"
   },
   {
    "duration": 195,
    "start_time": "2022-09-16T19:36:07.894Z"
   },
   {
    "duration": 5,
    "start_time": "2022-09-16T19:36:08.091Z"
   },
   {
    "duration": 18,
    "start_time": "2022-09-16T19:36:08.098Z"
   },
   {
    "duration": 7,
    "start_time": "2022-09-16T19:36:08.118Z"
   },
   {
    "duration": 31,
    "start_time": "2022-09-16T19:36:08.126Z"
   },
   {
    "duration": 41,
    "start_time": "2022-09-16T19:36:08.158Z"
   },
   {
    "duration": 11,
    "start_time": "2022-09-16T19:36:08.201Z"
   },
   {
    "duration": 10,
    "start_time": "2022-09-16T19:36:08.214Z"
   },
   {
    "duration": 17,
    "start_time": "2022-09-16T19:36:08.226Z"
   },
   {
    "duration": 21,
    "start_time": "2022-09-16T19:36:08.245Z"
   },
   {
    "duration": 12,
    "start_time": "2022-09-16T19:36:08.268Z"
   },
   {
    "duration": 19,
    "start_time": "2022-09-16T19:36:08.282Z"
   },
   {
    "duration": 12,
    "start_time": "2022-09-16T19:36:08.303Z"
   },
   {
    "duration": 15,
    "start_time": "2022-09-16T19:36:08.316Z"
   },
   {
    "duration": 320,
    "start_time": "2022-09-16T19:36:08.333Z"
   },
   {
    "duration": 8,
    "start_time": "2022-09-16T19:36:08.654Z"
   },
   {
    "duration": 12,
    "start_time": "2022-09-16T19:36:08.663Z"
   },
   {
    "duration": 28,
    "start_time": "2022-09-16T19:36:08.677Z"
   },
   {
    "duration": 7,
    "start_time": "2022-09-16T19:36:08.706Z"
   },
   {
    "duration": 19,
    "start_time": "2022-09-16T19:36:08.714Z"
   },
   {
    "duration": 8,
    "start_time": "2022-09-16T19:36:08.735Z"
   },
   {
    "duration": 7,
    "start_time": "2022-09-16T19:36:08.746Z"
   },
   {
    "duration": 62,
    "start_time": "2022-09-16T19:36:08.755Z"
   },
   {
    "duration": 3,
    "start_time": "2022-09-16T19:36:08.819Z"
   },
   {
    "duration": 27,
    "start_time": "2022-09-16T19:36:08.824Z"
   },
   {
    "duration": 7,
    "start_time": "2022-09-16T19:36:08.852Z"
   },
   {
    "duration": 17,
    "start_time": "2022-09-16T19:36:59.666Z"
   },
   {
    "duration": 3,
    "start_time": "2022-09-16T20:19:14.817Z"
   },
   {
    "duration": 37,
    "start_time": "2022-09-16T20:19:16.844Z"
   },
   {
    "duration": 8,
    "start_time": "2022-09-16T20:19:18.833Z"
   },
   {
    "duration": 37,
    "start_time": "2022-09-16T20:19:33.893Z"
   },
   {
    "duration": 8,
    "start_time": "2022-09-16T20:19:35.963Z"
   },
   {
    "duration": 17,
    "start_time": "2022-09-16T20:19:38.109Z"
   },
   {
    "duration": 3,
    "start_time": "2022-09-16T20:20:40.310Z"
   },
   {
    "duration": 35,
    "start_time": "2022-09-16T20:20:42.317Z"
   },
   {
    "duration": 7,
    "start_time": "2022-09-16T20:20:44.232Z"
   },
   {
    "duration": 17,
    "start_time": "2022-09-16T20:20:46.924Z"
   },
   {
    "duration": 4,
    "start_time": "2022-09-16T20:21:42.433Z"
   },
   {
    "duration": 37,
    "start_time": "2022-09-16T20:21:44.699Z"
   },
   {
    "duration": 8,
    "start_time": "2022-09-16T20:21:46.935Z"
   },
   {
    "duration": 19,
    "start_time": "2022-09-16T20:21:49.847Z"
   },
   {
    "duration": 3,
    "start_time": "2022-09-16T20:27:00.616Z"
   },
   {
    "duration": 41,
    "start_time": "2022-09-16T20:27:02.912Z"
   },
   {
    "duration": 8,
    "start_time": "2022-09-16T20:27:04.969Z"
   },
   {
    "duration": 19,
    "start_time": "2022-09-16T20:27:07.474Z"
   },
   {
    "duration": 3,
    "start_time": "2022-09-16T20:29:53.047Z"
   },
   {
    "duration": 43,
    "start_time": "2022-09-16T20:29:54.894Z"
   },
   {
    "duration": 7,
    "start_time": "2022-09-16T20:29:57.315Z"
   },
   {
    "duration": 17,
    "start_time": "2022-09-16T20:29:59.810Z"
   },
   {
    "duration": 6,
    "start_time": "2022-09-16T20:33:44.832Z"
   },
   {
    "duration": 11,
    "start_time": "2022-09-16T20:35:36.866Z"
   },
   {
    "duration": 13,
    "start_time": "2022-09-16T20:36:12.826Z"
   },
   {
    "duration": 92,
    "start_time": "2022-09-16T20:38:17.211Z"
   },
   {
    "duration": 3,
    "start_time": "2022-09-16T20:38:22.368Z"
   },
   {
    "duration": 10,
    "start_time": "2022-09-16T20:38:24.175Z"
   },
   {
    "duration": 2,
    "start_time": "2022-09-16T20:39:02.055Z"
   },
   {
    "duration": 15,
    "start_time": "2022-09-16T20:39:07.993Z"
   },
   {
    "duration": 5,
    "start_time": "2022-09-16T20:41:15.725Z"
   },
   {
    "duration": 4,
    "start_time": "2022-09-16T20:41:24.989Z"
   },
   {
    "duration": 371,
    "start_time": "2022-09-16T20:42:17.733Z"
   },
   {
    "duration": 151,
    "start_time": "2022-09-16T20:42:18.106Z"
   },
   {
    "duration": 6,
    "start_time": "2022-09-16T20:42:18.258Z"
   },
   {
    "duration": 21,
    "start_time": "2022-09-16T20:42:18.266Z"
   },
   {
    "duration": 7,
    "start_time": "2022-09-16T20:42:18.289Z"
   },
   {
    "duration": 39,
    "start_time": "2022-09-16T20:42:18.297Z"
   },
   {
    "duration": 17,
    "start_time": "2022-09-16T20:42:18.338Z"
   },
   {
    "duration": 9,
    "start_time": "2022-09-16T20:42:18.357Z"
   },
   {
    "duration": 23,
    "start_time": "2022-09-16T20:42:18.367Z"
   },
   {
    "duration": 18,
    "start_time": "2022-09-16T20:42:18.392Z"
   },
   {
    "duration": 13,
    "start_time": "2022-09-16T20:42:18.412Z"
   },
   {
    "duration": 16,
    "start_time": "2022-09-16T20:42:18.426Z"
   },
   {
    "duration": 20,
    "start_time": "2022-09-16T20:42:18.445Z"
   },
   {
    "duration": 16,
    "start_time": "2022-09-16T20:42:18.466Z"
   },
   {
    "duration": 12,
    "start_time": "2022-09-16T20:42:18.484Z"
   },
   {
    "duration": 294,
    "start_time": "2022-09-16T20:42:18.498Z"
   },
   {
    "duration": 8,
    "start_time": "2022-09-16T20:42:18.793Z"
   },
   {
    "duration": 34,
    "start_time": "2022-09-16T20:42:18.802Z"
   },
   {
    "duration": 36,
    "start_time": "2022-09-16T20:42:18.837Z"
   },
   {
    "duration": 6,
    "start_time": "2022-09-16T20:42:18.874Z"
   },
   {
    "duration": 30,
    "start_time": "2022-09-16T20:42:18.882Z"
   },
   {
    "duration": 11,
    "start_time": "2022-09-16T20:42:18.914Z"
   },
   {
    "duration": 23,
    "start_time": "2022-09-16T20:42:18.927Z"
   },
   {
    "duration": 19,
    "start_time": "2022-09-16T20:42:18.952Z"
   },
   {
    "duration": 4,
    "start_time": "2022-09-16T20:42:18.973Z"
   },
   {
    "duration": 47,
    "start_time": "2022-09-16T20:42:18.979Z"
   },
   {
    "duration": 10,
    "start_time": "2022-09-16T20:42:19.028Z"
   },
   {
    "duration": 11,
    "start_time": "2022-09-16T20:42:19.041Z"
   },
   {
    "duration": 18,
    "start_time": "2022-09-16T20:42:19.053Z"
   },
   {
    "duration": 16,
    "start_time": "2022-09-16T20:44:14.852Z"
   },
   {
    "duration": 3,
    "start_time": "2022-09-16T20:50:16.296Z"
   },
   {
    "duration": 45,
    "start_time": "2022-09-16T20:50:18.964Z"
   },
   {
    "duration": 7,
    "start_time": "2022-09-16T20:50:21.010Z"
   },
   {
    "duration": 372,
    "start_time": "2022-09-16T20:50:28.438Z"
   },
   {
    "duration": 155,
    "start_time": "2022-09-16T20:50:28.812Z"
   },
   {
    "duration": 5,
    "start_time": "2022-09-16T20:50:28.969Z"
   },
   {
    "duration": 20,
    "start_time": "2022-09-16T20:50:28.976Z"
   },
   {
    "duration": 7,
    "start_time": "2022-09-16T20:50:28.998Z"
   },
   {
    "duration": 33,
    "start_time": "2022-09-16T20:50:29.007Z"
   },
   {
    "duration": 17,
    "start_time": "2022-09-16T20:50:29.041Z"
   },
   {
    "duration": 33,
    "start_time": "2022-09-16T20:50:29.060Z"
   },
   {
    "duration": 4,
    "start_time": "2022-09-16T20:50:29.095Z"
   },
   {
    "duration": 3,
    "start_time": "2022-09-16T20:50:29.103Z"
   },
   {
    "duration": 5,
    "start_time": "2022-09-16T20:50:29.107Z"
   },
   {
    "duration": 6,
    "start_time": "2022-09-16T20:50:29.114Z"
   },
   {
    "duration": 7,
    "start_time": "2022-09-16T20:50:29.121Z"
   },
   {
    "duration": 11,
    "start_time": "2022-09-16T20:50:29.129Z"
   },
   {
    "duration": 8,
    "start_time": "2022-09-16T20:50:29.141Z"
   },
   {
    "duration": 317,
    "start_time": "2022-09-16T20:50:29.151Z"
   },
   {
    "duration": 8,
    "start_time": "2022-09-16T20:50:29.470Z"
   },
   {
    "duration": 14,
    "start_time": "2022-09-16T20:50:29.480Z"
   },
   {
    "duration": 27,
    "start_time": "2022-09-16T20:50:29.496Z"
   },
   {
    "duration": 6,
    "start_time": "2022-09-16T20:50:29.525Z"
   },
   {
    "duration": 16,
    "start_time": "2022-09-16T20:50:29.533Z"
   },
   {
    "duration": 8,
    "start_time": "2022-09-16T20:50:29.551Z"
   },
   {
    "duration": 31,
    "start_time": "2022-09-16T20:50:29.560Z"
   },
   {
    "duration": 17,
    "start_time": "2022-09-16T20:50:29.593Z"
   },
   {
    "duration": 3,
    "start_time": "2022-09-16T20:50:29.611Z"
   },
   {
    "duration": 43,
    "start_time": "2022-09-16T20:50:29.616Z"
   },
   {
    "duration": 29,
    "start_time": "2022-09-16T20:50:29.661Z"
   },
   {
    "duration": 17,
    "start_time": "2022-09-16T20:50:29.693Z"
   },
   {
    "duration": 5,
    "start_time": "2022-09-16T20:50:29.712Z"
   },
   {
    "duration": 11,
    "start_time": "2022-09-16T20:50:29.718Z"
   },
   {
    "duration": 3,
    "start_time": "2022-09-16T20:51:34.226Z"
   },
   {
    "duration": 39,
    "start_time": "2022-09-16T20:51:36.047Z"
   },
   {
    "duration": 7,
    "start_time": "2022-09-16T20:51:38.048Z"
   },
   {
    "duration": 4,
    "start_time": "2022-09-16T20:52:50.041Z"
   },
   {
    "duration": 49,
    "start_time": "2022-09-16T20:52:52.057Z"
   },
   {
    "duration": 7,
    "start_time": "2022-09-16T20:52:54.161Z"
   },
   {
    "duration": 401,
    "start_time": "2022-09-16T20:54:16.588Z"
   },
   {
    "duration": 144,
    "start_time": "2022-09-16T20:54:16.991Z"
   },
   {
    "duration": 3,
    "start_time": "2022-09-16T20:54:17.137Z"
   },
   {
    "duration": 18,
    "start_time": "2022-09-16T20:54:17.142Z"
   },
   {
    "duration": 6,
    "start_time": "2022-09-16T20:54:17.162Z"
   },
   {
    "duration": 29,
    "start_time": "2022-09-16T20:54:17.169Z"
   },
   {
    "duration": 16,
    "start_time": "2022-09-16T20:54:17.200Z"
   },
   {
    "duration": 8,
    "start_time": "2022-09-16T20:54:17.218Z"
   },
   {
    "duration": 4,
    "start_time": "2022-09-16T20:54:17.228Z"
   },
   {
    "duration": 4,
    "start_time": "2022-09-16T20:54:17.234Z"
   },
   {
    "duration": 7,
    "start_time": "2022-09-16T20:54:17.240Z"
   },
   {
    "duration": 7,
    "start_time": "2022-09-16T20:54:17.248Z"
   },
   {
    "duration": 33,
    "start_time": "2022-09-16T20:54:17.257Z"
   },
   {
    "duration": 10,
    "start_time": "2022-09-16T20:54:17.291Z"
   },
   {
    "duration": 8,
    "start_time": "2022-09-16T20:54:17.302Z"
   },
   {
    "duration": 294,
    "start_time": "2022-09-16T20:54:17.311Z"
   },
   {
    "duration": 6,
    "start_time": "2022-09-16T20:54:17.607Z"
   },
   {
    "duration": 12,
    "start_time": "2022-09-16T20:54:17.615Z"
   },
   {
    "duration": 22,
    "start_time": "2022-09-16T20:54:17.628Z"
   },
   {
    "duration": 6,
    "start_time": "2022-09-16T20:54:17.651Z"
   },
   {
    "duration": 40,
    "start_time": "2022-09-16T20:54:17.659Z"
   },
   {
    "duration": 8,
    "start_time": "2022-09-16T20:54:17.700Z"
   },
   {
    "duration": 6,
    "start_time": "2022-09-16T20:54:17.709Z"
   },
   {
    "duration": 17,
    "start_time": "2022-09-16T20:54:17.716Z"
   },
   {
    "duration": 3,
    "start_time": "2022-09-16T20:54:17.734Z"
   },
   {
    "duration": 55,
    "start_time": "2022-09-16T20:54:17.739Z"
   },
   {
    "duration": 9,
    "start_time": "2022-09-16T20:54:17.796Z"
   },
   {
    "duration": 15,
    "start_time": "2022-09-16T20:54:17.807Z"
   },
   {
    "duration": 4,
    "start_time": "2022-09-16T20:54:17.824Z"
   },
   {
    "duration": 11,
    "start_time": "2022-09-16T20:54:17.829Z"
   },
   {
    "duration": 3,
    "start_time": "2022-09-16T20:54:48.742Z"
   },
   {
    "duration": 46,
    "start_time": "2022-09-16T20:54:51.873Z"
   },
   {
    "duration": 7,
    "start_time": "2022-09-16T20:54:53.773Z"
   },
   {
    "duration": 383,
    "start_time": "2022-09-16T20:55:01.438Z"
   },
   {
    "duration": 177,
    "start_time": "2022-09-16T20:55:01.823Z"
   },
   {
    "duration": 5,
    "start_time": "2022-09-16T20:55:02.002Z"
   },
   {
    "duration": 34,
    "start_time": "2022-09-16T20:55:02.009Z"
   },
   {
    "duration": 6,
    "start_time": "2022-09-16T20:55:02.046Z"
   },
   {
    "duration": 45,
    "start_time": "2022-09-16T20:55:02.054Z"
   },
   {
    "duration": 17,
    "start_time": "2022-09-16T20:55:02.101Z"
   },
   {
    "duration": 10,
    "start_time": "2022-09-16T20:55:02.119Z"
   },
   {
    "duration": 5,
    "start_time": "2022-09-16T20:55:02.131Z"
   },
   {
    "duration": 5,
    "start_time": "2022-09-16T20:55:02.138Z"
   },
   {
    "duration": 7,
    "start_time": "2022-09-16T20:55:02.144Z"
   },
   {
    "duration": 36,
    "start_time": "2022-09-16T20:55:02.153Z"
   },
   {
    "duration": 6,
    "start_time": "2022-09-16T20:55:02.191Z"
   },
   {
    "duration": 12,
    "start_time": "2022-09-16T20:55:02.200Z"
   },
   {
    "duration": 9,
    "start_time": "2022-09-16T20:55:02.214Z"
   },
   {
    "duration": 403,
    "start_time": "2022-09-16T20:55:02.225Z"
   },
   {
    "duration": 7,
    "start_time": "2022-09-16T20:55:02.630Z"
   },
   {
    "duration": 12,
    "start_time": "2022-09-16T20:55:02.639Z"
   },
   {
    "duration": 36,
    "start_time": "2022-09-16T20:55:02.653Z"
   },
   {
    "duration": 6,
    "start_time": "2022-09-16T20:55:02.691Z"
   },
   {
    "duration": 18,
    "start_time": "2022-09-16T20:55:02.698Z"
   },
   {
    "duration": 8,
    "start_time": "2022-09-16T20:55:02.718Z"
   },
   {
    "duration": 12,
    "start_time": "2022-09-16T20:55:02.727Z"
   },
   {
    "duration": 32,
    "start_time": "2022-09-16T20:55:02.740Z"
   },
   {
    "duration": 15,
    "start_time": "2022-09-16T20:55:02.774Z"
   },
   {
    "duration": 45,
    "start_time": "2022-09-16T20:55:02.790Z"
   },
   {
    "duration": 6,
    "start_time": "2022-09-16T20:55:02.837Z"
   },
   {
    "duration": 29,
    "start_time": "2022-09-16T20:55:02.845Z"
   },
   {
    "duration": 15,
    "start_time": "2022-09-16T20:55:02.876Z"
   },
   {
    "duration": 11,
    "start_time": "2022-09-16T20:55:02.892Z"
   },
   {
    "duration": 3,
    "start_time": "2022-09-16T20:56:25.452Z"
   },
   {
    "duration": 65,
    "start_time": "2022-09-16T20:56:27.914Z"
   },
   {
    "duration": 6,
    "start_time": "2022-09-16T20:56:29.708Z"
   },
   {
    "duration": 353,
    "start_time": "2022-09-16T20:56:39.443Z"
   },
   {
    "duration": 146,
    "start_time": "2022-09-16T20:56:39.798Z"
   },
   {
    "duration": 5,
    "start_time": "2022-09-16T20:56:39.946Z"
   },
   {
    "duration": 19,
    "start_time": "2022-09-16T20:56:39.952Z"
   },
   {
    "duration": 8,
    "start_time": "2022-09-16T20:56:39.973Z"
   },
   {
    "duration": 32,
    "start_time": "2022-09-16T20:56:39.983Z"
   },
   {
    "duration": 18,
    "start_time": "2022-09-16T20:56:40.017Z"
   },
   {
    "duration": 10,
    "start_time": "2022-09-16T20:56:40.036Z"
   },
   {
    "duration": 6,
    "start_time": "2022-09-16T20:56:40.048Z"
   },
   {
    "duration": 32,
    "start_time": "2022-09-16T20:56:40.057Z"
   },
   {
    "duration": 5,
    "start_time": "2022-09-16T20:56:40.091Z"
   },
   {
    "duration": 6,
    "start_time": "2022-09-16T20:56:40.098Z"
   },
   {
    "duration": 8,
    "start_time": "2022-09-16T20:56:40.106Z"
   },
   {
    "duration": 11,
    "start_time": "2022-09-16T20:56:40.117Z"
   },
   {
    "duration": 10,
    "start_time": "2022-09-16T20:56:40.130Z"
   },
   {
    "duration": 353,
    "start_time": "2022-09-16T20:56:40.142Z"
   },
   {
    "duration": 11,
    "start_time": "2022-09-16T20:56:40.497Z"
   },
   {
    "duration": 19,
    "start_time": "2022-09-16T20:56:40.509Z"
   },
   {
    "duration": 28,
    "start_time": "2022-09-16T20:56:40.530Z"
   },
   {
    "duration": 8,
    "start_time": "2022-09-16T20:56:40.559Z"
   },
   {
    "duration": 19,
    "start_time": "2022-09-16T20:56:40.589Z"
   },
   {
    "duration": 6,
    "start_time": "2022-09-16T20:56:40.609Z"
   },
   {
    "duration": 12,
    "start_time": "2022-09-16T20:56:40.617Z"
   },
   {
    "duration": 17,
    "start_time": "2022-09-16T20:56:40.631Z"
   },
   {
    "duration": 4,
    "start_time": "2022-09-16T20:56:40.650Z"
   },
   {
    "duration": 99,
    "start_time": "2022-09-16T20:56:40.656Z"
   },
   {
    "duration": 6,
    "start_time": "2022-09-16T20:56:40.757Z"
   },
   {
    "duration": 32,
    "start_time": "2022-09-16T20:56:40.765Z"
   },
   {
    "duration": 6,
    "start_time": "2022-09-16T20:56:40.798Z"
   },
   {
    "duration": 18,
    "start_time": "2022-09-16T20:56:40.805Z"
   },
   {
    "duration": 362,
    "start_time": "2022-09-16T20:57:25.834Z"
   },
   {
    "duration": 143,
    "start_time": "2022-09-16T20:57:26.198Z"
   },
   {
    "duration": 5,
    "start_time": "2022-09-16T20:57:26.343Z"
   },
   {
    "duration": 15,
    "start_time": "2022-09-16T20:57:26.351Z"
   },
   {
    "duration": 6,
    "start_time": "2022-09-16T20:57:26.368Z"
   },
   {
    "duration": 27,
    "start_time": "2022-09-16T20:57:26.376Z"
   },
   {
    "duration": 17,
    "start_time": "2022-09-16T20:57:26.404Z"
   },
   {
    "duration": 9,
    "start_time": "2022-09-16T20:57:26.422Z"
   },
   {
    "duration": 4,
    "start_time": "2022-09-16T20:57:26.432Z"
   },
   {
    "duration": 5,
    "start_time": "2022-09-16T20:57:26.438Z"
   },
   {
    "duration": 6,
    "start_time": "2022-09-16T20:57:26.444Z"
   },
   {
    "duration": 38,
    "start_time": "2022-09-16T20:57:26.451Z"
   },
   {
    "duration": 6,
    "start_time": "2022-09-16T20:57:26.491Z"
   },
   {
    "duration": 14,
    "start_time": "2022-09-16T20:57:26.498Z"
   },
   {
    "duration": 9,
    "start_time": "2022-09-16T20:57:26.513Z"
   },
   {
    "duration": 292,
    "start_time": "2022-09-16T20:57:26.523Z"
   },
   {
    "duration": 7,
    "start_time": "2022-09-16T20:57:26.817Z"
   },
   {
    "duration": 12,
    "start_time": "2022-09-16T20:57:26.825Z"
   },
   {
    "duration": 28,
    "start_time": "2022-09-16T20:57:26.839Z"
   },
   {
    "duration": 23,
    "start_time": "2022-09-16T20:57:26.868Z"
   },
   {
    "duration": 17,
    "start_time": "2022-09-16T20:57:26.893Z"
   },
   {
    "duration": 7,
    "start_time": "2022-09-16T20:57:26.911Z"
   },
   {
    "duration": 7,
    "start_time": "2022-09-16T20:57:26.919Z"
   },
   {
    "duration": 18,
    "start_time": "2022-09-16T20:57:26.928Z"
   },
   {
    "duration": 3,
    "start_time": "2022-09-16T20:57:26.947Z"
   },
   {
    "duration": 90,
    "start_time": "2022-09-16T20:57:26.952Z"
   },
   {
    "duration": 5,
    "start_time": "2022-09-16T20:57:27.044Z"
   },
   {
    "duration": 16,
    "start_time": "2022-09-16T20:57:27.052Z"
   },
   {
    "duration": 19,
    "start_time": "2022-09-16T20:57:27.070Z"
   },
   {
    "duration": 7,
    "start_time": "2022-09-16T20:57:27.091Z"
   },
   {
    "duration": 395,
    "start_time": "2022-09-16T20:59:14.639Z"
   },
   {
    "duration": 154,
    "start_time": "2022-09-16T20:59:15.036Z"
   },
   {
    "duration": 5,
    "start_time": "2022-09-16T20:59:15.191Z"
   },
   {
    "duration": 21,
    "start_time": "2022-09-16T20:59:15.198Z"
   },
   {
    "duration": 7,
    "start_time": "2022-09-16T20:59:15.221Z"
   },
   {
    "duration": 61,
    "start_time": "2022-09-16T20:59:15.229Z"
   },
   {
    "duration": 18,
    "start_time": "2022-09-16T20:59:15.292Z"
   },
   {
    "duration": 16,
    "start_time": "2022-09-16T20:59:15.313Z"
   },
   {
    "duration": 9,
    "start_time": "2022-09-16T20:59:15.332Z"
   },
   {
    "duration": 6,
    "start_time": "2022-09-16T20:59:15.343Z"
   },
   {
    "duration": 13,
    "start_time": "2022-09-16T20:59:15.351Z"
   },
   {
    "duration": 27,
    "start_time": "2022-09-16T20:59:15.366Z"
   },
   {
    "duration": 10,
    "start_time": "2022-09-16T20:59:15.395Z"
   },
   {
    "duration": 14,
    "start_time": "2022-09-16T20:59:15.411Z"
   },
   {
    "duration": 13,
    "start_time": "2022-09-16T20:59:15.427Z"
   },
   {
    "duration": 336,
    "start_time": "2022-09-16T20:59:15.442Z"
   },
   {
    "duration": 11,
    "start_time": "2022-09-16T20:59:15.779Z"
   },
   {
    "duration": 19,
    "start_time": "2022-09-16T20:59:15.792Z"
   },
   {
    "duration": 21,
    "start_time": "2022-09-16T20:59:15.813Z"
   },
   {
    "duration": 6,
    "start_time": "2022-09-16T20:59:15.835Z"
   },
   {
    "duration": 46,
    "start_time": "2022-09-16T20:59:15.843Z"
   },
   {
    "duration": 6,
    "start_time": "2022-09-16T20:59:15.891Z"
   },
   {
    "duration": 7,
    "start_time": "2022-09-16T20:59:15.898Z"
   },
   {
    "duration": 17,
    "start_time": "2022-09-16T20:59:15.907Z"
   },
   {
    "duration": 3,
    "start_time": "2022-09-16T20:59:15.925Z"
   },
   {
    "duration": 76,
    "start_time": "2022-09-16T20:59:15.929Z"
   },
   {
    "duration": 6,
    "start_time": "2022-09-16T20:59:16.007Z"
   },
   {
    "duration": 18,
    "start_time": "2022-09-16T20:59:16.015Z"
   },
   {
    "duration": 5,
    "start_time": "2022-09-16T20:59:16.035Z"
   },
   {
    "duration": 15,
    "start_time": "2022-09-16T20:59:16.042Z"
   },
   {
    "duration": 3,
    "start_time": "2022-09-16T21:00:53.696Z"
   },
   {
    "duration": 42,
    "start_time": "2022-09-16T21:00:55.661Z"
   },
   {
    "duration": 7,
    "start_time": "2022-09-16T21:00:57.334Z"
   },
   {
    "duration": 440,
    "start_time": "2022-09-16T21:01:02.561Z"
   },
   {
    "duration": 147,
    "start_time": "2022-09-16T21:01:03.002Z"
   },
   {
    "duration": 5,
    "start_time": "2022-09-16T21:01:03.150Z"
   },
   {
    "duration": 18,
    "start_time": "2022-09-16T21:01:03.157Z"
   },
   {
    "duration": 6,
    "start_time": "2022-09-16T21:01:03.177Z"
   },
   {
    "duration": 31,
    "start_time": "2022-09-16T21:01:03.185Z"
   },
   {
    "duration": 16,
    "start_time": "2022-09-16T21:01:03.217Z"
   },
   {
    "duration": 9,
    "start_time": "2022-09-16T21:01:03.234Z"
   },
   {
    "duration": 7,
    "start_time": "2022-09-16T21:01:03.244Z"
   },
   {
    "duration": 4,
    "start_time": "2022-09-16T21:01:03.253Z"
   },
   {
    "duration": 6,
    "start_time": "2022-09-16T21:01:03.258Z"
   },
   {
    "duration": 26,
    "start_time": "2022-09-16T21:01:03.265Z"
   },
   {
    "duration": 9,
    "start_time": "2022-09-16T21:01:03.292Z"
   },
   {
    "duration": 11,
    "start_time": "2022-09-16T21:01:03.302Z"
   },
   {
    "duration": 8,
    "start_time": "2022-09-16T21:01:03.314Z"
   },
   {
    "duration": 312,
    "start_time": "2022-09-16T21:01:03.324Z"
   },
   {
    "duration": 7,
    "start_time": "2022-09-16T21:01:03.638Z"
   },
   {
    "duration": 13,
    "start_time": "2022-09-16T21:01:03.646Z"
   },
   {
    "duration": 29,
    "start_time": "2022-09-16T21:01:03.661Z"
   },
   {
    "duration": 6,
    "start_time": "2022-09-16T21:01:03.691Z"
   },
   {
    "duration": 22,
    "start_time": "2022-09-16T21:01:03.698Z"
   },
   {
    "duration": 5,
    "start_time": "2022-09-16T21:01:03.722Z"
   },
   {
    "duration": 7,
    "start_time": "2022-09-16T21:01:03.729Z"
   },
   {
    "duration": 17,
    "start_time": "2022-09-16T21:01:03.737Z"
   },
   {
    "duration": 3,
    "start_time": "2022-09-16T21:01:03.755Z"
   },
   {
    "duration": 41,
    "start_time": "2022-09-16T21:01:03.789Z"
   },
   {
    "duration": 6,
    "start_time": "2022-09-16T21:01:03.831Z"
   },
   {
    "duration": 19,
    "start_time": "2022-09-16T21:01:03.840Z"
   },
   {
    "duration": 5,
    "start_time": "2022-09-16T21:01:03.860Z"
   },
   {
    "duration": 8,
    "start_time": "2022-09-16T21:01:03.889Z"
   },
   {
    "duration": 431,
    "start_time": "2022-09-16T21:02:04.306Z"
   },
   {
    "duration": 149,
    "start_time": "2022-09-16T21:02:04.739Z"
   },
   {
    "duration": 5,
    "start_time": "2022-09-16T21:02:04.889Z"
   },
   {
    "duration": 21,
    "start_time": "2022-09-16T21:02:04.896Z"
   },
   {
    "duration": 9,
    "start_time": "2022-09-16T21:02:04.918Z"
   },
   {
    "duration": 32,
    "start_time": "2022-09-16T21:02:04.929Z"
   },
   {
    "duration": 46,
    "start_time": "2022-09-16T21:02:04.964Z"
   },
   {
    "duration": 10,
    "start_time": "2022-09-16T21:02:05.012Z"
   },
   {
    "duration": 7,
    "start_time": "2022-09-16T21:02:05.023Z"
   },
   {
    "duration": 6,
    "start_time": "2022-09-16T21:02:05.033Z"
   },
   {
    "duration": 6,
    "start_time": "2022-09-16T21:02:05.040Z"
   },
   {
    "duration": 17,
    "start_time": "2022-09-16T21:02:05.048Z"
   },
   {
    "duration": 30,
    "start_time": "2022-09-16T21:02:05.067Z"
   },
   {
    "duration": 20,
    "start_time": "2022-09-16T21:02:05.100Z"
   },
   {
    "duration": 10,
    "start_time": "2022-09-16T21:02:05.122Z"
   },
   {
    "duration": 315,
    "start_time": "2022-09-16T21:02:05.134Z"
   },
   {
    "duration": 7,
    "start_time": "2022-09-16T21:02:05.451Z"
   },
   {
    "duration": 14,
    "start_time": "2022-09-16T21:02:05.460Z"
   },
   {
    "duration": 36,
    "start_time": "2022-09-16T21:02:05.476Z"
   },
   {
    "duration": 8,
    "start_time": "2022-09-16T21:02:05.513Z"
   },
   {
    "duration": 45,
    "start_time": "2022-09-16T21:02:05.523Z"
   },
   {
    "duration": 18,
    "start_time": "2022-09-16T21:02:05.571Z"
   },
   {
    "duration": 7,
    "start_time": "2022-09-16T21:02:05.590Z"
   },
   {
    "duration": 20,
    "start_time": "2022-09-16T21:02:05.598Z"
   },
   {
    "duration": 4,
    "start_time": "2022-09-16T21:02:05.619Z"
   },
   {
    "duration": 66,
    "start_time": "2022-09-16T21:02:05.624Z"
   },
   {
    "duration": 6,
    "start_time": "2022-09-16T21:02:05.692Z"
   },
   {
    "duration": 19,
    "start_time": "2022-09-16T21:02:05.701Z"
   },
   {
    "duration": 5,
    "start_time": "2022-09-16T21:02:05.721Z"
   },
   {
    "duration": 13,
    "start_time": "2022-09-16T21:02:05.728Z"
   },
   {
    "duration": 395,
    "start_time": "2022-09-18T08:27:45.230Z"
   },
   {
    "duration": 286,
    "start_time": "2022-09-18T08:27:47.357Z"
   },
   {
    "duration": 5,
    "start_time": "2022-09-18T08:27:50.957Z"
   },
   {
    "duration": 20,
    "start_time": "2022-09-18T08:27:54.403Z"
   },
   {
    "duration": 6,
    "start_time": "2022-09-18T08:27:57.002Z"
   },
   {
    "duration": 35,
    "start_time": "2022-09-18T08:27:58.909Z"
   },
   {
    "duration": 21,
    "start_time": "2022-09-18T08:28:01.668Z"
   },
   {
    "duration": 9,
    "start_time": "2022-09-18T08:28:04.052Z"
   },
   {
    "duration": 5,
    "start_time": "2022-09-18T08:28:06.522Z"
   },
   {
    "duration": 4,
    "start_time": "2022-09-18T08:28:08.859Z"
   },
   {
    "duration": 4,
    "start_time": "2022-09-18T08:28:11.106Z"
   },
   {
    "duration": 6,
    "start_time": "2022-09-18T08:28:13.397Z"
   },
   {
    "duration": 8,
    "start_time": "2022-09-18T08:28:15.077Z"
   },
   {
    "duration": 10,
    "start_time": "2022-09-18T08:28:17.086Z"
   },
   {
    "duration": 10,
    "start_time": "2022-09-18T08:28:20.382Z"
   },
   {
    "duration": 453,
    "start_time": "2022-09-18T08:28:22.713Z"
   },
   {
    "duration": 9,
    "start_time": "2022-09-18T08:28:28.541Z"
   },
   {
    "duration": 14,
    "start_time": "2022-09-18T08:30:11.231Z"
   },
   {
    "duration": 23,
    "start_time": "2022-09-18T08:30:13.358Z"
   },
   {
    "duration": 7,
    "start_time": "2022-09-18T08:30:58.562Z"
   },
   {
    "duration": 19,
    "start_time": "2022-09-18T08:31:01.519Z"
   },
   {
    "duration": 6,
    "start_time": "2022-09-18T08:31:07.423Z"
   },
   {
    "duration": 8,
    "start_time": "2022-09-18T08:31:27.182Z"
   },
   {
    "duration": 20,
    "start_time": "2022-09-18T08:31:29.803Z"
   },
   {
    "duration": 3,
    "start_time": "2022-09-18T08:32:52.816Z"
   },
   {
    "duration": 43,
    "start_time": "2022-09-18T08:32:55.953Z"
   },
   {
    "duration": 8,
    "start_time": "2022-09-18T08:32:58.232Z"
   },
   {
    "duration": 18,
    "start_time": "2022-09-18T08:33:04.038Z"
   },
   {
    "duration": 5,
    "start_time": "2022-09-18T08:34:14.053Z"
   },
   {
    "duration": 8,
    "start_time": "2022-09-18T08:34:16.785Z"
   },
   {
    "duration": 407,
    "start_time": "2022-09-18T08:44:21.318Z"
   },
   {
    "duration": 145,
    "start_time": "2022-09-18T08:44:21.727Z"
   },
   {
    "duration": 5,
    "start_time": "2022-09-18T08:44:21.873Z"
   },
   {
    "duration": 23,
    "start_time": "2022-09-18T08:44:21.880Z"
   },
   {
    "duration": 7,
    "start_time": "2022-09-18T08:44:21.904Z"
   },
   {
    "duration": 36,
    "start_time": "2022-09-18T08:44:21.912Z"
   },
   {
    "duration": 15,
    "start_time": "2022-09-18T08:44:21.950Z"
   },
   {
    "duration": 9,
    "start_time": "2022-09-18T08:44:21.966Z"
   },
   {
    "duration": 6,
    "start_time": "2022-09-18T08:44:21.977Z"
   },
   {
    "duration": 4,
    "start_time": "2022-09-18T08:44:21.986Z"
   },
   {
    "duration": 5,
    "start_time": "2022-09-18T08:44:21.992Z"
   },
   {
    "duration": 26,
    "start_time": "2022-09-18T08:44:21.998Z"
   },
   {
    "duration": 8,
    "start_time": "2022-09-18T08:44:22.026Z"
   },
   {
    "duration": 11,
    "start_time": "2022-09-18T08:44:22.036Z"
   },
   {
    "duration": 10,
    "start_time": "2022-09-18T08:44:22.048Z"
   },
   {
    "duration": 321,
    "start_time": "2022-09-18T08:44:22.059Z"
   },
   {
    "duration": 7,
    "start_time": "2022-09-18T08:44:22.382Z"
   },
   {
    "duration": 16,
    "start_time": "2022-09-18T08:44:22.391Z"
   },
   {
    "duration": 34,
    "start_time": "2022-09-18T08:44:22.409Z"
   },
   {
    "duration": 7,
    "start_time": "2022-09-18T08:44:22.445Z"
   },
   {
    "duration": 18,
    "start_time": "2022-09-18T08:44:22.454Z"
   },
   {
    "duration": 6,
    "start_time": "2022-09-18T08:44:22.475Z"
   },
   {
    "duration": 38,
    "start_time": "2022-09-18T08:44:22.483Z"
   },
   {
    "duration": 20,
    "start_time": "2022-09-18T08:44:22.523Z"
   },
   {
    "duration": 4,
    "start_time": "2022-09-18T08:44:22.545Z"
   },
   {
    "duration": 80,
    "start_time": "2022-09-18T08:44:22.551Z"
   },
   {
    "duration": 9,
    "start_time": "2022-09-18T08:44:22.633Z"
   },
   {
    "duration": 20,
    "start_time": "2022-09-18T08:44:22.646Z"
   },
   {
    "duration": 6,
    "start_time": "2022-09-18T08:44:22.667Z"
   },
   {
    "duration": 17,
    "start_time": "2022-09-18T08:44:22.675Z"
   },
   {
    "duration": 418,
    "start_time": "2022-09-18T08:45:27.794Z"
   },
   {
    "duration": 144,
    "start_time": "2022-09-18T08:45:28.214Z"
   },
   {
    "duration": 5,
    "start_time": "2022-09-18T08:45:28.360Z"
   },
   {
    "duration": 23,
    "start_time": "2022-09-18T08:45:28.367Z"
   },
   {
    "duration": 6,
    "start_time": "2022-09-18T08:45:28.392Z"
   },
   {
    "duration": 38,
    "start_time": "2022-09-18T08:45:28.400Z"
   },
   {
    "duration": 21,
    "start_time": "2022-09-18T08:45:28.440Z"
   },
   {
    "duration": 9,
    "start_time": "2022-09-18T08:45:28.463Z"
   },
   {
    "duration": 7,
    "start_time": "2022-09-18T08:45:28.474Z"
   },
   {
    "duration": 8,
    "start_time": "2022-09-18T08:45:28.484Z"
   },
   {
    "duration": 28,
    "start_time": "2022-09-18T08:45:28.494Z"
   },
   {
    "duration": 6,
    "start_time": "2022-09-18T08:45:28.524Z"
   },
   {
    "duration": 8,
    "start_time": "2022-09-18T08:45:28.532Z"
   },
   {
    "duration": 17,
    "start_time": "2022-09-18T08:45:28.542Z"
   },
   {
    "duration": 8,
    "start_time": "2022-09-18T08:45:28.560Z"
   },
   {
    "duration": 301,
    "start_time": "2022-09-18T08:45:28.570Z"
   },
   {
    "duration": 9,
    "start_time": "2022-09-18T08:45:28.874Z"
   },
   {
    "duration": 31,
    "start_time": "2022-09-18T08:45:28.885Z"
   },
   {
    "duration": 31,
    "start_time": "2022-09-18T08:45:28.918Z"
   },
   {
    "duration": 9,
    "start_time": "2022-09-18T08:45:28.951Z"
   },
   {
    "duration": 34,
    "start_time": "2022-09-18T08:45:28.962Z"
   },
   {
    "duration": 13,
    "start_time": "2022-09-18T08:45:28.998Z"
   },
   {
    "duration": 9,
    "start_time": "2022-09-18T08:45:29.021Z"
   },
   {
    "duration": 34,
    "start_time": "2022-09-18T08:45:29.032Z"
   },
   {
    "duration": 4,
    "start_time": "2022-09-18T08:45:29.068Z"
   },
   {
    "duration": 89,
    "start_time": "2022-09-18T08:45:29.074Z"
   },
   {
    "duration": 8,
    "start_time": "2022-09-18T08:45:29.165Z"
   },
   {
    "duration": 24,
    "start_time": "2022-09-18T08:45:29.177Z"
   },
   {
    "duration": 6,
    "start_time": "2022-09-18T08:45:29.220Z"
   },
   {
    "duration": 14,
    "start_time": "2022-09-18T08:45:29.228Z"
   },
   {
    "duration": 51,
    "start_time": "2022-09-18T08:47:23.879Z"
   },
   {
    "duration": 3,
    "start_time": "2022-09-18T08:56:07.170Z"
   },
   {
    "duration": 74,
    "start_time": "2022-09-18T08:58:03.331Z"
   },
   {
    "duration": 3,
    "start_time": "2022-09-18T08:59:27.190Z"
   },
   {
    "duration": 5,
    "start_time": "2022-09-18T08:59:51.764Z"
   },
   {
    "duration": 3,
    "start_time": "2022-09-18T09:00:02.630Z"
   },
   {
    "duration": 2,
    "start_time": "2022-09-18T09:00:51.670Z"
   },
   {
    "duration": 853,
    "start_time": "2022-09-18T09:02:42.143Z"
   },
   {
    "duration": 7,
    "start_time": "2022-09-18T09:03:05.684Z"
   },
   {
    "duration": 18,
    "start_time": "2022-09-18T09:03:22.964Z"
   },
   {
    "duration": 402,
    "start_time": "2022-09-18T09:03:45.839Z"
   },
   {
    "duration": 380,
    "start_time": "2022-09-18T09:03:57.932Z"
   },
   {
    "duration": 7,
    "start_time": "2022-09-18T09:04:24.876Z"
   },
   {
    "duration": 29,
    "start_time": "2022-09-18T09:05:26.941Z"
   },
   {
    "duration": 367,
    "start_time": "2022-09-18T09:06:21.071Z"
   },
   {
    "duration": 147,
    "start_time": "2022-09-18T09:06:21.440Z"
   },
   {
    "duration": 5,
    "start_time": "2022-09-18T09:06:21.589Z"
   },
   {
    "duration": 20,
    "start_time": "2022-09-18T09:06:21.596Z"
   },
   {
    "duration": 17,
    "start_time": "2022-09-18T09:06:21.618Z"
   },
   {
    "duration": 31,
    "start_time": "2022-09-18T09:06:21.637Z"
   },
   {
    "duration": 17,
    "start_time": "2022-09-18T09:06:21.670Z"
   },
   {
    "duration": 12,
    "start_time": "2022-09-18T09:06:21.688Z"
   },
   {
    "duration": 23,
    "start_time": "2022-09-18T09:06:21.702Z"
   },
   {
    "duration": 6,
    "start_time": "2022-09-18T09:06:21.728Z"
   },
   {
    "duration": 8,
    "start_time": "2022-09-18T09:06:21.736Z"
   },
   {
    "duration": 10,
    "start_time": "2022-09-18T09:06:21.745Z"
   },
   {
    "duration": 13,
    "start_time": "2022-09-18T09:06:21.756Z"
   },
   {
    "duration": 16,
    "start_time": "2022-09-18T09:06:21.770Z"
   },
   {
    "duration": 8,
    "start_time": "2022-09-18T09:06:21.788Z"
   },
   {
    "duration": 308,
    "start_time": "2022-09-18T09:06:21.797Z"
   },
   {
    "duration": 7,
    "start_time": "2022-09-18T09:06:22.107Z"
   },
   {
    "duration": 30,
    "start_time": "2022-09-18T09:06:22.116Z"
   },
   {
    "duration": 23,
    "start_time": "2022-09-18T09:06:22.148Z"
   },
   {
    "duration": 7,
    "start_time": "2022-09-18T09:06:22.173Z"
   },
   {
    "duration": 21,
    "start_time": "2022-09-18T09:06:22.181Z"
   },
   {
    "duration": 28,
    "start_time": "2022-09-18T09:06:22.204Z"
   },
   {
    "duration": 8,
    "start_time": "2022-09-18T09:06:22.234Z"
   },
   {
    "duration": 18,
    "start_time": "2022-09-18T09:06:22.244Z"
   },
   {
    "duration": 5,
    "start_time": "2022-09-18T09:06:22.264Z"
   },
   {
    "duration": 82,
    "start_time": "2022-09-18T09:06:22.270Z"
   },
   {
    "duration": 6,
    "start_time": "2022-09-18T09:06:22.354Z"
   },
   {
    "duration": 21,
    "start_time": "2022-09-18T09:06:22.363Z"
   },
   {
    "duration": 4,
    "start_time": "2022-09-18T09:06:22.386Z"
   },
   {
    "duration": 33,
    "start_time": "2022-09-18T09:06:22.392Z"
   },
   {
    "duration": 17,
    "start_time": "2022-09-18T09:06:22.426Z"
   },
   {
    "duration": 7,
    "start_time": "2022-09-18T09:06:22.444Z"
   },
   {
    "duration": 8,
    "start_time": "2022-09-18T09:06:22.453Z"
   },
   {
    "duration": 16,
    "start_time": "2022-09-18T09:06:22.462Z"
   },
   {
    "duration": 17,
    "start_time": "2022-09-18T09:06:43.119Z"
   },
   {
    "duration": 42,
    "start_time": "2022-09-18T09:07:27.869Z"
   },
   {
    "duration": 3,
    "start_time": "2022-09-18T09:10:44.731Z"
   },
   {
    "duration": 348,
    "start_time": "2022-09-18T09:12:48.330Z"
   },
   {
    "duration": 3,
    "start_time": "2022-09-18T09:13:37.757Z"
   },
   {
    "duration": 11,
    "start_time": "2022-09-18T09:13:39.874Z"
   },
   {
    "duration": 3,
    "start_time": "2022-09-18T09:13:53.470Z"
   },
   {
    "duration": 4,
    "start_time": "2022-09-18T09:13:55.773Z"
   },
   {
    "duration": 127,
    "start_time": "2022-09-18T09:13:58.327Z"
   },
   {
    "duration": 22,
    "start_time": "2022-09-18T09:14:07.286Z"
   },
   {
    "duration": 17,
    "start_time": "2022-09-18T09:17:26.118Z"
   },
   {
    "duration": 28,
    "start_time": "2022-09-18T09:17:44.033Z"
   },
   {
    "duration": 27,
    "start_time": "2022-09-18T09:18:12.859Z"
   },
   {
    "duration": 27,
    "start_time": "2022-09-18T09:18:23.677Z"
   },
   {
    "duration": 32,
    "start_time": "2022-09-18T09:18:30.063Z"
   },
   {
    "duration": 4,
    "start_time": "2022-09-18T09:19:46.972Z"
   },
   {
    "duration": 6,
    "start_time": "2022-09-18T09:20:01.412Z"
   },
   {
    "duration": 487,
    "start_time": "2022-09-18T09:20:12.723Z"
   },
   {
    "duration": 168,
    "start_time": "2022-09-18T09:20:13.212Z"
   },
   {
    "duration": 5,
    "start_time": "2022-09-18T09:20:13.382Z"
   },
   {
    "duration": 53,
    "start_time": "2022-09-18T09:20:13.389Z"
   },
   {
    "duration": 10,
    "start_time": "2022-09-18T09:20:13.448Z"
   },
   {
    "duration": 48,
    "start_time": "2022-09-18T09:20:13.460Z"
   },
   {
    "duration": 25,
    "start_time": "2022-09-18T09:20:13.510Z"
   },
   {
    "duration": 32,
    "start_time": "2022-09-18T09:20:13.537Z"
   },
   {
    "duration": 32,
    "start_time": "2022-09-18T09:20:13.571Z"
   },
   {
    "duration": 39,
    "start_time": "2022-09-18T09:20:13.604Z"
   },
   {
    "duration": 30,
    "start_time": "2022-09-18T09:20:13.645Z"
   },
   {
    "duration": 11,
    "start_time": "2022-09-18T09:20:13.678Z"
   },
   {
    "duration": 19,
    "start_time": "2022-09-18T09:20:13.690Z"
   },
   {
    "duration": 30,
    "start_time": "2022-09-18T09:20:13.712Z"
   },
   {
    "duration": 22,
    "start_time": "2022-09-18T09:20:13.744Z"
   },
   {
    "duration": 331,
    "start_time": "2022-09-18T09:20:13.767Z"
   },
   {
    "duration": 9,
    "start_time": "2022-09-18T09:20:14.100Z"
   },
   {
    "duration": 24,
    "start_time": "2022-09-18T09:20:14.120Z"
   },
   {
    "duration": 54,
    "start_time": "2022-09-18T09:20:14.145Z"
   },
   {
    "duration": 6,
    "start_time": "2022-09-18T09:20:14.201Z"
   },
   {
    "duration": 36,
    "start_time": "2022-09-18T09:20:14.209Z"
   },
   {
    "duration": 24,
    "start_time": "2022-09-18T09:20:14.247Z"
   },
   {
    "duration": 24,
    "start_time": "2022-09-18T09:20:14.272Z"
   },
   {
    "duration": 41,
    "start_time": "2022-09-18T09:20:14.298Z"
   },
   {
    "duration": 25,
    "start_time": "2022-09-18T09:20:14.341Z"
   },
   {
    "duration": 78,
    "start_time": "2022-09-18T09:20:14.368Z"
   },
   {
    "duration": 6,
    "start_time": "2022-09-18T09:20:14.448Z"
   },
   {
    "duration": 35,
    "start_time": "2022-09-18T09:20:14.456Z"
   },
   {
    "duration": 5,
    "start_time": "2022-09-18T09:20:14.494Z"
   },
   {
    "duration": 42,
    "start_time": "2022-09-18T09:20:14.500Z"
   },
   {
    "duration": 12,
    "start_time": "2022-09-18T09:20:14.544Z"
   },
   {
    "duration": 14,
    "start_time": "2022-09-18T09:20:14.558Z"
   },
   {
    "duration": 18,
    "start_time": "2022-09-18T09:20:14.574Z"
   },
   {
    "duration": 15,
    "start_time": "2022-09-18T09:20:14.594Z"
   },
   {
    "duration": 3,
    "start_time": "2022-09-18T09:22:04.782Z"
   },
   {
    "duration": 4,
    "start_time": "2022-09-18T09:22:14.080Z"
   },
   {
    "duration": 37,
    "start_time": "2022-09-18T09:22:28.495Z"
   },
   {
    "duration": 417,
    "start_time": "2022-09-18T09:23:11.223Z"
   },
   {
    "duration": 157,
    "start_time": "2022-09-18T09:23:11.643Z"
   },
   {
    "duration": 5,
    "start_time": "2022-09-18T09:23:11.802Z"
   },
   {
    "duration": 64,
    "start_time": "2022-09-18T09:23:11.809Z"
   },
   {
    "duration": 11,
    "start_time": "2022-09-18T09:23:11.876Z"
   },
   {
    "duration": 64,
    "start_time": "2022-09-18T09:23:11.888Z"
   },
   {
    "duration": 22,
    "start_time": "2022-09-18T09:23:11.955Z"
   },
   {
    "duration": 18,
    "start_time": "2022-09-18T09:23:11.979Z"
   },
   {
    "duration": 22,
    "start_time": "2022-09-18T09:23:11.999Z"
   },
   {
    "duration": 15,
    "start_time": "2022-09-18T09:23:12.023Z"
   },
   {
    "duration": 30,
    "start_time": "2022-09-18T09:23:12.039Z"
   },
   {
    "duration": 22,
    "start_time": "2022-09-18T09:23:12.071Z"
   },
   {
    "duration": 14,
    "start_time": "2022-09-18T09:23:12.095Z"
   },
   {
    "duration": 34,
    "start_time": "2022-09-18T09:23:12.112Z"
   },
   {
    "duration": 36,
    "start_time": "2022-09-18T09:23:12.149Z"
   },
   {
    "duration": 306,
    "start_time": "2022-09-18T09:23:12.187Z"
   },
   {
    "duration": 8,
    "start_time": "2022-09-18T09:23:12.494Z"
   },
   {
    "duration": 54,
    "start_time": "2022-09-18T09:23:12.503Z"
   },
   {
    "duration": 29,
    "start_time": "2022-09-18T09:23:12.559Z"
   },
   {
    "duration": 6,
    "start_time": "2022-09-18T09:23:12.589Z"
   },
   {
    "duration": 19,
    "start_time": "2022-09-18T09:23:12.597Z"
   },
   {
    "duration": 9,
    "start_time": "2022-09-18T09:23:12.618Z"
   },
   {
    "duration": 8,
    "start_time": "2022-09-18T09:23:12.629Z"
   },
   {
    "duration": 48,
    "start_time": "2022-09-18T09:23:12.639Z"
   },
   {
    "duration": 4,
    "start_time": "2022-09-18T09:23:12.689Z"
   },
   {
    "duration": 78,
    "start_time": "2022-09-18T09:23:12.694Z"
   },
   {
    "duration": 6,
    "start_time": "2022-09-18T09:23:12.773Z"
   },
   {
    "duration": 20,
    "start_time": "2022-09-18T09:23:12.781Z"
   },
   {
    "duration": 5,
    "start_time": "2022-09-18T09:23:12.821Z"
   },
   {
    "duration": 22,
    "start_time": "2022-09-18T09:23:12.828Z"
   },
   {
    "duration": 6,
    "start_time": "2022-09-18T09:23:12.852Z"
   },
   {
    "duration": 8,
    "start_time": "2022-09-18T09:23:12.860Z"
   },
   {
    "duration": 9,
    "start_time": "2022-09-18T09:23:12.870Z"
   },
   {
    "duration": 83,
    "start_time": "2022-09-18T09:23:12.881Z"
   },
   {
    "duration": 24,
    "start_time": "2022-09-18T09:23:12.966Z"
   },
   {
    "duration": 78,
    "start_time": "2022-09-18T09:24:34.221Z"
   },
   {
    "duration": 5,
    "start_time": "2022-09-18T09:26:02.862Z"
   },
   {
    "duration": 389,
    "start_time": "2022-09-18T09:26:28.341Z"
   },
   {
    "duration": 154,
    "start_time": "2022-09-18T09:26:28.732Z"
   },
   {
    "duration": 7,
    "start_time": "2022-09-18T09:26:28.888Z"
   },
   {
    "duration": 23,
    "start_time": "2022-09-18T09:26:28.897Z"
   },
   {
    "duration": 8,
    "start_time": "2022-09-18T09:26:28.922Z"
   },
   {
    "duration": 42,
    "start_time": "2022-09-18T09:26:28.932Z"
   },
   {
    "duration": 23,
    "start_time": "2022-09-18T09:26:28.976Z"
   },
   {
    "duration": 12,
    "start_time": "2022-09-18T09:26:29.022Z"
   },
   {
    "duration": 20,
    "start_time": "2022-09-18T09:26:29.036Z"
   },
   {
    "duration": 10,
    "start_time": "2022-09-18T09:26:29.059Z"
   },
   {
    "duration": 16,
    "start_time": "2022-09-18T09:26:29.071Z"
   },
   {
    "duration": 19,
    "start_time": "2022-09-18T09:26:29.089Z"
   },
   {
    "duration": 11,
    "start_time": "2022-09-18T09:26:29.111Z"
   },
   {
    "duration": 25,
    "start_time": "2022-09-18T09:26:29.124Z"
   },
   {
    "duration": 42,
    "start_time": "2022-09-18T09:26:29.151Z"
   },
   {
    "duration": 285,
    "start_time": "2022-09-18T09:26:29.196Z"
   },
   {
    "duration": 7,
    "start_time": "2022-09-18T09:26:29.482Z"
   },
   {
    "duration": 13,
    "start_time": "2022-09-18T09:26:29.491Z"
   },
   {
    "duration": 37,
    "start_time": "2022-09-18T09:26:29.506Z"
   },
   {
    "duration": 7,
    "start_time": "2022-09-18T09:26:29.545Z"
   },
   {
    "duration": 20,
    "start_time": "2022-09-18T09:26:29.554Z"
   },
   {
    "duration": 7,
    "start_time": "2022-09-18T09:26:29.575Z"
   },
   {
    "duration": 38,
    "start_time": "2022-09-18T09:26:29.583Z"
   },
   {
    "duration": 19,
    "start_time": "2022-09-18T09:26:29.623Z"
   },
   {
    "duration": 4,
    "start_time": "2022-09-18T09:26:29.643Z"
   },
   {
    "duration": 84,
    "start_time": "2022-09-18T09:26:29.649Z"
   },
   {
    "duration": 9,
    "start_time": "2022-09-18T09:26:29.735Z"
   },
   {
    "duration": 20,
    "start_time": "2022-09-18T09:26:29.748Z"
   },
   {
    "duration": 6,
    "start_time": "2022-09-18T09:26:29.770Z"
   },
   {
    "duration": 9,
    "start_time": "2022-09-18T09:26:29.778Z"
   },
   {
    "duration": 5,
    "start_time": "2022-09-18T09:26:29.820Z"
   },
   {
    "duration": 11,
    "start_time": "2022-09-18T09:26:29.827Z"
   },
   {
    "duration": 28,
    "start_time": "2022-09-18T09:26:29.840Z"
   },
   {
    "duration": 42,
    "start_time": "2022-09-18T09:26:29.870Z"
   },
   {
    "duration": 22,
    "start_time": "2022-09-18T09:26:29.914Z"
   },
   {
    "duration": 552,
    "start_time": "2022-09-18T09:26:29.938Z"
   },
   {
    "duration": 39,
    "start_time": "2022-09-18T09:27:27.414Z"
   },
   {
    "duration": 11,
    "start_time": "2022-09-18T09:45:30.578Z"
   },
   {
    "duration": 13,
    "start_time": "2022-09-18T09:45:35.620Z"
   },
   {
    "duration": 5,
    "start_time": "2022-09-18T09:45:56.966Z"
   },
   {
    "duration": 420,
    "start_time": "2022-09-18T09:47:59.214Z"
   },
   {
    "duration": 152,
    "start_time": "2022-09-18T09:48:00.916Z"
   },
   {
    "duration": 5,
    "start_time": "2022-09-18T09:48:03.641Z"
   },
   {
    "duration": 24,
    "start_time": "2022-09-18T09:48:05.613Z"
   },
   {
    "duration": 12,
    "start_time": "2022-09-18T09:48:07.813Z"
   },
   {
    "duration": 29,
    "start_time": "2022-09-18T09:48:09.542Z"
   },
   {
    "duration": 23,
    "start_time": "2022-09-18T09:48:12.017Z"
   },
   {
    "duration": 13,
    "start_time": "2022-09-18T09:48:14.416Z"
   },
   {
    "duration": 5,
    "start_time": "2022-09-18T09:48:17.011Z"
   },
   {
    "duration": 4,
    "start_time": "2022-09-18T09:48:18.893Z"
   },
   {
    "duration": 4,
    "start_time": "2022-09-18T09:48:20.453Z"
   },
   {
    "duration": 5,
    "start_time": "2022-09-18T09:48:22.758Z"
   },
   {
    "duration": 6,
    "start_time": "2022-09-18T09:48:24.410Z"
   },
   {
    "duration": 11,
    "start_time": "2022-09-18T09:48:26.371Z"
   },
   {
    "duration": 10,
    "start_time": "2022-09-18T09:48:28.637Z"
   },
   {
    "duration": 297,
    "start_time": "2022-09-18T09:48:30.672Z"
   },
   {
    "duration": 26,
    "start_time": "2022-09-18T09:48:34.242Z"
   },
   {
    "duration": 12,
    "start_time": "2022-09-18T09:48:49.243Z"
   },
   {
    "duration": 38,
    "start_time": "2022-09-18T09:50:05.679Z"
   },
   {
    "duration": 28,
    "start_time": "2022-09-18T09:50:45.045Z"
   },
   {
    "duration": 5,
    "start_time": "2022-09-18T09:51:39.459Z"
   },
   {
    "duration": 30,
    "start_time": "2022-09-18T09:51:41.216Z"
   },
   {
    "duration": 92,
    "start_time": "2022-09-18T09:52:50.914Z"
   },
   {
    "duration": 9,
    "start_time": "2022-09-18T09:53:04.847Z"
   },
   {
    "duration": 32,
    "start_time": "2022-09-18T09:53:39.126Z"
   },
   {
    "duration": 5,
    "start_time": "2022-09-18T09:55:03.972Z"
   },
   {
    "duration": 12,
    "start_time": "2022-09-18T09:55:46.232Z"
   },
   {
    "duration": 10,
    "start_time": "2022-09-18T09:57:10.147Z"
   },
   {
    "duration": 10,
    "start_time": "2022-09-18T09:57:22.159Z"
   },
   {
    "duration": 24,
    "start_time": "2022-09-18T09:57:48.661Z"
   },
   {
    "duration": 7,
    "start_time": "2022-09-18T09:57:50.686Z"
   },
   {
    "duration": 19,
    "start_time": "2022-09-18T09:57:52.964Z"
   },
   {
    "duration": 408,
    "start_time": "2022-09-18T09:57:59.854Z"
   },
   {
    "duration": 151,
    "start_time": "2022-09-18T09:58:00.264Z"
   },
   {
    "duration": 11,
    "start_time": "2022-09-18T09:58:00.416Z"
   },
   {
    "duration": 55,
    "start_time": "2022-09-18T09:58:00.429Z"
   },
   {
    "duration": 17,
    "start_time": "2022-09-18T09:58:00.486Z"
   },
   {
    "duration": 95,
    "start_time": "2022-09-18T09:58:00.504Z"
   },
   {
    "duration": 32,
    "start_time": "2022-09-18T09:58:00.601Z"
   },
   {
    "duration": 60,
    "start_time": "2022-09-18T09:58:00.637Z"
   },
   {
    "duration": 60,
    "start_time": "2022-09-18T09:58:00.699Z"
   },
   {
    "duration": 22,
    "start_time": "2022-09-18T09:58:00.761Z"
   },
   {
    "duration": 15,
    "start_time": "2022-09-18T09:58:00.785Z"
   },
   {
    "duration": 51,
    "start_time": "2022-09-18T09:58:00.802Z"
   },
   {
    "duration": 38,
    "start_time": "2022-09-18T09:58:00.855Z"
   },
   {
    "duration": 35,
    "start_time": "2022-09-18T09:58:00.895Z"
   },
   {
    "duration": 33,
    "start_time": "2022-09-18T09:58:00.932Z"
   },
   {
    "duration": 373,
    "start_time": "2022-09-18T09:58:00.967Z"
   },
   {
    "duration": 9,
    "start_time": "2022-09-18T09:58:01.346Z"
   },
   {
    "duration": 36,
    "start_time": "2022-09-18T09:58:01.359Z"
   },
   {
    "duration": 33,
    "start_time": "2022-09-18T09:58:01.397Z"
   },
   {
    "duration": 63,
    "start_time": "2022-09-18T09:58:01.435Z"
   },
   {
    "duration": 8,
    "start_time": "2022-09-18T09:58:01.500Z"
   },
   {
    "duration": 40,
    "start_time": "2022-09-18T09:58:01.510Z"
   },
   {
    "duration": 23,
    "start_time": "2022-09-18T09:58:01.552Z"
   },
   {
    "duration": 15,
    "start_time": "2022-09-18T09:58:01.578Z"
   },
   {
    "duration": 45,
    "start_time": "2022-09-18T09:58:01.595Z"
   },
   {
    "duration": 5,
    "start_time": "2022-09-18T09:58:01.648Z"
   },
   {
    "duration": 63,
    "start_time": "2022-09-18T09:58:01.655Z"
   },
   {
    "duration": 21,
    "start_time": "2022-09-18T09:58:01.720Z"
   },
   {
    "duration": 32,
    "start_time": "2022-09-18T09:58:01.747Z"
   },
   {
    "duration": 6,
    "start_time": "2022-09-18T09:58:01.781Z"
   },
   {
    "duration": 19,
    "start_time": "2022-09-18T09:58:01.789Z"
   },
   {
    "duration": 6,
    "start_time": "2022-09-18T09:58:01.810Z"
   },
   {
    "duration": 47,
    "start_time": "2022-09-18T09:58:01.818Z"
   },
   {
    "duration": 36,
    "start_time": "2022-09-18T09:58:01.867Z"
   },
   {
    "duration": 57,
    "start_time": "2022-09-18T09:58:01.905Z"
   },
   {
    "duration": 41,
    "start_time": "2022-09-18T09:58:01.964Z"
   },
   {
    "duration": 411,
    "start_time": "2022-09-18T09:59:19.949Z"
   },
   {
    "duration": 151,
    "start_time": "2022-09-18T09:59:20.362Z"
   },
   {
    "duration": 4,
    "start_time": "2022-09-18T09:59:20.515Z"
   },
   {
    "duration": 48,
    "start_time": "2022-09-18T09:59:20.523Z"
   },
   {
    "duration": 7,
    "start_time": "2022-09-18T09:59:20.572Z"
   },
   {
    "duration": 44,
    "start_time": "2022-09-18T09:59:20.581Z"
   },
   {
    "duration": 22,
    "start_time": "2022-09-18T09:59:20.627Z"
   },
   {
    "duration": 12,
    "start_time": "2022-09-18T09:59:20.652Z"
   },
   {
    "duration": 4,
    "start_time": "2022-09-18T09:59:20.666Z"
   },
   {
    "duration": 6,
    "start_time": "2022-09-18T09:59:20.674Z"
   },
   {
    "duration": 8,
    "start_time": "2022-09-18T09:59:20.682Z"
   },
   {
    "duration": 8,
    "start_time": "2022-09-18T09:59:20.692Z"
   },
   {
    "duration": 17,
    "start_time": "2022-09-18T09:59:20.720Z"
   },
   {
    "duration": 17,
    "start_time": "2022-09-18T09:59:20.745Z"
   },
   {
    "duration": 7,
    "start_time": "2022-09-18T09:59:20.765Z"
   },
   {
    "duration": 341,
    "start_time": "2022-09-18T09:59:20.774Z"
   },
   {
    "duration": 25,
    "start_time": "2022-09-18T09:59:21.119Z"
   },
   {
    "duration": 16,
    "start_time": "2022-09-18T09:59:21.148Z"
   },
   {
    "duration": 12,
    "start_time": "2022-09-18T09:59:21.167Z"
   },
   {
    "duration": 53,
    "start_time": "2022-09-18T09:59:21.181Z"
   },
   {
    "duration": 18,
    "start_time": "2022-09-18T09:59:21.242Z"
   },
   {
    "duration": 24,
    "start_time": "2022-09-18T09:59:21.262Z"
   },
   {
    "duration": 9,
    "start_time": "2022-09-18T09:59:21.287Z"
   },
   {
    "duration": 7,
    "start_time": "2022-09-18T09:59:21.298Z"
   },
   {
    "duration": 33,
    "start_time": "2022-09-18T09:59:21.307Z"
   },
   {
    "duration": 6,
    "start_time": "2022-09-18T09:59:21.342Z"
   },
   {
    "duration": 73,
    "start_time": "2022-09-18T09:59:21.350Z"
   },
   {
    "duration": 8,
    "start_time": "2022-09-18T09:59:21.427Z"
   },
   {
    "duration": 43,
    "start_time": "2022-09-18T09:59:21.437Z"
   },
   {
    "duration": 6,
    "start_time": "2022-09-18T09:59:21.482Z"
   },
   {
    "duration": 12,
    "start_time": "2022-09-18T09:59:21.490Z"
   },
   {
    "duration": 2,
    "start_time": "2022-09-18T09:59:21.504Z"
   },
   {
    "duration": 6,
    "start_time": "2022-09-18T09:59:21.508Z"
   },
   {
    "duration": 149,
    "start_time": "2022-09-18T09:59:21.516Z"
   },
   {
    "duration": 29,
    "start_time": "2022-09-18T09:59:21.666Z"
   },
   {
    "duration": 5,
    "start_time": "2022-09-18T10:00:21.662Z"
   },
   {
    "duration": 27,
    "start_time": "2022-09-18T10:03:56.661Z"
   },
   {
    "duration": 2871,
    "start_time": "2022-09-18T10:05:02.344Z"
   },
   {
    "duration": 5,
    "start_time": "2022-09-18T10:05:22.751Z"
   },
   {
    "duration": 373,
    "start_time": "2022-09-19T08:05:07.639Z"
   },
   {
    "duration": 278,
    "start_time": "2022-09-19T08:05:10.483Z"
   },
   {
    "duration": 4,
    "start_time": "2022-09-19T08:05:14.053Z"
   },
   {
    "duration": 15,
    "start_time": "2022-09-19T08:05:17.050Z"
   },
   {
    "duration": 7,
    "start_time": "2022-09-19T08:05:19.639Z"
   },
   {
    "duration": 25,
    "start_time": "2022-09-19T08:05:21.732Z"
   },
   {
    "duration": 16,
    "start_time": "2022-09-19T08:05:25.209Z"
   },
   {
    "duration": 11,
    "start_time": "2022-09-19T08:05:28.255Z"
   },
   {
    "duration": 5,
    "start_time": "2022-09-19T08:05:30.587Z"
   },
   {
    "duration": 3,
    "start_time": "2022-09-19T08:05:33.935Z"
   },
   {
    "duration": 3,
    "start_time": "2022-09-19T08:05:36.377Z"
   },
   {
    "duration": 4,
    "start_time": "2022-09-19T08:05:38.734Z"
   },
   {
    "duration": 6,
    "start_time": "2022-09-19T08:05:41.395Z"
   },
   {
    "duration": 9,
    "start_time": "2022-09-19T08:05:45.529Z"
   },
   {
    "duration": 9,
    "start_time": "2022-09-19T08:05:48.739Z"
   },
   {
    "duration": 466,
    "start_time": "2022-09-19T08:05:51.356Z"
   },
   {
    "duration": 5,
    "start_time": "2022-09-19T08:05:55.986Z"
   },
   {
    "duration": 10,
    "start_time": "2022-09-19T08:05:58.435Z"
   },
   {
    "duration": 9,
    "start_time": "2022-09-19T08:06:00.931Z"
   },
   {
    "duration": 25,
    "start_time": "2022-09-19T08:06:03.808Z"
   },
   {
    "duration": 6,
    "start_time": "2022-09-19T08:06:06.254Z"
   },
   {
    "duration": 18,
    "start_time": "2022-09-19T08:06:09.092Z"
   },
   {
    "duration": 8,
    "start_time": "2022-09-19T08:06:12.509Z"
   },
   {
    "duration": 8,
    "start_time": "2022-09-19T08:06:15.688Z"
   },
   {
    "duration": 28,
    "start_time": "2022-09-19T08:06:18.283Z"
   },
   {
    "duration": 3,
    "start_time": "2022-09-19T08:06:22.039Z"
   },
   {
    "duration": 58,
    "start_time": "2022-09-19T08:06:24.591Z"
   },
   {
    "duration": 6,
    "start_time": "2022-09-19T08:06:26.595Z"
   },
   {
    "duration": 18,
    "start_time": "2022-09-19T08:06:28.960Z"
   },
   {
    "duration": 4,
    "start_time": "2022-09-19T08:06:32.203Z"
   },
   {
    "duration": 7,
    "start_time": "2022-09-19T08:06:34.349Z"
   },
   {
    "duration": 5,
    "start_time": "2022-09-19T08:06:37.250Z"
   },
   {
    "duration": 4,
    "start_time": "2022-09-19T08:06:40.507Z"
   },
   {
    "duration": 5,
    "start_time": "2022-09-19T08:06:43.845Z"
   },
   {
    "duration": 4,
    "start_time": "2022-09-19T08:06:46.262Z"
   },
   {
    "duration": 79,
    "start_time": "2022-09-19T08:06:49.396Z"
   },
   {
    "duration": 19,
    "start_time": "2022-09-19T08:06:54.213Z"
   },
   {
    "duration": 23,
    "start_time": "2022-09-19T08:06:59.742Z"
   },
   {
    "duration": 25,
    "start_time": "2022-09-19T08:12:04.697Z"
   },
   {
    "duration": 126,
    "start_time": "2022-09-19T08:25:40.044Z"
   },
   {
    "duration": 53,
    "start_time": "2022-09-19T08:25:59.623Z"
   },
   {
    "duration": 22,
    "start_time": "2022-09-19T08:26:24.534Z"
   },
   {
    "duration": 7,
    "start_time": "2022-09-19T08:26:46.891Z"
   },
   {
    "duration": 16,
    "start_time": "2022-09-19T08:27:20.459Z"
   },
   {
    "duration": 4,
    "start_time": "2022-09-19T08:29:40.387Z"
   },
   {
    "duration": 11,
    "start_time": "2022-09-19T08:29:48.656Z"
   },
   {
    "duration": 20,
    "start_time": "2022-09-19T08:30:09.308Z"
   },
   {
    "duration": 15,
    "start_time": "2022-09-19T08:30:59.697Z"
   },
   {
    "duration": 5,
    "start_time": "2022-09-19T08:33:19.991Z"
   },
   {
    "duration": 27,
    "start_time": "2022-09-19T08:35:30.346Z"
   },
   {
    "duration": 4,
    "start_time": "2022-09-19T08:35:44.987Z"
   },
   {
    "duration": 14,
    "start_time": "2022-09-19T08:35:49.440Z"
   },
   {
    "duration": 427,
    "start_time": "2022-09-19T08:36:04.492Z"
   },
   {
    "duration": 155,
    "start_time": "2022-09-19T08:36:04.924Z"
   },
   {
    "duration": 4,
    "start_time": "2022-09-19T08:36:05.081Z"
   },
   {
    "duration": 67,
    "start_time": "2022-09-19T08:36:05.087Z"
   },
   {
    "duration": 6,
    "start_time": "2022-09-19T08:36:05.157Z"
   },
   {
    "duration": 56,
    "start_time": "2022-09-19T08:36:05.164Z"
   },
   {
    "duration": 16,
    "start_time": "2022-09-19T08:36:05.222Z"
   },
   {
    "duration": 11,
    "start_time": "2022-09-19T08:36:05.240Z"
   },
   {
    "duration": 4,
    "start_time": "2022-09-19T08:36:05.252Z"
   },
   {
    "duration": 4,
    "start_time": "2022-09-19T08:36:05.257Z"
   },
   {
    "duration": 5,
    "start_time": "2022-09-19T08:36:05.262Z"
   },
   {
    "duration": 6,
    "start_time": "2022-09-19T08:36:05.268Z"
   },
   {
    "duration": 39,
    "start_time": "2022-09-19T08:36:05.275Z"
   },
   {
    "duration": 21,
    "start_time": "2022-09-19T08:36:05.325Z"
   },
   {
    "duration": 13,
    "start_time": "2022-09-19T08:36:05.348Z"
   },
   {
    "duration": 291,
    "start_time": "2022-09-19T08:36:05.363Z"
   },
   {
    "duration": 4,
    "start_time": "2022-09-19T08:36:05.656Z"
   },
   {
    "duration": 9,
    "start_time": "2022-09-19T08:36:05.661Z"
   },
   {
    "duration": 9,
    "start_time": "2022-09-19T08:36:05.672Z"
   },
   {
    "duration": 51,
    "start_time": "2022-09-19T08:36:05.682Z"
   },
   {
    "duration": 5,
    "start_time": "2022-09-19T08:36:05.735Z"
   },
   {
    "duration": 21,
    "start_time": "2022-09-19T08:36:05.742Z"
   },
   {
    "duration": 11,
    "start_time": "2022-09-19T08:36:05.764Z"
   },
   {
    "duration": 10,
    "start_time": "2022-09-19T08:36:05.776Z"
   },
   {
    "duration": 41,
    "start_time": "2022-09-19T08:36:05.787Z"
   },
   {
    "duration": 3,
    "start_time": "2022-09-19T08:36:05.830Z"
   },
   {
    "duration": 58,
    "start_time": "2022-09-19T08:36:05.835Z"
   },
   {
    "duration": 20,
    "start_time": "2022-09-19T08:36:05.895Z"
   },
   {
    "duration": 20,
    "start_time": "2022-09-19T08:36:05.917Z"
   },
   {
    "duration": 5,
    "start_time": "2022-09-19T08:36:05.938Z"
   },
   {
    "duration": 8,
    "start_time": "2022-09-19T08:36:05.944Z"
   },
   {
    "duration": 4,
    "start_time": "2022-09-19T08:36:05.954Z"
   },
   {
    "duration": 5,
    "start_time": "2022-09-19T08:36:05.960Z"
   },
   {
    "duration": 4,
    "start_time": "2022-09-19T08:36:05.966Z"
   },
   {
    "duration": 50,
    "start_time": "2022-09-19T08:36:05.971Z"
   },
   {
    "duration": 83,
    "start_time": "2022-09-19T08:36:06.023Z"
   },
   {
    "duration": 26,
    "start_time": "2022-09-19T08:36:06.108Z"
   },
   {
    "duration": 24,
    "start_time": "2022-09-19T08:36:06.136Z"
   },
   {
    "duration": 18,
    "start_time": "2022-09-19T08:36:06.161Z"
   },
   {
    "duration": 45,
    "start_time": "2022-09-19T08:36:06.180Z"
   },
   {
    "duration": 3,
    "start_time": "2022-09-19T08:36:06.229Z"
   },
   {
    "duration": 15,
    "start_time": "2022-09-19T08:37:11.243Z"
   },
   {
    "duration": 2,
    "start_time": "2022-09-19T08:38:33.748Z"
   },
   {
    "duration": 88,
    "start_time": "2022-09-19T08:38:40.495Z"
   },
   {
    "duration": 452,
    "start_time": "2022-09-19T08:39:50.295Z"
   },
   {
    "duration": 7,
    "start_time": "2022-09-19T08:40:17.165Z"
   },
   {
    "duration": 139,
    "start_time": "2022-09-19T08:42:31.394Z"
   },
   {
    "duration": 115,
    "start_time": "2022-09-19T08:43:29.442Z"
   },
   {
    "duration": 119,
    "start_time": "2022-09-19T08:43:42.804Z"
   },
   {
    "duration": 106,
    "start_time": "2022-09-19T08:43:55.623Z"
   },
   {
    "duration": 9,
    "start_time": "2022-09-19T08:44:25.422Z"
   },
   {
    "duration": 3,
    "start_time": "2022-09-19T08:44:49.891Z"
   },
   {
    "duration": 97,
    "start_time": "2022-09-19T08:45:29.583Z"
   },
   {
    "duration": 8,
    "start_time": "2022-09-19T08:45:57.822Z"
   },
   {
    "duration": 6,
    "start_time": "2022-09-19T08:49:40.436Z"
   },
   {
    "duration": 7,
    "start_time": "2022-09-19T08:50:09.322Z"
   },
   {
    "duration": 9,
    "start_time": "2022-09-19T08:51:45.941Z"
   },
   {
    "duration": 9,
    "start_time": "2022-09-19T08:52:12.051Z"
   },
   {
    "duration": 8,
    "start_time": "2022-09-19T08:53:01.448Z"
   },
   {
    "duration": 8,
    "start_time": "2022-09-19T08:53:19.430Z"
   },
   {
    "duration": 15,
    "start_time": "2022-09-19T08:53:39.205Z"
   },
   {
    "duration": 17,
    "start_time": "2022-09-19T08:54:10.110Z"
   },
   {
    "duration": 7,
    "start_time": "2022-09-19T08:55:13.230Z"
   },
   {
    "duration": 669,
    "start_time": "2022-09-19T08:55:53.904Z"
   },
   {
    "duration": 153,
    "start_time": "2022-09-19T08:55:54.574Z"
   },
   {
    "duration": 5,
    "start_time": "2022-09-19T08:55:54.729Z"
   },
   {
    "duration": 23,
    "start_time": "2022-09-19T08:55:54.736Z"
   },
   {
    "duration": 19,
    "start_time": "2022-09-19T08:55:54.763Z"
   },
   {
    "duration": 51,
    "start_time": "2022-09-19T08:55:54.784Z"
   },
   {
    "duration": 18,
    "start_time": "2022-09-19T08:55:54.837Z"
   },
   {
    "duration": 22,
    "start_time": "2022-09-19T08:55:54.857Z"
   },
   {
    "duration": 12,
    "start_time": "2022-09-19T08:55:54.880Z"
   },
   {
    "duration": 29,
    "start_time": "2022-09-19T08:55:54.893Z"
   },
   {
    "duration": 23,
    "start_time": "2022-09-19T08:55:54.924Z"
   },
   {
    "duration": 14,
    "start_time": "2022-09-19T08:55:54.949Z"
   },
   {
    "duration": 22,
    "start_time": "2022-09-19T08:55:54.965Z"
   },
   {
    "duration": 11,
    "start_time": "2022-09-19T08:55:54.991Z"
   },
   {
    "duration": 35,
    "start_time": "2022-09-19T08:55:55.003Z"
   },
   {
    "duration": 82,
    "start_time": "2022-09-19T08:55:55.040Z"
   },
   {
    "duration": 5,
    "start_time": "2022-09-19T08:55:55.124Z"
   },
   {
    "duration": 25,
    "start_time": "2022-09-19T08:55:55.130Z"
   },
   {
    "duration": 17,
    "start_time": "2022-09-19T08:55:55.156Z"
   },
   {
    "duration": 33,
    "start_time": "2022-09-19T08:55:55.174Z"
   },
   {
    "duration": 22,
    "start_time": "2022-09-19T08:55:55.212Z"
   },
   {
    "duration": 33,
    "start_time": "2022-09-19T08:55:55.235Z"
   },
   {
    "duration": 18,
    "start_time": "2022-09-19T08:55:55.270Z"
   },
   {
    "duration": 36,
    "start_time": "2022-09-19T08:55:55.289Z"
   },
   {
    "duration": 27,
    "start_time": "2022-09-19T08:55:55.327Z"
   },
   {
    "duration": 10,
    "start_time": "2022-09-19T08:55:55.356Z"
   },
   {
    "duration": 75,
    "start_time": "2022-09-19T08:55:55.368Z"
   },
   {
    "duration": 6,
    "start_time": "2022-09-19T08:55:55.444Z"
   },
   {
    "duration": 34,
    "start_time": "2022-09-19T08:55:55.451Z"
   },
   {
    "duration": 4,
    "start_time": "2022-09-19T08:55:55.487Z"
   },
   {
    "duration": 35,
    "start_time": "2022-09-19T08:55:55.493Z"
   },
   {
    "duration": 20,
    "start_time": "2022-09-19T08:55:55.530Z"
   },
   {
    "duration": 18,
    "start_time": "2022-09-19T08:55:55.551Z"
   },
   {
    "duration": 18,
    "start_time": "2022-09-19T08:55:55.570Z"
   },
   {
    "duration": 14,
    "start_time": "2022-09-19T08:55:55.590Z"
   },
   {
    "duration": 122,
    "start_time": "2022-09-19T08:55:55.606Z"
   },
   {
    "duration": 23,
    "start_time": "2022-09-19T08:55:55.729Z"
   },
   {
    "duration": 70,
    "start_time": "2022-09-19T08:55:55.754Z"
   },
   {
    "duration": 21,
    "start_time": "2022-09-19T08:55:55.826Z"
   },
   {
    "duration": 16,
    "start_time": "2022-09-19T08:55:55.849Z"
   },
   {
    "duration": 12,
    "start_time": "2022-09-19T08:55:55.868Z"
   },
   {
    "duration": 145,
    "start_time": "2022-09-19T08:55:55.882Z"
   },
   {
    "duration": 9,
    "start_time": "2022-09-19T08:55:56.029Z"
   },
   {
    "duration": 14,
    "start_time": "2022-09-19T08:55:56.040Z"
   },
   {
    "duration": 125,
    "start_time": "2022-09-19T08:56:18.053Z"
   },
   {
    "duration": 119,
    "start_time": "2022-09-19T08:56:55.120Z"
   },
   {
    "duration": 121,
    "start_time": "2022-09-19T08:57:15.103Z"
   },
   {
    "duration": 23,
    "start_time": "2022-09-19T08:57:38.774Z"
   },
   {
    "duration": 6,
    "start_time": "2022-09-19T08:57:44.142Z"
   },
   {
    "duration": 821,
    "start_time": "2022-09-19T08:58:11.306Z"
   },
   {
    "duration": 158,
    "start_time": "2022-09-19T08:58:12.129Z"
   },
   {
    "duration": 7,
    "start_time": "2022-09-19T08:58:12.288Z"
   },
   {
    "duration": 36,
    "start_time": "2022-09-19T08:58:12.298Z"
   },
   {
    "duration": 10,
    "start_time": "2022-09-19T08:58:12.337Z"
   },
   {
    "duration": 44,
    "start_time": "2022-09-19T08:58:12.350Z"
   },
   {
    "duration": 29,
    "start_time": "2022-09-19T08:58:12.395Z"
   },
   {
    "duration": 27,
    "start_time": "2022-09-19T08:58:12.426Z"
   },
   {
    "duration": 4,
    "start_time": "2022-09-19T08:58:12.455Z"
   },
   {
    "duration": 3,
    "start_time": "2022-09-19T08:58:12.462Z"
   },
   {
    "duration": 5,
    "start_time": "2022-09-19T08:58:12.466Z"
   },
   {
    "duration": 7,
    "start_time": "2022-09-19T08:58:12.472Z"
   },
   {
    "duration": 7,
    "start_time": "2022-09-19T08:58:12.480Z"
   },
   {
    "duration": 9,
    "start_time": "2022-09-19T08:58:12.489Z"
   },
   {
    "duration": 47,
    "start_time": "2022-09-19T08:58:12.500Z"
   },
   {
    "duration": 90,
    "start_time": "2022-09-19T08:58:12.549Z"
   },
   {
    "duration": 7,
    "start_time": "2022-09-19T08:58:12.641Z"
   },
   {
    "duration": 28,
    "start_time": "2022-09-19T08:58:12.650Z"
   },
   {
    "duration": 10,
    "start_time": "2022-09-19T08:58:12.680Z"
   },
   {
    "duration": 43,
    "start_time": "2022-09-19T08:58:12.691Z"
   },
   {
    "duration": 24,
    "start_time": "2022-09-19T08:58:12.736Z"
   },
   {
    "duration": 23,
    "start_time": "2022-09-19T08:58:12.762Z"
   },
   {
    "duration": 17,
    "start_time": "2022-09-19T08:58:12.787Z"
   },
   {
    "duration": 45,
    "start_time": "2022-09-19T08:58:12.807Z"
   },
   {
    "duration": 74,
    "start_time": "2022-09-19T08:58:12.854Z"
   },
   {
    "duration": 3,
    "start_time": "2022-09-19T08:58:12.937Z"
   },
   {
    "duration": 80,
    "start_time": "2022-09-19T08:58:12.942Z"
   },
   {
    "duration": 23,
    "start_time": "2022-09-19T08:58:13.026Z"
   },
   {
    "duration": 32,
    "start_time": "2022-09-19T08:58:13.051Z"
   },
   {
    "duration": 7,
    "start_time": "2022-09-19T08:58:13.086Z"
   },
   {
    "duration": 37,
    "start_time": "2022-09-19T08:58:13.094Z"
   },
   {
    "duration": 18,
    "start_time": "2022-09-19T08:58:13.133Z"
   },
   {
    "duration": 6,
    "start_time": "2022-09-19T08:58:13.152Z"
   },
   {
    "duration": 4,
    "start_time": "2022-09-19T08:58:13.159Z"
   },
   {
    "duration": 5,
    "start_time": "2022-09-19T08:58:13.165Z"
   },
   {
    "duration": 96,
    "start_time": "2022-09-19T08:58:13.172Z"
   },
   {
    "duration": 20,
    "start_time": "2022-09-19T08:58:13.269Z"
   },
   {
    "duration": 51,
    "start_time": "2022-09-19T08:58:13.290Z"
   },
   {
    "duration": 20,
    "start_time": "2022-09-19T08:58:13.343Z"
   },
   {
    "duration": 21,
    "start_time": "2022-09-19T08:58:13.364Z"
   },
   {
    "duration": 7,
    "start_time": "2022-09-19T08:58:13.388Z"
   },
   {
    "duration": 119,
    "start_time": "2022-09-19T08:58:13.412Z"
   },
   {
    "duration": 11,
    "start_time": "2022-09-19T08:58:13.534Z"
   },
   {
    "duration": 108,
    "start_time": "2022-09-19T08:58:13.546Z"
   },
   {
    "duration": 9,
    "start_time": "2022-09-19T08:58:13.656Z"
   },
   {
    "duration": 3,
    "start_time": "2022-09-19T08:58:13.666Z"
   },
   {
    "duration": 6,
    "start_time": "2022-09-19T08:58:53.699Z"
   },
   {
    "duration": 20,
    "start_time": "2022-09-19T09:00:31.637Z"
   },
   {
    "duration": 135,
    "start_time": "2022-09-19T09:01:25.401Z"
   },
   {
    "duration": 11,
    "start_time": "2022-09-19T09:01:54.728Z"
   },
   {
    "duration": 105,
    "start_time": "2022-09-19T09:02:07.864Z"
   },
   {
    "duration": 11,
    "start_time": "2022-09-19T09:02:32.495Z"
   },
   {
    "duration": 21,
    "start_time": "2022-09-19T09:02:41.703Z"
   },
   {
    "duration": 26,
    "start_time": "2022-09-19T09:02:51.098Z"
   },
   {
    "duration": 19,
    "start_time": "2022-09-19T09:03:15.783Z"
   },
   {
    "duration": 24,
    "start_time": "2022-09-19T09:03:37.307Z"
   },
   {
    "duration": 24,
    "start_time": "2022-09-19T09:03:41.345Z"
   },
   {
    "duration": 7,
    "start_time": "2022-09-19T09:05:04.564Z"
   },
   {
    "duration": 15,
    "start_time": "2022-09-19T09:06:07.044Z"
   },
   {
    "duration": 624,
    "start_time": "2022-09-19T09:06:45.736Z"
   },
   {
    "duration": 168,
    "start_time": "2022-09-19T09:06:46.363Z"
   },
   {
    "duration": 7,
    "start_time": "2022-09-19T09:06:46.533Z"
   },
   {
    "duration": 44,
    "start_time": "2022-09-19T09:06:46.541Z"
   },
   {
    "duration": 7,
    "start_time": "2022-09-19T09:06:46.588Z"
   },
   {
    "duration": 43,
    "start_time": "2022-09-19T09:06:46.597Z"
   },
   {
    "duration": 24,
    "start_time": "2022-09-19T09:06:46.641Z"
   },
   {
    "duration": 9,
    "start_time": "2022-09-19T09:06:46.667Z"
   },
   {
    "duration": 7,
    "start_time": "2022-09-19T09:06:46.677Z"
   },
   {
    "duration": 6,
    "start_time": "2022-09-19T09:06:46.686Z"
   },
   {
    "duration": 26,
    "start_time": "2022-09-19T09:06:46.693Z"
   },
   {
    "duration": 19,
    "start_time": "2022-09-19T09:06:46.729Z"
   },
   {
    "duration": 9,
    "start_time": "2022-09-19T09:06:46.751Z"
   },
   {
    "duration": 10,
    "start_time": "2022-09-19T09:06:46.763Z"
   },
   {
    "duration": 13,
    "start_time": "2022-09-19T09:06:46.774Z"
   },
   {
    "duration": 61,
    "start_time": "2022-09-19T09:06:46.789Z"
   },
   {
    "duration": 5,
    "start_time": "2022-09-19T09:06:46.852Z"
   },
   {
    "duration": 10,
    "start_time": "2022-09-19T09:06:46.859Z"
   },
   {
    "duration": 15,
    "start_time": "2022-09-19T09:06:46.871Z"
   },
   {
    "duration": 57,
    "start_time": "2022-09-19T09:06:46.887Z"
   },
   {
    "duration": 7,
    "start_time": "2022-09-19T09:06:46.945Z"
   },
   {
    "duration": 16,
    "start_time": "2022-09-19T09:06:46.954Z"
   },
   {
    "duration": 5,
    "start_time": "2022-09-19T09:06:46.972Z"
   },
   {
    "duration": 7,
    "start_time": "2022-09-19T09:06:46.978Z"
   },
   {
    "duration": 51,
    "start_time": "2022-09-19T09:06:46.987Z"
   },
   {
    "duration": 6,
    "start_time": "2022-09-19T09:06:47.041Z"
   },
   {
    "duration": 66,
    "start_time": "2022-09-19T09:06:47.049Z"
   },
   {
    "duration": 22,
    "start_time": "2022-09-19T09:06:47.117Z"
   },
   {
    "duration": 20,
    "start_time": "2022-09-19T09:06:47.141Z"
   },
   {
    "duration": 5,
    "start_time": "2022-09-19T09:06:47.162Z"
   },
   {
    "duration": 9,
    "start_time": "2022-09-19T09:06:47.168Z"
   },
   {
    "duration": 8,
    "start_time": "2022-09-19T09:06:47.178Z"
   },
   {
    "duration": 8,
    "start_time": "2022-09-19T09:06:47.187Z"
   },
   {
    "duration": 26,
    "start_time": "2022-09-19T09:06:47.196Z"
   },
   {
    "duration": 19,
    "start_time": "2022-09-19T09:06:47.223Z"
   },
   {
    "duration": 102,
    "start_time": "2022-09-19T09:06:47.243Z"
   },
   {
    "duration": 19,
    "start_time": "2022-09-19T09:06:47.346Z"
   },
   {
    "duration": 28,
    "start_time": "2022-09-19T09:06:47.366Z"
   },
   {
    "duration": 24,
    "start_time": "2022-09-19T09:06:47.395Z"
   },
   {
    "duration": 18,
    "start_time": "2022-09-19T09:06:47.430Z"
   },
   {
    "duration": 7,
    "start_time": "2022-09-19T09:06:47.452Z"
   },
   {
    "duration": 106,
    "start_time": "2022-09-19T09:06:47.461Z"
   },
   {
    "duration": 15,
    "start_time": "2022-09-19T09:06:47.568Z"
   },
   {
    "duration": 7,
    "start_time": "2022-09-19T09:06:47.584Z"
   },
   {
    "duration": 132,
    "start_time": "2022-09-19T09:06:47.593Z"
   },
   {
    "duration": 9,
    "start_time": "2022-09-19T09:06:47.735Z"
   },
   {
    "duration": 5,
    "start_time": "2022-09-19T09:06:47.746Z"
   },
   {
    "duration": 28,
    "start_time": "2022-09-19T09:07:34.304Z"
   },
   {
    "duration": 4,
    "start_time": "2022-09-19T09:10:13.536Z"
   },
   {
    "duration": 2,
    "start_time": "2022-09-19T09:12:11.230Z"
   },
   {
    "duration": 5,
    "start_time": "2022-09-19T09:14:18.437Z"
   },
   {
    "duration": 5,
    "start_time": "2022-09-19T09:14:48.957Z"
   },
   {
    "duration": 20,
    "start_time": "2022-09-19T09:14:56.437Z"
   },
   {
    "duration": 28,
    "start_time": "2022-09-19T09:15:19.095Z"
   },
   {
    "duration": 5,
    "start_time": "2022-09-19T09:18:39.922Z"
   },
   {
    "duration": 17,
    "start_time": "2022-09-19T09:18:42.488Z"
   },
   {
    "duration": 31,
    "start_time": "2022-09-19T09:19:08.644Z"
   },
   {
    "duration": 30,
    "start_time": "2022-09-19T09:19:25.095Z"
   },
   {
    "duration": 27,
    "start_time": "2022-09-19T09:20:23.419Z"
   },
   {
    "duration": 10,
    "start_time": "2022-09-19T09:22:38.032Z"
   },
   {
    "duration": 13,
    "start_time": "2022-09-19T09:27:51.136Z"
   },
   {
    "duration": 11,
    "start_time": "2022-09-19T09:29:10.699Z"
   },
   {
    "duration": 11,
    "start_time": "2022-09-19T09:29:18.728Z"
   },
   {
    "duration": 12,
    "start_time": "2022-09-19T09:30:42.227Z"
   },
   {
    "duration": 124,
    "start_time": "2022-09-19T09:31:15.728Z"
   },
   {
    "duration": 121,
    "start_time": "2022-09-19T09:31:23.903Z"
   },
   {
    "duration": 131,
    "start_time": "2022-09-19T09:33:29.510Z"
   },
   {
    "duration": 133,
    "start_time": "2022-09-19T09:33:48.161Z"
   },
   {
    "duration": 5,
    "start_time": "2022-09-19T09:35:03.825Z"
   },
   {
    "duration": 115,
    "start_time": "2022-09-19T09:35:33.632Z"
   },
   {
    "duration": 111,
    "start_time": "2022-09-19T09:36:06.594Z"
   },
   {
    "duration": 9,
    "start_time": "2022-09-19T09:37:09.415Z"
   },
   {
    "duration": 79,
    "start_time": "2022-09-19T09:39:31.811Z"
   },
   {
    "duration": 131,
    "start_time": "2022-09-19T09:39:38.811Z"
   },
   {
    "duration": 126,
    "start_time": "2022-09-19T09:52:56.795Z"
   },
   {
    "duration": 182,
    "start_time": "2022-09-19T09:53:20.967Z"
   },
   {
    "duration": 18,
    "start_time": "2022-09-19T10:06:33.950Z"
   },
   {
    "duration": 18,
    "start_time": "2022-09-19T10:07:36.505Z"
   },
   {
    "duration": 19,
    "start_time": "2022-09-19T10:07:48.560Z"
   },
   {
    "duration": 18,
    "start_time": "2022-09-19T10:07:55.843Z"
   },
   {
    "duration": 23,
    "start_time": "2022-09-19T10:08:11.199Z"
   },
   {
    "duration": 20,
    "start_time": "2022-09-19T10:12:09.931Z"
   },
   {
    "duration": 18,
    "start_time": "2022-09-19T10:12:45.804Z"
   },
   {
    "duration": 29,
    "start_time": "2022-09-19T10:13:28.686Z"
   },
   {
    "duration": 58,
    "start_time": "2022-09-19T10:17:45.748Z"
   },
   {
    "duration": 23,
    "start_time": "2022-09-19T10:17:53.179Z"
   },
   {
    "duration": 28,
    "start_time": "2022-09-19T10:18:15.694Z"
   },
   {
    "duration": 25,
    "start_time": "2022-09-19T10:18:39.411Z"
   },
   {
    "duration": 24,
    "start_time": "2022-09-19T10:19:18.460Z"
   },
   {
    "duration": 26,
    "start_time": "2022-09-19T10:19:38.459Z"
   },
   {
    "duration": 22,
    "start_time": "2022-09-19T10:19:48.226Z"
   },
   {
    "duration": 27,
    "start_time": "2022-09-19T10:19:59.310Z"
   },
   {
    "duration": 77,
    "start_time": "2022-09-19T10:21:30.376Z"
   },
   {
    "duration": 17,
    "start_time": "2022-09-19T10:21:55.202Z"
   },
   {
    "duration": 18,
    "start_time": "2022-09-19T10:23:47.895Z"
   },
   {
    "duration": 19,
    "start_time": "2022-09-19T10:24:26.207Z"
   },
   {
    "duration": 3,
    "start_time": "2022-09-19T10:31:16.761Z"
   },
   {
    "duration": 3,
    "start_time": "2022-09-19T10:32:09.245Z"
   },
   {
    "duration": 3,
    "start_time": "2022-09-19T10:32:38.956Z"
   },
   {
    "duration": 3,
    "start_time": "2022-09-19T10:32:40.761Z"
   },
   {
    "duration": 17,
    "start_time": "2022-09-19T10:33:14.087Z"
   },
   {
    "duration": 3,
    "start_time": "2022-09-19T10:33:15.784Z"
   },
   {
    "duration": 29,
    "start_time": "2022-09-19T10:34:02.245Z"
   },
   {
    "duration": 10,
    "start_time": "2022-09-19T10:34:17.368Z"
   },
   {
    "duration": 20,
    "start_time": "2022-09-19T10:34:34.199Z"
   },
   {
    "duration": 22,
    "start_time": "2022-09-19T10:35:31.432Z"
   },
   {
    "duration": 25,
    "start_time": "2022-09-19T10:35:52.101Z"
   },
   {
    "duration": 161,
    "start_time": "2022-09-19T10:36:36.937Z"
   },
   {
    "duration": 153,
    "start_time": "2022-09-19T10:37:03.905Z"
   },
   {
    "duration": 58,
    "start_time": "2022-09-19T10:38:53.550Z"
   },
   {
    "duration": 183,
    "start_time": "2022-09-19T10:39:00.308Z"
   },
   {
    "duration": 190,
    "start_time": "2022-09-19T10:39:32.905Z"
   },
   {
    "duration": 236,
    "start_time": "2022-09-19T10:39:46.813Z"
   },
   {
    "duration": 194,
    "start_time": "2022-09-19T10:39:57.599Z"
   },
   {
    "duration": 201,
    "start_time": "2022-09-19T10:45:59.919Z"
   },
   {
    "duration": 175,
    "start_time": "2022-09-19T10:46:10.972Z"
   },
   {
    "duration": 180,
    "start_time": "2022-09-19T10:46:22.969Z"
   },
   {
    "duration": 10,
    "start_time": "2022-09-19T11:31:07.511Z"
   },
   {
    "duration": 8,
    "start_time": "2022-09-19T11:31:58.442Z"
   },
   {
    "duration": 25,
    "start_time": "2022-09-19T11:32:05.561Z"
   },
   {
    "duration": 610,
    "start_time": "2022-09-19T11:32:59.031Z"
   },
   {
    "duration": 142,
    "start_time": "2022-09-19T11:33:00.911Z"
   },
   {
    "duration": 5,
    "start_time": "2022-09-19T11:33:04.731Z"
   },
   {
    "duration": 15,
    "start_time": "2022-09-19T11:33:07.337Z"
   },
   {
    "duration": 6,
    "start_time": "2022-09-19T11:33:09.635Z"
   },
   {
    "duration": 26,
    "start_time": "2022-09-19T11:33:11.508Z"
   },
   {
    "duration": 13,
    "start_time": "2022-09-19T11:33:14.519Z"
   },
   {
    "duration": 9,
    "start_time": "2022-09-19T11:33:16.843Z"
   },
   {
    "duration": 4,
    "start_time": "2022-09-19T11:33:18.723Z"
   },
   {
    "duration": 4,
    "start_time": "2022-09-19T11:33:21.286Z"
   },
   {
    "duration": 3,
    "start_time": "2022-09-19T11:33:23.011Z"
   },
   {
    "duration": 4,
    "start_time": "2022-09-19T11:33:24.927Z"
   },
   {
    "duration": 7,
    "start_time": "2022-09-19T11:33:26.723Z"
   },
   {
    "duration": 11,
    "start_time": "2022-09-19T11:33:29.175Z"
   },
   {
    "duration": 9,
    "start_time": "2022-09-19T11:33:31.680Z"
   },
   {
    "duration": 49,
    "start_time": "2022-09-19T11:33:39.631Z"
   },
   {
    "duration": 5,
    "start_time": "2022-09-19T11:33:48.537Z"
   },
   {
    "duration": 9,
    "start_time": "2022-09-19T11:33:51.643Z"
   },
   {
    "duration": 577,
    "start_time": "2022-09-19T11:34:10.755Z"
   },
   {
    "duration": 155,
    "start_time": "2022-09-19T11:34:12.523Z"
   },
   {
    "duration": 4,
    "start_time": "2022-09-19T11:34:15.749Z"
   },
   {
    "duration": 16,
    "start_time": "2022-09-19T11:34:18.623Z"
   },
   {
    "duration": 7,
    "start_time": "2022-09-19T11:34:20.738Z"
   },
   {
    "duration": 31,
    "start_time": "2022-09-19T11:34:22.827Z"
   },
   {
    "duration": 15,
    "start_time": "2022-09-19T11:34:26.130Z"
   },
   {
    "duration": 10,
    "start_time": "2022-09-19T11:34:28.431Z"
   },
   {
    "duration": 5,
    "start_time": "2022-09-19T11:34:30.727Z"
   },
   {
    "duration": 4,
    "start_time": "2022-09-19T11:34:33.040Z"
   },
   {
    "duration": 3,
    "start_time": "2022-09-19T11:34:35.323Z"
   },
   {
    "duration": 4,
    "start_time": "2022-09-19T11:34:37.478Z"
   },
   {
    "duration": 6,
    "start_time": "2022-09-19T11:34:39.966Z"
   },
   {
    "duration": 9,
    "start_time": "2022-09-19T11:34:42.105Z"
   },
   {
    "duration": 8,
    "start_time": "2022-09-19T11:34:44.911Z"
   },
   {
    "duration": 50,
    "start_time": "2022-09-19T11:34:47.083Z"
   },
   {
    "duration": 6,
    "start_time": "2022-09-19T11:35:15.591Z"
   },
   {
    "duration": 100,
    "start_time": "2022-09-19T11:39:32.534Z"
   },
   {
    "duration": 14,
    "start_time": "2022-09-19T11:40:06.816Z"
   },
   {
    "duration": 16,
    "start_time": "2022-09-19T11:40:09.091Z"
   },
   {
    "duration": 5,
    "start_time": "2022-09-19T11:40:31.706Z"
   },
   {
    "duration": 9,
    "start_time": "2022-09-19T11:41:33.574Z"
   },
   {
    "duration": 8,
    "start_time": "2022-09-19T11:41:40.839Z"
   },
   {
    "duration": 23,
    "start_time": "2022-09-19T11:41:46.643Z"
   },
   {
    "duration": 6,
    "start_time": "2022-09-19T11:41:48.915Z"
   },
   {
    "duration": 16,
    "start_time": "2022-09-19T11:41:51.134Z"
   },
   {
    "duration": 6,
    "start_time": "2022-09-19T11:42:03.841Z"
   },
   {
    "duration": 6,
    "start_time": "2022-09-19T11:42:06.671Z"
   },
   {
    "duration": 17,
    "start_time": "2022-09-19T11:42:08.859Z"
   },
   {
    "duration": 3,
    "start_time": "2022-09-19T11:42:13.731Z"
   },
   {
    "duration": 55,
    "start_time": "2022-09-19T11:42:15.961Z"
   },
   {
    "duration": 7,
    "start_time": "2022-09-19T11:42:17.656Z"
   },
   {
    "duration": 18,
    "start_time": "2022-09-19T11:42:19.818Z"
   },
   {
    "duration": 6,
    "start_time": "2022-09-19T11:42:23.815Z"
   },
   {
    "duration": 8,
    "start_time": "2022-09-19T11:42:25.781Z"
   },
   {
    "duration": 4,
    "start_time": "2022-09-19T11:42:27.949Z"
   },
   {
    "duration": 4,
    "start_time": "2022-09-19T11:42:30.159Z"
   },
   {
    "duration": 3,
    "start_time": "2022-09-19T11:42:32.040Z"
   },
   {
    "duration": 3,
    "start_time": "2022-09-19T11:42:33.952Z"
   },
   {
    "duration": 18,
    "start_time": "2022-09-19T11:42:36.158Z"
   },
   {
    "duration": 2,
    "start_time": "2022-09-19T11:42:39.727Z"
   },
   {
    "duration": 5,
    "start_time": "2022-09-19T11:42:41.651Z"
   },
   {
    "duration": 83,
    "start_time": "2022-09-19T11:42:43.318Z"
   },
   {
    "duration": 20,
    "start_time": "2022-09-19T11:42:46.154Z"
   },
   {
    "duration": 24,
    "start_time": "2022-09-19T11:42:49.460Z"
   },
   {
    "duration": 17,
    "start_time": "2022-09-19T11:42:52.839Z"
   },
   {
    "duration": 14,
    "start_time": "2022-09-19T11:42:54.719Z"
   },
   {
    "duration": 7,
    "start_time": "2022-09-19T11:42:59.159Z"
   },
   {
    "duration": 96,
    "start_time": "2022-09-19T11:43:03.623Z"
   },
   {
    "duration": 14,
    "start_time": "2022-09-19T11:43:06.127Z"
   },
   {
    "duration": 8,
    "start_time": "2022-09-19T11:43:16.331Z"
   },
   {
    "duration": 90,
    "start_time": "2022-09-19T11:43:18.934Z"
   },
   {
    "duration": 13,
    "start_time": "2022-09-19T11:43:58.053Z"
   },
   {
    "duration": 14,
    "start_time": "2022-09-19T11:44:16.369Z"
   },
   {
    "duration": 14,
    "start_time": "2022-09-19T11:44:40.042Z"
   },
   {
    "duration": 14,
    "start_time": "2022-09-19T11:45:37.308Z"
   },
   {
    "duration": 14,
    "start_time": "2022-09-19T11:45:47.407Z"
   },
   {
    "duration": 14,
    "start_time": "2022-09-19T11:46:21.889Z"
   },
   {
    "duration": 14,
    "start_time": "2022-09-19T11:46:55.643Z"
   },
   {
    "duration": 13,
    "start_time": "2022-09-19T11:47:06.422Z"
   },
   {
    "duration": 14,
    "start_time": "2022-09-19T11:47:46.629Z"
   },
   {
    "duration": 91,
    "start_time": "2022-09-19T11:49:12.181Z"
   },
   {
    "duration": 13,
    "start_time": "2022-09-19T11:50:50.809Z"
   },
   {
    "duration": 7,
    "start_time": "2022-09-19T11:52:25.295Z"
   },
   {
    "duration": 667,
    "start_time": "2022-09-19T11:52:58.670Z"
   },
   {
    "duration": 150,
    "start_time": "2022-09-19T11:53:00.398Z"
   },
   {
    "duration": 6,
    "start_time": "2022-09-19T11:53:03.567Z"
   },
   {
    "duration": 16,
    "start_time": "2022-09-19T11:53:05.019Z"
   },
   {
    "duration": 7,
    "start_time": "2022-09-19T11:53:07.175Z"
   },
   {
    "duration": 27,
    "start_time": "2022-09-19T11:53:09.613Z"
   },
   {
    "duration": 14,
    "start_time": "2022-09-19T11:53:12.310Z"
   },
   {
    "duration": 8,
    "start_time": "2022-09-19T11:53:14.717Z"
   },
   {
    "duration": 4,
    "start_time": "2022-09-19T11:53:17.002Z"
   },
   {
    "duration": 4,
    "start_time": "2022-09-19T11:53:19.281Z"
   },
   {
    "duration": 3,
    "start_time": "2022-09-19T11:53:21.117Z"
   },
   {
    "duration": 7,
    "start_time": "2022-09-19T11:53:23.413Z"
   },
   {
    "duration": 6,
    "start_time": "2022-09-19T11:53:25.090Z"
   },
   {
    "duration": 9,
    "start_time": "2022-09-19T11:53:27.139Z"
   },
   {
    "duration": 8,
    "start_time": "2022-09-19T11:53:29.678Z"
   },
   {
    "duration": 102,
    "start_time": "2022-09-19T11:53:31.850Z"
   },
   {
    "duration": 7,
    "start_time": "2022-09-19T11:53:35.452Z"
   },
   {
    "duration": 14,
    "start_time": "2022-09-19T11:53:37.056Z"
   },
   {
    "duration": 8,
    "start_time": "2022-09-19T11:53:38.678Z"
   },
   {
    "duration": 24,
    "start_time": "2022-09-19T11:53:41.915Z"
   },
   {
    "duration": 6,
    "start_time": "2022-09-19T11:53:44.240Z"
   },
   {
    "duration": 17,
    "start_time": "2022-09-19T11:53:46.444Z"
   },
   {
    "duration": 5,
    "start_time": "2022-09-19T11:53:49.619Z"
   },
   {
    "duration": 6,
    "start_time": "2022-09-19T11:53:52.215Z"
   },
   {
    "duration": 18,
    "start_time": "2022-09-19T11:53:54.278Z"
   },
   {
    "duration": 3,
    "start_time": "2022-09-19T11:53:56.588Z"
   },
   {
    "duration": 57,
    "start_time": "2022-09-19T11:53:59.030Z"
   },
   {
    "duration": 7,
    "start_time": "2022-09-19T11:54:02.742Z"
   },
   {
    "duration": 18,
    "start_time": "2022-09-19T11:54:04.613Z"
   },
   {
    "duration": 5,
    "start_time": "2022-09-19T11:54:07.395Z"
   },
   {
    "duration": 8,
    "start_time": "2022-09-19T11:54:09.367Z"
   },
   {
    "duration": 6,
    "start_time": "2022-09-19T11:54:11.626Z"
   },
   {
    "duration": 5,
    "start_time": "2022-09-19T11:54:13.766Z"
   },
   {
    "duration": 3,
    "start_time": "2022-09-19T11:54:16.037Z"
   },
   {
    "duration": 4,
    "start_time": "2022-09-19T11:54:17.636Z"
   },
   {
    "duration": 11,
    "start_time": "2022-09-19T11:54:20.237Z"
   },
   {
    "duration": 3,
    "start_time": "2022-09-19T11:54:23.089Z"
   },
   {
    "duration": 4,
    "start_time": "2022-09-19T11:54:25.304Z"
   },
   {
    "duration": 82,
    "start_time": "2022-09-19T11:54:27.520Z"
   },
   {
    "duration": 19,
    "start_time": "2022-09-19T11:54:29.254Z"
   },
   {
    "duration": 24,
    "start_time": "2022-09-19T11:54:32.227Z"
   },
   {
    "duration": 16,
    "start_time": "2022-09-19T11:54:35.344Z"
   },
   {
    "duration": 14,
    "start_time": "2022-09-19T11:54:38.011Z"
   },
   {
    "duration": 9,
    "start_time": "2022-09-19T11:54:46.354Z"
   },
   {
    "duration": 100,
    "start_time": "2022-09-19T11:54:52.814Z"
   },
   {
    "duration": 8,
    "start_time": "2022-09-19T11:55:10.937Z"
   },
   {
    "duration": 13,
    "start_time": "2022-09-19T11:55:47.719Z"
   },
   {
    "duration": 7,
    "start_time": "2022-09-19T11:55:53.947Z"
   },
   {
    "duration": 94,
    "start_time": "2022-09-19T11:56:05.917Z"
   },
   {
    "duration": 13,
    "start_time": "2022-09-19T11:56:21.054Z"
   },
   {
    "duration": 7,
    "start_time": "2022-09-19T11:57:39.072Z"
   },
   {
    "duration": 9,
    "start_time": "2022-09-19T11:57:42.064Z"
   },
   {
    "duration": 8,
    "start_time": "2022-09-19T11:58:36.912Z"
   },
   {
    "duration": 3,
    "start_time": "2022-09-19T11:58:39.545Z"
   },
   {
    "duration": 6,
    "start_time": "2022-09-19T11:58:40.199Z"
   },
   {
    "duration": 5,
    "start_time": "2022-09-19T11:58:40.770Z"
   },
   {
    "duration": 5,
    "start_time": "2022-09-19T11:58:44.408Z"
   },
   {
    "duration": 33,
    "start_time": "2022-09-19T11:58:44.852Z"
   },
   {
    "duration": 176,
    "start_time": "2022-09-19T11:58:48.869Z"
   },
   {
    "duration": 13,
    "start_time": "2022-09-19T11:59:04.538Z"
   },
   {
    "duration": 148,
    "start_time": "2022-09-19T11:59:11.483Z"
   },
   {
    "duration": 132,
    "start_time": "2022-09-19T11:59:30.030Z"
   },
   {
    "duration": 20,
    "start_time": "2022-09-19T11:59:36.373Z"
   },
   {
    "duration": 30,
    "start_time": "2022-09-19T11:59:40.457Z"
   },
   {
    "duration": 206,
    "start_time": "2022-09-19T12:03:08.804Z"
   },
   {
    "duration": 14,
    "start_time": "2022-09-19T12:15:43.217Z"
   },
   {
    "duration": 10,
    "start_time": "2022-09-19T12:16:07.956Z"
   },
   {
    "duration": 36,
    "start_time": "2022-09-19T13:47:52.655Z"
   },
   {
    "duration": 29,
    "start_time": "2022-09-19T13:48:53.461Z"
   },
   {
    "duration": 49,
    "start_time": "2022-09-19T13:49:41.802Z"
   },
   {
    "duration": 29,
    "start_time": "2022-09-19T13:50:18.260Z"
   },
   {
    "duration": 47,
    "start_time": "2022-09-19T13:50:45.167Z"
   },
   {
    "duration": 20,
    "start_time": "2022-09-19T13:51:08.252Z"
   },
   {
    "duration": 185,
    "start_time": "2022-09-19T14:04:17.170Z"
   },
   {
    "duration": 147,
    "start_time": "2022-09-19T14:04:42.332Z"
   },
   {
    "duration": 164,
    "start_time": "2022-09-19T14:04:56.390Z"
   },
   {
    "duration": 169,
    "start_time": "2022-09-19T14:05:04.113Z"
   },
   {
    "duration": 3,
    "start_time": "2022-09-19T14:07:55.065Z"
   },
   {
    "duration": 233,
    "start_time": "2022-09-19T14:08:03.006Z"
   },
   {
    "duration": 188,
    "start_time": "2022-09-19T14:08:49.945Z"
   },
   {
    "duration": 179,
    "start_time": "2022-09-19T14:09:35.499Z"
   },
   {
    "duration": 178,
    "start_time": "2022-09-19T14:09:47.241Z"
   },
   {
    "duration": 172,
    "start_time": "2022-09-19T14:09:56.431Z"
   },
   {
    "duration": 179,
    "start_time": "2022-09-19T14:09:59.047Z"
   },
   {
    "duration": 3,
    "start_time": "2022-09-19T14:10:51.235Z"
   },
   {
    "duration": 4,
    "start_time": "2022-09-19T14:12:08.251Z"
   },
   {
    "duration": 84,
    "start_time": "2022-09-19T14:13:46.725Z"
   },
   {
    "duration": 17,
    "start_time": "2022-09-19T14:13:52.612Z"
   },
   {
    "duration": 20,
    "start_time": "2022-09-19T14:14:39.618Z"
   },
   {
    "duration": 17,
    "start_time": "2022-09-19T14:15:04.418Z"
   },
   {
    "duration": 141,
    "start_time": "2022-09-19T14:15:52.967Z"
   },
   {
    "duration": 133,
    "start_time": "2022-09-19T14:16:09.760Z"
   },
   {
    "duration": 139,
    "start_time": "2022-09-19T14:16:51.237Z"
   },
   {
    "duration": 146,
    "start_time": "2022-09-19T14:17:30.554Z"
   },
   {
    "duration": 5,
    "start_time": "2022-09-19T14:19:35.635Z"
   },
   {
    "duration": 31,
    "start_time": "2022-09-19T14:19:39.296Z"
   },
   {
    "duration": 158,
    "start_time": "2022-09-19T14:29:09.594Z"
   },
   {
    "duration": 4,
    "start_time": "2022-09-19T14:30:40.469Z"
   },
   {
    "duration": 4,
    "start_time": "2022-09-19T14:30:59.599Z"
   },
   {
    "duration": 14,
    "start_time": "2022-09-19T14:32:26.188Z"
   },
   {
    "duration": 599,
    "start_time": "2022-09-19T14:34:45.030Z"
   },
   {
    "duration": 192,
    "start_time": "2022-09-19T14:34:46.763Z"
   },
   {
    "duration": 5,
    "start_time": "2022-09-19T14:34:48.066Z"
   },
   {
    "duration": 16,
    "start_time": "2022-09-19T14:34:50.023Z"
   },
   {
    "duration": 6,
    "start_time": "2022-09-19T14:34:51.319Z"
   },
   {
    "duration": 25,
    "start_time": "2022-09-19T14:34:52.297Z"
   },
   {
    "duration": 14,
    "start_time": "2022-09-19T14:34:54.649Z"
   },
   {
    "duration": 9,
    "start_time": "2022-09-19T14:34:57.005Z"
   },
   {
    "duration": 5,
    "start_time": "2022-09-19T14:34:58.012Z"
   },
   {
    "duration": 3,
    "start_time": "2022-09-19T14:35:00.997Z"
   },
   {
    "duration": 5,
    "start_time": "2022-09-19T14:35:02.564Z"
   },
   {
    "duration": 5,
    "start_time": "2022-09-19T14:35:04.633Z"
   },
   {
    "duration": 6,
    "start_time": "2022-09-19T14:35:06.396Z"
   },
   {
    "duration": 9,
    "start_time": "2022-09-19T14:35:08.268Z"
   },
   {
    "duration": 9,
    "start_time": "2022-09-19T14:35:10.706Z"
   },
   {
    "duration": 51,
    "start_time": "2022-09-19T14:35:12.796Z"
   },
   {
    "duration": 7,
    "start_time": "2022-09-19T14:35:15.567Z"
   },
   {
    "duration": 14,
    "start_time": "2022-09-19T14:35:17.482Z"
   },
   {
    "duration": 9,
    "start_time": "2022-09-19T14:35:19.263Z"
   },
   {
    "duration": 27,
    "start_time": "2022-09-19T14:35:21.769Z"
   },
   {
    "duration": 6,
    "start_time": "2022-09-19T14:35:23.854Z"
   },
   {
    "duration": 17,
    "start_time": "2022-09-19T14:35:25.839Z"
   },
   {
    "duration": 6,
    "start_time": "2022-09-19T14:35:29.952Z"
   },
   {
    "duration": 6,
    "start_time": "2022-09-19T14:35:32.961Z"
   },
   {
    "duration": 19,
    "start_time": "2022-09-19T14:35:36.602Z"
   },
   {
    "duration": 3,
    "start_time": "2022-09-19T14:35:39.421Z"
   },
   {
    "duration": 58,
    "start_time": "2022-09-19T14:35:43.100Z"
   },
   {
    "duration": 8,
    "start_time": "2022-09-19T14:35:49.034Z"
   },
   {
    "duration": 18,
    "start_time": "2022-09-19T14:35:49.044Z"
   },
   {
    "duration": 5,
    "start_time": "2022-09-19T14:35:53.821Z"
   },
   {
    "duration": 10,
    "start_time": "2022-09-19T14:35:55.097Z"
   },
   {
    "duration": 6,
    "start_time": "2022-09-19T14:35:56.905Z"
   },
   {
    "duration": 5,
    "start_time": "2022-09-19T14:35:57.633Z"
   },
   {
    "duration": 3,
    "start_time": "2022-09-19T14:35:59.196Z"
   },
   {
    "duration": 3,
    "start_time": "2022-09-19T14:36:01.029Z"
   },
   {
    "duration": 11,
    "start_time": "2022-09-19T14:36:01.596Z"
   },
   {
    "duration": 9,
    "start_time": "2022-09-19T14:36:26.030Z"
   },
   {
    "duration": 3,
    "start_time": "2022-09-19T14:38:00.889Z"
   },
   {
    "duration": 4,
    "start_time": "2022-09-19T14:38:04.459Z"
   },
   {
    "duration": 43,
    "start_time": "2022-09-19T14:38:21.993Z"
   },
   {
    "duration": 20,
    "start_time": "2022-09-19T14:38:24.123Z"
   },
   {
    "duration": 51,
    "start_time": "2022-09-19T14:39:10.263Z"
   },
   {
    "duration": 21,
    "start_time": "2022-09-19T14:39:12.700Z"
   },
   {
    "duration": 14,
    "start_time": "2022-09-19T14:39:35.121Z"
   },
   {
    "duration": 18,
    "start_time": "2022-09-19T14:39:38.304Z"
   },
   {
    "duration": 1568,
    "start_time": "2022-09-19T14:42:13.488Z"
   },
   {
    "duration": 619,
    "start_time": "2022-09-19T14:42:33.944Z"
   },
   {
    "duration": 3,
    "start_time": "2022-09-19T14:42:35.370Z"
   },
   {
    "duration": 162,
    "start_time": "2022-09-19T14:42:36.326Z"
   },
   {
    "duration": 5,
    "start_time": "2022-09-19T14:42:37.437Z"
   },
   {
    "duration": 16,
    "start_time": "2022-09-19T14:42:38.807Z"
   },
   {
    "duration": 7,
    "start_time": "2022-09-19T14:42:40.080Z"
   },
   {
    "duration": 26,
    "start_time": "2022-09-19T14:42:40.543Z"
   },
   {
    "duration": 13,
    "start_time": "2022-09-19T14:42:42.194Z"
   },
   {
    "duration": 9,
    "start_time": "2022-09-19T14:42:43.409Z"
   },
   {
    "duration": 5,
    "start_time": "2022-09-19T14:42:44.036Z"
   },
   {
    "duration": 3,
    "start_time": "2022-09-19T14:42:45.287Z"
   },
   {
    "duration": 3,
    "start_time": "2022-09-19T14:42:45.852Z"
   },
   {
    "duration": 5,
    "start_time": "2022-09-19T14:42:46.384Z"
   },
   {
    "duration": 6,
    "start_time": "2022-09-19T14:42:46.969Z"
   },
   {
    "duration": 9,
    "start_time": "2022-09-19T14:42:49.095Z"
   },
   {
    "duration": 9,
    "start_time": "2022-09-19T14:42:51.810Z"
   },
   {
    "duration": 62,
    "start_time": "2022-09-19T14:42:52.594Z"
   },
   {
    "duration": 8,
    "start_time": "2022-09-19T14:42:54.423Z"
   },
   {
    "duration": 22,
    "start_time": "2022-09-19T14:42:55.057Z"
   },
   {
    "duration": 8,
    "start_time": "2022-09-19T14:42:55.692Z"
   },
   {
    "duration": 25,
    "start_time": "2022-09-19T14:42:58.065Z"
   },
   {
    "duration": 7,
    "start_time": "2022-09-19T14:42:59.185Z"
   },
   {
    "duration": 20,
    "start_time": "2022-09-19T14:42:59.835Z"
   },
   {
    "duration": 6,
    "start_time": "2022-09-19T14:43:01.336Z"
   },
   {
    "duration": 6,
    "start_time": "2022-09-19T14:43:04.863Z"
   },
   {
    "duration": 17,
    "start_time": "2022-09-19T14:43:05.395Z"
   },
   {
    "duration": 4,
    "start_time": "2022-09-19T14:43:06.788Z"
   },
   {
    "duration": 57,
    "start_time": "2022-09-19T14:43:07.320Z"
   },
   {
    "duration": 7,
    "start_time": "2022-09-19T14:43:07.830Z"
   },
   {
    "duration": 17,
    "start_time": "2022-09-19T14:43:08.394Z"
   },
   {
    "duration": 4,
    "start_time": "2022-09-19T14:43:12.844Z"
   },
   {
    "duration": 8,
    "start_time": "2022-09-19T14:43:16.139Z"
   },
   {
    "duration": 4,
    "start_time": "2022-09-19T14:43:18.342Z"
   },
   {
    "duration": 5,
    "start_time": "2022-09-19T14:43:18.755Z"
   },
   {
    "duration": 3,
    "start_time": "2022-09-19T14:43:21.118Z"
   },
   {
    "duration": 4,
    "start_time": "2022-09-19T14:43:21.493Z"
   },
   {
    "duration": 12,
    "start_time": "2022-09-19T14:43:21.889Z"
   },
   {
    "duration": 3,
    "start_time": "2022-09-19T14:43:24.885Z"
   },
   {
    "duration": 4,
    "start_time": "2022-09-19T14:43:26.074Z"
   },
   {
    "duration": 3,
    "start_time": "2022-09-19T14:46:22.253Z"
   },
   {
    "duration": 9,
    "start_time": "2022-09-19T14:46:54.820Z"
   },
   {
    "duration": 4,
    "start_time": "2022-09-19T14:47:06.788Z"
   },
   {
    "duration": 3,
    "start_time": "2022-09-19T14:47:28.921Z"
   },
   {
    "duration": 4,
    "start_time": "2022-09-19T14:48:04.006Z"
   },
   {
    "duration": 106,
    "start_time": "2022-09-19T14:49:07.741Z"
   },
   {
    "duration": 20,
    "start_time": "2022-09-19T14:49:09.800Z"
   },
   {
    "duration": 1083,
    "start_time": "2022-09-19T14:49:47.063Z"
   },
   {
    "duration": 25,
    "start_time": "2022-09-19T14:49:58.953Z"
   },
   {
    "duration": 17,
    "start_time": "2022-09-19T14:50:01.520Z"
   },
   {
    "duration": 15,
    "start_time": "2022-09-19T14:50:03.035Z"
   },
   {
    "duration": 8,
    "start_time": "2022-09-19T14:50:05.266Z"
   },
   {
    "duration": 97,
    "start_time": "2022-09-19T14:50:07.366Z"
   },
   {
    "duration": 15,
    "start_time": "2022-09-19T14:50:08.590Z"
   },
   {
    "duration": 9,
    "start_time": "2022-09-19T14:50:09.817Z"
   },
   {
    "duration": 105,
    "start_time": "2022-09-19T14:50:10.894Z"
   },
   {
    "duration": 13,
    "start_time": "2022-09-19T14:50:11.449Z"
   },
   {
    "duration": 8,
    "start_time": "2022-09-19T14:50:12.819Z"
   },
   {
    "duration": 8,
    "start_time": "2022-09-19T14:50:13.424Z"
   },
   {
    "duration": 4,
    "start_time": "2022-09-19T14:50:17.955Z"
   },
   {
    "duration": 3,
    "start_time": "2022-09-19T14:50:20.714Z"
   },
   {
    "duration": 6,
    "start_time": "2022-09-19T14:50:22.494Z"
   },
   {
    "duration": 5,
    "start_time": "2022-09-19T14:50:23.089Z"
   },
   {
    "duration": 6,
    "start_time": "2022-09-19T14:50:24.943Z"
   },
   {
    "duration": 5,
    "start_time": "2022-09-19T14:50:26.723Z"
   },
   {
    "duration": 38,
    "start_time": "2022-09-19T14:50:27.233Z"
   },
   {
    "duration": 126,
    "start_time": "2022-09-19T14:50:33.951Z"
   },
   {
    "duration": 14,
    "start_time": "2022-09-19T14:50:37.003Z"
   },
   {
    "duration": 137,
    "start_time": "2022-09-19T14:50:38.997Z"
   },
   {
    "duration": 137,
    "start_time": "2022-09-19T14:50:42.059Z"
   },
   {
    "duration": 26,
    "start_time": "2022-09-19T14:50:44.094Z"
   },
   {
    "duration": 29,
    "start_time": "2022-09-19T14:50:46.321Z"
   },
   {
    "duration": 213,
    "start_time": "2022-09-19T14:50:48.721Z"
   },
   {
    "duration": 4,
    "start_time": "2022-09-19T14:50:53.649Z"
   },
   {
    "duration": 4,
    "start_time": "2022-09-19T14:50:56.330Z"
   },
   {
    "duration": 4,
    "start_time": "2022-09-19T14:50:58.005Z"
   },
   {
    "duration": 141,
    "start_time": "2022-09-19T14:51:00.561Z"
   },
   {
    "duration": 179,
    "start_time": "2022-09-19T14:51:03.678Z"
   },
   {
    "duration": 12,
    "start_time": "2022-09-19T14:51:06.295Z"
   },
   {
    "duration": 5,
    "start_time": "2022-09-19T14:51:50.267Z"
   },
   {
    "duration": 6,
    "start_time": "2022-09-19T14:52:03.893Z"
   },
   {
    "duration": 5,
    "start_time": "2022-09-19T14:53:15.797Z"
   },
   {
    "duration": 4,
    "start_time": "2022-09-19T14:54:32.797Z"
   },
   {
    "duration": 8,
    "start_time": "2022-09-19T14:56:06.115Z"
   },
   {
    "duration": 8,
    "start_time": "2022-09-19T14:56:11.456Z"
   },
   {
    "duration": 8,
    "start_time": "2022-09-19T14:56:18.128Z"
   },
   {
    "duration": 54,
    "start_time": "2022-09-19T14:58:39.601Z"
   },
   {
    "duration": 4,
    "start_time": "2022-09-19T14:59:35.763Z"
   },
   {
    "duration": 4,
    "start_time": "2022-09-19T15:01:50.320Z"
   },
   {
    "duration": 4,
    "start_time": "2022-09-19T15:01:53.318Z"
   },
   {
    "duration": 4,
    "start_time": "2022-09-19T15:02:01.112Z"
   },
   {
    "duration": 32,
    "start_time": "2022-09-19T15:03:14.011Z"
   },
   {
    "duration": 6,
    "start_time": "2022-09-19T15:05:08.274Z"
   },
   {
    "duration": 5,
    "start_time": "2022-09-19T15:06:07.422Z"
   },
   {
    "duration": 13,
    "start_time": "2022-09-19T15:07:29.936Z"
   },
   {
    "duration": 11,
    "start_time": "2022-09-19T15:07:40.606Z"
   },
   {
    "duration": 5,
    "start_time": "2022-09-19T15:08:31.125Z"
   },
   {
    "duration": 12,
    "start_time": "2022-09-19T15:09:40.543Z"
   },
   {
    "duration": 20,
    "start_time": "2022-09-19T15:11:04.658Z"
   },
   {
    "duration": 19,
    "start_time": "2022-09-19T15:11:14.086Z"
   },
   {
    "duration": 230,
    "start_time": "2022-09-19T15:11:31.648Z"
   },
   {
    "duration": 13,
    "start_time": "2022-09-19T15:12:26.931Z"
   },
   {
    "duration": 225,
    "start_time": "2022-09-19T15:12:49.313Z"
   },
   {
    "duration": 322,
    "start_time": "2022-09-19T15:13:03.958Z"
   },
   {
    "duration": 295,
    "start_time": "2022-09-19T15:13:11.563Z"
   },
   {
    "duration": 9,
    "start_time": "2022-09-19T15:13:18.001Z"
   },
   {
    "duration": 213,
    "start_time": "2022-09-19T15:14:09.584Z"
   },
   {
    "duration": 225,
    "start_time": "2022-09-19T15:14:19.510Z"
   },
   {
    "duration": 260,
    "start_time": "2022-09-19T15:14:32.878Z"
   },
   {
    "duration": 246,
    "start_time": "2022-09-19T15:14:44.096Z"
   },
   {
    "duration": 12,
    "start_time": "2022-09-19T15:19:28.191Z"
   },
   {
    "duration": 14,
    "start_time": "2022-09-19T15:19:33.437Z"
   },
   {
    "duration": 14,
    "start_time": "2022-09-19T15:20:55.337Z"
   },
   {
    "duration": 15,
    "start_time": "2022-09-19T15:23:55.946Z"
   },
   {
    "duration": 17,
    "start_time": "2022-09-19T15:24:24.838Z"
   },
   {
    "duration": 129,
    "start_time": "2022-09-19T15:28:08.824Z"
   },
   {
    "duration": 123,
    "start_time": "2022-09-19T15:28:54.725Z"
   },
   {
    "duration": 128,
    "start_time": "2022-09-19T15:29:01.907Z"
   },
   {
    "duration": 165,
    "start_time": "2022-09-19T16:10:57.003Z"
   },
   {
    "duration": 143,
    "start_time": "2022-09-19T16:11:13.252Z"
   },
   {
    "duration": 238,
    "start_time": "2022-09-19T16:11:42.340Z"
   },
   {
    "duration": 167,
    "start_time": "2022-09-19T16:12:19.780Z"
   },
   {
    "duration": 135,
    "start_time": "2022-09-19T16:12:48.779Z"
   },
   {
    "duration": 684,
    "start_time": "2022-09-19T16:17:35.248Z"
   },
   {
    "duration": 165,
    "start_time": "2022-09-19T16:17:35.935Z"
   },
   {
    "duration": 6,
    "start_time": "2022-09-19T16:17:36.102Z"
   },
   {
    "duration": 27,
    "start_time": "2022-09-19T16:17:36.111Z"
   },
   {
    "duration": 9,
    "start_time": "2022-09-19T16:17:36.140Z"
   },
   {
    "duration": 37,
    "start_time": "2022-09-19T16:17:36.151Z"
   },
   {
    "duration": 25,
    "start_time": "2022-09-19T16:17:36.189Z"
   },
   {
    "duration": 9,
    "start_time": "2022-09-19T16:17:36.216Z"
   },
   {
    "duration": 6,
    "start_time": "2022-09-19T16:17:36.227Z"
   },
   {
    "duration": 5,
    "start_time": "2022-09-19T16:17:36.236Z"
   },
   {
    "duration": 13,
    "start_time": "2022-09-19T16:17:36.243Z"
   },
   {
    "duration": 9,
    "start_time": "2022-09-19T16:17:36.258Z"
   },
   {
    "duration": 12,
    "start_time": "2022-09-19T16:17:36.269Z"
   },
   {
    "duration": 14,
    "start_time": "2022-09-19T16:17:36.309Z"
   },
   {
    "duration": 8,
    "start_time": "2022-09-19T16:17:36.325Z"
   },
   {
    "duration": 75,
    "start_time": "2022-09-19T16:17:36.335Z"
   },
   {
    "duration": 8,
    "start_time": "2022-09-19T16:17:36.412Z"
   },
   {
    "duration": 24,
    "start_time": "2022-09-19T16:17:36.422Z"
   },
   {
    "duration": 12,
    "start_time": "2022-09-19T16:17:36.447Z"
   },
   {
    "duration": 57,
    "start_time": "2022-09-19T16:17:36.461Z"
   },
   {
    "duration": 7,
    "start_time": "2022-09-19T16:17:36.520Z"
   },
   {
    "duration": 22,
    "start_time": "2022-09-19T16:17:36.529Z"
   },
   {
    "duration": 6,
    "start_time": "2022-09-19T16:17:36.553Z"
   },
   {
    "duration": 10,
    "start_time": "2022-09-19T16:17:36.561Z"
   },
   {
    "duration": 52,
    "start_time": "2022-09-19T16:17:36.573Z"
   },
   {
    "duration": 4,
    "start_time": "2022-09-19T16:17:36.627Z"
   },
   {
    "duration": 62,
    "start_time": "2022-09-19T16:17:36.633Z"
   },
   {
    "duration": 9,
    "start_time": "2022-09-19T16:17:36.708Z"
   },
   {
    "duration": 25,
    "start_time": "2022-09-19T16:17:36.719Z"
   },
   {
    "duration": 5,
    "start_time": "2022-09-19T16:17:36.745Z"
   },
   {
    "duration": 11,
    "start_time": "2022-09-19T16:17:36.752Z"
   },
   {
    "duration": 9,
    "start_time": "2022-09-19T16:17:36.764Z"
   },
   {
    "duration": 38,
    "start_time": "2022-09-19T16:17:36.774Z"
   },
   {
    "duration": 7,
    "start_time": "2022-09-19T16:17:36.813Z"
   },
   {
    "duration": 5,
    "start_time": "2022-09-19T16:17:36.821Z"
   },
   {
    "duration": 16,
    "start_time": "2022-09-19T16:17:36.828Z"
   },
   {
    "duration": 5,
    "start_time": "2022-09-19T16:17:36.846Z"
   },
   {
    "duration": 8,
    "start_time": "2022-09-19T16:17:36.852Z"
   },
   {
    "duration": 17,
    "start_time": "2022-09-19T16:17:36.861Z"
   },
   {
    "duration": 3,
    "start_time": "2022-09-19T16:17:36.908Z"
   },
   {
    "duration": 15,
    "start_time": "2022-09-19T16:17:36.913Z"
   },
   {
    "duration": 131,
    "start_time": "2022-09-19T16:17:36.930Z"
   },
   {
    "duration": 20,
    "start_time": "2022-09-19T16:17:37.063Z"
   },
   {
    "duration": 39,
    "start_time": "2022-09-19T16:17:37.085Z"
   },
   {
    "duration": 17,
    "start_time": "2022-09-19T16:17:37.126Z"
   },
   {
    "duration": 15,
    "start_time": "2022-09-19T16:17:37.145Z"
   },
   {
    "duration": 9,
    "start_time": "2022-09-19T16:17:37.162Z"
   },
   {
    "duration": 143,
    "start_time": "2022-09-19T16:17:37.173Z"
   },
   {
    "duration": 19,
    "start_time": "2022-09-19T16:17:37.318Z"
   },
   {
    "duration": 10,
    "start_time": "2022-09-19T16:17:37.339Z"
   },
   {
    "duration": 122,
    "start_time": "2022-09-19T16:17:37.351Z"
   },
   {
    "duration": 18,
    "start_time": "2022-09-19T16:17:37.475Z"
   },
   {
    "duration": 8,
    "start_time": "2022-09-19T16:17:37.509Z"
   },
   {
    "duration": 15,
    "start_time": "2022-09-19T16:17:37.519Z"
   },
   {
    "duration": 29,
    "start_time": "2022-09-19T16:17:37.536Z"
   },
   {
    "duration": 14,
    "start_time": "2022-09-19T16:17:37.566Z"
   },
   {
    "duration": 20,
    "start_time": "2022-09-19T16:17:37.581Z"
   },
   {
    "duration": 22,
    "start_time": "2022-09-19T16:17:37.603Z"
   },
   {
    "duration": 15,
    "start_time": "2022-09-19T16:17:37.626Z"
   },
   {
    "duration": 26,
    "start_time": "2022-09-19T16:17:37.642Z"
   },
   {
    "duration": 45,
    "start_time": "2022-09-19T16:17:37.670Z"
   },
   {
    "duration": 135,
    "start_time": "2022-09-19T16:17:37.717Z"
   },
   {
    "duration": 13,
    "start_time": "2022-09-19T16:17:37.854Z"
   },
   {
    "duration": 155,
    "start_time": "2022-09-19T16:17:37.869Z"
   },
   {
    "duration": 153,
    "start_time": "2022-09-19T16:17:38.026Z"
   },
   {
    "duration": 29,
    "start_time": "2022-09-19T16:17:38.181Z"
   },
   {
    "duration": 29,
    "start_time": "2022-09-19T16:17:38.211Z"
   },
   {
    "duration": 218,
    "start_time": "2022-09-19T16:17:38.241Z"
   },
   {
    "duration": 4,
    "start_time": "2022-09-19T16:17:38.460Z"
   },
   {
    "duration": 48,
    "start_time": "2022-09-19T16:17:38.466Z"
   },
   {
    "duration": 32,
    "start_time": "2022-09-19T16:17:38.516Z"
   },
   {
    "duration": 23,
    "start_time": "2022-09-19T16:17:38.550Z"
   },
   {
    "duration": 36,
    "start_time": "2022-09-19T16:17:38.575Z"
   },
   {
    "duration": 164,
    "start_time": "2022-09-19T16:17:38.613Z"
   },
   {
    "duration": 191,
    "start_time": "2022-09-19T16:17:38.778Z"
   },
   {
    "duration": 179,
    "start_time": "2022-09-19T16:17:38.971Z"
   },
   {
    "duration": 4,
    "start_time": "2022-09-19T16:17:39.153Z"
   },
   {
    "duration": 28,
    "start_time": "2022-09-19T16:17:39.159Z"
   },
   {
    "duration": 35,
    "start_time": "2022-09-19T16:17:39.189Z"
   },
   {
    "duration": 267,
    "start_time": "2022-09-19T16:17:39.226Z"
   },
   {
    "duration": 190,
    "start_time": "2022-09-19T16:17:39.495Z"
   },
   {
    "duration": 144,
    "start_time": "2022-09-19T16:20:20.886Z"
   },
   {
    "duration": 148,
    "start_time": "2022-09-19T16:20:39.170Z"
   },
   {
    "duration": 141,
    "start_time": "2022-09-19T16:21:03.629Z"
   },
   {
    "duration": 197,
    "start_time": "2022-09-19T16:21:15.791Z"
   },
   {
    "duration": 319,
    "start_time": "2022-09-19T18:35:47.284Z"
   },
   {
    "duration": 100,
    "start_time": "2022-09-19T18:35:49.513Z"
   },
   {
    "duration": 10,
    "start_time": "2022-09-19T18:38:40.657Z"
   },
   {
    "duration": 44,
    "start_time": "2022-09-19T18:42:04.754Z"
   },
   {
    "duration": 822,
    "start_time": "2022-09-19T18:42:08.069Z"
   },
   {
    "duration": 288,
    "start_time": "2022-09-19T18:42:08.893Z"
   },
   {
    "duration": 27,
    "start_time": "2022-09-19T18:42:09.183Z"
   },
   {
    "duration": 36,
    "start_time": "2022-09-19T18:42:09.212Z"
   },
   {
    "duration": 15,
    "start_time": "2022-09-19T18:42:09.249Z"
   },
   {
    "duration": 74,
    "start_time": "2022-09-19T18:42:09.266Z"
   },
   {
    "duration": 7,
    "start_time": "2022-09-19T18:42:09.341Z"
   },
   {
    "duration": 71,
    "start_time": "2022-09-19T18:42:09.349Z"
   },
   {
    "duration": 26,
    "start_time": "2022-09-19T18:42:09.421Z"
   },
   {
    "duration": 14,
    "start_time": "2022-09-19T18:42:09.450Z"
   },
   {
    "duration": 47,
    "start_time": "2022-09-19T18:42:09.465Z"
   },
   {
    "duration": 16,
    "start_time": "2022-09-19T18:42:09.513Z"
   },
   {
    "duration": 22,
    "start_time": "2022-09-19T18:42:09.531Z"
   },
   {
    "duration": 21,
    "start_time": "2022-09-19T18:42:09.554Z"
   },
   {
    "duration": 35,
    "start_time": "2022-09-19T18:42:09.577Z"
   },
   {
    "duration": 35,
    "start_time": "2022-09-19T18:42:09.614Z"
   },
   {
    "duration": 61,
    "start_time": "2022-09-19T18:42:09.651Z"
   },
   {
    "duration": 102,
    "start_time": "2022-09-19T18:42:09.714Z"
   },
   {
    "duration": 7,
    "start_time": "2022-09-19T18:42:09.817Z"
   },
   {
    "duration": 23,
    "start_time": "2022-09-19T18:42:09.826Z"
   },
   {
    "duration": 62,
    "start_time": "2022-09-19T18:42:09.850Z"
   },
   {
    "duration": 47,
    "start_time": "2022-09-19T18:42:09.913Z"
   },
   {
    "duration": 48,
    "start_time": "2022-09-19T18:42:09.962Z"
   },
   {
    "duration": 28,
    "start_time": "2022-09-19T18:42:10.012Z"
   },
   {
    "duration": 67,
    "start_time": "2022-09-19T18:42:10.042Z"
   },
   {
    "duration": 18,
    "start_time": "2022-09-19T18:42:10.111Z"
   },
   {
    "duration": 80,
    "start_time": "2022-09-19T18:42:10.131Z"
   },
   {
    "duration": 4,
    "start_time": "2022-09-19T18:42:10.217Z"
   },
   {
    "duration": 201,
    "start_time": "2022-09-19T18:42:10.223Z"
   },
   {
    "duration": 8,
    "start_time": "2022-09-19T18:42:10.426Z"
   },
   {
    "duration": 82,
    "start_time": "2022-09-19T18:42:10.436Z"
   },
   {
    "duration": 5,
    "start_time": "2022-09-19T18:42:10.520Z"
   },
   {
    "duration": 13,
    "start_time": "2022-09-19T18:42:10.527Z"
   },
   {
    "duration": 6,
    "start_time": "2022-09-19T18:42:10.542Z"
   },
   {
    "duration": 60,
    "start_time": "2022-09-19T18:42:10.550Z"
   },
   {
    "duration": 3,
    "start_time": "2022-09-19T18:42:10.612Z"
   },
   {
    "duration": 12,
    "start_time": "2022-09-19T18:42:10.616Z"
   },
   {
    "duration": 13,
    "start_time": "2022-09-19T18:42:10.630Z"
   },
   {
    "duration": 8,
    "start_time": "2022-09-19T18:42:10.645Z"
   },
   {
    "duration": 55,
    "start_time": "2022-09-19T18:42:10.655Z"
   },
   {
    "duration": 12,
    "start_time": "2022-09-19T18:42:10.712Z"
   },
   {
    "duration": 4,
    "start_time": "2022-09-19T18:42:10.726Z"
   },
   {
    "duration": 12,
    "start_time": "2022-09-19T18:42:10.732Z"
   },
   {
    "duration": 164,
    "start_time": "2022-09-19T18:42:10.746Z"
   },
   {
    "duration": 28,
    "start_time": "2022-09-19T18:42:10.912Z"
   },
   {
    "duration": 30,
    "start_time": "2022-09-19T18:42:10.942Z"
   },
   {
    "duration": 28,
    "start_time": "2022-09-19T18:42:10.973Z"
   },
   {
    "duration": 18,
    "start_time": "2022-09-19T18:42:11.008Z"
   },
   {
    "duration": 8,
    "start_time": "2022-09-19T18:42:11.028Z"
   },
   {
    "duration": 132,
    "start_time": "2022-09-19T18:42:11.038Z"
   },
   {
    "duration": 14,
    "start_time": "2022-09-19T18:42:11.171Z"
   },
   {
    "duration": 6,
    "start_time": "2022-09-19T18:42:11.186Z"
   },
   {
    "duration": 118,
    "start_time": "2022-09-19T18:42:11.194Z"
   },
   {
    "duration": 14,
    "start_time": "2022-09-19T18:42:11.314Z"
   },
   {
    "duration": 10,
    "start_time": "2022-09-19T18:42:11.329Z"
   },
   {
    "duration": 11,
    "start_time": "2022-09-19T18:42:11.341Z"
   },
   {
    "duration": 13,
    "start_time": "2022-09-19T18:42:11.354Z"
   },
   {
    "duration": 5,
    "start_time": "2022-09-19T18:42:11.369Z"
   },
   {
    "duration": 7,
    "start_time": "2022-09-19T18:42:11.375Z"
   },
   {
    "duration": 28,
    "start_time": "2022-09-19T18:42:11.383Z"
   },
   {
    "duration": 7,
    "start_time": "2022-09-19T18:42:11.412Z"
   },
   {
    "duration": 5,
    "start_time": "2022-09-19T18:42:11.421Z"
   },
   {
    "duration": 37,
    "start_time": "2022-09-19T18:42:11.428Z"
   },
   {
    "duration": 161,
    "start_time": "2022-09-19T18:42:11.466Z"
   },
   {
    "duration": 14,
    "start_time": "2022-09-19T18:42:11.629Z"
   },
   {
    "duration": 159,
    "start_time": "2022-09-19T18:42:11.645Z"
   },
   {
    "duration": 146,
    "start_time": "2022-09-19T18:42:11.806Z"
   },
   {
    "duration": 17,
    "start_time": "2022-09-19T18:42:11.953Z"
   },
   {
    "duration": 40,
    "start_time": "2022-09-19T18:42:11.971Z"
   },
   {
    "duration": 202,
    "start_time": "2022-09-19T18:42:12.012Z"
   },
   {
    "duration": 4,
    "start_time": "2022-09-19T18:42:12.215Z"
   },
   {
    "duration": 9,
    "start_time": "2022-09-19T18:42:12.220Z"
   },
   {
    "duration": 4,
    "start_time": "2022-09-19T18:42:12.230Z"
   },
   {
    "duration": 4,
    "start_time": "2022-09-19T18:42:12.236Z"
   },
   {
    "duration": 12,
    "start_time": "2022-09-19T18:42:12.241Z"
   },
   {
    "duration": 155,
    "start_time": "2022-09-19T18:42:12.254Z"
   },
   {
    "duration": 176,
    "start_time": "2022-09-19T18:42:12.410Z"
   },
   {
    "duration": 138,
    "start_time": "2022-09-19T18:42:12.587Z"
   },
   {
    "duration": 3,
    "start_time": "2022-09-19T18:42:12.726Z"
   },
   {
    "duration": 8,
    "start_time": "2022-09-19T18:42:12.731Z"
   },
   {
    "duration": 14,
    "start_time": "2022-09-19T18:42:12.741Z"
   },
   {
    "duration": 240,
    "start_time": "2022-09-19T18:42:12.760Z"
   },
   {
    "duration": 200,
    "start_time": "2022-09-19T18:42:13.001Z"
   },
   {
    "duration": 5,
    "start_time": "2022-09-19T18:42:32.940Z"
   },
   {
    "duration": 58,
    "start_time": "2022-09-19T18:42:50.043Z"
   },
   {
    "duration": 6,
    "start_time": "2022-09-19T18:42:57.422Z"
   },
   {
    "duration": 50,
    "start_time": "2022-09-19T18:44:04.369Z"
   },
   {
    "duration": 4,
    "start_time": "2022-09-19T18:44:12.734Z"
   },
   {
    "duration": 7,
    "start_time": "2022-09-19T18:50:39.972Z"
   },
   {
    "duration": 7,
    "start_time": "2022-09-19T18:50:49.013Z"
   },
   {
    "duration": 202,
    "start_time": "2022-09-19T18:55:21.499Z"
   },
   {
    "duration": 6,
    "start_time": "2022-09-19T18:56:17.309Z"
   },
   {
    "duration": 19,
    "start_time": "2022-09-19T18:57:41.588Z"
   },
   {
    "duration": 28,
    "start_time": "2022-09-19T18:57:44.382Z"
   },
   {
    "duration": 116,
    "start_time": "2022-09-19T18:58:15.061Z"
   },
   {
    "duration": 201,
    "start_time": "2022-09-19T18:59:51.492Z"
   },
   {
    "duration": 331,
    "start_time": "2022-09-19T19:01:25.788Z"
   },
   {
    "duration": 397,
    "start_time": "2022-09-19T19:01:34.381Z"
   },
   {
    "duration": 24,
    "start_time": "2022-09-19T19:07:09.945Z"
   },
   {
    "duration": 15,
    "start_time": "2022-09-19T19:07:13.518Z"
   },
   {
    "duration": 23,
    "start_time": "2022-09-19T19:07:17.670Z"
   },
   {
    "duration": 53,
    "start_time": "2022-09-19T19:07:42.665Z"
   },
   {
    "duration": 15,
    "start_time": "2022-09-19T19:07:46.938Z"
   },
   {
    "duration": 23,
    "start_time": "2022-09-19T19:07:49.867Z"
   },
   {
    "duration": 28,
    "start_time": "2022-09-19T19:08:03.723Z"
   },
   {
    "duration": 846,
    "start_time": "2022-09-20T13:45:49.406Z"
   },
   {
    "duration": 299,
    "start_time": "2022-09-20T13:46:52.650Z"
   },
   {
    "duration": 4,
    "start_time": "2022-09-20T13:47:09.317Z"
   },
   {
    "duration": 16,
    "start_time": "2022-09-20T13:47:27.560Z"
   },
   {
    "duration": 15,
    "start_time": "2022-09-20T13:54:22.190Z"
   },
   {
    "duration": 10,
    "start_time": "2022-09-20T13:55:32.426Z"
   },
   {
    "duration": 11,
    "start_time": "2022-09-20T13:55:56.395Z"
   },
   {
    "duration": 9,
    "start_time": "2022-09-20T13:56:11.986Z"
   },
   {
    "duration": 4,
    "start_time": "2022-09-20T13:56:35.174Z"
   },
   {
    "duration": 26,
    "start_time": "2022-09-20T14:00:21.413Z"
   },
   {
    "duration": 52,
    "start_time": "2022-09-20T14:03:44.459Z"
   },
   {
    "duration": 550,
    "start_time": "2022-09-20T14:03:47.443Z"
   },
   {
    "duration": 128,
    "start_time": "2022-09-20T14:03:49.496Z"
   },
   {
    "duration": 4,
    "start_time": "2022-09-20T14:03:55.401Z"
   },
   {
    "duration": 15,
    "start_time": "2022-09-20T14:03:57.778Z"
   },
   {
    "duration": 12,
    "start_time": "2022-09-20T14:04:30.899Z"
   },
   {
    "duration": 25,
    "start_time": "2022-09-20T14:05:40.316Z"
   },
   {
    "duration": 3,
    "start_time": "2022-09-20T14:06:40.808Z"
   },
   {
    "duration": 13,
    "start_time": "2022-09-20T14:17:36.358Z"
   },
   {
    "duration": 8,
    "start_time": "2022-09-20T14:17:43.505Z"
   },
   {
    "duration": 5,
    "start_time": "2022-09-20T14:17:46.054Z"
   },
   {
    "duration": 6,
    "start_time": "2022-09-20T14:17:51.988Z"
   },
   {
    "duration": 5,
    "start_time": "2022-09-20T14:18:55.224Z"
   },
   {
    "duration": 8,
    "start_time": "2022-09-20T14:22:06.020Z"
   },
   {
    "duration": 611,
    "start_time": "2022-09-20T14:23:10.518Z"
   },
   {
    "duration": 131,
    "start_time": "2022-09-20T14:23:13.397Z"
   },
   {
    "duration": 5,
    "start_time": "2022-09-20T14:23:17.157Z"
   },
   {
    "duration": 15,
    "start_time": "2022-09-20T14:23:19.498Z"
   },
   {
    "duration": 9,
    "start_time": "2022-09-20T14:23:22.093Z"
   },
   {
    "duration": 36,
    "start_time": "2022-09-20T14:23:24.408Z"
   },
   {
    "duration": 4,
    "start_time": "2022-09-20T14:23:32.985Z"
   },
   {
    "duration": 3,
    "start_time": "2022-09-20T14:23:37.360Z"
   },
   {
    "duration": 16,
    "start_time": "2022-09-20T14:23:41.277Z"
   },
   {
    "duration": 9,
    "start_time": "2022-09-20T14:23:45.025Z"
   },
   {
    "duration": 5,
    "start_time": "2022-09-20T14:23:46.970Z"
   },
   {
    "duration": 7,
    "start_time": "2022-09-20T14:23:49.852Z"
   },
   {
    "duration": 6,
    "start_time": "2022-09-20T14:23:52.188Z"
   },
   {
    "duration": 37,
    "start_time": "2022-09-20T14:23:55.862Z"
   },
   {
    "duration": 10,
    "start_time": "2022-09-20T14:23:58.652Z"
   },
   {
    "duration": 18,
    "start_time": "2022-09-20T14:24:07.619Z"
   },
   {
    "duration": 8,
    "start_time": "2022-09-20T14:30:40.678Z"
   },
   {
    "duration": 11,
    "start_time": "2022-09-20T14:34:25.418Z"
   },
   {
    "duration": 21,
    "start_time": "2022-09-20T14:34:36.459Z"
   },
   {
    "duration": 7,
    "start_time": "2022-09-20T14:34:39.100Z"
   },
   {
    "duration": 19,
    "start_time": "2022-09-20T14:34:42.055Z"
   },
   {
    "duration": 8,
    "start_time": "2022-09-20T14:38:35.368Z"
   },
   {
    "duration": 18,
    "start_time": "2022-09-20T14:38:39.079Z"
   },
   {
    "duration": 111,
    "start_time": "2022-09-20T14:47:08.311Z"
   },
   {
    "duration": 51,
    "start_time": "2022-09-20T14:48:32.199Z"
   },
   {
    "duration": 51,
    "start_time": "2022-09-20T14:48:40.022Z"
   },
   {
    "duration": 50,
    "start_time": "2022-09-20T14:48:52.236Z"
   },
   {
    "duration": 49,
    "start_time": "2022-09-20T14:49:02.178Z"
   },
   {
    "duration": 7,
    "start_time": "2022-09-20T14:49:14.732Z"
   },
   {
    "duration": 653,
    "start_time": "2022-09-20T14:53:10.391Z"
   },
   {
    "duration": 164,
    "start_time": "2022-09-20T14:53:13.352Z"
   },
   {
    "duration": 6,
    "start_time": "2022-09-20T14:53:17.929Z"
   },
   {
    "duration": 23,
    "start_time": "2022-09-20T14:53:20.595Z"
   },
   {
    "duration": 9,
    "start_time": "2022-09-20T14:53:23.186Z"
   },
   {
    "duration": 29,
    "start_time": "2022-09-20T14:53:25.771Z"
   },
   {
    "duration": 4,
    "start_time": "2022-09-20T14:53:29.978Z"
   },
   {
    "duration": 4,
    "start_time": "2022-09-20T14:53:32.507Z"
   },
   {
    "duration": 14,
    "start_time": "2022-09-20T14:53:35.948Z"
   },
   {
    "duration": 10,
    "start_time": "2022-09-20T14:53:39.111Z"
   },
   {
    "duration": 5,
    "start_time": "2022-09-20T14:53:41.688Z"
   },
   {
    "duration": 10,
    "start_time": "2022-09-20T14:53:44.398Z"
   },
   {
    "duration": 8,
    "start_time": "2022-09-20T14:53:47.525Z"
   },
   {
    "duration": 37,
    "start_time": "2022-09-20T14:53:50.752Z"
   },
   {
    "duration": 9,
    "start_time": "2022-09-20T14:53:53.659Z"
   },
   {
    "duration": 17,
    "start_time": "2022-09-20T14:53:56.478Z"
   },
   {
    "duration": 9,
    "start_time": "2022-09-20T14:53:59.174Z"
   },
   {
    "duration": 13,
    "start_time": "2022-09-20T14:54:02.481Z"
   },
   {
    "duration": 23,
    "start_time": "2022-09-20T14:54:05.644Z"
   },
   {
    "duration": 8,
    "start_time": "2022-09-20T14:54:07.925Z"
   },
   {
    "duration": 19,
    "start_time": "2022-09-20T14:54:10.582Z"
   },
   {
    "duration": 6,
    "start_time": "2022-09-20T14:54:15.290Z"
   },
   {
    "duration": 18,
    "start_time": "2022-09-20T14:54:17.725Z"
   },
   {
    "duration": 64,
    "start_time": "2022-09-20T14:55:22.237Z"
   },
   {
    "duration": 3,
    "start_time": "2022-09-20T14:55:26.434Z"
   },
   {
    "duration": 51,
    "start_time": "2022-09-20T14:55:29.287Z"
   },
   {
    "duration": 8,
    "start_time": "2022-09-20T14:55:31.248Z"
   },
   {
    "duration": 15,
    "start_time": "2022-09-20T14:55:39.613Z"
   },
   {
    "duration": 5,
    "start_time": "2022-09-20T14:56:58.933Z"
   },
   {
    "duration": 7,
    "start_time": "2022-09-20T14:57:01.138Z"
   },
   {
    "duration": 5,
    "start_time": "2022-09-20T14:57:05.724Z"
   },
   {
    "duration": 6,
    "start_time": "2022-09-20T14:57:07.679Z"
   },
   {
    "duration": 21,
    "start_time": "2022-09-20T14:58:28.994Z"
   },
   {
    "duration": 18,
    "start_time": "2022-09-20T14:58:49.806Z"
   },
   {
    "duration": 3,
    "start_time": "2022-09-20T15:05:39.329Z"
   },
   {
    "duration": 4,
    "start_time": "2022-09-20T15:05:41.432Z"
   },
   {
    "duration": 9,
    "start_time": "2022-09-20T15:05:44.503Z"
   },
   {
    "duration": 3,
    "start_time": "2022-09-20T15:20:03.078Z"
   },
   {
    "duration": 4,
    "start_time": "2022-09-20T15:20:04.995Z"
   },
   {
    "duration": 3,
    "start_time": "2022-09-20T15:20:16.074Z"
   },
   {
    "duration": 124,
    "start_time": "2022-09-20T15:23:34.360Z"
   },
   {
    "duration": 22,
    "start_time": "2022-09-20T15:23:36.980Z"
   },
   {
    "duration": 26,
    "start_time": "2022-09-20T15:26:33.308Z"
   },
   {
    "duration": 21,
    "start_time": "2022-09-20T15:26:44.195Z"
   },
   {
    "duration": 14,
    "start_time": "2022-09-20T15:26:55.300Z"
   },
   {
    "duration": 22,
    "start_time": "2022-09-20T15:31:10.768Z"
   },
   {
    "duration": 110,
    "start_time": "2022-09-20T15:31:20.866Z"
   },
   {
    "duration": 1543,
    "start_time": "2022-09-20T15:42:45.285Z"
   },
   {
    "duration": 19,
    "start_time": "2022-09-20T15:43:04.360Z"
   },
   {
    "duration": 93,
    "start_time": "2022-09-20T15:46:09.152Z"
   },
   {
    "duration": 6,
    "start_time": "2022-09-20T15:49:07.647Z"
   },
   {
    "duration": 13,
    "start_time": "2022-09-20T15:51:58.330Z"
   },
   {
    "duration": 15,
    "start_time": "2022-09-20T15:52:58.464Z"
   },
   {
    "duration": 45,
    "start_time": "2022-09-20T15:53:39.592Z"
   },
   {
    "duration": 13,
    "start_time": "2022-09-20T15:54:05.824Z"
   },
   {
    "duration": 5,
    "start_time": "2022-09-20T15:57:12.789Z"
   },
   {
    "duration": 9,
    "start_time": "2022-09-20T16:00:20.330Z"
   },
   {
    "duration": 4,
    "start_time": "2022-09-20T16:01:03.355Z"
   },
   {
    "duration": 2,
    "start_time": "2022-09-20T16:01:06.207Z"
   },
   {
    "duration": 6,
    "start_time": "2022-09-20T16:01:08.496Z"
   },
   {
    "duration": 5,
    "start_time": "2022-09-20T16:01:10.468Z"
   },
   {
    "duration": 6,
    "start_time": "2022-09-20T16:01:12.850Z"
   },
   {
    "duration": 4,
    "start_time": "2022-09-20T16:01:15.153Z"
   },
   {
    "duration": 33,
    "start_time": "2022-09-20T16:01:17.220Z"
   },
   {
    "duration": 130,
    "start_time": "2022-09-20T16:01:50.290Z"
   },
   {
    "duration": 29,
    "start_time": "2022-09-20T16:02:00.354Z"
   },
   {
    "duration": 12,
    "start_time": "2022-09-20T16:03:20.130Z"
   },
   {
    "duration": 139,
    "start_time": "2022-09-20T16:03:39.451Z"
   },
   {
    "duration": 119,
    "start_time": "2022-09-20T16:03:49.717Z"
   },
   {
    "duration": 123,
    "start_time": "2022-09-20T16:04:23.435Z"
   },
   {
    "duration": 118,
    "start_time": "2022-09-20T16:04:42.966Z"
   },
   {
    "duration": 139,
    "start_time": "2022-09-20T16:14:58.448Z"
   },
   {
    "duration": 17,
    "start_time": "2022-09-20T16:18:46.157Z"
   },
   {
    "duration": 96,
    "start_time": "2022-09-20T16:18:50.211Z"
   },
   {
    "duration": 17,
    "start_time": "2022-09-20T16:23:07.893Z"
   },
   {
    "duration": 18,
    "start_time": "2022-09-20T16:23:14.373Z"
   },
   {
    "duration": 14,
    "start_time": "2022-09-20T16:23:37.081Z"
   },
   {
    "duration": 17,
    "start_time": "2022-09-20T16:23:59.902Z"
   },
   {
    "duration": 24,
    "start_time": "2022-09-20T16:24:19.936Z"
   },
   {
    "duration": 19,
    "start_time": "2022-09-20T16:24:29.311Z"
   },
   {
    "duration": 19,
    "start_time": "2022-09-20T16:26:28.944Z"
   },
   {
    "duration": 30,
    "start_time": "2022-09-20T16:27:13.300Z"
   },
   {
    "duration": 187,
    "start_time": "2022-09-20T16:31:48.337Z"
   },
   {
    "duration": 336,
    "start_time": "2022-09-20T16:33:47.613Z"
   },
   {
    "duration": 321,
    "start_time": "2022-09-20T16:40:02.021Z"
   },
   {
    "duration": 328,
    "start_time": "2022-09-20T16:40:39.836Z"
   },
   {
    "duration": 340,
    "start_time": "2022-09-20T16:42:55.037Z"
   },
   {
    "duration": 4,
    "start_time": "2022-09-20T17:01:36.972Z"
   },
   {
    "duration": 338,
    "start_time": "2022-09-20T17:02:17.379Z"
   },
   {
    "duration": 37,
    "start_time": "2022-09-20T17:03:16.498Z"
   },
   {
    "duration": 40,
    "start_time": "2022-09-20T17:03:25.885Z"
   },
   {
    "duration": 330,
    "start_time": "2022-09-20T17:03:38.849Z"
   },
   {
    "duration": 3,
    "start_time": "2022-09-20T17:20:35.103Z"
   },
   {
    "duration": 5,
    "start_time": "2022-09-20T17:20:38.314Z"
   },
   {
    "duration": 4,
    "start_time": "2022-09-20T17:20:40.466Z"
   },
   {
    "duration": 4,
    "start_time": "2022-09-20T17:20:44.962Z"
   },
   {
    "duration": 10,
    "start_time": "2022-09-20T17:20:47.430Z"
   },
   {
    "duration": 141,
    "start_time": "2022-09-20T17:21:00.763Z"
   },
   {
    "duration": 153,
    "start_time": "2022-09-20T17:21:41.752Z"
   },
   {
    "duration": 134,
    "start_time": "2022-09-20T17:26:30.157Z"
   },
   {
    "duration": 4,
    "start_time": "2022-09-20T17:26:36.897Z"
   },
   {
    "duration": 8,
    "start_time": "2022-09-20T17:26:40.153Z"
   },
   {
    "duration": 15,
    "start_time": "2022-09-20T17:26:50.303Z"
   },
   {
    "duration": 207,
    "start_time": "2022-09-20T17:32:52.530Z"
   },
   {
    "duration": 129,
    "start_time": "2022-09-20T17:33:24.779Z"
   },
   {
    "duration": 134,
    "start_time": "2022-09-20T17:33:41.785Z"
   },
   {
    "duration": 234,
    "start_time": "2022-09-20T17:38:23.666Z"
   },
   {
    "duration": 8,
    "start_time": "2022-09-20T17:40:53.390Z"
   },
   {
    "duration": 124,
    "start_time": "2022-09-20T17:41:38.012Z"
   },
   {
    "duration": 145,
    "start_time": "2022-09-20T17:42:28.801Z"
   },
   {
    "duration": 344,
    "start_time": "2022-09-20T17:43:01.623Z"
   },
   {
    "duration": 350,
    "start_time": "2022-09-20T17:44:25.435Z"
   },
   {
    "duration": 425,
    "start_time": "2022-09-20T17:44:48.880Z"
   },
   {
    "duration": 132,
    "start_time": "2022-09-20T17:45:06.409Z"
   },
   {
    "duration": 225,
    "start_time": "2022-09-20T17:45:10.551Z"
   },
   {
    "duration": 8,
    "start_time": "2022-09-20T17:46:53.089Z"
   },
   {
    "duration": 133,
    "start_time": "2022-09-20T17:46:58.572Z"
   },
   {
    "duration": 231,
    "start_time": "2022-09-20T17:48:14.090Z"
   },
   {
    "duration": 232,
    "start_time": "2022-09-20T17:49:40.609Z"
   },
   {
    "duration": 3677,
    "start_time": "2022-09-20T17:53:09.146Z"
   },
   {
    "duration": 16,
    "start_time": "2022-09-20T17:55:53.064Z"
   },
   {
    "duration": 14,
    "start_time": "2022-09-20T17:56:07.255Z"
   },
   {
    "duration": 11,
    "start_time": "2022-09-20T18:04:56.500Z"
   },
   {
    "duration": 13,
    "start_time": "2022-09-20T18:05:03.518Z"
   },
   {
    "duration": 254,
    "start_time": "2022-09-20T18:08:18.003Z"
   },
   {
    "duration": 225,
    "start_time": "2022-09-20T18:10:21.656Z"
   },
   {
    "duration": 227,
    "start_time": "2022-09-20T18:10:47.736Z"
   },
   {
    "duration": 225,
    "start_time": "2022-09-20T18:10:53.066Z"
   },
   {
    "duration": 220,
    "start_time": "2022-09-20T18:14:28.393Z"
   },
   {
    "duration": 222,
    "start_time": "2022-09-20T18:15:06.731Z"
   },
   {
    "duration": 50,
    "start_time": "2022-09-20T18:16:19.479Z"
   },
   {
    "duration": 12,
    "start_time": "2022-09-20T18:18:41.974Z"
   },
   {
    "duration": 15,
    "start_time": "2022-09-20T18:21:21.965Z"
   },
   {
    "duration": 16,
    "start_time": "2022-09-20T18:21:28.712Z"
   },
   {
    "duration": 18,
    "start_time": "2022-09-20T18:21:35.300Z"
   },
   {
    "duration": 151,
    "start_time": "2022-09-20T18:28:20.998Z"
   },
   {
    "duration": 658,
    "start_time": "2022-09-20T18:49:45.714Z"
   },
   {
    "duration": 137,
    "start_time": "2022-09-20T18:49:46.374Z"
   },
   {
    "duration": 5,
    "start_time": "2022-09-20T18:49:46.513Z"
   },
   {
    "duration": 17,
    "start_time": "2022-09-20T18:49:46.520Z"
   },
   {
    "duration": 9,
    "start_time": "2022-09-20T18:49:46.540Z"
   },
   {
    "duration": 60,
    "start_time": "2022-09-20T18:49:46.551Z"
   },
   {
    "duration": 4,
    "start_time": "2022-09-20T18:49:46.613Z"
   },
   {
    "duration": 12,
    "start_time": "2022-09-20T18:49:46.619Z"
   },
   {
    "duration": 15,
    "start_time": "2022-09-20T18:49:46.633Z"
   },
   {
    "duration": 8,
    "start_time": "2022-09-20T18:49:46.650Z"
   },
   {
    "duration": 8,
    "start_time": "2022-09-20T18:49:46.659Z"
   },
   {
    "duration": 32,
    "start_time": "2022-09-20T18:49:46.669Z"
   },
   {
    "duration": 5,
    "start_time": "2022-09-20T18:49:46.703Z"
   },
   {
    "duration": 60,
    "start_time": "2022-09-20T18:49:46.712Z"
   },
   {
    "duration": 8,
    "start_time": "2022-09-20T18:49:46.774Z"
   },
   {
    "duration": 24,
    "start_time": "2022-09-20T18:49:46.784Z"
   },
   {
    "duration": 8,
    "start_time": "2022-09-20T18:49:46.810Z"
   },
   {
    "duration": 13,
    "start_time": "2022-09-20T18:49:46.819Z"
   },
   {
    "duration": 21,
    "start_time": "2022-09-20T18:49:46.834Z"
   },
   {
    "duration": 6,
    "start_time": "2022-09-20T18:49:46.856Z"
   },
   {
    "duration": 40,
    "start_time": "2022-09-20T18:49:46.863Z"
   },
   {
    "duration": 6,
    "start_time": "2022-09-20T18:49:46.905Z"
   },
   {
    "duration": 16,
    "start_time": "2022-09-20T18:49:46.912Z"
   },
   {
    "duration": 3,
    "start_time": "2022-09-20T18:49:46.929Z"
   },
   {
    "duration": 77,
    "start_time": "2022-09-20T18:49:46.933Z"
   },
   {
    "duration": 7,
    "start_time": "2022-09-20T18:49:47.011Z"
   },
   {
    "duration": 19,
    "start_time": "2022-09-20T18:49:47.019Z"
   },
   {
    "duration": 3,
    "start_time": "2022-09-20T18:49:47.039Z"
   },
   {
    "duration": 8,
    "start_time": "2022-09-20T18:49:47.044Z"
   },
   {
    "duration": 6,
    "start_time": "2022-09-20T18:49:47.053Z"
   },
   {
    "duration": 5,
    "start_time": "2022-09-20T18:49:47.060Z"
   },
   {
    "duration": 43,
    "start_time": "2022-09-20T18:49:47.066Z"
   },
   {
    "duration": 7,
    "start_time": "2022-09-20T18:49:47.110Z"
   },
   {
    "duration": 6,
    "start_time": "2022-09-20T18:49:47.118Z"
   },
   {
    "duration": 6,
    "start_time": "2022-09-20T18:49:47.125Z"
   },
   {
    "duration": 12,
    "start_time": "2022-09-20T18:49:47.132Z"
   },
   {
    "duration": 3,
    "start_time": "2022-09-20T18:49:47.145Z"
   },
   {
    "duration": 6,
    "start_time": "2022-09-20T18:49:47.149Z"
   },
   {
    "duration": 129,
    "start_time": "2022-09-20T18:49:47.157Z"
   },
   {
    "duration": 22,
    "start_time": "2022-09-20T18:49:47.288Z"
   },
   {
    "duration": 26,
    "start_time": "2022-09-20T18:49:47.316Z"
   },
   {
    "duration": 21,
    "start_time": "2022-09-20T18:49:47.343Z"
   },
   {
    "duration": 39,
    "start_time": "2022-09-20T18:49:47.366Z"
   },
   {
    "duration": 7,
    "start_time": "2022-09-20T18:49:47.407Z"
   },
   {
    "duration": 112,
    "start_time": "2022-09-20T18:49:47.415Z"
   },
   {
    "duration": 20,
    "start_time": "2022-09-20T18:49:47.528Z"
   },
   {
    "duration": 109,
    "start_time": "2022-09-20T18:49:47.549Z"
   },
   {
    "duration": 13,
    "start_time": "2022-09-20T18:49:47.660Z"
   },
   {
    "duration": 7,
    "start_time": "2022-09-20T18:49:47.674Z"
   },
   {
    "duration": 18,
    "start_time": "2022-09-20T18:49:47.682Z"
   },
   {
    "duration": 3,
    "start_time": "2022-09-20T18:49:47.702Z"
   },
   {
    "duration": 18,
    "start_time": "2022-09-20T18:49:47.706Z"
   },
   {
    "duration": 16,
    "start_time": "2022-09-20T18:49:47.725Z"
   },
   {
    "duration": 9,
    "start_time": "2022-09-20T18:49:47.742Z"
   },
   {
    "duration": 9,
    "start_time": "2022-09-20T18:49:47.752Z"
   },
   {
    "duration": 36,
    "start_time": "2022-09-20T18:49:47.762Z"
   },
   {
    "duration": 139,
    "start_time": "2022-09-20T18:49:47.799Z"
   },
   {
    "duration": 14,
    "start_time": "2022-09-20T18:49:47.940Z"
   },
   {
    "duration": 137,
    "start_time": "2022-09-20T18:49:47.956Z"
   },
   {
    "duration": 31,
    "start_time": "2022-09-20T18:49:48.094Z"
   },
   {
    "duration": 141,
    "start_time": "2022-09-20T18:49:48.127Z"
   },
   {
    "duration": 19,
    "start_time": "2022-09-20T18:49:48.270Z"
   },
   {
    "duration": 30,
    "start_time": "2022-09-20T18:49:48.301Z"
   },
   {
    "duration": 373,
    "start_time": "2022-09-20T18:49:48.333Z"
   },
   {
    "duration": 5,
    "start_time": "2022-09-20T18:49:48.708Z"
   },
   {
    "duration": 355,
    "start_time": "2022-09-20T18:49:48.715Z"
   },
   {
    "duration": 5,
    "start_time": "2022-09-20T18:49:49.072Z"
   },
   {
    "duration": 7,
    "start_time": "2022-09-20T18:49:49.078Z"
   },
   {
    "duration": 15,
    "start_time": "2022-09-20T18:49:49.087Z"
   },
   {
    "duration": 9,
    "start_time": "2022-09-20T18:49:49.104Z"
   },
   {
    "duration": 11,
    "start_time": "2022-09-20T18:49:49.114Z"
   },
   {
    "duration": 154,
    "start_time": "2022-09-20T18:49:49.126Z"
   },
   {
    "duration": 167,
    "start_time": "2022-09-20T18:49:49.281Z"
   },
   {
    "duration": 203,
    "start_time": "2022-09-20T18:49:49.450Z"
   },
   {
    "duration": 4,
    "start_time": "2022-09-20T18:49:49.654Z"
   },
   {
    "duration": 9,
    "start_time": "2022-09-20T18:49:49.659Z"
   },
   {
    "duration": 16,
    "start_time": "2022-09-20T18:49:49.669Z"
   },
   {
    "duration": 149,
    "start_time": "2022-09-20T18:49:49.699Z"
   },
   {
    "duration": 168,
    "start_time": "2022-09-20T18:49:49.850Z"
   },
   {
    "duration": 243,
    "start_time": "2022-09-20T18:49:50.019Z"
   },
   {
    "duration": 240,
    "start_time": "2022-09-20T18:49:50.264Z"
   },
   {
    "duration": 232,
    "start_time": "2022-09-20T18:49:50.505Z"
   },
   {
    "duration": 163,
    "start_time": "2022-09-20T18:49:50.738Z"
   },
   {
    "duration": 74,
    "start_time": "2022-09-21T11:30:30.475Z"
   },
   {
    "duration": 797,
    "start_time": "2022-09-21T11:30:33.912Z"
   },
   {
    "duration": 189,
    "start_time": "2022-09-21T11:30:34.722Z"
   },
   {
    "duration": 10,
    "start_time": "2022-09-21T11:30:34.917Z"
   },
   {
    "duration": 29,
    "start_time": "2022-09-21T11:30:34.930Z"
   },
   {
    "duration": 12,
    "start_time": "2022-09-21T11:30:34.962Z"
   },
   {
    "duration": 57,
    "start_time": "2022-09-21T11:30:34.976Z"
   },
   {
    "duration": 16,
    "start_time": "2022-09-21T11:30:35.036Z"
   },
   {
    "duration": 10,
    "start_time": "2022-09-21T11:30:35.053Z"
   },
   {
    "duration": 26,
    "start_time": "2022-09-21T11:30:35.065Z"
   },
   {
    "duration": 59,
    "start_time": "2022-09-21T11:30:35.093Z"
   },
   {
    "duration": 6,
    "start_time": "2022-09-21T11:30:35.154Z"
   },
   {
    "duration": 17,
    "start_time": "2022-09-21T11:30:35.163Z"
   },
   {
    "duration": 34,
    "start_time": "2022-09-21T11:30:35.183Z"
   },
   {
    "duration": 95,
    "start_time": "2022-09-21T11:30:35.229Z"
   },
   {
    "duration": 14,
    "start_time": "2022-09-21T11:30:35.332Z"
   },
   {
    "duration": 33,
    "start_time": "2022-09-21T11:30:35.351Z"
   },
   {
    "duration": 14,
    "start_time": "2022-09-21T11:30:35.385Z"
   },
   {
    "duration": 63,
    "start_time": "2022-09-21T11:30:35.403Z"
   },
   {
    "duration": 45,
    "start_time": "2022-09-21T11:30:35.472Z"
   },
   {
    "duration": 11,
    "start_time": "2022-09-21T11:30:35.528Z"
   },
   {
    "duration": 31,
    "start_time": "2022-09-21T11:30:35.541Z"
   },
   {
    "duration": 7,
    "start_time": "2022-09-21T11:30:35.574Z"
   },
   {
    "duration": 74,
    "start_time": "2022-09-21T11:30:35.584Z"
   },
   {
    "duration": 5,
    "start_time": "2022-09-21T11:30:35.660Z"
   },
   {
    "duration": 36,
    "start_time": "2022-09-21T11:30:35.667Z"
   },
   {
    "duration": 173,
    "start_time": "2022-09-21T11:30:35.705Z"
   },
   {
    "duration": 24,
    "start_time": "2022-09-21T11:30:35.881Z"
   },
   {
    "duration": 62,
    "start_time": "2022-09-21T11:30:35.907Z"
   },
   {
    "duration": 6,
    "start_time": "2022-09-21T11:30:35.971Z"
   },
   {
    "duration": 64,
    "start_time": "2022-09-21T11:30:35.979Z"
   },
   {
    "duration": 6,
    "start_time": "2022-09-21T11:30:36.046Z"
   },
   {
    "duration": 24,
    "start_time": "2022-09-21T11:30:36.054Z"
   },
   {
    "duration": 75,
    "start_time": "2022-09-21T11:30:36.080Z"
   },
   {
    "duration": 18,
    "start_time": "2022-09-21T11:30:36.157Z"
   },
   {
    "duration": 85,
    "start_time": "2022-09-21T11:30:36.176Z"
   },
   {
    "duration": 30,
    "start_time": "2022-09-21T11:30:36.263Z"
   },
   {
    "duration": 50,
    "start_time": "2022-09-21T11:30:36.305Z"
   },
   {
    "duration": 20,
    "start_time": "2022-09-21T11:30:36.358Z"
   },
   {
    "duration": 51,
    "start_time": "2022-09-21T11:30:36.381Z"
   },
   {
    "duration": 160,
    "start_time": "2022-09-21T11:30:36.434Z"
   },
   {
    "duration": 43,
    "start_time": "2022-09-21T11:30:36.600Z"
   },
   {
    "duration": 29,
    "start_time": "2022-09-21T11:30:36.645Z"
   },
   {
    "duration": 33,
    "start_time": "2022-09-21T11:30:36.676Z"
   },
   {
    "duration": 51,
    "start_time": "2022-09-21T11:30:36.711Z"
   },
   {
    "duration": 53,
    "start_time": "2022-09-21T11:30:36.764Z"
   },
   {
    "duration": 202,
    "start_time": "2022-09-21T11:30:36.822Z"
   },
   {
    "duration": 29,
    "start_time": "2022-09-21T11:30:37.028Z"
   },
   {
    "duration": 250,
    "start_time": "2022-09-21T11:30:37.060Z"
   },
   {
    "duration": 22,
    "start_time": "2022-09-21T11:30:37.317Z"
   },
   {
    "duration": 23,
    "start_time": "2022-09-21T11:30:37.341Z"
   },
   {
    "duration": 62,
    "start_time": "2022-09-21T11:30:37.366Z"
   },
   {
    "duration": 16,
    "start_time": "2022-09-21T11:30:37.433Z"
   },
   {
    "duration": 22,
    "start_time": "2022-09-21T11:30:37.451Z"
   },
   {
    "duration": 63,
    "start_time": "2022-09-21T11:30:37.475Z"
   },
   {
    "duration": 12,
    "start_time": "2022-09-21T11:30:37.541Z"
   },
   {
    "duration": 17,
    "start_time": "2022-09-21T11:30:37.555Z"
   },
   {
    "duration": 102,
    "start_time": "2022-09-21T11:30:37.574Z"
   },
   {
    "duration": 187,
    "start_time": "2022-09-21T11:30:37.678Z"
   },
   {
    "duration": 26,
    "start_time": "2022-09-21T11:30:37.868Z"
   },
   {
    "duration": 171,
    "start_time": "2022-09-21T11:30:37.906Z"
   },
   {
    "duration": 49,
    "start_time": "2022-09-21T11:30:38.079Z"
   },
   {
    "duration": 237,
    "start_time": "2022-09-21T11:30:38.130Z"
   },
   {
    "duration": 43,
    "start_time": "2022-09-21T11:30:38.369Z"
   },
   {
    "duration": 55,
    "start_time": "2022-09-21T11:30:38.414Z"
   },
   {
    "duration": 501,
    "start_time": "2022-09-21T11:30:38.471Z"
   },
   {
    "duration": 7,
    "start_time": "2022-09-21T11:30:38.974Z"
   },
   {
    "duration": 634,
    "start_time": "2022-09-21T11:30:38.988Z"
   },
   {
    "duration": 6,
    "start_time": "2022-09-21T11:30:39.624Z"
   },
   {
    "duration": 29,
    "start_time": "2022-09-21T11:30:39.633Z"
   },
   {
    "duration": 13,
    "start_time": "2022-09-21T11:30:39.664Z"
   },
   {
    "duration": 60,
    "start_time": "2022-09-21T11:30:39.679Z"
   },
   {
    "duration": 29,
    "start_time": "2022-09-21T11:30:39.740Z"
   },
   {
    "duration": 211,
    "start_time": "2022-09-21T11:30:39.770Z"
   },
   {
    "duration": 255,
    "start_time": "2022-09-21T11:30:39.984Z"
   },
   {
    "duration": 286,
    "start_time": "2022-09-21T11:30:40.241Z"
   },
   {
    "duration": 8,
    "start_time": "2022-09-21T11:30:40.533Z"
   },
   {
    "duration": 30,
    "start_time": "2022-09-21T11:30:40.543Z"
   },
   {
    "duration": 36,
    "start_time": "2022-09-21T11:30:40.576Z"
   },
   {
    "duration": 259,
    "start_time": "2022-09-21T11:30:40.614Z"
   },
   {
    "duration": 206,
    "start_time": "2022-09-21T11:30:40.875Z"
   },
   {
    "duration": 330,
    "start_time": "2022-09-21T11:30:41.083Z"
   },
   {
    "duration": 338,
    "start_time": "2022-09-21T11:30:41.416Z"
   },
   {
    "duration": 453,
    "start_time": "2022-09-21T11:30:41.758Z"
   },
   {
    "duration": 258,
    "start_time": "2022-09-21T11:30:42.213Z"
   },
   {
    "duration": 28,
    "start_time": "2022-09-21T11:30:52.487Z"
   },
   {
    "duration": 96,
    "start_time": "2022-09-21T11:30:57.390Z"
   },
   {
    "duration": 1361,
    "start_time": "2022-09-21T11:31:02.542Z"
   },
   {
    "duration": 20,
    "start_time": "2022-09-21T11:31:07.947Z"
   },
   {
    "duration": 34,
    "start_time": "2022-09-21T11:31:10.879Z"
   },
   {
    "duration": 18,
    "start_time": "2022-09-21T11:31:16.836Z"
   },
   {
    "duration": 13,
    "start_time": "2022-09-21T11:32:06.742Z"
   },
   {
    "duration": 58,
    "start_time": "2022-09-21T11:32:12.984Z"
   },
   {
    "duration": 71,
    "start_time": "2022-09-21T11:32:31.619Z"
   },
   {
    "duration": 29,
    "start_time": "2022-09-21T11:32:43.457Z"
   },
   {
    "duration": 31,
    "start_time": "2022-09-21T11:32:54.765Z"
   },
   {
    "duration": 97,
    "start_time": "2022-09-21T11:33:04.809Z"
   },
   {
    "duration": 32,
    "start_time": "2022-09-21T11:33:13.026Z"
   },
   {
    "duration": 174,
    "start_time": "2022-09-21T11:39:02.252Z"
   },
   {
    "duration": 108,
    "start_time": "2022-09-21T11:41:29.527Z"
   },
   {
    "duration": 650,
    "start_time": "2022-10-08T16:07:20.072Z"
   },
   {
    "duration": 350,
    "start_time": "2022-10-08T16:07:22.918Z"
   },
   {
    "duration": 442,
    "start_time": "2022-10-08T16:07:25.570Z"
   }
  ],
  "colab": {
   "name": "DA+. Сборный проект 1. Шаблон (1).ipynb",
   "provenance": []
  },
  "kernelspec": {
   "display_name": "Python 3 (ipykernel)",
   "language": "python",
   "name": "python3"
  },
  "language_info": {
   "codemirror_mode": {
    "name": "ipython",
    "version": 3
   },
   "file_extension": ".py",
   "mimetype": "text/x-python",
   "name": "python",
   "nbconvert_exporter": "python",
   "pygments_lexer": "ipython3",
   "version": "3.9.5"
  },
  "toc": {
   "base_numbering": 1,
   "nav_menu": {},
   "number_sections": true,
   "sideBar": true,
   "skip_h1_title": true,
   "title_cell": "Table of Contents",
   "title_sidebar": "Contents",
   "toc_cell": false,
   "toc_position": {
    "height": "calc(100% - 180px)",
    "left": "10px",
    "top": "150px",
    "width": "375.391px"
   },
   "toc_section_display": true,
   "toc_window_display": false
  }
 },
 "nbformat": 4,
 "nbformat_minor": 1
}
