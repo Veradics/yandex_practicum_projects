{
 "cells": [
  {
   "cell_type": "markdown",
   "metadata": {},
   "source": [
    "# Tariff recommendation\n",
    "## Part 2. Solving the classification problem\n",
    "\n",
    "**The goal of this study** is to select the optimal model for predicting the appropriate tariff (classification task). In the first part of the project we have already prepared the data, so now we will simply load it into the environment.\n",
    "\n",
    "**The workflow of the second part of the project** includes consideration of several classifiers, selection of optimal hyperparameters and validation of the most \"successful\" model on a test set.\n",
    "\n",
    "The selected metric to evaluate the model's performance is `accuracy`."
   ]
  },
  {
   "cell_type": "code",
   "execution_count": 1,
   "metadata": {},
   "outputs": [],
   "source": [
    "# imports\n",
    "import pandas as pd\n",
    "import matplotlib.pyplot as plt\n",
    "\n",
    "from sklearn.model_selection import train_test_split\n",
    "from sklearn.model_selection import GridSearchCV\n",
    "\n",
    "from sklearn.tree import DecisionTreeClassifier\n",
    "from sklearn.tree import plot_tree\n",
    "from sklearn.ensemble import RandomForestClassifier\n",
    "from sklearn.linear_model import LogisticRegression\n",
    "\n",
    "from sklearn.metrics import accuracy_score"
   ]
  },
  {
   "cell_type": "code",
   "execution_count": 2,
   "metadata": {},
   "outputs": [
    {
     "data": {
      "text/html": [
       "<div>\n",
       "<style scoped>\n",
       "    .dataframe tbody tr th:only-of-type {\n",
       "        vertical-align: middle;\n",
       "    }\n",
       "\n",
       "    .dataframe tbody tr th {\n",
       "        vertical-align: top;\n",
       "    }\n",
       "\n",
       "    .dataframe thead th {\n",
       "        text-align: right;\n",
       "    }\n",
       "</style>\n",
       "<table border=\"1\" class=\"dataframe\">\n",
       "  <thead>\n",
       "    <tr style=\"text-align: right;\">\n",
       "      <th></th>\n",
       "      <th>calls</th>\n",
       "      <th>minutes</th>\n",
       "      <th>messages</th>\n",
       "      <th>mb_used</th>\n",
       "      <th>is_ultra</th>\n",
       "    </tr>\n",
       "  </thead>\n",
       "  <tbody>\n",
       "    <tr>\n",
       "      <th>0</th>\n",
       "      <td>40.0</td>\n",
       "      <td>311.90</td>\n",
       "      <td>83.0</td>\n",
       "      <td>19915.42</td>\n",
       "      <td>0</td>\n",
       "    </tr>\n",
       "    <tr>\n",
       "      <th>1</th>\n",
       "      <td>85.0</td>\n",
       "      <td>516.75</td>\n",
       "      <td>56.0</td>\n",
       "      <td>22696.96</td>\n",
       "      <td>0</td>\n",
       "    </tr>\n",
       "    <tr>\n",
       "      <th>2</th>\n",
       "      <td>77.0</td>\n",
       "      <td>467.66</td>\n",
       "      <td>86.0</td>\n",
       "      <td>21060.45</td>\n",
       "      <td>0</td>\n",
       "    </tr>\n",
       "    <tr>\n",
       "      <th>3</th>\n",
       "      <td>106.0</td>\n",
       "      <td>745.53</td>\n",
       "      <td>81.0</td>\n",
       "      <td>8437.39</td>\n",
       "      <td>1</td>\n",
       "    </tr>\n",
       "    <tr>\n",
       "      <th>4</th>\n",
       "      <td>66.0</td>\n",
       "      <td>418.74</td>\n",
       "      <td>1.0</td>\n",
       "      <td>14502.75</td>\n",
       "      <td>0</td>\n",
       "    </tr>\n",
       "  </tbody>\n",
       "</table>\n",
       "</div>"
      ],
      "text/plain": [
       "   calls  minutes  messages   mb_used  is_ultra\n",
       "0   40.0   311.90      83.0  19915.42         0\n",
       "1   85.0   516.75      56.0  22696.96         0\n",
       "2   77.0   467.66      86.0  21060.45         0\n",
       "3  106.0   745.53      81.0   8437.39         1\n",
       "4   66.0   418.74       1.0  14502.75         0"
      ]
     },
     "execution_count": 2,
     "metadata": {},
     "output_type": "execute_result"
    }
   ],
   "source": [
    "data = pd.read_csv('/datasets/users_behavior.csv')\n",
    "data.head()"
   ]
  },
  {
   "cell_type": "markdown",
   "metadata": {},
   "source": [
    "### Data description\n",
    "Each object in the dataset is information about the behavior of one user in a month. It's known that:\n",
    "\n",
    "- `calls` - number of calls,\n",
    "- `minutes` - total duration of calls in minutes,\n",
    "- `messages` - number of sms-messages,\n",
    "- `mb_used` - used Internet traffic in MB,\n",
    "- `is_ultra` - what tariff was used during the month (\"Ultra\" - 1, \"Smart\" - 0)."
   ]
  },
  {
   "cell_type": "code",
   "execution_count": 3,
   "metadata": {},
   "outputs": [
    {
     "name": "stdout",
     "output_type": "stream",
     "text": [
      "<class 'pandas.core.frame.DataFrame'>\n",
      "RangeIndex: 3214 entries, 0 to 3213\n",
      "Data columns (total 5 columns):\n",
      " #   Column    Non-Null Count  Dtype  \n",
      "---  ------    --------------  -----  \n",
      " 0   calls     3214 non-null   float64\n",
      " 1   minutes   3214 non-null   float64\n",
      " 2   messages  3214 non-null   float64\n",
      " 3   mb_used   3214 non-null   float64\n",
      " 4   is_ultra  3214 non-null   int64  \n",
      "dtypes: float64(4), int64(1)\n",
      "memory usage: 125.7 KB\n"
     ]
    }
   ],
   "source": [
    "data.info()"
   ]
  },
  {
   "cell_type": "markdown",
   "metadata": {},
   "source": [
    "The data is already preprocessed and free of omissions. \n",
    "\n",
    "Since there is a classification problem to be solved, the existing balance of classes should also be looked at:"
   ]
  },
  {
   "cell_type": "code",
   "execution_count": 4,
   "metadata": {},
   "outputs": [
    {
     "data": {
      "text/plain": [
       "0    0.693528\n",
       "1    0.306472\n",
       "Name: is_ultra, dtype: float64"
      ]
     },
     "execution_count": 4,
     "metadata": {},
     "output_type": "execute_result"
    }
   ],
   "source": [
    "data['is_ultra'].value_counts(normalize=True)"
   ]
  },
  {
   "cell_type": "markdown",
   "metadata": {},
   "source": [
    "There is a pronounced class imbalance in the data presented: approximately 70% Class 0 (*Smart tariff*) and 30% Class 1 (*Ultra tariff*)."
   ]
  },
  {
   "cell_type": "markdown",
   "metadata": {},
   "source": [
    "## Splitting the data into samples"
   ]
  },
  {
   "cell_type": "markdown",
   "metadata": {},
   "source": [
    "Since it is required to build a model to predict the appropriate tariff, the values of the *target variable* are recorded in the `is_ultra` column: 1 - *Ultra tariff*, 0 - *Smart tariff.*"
   ]
  },
  {
   "cell_type": "code",
   "execution_count": 5,
   "metadata": {},
   "outputs": [],
   "source": [
    "features = data.drop('is_ultra', axis=1)\n",
    "target = data['is_ultra']"
   ]
  },
  {
   "cell_type": "markdown",
   "metadata": {},
   "source": [
    "Let's divide the dataset into three sets: train, validation and test in the ratio of 3:1:1."
   ]
  },
  {
   "cell_type": "code",
   "execution_count": 6,
   "metadata": {},
   "outputs": [],
   "source": [
    "# let's extract a test set from the data\n",
    "features_full_train, features_test, target_full_train, target_test = train_test_split(\n",
    "    features, target, test_size=0.2, random_state=12345, stratify=target)\n",
    "\n",
    "# divide the remaining data into training and validation sets\n",
    "features_train, features_valid, target_train, target_valid = train_test_split(\n",
    "    features_full_train, target_full_train, test_size=0.25, random_state=12345, stratify=target_full_train)"
   ]
  },
  {
   "cell_type": "code",
   "execution_count": 7,
   "metadata": {},
   "outputs": [
    {
     "data": {
      "text/plain": [
       "(1928, 643, 643)"
      ]
     },
     "execution_count": 7,
     "metadata": {},
     "output_type": "execute_result"
    }
   ],
   "source": [
    "features_train.shape[0], features_valid.shape[0], features_test.shape[0]"
   ]
  },
  {
   "cell_type": "markdown",
   "metadata": {},
   "source": [
    "## Examination of ML models"
   ]
  },
  {
   "cell_type": "markdown",
   "metadata": {},
   "source": [
    "Consider several well-known classification models: *decision tree*, *random forest*, and *logistic regression*. The metric for model comparison is **accuracy** (proportion of correct answers)."
   ]
  },
  {
   "cell_type": "markdown",
   "metadata": {},
   "source": [
    "### Decision Tree\n",
    "The decision tree is characterized by the following hyperparameters:\n",
    "- `max_depth` - maximum depth of the tree\n",
    "- `criterion` - splitting criterion (variants:*gini*, *entropy*)\n",
    "- `min_samples_split` - minimum number of objects in a node sufficient for splitting (default: 2)\n",
    "- `min_samples_leaf` - minimum number of objects in leaves (default: 1)\n",
    "\n",
    "We will vary the first 2 hyperparameters to find a better implementation of the algorithm."
   ]
  },
  {
   "cell_type": "code",
   "execution_count": 8,
   "metadata": {},
   "outputs": [
    {
     "data": {
      "image/png": "[encoded data removed]",
      "text/plain": [
       "<Figure size 432x288 with 1 Axes>"
      ]
     },
     "metadata": {
      "needs_background": "light"
     },
     "output_type": "display_data"
    }
   ],
   "source": [
    "best_tree_model = None\n",
    "best_criterion = None\n",
    "best_max_depth = 0\n",
    "best_result = 0\n",
    "\n",
    "for sep_criterion in ['gini', 'entropy']:\n",
    "    \n",
    "    accuracy_valid_list, accuracy_train_list = [], []\n",
    "    \n",
    "    for depth in range(1, 11):\n",
    "        model = DecisionTreeClassifier(max_depth=depth, criterion=sep_criterion, random_state=12345)\n",
    "        model = model.fit(features_train, target_train)\n",
    "        predictions_valid = model.predict(features_valid)\n",
    "        predictions_train = model.predict(features_train)\n",
    "        \n",
    "        accuracy_valid = accuracy_score(target_valid, predictions_valid)\n",
    "        accuracy_train = accuracy_score(target_train, predictions_train)\n",
    "        \n",
    "        if accuracy_valid > best_result:\n",
    "            best_tree_model = model\n",
    "            best_criterion = sep_criterion\n",
    "            best_max_depth = depth\n",
    "            best_result = accuracy_valid\n",
    "    \n",
    "        accuracy_valid_list.append(accuracy_valid)\n",
    "        accuracy_train_list.append(accuracy_train)\n",
    "    \n",
    "    plt.plot(range(1, 11), accuracy_valid_list, label=f'{sep_criterion} valid')\n",
    "    plt.plot(range(1, 11), accuracy_train_list, label=f'{sep_criterion} train')\n",
    "\n",
    "plt.legend()\n",
    "plt.title('Accuracy')\n",
    "plt.xlabel('max_depth')\n",
    "plt.show()"
   ]
  },
  {
   "cell_type": "code",
   "execution_count": 9,
   "metadata": {},
   "outputs": [
    {
     "name": "stdout",
     "output_type": "stream",
     "text": [
      "Наибольшее значение accuracy = 0.816\n",
      "Гиперпараметры дерева решений: criterion = gini, max_depth = 5\n"
     ]
    }
   ],
   "source": [
    "print('Наибольшее значение accuracy =', round(best_result, 3))\n",
    "print(f'Гиперпараметры дерева решений: criterion = {best_criterion}, max_depth = {best_max_depth}')"
   ]
  },
  {
   "cell_type": "code",
   "execution_count": 10,
   "metadata": {},
   "outputs": [],
   "source": [
    "# to store the results of optimal models\n",
    "models_dict = {}\n",
    "models_dict['DecisionTree'] = best_result"
   ]
  },
  {
   "cell_type": "markdown",
   "metadata": {},
   "source": [
    "As can be seen from the graph, the optimal solution is to choose the maximum tree depth equal to 5. If the hyperparameter is increased, overtraining is observed, and if it is decreased, undertraining is observed. At the same time, the choice of the separation criterion will not affect the change of the metric value (the maximum is reached at the same point)."
   ]
  },
  {
   "cell_type": "code",
   "execution_count": 11,
   "metadata": {},
   "outputs": [
    {
     "data": {
      "image/png": "[encoded data removed]",
      "text/plain": [
       "<Figure size 2160x720 with 1 Axes>"
      ]
     },
     "metadata": {
      "needs_background": "light"
     },
     "output_type": "display_data"
    }
   ],
   "source": [
    "# decision making in the created tree\n",
    "plt.figure(figsize=(30, 10))\n",
    "plot_tree(best_tree_model, max_depth=3)\n",
    "plt.show()"
   ]
  },
  {
   "cell_type": "markdown",
   "metadata": {},
   "source": [
    "### Random forest\n",
    "Since a *random forest* is an ensemble of several solving trees, `n_estimators` - the number of trees in the forest - is added to the set of hyperparameters.\n",
    "\n",
    "We will vary the same hyperparameters as in the previous case + the new one added."
   ]
  },
  {
   "cell_type": "code",
   "execution_count": 12,
   "metadata": {},
   "outputs": [
    {
     "name": "stdout",
     "output_type": "stream",
     "text": [
      "CPU times: user 13.6 s, sys: 169 ms, total: 13.8 s\n",
      "Wall time: 13.8 s\n"
     ]
    }
   ],
   "source": [
    "%%time\n",
    "\n",
    "best_forest_model = None\n",
    "best_criterion = None\n",
    "best_max_depth = 0\n",
    "best_est = 0\n",
    "best_result = 0\n",
    "\n",
    "for sep_criterion in ['gini', 'entropy']:\n",
    "    for est in range(1, 51, 5):\n",
    "        for depth in range(1, 11):\n",
    "            model = RandomForestClassifier(n_estimators=est, max_depth=depth, criterion=sep_criterion, random_state=12345)\n",
    "            model = model.fit(features_train, target_train)\n",
    "            predictions = model.predict(features_valid)\n",
    "            accuracy = accuracy_score(target_valid, predictions)\n",
    "        \n",
    "            if accuracy > best_result:\n",
    "                best_forest_model = model\n",
    "                best_criterion = sep_criterion\n",
    "                best_max_depth = depth\n",
    "                best_est = est\n",
    "                best_result = accuracy"
   ]
  },
  {
   "cell_type": "code",
   "execution_count": 13,
   "metadata": {},
   "outputs": [
    {
     "name": "stdout",
     "output_type": "stream",
     "text": [
      "Наибольшее значение accuracy = 0.829\n",
      "Гиперпараметры случайного леса: criterion = gini, max_depth = 8, n_estimators = 16\n"
     ]
    }
   ],
   "source": [
    "print('Наибольшее значение accuracy =', round(best_result, 3))\n",
    "print(f'Гиперпараметры случайного леса: criterion = {best_criterion}, max_depth = {best_max_depth}, n_estimators = {best_est}')"
   ]
  },
  {
   "cell_type": "code",
   "execution_count": 14,
   "metadata": {},
   "outputs": [],
   "source": [
    "models_dict['RandomForest'] = best_result"
   ]
  },
  {
   "cell_type": "code",
   "execution_count": 15,
   "metadata": {},
   "outputs": [
    {
     "name": "stdout",
     "output_type": "stream",
     "text": [
      "CPU times: user 1min 11s, sys: 842 ms, total: 1min 12s\n",
      "Wall time: 1min 12s\n"
     ]
    },
    {
     "data": {
      "text/plain": [
       "GridSearchCV(estimator=RandomForestClassifier(),\n",
       "             param_grid={'criterion': ['gini', 'entropy'],\n",
       "                         'max_depth': range(1, 11),\n",
       "                         'n_estimators': range(1, 51, 5)},\n",
       "             scoring='accuracy')"
      ]
     },
     "execution_count": 15,
     "metadata": {},
     "output_type": "execute_result"
    }
   ],
   "source": [
    "%%time\n",
    "\n",
    "model = RandomForestClassifier()\n",
    "\n",
    "parameters = { 'n_estimators': range (1, 51, 5),\n",
    "              'max_depth': range (1,11),\n",
    "              'criterion': ['gini', 'entropy']}\n",
    "\n",
    "grid = GridSearchCV(model, parameters, scoring='accuracy')\n",
    "grid.fit(features_full_train, target_full_train)"
   ]
  },
  {
   "cell_type": "code",
   "execution_count": 16,
   "metadata": {},
   "outputs": [
    {
     "name": "stdout",
     "output_type": "stream",
     "text": [
      "New accuracy: 0.809\n",
      "Оптимальные параметры: {'criterion': 'entropy', 'max_depth': 9, 'n_estimators': 26}\n"
     ]
    }
   ],
   "source": [
    "# models_dict['RandomForest_new'] = grid.best_score_\n",
    "print('New accuracy:', round(grid.best_score_, 3))\n",
    "print('Оптимальные параметры:', grid.best_params_)"
   ]
  },
  {
   "cell_type": "markdown",
   "metadata": {},
   "source": [
    "### Logistic regression\n",
    "There are no hyperparameters that can critically affect the result of *logistic regression*, so train the model with default parameters and look at the value of the metric."
   ]
  },
  {
   "cell_type": "code",
   "execution_count": 17,
   "metadata": {},
   "outputs": [],
   "source": [
    "model = LogisticRegression(random_state=12345)\n",
    "new_model = model.fit(features_train, target_train)\n",
    "predictions = model.predict(features_valid)\n",
    "accuracy = accuracy_score(target_valid, predictions)"
   ]
  },
  {
   "cell_type": "code",
   "execution_count": 18,
   "metadata": {},
   "outputs": [
    {
     "name": "stdout",
     "output_type": "stream",
     "text": [
      "Accuracy логистической регрессии = 0.756\n"
     ]
    }
   ],
   "source": [
    "print('Accuracy логистической регрессии =', round(accuracy, 3))"
   ]
  },
  {
   "cell_type": "code",
   "execution_count": 19,
   "metadata": {},
   "outputs": [],
   "source": [
    "models_dict['LogisticRegression'] = accuracy"
   ]
  },
  {
   "cell_type": "markdown",
   "metadata": {},
   "source": [
    "### Conclusion:"
   ]
  },
  {
   "cell_type": "markdown",
   "metadata": {},
   "source": [
    "Thus, the model trained by the *Random Forest* algorithm with the following values of hyperparameters showed the best result:\n",
    "- **separation criterion**: Ginny\n",
    "- **maximum tree depth**: 8\n",
    "- **number of trees in the ensemble**: 16 \n",
    "\n",
    "Proportion of correct answers in the validation sample: **0.829**."
   ]
  },
  {
   "cell_type": "code",
   "execution_count": 20,
   "metadata": {},
   "outputs": [],
   "source": [
    "# Initiation of the final model\n",
    "best_model = best_forest_model"
   ]
  },
  {
   "cell_type": "markdown",
   "metadata": {},
   "source": [
    "## The model checking on a test set"
   ]
  },
  {
   "cell_type": "code",
   "execution_count": 21,
   "metadata": {},
   "outputs": [
    {
     "name": "stdout",
     "output_type": "stream",
     "text": [
      "Accuracy на тестовой выборке: 0.812\n"
     ]
    }
   ],
   "source": [
    "predictions_test = best_model.predict(features_test)\n",
    "print('Accuracy на тестовой выборке:', round(accuracy_score(target_test, predictions_test), 3))"
   ]
  },
  {
   "cell_type": "markdown",
   "metadata": {},
   "source": [
    "In 4 out of 5 cases, the selected model gives the correct answer. Let's try to increase the quality metric by re-training the model with the selected values of hyperparameters, but on a \"common\" sample: train+valid."
   ]
  },
  {
   "cell_type": "code",
   "execution_count": 27,
   "metadata": {},
   "outputs": [
    {
     "name": "stdout",
     "output_type": "stream",
     "text": [
      "Accuracy на валидационной выборке: 0.868\n",
      "Accuracy на тестовой выборке: 0.82\n"
     ]
    }
   ],
   "source": [
    "full_model = RandomForestClassifier(n_estimators=16, max_depth=8, criterion='gini', random_state=12345)\n",
    "full_model = full_model.fit(features_full_train, target_full_train)\n",
    "predictions_valid = full_model.predict(features_valid)\n",
    "predictions_test = full_model.predict(features_test)\n",
    "\n",
    "print('Accuracy на валидационной выборке:', round(accuracy_score(target_valid, predictions_valid), 3))\n",
    "print('Accuracy на тестовой выборке:', round(accuracy_score(target_test, predictions_test), 3))"
   ]
  },
  {
   "cell_type": "markdown",
   "metadata": {},
   "source": [
    "For comparison, we use a random forest model with parameters optimized with GridSearchCV:"
   ]
  },
  {
   "cell_type": "code",
   "execution_count": 23,
   "metadata": {},
   "outputs": [
    {
     "name": "stdout",
     "output_type": "stream",
     "text": [
      "Accuracy на тестовой выборке: 0.809\n"
     ]
    }
   ],
   "source": [
    "predictions_test = grid.best_estimator_.predict(features_test)\n",
    "print('Accuracy на тестовой выборке:', round(accuracy_score(target_test, predictions_test), 3))"
   ]
  },
  {
   "cell_type": "markdown",
   "metadata": {},
   "source": [
    "The result is a little worse."
   ]
  },
  {
   "cell_type": "markdown",
   "metadata": {},
   "source": [
    "## Checking the model for adequacy"
   ]
  },
  {
   "cell_type": "code",
   "execution_count": 24,
   "metadata": {},
   "outputs": [
    {
     "data": {
      "text/plain": [
       "0    0.693528\n",
       "1    0.306472\n",
       "Name: is_ultra, dtype: float64"
      ]
     },
     "execution_count": 24,
     "metadata": {},
     "output_type": "execute_result"
    }
   ],
   "source": [
    "target.value_counts(normalize=True)"
   ]
  },
  {
   "cell_type": "markdown",
   "metadata": {},
   "source": [
    "The data presented are characterized by an imbalance of classes: approximately 70% are class 0 (*Smart*) and 30% are class 1 (*Ultra*). The distribution is similar for the training sample.\n",
    "\n",
    "Then the proportion of correct answers for the **constant model** (a model that in any case defines an object to one class, e.g. 0):"
   ]
  },
  {
   "cell_type": "code",
   "execution_count": 25,
   "metadata": {},
   "outputs": [
    {
     "data": {
      "text/plain": [
       "0    0.693624\n",
       "Name: is_ultra, dtype: float64"
      ]
     },
     "execution_count": 25,
     "metadata": {},
     "output_type": "execute_result"
    }
   ],
   "source": [
    "target_valid.value_counts(normalize=True).head(1)"
   ]
  },
  {
   "cell_type": "code",
   "execution_count": 26,
   "metadata": {},
   "outputs": [
    {
     "name": "stdout",
     "output_type": "stream",
     "text": [
      "Accuracy для оптимальной модели DecisionTree равно 0.816\n",
      "Accuracy для оптимальной модели RandomForest равно 0.829\n",
      "Accuracy для оптимальной модели LogisticRegression равно 0.756\n"
     ]
    }
   ],
   "source": [
    "# другие модели\n",
    "for key, value in models_dict.items():\n",
    "    print('Accuracy для оптимальной модели', key, 'равно', round(value, 3))"
   ]
  },
  {
   "cell_type": "markdown",
   "metadata": {},
   "source": [
    "The value for the constant model is lower than the obtained accuracy values for the considered models. Consequently, the constructed models predict correct answers better and can be considered **adequate**."
   ]
  },
  {
   "cell_type": "markdown",
   "metadata": {},
   "source": [
    "## Overall conclusion"
   ]
  },
  {
   "cell_type": "markdown",
   "metadata": {},
   "source": [
    "**The main task of the project** was to solve a *binary classification* problem: to learn to predict the appropriate tariff (*Smart or Ultra*) for users based on data about the behavior of customers who have already made a choice. The data was provided in pre-processed form.\n",
    "\n",
    "The study compared several classification algorithms - *Decision Tree*, *Random Forest* and *Logistic Regression*. For the models trained by the first two algorithms, optimal hyperparameters were selected to maximize the *delay of correct answers (accuracy)*, the metric chosen for evaluation. The models constructed were also further tested for adequacy by comparison with a simple constant model predicting a class 0 in 100% of cases.\n",
    "\n",
    "**The best result** was the model trained with the *Random Forest* algorithm containing 16 independent solver trees, with maximum tree depth = 8 and a set Ginny separation criterion. \n",
    "\n",
    "Proportion of correct answers: **0.829** on the validation sample and **0.812** on the test sample (**0.82** if we train the model on the population of training and validation samples)."
   ]
  }
 ],
 "metadata": {
  "ExecuteTimeLog": [
   {
    "duration": 401,
    "start_time": "2022-10-24T10:38:42.579Z"
   },
   {
    "duration": 145,
    "start_time": "2022-10-24T10:39:08.060Z"
   },
   {
    "duration": 13,
    "start_time": "2022-10-24T10:41:23.684Z"
   },
   {
    "duration": 3,
    "start_time": "2022-10-24T10:49:43.105Z"
   },
   {
    "duration": 771,
    "start_time": "2022-10-24T10:51:51.918Z"
   },
   {
    "duration": 7,
    "start_time": "2022-10-24T10:56:51.053Z"
   },
   {
    "duration": 6,
    "start_time": "2022-10-24T10:58:21.061Z"
   },
   {
    "duration": 5,
    "start_time": "2022-10-24T10:58:59.123Z"
   },
   {
    "duration": 46,
    "start_time": "2022-10-24T11:04:09.577Z"
   },
   {
    "duration": 258,
    "start_time": "2022-10-24T11:37:56.371Z"
   },
   {
    "duration": 177,
    "start_time": "2022-10-24T11:39:16.856Z"
   },
   {
    "duration": 53,
    "start_time": "2022-10-24T13:04:43.952Z"
   },
   {
    "duration": 1223,
    "start_time": "2022-10-24T13:04:49.038Z"
   },
   {
    "duration": 96,
    "start_time": "2022-10-24T13:04:51.784Z"
   },
   {
    "duration": 14,
    "start_time": "2022-10-24T13:04:54.473Z"
   },
   {
    "duration": 5,
    "start_time": "2022-10-24T13:04:57.174Z"
   },
   {
    "duration": 9,
    "start_time": "2022-10-24T13:04:59.300Z"
   },
   {
    "duration": 5,
    "start_time": "2022-10-24T13:05:01.255Z"
   },
   {
    "duration": 150,
    "start_time": "2022-10-24T13:05:05.493Z"
   },
   {
    "duration": 157,
    "start_time": "2022-10-24T13:05:46.736Z"
   },
   {
    "duration": 4,
    "start_time": "2022-10-24T13:07:26.094Z"
   },
   {
    "duration": 3,
    "start_time": "2022-10-24T13:07:52.190Z"
   },
   {
    "duration": 4,
    "start_time": "2022-10-24T13:09:12.688Z"
   },
   {
    "duration": 3,
    "start_time": "2022-10-24T13:10:40.481Z"
   },
   {
    "duration": 4,
    "start_time": "2022-10-24T13:11:54.424Z"
   },
   {
    "duration": 150,
    "start_time": "2022-10-24T13:21:17.241Z"
   },
   {
    "duration": 5,
    "start_time": "2022-10-24T13:21:21.942Z"
   },
   {
    "duration": 4,
    "start_time": "2022-10-24T13:21:27.547Z"
   },
   {
    "duration": 6315,
    "start_time": "2022-10-24T13:23:57.906Z"
   },
   {
    "duration": 6458,
    "start_time": "2022-10-24T13:24:55.807Z"
   },
   {
    "duration": 4,
    "start_time": "2022-10-24T13:25:03.814Z"
   },
   {
    "duration": 16183,
    "start_time": "2022-10-24T13:27:09.584Z"
   },
   {
    "duration": 4,
    "start_time": "2022-10-24T13:27:27.544Z"
   },
   {
    "duration": 73604,
    "start_time": "2022-10-24T13:27:47.820Z"
   },
   {
    "duration": 4,
    "start_time": "2022-10-24T13:29:04.455Z"
   },
   {
    "duration": 71373,
    "start_time": "2022-10-24T13:29:17.857Z"
   },
   {
    "duration": 4,
    "start_time": "2022-10-24T13:30:31.289Z"
   },
   {
    "duration": 13357,
    "start_time": "2022-10-24T13:30:49.695Z"
   },
   {
    "duration": 4,
    "start_time": "2022-10-24T13:31:06.342Z"
   },
   {
    "duration": 148,
    "start_time": "2022-10-24T13:41:06.231Z"
   },
   {
    "duration": 3,
    "start_time": "2022-10-24T13:41:08.232Z"
   },
   {
    "duration": 13290,
    "start_time": "2022-10-24T13:41:10.565Z"
   },
   {
    "duration": 3,
    "start_time": "2022-10-24T13:41:25.896Z"
   },
   {
    "duration": 40,
    "start_time": "2022-10-24T13:42:08.323Z"
   },
   {
    "duration": 3,
    "start_time": "2022-10-24T13:42:47.942Z"
   },
   {
    "duration": 69,
    "start_time": "2022-10-24T13:45:39.363Z"
   },
   {
    "duration": 10,
    "start_time": "2022-10-24T13:55:39.697Z"
   },
   {
    "duration": 128,
    "start_time": "2022-10-24T13:55:59.148Z"
   },
   {
    "duration": 13,
    "start_time": "2022-10-24T13:59:46.179Z"
   },
   {
    "duration": 16,
    "start_time": "2022-10-24T14:00:08.670Z"
   },
   {
    "duration": 15,
    "start_time": "2022-10-24T14:00:17.274Z"
   },
   {
    "duration": 13,
    "start_time": "2022-10-24T14:00:38.148Z"
   },
   {
    "duration": 5,
    "start_time": "2022-10-24T14:39:05.187Z"
   },
   {
    "duration": 5,
    "start_time": "2022-10-24T14:42:21.735Z"
   },
   {
    "duration": 1047,
    "start_time": "2022-10-24T17:00:21.214Z"
   },
   {
    "duration": 76,
    "start_time": "2022-10-24T17:00:23.482Z"
   },
   {
    "duration": 12,
    "start_time": "2022-10-24T17:00:26.337Z"
   },
   {
    "duration": 4,
    "start_time": "2022-10-24T17:00:29.274Z"
   },
   {
    "duration": 7,
    "start_time": "2022-10-24T17:00:31.486Z"
   },
   {
    "duration": 6,
    "start_time": "2022-10-24T17:00:33.698Z"
   },
   {
    "duration": 5,
    "start_time": "2022-10-24T17:00:36.341Z"
   },
   {
    "duration": 116,
    "start_time": "2022-10-24T17:00:40.934Z"
   },
   {
    "duration": 3,
    "start_time": "2022-10-24T17:00:43.198Z"
   },
   {
    "duration": 3,
    "start_time": "2022-10-24T17:01:32.289Z"
   },
   {
    "duration": 11198,
    "start_time": "2022-10-24T17:01:34.337Z"
   },
   {
    "duration": 3,
    "start_time": "2022-10-24T17:01:45.537Z"
   },
   {
    "duration": 3,
    "start_time": "2022-10-24T17:02:02.321Z"
   },
   {
    "duration": 34,
    "start_time": "2022-10-24T17:02:10.191Z"
   },
   {
    "duration": 3,
    "start_time": "2022-10-24T17:02:12.943Z"
   },
   {
    "duration": 3,
    "start_time": "2022-10-24T17:02:35.194Z"
   },
   {
    "duration": 107,
    "start_time": "2022-10-24T17:02:38.417Z"
   },
   {
    "duration": 97,
    "start_time": "2022-10-24T17:02:56.100Z"
   },
   {
    "duration": 12,
    "start_time": "2022-10-24T17:03:00.758Z"
   },
   {
    "duration": 6,
    "start_time": "2022-10-24T17:03:18.573Z"
   },
   {
    "duration": 5,
    "start_time": "2022-10-24T17:06:08.141Z"
   },
   {
    "duration": 4,
    "start_time": "2022-10-24T17:08:07.610Z"
   },
   {
    "duration": 69,
    "start_time": "2022-10-24T17:08:18.346Z"
   },
   {
    "duration": 4,
    "start_time": "2022-10-24T17:08:20.894Z"
   },
   {
    "duration": 1108,
    "start_time": "2022-10-24T17:16:00.587Z"
   },
   {
    "duration": 46,
    "start_time": "2022-10-24T17:16:01.697Z"
   },
   {
    "duration": 10,
    "start_time": "2022-10-24T17:16:01.744Z"
   },
   {
    "duration": 15,
    "start_time": "2022-10-24T17:16:01.757Z"
   },
   {
    "duration": 19,
    "start_time": "2022-10-24T17:16:01.774Z"
   },
   {
    "duration": 18,
    "start_time": "2022-10-24T17:16:01.795Z"
   },
   {
    "duration": 130,
    "start_time": "2022-10-24T17:16:01.814Z"
   },
   {
    "duration": 3,
    "start_time": "2022-10-24T17:16:01.946Z"
   },
   {
    "duration": 9,
    "start_time": "2022-10-24T17:16:01.951Z"
   },
   {
    "duration": 11097,
    "start_time": "2022-10-24T17:16:01.963Z"
   },
   {
    "duration": 4,
    "start_time": "2022-10-24T17:16:13.061Z"
   },
   {
    "duration": 4,
    "start_time": "2022-10-24T17:16:13.066Z"
   },
   {
    "duration": 45,
    "start_time": "2022-10-24T17:16:13.071Z"
   },
   {
    "duration": 3,
    "start_time": "2022-10-24T17:16:13.118Z"
   },
   {
    "duration": 10,
    "start_time": "2022-10-24T17:16:13.122Z"
   },
   {
    "duration": 100,
    "start_time": "2022-10-24T17:16:13.134Z"
   },
   {
    "duration": 11,
    "start_time": "2022-10-24T17:16:13.235Z"
   },
   {
    "duration": 10,
    "start_time": "2022-10-24T17:16:13.248Z"
   },
   {
    "duration": 6,
    "start_time": "2022-10-24T17:16:13.259Z"
   },
   {
    "duration": 6,
    "start_time": "2022-10-24T17:16:13.266Z"
   },
   {
    "duration": 46,
    "start_time": "2022-10-25T10:14:37.731Z"
   },
   {
    "duration": 1127,
    "start_time": "2022-10-25T10:14:47.205Z"
   },
   {
    "duration": 175,
    "start_time": "2022-10-25T10:14:49.721Z"
   },
   {
    "duration": 11,
    "start_time": "2022-10-25T10:14:53.069Z"
   },
   {
    "duration": 6,
    "start_time": "2022-10-25T10:14:55.150Z"
   },
   {
    "duration": 67,
    "start_time": "2022-10-25T10:24:50.913Z"
   },
   {
    "duration": 4,
    "start_time": "2022-10-25T10:24:53.472Z"
   },
   {
    "duration": 17,
    "start_time": "2022-10-25T10:24:55.068Z"
   },
   {
    "duration": 6,
    "start_time": "2022-10-25T10:27:34.995Z"
   },
   {
    "duration": 13,
    "start_time": "2022-10-25T10:27:37.891Z"
   },
   {
    "duration": 4,
    "start_time": "2022-10-25T10:28:32.506Z"
   },
   {
    "duration": 7,
    "start_time": "2022-10-25T10:28:47.386Z"
   },
   {
    "duration": 11,
    "start_time": "2022-10-25T10:29:01.267Z"
   },
   {
    "duration": 5,
    "start_time": "2022-10-25T10:29:07.612Z"
   },
   {
    "duration": 139,
    "start_time": "2022-10-25T10:32:02.338Z"
   },
   {
    "duration": 3,
    "start_time": "2022-10-25T10:32:05.433Z"
   },
   {
    "duration": 3,
    "start_time": "2022-10-25T10:33:13.856Z"
   },
   {
    "duration": 20,
    "start_time": "2022-10-25T10:34:52.192Z"
   },
   {
    "duration": 136,
    "start_time": "2022-10-25T10:35:02.198Z"
   },
   {
    "duration": 399,
    "start_time": "2022-10-25T10:36:20.366Z"
   },
   {
    "duration": 18,
    "start_time": "2022-10-25T10:36:34.206Z"
   },
   {
    "duration": 3,
    "start_time": "2022-10-25T10:36:53.693Z"
   },
   {
    "duration": 132,
    "start_time": "2022-10-25T10:36:58.568Z"
   },
   {
    "duration": 245,
    "start_time": "2022-10-25T10:37:44.084Z"
   },
   {
    "duration": 247,
    "start_time": "2022-10-25T10:41:33.372Z"
   },
   {
    "duration": 247,
    "start_time": "2022-10-25T10:41:45.436Z"
   },
   {
    "duration": 254,
    "start_time": "2022-10-25T10:42:22.590Z"
   },
   {
    "duration": 224,
    "start_time": "2022-10-25T10:42:51.837Z"
   },
   {
    "duration": 335,
    "start_time": "2022-10-25T10:43:27.548Z"
   },
   {
    "duration": 276,
    "start_time": "2022-10-25T10:43:45.495Z"
   },
   {
    "duration": 331,
    "start_time": "2022-10-25T10:46:11.072Z"
   },
   {
    "duration": 339,
    "start_time": "2022-10-25T10:46:17.362Z"
   },
   {
    "duration": 278,
    "start_time": "2022-10-25T10:46:39.659Z"
   },
   {
    "duration": 251,
    "start_time": "2022-10-25T10:47:19.218Z"
   },
   {
    "duration": 252,
    "start_time": "2022-10-25T10:47:35.299Z"
   },
   {
    "duration": 13,
    "start_time": "2022-10-25T10:56:32.005Z"
   },
   {
    "duration": 637,
    "start_time": "2022-10-25T10:56:46.897Z"
   },
   {
    "duration": 309,
    "start_time": "2022-10-25T10:57:43.046Z"
   },
   {
    "duration": 320,
    "start_time": "2022-10-25T10:59:59.851Z"
   },
   {
    "duration": 3,
    "start_time": "2022-10-25T11:00:17.567Z"
   },
   {
    "duration": 398,
    "start_time": "2022-10-25T11:01:11.040Z"
   },
   {
    "duration": 15,
    "start_time": "2022-10-25T11:08:06.641Z"
   },
   {
    "duration": 5,
    "start_time": "2022-10-25T11:08:23.294Z"
   },
   {
    "duration": 1704,
    "start_time": "2022-10-25T11:08:46.782Z"
   },
   {
    "duration": 1632,
    "start_time": "2022-10-25T11:09:14.494Z"
   },
   {
    "duration": 1679,
    "start_time": "2022-10-25T11:09:37.372Z"
   },
   {
    "duration": 1512,
    "start_time": "2022-10-25T11:09:50.668Z"
   },
   {
    "duration": 830,
    "start_time": "2022-10-25T11:09:57.068Z"
   },
   {
    "duration": 907,
    "start_time": "2022-10-25T11:10:05.003Z"
   },
   {
    "duration": 979,
    "start_time": "2022-10-25T11:10:13.438Z"
   },
   {
    "duration": 962,
    "start_time": "2022-10-25T11:11:18.762Z"
   },
   {
    "duration": 278,
    "start_time": "2022-10-25T11:12:12.472Z"
   },
   {
    "duration": 412,
    "start_time": "2022-10-25T11:12:23.000Z"
   },
   {
    "duration": 537,
    "start_time": "2022-10-25T11:12:37.153Z"
   },
   {
    "duration": 321,
    "start_time": "2022-10-25T11:12:57.740Z"
   },
   {
    "duration": 358,
    "start_time": "2022-10-25T11:13:18.017Z"
   },
   {
    "duration": 12879,
    "start_time": "2022-10-25T11:15:49.192Z"
   },
   {
    "duration": 4,
    "start_time": "2022-10-25T11:16:09.796Z"
   },
   {
    "duration": 3,
    "start_time": "2022-10-25T11:16:36.627Z"
   },
   {
    "duration": 3,
    "start_time": "2022-10-25T11:16:39.195Z"
   },
   {
    "duration": 12875,
    "start_time": "2022-10-25T11:16:54.505Z"
   },
   {
    "duration": 12898,
    "start_time": "2022-10-25T11:17:09.461Z"
   },
   {
    "duration": 4,
    "start_time": "2022-10-25T11:20:53.313Z"
   },
   {
    "duration": 13,
    "start_time": "2022-10-25T11:22:52.392Z"
   },
   {
    "duration": 13,
    "start_time": "2022-10-25T11:23:06.631Z"
   },
   {
    "duration": 9,
    "start_time": "2022-10-25T11:23:20.463Z"
   },
   {
    "duration": 3,
    "start_time": "2022-10-25T11:26:51.794Z"
   },
   {
    "duration": 526486,
    "start_time": "2022-10-25T11:27:01.096Z"
   },
   {
    "duration": 69388,
    "start_time": "2022-10-25T11:36:19.235Z"
   },
   {
    "duration": 10,
    "start_time": "2022-10-25T11:40:19.897Z"
   },
   {
    "duration": 5,
    "start_time": "2022-10-25T11:40:44.807Z"
   },
   {
    "duration": 67391,
    "start_time": "2022-10-25T11:41:59.366Z"
   },
   {
    "duration": 5,
    "start_time": "2022-10-25T11:43:34.409Z"
   },
   {
    "duration": 11,
    "start_time": "2022-10-25T11:44:37.216Z"
   },
   {
    "duration": 4,
    "start_time": "2022-10-25T11:44:50.721Z"
   },
   {
    "duration": 1504,
    "start_time": "2022-10-25T14:10:52.412Z"
   },
   {
    "duration": 136,
    "start_time": "2022-10-25T14:10:57.892Z"
   },
   {
    "duration": 18,
    "start_time": "2022-10-25T14:11:00.259Z"
   },
   {
    "duration": 8,
    "start_time": "2022-10-25T14:11:02.576Z"
   },
   {
    "duration": 4,
    "start_time": "2022-10-25T14:11:06.207Z"
   },
   {
    "duration": 109,
    "start_time": "2022-10-25T14:11:08.204Z"
   },
   {
    "duration": 8,
    "start_time": "2022-10-25T14:11:25.571Z"
   },
   {
    "duration": 4,
    "start_time": "2022-10-25T14:11:28.162Z"
   },
   {
    "duration": 314,
    "start_time": "2022-10-25T14:11:32.923Z"
   },
   {
    "duration": 4,
    "start_time": "2022-10-25T14:11:37.287Z"
   },
   {
    "duration": 3,
    "start_time": "2022-10-25T14:11:39.528Z"
   },
   {
    "duration": 869,
    "start_time": "2022-10-25T14:11:41.710Z"
   },
   {
    "duration": 11861,
    "start_time": "2022-10-25T14:11:47.384Z"
   },
   {
    "duration": 3,
    "start_time": "2022-10-25T14:13:43.448Z"
   },
   {
    "duration": 2,
    "start_time": "2022-10-25T14:13:46.389Z"
   },
   {
    "duration": 64939,
    "start_time": "2022-10-25T14:14:03.271Z"
   },
   {
    "duration": 4,
    "start_time": "2022-10-25T14:15:20.470Z"
   },
   {
    "duration": 4,
    "start_time": "2022-10-25T14:15:44.709Z"
   },
   {
    "duration": 4,
    "start_time": "2022-10-25T14:15:50.466Z"
   },
   {
    "duration": 4,
    "start_time": "2022-10-25T14:15:59.348Z"
   },
   {
    "duration": 30,
    "start_time": "2022-10-25T14:16:06.343Z"
   },
   {
    "duration": 3,
    "start_time": "2022-10-25T14:16:09.879Z"
   },
   {
    "duration": 2,
    "start_time": "2022-10-25T14:16:11.930Z"
   },
   {
    "duration": 13504,
    "start_time": "2022-10-25T14:18:38.502Z"
   },
   {
    "duration": 4,
    "start_time": "2022-10-25T14:18:55.115Z"
   },
   {
    "duration": 2,
    "start_time": "2022-10-25T14:19:05.572Z"
   },
   {
    "duration": 12,
    "start_time": "2022-10-25T14:29:08.966Z"
   },
   {
    "duration": 11,
    "start_time": "2022-10-25T14:31:13.057Z"
   },
   {
    "duration": 10,
    "start_time": "2022-10-25T14:32:25.551Z"
   },
   {
    "duration": 66,
    "start_time": "2022-10-25T14:36:41.272Z"
   },
   {
    "duration": 7,
    "start_time": "2022-10-25T14:37:15.283Z"
   },
   {
    "duration": 6,
    "start_time": "2022-10-25T14:37:17.624Z"
   },
   {
    "duration": 6,
    "start_time": "2022-10-25T14:37:20.216Z"
   },
   {
    "duration": 1418,
    "start_time": "2022-10-25T14:39:02.942Z"
   },
   {
    "duration": 42,
    "start_time": "2022-10-25T14:39:04.362Z"
   },
   {
    "duration": 11,
    "start_time": "2022-10-25T14:39:04.406Z"
   },
   {
    "duration": 18,
    "start_time": "2022-10-25T14:39:04.423Z"
   },
   {
    "duration": 11,
    "start_time": "2022-10-25T14:39:04.442Z"
   },
   {
    "duration": 12,
    "start_time": "2022-10-25T14:39:04.454Z"
   },
   {
    "duration": 4,
    "start_time": "2022-10-25T14:39:04.468Z"
   },
   {
    "duration": 361,
    "start_time": "2022-10-25T14:39:04.473Z"
   },
   {
    "duration": 5,
    "start_time": "2022-10-25T14:39:04.835Z"
   },
   {
    "duration": 8,
    "start_time": "2022-10-25T14:39:04.843Z"
   },
   {
    "duration": 1098,
    "start_time": "2022-10-25T14:39:04.853Z"
   },
   {
    "duration": 13826,
    "start_time": "2022-10-25T14:39:05.953Z"
   },
   {
    "duration": 4,
    "start_time": "2022-10-25T14:39:19.781Z"
   },
   {
    "duration": 15,
    "start_time": "2022-10-25T14:39:19.787Z"
   },
   {
    "duration": 72169,
    "start_time": "2022-10-25T14:39:19.804Z"
   },
   {
    "duration": 5,
    "start_time": "2022-10-25T14:40:31.975Z"
   },
   {
    "duration": 44,
    "start_time": "2022-10-25T14:40:31.982Z"
   },
   {
    "duration": 4,
    "start_time": "2022-10-25T14:40:32.028Z"
   },
   {
    "duration": 10,
    "start_time": "2022-10-25T14:40:32.034Z"
   },
   {
    "duration": 20,
    "start_time": "2022-10-25T14:40:32.045Z"
   },
   {
    "duration": 40,
    "start_time": "2022-10-25T14:40:32.067Z"
   },
   {
    "duration": 88,
    "start_time": "2022-10-25T14:40:32.109Z"
   },
   {
    "duration": 12,
    "start_time": "2022-10-25T14:40:32.199Z"
   },
   {
    "duration": 19,
    "start_time": "2022-10-25T14:40:32.213Z"
   },
   {
    "duration": 19,
    "start_time": "2022-10-25T14:40:32.234Z"
   },
   {
    "duration": 12,
    "start_time": "2022-10-25T14:40:32.255Z"
   },
   {
    "duration": 68,
    "start_time": "2022-10-25T14:43:34.023Z"
   }
  ],
  "kernelspec": {
   "display_name": "Python 3 (ipykernel)",
   "language": "python",
   "name": "python3"
  },
  "language_info": {
   "codemirror_mode": {
    "name": "ipython",
    "version": 3
   },
   "file_extension": ".py",
   "mimetype": "text/x-python",
   "name": "python",
   "nbconvert_exporter": "python",
   "pygments_lexer": "ipython3",
   "version": "3.10.13"
  },
  "toc": {
   "base_numbering": 1,
   "nav_menu": {},
   "number_sections": true,
   "sideBar": true,
   "skip_h1_title": true,
   "title_cell": "Table of Contents",
   "title_sidebar": "Contents",
   "toc_cell": false,
   "toc_position": {},
   "toc_section_display": true,
   "toc_window_display": false
  }
 },
 "nbformat": 4,
 "nbformat_minor": 2
}
