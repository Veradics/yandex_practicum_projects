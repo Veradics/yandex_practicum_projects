{
 "cells": [
  {
   "cell_type": "markdown",
   "metadata": {
    "toc": true
   },
   "source": [
    "<h1>Содержание<span class=\"tocSkip\"></span></h1>\n",
    "<div class=\"toc\"><ul class=\"toc-item\"><li><span><a href=\"#Описание-данных\" data-toc-modified-id=\"Описание-данных-1\"><span class=\"toc-item-num\">1&nbsp;&nbsp;</span>Описание данных</a></span></li><li><span><a href=\"#Подготовка-данных\" data-toc-modified-id=\"Подготовка-данных-2\"><span class=\"toc-item-num\">2&nbsp;&nbsp;</span>Подготовка данных</a></span></li><li><span><a href=\"#Исследование-задачи\" data-toc-modified-id=\"Исследование-задачи-3\"><span class=\"toc-item-num\">3&nbsp;&nbsp;</span>Исследование задачи</a></span></li><li><span><a href=\"#Борьба-с-дисбалансом\" data-toc-modified-id=\"Борьба-с-дисбалансом-4\"><span class=\"toc-item-num\">4&nbsp;&nbsp;</span>Борьба с дисбалансом</a></span></li><li><span><a href=\"#Тестирование-модели\" data-toc-modified-id=\"Тестирование-модели-5\"><span class=\"toc-item-num\">5&nbsp;&nbsp;</span>Тестирование модели</a></span></li><li><span><a href=\"#Вывод\" data-toc-modified-id=\"Вывод-6\"><span class=\"toc-item-num\">6&nbsp;&nbsp;</span>Вывод</a></span></li></ul></div>"
   ]
  },
  {
   "cell_type": "markdown",
   "metadata": {},
   "source": [
    "# Отток клиентов"
   ]
  },
  {
   "cell_type": "markdown",
   "metadata": {},
   "source": [
    "Из «Бета-Банка» стали уходить клиенты. Каждый месяц. Немного, но заметно. Банковские маркетологи посчитали: сохранять текущих клиентов дешевле, чем привлекать новых.\n",
    "\n",
    "Нужно спрогнозировать, уйдёт клиент из банка в ближайшее время или нет. Вам предоставлены исторические данные о поведении клиентов и расторжении договоров с банком. \n",
    "\n",
    "Постройте модель с предельно большим значением *F1*-меры. Чтобы сдать проект успешно, нужно довести метрику до 0.59. Проверьте *F1*-меру на тестовой выборке самостоятельно.\n",
    "\n",
    "Дополнительно измеряйте *AUC-ROC*, сравнивайте её значение с *F1*-мерой.\n",
    "\n",
    "Источник данных: [https://www.kaggle.com/barelydedicated/bank-customer-churn-modeling](https://www.kaggle.com/barelydedicated/bank-customer-churn-modeling)\n",
    "\n",
    "Таким образом, **целью исследования** является построение модели, способной с достаточной точностью прогнозировать уход клиентов Бета-банка в ближайшее время.\n",
    "\n",
    "**Ход работы:**\n",
    "1. [Изучение и подготовка данных](#preprocessing)\n",
    "2. [Исследование задачи](#analysis)\n",
    "3. [Решение проблемы дисбаланса и выбор модели](#solving)\n",
    "4. [Финальное тестирование модели](#final)\n",
    "\n",
    "На протяжении исследования будем сравнивать модели, обученные наиболее известными **алгоритмами** - *методом k ближайших соседей (kNN)*, *деревом решений*, *случайным лесом (random forest)* и *логистической регрессией*.\n",
    "\n",
    "**Ключевые метрики:** F1-мера, AUC-ROC"
   ]
  },
  {
   "cell_type": "markdown",
   "metadata": {},
   "source": [
    "##  Описание данных\n",
    "Данные находятся в файле */datasets/Churn.csv* (англ. «отток клиентов»).\n",
    "\n",
    "**Признаки:**\n",
    "- `RowNumber` — индекс строки в данных\n",
    "- `CustomerId` — уникальный идентификатор клиента\n",
    "- `Surname` — фамилия\n",
    "- `CreditScore` — кредитный рейтинг\n",
    "- `Geography` — страна проживания\n",
    "- `Gender` — пол\n",
    "- `Age` — возраст\n",
    "- `Tenure` — сколько лет человек является клиентом банка\n",
    "- `Balance` — баланс на счёте\n",
    "- `NumOfProducts` — количество продуктов банка, используемых клиентом\n",
    "- `HasCrCard` — наличие кредитной карты\n",
    "- `IsActiveMember` — активность клиента\n",
    "- `EstimatedSalary` — предполагаемая зарплата\n",
    "\n",
    "**Целевой признак:**\n",
    "- `Exited` — факт ухода клиента"
   ]
  },
  {
   "cell_type": "markdown",
   "metadata": {},
   "source": [
    "<a id=\"preprocessing\"></a>\n",
    "## Подготовка данных"
   ]
  },
  {
   "cell_type": "code",
   "execution_count": 1,
   "metadata": {},
   "outputs": [],
   "source": [
    "# импорты\n",
    "import pandas as pd\n",
    "import numpy as np\n",
    "import matplotlib.pyplot as plt\n",
    "\n",
    "from sklearn.model_selection import train_test_split\n",
    "from sklearn.preprocessing import OneHotEncoder, StandardScaler\n",
    "from sklearn.neighbors import KNeighborsClassifier\n",
    "from sklearn.tree import DecisionTreeClassifier\n",
    "from sklearn.ensemble import RandomForestClassifier\n",
    "from sklearn.linear_model import LogisticRegression\n",
    "from sklearn.metrics import f1_score, roc_auc_score\n",
    "from sklearn.utils import shuffle\n",
    "\n",
    "import warnings\n",
    "warnings.filterwarnings('ignore')"
   ]
  },
  {
   "cell_type": "code",
   "execution_count": 2,
   "metadata": {},
   "outputs": [
    {
     "data": {
      "text/html": [
       "<div>\n",
       "<style scoped>\n",
       "    .dataframe tbody tr th:only-of-type {\n",
       "        vertical-align: middle;\n",
       "    }\n",
       "\n",
       "    .dataframe tbody tr th {\n",
       "        vertical-align: top;\n",
       "    }\n",
       "\n",
       "    .dataframe thead th {\n",
       "        text-align: right;\n",
       "    }\n",
       "</style>\n",
       "<table border=\"1\" class=\"dataframe\">\n",
       "  <thead>\n",
       "    <tr style=\"text-align: right;\">\n",
       "      <th></th>\n",
       "      <th>RowNumber</th>\n",
       "      <th>CustomerId</th>\n",
       "      <th>Surname</th>\n",
       "      <th>CreditScore</th>\n",
       "      <th>Geography</th>\n",
       "      <th>Gender</th>\n",
       "      <th>Age</th>\n",
       "      <th>Tenure</th>\n",
       "      <th>Balance</th>\n",
       "      <th>NumOfProducts</th>\n",
       "      <th>HasCrCard</th>\n",
       "      <th>IsActiveMember</th>\n",
       "      <th>EstimatedSalary</th>\n",
       "      <th>Exited</th>\n",
       "    </tr>\n",
       "  </thead>\n",
       "  <tbody>\n",
       "    <tr>\n",
       "      <th>0</th>\n",
       "      <td>1</td>\n",
       "      <td>15634602</td>\n",
       "      <td>Hargrave</td>\n",
       "      <td>619</td>\n",
       "      <td>France</td>\n",
       "      <td>Female</td>\n",
       "      <td>42</td>\n",
       "      <td>2.0</td>\n",
       "      <td>0.00</td>\n",
       "      <td>1</td>\n",
       "      <td>1</td>\n",
       "      <td>1</td>\n",
       "      <td>101348.88</td>\n",
       "      <td>1</td>\n",
       "    </tr>\n",
       "    <tr>\n",
       "      <th>1</th>\n",
       "      <td>2</td>\n",
       "      <td>15647311</td>\n",
       "      <td>Hill</td>\n",
       "      <td>608</td>\n",
       "      <td>Spain</td>\n",
       "      <td>Female</td>\n",
       "      <td>41</td>\n",
       "      <td>1.0</td>\n",
       "      <td>83807.86</td>\n",
       "      <td>1</td>\n",
       "      <td>0</td>\n",
       "      <td>1</td>\n",
       "      <td>112542.58</td>\n",
       "      <td>0</td>\n",
       "    </tr>\n",
       "    <tr>\n",
       "      <th>2</th>\n",
       "      <td>3</td>\n",
       "      <td>15619304</td>\n",
       "      <td>Onio</td>\n",
       "      <td>502</td>\n",
       "      <td>France</td>\n",
       "      <td>Female</td>\n",
       "      <td>42</td>\n",
       "      <td>8.0</td>\n",
       "      <td>159660.80</td>\n",
       "      <td>3</td>\n",
       "      <td>1</td>\n",
       "      <td>0</td>\n",
       "      <td>113931.57</td>\n",
       "      <td>1</td>\n",
       "    </tr>\n",
       "    <tr>\n",
       "      <th>3</th>\n",
       "      <td>4</td>\n",
       "      <td>15701354</td>\n",
       "      <td>Boni</td>\n",
       "      <td>699</td>\n",
       "      <td>France</td>\n",
       "      <td>Female</td>\n",
       "      <td>39</td>\n",
       "      <td>1.0</td>\n",
       "      <td>0.00</td>\n",
       "      <td>2</td>\n",
       "      <td>0</td>\n",
       "      <td>0</td>\n",
       "      <td>93826.63</td>\n",
       "      <td>0</td>\n",
       "    </tr>\n",
       "    <tr>\n",
       "      <th>4</th>\n",
       "      <td>5</td>\n",
       "      <td>15737888</td>\n",
       "      <td>Mitchell</td>\n",
       "      <td>850</td>\n",
       "      <td>Spain</td>\n",
       "      <td>Female</td>\n",
       "      <td>43</td>\n",
       "      <td>2.0</td>\n",
       "      <td>125510.82</td>\n",
       "      <td>1</td>\n",
       "      <td>1</td>\n",
       "      <td>1</td>\n",
       "      <td>79084.10</td>\n",
       "      <td>0</td>\n",
       "    </tr>\n",
       "  </tbody>\n",
       "</table>\n",
       "</div>"
      ],
      "text/plain": [
       "   RowNumber  CustomerId   Surname  CreditScore Geography  Gender  Age  \\\n",
       "0          1    15634602  Hargrave          619    France  Female   42   \n",
       "1          2    15647311      Hill          608     Spain  Female   41   \n",
       "2          3    15619304      Onio          502    France  Female   42   \n",
       "3          4    15701354      Boni          699    France  Female   39   \n",
       "4          5    15737888  Mitchell          850     Spain  Female   43   \n",
       "\n",
       "   Tenure    Balance  NumOfProducts  HasCrCard  IsActiveMember  \\\n",
       "0     2.0       0.00              1          1               1   \n",
       "1     1.0   83807.86              1          0               1   \n",
       "2     8.0  159660.80              3          1               0   \n",
       "3     1.0       0.00              2          0               0   \n",
       "4     2.0  125510.82              1          1               1   \n",
       "\n",
       "   EstimatedSalary  Exited  \n",
       "0        101348.88       1  \n",
       "1        112542.58       0  \n",
       "2        113931.57       1  \n",
       "3         93826.63       0  \n",
       "4         79084.10       0  "
      ]
     },
     "execution_count": 2,
     "metadata": {},
     "output_type": "execute_result"
    }
   ],
   "source": [
    "# данные\n",
    "data = pd.read_csv('/datasets/Churn.csv')\n",
    "data.head()"
   ]
  },
  {
   "cell_type": "code",
   "execution_count": 3,
   "metadata": {},
   "outputs": [
    {
     "name": "stdout",
     "output_type": "stream",
     "text": [
      "<class 'pandas.core.frame.DataFrame'>\n",
      "RangeIndex: 10000 entries, 0 to 9999\n",
      "Data columns (total 14 columns):\n",
      " #   Column           Non-Null Count  Dtype  \n",
      "---  ------           --------------  -----  \n",
      " 0   RowNumber        10000 non-null  int64  \n",
      " 1   CustomerId       10000 non-null  int64  \n",
      " 2   Surname          10000 non-null  object \n",
      " 3   CreditScore      10000 non-null  int64  \n",
      " 4   Geography        10000 non-null  object \n",
      " 5   Gender           10000 non-null  object \n",
      " 6   Age              10000 non-null  int64  \n",
      " 7   Tenure           9091 non-null   float64\n",
      " 8   Balance          10000 non-null  float64\n",
      " 9   NumOfProducts    10000 non-null  int64  \n",
      " 10  HasCrCard        10000 non-null  int64  \n",
      " 11  IsActiveMember   10000 non-null  int64  \n",
      " 12  EstimatedSalary  10000 non-null  float64\n",
      " 13  Exited           10000 non-null  int64  \n",
      "dtypes: float64(3), int64(8), object(3)\n",
      "memory usage: 1.1+ MB\n"
     ]
    }
   ],
   "source": [
    "data.info()"
   ]
  },
  {
   "cell_type": "markdown",
   "metadata": {},
   "source": [
    "Всего в датасете содержится 13 колонок с признаками: 10 из низ относятся к численным, 3 - к категориальным. При этом, признаки, отвечающие за индекс строки в данных (*RowNumber*), уникальный идентификатор клиента (*CustomerID*) и фамилия клиента (*Surname*) могут быть удалены на начальном этапе, поскольку не содержат полезной информации для обучения модели."
   ]
  },
  {
   "cell_type": "code",
   "execution_count": 4,
   "metadata": {},
   "outputs": [],
   "source": [
    "data = data.drop(columns=['RowNumber', 'CustomerId', 'Surname'])"
   ]
  },
  {
   "cell_type": "code",
   "execution_count": 5,
   "metadata": {},
   "outputs": [
    {
     "data": {
      "text/plain": [
       "9.09"
      ]
     },
     "execution_count": 5,
     "metadata": {},
     "output_type": "execute_result"
    }
   ],
   "source": [
    "# процент пропусков в столбце\n",
    "data['Tenure'].isnull().mean()*100"
   ]
  },
  {
   "cell_type": "markdown",
   "metadata": {},
   "source": [
    "Пропущенные значения присутствуют только в столбце *Tenure*, содержащем информацию о том, сколько лет человек является клиентом банка. Пропуски затрагивают всего в 9% строк. Игнорировать их нельзя: это может помешать модели сделать корректные выводы, но и удалять тоже не вариант, т.к. это ценные данные. Лучшее решение - попробовать заполнить их медианными значениями. "
   ]
  },
  {
   "cell_type": "code",
   "execution_count": 6,
   "metadata": {},
   "outputs": [
    {
     "name": "stdout",
     "output_type": "stream",
     "text": [
      "Медиана: 5.0\n"
     ]
    }
   ],
   "source": [
    "print('Медиана:', data['Tenure'].median())\n",
    "data['Tenure'] = data.fillna(data['Tenure'].median())"
   ]
  },
  {
   "cell_type": "code",
   "execution_count": 7,
   "metadata": {},
   "outputs": [
    {
     "data": {
      "text/plain": [
       "0.0"
      ]
     },
     "execution_count": 7,
     "metadata": {},
     "output_type": "execute_result"
    }
   ],
   "source": [
    "data['Tenure'].isnull().mean()*100"
   ]
  },
  {
   "cell_type": "code",
   "execution_count": 8,
   "metadata": {},
   "outputs": [],
   "source": [
    "# приведение к численному типу\n",
    "data['Tenure'] = data['Tenure'].astype(int)"
   ]
  },
  {
   "cell_type": "markdown",
   "metadata": {},
   "source": [
    "Что касается оставшихся категориальных столбцов(*Geography* и *Gender*) - воспользуемся техникой прямого кодирования, чтобы перевести их в численные. Но перед этим, разделим датасет на на train, valid, test выборки в соотношении 3:1:1. "
   ]
  },
  {
   "cell_type": "code",
   "execution_count": 9,
   "metadata": {},
   "outputs": [
    {
     "data": {
      "text/plain": [
       "(6000, 2000, 2000)"
      ]
     },
     "execution_count": 9,
     "metadata": {},
     "output_type": "execute_result"
    }
   ],
   "source": [
    "features = data.drop('Exited', axis=1)\n",
    "target = data['Exited']\n",
    "\n",
    "# выделение тестовой выборки\n",
    "features_train, features_test, target_train, target_test = train_test_split(\n",
    "    features, target, test_size=0.2, stratify=target, random_state=123)\n",
    "\n",
    "# деление на обучающую и валидационную\n",
    "features_train, features_valid, target_train, target_valid = train_test_split(\n",
    "    features_train, target_train, test_size=0.25, stratify=target_train, random_state=123)\n",
    "\n",
    "target_train.shape[0], target_valid.shape[0], target_test.shape[0]"
   ]
  },
  {
   "cell_type": "code",
   "execution_count": 10,
   "metadata": {
    "scrolled": true
   },
   "outputs": [
    {
     "data": {
      "text/html": [
       "<div>\n",
       "<style scoped>\n",
       "    .dataframe tbody tr th:only-of-type {\n",
       "        vertical-align: middle;\n",
       "    }\n",
       "\n",
       "    .dataframe tbody tr th {\n",
       "        vertical-align: top;\n",
       "    }\n",
       "\n",
       "    .dataframe thead th {\n",
       "        text-align: right;\n",
       "    }\n",
       "</style>\n",
       "<table border=\"1\" class=\"dataframe\">\n",
       "  <thead>\n",
       "    <tr style=\"text-align: right;\">\n",
       "      <th></th>\n",
       "      <th>CreditScore</th>\n",
       "      <th>Geography</th>\n",
       "      <th>Gender</th>\n",
       "      <th>Age</th>\n",
       "      <th>Tenure</th>\n",
       "      <th>Balance</th>\n",
       "      <th>NumOfProducts</th>\n",
       "      <th>HasCrCard</th>\n",
       "      <th>IsActiveMember</th>\n",
       "      <th>EstimatedSalary</th>\n",
       "      <th>0</th>\n",
       "      <th>1</th>\n",
       "      <th>2</th>\n",
       "    </tr>\n",
       "  </thead>\n",
       "  <tbody>\n",
       "    <tr>\n",
       "      <th>4053</th>\n",
       "      <td>550</td>\n",
       "      <td>Spain</td>\n",
       "      <td>Male</td>\n",
       "      <td>51</td>\n",
       "      <td>550</td>\n",
       "      <td>0.00</td>\n",
       "      <td>2</td>\n",
       "      <td>1</td>\n",
       "      <td>0</td>\n",
       "      <td>153917.41</td>\n",
       "      <td>1.0</td>\n",
       "      <td>0.0</td>\n",
       "      <td>1.0</td>\n",
       "    </tr>\n",
       "    <tr>\n",
       "      <th>9797</th>\n",
       "      <td>627</td>\n",
       "      <td>Spain</td>\n",
       "      <td>Male</td>\n",
       "      <td>40</td>\n",
       "      <td>627</td>\n",
       "      <td>0.00</td>\n",
       "      <td>2</td>\n",
       "      <td>1</td>\n",
       "      <td>1</td>\n",
       "      <td>194792.42</td>\n",
       "      <td>1.0</td>\n",
       "      <td>0.0</td>\n",
       "      <td>1.0</td>\n",
       "    </tr>\n",
       "    <tr>\n",
       "      <th>4101</th>\n",
       "      <td>673</td>\n",
       "      <td>Spain</td>\n",
       "      <td>Female</td>\n",
       "      <td>57</td>\n",
       "      <td>673</td>\n",
       "      <td>0.00</td>\n",
       "      <td>2</td>\n",
       "      <td>1</td>\n",
       "      <td>1</td>\n",
       "      <td>49684.09</td>\n",
       "      <td>0.0</td>\n",
       "      <td>0.0</td>\n",
       "      <td>1.0</td>\n",
       "    </tr>\n",
       "    <tr>\n",
       "      <th>8920</th>\n",
       "      <td>570</td>\n",
       "      <td>France</td>\n",
       "      <td>Female</td>\n",
       "      <td>36</td>\n",
       "      <td>570</td>\n",
       "      <td>0.00</td>\n",
       "      <td>2</td>\n",
       "      <td>1</td>\n",
       "      <td>0</td>\n",
       "      <td>92118.75</td>\n",
       "      <td>0.0</td>\n",
       "      <td>0.0</td>\n",
       "      <td>0.0</td>\n",
       "    </tr>\n",
       "    <tr>\n",
       "      <th>2353</th>\n",
       "      <td>554</td>\n",
       "      <td>France</td>\n",
       "      <td>Female</td>\n",
       "      <td>26</td>\n",
       "      <td>554</td>\n",
       "      <td>92606.86</td>\n",
       "      <td>2</td>\n",
       "      <td>1</td>\n",
       "      <td>0</td>\n",
       "      <td>192709.69</td>\n",
       "      <td>0.0</td>\n",
       "      <td>0.0</td>\n",
       "      <td>0.0</td>\n",
       "    </tr>\n",
       "  </tbody>\n",
       "</table>\n",
       "</div>"
      ],
      "text/plain": [
       "      CreditScore Geography  Gender  Age  Tenure   Balance  NumOfProducts  \\\n",
       "4053          550     Spain    Male   51     550      0.00              2   \n",
       "9797          627     Spain    Male   40     627      0.00              2   \n",
       "4101          673     Spain  Female   57     673      0.00              2   \n",
       "8920          570    France  Female   36     570      0.00              2   \n",
       "2353          554    France  Female   26     554  92606.86              2   \n",
       "\n",
       "      HasCrCard  IsActiveMember  EstimatedSalary    0    1    2  \n",
       "4053          1               0        153917.41  1.0  0.0  1.0  \n",
       "9797          1               1        194792.42  1.0  0.0  1.0  \n",
       "4101          1               1         49684.09  0.0  0.0  1.0  \n",
       "8920          1               0         92118.75  0.0  0.0  0.0  \n",
       "2353          1               0        192709.69  0.0  0.0  0.0  "
      ]
     },
     "metadata": {},
     "output_type": "display_data"
    },
    {
     "data": {
      "text/html": [
       "<div>\n",
       "<style scoped>\n",
       "    .dataframe tbody tr th:only-of-type {\n",
       "        vertical-align: middle;\n",
       "    }\n",
       "\n",
       "    .dataframe tbody tr th {\n",
       "        vertical-align: top;\n",
       "    }\n",
       "\n",
       "    .dataframe thead th {\n",
       "        text-align: right;\n",
       "    }\n",
       "</style>\n",
       "<table border=\"1\" class=\"dataframe\">\n",
       "  <thead>\n",
       "    <tr style=\"text-align: right;\">\n",
       "      <th></th>\n",
       "      <th>CreditScore</th>\n",
       "      <th>Geography</th>\n",
       "      <th>Gender</th>\n",
       "      <th>Age</th>\n",
       "      <th>Tenure</th>\n",
       "      <th>Balance</th>\n",
       "      <th>NumOfProducts</th>\n",
       "      <th>HasCrCard</th>\n",
       "      <th>IsActiveMember</th>\n",
       "      <th>EstimatedSalary</th>\n",
       "      <th>0</th>\n",
       "      <th>1</th>\n",
       "      <th>2</th>\n",
       "    </tr>\n",
       "  </thead>\n",
       "  <tbody>\n",
       "    <tr>\n",
       "      <th>2786</th>\n",
       "      <td>511</td>\n",
       "      <td>Germany</td>\n",
       "      <td>Female</td>\n",
       "      <td>40</td>\n",
       "      <td>511</td>\n",
       "      <td>124401.60</td>\n",
       "      <td>1</td>\n",
       "      <td>1</td>\n",
       "      <td>0</td>\n",
       "      <td>198814.24</td>\n",
       "      <td>0.0</td>\n",
       "      <td>1.0</td>\n",
       "      <td>0.0</td>\n",
       "    </tr>\n",
       "    <tr>\n",
       "      <th>1474</th>\n",
       "      <td>755</td>\n",
       "      <td>Germany</td>\n",
       "      <td>Female</td>\n",
       "      <td>30</td>\n",
       "      <td>755</td>\n",
       "      <td>154221.37</td>\n",
       "      <td>2</td>\n",
       "      <td>0</td>\n",
       "      <td>1</td>\n",
       "      <td>62688.55</td>\n",
       "      <td>0.0</td>\n",
       "      <td>1.0</td>\n",
       "      <td>0.0</td>\n",
       "    </tr>\n",
       "    <tr>\n",
       "      <th>1949</th>\n",
       "      <td>516</td>\n",
       "      <td>France</td>\n",
       "      <td>Female</td>\n",
       "      <td>43</td>\n",
       "      <td>516</td>\n",
       "      <td>112773.73</td>\n",
       "      <td>2</td>\n",
       "      <td>1</td>\n",
       "      <td>1</td>\n",
       "      <td>139366.58</td>\n",
       "      <td>0.0</td>\n",
       "      <td>0.0</td>\n",
       "      <td>0.0</td>\n",
       "    </tr>\n",
       "    <tr>\n",
       "      <th>8474</th>\n",
       "      <td>721</td>\n",
       "      <td>Spain</td>\n",
       "      <td>Female</td>\n",
       "      <td>33</td>\n",
       "      <td>721</td>\n",
       "      <td>72535.45</td>\n",
       "      <td>1</td>\n",
       "      <td>1</td>\n",
       "      <td>1</td>\n",
       "      <td>103931.49</td>\n",
       "      <td>0.0</td>\n",
       "      <td>0.0</td>\n",
       "      <td>1.0</td>\n",
       "    </tr>\n",
       "    <tr>\n",
       "      <th>9639</th>\n",
       "      <td>761</td>\n",
       "      <td>Spain</td>\n",
       "      <td>Female</td>\n",
       "      <td>32</td>\n",
       "      <td>761</td>\n",
       "      <td>103515.39</td>\n",
       "      <td>2</td>\n",
       "      <td>1</td>\n",
       "      <td>1</td>\n",
       "      <td>177622.38</td>\n",
       "      <td>0.0</td>\n",
       "      <td>0.0</td>\n",
       "      <td>1.0</td>\n",
       "    </tr>\n",
       "  </tbody>\n",
       "</table>\n",
       "</div>"
      ],
      "text/plain": [
       "      CreditScore Geography  Gender  Age  Tenure    Balance  NumOfProducts  \\\n",
       "2786          511   Germany  Female   40     511  124401.60              1   \n",
       "1474          755   Germany  Female   30     755  154221.37              2   \n",
       "1949          516    France  Female   43     516  112773.73              2   \n",
       "8474          721     Spain  Female   33     721   72535.45              1   \n",
       "9639          761     Spain  Female   32     761  103515.39              2   \n",
       "\n",
       "      HasCrCard  IsActiveMember  EstimatedSalary    0    1    2  \n",
       "2786          1               0        198814.24  0.0  1.0  0.0  \n",
       "1474          0               1         62688.55  0.0  1.0  0.0  \n",
       "1949          1               1        139366.58  0.0  0.0  0.0  \n",
       "8474          1               1        103931.49  0.0  0.0  1.0  \n",
       "9639          1               1        177622.38  0.0  0.0  1.0  "
      ]
     },
     "metadata": {},
     "output_type": "display_data"
    },
    {
     "data": {
      "text/html": [
       "<div>\n",
       "<style scoped>\n",
       "    .dataframe tbody tr th:only-of-type {\n",
       "        vertical-align: middle;\n",
       "    }\n",
       "\n",
       "    .dataframe tbody tr th {\n",
       "        vertical-align: top;\n",
       "    }\n",
       "\n",
       "    .dataframe thead th {\n",
       "        text-align: right;\n",
       "    }\n",
       "</style>\n",
       "<table border=\"1\" class=\"dataframe\">\n",
       "  <thead>\n",
       "    <tr style=\"text-align: right;\">\n",
       "      <th></th>\n",
       "      <th>CreditScore</th>\n",
       "      <th>Geography</th>\n",
       "      <th>Gender</th>\n",
       "      <th>Age</th>\n",
       "      <th>Tenure</th>\n",
       "      <th>Balance</th>\n",
       "      <th>NumOfProducts</th>\n",
       "      <th>HasCrCard</th>\n",
       "      <th>IsActiveMember</th>\n",
       "      <th>EstimatedSalary</th>\n",
       "      <th>0</th>\n",
       "      <th>1</th>\n",
       "      <th>2</th>\n",
       "    </tr>\n",
       "  </thead>\n",
       "  <tbody>\n",
       "    <tr>\n",
       "      <th>2375</th>\n",
       "      <td>815</td>\n",
       "      <td>Spain</td>\n",
       "      <td>Female</td>\n",
       "      <td>39</td>\n",
       "      <td>815</td>\n",
       "      <td>0.00</td>\n",
       "      <td>1</td>\n",
       "      <td>1</td>\n",
       "      <td>1</td>\n",
       "      <td>85167.88</td>\n",
       "      <td>0.0</td>\n",
       "      <td>0.0</td>\n",
       "      <td>1.0</td>\n",
       "    </tr>\n",
       "    <tr>\n",
       "      <th>2821</th>\n",
       "      <td>714</td>\n",
       "      <td>Spain</td>\n",
       "      <td>Female</td>\n",
       "      <td>33</td>\n",
       "      <td>714</td>\n",
       "      <td>103121.33</td>\n",
       "      <td>2</td>\n",
       "      <td>1</td>\n",
       "      <td>1</td>\n",
       "      <td>49672.01</td>\n",
       "      <td>0.0</td>\n",
       "      <td>0.0</td>\n",
       "      <td>1.0</td>\n",
       "    </tr>\n",
       "    <tr>\n",
       "      <th>6969</th>\n",
       "      <td>619</td>\n",
       "      <td>Spain</td>\n",
       "      <td>Female</td>\n",
       "      <td>38</td>\n",
       "      <td>619</td>\n",
       "      <td>0.00</td>\n",
       "      <td>2</td>\n",
       "      <td>1</td>\n",
       "      <td>1</td>\n",
       "      <td>117616.29</td>\n",
       "      <td>0.0</td>\n",
       "      <td>0.0</td>\n",
       "      <td>1.0</td>\n",
       "    </tr>\n",
       "    <tr>\n",
       "      <th>4748</th>\n",
       "      <td>537</td>\n",
       "      <td>Germany</td>\n",
       "      <td>Female</td>\n",
       "      <td>37</td>\n",
       "      <td>537</td>\n",
       "      <td>158411.95</td>\n",
       "      <td>4</td>\n",
       "      <td>1</td>\n",
       "      <td>1</td>\n",
       "      <td>117690.58</td>\n",
       "      <td>0.0</td>\n",
       "      <td>1.0</td>\n",
       "      <td>0.0</td>\n",
       "    </tr>\n",
       "    <tr>\n",
       "      <th>76</th>\n",
       "      <td>664</td>\n",
       "      <td>France</td>\n",
       "      <td>Male</td>\n",
       "      <td>55</td>\n",
       "      <td>664</td>\n",
       "      <td>0.00</td>\n",
       "      <td>2</td>\n",
       "      <td>1</td>\n",
       "      <td>1</td>\n",
       "      <td>139161.64</td>\n",
       "      <td>1.0</td>\n",
       "      <td>0.0</td>\n",
       "      <td>0.0</td>\n",
       "    </tr>\n",
       "  </tbody>\n",
       "</table>\n",
       "</div>"
      ],
      "text/plain": [
       "      CreditScore Geography  Gender  Age  Tenure    Balance  NumOfProducts  \\\n",
       "2375          815     Spain  Female   39     815       0.00              1   \n",
       "2821          714     Spain  Female   33     714  103121.33              2   \n",
       "6969          619     Spain  Female   38     619       0.00              2   \n",
       "4748          537   Germany  Female   37     537  158411.95              4   \n",
       "76            664    France    Male   55     664       0.00              2   \n",
       "\n",
       "      HasCrCard  IsActiveMember  EstimatedSalary    0    1    2  \n",
       "2375          1               1         85167.88  0.0  0.0  1.0  \n",
       "2821          1               1         49672.01  0.0  0.0  1.0  \n",
       "6969          1               1        117616.29  0.0  0.0  1.0  \n",
       "4748          1               1        117690.58  0.0  1.0  0.0  \n",
       "76            1               1        139161.64  1.0  0.0  0.0  "
      ]
     },
     "metadata": {},
     "output_type": "display_data"
    }
   ],
   "source": [
    "# one hot encoding\n",
    "categorical = ['Gender', 'Geography']\n",
    "enc = OneHotEncoder(sparse=False, drop='first')\n",
    "enc.fit(features_train[categorical])\n",
    "\n",
    "# train\n",
    "encoded_train = pd.DataFrame(enc.transform(features_train[categorical]), index=features_train.index)\n",
    "features_train = pd.concat([features_train, encoded_train], axis=1)\n",
    "\n",
    "# valid\n",
    "encoded_valid = pd.DataFrame(enc.transform(features_valid[categorical]), index=features_valid.index)\n",
    "features_valid = pd.concat([features_valid, encoded_valid], axis=1)\n",
    "\n",
    "# test\n",
    "encoded_test = pd.DataFrame(enc.transform(features_test[categorical]), index=features_test.index)\n",
    "features_test = pd.concat([features_test, encoded_test], axis=1)\n",
    "\n",
    "display(features_train.head())\n",
    "display(features_valid.head())\n",
    "display(features_test.head())"
   ]
  },
  {
   "cell_type": "code",
   "execution_count": 11,
   "metadata": {},
   "outputs": [],
   "source": [
    "# переименование новых столбцов\n",
    "new_names_dict = {0: 'IsMale', 1: 'IsGermany', 2: 'IsSpain'}\n",
    "\n",
    "features_train = features_train.rename(columns=new_names_dict)\n",
    "features_valid = features_valid.rename(columns=new_names_dict)\n",
    "features_valid = features_valid.rename(columns=new_names_dict)"
   ]
  },
  {
   "cell_type": "code",
   "execution_count": 12,
   "metadata": {},
   "outputs": [],
   "source": [
    "# удаление старых\n",
    "features_train = features_train.drop(columns=['Gender', 'Geography'])\n",
    "features_valid = features_valid.drop(columns=['Gender', 'Geography'])\n",
    "features_test = features_test.drop(columns=['Gender', 'Geography'])"
   ]
  },
  {
   "cell_type": "markdown",
   "metadata": {},
   "source": [
    "Посмотрим на распределения существующих численных столбцов:"
   ]
  },
  {
   "cell_type": "code",
   "execution_count": 13,
   "metadata": {},
   "outputs": [
    {
     "data": {
      "image/png": "[encoded data removed]",
      "text/plain": [
       "<Figure size 720x720 with 12 Axes>"
      ]
     },
     "metadata": {
      "needs_background": "light"
     },
     "output_type": "display_data"
    }
   ],
   "source": [
    "# гистограммы численных признаков\n",
    "features_train.hist(figsize=(10, 10))\n",
    "plt.show()"
   ]
  },
  {
   "cell_type": "markdown",
   "metadata": {},
   "source": [
    "Cреди численных признаков присутствуют 5 бинарных (*HasCrCard*, *IsActiveMember* + столбцы, появившиеся после кодирования признаков) Значения остальных же распределены в различных диапазонах. Чтобы модель не посчитала какой-либо признак более важным только из-за того, что он может принимать гораздо бОльшие значения, чем остальные, масштабируем все небинарные числовые признаки."
   ]
  },
  {
   "cell_type": "code",
   "execution_count": 14,
   "metadata": {},
   "outputs": [],
   "source": [
    "# масштабирование\n",
    "numeric = ['CreditScore', 'Age', 'Tenure', 'Balance', 'NumOfProducts',  'EstimatedSalary']\n",
    "\n",
    "scaler = StandardScaler()\n",
    "scaler.fit(features_train[numeric])\n",
    "\n",
    "features_train[numeric] = scaler.transform(features_train[numeric])\n",
    "features_valid[numeric] = scaler.transform(features_valid[numeric])\n",
    "features_test[numeric] = scaler.transform(features_test[numeric])"
   ]
  },
  {
   "cell_type": "markdown",
   "metadata": {},
   "source": [
    "Проверка на дисбаланс целевого признака:"
   ]
  },
  {
   "cell_type": "code",
   "execution_count": 15,
   "metadata": {},
   "outputs": [
    {
     "data": {
      "text/plain": [
       "0    0.7963\n",
       "1    0.2037\n",
       "Name: Exited, dtype: float64"
      ]
     },
     "execution_count": 15,
     "metadata": {},
     "output_type": "execute_result"
    }
   ],
   "source": [
    "target.value_counts(normalize=True)"
   ]
  },
  {
   "cell_type": "markdown",
   "metadata": {},
   "source": [
    "Наблюдается сильный дисбаланс в пользу нулевого класса (4:1)."
   ]
  },
  {
   "cell_type": "code",
   "execution_count": 16,
   "metadata": {},
   "outputs": [
    {
     "data": {
      "image/png": "[encoded data removed]",
      "text/plain": [
       "<Figure size 360x216 with 1 Axes>"
      ]
     },
     "metadata": {
      "needs_background": "light"
     },
     "output_type": "display_data"
    }
   ],
   "source": [
    "target.astype(str).hist(figsize=(5, 3))\n",
    "plt.title('Дисбаланс классов в целевой переменной')\n",
    "plt.show()"
   ]
  },
  {
   "cell_type": "markdown",
   "metadata": {},
   "source": [
    "<a id=\"analysis\"></a>\n",
    "## Исследование задачи"
   ]
  },
  {
   "cell_type": "markdown",
   "metadata": {},
   "source": [
    "Попробуем обучить модели, \"игнорируя\" дисбаланс классов."
   ]
  },
  {
   "cell_type": "markdown",
   "metadata": {},
   "source": [
    "Ключевой гиперпараметр для **kNN** - количество ближайших соседей. Чтобы получить более оптимальное решение, будем варьировать его значение от 1 до 15 с шагом в 2 (т.е. только нечетные значения)."
   ]
  },
  {
   "cell_type": "code",
   "execution_count": 18,
   "metadata": {},
   "outputs": [
    {
     "name": "stdout",
     "output_type": "stream",
     "text": [
      "Лучшее значение F1=0.5593 при n=7. AUC-ROC=0.8015\n"
     ]
    }
   ],
   "source": [
    "# kNN\n",
    "best_f1, best_auc_roc = 0, 0\n",
    "nest_n = 0\n",
    "\n",
    "for n in range(1, 17, 2):\n",
    "    model = KNeighborsClassifier(n_neighbors=n)\n",
    "    model.fit(features_train, target_train)\n",
    "    \n",
    "    predictions = model.predict(features_valid)\n",
    "    probabilities = model.predict_proba(features_valid)[:, 1]\n",
    "    \n",
    "    f1 = f1_score(target_valid, predictions)\n",
    "    auc_roc = roc_auc_score(target_valid, probabilities)\n",
    "    \n",
    "    if f1 > best_f1:\n",
    "        best_f1 = f1\n",
    "        best_auc_roc = auc_roc\n",
    "        best_n = n\n",
    "\n",
    "print(f'Лучшее значение F1={round(best_f1, 4)} при n={best_n}. AUC-ROC={round(best_auc_roc, 4)}')"
   ]
  },
  {
   "cell_type": "markdown",
   "metadata": {},
   "source": [
    "Ключевым гиперпараметром **дерева решений** является максимальная глубина дерева. Для **случайного леса** важным также является нахождение оптимального количества деревьев в ансамбле."
   ]
  },
  {
   "cell_type": "code",
   "execution_count": 19,
   "metadata": {},
   "outputs": [
    {
     "name": "stdout",
     "output_type": "stream",
     "text": [
      "Лучшее значение F1=0.5615 при depth=5. AUC-ROC=0.8192\n"
     ]
    }
   ],
   "source": [
    "# дерево решений\n",
    "best_f1, best_auc_roc = 0, 0\n",
    "best_depth = 0\n",
    "\n",
    "for depth in range(1, 16, 1):\n",
    "    model = DecisionTreeClassifier(max_depth=depth, random_state=123)\n",
    "    model.fit(features_train, target_train)\n",
    "    \n",
    "    predictions = model.predict(features_valid)\n",
    "    probabilities = model.predict_proba(features_valid)[:, 1]\n",
    "    \n",
    "    f1 = f1_score(target_valid, predictions)\n",
    "    auc_roc = roc_auc_score(target_valid, probabilities)\n",
    "    \n",
    "    if f1 > best_f1:\n",
    "        best_f1 = f1\n",
    "        best_auc_roc = auc_roc\n",
    "        best_depth = depth\n",
    "\n",
    "print(f'Лучшее значение F1={round(best_f1, 4)} при depth={best_depth}. AUC-ROC={round(best_auc_roc, 4)}')"
   ]
  },
  {
   "cell_type": "code",
   "execution_count": 20,
   "metadata": {},
   "outputs": [
    {
     "name": "stdout",
     "output_type": "stream",
     "text": [
      "Лучшее значение F1=0.5745 при depth=12 и n_деревьев=25. AUC-ROC=0.843\n",
      "CPU times: user 1min 41s, sys: 866 ms, total: 1min 41s\n",
      "Wall time: 1min 42s\n"
     ]
    }
   ],
   "source": [
    "%%time\n",
    "\n",
    "# Random Forest\n",
    "best_f1, best_auc_roc = 0, 0\n",
    "best_depth, best_n = 0, 0\n",
    "\n",
    "for n in range(5, 105, 5):\n",
    "    for depth in range(1, 16, 1):\n",
    "        model = RandomForestClassifier(n_estimators=n, max_depth=depth, random_state=123)\n",
    "        model.fit(features_train, target_train)\n",
    "    \n",
    "        predictions = model.predict(features_valid)\n",
    "        probabilities = model.predict_proba(features_valid)[:, 1]\n",
    "    \n",
    "        f1 = f1_score(target_valid, predictions)\n",
    "        auc_roc = roc_auc_score(target_valid, probabilities)\n",
    "    \n",
    "        if f1 > best_f1:\n",
    "            best_f1 = f1\n",
    "            best_auc_roc = auc_roc\n",
    "            best_depth = depth\n",
    "            best_n = n\n",
    "    \n",
    "print(f'Лучшее значение F1={round(best_f1, 4)} при depth={best_depth} и n_деревьев={best_n}. AUC-ROC={round(best_auc_roc, 4)}')"
   ]
  },
  {
   "cell_type": "markdown",
   "metadata": {},
   "source": [
    "Самый лучший результат показала модель, обученная алгоритмом случайного леса. Даже без учета существующего дисбаланса классов удалось достигнуть значения F1-меры > 0.5.  При этом, значения AUC-ROC в каждом из случаев выше значений F1-меры примерно в 2 раза. Вероятно, это связано с меньшей чувствительностью AUC-ROC к дисбалансу. "
   ]
  },
  {
   "cell_type": "markdown",
   "metadata": {},
   "source": [
    "<a id=\"solving\"></a>\n",
    "## Борьба с дисбалансом"
   ]
  },
  {
   "cell_type": "markdown",
   "metadata": {},
   "source": [
    "Существует 2 основных **метода борьбы с дисбалансом**:\n",
    "1. Увеличение выборки положительного класса\n",
    "2. Уменьшение выборки отрицательного класса"
   ]
  },
  {
   "cell_type": "code",
   "execution_count": 21,
   "metadata": {},
   "outputs": [],
   "source": [
    "# для увеличения выборки положит.класса\n",
    "def upsample(features, target, repeat):\n",
    "    features_zeros = features[target == 0]\n",
    "    features_ones = features[target == 1]\n",
    "    target_zeros = target[target == 0]\n",
    "    target_ones = target[target == 1]\n",
    "    \n",
    "    features_upsampled = pd.concat([features_zeros] + [features_ones]*repeat)\n",
    "    target_upsampled = pd.concat([target_zeros] + [target_ones]*repeat)\n",
    "    \n",
    "    features_upsampled, target_upsampled = shuffle(\n",
    "        features_upsampled, target_upsampled, random_state=123)\n",
    "    \n",
    "    return features_upsampled, target_upsampled"
   ]
  },
  {
   "cell_type": "code",
   "execution_count": 22,
   "metadata": {},
   "outputs": [],
   "source": [
    "# для уменьшения выборки отриц.класса\n",
    "def downsample(features, target, fraction):\n",
    "    features_zeros = features[target == 0]\n",
    "    features_ones = features[target == 1]\n",
    "    target_zeros = target[target == 0]\n",
    "    target_ones = target[target == 1]\n",
    "    \n",
    "    features_downsampled = pd.concat(\n",
    "        [features_zeros.sample(frac=fraction, random_state=123)] + [features_ones])\n",
    "    target_downsampled = pd.concat(\n",
    "        [target_zeros.sample(frac=fraction, random_state=123)] + [target_ones])\n",
    "    \n",
    "    features_downsampled, target_downsampled = shuffle(\n",
    "        features_downsampled, target_downsampled, random_state=123)\n",
    "    \n",
    "    return features_downsampled, target_downsampled"
   ]
  },
  {
   "cell_type": "markdown",
   "metadata": {},
   "source": [
    "Существующее соотношение классов 4:1. Для того, чтобы \"выровнять\" его, можно либо увеличить выборку положительного класса в 4 раза, либо уменьшить выборку отрицательного во столько же раз. Применим оба метода борьбы с дисбалансом к ранее обозначенным моделям, чтобы выбрать более подходящий."
   ]
  },
  {
   "cell_type": "code",
   "execution_count": null,
   "metadata": {},
   "outputs": [],
   "source": [
    "# upsampling\n",
    "up_features_train, up_target_train = upsample(features_train, target_train, 4)\n",
    "\n",
    "# downsampling\n",
    "down_features_train, down_target_train = downsample(features_train, target_train, 0.25)"
   ]
  },
  {
   "cell_type": "code",
   "execution_count": null,
   "metadata": {},
   "outputs": [],
   "source": [
    "# kNN\n",
    "upsample_dict = {'features': up_features_train, 'target': up_target_train, 'best_f1': 0, 'best_auc_roc': 0, 'best_n': 0}\n",
    "downsample_dict = {'features': down_features_train, 'target': down_target_train, 'best_f1': 0, 'best_auc_roc': 0, 'best_n': 0}\n",
    "\n",
    "for dictionary in [upsample_dict, downsample_dict]:\n",
    "    for n in range(1, 17, 2):\n",
    "        model = KNeighborsClassifier(n_neighbors=n)\n",
    "        model.fit(dictionary['features'], dictionary['target'])\n",
    "    \n",
    "        predictions = model.predict(features_valid)\n",
    "        probabilities = model.predict_proba(features_valid)[:, 1]\n",
    "    \n",
    "        f1 = f1_score(target_valid, predictions)\n",
    "        auc_roc = roc_auc_score(target_valid, probabilities)\n",
    "    \n",
    "        if f1 > dictionary['best_f1']:\n",
    "            dictionary['best_f1'] = f1\n",
    "            dictionary['best_auc_roc'] = auc_roc\n",
    "            dictionary['best_n'] = n\n",
    "\n",
    "print(f\"Upsampling: F1={round(upsample_dict['best_f1'], 4)} при n={upsample_dict['best_n']}. \\\n",
    "AUC-ROC={round(upsample_dict['best_auc_roc'], 4)}\")\n",
    "\n",
    "print(f\"Downsampling: F1={round(downsample_dict['best_f1'], 4)} при n={downsample_dict['best_n']}. \\\n",
    "AUC-ROC={round(downsample_dict['best_auc_roc'], 4)}\")"
   ]
  },
  {
   "cell_type": "code",
   "execution_count": null,
   "metadata": {},
   "outputs": [],
   "source": [
    "# дерево решений\n",
    "upsample_dict = {'features': up_features_train, 'target': up_target_train, \n",
    "                 'best_f1': 0, 'best_auc_roc': 0, 'best_depth': 0}\n",
    "\n",
    "downsample_dict = {'features': down_features_train, 'target': down_target_train, \n",
    "                   'best_f1': 0, 'best_auc_roc': 0, 'best_depth': 0}\n",
    "\n",
    "for dictionary in [upsample_dict, downsample_dict]:\n",
    "    for depth in range(1, 16, 1):\n",
    "        model = DecisionTreeClassifier(max_depth=depth, random_state=123)\n",
    "        model.fit(dictionary['features'], dictionary['target'])\n",
    "    \n",
    "        predictions = model.predict(features_valid)\n",
    "        probabilities = model.predict_proba(features_valid)[:, 1]\n",
    "    \n",
    "        f1 = f1_score(target_valid, predictions)\n",
    "        auc_roc = roc_auc_score(target_valid, probabilities)\n",
    "    \n",
    "        if f1 > dictionary['best_f1']:\n",
    "            dictionary['best_f1'] = f1\n",
    "            dictionary['best_auc_roc'] = auc_roc\n",
    "            dictionary['best_depth'] = depth\n",
    "\n",
    "print(f\"Upsampling: F1={round(upsample_dict['best_f1'], 4)} при depth={upsample_dict['best_depth']}. \\\n",
    "AUC-ROC={round(upsample_dict['best_auc_roc'], 4)}\")\n",
    "\n",
    "print(f\"Downsampling: F1={round(downsample_dict['best_f1'], 4)} при depth={downsample_dict['best_depth']}. \\\n",
    "AUC-ROC={round(downsample_dict['best_auc_roc'], 4)}\")"
   ]
  },
  {
   "cell_type": "code",
   "execution_count": null,
   "metadata": {},
   "outputs": [],
   "source": [
    "%%time\n",
    "\n",
    "# Random Forest\n",
    "upsample_dict = {'features': up_features_train, 'target': up_target_train, \n",
    "                 'best_f1': 0, 'best_auc_roc': 0, 'best_depth': 0, 'best_n': 0}\n",
    "\n",
    "downsample_dict = {'features': down_features_train, 'target': down_target_train, \n",
    "                   'best_f1': 0, 'best_auc_roc': 0, 'best_depth': 0, 'best_n': 0}\n",
    "\n",
    "for dictionary in [upsample_dict, downsample_dict]:\n",
    "    for n in range(5, 105, 5):\n",
    "        for depth in range(1, 16, 1):\n",
    "            model = RandomForestClassifier(n_estimators=n, max_depth=depth, random_state=123)\n",
    "            model.fit(dictionary['features'], dictionary['target'])\n",
    "    \n",
    "            predictions = model.predict(features_valid)\n",
    "            probabilities = model.predict_proba(features_valid)[:, 1]\n",
    "    \n",
    "            f1 = f1_score(target_valid, predictions)\n",
    "            auc_roc = roc_auc_score(target_valid, probabilities)\n",
    "    \n",
    "            if f1 > dictionary['best_f1']:\n",
    "                dictionary['best_f1'] = f1\n",
    "                dictionary['best_auc_roc'] = auc_roc\n",
    "                dictionary['best_depth'] = depth\n",
    "                dictionary['best_n'] = n\n",
    "\n",
    "print(f\"Upsampling: F1={round(upsample_dict['best_f1'], 4)} при depth={upsample_dict['best_depth']} \\\n",
    "и n_деревьев={upsample_dict['best_n']}. AUC-ROC={round(upsample_dict['best_auc_roc'], 4)}\")\n",
    "\n",
    "print(f\"Downsampling: F1={round(downsample_dict['best_f1'], 4)} при depth={downsample_dict['best_depth']} \\\n",
    "и n_деревьев={downsample_dict['best_n']}. AUC-ROC={round(downsample_dict['best_auc_roc'], 4)}\")                "
   ]
  },
  {
   "cell_type": "code",
   "execution_count": null,
   "metadata": {},
   "outputs": [],
   "source": [
    "# Logistic Regression\n",
    "upsample_dict = {'features': up_features_train, 'target': up_target_train, \n",
    "                 'best_f1': 0, 'best_auc_roc': 0}\n",
    "\n",
    "downsample_dict = {'features': down_features_train, 'target': down_target_train, \n",
    "                   'best_f1': 0, 'best_auc_roc': 0}\n",
    "\n",
    "for dictionary in [upsample_dict, downsample_dict]:\n",
    "    model = LogisticRegression(solver='liblinear', random_state=123)\n",
    "    model.fit(dictionary['features'], dictionary['target'])\n",
    "\n",
    "    predictions = model.predict(features_valid)\n",
    "    probabilities = model.predict_proba(features_valid)[:, 1]\n",
    "\n",
    "    dictionary['best_f1'] = f1_score(target_valid, predictions)\n",
    "    dictionary['best_auc_roc'] = roc_auc_score(target_valid, probabilities)\n",
    "\n",
    "    \n",
    "print(f\"Upsampling: F1={round(upsample_dict['best_f1'], 4)}, AUC-ROC={round(upsample_dict['best_auc_roc'], 4)}\")\n",
    "print(f\"Downsampling: F1={round(downsample_dict['best_f1'], 4)}, AUC-ROC={round(downsample_dict['best_auc_roc'], 4)}\")    "
   ]
  },
  {
   "cell_type": "markdown",
   "metadata": {},
   "source": [
    "Значение F1-меры заметно увеличилось почти во всех рассматриваемых случаях. При этом, **применение метода *upsampling*, как правило, приводило к более высоким результатам**. Изменения в значениях второй метрики (AUC-ROC) не столь значительны: метрика действительно менее чувствительна к дисбалансу.\n",
    "\n",
    "Таким образом, **самым удачным экспериментом** оказалось обучение модели алгоритмом *случайного леса* на выборке с увеличенным содержанием положительного класса с *max_depth=10* и *n_estimators=75*: удалось получить значения F1=**0.6071**, AUC-ROC=**0.8489**."
   ]
  },
  {
   "cell_type": "code",
   "execution_count": null,
   "metadata": {},
   "outputs": [],
   "source": [
    "# текущие размеры выборок\n",
    "up_features_train.shape[0], features_valid.shape[0], features_test.shape[0]"
   ]
  },
  {
   "cell_type": "markdown",
   "metadata": {},
   "source": [
    "<a id=\"final\"></a>\n",
    "## Тестирование модели"
   ]
  },
  {
   "cell_type": "markdown",
   "metadata": {},
   "source": [
    "Для финального тестирования модели объединим обучающую и валидационную выборку и заново обучим модель."
   ]
  },
  {
   "cell_type": "code",
   "execution_count": null,
   "metadata": {},
   "outputs": [],
   "source": [
    "# объединение выборок\n",
    "full_features_train = pd.concat([features_train, features_valid], ignore_index=True)\n",
    "full_target_train = pd.concat([target_train, target_valid], ignore_index=True)\n",
    "\n",
    "# upsampling\n",
    "full_features_train, full_target_train = upsample(full_features_train, full_target_train, 4)"
   ]
  },
  {
   "cell_type": "code",
   "execution_count": null,
   "metadata": {},
   "outputs": [],
   "source": [
    "# обучение и тестирование финальной модели\n",
    "model = RandomForestClassifier(max_depth=10, n_estimators=75, random_state=123)\n",
    "model.fit(full_features_train, full_target_train)\n",
    "\n",
    "predictions_train = model.predict(full_features_train)\n",
    "predictions_test = model.predict(features_test)\n",
    "probabilities_train = model.predict_proba(full_features_train)[:, 1]\n",
    "probabilities_test = model.predict_proba(features_test)[:, 1]\n",
    "\n",
    "f1_train = f1_score(full_target_train, predictions_train)\n",
    "f1_test = f1_score(target_test, predictions_test)\n",
    "auc_roc_train = roc_auc_score(full_target_train, probabilities_train)\n",
    "auc_roc_test = roc_auc_score(target_test, probabilities_test)\n",
    "\n",
    "print(f'Тренировочный набор: F1-мера={round(f1_train, 3)}, AUC-ROC={round(auc_roc_train, 3)}')\n",
    "print(f'Тестовый набор: F1-мера={round(f1_test, 3)}, AUC-ROC={round(auc_roc_test, 3)}')"
   ]
  },
  {
   "cell_type": "markdown",
   "metadata": {},
   "source": [
    "Модель, обученная на обобщенном тренировочном наборе, показала почти такой же результат на тестовой выборке и очень хорошо научилась предсказывать значения тренировочной.\n",
    "\n",
    "Полученное значение F1-меры = **0.608**. Значение AUC-ROC = **0.865** - достаточно высокое: выбранная модель работает адекватно и однозначно справляется с задачей лучше, чем случайная. "
   ]
  },
  {
   "cell_type": "markdown",
   "metadata": {},
   "source": [
    "## Вывод"
   ]
  },
  {
   "cell_type": "markdown",
   "metadata": {},
   "source": [
    "В рамках данного исследования предполагалось решить задачу классификации и построить модель, которая бы позволила спрогнозировать, уйдет ли клиент из банка в ближайшее время. Предоставленные данные включали в себя исторические сведения о поведении клиентов и расторжении договоров с банком. \n",
    "\n",
    "На этапе предобработки часть информации, не представляющей пользы для обучения модели, была удалена. Оставшиеся категориальные признаки закодированы (методом *OHE*), а численные - приведены к единому масштабу. Датасет делился на тренировочную, валидационную и тестовую выборки в соотношении 3:1:1.\n",
    "\n",
    "В основной части сравнивались модели, обученные несколькими алгоритмами: *kNN*, *дерево решений*, *случайный лес* и *логистическая регрессия*. В качестве решающей метрики была выбрана *F1-мера*, дополнительно также исследовались значения метрики *AUC-ROС*. Для всех моделей в процессе подбирались оптимальные гиперпараметры для более точного сравнения.\n",
    "\n",
    "**Наилучший результат** показала модель, обученная алгоритмом *случайного леса (max_depth=10, n_estimators=75)*. \\\n",
    "Полученные значения метрик: F1-мера = **0.608**, AUC-ROC = **0.865**."
   ]
  }
 ],
 "metadata": {
  "ExecuteTimeLog": [
   {
    "duration": 454,
    "start_time": "2022-11-26T15:22:16.289Z"
   },
   {
    "duration": 84,
    "start_time": "2022-11-26T15:22:43.953Z"
   },
   {
    "duration": 14,
    "start_time": "2022-11-26T15:23:21.108Z"
   },
   {
    "duration": 86,
    "start_time": "2022-11-26T15:27:48.122Z"
   },
   {
    "duration": 52,
    "start_time": "2022-11-26T15:30:05.649Z"
   },
   {
    "duration": 50,
    "start_time": "2022-11-26T15:30:14.156Z"
   },
   {
    "duration": 10,
    "start_time": "2022-11-26T15:36:00.774Z"
   },
   {
    "duration": 1285,
    "start_time": "2022-11-26T15:39:13.169Z"
   },
   {
    "duration": 2,
    "start_time": "2022-11-26T15:39:42.138Z"
   },
   {
    "duration": 835,
    "start_time": "2022-11-26T15:39:49.148Z"
   },
   {
    "duration": 419,
    "start_time": "2022-11-26T15:40:09.493Z"
   },
   {
    "duration": 989,
    "start_time": "2022-11-26T15:40:26.407Z"
   },
   {
    "duration": 1067,
    "start_time": "2022-11-26T15:40:33.454Z"
   },
   {
    "duration": 6,
    "start_time": "2022-11-26T15:42:05.593Z"
   },
   {
    "duration": 7,
    "start_time": "2022-11-26T15:42:29.977Z"
   },
   {
    "duration": 5,
    "start_time": "2022-11-26T15:43:54.346Z"
   },
   {
    "duration": 14,
    "start_time": "2022-11-26T16:00:06.086Z"
   },
   {
    "duration": 11,
    "start_time": "2022-11-26T16:00:16.374Z"
   },
   {
    "duration": 6,
    "start_time": "2022-11-26T16:01:27.058Z"
   },
   {
    "duration": 11,
    "start_time": "2022-11-26T16:10:05.863Z"
   },
   {
    "duration": 6,
    "start_time": "2022-11-26T16:13:54.968Z"
   },
   {
    "duration": 10,
    "start_time": "2022-11-26T16:18:14.991Z"
   },
   {
    "duration": 11,
    "start_time": "2022-11-26T16:18:23.525Z"
   },
   {
    "duration": 26,
    "start_time": "2022-11-26T16:18:30.802Z"
   },
   {
    "duration": 19,
    "start_time": "2022-11-26T16:18:50.123Z"
   },
   {
    "duration": 1056,
    "start_time": "2022-11-26T16:19:30.854Z"
   },
   {
    "duration": 973,
    "start_time": "2022-11-26T16:19:38.211Z"
   },
   {
    "duration": 1126,
    "start_time": "2022-11-26T16:19:41.931Z"
   },
   {
    "duration": 795,
    "start_time": "2022-11-26T16:39:21.597Z"
   },
   {
    "duration": 14,
    "start_time": "2022-11-26T16:55:05.178Z"
   },
   {
    "duration": 15,
    "start_time": "2022-11-26T16:55:11.477Z"
   },
   {
    "duration": 16,
    "start_time": "2022-11-26T16:55:57.728Z"
   },
   {
    "duration": 21,
    "start_time": "2022-11-26T17:01:34.317Z"
   },
   {
    "duration": 11,
    "start_time": "2022-11-26T17:02:02.373Z"
   },
   {
    "duration": 10,
    "start_time": "2022-11-26T17:02:23.973Z"
   },
   {
    "duration": 9,
    "start_time": "2022-11-26T17:02:27.135Z"
   },
   {
    "duration": 4,
    "start_time": "2022-11-26T17:03:42.492Z"
   },
   {
    "duration": 22,
    "start_time": "2022-11-26T17:03:46.868Z"
   },
   {
    "duration": 11,
    "start_time": "2022-11-26T17:04:27.043Z"
   },
   {
    "duration": 7,
    "start_time": "2022-11-26T17:04:30.404Z"
   },
   {
    "duration": 46,
    "start_time": "2022-11-26T17:20:09.614Z"
   },
   {
    "duration": 5,
    "start_time": "2022-11-26T17:42:49.869Z"
   },
   {
    "duration": 5,
    "start_time": "2022-11-26T17:46:33.613Z"
   },
   {
    "duration": 62,
    "start_time": "2022-11-26T17:46:46.668Z"
   },
   {
    "duration": 69,
    "start_time": "2022-11-26T17:47:10.394Z"
   },
   {
    "duration": 3621,
    "start_time": "2022-11-26T17:47:20.419Z"
   },
   {
    "duration": 396,
    "start_time": "2022-11-26T17:53:55.884Z"
   },
   {
    "duration": 361,
    "start_time": "2022-11-26T17:54:30.871Z"
   },
   {
    "duration": 4995,
    "start_time": "2022-11-26T17:57:33.118Z"
   },
   {
    "duration": 378,
    "start_time": "2022-11-26T18:05:34.964Z"
   },
   {
    "duration": 371,
    "start_time": "2022-11-26T18:05:45.594Z"
   },
   {
    "duration": 365,
    "start_time": "2022-11-26T18:06:14.903Z"
   },
   {
    "duration": 4944,
    "start_time": "2022-11-26T18:06:35.312Z"
   },
   {
    "duration": 5012,
    "start_time": "2022-11-26T18:06:55.746Z"
   },
   {
    "duration": 5010,
    "start_time": "2022-11-26T18:09:12.580Z"
   },
   {
    "duration": 4908,
    "start_time": "2022-11-26T18:09:24.666Z"
   },
   {
    "duration": 3254,
    "start_time": "2022-11-26T18:11:04.448Z"
   },
   {
    "duration": 3228,
    "start_time": "2022-11-26T18:11:23.648Z"
   },
   {
    "duration": 3131,
    "start_time": "2022-11-26T18:11:58.656Z"
   },
   {
    "duration": 2706,
    "start_time": "2022-11-26T18:13:09.138Z"
   },
   {
    "duration": 1711,
    "start_time": "2022-11-27T09:52:42.832Z"
   },
   {
    "duration": 101,
    "start_time": "2022-11-27T09:52:47.248Z"
   },
   {
    "duration": 14,
    "start_time": "2022-11-27T09:52:50.502Z"
   },
   {
    "duration": 5,
    "start_time": "2022-11-27T09:53:05.832Z"
   },
   {
    "duration": 7,
    "start_time": "2022-11-27T09:53:46.015Z"
   },
   {
    "duration": 12,
    "start_time": "2022-11-27T09:53:56.652Z"
   },
   {
    "duration": 29,
    "start_time": "2022-11-27T09:53:59.208Z"
   },
   {
    "duration": 1328,
    "start_time": "2022-11-27T09:54:02.734Z"
   },
   {
    "duration": 23,
    "start_time": "2022-11-27T09:54:08.127Z"
   },
   {
    "duration": 24,
    "start_time": "2022-11-27T09:54:10.611Z"
   },
   {
    "duration": 9,
    "start_time": "2022-11-27T09:54:14.312Z"
   },
   {
    "duration": 5,
    "start_time": "2022-11-27T09:56:59.835Z"
   },
   {
    "duration": 6,
    "start_time": "2022-11-27T09:57:23.055Z"
   },
   {
    "duration": 113,
    "start_time": "2022-11-27T10:04:11.722Z"
   },
   {
    "duration": 8,
    "start_time": "2022-11-27T10:04:22.597Z"
   },
   {
    "duration": 958,
    "start_time": "2022-11-27T10:13:30.145Z"
   },
   {
    "duration": 225,
    "start_time": "2022-11-27T10:21:29.208Z"
   },
   {
    "duration": 141,
    "start_time": "2022-11-27T10:23:23.408Z"
   },
   {
    "duration": 142,
    "start_time": "2022-11-27T10:24:53.430Z"
   },
   {
    "duration": 93,
    "start_time": "2022-11-27T10:25:17.874Z"
   },
   {
    "duration": 90,
    "start_time": "2022-11-27T10:25:54.504Z"
   },
   {
    "duration": 3,
    "start_time": "2022-11-27T10:26:39.668Z"
   },
   {
    "duration": 181,
    "start_time": "2022-11-27T10:26:46.169Z"
   },
   {
    "duration": 779,
    "start_time": "2022-11-27T10:27:04.957Z"
   },
   {
    "duration": 815,
    "start_time": "2022-11-27T10:27:34.822Z"
   },
   {
    "duration": 823,
    "start_time": "2022-11-27T10:27:44.425Z"
   },
   {
    "duration": 799,
    "start_time": "2022-11-27T10:28:00.980Z"
   },
   {
    "duration": 4,
    "start_time": "2022-11-27T10:45:49.262Z"
   },
   {
    "duration": 375,
    "start_time": "2022-11-27T10:47:04.777Z"
   },
   {
    "duration": 14,
    "start_time": "2022-11-27T10:47:57.981Z"
   },
   {
    "duration": 871,
    "start_time": "2022-11-27T10:48:06.069Z"
   },
   {
    "duration": 341,
    "start_time": "2022-11-27T10:48:10.436Z"
   },
   {
    "duration": 797,
    "start_time": "2022-11-27T10:50:31.890Z"
   },
   {
    "duration": 836,
    "start_time": "2022-11-27T10:50:58.641Z"
   },
   {
    "duration": 345,
    "start_time": "2022-11-27T10:52:35.307Z"
   },
   {
    "duration": 4,
    "start_time": "2022-11-27T10:55:02.386Z"
   },
   {
    "duration": 11,
    "start_time": "2022-11-27T11:02:22.529Z"
   },
   {
    "duration": 22,
    "start_time": "2022-11-27T11:02:31.001Z"
   },
   {
    "duration": 19,
    "start_time": "2022-11-27T11:04:14.804Z"
   },
   {
    "duration": 17,
    "start_time": "2022-11-27T11:05:17.800Z"
   },
   {
    "duration": 202127,
    "start_time": "2022-11-27T11:07:41.010Z"
   },
   {
    "duration": 37,
    "start_time": "2022-11-27T11:13:49.338Z"
   },
   {
    "duration": 24,
    "start_time": "2022-11-27T11:14:09.952Z"
   },
   {
    "duration": 204679,
    "start_time": "2022-11-27T11:14:55.642Z"
   },
   {
    "duration": 1513,
    "start_time": "2022-11-27T14:13:56.903Z"
   },
   {
    "duration": 93,
    "start_time": "2022-11-27T14:13:59.708Z"
   },
   {
    "duration": 13,
    "start_time": "2022-11-27T14:14:02.714Z"
   },
   {
    "duration": 5,
    "start_time": "2022-11-27T14:14:05.010Z"
   },
   {
    "duration": 6,
    "start_time": "2022-11-27T14:14:06.870Z"
   },
   {
    "duration": 11,
    "start_time": "2022-11-27T14:14:09.095Z"
   },
   {
    "duration": 27,
    "start_time": "2022-11-27T14:14:11.272Z"
   },
   {
    "duration": 1129,
    "start_time": "2022-11-27T14:14:14.178Z"
   },
   {
    "duration": 18,
    "start_time": "2022-11-27T14:14:20.105Z"
   },
   {
    "duration": 20,
    "start_time": "2022-11-27T14:14:22.400Z"
   },
   {
    "duration": 6,
    "start_time": "2022-11-27T14:14:25.611Z"
   },
   {
    "duration": 8,
    "start_time": "2022-11-27T14:14:27.706Z"
   },
   {
    "duration": 778,
    "start_time": "2022-11-27T14:14:30.499Z"
   },
   {
    "duration": 331,
    "start_time": "2022-11-27T14:14:33.855Z"
   },
   {
    "duration": 40992,
    "start_time": "2022-11-27T14:14:41.973Z"
   },
   {
    "duration": 41148,
    "start_time": "2022-11-27T14:21:37.766Z"
   },
   {
    "duration": 1325,
    "start_time": "2022-11-27T14:28:44.040Z"
   },
   {
    "duration": 499,
    "start_time": "2022-11-27T14:28:50.718Z"
   },
   {
    "duration": 746,
    "start_time": "2022-11-27T14:29:02.567Z"
   },
   {
    "duration": 91,
    "start_time": "2022-11-27T14:43:55.471Z"
   },
   {
    "duration": 97,
    "start_time": "2022-11-27T14:44:32.641Z"
   },
   {
    "duration": 99,
    "start_time": "2022-11-27T14:44:48.485Z"
   },
   {
    "duration": 36,
    "start_time": "2022-11-27T14:45:42.117Z"
   },
   {
    "duration": 741,
    "start_time": "2022-11-27T14:46:28.662Z"
   },
   {
    "duration": 795,
    "start_time": "2022-11-27T14:47:13.622Z"
   },
   {
    "duration": 778,
    "start_time": "2022-11-27T14:48:10.343Z"
   },
   {
    "duration": 34,
    "start_time": "2022-11-27T15:11:57.200Z"
   },
   {
    "duration": 40,
    "start_time": "2022-11-27T15:12:28.171Z"
   },
   {
    "duration": 683,
    "start_time": "2022-11-27T15:13:00.280Z"
   },
   {
    "duration": 4,
    "start_time": "2022-11-27T15:19:47.786Z"
   },
   {
    "duration": 4,
    "start_time": "2022-11-27T15:20:48.626Z"
   },
   {
    "duration": 4,
    "start_time": "2022-11-27T15:24:31.619Z"
   },
   {
    "duration": 18,
    "start_time": "2022-11-27T15:32:16.535Z"
   },
   {
    "duration": 1062,
    "start_time": "2022-11-27T15:33:20.906Z"
   },
   {
    "duration": 23,
    "start_time": "2022-11-27T15:35:10.121Z"
   },
   {
    "duration": 362,
    "start_time": "2022-11-27T15:35:33.339Z"
   },
   {
    "duration": 4,
    "start_time": "2022-11-27T15:44:28.156Z"
   },
   {
    "duration": 4,
    "start_time": "2022-11-27T15:44:45.858Z"
   },
   {
    "duration": 11,
    "start_time": "2022-11-27T15:47:38.308Z"
   },
   {
    "duration": 4,
    "start_time": "2022-11-27T15:48:03.915Z"
   },
   {
    "duration": 4,
    "start_time": "2022-11-27T15:48:32.495Z"
   },
   {
    "duration": 303,
    "start_time": "2022-11-27T15:48:46.948Z"
   },
   {
    "duration": 192,
    "start_time": "2022-11-27T15:48:52.601Z"
   },
   {
    "duration": 24300,
    "start_time": "2022-11-27T15:48:58.331Z"
   },
   {
    "duration": 24866,
    "start_time": "2022-11-27T15:49:54.616Z"
   },
   {
    "duration": 24114,
    "start_time": "2022-11-27T15:50:35.436Z"
   },
   {
    "duration": 480,
    "start_time": "2022-11-27T15:51:11.135Z"
   },
   {
    "duration": 7,
    "start_time": "2022-11-27T16:00:48.319Z"
   },
   {
    "duration": 4,
    "start_time": "2022-11-27T16:10:07.678Z"
   },
   {
    "duration": 50,
    "start_time": "2022-11-27T16:10:10.002Z"
   },
   {
    "duration": 1318,
    "start_time": "2022-11-27T16:10:23.055Z"
   },
   {
    "duration": 61,
    "start_time": "2022-11-27T16:10:26.841Z"
   },
   {
    "duration": 16,
    "start_time": "2022-11-27T16:10:30.146Z"
   },
   {
    "duration": 5,
    "start_time": "2022-11-27T16:10:34.148Z"
   },
   {
    "duration": 6,
    "start_time": "2022-11-27T16:10:36.674Z"
   },
   {
    "duration": 11,
    "start_time": "2022-11-27T16:10:39.155Z"
   },
   {
    "duration": 19,
    "start_time": "2022-11-27T16:10:41.561Z"
   },
   {
    "duration": 1234,
    "start_time": "2022-11-27T16:10:43.925Z"
   },
   {
    "duration": 19,
    "start_time": "2022-11-27T16:10:48.139Z"
   },
   {
    "duration": 23,
    "start_time": "2022-11-27T16:10:51.139Z"
   },
   {
    "duration": 14,
    "start_time": "2022-11-27T16:10:53.406Z"
   },
   {
    "duration": 108,
    "start_time": "2022-11-27T16:10:56.071Z"
   },
   {
    "duration": 35,
    "start_time": "2022-11-27T16:10:58.467Z"
   },
   {
    "duration": 781,
    "start_time": "2022-11-27T16:11:00.839Z"
   },
   {
    "duration": 2910,
    "start_time": "2022-11-27T16:11:03.709Z"
   },
   {
    "duration": 4,
    "start_time": "2022-11-27T16:11:09.632Z"
   },
   {
    "duration": 6,
    "start_time": "2022-11-27T16:11:11.857Z"
   },
   {
    "duration": 1081,
    "start_time": "2022-11-27T16:11:14.343Z"
   },
   {
    "duration": 407,
    "start_time": "2022-11-27T16:11:17.844Z"
   },
   {
    "duration": 9,
    "start_time": "2022-11-27T16:11:21.555Z"
   },
   {
    "duration": 4,
    "start_time": "2022-11-27T16:11:24.606Z"
   },
   {
    "duration": 310,
    "start_time": "2022-11-27T16:11:27.552Z"
   },
   {
    "duration": 210,
    "start_time": "2022-11-27T16:11:31.237Z"
   },
   {
    "duration": 24900,
    "start_time": "2022-11-27T16:11:35.629Z"
   },
   {
    "duration": 1903,
    "start_time": "2022-11-27T16:12:20.013Z"
   },
   {
    "duration": 21,
    "start_time": "2022-11-27T16:12:42.371Z"
   },
   {
    "duration": 20,
    "start_time": "2022-11-27T16:13:12.007Z"
   },
   {
    "duration": 124,
    "start_time": "2022-11-27T16:15:17.038Z"
   },
   {
    "duration": 440,
    "start_time": "2022-11-27T16:18:24.845Z"
   },
   {
    "duration": 468,
    "start_time": "2022-11-27T16:18:31.930Z"
   },
   {
    "duration": 448,
    "start_time": "2022-11-27T16:19:21.534Z"
   },
   {
    "duration": 3,
    "start_time": "2022-11-27T16:21:40.256Z"
   },
   {
    "duration": 1333,
    "start_time": "2022-11-27T16:21:50.086Z"
   },
   {
    "duration": 68,
    "start_time": "2022-11-27T16:21:53.990Z"
   },
   {
    "duration": 16,
    "start_time": "2022-11-27T16:21:56.632Z"
   },
   {
    "duration": 6,
    "start_time": "2022-11-27T16:21:58.827Z"
   },
   {
    "duration": 14,
    "start_time": "2022-11-27T16:22:00.511Z"
   },
   {
    "duration": 13,
    "start_time": "2022-11-27T16:22:02.520Z"
   },
   {
    "duration": 26,
    "start_time": "2022-11-27T16:22:04.531Z"
   },
   {
    "duration": 1287,
    "start_time": "2022-11-27T16:22:06.467Z"
   },
   {
    "duration": 25,
    "start_time": "2022-11-27T16:22:10.268Z"
   },
   {
    "duration": 31,
    "start_time": "2022-11-27T16:22:12.309Z"
   },
   {
    "duration": 10,
    "start_time": "2022-11-27T16:22:14.712Z"
   },
   {
    "duration": 120,
    "start_time": "2022-11-27T16:22:18.110Z"
   },
   {
    "duration": 36,
    "start_time": "2022-11-27T16:22:20.744Z"
   },
   {
    "duration": 822,
    "start_time": "2022-11-27T16:22:23.015Z"
   },
   {
    "duration": 2144,
    "start_time": "2022-11-27T16:22:25.370Z"
   },
   {
    "duration": 4,
    "start_time": "2022-11-27T16:22:34.091Z"
   },
   {
    "duration": 5,
    "start_time": "2022-11-27T16:22:35.729Z"
   },
   {
    "duration": 984,
    "start_time": "2022-11-27T16:23:13.275Z"
   },
   {
    "duration": 934,
    "start_time": "2022-11-27T16:23:21.154Z"
   },
   {
    "duration": 440,
    "start_time": "2022-11-27T16:23:54.159Z"
   },
   {
    "duration": 4,
    "start_time": "2022-11-27T16:25:26.893Z"
   },
   {
    "duration": 1036,
    "start_time": "2022-11-27T16:25:48.683Z"
   },
   {
    "duration": 437,
    "start_time": "2022-11-27T16:25:59.583Z"
   },
   {
    "duration": 57576,
    "start_time": "2022-11-27T16:26:17.755Z"
   },
   {
    "duration": 49,
    "start_time": "2022-11-27T16:27:31.570Z"
   },
   {
    "duration": 31,
    "start_time": "2022-11-27T16:29:23.827Z"
   },
   {
    "duration": 2938,
    "start_time": "2022-11-27T16:29:27.631Z"
   },
   {
    "duration": 3081,
    "start_time": "2022-11-27T16:29:47.288Z"
   },
   {
    "duration": 30,
    "start_time": "2022-11-27T16:30:06.559Z"
   },
   {
    "duration": 1199,
    "start_time": "2022-11-27T16:30:09.053Z"
   },
   {
    "duration": 115039,
    "start_time": "2022-11-27T16:31:44.323Z"
   },
   {
    "duration": 1144,
    "start_time": "2022-11-27T16:38:09.424Z"
   },
   {
    "duration": 1174,
    "start_time": "2022-11-27T16:38:25.821Z"
   },
   {
    "duration": 1404,
    "start_time": "2022-11-27T16:45:12.530Z"
   },
   {
    "duration": 54,
    "start_time": "2022-11-27T16:45:13.936Z"
   },
   {
    "duration": 13,
    "start_time": "2022-11-27T16:45:13.992Z"
   },
   {
    "duration": 5,
    "start_time": "2022-11-27T16:45:14.007Z"
   },
   {
    "duration": 20,
    "start_time": "2022-11-27T16:45:14.015Z"
   },
   {
    "duration": 15,
    "start_time": "2022-11-27T16:45:14.037Z"
   },
   {
    "duration": 22,
    "start_time": "2022-11-27T16:45:14.054Z"
   },
   {
    "duration": 1337,
    "start_time": "2022-11-27T16:45:14.078Z"
   },
   {
    "duration": 25,
    "start_time": "2022-11-27T16:45:15.417Z"
   },
   {
    "duration": 52,
    "start_time": "2022-11-27T16:45:15.445Z"
   },
   {
    "duration": 26,
    "start_time": "2022-11-27T16:45:15.499Z"
   },
   {
    "duration": 133,
    "start_time": "2022-11-27T16:45:15.527Z"
   },
   {
    "duration": 55,
    "start_time": "2022-11-27T16:45:15.662Z"
   },
   {
    "duration": 790,
    "start_time": "2022-11-27T16:45:15.719Z"
   },
   {
    "duration": 1101,
    "start_time": "2022-11-27T16:45:16.511Z"
   },
   {
    "duration": 7,
    "start_time": "2022-11-27T16:45:17.615Z"
   },
   {
    "duration": 97,
    "start_time": "2022-11-27T16:45:17.624Z"
   },
   {
    "duration": 1026,
    "start_time": "2022-11-27T16:45:17.723Z"
   },
   {
    "duration": 461,
    "start_time": "2022-11-27T16:45:18.751Z"
   },
   {
    "duration": 6,
    "start_time": "2022-11-27T16:45:19.214Z"
   },
   {
    "duration": 1052,
    "start_time": "2022-11-27T16:45:19.222Z"
   },
   {
    "duration": 414,
    "start_time": "2022-11-27T16:45:20.276Z"
   },
   {
    "duration": 110342,
    "start_time": "2022-11-27T16:45:20.692Z"
   },
   {
    "duration": 84,
    "start_time": "2022-11-27T16:47:11.036Z"
   },
   {
    "duration": 99,
    "start_time": "2022-11-27T16:47:11.122Z"
   },
   {
    "duration": 1367,
    "start_time": "2022-11-27T16:47:11.224Z"
   },
   {
    "duration": 2763,
    "start_time": "2022-11-28T03:50:05.435Z"
   },
   {
    "duration": 107,
    "start_time": "2022-11-28T03:50:08.200Z"
   },
   {
    "duration": 79,
    "start_time": "2022-11-28T03:50:08.308Z"
   },
   {
    "duration": 4,
    "start_time": "2022-11-28T03:50:08.389Z"
   },
   {
    "duration": 8,
    "start_time": "2022-11-28T03:50:08.394Z"
   },
   {
    "duration": 78,
    "start_time": "2022-11-28T03:50:08.404Z"
   },
   {
    "duration": 18,
    "start_time": "2022-11-28T03:50:08.484Z"
   },
   {
    "duration": 2697,
    "start_time": "2022-11-28T03:50:08.504Z"
   },
   {
    "duration": 15,
    "start_time": "2022-11-28T03:50:11.203Z"
   },
   {
    "duration": 76,
    "start_time": "2022-11-28T03:50:11.220Z"
   },
   {
    "duration": 5,
    "start_time": "2022-11-28T03:50:11.298Z"
   },
   {
    "duration": 203,
    "start_time": "2022-11-28T03:50:11.305Z"
   },
   {
    "duration": 87,
    "start_time": "2022-11-28T03:50:11.510Z"
   },
   {
    "duration": 1294,
    "start_time": "2022-11-28T03:50:11.598Z"
   },
   {
    "duration": 1391,
    "start_time": "2022-11-28T03:50:12.894Z"
   },
   {
    "duration": 91,
    "start_time": "2022-11-28T03:50:14.288Z"
   },
   {
    "duration": 7,
    "start_time": "2022-11-28T03:50:14.382Z"
   },
   {
    "duration": 1732,
    "start_time": "2022-11-28T03:50:14.392Z"
   },
   {
    "duration": 774,
    "start_time": "2022-11-28T03:50:16.126Z"
   },
   {
    "duration": 6,
    "start_time": "2022-11-28T03:50:16.902Z"
   },
   {
    "duration": 1800,
    "start_time": "2022-11-28T03:50:16.910Z"
   },
   {
    "duration": 780,
    "start_time": "2022-11-28T03:50:18.712Z"
   },
   {
    "duration": 199220,
    "start_time": "2022-11-28T03:50:19.494Z"
   },
   {
    "duration": 164,
    "start_time": "2022-11-28T03:53:38.715Z"
   },
   {
    "duration": 98,
    "start_time": "2022-11-28T03:53:38.881Z"
   },
   {
    "duration": 2015,
    "start_time": "2022-11-28T03:53:38.981Z"
   },
   {
    "duration": 1492,
    "start_time": "2022-11-30T12:09:27.310Z"
   },
   {
    "duration": 399,
    "start_time": "2022-11-30T12:09:31.359Z"
   },
   {
    "duration": 14,
    "start_time": "2022-11-30T12:09:40.982Z"
   },
   {
    "duration": 4,
    "start_time": "2022-11-30T12:09:58.831Z"
   },
   {
    "duration": 5,
    "start_time": "2022-11-30T12:10:01.904Z"
   },
   {
    "duration": 1423,
    "start_time": "2022-12-04T07:46:09.412Z"
   },
   {
    "duration": 109,
    "start_time": "2022-12-04T07:46:16.508Z"
   },
   {
    "duration": 14,
    "start_time": "2022-12-04T07:46:19.658Z"
   },
   {
    "duration": 4,
    "start_time": "2022-12-04T07:46:27.041Z"
   },
   {
    "duration": 5,
    "start_time": "2022-12-04T07:46:32.760Z"
   },
   {
    "duration": 796,
    "start_time": "2022-12-04T07:54:07.685Z"
   },
   {
    "duration": 5,
    "start_time": "2022-12-04T07:54:14.779Z"
   },
   {
    "duration": 868,
    "start_time": "2022-12-04T07:54:30.188Z"
   },
   {
    "duration": 14,
    "start_time": "2022-12-04T07:55:04.430Z"
   },
   {
    "duration": 15,
    "start_time": "2022-12-04T07:55:18.807Z"
   },
   {
    "duration": 1223,
    "start_time": "2022-12-04T07:55:50.757Z"
   },
   {
    "duration": 56,
    "start_time": "2022-12-04T07:55:54.317Z"
   },
   {
    "duration": 12,
    "start_time": "2022-12-04T07:55:57.829Z"
   },
   {
    "duration": 4,
    "start_time": "2022-12-04T07:56:00.476Z"
   },
   {
    "duration": 5,
    "start_time": "2022-12-04T07:56:03.056Z"
   },
   {
    "duration": 12,
    "start_time": "2022-12-04T07:56:05.355Z"
   },
   {
    "duration": 5,
    "start_time": "2022-12-04T07:56:07.952Z"
   },
   {
    "duration": 3,
    "start_time": "2022-12-04T07:59:40.359Z"
   },
   {
    "duration": 751,
    "start_time": "2022-12-04T08:09:47.262Z"
   },
   {
    "duration": 17,
    "start_time": "2022-12-04T08:14:05.007Z"
   },
   {
    "duration": 34,
    "start_time": "2022-12-04T08:14:20.211Z"
   },
   {
    "duration": 5,
    "start_time": "2022-12-04T08:14:35.087Z"
   },
   {
    "duration": 1289,
    "start_time": "2022-12-04T08:16:55.169Z"
   },
   {
    "duration": 54,
    "start_time": "2022-12-04T08:16:58.257Z"
   },
   {
    "duration": 14,
    "start_time": "2022-12-04T08:17:00.917Z"
   },
   {
    "duration": 4,
    "start_time": "2022-12-04T08:17:04.018Z"
   },
   {
    "duration": 4,
    "start_time": "2022-12-04T08:17:06.025Z"
   },
   {
    "duration": 4,
    "start_time": "2022-12-04T08:17:13.435Z"
   },
   {
    "duration": 13,
    "start_time": "2022-12-04T08:17:16.169Z"
   },
   {
    "duration": 6,
    "start_time": "2022-12-04T08:17:18.298Z"
   },
   {
    "duration": 759,
    "start_time": "2022-12-04T08:17:21.948Z"
   },
   {
    "duration": 18,
    "start_time": "2022-12-04T08:17:26.780Z"
   },
   {
    "duration": 197,
    "start_time": "2022-12-04T08:17:30.332Z"
   },
   {
    "duration": 16,
    "start_time": "2022-12-04T08:31:49.191Z"
   },
   {
    "duration": 11,
    "start_time": "2022-12-04T08:32:02.369Z"
   },
   {
    "duration": 16,
    "start_time": "2022-12-04T08:36:20.247Z"
   },
   {
    "duration": 240,
    "start_time": "2022-12-04T08:36:26.875Z"
   },
   {
    "duration": 34,
    "start_time": "2022-12-04T08:37:19.746Z"
   },
   {
    "duration": 17,
    "start_time": "2022-12-04T08:48:54.879Z"
   },
   {
    "duration": 15,
    "start_time": "2022-12-04T08:50:23.822Z"
   },
   {
    "duration": 6,
    "start_time": "2022-12-04T08:55:14.607Z"
   },
   {
    "duration": 21,
    "start_time": "2022-12-04T08:56:10.395Z"
   },
   {
    "duration": 12,
    "start_time": "2022-12-04T08:56:26.639Z"
   },
   {
    "duration": 17,
    "start_time": "2022-12-04T08:58:05.768Z"
   },
   {
    "duration": 31,
    "start_time": "2022-12-04T09:02:27.596Z"
   },
   {
    "duration": 34,
    "start_time": "2022-12-04T09:03:27.075Z"
   },
   {
    "duration": 1264,
    "start_time": "2022-12-04T09:04:02.255Z"
   },
   {
    "duration": 55,
    "start_time": "2022-12-04T09:04:05.356Z"
   },
   {
    "duration": 12,
    "start_time": "2022-12-04T09:04:07.882Z"
   },
   {
    "duration": 5,
    "start_time": "2022-12-04T09:04:11.013Z"
   },
   {
    "duration": 109,
    "start_time": "2022-12-04T09:04:13.352Z"
   },
   {
    "duration": 6,
    "start_time": "2022-12-04T09:04:19.170Z"
   },
   {
    "duration": 16,
    "start_time": "2022-12-04T09:04:22.403Z"
   },
   {
    "duration": 6,
    "start_time": "2022-12-04T09:04:23.471Z"
   },
   {
    "duration": 730,
    "start_time": "2022-12-04T09:04:27.028Z"
   },
   {
    "duration": 16,
    "start_time": "2022-12-04T09:04:31.809Z"
   },
   {
    "duration": 105,
    "start_time": "2022-12-04T09:04:34.275Z"
   },
   {
    "duration": 19,
    "start_time": "2022-12-04T09:05:04.681Z"
   },
   {
    "duration": 27,
    "start_time": "2022-12-04T09:05:53.444Z"
   },
   {
    "duration": 36,
    "start_time": "2022-12-04T09:08:32.064Z"
   },
   {
    "duration": 50,
    "start_time": "2022-12-04T09:13:08.409Z"
   },
   {
    "duration": 1263,
    "start_time": "2022-12-04T09:14:07.644Z"
   },
   {
    "duration": 52,
    "start_time": "2022-12-04T09:14:10.897Z"
   },
   {
    "duration": 12,
    "start_time": "2022-12-04T09:14:14.492Z"
   },
   {
    "duration": 4,
    "start_time": "2022-12-04T09:14:17.578Z"
   },
   {
    "duration": 6,
    "start_time": "2022-12-04T09:14:19.754Z"
   },
   {
    "duration": 13,
    "start_time": "2022-12-04T09:14:22.029Z"
   },
   {
    "duration": 6,
    "start_time": "2022-12-04T09:14:24.261Z"
   },
   {
    "duration": 814,
    "start_time": "2022-12-04T09:14:28.187Z"
   },
   {
    "duration": 19,
    "start_time": "2022-12-04T09:14:32.008Z"
   },
   {
    "duration": 129,
    "start_time": "2022-12-04T09:14:34.334Z"
   },
   {
    "duration": 6,
    "start_time": "2022-12-04T09:16:12.231Z"
   },
   {
    "duration": 8,
    "start_time": "2022-12-04T09:17:23.062Z"
   },
   {
    "duration": 722,
    "start_time": "2022-12-04T09:21:41.151Z"
   },
   {
    "duration": 895,
    "start_time": "2022-12-04T09:22:17.907Z"
   },
   {
    "duration": 23,
    "start_time": "2022-12-04T09:25:29.345Z"
   },
   {
    "duration": 9,
    "start_time": "2022-12-04T09:25:32.822Z"
   },
   {
    "duration": 132,
    "start_time": "2022-12-04T09:25:59.197Z"
   },
   {
    "duration": 125,
    "start_time": "2022-12-04T09:26:15.448Z"
   },
   {
    "duration": 233,
    "start_time": "2022-12-04T09:26:41.333Z"
   },
   {
    "duration": 188,
    "start_time": "2022-12-04T09:27:04.222Z"
   },
   {
    "duration": 110,
    "start_time": "2022-12-04T09:27:08.832Z"
   },
   {
    "duration": 110,
    "start_time": "2022-12-04T09:27:31.868Z"
   },
   {
    "duration": 98,
    "start_time": "2022-12-04T09:27:57.772Z"
   },
   {
    "duration": 103,
    "start_time": "2022-12-04T09:28:04.173Z"
   },
   {
    "duration": 198,
    "start_time": "2022-12-04T09:29:19.184Z"
   },
   {
    "duration": 20,
    "start_time": "2022-12-04T09:29:37.992Z"
   },
   {
    "duration": 125,
    "start_time": "2022-12-04T09:29:48.062Z"
   },
   {
    "duration": 107,
    "start_time": "2022-12-04T09:30:11.468Z"
   },
   {
    "duration": 98,
    "start_time": "2022-12-04T09:30:20.400Z"
   },
   {
    "duration": 619,
    "start_time": "2022-12-04T09:32:32.833Z"
   },
   {
    "duration": 454,
    "start_time": "2022-12-04T09:33:18.162Z"
   },
   {
    "duration": 86540,
    "start_time": "2022-12-04T09:35:03.325Z"
   },
   {
    "duration": 213,
    "start_time": "2022-12-04T09:38:05.004Z"
   },
   {
    "duration": 606,
    "start_time": "2022-12-04T09:38:17.941Z"
   },
   {
    "duration": 5,
    "start_time": "2022-12-04T09:41:56.071Z"
   },
   {
    "duration": 4,
    "start_time": "2022-12-04T09:41:58.156Z"
   },
   {
    "duration": 16,
    "start_time": "2022-12-04T09:45:41.901Z"
   },
   {
    "duration": 763,
    "start_time": "2022-12-04T09:47:23.975Z"
   },
   {
    "duration": 557,
    "start_time": "2022-12-04T09:48:07.435Z"
   },
   {
    "duration": 115689,
    "start_time": "2022-12-04T09:48:39.120Z"
   },
   {
    "duration": 47,
    "start_time": "2022-12-04T10:05:04.033Z"
   },
   {
    "duration": 1435,
    "start_time": "2022-12-04T10:05:38.207Z"
   },
   {
    "duration": 12,
    "start_time": "2022-12-04T10:09:02.978Z"
   },
   {
    "duration": 16,
    "start_time": "2022-12-04T10:09:13.063Z"
   },
   {
    "duration": 15,
    "start_time": "2022-12-04T10:09:16.214Z"
   },
   {
    "duration": 1300,
    "start_time": "2022-12-04T10:10:21.261Z"
   },
   {
    "duration": 801,
    "start_time": "2022-12-04T10:12:59.274Z"
   },
   {
    "duration": 24618,
    "start_time": "2022-12-04T10:16:23.089Z"
   },
   {
    "duration": 169076,
    "start_time": "2022-12-04T10:17:04.066Z"
   },
   {
    "duration": 13,
    "start_time": "2022-12-04T10:28:09.000Z"
   },
   {
    "duration": 262,
    "start_time": "2022-12-04T10:28:17.057Z"
   },
   {
    "duration": 4,
    "start_time": "2022-12-04T10:44:39.455Z"
   },
   {
    "duration": 18,
    "start_time": "2022-12-04T10:45:44.735Z"
   },
   {
    "duration": 1095,
    "start_time": "2022-12-04T10:46:06.007Z"
   },
   {
    "duration": 130,
    "start_time": "2022-12-04T11:06:49.159Z"
   },
   {
    "duration": 740,
    "start_time": "2022-12-04T11:07:00.713Z"
   },
   {
    "duration": 4,
    "start_time": "2022-12-04T11:07:23.409Z"
   },
   {
    "duration": 9,
    "start_time": "2022-12-04T11:07:34.982Z"
   },
   {
    "duration": 5,
    "start_time": "2022-12-04T11:08:22.099Z"
   },
   {
    "duration": 1319,
    "start_time": "2022-12-04T11:08:34.381Z"
   },
   {
    "duration": 55,
    "start_time": "2022-12-04T11:08:35.702Z"
   },
   {
    "duration": 13,
    "start_time": "2022-12-04T11:08:35.759Z"
   },
   {
    "duration": 4,
    "start_time": "2022-12-04T11:08:35.774Z"
   },
   {
    "duration": 8,
    "start_time": "2022-12-04T11:08:35.780Z"
   },
   {
    "duration": 13,
    "start_time": "2022-12-04T11:08:35.790Z"
   },
   {
    "duration": 11,
    "start_time": "2022-12-04T11:08:35.805Z"
   },
   {
    "duration": 3,
    "start_time": "2022-12-04T11:08:35.818Z"
   },
   {
    "duration": 17,
    "start_time": "2022-12-04T11:08:35.823Z"
   },
   {
    "duration": 46,
    "start_time": "2022-12-04T11:08:35.842Z"
   },
   {
    "duration": 30,
    "start_time": "2022-12-04T11:08:35.889Z"
   },
   {
    "duration": 8,
    "start_time": "2022-12-04T11:08:35.921Z"
   },
   {
    "duration": 8,
    "start_time": "2022-12-04T11:08:35.930Z"
   },
   {
    "duration": 1081,
    "start_time": "2022-12-04T11:08:35.939Z"
   },
   {
    "duration": 23,
    "start_time": "2022-12-04T11:08:37.021Z"
   },
   {
    "duration": 7,
    "start_time": "2022-12-04T11:08:37.045Z"
   },
   {
    "duration": 113,
    "start_time": "2022-12-04T11:08:37.053Z"
   },
   {
    "duration": 582,
    "start_time": "2022-12-04T11:08:37.168Z"
   },
   {
    "duration": 380,
    "start_time": "2022-12-04T11:08:37.752Z"
   },
   {
    "duration": 50976,
    "start_time": "2022-12-04T11:08:38.134Z"
   },
   {
    "duration": 105,
    "start_time": "2022-12-04T11:09:29.112Z"
   },
   {
    "duration": 11,
    "start_time": "2022-12-04T11:09:29.220Z"
   },
   {
    "duration": 7,
    "start_time": "2022-12-04T11:09:29.316Z"
   },
   {
    "duration": 21,
    "start_time": "2022-12-04T11:09:29.324Z"
   },
   {
    "duration": 1147,
    "start_time": "2022-12-04T11:09:29.347Z"
   },
   {
    "duration": 668,
    "start_time": "2022-12-04T11:09:30.496Z"
   },
   {
    "duration": 15103,
    "start_time": "2022-12-04T11:09:31.167Z"
   },
   {
    "duration": 143,
    "start_time": "2022-12-04T11:09:46.274Z"
   },
   {
    "duration": 7,
    "start_time": "2022-12-04T11:09:46.419Z"
   },
   {
    "duration": 112,
    "start_time": "2022-12-04T11:09:46.428Z"
   },
   {
    "duration": 1081,
    "start_time": "2022-12-04T11:09:46.542Z"
   },
   {
    "duration": 5,
    "start_time": "2022-12-04T11:09:47.626Z"
   },
   {
    "duration": 1299,
    "start_time": "2022-12-04T11:09:58.090Z"
   },
   {
    "duration": 55,
    "start_time": "2022-12-04T11:10:03.797Z"
   },
   {
    "duration": 13,
    "start_time": "2022-12-04T11:10:06.716Z"
   },
   {
    "duration": 4,
    "start_time": "2022-12-04T11:10:21.000Z"
   },
   {
    "duration": 5,
    "start_time": "2022-12-04T11:10:22.979Z"
   },
   {
    "duration": 12,
    "start_time": "2022-12-04T11:10:24.985Z"
   },
   {
    "duration": 6,
    "start_time": "2022-12-04T11:10:27.196Z"
   },
   {
    "duration": 5,
    "start_time": "2022-12-04T11:10:28.886Z"
   },
   {
    "duration": 15,
    "start_time": "2022-12-04T11:10:32.553Z"
   },
   {
    "duration": 47,
    "start_time": "2022-12-04T11:10:34.539Z"
   },
   {
    "duration": 6,
    "start_time": "2022-12-04T11:10:42.827Z"
   },
   {
    "duration": 9,
    "start_time": "2022-12-04T11:10:44.943Z"
   },
   {
    "duration": 7,
    "start_time": "2022-12-04T11:10:48.328Z"
   },
   {
    "duration": 1141,
    "start_time": "2022-12-04T11:10:55.581Z"
   },
   {
    "duration": 26,
    "start_time": "2022-12-04T11:11:20.583Z"
   },
   {
    "duration": 7,
    "start_time": "2022-12-04T11:11:25.897Z"
   },
   {
    "duration": 101,
    "start_time": "2022-12-04T11:11:28.393Z"
   },
   {
    "duration": 1466,
    "start_time": "2022-12-04T11:11:33.399Z"
   },
   {
    "duration": 374,
    "start_time": "2022-12-04T11:11:43.651Z"
   },
   {
    "duration": 85035,
    "start_time": "2022-12-04T11:11:48.362Z"
   },
   {
    "duration": 34,
    "start_time": "2022-12-04T11:13:33.141Z"
   },
   {
    "duration": 4,
    "start_time": "2022-12-04T11:13:39.950Z"
   },
   {
    "duration": 3,
    "start_time": "2022-12-04T11:13:41.690Z"
   },
   {
    "duration": 13,
    "start_time": "2022-12-04T11:13:44.866Z"
   },
   {
    "duration": 2678,
    "start_time": "2022-12-04T11:13:47.247Z"
   },
   {
    "duration": 649,
    "start_time": "2022-12-04T11:14:10.143Z"
   },
   {
    "duration": 165336,
    "start_time": "2022-12-04T11:14:15.573Z"
   },
   {
    "duration": 224,
    "start_time": "2022-12-04T11:17:16.302Z"
   },
   {
    "duration": 4,
    "start_time": "2022-12-04T11:17:56.662Z"
   },
   {
    "duration": 11,
    "start_time": "2022-12-04T11:17:59.187Z"
   },
   {
    "duration": 1072,
    "start_time": "2022-12-04T11:18:26.885Z"
   },
   {
    "duration": 1322,
    "start_time": "2022-12-04T11:31:11.313Z"
   },
   {
    "duration": 52,
    "start_time": "2022-12-04T11:31:12.637Z"
   },
   {
    "duration": 12,
    "start_time": "2022-12-04T11:31:12.691Z"
   },
   {
    "duration": 9,
    "start_time": "2022-12-04T11:31:12.705Z"
   },
   {
    "duration": 23,
    "start_time": "2022-12-04T11:31:12.716Z"
   },
   {
    "duration": 27,
    "start_time": "2022-12-04T11:31:12.740Z"
   },
   {
    "duration": 10,
    "start_time": "2022-12-04T11:31:12.768Z"
   },
   {
    "duration": 20,
    "start_time": "2022-12-04T11:31:12.779Z"
   },
   {
    "duration": 25,
    "start_time": "2022-12-04T11:31:12.800Z"
   },
   {
    "duration": 55,
    "start_time": "2022-12-04T11:31:12.827Z"
   },
   {
    "duration": 5,
    "start_time": "2022-12-04T11:31:12.884Z"
   },
   {
    "duration": 16,
    "start_time": "2022-12-04T11:31:12.891Z"
   },
   {
    "duration": 1034,
    "start_time": "2022-12-04T11:31:12.915Z"
   },
   {
    "duration": 25,
    "start_time": "2022-12-04T11:31:13.950Z"
   },
   {
    "duration": 6,
    "start_time": "2022-12-04T11:31:13.977Z"
   },
   {
    "duration": 125,
    "start_time": "2022-12-04T11:31:13.984Z"
   },
   {
    "duration": 1483,
    "start_time": "2022-12-04T11:31:14.115Z"
   },
   {
    "duration": 381,
    "start_time": "2022-12-04T11:31:15.600Z"
   },
   {
    "duration": 85648,
    "start_time": "2022-12-04T11:31:15.982Z"
   },
   {
    "duration": 190,
    "start_time": "2022-12-04T11:32:41.632Z"
   },
   {
    "duration": 93,
    "start_time": "2022-12-04T11:32:41.824Z"
   },
   {
    "duration": 9,
    "start_time": "2022-12-04T11:32:41.919Z"
   },
   {
    "duration": 22,
    "start_time": "2022-12-04T11:32:41.929Z"
   },
   {
    "duration": 2725,
    "start_time": "2022-12-04T11:32:41.952Z"
   },
   {
    "duration": 655,
    "start_time": "2022-12-04T11:32:44.679Z"
   },
   {
    "duration": 165835,
    "start_time": "2022-12-04T11:32:45.338Z"
   },
   {
    "duration": 142,
    "start_time": "2022-12-04T11:35:31.175Z"
   },
   {
    "duration": 6,
    "start_time": "2022-12-04T11:35:31.320Z"
   },
   {
    "duration": 113,
    "start_time": "2022-12-04T11:35:31.328Z"
   },
   {
    "duration": 1092,
    "start_time": "2022-12-04T11:35:31.443Z"
   },
   {
    "duration": 1572,
    "start_time": "2022-12-05T03:08:14.863Z"
   },
   {
    "duration": 102,
    "start_time": "2022-12-05T03:08:16.438Z"
   },
   {
    "duration": 11,
    "start_time": "2022-12-05T03:08:16.542Z"
   },
   {
    "duration": 6,
    "start_time": "2022-12-05T03:08:16.555Z"
   },
   {
    "duration": 11,
    "start_time": "2022-12-05T03:08:16.563Z"
   },
   {
    "duration": 22,
    "start_time": "2022-12-05T03:08:16.576Z"
   },
   {
    "duration": 5,
    "start_time": "2022-12-05T03:08:16.600Z"
   },
   {
    "duration": 6,
    "start_time": "2022-12-05T03:08:16.606Z"
   },
   {
    "duration": 14,
    "start_time": "2022-12-05T03:08:16.615Z"
   },
   {
    "duration": 48,
    "start_time": "2022-12-05T03:08:16.631Z"
   },
   {
    "duration": 6,
    "start_time": "2022-12-05T03:08:16.681Z"
   },
   {
    "duration": 27,
    "start_time": "2022-12-05T03:08:16.689Z"
   },
   {
    "duration": 981,
    "start_time": "2022-12-05T03:08:16.718Z"
   },
   {
    "duration": 29,
    "start_time": "2022-12-05T03:08:17.703Z"
   },
   {
    "duration": 7,
    "start_time": "2022-12-05T03:08:17.733Z"
   },
   {
    "duration": 109,
    "start_time": "2022-12-05T03:08:17.742Z"
   },
   {
    "duration": 1419,
    "start_time": "2022-12-05T03:08:17.853Z"
   },
   {
    "duration": 350,
    "start_time": "2022-12-05T03:08:19.274Z"
   },
   {
    "duration": 83429,
    "start_time": "2022-12-05T03:08:19.626Z"
   },
   {
    "duration": 65,
    "start_time": "2022-12-05T03:09:43.058Z"
   },
   {
    "duration": 5,
    "start_time": "2022-12-05T03:09:43.125Z"
   },
   {
    "duration": 6,
    "start_time": "2022-12-05T03:09:43.217Z"
   },
   {
    "duration": 112,
    "start_time": "2022-12-05T03:09:43.225Z"
   },
   {
    "duration": 2617,
    "start_time": "2022-12-05T03:09:43.339Z"
   },
   {
    "duration": 677,
    "start_time": "2022-12-05T03:09:45.957Z"
   },
   {
    "duration": 161985,
    "start_time": "2022-12-05T03:09:46.636Z"
   },
   {
    "duration": 103,
    "start_time": "2022-12-05T03:12:28.623Z"
   },
   {
    "duration": 91,
    "start_time": "2022-12-05T03:12:28.728Z"
   },
   {
    "duration": 100,
    "start_time": "2022-12-05T03:12:28.821Z"
   },
   {
    "duration": 1037,
    "start_time": "2022-12-05T03:12:28.923Z"
   },
   {
    "duration": 1841,
    "start_time": "2023-02-19T13:39:40.998Z"
   },
   {
    "duration": 382,
    "start_time": "2023-02-19T13:39:47.013Z"
   },
   {
    "duration": 242,
    "start_time": "2023-02-19T13:41:27.414Z"
   },
   {
    "duration": 4,
    "start_time": "2023-02-19T14:13:01.319Z"
   },
   {
    "duration": 1667,
    "start_time": "2023-02-19T14:13:21.504Z"
   },
   {
    "duration": 79,
    "start_time": "2023-02-19T14:13:23.509Z"
   },
   {
    "duration": 14,
    "start_time": "2023-02-19T14:13:33.460Z"
   },
   {
    "duration": 7,
    "start_time": "2023-02-19T14:13:39.117Z"
   },
   {
    "duration": 7,
    "start_time": "2023-02-19T14:13:40.546Z"
   },
   {
    "duration": 15,
    "start_time": "2023-02-19T14:13:44.027Z"
   },
   {
    "duration": 7,
    "start_time": "2023-02-19T14:13:46.199Z"
   },
   {
    "duration": 5,
    "start_time": "2023-02-19T14:13:47.944Z"
   },
   {
    "duration": 27,
    "start_time": "2023-02-19T14:13:51.152Z"
   },
   {
    "duration": 59,
    "start_time": "2023-02-19T14:13:53.495Z"
   },
   {
    "duration": 8,
    "start_time": "2023-02-19T14:13:57.061Z"
   },
   {
    "duration": 10,
    "start_time": "2023-02-19T14:13:58.948Z"
   },
   {
    "duration": 1385,
    "start_time": "2023-02-19T14:14:01.791Z"
   },
   {
    "duration": 34,
    "start_time": "2023-02-19T14:14:03.982Z"
   },
   {
    "duration": 11,
    "start_time": "2023-02-19T14:14:06.008Z"
   },
   {
    "duration": 145,
    "start_time": "2023-02-19T14:14:07.802Z"
   },
   {
    "duration": 899,
    "start_time": "2023-02-19T14:15:32.872Z"
   },
   {
    "duration": 1751,
    "start_time": "2023-02-19T14:17:48.075Z"
   },
   {
    "duration": 402,
    "start_time": "2023-02-19T14:18:18.927Z"
   },
   {
    "duration": 102061,
    "start_time": "2023-02-19T14:18:21.501Z"
   },
   {
    "duration": 9,
    "start_time": "2023-02-19T14:20:27.238Z"
   },
   {
    "duration": 5,
    "start_time": "2023-02-19T14:20:29.031Z"
   }
  ],
  "kernelspec": {
   "display_name": "Python 3 (ipykernel)",
   "language": "python",
   "name": "python3"
  },
  "language_info": {
   "codemirror_mode": {
    "name": "ipython",
    "version": 3
   },
   "file_extension": ".py",
   "mimetype": "text/x-python",
   "name": "python",
   "nbconvert_exporter": "python",
   "pygments_lexer": "ipython3",
   "version": "3.9.5"
  },
  "toc": {
   "base_numbering": 1,
   "nav_menu": {},
   "number_sections": true,
   "sideBar": true,
   "skip_h1_title": true,
   "title_cell": "Содержание",
   "title_sidebar": "Contents",
   "toc_cell": true,
   "toc_position": {
    "height": "calc(100% - 180px)",
    "left": "10px",
    "top": "150px",
    "width": "279px"
   },
   "toc_section_display": true,
   "toc_window_display": false
  }
 },
 "nbformat": 4,
 "nbformat_minor": 2
}
