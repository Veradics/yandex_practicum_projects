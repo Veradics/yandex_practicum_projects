{
 "cells": [
  {
   "cell_type": "markdown",
   "metadata": {},
   "source": [
    "# Oil well development"
   ]
  },
  {
   "cell_type": "markdown",
   "metadata": {},
   "source": [
    "**The  purpose of the study** is to build a model to determine the most profitable region for oil production. The data contains information on oil samples from three regions: each has 10,000 fields where oil quality and reserves have been measured.\n",
    "\n",
    "**Course of Work**:\n",
    "1. [Loading and preparing data](#preprocessing)\n",
    "2. [Training and validation of models](#models)\n",
    "3. [Preparing for Profit Calculation](#preparation)\n",
    "4. [Calculating profit and risk](#profit)\n",
    "\n",
    "The algorithm for model training is *linear regression*, \\\n",
    "the metric for evaluating the quality of forecasting is *RMSE*."
   ]
  },
  {
   "cell_type": "markdown",
   "metadata": {},
   "source": [
    "<a id=\"preprocessing\"></a>\n",
    "## Data loading and preprocessing"
   ]
  },
  {
   "cell_type": "code",
   "execution_count": 2,
   "metadata": {},
   "outputs": [],
   "source": [
    "# imports\n",
    "import pandas as pd\n",
    "import numpy as np\n",
    "import matplotlib.pyplot as plt\n",
    "\n",
    "from sklearn.model_selection import train_test_split\n",
    "from sklearn.preprocessing import StandardScaler\n",
    "from sklearn.linear_model import LinearRegression\n",
    "from sklearn.metrics import mean_squared_error"
   ]
  },
  {
   "cell_type": "code",
   "execution_count": 3,
   "metadata": {},
   "outputs": [],
   "source": [
    "data_0 = pd.read_csv('/datasets/geo_data_0.csv')\n",
    "data_1 = pd.read_csv('/datasets/geo_data_1.csv')\n",
    "data_2 = pd.read_csv('/datasets/geo_data_2.csv')"
   ]
  },
  {
   "cell_type": "code",
   "execution_count": 4,
   "metadata": {},
   "outputs": [
    {
     "data": {
      "text/html": [
       "<div>\n",
       "<style scoped>\n",
       "    .dataframe tbody tr th:only-of-type {\n",
       "        vertical-align: middle;\n",
       "    }\n",
       "\n",
       "    .dataframe tbody tr th {\n",
       "        vertical-align: top;\n",
       "    }\n",
       "\n",
       "    .dataframe thead th {\n",
       "        text-align: right;\n",
       "    }\n",
       "</style>\n",
       "<table border=\"1\" class=\"dataframe\">\n",
       "  <thead>\n",
       "    <tr style=\"text-align: right;\">\n",
       "      <th></th>\n",
       "      <th>id</th>\n",
       "      <th>f0</th>\n",
       "      <th>f1</th>\n",
       "      <th>f2</th>\n",
       "      <th>product</th>\n",
       "    </tr>\n",
       "  </thead>\n",
       "  <tbody>\n",
       "    <tr>\n",
       "      <th>0</th>\n",
       "      <td>txEyH</td>\n",
       "      <td>0.705745</td>\n",
       "      <td>-0.497823</td>\n",
       "      <td>1.221170</td>\n",
       "      <td>105.280062</td>\n",
       "    </tr>\n",
       "    <tr>\n",
       "      <th>1</th>\n",
       "      <td>2acmU</td>\n",
       "      <td>1.334711</td>\n",
       "      <td>-0.340164</td>\n",
       "      <td>4.365080</td>\n",
       "      <td>73.037750</td>\n",
       "    </tr>\n",
       "    <tr>\n",
       "      <th>2</th>\n",
       "      <td>409Wp</td>\n",
       "      <td>1.022732</td>\n",
       "      <td>0.151990</td>\n",
       "      <td>1.419926</td>\n",
       "      <td>85.265647</td>\n",
       "    </tr>\n",
       "    <tr>\n",
       "      <th>3</th>\n",
       "      <td>iJLyR</td>\n",
       "      <td>-0.032172</td>\n",
       "      <td>0.139033</td>\n",
       "      <td>2.978566</td>\n",
       "      <td>168.620776</td>\n",
       "    </tr>\n",
       "    <tr>\n",
       "      <th>4</th>\n",
       "      <td>Xdl7t</td>\n",
       "      <td>1.988431</td>\n",
       "      <td>0.155413</td>\n",
       "      <td>4.751769</td>\n",
       "      <td>154.036647</td>\n",
       "    </tr>\n",
       "  </tbody>\n",
       "</table>\n",
       "</div>"
      ],
      "text/plain": [
       "      id        f0        f1        f2     product\n",
       "0  txEyH  0.705745 -0.497823  1.221170  105.280062\n",
       "1  2acmU  1.334711 -0.340164  4.365080   73.037750\n",
       "2  409Wp  1.022732  0.151990  1.419926   85.265647\n",
       "3  iJLyR -0.032172  0.139033  2.978566  168.620776\n",
       "4  Xdl7t  1.988431  0.155413  4.751769  154.036647"
      ]
     },
     "execution_count": 4,
     "metadata": {},
     "output_type": "execute_result"
    }
   ],
   "source": [
    "data_0.head()"
   ]
  },
  {
   "cell_type": "code",
   "execution_count": 5,
   "metadata": {},
   "outputs": [
    {
     "name": "stdout",
     "output_type": "stream",
     "text": [
      "<class 'pandas.core.frame.DataFrame'>\n",
      "RangeIndex: 100000 entries, 0 to 99999\n",
      "Data columns (total 5 columns):\n",
      " #   Column   Non-Null Count   Dtype  \n",
      "---  ------   --------------   -----  \n",
      " 0   id       100000 non-null  object \n",
      " 1   f0       100000 non-null  float64\n",
      " 2   f1       100000 non-null  float64\n",
      " 3   f2       100000 non-null  float64\n",
      " 4   product  100000 non-null  float64\n",
      "dtypes: float64(4), object(1)\n",
      "memory usage: 3.8+ MB\n",
      "<class 'pandas.core.frame.DataFrame'>\n",
      "RangeIndex: 100000 entries, 0 to 99999\n",
      "Data columns (total 5 columns):\n",
      " #   Column   Non-Null Count   Dtype  \n",
      "---  ------   --------------   -----  \n",
      " 0   id       100000 non-null  object \n",
      " 1   f0       100000 non-null  float64\n",
      " 2   f1       100000 non-null  float64\n",
      " 3   f2       100000 non-null  float64\n",
      " 4   product  100000 non-null  float64\n",
      "dtypes: float64(4), object(1)\n",
      "memory usage: 3.8+ MB\n",
      "<class 'pandas.core.frame.DataFrame'>\n",
      "RangeIndex: 100000 entries, 0 to 99999\n",
      "Data columns (total 5 columns):\n",
      " #   Column   Non-Null Count   Dtype  \n",
      "---  ------   --------------   -----  \n",
      " 0   id       100000 non-null  object \n",
      " 1   f0       100000 non-null  float64\n",
      " 2   f1       100000 non-null  float64\n",
      " 3   f2       100000 non-null  float64\n",
      " 4   product  100000 non-null  float64\n",
      "dtypes: float64(4), object(1)\n",
      "memory usage: 3.8+ MB\n"
     ]
    },
    {
     "data": {
      "text/plain": [
       "(None, None, None)"
      ]
     },
     "execution_count": 5,
     "metadata": {},
     "output_type": "execute_result"
    }
   ],
   "source": [
    "data_0.info(), data_1.info(), data_2.info()"
   ]
  },
  {
   "cell_type": "markdown",
   "metadata": {},
   "source": [
    "There are no gaps in the data. Each set has the same number of rows and columns."
   ]
  },
  {
   "cell_type": "code",
   "execution_count": 6,
   "metadata": {},
   "outputs": [
    {
     "data": {
      "image/png": "[encoded data removed]",
      "text/plain": [
       "<Figure size 432x288 with 4 Axes>"
      ]
     },
     "metadata": {
      "needs_background": "light"
     },
     "output_type": "display_data"
    },
    {
     "data": {
      "image/png": "[encoded data removed]",
      "text/plain": [
       "<Figure size 432x288 with 4 Axes>"
      ]
     },
     "metadata": {
      "needs_background": "light"
     },
     "output_type": "display_data"
    },
    {
     "data": {
      "image/png": "[encoded data removed]",
      "text/plain": [
       "<Figure size 432x288 with 4 Axes>"
      ]
     },
     "metadata": {
      "needs_background": "light"
     },
     "output_type": "display_data"
    }
   ],
   "source": [
    "data_0.hist(), data_1.hist(), data_2.hist()\n",
    "plt.show()"
   ]
  },
  {
   "cell_type": "markdown",
   "metadata": {},
   "source": [
    "The ranges of feature values are not the same. To prevent the model from considering one attribute more important than another, it will be necessary to standardize the data before training. At the same stage, the set for each region should be divided into training and validation samples (75:25 ratio)."
   ]
  },
  {
   "cell_type": "code",
   "execution_count": 7,
   "metadata": {},
   "outputs": [],
   "source": [
    "def prepare_data(features, target):\n",
    "    features_train, features_valid, target_train, target_valid = train_test_split(\n",
    "        features, target, test_size=0.25, random_state=12345)\n",
    "    \n",
    "    # scaling\n",
    "    scaler = StandardScaler()\n",
    "    scaler.fit(features_train)\n",
    "    \n",
    "    features_train = pd.DataFrame(scaler.transform(features_train), columns=features.columns)\n",
    "    features_valid = pd.DataFrame(scaler.transform(features_valid), columns=features.columns)\n",
    "    \n",
    "    return features_train, features_valid, target_train, target_valid"
   ]
  },
  {
   "cell_type": "code",
   "execution_count": 8,
   "metadata": {},
   "outputs": [],
   "source": [
    "features_0 = data_0[['f0', 'f1', 'f2']]\n",
    "target_0 = data_0['product']\n",
    "\n",
    "features_1 = data_1[['f0', 'f1', 'f2']]\n",
    "target_1 = data_1['product']\n",
    "\n",
    "features_2 = data_2[['f0', 'f1', 'f2']]\n",
    "target_2 = data_2['product']"
   ]
  },
  {
   "cell_type": "code",
   "execution_count": 9,
   "metadata": {},
   "outputs": [],
   "source": [
    "# train and valid sets\n",
    "features_train_0, features_valid_0, target_train_0, target_valid_0 = prepare_data(features_0, target_0)\n",
    "features_train_1, features_valid_1, target_train_1, target_valid_1 = prepare_data(features_1, target_1)\n",
    "features_train_2, features_valid_2, target_train_2, target_valid_2 = prepare_data(features_2, target_2)"
   ]
  },
  {
   "cell_type": "markdown",
   "metadata": {},
   "source": [
    "The *product* column represents the **target variable** - the volume of reserves in the well (thousand barrels). Columns *f0, f1, f2* are three significant attributes of the points. The last column(*id*) contains a unique well identifier. It is unimportant for model training, so it was excluded at the stage of data separation."
   ]
  },
  {
   "cell_type": "code",
   "execution_count": 10,
   "metadata": {},
   "outputs": [
    {
     "data": {
      "text/plain": [
       "(75000, 25000)"
      ]
     },
     "execution_count": 10,
     "metadata": {},
     "output_type": "execute_result"
    }
   ],
   "source": [
    "features_train_0.shape[0], features_valid_0.shape[0]"
   ]
  },
  {
   "cell_type": "code",
   "execution_count": 11,
   "metadata": {},
   "outputs": [
    {
     "data": {
      "image/png": "[encoded data removed]",
      "text/plain": [
       "<Figure size 432x288 with 4 Axes>"
      ]
     },
     "metadata": {
      "needs_background": "light"
     },
     "output_type": "display_data"
    }
   ],
   "source": [
    "# example of features after standardization\n",
    "features_train_0.hist()\n",
    "plt.show()"
   ]
  },
  {
   "cell_type": "markdown",
   "metadata": {},
   "source": [
    "<a id=\"models\"></a>\n",
    "## Model training and validation"
   ]
  },
  {
   "cell_type": "markdown",
   "metadata": {},
   "source": [
    "Let's train the linear regression model for each region separately and compare the results."
   ]
  },
  {
   "cell_type": "code",
   "execution_count": 19,
   "metadata": {},
   "outputs": [
    {
     "name": "stdout",
     "output_type": "stream",
     "text": [
      "Регион 0: RMSE=37.58, средний запас предсказанного сырья = 93 тыс.баррелей\n"
     ]
    }
   ],
   "source": [
    "# region 0\n",
    "model = LinearRegression()\n",
    "model.fit(features_train_0, target_train_0)\n",
    "\n",
    "predictions_0 = pd.Series(model.predict(features_valid_0))\n",
    "target_valid_0.reset_index(drop=True, inplace=True)\n",
    "\n",
    "RMSE_0 = (mean_squared_error(target_valid_0, predictions_0)) ** 0.5\n",
    "mean_reserve_0 = predictions_0.mean()\n",
    "\n",
    "print(f'Регион 0: RMSE={round(RMSE_0, 2)}, средний запас предсказанного сырья = {round(mean_reserve_0)} тыс.баррелей')"
   ]
  },
  {
   "cell_type": "code",
   "execution_count": 20,
   "metadata": {},
   "outputs": [
    {
     "name": "stdout",
     "output_type": "stream",
     "text": [
      "Регион 1: RMSE=0.89, средний запас предсказанного сырья = 69 тыс.баррелей\n"
     ]
    }
   ],
   "source": [
    "# region 1\n",
    "model = LinearRegression()\n",
    "model.fit(features_train_1, target_train_1)\n",
    "\n",
    "predictions_1 = pd.Series(model.predict(features_valid_1))\n",
    "target_valid_1.reset_index(drop=True, inplace=True)\n",
    "\n",
    "RMSE_1 = (mean_squared_error(target_valid_1, predictions_1)) ** 0.5\n",
    "mean_reserve_1 = predictions_1.mean()\n",
    "\n",
    "print(f'Регион 1: RMSE={round(RMSE_1, 2)}, средний запас предсказанного сырья = {round(mean_reserve_1)} тыс.баррелей')"
   ]
  },
  {
   "cell_type": "code",
   "execution_count": 21,
   "metadata": {},
   "outputs": [
    {
     "name": "stdout",
     "output_type": "stream",
     "text": [
      "Регион 2: RMSE=40.03, средний запас предсказанного сырья = 95 тыс.баррелей\n"
     ]
    }
   ],
   "source": [
    "# region 2\n",
    "model = LinearRegression()\n",
    "model.fit(features_train_2, target_train_2)\n",
    "\n",
    "predictions_2 = pd.Series(model.predict(features_valid_2))\n",
    "target_valid_2.reset_index(drop=True, inplace=True)\n",
    "\n",
    "RMSE_2 = (mean_squared_error(target_valid_2, predictions_2)) ** 0.5\n",
    "mean_reserve_2 = predictions_2.mean()\n",
    "\n",
    "print(f'Регион 2: RMSE={round(RMSE_2, 2)}, средний запас предсказанного сырья = {round(mean_reserve_2)} тыс.баррелей')"
   ]
  },
  {
   "cell_type": "markdown",
   "metadata": {},
   "source": [
    "Region 2 is the leader in terms of the average stock of predicted raw materials. Region 0 is slightly behind, but its predictions are characterized by a smaller error. The lowest error is shown by the model trained on data from region #1: RMSE < 1, but the predicted average oil reserve here is much lower than in the previous cases."
   ]
  },
  {
   "cell_type": "code",
   "execution_count": 17,
   "metadata": {},
   "outputs": [],
   "source": [
    "# Model training for predicting oil reserves in the field\n",
    "# i - region number\n",
    "def fit_region_model(i, features_train, features_valid, target_train, target_valid):\n",
    "    model = LinearRegression()\n",
    "    model.fit(features_train, target_train)\n",
    "\n",
    "    predictions = pd.Series(model.predict(features_valid))\n",
    "    target_valid.reset_index(drop=True, inplace=True)\n",
    "\n",
    "    RMSE = (mean_squared_error(target_valid, predictions)) ** 0.5\n",
    "    mean_reserve = predictions.mean()\n",
    "\n",
    "    print(f'Регион {i}: RMSE={round(RMSE, 2)}, средний запас предсказанного сырья = {round(mean_reserve)} тыс.баррелей')\n",
    "    \n",
    "    return target_valid, predictions"
   ]
  },
  {
   "cell_type": "code",
   "execution_count": 18,
   "metadata": {},
   "outputs": [
    {
     "name": "stdout",
     "output_type": "stream",
     "text": [
      "Регион 0: RMSE=37.58, средний запас предсказанного сырья = 93 тыс.баррелей\n",
      "Регион 1: RMSE=0.89, средний запас предсказанного сырья = 69 тыс.баррелей\n",
      "Регион 2: RMSE=40.03, средний запас предсказанного сырья = 95 тыс.баррелей\n"
     ]
    }
   ],
   "source": [
    "# region 0\n",
    "target_valid_0, predictions_0 = fit_region_model(0, features_train_0, features_valid_0, target_train_0, target_valid_0)\n",
    "\n",
    "# region 1\n",
    "target_valid_1, predictions_1 = fit_region_model(1, features_train_1, features_valid_1, target_train_1, target_valid_1)\n",
    "\n",
    "# region 2\n",
    "target_valid_2, predictions_2 = fit_region_model(2, features_train_2, features_valid_2, target_train_2, target_valid_2)"
   ]
  },
  {
   "cell_type": "markdown",
   "metadata": {},
   "source": [
    "<a id=\"preparation\"></a>\n",
    "## Preparation for profit calculation"
   ]
  },
  {
   "cell_type": "code",
   "execution_count": 22,
   "metadata": {},
   "outputs": [],
   "source": [
    "# regional development budget (200 wells)\n",
    "BUDGET = 10000000000\n",
    "\n",
    "# cost per thousand barrels of oil\n",
    "COST = 450000"
   ]
  },
  {
   "cell_type": "markdown",
   "metadata": {},
   "source": [
    "Sufficient raw material volume for break-even development of a new well:"
   ]
  },
  {
   "cell_type": "code",
   "execution_count": 23,
   "metadata": {},
   "outputs": [
    {
     "name": "stdout",
     "output_type": "stream",
     "text": [
      "111 тыс.баррелей\n"
     ]
    }
   ],
   "source": [
    "volume = BUDGET / (COST*200)\n",
    "print(f'{round(volume)} тыс.баррелей') "
   ]
  },
  {
   "cell_type": "markdown",
   "metadata": {},
   "source": [
    "The obtained value is greater than the previously calculated average values of the predicted stock of raw materials in the regions. Consequently, it is not profitable to take \"average\" wells for development: there are enough wells in the region, the development of which will bring only losses. It is necessary to select those for which the predicted volume of raw materials is greater than 111 thousand barrels."
   ]
  },
  {
   "cell_type": "markdown",
   "metadata": {},
   "source": [
    "<a id=\"profit\"></a>\n",
    "## Calculation of profit and risks"
   ]
  },
  {
   "cell_type": "markdown",
   "metadata": {},
   "source": [
    "Estimate the profit distribution using the *Bootstrap* technique (1000 samples of 500 wells), calculate the mean, 95% confidence interval and risk of loss."
   ]
  },
  {
   "cell_type": "code",
   "execution_count": 31,
   "metadata": {},
   "outputs": [],
   "source": [
    "# function for calculating profit\n",
    "def get_profit(target, predictions, count=200):\n",
    "    predictions_sorted = predictions.sort_values(ascending=False)\n",
    "    selected = target[predictions_sorted.index][:count]\n",
    "    profit = selected.sum()*COST - BUDGET\n",
    "    \n",
    "    return profit"
   ]
  },
  {
   "cell_type": "code",
   "execution_count": 34,
   "metadata": {},
   "outputs": [
    {
     "data": {
      "text/plain": [
       "3320826043.1398506"
      ]
     },
     "execution_count": 34,
     "metadata": {},
     "output_type": "execute_result"
    }
   ],
   "source": [
    "# check\n",
    "get_profit(target_valid_0, predictions_0)"
   ]
  },
  {
   "cell_type": "code",
   "execution_count": 27,
   "metadata": {},
   "outputs": [],
   "source": [
    "state = np.random.RandomState(12345)"
   ]
  },
  {
   "cell_type": "code",
   "execution_count": 33,
   "metadata": {},
   "outputs": [],
   "source": [
    "# Bootstrap method implementation\n",
    "def bootstrap_params(target, predictions):\n",
    "    values = []\n",
    "    \n",
    "    for i in range(1000):\n",
    "        target_subsample = target.sample(500, random_state=state)\n",
    "        predictions_subsample = predictions[target_subsample.index]\n",
    "        profit = get_profit(target_subsample, predictions_subsample)\n",
    "        values.append(profit)\n",
    "\n",
    "    values = pd.Series(values)\n",
    "\n",
    "    mean_profit = values.mean()\n",
    "    lower = values.quantile(0.025)\n",
    "    upper = values.quantile(0.975)\n",
    "    loss = (values < 0).mean()\n",
    "\n",
    "    return mean_profit, lower, upper, loss"
   ]
  },
  {
   "cell_type": "code",
   "execution_count": 35,
   "metadata": {},
   "outputs": [],
   "source": [
    "def format_big_n(n):\n",
    "    return '{:,.0f}'.format(n).replace(',', ' ')"
   ]
  },
  {
   "cell_type": "code",
   "execution_count": 36,
   "metadata": {},
   "outputs": [
    {
     "name": "stdout",
     "output_type": "stream",
     "text": [
      "Регион 0. Средняя прибыль: 380 721 840 руб. Доверительный интервал: от -126 947 638 до 879 613 968 руб. Риск убытков: 7.20%\n"
     ]
    }
   ],
   "source": [
    "# region 0\n",
    "mean_0, lower_0, upper_0, loss_0 = bootstrap_params(target_valid_0, predictions_0)\n",
    "print(f'Регион 0. Средняя прибыль: {format_big_n(mean_0)} руб. Доверительный интервал: от {format_big_n(lower_0)} до \\\n",
    "{format_big_n(upper_0)} руб. Риск убытков: {\"{:.2%}\".format(loss_0)}')"
   ]
  },
  {
   "cell_type": "code",
   "execution_count": 37,
   "metadata": {},
   "outputs": [
    {
     "name": "stdout",
     "output_type": "stream",
     "text": [
      "Регион 1. Средняя прибыль: 454 734 058 руб. Доверительный интервал: от 46 730 085 до 840 213 356 руб. Риск убытков: 1.30%\n"
     ]
    }
   ],
   "source": [
    "# region 1\n",
    "mean_1, lower_1, upper_1, loss_1 = bootstrap_params(target_valid_1, predictions_1)\n",
    "print(f'Регион 1. Средняя прибыль: {format_big_n(mean_1)} руб. Доверительный интервал: от {format_big_n(lower_1)} до \\\n",
    "{format_big_n(upper_1)} руб. Риск убытков: {\"{:.2%}\".format(loss_1)}')"
   ]
  },
  {
   "cell_type": "code",
   "execution_count": 38,
   "metadata": {},
   "outputs": [
    {
     "name": "stdout",
     "output_type": "stream",
     "text": [
      "Регион 2. Средняя прибыль: 389 151 075 руб. Доверительный интервал: от -115 609 566 до 906 512 590 руб. Риск убытков: 7.30%\n"
     ]
    }
   ],
   "source": [
    "# region 2\n",
    "mean_2, lower_2, upper_2, loss_2 = bootstrap_params(target_valid_2, predictions_2)\n",
    "print(f'Регион 2. Средняя прибыль: {format_big_n(mean_2)} руб. Доверительный интервал: от {format_big_n(lower_2)} до \\\n",
    "{format_big_n(upper_2)} руб. Риск убытков: {\"{:.2%}\".format(loss_2)}')"
   ]
  },
  {
   "cell_type": "markdown",
   "metadata": {},
   "source": [
    "The most attractive for development seems to be **region #1**: the highest expected average profit, smaller scatter of values (narrow confidence interval), at the same time, the risk of losses is minimal - about 1%."
   ]
  },
  {
   "cell_type": "markdown",
   "metadata": {},
   "source": [
    "## Overall conclusion"
   ]
  },
  {
   "cell_type": "markdown",
   "metadata": {},
   "source": [
    "This project examined data from oil fields in three regions and built *linear regression* based models to predict the oil reserves that could be produced from a well in a particular region.\n",
    "\n",
    "At the preprocessing stage, the unique well identifier (a useless parameter for model training) was removed from each set. The numerical features were standardized. To further evaluate the profitability of oil production in the regions, a *Bootstrap* technique was applied to analyze the distribution of profit from the development of the top 200 wells out of a randomly selected 500.\n",
    "\n",
    "According to the results of the study, **the most attractive region for development was selected as region #1**, characterized by the highest average profit and the lowest risk of loss. The linear regression model trained on data from this region also showed the lowest prediction error, which makes its predictions more reliable."
   ]
  }
 ],
 "metadata": {
  "ExecuteTimeLog": [
   {
    "duration": 4,
    "start_time": "2022-12-25T19:51:34.904Z"
   },
   {
    "duration": 365,
    "start_time": "2022-12-25T19:51:35.895Z"
   },
   {
    "duration": 9,
    "start_time": "2022-12-25T19:51:36.827Z"
   },
   {
    "duration": 34,
    "start_time": "2022-12-25T19:51:39.034Z"
   },
   {
    "duration": 999,
    "start_time": "2022-12-25T19:51:44.559Z"
   },
   {
    "duration": 3,
    "start_time": "2022-12-25T19:51:47.903Z"
   },
   {
    "duration": 10,
    "start_time": "2022-12-25T19:51:49.049Z"
   },
   {
    "duration": 44,
    "start_time": "2022-12-25T19:51:49.572Z"
   },
   {
    "duration": 4,
    "start_time": "2022-12-25T19:51:52.150Z"
   },
   {
    "duration": 375,
    "start_time": "2022-12-25T19:51:54.117Z"
   },
   {
    "duration": 23,
    "start_time": "2022-12-25T19:51:56.680Z"
   },
   {
    "duration": 17,
    "start_time": "2022-12-25T19:51:58.433Z"
   },
   {
    "duration": 15,
    "start_time": "2022-12-25T19:52:02.521Z"
   },
   {
    "duration": 3,
    "start_time": "2022-12-25T19:52:05.225Z"
   },
   {
    "duration": 3,
    "start_time": "2022-12-25T19:52:07.104Z"
   },
   {
    "duration": 4,
    "start_time": "2022-12-25T19:55:05.564Z"
   },
   {
    "duration": 8,
    "start_time": "2022-12-25T20:35:02.193Z"
   },
   {
    "duration": 2,
    "start_time": "2022-12-25T20:37:21.123Z"
   },
   {
    "duration": 3,
    "start_time": "2022-12-25T20:37:31.392Z"
   },
   {
    "duration": 4,
    "start_time": "2022-12-25T20:46:25.654Z"
   },
   {
    "duration": 5,
    "start_time": "2022-12-25T20:52:27.403Z"
   },
   {
    "duration": 5,
    "start_time": "2022-12-25T20:53:25.561Z"
   },
   {
    "duration": 1428,
    "start_time": "2022-12-25T20:55:15.449Z"
   },
   {
    "duration": 1268,
    "start_time": "2022-12-25T20:57:09.702Z"
   },
   {
    "duration": 1349,
    "start_time": "2022-12-25T20:57:17.972Z"
   },
   {
    "duration": 1269,
    "start_time": "2022-12-25T20:58:56.555Z"
   },
   {
    "duration": 1385,
    "start_time": "2022-12-25T20:59:00.210Z"
   },
   {
    "duration": 4,
    "start_time": "2022-12-25T20:59:26.261Z"
   },
   {
    "duration": 1308,
    "start_time": "2022-12-25T20:59:28.460Z"
   },
   {
    "duration": 1276,
    "start_time": "2022-12-25T20:59:30.762Z"
   },
   {
    "duration": 1319,
    "start_time": "2022-12-25T20:59:33.054Z"
   },
   {
    "duration": 1838,
    "start_time": "2022-12-26T09:15:20.722Z"
   },
   {
    "duration": 898,
    "start_time": "2022-12-26T09:15:23.822Z"
   },
   {
    "duration": 15,
    "start_time": "2022-12-26T09:15:26.765Z"
   },
   {
    "duration": 45,
    "start_time": "2022-12-26T09:15:30.229Z"
   },
   {
    "duration": 1045,
    "start_time": "2022-12-26T09:15:34.475Z"
   },
   {
    "duration": 5,
    "start_time": "2022-12-26T09:15:38.948Z"
   },
   {
    "duration": 11,
    "start_time": "2022-12-26T09:15:41.770Z"
   },
   {
    "duration": 56,
    "start_time": "2022-12-26T09:15:44.228Z"
   },
   {
    "duration": 4,
    "start_time": "2022-12-26T09:15:47.058Z"
   },
   {
    "duration": 398,
    "start_time": "2022-12-26T09:15:49.050Z"
   },
   {
    "duration": 72,
    "start_time": "2022-12-26T09:15:52.308Z"
   },
   {
    "duration": 17,
    "start_time": "2022-12-26T09:15:54.652Z"
   },
   {
    "duration": 15,
    "start_time": "2022-12-26T09:15:57.451Z"
   },
   {
    "duration": 3,
    "start_time": "2022-12-26T09:16:00.122Z"
   },
   {
    "duration": 4,
    "start_time": "2022-12-26T09:16:02.338Z"
   },
   {
    "duration": 4,
    "start_time": "2022-12-26T09:16:05.820Z"
   },
   {
    "duration": 9,
    "start_time": "2022-12-26T09:16:09.225Z"
   },
   {
    "duration": 3,
    "start_time": "2022-12-26T09:16:13.445Z"
   },
   {
    "duration": 118,
    "start_time": "2022-12-26T09:17:37.761Z"
   },
   {
    "duration": 5,
    "start_time": "2022-12-26T09:17:42.926Z"
   },
   {
    "duration": 1507,
    "start_time": "2022-12-26T09:17:44.934Z"
   },
   {
    "duration": 1541,
    "start_time": "2022-12-26T09:19:57.758Z"
   },
   {
    "duration": 1565,
    "start_time": "2022-12-26T09:20:34.271Z"
   },
   {
    "duration": 1607,
    "start_time": "2022-12-26T09:20:39.740Z"
   },
   {
    "duration": 3,
    "start_time": "2022-12-26T09:23:51.297Z"
   },
   {
    "duration": 1520,
    "start_time": "2022-12-26T09:24:20.399Z"
   },
   {
    "duration": 3,
    "start_time": "2022-12-26T09:25:10.398Z"
   },
   {
    "duration": 1562,
    "start_time": "2022-12-26T09:25:12.173Z"
   },
   {
    "duration": 3,
    "start_time": "2022-12-26T09:25:30.598Z"
   },
   {
    "duration": 1464,
    "start_time": "2022-12-26T09:25:32.828Z"
   },
   {
    "duration": 3,
    "start_time": "2022-12-26T09:25:40.658Z"
   },
   {
    "duration": 1467,
    "start_time": "2022-12-26T09:25:42.590Z"
   },
   {
    "duration": 4,
    "start_time": "2022-12-26T09:25:53.735Z"
   },
   {
    "duration": 1460,
    "start_time": "2022-12-26T09:25:55.494Z"
   },
   {
    "duration": 1501,
    "start_time": "2022-12-26T09:26:25.918Z"
   },
   {
    "duration": 1486,
    "start_time": "2022-12-26T09:27:23.980Z"
   },
   {
    "duration": 1553,
    "start_time": "2022-12-26T09:27:41.010Z"
   },
   {
    "duration": 1579,
    "start_time": "2022-12-26T09:28:09.763Z"
   },
   {
    "duration": 1530,
    "start_time": "2022-12-26T09:28:12.046Z"
   },
   {
    "duration": 3,
    "start_time": "2022-12-26T09:28:45.145Z"
   },
   {
    "duration": 4,
    "start_time": "2022-12-26T09:28:46.643Z"
   },
   {
    "duration": 3,
    "start_time": "2022-12-26T09:28:48.997Z"
   },
   {
    "duration": 1531,
    "start_time": "2022-12-26T09:28:50.403Z"
   },
   {
    "duration": 1518,
    "start_time": "2022-12-26T09:28:52.118Z"
   },
   {
    "duration": 1581,
    "start_time": "2022-12-26T09:28:55.226Z"
   },
   {
    "duration": 3,
    "start_time": "2022-12-26T09:29:41.907Z"
   },
   {
    "duration": 7,
    "start_time": "2022-12-26T09:29:45.845Z"
   },
   {
    "duration": 3,
    "start_time": "2022-12-26T09:29:49.166Z"
   },
   {
    "duration": 1463,
    "start_time": "2022-12-26T09:29:51.239Z"
   },
   {
    "duration": 1484,
    "start_time": "2022-12-26T09:29:53.764Z"
   },
   {
    "duration": 1554,
    "start_time": "2022-12-26T09:29:57.295Z"
   },
   {
    "duration": 5,
    "start_time": "2022-12-26T09:36:12.159Z"
   },
   {
    "duration": 3,
    "start_time": "2022-12-26T09:36:15.295Z"
   },
   {
    "duration": 1610,
    "start_time": "2022-12-26T09:36:17.113Z"
   },
   {
    "duration": 1540,
    "start_time": "2022-12-26T09:36:21.705Z"
   },
   {
    "duration": 1543,
    "start_time": "2022-12-26T09:36:25.510Z"
   },
   {
    "duration": 1471,
    "start_time": "2022-12-26T12:11:10.371Z"
   },
   {
    "duration": 413,
    "start_time": "2022-12-26T12:11:11.844Z"
   },
   {
    "duration": 15,
    "start_time": "2022-12-26T12:11:12.258Z"
   },
   {
    "duration": 44,
    "start_time": "2022-12-26T12:11:12.277Z"
   },
   {
    "duration": 1159,
    "start_time": "2022-12-26T12:11:12.325Z"
   },
   {
    "duration": 4,
    "start_time": "2022-12-26T12:11:13.486Z"
   },
   {
    "duration": 61,
    "start_time": "2022-12-26T12:11:13.492Z"
   },
   {
    "duration": 182,
    "start_time": "2022-12-26T12:11:13.556Z"
   },
   {
    "duration": 4,
    "start_time": "2022-12-26T12:11:13.740Z"
   },
   {
    "duration": 322,
    "start_time": "2022-12-26T12:11:13.746Z"
   },
   {
    "duration": 107,
    "start_time": "2022-12-26T12:11:14.070Z"
   },
   {
    "duration": 110,
    "start_time": "2022-12-26T12:11:14.179Z"
   },
   {
    "duration": 196,
    "start_time": "2022-12-26T12:11:14.291Z"
   },
   {
    "duration": 6,
    "start_time": "2022-12-26T12:11:14.579Z"
   },
   {
    "duration": 6,
    "start_time": "2022-12-26T12:11:14.587Z"
   },
   {
    "duration": 12,
    "start_time": "2022-12-26T12:11:14.595Z"
   },
   {
    "duration": 14,
    "start_time": "2022-12-26T12:11:14.608Z"
   },
   {
    "duration": 4,
    "start_time": "2022-12-26T12:11:14.624Z"
   },
   {
    "duration": 52,
    "start_time": "2022-12-26T12:11:14.630Z"
   },
   {
    "duration": 14,
    "start_time": "2022-12-26T12:11:14.684Z"
   },
   {
    "duration": 1501,
    "start_time": "2022-12-26T12:11:14.700Z"
   },
   {
    "duration": 1502,
    "start_time": "2022-12-26T12:11:16.203Z"
   },
   {
    "duration": 1620,
    "start_time": "2022-12-26T12:11:17.707Z"
   },
   {
    "duration": 10,
    "start_time": "2022-12-27T09:37:01.393Z"
   },
   {
    "duration": 1520,
    "start_time": "2022-12-27T09:37:08.093Z"
   },
   {
    "duration": 945,
    "start_time": "2022-12-27T09:37:10.345Z"
   },
   {
    "duration": 16,
    "start_time": "2022-12-27T09:37:12.555Z"
   },
   {
    "duration": 38,
    "start_time": "2022-12-27T09:37:15.380Z"
   },
   {
    "duration": 1056,
    "start_time": "2022-12-27T09:37:18.348Z"
   },
   {
    "duration": 5,
    "start_time": "2022-12-27T09:37:22.536Z"
   },
   {
    "duration": 13,
    "start_time": "2022-12-27T09:37:25.134Z"
   },
   {
    "duration": 54,
    "start_time": "2022-12-27T09:37:27.537Z"
   },
   {
    "duration": 4,
    "start_time": "2022-12-27T09:37:30.020Z"
   },
   {
    "duration": 364,
    "start_time": "2022-12-27T09:37:32.088Z"
   },
   {
    "duration": 166,
    "start_time": "2022-12-27T09:39:20.733Z"
   },
   {
    "duration": 191,
    "start_time": "2022-12-27T09:40:18.809Z"
   },
   {
    "duration": 135,
    "start_time": "2022-12-27T09:40:33.064Z"
   },
   {
    "duration": 108,
    "start_time": "2022-12-27T09:43:08.499Z"
   },
   {
    "duration": 11,
    "start_time": "2022-12-27T09:43:18.631Z"
   },
   {
    "duration": 4,
    "start_time": "2022-12-27T09:43:21.974Z"
   },
   {
    "duration": 133,
    "start_time": "2022-12-27T09:43:24.464Z"
   },
   {
    "duration": 16,
    "start_time": "2022-12-27T09:43:30.660Z"
   },
   {
    "duration": 15,
    "start_time": "2022-12-27T09:43:32.626Z"
   },
   {
    "duration": 15,
    "start_time": "2022-12-27T09:43:35.594Z"
   },
   {
    "duration": 3,
    "start_time": "2022-12-27T09:45:06.220Z"
   },
   {
    "duration": 3,
    "start_time": "2022-12-27T09:45:07.768Z"
   },
   {
    "duration": 3,
    "start_time": "2022-12-27T09:45:22.719Z"
   },
   {
    "duration": 4,
    "start_time": "2022-12-27T09:45:31.244Z"
   },
   {
    "duration": 9,
    "start_time": "2022-12-27T09:46:04.765Z"
   },
   {
    "duration": 4,
    "start_time": "2022-12-27T09:46:08.968Z"
   },
   {
    "duration": 6,
    "start_time": "2022-12-27T09:46:54.781Z"
   },
   {
    "duration": 3,
    "start_time": "2022-12-27T09:47:20.520Z"
   },
   {
    "duration": 16,
    "start_time": "2022-12-27T09:47:24.248Z"
   },
   {
    "duration": 3,
    "start_time": "2022-12-27T09:48:46.641Z"
   },
   {
    "duration": 3,
    "start_time": "2022-12-27T09:50:51.687Z"
   },
   {
    "duration": 5,
    "start_time": "2022-12-27T09:51:02.918Z"
   },
   {
    "duration": 8,
    "start_time": "2022-12-27T09:51:10.101Z"
   },
   {
    "duration": 3,
    "start_time": "2022-12-27T09:51:13.858Z"
   },
   {
    "duration": 1485,
    "start_time": "2022-12-27T09:51:16.697Z"
   },
   {
    "duration": 1464,
    "start_time": "2022-12-27T09:51:20.559Z"
   },
   {
    "duration": 1496,
    "start_time": "2022-12-27T09:51:24.401Z"
   }
  ],
  "kernelspec": {
   "display_name": "Python 3 (ipykernel)",
   "language": "python",
   "name": "python3"
  },
  "language_info": {
   "codemirror_mode": {
    "name": "ipython",
    "version": 3
   },
   "file_extension": ".py",
   "mimetype": "text/x-python",
   "name": "python",
   "nbconvert_exporter": "python",
   "pygments_lexer": "ipython3",
   "version": "3.9.5"
  },
  "toc": {
   "base_numbering": 1,
   "nav_menu": {},
   "number_sections": true,
   "sideBar": true,
   "skip_h1_title": true,
   "title_cell": "Table of Contents",
   "title_sidebar": "Contents",
   "toc_cell": false,
   "toc_position": {},
   "toc_section_display": true,
   "toc_window_display": false
  }
 },
 "nbformat": 4,
 "nbformat_minor": 2
}
