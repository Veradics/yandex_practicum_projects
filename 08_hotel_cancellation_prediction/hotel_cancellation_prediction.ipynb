{
 "cells": [
  {
   "cell_type": "markdown",
   "metadata": {},
   "source": [
    "<div style=\"border:solid green 2px; padding: 20px\">\n",
    "Светлана, привет и хорошего дня! <br>\n",
    "Меня зовут Сергей Дроздов, и я буду проверять твой проект. Предлагаю общаться на «ты». Если тебе удобнее общаться на \"Вы\", просто дай знать. \n",
    "\n",
    "Ты уже проделал большую работу над проектом, но давай сделаем его еще лучше. Ниже ты найдешь мои комментарии - пожалуйста, не перемещай, не изменяй и не удаляй их. Я буду использовать цветовую разметку:\n",
    "\n",
    "<div class=\"alert alert-danger\">\n",
    "<b>Комментарий ревьюера: &#10060; </b> Так будут выделены комментарии с указаниями, обязательными к выполнению. Без их выполнения проект не будет принят. </div>\n",
    "\n",
    "<div class=\"alert alert-warning\">\n",
    "<b>Комментарий ревьюера:\n",
    "&#9888;</b> Так будут выделены некритичные замечания. Их отработка позволит улучшить качество твоего проекта.\n",
    "</div>\n",
    "\n",
    "<div class=\"alert alert-success\">\n",
    "<b>Комментарий ревьюера:\n",
    "&#9989;</b> Так будут выделены остальные комментарии, полезные лайфхаки и ссылки на сторонние ресурсы </div>\n",
    "\n",
    "Для наиболее эффективной и оперативной работы над проектом, мне хотелось бы иметь обратную связь. Не стесняйся задавать вопросы. Если ты что-либо меняешь в проекте, пожалуйста, комментируй это. Мне будет легче отследить изменения, если ты выделишь свои комментарии:\n",
    "<div class=\"alert alert-info\"> <b>Комментарий студента:</b> Например вот так</div>"
   ]
  },
  {
   "cell_type": "markdown",
   "metadata": {},
   "source": [
    "# Прогнозирование оттока клиентов в сети отелей «Как в гостях»"
   ]
  },
  {
   "cell_type": "markdown",
   "metadata": {},
   "source": [
    "**Заказчик** — сеть отелей «Как в гостях». Чтобы привлечь клиентов, эта сеть отелей добавила на свой сайт возможность забронировать номер без предоплаты. Однако если клиент отменял бронирование, то компания терпела убытки. Сотрудники отеля могли, например, закупить продукты к приезду гостя или просто не успеть найти другого клиента.\n",
    "\n",
    "**Цель данного исследования**: разработать систему, которая предсказывает отказ от брони. Если модель покажет, что бронь будет отменена, то клиенту предложат внести депозит (размер депозита — 80% от стоимости номера за одни сутки и затрат на разовую уборку). Деньги будут списаны со счёта клиента, если он всё же отменит бронь. \n",
    "\n",
    "На разработку системы прогнозирования заложен **бюджет** — 400 000. При этом необходимо учесть, что внедрение модели должно окупиться за тестовый период. Затраты на разработку должны быть меньше той выручки, которую система принесёт компании.\n",
    "\n",
    "**Ход работы**:\n",
    "1. [Предобработка и EDA](#preprocessing)\n",
    "2. [Оценка прибыли отеля](#profit)\n",
    "3. [Разработка ML модели](#ml_model)\n",
    "4. [Описание \"ненадежного\" клиента](#client)\n",
    "5. [Выводы](#conclusion)"
   ]
  },
  {
   "cell_type": "markdown",
   "metadata": {},
   "source": [
    "<div class=\"alert alert-success\">\n",
    "<b>Комментарий ревьюера:\n",
    "&#9989;</b> Отлично! </div>"
   ]
  },
  {
   "cell_type": "markdown",
   "metadata": {},
   "source": [
    "<a id=\"preprocessing\"></a>\n",
    "### Шаг 1. Откройте файлы с данными"
   ]
  },
  {
   "cell_type": "code",
   "execution_count": 1,
   "metadata": {},
   "outputs": [],
   "source": [
    "# доп.библиотеки\n",
    "!pip install imbalanced-learn -q"
   ]
  },
  {
   "cell_type": "code",
   "execution_count": 2,
   "metadata": {},
   "outputs": [],
   "source": [
    "# импорты\n",
    "import pandas as pd\n",
    "import matplotlib.pyplot as plt\n",
    "\n",
    "from sklearn.preprocessing import StandardScaler, OneHotEncoder\n",
    "from imblearn.over_sampling import SMOTE\n",
    "from sklearn.ensemble import RandomForestClassifier\n",
    "from sklearn.linear_model import LogisticRegression\n",
    "from sklearn.model_selection import cross_val_score\n",
    "from sklearn.metrics import recall_score\n",
    "\n",
    "import warnings\n",
    "warnings.filterwarnings(\"ignore\")"
   ]
  },
  {
   "cell_type": "code",
   "execution_count": 3,
   "metadata": {},
   "outputs": [],
   "source": [
    "# данные для обучения модели\n",
    "train_data = pd.read_csv('/datasets/hotel_train.csv')\n",
    "# данные для тестирования модели\n",
    "test_data = pd.read_csv('/datasets/hotel_test.csv')"
   ]
  },
  {
   "cell_type": "markdown",
   "metadata": {},
   "source": [
    "<div class=\"alert alert-success\">\n",
    "<b>Комментарий ревьюера:\n",
    "&#9989;</b> Ок, данные на базе! </div>"
   ]
  },
  {
   "cell_type": "code",
   "execution_count": 4,
   "metadata": {},
   "outputs": [
    {
     "data": {
      "text/html": [
       "<div>\n",
       "<style scoped>\n",
       "    .dataframe tbody tr th:only-of-type {\n",
       "        vertical-align: middle;\n",
       "    }\n",
       "\n",
       "    .dataframe tbody tr th {\n",
       "        vertical-align: top;\n",
       "    }\n",
       "\n",
       "    .dataframe thead th {\n",
       "        text-align: right;\n",
       "    }\n",
       "</style>\n",
       "<table border=\"1\" class=\"dataframe\">\n",
       "  <thead>\n",
       "    <tr style=\"text-align: right;\">\n",
       "      <th></th>\n",
       "      <th>id</th>\n",
       "      <th>is_canceled</th>\n",
       "      <th>lead_time</th>\n",
       "      <th>arrival_date_year</th>\n",
       "      <th>arrival_date_month</th>\n",
       "      <th>arrival_date_week_number</th>\n",
       "      <th>arrival_date_day_of_month</th>\n",
       "      <th>stays_in_weekend_nights</th>\n",
       "      <th>stays_in_week_nights</th>\n",
       "      <th>adults</th>\n",
       "      <th>...</th>\n",
       "      <th>is_repeated_guest</th>\n",
       "      <th>previous_cancellations</th>\n",
       "      <th>previous_bookings_not_canceled</th>\n",
       "      <th>reserved_room_type</th>\n",
       "      <th>booking_changes</th>\n",
       "      <th>days_in_waiting_list</th>\n",
       "      <th>customer_type</th>\n",
       "      <th>required_car_parking_spaces</th>\n",
       "      <th>total_of_special_requests</th>\n",
       "      <th>total_nights</th>\n",
       "    </tr>\n",
       "  </thead>\n",
       "  <tbody>\n",
       "    <tr>\n",
       "      <th>0</th>\n",
       "      <td>0</td>\n",
       "      <td>0</td>\n",
       "      <td>7.0</td>\n",
       "      <td>2015</td>\n",
       "      <td>July</td>\n",
       "      <td>27</td>\n",
       "      <td>1</td>\n",
       "      <td>0</td>\n",
       "      <td>1</td>\n",
       "      <td>1.0</td>\n",
       "      <td>...</td>\n",
       "      <td>0</td>\n",
       "      <td>0</td>\n",
       "      <td>0</td>\n",
       "      <td>A</td>\n",
       "      <td>0</td>\n",
       "      <td>0</td>\n",
       "      <td>Transient</td>\n",
       "      <td>0</td>\n",
       "      <td>0</td>\n",
       "      <td>1</td>\n",
       "    </tr>\n",
       "    <tr>\n",
       "      <th>1</th>\n",
       "      <td>1</td>\n",
       "      <td>0</td>\n",
       "      <td>14.0</td>\n",
       "      <td>2015</td>\n",
       "      <td>July</td>\n",
       "      <td>27</td>\n",
       "      <td>1</td>\n",
       "      <td>0</td>\n",
       "      <td>2</td>\n",
       "      <td>2.0</td>\n",
       "      <td>...</td>\n",
       "      <td>0</td>\n",
       "      <td>0</td>\n",
       "      <td>0</td>\n",
       "      <td>A</td>\n",
       "      <td>0</td>\n",
       "      <td>0</td>\n",
       "      <td>Transient</td>\n",
       "      <td>0</td>\n",
       "      <td>1</td>\n",
       "      <td>2</td>\n",
       "    </tr>\n",
       "    <tr>\n",
       "      <th>2</th>\n",
       "      <td>2</td>\n",
       "      <td>0</td>\n",
       "      <td>0.0</td>\n",
       "      <td>2015</td>\n",
       "      <td>July</td>\n",
       "      <td>27</td>\n",
       "      <td>1</td>\n",
       "      <td>0</td>\n",
       "      <td>2</td>\n",
       "      <td>2.0</td>\n",
       "      <td>...</td>\n",
       "      <td>0</td>\n",
       "      <td>0</td>\n",
       "      <td>0</td>\n",
       "      <td>C</td>\n",
       "      <td>0</td>\n",
       "      <td>0</td>\n",
       "      <td>Transient</td>\n",
       "      <td>0</td>\n",
       "      <td>0</td>\n",
       "      <td>2</td>\n",
       "    </tr>\n",
       "    <tr>\n",
       "      <th>3</th>\n",
       "      <td>3</td>\n",
       "      <td>0</td>\n",
       "      <td>9.0</td>\n",
       "      <td>2015</td>\n",
       "      <td>July</td>\n",
       "      <td>27</td>\n",
       "      <td>1</td>\n",
       "      <td>0</td>\n",
       "      <td>2</td>\n",
       "      <td>2.0</td>\n",
       "      <td>...</td>\n",
       "      <td>0</td>\n",
       "      <td>0</td>\n",
       "      <td>0</td>\n",
       "      <td>C</td>\n",
       "      <td>0</td>\n",
       "      <td>0</td>\n",
       "      <td>Transient</td>\n",
       "      <td>0</td>\n",
       "      <td>1</td>\n",
       "      <td>2</td>\n",
       "    </tr>\n",
       "    <tr>\n",
       "      <th>4</th>\n",
       "      <td>4</td>\n",
       "      <td>1</td>\n",
       "      <td>85.0</td>\n",
       "      <td>2015</td>\n",
       "      <td>July</td>\n",
       "      <td>27</td>\n",
       "      <td>1</td>\n",
       "      <td>0</td>\n",
       "      <td>3</td>\n",
       "      <td>2.0</td>\n",
       "      <td>...</td>\n",
       "      <td>0</td>\n",
       "      <td>0</td>\n",
       "      <td>0</td>\n",
       "      <td>A</td>\n",
       "      <td>0</td>\n",
       "      <td>0</td>\n",
       "      <td>Transient</td>\n",
       "      <td>0</td>\n",
       "      <td>1</td>\n",
       "      <td>3</td>\n",
       "    </tr>\n",
       "  </tbody>\n",
       "</table>\n",
       "<p>5 rows × 25 columns</p>\n",
       "</div>"
      ],
      "text/plain": [
       "   id  is_canceled  lead_time  arrival_date_year arrival_date_month  \\\n",
       "0   0            0        7.0               2015               July   \n",
       "1   1            0       14.0               2015               July   \n",
       "2   2            0        0.0               2015               July   \n",
       "3   3            0        9.0               2015               July   \n",
       "4   4            1       85.0               2015               July   \n",
       "\n",
       "   arrival_date_week_number  arrival_date_day_of_month  \\\n",
       "0                        27                          1   \n",
       "1                        27                          1   \n",
       "2                        27                          1   \n",
       "3                        27                          1   \n",
       "4                        27                          1   \n",
       "\n",
       "   stays_in_weekend_nights  stays_in_week_nights  adults  ...  \\\n",
       "0                        0                     1     1.0  ...   \n",
       "1                        0                     2     2.0  ...   \n",
       "2                        0                     2     2.0  ...   \n",
       "3                        0                     2     2.0  ...   \n",
       "4                        0                     3     2.0  ...   \n",
       "\n",
       "   is_repeated_guest  previous_cancellations previous_bookings_not_canceled  \\\n",
       "0                  0                       0                              0   \n",
       "1                  0                       0                              0   \n",
       "2                  0                       0                              0   \n",
       "3                  0                       0                              0   \n",
       "4                  0                       0                              0   \n",
       "\n",
       "  reserved_room_type booking_changes  days_in_waiting_list  customer_type  \\\n",
       "0   A                              0                     0      Transient   \n",
       "1   A                              0                     0      Transient   \n",
       "2   C                              0                     0      Transient   \n",
       "3   C                              0                     0      Transient   \n",
       "4   A                              0                     0      Transient   \n",
       "\n",
       "   required_car_parking_spaces total_of_special_requests  total_nights  \n",
       "0                            0                         0             1  \n",
       "1                            0                         1             2  \n",
       "2                            0                         0             2  \n",
       "3                            0                         1             2  \n",
       "4                            0                         1             3  \n",
       "\n",
       "[5 rows x 25 columns]"
      ]
     },
     "execution_count": 4,
     "metadata": {},
     "output_type": "execute_result"
    }
   ],
   "source": [
    "train_data.head()"
   ]
  },
  {
   "cell_type": "markdown",
   "metadata": {},
   "source": [
    "**Описание данных:**\n",
    "\n",
    "В таблицах *hotel_train* и *hotel_test* содержатся одинаковые столбцы:\n",
    "- `id` — номер записи;\n",
    "- `adults`  — количество взрослых постояльцев;\n",
    "- `arrival_date_year` — год заезда;\n",
    "- `arrival_date_month` — месяц заезда;\n",
    "- `arrival_date_week_number` — неделя заезда;\n",
    "- `arrival_date_day_of_month` — день заезда;\n",
    "- `babies` — количество младенцев;\n",
    "- `booking_changes` — количество изменений параметров заказа;\n",
    "- `children` — количество детей от 3 до 14 лет;\n",
    "- `country` — гражданство постояльца;\n",
    "- `customer_type`  — тип заказчика:\n",
    "    - *Contract* — договор с юридическим лицом;\n",
    "    - *Group* — групповой заезд;\n",
    "    - *Transient* — не связано с договором или групповым заездом;\n",
    "    - *Transient-party* — не связано с договором или групповым заездом, но связано с бронированием типа Transient.\n",
    "- `days_in_waiting_list` — сколько дней заказ ожидал подтверждения;\n",
    "- `distribution_channel` — канал дистрибуции заказа;\n",
    "- `is_canceled` — отмена заказа;\n",
    "- `is_repeated_guest` — признак того, что гость бронирует номер второй раз;\n",
    "- `lead_time` — количество дней между датой бронирования и датой прибытия;\n",
    "- `meal` — опции заказа:\n",
    "    - *SC* — нет дополнительных опций;\n",
    "    - *BB* — включён завтрак;\n",
    "    - *HB* — включён завтрак и обед;\n",
    "    - *FB* — включён завтрак, обед и ужин.\n",
    "- `previous_bookings_not_canceled` — количество подтверждённых заказов у клиента;\n",
    "- `previous_cancellations` — количество отменённых заказов у клиента;\n",
    "- `required_car_parking_spaces` — необходимость места для автомобиля;\n",
    "- `reserved_room_type`  — тип забронированной комнаты;\n",
    "- `stays_in_weekend_nights` — количество ночей в выходные дни;\n",
    "- `stays_in_week_nights` — количество ночей в будние дни;\n",
    "- `total_nights` — общее количество ночей;\n",
    "- `total_of_special_requests` — количество специальных отметок."
   ]
  },
  {
   "cell_type": "markdown",
   "metadata": {},
   "source": [
    "<a id=\"preprocessing\"></a>\n",
    "### Шаг 2. Предобработка и исследовательский анализ данных"
   ]
  },
  {
   "cell_type": "code",
   "execution_count": 5,
   "metadata": {},
   "outputs": [
    {
     "name": "stdout",
     "output_type": "stream",
     "text": [
      "<class 'pandas.core.frame.DataFrame'>\n",
      "RangeIndex: 65229 entries, 0 to 65228\n",
      "Data columns (total 25 columns):\n",
      " #   Column                          Non-Null Count  Dtype  \n",
      "---  ------                          --------------  -----  \n",
      " 0   id                              65229 non-null  int64  \n",
      " 1   is_canceled                     65229 non-null  int64  \n",
      " 2   lead_time                       65229 non-null  float64\n",
      " 3   arrival_date_year               65229 non-null  int64  \n",
      " 4   arrival_date_month              65229 non-null  object \n",
      " 5   arrival_date_week_number        65229 non-null  int64  \n",
      " 6   arrival_date_day_of_month       65229 non-null  int64  \n",
      " 7   stays_in_weekend_nights         65229 non-null  int64  \n",
      " 8   stays_in_week_nights            65229 non-null  int64  \n",
      " 9   adults                          65229 non-null  float64\n",
      " 10  children                        65229 non-null  float64\n",
      " 11  babies                          65229 non-null  float64\n",
      " 12  meal                            65229 non-null  object \n",
      " 13  country                         65229 non-null  object \n",
      " 14  distribution_channel            65229 non-null  object \n",
      " 15  is_repeated_guest               65229 non-null  int64  \n",
      " 16  previous_cancellations          65229 non-null  int64  \n",
      " 17  previous_bookings_not_canceled  65229 non-null  int64  \n",
      " 18  reserved_room_type              65229 non-null  object \n",
      " 19  booking_changes                 65229 non-null  int64  \n",
      " 20  days_in_waiting_list            65229 non-null  int64  \n",
      " 21  customer_type                   65229 non-null  object \n",
      " 22  required_car_parking_spaces     65229 non-null  int64  \n",
      " 23  total_of_special_requests       65229 non-null  int64  \n",
      " 24  total_nights                    65229 non-null  int64  \n",
      "dtypes: float64(4), int64(15), object(6)\n",
      "memory usage: 12.4+ MB\n"
     ]
    }
   ],
   "source": [
    "train_data.info()"
   ]
  },
  {
   "cell_type": "code",
   "execution_count": 6,
   "metadata": {},
   "outputs": [
    {
     "name": "stdout",
     "output_type": "stream",
     "text": [
      "<class 'pandas.core.frame.DataFrame'>\n",
      "RangeIndex: 32412 entries, 0 to 32411\n",
      "Data columns (total 25 columns):\n",
      " #   Column                          Non-Null Count  Dtype  \n",
      "---  ------                          --------------  -----  \n",
      " 0   id                              32412 non-null  int64  \n",
      " 1   is_canceled                     32412 non-null  int64  \n",
      " 2   lead_time                       32412 non-null  float64\n",
      " 3   arrival_date_year               32412 non-null  int64  \n",
      " 4   arrival_date_month              32412 non-null  object \n",
      " 5   arrival_date_week_number        32412 non-null  int64  \n",
      " 6   arrival_date_day_of_month       32412 non-null  int64  \n",
      " 7   stays_in_weekend_nights         32412 non-null  int64  \n",
      " 8   stays_in_week_nights            32412 non-null  int64  \n",
      " 9   adults                          32412 non-null  float64\n",
      " 10  children                        32412 non-null  float64\n",
      " 11  babies                          32412 non-null  float64\n",
      " 12  meal                            32412 non-null  object \n",
      " 13  country                         32412 non-null  object \n",
      " 14  distribution_channel            32412 non-null  object \n",
      " 15  is_repeated_guest               32412 non-null  int64  \n",
      " 16  previous_cancellations          32412 non-null  int64  \n",
      " 17  previous_bookings_not_canceled  32412 non-null  int64  \n",
      " 18  reserved_room_type              32412 non-null  object \n",
      " 19  booking_changes                 32412 non-null  int64  \n",
      " 20  days_in_waiting_list            32412 non-null  int64  \n",
      " 21  customer_type                   32412 non-null  object \n",
      " 22  required_car_parking_spaces     32412 non-null  int64  \n",
      " 23  total_of_special_requests       32412 non-null  int64  \n",
      " 24  total_nights                    32412 non-null  int64  \n",
      "dtypes: float64(4), int64(15), object(6)\n",
      "memory usage: 6.2+ MB\n"
     ]
    }
   ],
   "source": [
    "test_data.info()"
   ]
  },
  {
   "cell_type": "markdown",
   "metadata": {},
   "source": [
    "Пропусков ни в датасете для обучения, ни в датасете для финального тестирования модели не наблюдается. При этом, объем второго датасета примерно в два раза меньше. Количество столбцов совпадает."
   ]
  },
  {
   "cell_type": "markdown",
   "metadata": {},
   "source": [
    "<div class=\"alert alert-success\">\n",
    "<b>Комментарий ревьюера:\n",
    "&#9989;</b> Отлично! </div>"
   ]
  },
  {
   "cell_type": "code",
   "execution_count": 7,
   "metadata": {},
   "outputs": [
    {
     "data": {
      "image/png": "[encoded data removed]",
      "text/plain": [
       "<Figure size 1080x1080 with 20 Axes>"
      ]
     },
     "metadata": {
      "needs_background": "light"
     },
     "output_type": "display_data"
    }
   ],
   "source": [
    "# гистограммы численных признаков\n",
    "train_data.hist(figsize=(15, 15))\n",
    "plt.show()"
   ]
  },
  {
   "cell_type": "markdown",
   "metadata": {},
   "source": [
    "Среди численных признаков можно выделить два бинарных: *is_canceled* (целевая переменная!) и *is_repeated_quest*. Остальные же из перечисленных должны относиться к целочисленному типу. Несоответствие наблюдается только для *lead_time*, *adults*, *children*, *babies*."
   ]
  },
  {
   "cell_type": "markdown",
   "metadata": {},
   "source": [
    "<div class=\"alert alert-success\">\n",
    "<b>Комментарий ревьюера:\n",
    "&#9989;</b> Хорошо! </div>"
   ]
  },
  {
   "cell_type": "code",
   "execution_count": 8,
   "metadata": {},
   "outputs": [],
   "source": [
    "numeric = ['lead_time', 'adults', 'children', 'babies']\n",
    "\n",
    "train_data[numeric] = train_data[numeric].astype(int)\n",
    "test_data[numeric] = test_data[numeric].astype(int)"
   ]
  },
  {
   "cell_type": "code",
   "execution_count": 9,
   "metadata": {},
   "outputs": [
    {
     "data": {
      "image/png": "[encoded data removed]",
      "text/plain": [
       "<Figure size 432x288 with 1 Axes>"
      ]
     },
     "metadata": {
      "needs_background": "light"
     },
     "output_type": "display_data"
    },
    {
     "data": {
      "image/png": "[encoded data removed]",
      "text/plain": [
       "<Figure size 432x288 with 1 Axes>"
      ]
     },
     "metadata": {
      "needs_background": "light"
     },
     "output_type": "display_data"
    },
    {
     "data": {
      "image/png": "[encoded data removed]",
      "text/plain": [
       "<Figure size 432x288 with 1 Axes>"
      ]
     },
     "metadata": {
      "needs_background": "light"
     },
     "output_type": "display_data"
    },
    {
     "data": {
      "image/png": "[encoded data removed]",
      "text/plain": [
       "<Figure size 432x288 with 1 Axes>"
      ]
     },
     "metadata": {
      "needs_background": "light"
     },
     "output_type": "display_data"
    }
   ],
   "source": [
    "# \"ящик с усами\" для подозрительных признаков\n",
    "train_data.boxplot('previous_cancellations')\n",
    "plt.show()\n",
    "\n",
    "train_data.boxplot('previous_bookings_not_canceled')\n",
    "plt.show()\n",
    "\n",
    "train_data.boxplot('booking_changes')\n",
    "plt.show()\n",
    "\n",
    "train_data.boxplot('days_in_waiting_list')\n",
    "plt.show()"
   ]
  },
  {
   "cell_type": "markdown",
   "metadata": {},
   "source": [
    "Распределения численных признаков тоже выглядят логично. В столбцах *previious_cancellations*, *previous_booking_not_canceled*, *booking_changes* и *days_in_wayting_list* встречаются редкие значения, отдаленные от 0, однако, они выглядят реалистично и, возможно, будут полезны для вычислений модели. Удалять их не будем. А вот 9-10 младенцев в семье (столбец *babies*) - уже подозрительно."
   ]
  },
  {
   "cell_type": "markdown",
   "metadata": {},
   "source": [
    "<div class=\"alert alert-success\">\n",
    "<b>Комментарий ревьюера:\n",
    "&#9989;</b> Отлично! </div>"
   ]
  },
  {
   "cell_type": "code",
   "execution_count": 10,
   "metadata": {},
   "outputs": [
    {
     "data": {
      "text/plain": [
       "0     64777\n",
       "1       447\n",
       "2         3\n",
       "9         1\n",
       "10        1\n",
       "Name: babies, dtype: int64"
      ]
     },
     "execution_count": 10,
     "metadata": {},
     "output_type": "execute_result"
    }
   ],
   "source": [
    "train_data['babies'].value_counts()"
   ]
  },
  {
   "cell_type": "markdown",
   "metadata": {},
   "source": [
    "9-10 маленьких детей у постояльцев - это всего 2 случая в тренировочном датафрейме. Однозначно, это выбросы. Удаляем."
   ]
  },
  {
   "cell_type": "code",
   "execution_count": 11,
   "metadata": {},
   "outputs": [],
   "source": [
    "train_data = train_data.loc[train_data['babies'] < 9]"
   ]
  },
  {
   "cell_type": "markdown",
   "metadata": {},
   "source": [
    "<div class=\"alert alert-success\">\n",
    "<b>Комментарий ревьюера:\n",
    "&#9989;</b> Отлично! </div>"
   ]
  },
  {
   "cell_type": "markdown",
   "metadata": {},
   "source": [
    "Данные с нулевым количеством взрослых будем считать некорректными, поскольку дети забронировать номер без взрослых не могут и в номере обязательно должен жить хотя бы один человек."
   ]
  },
  {
   "cell_type": "code",
   "execution_count": 12,
   "metadata": {},
   "outputs": [
    {
     "data": {
      "text/plain": [
       "166"
      ]
     },
     "execution_count": 12,
     "metadata": {},
     "output_type": "execute_result"
    }
   ],
   "source": [
    "# строк с нулевым количеством взрослых\n",
    "train_data.query('adults == 0')['adults'].count()"
   ]
  },
  {
   "cell_type": "markdown",
   "metadata": {},
   "source": [
    "<div class=\"alert alert-success\">\n",
    "<b>Комментарий ревьюера:\n",
    "&#9989;</b> Супер! </div>"
   ]
  },
  {
   "cell_type": "code",
   "execution_count": 13,
   "metadata": {},
   "outputs": [],
   "source": [
    "train_data = train_data.loc[train_data['adults'] != 0]"
   ]
  },
  {
   "cell_type": "markdown",
   "metadata": {},
   "source": [
    "Также в датафрейме имеется числовой столбец, содержащий суммарное количество ночей. Логичным является предположение, что он будет содержать сумму столбцов с количеством ночей в будние дни и в выходные. Проверим."
   ]
  },
  {
   "cell_type": "code",
   "execution_count": 14,
   "metadata": {},
   "outputs": [
    {
     "data": {
      "text/html": [
       "<div>\n",
       "<style scoped>\n",
       "    .dataframe tbody tr th:only-of-type {\n",
       "        vertical-align: middle;\n",
       "    }\n",
       "\n",
       "    .dataframe tbody tr th {\n",
       "        vertical-align: top;\n",
       "    }\n",
       "\n",
       "    .dataframe thead th {\n",
       "        text-align: right;\n",
       "    }\n",
       "</style>\n",
       "<table border=\"1\" class=\"dataframe\">\n",
       "  <thead>\n",
       "    <tr style=\"text-align: right;\">\n",
       "      <th></th>\n",
       "      <th>id</th>\n",
       "      <th>is_canceled</th>\n",
       "      <th>lead_time</th>\n",
       "      <th>arrival_date_year</th>\n",
       "      <th>arrival_date_month</th>\n",
       "      <th>arrival_date_week_number</th>\n",
       "      <th>arrival_date_day_of_month</th>\n",
       "      <th>stays_in_weekend_nights</th>\n",
       "      <th>stays_in_week_nights</th>\n",
       "      <th>adults</th>\n",
       "      <th>...</th>\n",
       "      <th>is_repeated_guest</th>\n",
       "      <th>previous_cancellations</th>\n",
       "      <th>previous_bookings_not_canceled</th>\n",
       "      <th>reserved_room_type</th>\n",
       "      <th>booking_changes</th>\n",
       "      <th>days_in_waiting_list</th>\n",
       "      <th>customer_type</th>\n",
       "      <th>required_car_parking_spaces</th>\n",
       "      <th>total_of_special_requests</th>\n",
       "      <th>total_nights</th>\n",
       "    </tr>\n",
       "  </thead>\n",
       "  <tbody>\n",
       "  </tbody>\n",
       "</table>\n",
       "<p>0 rows × 25 columns</p>\n",
       "</div>"
      ],
      "text/plain": [
       "Empty DataFrame\n",
       "Columns: [id, is_canceled, lead_time, arrival_date_year, arrival_date_month, arrival_date_week_number, arrival_date_day_of_month, stays_in_weekend_nights, stays_in_week_nights, adults, children, babies, meal, country, distribution_channel, is_repeated_guest, previous_cancellations, previous_bookings_not_canceled, reserved_room_type, booking_changes, days_in_waiting_list, customer_type, required_car_parking_spaces, total_of_special_requests, total_nights]\n",
       "Index: []\n",
       "\n",
       "[0 rows x 25 columns]"
      ]
     },
     "execution_count": 14,
     "metadata": {},
     "output_type": "execute_result"
    }
   ],
   "source": [
    "train_data.query('total_nights != stays_in_weekend_nights + stays_in_week_nights')"
   ]
  },
  {
   "cell_type": "markdown",
   "metadata": {},
   "source": [
    "Это действительно так. Поскольку признак является производным от двух других, его также можно удалить из датафрейма."
   ]
  },
  {
   "cell_type": "markdown",
   "metadata": {},
   "source": [
    "<div class=\"alert alert-success\">\n",
    "<b>Комментарий ревьюера:\n",
    "&#9989;</b> Отлично! </div>"
   ]
  },
  {
   "cell_type": "code",
   "execution_count": 15,
   "metadata": {},
   "outputs": [],
   "source": [
    "train_data.drop('total_nights', axis=1, inplace=True)\n",
    "test_data.drop('total_nights', axis=1, inplace=True)"
   ]
  },
  {
   "cell_type": "markdown",
   "metadata": {},
   "source": [
    "Оставшиеся столбцы *arrival_date_month*, *customer_type*, *distribution_channel*, *meal*, *reserved_room_type*, *country* относятся к категориальным. Проверим значения в них на неявные дубликаты."
   ]
  },
  {
   "cell_type": "code",
   "execution_count": 16,
   "metadata": {},
   "outputs": [
    {
     "data": {
      "text/plain": [
       "array(['July', 'August', 'September', 'October', 'November', 'December',\n",
       "       'January', 'February', 'March', 'April', 'May', 'June'],\n",
       "      dtype=object)"
      ]
     },
     "execution_count": 16,
     "metadata": {},
     "output_type": "execute_result"
    }
   ],
   "source": [
    "train_data['arrival_date_month'].unique()"
   ]
  },
  {
   "cell_type": "code",
   "execution_count": 17,
   "metadata": {},
   "outputs": [
    {
     "data": {
      "text/plain": [
       "array(['Transient', 'Contract', 'Transient-Party', 'Group'], dtype=object)"
      ]
     },
     "execution_count": 17,
     "metadata": {},
     "output_type": "execute_result"
    }
   ],
   "source": [
    "train_data['customer_type'].unique()"
   ]
  },
  {
   "cell_type": "code",
   "execution_count": 18,
   "metadata": {},
   "outputs": [
    {
     "data": {
      "text/plain": [
       "array(['Direct', 'TA/TO', 'Corporate', 'GDS'], dtype=object)"
      ]
     },
     "execution_count": 18,
     "metadata": {},
     "output_type": "execute_result"
    }
   ],
   "source": [
    "train_data['distribution_channel'].unique()"
   ]
  },
  {
   "cell_type": "code",
   "execution_count": 19,
   "metadata": {},
   "outputs": [
    {
     "data": {
      "text/plain": [
       "array(['GBR', 'PRT', 'ESP', 'IRL', 'FRA', 'ROU', 'NOR', 'USA', 'DEU',\n",
       "       'BEL', 'CHE', 'CN', 'GRC', 'NLD', 'ARG', 'RUS', 'SWE', 'POL',\n",
       "       'EST', 'CZE', 'ITA', 'FIN', 'DNK', 'MOZ', 'BWA', 'LUX', 'BRA',\n",
       "       'SVN', 'ALB', 'CHN', 'MEX', 'MAR', 'SMR', 'LVA', 'CHL', 'AUT',\n",
       "       'LTU', 'TUR', 'ISR', 'IND', 'CYM', 'AUS', 'CPV', 'ZWE', 'DZA',\n",
       "       'KOR', 'CRI', 'HUN', 'TUN', 'ARE', 'HRV', 'HKG', 'IRN', 'GIB',\n",
       "       'JEY', 'URY', 'ZAF', 'COL', 'GGY', 'KWT', 'CYP', 'KAZ', 'THA',\n",
       "       'DOM', 'NGA', 'BLR', 'VEN', 'UKR', 'ARM', 'JPN', 'LKA', 'MYS',\n",
       "       'BIH', 'MUS', 'OMN', 'SUR', 'JAM', 'BGR', 'CIV', 'SRB', 'JOR',\n",
       "       'SYR', 'PHL', 'PRI', 'SGP', 'BDI', 'LBN', 'AGO', 'VNM', 'AZE',\n",
       "       'PLW', 'NZL', 'EGY', 'MDV', 'CMR', 'MLT', 'SVK', 'MWI', 'STP',\n",
       "       'TWN', 'IDN', 'SEN', 'PER', 'SAU', 'KNA', 'ETH', 'ECU', 'IRQ',\n",
       "       'AND', 'HND', 'PAK', 'GEO', 'ZMB', 'QAT', 'KHM', 'MCO', 'BGD',\n",
       "       'ISL', 'UZB', 'IMN', 'TJK', 'NIC', 'BEN', 'MAC', 'VGB', 'TZA',\n",
       "       'GAB', 'MKD', 'TMP', 'GLP', 'KEN', 'LIE', 'MMR', 'PAN', 'BFA',\n",
       "       'LBY', 'GNB', 'MLI', 'BHR', 'NAM', 'BOL', 'SYC', 'PRY', 'BRB',\n",
       "       'ABW', 'SLV', 'DMA', 'CUB', 'PYF', 'UGA', 'GUY', 'LCA', 'ATA',\n",
       "       'RWA', 'MNE'], dtype=object)"
      ]
     },
     "execution_count": 19,
     "metadata": {},
     "output_type": "execute_result"
    }
   ],
   "source": [
    "train_data['country'].unique()"
   ]
  },
  {
   "cell_type": "code",
   "execution_count": 20,
   "metadata": {},
   "outputs": [
    {
     "data": {
      "text/plain": [
       "array(['BB       ', 'FB       ', 'HB       ', 'SC       ', 'SC'],\n",
       "      dtype=object)"
      ]
     },
     "execution_count": 20,
     "metadata": {},
     "output_type": "execute_result"
    }
   ],
   "source": [
    "train_data['meal'].unique()"
   ]
  },
  {
   "cell_type": "code",
   "execution_count": 21,
   "metadata": {},
   "outputs": [
    {
     "data": {
      "text/plain": [
       "array(['A               ', 'C               ', 'D               ',\n",
       "       'E               ', 'G               ', 'F               ',\n",
       "       'B               '], dtype=object)"
      ]
     },
     "execution_count": 21,
     "metadata": {},
     "output_type": "execute_result"
    }
   ],
   "source": [
    "train_data['reserved_room_type'].unique()"
   ]
  },
  {
   "cell_type": "markdown",
   "metadata": {},
   "source": [
    "В столбце *country* очень много уникальных значений, однако, все они записаны в одном стиле. Гражданство может оказаться важным показателем, поэтому удалять его не будем.\n",
    "\n",
    "В последних двух столбцах значения кроме самого наименования категории содержат также некоторое количество пробелов. Для чистоты эксперимента лишние пробелы необходимо удалить."
   ]
  },
  {
   "cell_type": "markdown",
   "metadata": {},
   "source": [
    "<div class=\"alert alert-success\">\n",
    "<b>Комментарий ревьюера:\n",
    "&#9989;</b> Отлично! </div>"
   ]
  },
  {
   "cell_type": "code",
   "execution_count": 22,
   "metadata": {},
   "outputs": [
    {
     "data": {
      "text/plain": [
       "(array(['BB', 'FB', 'HB', 'SC'], dtype=object),\n",
       " array(['BB', 'HB', 'SC', 'FB'], dtype=object))"
      ]
     },
     "execution_count": 22,
     "metadata": {},
     "output_type": "execute_result"
    }
   ],
   "source": [
    "train_data['meal'] = train_data['meal'].str.strip()\n",
    "test_data['meal'] = test_data['meal'].str.strip()\n",
    "\n",
    "train_data['meal'].unique(), test_data['meal'].unique()"
   ]
  },
  {
   "cell_type": "code",
   "execution_count": 23,
   "metadata": {},
   "outputs": [
    {
     "data": {
      "text/plain": [
       "(array(['A', 'C', 'D', 'E', 'G', 'F', 'B'], dtype=object),\n",
       " array(['A', 'E', 'G', 'D', 'F', 'C', 'B'], dtype=object))"
      ]
     },
     "execution_count": 23,
     "metadata": {},
     "output_type": "execute_result"
    }
   ],
   "source": [
    "train_data['reserved_room_type'] = train_data['reserved_room_type'].str.strip()\n",
    "test_data['reserved_room_type'] = test_data['reserved_room_type'].str.strip()\n",
    "\n",
    "train_data['reserved_room_type'].unique(), test_data['reserved_room_type'].unique()"
   ]
  },
  {
   "cell_type": "markdown",
   "metadata": {},
   "source": [
    "Проверка на полные дубликаты:"
   ]
  },
  {
   "cell_type": "code",
   "execution_count": 24,
   "metadata": {},
   "outputs": [
    {
     "data": {
      "text/plain": [
       "(0, 0)"
      ]
     },
     "execution_count": 24,
     "metadata": {},
     "output_type": "execute_result"
    }
   ],
   "source": [
    "train_data.duplicated().sum(), test_data.duplicated().sum()"
   ]
  },
  {
   "cell_type": "markdown",
   "metadata": {},
   "source": [
    "Явных дубликатов не обнаружено. Однако они могут появиться при удалении столбца *id* (для обучения модели он ценности не представляет)."
   ]
  },
  {
   "cell_type": "markdown",
   "metadata": {},
   "source": [
    "<div class=\"alert alert-success\">\n",
    "<b>Комментарий ревьюера:\n",
    "&#9989;</b> Отлично! </div>"
   ]
  },
  {
   "cell_type": "code",
   "execution_count": 25,
   "metadata": {},
   "outputs": [],
   "source": [
    "train_data = train_data.drop('id', axis=1)\n",
    "test_data = test_data.drop('id', axis=1)"
   ]
  },
  {
   "cell_type": "code",
   "execution_count": 26,
   "metadata": {},
   "outputs": [
    {
     "data": {
      "text/plain": [
       "(21375, 7717)"
      ]
     },
     "execution_count": 26,
     "metadata": {},
     "output_type": "execute_result"
    }
   ],
   "source": [
    "# новая проверка на полные дубликаты\n",
    "train_data.duplicated().sum(), test_data.duplicated().sum()"
   ]
  },
  {
   "cell_type": "code",
   "execution_count": 27,
   "metadata": {},
   "outputs": [
    {
     "data": {
      "image/png": "[encoded data removed]",
      "text/plain": [
       "<Figure size 360x216 with 1 Axes>"
      ]
     },
     "metadata": {
      "needs_background": "light"
     },
     "output_type": "display_data"
    },
    {
     "data": {
      "image/png": "[encoded data removed]",
      "text/plain": [
       "<Figure size 360x216 with 1 Axes>"
      ]
     },
     "metadata": {
      "needs_background": "light"
     },
     "output_type": "display_data"
    }
   ],
   "source": [
    "train_data['is_canceled'].astype(str).hist(figsize=(5, 3), grid=False)\n",
    "plt.title('Текущий дисбаланс классов')\n",
    "plt.show()\n",
    "\n",
    "train_data[train_data.duplicated()]['is_canceled'].astype(str).hist(figsize=(5, 3), grid=False)\n",
    "plt.title('Дисбаланс классов в дублирующихся записях')\n",
    "plt.show()"
   ]
  },
  {
   "cell_type": "markdown",
   "metadata": {},
   "source": [
    "<div class=\"alert alert-success\">\n",
    "<b>Комментарий ревьюера:\n",
    "&#9989;</b> Отлично! </div>"
   ]
  },
  {
   "cell_type": "markdown",
   "metadata": {},
   "source": [
    "Повторяющиеся записи бесполезны, однако, составляют примерно треть всего датафрейма (!). К тому же, их удаление поспособствует уменьшению записей с положительным классом (дисбаланс классов станет более ярко выражен). Поэтому оставим их в наборе."
   ]
  },
  {
   "cell_type": "markdown",
   "metadata": {},
   "source": [
    "Поскольку модель будет использоваться для прогнозирования только новых бронирований, оставлять в датасете столбец с годом заезда не имеет смысла. Дату заезда и номер недели также следует удалить: день заезда на целевой признак не влияет, а распределение по номерам недель должно иллюстрировать ту же сезонность, что и распределение отмен по месяцам."
   ]
  },
  {
   "cell_type": "code",
   "execution_count": 28,
   "metadata": {},
   "outputs": [
    {
     "data": {
      "image/png": "[encoded data removed]",
      "text/plain": [
       "<Figure size 432x288 with 1 Axes>"
      ]
     },
     "metadata": {
      "needs_background": "light"
     },
     "output_type": "display_data"
    }
   ],
   "source": [
    "pd.crosstab(train_data.arrival_date_day_of_month, train_data.is_canceled).plot(kind='bar', xlabel='Число месяца')\n",
    "plt.title('Число отмен в разные числа месяца')\n",
    "plt.show()"
   ]
  },
  {
   "cell_type": "markdown",
   "metadata": {},
   "source": [
    "<div class=\"alert alert-success\">\n",
    "<b>Комментарий ревьюера:\n",
    "&#9989;</b> Отлично! </div>"
   ]
  },
  {
   "cell_type": "code",
   "execution_count": 29,
   "metadata": {},
   "outputs": [],
   "source": [
    "train_data = train_data.drop(['arrival_date_year', 'arrival_date_week_number', 'arrival_date_day_of_month'], axis=1)\n",
    "test_data = test_data.drop(['arrival_date_year', 'arrival_date_week_number', 'arrival_date_day_of_month'], axis=1)"
   ]
  },
  {
   "cell_type": "markdown",
   "metadata": {},
   "source": [
    "Подробное разбиение по месяцам тоже не особо нужно: гораздо важнее знать сезон, который определяет сезонные коэффициенты."
   ]
  },
  {
   "cell_type": "code",
   "execution_count": 30,
   "metadata": {},
   "outputs": [],
   "source": [
    "# соответствие сезона месяцу\n",
    "def get_season(month):\n",
    "    if month in ['June', 'July', 'August']:\n",
    "        return 'Summer'\n",
    "    elif month in ['September', 'October', 'November']:\n",
    "        return 'Autumn'\n",
    "    elif month in ['December', 'January', 'February']:\n",
    "        return 'Winter'\n",
    "    elif month in ['March', 'April', 'May']:\n",
    "        return 'Spring'"
   ]
  },
  {
   "cell_type": "code",
   "execution_count": 31,
   "metadata": {},
   "outputs": [],
   "source": [
    "train_data['season'] = train_data['arrival_date_month'].apply(get_season)\n",
    "test_data['season'] = test_data['arrival_date_month'].apply(get_season)\n",
    "\n",
    "train_data.drop('arrival_date_month', axis=1, inplace=True)\n",
    "test_data.drop('arrival_date_month', axis=1, inplace=True)"
   ]
  },
  {
   "cell_type": "markdown",
   "metadata": {},
   "source": [
    "<div class=\"alert alert-success\">\n",
    "<b>Комментарий ревьюера:\n",
    "&#9989;</b> Хорошо! </div>"
   ]
  },
  {
   "cell_type": "code",
   "execution_count": 32,
   "metadata": {},
   "outputs": [
    {
     "name": "stdout",
     "output_type": "stream",
     "text": [
      "<class 'pandas.core.frame.DataFrame'>\n",
      "Int64Index: 65061 entries, 0 to 65228\n",
      "Data columns (total 20 columns):\n",
      " #   Column                          Non-Null Count  Dtype \n",
      "---  ------                          --------------  ----- \n",
      " 0   is_canceled                     65061 non-null  int64 \n",
      " 1   lead_time                       65061 non-null  int64 \n",
      " 2   stays_in_weekend_nights         65061 non-null  int64 \n",
      " 3   stays_in_week_nights            65061 non-null  int64 \n",
      " 4   adults                          65061 non-null  int64 \n",
      " 5   children                        65061 non-null  int64 \n",
      " 6   babies                          65061 non-null  int64 \n",
      " 7   meal                            65061 non-null  object\n",
      " 8   country                         65061 non-null  object\n",
      " 9   distribution_channel            65061 non-null  object\n",
      " 10  is_repeated_guest               65061 non-null  int64 \n",
      " 11  previous_cancellations          65061 non-null  int64 \n",
      " 12  previous_bookings_not_canceled  65061 non-null  int64 \n",
      " 13  reserved_room_type              65061 non-null  object\n",
      " 14  booking_changes                 65061 non-null  int64 \n",
      " 15  days_in_waiting_list            65061 non-null  int64 \n",
      " 16  customer_type                   65061 non-null  object\n",
      " 17  required_car_parking_spaces     65061 non-null  int64 \n",
      " 18  total_of_special_requests       65061 non-null  int64 \n",
      " 19  season                          65061 non-null  object\n",
      "dtypes: int64(14), object(6)\n",
      "memory usage: 10.4+ MB\n"
     ]
    }
   ],
   "source": [
    "train_data.info()"
   ]
  },
  {
   "cell_type": "code",
   "execution_count": 33,
   "metadata": {},
   "outputs": [
    {
     "name": "stdout",
     "output_type": "stream",
     "text": [
      "<class 'pandas.core.frame.DataFrame'>\n",
      "RangeIndex: 32412 entries, 0 to 32411\n",
      "Data columns (total 20 columns):\n",
      " #   Column                          Non-Null Count  Dtype \n",
      "---  ------                          --------------  ----- \n",
      " 0   is_canceled                     32412 non-null  int64 \n",
      " 1   lead_time                       32412 non-null  int64 \n",
      " 2   stays_in_weekend_nights         32412 non-null  int64 \n",
      " 3   stays_in_week_nights            32412 non-null  int64 \n",
      " 4   adults                          32412 non-null  int64 \n",
      " 5   children                        32412 non-null  int64 \n",
      " 6   babies                          32412 non-null  int64 \n",
      " 7   meal                            32412 non-null  object\n",
      " 8   country                         32412 non-null  object\n",
      " 9   distribution_channel            32412 non-null  object\n",
      " 10  is_repeated_guest               32412 non-null  int64 \n",
      " 11  previous_cancellations          32412 non-null  int64 \n",
      " 12  previous_bookings_not_canceled  32412 non-null  int64 \n",
      " 13  reserved_room_type              32412 non-null  object\n",
      " 14  booking_changes                 32412 non-null  int64 \n",
      " 15  days_in_waiting_list            32412 non-null  int64 \n",
      " 16  customer_type                   32412 non-null  object\n",
      " 17  required_car_parking_spaces     32412 non-null  int64 \n",
      " 18  total_of_special_requests       32412 non-null  int64 \n",
      " 19  season                          32412 non-null  object\n",
      "dtypes: int64(14), object(6)\n",
      "memory usage: 4.9+ MB\n"
     ]
    }
   ],
   "source": [
    "test_data.info()"
   ]
  },
  {
   "cell_type": "markdown",
   "metadata": {},
   "source": [
    "Таким образом, в наборах с данными осталось по 20 столбцов (один из которых - целевой) либо с целочисленным т. Количество строк снизилось незначительно. Перед обучением модели дополнительно необходимо будет стандартизировать численные признаки и закодировать оставшиеся категориальные."
   ]
  },
  {
   "cell_type": "code",
   "execution_count": 34,
   "metadata": {},
   "outputs": [],
   "source": [
    "features_train = train_data.drop('is_canceled', axis=1)\n",
    "target_train = train_data['is_canceled']\n",
    "\n",
    "features_test = test_data.drop('is_canceled', axis=1)\n",
    "target_test = test_data['is_canceled']"
   ]
  },
  {
   "cell_type": "code",
   "execution_count": 35,
   "metadata": {},
   "outputs": [],
   "source": [
    "# масштабирование\n",
    "numeric = features_train.select_dtypes(include='int64').columns.to_list()\n",
    "numeric.remove('is_repeated_guest') # бинарный признак\n",
    "\n",
    "scaler = StandardScaler()\n",
    "scaler.fit(features_train[numeric])\n",
    "\n",
    "features_train[numeric] = scaler.transform(features_train[numeric])\n",
    "features_test[numeric] = scaler.transform(features_test[numeric])"
   ]
  },
  {
   "cell_type": "code",
   "execution_count": 36,
   "metadata": {},
   "outputs": [
    {
     "data": {
      "text/html": [
       "<div>\n",
       "<style scoped>\n",
       "    .dataframe tbody tr th:only-of-type {\n",
       "        vertical-align: middle;\n",
       "    }\n",
       "\n",
       "    .dataframe tbody tr th {\n",
       "        vertical-align: top;\n",
       "    }\n",
       "\n",
       "    .dataframe thead th {\n",
       "        text-align: right;\n",
       "    }\n",
       "</style>\n",
       "<table border=\"1\" class=\"dataframe\">\n",
       "  <thead>\n",
       "    <tr style=\"text-align: right;\">\n",
       "      <th></th>\n",
       "      <th>lead_time</th>\n",
       "      <th>stays_in_weekend_nights</th>\n",
       "      <th>stays_in_week_nights</th>\n",
       "      <th>adults</th>\n",
       "      <th>children</th>\n",
       "      <th>babies</th>\n",
       "      <th>meal</th>\n",
       "      <th>country</th>\n",
       "      <th>distribution_channel</th>\n",
       "      <th>is_repeated_guest</th>\n",
       "      <th>...</th>\n",
       "      <th>reserved_room_type_D</th>\n",
       "      <th>reserved_room_type_E</th>\n",
       "      <th>reserved_room_type_F</th>\n",
       "      <th>reserved_room_type_G</th>\n",
       "      <th>customer_type_Group</th>\n",
       "      <th>customer_type_Transient</th>\n",
       "      <th>customer_type_Transient-Party</th>\n",
       "      <th>season_Spring</th>\n",
       "      <th>season_Summer</th>\n",
       "      <th>season_Winter</th>\n",
       "    </tr>\n",
       "  </thead>\n",
       "  <tbody>\n",
       "    <tr>\n",
       "      <th>0</th>\n",
       "      <td>-0.928977</td>\n",
       "      <td>-0.966529</td>\n",
       "      <td>-0.903334</td>\n",
       "      <td>-1.783139</td>\n",
       "      <td>-0.219336</td>\n",
       "      <td>-0.0829</td>\n",
       "      <td>BB</td>\n",
       "      <td>GBR</td>\n",
       "      <td>Direct</td>\n",
       "      <td>0</td>\n",
       "      <td>...</td>\n",
       "      <td>0.0</td>\n",
       "      <td>0.0</td>\n",
       "      <td>0.0</td>\n",
       "      <td>0.0</td>\n",
       "      <td>0.0</td>\n",
       "      <td>1.0</td>\n",
       "      <td>0.0</td>\n",
       "      <td>0.0</td>\n",
       "      <td>1.0</td>\n",
       "      <td>0.0</td>\n",
       "    </tr>\n",
       "    <tr>\n",
       "      <th>1</th>\n",
       "      <td>-0.856193</td>\n",
       "      <td>-0.966529</td>\n",
       "      <td>-0.165486</td>\n",
       "      <td>0.336436</td>\n",
       "      <td>-0.219336</td>\n",
       "      <td>-0.0829</td>\n",
       "      <td>BB</td>\n",
       "      <td>GBR</td>\n",
       "      <td>TA/TO</td>\n",
       "      <td>0</td>\n",
       "      <td>...</td>\n",
       "      <td>0.0</td>\n",
       "      <td>0.0</td>\n",
       "      <td>0.0</td>\n",
       "      <td>0.0</td>\n",
       "      <td>0.0</td>\n",
       "      <td>1.0</td>\n",
       "      <td>0.0</td>\n",
       "      <td>0.0</td>\n",
       "      <td>1.0</td>\n",
       "      <td>0.0</td>\n",
       "    </tr>\n",
       "    <tr>\n",
       "      <th>2</th>\n",
       "      <td>-1.001761</td>\n",
       "      <td>-0.966529</td>\n",
       "      <td>-0.165486</td>\n",
       "      <td>0.336436</td>\n",
       "      <td>-0.219336</td>\n",
       "      <td>-0.0829</td>\n",
       "      <td>BB</td>\n",
       "      <td>PRT</td>\n",
       "      <td>Direct</td>\n",
       "      <td>0</td>\n",
       "      <td>...</td>\n",
       "      <td>0.0</td>\n",
       "      <td>0.0</td>\n",
       "      <td>0.0</td>\n",
       "      <td>0.0</td>\n",
       "      <td>0.0</td>\n",
       "      <td>1.0</td>\n",
       "      <td>0.0</td>\n",
       "      <td>0.0</td>\n",
       "      <td>1.0</td>\n",
       "      <td>0.0</td>\n",
       "    </tr>\n",
       "    <tr>\n",
       "      <th>3</th>\n",
       "      <td>-0.908181</td>\n",
       "      <td>-0.966529</td>\n",
       "      <td>-0.165486</td>\n",
       "      <td>0.336436</td>\n",
       "      <td>-0.219336</td>\n",
       "      <td>-0.0829</td>\n",
       "      <td>FB</td>\n",
       "      <td>PRT</td>\n",
       "      <td>Direct</td>\n",
       "      <td>0</td>\n",
       "      <td>...</td>\n",
       "      <td>0.0</td>\n",
       "      <td>0.0</td>\n",
       "      <td>0.0</td>\n",
       "      <td>0.0</td>\n",
       "      <td>0.0</td>\n",
       "      <td>1.0</td>\n",
       "      <td>0.0</td>\n",
       "      <td>0.0</td>\n",
       "      <td>1.0</td>\n",
       "      <td>0.0</td>\n",
       "    </tr>\n",
       "    <tr>\n",
       "      <th>4</th>\n",
       "      <td>-0.117955</td>\n",
       "      <td>-0.966529</td>\n",
       "      <td>0.572362</td>\n",
       "      <td>0.336436</td>\n",
       "      <td>-0.219336</td>\n",
       "      <td>-0.0829</td>\n",
       "      <td>BB</td>\n",
       "      <td>PRT</td>\n",
       "      <td>TA/TO</td>\n",
       "      <td>0</td>\n",
       "      <td>...</td>\n",
       "      <td>0.0</td>\n",
       "      <td>0.0</td>\n",
       "      <td>0.0</td>\n",
       "      <td>0.0</td>\n",
       "      <td>0.0</td>\n",
       "      <td>1.0</td>\n",
       "      <td>0.0</td>\n",
       "      <td>0.0</td>\n",
       "      <td>1.0</td>\n",
       "      <td>0.0</td>\n",
       "    </tr>\n",
       "  </tbody>\n",
       "</table>\n",
       "<p>5 rows × 191 columns</p>\n",
       "</div>"
      ],
      "text/plain": [
       "   lead_time  stays_in_weekend_nights  stays_in_week_nights    adults  \\\n",
       "0  -0.928977                -0.966529             -0.903334 -1.783139   \n",
       "1  -0.856193                -0.966529             -0.165486  0.336436   \n",
       "2  -1.001761                -0.966529             -0.165486  0.336436   \n",
       "3  -0.908181                -0.966529             -0.165486  0.336436   \n",
       "4  -0.117955                -0.966529              0.572362  0.336436   \n",
       "\n",
       "   children  babies meal country distribution_channel  is_repeated_guest  ...  \\\n",
       "0 -0.219336 -0.0829   BB     GBR               Direct                  0  ...   \n",
       "1 -0.219336 -0.0829   BB     GBR                TA/TO                  0  ...   \n",
       "2 -0.219336 -0.0829   BB     PRT               Direct                  0  ...   \n",
       "3 -0.219336 -0.0829   FB     PRT               Direct                  0  ...   \n",
       "4 -0.219336 -0.0829   BB     PRT                TA/TO                  0  ...   \n",
       "\n",
       "   reserved_room_type_D  reserved_room_type_E reserved_room_type_F  \\\n",
       "0                   0.0                   0.0                  0.0   \n",
       "1                   0.0                   0.0                  0.0   \n",
       "2                   0.0                   0.0                  0.0   \n",
       "3                   0.0                   0.0                  0.0   \n",
       "4                   0.0                   0.0                  0.0   \n",
       "\n",
       "   reserved_room_type_G  customer_type_Group customer_type_Transient  \\\n",
       "0                   0.0                  0.0                     1.0   \n",
       "1                   0.0                  0.0                     1.0   \n",
       "2                   0.0                  0.0                     1.0   \n",
       "3                   0.0                  0.0                     1.0   \n",
       "4                   0.0                  0.0                     1.0   \n",
       "\n",
       "   customer_type_Transient-Party  season_Spring season_Summer  season_Winter  \n",
       "0                            0.0            0.0           1.0            0.0  \n",
       "1                            0.0            0.0           1.0            0.0  \n",
       "2                            0.0            0.0           1.0            0.0  \n",
       "3                            0.0            0.0           1.0            0.0  \n",
       "4                            0.0            0.0           1.0            0.0  \n",
       "\n",
       "[5 rows x 191 columns]"
      ]
     },
     "metadata": {},
     "output_type": "display_data"
    },
    {
     "data": {
      "text/html": [
       "<div>\n",
       "<style scoped>\n",
       "    .dataframe tbody tr th:only-of-type {\n",
       "        vertical-align: middle;\n",
       "    }\n",
       "\n",
       "    .dataframe tbody tr th {\n",
       "        vertical-align: top;\n",
       "    }\n",
       "\n",
       "    .dataframe thead th {\n",
       "        text-align: right;\n",
       "    }\n",
       "</style>\n",
       "<table border=\"1\" class=\"dataframe\">\n",
       "  <thead>\n",
       "    <tr style=\"text-align: right;\">\n",
       "      <th></th>\n",
       "      <th>lead_time</th>\n",
       "      <th>stays_in_weekend_nights</th>\n",
       "      <th>stays_in_week_nights</th>\n",
       "      <th>adults</th>\n",
       "      <th>children</th>\n",
       "      <th>babies</th>\n",
       "      <th>meal</th>\n",
       "      <th>country</th>\n",
       "      <th>distribution_channel</th>\n",
       "      <th>is_repeated_guest</th>\n",
       "      <th>...</th>\n",
       "      <th>reserved_room_type_D</th>\n",
       "      <th>reserved_room_type_E</th>\n",
       "      <th>reserved_room_type_F</th>\n",
       "      <th>reserved_room_type_G</th>\n",
       "      <th>customer_type_Group</th>\n",
       "      <th>customer_type_Transient</th>\n",
       "      <th>customer_type_Transient-Party</th>\n",
       "      <th>season_Spring</th>\n",
       "      <th>season_Summer</th>\n",
       "      <th>season_Winter</th>\n",
       "    </tr>\n",
       "  </thead>\n",
       "  <tbody>\n",
       "    <tr>\n",
       "      <th>0</th>\n",
       "      <td>-0.232330</td>\n",
       "      <td>0.205356</td>\n",
       "      <td>-1.641182</td>\n",
       "      <td>0.336436</td>\n",
       "      <td>-0.219336</td>\n",
       "      <td>-0.0829</td>\n",
       "      <td>BB</td>\n",
       "      <td>PRT</td>\n",
       "      <td>TA/TO</td>\n",
       "      <td>0</td>\n",
       "      <td>...</td>\n",
       "      <td>0.0</td>\n",
       "      <td>0.0</td>\n",
       "      <td>0.0</td>\n",
       "      <td>0.0</td>\n",
       "      <td>0.0</td>\n",
       "      <td>1.0</td>\n",
       "      <td>0.0</td>\n",
       "      <td>0.0</td>\n",
       "      <td>0.0</td>\n",
       "      <td>1.0</td>\n",
       "    </tr>\n",
       "    <tr>\n",
       "      <th>1</th>\n",
       "      <td>-0.357102</td>\n",
       "      <td>1.377241</td>\n",
       "      <td>-0.165486</td>\n",
       "      <td>0.336436</td>\n",
       "      <td>-0.219336</td>\n",
       "      <td>-0.0829</td>\n",
       "      <td>BB</td>\n",
       "      <td>AUT</td>\n",
       "      <td>TA/TO</td>\n",
       "      <td>0</td>\n",
       "      <td>...</td>\n",
       "      <td>0.0</td>\n",
       "      <td>0.0</td>\n",
       "      <td>0.0</td>\n",
       "      <td>0.0</td>\n",
       "      <td>0.0</td>\n",
       "      <td>1.0</td>\n",
       "      <td>0.0</td>\n",
       "      <td>0.0</td>\n",
       "      <td>0.0</td>\n",
       "      <td>1.0</td>\n",
       "    </tr>\n",
       "    <tr>\n",
       "      <th>2</th>\n",
       "      <td>-0.357102</td>\n",
       "      <td>1.377241</td>\n",
       "      <td>-0.165486</td>\n",
       "      <td>0.336436</td>\n",
       "      <td>-0.219336</td>\n",
       "      <td>-0.0829</td>\n",
       "      <td>BB</td>\n",
       "      <td>AUT</td>\n",
       "      <td>TA/TO</td>\n",
       "      <td>0</td>\n",
       "      <td>...</td>\n",
       "      <td>0.0</td>\n",
       "      <td>0.0</td>\n",
       "      <td>0.0</td>\n",
       "      <td>0.0</td>\n",
       "      <td>0.0</td>\n",
       "      <td>1.0</td>\n",
       "      <td>0.0</td>\n",
       "      <td>0.0</td>\n",
       "      <td>0.0</td>\n",
       "      <td>1.0</td>\n",
       "    </tr>\n",
       "    <tr>\n",
       "      <th>3</th>\n",
       "      <td>-0.263523</td>\n",
       "      <td>1.377241</td>\n",
       "      <td>-0.165486</td>\n",
       "      <td>-1.783139</td>\n",
       "      <td>-0.219336</td>\n",
       "      <td>-0.0829</td>\n",
       "      <td>BB</td>\n",
       "      <td>PRT</td>\n",
       "      <td>TA/TO</td>\n",
       "      <td>0</td>\n",
       "      <td>...</td>\n",
       "      <td>0.0</td>\n",
       "      <td>0.0</td>\n",
       "      <td>0.0</td>\n",
       "      <td>0.0</td>\n",
       "      <td>0.0</td>\n",
       "      <td>1.0</td>\n",
       "      <td>0.0</td>\n",
       "      <td>0.0</td>\n",
       "      <td>0.0</td>\n",
       "      <td>1.0</td>\n",
       "    </tr>\n",
       "    <tr>\n",
       "      <th>4</th>\n",
       "      <td>0.786647</td>\n",
       "      <td>1.377241</td>\n",
       "      <td>2.048058</td>\n",
       "      <td>0.336436</td>\n",
       "      <td>-0.219336</td>\n",
       "      <td>-0.0829</td>\n",
       "      <td>BB</td>\n",
       "      <td>BEL</td>\n",
       "      <td>TA/TO</td>\n",
       "      <td>0</td>\n",
       "      <td>...</td>\n",
       "      <td>0.0</td>\n",
       "      <td>0.0</td>\n",
       "      <td>0.0</td>\n",
       "      <td>0.0</td>\n",
       "      <td>0.0</td>\n",
       "      <td>1.0</td>\n",
       "      <td>0.0</td>\n",
       "      <td>0.0</td>\n",
       "      <td>0.0</td>\n",
       "      <td>1.0</td>\n",
       "    </tr>\n",
       "  </tbody>\n",
       "</table>\n",
       "<p>5 rows × 191 columns</p>\n",
       "</div>"
      ],
      "text/plain": [
       "   lead_time  stays_in_weekend_nights  stays_in_week_nights    adults  \\\n",
       "0  -0.232330                 0.205356             -1.641182  0.336436   \n",
       "1  -0.357102                 1.377241             -0.165486  0.336436   \n",
       "2  -0.357102                 1.377241             -0.165486  0.336436   \n",
       "3  -0.263523                 1.377241             -0.165486 -1.783139   \n",
       "4   0.786647                 1.377241              2.048058  0.336436   \n",
       "\n",
       "   children  babies meal country distribution_channel  is_repeated_guest  ...  \\\n",
       "0 -0.219336 -0.0829   BB     PRT                TA/TO                  0  ...   \n",
       "1 -0.219336 -0.0829   BB     AUT                TA/TO                  0  ...   \n",
       "2 -0.219336 -0.0829   BB     AUT                TA/TO                  0  ...   \n",
       "3 -0.219336 -0.0829   BB     PRT                TA/TO                  0  ...   \n",
       "4 -0.219336 -0.0829   BB     BEL                TA/TO                  0  ...   \n",
       "\n",
       "   reserved_room_type_D  reserved_room_type_E reserved_room_type_F  \\\n",
       "0                   0.0                   0.0                  0.0   \n",
       "1                   0.0                   0.0                  0.0   \n",
       "2                   0.0                   0.0                  0.0   \n",
       "3                   0.0                   0.0                  0.0   \n",
       "4                   0.0                   0.0                  0.0   \n",
       "\n",
       "   reserved_room_type_G  customer_type_Group customer_type_Transient  \\\n",
       "0                   0.0                  0.0                     1.0   \n",
       "1                   0.0                  0.0                     1.0   \n",
       "2                   0.0                  0.0                     1.0   \n",
       "3                   0.0                  0.0                     1.0   \n",
       "4                   0.0                  0.0                     1.0   \n",
       "\n",
       "   customer_type_Transient-Party  season_Spring season_Summer  season_Winter  \n",
       "0                            0.0            0.0           0.0            1.0  \n",
       "1                            0.0            0.0           0.0            1.0  \n",
       "2                            0.0            0.0           0.0            1.0  \n",
       "3                            0.0            0.0           0.0            1.0  \n",
       "4                            0.0            0.0           0.0            1.0  \n",
       "\n",
       "[5 rows x 191 columns]"
      ]
     },
     "metadata": {},
     "output_type": "display_data"
    }
   ],
   "source": [
    "# кодирование нечисловых столбцов (OHE)\n",
    "categorical = ['meal', 'country', 'distribution_channel', 'reserved_room_type', 'customer_type', 'season']\n",
    "enc = OneHotEncoder(sparse=False, drop='first', handle_unknown='ignore') # неизвестные категории будут столбцами с 0\n",
    "enc.fit(features_train[categorical])\n",
    "\n",
    "# наименования столбцов\n",
    "ohe_column_names = enc.get_feature_names_out(categorical)                \n",
    "\n",
    "# train\n",
    "encoded_train = pd.DataFrame(enc.transform(features_train[categorical]), index=features_train.index, columns=ohe_column_names)\n",
    "features_train = pd.concat([features_train, encoded_train], axis=1)\n",
    "\n",
    "# test\n",
    "encoded_test = pd.DataFrame(enc.transform(features_test[categorical]), index=features_test.index, columns=ohe_column_names)\n",
    "features_test = pd.concat([features_test, encoded_test], axis=1)\n",
    "\n",
    "display(features_train.head())\n",
    "display(features_test.head())"
   ]
  },
  {
   "cell_type": "markdown",
   "metadata": {},
   "source": [
    "<div class=\"alert alert-success\">\n",
    "<b>Комментарий ревьюера:\n",
    "&#9989;</b> Отлично!  </div>"
   ]
  },
  {
   "cell_type": "code",
   "execution_count": 37,
   "metadata": {},
   "outputs": [],
   "source": [
    "# удаление старых столбцов\n",
    "features_train = features_train.drop(columns=categorical)\n",
    "features_test = features_test.drop(columns=categorical)"
   ]
  },
  {
   "cell_type": "markdown",
   "metadata": {},
   "source": [
    "Дисбаланс классов:"
   ]
  },
  {
   "cell_type": "code",
   "execution_count": 38,
   "metadata": {},
   "outputs": [
    {
     "data": {
      "text/plain": [
       "0    0.631177\n",
       "1    0.368823\n",
       "Name: is_canceled, dtype: float64"
      ]
     },
     "execution_count": 38,
     "metadata": {},
     "output_type": "execute_result"
    }
   ],
   "source": [
    "# в долях\n",
    "target_train.value_counts(normalize=True)"
   ]
  },
  {
   "cell_type": "code",
   "execution_count": 39,
   "metadata": {},
   "outputs": [
    {
     "data": {
      "image/png": "[encoded data removed]",
      "text/plain": [
       "<Figure size 360x216 with 1 Axes>"
      ]
     },
     "metadata": {
      "needs_background": "light"
     },
     "output_type": "display_data"
    }
   ],
   "source": [
    "target_train.astype(str).hist(figsize=(5, 3), grid=False)\n",
    "plt.title('Дисбаланс классов в целевой переменной')\n",
    "plt.show()"
   ]
  },
  {
   "cell_type": "markdown",
   "metadata": {},
   "source": [
    "В данных наблюдается достаточно ярко выраженный дисбаланс отрицательного класса. Используем технику SMOTE, т.е. синтетически увеличим содержание положительного класса."
   ]
  },
  {
   "cell_type": "code",
   "execution_count": 40,
   "metadata": {},
   "outputs": [],
   "source": [
    "# работа с дисбалансом\n",
    "smote = SMOTE(random_state=123)\n",
    "features_train, target_train = smote.fit_resample(features_train, target_train)"
   ]
  },
  {
   "cell_type": "markdown",
   "metadata": {},
   "source": [
    "<div class=\"alert alert-success\">\n",
    "<b>Комментарий ревьюера:\n",
    "&#9989;</b> Молодец, что используешь SMOTE для борьбы с дисбалансом </div>"
   ]
  },
  {
   "cell_type": "code",
   "execution_count": 41,
   "metadata": {},
   "outputs": [
    {
     "data": {
      "image/png": "[encoded data removed]",
      "text/plain": [
       "<Figure size 360x216 with 1 Axes>"
      ]
     },
     "metadata": {
      "needs_background": "light"
     },
     "output_type": "display_data"
    }
   ],
   "source": [
    "target_train.astype(str).hist(figsize=(5, 3), grid=False)\n",
    "plt.title('Дисбаланс классов после SMOTE')\n",
    "plt.show()"
   ]
  },
  {
   "cell_type": "markdown",
   "metadata": {},
   "source": [
    "Таким образом, данные готовы к обучению: численные признаки стандартизированы, категориальные признаки закодированы методом OHE, дисбаланс классов устранен. Итоговый размер обучающей выборки:"
   ]
  },
  {
   "cell_type": "code",
   "execution_count": 42,
   "metadata": {},
   "outputs": [
    {
     "data": {
      "text/plain": [
       "(82130, 185)"
      ]
     },
     "execution_count": 42,
     "metadata": {},
     "output_type": "execute_result"
    }
   ],
   "source": [
    "features_train.shape"
   ]
  },
  {
   "cell_type": "markdown",
   "metadata": {},
   "source": [
    "<a id=\"profit\"></a>\n",
    "### Шаг 3. Формулировка ML-задачи на основе бизнес-задачи"
   ]
  },
  {
   "cell_type": "markdown",
   "metadata": {},
   "source": [
    "Оценим прибыль отеля без внедрения депозитов. Прибыль отеля — это разница между стоимостью номера за все ночи и затраты на обслуживание: как при подготовке номера, так и при проживании постояльца. \n",
    "\n",
    "В отеле есть несколько типов номеров. В зависимости от типа номера назначается стоимость за одну ночь. Есть также затраты на уборку. Если клиент снял номер надолго, то убираются каждые два дня. \n",
    "\n",
    "*Стоимость номеров отеля:*\n",
    "- категория A: за ночь — 1 000, разовое обслуживание — 400\n",
    "- категория B: за ночь — 800, разовое обслуживание — 350\n",
    "- категория C: за ночь — 600, разовое обслуживание — 350\n",
    "- категория D: за ночь — 550, разовое обслуживание — 150\n",
    "- категория E: за ночь — 500, разовое обслуживание — 150\n",
    "- категория F: за ночь — 450, разовое обслуживание — 150\n",
    "- категория G: за ночь — 350, разовое обслуживание — 150\n",
    "\n",
    "В ценовой политике отеля используются *сезонные коэффициенты*: весной и осенью цены повышаются на 20%, летом — на 40%. Убытки отеля в случае отмены брони номера — это стоимость одной уборки и одной ночи с учётом сезонного коэффициента.\n",
    "\n",
    "Оценку прибыли будем проводить на тестовом датасете. Создадим новые столбцы, чтобы было удобнее проводить расчет."
   ]
  },
  {
   "cell_type": "code",
   "execution_count": 43,
   "metadata": {},
   "outputs": [],
   "source": [
    "# копия датасета с тестовыми данными\n",
    "profit_df = test_data.copy(deep=True)"
   ]
  },
  {
   "cell_type": "code",
   "execution_count": 44,
   "metadata": {},
   "outputs": [
    {
     "data": {
      "text/plain": [
       "Index(['is_canceled', 'lead_time', 'stays_in_weekend_nights',\n",
       "       'stays_in_week_nights', 'adults', 'children', 'babies', 'meal',\n",
       "       'country', 'distribution_channel', 'is_repeated_guest',\n",
       "       'previous_cancellations', 'previous_bookings_not_canceled',\n",
       "       'reserved_room_type', 'booking_changes', 'days_in_waiting_list',\n",
       "       'customer_type', 'required_car_parking_spaces',\n",
       "       'total_of_special_requests', 'season'],\n",
       "      dtype='object')"
      ]
     },
     "execution_count": 44,
     "metadata": {},
     "output_type": "execute_result"
    }
   ],
   "source": [
    "profit_df.columns"
   ]
  },
  {
   "cell_type": "code",
   "execution_count": 45,
   "metadata": {},
   "outputs": [],
   "source": [
    "# словарь с условиями для разных номеров\n",
    "# [стоимость ночи, стоимость уборки]\n",
    "room_type_dict = {\n",
    "    'A': [1000, 400],\n",
    "    'B': [800, 350],\n",
    "    'C': [600, 350],\n",
    "    'D': [550, 150],\n",
    "    'E': [500, 150],\n",
    "    'F': [450, 150],\n",
    "    'G': [350, 150]\n",
    "}"
   ]
  },
  {
   "cell_type": "code",
   "execution_count": 46,
   "metadata": {},
   "outputs": [],
   "source": [
    "# возвращает стоимость номера и затраты на уборку\n",
    "def get_room_params(room_type):\n",
    "    return room_type_dict[room_type]"
   ]
  },
  {
   "cell_type": "code",
   "execution_count": 47,
   "metadata": {},
   "outputs": [],
   "source": [
    "# возвращает сезонный коэффициент\n",
    "def get_factor(season):\n",
    "    if season == 'Summer': \n",
    "        return 1.4\n",
    "    elif season == 'Winter': \n",
    "        return 1\n",
    "    \n",
    "    return 1.2"
   ]
  },
  {
   "cell_type": "code",
   "execution_count": 48,
   "metadata": {},
   "outputs": [],
   "source": [
    "# возвращает прибыль от бронирования в зависимости от категории номера\n",
    "def get_profit(nights, season, room_type, is_canceled=False): \n",
    "    factor = get_factor(season)                 # вычисление сезонного коэффициента  \n",
    "    cost, service = get_room_params(room_type)  # вычисление параметров номера\n",
    "    \n",
    "    # расчет прибыли\n",
    "    if is_canceled:\n",
    "        return -(cost + service)*factor\n",
    "    \n",
    "    else:\n",
    "        return (cost*nights - service*(nights//2+1))*factor"
   ]
  },
  {
   "cell_type": "markdown",
   "metadata": {},
   "source": [
    "<div class=\"alert alert-success\">\n",
    "<b>Комментарий ревьюера:\n",
    "&#9989;</b> Отлично! </div>"
   ]
  },
  {
   "cell_type": "code",
   "execution_count": 49,
   "metadata": {},
   "outputs": [],
   "source": [
    "# применение функции к датафрейму\n",
    "def profit_row(row):\n",
    "    nights = row['stays_in_week_nights'] + row['stays_in_weekend_nights'] # общее количество ночей\n",
    "    row['profit'] = get_profit(nights, row['season'], row['reserved_room_type'], bool(row['is_canceled']))\n",
    "    \n",
    "    return row"
   ]
  },
  {
   "cell_type": "code",
   "execution_count": 50,
   "metadata": {},
   "outputs": [
    {
     "data": {
      "text/html": [
       "<div>\n",
       "<style scoped>\n",
       "    .dataframe tbody tr th:only-of-type {\n",
       "        vertical-align: middle;\n",
       "    }\n",
       "\n",
       "    .dataframe tbody tr th {\n",
       "        vertical-align: top;\n",
       "    }\n",
       "\n",
       "    .dataframe thead th {\n",
       "        text-align: right;\n",
       "    }\n",
       "</style>\n",
       "<table border=\"1\" class=\"dataframe\">\n",
       "  <thead>\n",
       "    <tr style=\"text-align: right;\">\n",
       "      <th></th>\n",
       "      <th>reserved_room_type</th>\n",
       "      <th>stays_in_week_nights</th>\n",
       "      <th>stays_in_weekend_nights</th>\n",
       "      <th>season</th>\n",
       "      <th>is_canceled</th>\n",
       "      <th>profit</th>\n",
       "    </tr>\n",
       "  </thead>\n",
       "  <tbody>\n",
       "    <tr>\n",
       "      <th>0</th>\n",
       "      <td>A</td>\n",
       "      <td>0</td>\n",
       "      <td>1</td>\n",
       "      <td>Winter</td>\n",
       "      <td>1</td>\n",
       "      <td>-1400.0</td>\n",
       "    </tr>\n",
       "    <tr>\n",
       "      <th>2501</th>\n",
       "      <td>G</td>\n",
       "      <td>1</td>\n",
       "      <td>0</td>\n",
       "      <td>Spring</td>\n",
       "      <td>0</td>\n",
       "      <td>240.0</td>\n",
       "    </tr>\n",
       "    <tr>\n",
       "      <th>16000</th>\n",
       "      <td>D</td>\n",
       "      <td>2</td>\n",
       "      <td>0</td>\n",
       "      <td>Summer</td>\n",
       "      <td>1</td>\n",
       "      <td>-980.0</td>\n",
       "    </tr>\n",
       "  </tbody>\n",
       "</table>\n",
       "</div>"
      ],
      "text/plain": [
       "      reserved_room_type  stays_in_week_nights  stays_in_weekend_nights  \\\n",
       "0                      A                     0                        1   \n",
       "2501                   G                     1                        0   \n",
       "16000                  D                     2                        0   \n",
       "\n",
       "       season  is_canceled  profit  \n",
       "0      Winter            1 -1400.0  \n",
       "2501   Spring            0   240.0  \n",
       "16000  Summer            1  -980.0  "
      ]
     },
     "execution_count": 50,
     "metadata": {},
     "output_type": "execute_result"
    }
   ],
   "source": [
    "# проверка функции\n",
    "test_df = profit_df.loc[[0, 2501, 16000], \n",
    "                        ['reserved_room_type', 'stays_in_week_nights', 'stays_in_weekend_nights', 'season', 'is_canceled']\n",
    "                       ].copy()\n",
    "\n",
    "test_df['profit'] = 0\n",
    "test_df = test_df.apply(profit_row, axis=1)\n",
    "\n",
    "test_df"
   ]
  },
  {
   "cell_type": "code",
   "execution_count": 51,
   "metadata": {},
   "outputs": [
    {
     "data": {
      "text/plain": [
       "dtype('float64')"
      ]
     },
     "execution_count": 51,
     "metadata": {},
     "output_type": "execute_result"
    }
   ],
   "source": [
    "test_df['profit'].dtype"
   ]
  },
  {
   "cell_type": "markdown",
   "metadata": {},
   "source": [
    "**Ручной подсчет:** \\\n",
    "`0`: отмена бронирования -> вычисляем только убытки (ночь 1000 + обслуживание 400) для категории номера А = -1400 \\\n",
    "`2501`: подтверждено -> вычисляем прибыль: 1 ночь в комнате G (350) - уборка (150), весной (коэффициент 20%) = 240 \\\n",
    "`16000`: отмена -> вычисляем убытки (ночь 550 + обслуживание 150) для категории D летом (коэффициент 40%) = -980\n",
    "\n",
    "Расчеты верны, можно применить ко всему датафрейму и вычислить прибыль."
   ]
  },
  {
   "cell_type": "code",
   "execution_count": 52,
   "metadata": {},
   "outputs": [
    {
     "name": "stdout",
     "output_type": "stream",
     "text": [
      "Прибыль без введения депозитов: 28257360.0\n"
     ]
    }
   ],
   "source": [
    "profit_df['profit'] = 0\n",
    "profit_df = profit_df.apply(profit_row, axis=1)\n",
    "\n",
    "print('Прибыль без введения депозитов:', profit_df['profit'].sum())"
   ]
  },
  {
   "cell_type": "markdown",
   "metadata": {},
   "source": [
    "Таким образом, необходимо создать модель, которая бы как можно точнее определяла клиентов, которые отменят бронь - так мы минимизируем убытки и увеличим общую прибыль. Для такой задачи лучше всего подойдет метрика *recall* (или *полнота*). "
   ]
  },
  {
   "cell_type": "markdown",
   "metadata": {},
   "source": [
    "<a id=\"ml_model\"></a>\n",
    "### Шаг 4. Разработка модели ML"
   ]
  },
  {
   "cell_type": "markdown",
   "metadata": {},
   "source": [
    "Сравним модели, обученные тремя самыми известными алгоритмами классификации - *kNN*, *Random Forest* и *Logistic regression*. Оценивать качество моделей будем с использованием кросс-валидации для получения более уравновешенных результатов. "
   ]
  },
  {
   "cell_type": "code",
   "execution_count": 53,
   "metadata": {},
   "outputs": [
    {
     "name": "stdout",
     "output_type": "stream",
     "text": [
      "best_score = 0.791 при 11 деревьев с максимальной глубиной 2\n",
      "CPU times: user 6min 58s, sys: 30.6 s, total: 7min 29s\n",
      "Wall time: 7min 29s\n"
     ]
    }
   ],
   "source": [
    "%%time\n",
    "\n",
    "# Random Forest\n",
    "best_score, best_n, best_depth = 0, 1, 1\n",
    "for n in range(1, 50, 5):\n",
    "    for depth in range(1, 12):\n",
    "        model = RandomForestClassifier(n_estimators=n, max_depth=depth, random_state=12345)\n",
    "        scores = cross_val_score(model, features_train, target_train, scoring='recall', cv=5)\n",
    "        score = scores.mean()\n",
    "        \n",
    "        if score > best_score:\n",
    "            best_score = score\n",
    "            best_n, best_depth = n, depth\n",
    "\n",
    "print(f'best_score = {round(best_score, 3)} при {best_n} деревьев с максимальной глубиной {best_depth}')"
   ]
  },
  {
   "cell_type": "code",
   "execution_count": 54,
   "metadata": {
    "scrolled": true
   },
   "outputs": [
    {
     "name": "stdout",
     "output_type": "stream",
     "text": [
      "best_score = 0.744 при solver=liblinear\n",
      "CPU times: user 3min 47s, sys: 1min 44s, total: 5min 32s\n",
      "Wall time: 5min 33s\n"
     ]
    }
   ],
   "source": [
    "%%time\n",
    "\n",
    "# Logistic regession\n",
    "solver_list = ['newton-cg', 'lbfgs', 'liblinear']\n",
    "best_score, best_solver = 0, ''\n",
    "\n",
    "for solver in solver_list:\n",
    "    model = LogisticRegression(solver=solver)\n",
    "    scores = cross_val_score(model, features_train, target_train, scoring='recall', cv=5)\n",
    "    score = scores.mean()\n",
    "    \n",
    "    if score > best_score:\n",
    "        best_score = score\n",
    "        best_solver = solver\n",
    "        \n",
    "print(f'best_score = {round(best_score, 3)} при solver={best_solver}')"
   ]
  },
  {
   "cell_type": "markdown",
   "metadata": {},
   "source": [
    "Лучше всего показала себя **модель случайного леса** с 11 деревьями в ансамбле с максимальной глубиной дерева = 2 . Значение метрики recall, полученное кросс-валидацией = **0.791**. Т.е. модель способна определить 4/5 клиентов, которые отменят бронь. Посмотрим, насколько хорошо она сможет предсказать отмену бронирования на тестовых данных."
   ]
  },
  {
   "cell_type": "code",
   "execution_count": 55,
   "metadata": {},
   "outputs": [
    {
     "name": "stdout",
     "output_type": "stream",
     "text": [
      "0.6643634341990311\n"
     ]
    }
   ],
   "source": [
    "forest_model = RandomForestClassifier(n_estimators=11, max_depth=2, random_state=12345)\n",
    "forest_model.fit(features_train, target_train)\n",
    "f_predictions = forest_model.predict(features_test)\n",
    "\n",
    "print(recall_score(target_test, f_predictions))"
   ]
  },
  {
   "cell_type": "markdown",
   "metadata": {},
   "source": [
    "<div class=\"alert alert-success\">\n",
    "<b>Комментарий ревьюера:\n",
    "&#9989;</b> Молодец, что проверяешь только итоговую модель на тестовой выборке! </div>"
   ]
  },
  {
   "cell_type": "markdown",
   "metadata": {},
   "source": [
    "Рассчитаем прибыль отеля после внедрения модели:"
   ]
  },
  {
   "cell_type": "code",
   "execution_count": 56,
   "metadata": {},
   "outputs": [
    {
     "data": {
      "text/html": [
       "<div>\n",
       "<style scoped>\n",
       "    .dataframe tbody tr th:only-of-type {\n",
       "        vertical-align: middle;\n",
       "    }\n",
       "\n",
       "    .dataframe tbody tr th {\n",
       "        vertical-align: top;\n",
       "    }\n",
       "\n",
       "    .dataframe thead th {\n",
       "        text-align: right;\n",
       "    }\n",
       "</style>\n",
       "<table border=\"1\" class=\"dataframe\">\n",
       "  <thead>\n",
       "    <tr style=\"text-align: right;\">\n",
       "      <th></th>\n",
       "      <th>is_canceled</th>\n",
       "      <th>lead_time</th>\n",
       "      <th>stays_in_weekend_nights</th>\n",
       "      <th>stays_in_week_nights</th>\n",
       "      <th>adults</th>\n",
       "      <th>children</th>\n",
       "      <th>babies</th>\n",
       "      <th>meal</th>\n",
       "      <th>country</th>\n",
       "      <th>distribution_channel</th>\n",
       "      <th>...</th>\n",
       "      <th>previous_bookings_not_canceled</th>\n",
       "      <th>reserved_room_type</th>\n",
       "      <th>booking_changes</th>\n",
       "      <th>days_in_waiting_list</th>\n",
       "      <th>customer_type</th>\n",
       "      <th>required_car_parking_spaces</th>\n",
       "      <th>total_of_special_requests</th>\n",
       "      <th>season</th>\n",
       "      <th>profit</th>\n",
       "      <th>predict</th>\n",
       "    </tr>\n",
       "  </thead>\n",
       "  <tbody>\n",
       "    <tr>\n",
       "      <th>0</th>\n",
       "      <td>1</td>\n",
       "      <td>74</td>\n",
       "      <td>1</td>\n",
       "      <td>0</td>\n",
       "      <td>2</td>\n",
       "      <td>0</td>\n",
       "      <td>0</td>\n",
       "      <td>BB</td>\n",
       "      <td>PRT</td>\n",
       "      <td>TA/TO</td>\n",
       "      <td>...</td>\n",
       "      <td>0</td>\n",
       "      <td>A</td>\n",
       "      <td>0</td>\n",
       "      <td>0</td>\n",
       "      <td>Transient</td>\n",
       "      <td>0</td>\n",
       "      <td>0</td>\n",
       "      <td>Winter</td>\n",
       "      <td>-1400.0</td>\n",
       "      <td>1</td>\n",
       "    </tr>\n",
       "    <tr>\n",
       "      <th>1</th>\n",
       "      <td>1</td>\n",
       "      <td>62</td>\n",
       "      <td>2</td>\n",
       "      <td>2</td>\n",
       "      <td>2</td>\n",
       "      <td>0</td>\n",
       "      <td>0</td>\n",
       "      <td>BB</td>\n",
       "      <td>AUT</td>\n",
       "      <td>TA/TO</td>\n",
       "      <td>...</td>\n",
       "      <td>0</td>\n",
       "      <td>A</td>\n",
       "      <td>0</td>\n",
       "      <td>0</td>\n",
       "      <td>Transient</td>\n",
       "      <td>0</td>\n",
       "      <td>1</td>\n",
       "      <td>Winter</td>\n",
       "      <td>-1400.0</td>\n",
       "      <td>0</td>\n",
       "    </tr>\n",
       "    <tr>\n",
       "      <th>2</th>\n",
       "      <td>1</td>\n",
       "      <td>62</td>\n",
       "      <td>2</td>\n",
       "      <td>2</td>\n",
       "      <td>2</td>\n",
       "      <td>0</td>\n",
       "      <td>0</td>\n",
       "      <td>BB</td>\n",
       "      <td>AUT</td>\n",
       "      <td>TA/TO</td>\n",
       "      <td>...</td>\n",
       "      <td>0</td>\n",
       "      <td>A</td>\n",
       "      <td>0</td>\n",
       "      <td>0</td>\n",
       "      <td>Transient</td>\n",
       "      <td>0</td>\n",
       "      <td>1</td>\n",
       "      <td>Winter</td>\n",
       "      <td>-1400.0</td>\n",
       "      <td>0</td>\n",
       "    </tr>\n",
       "    <tr>\n",
       "      <th>3</th>\n",
       "      <td>1</td>\n",
       "      <td>71</td>\n",
       "      <td>2</td>\n",
       "      <td>2</td>\n",
       "      <td>1</td>\n",
       "      <td>0</td>\n",
       "      <td>0</td>\n",
       "      <td>BB</td>\n",
       "      <td>PRT</td>\n",
       "      <td>TA/TO</td>\n",
       "      <td>...</td>\n",
       "      <td>0</td>\n",
       "      <td>A</td>\n",
       "      <td>0</td>\n",
       "      <td>0</td>\n",
       "      <td>Transient</td>\n",
       "      <td>0</td>\n",
       "      <td>1</td>\n",
       "      <td>Winter</td>\n",
       "      <td>-1400.0</td>\n",
       "      <td>1</td>\n",
       "    </tr>\n",
       "    <tr>\n",
       "      <th>4</th>\n",
       "      <td>1</td>\n",
       "      <td>172</td>\n",
       "      <td>2</td>\n",
       "      <td>5</td>\n",
       "      <td>2</td>\n",
       "      <td>0</td>\n",
       "      <td>0</td>\n",
       "      <td>BB</td>\n",
       "      <td>BEL</td>\n",
       "      <td>TA/TO</td>\n",
       "      <td>...</td>\n",
       "      <td>0</td>\n",
       "      <td>A</td>\n",
       "      <td>0</td>\n",
       "      <td>0</td>\n",
       "      <td>Transient</td>\n",
       "      <td>0</td>\n",
       "      <td>0</td>\n",
       "      <td>Winter</td>\n",
       "      <td>-1400.0</td>\n",
       "      <td>1</td>\n",
       "    </tr>\n",
       "  </tbody>\n",
       "</table>\n",
       "<p>5 rows × 22 columns</p>\n",
       "</div>"
      ],
      "text/plain": [
       "   is_canceled  lead_time  stays_in_weekend_nights  stays_in_week_nights  \\\n",
       "0            1         74                        1                     0   \n",
       "1            1         62                        2                     2   \n",
       "2            1         62                        2                     2   \n",
       "3            1         71                        2                     2   \n",
       "4            1        172                        2                     5   \n",
       "\n",
       "   adults  children  babies meal country distribution_channel  ...  \\\n",
       "0       2         0       0   BB     PRT                TA/TO  ...   \n",
       "1       2         0       0   BB     AUT                TA/TO  ...   \n",
       "2       2         0       0   BB     AUT                TA/TO  ...   \n",
       "3       1         0       0   BB     PRT                TA/TO  ...   \n",
       "4       2         0       0   BB     BEL                TA/TO  ...   \n",
       "\n",
       "   previous_bookings_not_canceled  reserved_room_type  booking_changes  \\\n",
       "0                               0                   A                0   \n",
       "1                               0                   A                0   \n",
       "2                               0                   A                0   \n",
       "3                               0                   A                0   \n",
       "4                               0                   A                0   \n",
       "\n",
       "  days_in_waiting_list  customer_type  required_car_parking_spaces  \\\n",
       "0                    0      Transient                            0   \n",
       "1                    0      Transient                            0   \n",
       "2                    0      Transient                            0   \n",
       "3                    0      Transient                            0   \n",
       "4                    0      Transient                            0   \n",
       "\n",
       "  total_of_special_requests  season  profit predict  \n",
       "0                         0  Winter -1400.0       1  \n",
       "1                         1  Winter -1400.0       0  \n",
       "2                         1  Winter -1400.0       0  \n",
       "3                         1  Winter -1400.0       1  \n",
       "4                         0  Winter -1400.0       1  \n",
       "\n",
       "[5 rows x 22 columns]"
      ]
     },
     "execution_count": 56,
     "metadata": {},
     "output_type": "execute_result"
    }
   ],
   "source": [
    "predicted_data = pd.concat([profit_df, pd.DataFrame(f_predictions)], axis=1)\n",
    "predicted_data.rename(columns={0: 'predict'}, inplace=True)\n",
    "predicted_data.head()"
   ]
  },
  {
   "cell_type": "markdown",
   "metadata": {},
   "source": [
    "Прибыль изменится только в том случае, когда модель предсказала, что клиент отменит бронь и он ее действительно отменил: убытки снизятся на 80%. Если модель предсказала, что бронь отменят, а ее не отменили - отель ничего не потеряет. Если наоборот - убытки останутся теми же."
   ]
  },
  {
   "cell_type": "code",
   "execution_count": 57,
   "metadata": {},
   "outputs": [],
   "source": [
    "# изменяет прибыль, если модель предсказала отмену\n",
    "def change_profit(row):\n",
    "    if row['is_canceled'] == 1 and row['predict'] == 1:\n",
    "        row['predicted_profit'] = row['profit'] * 0.2\n",
    "    \n",
    "    return row"
   ]
  },
  {
   "cell_type": "code",
   "execution_count": 58,
   "metadata": {},
   "outputs": [
    {
     "data": {
      "text/html": [
       "<div>\n",
       "<style scoped>\n",
       "    .dataframe tbody tr th:only-of-type {\n",
       "        vertical-align: middle;\n",
       "    }\n",
       "\n",
       "    .dataframe tbody tr th {\n",
       "        vertical-align: top;\n",
       "    }\n",
       "\n",
       "    .dataframe thead th {\n",
       "        text-align: right;\n",
       "    }\n",
       "</style>\n",
       "<table border=\"1\" class=\"dataframe\">\n",
       "  <thead>\n",
       "    <tr style=\"text-align: right;\">\n",
       "      <th></th>\n",
       "      <th>is_canceled</th>\n",
       "      <th>lead_time</th>\n",
       "      <th>stays_in_weekend_nights</th>\n",
       "      <th>stays_in_week_nights</th>\n",
       "      <th>adults</th>\n",
       "      <th>children</th>\n",
       "      <th>babies</th>\n",
       "      <th>meal</th>\n",
       "      <th>country</th>\n",
       "      <th>distribution_channel</th>\n",
       "      <th>...</th>\n",
       "      <th>reserved_room_type</th>\n",
       "      <th>booking_changes</th>\n",
       "      <th>days_in_waiting_list</th>\n",
       "      <th>customer_type</th>\n",
       "      <th>required_car_parking_spaces</th>\n",
       "      <th>total_of_special_requests</th>\n",
       "      <th>season</th>\n",
       "      <th>profit</th>\n",
       "      <th>predict</th>\n",
       "      <th>predicted_profit</th>\n",
       "    </tr>\n",
       "  </thead>\n",
       "  <tbody>\n",
       "    <tr>\n",
       "      <th>0</th>\n",
       "      <td>1</td>\n",
       "      <td>74</td>\n",
       "      <td>1</td>\n",
       "      <td>0</td>\n",
       "      <td>2</td>\n",
       "      <td>0</td>\n",
       "      <td>0</td>\n",
       "      <td>BB</td>\n",
       "      <td>PRT</td>\n",
       "      <td>TA/TO</td>\n",
       "      <td>...</td>\n",
       "      <td>A</td>\n",
       "      <td>0</td>\n",
       "      <td>0</td>\n",
       "      <td>Transient</td>\n",
       "      <td>0</td>\n",
       "      <td>0</td>\n",
       "      <td>Winter</td>\n",
       "      <td>-1400.0</td>\n",
       "      <td>1</td>\n",
       "      <td>-280.0</td>\n",
       "    </tr>\n",
       "    <tr>\n",
       "      <th>1</th>\n",
       "      <td>1</td>\n",
       "      <td>62</td>\n",
       "      <td>2</td>\n",
       "      <td>2</td>\n",
       "      <td>2</td>\n",
       "      <td>0</td>\n",
       "      <td>0</td>\n",
       "      <td>BB</td>\n",
       "      <td>AUT</td>\n",
       "      <td>TA/TO</td>\n",
       "      <td>...</td>\n",
       "      <td>A</td>\n",
       "      <td>0</td>\n",
       "      <td>0</td>\n",
       "      <td>Transient</td>\n",
       "      <td>0</td>\n",
       "      <td>1</td>\n",
       "      <td>Winter</td>\n",
       "      <td>-1400.0</td>\n",
       "      <td>0</td>\n",
       "      <td>-1400.0</td>\n",
       "    </tr>\n",
       "    <tr>\n",
       "      <th>2</th>\n",
       "      <td>1</td>\n",
       "      <td>62</td>\n",
       "      <td>2</td>\n",
       "      <td>2</td>\n",
       "      <td>2</td>\n",
       "      <td>0</td>\n",
       "      <td>0</td>\n",
       "      <td>BB</td>\n",
       "      <td>AUT</td>\n",
       "      <td>TA/TO</td>\n",
       "      <td>...</td>\n",
       "      <td>A</td>\n",
       "      <td>0</td>\n",
       "      <td>0</td>\n",
       "      <td>Transient</td>\n",
       "      <td>0</td>\n",
       "      <td>1</td>\n",
       "      <td>Winter</td>\n",
       "      <td>-1400.0</td>\n",
       "      <td>0</td>\n",
       "      <td>-1400.0</td>\n",
       "    </tr>\n",
       "    <tr>\n",
       "      <th>3</th>\n",
       "      <td>1</td>\n",
       "      <td>71</td>\n",
       "      <td>2</td>\n",
       "      <td>2</td>\n",
       "      <td>1</td>\n",
       "      <td>0</td>\n",
       "      <td>0</td>\n",
       "      <td>BB</td>\n",
       "      <td>PRT</td>\n",
       "      <td>TA/TO</td>\n",
       "      <td>...</td>\n",
       "      <td>A</td>\n",
       "      <td>0</td>\n",
       "      <td>0</td>\n",
       "      <td>Transient</td>\n",
       "      <td>0</td>\n",
       "      <td>1</td>\n",
       "      <td>Winter</td>\n",
       "      <td>-1400.0</td>\n",
       "      <td>1</td>\n",
       "      <td>-280.0</td>\n",
       "    </tr>\n",
       "    <tr>\n",
       "      <th>4</th>\n",
       "      <td>1</td>\n",
       "      <td>172</td>\n",
       "      <td>2</td>\n",
       "      <td>5</td>\n",
       "      <td>2</td>\n",
       "      <td>0</td>\n",
       "      <td>0</td>\n",
       "      <td>BB</td>\n",
       "      <td>BEL</td>\n",
       "      <td>TA/TO</td>\n",
       "      <td>...</td>\n",
       "      <td>A</td>\n",
       "      <td>0</td>\n",
       "      <td>0</td>\n",
       "      <td>Transient</td>\n",
       "      <td>0</td>\n",
       "      <td>0</td>\n",
       "      <td>Winter</td>\n",
       "      <td>-1400.0</td>\n",
       "      <td>1</td>\n",
       "      <td>-280.0</td>\n",
       "    </tr>\n",
       "  </tbody>\n",
       "</table>\n",
       "<p>5 rows × 23 columns</p>\n",
       "</div>"
      ],
      "text/plain": [
       "   is_canceled  lead_time  stays_in_weekend_nights  stays_in_week_nights  \\\n",
       "0            1         74                        1                     0   \n",
       "1            1         62                        2                     2   \n",
       "2            1         62                        2                     2   \n",
       "3            1         71                        2                     2   \n",
       "4            1        172                        2                     5   \n",
       "\n",
       "   adults  children  babies meal country distribution_channel  ...  \\\n",
       "0       2         0       0   BB     PRT                TA/TO  ...   \n",
       "1       2         0       0   BB     AUT                TA/TO  ...   \n",
       "2       2         0       0   BB     AUT                TA/TO  ...   \n",
       "3       1         0       0   BB     PRT                TA/TO  ...   \n",
       "4       2         0       0   BB     BEL                TA/TO  ...   \n",
       "\n",
       "   reserved_room_type  booking_changes  days_in_waiting_list customer_type  \\\n",
       "0                   A                0                     0     Transient   \n",
       "1                   A                0                     0     Transient   \n",
       "2                   A                0                     0     Transient   \n",
       "3                   A                0                     0     Transient   \n",
       "4                   A                0                     0     Transient   \n",
       "\n",
       "   required_car_parking_spaces  total_of_special_requests  season  profit  \\\n",
       "0                            0                          0  Winter -1400.0   \n",
       "1                            0                          1  Winter -1400.0   \n",
       "2                            0                          1  Winter -1400.0   \n",
       "3                            0                          1  Winter -1400.0   \n",
       "4                            0                          0  Winter -1400.0   \n",
       "\n",
       "   predict predicted_profit  \n",
       "0        1           -280.0  \n",
       "1        0          -1400.0  \n",
       "2        0          -1400.0  \n",
       "3        1           -280.0  \n",
       "4        1           -280.0  \n",
       "\n",
       "[5 rows x 23 columns]"
      ]
     },
     "execution_count": 58,
     "metadata": {},
     "output_type": "execute_result"
    }
   ],
   "source": [
    "predicted_data['predicted_profit'] = predicted_data['profit']\n",
    "predicted_data = predicted_data.apply(change_profit, axis=1)\n",
    "predicted_data.head()"
   ]
  },
  {
   "cell_type": "code",
   "execution_count": 59,
   "metadata": {},
   "outputs": [
    {
     "name": "stdout",
     "output_type": "stream",
     "text": [
      "Прибыль ДО: 28257360.0\n",
      "Прибыль ПОСЛЕ: 38569488.0\n",
      "Разница составит: 10312128.0\n"
     ]
    }
   ],
   "source": [
    "profit_before = predicted_data[\"profit\"].sum()\n",
    "profit_after = predicted_data[\"predicted_profit\"].sum()\n",
    "\n",
    "print(f'Прибыль ДО: {profit_before}')\n",
    "print(f'Прибыль ПОСЛЕ: {profit_after}')\n",
    "print(f'Разница составит: {profit_after - profit_before}')"
   ]
  },
  {
   "cell_type": "markdown",
   "metadata": {},
   "source": [
    "Таким образом, внедрение модели и системы депозитов позволит увеличить прибыль отеля на 10 млн рублей, что с избытком покроет затраты на разработку модели (400 тыс.руб.)."
   ]
  },
  {
   "cell_type": "markdown",
   "metadata": {},
   "source": [
    "<div class=\"alert alert-success\">\n",
    "<b>Комментарий ревьюера:\n",
    "&#9989;</b> Отлично! </div>"
   ]
  },
  {
   "cell_type": "markdown",
   "metadata": {},
   "source": [
    "<a id=\"client\"></a>\n",
    "### Шаг 5. Опишите портрет «ненадёжного» клиента"
   ]
  },
  {
   "cell_type": "markdown",
   "metadata": {},
   "source": [
    "Попробуем определить, есть ли в данных признаки, которые бы существенно отличали надежного клиента от \"ненадежного\"."
   ]
  },
  {
   "cell_type": "code",
   "execution_count": 60,
   "metadata": {},
   "outputs": [
    {
     "data": {
      "text/plain": [
       "Index(['is_canceled', 'lead_time', 'stays_in_weekend_nights',\n",
       "       'stays_in_week_nights', 'adults', 'children', 'babies', 'meal',\n",
       "       'country', 'distribution_channel', 'is_repeated_guest',\n",
       "       'previous_cancellations', 'previous_bookings_not_canceled',\n",
       "       'reserved_room_type', 'booking_changes', 'days_in_waiting_list',\n",
       "       'customer_type', 'required_car_parking_spaces',\n",
       "       'total_of_special_requests', 'season'],\n",
       "      dtype='object')"
      ]
     },
     "execution_count": 60,
     "metadata": {},
     "output_type": "execute_result"
    }
   ],
   "source": [
    "train_data.columns"
   ]
  },
  {
   "cell_type": "code",
   "execution_count": 61,
   "metadata": {},
   "outputs": [],
   "source": [
    "train_data['is_canceled'] = train_data['is_canceled'].astype(bool)"
   ]
  },
  {
   "cell_type": "code",
   "execution_count": 62,
   "metadata": {},
   "outputs": [
    {
     "data": {
      "image/png": "[encoded data removed]",
      "text/plain": [
       "<Figure size 432x288 with 1 Axes>"
      ]
     },
     "metadata": {
      "needs_background": "light"
     },
     "output_type": "display_data"
    }
   ],
   "source": [
    "train_data.groupby('is_canceled')['lead_time'].mean().plot(kind='bar', xlabel='Отменили бронь', ylabel='Дни')\n",
    "plt.title('Среднее кол-во дней между бронированием и заездом')\n",
    "plt.xticks(rotation=0)\n",
    "plt.show()"
   ]
  },
  {
   "cell_type": "markdown",
   "metadata": {},
   "source": [
    "Можно заметить существенную разницу. \"Ненадежные\" клиенты, в среднем, бронируют номера **сильно заранее (примерно за полгода)**."
   ]
  },
  {
   "cell_type": "code",
   "execution_count": 63,
   "metadata": {},
   "outputs": [
    {
     "data": {
      "image/png": "[encoded data removed]",
      "text/plain": [
       "<Figure size 720x216 with 2 Axes>"
      ]
     },
     "metadata": {
      "needs_background": "light"
     },
     "output_type": "display_data"
    }
   ],
   "source": [
    "fig, ax = plt.subplots(1, 2)\n",
    "fig.set_figheight(3)\n",
    "fig.set_figwidth(10)\n",
    "\n",
    "train_data.groupby('is_canceled')['stays_in_weekend_nights'].mean().plot(kind='bar', xlabel='Отменили бронь', ylabel='Ночи', \n",
    "                                                                         ax=ax[0], title='Среднее количество ночей в выходные')\n",
    "ax[0].tick_params(axis='x', labelrotation=0)\n",
    "\n",
    "train_data.groupby('is_canceled')['stays_in_week_nights'].mean().plot(kind='bar', xlabel='Отменили бронь', ylabel='Ночи', \n",
    "                                                                      ax=ax[1], title='Среднее количество ночей в будние')\n",
    "plt.xticks(rotation=0)\n",
    "plt.show()"
   ]
  },
  {
   "cell_type": "markdown",
   "metadata": {},
   "source": [
    "По среднему количеству ночей в выходные/будние дни особых отличий не наблюдается."
   ]
  },
  {
   "cell_type": "code",
   "execution_count": 64,
   "metadata": {},
   "outputs": [
    {
     "data": {
      "image/png": "[encoded data removed]",
      "text/plain": [
       "<Figure size 432x288 with 1 Axes>"
      ]
     },
     "metadata": {
      "needs_background": "light"
     },
     "output_type": "display_data"
    }
   ],
   "source": [
    "train_data.groupby('is_canceled')['adults'].mean().plot(kind='bar', xlabel='Отменили бронь', title='Среднее кол-во взрослых')\n",
    "plt.show()"
   ]
  },
  {
   "cell_type": "code",
   "execution_count": 65,
   "metadata": {},
   "outputs": [
    {
     "data": {
      "image/png": "[encoded data removed]",
      "text/plain": [
       "<Figure size 432x288 with 1 Axes>"
      ]
     },
     "metadata": {
      "needs_background": "light"
     },
     "output_type": "display_data"
    }
   ],
   "source": [
    "pd.pivot_table(train_data, index='is_canceled', values=['children', 'babies']).plot(kind='bar', xlabel='Отменили бронь')\n",
    "plt.title('Среднее по детям')\n",
    "plt.xticks(rotation=0)\n",
    "plt.show()"
   ]
  },
  {
   "cell_type": "markdown",
   "metadata": {},
   "source": [
    "В среднем, в номер заселяются по два человека и в том, и другом случае, и зачастую без детей. При этом, клиенты, отменившие бронирование, реже берут с собой детей и тем более младенцев."
   ]
  },
  {
   "cell_type": "code",
   "execution_count": 66,
   "metadata": {},
   "outputs": [
    {
     "data": {
      "image/png": "[encoded data removed]",
      "text/plain": [
       "<Figure size 720x216 with 2 Axes>"
      ]
     },
     "metadata": {},
     "output_type": "display_data"
    }
   ],
   "source": [
    "fig, ax = plt.subplots(1, 2)\n",
    "fig.set_figheight(3)\n",
    "fig.set_figwidth(10)\n",
    "\n",
    "train_data.query('is_canceled == True')['meal'].value_counts().plot(kind='pie', autopct='%1.f%%', ax=ax[0],\n",
    "                                                                    title='Популярность опций у отменивших бронь')\n",
    "\n",
    "train_data.query('is_canceled == False')['meal'].value_counts().plot(kind='pie', autopct='%1.f%%', ax=ax[1],\n",
    "                                                                    title='Популярность опций у неотменивших')\n",
    "\n",
    "plt.show()"
   ]
  },
  {
   "cell_type": "markdown",
   "metadata": {},
   "source": [
    "Доли клиентов, приходящихся на каждую опцию примерно совпадают. Чаще всего гости предпочитают включать в заказ только завтрак. Менее популярным оказался вариант \"все включено\" - и завтрак, и обед, и ужин."
   ]
  },
  {
   "cell_type": "code",
   "execution_count": 67,
   "metadata": {},
   "outputs": [
    {
     "data": {
      "image/png": "[encoded data removed]",
      "text/plain": [
       "<Figure size 720x360 with 2 Axes>"
      ]
     },
     "metadata": {},
     "output_type": "display_data"
    }
   ],
   "source": [
    "fig, ax = plt.subplots(1, 2)\n",
    "fig.set_figheight(5)\n",
    "fig.set_figwidth(10)\n",
    "\n",
    "train_data.query('is_canceled == True')['customer_type'].value_counts().plot(kind='pie', autopct='%1.f%%', ax=ax[0],\n",
    "                                                                    title='Тип клиента, отменившего заказ')\n",
    "\n",
    "train_data.query('is_canceled == False')['customer_type'].value_counts().plot(kind='pie', autopct='%1.f%%', ax=ax[1],\n",
    "                                                                    title='Тип клиента, подтвердившего заказ')\n",
    "\n",
    "plt.show()"
   ]
  },
  {
   "cell_type": "markdown",
   "metadata": {},
   "source": [
    "Соотношение различных типов клиентов также схоже. БОльшая часть посетителей приезжают сами (без договора или группы)."
   ]
  },
  {
   "cell_type": "code",
   "execution_count": 68,
   "metadata": {},
   "outputs": [
    {
     "data": {
      "image/png": "[encoded data removed]",
      "text/plain": [
       "<Figure size 432x288 with 1 Axes>"
      ]
     },
     "metadata": {
      "needs_background": "light"
     },
     "output_type": "display_data"
    }
   ],
   "source": [
    "train_data.groupby('is_canceled')['required_car_parking_spaces'].mean().plot(kind='bar', xlabel='Отменили бронь', title='Парковочные места')\n",
    "plt.show()"
   ]
  },
  {
   "cell_type": "markdown",
   "metadata": {},
   "source": [
    "Интересно, что 100% клиентов, которые заявили о необходимости парковочного места (хотя бы одного), не отменяли бронирования."
   ]
  },
  {
   "cell_type": "code",
   "execution_count": 69,
   "metadata": {},
   "outputs": [
    {
     "data": {
      "text/html": [
       "<div>\n",
       "<style scoped>\n",
       "    .dataframe tbody tr th:only-of-type {\n",
       "        vertical-align: middle;\n",
       "    }\n",
       "\n",
       "    .dataframe tbody tr th {\n",
       "        vertical-align: top;\n",
       "    }\n",
       "\n",
       "    .dataframe thead th {\n",
       "        text-align: right;\n",
       "    }\n",
       "</style>\n",
       "<table border=\"1\" class=\"dataframe\">\n",
       "  <thead>\n",
       "    <tr style=\"text-align: right;\">\n",
       "      <th></th>\n",
       "      <th>mean</th>\n",
       "      <th>sum</th>\n",
       "    </tr>\n",
       "    <tr>\n",
       "      <th>country</th>\n",
       "      <th></th>\n",
       "      <th></th>\n",
       "    </tr>\n",
       "  </thead>\n",
       "  <tbody>\n",
       "    <tr>\n",
       "      <th>HKG</th>\n",
       "      <td>1.000000</td>\n",
       "      <td>16</td>\n",
       "    </tr>\n",
       "    <tr>\n",
       "      <th>TJK</th>\n",
       "      <td>1.000000</td>\n",
       "      <td>8</td>\n",
       "    </tr>\n",
       "    <tr>\n",
       "      <th>JEY</th>\n",
       "      <td>1.000000</td>\n",
       "      <td>5</td>\n",
       "    </tr>\n",
       "    <tr>\n",
       "      <th>GGY</th>\n",
       "      <td>1.000000</td>\n",
       "      <td>3</td>\n",
       "    </tr>\n",
       "    <tr>\n",
       "      <th>GLP</th>\n",
       "      <td>1.000000</td>\n",
       "      <td>2</td>\n",
       "    </tr>\n",
       "    <tr>\n",
       "      <th>KHM</th>\n",
       "      <td>1.000000</td>\n",
       "      <td>2</td>\n",
       "    </tr>\n",
       "    <tr>\n",
       "      <th>MAC</th>\n",
       "      <td>1.000000</td>\n",
       "      <td>2</td>\n",
       "    </tr>\n",
       "    <tr>\n",
       "      <th>AND</th>\n",
       "      <td>1.000000</td>\n",
       "      <td>1</td>\n",
       "    </tr>\n",
       "    <tr>\n",
       "      <th>BEN</th>\n",
       "      <td>1.000000</td>\n",
       "      <td>1</td>\n",
       "    </tr>\n",
       "    <tr>\n",
       "      <th>HND</th>\n",
       "      <td>1.000000</td>\n",
       "      <td>1</td>\n",
       "    </tr>\n",
       "    <tr>\n",
       "      <th>IMN</th>\n",
       "      <td>1.000000</td>\n",
       "      <td>1</td>\n",
       "    </tr>\n",
       "    <tr>\n",
       "      <th>NIC</th>\n",
       "      <td>1.000000</td>\n",
       "      <td>1</td>\n",
       "    </tr>\n",
       "    <tr>\n",
       "      <th>UZB</th>\n",
       "      <td>1.000000</td>\n",
       "      <td>1</td>\n",
       "    </tr>\n",
       "    <tr>\n",
       "      <th>VGB</th>\n",
       "      <td>1.000000</td>\n",
       "      <td>1</td>\n",
       "    </tr>\n",
       "    <tr>\n",
       "      <th>ZMB</th>\n",
       "      <td>1.000000</td>\n",
       "      <td>1</td>\n",
       "    </tr>\n",
       "    <tr>\n",
       "      <th>ARE</th>\n",
       "      <td>0.884615</td>\n",
       "      <td>23</td>\n",
       "    </tr>\n",
       "    <tr>\n",
       "      <th>IDN</th>\n",
       "      <td>0.842105</td>\n",
       "      <td>16</td>\n",
       "    </tr>\n",
       "    <tr>\n",
       "      <th>PAK</th>\n",
       "      <td>0.833333</td>\n",
       "      <td>5</td>\n",
       "    </tr>\n",
       "    <tr>\n",
       "      <th>QAT</th>\n",
       "      <td>0.833333</td>\n",
       "      <td>5</td>\n",
       "    </tr>\n",
       "    <tr>\n",
       "      <th>MDV</th>\n",
       "      <td>0.800000</td>\n",
       "      <td>4</td>\n",
       "    </tr>\n",
       "    <tr>\n",
       "      <th>BGD</th>\n",
       "      <td>0.777778</td>\n",
       "      <td>7</td>\n",
       "    </tr>\n",
       "    <tr>\n",
       "      <th>NGA</th>\n",
       "      <td>0.722222</td>\n",
       "      <td>13</td>\n",
       "    </tr>\n",
       "    <tr>\n",
       "      <th>GEO</th>\n",
       "      <td>0.700000</td>\n",
       "      <td>7</td>\n",
       "    </tr>\n",
       "    <tr>\n",
       "      <th>SAU</th>\n",
       "      <td>0.666667</td>\n",
       "      <td>12</td>\n",
       "    </tr>\n",
       "    <tr>\n",
       "      <th>PRT</th>\n",
       "      <td>0.576381</td>\n",
       "      <td>16594</td>\n",
       "    </tr>\n",
       "  </tbody>\n",
       "</table>\n",
       "</div>"
      ],
      "text/plain": [
       "             mean    sum\n",
       "country                 \n",
       "HKG      1.000000     16\n",
       "TJK      1.000000      8\n",
       "JEY      1.000000      5\n",
       "GGY      1.000000      3\n",
       "GLP      1.000000      2\n",
       "KHM      1.000000      2\n",
       "MAC      1.000000      2\n",
       "AND      1.000000      1\n",
       "BEN      1.000000      1\n",
       "HND      1.000000      1\n",
       "IMN      1.000000      1\n",
       "NIC      1.000000      1\n",
       "UZB      1.000000      1\n",
       "VGB      1.000000      1\n",
       "ZMB      1.000000      1\n",
       "ARE      0.884615     23\n",
       "IDN      0.842105     16\n",
       "PAK      0.833333      5\n",
       "QAT      0.833333      5\n",
       "MDV      0.800000      4\n",
       "BGD      0.777778      7\n",
       "NGA      0.722222     13\n",
       "GEO      0.700000      7\n",
       "SAU      0.666667     12\n",
       "PRT      0.576381  16594"
      ]
     },
     "execution_count": 69,
     "metadata": {},
     "output_type": "execute_result"
    }
   ],
   "source": [
    "country_pivot = pd.pivot_table(train_data, index='country', values='is_canceled', aggfunc=['mean', 'sum'])\n",
    "country_pivot.columns = ['mean', 'sum']\n",
    "country_pivot.sort_values(by=['mean', 'sum'], ascending=False).head(25)\n",
    "# plt.title('Топ-30 стран по отмене бронирований')\n",
    "# plt.show()"
   ]
  },
  {
   "cell_type": "markdown",
   "metadata": {},
   "source": [
    "Есть страны со 100% отменой бронирования, однако зачастую на них приходится по 1-2 заказа. Однако, можно выделить Гонконг, Объединенные арабские эмираты, Индонезию, а также Португалию. Последняя лидирует по количеству оформленных бронирований, но при этом, больше половины из них отменяются."
   ]
  },
  {
   "cell_type": "code",
   "execution_count": 70,
   "metadata": {},
   "outputs": [
    {
     "data": {
      "image/png": "[encoded data removed]",
      "text/plain": [
       "<Figure size 1080x216 with 3 Axes>"
      ]
     },
     "metadata": {
      "needs_background": "light"
     },
     "output_type": "display_data"
    }
   ],
   "source": [
    "fig, ax = plt.subplots(1, 3)\n",
    "fig.set_figheight(3)\n",
    "fig.set_figwidth(15)\n",
    "\n",
    "train_data.groupby('is_canceled')['is_repeated_guest'].mean().plot(kind='bar', title='Процент повторных гостей', ax=ax[0])\n",
    "ax[0].tick_params(axis='x', labelrotation=0)\n",
    "\n",
    "train_data.groupby('is_canceled')['previous_cancellations'].mean().plot(kind='bar', title='Среднее кол-во предыдущих отмен', ax=ax[1])\n",
    "ax[1].tick_params(axis='x', labelrotation=0)\n",
    "\n",
    "train_data.groupby('is_canceled')['previous_bookings_not_canceled'].mean().plot(kind='bar', title='Среднее кол-во заездов', ax=ax[2])\n",
    "ax[2].tick_params(axis='x', labelrotation=0)\n",
    "\n",
    "plt.show()"
   ]
  },
  {
   "cell_type": "markdown",
   "metadata": {},
   "source": [
    "Как и ожидалось, среди тех, кто уже был в этом отеле, меньший процент людей отменяет бронирование. При этом, повторные гости, склонные отменить текущую бронь, раньше уже отменяли поездку. "
   ]
  },
  {
   "cell_type": "code",
   "execution_count": 71,
   "metadata": {},
   "outputs": [
    {
     "data": {
      "image/png": "[encoded data removed]",
      "text/plain": [
       "<Figure size 1080x216 with 3 Axes>"
      ]
     },
     "metadata": {
      "needs_background": "light"
     },
     "output_type": "display_data"
    }
   ],
   "source": [
    "fig, ax = plt.subplots(1, 3)\n",
    "fig.set_figheight(3)\n",
    "fig.set_figwidth(15)\n",
    "\n",
    "train_data.groupby('is_canceled')['booking_changes'].mean().plot(kind='bar', title='Среднее кол-во изменений', ax=ax[0])\n",
    "ax[0].tick_params(axis='x', labelrotation=0)\n",
    "\n",
    "train_data.groupby('is_canceled')['days_in_waiting_list'].mean().plot(kind='bar', title='Среднее кол-во дней ожидания', ax=ax[1])\n",
    "ax[1].tick_params(axis='x', labelrotation=0)\n",
    "\n",
    "train_data.groupby('is_canceled')['total_of_special_requests'].mean().plot(kind='bar', title='Количество специальных отметок', ax=ax[2])\n",
    "ax[2].tick_params(axis='x', labelrotation=0)\n",
    "\n",
    "plt.show()"
   ]
  },
  {
   "cell_type": "markdown",
   "metadata": {},
   "source": [
    "При этом, люди, склонные действительно заселиться, вносят бОльше изменений и к их бронированию прилагается бОльше специальных отметок (возможно, это взаимосвязанные параметры). При этом, они примерно в два раза быстрее подтверждают заказ."
   ]
  },
  {
   "cell_type": "code",
   "execution_count": 72,
   "metadata": {},
   "outputs": [
    {
     "data": {
      "text/html": [
       "<style  type=\"text/css\" >\n",
       "#T_63440_row0_col0,#T_63440_row0_col1{\n",
       "            background-color:  #00441b;\n",
       "            color:  #f1f1f1;\n",
       "        }#T_63440_row1_col0{\n",
       "            background-color:  #60ba6c;\n",
       "            color:  #000000;\n",
       "        }#T_63440_row1_col1,#T_63440_row6_col1{\n",
       "            background-color:  #f6fcf4;\n",
       "            color:  #000000;\n",
       "        }#T_63440_row2_col0,#T_63440_row2_col1{\n",
       "            background-color:  #f7fcf5;\n",
       "            color:  #000000;\n",
       "        }#T_63440_row3_col0{\n",
       "            background-color:  #53b466;\n",
       "            color:  #000000;\n",
       "        }#T_63440_row3_col1{\n",
       "            background-color:  #e1f3dc;\n",
       "            color:  #000000;\n",
       "        }#T_63440_row4_col0{\n",
       "            background-color:  #b8e3b2;\n",
       "            color:  #000000;\n",
       "        }#T_63440_row4_col1{\n",
       "            background-color:  #f3faf0;\n",
       "            color:  #000000;\n",
       "        }#T_63440_row5_col0{\n",
       "            background-color:  #78c679;\n",
       "            color:  #000000;\n",
       "        }#T_63440_row5_col1{\n",
       "            background-color:  #f5fbf3;\n",
       "            color:  #000000;\n",
       "        }#T_63440_row6_col0{\n",
       "            background-color:  #38a156;\n",
       "            color:  #000000;\n",
       "        }</style><table id=\"T_63440_\" ><thead>    <tr>        <th class=\"blank level0\" ></th>        <th class=\"col_heading level0 col0\" >mean</th>        <th class=\"col_heading level0 col1\" >sum</th>    </tr>    <tr>        <th class=\"blank level1\" ></th>        <th class=\"col_heading level1 col0\" >is_canceled</th>        <th class=\"col_heading level1 col1\" >is_canceled</th>    </tr>    <tr>        <th class=\"index_name level0\" >reserved_room_type</th>        <th class=\"blank\" ></th>        <th class=\"blank\" ></th>    </tr></thead><tbody>\n",
       "                <tr>\n",
       "                        <th id=\"T_63440_level0_row0\" class=\"row_heading level0 row0\" >A</th>\n",
       "                        <td id=\"T_63440_row0_col0\" class=\"data row0 col0\" >0.390615</td>\n",
       "                        <td id=\"T_63440_row0_col1\" class=\"data row0 col1\" >19721</td>\n",
       "            </tr>\n",
       "            <tr>\n",
       "                        <th id=\"T_63440_level0_row1\" class=\"row_heading level0 row1\" >B</th>\n",
       "                        <td id=\"T_63440_row1_col0\" class=\"data row1 col0\" >0.299720</td>\n",
       "                        <td id=\"T_63440_row1_col1\" class=\"data row1 col1\" >214</td>\n",
       "            </tr>\n",
       "            <tr>\n",
       "                        <th id=\"T_63440_level0_row2\" class=\"row_heading level0 row2\" >C</th>\n",
       "                        <td id=\"T_63440_row2_col0\" class=\"data row2 col0\" >0.188596</td>\n",
       "                        <td id=\"T_63440_row2_col1\" class=\"data row2 col1\" >43</td>\n",
       "            </tr>\n",
       "            <tr>\n",
       "                        <th id=\"T_63440_level0_row3\" class=\"row_heading level0 row3\" >D</th>\n",
       "                        <td id=\"T_63440_row3_col0\" class=\"data row3 col0\" >0.305946</td>\n",
       "                        <td id=\"T_63440_row3_col1\" class=\"data row3 col1\" >2871</td>\n",
       "            </tr>\n",
       "            <tr>\n",
       "                        <th id=\"T_63440_level0_row4\" class=\"row_heading level0 row4\" >E</th>\n",
       "                        <td id=\"T_63440_row4_col0\" class=\"data row4 col0\" >0.248671</td>\n",
       "                        <td id=\"T_63440_row4_col1\" class=\"data row4 col1\" >608</td>\n",
       "            </tr>\n",
       "            <tr>\n",
       "                        <th id=\"T_63440_level0_row5\" class=\"row_heading level0 row5\" >F</th>\n",
       "                        <td id=\"T_63440_row5_col0\" class=\"data row5 col0\" >0.287366</td>\n",
       "                        <td id=\"T_63440_row5_col1\" class=\"data row5 col1\" >348</td>\n",
       "            </tr>\n",
       "            <tr>\n",
       "                        <th id=\"T_63440_level0_row6\" class=\"row_heading level0 row6\" >G</th>\n",
       "                        <td id=\"T_63440_row6_col0\" class=\"data row6 col0\" >0.322635</td>\n",
       "                        <td id=\"T_63440_row6_col1\" class=\"data row6 col1\" >191</td>\n",
       "            </tr>\n",
       "    </tbody></table>"
      ],
      "text/plain": [
       "<pandas.io.formats.style.Styler at 0x7f883e563700>"
      ]
     },
     "execution_count": 72,
     "metadata": {},
     "output_type": "execute_result"
    }
   ],
   "source": [
    "room_pivot = pd.pivot_table(train_data, index='reserved_room_type', values='is_canceled', aggfunc=['mean', 'sum'])\n",
    "room_pivot.style.background_gradient(cmap='Greens')"
   ]
  },
  {
   "cell_type": "markdown",
   "metadata": {},
   "source": [
    "Наибольший процент отмен наблюдается для комнат самого высокого класса, на втором месте - самого низкого. При этом, если номера категории А выбирает бОльшая часть посететилей в принципе, то комнаты класса G - менее 200.  "
   ]
  },
  {
   "cell_type": "code",
   "execution_count": 73,
   "metadata": {},
   "outputs": [
    {
     "data": {
      "text/html": [
       "<style  type=\"text/css\" >\n",
       "#T_6afdf_row0_col0{\n",
       "            background-color:  #3fa95c;\n",
       "            color:  #000000;\n",
       "        }#T_6afdf_row0_col1,#T_6afdf_row2_col0{\n",
       "            background-color:  #00441b;\n",
       "            color:  #f1f1f1;\n",
       "        }#T_6afdf_row1_col0{\n",
       "            background-color:  #acdea6;\n",
       "            color:  #000000;\n",
       "        }#T_6afdf_row1_col1{\n",
       "            background-color:  #cbeac4;\n",
       "            color:  #000000;\n",
       "        }#T_6afdf_row2_col1{\n",
       "            background-color:  #4db163;\n",
       "            color:  #000000;\n",
       "        }#T_6afdf_row3_col0,#T_6afdf_row3_col1{\n",
       "            background-color:  #f7fcf5;\n",
       "            color:  #000000;\n",
       "        }</style><table id=\"T_6afdf_\" ><thead>    <tr>        <th class=\"blank level0\" ></th>        <th class=\"col_heading level0 col0\" >mean</th>        <th class=\"col_heading level0 col1\" >sum</th>    </tr>    <tr>        <th class=\"blank level1\" ></th>        <th class=\"col_heading level1 col0\" >is_canceled</th>        <th class=\"col_heading level1 col1\" >is_canceled</th>    </tr>    <tr>        <th class=\"index_name level0\" >season</th>        <th class=\"blank\" ></th>        <th class=\"blank\" ></th>    </tr></thead><tbody>\n",
       "                <tr>\n",
       "                        <th id=\"T_6afdf_level0_row0\" class=\"row_heading level0 row0\" >Autumn</th>\n",
       "                        <td id=\"T_6afdf_row0_col0\" class=\"data row0 col0\" >0.373038</td>\n",
       "                        <td id=\"T_6afdf_row0_col1\" class=\"data row0 col1\" >8863</td>\n",
       "            </tr>\n",
       "            <tr>\n",
       "                        <th id=\"T_6afdf_level0_row1\" class=\"row_heading level0 row1\" >Spring</th>\n",
       "                        <td id=\"T_6afdf_row1_col0\" class=\"data row1 col0\" >0.354926</td>\n",
       "                        <td id=\"T_6afdf_row1_col1\" class=\"data row1 col1\" >4827</td>\n",
       "            </tr>\n",
       "            <tr>\n",
       "                        <th id=\"T_6afdf_level0_row2\" class=\"row_heading level0 row2\" >Summer</th>\n",
       "                        <td id=\"T_6afdf_row2_col0\" class=\"data row2 col0\" >0.396141</td>\n",
       "                        <td id=\"T_6afdf_row2_col1\" class=\"data row2 col1\" >6734</td>\n",
       "            </tr>\n",
       "            <tr>\n",
       "                        <th id=\"T_6afdf_level0_row3\" class=\"row_heading level0 row3\" >Winter</th>\n",
       "                        <td id=\"T_6afdf_row3_col0\" class=\"data row3 col0\" >0.333738</td>\n",
       "                        <td id=\"T_6afdf_row3_col1\" class=\"data row3 col1\" >3572</td>\n",
       "            </tr>\n",
       "    </tbody></table>"
      ],
      "text/plain": [
       "<pandas.io.formats.style.Styler at 0x7f883e671e20>"
      ]
     },
     "execution_count": 73,
     "metadata": {},
     "output_type": "execute_result"
    }
   ],
   "source": [
    "room_pivot = pd.pivot_table(train_data, index='season', values='is_canceled', aggfunc=['mean', 'sum'])\n",
    "room_pivot.style.background_gradient(cmap='Greens')"
   ]
  },
  {
   "cell_type": "markdown",
   "metadata": {},
   "source": [
    "Как можно заменить, самый высокий процент отмен летом, несмотря на то, что бОльшая часть клиентов предпочитает приезжать осенью."
   ]
  },
  {
   "cell_type": "markdown",
   "metadata": {},
   "source": [
    "Таким образом, **основные черты \"ненадежного\" клиента**:\n",
    "- бронирует номер сильно заранее (в среднем, за полгода)\n",
    "- с меньшей вероятностью берет с собой детей\n",
    "- не заявляет о необходимости парковочного места\n",
    "- скорее всего, ранее здесь не был, а если был - ранее отменял бронирование\n",
    "- его заказ долго ожидает подтверждения\n",
    "- в заказ почти не вносятся изменения и специальные отметки\n",
    "\n",
    "При этом, надо быть внимательным к гостям, приезжающим из \"редких\" стран, заказывающим номер с самой высокой стоимостью или же наоборот, с самой низкой. В особенности летом, когда наблюдается самый высокий процент отмен."
   ]
  },
  {
   "cell_type": "markdown",
   "metadata": {},
   "source": [
    "<div class=\"alert alert-success\">\n",
    "<b>Комментарий ревьюера:\n",
    "&#9989;</b> Отлично! </div>"
   ]
  },
  {
   "cell_type": "markdown",
   "metadata": {},
   "source": [
    "<a id=\"conclusion\"></a>\n",
    "### Шаг 6. Напишите общий вывод"
   ]
  },
  {
   "cell_type": "markdown",
   "metadata": {},
   "source": [
    "В рамках данного исследования предполагалось разработать систему, которая предсказывает отказ от брони номера в отеле. Данные включали в себя два набора - тренировочный (65 тыс. строк) и тестовый (32 тыс.строк), в каждом из которых содержалось по 24 признака и 1 целевой переменной. \n",
    "\n",
    "На этапе предобработки данных были удалены некоторые некорректные значения и неявные дубликаты, исправлены несоответствия в типах данных. Тренировочный набор был приведен к виду, подходящему для последующего обучения модели: некоторые признаки были удалены, оставшиеся числовые - стандартизированы, категориальные - закодированы *методом OHE*. \n",
    "\n",
    "С учетом задачи, для оценки эффективности модели была предложена метрика recall (полнота), позволяющая оценить долю правильно определенных \"ненадежных\" клиентов. Из алгоритмов обучения - сравнивались два наиболее известных: *Random Forest* и *Логистическая регрессия*. Самые высокие результаты были получены при обучении модели *случайного леса, включающей 11 деревьев с максимальной глубиной 2*: **recall=0.791**. Т.е. модель успешно определяла 4/5 отмененных брони на тренировочном наборе. На тестовом та же модель показала чуть более низкий результат: **recall=0.664**. Расчеты прибыли До и После подтвердили: внедрение системы депозитов, в основе которой лежала бы данная ML модель, позволит увеличить прибыль отеля на **36%** (10 млн рублей), что с избытком покроет затраты на ее разработку.\n",
    "\n",
    "Дополнительно, было изучено влияние признаков на отмену брони и составлен \"портрет ненадежного клиента\". Как оказалось, люди, склонные отменять заказ, стараются бронировать номер заранее, редко берут с собой детей и приезжают на автомобилях. При этом, их заказы долго ожидают подтверждения и нечастно корректируются. Зачастую такие посетители до этого не оформляли бронирования в данном отеле или же уже отменяли их ранее. Отелю следует более внимательно относиться к таким клиентам, особенно, если они бронируют номер летом и приезжают из нечасто встречающихся стран."
   ]
  },
  {
   "cell_type": "markdown",
   "metadata": {},
   "source": [
    "<b>Итоговый комментарий ревьюера:</b> Молодец, отличная работа! Возвращаю работу, чтобы у тебя была возможность задать вопросы, если они остались. Так же для улучшения проекта я бы советовал для подбора гиперпараметров использовать GridSearchCV со встроенной кроссвалидацией, а про циклы забыть, как страшный сон. Ниже оставлю пару ссылок для самообучения! Успехов!"
   ]
  },
  {
   "cell_type": "markdown",
   "metadata": {},
   "source": [
    "<div class=\"alert alert-success\">\n",
    "<b>Рубрика “Полезные ссылки”:\n",
    "✅</b> <br>\n",
    "<a href = \"https://sphweb.bumc.bu.edu/otlt/MPH-Modules/PH717-QuantCore/PH717-Module9-Correlation-Regression/PH717-Module9-Correlation-Regression4.html\">Коэффициенты корреляции</a><br>\n",
    "<a href = \"https://www.researchgate.net/profile/Paul-Louangrath/post/Ranking_or_scoring_variables_using_conditional_probability/attachment/59d63c45c49f478072ea7c1a/AS%3A273748962283533%401442278246675/download/100+Statistical+Tests.pdf\">100 Statistical tests</a><br>\n",
    "<a href = \"https://loginom.ru/blog/missing\">Обработка пропусков</a><br>\n",
    "<a href = \"https://coderlessons.com/tutorials/python-technologies/izuchai-siborna/siborn-kratkoe-rukovodstvo\"> Seaborn</a><br>\n",
    "<a href = \"https://habr.com/ru/post/502958/\"> Plotly</a><br>\n",
    "<a href = \"https://medium.com/@jetbootsmaker/%D0%BF%D0%BE%D0%B2%D1%8B%D1%88%D0%B0%D0%B5%D0%BC-%D0%BF%D1%80%D0%BE%D0%B4%D1%83%D0%BA%D1%82%D0%B8%D0%B2%D0%BD%D0%BE%D1%81%D1%82%D1%8C-%D0%BF%D1%80%D0%B8-%D1%80%D0%B0%D0%B1%D0%BE%D1%82%D0%B5-%D1%81-jupyter-notebook-81a1cab8bac1\"> Повышаем продуктивность при работе с Jupyter</a><br>\n",
    "<a href = \"https://towardsdatascience.com/5-things-you-should-know-about-covariance-26b12a0516f1\">5 Things You Should Know About Covariance</a><br>\n",
    "    <a href = \"https://machinelearningmastery.com/how-to-use-statistics-to-identify-outliers-in-data/\">Выбросы</a><br>\n",
    "    <a href = \"https://www.kaggle.com/code/baghern/a-deep-dive-into-sklearn-pipelines/notebook\">Pipeline</a>\n",
    "</div>"
   ]
  },
  {
   "cell_type": "markdown",
   "metadata": {},
   "source": [
    "<div class=\"alert alert-info\"> <b>Комментарий студента:</b> У меня как раз есть парочка вопросов. Я пыталась как раз изначально использовать GridSearchCV и получала ооочень высокие результаты для совсем начальных параметров (recall > 0.85 при одном дереве с глубиной 2, например). При этом, на тестовой выборке оно давало крайне низкие результаты. Т.е. очевидно, модель переобучалась и я не смогла понять почему, поэтому пришлось использовать циклы. Также я пробовала kNN как метод дополнительно рассматривать, но и там наблюдала такую же ситуацию - крайне высокие значения при минимальном количестве соседей (спуск вниз по метрике при увеличении параметра), даже с циклом. Ниже приведу пример ранее написанного кода, подскажите, пожалуйста, что не так. </div>"
   ]
  },
  {
   "cell_type": "markdown",
   "metadata": {},
   "source": [
    "<b>Итоговый комментарий ревьюера V2:</b> Привет еще раз! Думаю проблема в smote. По хорошему, чтобы избежать утечки в данных, стоит любые модификации данных прописывать в пайплайны. Так же можешь попробовать использовать вместо cv StratifiedKFold, так же можно вместо smote прописать весовые коэффициенты. Кидаю ссылку про использование SMOTE с кроссвалидацией! <a href = \"https://towardsdatascience.com/the-right-way-of-using-smote-with-cross-validation-92a8d09d00c7\">The right way of using SMOTE with Cross-validation</a> Успехов в дальнейшем обучении!"
   ]
  },
  {
   "cell_type": "code",
   "execution_count": 74,
   "metadata": {},
   "outputs": [],
   "source": [
    "from sklearn.model_selection import GridSearchCV\n",
    "from sklearn.neighbors import KNeighborsClassifier"
   ]
  },
  {
   "cell_type": "code",
   "execution_count": 75,
   "metadata": {},
   "outputs": [],
   "source": [
    "def fit_model(model, params):\n",
    "    grid = GridSearchCV(model, params, scoring='recall', cv=5)\n",
    "    grid.fit(features_train, target_train)\n",
    "    results = pd.DataFrame(grid.cv_results_)\n",
    "    \n",
    "    return results"
   ]
  },
  {
   "cell_type": "code",
   "execution_count": 76,
   "metadata": {},
   "outputs": [
    {
     "data": {
      "text/html": [
       "<div>\n",
       "<style scoped>\n",
       "    .dataframe tbody tr th:only-of-type {\n",
       "        vertical-align: middle;\n",
       "    }\n",
       "\n",
       "    .dataframe tbody tr th {\n",
       "        vertical-align: top;\n",
       "    }\n",
       "\n",
       "    .dataframe thead th {\n",
       "        text-align: right;\n",
       "    }\n",
       "</style>\n",
       "<table border=\"1\" class=\"dataframe\">\n",
       "  <thead>\n",
       "    <tr style=\"text-align: right;\">\n",
       "      <th></th>\n",
       "      <th>mean_fit_time</th>\n",
       "      <th>std_fit_time</th>\n",
       "      <th>mean_score_time</th>\n",
       "      <th>std_score_time</th>\n",
       "      <th>param_n_neighbors</th>\n",
       "      <th>params</th>\n",
       "      <th>split0_test_score</th>\n",
       "      <th>split1_test_score</th>\n",
       "      <th>split2_test_score</th>\n",
       "      <th>split3_test_score</th>\n",
       "      <th>split4_test_score</th>\n",
       "      <th>mean_test_score</th>\n",
       "      <th>std_test_score</th>\n",
       "      <th>rank_test_score</th>\n",
       "    </tr>\n",
       "  </thead>\n",
       "  <tbody>\n",
       "    <tr>\n",
       "      <th>0</th>\n",
       "      <td>0.151043</td>\n",
       "      <td>0.004253</td>\n",
       "      <td>12.889027</td>\n",
       "      <td>0.110027</td>\n",
       "      <td>1</td>\n",
       "      <td>{'n_neighbors': 1}</td>\n",
       "      <td>0.773043</td>\n",
       "      <td>0.823329</td>\n",
       "      <td>0.923049</td>\n",
       "      <td>0.956167</td>\n",
       "      <td>0.957263</td>\n",
       "      <td>0.886570</td>\n",
       "      <td>0.074913</td>\n",
       "      <td>1</td>\n",
       "    </tr>\n",
       "    <tr>\n",
       "      <th>1</th>\n",
       "      <td>0.151941</td>\n",
       "      <td>0.003916</td>\n",
       "      <td>12.872473</td>\n",
       "      <td>0.039326</td>\n",
       "      <td>3</td>\n",
       "      <td>{'n_neighbors': 3}</td>\n",
       "      <td>0.763180</td>\n",
       "      <td>0.806892</td>\n",
       "      <td>0.910142</td>\n",
       "      <td>0.933155</td>\n",
       "      <td>0.932546</td>\n",
       "      <td>0.869183</td>\n",
       "      <td>0.070572</td>\n",
       "      <td>2</td>\n",
       "    </tr>\n",
       "    <tr>\n",
       "      <th>2</th>\n",
       "      <td>0.150340</td>\n",
       "      <td>0.003601</td>\n",
       "      <td>12.809273</td>\n",
       "      <td>0.057182</td>\n",
       "      <td>5</td>\n",
       "      <td>{'n_neighbors': 5}</td>\n",
       "      <td>0.760745</td>\n",
       "      <td>0.791915</td>\n",
       "      <td>0.901741</td>\n",
       "      <td>0.913795</td>\n",
       "      <td>0.915743</td>\n",
       "      <td>0.856788</td>\n",
       "      <td>0.066602</td>\n",
       "      <td>3</td>\n",
       "    </tr>\n",
       "    <tr>\n",
       "      <th>3</th>\n",
       "      <td>0.150916</td>\n",
       "      <td>0.001920</td>\n",
       "      <td>12.922456</td>\n",
       "      <td>0.046962</td>\n",
       "      <td>7</td>\n",
       "      <td>{'n_neighbors': 7}</td>\n",
       "      <td>0.760867</td>\n",
       "      <td>0.770364</td>\n",
       "      <td>0.893583</td>\n",
       "      <td>0.905029</td>\n",
       "      <td>0.909412</td>\n",
       "      <td>0.847851</td>\n",
       "      <td>0.067411</td>\n",
       "      <td>4</td>\n",
       "    </tr>\n",
       "    <tr>\n",
       "      <th>4</th>\n",
       "      <td>0.150392</td>\n",
       "      <td>0.003584</td>\n",
       "      <td>12.915263</td>\n",
       "      <td>0.038684</td>\n",
       "      <td>9</td>\n",
       "      <td>{'n_neighbors': 9}</td>\n",
       "      <td>0.753805</td>\n",
       "      <td>0.768538</td>\n",
       "      <td>0.890052</td>\n",
       "      <td>0.897358</td>\n",
       "      <td>0.898819</td>\n",
       "      <td>0.841714</td>\n",
       "      <td>0.065995</td>\n",
       "      <td>5</td>\n",
       "    </tr>\n",
       "    <tr>\n",
       "      <th>5</th>\n",
       "      <td>0.149992</td>\n",
       "      <td>0.003040</td>\n",
       "      <td>13.109784</td>\n",
       "      <td>0.081315</td>\n",
       "      <td>11</td>\n",
       "      <td>{'n_neighbors': 11}</td>\n",
       "      <td>0.746865</td>\n",
       "      <td>0.763180</td>\n",
       "      <td>0.885182</td>\n",
       "      <td>0.885791</td>\n",
       "      <td>0.888226</td>\n",
       "      <td>0.833849</td>\n",
       "      <td>0.064576</td>\n",
       "      <td>6</td>\n",
       "    </tr>\n",
       "    <tr>\n",
       "      <th>6</th>\n",
       "      <td>0.150601</td>\n",
       "      <td>0.002948</td>\n",
       "      <td>13.297339</td>\n",
       "      <td>0.191989</td>\n",
       "      <td>13</td>\n",
       "      <td>{'n_neighbors': 13}</td>\n",
       "      <td>0.747839</td>\n",
       "      <td>0.755753</td>\n",
       "      <td>0.884573</td>\n",
       "      <td>0.877998</td>\n",
       "      <td>0.880920</td>\n",
       "      <td>0.829417</td>\n",
       "      <td>0.063461</td>\n",
       "      <td>7</td>\n",
       "    </tr>\n",
       "  </tbody>\n",
       "</table>\n",
       "</div>"
      ],
      "text/plain": [
       "   mean_fit_time  std_fit_time  mean_score_time  std_score_time  \\\n",
       "0       0.151043      0.004253        12.889027        0.110027   \n",
       "1       0.151941      0.003916        12.872473        0.039326   \n",
       "2       0.150340      0.003601        12.809273        0.057182   \n",
       "3       0.150916      0.001920        12.922456        0.046962   \n",
       "4       0.150392      0.003584        12.915263        0.038684   \n",
       "5       0.149992      0.003040        13.109784        0.081315   \n",
       "6       0.150601      0.002948        13.297339        0.191989   \n",
       "\n",
       "  param_n_neighbors               params  split0_test_score  \\\n",
       "0                 1   {'n_neighbors': 1}           0.773043   \n",
       "1                 3   {'n_neighbors': 3}           0.763180   \n",
       "2                 5   {'n_neighbors': 5}           0.760745   \n",
       "3                 7   {'n_neighbors': 7}           0.760867   \n",
       "4                 9   {'n_neighbors': 9}           0.753805   \n",
       "5                11  {'n_neighbors': 11}           0.746865   \n",
       "6                13  {'n_neighbors': 13}           0.747839   \n",
       "\n",
       "   split1_test_score  split2_test_score  split3_test_score  split4_test_score  \\\n",
       "0           0.823329           0.923049           0.956167           0.957263   \n",
       "1           0.806892           0.910142           0.933155           0.932546   \n",
       "2           0.791915           0.901741           0.913795           0.915743   \n",
       "3           0.770364           0.893583           0.905029           0.909412   \n",
       "4           0.768538           0.890052           0.897358           0.898819   \n",
       "5           0.763180           0.885182           0.885791           0.888226   \n",
       "6           0.755753           0.884573           0.877998           0.880920   \n",
       "\n",
       "   mean_test_score  std_test_score  rank_test_score  \n",
       "0         0.886570        0.074913                1  \n",
       "1         0.869183        0.070572                2  \n",
       "2         0.856788        0.066602                3  \n",
       "3         0.847851        0.067411                4  \n",
       "4         0.841714        0.065995                5  \n",
       "5         0.833849        0.064576                6  \n",
       "6         0.829417        0.063461                7  "
      ]
     },
     "metadata": {},
     "output_type": "display_data"
    },
    {
     "name": "stdout",
     "output_type": "stream",
     "text": [
      "CPU times: user 7min 36s, sys: 2.37 s, total: 7min 39s\n",
      "Wall time: 7min 39s\n"
     ]
    }
   ],
   "source": [
    "%%time\n",
    "\n",
    "# kNN\n",
    "model = KNeighborsClassifier()\n",
    "k_range = list(range(1, 15, 2))\n",
    "params = dict(n_neighbors=k_range)\n",
    "\n",
    "knn_results = fit_model(model, params)\n",
    "display(knn_results.sort_values(by='mean_test_score', ascending=False))"
   ]
  },
  {
   "cell_type": "code",
   "execution_count": 77,
   "metadata": {},
   "outputs": [
    {
     "data": {
      "text/html": [
       "<div>\n",
       "<style scoped>\n",
       "    .dataframe tbody tr th:only-of-type {\n",
       "        vertical-align: middle;\n",
       "    }\n",
       "\n",
       "    .dataframe tbody tr th {\n",
       "        vertical-align: top;\n",
       "    }\n",
       "\n",
       "    .dataframe thead th {\n",
       "        text-align: right;\n",
       "    }\n",
       "</style>\n",
       "<table border=\"1\" class=\"dataframe\">\n",
       "  <thead>\n",
       "    <tr style=\"text-align: right;\">\n",
       "      <th></th>\n",
       "      <th>mean_fit_time</th>\n",
       "      <th>std_fit_time</th>\n",
       "      <th>mean_score_time</th>\n",
       "      <th>std_score_time</th>\n",
       "      <th>param_max_depth</th>\n",
       "      <th>param_n_estimators</th>\n",
       "      <th>params</th>\n",
       "      <th>split0_test_score</th>\n",
       "      <th>split1_test_score</th>\n",
       "      <th>split2_test_score</th>\n",
       "      <th>split3_test_score</th>\n",
       "      <th>split4_test_score</th>\n",
       "      <th>mean_test_score</th>\n",
       "      <th>std_test_score</th>\n",
       "      <th>rank_test_score</th>\n",
       "    </tr>\n",
       "  </thead>\n",
       "  <tbody>\n",
       "    <tr>\n",
       "      <th>1</th>\n",
       "      <td>0.175148</td>\n",
       "      <td>0.003473</td>\n",
       "      <td>0.021170</td>\n",
       "      <td>0.000744</td>\n",
       "      <td>1</td>\n",
       "      <td>6</td>\n",
       "      <td>{'max_depth': 1, 'n_estimators': 6}</td>\n",
       "      <td>0.922075</td>\n",
       "      <td>0.746865</td>\n",
       "      <td>0.843906</td>\n",
       "      <td>0.799708</td>\n",
       "      <td>0.910873</td>\n",
       "      <td>0.844685</td>\n",
       "      <td>0.066276</td>\n",
       "      <td>1</td>\n",
       "    </tr>\n",
       "    <tr>\n",
       "      <th>10</th>\n",
       "      <td>0.132338</td>\n",
       "      <td>0.002526</td>\n",
       "      <td>0.018771</td>\n",
       "      <td>0.001715</td>\n",
       "      <td>2</td>\n",
       "      <td>1</td>\n",
       "      <td>{'max_depth': 2, 'n_estimators': 1}</td>\n",
       "      <td>0.737368</td>\n",
       "      <td>0.805796</td>\n",
       "      <td>0.790576</td>\n",
       "      <td>0.999756</td>\n",
       "      <td>0.877268</td>\n",
       "      <td>0.842153</td>\n",
       "      <td>0.090591</td>\n",
       "      <td>2</td>\n",
       "    </tr>\n",
       "    <tr>\n",
       "      <th>22</th>\n",
       "      <td>0.316727</td>\n",
       "      <td>0.015772</td>\n",
       "      <td>0.028953</td>\n",
       "      <td>0.001688</td>\n",
       "      <td>3</td>\n",
       "      <td>11</td>\n",
       "      <td>{'max_depth': 3, 'n_estimators': 11}</td>\n",
       "      <td>0.690734</td>\n",
       "      <td>0.755144</td>\n",
       "      <td>0.826373</td>\n",
       "      <td>0.795324</td>\n",
       "      <td>0.862779</td>\n",
       "      <td>0.786071</td>\n",
       "      <td>0.059396</td>\n",
       "      <td>3</td>\n",
       "    </tr>\n",
       "    <tr>\n",
       "      <th>107</th>\n",
       "      <td>1.896464</td>\n",
       "      <td>0.103357</td>\n",
       "      <td>0.087277</td>\n",
       "      <td>0.004815</td>\n",
       "      <td>11</td>\n",
       "      <td>36</td>\n",
       "      <td>{'max_depth': 11, 'n_estimators': 36}</td>\n",
       "      <td>0.700962</td>\n",
       "      <td>0.653963</td>\n",
       "      <td>0.853281</td>\n",
       "      <td>0.859978</td>\n",
       "      <td>0.844637</td>\n",
       "      <td>0.782564</td>\n",
       "      <td>0.087228</td>\n",
       "      <td>4</td>\n",
       "    </tr>\n",
       "    <tr>\n",
       "      <th>105</th>\n",
       "      <td>1.407510</td>\n",
       "      <td>0.051426</td>\n",
       "      <td>0.069026</td>\n",
       "      <td>0.004311</td>\n",
       "      <td>11</td>\n",
       "      <td>26</td>\n",
       "      <td>{'max_depth': 11, 'n_estimators': 26}</td>\n",
       "      <td>0.705223</td>\n",
       "      <td>0.651772</td>\n",
       "      <td>0.854255</td>\n",
       "      <td>0.845732</td>\n",
       "      <td>0.852916</td>\n",
       "      <td>0.781980</td>\n",
       "      <td>0.086216</td>\n",
       "      <td>5</td>\n",
       "    </tr>\n",
       "  </tbody>\n",
       "</table>\n",
       "</div>"
      ],
      "text/plain": [
       "     mean_fit_time  std_fit_time  mean_score_time  std_score_time  \\\n",
       "1         0.175148      0.003473         0.021170        0.000744   \n",
       "10        0.132338      0.002526         0.018771        0.001715   \n",
       "22        0.316727      0.015772         0.028953        0.001688   \n",
       "107       1.896464      0.103357         0.087277        0.004815   \n",
       "105       1.407510      0.051426         0.069026        0.004311   \n",
       "\n",
       "    param_max_depth param_n_estimators                                 params  \\\n",
       "1                 1                  6    {'max_depth': 1, 'n_estimators': 6}   \n",
       "10                2                  1    {'max_depth': 2, 'n_estimators': 1}   \n",
       "22                3                 11   {'max_depth': 3, 'n_estimators': 11}   \n",
       "107              11                 36  {'max_depth': 11, 'n_estimators': 36}   \n",
       "105              11                 26  {'max_depth': 11, 'n_estimators': 26}   \n",
       "\n",
       "     split0_test_score  split1_test_score  split2_test_score  \\\n",
       "1             0.922075           0.746865           0.843906   \n",
       "10            0.737368           0.805796           0.790576   \n",
       "22            0.690734           0.755144           0.826373   \n",
       "107           0.700962           0.653963           0.853281   \n",
       "105           0.705223           0.651772           0.854255   \n",
       "\n",
       "     split3_test_score  split4_test_score  mean_test_score  std_test_score  \\\n",
       "1             0.799708           0.910873         0.844685        0.066276   \n",
       "10            0.999756           0.877268         0.842153        0.090591   \n",
       "22            0.795324           0.862779         0.786071        0.059396   \n",
       "107           0.859978           0.844637         0.782564        0.087228   \n",
       "105           0.845732           0.852916         0.781980        0.086216   \n",
       "\n",
       "     rank_test_score  \n",
       "1                  1  \n",
       "10                 2  \n",
       "22                 3  \n",
       "107                4  \n",
       "105                5  "
      ]
     },
     "metadata": {},
     "output_type": "display_data"
    },
    {
     "name": "stdout",
     "output_type": "stream",
     "text": [
      "CPU times: user 6min 54s, sys: 36.8 s, total: 7min 31s\n",
      "Wall time: 7min 32s\n"
     ]
    }
   ],
   "source": [
    "%%time\n",
    "\n",
    "# Random Forest\n",
    "model = RandomForestClassifier()\n",
    "params = {'n_estimators': range (1, 50, 5), 'max_depth': range (1, 12)}\n",
    "\n",
    "forest_results = fit_model(model, params)\n",
    "display(forest_results.sort_values(by='mean_test_score', ascending=False).head())"
   ]
  },
  {
   "cell_type": "code",
   "execution_count": null,
   "metadata": {},
   "outputs": [],
   "source": []
  }
 ],
 "metadata": {
  "ExecuteTimeLog": [
   {
    "duration": 384,
    "start_time": "2023-01-04T12:46:49.653Z"
   },
   {
    "duration": 1153,
    "start_time": "2023-01-04T12:47:24.603Z"
   },
   {
    "duration": 459,
    "start_time": "2023-01-04T12:48:14.777Z"
   },
   {
    "duration": 21,
    "start_time": "2023-01-04T12:48:21.574Z"
   },
   {
    "duration": 210,
    "start_time": "2023-01-04T12:49:19.431Z"
   },
   {
    "duration": 25,
    "start_time": "2023-01-04T12:50:32.823Z"
   },
   {
    "duration": 1781,
    "start_time": "2023-01-04T12:57:52.095Z"
   },
   {
    "duration": 1659,
    "start_time": "2023-01-04T12:58:04.360Z"
   },
   {
    "duration": 2,
    "start_time": "2023-01-04T12:58:31.220Z"
   },
   {
    "duration": 1793,
    "start_time": "2023-01-04T12:58:37.102Z"
   },
   {
    "duration": 21,
    "start_time": "2023-01-04T13:01:22.235Z"
   },
   {
    "duration": 29,
    "start_time": "2023-01-04T13:01:33.735Z"
   },
   {
    "duration": 20,
    "start_time": "2023-01-04T13:01:45.039Z"
   },
   {
    "duration": 2033,
    "start_time": "2023-01-04T13:03:18.205Z"
   },
   {
    "duration": 10,
    "start_time": "2023-01-04T13:48:46.467Z"
   },
   {
    "duration": 95,
    "start_time": "2023-01-04T13:53:34.832Z"
   },
   {
    "duration": 221,
    "start_time": "2023-01-04T13:53:45.801Z"
   },
   {
    "duration": 124,
    "start_time": "2023-01-04T13:58:31.948Z"
   },
   {
    "duration": 148,
    "start_time": "2023-01-04T13:58:42.215Z"
   },
   {
    "duration": 5,
    "start_time": "2023-01-04T14:25:43.108Z"
   },
   {
    "duration": 8,
    "start_time": "2023-01-04T14:26:10.624Z"
   },
   {
    "duration": 8,
    "start_time": "2023-01-04T14:26:41.080Z"
   },
   {
    "duration": 8,
    "start_time": "2023-01-04T14:27:21.709Z"
   },
   {
    "duration": 9,
    "start_time": "2023-01-04T14:27:31.575Z"
   },
   {
    "duration": 8,
    "start_time": "2023-01-04T14:27:52.987Z"
   },
   {
    "duration": 27,
    "start_time": "2023-01-04T14:30:44.825Z"
   },
   {
    "duration": 25,
    "start_time": "2023-01-04T14:30:50.629Z"
   },
   {
    "duration": 24,
    "start_time": "2023-01-04T14:31:20.856Z"
   },
   {
    "duration": 23,
    "start_time": "2023-01-04T14:31:39.936Z"
   },
   {
    "duration": 34,
    "start_time": "2023-01-04T14:32:06.348Z"
   },
   {
    "duration": 34,
    "start_time": "2023-01-04T14:32:30.990Z"
   },
   {
    "duration": 2071,
    "start_time": "2023-01-04T14:37:45.800Z"
   },
   {
    "duration": 9,
    "start_time": "2023-01-04T14:38:26.756Z"
   },
   {
    "duration": 11,
    "start_time": "2023-01-04T14:38:32.110Z"
   },
   {
    "duration": 10,
    "start_time": "2023-01-04T14:38:55.443Z"
   },
   {
    "duration": 9,
    "start_time": "2023-01-04T14:39:23.734Z"
   },
   {
    "duration": 14,
    "start_time": "2023-01-04T14:39:37.961Z"
   },
   {
    "duration": 9,
    "start_time": "2023-01-04T14:39:53.628Z"
   },
   {
    "duration": 10,
    "start_time": "2023-01-04T14:41:52.544Z"
   },
   {
    "duration": 21,
    "start_time": "2023-01-04T14:41:59.612Z"
   },
   {
    "duration": 2068,
    "start_time": "2023-01-04T14:42:08.665Z"
   },
   {
    "duration": 13,
    "start_time": "2023-01-04T14:42:33.360Z"
   },
   {
    "duration": 13,
    "start_time": "2023-01-04T14:42:44.904Z"
   },
   {
    "duration": 9,
    "start_time": "2023-01-04T14:42:54.314Z"
   },
   {
    "duration": 10,
    "start_time": "2023-01-04T14:43:03.471Z"
   },
   {
    "duration": 8,
    "start_time": "2023-01-04T14:43:13.396Z"
   },
   {
    "duration": 34,
    "start_time": "2023-01-04T14:44:00.569Z"
   },
   {
    "duration": 45,
    "start_time": "2023-01-04T14:44:14.190Z"
   },
   {
    "duration": 50,
    "start_time": "2023-01-04T14:44:26.530Z"
   },
   {
    "duration": 73,
    "start_time": "2023-01-04T14:44:55.296Z"
   },
   {
    "duration": 23,
    "start_time": "2023-01-04T14:46:35.707Z"
   },
   {
    "duration": 13,
    "start_time": "2023-01-04T14:46:49.052Z"
   },
   {
    "duration": 74,
    "start_time": "2023-01-04T14:46:56.613Z"
   },
   {
    "duration": 72,
    "start_time": "2023-01-04T14:55:31.405Z"
   },
   {
    "duration": 202,
    "start_time": "2023-01-04T15:17:31.860Z"
   },
   {
    "duration": 142,
    "start_time": "2023-01-04T15:18:53.119Z"
   },
   {
    "duration": 998,
    "start_time": "2023-01-04T15:22:23.599Z"
   },
   {
    "duration": 230,
    "start_time": "2023-01-04T15:23:05.648Z"
   },
   {
    "duration": 362,
    "start_time": "2023-01-04T15:25:47.582Z"
   },
   {
    "duration": 362,
    "start_time": "2023-01-04T15:27:48.937Z"
   },
   {
    "duration": 278,
    "start_time": "2023-01-04T15:31:13.902Z"
   },
   {
    "duration": 1034,
    "start_time": "2023-01-04T15:31:26.311Z"
   },
   {
    "duration": 9,
    "start_time": "2023-01-04T15:35:36.852Z"
   },
   {
    "duration": 3,
    "start_time": "2023-01-04T15:41:10.413Z"
   },
   {
    "duration": 30,
    "start_time": "2023-01-04T15:43:21.156Z"
   },
   {
    "duration": 7,
    "start_time": "2023-01-04T15:45:44.854Z"
   },
   {
    "duration": 6,
    "start_time": "2023-01-04T15:46:05.835Z"
   },
   {
    "duration": 5,
    "start_time": "2023-01-04T15:46:10.048Z"
   },
   {
    "duration": 6,
    "start_time": "2023-01-04T15:46:28.502Z"
   },
   {
    "duration": 5,
    "start_time": "2023-01-04T15:47:08.803Z"
   },
   {
    "duration": 39,
    "start_time": "2023-01-04T15:48:11.232Z"
   },
   {
    "duration": 1503,
    "start_time": "2023-01-04T15:48:56.116Z"
   },
   {
    "duration": 43,
    "start_time": "2023-01-04T15:50:23.365Z"
   },
   {
    "duration": 10,
    "start_time": "2023-01-04T15:51:07.094Z"
   },
   {
    "duration": 640,
    "start_time": "2023-01-04T15:52:15.401Z"
   },
   {
    "duration": 230,
    "start_time": "2023-01-04T15:52:16.614Z"
   },
   {
    "duration": 22,
    "start_time": "2023-01-04T15:52:17.722Z"
   },
   {
    "duration": 24,
    "start_time": "2023-01-04T15:52:21.789Z"
   },
   {
    "duration": 18,
    "start_time": "2023-01-04T15:52:25.115Z"
   },
   {
    "duration": 31,
    "start_time": "2023-01-04T15:52:28.187Z"
   },
   {
    "duration": 1983,
    "start_time": "2023-01-04T15:52:29.956Z"
   },
   {
    "duration": 10,
    "start_time": "2023-01-04T15:52:35.129Z"
   },
   {
    "duration": 7,
    "start_time": "2023-01-04T15:52:37.064Z"
   },
   {
    "duration": 22,
    "start_time": "2023-01-04T15:52:39.447Z"
   },
   {
    "duration": 24,
    "start_time": "2023-01-04T15:54:07.710Z"
   },
   {
    "duration": 11,
    "start_time": "2023-01-04T15:54:45.028Z"
   },
   {
    "duration": 23,
    "start_time": "2023-01-04T15:56:35.161Z"
   },
   {
    "duration": 31,
    "start_time": "2023-01-04T15:59:34.242Z"
   },
   {
    "duration": 10,
    "start_time": "2023-01-04T15:59:41.759Z"
   },
   {
    "duration": 7,
    "start_time": "2023-01-04T15:59:50.190Z"
   },
   {
    "duration": 14,
    "start_time": "2023-01-04T16:01:43.362Z"
   },
   {
    "duration": 16,
    "start_time": "2023-01-04T16:04:43.823Z"
   },
   {
    "duration": 14,
    "start_time": "2023-01-04T16:07:04.357Z"
   },
   {
    "duration": 8,
    "start_time": "2023-01-04T16:08:24.465Z"
   },
   {
    "duration": 9,
    "start_time": "2023-01-04T16:08:26.982Z"
   },
   {
    "duration": 7,
    "start_time": "2023-01-04T16:08:29.263Z"
   },
   {
    "duration": 8,
    "start_time": "2023-01-04T16:08:31.146Z"
   },
   {
    "duration": 9,
    "start_time": "2023-01-04T16:08:33.430Z"
   },
   {
    "duration": 7,
    "start_time": "2023-01-04T16:09:23.059Z"
   },
   {
    "duration": 6,
    "start_time": "2023-01-04T16:09:46.133Z"
   },
   {
    "duration": 7,
    "start_time": "2023-01-04T16:09:47.512Z"
   },
   {
    "duration": 7,
    "start_time": "2023-01-04T16:09:48.936Z"
   },
   {
    "duration": 7,
    "start_time": "2023-01-04T16:10:00.604Z"
   },
   {
    "duration": 7,
    "start_time": "2023-01-04T16:10:20.316Z"
   },
   {
    "duration": 7,
    "start_time": "2023-01-04T16:10:23.002Z"
   },
   {
    "duration": 39,
    "start_time": "2023-01-04T16:10:27.040Z"
   },
   {
    "duration": 34,
    "start_time": "2023-01-04T16:10:31.963Z"
   },
   {
    "duration": 83,
    "start_time": "2023-01-04T16:10:41.843Z"
   },
   {
    "duration": 12,
    "start_time": "2023-01-04T16:10:45.116Z"
   },
   {
    "duration": 63,
    "start_time": "2023-01-04T16:10:47.583Z"
   },
   {
    "duration": 68,
    "start_time": "2023-01-04T16:10:50.236Z"
   },
   {
    "duration": 337,
    "start_time": "2023-01-04T16:10:52.733Z"
   },
   {
    "duration": 10,
    "start_time": "2023-01-04T16:11:48.691Z"
   },
   {
    "duration": 3,
    "start_time": "2023-01-04T16:11:51.050Z"
   },
   {
    "duration": 32,
    "start_time": "2023-01-04T16:11:52.753Z"
   },
   {
    "duration": 20,
    "start_time": "2023-01-04T16:13:50.685Z"
   },
   {
    "duration": 784,
    "start_time": "2023-01-07T14:18:30.116Z"
   },
   {
    "duration": 1218,
    "start_time": "2023-01-07T14:18:32.526Z"
   },
   {
    "duration": 27,
    "start_time": "2023-01-07T14:18:35.106Z"
   },
   {
    "duration": 24,
    "start_time": "2023-01-07T14:18:39.326Z"
   },
   {
    "duration": 28,
    "start_time": "2023-01-07T14:18:42.230Z"
   },
   {
    "duration": 1707,
    "start_time": "2023-01-07T14:18:45.650Z"
   },
   {
    "duration": 10,
    "start_time": "2023-01-07T14:19:04.026Z"
   },
   {
    "duration": 6,
    "start_time": "2023-01-07T14:19:07.168Z"
   },
   {
    "duration": 23,
    "start_time": "2023-01-07T14:19:10.244Z"
   },
   {
    "duration": 8,
    "start_time": "2023-01-07T14:19:12.826Z"
   },
   {
    "duration": 14,
    "start_time": "2023-01-07T14:19:14.956Z"
   },
   {
    "duration": 14,
    "start_time": "2023-01-07T14:29:50.507Z"
   },
   {
    "duration": 90,
    "start_time": "2023-01-07T14:29:54.381Z"
   },
   {
    "duration": 638,
    "start_time": "2023-01-07T14:30:12.903Z"
   },
   {
    "duration": 217,
    "start_time": "2023-01-07T14:30:14.422Z"
   },
   {
    "duration": 26,
    "start_time": "2023-01-07T14:30:16.305Z"
   },
   {
    "duration": 24,
    "start_time": "2023-01-07T14:30:19.825Z"
   },
   {
    "duration": 16,
    "start_time": "2023-01-07T14:30:22.261Z"
   },
   {
    "duration": 1730,
    "start_time": "2023-01-07T14:30:25.075Z"
   },
   {
    "duration": 11,
    "start_time": "2023-01-07T14:30:26.949Z"
   },
   {
    "duration": 7,
    "start_time": "2023-01-07T14:30:30.185Z"
   },
   {
    "duration": 20,
    "start_time": "2023-01-07T14:30:32.031Z"
   },
   {
    "duration": 11,
    "start_time": "2023-01-07T14:30:34.812Z"
   },
   {
    "duration": 16,
    "start_time": "2023-01-07T14:30:36.625Z"
   },
   {
    "duration": 25,
    "start_time": "2023-01-07T14:30:38.607Z"
   },
   {
    "duration": 13,
    "start_time": "2023-01-07T14:30:41.126Z"
   },
   {
    "duration": 7,
    "start_time": "2023-01-07T14:30:43.057Z"
   },
   {
    "duration": 10,
    "start_time": "2023-01-07T14:30:45.163Z"
   },
   {
    "duration": 9,
    "start_time": "2023-01-07T14:30:46.782Z"
   },
   {
    "duration": 9,
    "start_time": "2023-01-07T14:30:48.474Z"
   },
   {
    "duration": 13,
    "start_time": "2023-01-07T14:30:51.012Z"
   },
   {
    "duration": 6,
    "start_time": "2023-01-07T14:30:53.669Z"
   },
   {
    "duration": 37,
    "start_time": "2023-01-07T14:30:55.627Z"
   },
   {
    "duration": 30,
    "start_time": "2023-01-07T14:30:57.778Z"
   },
   {
    "duration": 79,
    "start_time": "2023-01-07T14:30:59.613Z"
   },
   {
    "duration": 13,
    "start_time": "2023-01-07T14:31:05.048Z"
   },
   {
    "duration": 77,
    "start_time": "2023-01-07T14:31:08.108Z"
   },
   {
    "duration": 319,
    "start_time": "2023-01-07T14:32:05.326Z"
   },
   {
    "duration": 10,
    "start_time": "2023-01-07T14:33:03.557Z"
   },
   {
    "duration": 9,
    "start_time": "2023-01-07T14:33:05.511Z"
   },
   {
    "duration": 35,
    "start_time": "2023-01-07T14:33:08.244Z"
   },
   {
    "duration": 22,
    "start_time": "2023-01-07T14:33:11.241Z"
   },
   {
    "duration": 20,
    "start_time": "2023-01-07T14:34:09.152Z"
   },
   {
    "duration": 16,
    "start_time": "2023-01-07T14:34:19.333Z"
   },
   {
    "duration": 3,
    "start_time": "2023-01-07T14:49:46.430Z"
   },
   {
    "duration": 655,
    "start_time": "2023-01-07T14:51:49.145Z"
   },
   {
    "duration": 13,
    "start_time": "2023-01-07T14:54:21.548Z"
   },
   {
    "duration": 120,
    "start_time": "2023-01-07T14:57:56.573Z"
   },
   {
    "duration": 10,
    "start_time": "2023-01-07T14:58:29.413Z"
   },
   {
    "duration": 12,
    "start_time": "2023-01-07T14:59:05.106Z"
   },
   {
    "duration": 3,
    "start_time": "2023-01-07T14:59:30.864Z"
   },
   {
    "duration": 5,
    "start_time": "2023-01-07T15:00:27.003Z"
   },
   {
    "duration": 4,
    "start_time": "2023-01-07T15:01:05.557Z"
   },
   {
    "duration": 4,
    "start_time": "2023-01-07T15:01:20.667Z"
   },
   {
    "duration": 4,
    "start_time": "2023-01-07T15:02:39.962Z"
   },
   {
    "duration": 19,
    "start_time": "2023-01-07T15:02:51.414Z"
   },
   {
    "duration": 16,
    "start_time": "2023-01-07T15:03:06.540Z"
   },
   {
    "duration": 17,
    "start_time": "2023-01-07T15:03:14.011Z"
   },
   {
    "duration": 8,
    "start_time": "2023-01-07T15:03:27.584Z"
   },
   {
    "duration": 8,
    "start_time": "2023-01-07T15:03:33.674Z"
   },
   {
    "duration": 18,
    "start_time": "2023-01-07T15:05:17.221Z"
   },
   {
    "duration": 20,
    "start_time": "2023-01-07T15:07:03.963Z"
   },
   {
    "duration": 185,
    "start_time": "2023-01-07T15:07:39.349Z"
   },
   {
    "duration": 1555,
    "start_time": "2023-01-07T15:08:03.154Z"
   },
   {
    "duration": 1160,
    "start_time": "2023-01-07T15:08:10.505Z"
   },
   {
    "duration": 14,
    "start_time": "2023-01-07T15:11:20.429Z"
   },
   {
    "duration": 0,
    "start_time": "2023-01-07T15:12:38.242Z"
   },
   {
    "duration": 132,
    "start_time": "2023-01-07T15:12:41.612Z"
   },
   {
    "duration": 127,
    "start_time": "2023-01-07T15:13:06.366Z"
   },
   {
    "duration": 122,
    "start_time": "2023-01-07T15:13:12.389Z"
   },
   {
    "duration": 126,
    "start_time": "2023-01-07T15:13:17.870Z"
   },
   {
    "duration": 121,
    "start_time": "2023-01-07T15:13:26.550Z"
   },
   {
    "duration": 8,
    "start_time": "2023-01-07T15:13:50.262Z"
   },
   {
    "duration": 1323,
    "start_time": "2023-01-07T15:14:09.405Z"
   },
   {
    "duration": 204,
    "start_time": "2023-01-07T15:14:10.731Z"
   },
   {
    "duration": 24,
    "start_time": "2023-01-07T15:14:10.937Z"
   },
   {
    "duration": 24,
    "start_time": "2023-01-07T15:14:13.271Z"
   },
   {
    "duration": 21,
    "start_time": "2023-01-07T15:14:14.814Z"
   },
   {
    "duration": 1833,
    "start_time": "2023-01-07T15:14:17.524Z"
   },
   {
    "duration": 9,
    "start_time": "2023-01-07T15:14:19.359Z"
   },
   {
    "duration": 6,
    "start_time": "2023-01-07T15:14:23.404Z"
   },
   {
    "duration": 27,
    "start_time": "2023-01-07T15:14:25.320Z"
   },
   {
    "duration": 9,
    "start_time": "2023-01-07T15:14:26.274Z"
   },
   {
    "duration": 13,
    "start_time": "2023-01-07T15:14:28.643Z"
   },
   {
    "duration": 15,
    "start_time": "2023-01-07T15:14:29.673Z"
   },
   {
    "duration": 14,
    "start_time": "2023-01-07T15:14:31.070Z"
   },
   {
    "duration": 12,
    "start_time": "2023-01-07T15:14:32.621Z"
   },
   {
    "duration": 6,
    "start_time": "2023-01-07T15:14:33.428Z"
   },
   {
    "duration": 6,
    "start_time": "2023-01-07T15:14:35.562Z"
   },
   {
    "duration": 15,
    "start_time": "2023-01-07T15:14:36.109Z"
   },
   {
    "duration": 7,
    "start_time": "2023-01-07T15:14:36.831Z"
   },
   {
    "duration": 7,
    "start_time": "2023-01-07T15:14:50.549Z"
   },
   {
    "duration": 54,
    "start_time": "2023-01-07T15:14:56.079Z"
   },
   {
    "duration": 56,
    "start_time": "2023-01-07T15:14:58.231Z"
   },
   {
    "duration": 70,
    "start_time": "2023-01-07T15:15:01.108Z"
   },
   {
    "duration": 12,
    "start_time": "2023-01-07T15:15:03.945Z"
   },
   {
    "duration": 61,
    "start_time": "2023-01-07T15:15:07.210Z"
   },
   {
    "duration": 317,
    "start_time": "2023-01-07T15:15:11.664Z"
   },
   {
    "duration": 11,
    "start_time": "2023-01-07T15:15:16.649Z"
   },
   {
    "duration": 3,
    "start_time": "2023-01-07T15:15:18.732Z"
   },
   {
    "duration": 53,
    "start_time": "2023-01-07T15:15:20.408Z"
   },
   {
    "duration": 21,
    "start_time": "2023-01-07T15:15:22.747Z"
   },
   {
    "duration": 20,
    "start_time": "2023-01-07T15:15:24.146Z"
   },
   {
    "duration": 15,
    "start_time": "2023-01-07T15:15:26.448Z"
   },
   {
    "duration": 10,
    "start_time": "2023-01-07T15:15:30.025Z"
   },
   {
    "duration": 6,
    "start_time": "2023-01-07T15:15:31.425Z"
   },
   {
    "duration": 138,
    "start_time": "2023-01-07T15:15:35.107Z"
   },
   {
    "duration": 124,
    "start_time": "2023-01-07T15:16:29.429Z"
   },
   {
    "duration": 126,
    "start_time": "2023-01-07T15:16:35.903Z"
   },
   {
    "duration": 294,
    "start_time": "2023-01-07T15:17:14.508Z"
   },
   {
    "duration": 351,
    "start_time": "2023-01-07T15:17:43.207Z"
   },
   {
    "duration": 266,
    "start_time": "2023-01-07T15:19:41.746Z"
   },
   {
    "duration": 73,
    "start_time": "2023-01-07T15:24:21.526Z"
   },
   {
    "duration": 118,
    "start_time": "2023-01-07T15:24:24.621Z"
   },
   {
    "duration": 29,
    "start_time": "2023-01-07T15:25:11.079Z"
   },
   {
    "duration": 186,
    "start_time": "2023-01-07T15:25:13.054Z"
   },
   {
    "duration": 1303,
    "start_time": "2023-01-07T15:41:04.167Z"
   },
   {
    "duration": 213,
    "start_time": "2023-01-07T15:41:07.128Z"
   },
   {
    "duration": 19,
    "start_time": "2023-01-07T15:41:10.545Z"
   },
   {
    "duration": 22,
    "start_time": "2023-01-07T15:41:14.833Z"
   },
   {
    "duration": 16,
    "start_time": "2023-01-07T15:41:17.337Z"
   },
   {
    "duration": 1759,
    "start_time": "2023-01-07T15:41:20.130Z"
   },
   {
    "duration": 10,
    "start_time": "2023-01-07T15:41:25.924Z"
   },
   {
    "duration": 6,
    "start_time": "2023-01-07T15:41:29.600Z"
   },
   {
    "duration": 20,
    "start_time": "2023-01-07T15:41:32.354Z"
   },
   {
    "duration": 8,
    "start_time": "2023-01-07T15:41:34.901Z"
   },
   {
    "duration": 12,
    "start_time": "2023-01-07T15:41:38.226Z"
   },
   {
    "duration": 16,
    "start_time": "2023-01-07T15:41:40.526Z"
   },
   {
    "duration": 18,
    "start_time": "2023-01-07T15:41:43.310Z"
   },
   {
    "duration": 10,
    "start_time": "2023-01-07T15:41:46.109Z"
   },
   {
    "duration": 6,
    "start_time": "2023-01-07T15:41:48.829Z"
   },
   {
    "duration": 9,
    "start_time": "2023-01-07T15:41:50.823Z"
   },
   {
    "duration": 7,
    "start_time": "2023-01-07T15:41:53.101Z"
   },
   {
    "duration": 7,
    "start_time": "2023-01-07T15:41:56.951Z"
   },
   {
    "duration": 8,
    "start_time": "2023-01-07T15:41:59.950Z"
   },
   {
    "duration": 35,
    "start_time": "2023-01-07T15:42:02.439Z"
   },
   {
    "duration": 29,
    "start_time": "2023-01-07T15:42:04.965Z"
   },
   {
    "duration": 65,
    "start_time": "2023-01-07T15:42:07.346Z"
   },
   {
    "duration": 14,
    "start_time": "2023-01-07T15:42:09.901Z"
   },
   {
    "duration": 53,
    "start_time": "2023-01-07T15:42:11.926Z"
   },
   {
    "duration": 272,
    "start_time": "2023-01-07T15:42:14.269Z"
   },
   {
    "duration": 332,
    "start_time": "2023-01-07T15:42:18.562Z"
   },
   {
    "duration": 11,
    "start_time": "2023-01-07T15:42:21.855Z"
   },
   {
    "duration": 3,
    "start_time": "2023-01-07T15:42:24.056Z"
   },
   {
    "duration": 36,
    "start_time": "2023-01-07T15:42:26.345Z"
   },
   {
    "duration": 22,
    "start_time": "2023-01-07T15:42:28.727Z"
   },
   {
    "duration": 15,
    "start_time": "2023-01-07T15:42:31.741Z"
   },
   {
    "duration": 15,
    "start_time": "2023-01-07T15:42:38.915Z"
   },
   {
    "duration": 34,
    "start_time": "2023-01-07T15:42:59.073Z"
   },
   {
    "duration": 202,
    "start_time": "2023-01-07T15:43:01.905Z"
   },
   {
    "duration": 8,
    "start_time": "2023-01-07T15:43:43.601Z"
   },
   {
    "duration": 1182,
    "start_time": "2023-01-07T15:44:18.079Z"
   },
   {
    "duration": 216,
    "start_time": "2023-01-07T15:44:19.263Z"
   },
   {
    "duration": 20,
    "start_time": "2023-01-07T15:44:19.480Z"
   },
   {
    "duration": 32,
    "start_time": "2023-01-07T15:44:19.503Z"
   },
   {
    "duration": 18,
    "start_time": "2023-01-07T15:44:19.537Z"
   },
   {
    "duration": 1757,
    "start_time": "2023-01-07T15:44:19.557Z"
   },
   {
    "duration": 13,
    "start_time": "2023-01-07T15:44:21.317Z"
   },
   {
    "duration": 7,
    "start_time": "2023-01-07T15:44:21.332Z"
   },
   {
    "duration": 21,
    "start_time": "2023-01-07T15:44:21.340Z"
   },
   {
    "duration": 8,
    "start_time": "2023-01-07T15:44:21.363Z"
   },
   {
    "duration": 23,
    "start_time": "2023-01-07T15:44:21.373Z"
   },
   {
    "duration": 29,
    "start_time": "2023-01-07T15:44:21.398Z"
   },
   {
    "duration": 14,
    "start_time": "2023-01-07T15:44:21.428Z"
   },
   {
    "duration": 7,
    "start_time": "2023-01-07T15:44:21.443Z"
   },
   {
    "duration": 10,
    "start_time": "2023-01-07T15:44:21.451Z"
   },
   {
    "duration": 10,
    "start_time": "2023-01-07T15:44:21.463Z"
   },
   {
    "duration": 8,
    "start_time": "2023-01-07T15:44:21.475Z"
   },
   {
    "duration": 6,
    "start_time": "2023-01-07T15:44:21.484Z"
   },
   {
    "duration": 39,
    "start_time": "2023-01-07T15:44:21.491Z"
   },
   {
    "duration": 36,
    "start_time": "2023-01-07T15:44:21.532Z"
   },
   {
    "duration": 29,
    "start_time": "2023-01-07T15:44:21.570Z"
   },
   {
    "duration": 82,
    "start_time": "2023-01-07T15:44:21.600Z"
   },
   {
    "duration": 11,
    "start_time": "2023-01-07T15:44:21.684Z"
   },
   {
    "duration": 74,
    "start_time": "2023-01-07T15:44:21.696Z"
   },
   {
    "duration": 278,
    "start_time": "2023-01-07T15:44:21.772Z"
   },
   {
    "duration": 317,
    "start_time": "2023-01-07T15:44:22.052Z"
   },
   {
    "duration": 11,
    "start_time": "2023-01-07T15:44:22.371Z"
   },
   {
    "duration": 4,
    "start_time": "2023-01-07T15:44:22.384Z"
   },
   {
    "duration": 60,
    "start_time": "2023-01-07T15:44:22.390Z"
   },
   {
    "duration": 21,
    "start_time": "2023-01-07T15:44:22.451Z"
   },
   {
    "duration": 15,
    "start_time": "2023-01-07T15:44:22.473Z"
   },
   {
    "duration": 24,
    "start_time": "2023-01-07T15:44:22.489Z"
   },
   {
    "duration": 48,
    "start_time": "2023-01-07T15:44:22.514Z"
   },
   {
    "duration": 5,
    "start_time": "2023-01-07T15:44:22.564Z"
   },
   {
    "duration": 1339,
    "start_time": "2023-01-07T15:44:22.571Z"
   },
   {
    "duration": 6,
    "start_time": "2023-01-07T15:46:02.902Z"
   },
   {
    "duration": 160,
    "start_time": "2023-01-07T15:46:48.526Z"
   },
   {
    "duration": 1213,
    "start_time": "2023-01-07T15:46:51.740Z"
   },
   {
    "duration": 3,
    "start_time": "2023-01-07T15:48:08.928Z"
   },
   {
    "duration": 209,
    "start_time": "2023-01-07T15:48:09.826Z"
   },
   {
    "duration": 17,
    "start_time": "2023-01-07T15:48:11.458Z"
   },
   {
    "duration": 22,
    "start_time": "2023-01-07T15:48:14.961Z"
   },
   {
    "duration": 17,
    "start_time": "2023-01-07T15:48:18.228Z"
   },
   {
    "duration": 1702,
    "start_time": "2023-01-07T15:48:20.708Z"
   },
   {
    "duration": 96,
    "start_time": "2023-01-07T15:49:25.604Z"
   },
   {
    "duration": 117,
    "start_time": "2023-01-07T15:49:36.544Z"
   },
   {
    "duration": 121,
    "start_time": "2023-01-07T15:49:53.472Z"
   },
   {
    "duration": 114,
    "start_time": "2023-01-07T15:50:25.826Z"
   },
   {
    "duration": 317,
    "start_time": "2023-01-07T15:51:14.555Z"
   },
   {
    "duration": 240,
    "start_time": "2023-01-07T15:51:37.378Z"
   },
   {
    "duration": 352,
    "start_time": "2023-01-07T15:52:11.912Z"
   },
   {
    "duration": 524,
    "start_time": "2023-01-07T15:52:40.926Z"
   },
   {
    "duration": 9,
    "start_time": "2023-01-07T15:56:18.857Z"
   },
   {
    "duration": 8,
    "start_time": "2023-01-07T15:56:21.200Z"
   },
   {
    "duration": 22,
    "start_time": "2023-01-07T15:56:22.905Z"
   },
   {
    "duration": 14,
    "start_time": "2023-01-07T15:56:25.471Z"
   },
   {
    "duration": 11,
    "start_time": "2023-01-07T15:56:27.268Z"
   },
   {
    "duration": 7,
    "start_time": "2023-01-07T15:56:29.465Z"
   },
   {
    "duration": 6,
    "start_time": "2023-01-07T15:56:32.100Z"
   },
   {
    "duration": 6,
    "start_time": "2023-01-07T15:56:34.131Z"
   },
   {
    "duration": 6,
    "start_time": "2023-01-07T15:56:36.698Z"
   },
   {
    "duration": 7,
    "start_time": "2023-01-07T15:56:41.100Z"
   },
   {
    "duration": 7,
    "start_time": "2023-01-07T15:56:43.526Z"
   },
   {
    "duration": 34,
    "start_time": "2023-01-07T15:58:27.740Z"
   },
   {
    "duration": 38,
    "start_time": "2023-01-07T15:58:29.504Z"
   },
   {
    "duration": 66,
    "start_time": "2023-01-07T15:58:31.430Z"
   },
   {
    "duration": 12,
    "start_time": "2023-01-07T15:58:33.064Z"
   },
   {
    "duration": 68,
    "start_time": "2023-01-07T15:58:36.063Z"
   },
   {
    "duration": 314,
    "start_time": "2023-01-07T15:58:37.875Z"
   },
   {
    "duration": 459,
    "start_time": "2023-01-07T15:58:40.647Z"
   },
   {
    "duration": 23,
    "start_time": "2023-01-07T15:58:43.301Z"
   },
   {
    "duration": 4,
    "start_time": "2023-01-07T15:58:45.104Z"
   },
   {
    "duration": 37,
    "start_time": "2023-01-07T15:58:47.062Z"
   },
   {
    "duration": 23,
    "start_time": "2023-01-07T15:58:48.935Z"
   },
   {
    "duration": 16,
    "start_time": "2023-01-07T15:58:51.541Z"
   },
   {
    "duration": 14,
    "start_time": "2023-01-07T15:58:54.257Z"
   },
   {
    "duration": 35,
    "start_time": "2023-01-07T15:58:56.496Z"
   },
   {
    "duration": 110,
    "start_time": "2023-01-07T15:59:35.700Z"
   },
   {
    "duration": 7,
    "start_time": "2023-01-07T16:00:14.658Z"
   },
   {
    "duration": 6,
    "start_time": "2023-01-07T16:00:25.805Z"
   },
   {
    "duration": 155,
    "start_time": "2023-01-07T16:00:44.269Z"
   },
   {
    "duration": 135,
    "start_time": "2023-01-07T16:00:50.697Z"
   },
   {
    "duration": 4,
    "start_time": "2023-01-07T16:02:32.803Z"
   },
   {
    "duration": 4,
    "start_time": "2023-01-07T16:02:48.576Z"
   },
   {
    "duration": 9,
    "start_time": "2023-01-07T16:11:13.781Z"
   },
   {
    "duration": 5783,
    "start_time": "2023-01-07T16:12:11.353Z"
   },
   {
    "duration": 1836,
    "start_time": "2023-01-07T16:12:50.274Z"
   },
   {
    "duration": 1208,
    "start_time": "2023-01-07T16:12:53.091Z"
   },
   {
    "duration": 209,
    "start_time": "2023-01-07T16:12:55.516Z"
   },
   {
    "duration": 22,
    "start_time": "2023-01-07T16:12:58.145Z"
   },
   {
    "duration": 25,
    "start_time": "2023-01-07T16:13:02.243Z"
   },
   {
    "duration": 17,
    "start_time": "2023-01-07T16:13:03.822Z"
   },
   {
    "duration": 1716,
    "start_time": "2023-01-07T16:13:08.107Z"
   },
   {
    "duration": 19,
    "start_time": "2023-01-07T16:13:12.603Z"
   },
   {
    "duration": 506,
    "start_time": "2023-01-07T16:13:14.656Z"
   },
   {
    "duration": 5,
    "start_time": "2023-01-07T16:13:18.625Z"
   },
   {
    "duration": 20,
    "start_time": "2023-01-07T16:13:21.426Z"
   },
   {
    "duration": 9,
    "start_time": "2023-01-07T16:13:24.075Z"
   },
   {
    "duration": 10,
    "start_time": "2023-01-07T16:13:26.761Z"
   },
   {
    "duration": 16,
    "start_time": "2023-01-07T16:13:29.710Z"
   },
   {
    "duration": 13,
    "start_time": "2023-01-07T16:13:32.485Z"
   },
   {
    "duration": 6,
    "start_time": "2023-01-07T16:13:35.334Z"
   },
   {
    "duration": 7,
    "start_time": "2023-01-07T16:13:35.762Z"
   },
   {
    "duration": 6,
    "start_time": "2023-01-07T16:13:36.193Z"
   },
   {
    "duration": 6,
    "start_time": "2023-01-07T16:13:36.674Z"
   },
   {
    "duration": 6,
    "start_time": "2023-01-07T16:13:37.141Z"
   },
   {
    "duration": 7,
    "start_time": "2023-01-07T16:13:38.272Z"
   },
   {
    "duration": 35,
    "start_time": "2023-01-07T16:13:41.529Z"
   },
   {
    "duration": 29,
    "start_time": "2023-01-07T16:13:42.027Z"
   },
   {
    "duration": 70,
    "start_time": "2023-01-07T16:13:45.092Z"
   },
   {
    "duration": 11,
    "start_time": "2023-01-07T16:13:46.257Z"
   },
   {
    "duration": 55,
    "start_time": "2023-01-07T16:13:48.447Z"
   },
   {
    "duration": 299,
    "start_time": "2023-01-07T16:13:50.153Z"
   },
   {
    "duration": 424,
    "start_time": "2023-01-07T16:13:53.909Z"
   },
   {
    "duration": 13,
    "start_time": "2023-01-07T16:13:54.335Z"
   },
   {
    "duration": 3,
    "start_time": "2023-01-07T16:13:57.060Z"
   },
   {
    "duration": 44,
    "start_time": "2023-01-07T16:13:57.437Z"
   },
   {
    "duration": 22,
    "start_time": "2023-01-07T16:13:58.880Z"
   },
   {
    "duration": 17,
    "start_time": "2023-01-07T16:13:59.180Z"
   },
   {
    "duration": 11,
    "start_time": "2023-01-07T16:14:02.393Z"
   },
   {
    "duration": 215,
    "start_time": "2023-01-07T16:14:05.279Z"
   },
   {
    "duration": 103,
    "start_time": "2023-01-07T16:14:12.784Z"
   },
   {
    "duration": 1932,
    "start_time": "2023-01-07T16:14:37.228Z"
   },
   {
    "duration": 1173,
    "start_time": "2023-01-07T16:14:39.163Z"
   },
   {
    "duration": 251,
    "start_time": "2023-01-07T16:14:40.339Z"
   },
   {
    "duration": 27,
    "start_time": "2023-01-07T16:14:40.592Z"
   },
   {
    "duration": 23,
    "start_time": "2023-01-07T16:14:40.625Z"
   },
   {
    "duration": 15,
    "start_time": "2023-01-07T16:14:40.650Z"
   },
   {
    "duration": 1719,
    "start_time": "2023-01-07T16:14:40.910Z"
   },
   {
    "duration": 10,
    "start_time": "2023-01-07T16:14:42.631Z"
   },
   {
    "duration": 507,
    "start_time": "2023-01-07T16:14:42.643Z"
   },
   {
    "duration": 5,
    "start_time": "2023-01-07T16:14:43.153Z"
   },
   {
    "duration": 28,
    "start_time": "2023-01-07T16:14:43.896Z"
   },
   {
    "duration": 8,
    "start_time": "2023-01-07T16:14:46.367Z"
   },
   {
    "duration": 11,
    "start_time": "2023-01-07T16:14:46.845Z"
   },
   {
    "duration": 14,
    "start_time": "2023-01-07T16:14:48.071Z"
   },
   {
    "duration": 14,
    "start_time": "2023-01-07T16:14:49.084Z"
   },
   {
    "duration": 7,
    "start_time": "2023-01-07T16:14:49.930Z"
   },
   {
    "duration": 9,
    "start_time": "2023-01-07T16:14:50.308Z"
   },
   {
    "duration": 13,
    "start_time": "2023-01-07T16:14:50.708Z"
   },
   {
    "duration": 12,
    "start_time": "2023-01-07T16:14:51.106Z"
   },
   {
    "duration": 6,
    "start_time": "2023-01-07T16:14:51.534Z"
   },
   {
    "duration": 12,
    "start_time": "2023-01-07T16:14:52.113Z"
   },
   {
    "duration": 38,
    "start_time": "2023-01-07T16:14:53.839Z"
   },
   {
    "duration": 30,
    "start_time": "2023-01-07T16:14:54.373Z"
   },
   {
    "duration": 69,
    "start_time": "2023-01-07T16:14:55.325Z"
   },
   {
    "duration": 12,
    "start_time": "2023-01-07T16:14:56.752Z"
   },
   {
    "duration": 61,
    "start_time": "2023-01-07T16:14:58.569Z"
   },
   {
    "duration": 330,
    "start_time": "2023-01-07T16:15:00.399Z"
   },
   {
    "duration": 443,
    "start_time": "2023-01-07T16:15:03.184Z"
   },
   {
    "duration": 11,
    "start_time": "2023-01-07T16:15:04.549Z"
   },
   {
    "duration": 3,
    "start_time": "2023-01-07T16:15:06.326Z"
   },
   {
    "duration": 53,
    "start_time": "2023-01-07T16:15:07.077Z"
   },
   {
    "duration": 22,
    "start_time": "2023-01-07T16:15:07.647Z"
   },
   {
    "duration": 16,
    "start_time": "2023-01-07T16:15:09.092Z"
   },
   {
    "duration": 10,
    "start_time": "2023-01-07T16:15:12.755Z"
   },
   {
    "duration": 174,
    "start_time": "2023-01-07T16:15:13.354Z"
   },
   {
    "duration": 5,
    "start_time": "2023-01-07T16:15:16.104Z"
   },
   {
    "duration": 129,
    "start_time": "2023-01-07T16:15:16.650Z"
   },
   {
    "duration": 112,
    "start_time": "2023-01-07T16:15:20.813Z"
   },
   {
    "duration": 2,
    "start_time": "2023-01-07T16:15:33.652Z"
   },
   {
    "duration": 132,
    "start_time": "2023-01-07T16:17:26.226Z"
   },
   {
    "duration": 76,
    "start_time": "2023-01-07T16:18:41.811Z"
   },
   {
    "duration": 3,
    "start_time": "2023-01-07T16:27:25.378Z"
   },
   {
    "duration": 406,
    "start_time": "2023-01-07T16:28:19.113Z"
   },
   {
    "duration": 534,
    "start_time": "2023-01-07T16:31:01.208Z"
   },
   {
    "duration": 665,
    "start_time": "2023-01-07T16:31:59.114Z"
   },
   {
    "duration": 2156,
    "start_time": "2023-01-07T16:32:39.126Z"
   },
   {
    "duration": 1174,
    "start_time": "2023-01-07T16:32:41.284Z"
   },
   {
    "duration": 234,
    "start_time": "2023-01-07T16:32:42.460Z"
   },
   {
    "duration": 30,
    "start_time": "2023-01-07T16:32:42.695Z"
   },
   {
    "duration": 24,
    "start_time": "2023-01-07T16:32:42.727Z"
   },
   {
    "duration": 17,
    "start_time": "2023-01-07T16:32:42.752Z"
   },
   {
    "duration": 1751,
    "start_time": "2023-01-07T16:32:43.610Z"
   },
   {
    "duration": 10,
    "start_time": "2023-01-07T16:32:45.363Z"
   },
   {
    "duration": 506,
    "start_time": "2023-01-07T16:32:45.375Z"
   },
   {
    "duration": 5,
    "start_time": "2023-01-07T16:32:49.230Z"
   },
   {
    "duration": 19,
    "start_time": "2023-01-07T16:32:51.055Z"
   },
   {
    "duration": 7,
    "start_time": "2023-01-07T16:32:52.342Z"
   },
   {
    "duration": 10,
    "start_time": "2023-01-07T16:32:52.989Z"
   },
   {
    "duration": 15,
    "start_time": "2023-01-07T16:32:54.345Z"
   },
   {
    "duration": 13,
    "start_time": "2023-01-07T16:32:55.661Z"
   },
   {
    "duration": 6,
    "start_time": "2023-01-07T16:32:56.945Z"
   },
   {
    "duration": 7,
    "start_time": "2023-01-07T16:32:57.629Z"
   },
   {
    "duration": 7,
    "start_time": "2023-01-07T16:32:58.294Z"
   },
   {
    "duration": 7,
    "start_time": "2023-01-07T16:32:59.094Z"
   },
   {
    "duration": 7,
    "start_time": "2023-01-07T16:32:59.895Z"
   },
   {
    "duration": 7,
    "start_time": "2023-01-07T16:33:00.650Z"
   },
   {
    "duration": 35,
    "start_time": "2023-01-07T16:33:02.269Z"
   },
   {
    "duration": 41,
    "start_time": "2023-01-07T16:33:03.584Z"
   },
   {
    "duration": 67,
    "start_time": "2023-01-07T16:33:05.725Z"
   },
   {
    "duration": 11,
    "start_time": "2023-01-07T16:33:07.468Z"
   },
   {
    "duration": 56,
    "start_time": "2023-01-07T16:33:08.959Z"
   },
   {
    "duration": 273,
    "start_time": "2023-01-07T16:33:11.180Z"
   },
   {
    "duration": 410,
    "start_time": "2023-01-07T16:33:14.878Z"
   },
   {
    "duration": 11,
    "start_time": "2023-01-07T16:33:16.683Z"
   },
   {
    "duration": 3,
    "start_time": "2023-01-07T16:33:18.732Z"
   },
   {
    "duration": 36,
    "start_time": "2023-01-07T16:33:19.490Z"
   },
   {
    "duration": 21,
    "start_time": "2023-01-07T16:33:20.735Z"
   },
   {
    "duration": 16,
    "start_time": "2023-01-07T16:33:25.193Z"
   },
   {
    "duration": 10,
    "start_time": "2023-01-07T16:33:26.885Z"
   },
   {
    "duration": 163,
    "start_time": "2023-01-07T16:33:27.427Z"
   },
   {
    "duration": 512,
    "start_time": "2023-01-07T16:34:34.226Z"
   },
   {
    "duration": 24,
    "start_time": "2023-01-07T16:35:18.330Z"
   },
   {
    "duration": 678,
    "start_time": "2023-01-07T16:49:28.677Z"
   },
   {
    "duration": 8591,
    "start_time": "2023-01-08T18:37:43.020Z"
   },
   {
    "duration": 1475,
    "start_time": "2023-01-08T18:37:51.614Z"
   },
   {
    "duration": 1244,
    "start_time": "2023-01-08T18:37:53.091Z"
   },
   {
    "duration": 28,
    "start_time": "2023-01-08T18:37:54.337Z"
   },
   {
    "duration": 32,
    "start_time": "2023-01-08T18:37:54.367Z"
   },
   {
    "duration": 22,
    "start_time": "2023-01-08T18:37:54.401Z"
   },
   {
    "duration": 2254,
    "start_time": "2023-01-08T18:37:58.278Z"
   },
   {
    "duration": 11,
    "start_time": "2023-01-08T18:38:01.629Z"
   },
   {
    "duration": 628,
    "start_time": "2023-01-08T18:38:04.584Z"
   },
   {
    "duration": 7,
    "start_time": "2023-01-08T18:38:08.683Z"
   },
   {
    "duration": 22,
    "start_time": "2023-01-08T18:38:10.257Z"
   },
   {
    "duration": 10,
    "start_time": "2023-01-08T18:38:13.201Z"
   },
   {
    "duration": 11,
    "start_time": "2023-01-08T18:38:13.704Z"
   },
   {
    "duration": 24,
    "start_time": "2023-01-08T18:38:15.252Z"
   },
   {
    "duration": 15,
    "start_time": "2023-01-08T18:38:18.338Z"
   },
   {
    "duration": 11,
    "start_time": "2023-01-08T18:38:19.601Z"
   },
   {
    "duration": 7,
    "start_time": "2023-01-08T18:38:20.317Z"
   },
   {
    "duration": 8,
    "start_time": "2023-01-08T18:38:20.984Z"
   },
   {
    "duration": 8,
    "start_time": "2023-01-08T18:38:21.634Z"
   },
   {
    "duration": 7,
    "start_time": "2023-01-08T18:38:24.379Z"
   },
   {
    "duration": 8,
    "start_time": "2023-01-08T18:38:25.033Z"
   },
   {
    "duration": 48,
    "start_time": "2023-01-08T18:38:27.120Z"
   },
   {
    "duration": 39,
    "start_time": "2023-01-08T18:38:28.918Z"
   },
   {
    "duration": 84,
    "start_time": "2023-01-08T18:38:30.283Z"
   },
   {
    "duration": 13,
    "start_time": "2023-01-08T18:38:31.802Z"
   },
   {
    "duration": 69,
    "start_time": "2023-01-08T18:38:32.568Z"
   },
   {
    "duration": 364,
    "start_time": "2023-01-08T18:38:36.068Z"
   },
   {
    "duration": 11,
    "start_time": "2023-01-08T18:38:37.926Z"
   },
   {
    "duration": 5,
    "start_time": "2023-01-08T18:38:39.215Z"
   },
   {
    "duration": 45,
    "start_time": "2023-01-08T18:38:41.138Z"
   },
   {
    "duration": 36,
    "start_time": "2023-01-08T18:38:41.912Z"
   },
   {
    "duration": 25,
    "start_time": "2023-01-08T18:38:43.143Z"
   },
   {
    "duration": 10,
    "start_time": "2023-01-08T18:38:46.540Z"
   },
   {
    "duration": 204,
    "start_time": "2023-01-08T18:38:54.763Z"
   },
   {
    "duration": 3,
    "start_time": "2023-01-08T18:41:37.697Z"
   },
   {
    "duration": 624,
    "start_time": "2023-01-08T18:45:28.820Z"
   },
   {
    "duration": 196,
    "start_time": "2023-01-08T18:47:10.930Z"
   },
   {
    "duration": 6,
    "start_time": "2023-01-08T18:47:20.742Z"
   },
   {
    "duration": 154,
    "start_time": "2023-01-08T18:47:23.908Z"
   },
   {
    "duration": 127,
    "start_time": "2023-01-08T18:47:33.524Z"
   },
   {
    "duration": 5,
    "start_time": "2023-01-08T18:54:03.862Z"
   },
   {
    "duration": 2300,
    "start_time": "2023-01-08T18:57:29.885Z"
   },
   {
    "duration": 1325,
    "start_time": "2023-01-08T18:57:32.188Z"
   },
   {
    "duration": 243,
    "start_time": "2023-01-08T18:57:33.514Z"
   },
   {
    "duration": 26,
    "start_time": "2023-01-08T18:57:33.760Z"
   },
   {
    "duration": 31,
    "start_time": "2023-01-08T18:57:33.788Z"
   },
   {
    "duration": 44,
    "start_time": "2023-01-08T18:57:33.821Z"
   },
   {
    "duration": 2086,
    "start_time": "2023-01-08T18:57:33.867Z"
   },
   {
    "duration": 11,
    "start_time": "2023-01-08T18:57:35.954Z"
   },
   {
    "duration": 668,
    "start_time": "2023-01-08T18:57:35.967Z"
   },
   {
    "duration": 15,
    "start_time": "2023-01-08T18:57:36.637Z"
   },
   {
    "duration": 22,
    "start_time": "2023-01-08T18:57:36.653Z"
   },
   {
    "duration": 9,
    "start_time": "2023-01-08T18:57:36.677Z"
   },
   {
    "duration": 12,
    "start_time": "2023-01-08T18:57:36.688Z"
   },
   {
    "duration": 16,
    "start_time": "2023-01-08T18:57:36.805Z"
   },
   {
    "duration": 14,
    "start_time": "2023-01-08T18:57:38.290Z"
   },
   {
    "duration": 8,
    "start_time": "2023-01-08T18:57:38.920Z"
   },
   {
    "duration": 8,
    "start_time": "2023-01-08T18:57:39.240Z"
   },
   {
    "duration": 11,
    "start_time": "2023-01-08T18:57:39.603Z"
   },
   {
    "duration": 8,
    "start_time": "2023-01-08T18:57:40.016Z"
   },
   {
    "duration": 8,
    "start_time": "2023-01-08T18:57:40.505Z"
   },
   {
    "duration": 8,
    "start_time": "2023-01-08T18:57:40.813Z"
   },
   {
    "duration": 47,
    "start_time": "2023-01-08T18:57:41.463Z"
   },
   {
    "duration": 38,
    "start_time": "2023-01-08T18:57:41.798Z"
   },
   {
    "duration": 80,
    "start_time": "2023-01-08T18:57:42.449Z"
   },
   {
    "duration": 12,
    "start_time": "2023-01-08T18:57:43.141Z"
   },
   {
    "duration": 73,
    "start_time": "2023-01-08T18:57:43.538Z"
   },
   {
    "duration": 315,
    "start_time": "2023-01-08T18:57:43.856Z"
   },
   {
    "duration": 496,
    "start_time": "2023-01-08T18:57:45.343Z"
   },
   {
    "duration": 17,
    "start_time": "2023-01-08T18:57:45.841Z"
   },
   {
    "duration": 4,
    "start_time": "2023-01-08T18:57:46.808Z"
   },
   {
    "duration": 44,
    "start_time": "2023-01-08T18:57:47.133Z"
   },
   {
    "duration": 27,
    "start_time": "2023-01-08T18:57:47.477Z"
   },
   {
    "duration": 21,
    "start_time": "2023-01-08T18:57:47.811Z"
   },
   {
    "duration": 11,
    "start_time": "2023-01-08T18:57:48.588Z"
   },
   {
    "duration": 212,
    "start_time": "2023-01-08T18:57:49.009Z"
   },
   {
    "duration": 129,
    "start_time": "2023-01-08T18:57:52.872Z"
   },
   {
    "duration": 12,
    "start_time": "2023-01-08T18:58:08.865Z"
   },
   {
    "duration": 320,
    "start_time": "2023-01-08T18:58:37.800Z"
   },
   {
    "duration": 654,
    "start_time": "2023-01-08T18:59:09.897Z"
   },
   {
    "duration": 192,
    "start_time": "2023-01-08T18:59:29.133Z"
   },
   {
    "duration": 6,
    "start_time": "2023-01-08T18:59:36.873Z"
   },
   {
    "duration": 177,
    "start_time": "2023-01-08T18:59:39.176Z"
   },
   {
    "duration": 7302,
    "start_time": "2023-01-08T18:59:42.143Z"
   },
   {
    "duration": 170,
    "start_time": "2023-01-08T18:59:53.019Z"
   },
   {
    "duration": 14,
    "start_time": "2023-01-08T19:02:09.455Z"
   },
   {
    "duration": 4,
    "start_time": "2023-01-08T19:02:11.911Z"
   },
   {
    "duration": 5,
    "start_time": "2023-01-08T19:15:34.762Z"
   },
   {
    "duration": 4,
    "start_time": "2023-01-08T19:18:10.540Z"
   },
   {
    "duration": 7,
    "start_time": "2023-01-08T19:25:59.613Z"
   },
   {
    "duration": 74,
    "start_time": "2023-01-08T19:32:46.337Z"
   },
   {
    "duration": 4,
    "start_time": "2023-01-08T19:32:52.862Z"
   },
   {
    "duration": 5,
    "start_time": "2023-01-08T19:32:55.588Z"
   },
   {
    "duration": 4,
    "start_time": "2023-01-08T19:35:20.159Z"
   },
   {
    "duration": 3,
    "start_time": "2023-01-08T19:35:26.813Z"
   },
   {
    "duration": 4,
    "start_time": "2023-01-08T19:46:24.966Z"
   },
   {
    "duration": 4,
    "start_time": "2023-01-08T19:46:27.965Z"
   },
   {
    "duration": 15,
    "start_time": "2023-01-08T19:47:04.850Z"
   },
   {
    "duration": 18,
    "start_time": "2023-01-08T19:47:09.197Z"
   },
   {
    "duration": 10,
    "start_time": "2023-01-08T19:48:11.135Z"
   },
   {
    "duration": 11,
    "start_time": "2023-01-08T19:48:32.008Z"
   },
   {
    "duration": 10,
    "start_time": "2023-01-08T19:48:39.113Z"
   },
   {
    "duration": 17,
    "start_time": "2023-01-08T19:48:46.115Z"
   },
   {
    "duration": 12,
    "start_time": "2023-01-08T19:48:48.935Z"
   },
   {
    "duration": 13,
    "start_time": "2023-01-08T19:48:55.390Z"
   },
   {
    "duration": 13,
    "start_time": "2023-01-08T19:49:08.011Z"
   },
   {
    "duration": 10,
    "start_time": "2023-01-08T19:49:15.735Z"
   },
   {
    "duration": 13,
    "start_time": "2023-01-08T19:49:20.549Z"
   },
   {
    "duration": 13,
    "start_time": "2023-01-08T19:49:23.011Z"
   },
   {
    "duration": 13,
    "start_time": "2023-01-08T19:49:26.081Z"
   },
   {
    "duration": 14,
    "start_time": "2023-01-08T19:49:29.906Z"
   },
   {
    "duration": 13,
    "start_time": "2023-01-08T19:49:36.553Z"
   },
   {
    "duration": 12,
    "start_time": "2023-01-08T19:49:41.159Z"
   },
   {
    "duration": 10,
    "start_time": "2023-01-08T19:49:44.416Z"
   },
   {
    "duration": 10,
    "start_time": "2023-01-08T19:49:48.363Z"
   },
   {
    "duration": 16,
    "start_time": "2023-01-08T19:49:50.909Z"
   },
   {
    "duration": 15,
    "start_time": "2023-01-08T19:49:54.888Z"
   },
   {
    "duration": 15,
    "start_time": "2023-01-08T19:49:57.935Z"
   },
   {
    "duration": 10,
    "start_time": "2023-01-08T19:50:01.884Z"
   },
   {
    "duration": 32,
    "start_time": "2023-01-08T19:50:37.336Z"
   },
   {
    "duration": 27,
    "start_time": "2023-01-08T19:50:48.557Z"
   },
   {
    "duration": 12,
    "start_time": "2023-01-08T19:51:03.587Z"
   },
   {
    "duration": 11,
    "start_time": "2023-01-08T19:51:06.993Z"
   },
   {
    "duration": 25,
    "start_time": "2023-01-08T19:51:33.181Z"
   },
   {
    "duration": 11,
    "start_time": "2023-01-08T19:51:45.936Z"
   },
   {
    "duration": 38,
    "start_time": "2023-01-08T19:51:58.017Z"
   },
   {
    "duration": 11,
    "start_time": "2023-01-08T19:52:08.322Z"
   },
   {
    "duration": 25,
    "start_time": "2023-01-08T19:54:13.539Z"
   },
   {
    "duration": 3,
    "start_time": "2023-01-08T19:54:45.739Z"
   },
   {
    "duration": 27,
    "start_time": "2023-01-08T19:54:52.555Z"
   },
   {
    "duration": 4,
    "start_time": "2023-01-08T19:55:21.288Z"
   },
   {
    "duration": 15,
    "start_time": "2023-01-08T19:55:24.356Z"
   },
   {
    "duration": 5,
    "start_time": "2023-01-08T19:55:45.931Z"
   },
   {
    "duration": 4,
    "start_time": "2023-01-08T19:55:47.657Z"
   },
   {
    "duration": 16,
    "start_time": "2023-01-08T19:55:49.098Z"
   },
   {
    "duration": 4,
    "start_time": "2023-01-08T19:56:16.894Z"
   },
   {
    "duration": 16,
    "start_time": "2023-01-08T19:56:18.663Z"
   },
   {
    "duration": 16,
    "start_time": "2023-01-08T19:57:59.882Z"
   },
   {
    "duration": 14,
    "start_time": "2023-01-08T19:58:15.080Z"
   },
   {
    "duration": 15,
    "start_time": "2023-01-08T19:58:52.644Z"
   },
   {
    "duration": 12,
    "start_time": "2023-01-08T19:59:32.393Z"
   },
   {
    "duration": 4,
    "start_time": "2023-01-08T19:59:55.490Z"
   },
   {
    "duration": 18,
    "start_time": "2023-01-08T19:59:58.309Z"
   },
   {
    "duration": 4,
    "start_time": "2023-01-08T20:00:38.654Z"
   },
   {
    "duration": 17,
    "start_time": "2023-01-08T20:00:40.043Z"
   },
   {
    "duration": 8561,
    "start_time": "2023-01-08T20:10:19.752Z"
   },
   {
    "duration": 8093,
    "start_time": "2023-01-08T20:11:12.323Z"
   },
   {
    "duration": 4,
    "start_time": "2023-01-08T20:11:41.672Z"
   },
   {
    "duration": 8340,
    "start_time": "2023-01-08T20:11:49.416Z"
   },
   {
    "duration": 8293,
    "start_time": "2023-01-08T20:12:21.801Z"
   },
   {
    "duration": 3,
    "start_time": "2023-01-08T20:12:42.903Z"
   },
   {
    "duration": 22,
    "start_time": "2023-01-08T20:12:47.787Z"
   },
   {
    "duration": 4,
    "start_time": "2023-01-08T20:12:50.436Z"
   },
   {
    "duration": 2718,
    "start_time": "2023-01-08T20:12:56.220Z"
   },
   {
    "duration": 3,
    "start_time": "2023-01-08T20:29:15.897Z"
   },
   {
    "duration": 4,
    "start_time": "2023-01-08T20:29:18.473Z"
   },
   {
    "duration": 25,
    "start_time": "2023-01-08T20:29:24.900Z"
   },
   {
    "duration": 2836,
    "start_time": "2023-01-08T20:30:14.636Z"
   },
   {
    "duration": 5,
    "start_time": "2023-01-08T20:36:39.460Z"
   },
   {
    "duration": 4,
    "start_time": "2023-01-08T20:40:56.440Z"
   },
   {
    "duration": 79,
    "start_time": "2023-01-08T20:52:02.670Z"
   },
   {
    "duration": 115245,
    "start_time": "2023-01-08T20:52:12.018Z"
   },
   {
    "duration": 76,
    "start_time": "2023-01-08T20:57:50.861Z"
   },
   {
    "duration": 4,
    "start_time": "2023-01-08T20:57:53.652Z"
   },
   {
    "duration": 656823,
    "start_time": "2023-01-08T20:57:55.581Z"
   },
   {
    "duration": 7774,
    "start_time": "2023-01-08T21:38:40.392Z"
   },
   {
    "duration": 1533,
    "start_time": "2023-01-08T21:38:51.172Z"
   },
   {
    "duration": 924,
    "start_time": "2023-01-08T21:38:52.707Z"
   },
   {
    "duration": 33,
    "start_time": "2023-01-08T21:38:53.634Z"
   },
   {
    "duration": 29,
    "start_time": "2023-01-08T21:38:55.305Z"
   },
   {
    "duration": 21,
    "start_time": "2023-01-08T21:38:55.975Z"
   },
   {
    "duration": 2427,
    "start_time": "2023-01-08T21:38:57.782Z"
   },
   {
    "duration": 12,
    "start_time": "2023-01-08T21:39:00.212Z"
   },
   {
    "duration": 710,
    "start_time": "2023-01-08T21:39:00.225Z"
   },
   {
    "duration": 7,
    "start_time": "2023-01-08T21:39:01.270Z"
   },
   {
    "duration": 28,
    "start_time": "2023-01-08T21:39:02.654Z"
   },
   {
    "duration": 11,
    "start_time": "2023-01-08T21:39:03.998Z"
   },
   {
    "duration": 12,
    "start_time": "2023-01-08T21:39:04.965Z"
   },
   {
    "duration": 15,
    "start_time": "2023-01-08T21:39:06.799Z"
   },
   {
    "duration": 15,
    "start_time": "2023-01-08T21:39:08.196Z"
   },
   {
    "duration": 12,
    "start_time": "2023-01-08T21:39:09.643Z"
   },
   {
    "duration": 10,
    "start_time": "2023-01-08T21:39:10.289Z"
   },
   {
    "duration": 7,
    "start_time": "2023-01-08T21:39:11.098Z"
   },
   {
    "duration": 8,
    "start_time": "2023-01-08T21:39:11.784Z"
   },
   {
    "duration": 8,
    "start_time": "2023-01-08T21:39:12.511Z"
   },
   {
    "duration": 8,
    "start_time": "2023-01-08T21:39:13.233Z"
   },
   {
    "duration": 55,
    "start_time": "2023-01-08T21:39:14.645Z"
   },
   {
    "duration": 39,
    "start_time": "2023-01-08T21:39:15.467Z"
   },
   {
    "duration": 89,
    "start_time": "2023-01-08T21:39:16.994Z"
   },
   {
    "duration": 12,
    "start_time": "2023-01-08T21:39:18.405Z"
   },
   {
    "duration": 90,
    "start_time": "2023-01-08T21:39:19.035Z"
   },
   {
    "duration": 388,
    "start_time": "2023-01-08T21:39:19.780Z"
   },
   {
    "duration": 516,
    "start_time": "2023-01-08T21:39:22.664Z"
   },
   {
    "duration": 12,
    "start_time": "2023-01-08T21:39:23.800Z"
   },
   {
    "duration": 4,
    "start_time": "2023-01-08T21:39:25.705Z"
   },
   {
    "duration": 49,
    "start_time": "2023-01-08T21:39:26.317Z"
   },
   {
    "duration": 36,
    "start_time": "2023-01-08T21:39:27.227Z"
   },
   {
    "duration": 19,
    "start_time": "2023-01-08T21:39:28.597Z"
   },
   {
    "duration": 11,
    "start_time": "2023-01-08T21:39:30.430Z"
   },
   {
    "duration": 213,
    "start_time": "2023-01-08T21:39:31.516Z"
   },
   {
    "duration": 701,
    "start_time": "2023-01-08T21:39:33.091Z"
   },
   {
    "duration": 192,
    "start_time": "2023-01-08T21:39:35.339Z"
   },
   {
    "duration": 6,
    "start_time": "2023-01-08T21:39:37.401Z"
   },
   {
    "duration": 168,
    "start_time": "2023-01-08T21:39:38.471Z"
   },
   {
    "duration": 7776,
    "start_time": "2023-01-08T21:39:40.472Z"
   },
   {
    "duration": 193,
    "start_time": "2023-01-08T21:39:50.678Z"
   },
   {
    "duration": 4,
    "start_time": "2023-01-08T21:39:52.733Z"
   },
   {
    "duration": 5,
    "start_time": "2023-01-08T21:39:55.037Z"
   },
   {
    "duration": 4,
    "start_time": "2023-01-08T21:39:55.917Z"
   },
   {
    "duration": 3,
    "start_time": "2023-01-08T21:39:56.891Z"
   },
   {
    "duration": 2,
    "start_time": "2023-01-08T21:39:57.875Z"
   },
   {
    "duration": 4,
    "start_time": "2023-01-08T21:40:00.259Z"
   },
   {
    "duration": 4,
    "start_time": "2023-01-08T21:40:02.586Z"
   },
   {
    "duration": 4,
    "start_time": "2023-01-08T21:40:03.312Z"
   },
   {
    "duration": 20,
    "start_time": "2023-01-08T21:40:04.029Z"
   },
   {
    "duration": 4,
    "start_time": "2023-01-08T21:40:04.900Z"
   },
   {
    "duration": 2955,
    "start_time": "2023-01-08T21:40:08.308Z"
   },
   {
    "duration": 45,
    "start_time": "2023-01-08T21:40:22.632Z"
   },
   {
    "duration": 4,
    "start_time": "2023-01-08T21:40:37.686Z"
   },
   {
    "duration": 4,
    "start_time": "2023-01-08T21:40:40.227Z"
   },
   {
    "duration": 644788,
    "start_time": "2023-01-08T21:41:22.798Z"
   },
   {
    "duration": 1274040,
    "start_time": "2023-01-08T21:52:07.588Z"
   },
   {
    "duration": 377691,
    "start_time": "2023-01-08T22:13:21.630Z"
   },
   {
    "duration": 1437085,
    "start_time": "2023-01-08T22:19:39.327Z"
   },
   {
    "duration": 429641,
    "start_time": "2023-01-08T22:43:36.414Z"
   },
   {
    "duration": 14180,
    "start_time": "2023-01-08T23:01:05.552Z"
   },
   {
    "duration": 853075,
    "start_time": "2023-01-08T23:01:26.319Z"
   },
   {
    "duration": 1566246,
    "start_time": "2023-01-08T23:15:39.397Z"
   },
   {
    "duration": 466317,
    "start_time": "2023-01-08T23:44:16.001Z"
   },
   {
    "duration": 119959,
    "start_time": "2023-01-08T23:52:43.882Z"
   },
   {
    "duration": 15,
    "start_time": "2023-01-08T23:55:19.926Z"
   },
   {
    "duration": 43,
    "start_time": "2023-01-08T23:55:24.704Z"
   },
   {
    "duration": 53,
    "start_time": "2023-01-08T23:56:50.940Z"
   },
   {
    "duration": 30,
    "start_time": "2023-01-08T23:57:05.971Z"
   },
   {
    "duration": 2409,
    "start_time": "2023-01-08T23:57:30.315Z"
   },
   {
    "duration": 1356,
    "start_time": "2023-01-08T23:57:32.726Z"
   },
   {
    "duration": 279,
    "start_time": "2023-01-08T23:57:34.084Z"
   },
   {
    "duration": 25,
    "start_time": "2023-01-08T23:57:34.365Z"
   },
   {
    "duration": 30,
    "start_time": "2023-01-08T23:57:34.392Z"
   },
   {
    "duration": 42,
    "start_time": "2023-01-08T23:57:34.424Z"
   },
   {
    "duration": 2196,
    "start_time": "2023-01-08T23:57:34.917Z"
   },
   {
    "duration": 10,
    "start_time": "2023-01-08T23:57:37.115Z"
   },
   {
    "duration": 645,
    "start_time": "2023-01-08T23:57:37.127Z"
   },
   {
    "duration": 5,
    "start_time": "2023-01-08T23:57:37.774Z"
   },
   {
    "duration": 22,
    "start_time": "2023-01-08T23:57:38.673Z"
   },
   {
    "duration": 12,
    "start_time": "2023-01-08T23:57:39.870Z"
   },
   {
    "duration": 28,
    "start_time": "2023-01-08T23:57:40.744Z"
   },
   {
    "duration": 16,
    "start_time": "2023-01-08T23:57:42.008Z"
   },
   {
    "duration": 18,
    "start_time": "2023-01-08T23:57:43.149Z"
   },
   {
    "duration": 7,
    "start_time": "2023-01-08T23:57:44.435Z"
   },
   {
    "duration": 9,
    "start_time": "2023-01-08T23:57:44.910Z"
   },
   {
    "duration": 8,
    "start_time": "2023-01-08T23:57:45.395Z"
   },
   {
    "duration": 8,
    "start_time": "2023-01-08T23:57:45.842Z"
   },
   {
    "duration": 7,
    "start_time": "2023-01-08T23:57:46.329Z"
   },
   {
    "duration": 8,
    "start_time": "2023-01-08T23:57:46.864Z"
   },
   {
    "duration": 59,
    "start_time": "2023-01-08T23:57:47.946Z"
   },
   {
    "duration": 37,
    "start_time": "2023-01-08T23:57:48.492Z"
   },
   {
    "duration": 108,
    "start_time": "2023-01-08T23:57:49.537Z"
   },
   {
    "duration": 14,
    "start_time": "2023-01-08T23:57:50.552Z"
   },
   {
    "duration": 86,
    "start_time": "2023-01-08T23:57:51.132Z"
   },
   {
    "duration": 335,
    "start_time": "2023-01-08T23:57:51.668Z"
   },
   {
    "duration": 53,
    "start_time": "2023-01-08T23:57:53.761Z"
   },
   {
    "duration": 32,
    "start_time": "2023-01-08T23:57:54.604Z"
   },
   {
    "duration": 505,
    "start_time": "2023-01-08T23:57:56.206Z"
   },
   {
    "duration": 11,
    "start_time": "2023-01-08T23:57:56.796Z"
   },
   {
    "duration": 4,
    "start_time": "2023-01-08T23:57:58.772Z"
   },
   {
    "duration": 40,
    "start_time": "2023-01-08T23:57:59.427Z"
   },
   {
    "duration": 25,
    "start_time": "2023-01-08T23:58:00.127Z"
   },
   {
    "duration": 21,
    "start_time": "2023-01-08T23:58:00.797Z"
   },
   {
    "duration": 10,
    "start_time": "2023-01-08T23:58:06.871Z"
   },
   {
    "duration": 160,
    "start_time": "2023-01-08T23:58:07.865Z"
   },
   {
    "duration": 586,
    "start_time": "2023-01-08T23:58:09.046Z"
   },
   {
    "duration": 155,
    "start_time": "2023-01-08T23:58:11.192Z"
   },
   {
    "duration": 6,
    "start_time": "2023-01-08T23:58:13.235Z"
   },
   {
    "duration": 160,
    "start_time": "2023-01-08T23:58:14.967Z"
   },
   {
    "duration": 2509,
    "start_time": "2023-01-08T23:58:18.823Z"
   },
   {
    "duration": 192,
    "start_time": "2023-01-08T23:58:22.993Z"
   },
   {
    "duration": 4,
    "start_time": "2023-01-08T23:58:26.309Z"
   },
   {
    "duration": 5,
    "start_time": "2023-01-08T23:58:30.869Z"
   },
   {
    "duration": 8,
    "start_time": "2023-01-08T23:58:31.504Z"
   },
   {
    "duration": 4,
    "start_time": "2023-01-08T23:58:31.997Z"
   },
   {
    "duration": 3,
    "start_time": "2023-01-08T23:58:35.534Z"
   },
   {
    "duration": 4,
    "start_time": "2023-01-08T23:58:36.010Z"
   },
   {
    "duration": 4,
    "start_time": "2023-01-08T23:58:36.595Z"
   },
   {
    "duration": 4,
    "start_time": "2023-01-08T23:58:37.224Z"
   },
   {
    "duration": 17,
    "start_time": "2023-01-08T23:58:37.907Z"
   },
   {
    "duration": 5,
    "start_time": "2023-01-08T23:58:39.675Z"
   },
   {
    "duration": 3022,
    "start_time": "2023-01-08T23:58:43.722Z"
   },
   {
    "duration": 5,
    "start_time": "2023-01-08T23:58:49.741Z"
   },
   {
    "duration": 88445,
    "start_time": "2023-01-08T23:58:50.404Z"
   },
   {
    "duration": 621936,
    "start_time": "2023-01-09T00:00:20.600Z"
   },
   {
    "duration": 225116,
    "start_time": "2023-01-09T00:11:08.109Z"
   },
   {
    "duration": 16,
    "start_time": "2023-01-09T00:15:38.587Z"
   },
   {
    "duration": 22,
    "start_time": "2023-01-09T00:16:23.462Z"
   },
   {
    "duration": 6611,
    "start_time": "2023-01-09T08:01:25.613Z"
   },
   {
    "duration": 1394,
    "start_time": "2023-01-09T08:01:32.226Z"
   },
   {
    "duration": 861,
    "start_time": "2023-01-09T08:01:33.622Z"
   },
   {
    "duration": 21,
    "start_time": "2023-01-09T08:01:34.485Z"
   },
   {
    "duration": 24,
    "start_time": "2023-01-09T08:01:34.507Z"
   },
   {
    "duration": 16,
    "start_time": "2023-01-09T08:01:34.533Z"
   },
   {
    "duration": 1979,
    "start_time": "2023-01-09T08:01:34.550Z"
   },
   {
    "duration": 10,
    "start_time": "2023-01-09T08:01:36.531Z"
   },
   {
    "duration": 544,
    "start_time": "2023-01-09T08:01:36.542Z"
   },
   {
    "duration": 6,
    "start_time": "2023-01-09T08:01:37.634Z"
   },
   {
    "duration": 23,
    "start_time": "2023-01-09T08:01:39.613Z"
   },
   {
    "duration": 8,
    "start_time": "2023-01-09T08:01:41.668Z"
   },
   {
    "duration": 14,
    "start_time": "2023-01-09T08:01:45.754Z"
   },
   {
    "duration": 19,
    "start_time": "2023-01-09T08:01:47.717Z"
   },
   {
    "duration": 14,
    "start_time": "2023-01-09T08:01:50.216Z"
   },
   {
    "duration": 9,
    "start_time": "2023-01-09T08:01:54.193Z"
   },
   {
    "duration": 8,
    "start_time": "2023-01-09T08:01:55.208Z"
   },
   {
    "duration": 9,
    "start_time": "2023-01-09T08:01:56.163Z"
   },
   {
    "duration": 11,
    "start_time": "2023-01-09T08:01:57.333Z"
   },
   {
    "duration": 15,
    "start_time": "2023-01-09T08:02:01.573Z"
   },
   {
    "duration": 9,
    "start_time": "2023-01-09T08:02:02.433Z"
   },
   {
    "duration": 46,
    "start_time": "2023-01-09T08:02:04.542Z"
   },
   {
    "duration": 36,
    "start_time": "2023-01-09T08:02:06.157Z"
   },
   {
    "duration": 89,
    "start_time": "2023-01-09T08:02:07.830Z"
   },
   {
    "duration": 12,
    "start_time": "2023-01-09T08:02:10.825Z"
   },
   {
    "duration": 61,
    "start_time": "2023-01-09T08:02:16.032Z"
   },
   {
    "duration": 286,
    "start_time": "2023-01-09T08:02:20.973Z"
   },
   {
    "duration": 444,
    "start_time": "2023-01-09T08:02:27.322Z"
   },
   {
    "duration": 12,
    "start_time": "2023-01-09T08:02:31.436Z"
   },
   {
    "duration": 4,
    "start_time": "2023-01-09T08:02:33.377Z"
   },
   {
    "duration": 39,
    "start_time": "2023-01-09T08:02:36.033Z"
   },
   {
    "duration": 24,
    "start_time": "2023-01-09T08:02:38.157Z"
   },
   {
    "duration": 17,
    "start_time": "2023-01-09T08:02:39.312Z"
   },
   {
    "duration": 11,
    "start_time": "2023-01-09T08:02:43.164Z"
   },
   {
    "duration": 180,
    "start_time": "2023-01-09T08:02:43.946Z"
   },
   {
    "duration": 105,
    "start_time": "2023-01-09T08:55:02.956Z"
   },
   {
    "duration": 24,
    "start_time": "2023-01-09T08:55:10.125Z"
   },
   {
    "duration": 5,
    "start_time": "2023-01-09T09:07:43.946Z"
   },
   {
    "duration": 10,
    "start_time": "2023-01-09T09:08:33.085Z"
   },
   {
    "duration": 26,
    "start_time": "2023-01-09T09:08:43.753Z"
   },
   {
    "duration": 19,
    "start_time": "2023-01-09T09:08:57.210Z"
   },
   {
    "duration": 4,
    "start_time": "2023-01-09T09:10:21.723Z"
   },
   {
    "duration": 5,
    "start_time": "2023-01-09T09:10:32.559Z"
   },
   {
    "duration": 597,
    "start_time": "2023-01-09T09:10:41.033Z"
   },
   {
    "duration": 196,
    "start_time": "2023-01-09T09:11:22.051Z"
   },
   {
    "duration": 6,
    "start_time": "2023-01-09T09:11:23.774Z"
   },
   {
    "duration": 148,
    "start_time": "2023-01-09T09:11:25.907Z"
   },
   {
    "duration": 7303,
    "start_time": "2023-01-09T09:11:28.017Z"
   },
   {
    "duration": 186,
    "start_time": "2023-01-09T09:11:35.322Z"
   },
   {
    "duration": 3,
    "start_time": "2023-01-09T09:11:37.960Z"
   },
   {
    "duration": 5,
    "start_time": "2023-01-09T09:11:41.555Z"
   },
   {
    "duration": 5,
    "start_time": "2023-01-09T09:11:43.284Z"
   },
   {
    "duration": 5,
    "start_time": "2023-01-09T09:11:44.224Z"
   },
   {
    "duration": 5,
    "start_time": "2023-01-09T09:11:45.930Z"
   },
   {
    "duration": 3,
    "start_time": "2023-01-09T09:11:46.550Z"
   },
   {
    "duration": 3,
    "start_time": "2023-01-09T09:11:47.120Z"
   },
   {
    "duration": 3,
    "start_time": "2023-01-09T09:11:48.517Z"
   },
   {
    "duration": 5,
    "start_time": "2023-01-09T09:11:49.017Z"
   },
   {
    "duration": 15,
    "start_time": "2023-01-09T09:11:49.630Z"
   },
   {
    "duration": 5,
    "start_time": "2023-01-09T09:11:51.958Z"
   },
   {
    "duration": 2816,
    "start_time": "2023-01-09T09:11:53.219Z"
   },
   {
    "duration": 4,
    "start_time": "2023-01-09T09:11:59.116Z"
   },
   {
    "duration": 947866,
    "start_time": "2023-01-09T09:11:59.719Z"
   },
   {
    "duration": 29337,
    "start_time": "2023-01-09T09:33:18.218Z"
   },
   {
    "duration": 3,
    "start_time": "2023-01-09T09:40:29.525Z"
   },
   {
    "duration": 897085,
    "start_time": "2023-01-09T09:40:30.784Z"
   },
   {
    "duration": 294333,
    "start_time": "2023-01-09T09:57:55.348Z"
   },
   {
    "duration": 304708,
    "start_time": "2023-01-09T10:07:33.617Z"
   },
   {
    "duration": 4,
    "start_time": "2023-01-09T10:15:43.216Z"
   },
   {
    "duration": 6,
    "start_time": "2023-01-09T10:15:54.868Z"
   },
   {
    "duration": 17,
    "start_time": "2023-01-09T10:16:13.327Z"
   },
   {
    "duration": 3,
    "start_time": "2023-01-09T10:18:27.351Z"
   },
   {
    "duration": 6,
    "start_time": "2023-01-09T10:20:56.417Z"
   },
   {
    "duration": 73,
    "start_time": "2023-01-09T10:21:10.674Z"
   },
   {
    "duration": 75,
    "start_time": "2023-01-09T10:21:13.342Z"
   },
   {
    "duration": 17,
    "start_time": "2023-01-09T10:21:15.308Z"
   },
   {
    "duration": 6,
    "start_time": "2023-01-09T10:22:56.552Z"
   },
   {
    "duration": 15,
    "start_time": "2023-01-09T10:23:09.212Z"
   },
   {
    "duration": 21,
    "start_time": "2023-01-09T10:23:45.373Z"
   },
   {
    "duration": 850259,
    "start_time": "2023-01-09T10:25:18.419Z"
   },
   {
    "duration": 4,
    "start_time": "2023-01-09T10:41:56.571Z"
   },
   {
    "duration": 864495,
    "start_time": "2023-01-09T10:42:00.717Z"
   },
   {
    "duration": 107,
    "start_time": "2023-01-09T11:24:41.261Z"
   },
   {
    "duration": 9,
    "start_time": "2023-01-09T11:26:27.798Z"
   },
   {
    "duration": 105,
    "start_time": "2023-01-09T11:26:38.265Z"
   },
   {
    "duration": 160,
    "start_time": "2023-01-09T11:28:00.552Z"
   },
   {
    "duration": 84,
    "start_time": "2023-01-09T11:29:15.497Z"
   },
   {
    "duration": 32,
    "start_time": "2023-01-09T11:29:21.035Z"
   },
   {
    "duration": 18,
    "start_time": "2023-01-09T11:30:16.657Z"
   },
   {
    "duration": 18,
    "start_time": "2023-01-09T11:30:19.482Z"
   },
   {
    "duration": 41,
    "start_time": "2023-01-09T11:30:22.424Z"
   },
   {
    "duration": 4,
    "start_time": "2023-01-09T11:30:56.115Z"
   },
   {
    "duration": 3,
    "start_time": "2023-01-09T11:31:11.887Z"
   },
   {
    "duration": 204,
    "start_time": "2023-01-09T11:31:19.835Z"
   },
   {
    "duration": 19,
    "start_time": "2023-01-09T11:33:35.585Z"
   },
   {
    "duration": 29,
    "start_time": "2023-01-09T11:33:50.707Z"
   },
   {
    "duration": 138,
    "start_time": "2023-01-09T11:34:15.415Z"
   },
   {
    "duration": 127,
    "start_time": "2023-01-09T11:35:50.205Z"
   },
   {
    "duration": 148,
    "start_time": "2023-01-09T11:35:59.867Z"
   },
   {
    "duration": 256,
    "start_time": "2023-01-09T11:36:38.227Z"
   },
   {
    "duration": 253,
    "start_time": "2023-01-09T11:37:19.176Z"
   },
   {
    "duration": 7,
    "start_time": "2023-01-09T11:47:17.167Z"
   },
   {
    "duration": 7,
    "start_time": "2023-01-09T11:47:22.891Z"
   },
   {
    "duration": 6,
    "start_time": "2023-01-09T11:47:25.801Z"
   },
   {
    "duration": 7,
    "start_time": "2023-01-09T11:47:36.973Z"
   },
   {
    "duration": 179448,
    "start_time": "2023-01-09T11:50:11.578Z"
   },
   {
    "duration": 441,
    "start_time": "2023-01-09T11:53:11.027Z"
   },
   {
    "duration": 328,
    "start_time": "2023-01-09T11:54:30.947Z"
   },
   {
    "duration": 211,
    "start_time": "2023-01-09T11:54:39.933Z"
   },
   {
    "duration": 206,
    "start_time": "2023-01-09T11:54:46.939Z"
   },
   {
    "duration": 291,
    "start_time": "2023-01-09T11:54:59.741Z"
   },
   {
    "duration": 206,
    "start_time": "2023-01-09T11:56:28.063Z"
   },
   {
    "duration": 313,
    "start_time": "2023-01-09T11:56:36.586Z"
   },
   {
    "duration": 14,
    "start_time": "2023-01-09T11:57:21.247Z"
   },
   {
    "duration": 183,
    "start_time": "2023-01-09T11:58:55.380Z"
   },
   {
    "duration": 213,
    "start_time": "2023-01-09T11:59:10.474Z"
   },
   {
    "duration": 216,
    "start_time": "2023-01-09T11:59:39.801Z"
   },
   {
    "duration": 254,
    "start_time": "2023-01-09T12:00:09.961Z"
   },
   {
    "duration": 9117,
    "start_time": "2023-01-09T12:00:41.935Z"
   },
   {
    "duration": 417101,
    "start_time": "2023-01-09T12:00:57.019Z"
   },
   {
    "duration": 456,
    "start_time": "2023-01-09T12:13:38.332Z"
   },
   {
    "duration": 404463,
    "start_time": "2023-01-09T12:17:25.608Z"
   },
   {
    "duration": 431,
    "start_time": "2023-01-09T12:24:32.816Z"
   },
   {
    "duration": 320,
    "start_time": "2023-01-09T12:24:43.406Z"
   },
   {
    "duration": 9,
    "start_time": "2023-01-09T12:25:32.417Z"
   },
   {
    "duration": 130,
    "start_time": "2023-01-09T12:25:41.524Z"
   },
   {
    "duration": 205,
    "start_time": "2023-01-09T12:26:37.474Z"
   },
   {
    "duration": 237,
    "start_time": "2023-01-09T12:27:07.296Z"
   },
   {
    "duration": 212,
    "start_time": "2023-01-09T12:27:51.791Z"
   },
   {
    "duration": 23,
    "start_time": "2023-01-09T12:29:00.332Z"
   },
   {
    "duration": 17,
    "start_time": "2023-01-09T12:29:14.393Z"
   },
   {
    "duration": 199,
    "start_time": "2023-01-09T12:31:15.593Z"
   },
   {
    "duration": 4,
    "start_time": "2023-01-09T12:31:27.938Z"
   },
   {
    "duration": 154,
    "start_time": "2023-01-09T12:31:35.620Z"
   },
   {
    "duration": 252,
    "start_time": "2023-01-09T12:32:17.359Z"
   },
   {
    "duration": 324,
    "start_time": "2023-01-09T12:32:49.390Z"
   },
   {
    "duration": 303,
    "start_time": "2023-01-09T12:34:46.831Z"
   },
   {
    "duration": 8,
    "start_time": "2023-01-09T12:39:22.927Z"
   },
   {
    "duration": 8,
    "start_time": "2023-01-09T12:41:05.905Z"
   },
   {
    "duration": 7,
    "start_time": "2023-01-09T12:41:14.283Z"
   },
   {
    "duration": 6,
    "start_time": "2023-01-09T12:41:23.400Z"
   },
   {
    "duration": 8,
    "start_time": "2023-01-09T12:41:26.775Z"
   },
   {
    "duration": 311299,
    "start_time": "2023-01-09T12:42:19.633Z"
   },
   {
    "duration": 326,
    "start_time": "2023-01-09T12:47:30.934Z"
   },
   {
    "duration": 332,
    "start_time": "2023-01-09T12:47:42.037Z"
   },
   {
    "duration": 4,
    "start_time": "2023-01-09T12:49:54.508Z"
   },
   {
    "duration": 4,
    "start_time": "2023-01-09T12:50:03.560Z"
   },
   {
    "duration": 4,
    "start_time": "2023-01-09T12:50:27.162Z"
   },
   {
    "duration": 5,
    "start_time": "2023-01-09T12:50:58.984Z"
   },
   {
    "duration": 7,
    "start_time": "2023-01-09T12:51:22.392Z"
   },
   {
    "duration": 4,
    "start_time": "2023-01-09T12:52:09.784Z"
   },
   {
    "duration": 4,
    "start_time": "2023-01-09T12:52:17.634Z"
   },
   {
    "duration": 6,
    "start_time": "2023-01-09T12:52:37.616Z"
   },
   {
    "duration": 5,
    "start_time": "2023-01-09T12:56:29.671Z"
   },
   {
    "duration": 4,
    "start_time": "2023-01-09T12:56:59.405Z"
   },
   {
    "duration": 1201,
    "start_time": "2023-01-09T12:57:53.450Z"
   },
   {
    "duration": 1181,
    "start_time": "2023-01-09T12:58:10.516Z"
   },
   {
    "duration": 742,
    "start_time": "2023-01-09T12:58:53.285Z"
   },
   {
    "duration": 751,
    "start_time": "2023-01-09T12:58:57.036Z"
   },
   {
    "duration": 412354,
    "start_time": "2023-01-09T13:04:08.524Z"
   },
   {
    "duration": 400230,
    "start_time": "2023-01-09T13:21:45.721Z"
   },
   {
    "duration": 38,
    "start_time": "2023-01-09T13:32:31.396Z"
   },
   {
    "duration": 37,
    "start_time": "2023-01-09T13:32:39.868Z"
   },
   {
    "duration": 699360,
    "start_time": "2023-01-09T13:32:43.629Z"
   },
   {
    "duration": 643381,
    "start_time": "2023-01-09T13:44:50.238Z"
   },
   {
    "duration": 572869,
    "start_time": "2023-01-09T14:06:02.061Z"
   },
   {
    "duration": 88,
    "start_time": "2023-01-09T14:15:34.932Z"
   },
   {
    "duration": 178424,
    "start_time": "2023-01-09T14:15:49.008Z"
   },
   {
    "duration": 7963,
    "start_time": "2023-01-09T14:18:47.434Z"
   },
   {
    "duration": 5,
    "start_time": "2023-01-09T14:22:08.816Z"
   },
   {
    "duration": 11,
    "start_time": "2023-01-09T14:25:06.016Z"
   },
   {
    "duration": 127,
    "start_time": "2023-01-09T14:25:13.988Z"
   },
   {
    "duration": 127,
    "start_time": "2023-01-09T14:26:18.925Z"
   },
   {
    "duration": 101,
    "start_time": "2023-01-09T14:30:33.764Z"
   },
   {
    "duration": 126,
    "start_time": "2023-01-09T14:31:25.651Z"
   },
   {
    "duration": 103,
    "start_time": "2023-01-09T14:31:43.120Z"
   },
   {
    "duration": 100,
    "start_time": "2023-01-09T14:31:56.097Z"
   },
   {
    "duration": 128,
    "start_time": "2023-01-09T14:32:46.021Z"
   },
   {
    "duration": 105,
    "start_time": "2023-01-09T14:32:57.113Z"
   },
   {
    "duration": 128,
    "start_time": "2023-01-09T14:33:20.789Z"
   },
   {
    "duration": 116,
    "start_time": "2023-01-09T14:34:28.683Z"
   },
   {
    "duration": 114,
    "start_time": "2023-01-09T14:34:40.484Z"
   },
   {
    "duration": 232,
    "start_time": "2023-01-09T14:34:57.230Z"
   },
   {
    "duration": 9,
    "start_time": "2023-01-09T14:36:04.817Z"
   },
   {
    "duration": 5,
    "start_time": "2023-01-09T14:36:17.164Z"
   },
   {
    "duration": 122,
    "start_time": "2023-01-09T14:36:23.855Z"
   },
   {
    "duration": 269,
    "start_time": "2023-01-09T14:38:57.223Z"
   },
   {
    "duration": 173,
    "start_time": "2023-01-09T14:39:04.994Z"
   },
   {
    "duration": 184,
    "start_time": "2023-01-09T14:39:59.436Z"
   },
   {
    "duration": 217,
    "start_time": "2023-01-09T14:40:14.754Z"
   },
   {
    "duration": 177,
    "start_time": "2023-01-09T14:40:28.171Z"
   },
   {
    "duration": 106,
    "start_time": "2023-01-09T14:40:59.525Z"
   },
   {
    "duration": 180,
    "start_time": "2023-01-09T14:41:18.942Z"
   },
   {
    "duration": 139,
    "start_time": "2023-01-09T14:47:24.048Z"
   },
   {
    "duration": 1003,
    "start_time": "2023-01-09T14:48:04.046Z"
   },
   {
    "duration": 263,
    "start_time": "2023-01-09T14:48:25.153Z"
   },
   {
    "duration": 4735,
    "start_time": "2023-01-09T14:49:32.321Z"
   },
   {
    "duration": 143,
    "start_time": "2023-01-09T14:49:57.256Z"
   },
   {
    "duration": 127,
    "start_time": "2023-01-09T14:50:44.704Z"
   },
   {
    "duration": 171,
    "start_time": "2023-01-09T14:52:06.401Z"
   },
   {
    "duration": 199,
    "start_time": "2023-01-09T14:53:43.329Z"
   },
   {
    "duration": 175,
    "start_time": "2023-01-09T14:54:03.873Z"
   },
   {
    "duration": 174,
    "start_time": "2023-01-09T14:56:07.101Z"
   },
   {
    "duration": 103,
    "start_time": "2023-01-09T14:56:33.077Z"
   },
   {
    "duration": 103,
    "start_time": "2023-01-09T14:56:43.366Z"
   },
   {
    "duration": 124,
    "start_time": "2023-01-09T15:00:49.238Z"
   },
   {
    "duration": 7,
    "start_time": "2023-01-09T15:03:17.268Z"
   },
   {
    "duration": 278,
    "start_time": "2023-01-09T15:04:43.237Z"
   },
   {
    "duration": 1874,
    "start_time": "2023-01-09T15:04:53.657Z"
   },
   {
    "duration": 141,
    "start_time": "2023-01-09T15:05:23.749Z"
   },
   {
    "duration": 73,
    "start_time": "2023-01-09T15:05:56.529Z"
   },
   {
    "duration": 17,
    "start_time": "2023-01-09T15:05:59.073Z"
   },
   {
    "duration": 15,
    "start_time": "2023-01-09T15:06:22.575Z"
   },
   {
    "duration": 42,
    "start_time": "2023-01-09T15:07:44.248Z"
   },
   {
    "duration": 17,
    "start_time": "2023-01-09T15:08:09.973Z"
   },
   {
    "duration": 22,
    "start_time": "2023-01-09T15:08:26.663Z"
   },
   {
    "duration": 21,
    "start_time": "2023-01-09T15:09:01.664Z"
   },
   {
    "duration": 21,
    "start_time": "2023-01-09T15:09:06.573Z"
   },
   {
    "duration": 24,
    "start_time": "2023-01-09T15:09:20.390Z"
   },
   {
    "duration": 22,
    "start_time": "2023-01-09T15:09:34.799Z"
   },
   {
    "duration": 17,
    "start_time": "2023-01-09T15:09:41.174Z"
   },
   {
    "duration": 22,
    "start_time": "2023-01-09T15:09:54.438Z"
   },
   {
    "duration": 22,
    "start_time": "2023-01-09T15:10:03.866Z"
   },
   {
    "duration": 149,
    "start_time": "2023-01-09T15:10:21.105Z"
   },
   {
    "duration": 147,
    "start_time": "2023-01-09T15:10:27.437Z"
   },
   {
    "duration": 14,
    "start_time": "2023-01-09T15:11:56.216Z"
   },
   {
    "duration": 13,
    "start_time": "2023-01-09T15:12:52.357Z"
   },
   {
    "duration": 10,
    "start_time": "2023-01-09T15:12:57.324Z"
   },
   {
    "duration": 13,
    "start_time": "2023-01-09T15:13:04.513Z"
   },
   {
    "duration": 15,
    "start_time": "2023-01-09T15:13:13.025Z"
   },
   {
    "duration": 89,
    "start_time": "2023-01-09T15:13:18.274Z"
   },
   {
    "duration": 102,
    "start_time": "2023-01-09T15:14:27.125Z"
   },
   {
    "duration": 89,
    "start_time": "2023-01-09T15:14:37.265Z"
   },
   {
    "duration": 175,
    "start_time": "2023-01-09T15:15:58.589Z"
   },
   {
    "duration": 203,
    "start_time": "2023-01-09T15:16:36.305Z"
   },
   {
    "duration": 197,
    "start_time": "2023-01-09T15:16:58.108Z"
   },
   {
    "duration": 10,
    "start_time": "2023-01-09T15:19:14.499Z"
   },
   {
    "duration": 11,
    "start_time": "2023-01-09T15:19:24.708Z"
   },
   {
    "duration": 25,
    "start_time": "2023-01-09T15:20:58.676Z"
   },
   {
    "duration": 18,
    "start_time": "2023-01-09T15:28:00.180Z"
   },
   {
    "duration": 2003,
    "start_time": "2023-01-09T15:28:27.992Z"
   },
   {
    "duration": 213,
    "start_time": "2023-01-09T15:28:56.000Z"
   },
   {
    "duration": 262,
    "start_time": "2023-01-09T15:29:13.098Z"
   },
   {
    "duration": 269,
    "start_time": "2023-01-09T15:30:07.953Z"
   },
   {
    "duration": 41,
    "start_time": "2023-01-09T15:36:42.359Z"
   },
   {
    "duration": 21,
    "start_time": "2023-01-09T15:37:02.081Z"
   },
   {
    "duration": 26,
    "start_time": "2023-01-09T15:37:13.946Z"
   },
   {
    "duration": 21,
    "start_time": "2023-01-09T15:37:38.220Z"
   },
   {
    "duration": 27,
    "start_time": "2023-01-09T15:37:56.047Z"
   },
   {
    "duration": 33,
    "start_time": "2023-01-09T15:38:39.707Z"
   },
   {
    "duration": 29,
    "start_time": "2023-01-09T15:39:30.023Z"
   },
   {
    "duration": 359,
    "start_time": "2023-01-09T15:39:49.025Z"
   },
   {
    "duration": 28,
    "start_time": "2023-01-09T15:40:03.675Z"
   },
   {
    "duration": 14,
    "start_time": "2023-01-09T15:45:39.961Z"
   },
   {
    "duration": 14,
    "start_time": "2023-01-09T15:45:52.319Z"
   },
   {
    "duration": 10,
    "start_time": "2023-01-09T15:46:02.201Z"
   },
   {
    "duration": 105,
    "start_time": "2023-01-09T15:46:17.881Z"
   },
   {
    "duration": 108,
    "start_time": "2023-01-09T15:46:24.128Z"
   },
   {
    "duration": 92,
    "start_time": "2023-01-09T15:46:38.521Z"
   },
   {
    "duration": 104,
    "start_time": "2023-01-09T15:46:52.902Z"
   },
   {
    "duration": 28,
    "start_time": "2023-01-09T15:47:19.682Z"
   },
   {
    "duration": 276,
    "start_time": "2023-01-09T15:47:47.280Z"
   },
   {
    "duration": 260,
    "start_time": "2023-01-09T15:49:37.635Z"
   },
   {
    "duration": 289,
    "start_time": "2023-01-09T15:50:21.682Z"
   },
   {
    "duration": 20,
    "start_time": "2023-01-09T15:53:31.333Z"
   },
   {
    "duration": 16,
    "start_time": "2023-01-09T15:53:40.051Z"
   },
   {
    "duration": 65,
    "start_time": "2023-01-09T15:55:52.456Z"
   },
   {
    "duration": 33,
    "start_time": "2023-01-09T15:57:16.857Z"
   },
   {
    "duration": 279,
    "start_time": "2023-01-09T16:00:03.396Z"
   },
   {
    "duration": 195,
    "start_time": "2023-01-09T16:02:53.439Z"
   },
   {
    "duration": 255,
    "start_time": "2023-01-09T16:03:02.177Z"
   },
   {
    "duration": 279,
    "start_time": "2023-01-09T16:03:06.635Z"
   },
   {
    "duration": 200,
    "start_time": "2023-01-09T16:08:51.629Z"
   },
   {
    "duration": 189,
    "start_time": "2023-01-09T16:09:02.408Z"
   },
   {
    "duration": 34,
    "start_time": "2023-01-09T16:11:14.822Z"
   },
   {
    "duration": 92,
    "start_time": "2023-01-09T16:12:41.950Z"
   },
   {
    "duration": 94,
    "start_time": "2023-01-09T16:13:05.396Z"
   },
   {
    "duration": 474411,
    "start_time": "2023-01-09T16:23:52.151Z"
   },
   {
    "duration": 388366,
    "start_time": "2023-01-09T16:31:46.564Z"
   },
   {
    "duration": 75269,
    "start_time": "2023-01-09T16:38:14.932Z"
   },
   {
    "duration": 28130,
    "start_time": "2023-01-09T16:43:41.880Z"
   },
   {
    "duration": 276,
    "start_time": "2023-01-09T16:45:28.965Z"
   },
   {
    "duration": 284,
    "start_time": "2023-01-09T16:45:32.602Z"
   },
   {
    "duration": 297,
    "start_time": "2023-01-09T16:45:45.515Z"
   },
   {
    "duration": 303,
    "start_time": "2023-01-09T16:45:51.848Z"
   },
   {
    "duration": 399,
    "start_time": "2023-01-09T16:45:59.527Z"
   },
   {
    "duration": 133,
    "start_time": "2023-01-09T16:46:27.037Z"
   },
   {
    "duration": 179,
    "start_time": "2023-01-09T16:46:34.310Z"
   },
   {
    "duration": 27751,
    "start_time": "2023-01-09T16:46:41.746Z"
   },
   {
    "duration": 175,
    "start_time": "2023-01-09T16:47:44.992Z"
   },
   {
    "duration": 280,
    "start_time": "2023-01-09T16:47:53.506Z"
   },
   {
    "duration": 28190,
    "start_time": "2023-01-09T16:48:01.441Z"
   },
   {
    "duration": 27976,
    "start_time": "2023-01-09T16:48:36.539Z"
   },
   {
    "duration": 28093,
    "start_time": "2023-01-09T16:49:15.733Z"
   },
   {
    "duration": 27900,
    "start_time": "2023-01-09T16:49:55.007Z"
   },
   {
    "duration": 28098,
    "start_time": "2023-01-09T16:50:38.486Z"
   },
   {
    "duration": 28687,
    "start_time": "2023-01-09T16:51:29.772Z"
   },
   {
    "duration": 3,
    "start_time": "2023-01-09T16:52:33.220Z"
   },
   {
    "duration": 296,
    "start_time": "2023-01-09T16:54:37.714Z"
   },
   {
    "duration": 88,
    "start_time": "2023-01-09T16:55:27.250Z"
   },
   {
    "duration": 7,
    "start_time": "2023-01-09T16:56:42.551Z"
   },
   {
    "duration": 71,
    "start_time": "2023-01-09T16:58:06.606Z"
   },
   {
    "duration": 37,
    "start_time": "2023-01-09T16:58:21.944Z"
   },
   {
    "duration": 99,
    "start_time": "2023-01-09T16:59:55.300Z"
   },
   {
    "duration": 10,
    "start_time": "2023-01-09T17:01:57.771Z"
   },
   {
    "duration": 37,
    "start_time": "2023-01-09T17:02:07.727Z"
   },
   {
    "duration": 266,
    "start_time": "2023-01-09T17:02:20.742Z"
   },
   {
    "duration": 29,
    "start_time": "2023-01-09T17:02:25.320Z"
   },
   {
    "duration": 41,
    "start_time": "2023-01-09T17:02:43.905Z"
   },
   {
    "duration": 57,
    "start_time": "2023-01-09T17:03:12.788Z"
   },
   {
    "duration": 29,
    "start_time": "2023-01-09T17:04:05.458Z"
   },
   {
    "duration": 35,
    "start_time": "2023-01-09T17:04:41.834Z"
   },
   {
    "duration": 33,
    "start_time": "2023-01-09T17:04:53.970Z"
   },
   {
    "duration": 293,
    "start_time": "2023-01-09T17:05:22.761Z"
   },
   {
    "duration": 26,
    "start_time": "2023-01-09T17:06:45.235Z"
   },
   {
    "duration": 17,
    "start_time": "2023-01-09T17:07:05.398Z"
   },
   {
    "duration": 23,
    "start_time": "2023-01-09T17:07:41.037Z"
   },
   {
    "duration": 7459,
    "start_time": "2023-01-09T17:26:17.802Z"
   },
   {
    "duration": 1252,
    "start_time": "2023-01-09T17:26:27.625Z"
   },
   {
    "duration": 4,
    "start_time": "2023-01-09T17:26:29.727Z"
   },
   {
    "duration": 361,
    "start_time": "2023-01-09T17:26:30.433Z"
   },
   {
    "duration": 20,
    "start_time": "2023-01-09T17:26:31.227Z"
   },
   {
    "duration": 26,
    "start_time": "2023-01-09T17:26:32.857Z"
   },
   {
    "duration": 17,
    "start_time": "2023-01-09T17:26:33.308Z"
   },
   {
    "duration": 1838,
    "start_time": "2023-01-09T17:26:34.144Z"
   },
   {
    "duration": 9,
    "start_time": "2023-01-09T17:26:35.984Z"
   },
   {
    "duration": 526,
    "start_time": "2023-01-09T17:26:36.244Z"
   },
   {
    "duration": 7,
    "start_time": "2023-01-09T17:26:38.987Z"
   },
   {
    "duration": 19,
    "start_time": "2023-01-09T17:26:40.373Z"
   },
   {
    "duration": 9,
    "start_time": "2023-01-09T17:26:41.653Z"
   },
   {
    "duration": 10,
    "start_time": "2023-01-09T17:26:44.022Z"
   },
   {
    "duration": 13,
    "start_time": "2023-01-09T17:26:45.170Z"
   },
   {
    "duration": 15,
    "start_time": "2023-01-09T17:26:46.382Z"
   },
   {
    "duration": 7,
    "start_time": "2023-01-09T17:26:48.232Z"
   },
   {
    "duration": 8,
    "start_time": "2023-01-09T17:26:50.105Z"
   },
   {
    "duration": 7,
    "start_time": "2023-01-09T17:26:50.709Z"
   },
   {
    "duration": 6,
    "start_time": "2023-01-09T17:26:51.346Z"
   },
   {
    "duration": 9,
    "start_time": "2023-01-09T17:26:53.577Z"
   },
   {
    "duration": 8,
    "start_time": "2023-01-09T17:26:54.044Z"
   },
   {
    "duration": 38,
    "start_time": "2023-01-09T17:26:55.231Z"
   },
   {
    "duration": 33,
    "start_time": "2023-01-09T17:26:58.103Z"
   },
   {
    "duration": 73,
    "start_time": "2023-01-09T17:26:59.685Z"
   },
   {
    "duration": 11,
    "start_time": "2023-01-09T17:27:02.267Z"
   },
   {
    "duration": 57,
    "start_time": "2023-01-09T17:27:03.271Z"
   },
   {
    "duration": 272,
    "start_time": "2023-01-09T17:27:06.409Z"
   },
   {
    "duration": 443,
    "start_time": "2023-01-09T17:27:19.478Z"
   },
   {
    "duration": 11,
    "start_time": "2023-01-09T17:27:22.185Z"
   },
   {
    "duration": 4,
    "start_time": "2023-01-09T17:27:23.302Z"
   },
   {
    "duration": 45,
    "start_time": "2023-01-09T17:27:23.941Z"
   },
   {
    "duration": 35,
    "start_time": "2023-01-09T17:27:24.667Z"
   },
   {
    "duration": 19,
    "start_time": "2023-01-09T17:27:26.129Z"
   },
   {
    "duration": 10,
    "start_time": "2023-01-09T17:27:30.222Z"
   },
   {
    "duration": 179,
    "start_time": "2023-01-09T17:27:30.804Z"
   },
   {
    "duration": 661,
    "start_time": "2023-01-09T17:27:31.826Z"
   },
   {
    "duration": 201,
    "start_time": "2023-01-09T17:27:32.807Z"
   },
   {
    "duration": 7,
    "start_time": "2023-01-09T17:27:34.753Z"
   },
   {
    "duration": 132,
    "start_time": "2023-01-09T17:27:35.432Z"
   },
   {
    "duration": 6989,
    "start_time": "2023-01-09T17:27:38.049Z"
   },
   {
    "duration": 170,
    "start_time": "2023-01-09T17:27:45.040Z"
   },
   {
    "duration": 4,
    "start_time": "2023-01-09T17:27:54.024Z"
   },
   {
    "duration": 5,
    "start_time": "2023-01-09T17:27:58.923Z"
   },
   {
    "duration": 5,
    "start_time": "2023-01-09T17:27:59.298Z"
   },
   {
    "duration": 3,
    "start_time": "2023-01-09T17:27:59.695Z"
   },
   {
    "duration": 2,
    "start_time": "2023-01-09T17:28:00.131Z"
   },
   {
    "duration": 3,
    "start_time": "2023-01-09T17:28:00.599Z"
   },
   {
    "duration": 3,
    "start_time": "2023-01-09T17:28:01.175Z"
   },
   {
    "duration": 3,
    "start_time": "2023-01-09T17:28:01.980Z"
   },
   {
    "duration": 15,
    "start_time": "2023-01-09T17:28:02.930Z"
   },
   {
    "duration": 4,
    "start_time": "2023-01-09T17:28:04.104Z"
   },
   {
    "duration": 2567,
    "start_time": "2023-01-09T17:28:06.342Z"
   },
   {
    "duration": 264,
    "start_time": "2023-01-09T17:28:37.974Z"
   },
   {
    "duration": 23,
    "start_time": "2023-01-09T17:28:41.174Z"
   },
   {
    "duration": 28,
    "start_time": "2023-01-09T17:29:49.403Z"
   },
   {
    "duration": 3,
    "start_time": "2023-01-09T17:33:54.085Z"
   },
   {
    "duration": 1826,
    "start_time": "2023-01-09T17:35:00.294Z"
   },
   {
    "duration": 48,
    "start_time": "2023-01-09T17:35:53.412Z"
   },
   {
    "duration": 3,
    "start_time": "2023-01-09T17:36:09.577Z"
   },
   {
    "duration": 5,
    "start_time": "2023-01-09T17:36:58.416Z"
   },
   {
    "duration": 5,
    "start_time": "2023-01-09T17:39:49.724Z"
   },
   {
    "duration": 2030,
    "start_time": "2023-01-09T17:43:06.271Z"
   },
   {
    "duration": 1184,
    "start_time": "2023-01-09T17:43:08.303Z"
   },
   {
    "duration": 217,
    "start_time": "2023-01-09T17:43:09.489Z"
   },
   {
    "duration": 20,
    "start_time": "2023-01-09T17:43:09.707Z"
   },
   {
    "duration": 24,
    "start_time": "2023-01-09T17:43:09.729Z"
   },
   {
    "duration": 16,
    "start_time": "2023-01-09T17:43:09.754Z"
   },
   {
    "duration": 1787,
    "start_time": "2023-01-09T17:43:09.771Z"
   },
   {
    "duration": 9,
    "start_time": "2023-01-09T17:43:11.560Z"
   },
   {
    "duration": 548,
    "start_time": "2023-01-09T17:43:11.571Z"
   },
   {
    "duration": 6,
    "start_time": "2023-01-09T17:43:12.121Z"
   },
   {
    "duration": 23,
    "start_time": "2023-01-09T17:43:12.129Z"
   },
   {
    "duration": 8,
    "start_time": "2023-01-09T17:43:12.153Z"
   },
   {
    "duration": 15,
    "start_time": "2023-01-09T17:43:12.163Z"
   },
   {
    "duration": 16,
    "start_time": "2023-01-09T17:43:12.197Z"
   },
   {
    "duration": 13,
    "start_time": "2023-01-09T17:43:12.214Z"
   },
   {
    "duration": 30,
    "start_time": "2023-01-09T17:43:12.229Z"
   },
   {
    "duration": 12,
    "start_time": "2023-01-09T17:43:12.260Z"
   },
   {
    "duration": 7,
    "start_time": "2023-01-09T17:43:12.273Z"
   },
   {
    "duration": 7,
    "start_time": "2023-01-09T17:43:12.281Z"
   },
   {
    "duration": 9,
    "start_time": "2023-01-09T17:43:12.290Z"
   },
   {
    "duration": 9,
    "start_time": "2023-01-09T17:43:12.301Z"
   },
   {
    "duration": 40,
    "start_time": "2023-01-09T17:43:12.311Z"
   },
   {
    "duration": 48,
    "start_time": "2023-01-09T17:43:12.353Z"
   },
   {
    "duration": 70,
    "start_time": "2023-01-09T17:43:12.402Z"
   },
   {
    "duration": 23,
    "start_time": "2023-01-09T17:43:12.474Z"
   },
   {
    "duration": 56,
    "start_time": "2023-01-09T17:43:12.499Z"
   },
   {
    "duration": 290,
    "start_time": "2023-01-09T17:43:12.556Z"
   },
   {
    "duration": 416,
    "start_time": "2023-01-09T17:43:12.848Z"
   },
   {
    "duration": 11,
    "start_time": "2023-01-09T17:43:13.266Z"
   },
   {
    "duration": 4,
    "start_time": "2023-01-09T17:43:13.279Z"
   },
   {
    "duration": 49,
    "start_time": "2023-01-09T17:43:13.284Z"
   },
   {
    "duration": 22,
    "start_time": "2023-01-09T17:43:13.335Z"
   },
   {
    "duration": 16,
    "start_time": "2023-01-09T17:43:13.359Z"
   },
   {
    "duration": 26,
    "start_time": "2023-01-09T17:43:13.376Z"
   },
   {
    "duration": 185,
    "start_time": "2023-01-09T17:43:13.404Z"
   },
   {
    "duration": 612,
    "start_time": "2023-01-09T17:43:13.590Z"
   },
   {
    "duration": 194,
    "start_time": "2023-01-09T17:43:14.204Z"
   },
   {
    "duration": 6,
    "start_time": "2023-01-09T17:43:14.399Z"
   },
   {
    "duration": 143,
    "start_time": "2023-01-09T17:43:14.406Z"
   },
   {
    "duration": 6688,
    "start_time": "2023-01-09T17:43:14.551Z"
   },
   {
    "duration": 181,
    "start_time": "2023-01-09T17:43:21.244Z"
   },
   {
    "duration": 5,
    "start_time": "2023-01-09T17:43:21.426Z"
   },
   {
    "duration": 8,
    "start_time": "2023-01-09T17:43:21.433Z"
   },
   {
    "duration": 10,
    "start_time": "2023-01-09T17:43:21.442Z"
   },
   {
    "duration": 7,
    "start_time": "2023-01-09T17:43:21.454Z"
   },
   {
    "duration": 20,
    "start_time": "2023-01-09T17:43:21.463Z"
   },
   {
    "duration": 12,
    "start_time": "2023-01-09T17:43:21.485Z"
   },
   {
    "duration": 11,
    "start_time": "2023-01-09T17:43:21.499Z"
   },
   {
    "duration": 7,
    "start_time": "2023-01-09T17:43:21.511Z"
   },
   {
    "duration": 21,
    "start_time": "2023-01-09T17:43:21.519Z"
   },
   {
    "duration": 4,
    "start_time": "2023-01-09T17:43:21.542Z"
   },
   {
    "duration": 2477,
    "start_time": "2023-01-09T17:43:21.547Z"
   },
   {
    "duration": 395660,
    "start_time": "2023-01-09T17:43:24.026Z"
   },
   {
    "duration": 7311,
    "start_time": "2023-01-10T09:29:54.319Z"
   },
   {
    "duration": 1569,
    "start_time": "2023-01-10T09:30:01.633Z"
   },
   {
    "duration": 918,
    "start_time": "2023-01-10T09:30:03.203Z"
   },
   {
    "duration": 35,
    "start_time": "2023-01-10T09:30:04.128Z"
   },
   {
    "duration": 38,
    "start_time": "2023-01-10T09:30:04.165Z"
   },
   {
    "duration": 34,
    "start_time": "2023-01-10T09:30:04.206Z"
   },
   {
    "duration": 2276,
    "start_time": "2023-01-10T09:30:04.243Z"
   },
   {
    "duration": 15,
    "start_time": "2023-01-10T09:30:06.521Z"
   },
   {
    "duration": 665,
    "start_time": "2023-01-10T09:30:06.538Z"
   },
   {
    "duration": 6,
    "start_time": "2023-01-10T09:30:07.205Z"
   },
   {
    "duration": 525,
    "start_time": "2023-01-10T09:30:07.213Z"
   },
   {
    "duration": 17,
    "start_time": "2023-01-10T09:30:07.740Z"
   },
   {
    "duration": 27,
    "start_time": "2023-01-10T09:30:07.758Z"
   },
   {
    "duration": 40,
    "start_time": "2023-01-10T09:30:07.787Z"
   },
   {
    "duration": 17,
    "start_time": "2023-01-10T09:30:07.836Z"
   },
   {
    "duration": 18,
    "start_time": "2023-01-10T09:30:07.855Z"
   },
   {
    "duration": 14,
    "start_time": "2023-01-10T09:30:07.875Z"
   },
   {
    "duration": 28,
    "start_time": "2023-01-10T09:30:07.892Z"
   },
   {
    "duration": 13,
    "start_time": "2023-01-10T09:30:07.923Z"
   },
   {
    "duration": 28,
    "start_time": "2023-01-10T09:30:07.938Z"
   },
   {
    "duration": 11,
    "start_time": "2023-01-10T09:30:07.969Z"
   },
   {
    "duration": 72,
    "start_time": "2023-01-10T09:30:07.982Z"
   },
   {
    "duration": 38,
    "start_time": "2023-01-10T09:30:08.056Z"
   },
   {
    "duration": 100,
    "start_time": "2023-01-10T09:30:08.096Z"
   },
   {
    "duration": 13,
    "start_time": "2023-01-10T09:30:08.198Z"
   },
   {
    "duration": 93,
    "start_time": "2023-01-10T09:30:08.222Z"
   },
   {
    "duration": 369,
    "start_time": "2023-01-10T09:30:08.317Z"
   },
   {
    "duration": 588,
    "start_time": "2023-01-10T09:30:08.691Z"
   },
   {
    "duration": 12,
    "start_time": "2023-01-10T09:30:09.281Z"
   },
   {
    "duration": 6,
    "start_time": "2023-01-10T09:30:09.296Z"
   },
   {
    "duration": 53,
    "start_time": "2023-01-10T09:30:09.304Z"
   },
   {
    "duration": 26,
    "start_time": "2023-01-10T09:30:09.359Z"
   },
   {
    "duration": 39,
    "start_time": "2023-01-10T09:30:09.387Z"
   },
   {
    "duration": 15,
    "start_time": "2023-01-10T09:30:09.428Z"
   },
   {
    "duration": 223,
    "start_time": "2023-01-10T09:30:09.446Z"
   },
   {
    "duration": 697,
    "start_time": "2023-01-10T09:30:09.671Z"
   },
   {
    "duration": 205,
    "start_time": "2023-01-10T09:30:10.370Z"
   },
   {
    "duration": 6,
    "start_time": "2023-01-10T09:30:10.577Z"
   },
   {
    "duration": 179,
    "start_time": "2023-01-10T09:30:10.585Z"
   },
   {
    "duration": 7964,
    "start_time": "2023-01-10T09:30:10.766Z"
   },
   {
    "duration": 212,
    "start_time": "2023-01-10T09:30:18.733Z"
   },
   {
    "duration": 4,
    "start_time": "2023-01-10T09:30:18.947Z"
   },
   {
    "duration": 15,
    "start_time": "2023-01-10T09:30:18.953Z"
   },
   {
    "duration": 9,
    "start_time": "2023-01-10T09:30:18.970Z"
   },
   {
    "duration": 13,
    "start_time": "2023-01-10T09:30:18.981Z"
   },
   {
    "duration": 13,
    "start_time": "2023-01-10T09:30:18.995Z"
   },
   {
    "duration": 11,
    "start_time": "2023-01-10T09:30:19.010Z"
   },
   {
    "duration": 34,
    "start_time": "2023-01-10T09:30:19.023Z"
   },
   {
    "duration": 28,
    "start_time": "2023-01-10T09:30:19.059Z"
   },
   {
    "duration": 27,
    "start_time": "2023-01-10T09:30:19.089Z"
   },
   {
    "duration": 10,
    "start_time": "2023-01-10T09:30:19.118Z"
   },
   {
    "duration": 3198,
    "start_time": "2023-01-10T09:30:19.130Z"
   },
   {
    "duration": 461843,
    "start_time": "2023-01-10T09:30:22.330Z"
   },
   {
    "duration": 405156,
    "start_time": "2023-01-10T09:38:04.176Z"
   },
   {
    "duration": 395,
    "start_time": "2023-01-10T09:44:49.333Z"
   },
   {
    "duration": 42,
    "start_time": "2023-01-10T09:44:49.730Z"
   },
   {
    "duration": 3,
    "start_time": "2023-01-10T09:44:49.774Z"
   },
   {
    "duration": 2355,
    "start_time": "2023-01-10T09:44:49.780Z"
   },
   {
    "duration": 8,
    "start_time": "2023-01-10T09:44:52.138Z"
   },
   {
    "duration": 23,
    "start_time": "2023-01-10T09:44:52.148Z"
   },
   {
    "duration": 39,
    "start_time": "2023-01-10T09:44:52.174Z"
   },
   {
    "duration": 155,
    "start_time": "2023-01-10T09:44:52.214Z"
   },
   {
    "duration": 225,
    "start_time": "2023-01-10T09:44:52.371Z"
   },
   {
    "duration": 137,
    "start_time": "2023-01-10T09:44:52.598Z"
   },
   {
    "duration": 164,
    "start_time": "2023-01-10T09:44:52.737Z"
   },
   {
    "duration": 249,
    "start_time": "2023-01-10T09:44:52.904Z"
   },
   {
    "duration": 332,
    "start_time": "2023-01-10T09:44:53.155Z"
   },
   {
    "duration": 118,
    "start_time": "2023-01-10T09:44:53.489Z"
   },
   {
    "duration": 50,
    "start_time": "2023-01-10T09:44:53.609Z"
   },
   {
    "duration": 344,
    "start_time": "2023-01-10T09:44:53.661Z"
   },
   {
    "duration": 391,
    "start_time": "2023-01-10T09:44:54.006Z"
   },
   {
    "duration": 102,
    "start_time": "2023-01-10T09:44:54.401Z"
   },
   {
    "duration": 53,
    "start_time": "2023-01-10T09:44:54.505Z"
   },
   {
    "duration": 8142,
    "start_time": "2023-01-11T13:48:17.434Z"
   },
   {
    "duration": 1300,
    "start_time": "2023-01-11T13:48:25.578Z"
   },
   {
    "duration": 242,
    "start_time": "2023-01-11T13:48:26.879Z"
   },
   {
    "duration": 23,
    "start_time": "2023-01-11T13:48:27.124Z"
   },
   {
    "duration": 38,
    "start_time": "2023-01-11T13:48:27.149Z"
   },
   {
    "duration": 21,
    "start_time": "2023-01-11T13:48:27.188Z"
   },
   {
    "duration": 2094,
    "start_time": "2023-01-11T13:48:27.211Z"
   },
   {
    "duration": 11,
    "start_time": "2023-01-11T13:48:29.307Z"
   },
   {
    "duration": 610,
    "start_time": "2023-01-11T13:48:29.319Z"
   },
   {
    "duration": 6,
    "start_time": "2023-01-11T13:48:29.934Z"
   },
   {
    "duration": 49,
    "start_time": "2023-01-11T13:48:29.941Z"
   },
   {
    "duration": 11,
    "start_time": "2023-01-11T13:48:29.992Z"
   },
   {
    "duration": 26,
    "start_time": "2023-01-11T13:48:30.005Z"
   },
   {
    "duration": 25,
    "start_time": "2023-01-11T13:48:30.033Z"
   },
   {
    "duration": 20,
    "start_time": "2023-01-11T13:48:30.060Z"
   },
   {
    "duration": 44,
    "start_time": "2023-01-11T13:48:30.082Z"
   },
   {
    "duration": 29,
    "start_time": "2023-01-11T13:48:30.127Z"
   },
   {
    "duration": 39,
    "start_time": "2023-01-11T13:48:30.158Z"
   },
   {
    "duration": 34,
    "start_time": "2023-01-11T13:48:30.198Z"
   },
   {
    "duration": 58,
    "start_time": "2023-01-11T13:48:30.235Z"
   },
   {
    "duration": 47,
    "start_time": "2023-01-11T13:48:30.295Z"
   },
   {
    "duration": 86,
    "start_time": "2023-01-11T13:48:30.344Z"
   },
   {
    "duration": 61,
    "start_time": "2023-01-11T13:48:30.432Z"
   },
   {
    "duration": 134,
    "start_time": "2023-01-11T13:48:30.494Z"
   },
   {
    "duration": 11,
    "start_time": "2023-01-11T13:48:30.630Z"
   },
   {
    "duration": 95,
    "start_time": "2023-01-11T13:48:30.643Z"
   },
   {
    "duration": 313,
    "start_time": "2023-01-11T13:48:30.740Z"
   },
   {
    "duration": 488,
    "start_time": "2023-01-11T13:48:31.056Z"
   },
   {
    "duration": 11,
    "start_time": "2023-01-11T13:48:31.546Z"
   },
   {
    "duration": 34,
    "start_time": "2023-01-11T13:48:31.559Z"
   },
   {
    "duration": 67,
    "start_time": "2023-01-11T13:48:31.595Z"
   },
   {
    "duration": 32,
    "start_time": "2023-01-11T13:48:31.663Z"
   },
   {
    "duration": 58,
    "start_time": "2023-01-11T13:48:31.697Z"
   },
   {
    "duration": 12,
    "start_time": "2023-01-11T13:48:31.758Z"
   },
   {
    "duration": 202,
    "start_time": "2023-01-11T13:48:31.772Z"
   },
   {
    "duration": 667,
    "start_time": "2023-01-11T13:48:31.976Z"
   },
   {
    "duration": 204,
    "start_time": "2023-01-11T13:48:32.645Z"
   },
   {
    "duration": 5,
    "start_time": "2023-01-11T13:48:32.851Z"
   },
   {
    "duration": 180,
    "start_time": "2023-01-11T13:48:32.858Z"
   },
   {
    "duration": 7758,
    "start_time": "2023-01-11T13:48:33.040Z"
   },
   {
    "duration": 186,
    "start_time": "2023-01-11T13:48:40.800Z"
   },
   {
    "duration": 4,
    "start_time": "2023-01-11T13:48:40.988Z"
   },
   {
    "duration": 21,
    "start_time": "2023-01-11T13:48:40.993Z"
   },
   {
    "duration": 13,
    "start_time": "2023-01-11T13:48:41.016Z"
   },
   {
    "duration": 11,
    "start_time": "2023-01-11T13:48:41.031Z"
   },
   {
    "duration": 13,
    "start_time": "2023-01-11T13:48:41.044Z"
   },
   {
    "duration": 15,
    "start_time": "2023-01-11T13:48:41.059Z"
   },
   {
    "duration": 13,
    "start_time": "2023-01-11T13:48:41.075Z"
   },
   {
    "duration": 19,
    "start_time": "2023-01-11T13:48:41.089Z"
   },
   {
    "duration": 22,
    "start_time": "2023-01-11T13:48:41.110Z"
   },
   {
    "duration": 4,
    "start_time": "2023-01-11T13:48:41.134Z"
   },
   {
    "duration": 2832,
    "start_time": "2023-01-11T13:48:41.139Z"
   },
   {
    "duration": 443757,
    "start_time": "2023-01-11T13:48:43.972Z"
   },
   {
    "duration": 356107,
    "start_time": "2023-01-11T13:56:07.731Z"
   },
   {
    "duration": 399,
    "start_time": "2023-01-11T14:02:03.840Z"
   },
   {
    "duration": 31,
    "start_time": "2023-01-11T14:02:04.241Z"
   },
   {
    "duration": 3,
    "start_time": "2023-01-11T14:02:04.273Z"
   },
   {
    "duration": 2203,
    "start_time": "2023-01-11T14:02:04.278Z"
   },
   {
    "duration": 5,
    "start_time": "2023-01-11T14:02:06.483Z"
   },
   {
    "duration": 7,
    "start_time": "2023-01-11T14:02:06.489Z"
   },
   {
    "duration": 9,
    "start_time": "2023-01-11T14:02:06.497Z"
   },
   {
    "duration": 142,
    "start_time": "2023-01-11T14:02:06.508Z"
   },
   {
    "duration": 225,
    "start_time": "2023-01-11T14:02:06.652Z"
   },
   {
    "duration": 121,
    "start_time": "2023-01-11T14:02:06.878Z"
   },
   {
    "duration": 150,
    "start_time": "2023-01-11T14:02:07.000Z"
   },
   {
    "duration": 221,
    "start_time": "2023-01-11T14:02:07.152Z"
   },
   {
    "duration": 295,
    "start_time": "2023-01-11T14:02:07.374Z"
   },
   {
    "duration": 112,
    "start_time": "2023-01-11T14:02:07.671Z"
   },
   {
    "duration": 31,
    "start_time": "2023-01-11T14:02:07.785Z"
   },
   {
    "duration": 330,
    "start_time": "2023-01-11T14:02:07.818Z"
   },
   {
    "duration": 315,
    "start_time": "2023-01-11T14:02:08.150Z"
   },
   {
    "duration": 87,
    "start_time": "2023-01-11T14:02:08.467Z"
   },
   {
    "duration": 37,
    "start_time": "2023-01-11T14:02:08.555Z"
   },
   {
    "duration": 6440,
    "start_time": "2023-01-11T15:45:03.113Z"
   },
   {
    "duration": 1468,
    "start_time": "2023-01-11T15:45:09.556Z"
   },
   {
    "duration": 380,
    "start_time": "2023-01-11T15:45:11.025Z"
   },
   {
    "duration": 25,
    "start_time": "2023-01-11T15:45:11.407Z"
   },
   {
    "duration": 26,
    "start_time": "2023-01-11T15:45:11.434Z"
   },
   {
    "duration": 24,
    "start_time": "2023-01-11T15:45:11.463Z"
   },
   {
    "duration": 2047,
    "start_time": "2023-01-11T15:45:11.489Z"
   },
   {
    "duration": 12,
    "start_time": "2023-01-11T15:45:13.538Z"
   },
   {
    "duration": 585,
    "start_time": "2023-01-11T15:45:13.552Z"
   },
   {
    "duration": 6,
    "start_time": "2023-01-11T15:45:14.139Z"
   },
   {
    "duration": 21,
    "start_time": "2023-01-11T15:45:14.314Z"
   },
   {
    "duration": 8,
    "start_time": "2023-01-11T15:45:16.137Z"
   },
   {
    "duration": 11,
    "start_time": "2023-01-11T15:45:17.310Z"
   },
   {
    "duration": 15,
    "start_time": "2023-01-11T15:45:18.906Z"
   },
   {
    "duration": 16,
    "start_time": "2023-01-11T15:45:20.812Z"
   },
   {
    "duration": 8,
    "start_time": "2023-01-11T15:45:21.882Z"
   },
   {
    "duration": 8,
    "start_time": "2023-01-11T15:45:28.173Z"
   },
   {
    "duration": 8,
    "start_time": "2023-01-11T15:45:28.728Z"
   },
   {
    "duration": 7,
    "start_time": "2023-01-11T15:45:29.262Z"
   },
   {
    "duration": 8,
    "start_time": "2023-01-11T15:45:29.717Z"
   },
   {
    "duration": 8,
    "start_time": "2023-01-11T15:45:31.298Z"
   },
   {
    "duration": 42,
    "start_time": "2023-01-11T15:45:33.659Z"
   },
   {
    "duration": 34,
    "start_time": "2023-01-11T15:45:35.375Z"
   },
   {
    "duration": 76,
    "start_time": "2023-01-11T15:45:36.786Z"
   },
   {
    "duration": 13,
    "start_time": "2023-01-11T15:45:41.039Z"
   },
   {
    "duration": 67,
    "start_time": "2023-01-11T15:45:41.910Z"
   },
   {
    "duration": 317,
    "start_time": "2023-01-11T15:45:42.341Z"
   },
   {
    "duration": 501,
    "start_time": "2023-01-11T15:45:46.054Z"
   },
   {
    "duration": 13,
    "start_time": "2023-01-11T15:45:49.157Z"
   },
   {
    "duration": 4,
    "start_time": "2023-01-11T15:45:49.992Z"
   },
   {
    "duration": 43,
    "start_time": "2023-01-11T15:45:50.527Z"
   },
   {
    "duration": 26,
    "start_time": "2023-01-11T15:45:52.595Z"
   },
   {
    "duration": 19,
    "start_time": "2023-01-11T15:45:53.165Z"
   },
   {
    "duration": 11,
    "start_time": "2023-01-11T15:45:55.645Z"
   },
   {
    "duration": 194,
    "start_time": "2023-01-11T15:45:56.197Z"
   },
   {
    "duration": 726,
    "start_time": "2023-01-11T15:45:57.881Z"
   },
   {
    "duration": 204,
    "start_time": "2023-01-11T15:45:59.738Z"
   },
   {
    "duration": 6,
    "start_time": "2023-01-11T15:46:01.287Z"
   },
   {
    "duration": 160,
    "start_time": "2023-01-11T15:46:02.052Z"
   },
   {
    "duration": 7689,
    "start_time": "2023-01-11T15:46:04.091Z"
   },
   {
    "duration": 172,
    "start_time": "2023-01-11T15:46:11.783Z"
   },
   {
    "duration": 3,
    "start_time": "2023-01-11T15:46:11.957Z"
   },
   {
    "duration": 114,
    "start_time": "2023-01-11T15:46:45.692Z"
   },
   {
    "duration": 2,
    "start_time": "2023-01-11T15:46:53.276Z"
   },
   {
    "duration": 3,
    "start_time": "2023-01-11T15:46:56.135Z"
   },
   {
    "duration": 10,
    "start_time": "2023-01-11T15:46:58.763Z"
   },
   {
    "duration": 3,
    "start_time": "2023-01-11T15:47:31.028Z"
   },
   {
    "duration": 354250,
    "start_time": "2023-01-11T15:47:32.871Z"
   },
   {
    "duration": 0,
    "start_time": "2023-01-11T15:53:27.123Z"
   },
   {
    "duration": 460048,
    "start_time": "2023-01-11T15:53:40.514Z"
   },
   {
    "duration": 457329,
    "start_time": "2023-01-11T16:01:20.564Z"
   },
   {
    "duration": 6988,
    "start_time": "2023-01-11T18:38:01.842Z"
   },
   {
    "duration": 1441,
    "start_time": "2023-01-11T18:38:08.833Z"
   },
   {
    "duration": 961,
    "start_time": "2023-01-11T18:38:10.276Z"
   },
   {
    "duration": 25,
    "start_time": "2023-01-11T18:38:11.240Z"
   },
   {
    "duration": 40,
    "start_time": "2023-01-11T18:38:11.267Z"
   },
   {
    "duration": 29,
    "start_time": "2023-01-11T18:38:11.309Z"
   },
   {
    "duration": 2052,
    "start_time": "2023-01-11T18:38:11.341Z"
   },
   {
    "duration": 10,
    "start_time": "2023-01-11T18:38:13.395Z"
   },
   {
    "duration": 590,
    "start_time": "2023-01-11T18:38:13.407Z"
   },
   {
    "duration": 15,
    "start_time": "2023-01-11T18:38:14.000Z"
   },
   {
    "duration": 24,
    "start_time": "2023-01-11T18:38:14.017Z"
   },
   {
    "duration": 9,
    "start_time": "2023-01-11T18:38:14.042Z"
   },
   {
    "duration": 10,
    "start_time": "2023-01-11T18:38:14.053Z"
   },
   {
    "duration": 15,
    "start_time": "2023-01-11T18:38:14.064Z"
   },
   {
    "duration": 44,
    "start_time": "2023-01-11T18:38:14.081Z"
   },
   {
    "duration": 7,
    "start_time": "2023-01-11T18:38:14.127Z"
   },
   {
    "duration": 9,
    "start_time": "2023-01-11T18:38:14.136Z"
   },
   {
    "duration": 7,
    "start_time": "2023-01-11T18:38:14.147Z"
   },
   {
    "duration": 9,
    "start_time": "2023-01-11T18:38:14.156Z"
   },
   {
    "duration": 47,
    "start_time": "2023-01-11T18:38:14.166Z"
   },
   {
    "duration": 9,
    "start_time": "2023-01-11T18:38:14.215Z"
   },
   {
    "duration": 41,
    "start_time": "2023-01-11T18:38:14.226Z"
   },
   {
    "duration": 54,
    "start_time": "2023-01-11T18:38:14.269Z"
   },
   {
    "duration": 90,
    "start_time": "2023-01-11T18:38:14.325Z"
   },
   {
    "duration": 13,
    "start_time": "2023-01-11T18:38:14.417Z"
   },
   {
    "duration": 90,
    "start_time": "2023-01-11T18:38:14.432Z"
   },
   {
    "duration": 343,
    "start_time": "2023-01-11T18:38:14.524Z"
   },
   {
    "duration": 493,
    "start_time": "2023-01-11T18:38:14.871Z"
   },
   {
    "duration": 13,
    "start_time": "2023-01-11T18:38:15.366Z"
   },
   {
    "duration": 9,
    "start_time": "2023-01-11T18:38:15.381Z"
   },
   {
    "duration": 71,
    "start_time": "2023-01-11T18:38:15.392Z"
   },
   {
    "duration": 27,
    "start_time": "2023-01-11T18:38:15.467Z"
   },
   {
    "duration": 28,
    "start_time": "2023-01-11T18:38:15.497Z"
   },
   {
    "duration": 11,
    "start_time": "2023-01-11T18:38:15.527Z"
   },
   {
    "duration": 203,
    "start_time": "2023-01-11T18:38:15.540Z"
   },
   {
    "duration": 635,
    "start_time": "2023-01-11T18:38:15.745Z"
   },
   {
    "duration": 203,
    "start_time": "2023-01-11T18:38:16.382Z"
   },
   {
    "duration": 6,
    "start_time": "2023-01-11T18:38:16.587Z"
   },
   {
    "duration": 171,
    "start_time": "2023-01-11T18:38:16.595Z"
   },
   {
    "duration": 7369,
    "start_time": "2023-01-11T18:38:16.768Z"
   },
   {
    "duration": 163,
    "start_time": "2023-01-11T18:38:24.139Z"
   },
   {
    "duration": 9,
    "start_time": "2023-01-11T18:38:24.304Z"
   },
   {
    "duration": 17,
    "start_time": "2023-01-11T18:38:24.315Z"
   },
   {
    "duration": 20,
    "start_time": "2023-01-11T18:38:24.334Z"
   },
   {
    "duration": 18,
    "start_time": "2023-01-11T18:38:24.355Z"
   },
   {
    "duration": 18,
    "start_time": "2023-01-11T18:38:24.375Z"
   },
   {
    "duration": 21,
    "start_time": "2023-01-11T18:38:24.395Z"
   },
   {
    "duration": 19,
    "start_time": "2023-01-11T18:38:24.418Z"
   },
   {
    "duration": 23,
    "start_time": "2023-01-11T18:38:24.439Z"
   },
   {
    "duration": 46,
    "start_time": "2023-01-11T18:38:24.464Z"
   },
   {
    "duration": 5,
    "start_time": "2023-01-11T18:38:24.512Z"
   },
   {
    "duration": 2712,
    "start_time": "2023-01-11T18:38:24.519Z"
   },
   {
    "duration": 449830,
    "start_time": "2023-01-11T18:38:27.232Z"
   },
   {
    "duration": 333054,
    "start_time": "2023-01-11T18:45:57.064Z"
   },
   {
    "duration": 428,
    "start_time": "2023-01-11T18:51:30.120Z"
   },
   {
    "duration": 37,
    "start_time": "2023-01-11T18:51:30.551Z"
   },
   {
    "duration": 3,
    "start_time": "2023-01-11T18:51:30.590Z"
   },
   {
    "duration": 2148,
    "start_time": "2023-01-11T18:51:30.595Z"
   },
   {
    "duration": 5,
    "start_time": "2023-01-11T18:51:32.745Z"
   },
   {
    "duration": 7,
    "start_time": "2023-01-11T18:51:32.752Z"
   },
   {
    "duration": 7,
    "start_time": "2023-01-11T18:51:32.761Z"
   },
   {
    "duration": 141,
    "start_time": "2023-01-11T18:51:32.769Z"
   },
   {
    "duration": 212,
    "start_time": "2023-01-11T18:51:32.912Z"
   },
   {
    "duration": 121,
    "start_time": "2023-01-11T18:51:33.126Z"
   },
   {
    "duration": 159,
    "start_time": "2023-01-11T18:51:33.249Z"
   },
   {
    "duration": 216,
    "start_time": "2023-01-11T18:51:33.410Z"
   },
   {
    "duration": 298,
    "start_time": "2023-01-11T18:51:33.628Z"
   },
   {
    "duration": 112,
    "start_time": "2023-01-11T18:51:33.928Z"
   },
   {
    "duration": 32,
    "start_time": "2023-01-11T18:51:34.042Z"
   },
   {
    "duration": 361,
    "start_time": "2023-01-11T18:51:34.075Z"
   },
   {
    "duration": 344,
    "start_time": "2023-01-11T18:51:34.437Z"
   },
   {
    "duration": 97,
    "start_time": "2023-01-11T18:51:34.783Z"
   },
   {
    "duration": 40,
    "start_time": "2023-01-11T18:51:34.881Z"
   },
   {
    "duration": 7,
    "start_time": "2023-01-11T18:51:34.922Z"
   },
   {
    "duration": 19,
    "start_time": "2023-01-11T18:51:34.931Z"
   },
   {
    "duration": 459572,
    "start_time": "2023-01-11T18:51:34.952Z"
   },
   {
    "duration": 452784,
    "start_time": "2023-01-11T18:59:14.526Z"
   }
  ],
  "kernelspec": {
   "display_name": "Python 3 (ipykernel)",
   "language": "python",
   "name": "python3"
  },
  "language_info": {
   "codemirror_mode": {
    "name": "ipython",
    "version": 3
   },
   "file_extension": ".py",
   "mimetype": "text/x-python",
   "name": "python",
   "nbconvert_exporter": "python",
   "pygments_lexer": "ipython3",
   "version": "3.9.5"
  },
  "toc": {
   "base_numbering": 1,
   "nav_menu": {},
   "number_sections": true,
   "sideBar": true,
   "skip_h1_title": true,
   "title_cell": "Table of Contents",
   "title_sidebar": "Contents",
   "toc_cell": false,
   "toc_position": {},
   "toc_section_display": true,
   "toc_window_display": false
  }
 },
 "nbformat": 4,
 "nbformat_minor": 2
}
