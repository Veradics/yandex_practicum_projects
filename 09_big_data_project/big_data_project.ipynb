{
 "cells": [
  {
   "cell_type": "markdown",
   "id": "GEqQaHzsZ_bA",
   "metadata": {
    "id": "GEqQaHzsZ_bA"
   },
   "source": [
    "## Housing costs prediction\n",
    "\n",
    "**The main objective of the project** is to predict the median home value in a residential community based on housing data in California in 1990 using a linear regression model. \n",
    "\n",
    "**Metrics to assess the quality of the model:** RMSE, MAE, and R2.\n",
    "\n",
    "**Process:**\n",
    "1. [Read and preprocess the data](#preprocessing).\n",
    "2. [Training the linear regression model in two variants (with and without categorical features)](#training)\n",
    "3. [Selecting the best model and analyzing the results](#results)\n",
    "\n",
    "In this project we will work with \"big data\" so we will use **PySpark**."
   ]
  },
  {
   "cell_type": "markdown",
   "id": "53871372",
   "metadata": {
    "id": "53871372"
   },
   "source": [
    "<a id='preprocessing'></a>\n",
    "# Data preprocessing"
   ]
  },
  {
   "cell_type": "code",
   "execution_count": 1,
   "id": "05ca3327",
   "metadata": {},
   "outputs": [],
   "source": [
    "# imports\n",
    "import pandas as pd \n",
    "import numpy as np\n",
    "import pyspark\n",
    "from pyspark.sql import SparkSession\n",
    "from pyspark.sql.types import *\n",
    "import pyspark.sql.functions as F\n",
    "\n",
    "from pyspark.ml.feature import StringIndexer, VectorAssembler, StandardScaler, OneHotEncoder\n",
    "from pyspark.ml import Pipeline\n",
    "from pyspark.ml.regression import LinearRegression\n",
    "from pyspark.mllib.evaluation import RegressionMetrics"
   ]
  },
  {
   "cell_type": "code",
   "execution_count": 2,
   "id": "df92e3ec",
   "metadata": {
    "id": "df92e3ec"
   },
   "outputs": [],
   "source": [
    "# spark-session initialization\n",
    "spark = SparkSession.builder \\\n",
    "                    .master(\"local\") \\\n",
    "                    .appName(\"EDA California Housing\") \\\n",
    "                    .getOrCreate()"
   ]
  },
  {
   "cell_type": "code",
   "execution_count": 3,
   "id": "255897d8",
   "metadata": {},
   "outputs": [
    {
     "name": "stderr",
     "output_type": "stream",
     "text": [
      "                                                                                \r"
     ]
    },
    {
     "name": "stdout",
     "output_type": "stream",
     "text": [
      "+---------+--------+------------------+-----------+--------------+----------+----------+-------------+------------------+---------------+\n",
      "|longitude|latitude|housing_median_age|total_rooms|total_bedrooms|population|households|median_income|median_house_value|ocean_proximity|\n",
      "+---------+--------+------------------+-----------+--------------+----------+----------+-------------+------------------+---------------+\n",
      "|  -122.23|   37.88|              41.0|      880.0|         129.0|     322.0|     126.0|       8.3252|          452600.0|       NEAR BAY|\n",
      "|  -122.22|   37.86|              21.0|     7099.0|        1106.0|    2401.0|    1138.0|       8.3014|          358500.0|       NEAR BAY|\n",
      "|  -122.24|   37.85|              52.0|     1467.0|         190.0|     496.0|     177.0|       7.2574|          352100.0|       NEAR BAY|\n",
      "|  -122.25|   37.85|              52.0|     1274.0|         235.0|     558.0|     219.0|       5.6431|          341300.0|       NEAR BAY|\n",
      "|  -122.25|   37.85|              52.0|     1627.0|         280.0|     565.0|     259.0|       3.8462|          342200.0|       NEAR BAY|\n",
      "+---------+--------+------------------+-----------+--------------+----------+----------+-------------+------------------+---------------+\n",
      "only showing top 5 rows\n",
      "\n"
     ]
    }
   ],
   "source": [
    "# data reading\n",
    "df_housing = spark.read.load('/datasets/housing.csv', format='csv', inferSchema=True, header=True)\n",
    "df_housing.show(5)"
   ]
  },
  {
   "cell_type": "code",
   "execution_count": 4,
   "id": "72f39e73",
   "metadata": {},
   "outputs": [
    {
     "name": "stdout",
     "output_type": "stream",
     "text": [
      "               column    type\n",
      "0           longitude  double\n",
      "1            latitude  double\n",
      "2  housing_median_age  double\n",
      "3         total_rooms  double\n",
      "4      total_bedrooms  double\n",
      "5          population  double\n",
      "6          households  double\n",
      "7       median_income  double\n",
      "8  median_house_value  double\n",
      "9     ocean_proximity  string\n"
     ]
    }
   ],
   "source": [
    "# data types\n",
    "print(pd.DataFrame(df_housing.dtypes, columns=['column', 'type']))"
   ]
  },
  {
   "cell_type": "markdown",
   "id": "31b9a2cb",
   "metadata": {},
   "source": [
    "The dataframe contains **10 columns** with the following data:\n",
    "\n",
    "- `longitude` - latitude;\n",
    "- `latitude` - longitude;\n",
    "- `housing_median_age` - median age of residents of the housing estate;\n",
    "- `total_rooms` - total number of rooms in the houses of the housing estate;\n",
    "- `total_bedrooms` - total number of bedrooms in the houses of the housing estate;\n",
    "- `population` - the number of people who live in the housing estate;\n",
    "- `households` - number of households in the housing estate;\n",
    "- `median_income` - median income of the inhabitants of the housing estate;\n",
    "- `median_house_value` - median value of a house in the housing estate;\n",
    "- `ocean_proximity` - proximity to the ocean.\n",
    "\n",
    "The `median_house_value` represents a numeric **target variable**. Most of the attributes are similarly numeric, with the exception of `ocean_proximity`."
   ]
  },
  {
   "cell_type": "code",
   "execution_count": 5,
   "id": "16908855",
   "metadata": {},
   "outputs": [
    {
     "name": "stdout",
     "output_type": "stream",
     "text": [
      "longitude 0\n",
      "latitude 0\n",
      "housing_median_age 0\n",
      "total_rooms 0\n",
      "total_bedrooms 207\n",
      "population 0\n",
      "households 0\n",
      "median_income 0\n",
      "median_house_value 0\n",
      "ocean_proximity 0\n"
     ]
    }
   ],
   "source": [
    "# missing values\n",
    "for col in df_housing.columns:\n",
    "    print(col, df_housing.filter(F.col(col).isNull()).count())"
   ]
  },
  {
   "cell_type": "markdown",
   "id": "c198af12",
   "metadata": {},
   "source": [
    "Gaps are present only in the `total_bedrooms` column. Let's fill them with the median:"
   ]
  },
  {
   "cell_type": "code",
   "execution_count": 6,
   "id": "a24ecdc9",
   "metadata": {},
   "outputs": [],
   "source": [
    "# median\n",
    "bedrooms_median = df_housing.approxQuantile('total_bedrooms', [0.5], 0)[0]"
   ]
  },
  {
   "cell_type": "code",
   "execution_count": 7,
   "id": "a1161fd4",
   "metadata": {},
   "outputs": [
    {
     "name": "stdout",
     "output_type": "stream",
     "text": [
      "longitude 0\n",
      "latitude 0\n",
      "housing_median_age 0\n",
      "total_rooms 0\n",
      "total_bedrooms 0\n",
      "population 0\n",
      "households 0\n",
      "median_income 0\n",
      "median_house_value 0\n",
      "ocean_proximity 0\n"
     ]
    }
   ],
   "source": [
    "df_housing = df_housing.na.fill(value=bedrooms_median, subset='total_bedrooms')\n",
    "\n",
    "for col in df_housing.columns:\n",
    "    print(col, df_housing.filter(F.col(col).isNull()).count())"
   ]
  },
  {
   "cell_type": "markdown",
   "id": "531e9629",
   "metadata": {},
   "source": [
    "Before training the model, it is also necessary to encode the categorical features. In this dataset, there is only one."
   ]
  },
  {
   "cell_type": "code",
   "execution_count": 8,
   "id": "de09983a",
   "metadata": {},
   "outputs": [],
   "source": [
    "stages = []\n",
    "\n",
    "# categorical to numeric\n",
    "indexer = StringIndexer(inputCols=['ocean_proximity'], \n",
    "                        outputCols=['ocean_proximity_idx'])\n",
    "\n",
    "stages += [indexer]"
   ]
  },
  {
   "cell_type": "code",
   "execution_count": 9,
   "id": "917ceab6",
   "metadata": {},
   "outputs": [],
   "source": [
    "# ohe\n",
    "encoder = OneHotEncoder(inputCol='ocean_proximity_idx',\n",
    "                        outputCol='ocean_proximity_ohe')\n",
    "\n",
    "stages += [encoder]"
   ]
  },
  {
   "cell_type": "markdown",
   "id": "374711b8",
   "metadata": {},
   "source": [
    "Numerical features should also be prepared - scaling off the values."
   ]
  },
  {
   "cell_type": "code",
   "execution_count": 10,
   "id": "cde118c7",
   "metadata": {},
   "outputs": [],
   "source": [
    "numeric = df_housing.columns[:-2]"
   ]
  },
  {
   "cell_type": "code",
   "execution_count": 11,
   "id": "188cf934",
   "metadata": {},
   "outputs": [
    {
     "data": {
      "text/plain": [
       "['longitude',\n",
       " 'latitude',\n",
       " 'housing_median_age',\n",
       " 'total_rooms',\n",
       " 'total_bedrooms',\n",
       " 'population',\n",
       " 'households',\n",
       " 'median_income']"
      ]
     },
     "execution_count": 11,
     "metadata": {},
     "output_type": "execute_result"
    }
   ],
   "source": [
    "numeric"
   ]
  },
  {
   "cell_type": "code",
   "execution_count": 12,
   "id": "715d1ce4",
   "metadata": {},
   "outputs": [],
   "source": [
    "# vectorization\n",
    "numerical_assembler = VectorAssembler(inputCols=numeric, outputCol=\"numeric_idx\")\n",
    "stages += [numerical_assembler]"
   ]
  },
  {
   "cell_type": "code",
   "execution_count": 13,
   "id": "eca23aa7",
   "metadata": {},
   "outputs": [],
   "source": [
    "# scaling\n",
    "standardScaler = StandardScaler(inputCol='numeric_idx', outputCol=\"numeric_scaled\")\n",
    "stages += [standardScaler]"
   ]
  },
  {
   "cell_type": "code",
   "execution_count": 14,
   "id": "ab4b9ef7",
   "metadata": {},
   "outputs": [],
   "source": [
    "# final table\n",
    "all_features = ['ocean_proximity_ohe','numeric_scaled']\n",
    "\n",
    "final_assembler = VectorAssembler(inputCols=all_features, \n",
    "                                  outputCol=\"features\") \n",
    "\n",
    "stages += [final_assembler]"
   ]
  },
  {
   "cell_type": "markdown",
   "id": "9f0a82f3",
   "metadata": {
    "id": "9f0a82f3"
   },
   "source": [
    "<a id='training'></a>\n",
    "# Model training"
   ]
  },
  {
   "cell_type": "markdown",
   "id": "cb10e864",
   "metadata": {},
   "source": [
    "Splitting into sets for model training and testing."
   ]
  },
  {
   "cell_type": "code",
   "execution_count": 15,
   "id": "bddb08c4",
   "metadata": {
    "id": "bddb08c4"
   },
   "outputs": [
    {
     "name": "stderr",
     "output_type": "stream",
     "text": [
      "                                                                                \r"
     ]
    },
    {
     "name": "stdout",
     "output_type": "stream",
     "text": [
      "16442 4198\n"
     ]
    }
   ],
   "source": [
    "train_data, test_data = df_housing.randomSplit([.8,.2], seed=123)\n",
    "print(train_data.count(), test_data.count()) "
   ]
  },
  {
   "cell_type": "markdown",
   "id": "8dd0e99f",
   "metadata": {},
   "source": [
    "The chosen machine learning algorithm is *Linear regression*. \\\n",
    "Let's compare two models trained on the full data set and using only numerical features."
   ]
  },
  {
   "cell_type": "code",
   "execution_count": 16,
   "id": "9f59734f",
   "metadata": {},
   "outputs": [
    {
     "name": "stderr",
     "output_type": "stream",
     "text": [
      "23/03/21 15:16:18 WARN BLAS: Failed to load implementation from: com.github.fommil.netlib.NativeSystemBLAS\n",
      "23/03/21 15:16:18 WARN BLAS: Failed to load implementation from: com.github.fommil.netlib.NativeRefBLAS\n",
      "23/03/21 15:16:18 WARN LAPACK: Failed to load implementation from: com.github.fommil.netlib.NativeSystemLAPACK\n",
      "23/03/21 15:16:18 WARN LAPACK: Failed to load implementation from: com.github.fommil.netlib.NativeRefLAPACK\n",
      "                                                                                \r"
     ]
    },
    {
     "name": "stdout",
     "output_type": "stream",
     "text": [
      "RMSE: 67538\n",
      "MAE: 49798\n",
      "R2: 0.65\n"
     ]
    }
   ],
   "source": [
    "# fit on full data\n",
    "lr = LinearRegression(featuresCol = 'features', labelCol='median_house_value', regParam=0.3)\n",
    "\n",
    "stages_full = stages.copy()\n",
    "stages_full += [lr]\n",
    "\n",
    "# pipeline creation\n",
    "pipeline = Pipeline(stages=stages_full)\n",
    "lr_model = pipeline.fit(train_data)\n",
    "\n",
    "# model predictions\n",
    "predictions = lr_model.transform(test_data)\n",
    "predictedLabes = predictions.select('median_house_value', 'prediction')\n",
    "\n",
    "# to RDD\n",
    "predictionLabes_list = [(float(i[1]), float(i[0])) for i in predictedLabes.collect()]\n",
    "predictionAndObservations = spark.sparkContext.parallelize(predictionLabes_list)\n",
    "\n",
    "# metrics\n",
    "metrics = RegressionMetrics(predictionAndObservations)\n",
    "\n",
    "print('RMSE:', round(metrics.rootMeanSquaredError))\n",
    "print('MAE:', round(metrics.meanAbsoluteError))\n",
    "print('R2:', round(metrics.r2, 2))"
   ]
  },
  {
   "cell_type": "code",
   "execution_count": 17,
   "id": "281a40e3",
   "metadata": {},
   "outputs": [
    {
     "name": "stdout",
     "output_type": "stream",
     "text": [
      "RMSE: 67538.45\n",
      "MAE: 49798.26\n",
      "R2: 0.65\n"
     ]
    }
   ],
   "source": [
    "from pyspark.ml.evaluation import RegressionEvaluator\n",
    "r2 = \\\n",
    "        RegressionEvaluator(labelCol='median_house_value',\n",
    "                                            metricName='r2').evaluate(predictedLabes)\n",
    "mae = \\\n",
    "        RegressionEvaluator(labelCol='median_house_value',\n",
    "                                            metricName='mae').evaluate(predictedLabes)\n",
    "rmse = \\\n",
    "        RegressionEvaluator(labelCol='median_house_value',\n",
    "                                            metricName='rmse').evaluate(predictedLabes)\n",
    "print('RMSE:', round(rmse, 2))\n",
    "print('MAE:', round(mae, 2))\n",
    "print('R2:', round(r2, 2))"
   ]
  },
  {
   "cell_type": "code",
   "execution_count": 18,
   "id": "f233e73b",
   "metadata": {},
   "outputs": [
    {
     "name": "stdout",
     "output_type": "stream",
     "text": [
      "RMSE: 68335\n",
      "MAE: 50796\n",
      "R2: 0.64\n"
     ]
    }
   ],
   "source": [
    "# fit on only numeric data\n",
    "lr = LinearRegression(featuresCol = 'numeric_scaled', labelCol='median_house_value', regParam=0.3)\n",
    "\n",
    "stages_part = stages.copy()\n",
    "stages_part += [lr]\n",
    "\n",
    "# pipeline creation\n",
    "pipeline = Pipeline(stages=stages_part)\n",
    "lr_model = pipeline.fit(train_data)\n",
    "\n",
    "# model predictions\n",
    "predictions = lr_model.transform(test_data)\n",
    "predictedLabes = predictions.select('median_house_value', 'prediction')\n",
    "\n",
    "# to RDD\n",
    "predictionLabes_list = [(float(i[1]), float(i[0])) for i in predictedLabes.collect()]\n",
    "predictionAndObservations = spark.sparkContext.parallelize(predictionLabes_list)\n",
    "\n",
    "# metrics\n",
    "metrics = RegressionMetrics(predictionAndObservations)\n",
    "\n",
    "print('RMSE:', round(metrics.rootMeanSquaredError))\n",
    "print('MAE:', round(metrics.meanAbsoluteError))\n",
    "print('R2:', round(metrics.r2, 2))"
   ]
  },
  {
   "cell_type": "code",
   "execution_count": 19,
   "id": "0053e697",
   "metadata": {},
   "outputs": [
    {
     "name": "stdout",
     "output_type": "stream",
     "text": [
      "RMSE: 68335.15\n",
      "MAE: 50795.84\n",
      "R2: 0.64\n"
     ]
    }
   ],
   "source": [
    "r2 = \\\n",
    "        RegressionEvaluator(labelCol='median_house_value',\n",
    "                                            metricName='r2').evaluate(predictedLabes)\n",
    "mae = \\\n",
    "        RegressionEvaluator(labelCol='median_house_value',\n",
    "                                            metricName='mae').evaluate(predictedLabes)\n",
    "rmse = \\\n",
    "        RegressionEvaluator(labelCol='median_house_value',\n",
    "                                            metricName='rmse').evaluate(predictedLabes)\n",
    "print('RMSE:', round(rmse, 2))\n",
    "print('MAE:', round(mae, 2))\n",
    "print('R2:', round(r2, 2))"
   ]
  },
  {
   "cell_type": "code",
   "execution_count": 20,
   "id": "25fd5a45",
   "metadata": {},
   "outputs": [],
   "source": [
    "# close spark-session\n",
    "spark.stop()"
   ]
  },
  {
   "cell_type": "markdown",
   "id": "757fd103",
   "metadata": {
    "id": "757fd103"
   },
   "source": [
    "<a id='results'></a>\n",
    "# Results"
   ]
  },
  {
   "cell_type": "markdown",
   "id": "2a78860e",
   "metadata": {},
   "source": [
    "This project, using *pySpark*, was able to build two linear regression models predicting the median housing cost in a housing tract based on housing data in California in 1990. All attributes present were used to train the first model, and only numerical attributes were used to train the second model. The selected metrics for evaluating the quality of the models are RMSE (root mean squared error), MAE (mean absolute error), and R2.\n",
    "\n",
    "In the preprocessing stage, missing values in the data were recovered as median values, the categorical feature was coded using *One Hot Encoding*, and the numerical features were scaled to reduce the impact of outliers on model prediction.\n",
    "\n",
    "**Training on the full dataset proved to be more efficient.* * The model that takes into account the influence of all attributes explains a larger proportion of the variance of the target variable (R2 **42%**) and is also characterized by lower values of prediction errors (RMSE and MAE)."
   ]
  }
 ],
 "metadata": {
  "ExecuteTimeLog": [
   {
    "duration": 446,
    "start_time": "2023-03-18T17:20:51.264Z"
   },
   {
    "duration": 15254,
    "start_time": "2023-03-18T17:20:54.545Z"
   },
   {
    "duration": 401,
    "start_time": "2023-03-18T17:30:33.516Z"
   },
   {
    "duration": 398,
    "start_time": "2023-03-18T17:30:37.705Z"
   },
   {
    "duration": 5,
    "start_time": "2023-03-18T17:32:13.297Z"
   },
   {
    "duration": 9338,
    "start_time": "2023-03-18T17:33:54.344Z"
   },
   {
    "duration": 16,
    "start_time": "2023-03-18T17:36:41.745Z"
   },
   {
    "duration": 28,
    "start_time": "2023-03-18T17:44:21.048Z"
   },
   {
    "duration": 490,
    "start_time": "2023-03-19T09:13:20.271Z"
   },
   {
    "duration": 17078,
    "start_time": "2023-03-19T09:13:25.334Z"
   },
   {
    "duration": 12176,
    "start_time": "2023-03-19T09:14:12.022Z"
   },
   {
    "duration": 52,
    "start_time": "2023-03-19T09:15:15.671Z"
   },
   {
    "duration": 1323,
    "start_time": "2023-03-19T09:20:17.902Z"
   },
   {
    "duration": 5957,
    "start_time": "2023-03-19T09:21:37.840Z"
   },
   {
    "duration": 114,
    "start_time": "2023-03-19T09:30:32.246Z"
   },
   {
    "duration": 11,
    "start_time": "2023-03-19T09:32:30.002Z"
   },
   {
    "duration": 24,
    "start_time": "2023-03-19T09:32:35.964Z"
   },
   {
    "duration": 8,
    "start_time": "2023-03-19T09:47:41.432Z"
   },
   {
    "duration": 1191,
    "start_time": "2023-03-19T10:22:33.943Z"
   },
   {
    "duration": 556,
    "start_time": "2023-03-19T10:23:09.552Z"
   },
   {
    "duration": 609,
    "start_time": "2023-03-19T10:23:25.601Z"
   },
   {
    "duration": 532,
    "start_time": "2023-03-19T10:23:31.069Z"
   },
   {
    "duration": 4114,
    "start_time": "2023-03-19T10:27:03.352Z"
   },
   {
    "duration": 3,
    "start_time": "2023-03-19T10:33:10.763Z"
   },
   {
    "duration": 6,
    "start_time": "2023-03-19T10:33:16.364Z"
   },
   {
    "duration": 340,
    "start_time": "2023-03-19T10:33:53.939Z"
   },
   {
    "duration": 284,
    "start_time": "2023-03-19T10:36:40.434Z"
   },
   {
    "duration": 2641,
    "start_time": "2023-03-19T10:38:54.052Z"
   },
   {
    "duration": 139,
    "start_time": "2023-03-19T10:39:03.114Z"
   },
   {
    "duration": 961,
    "start_time": "2023-03-19T10:39:19.576Z"
   },
   {
    "duration": 23242,
    "start_time": "2023-03-19T10:39:21.678Z"
   },
   {
    "duration": 13887,
    "start_time": "2023-03-19T10:39:44.924Z"
   },
   {
    "duration": 83,
    "start_time": "2023-03-19T10:40:02.446Z"
   },
   {
    "duration": 6563,
    "start_time": "2023-03-19T10:40:05.759Z"
   },
   {
    "duration": 1024,
    "start_time": "2023-03-19T10:40:12.380Z"
   },
   {
    "duration": 4089,
    "start_time": "2023-03-19T10:40:13.406Z"
   },
   {
    "duration": 2787,
    "start_time": "2023-03-19T10:40:17.498Z"
   },
   {
    "duration": 618,
    "start_time": "2023-03-19T10:41:14.995Z"
   },
   {
    "duration": 696,
    "start_time": "2023-03-19T10:41:34.539Z"
   },
   {
    "duration": 17775,
    "start_time": "2023-03-19T10:41:35.238Z"
   },
   {
    "duration": 12373,
    "start_time": "2023-03-19T10:41:53.016Z"
   },
   {
    "duration": 124,
    "start_time": "2023-03-19T10:42:05.391Z"
   },
   {
    "duration": 6288,
    "start_time": "2023-03-19T10:42:05.523Z"
   },
   {
    "duration": 1006,
    "start_time": "2023-03-19T10:42:11.812Z"
   },
   {
    "duration": 3890,
    "start_time": "2023-03-19T10:42:12.820Z"
   },
   {
    "duration": 2487,
    "start_time": "2023-03-19T10:42:16.712Z"
   },
   {
    "duration": 3,
    "start_time": "2023-03-19T10:42:19.202Z"
   },
   {
    "duration": 41,
    "start_time": "2023-03-19T10:43:26.116Z"
   },
   {
    "duration": 400,
    "start_time": "2023-03-19T10:43:32.119Z"
   },
   {
    "duration": 220,
    "start_time": "2023-03-19T10:43:39.020Z"
   },
   {
    "duration": 6,
    "start_time": "2023-03-19T10:48:13.827Z"
   },
   {
    "duration": 3,
    "start_time": "2023-03-19T10:48:34.347Z"
   },
   {
    "duration": 5,
    "start_time": "2023-03-19T10:48:41.038Z"
   },
   {
    "duration": 5,
    "start_time": "2023-03-19T10:48:56.210Z"
   },
   {
    "duration": 78,
    "start_time": "2023-03-19T10:50:15.325Z"
   },
   {
    "duration": 727,
    "start_time": "2023-03-19T10:51:48.113Z"
   },
   {
    "duration": 17364,
    "start_time": "2023-03-19T10:51:48.842Z"
   },
   {
    "duration": 13211,
    "start_time": "2023-03-19T10:52:06.209Z"
   },
   {
    "duration": 117,
    "start_time": "2023-03-19T10:52:19.482Z"
   },
   {
    "duration": 6819,
    "start_time": "2023-03-19T10:52:19.602Z"
   },
   {
    "duration": 1037,
    "start_time": "2023-03-19T10:52:26.482Z"
   },
   {
    "duration": 4168,
    "start_time": "2023-03-19T10:52:27.526Z"
   },
   {
    "duration": 2608,
    "start_time": "2023-03-19T10:52:31.698Z"
   },
   {
    "duration": 572,
    "start_time": "2023-03-19T10:52:34.309Z"
   },
   {
    "duration": 18,
    "start_time": "2023-03-19T10:52:34.883Z"
   },
   {
    "duration": 179,
    "start_time": "2023-03-19T10:52:34.903Z"
   },
   {
    "duration": 2036,
    "start_time": "2023-03-19T10:52:35.084Z"
   },
   {
    "duration": 7,
    "start_time": "2023-03-19T10:52:37.186Z"
   },
   {
    "duration": 12,
    "start_time": "2023-03-19T10:54:42.695Z"
   },
   {
    "duration": 692,
    "start_time": "2023-03-19T10:56:02.428Z"
   },
   {
    "duration": 17599,
    "start_time": "2023-03-19T10:56:03.122Z"
   },
   {
    "duration": 12560,
    "start_time": "2023-03-19T10:56:20.724Z"
   },
   {
    "duration": 117,
    "start_time": "2023-03-19T10:56:33.286Z"
   },
   {
    "duration": 6999,
    "start_time": "2023-03-19T10:56:33.407Z"
   },
   {
    "duration": 1016,
    "start_time": "2023-03-19T10:56:40.408Z"
   },
   {
    "duration": 4002,
    "start_time": "2023-03-19T10:56:41.426Z"
   },
   {
    "duration": 2083,
    "start_time": "2023-03-19T10:56:45.431Z"
   },
   {
    "duration": 401,
    "start_time": "2023-03-19T10:56:47.515Z"
   },
   {
    "duration": 498,
    "start_time": "2023-03-19T10:56:47.918Z"
   },
   {
    "duration": 83,
    "start_time": "2023-03-19T10:56:48.419Z"
   },
   {
    "duration": 205,
    "start_time": "2023-03-19T10:56:48.504Z"
   },
   {
    "duration": 0,
    "start_time": "2023-03-19T10:56:48.711Z"
   },
   {
    "duration": 0,
    "start_time": "2023-03-19T10:56:48.712Z"
   },
   {
    "duration": 0,
    "start_time": "2023-03-19T10:56:48.715Z"
   },
   {
    "duration": 4,
    "start_time": "2023-03-19T10:57:28.827Z"
   },
   {
    "duration": 72,
    "start_time": "2023-03-19T10:57:31.511Z"
   },
   {
    "duration": 1776,
    "start_time": "2023-03-19T10:57:33.811Z"
   },
   {
    "duration": 34,
    "start_time": "2023-03-19T10:57:37.201Z"
   },
   {
    "duration": 550,
    "start_time": "2023-03-19T10:58:06.052Z"
   },
   {
    "duration": 734,
    "start_time": "2023-03-19T10:59:08.014Z"
   },
   {
    "duration": 17488,
    "start_time": "2023-03-19T10:59:08.751Z"
   },
   {
    "duration": 12273,
    "start_time": "2023-03-19T10:59:26.242Z"
   },
   {
    "duration": 111,
    "start_time": "2023-03-19T10:59:38.517Z"
   },
   {
    "duration": 6583,
    "start_time": "2023-03-19T10:59:38.630Z"
   },
   {
    "duration": 1088,
    "start_time": "2023-03-19T10:59:45.215Z"
   },
   {
    "duration": 4197,
    "start_time": "2023-03-19T10:59:46.305Z"
   },
   {
    "duration": 1919,
    "start_time": "2023-03-19T10:59:50.504Z"
   },
   {
    "duration": 474,
    "start_time": "2023-03-19T10:59:52.426Z"
   },
   {
    "duration": 565,
    "start_time": "2023-03-19T10:59:52.903Z"
   },
   {
    "duration": 12,
    "start_time": "2023-03-19T10:59:53.481Z"
   },
   {
    "duration": 121,
    "start_time": "2023-03-19T10:59:53.497Z"
   },
   {
    "duration": 1664,
    "start_time": "2023-03-19T10:59:53.620Z"
   },
   {
    "duration": 36,
    "start_time": "2023-03-19T10:59:55.285Z"
   },
   {
    "duration": 535,
    "start_time": "2023-03-19T10:59:55.323Z"
   },
   {
    "duration": 3,
    "start_time": "2023-03-19T10:59:55.860Z"
   },
   {
    "duration": 90,
    "start_time": "2023-03-19T11:05:50.596Z"
   },
   {
    "duration": 10,
    "start_time": "2023-03-19T11:05:59.997Z"
   },
   {
    "duration": 4041,
    "start_time": "2023-03-19T11:07:39.470Z"
   },
   {
    "duration": 3,
    "start_time": "2023-03-19T11:12:21.474Z"
   },
   {
    "duration": 4687,
    "start_time": "2023-03-19T11:15:32.521Z"
   },
   {
    "duration": 4487,
    "start_time": "2023-03-19T11:16:46.202Z"
   },
   {
    "duration": 1292,
    "start_time": "2023-03-19T11:17:21.431Z"
   },
   {
    "duration": 2748,
    "start_time": "2023-03-19T11:17:49.737Z"
   },
   {
    "duration": 827,
    "start_time": "2023-03-19T11:17:56.802Z"
   },
   {
    "duration": 2699,
    "start_time": "2023-03-19T11:18:04.604Z"
   },
   {
    "duration": 668,
    "start_time": "2023-03-19T11:18:10.537Z"
   },
   {
    "duration": 2510,
    "start_time": "2023-03-19T11:18:18.806Z"
   },
   {
    "duration": 2297,
    "start_time": "2023-03-19T11:19:21.135Z"
   },
   {
    "duration": 684,
    "start_time": "2023-03-19T11:19:24.647Z"
   },
   {
    "duration": 38,
    "start_time": "2023-03-19T11:30:01.015Z"
   },
   {
    "duration": 4951,
    "start_time": "2023-03-19T11:35:52.348Z"
   },
   {
    "duration": 3985,
    "start_time": "2023-03-19T11:36:56.508Z"
   },
   {
    "duration": 3066,
    "start_time": "2023-03-19T11:37:30.125Z"
   },
   {
    "duration": 2964,
    "start_time": "2023-03-19T11:38:14.841Z"
   },
   {
    "duration": 2203,
    "start_time": "2023-03-19T11:38:56.931Z"
   },
   {
    "duration": 2318,
    "start_time": "2023-03-19T11:39:32.696Z"
   },
   {
    "duration": 3490,
    "start_time": "2023-03-19T11:40:03.610Z"
   },
   {
    "duration": 733,
    "start_time": "2023-03-19T12:08:00.894Z"
   },
   {
    "duration": 17572,
    "start_time": "2023-03-19T12:08:01.630Z"
   },
   {
    "duration": 12383,
    "start_time": "2023-03-19T12:08:19.205Z"
   },
   {
    "duration": 106,
    "start_time": "2023-03-19T12:08:31.590Z"
   },
   {
    "duration": 6417,
    "start_time": "2023-03-19T12:08:31.699Z"
   },
   {
    "duration": 977,
    "start_time": "2023-03-19T12:08:38.118Z"
   },
   {
    "duration": 3702,
    "start_time": "2023-03-19T12:08:39.096Z"
   },
   {
    "duration": 2214,
    "start_time": "2023-03-19T12:08:42.800Z"
   },
   {
    "duration": 367,
    "start_time": "2023-03-19T12:08:45.016Z"
   },
   {
    "duration": 517,
    "start_time": "2023-03-19T12:08:45.385Z"
   },
   {
    "duration": 11,
    "start_time": "2023-03-19T12:08:45.904Z"
   },
   {
    "duration": 170,
    "start_time": "2023-03-19T12:08:45.917Z"
   },
   {
    "duration": 1716,
    "start_time": "2023-03-19T12:08:46.094Z"
   },
   {
    "duration": 100,
    "start_time": "2023-03-19T12:08:47.815Z"
   },
   {
    "duration": 572,
    "start_time": "2023-03-19T12:08:47.916Z"
   },
   {
    "duration": 3515,
    "start_time": "2023-03-19T12:08:48.490Z"
   },
   {
    "duration": 7001,
    "start_time": "2023-03-19T12:08:52.007Z"
   },
   {
    "duration": 4902,
    "start_time": "2023-03-19T12:08:59.010Z"
   },
   {
    "duration": 930,
    "start_time": "2023-03-19T12:09:03.983Z"
   },
   {
    "duration": 729,
    "start_time": "2023-03-20T17:54:36.713Z"
   },
   {
    "duration": 15190,
    "start_time": "2023-03-20T17:54:39.144Z"
   },
   {
    "duration": 9439,
    "start_time": "2023-03-20T17:54:55.758Z"
   },
   {
    "duration": 103,
    "start_time": "2023-03-20T17:55:05.199Z"
   },
   {
    "duration": 5004,
    "start_time": "2023-03-20T17:55:09.611Z"
   },
   {
    "duration": 567,
    "start_time": "2023-03-20T17:55:32.950Z"
   },
   {
    "duration": 3028,
    "start_time": "2023-03-20T17:55:35.193Z"
   },
   {
    "duration": 1779,
    "start_time": "2023-03-20T17:57:36.238Z"
   },
   {
    "duration": 1451,
    "start_time": "2023-03-20T17:59:23.154Z"
   },
   {
    "duration": 817,
    "start_time": "2023-03-20T17:59:33.300Z"
   },
   {
    "duration": 715,
    "start_time": "2023-03-20T18:07:21.433Z"
   },
   {
    "duration": 15585,
    "start_time": "2023-03-20T18:07:23.154Z"
   },
   {
    "duration": 10565,
    "start_time": "2023-03-20T18:07:38.741Z"
   },
   {
    "duration": 115,
    "start_time": "2023-03-20T18:07:49.308Z"
   },
   {
    "duration": 6103,
    "start_time": "2023-03-20T18:07:49.425Z"
   },
   {
    "duration": 897,
    "start_time": "2023-03-20T18:07:55.530Z"
   },
   {
    "duration": 3501,
    "start_time": "2023-03-20T18:07:56.429Z"
   },
   {
    "duration": 2092,
    "start_time": "2023-03-20T18:07:59.933Z"
   },
   {
    "duration": 27,
    "start_time": "2023-03-20T18:08:05.057Z"
   },
   {
    "duration": 13,
    "start_time": "2023-03-20T18:08:09.530Z"
   },
   {
    "duration": 78,
    "start_time": "2023-03-20T18:09:02.812Z"
   },
   {
    "duration": 3,
    "start_time": "2023-03-20T18:09:06.523Z"
   },
   {
    "duration": 15,
    "start_time": "2023-03-20T18:09:09.825Z"
   },
   {
    "duration": 13,
    "start_time": "2023-03-20T18:09:41.735Z"
   },
   {
    "duration": 8,
    "start_time": "2023-03-20T18:10:40.721Z"
   },
   {
    "duration": 8,
    "start_time": "2023-03-20T18:11:08.559Z"
   },
   {
    "duration": 4,
    "start_time": "2023-03-20T18:11:34.121Z"
   },
   {
    "duration": 2,
    "start_time": "2023-03-20T18:11:54.483Z"
   },
   {
    "duration": 771,
    "start_time": "2023-03-20T18:17:06.036Z"
   },
   {
    "duration": 10,
    "start_time": "2023-03-20T18:17:09.026Z"
   },
   {
    "duration": 2290,
    "start_time": "2023-03-20T18:17:11.793Z"
   },
   {
    "duration": 304,
    "start_time": "2023-03-20T18:17:16.113Z"
   },
   {
    "duration": 1968,
    "start_time": "2023-03-20T18:17:17.895Z"
   },
   {
    "duration": 14,
    "start_time": "2023-03-20T18:17:21.975Z"
   },
   {
    "duration": 8,
    "start_time": "2023-03-20T18:17:23.781Z"
   },
   {
    "duration": 4,
    "start_time": "2023-03-20T18:17:25.568Z"
   },
   {
    "duration": 7,
    "start_time": "2023-03-20T18:17:26.927Z"
   },
   {
    "duration": 7,
    "start_time": "2023-03-20T18:17:28.409Z"
   },
   {
    "duration": 8,
    "start_time": "2023-03-20T18:17:30.295Z"
   },
   {
    "duration": 676,
    "start_time": "2023-03-20T18:17:32.529Z"
   },
   {
    "duration": 3587,
    "start_time": "2023-03-20T18:17:39.543Z"
   },
   {
    "duration": 6127,
    "start_time": "2023-03-20T18:20:35.300Z"
   },
   {
    "duration": 3583,
    "start_time": "2023-03-20T18:22:14.918Z"
   },
   {
    "duration": 688,
    "start_time": "2023-03-20T18:27:28.358Z"
   },
   {
    "duration": 16268,
    "start_time": "2023-03-20T18:27:29.048Z"
   },
   {
    "duration": 11789,
    "start_time": "2023-03-20T18:27:45.319Z"
   },
   {
    "duration": 99,
    "start_time": "2023-03-20T18:27:57.110Z"
   },
   {
    "duration": 5801,
    "start_time": "2023-03-20T18:27:57.213Z"
   },
   {
    "duration": 798,
    "start_time": "2023-03-20T18:28:03.016Z"
   },
   {
    "duration": 3604,
    "start_time": "2023-03-20T18:28:03.816Z"
   },
   {
    "duration": 97,
    "start_time": "2023-03-20T18:28:07.423Z"
   },
   {
    "duration": 14,
    "start_time": "2023-03-20T18:28:07.522Z"
   },
   {
    "duration": 61,
    "start_time": "2023-03-20T18:28:07.538Z"
   },
   {
    "duration": 25,
    "start_time": "2023-03-20T18:28:07.601Z"
   },
   {
    "duration": 74,
    "start_time": "2023-03-20T18:28:07.628Z"
   },
   {
    "duration": 9,
    "start_time": "2023-03-20T18:28:07.705Z"
   },
   {
    "duration": 1801,
    "start_time": "2023-03-20T18:28:07.717Z"
   },
   {
    "duration": 10691,
    "start_time": "2023-03-20T18:28:09.520Z"
   },
   {
    "duration": 4616,
    "start_time": "2023-03-20T18:28:20.213Z"
   },
   {
    "duration": 933,
    "start_time": "2023-03-20T18:28:24.899Z"
   },
   {
    "duration": 703,
    "start_time": "2023-03-21T15:09:42.142Z"
   },
   {
    "duration": 15595,
    "start_time": "2023-03-21T15:09:42.847Z"
   },
   {
    "duration": 9482,
    "start_time": "2023-03-21T15:09:58.443Z"
   },
   {
    "duration": 100,
    "start_time": "2023-03-21T15:10:07.927Z"
   },
   {
    "duration": 5110,
    "start_time": "2023-03-21T15:10:08.029Z"
   },
   {
    "duration": 621,
    "start_time": "2023-03-21T15:10:13.141Z"
   },
   {
    "duration": 2883,
    "start_time": "2023-03-21T15:10:13.763Z"
   },
   {
    "duration": 20,
    "start_time": "2023-03-21T15:10:16.648Z"
   },
   {
    "duration": 9,
    "start_time": "2023-03-21T15:10:16.670Z"
   },
   {
    "duration": 47,
    "start_time": "2023-03-21T15:10:16.680Z"
   },
   {
    "duration": 29,
    "start_time": "2023-03-21T15:10:16.732Z"
   },
   {
    "duration": 9,
    "start_time": "2023-03-21T15:10:16.763Z"
   },
   {
    "duration": 66,
    "start_time": "2023-03-21T15:10:16.773Z"
   },
   {
    "duration": 1499,
    "start_time": "2023-03-21T15:10:16.843Z"
   },
   {
    "duration": 8996,
    "start_time": "2023-03-21T15:10:18.344Z"
   },
   {
    "duration": 139,
    "start_time": "2023-03-21T15:10:27.342Z"
   },
   {
    "duration": 0,
    "start_time": "2023-03-21T15:10:27.483Z"
   },
   {
    "duration": 0,
    "start_time": "2023-03-21T15:10:27.484Z"
   },
   {
    "duration": 0,
    "start_time": "2023-03-21T15:10:27.485Z"
   },
   {
    "duration": 1746,
    "start_time": "2023-03-21T15:10:40.416Z"
   },
   {
    "duration": 3837,
    "start_time": "2023-03-21T15:10:48.990Z"
   },
   {
    "duration": 1238,
    "start_time": "2023-03-21T15:10:55.613Z"
   },
   {
    "duration": 657,
    "start_time": "2023-03-21T15:12:15.506Z"
   },
   {
    "duration": 15812,
    "start_time": "2023-03-21T15:12:16.165Z"
   },
   {
    "duration": 9551,
    "start_time": "2023-03-21T15:12:31.980Z"
   },
   {
    "duration": 107,
    "start_time": "2023-03-21T15:12:41.534Z"
   },
   {
    "duration": 5503,
    "start_time": "2023-03-21T15:12:41.642Z"
   },
   {
    "duration": 817,
    "start_time": "2023-03-21T15:12:47.147Z"
   },
   {
    "duration": 3394,
    "start_time": "2023-03-21T15:12:47.965Z"
   },
   {
    "duration": 89,
    "start_time": "2023-03-21T15:12:51.361Z"
   },
   {
    "duration": 11,
    "start_time": "2023-03-21T15:12:51.452Z"
   },
   {
    "duration": 2,
    "start_time": "2023-03-21T15:12:51.466Z"
   },
   {
    "duration": 12,
    "start_time": "2023-03-21T15:12:51.525Z"
   },
   {
    "duration": 28,
    "start_time": "2023-03-21T15:12:51.539Z"
   },
   {
    "duration": 71,
    "start_time": "2023-03-21T15:12:51.569Z"
   },
   {
    "duration": 1704,
    "start_time": "2023-03-21T15:12:51.642Z"
   },
   {
    "duration": 8719,
    "start_time": "2023-03-21T15:12:53.348Z"
   },
   {
    "duration": 1907,
    "start_time": "2023-03-21T15:13:02.128Z"
   },
   {
    "duration": 4402,
    "start_time": "2023-03-21T15:13:04.042Z"
   },
   {
    "duration": 1130,
    "start_time": "2023-03-21T15:13:08.446Z"
   },
   {
    "duration": 866,
    "start_time": "2023-03-21T15:13:09.578Z"
   },
   {
    "duration": 10,
    "start_time": "2023-03-21T15:14:11.549Z"
   },
   {
    "duration": 647,
    "start_time": "2023-03-21T15:15:38.513Z"
   },
   {
    "duration": 14984,
    "start_time": "2023-03-21T15:15:39.162Z"
   },
   {
    "duration": 8892,
    "start_time": "2023-03-21T15:15:54.148Z"
   },
   {
    "duration": 102,
    "start_time": "2023-03-21T15:16:03.042Z"
   },
   {
    "duration": 4682,
    "start_time": "2023-03-21T15:16:03.146Z"
   },
   {
    "duration": 733,
    "start_time": "2023-03-21T15:16:07.830Z"
   },
   {
    "duration": 2973,
    "start_time": "2023-03-21T15:16:08.565Z"
   },
   {
    "duration": 22,
    "start_time": "2023-03-21T15:16:11.540Z"
   },
   {
    "duration": 11,
    "start_time": "2023-03-21T15:16:11.564Z"
   },
   {
    "duration": 3,
    "start_time": "2023-03-21T15:16:11.578Z"
   },
   {
    "duration": 53,
    "start_time": "2023-03-21T15:16:11.582Z"
   },
   {
    "duration": 22,
    "start_time": "2023-03-21T15:16:11.638Z"
   },
   {
    "duration": 63,
    "start_time": "2023-03-21T15:16:11.662Z"
   },
   {
    "duration": 14,
    "start_time": "2023-03-21T15:16:11.729Z"
   },
   {
    "duration": 1903,
    "start_time": "2023-03-21T15:16:11.745Z"
   },
   {
    "duration": 8988,
    "start_time": "2023-03-21T15:16:13.650Z"
   },
   {
    "duration": 1623,
    "start_time": "2023-03-21T15:16:22.640Z"
   },
   {
    "duration": 3805,
    "start_time": "2023-03-21T15:16:24.265Z"
   },
   {
    "duration": 1259,
    "start_time": "2023-03-21T15:16:28.072Z"
   },
   {
    "duration": 740,
    "start_time": "2023-03-21T15:16:29.332Z"
   }
  ],
  "colab": {
   "name": "PySparkSprint.ipynb",
   "provenance": []
  },
  "kernelspec": {
   "display_name": "Python 3 (ipykernel)",
   "language": "python",
   "name": "python3"
  },
  "language_info": {
   "codemirror_mode": {
    "name": "ipython",
    "version": 3
   },
   "file_extension": ".py",
   "mimetype": "text/x-python",
   "name": "python",
   "nbconvert_exporter": "python",
   "pygments_lexer": "ipython3",
   "version": "3.9.5"
  },
  "toc": {
   "base_numbering": 1,
   "nav_menu": {},
   "number_sections": true,
   "sideBar": true,
   "skip_h1_title": true,
   "title_cell": "Table of Contents",
   "title_sidebar": "Contents",
   "toc_cell": false,
   "toc_position": {},
   "toc_section_display": true,
   "toc_window_display": false
  }
 },
 "nbformat": 4,
 "nbformat_minor": 5
}
