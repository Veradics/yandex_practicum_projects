{
 "cells": [
  {
   "cell_type": "markdown",
   "metadata": {},
   "source": [
    "# Personal data protection"
   ]
  },
  {
   "cell_type": "markdown",
   "metadata": {},
   "source": [
    "**Project Objective** is to develop a data transformation algorithm with an explanation of its correctness.  It is necessary to create such a method of data transformation that it is difficult to reconstruct personal information from it, so that the quality of machine learning models does not deteriorate."
   ]
  },
  {
   "cell_type": "markdown",
   "metadata": {},
   "source": [
    "## Data loading"
   ]
  },
  {
   "cell_type": "code",
   "execution_count": 7,
   "metadata": {},
   "outputs": [],
   "source": [
    "# imports\n",
    "import pandas as pd\n",
    "import numpy as np\n",
    "from numpy import linalg as LA\n",
    "\n",
    "from sklearn.linear_model import LinearRegression\n",
    "from sklearn.metrics import mean_squared_error, r2_score"
   ]
  },
  {
   "cell_type": "code",
   "execution_count": 2,
   "metadata": {},
   "outputs": [
    {
     "data": {
      "text/html": [
       "<div>\n",
       "<style scoped>\n",
       "    .dataframe tbody tr th:only-of-type {\n",
       "        vertical-align: middle;\n",
       "    }\n",
       "\n",
       "    .dataframe tbody tr th {\n",
       "        vertical-align: top;\n",
       "    }\n",
       "\n",
       "    .dataframe thead th {\n",
       "        text-align: right;\n",
       "    }\n",
       "</style>\n",
       "<table border=\"1\" class=\"dataframe\">\n",
       "  <thead>\n",
       "    <tr style=\"text-align: right;\">\n",
       "      <th></th>\n",
       "      <th>Пол</th>\n",
       "      <th>Возраст</th>\n",
       "      <th>Зарплата</th>\n",
       "      <th>Члены семьи</th>\n",
       "      <th>Страховые выплаты</th>\n",
       "    </tr>\n",
       "  </thead>\n",
       "  <tbody>\n",
       "    <tr>\n",
       "      <th>0</th>\n",
       "      <td>1</td>\n",
       "      <td>41.0</td>\n",
       "      <td>49600.0</td>\n",
       "      <td>1</td>\n",
       "      <td>0</td>\n",
       "    </tr>\n",
       "    <tr>\n",
       "      <th>1</th>\n",
       "      <td>0</td>\n",
       "      <td>46.0</td>\n",
       "      <td>38000.0</td>\n",
       "      <td>1</td>\n",
       "      <td>1</td>\n",
       "    </tr>\n",
       "    <tr>\n",
       "      <th>2</th>\n",
       "      <td>0</td>\n",
       "      <td>29.0</td>\n",
       "      <td>21000.0</td>\n",
       "      <td>0</td>\n",
       "      <td>0</td>\n",
       "    </tr>\n",
       "    <tr>\n",
       "      <th>3</th>\n",
       "      <td>0</td>\n",
       "      <td>21.0</td>\n",
       "      <td>41700.0</td>\n",
       "      <td>2</td>\n",
       "      <td>0</td>\n",
       "    </tr>\n",
       "    <tr>\n",
       "      <th>4</th>\n",
       "      <td>1</td>\n",
       "      <td>28.0</td>\n",
       "      <td>26100.0</td>\n",
       "      <td>0</td>\n",
       "      <td>0</td>\n",
       "    </tr>\n",
       "  </tbody>\n",
       "</table>\n",
       "</div>"
      ],
      "text/plain": [
       "   Пол  Возраст  Зарплата  Члены семьи  Страховые выплаты\n",
       "0    1     41.0   49600.0            1                  0\n",
       "1    0     46.0   38000.0            1                  1\n",
       "2    0     29.0   21000.0            0                  0\n",
       "3    0     21.0   41700.0            2                  0\n",
       "4    1     28.0   26100.0            0                  0"
      ]
     },
     "execution_count": 2,
     "metadata": {},
     "output_type": "execute_result"
    }
   ],
   "source": [
    "# data\n",
    "data = pd.read_csv('/datasets/insurance.csv')\n",
    "data.head()"
   ]
  },
  {
   "cell_type": "code",
   "execution_count": 3,
   "metadata": {},
   "outputs": [
    {
     "name": "stdout",
     "output_type": "stream",
     "text": [
      "<class 'pandas.core.frame.DataFrame'>\n",
      "RangeIndex: 5000 entries, 0 to 4999\n",
      "Data columns (total 5 columns):\n",
      " #   Column             Non-Null Count  Dtype  \n",
      "---  ------             --------------  -----  \n",
      " 0   Пол                5000 non-null   int64  \n",
      " 1   Возраст            5000 non-null   float64\n",
      " 2   Зарплата           5000 non-null   float64\n",
      " 3   Члены семьи        5000 non-null   int64  \n",
      " 4   Страховые выплаты  5000 non-null   int64  \n",
      "dtypes: float64(2), int64(3)\n",
      "memory usage: 195.4 KB\n"
     ]
    }
   ],
   "source": [
    "data.info()"
   ]
  },
  {
   "cell_type": "markdown",
   "metadata": {},
   "source": [
    "The dataframe includes 5 columns. 4 of them are attributes (`Sex`, `Age`, `Salary`, `Family members`). \n",
    "\n",
    "The last column `Insurance payments` (number of payments in the last 5 years) is the target variable.\n",
    "No omissions were found in the data provided. All attributes are expressed as numbers. \n",
    "\n",
    "It is only necessary to convert `Age` and `Salary` to integer data type."
   ]
  },
  {
   "cell_type": "code",
   "execution_count": 4,
   "metadata": {},
   "outputs": [],
   "source": [
    "data = data.astype(int)"
   ]
  },
  {
   "cell_type": "markdown",
   "metadata": {},
   "source": [
    "## Matrix multiplication"
   ]
  },
  {
   "cell_type": "markdown",
   "metadata": {},
   "source": [
    "**Formulas for linear regression:**\n",
    "\n",
    "Here:\n",
    "- $X$ — feature matrix (zero column consists of ones)\n",
    "- $y$ — target vector\n",
    "- $P$ — matrix by which features are multiplied\n",
    "- $w$ — vector of linear regression weights (zero element equals the shift)"
   ]
  },
  {
   "cell_type": "markdown",
   "metadata": {},
   "source": [
    "Predictions:\n",
    "\n",
    "$$\n",
    "a = Xw\n",
    "$$\n",
    "\n",
    "Training problem:\n",
    "\n",
    "$$\n",
    "w = \\arg\\min_w MSE(Xw, y)\n",
    "$$\n",
    "\n",
    "Solution:\n",
    "\n",
    "$$\n",
    "w = (X^T X)^{-1} X^T y\n",
    "$$"
   ]
  },
  {
   "cell_type": "markdown",
   "metadata": {},
   "source": [
    "**Question:** The signs are multiplied by a reversible matrix. Will the quality of the linear regression change?\n",
    "\n",
    "**Answer:** No, it will not.\n",
    "\n",
    "**Explanation:** The quality of a linear regression can be assessed, for example, by the magnitude of the mean square error (MSE). Let's train two models (with the original feature matrix and with the feature matrix additionally multiplied by the reversible matrix) and compare the result."
   ]
  },
  {
   "cell_type": "code",
   "execution_count": 5,
   "metadata": {},
   "outputs": [],
   "source": [
    "X = data.drop(columns=['Страховые выплаты'])\n",
    "y = data['Страховые выплаты']"
   ]
  },
  {
   "cell_type": "code",
   "execution_count": 6,
   "metadata": {},
   "outputs": [
    {
     "data": {
      "text/plain": [
       "array([[15, 22, 14, 11],\n",
       "       [26, 15, 16, 25],\n",
       "       [18, 25,  4,  4],\n",
       "       [ 6,  6, 18, 26]])"
      ]
     },
     "execution_count": 6,
     "metadata": {},
     "output_type": "execute_result"
    }
   ],
   "source": [
    "# P matrix\n",
    "P = np.random.randint (1, 30, (4, 4))\n",
    "P"
   ]
  },
  {
   "cell_type": "code",
   "execution_count": 8,
   "metadata": {},
   "outputs": [
    {
     "data": {
      "text/plain": [
       "44674.00000000003"
      ]
     },
     "execution_count": 8,
     "metadata": {},
     "output_type": "execute_result"
    }
   ],
   "source": [
    "# reversibility testing\n",
    "LA.det(P)"
   ]
  },
  {
   "cell_type": "code",
   "execution_count": 9,
   "metadata": {},
   "outputs": [
    {
     "data": {
      "text/html": [
       "<div>\n",
       "<style scoped>\n",
       "    .dataframe tbody tr th:only-of-type {\n",
       "        vertical-align: middle;\n",
       "    }\n",
       "\n",
       "    .dataframe tbody tr th {\n",
       "        vertical-align: top;\n",
       "    }\n",
       "\n",
       "    .dataframe thead th {\n",
       "        text-align: right;\n",
       "    }\n",
       "</style>\n",
       "<table border=\"1\" class=\"dataframe\">\n",
       "  <thead>\n",
       "    <tr style=\"text-align: right;\">\n",
       "      <th></th>\n",
       "      <th>Пол</th>\n",
       "      <th>Возраст</th>\n",
       "      <th>Зарплата</th>\n",
       "      <th>Члены семьи</th>\n",
       "    </tr>\n",
       "  </thead>\n",
       "  <tbody>\n",
       "    <tr>\n",
       "      <th>0</th>\n",
       "      <td>893887</td>\n",
       "      <td>1240643</td>\n",
       "      <td>199088</td>\n",
       "      <td>199462</td>\n",
       "    </tr>\n",
       "    <tr>\n",
       "      <th>1</th>\n",
       "      <td>685202</td>\n",
       "      <td>950696</td>\n",
       "      <td>152754</td>\n",
       "      <td>153176</td>\n",
       "    </tr>\n",
       "    <tr>\n",
       "      <th>2</th>\n",
       "      <td>378754</td>\n",
       "      <td>525435</td>\n",
       "      <td>84464</td>\n",
       "      <td>84725</td>\n",
       "    </tr>\n",
       "    <tr>\n",
       "      <th>3</th>\n",
       "      <td>751158</td>\n",
       "      <td>1042827</td>\n",
       "      <td>167172</td>\n",
       "      <td>167377</td>\n",
       "    </tr>\n",
       "    <tr>\n",
       "      <th>4</th>\n",
       "      <td>470543</td>\n",
       "      <td>652942</td>\n",
       "      <td>104862</td>\n",
       "      <td>105111</td>\n",
       "    </tr>\n",
       "  </tbody>\n",
       "</table>\n",
       "</div>"
      ],
      "text/plain": [
       "      Пол  Возраст  Зарплата  Члены семьи\n",
       "0  893887  1240643    199088       199462\n",
       "1  685202   950696    152754       153176\n",
       "2  378754   525435     84464        84725\n",
       "3  751158  1042827    167172       167377\n",
       "4  470543   652942    104862       105111"
      ]
     },
     "execution_count": 9,
     "metadata": {},
     "output_type": "execute_result"
    }
   ],
   "source": [
    "XP = pd.DataFrame(np.array(X) @ P, columns=X.columns).astype(int)\n",
    "XP.head()"
   ]
  },
  {
   "cell_type": "code",
   "execution_count": 10,
   "metadata": {},
   "outputs": [
    {
     "name": "stdout",
     "output_type": "stream",
     "text": [
      "MSE для модели, обученной на X: 0.1233468894\n"
     ]
    }
   ],
   "source": [
    "# linear regression fit on the initial feature matrix X\n",
    "model = LinearRegression()\n",
    "model.fit(X, y)\n",
    "predictions = model.predict(X)\n",
    "mse = mean_squared_error(y, predictions)\n",
    "\n",
    "print('MSE для модели, обученной на X:', round(mse, 10))"
   ]
  },
  {
   "cell_type": "code",
   "execution_count": 11,
   "metadata": {},
   "outputs": [
    {
     "name": "stdout",
     "output_type": "stream",
     "text": [
      "MSE для модели, обученной на XP: 0.1233468894\n"
     ]
    }
   ],
   "source": [
    "# linear regression fit on feature matrix XP\n",
    "model = LinearRegression()\n",
    "model.fit(XP, y)\n",
    "predictions = model.predict(XP)\n",
    "mse = mean_squared_error(y, predictions)\n",
    "\n",
    "print('MSE для модели, обученной на XP:', round(mse, 10))"
   ]
  },
  {
   "cell_type": "markdown",
   "metadata": {},
   "source": [
    "The prediction errors for both models are the same, which confirms the correctness of the answer."
   ]
  },
  {
   "cell_type": "markdown",
   "metadata": {},
   "source": [
    "## Transformation algorithm"
   ]
  },
  {
   "cell_type": "markdown",
   "metadata": {},
   "source": [
    "**Algorithm** \n",
    "\n",
    "To protect personal data of clients, the following method of data preparation for model training can be suggested. After preprocessing the data (leveling outliers, omissions, etc.), multiply the feature matrix by a reversible matrix with random numerical values (key matrix). Subsequently, the new feature matrix will need to be similarly multiplied by the key matrix to obtain model predictions.\n",
    "\n",
    "Also additionally, if linear regression is used as the machine learning algorithm, after multiplying the feature matrix with the key matrix, the values can be scaled for better results and security."
   ]
  },
  {
   "cell_type": "markdown",
   "metadata": {},
   "source": [
    "**Explanation**\n",
    "\n",
    "When the feature matrix is multiplied by the key matrix, the quality of the model does not change due to the equality of the prediction arrays.\n",
    "\n",
    "Predictions of the model in the original: $ a = Xw = X(X^T X)^{-1} X^T y $ \\\n",
    "Model predictions using the key matrix: $ a_{new} = XPw = XP ((XP)^T XP)^{-1} (XP)^T y $\n",
    "\n",
    "Properties of matrices used:\n",
    "$$(AB)^T = B^T A^T$$\n",
    "$$(AB)^{-1} = B^{-1} A^{-1}$$\n",
    "$$ A A^{-1} = A^{-1} A = E $$\n",
    "\n",
    "Evidence:\n",
    "$$ a_{new} = XP (P^T X^T XP)^{-1} P^T X^T y $$\n",
    "$$ a_{new} = X (P P^{-1}) (X^TX)^{-1} ((P^T)^{-1} P^T) X^T y$$\n",
    "$$ a_{new} = XE (X^TX)^{-1} EX^T y$$\n",
    "$$ a_{new} = X(X^TX)^{-1}X^T y = a$$"
   ]
  },
  {
   "cell_type": "markdown",
   "metadata": {},
   "source": [
    "## Algorithm check"
   ]
  },
  {
   "cell_type": "code",
   "execution_count": 13,
   "metadata": {},
   "outputs": [],
   "source": [
    "# X - DataFrame, key_matrix - squared matrix where number of rows = number of features\n",
    "def protected_data(X, key_matrix):\n",
    "    if LA.det(key_matrix) == 0:\n",
    "        print('Матрица-ключ необратима!')\n",
    "        return\n",
    "    \n",
    "    return pd.DataFrame(np.array(X) @ key_matrix, columns=X.columns)"
   ]
  },
  {
   "cell_type": "code",
   "execution_count": 14,
   "metadata": {},
   "outputs": [
    {
     "name": "stdout",
     "output_type": "stream",
     "text": [
      "R2 без шифрования: 0.4249455031\n"
     ]
    }
   ],
   "source": [
    "# without encryption\n",
    "model = LinearRegression()\n",
    "model.fit(X, y)\n",
    "predictions = model.predict(X)\n",
    "r2 = r2_score(y, predictions)\n",
    "\n",
    "print('R2 без шифрования:', round(r2, 10))"
   ]
  },
  {
   "cell_type": "code",
   "execution_count": 15,
   "metadata": {},
   "outputs": [
    {
     "name": "stdout",
     "output_type": "stream",
     "text": [
      "R2 с использованием шифрования: 0.4249455031\n"
     ]
    }
   ],
   "source": [
    "# with encryption\n",
    "key_matrix = np.random.randint (1, 30, (4, 4))\n",
    "\n",
    "model = LinearRegression()\n",
    "model.fit(protected_data(X, key_matrix), y)\n",
    "predictions = model.predict(protected_data(X, key_matrix))\n",
    "r2 = r2_score(y, predictions)\n",
    "\n",
    "print('R2 с использованием шифрования:', round(r2, 10))"
   ]
  },
  {
   "cell_type": "markdown",
   "metadata": {},
   "source": [
    "The algorithm works, the model on original data and encrypted data shows the same result."
   ]
  },
  {
   "cell_type": "markdown",
   "metadata": {},
   "source": [
    "**Conclusion:**\n",
    "    \n",
    "In this project, an algorithm has been proposed to encrypt client data on the request of the company \"Want a Flood\". It transforms the feature dataframe using multiplication by a key matrix, making it unrecoverable for those who do not know the key. Training linear regression on the encrypted feature dataframe shows the same results as training on the original one. This is proven by mathematical formulas and tested on a real example."
   ]
  }
 ],
 "metadata": {
  "ExecuteTimeLog": [
   {
    "duration": 439,
    "start_time": "2023-04-14T11:36:47.597Z"
   },
   {
    "duration": 79,
    "start_time": "2023-04-14T11:37:14.755Z"
   },
   {
    "duration": 103,
    "start_time": "2023-04-14T11:37:22.398Z"
   },
   {
    "duration": 16,
    "start_time": "2023-04-14T11:37:33.372Z"
   },
   {
    "duration": 1321,
    "start_time": "2023-04-14T15:54:21.363Z"
   },
   {
    "duration": 153,
    "start_time": "2023-04-14T15:54:24.229Z"
   },
   {
    "duration": 14,
    "start_time": "2023-04-14T15:54:27.348Z"
   },
   {
    "duration": 8,
    "start_time": "2023-04-14T15:54:54.575Z"
   },
   {
    "duration": 7,
    "start_time": "2023-04-14T15:55:40.548Z"
   },
   {
    "duration": 5,
    "start_time": "2023-04-14T15:56:11.471Z"
   },
   {
    "duration": 2,
    "start_time": "2023-04-14T15:56:16.022Z"
   },
   {
    "duration": 4,
    "start_time": "2023-04-14T15:56:19.936Z"
   },
   {
    "duration": 158,
    "start_time": "2023-04-14T15:59:43.716Z"
   },
   {
    "duration": 4,
    "start_time": "2023-04-14T15:59:46.886Z"
   },
   {
    "duration": 7,
    "start_time": "2023-04-14T15:59:48.318Z"
   },
   {
    "duration": 34,
    "start_time": "2023-04-14T16:00:21.286Z"
   },
   {
    "duration": 4,
    "start_time": "2023-04-14T16:01:13.413Z"
   },
   {
    "duration": 14,
    "start_time": "2023-04-14T16:01:23.492Z"
   },
   {
    "duration": 25,
    "start_time": "2023-04-14T16:03:23.985Z"
   },
   {
    "duration": 4,
    "start_time": "2023-04-14T16:04:30.023Z"
   },
   {
    "duration": 63,
    "start_time": "2023-04-14T16:05:29.336Z"
   },
   {
    "duration": 9,
    "start_time": "2023-04-14T16:05:38.859Z"
   },
   {
    "duration": 19,
    "start_time": "2023-04-14T16:06:05.715Z"
   },
   {
    "duration": 49,
    "start_time": "2023-04-14T16:06:16.078Z"
   },
   {
    "duration": 23,
    "start_time": "2023-04-14T16:06:19.304Z"
   },
   {
    "duration": 5,
    "start_time": "2023-04-14T16:06:21.517Z"
   },
   {
    "duration": 9,
    "start_time": "2023-04-14T16:06:24.292Z"
   },
   {
    "duration": 5,
    "start_time": "2023-04-14T16:06:26.021Z"
   },
   {
    "duration": 10,
    "start_time": "2023-04-14T16:06:28.253Z"
   },
   {
    "duration": 38,
    "start_time": "2023-04-14T16:06:30.390Z"
   },
   {
    "duration": 16,
    "start_time": "2023-04-14T16:06:32.222Z"
   },
   {
    "duration": 13,
    "start_time": "2023-04-14T16:07:03.912Z"
   },
   {
    "duration": 12,
    "start_time": "2023-04-14T16:07:07.028Z"
   },
   {
    "duration": 18,
    "start_time": "2023-04-14T16:07:33.710Z"
   },
   {
    "duration": 10,
    "start_time": "2023-04-14T16:07:35.426Z"
   },
   {
    "duration": 4,
    "start_time": "2023-04-14T17:35:05.285Z"
   },
   {
    "duration": 4,
    "start_time": "2023-04-14T17:58:35.302Z"
   },
   {
    "duration": 14,
    "start_time": "2023-04-14T17:59:55.109Z"
   },
   {
    "duration": 14,
    "start_time": "2023-04-14T17:59:57.163Z"
   },
   {
    "duration": 3,
    "start_time": "2023-04-14T18:00:01.456Z"
   },
   {
    "duration": 19,
    "start_time": "2023-04-14T18:00:03.012Z"
   },
   {
    "duration": 1247,
    "start_time": "2023-04-14T18:08:13.905Z"
   },
   {
    "duration": 73,
    "start_time": "2023-04-14T18:08:15.155Z"
   },
   {
    "duration": 18,
    "start_time": "2023-04-14T18:08:15.231Z"
   },
   {
    "duration": 4,
    "start_time": "2023-04-14T18:08:15.254Z"
   },
   {
    "duration": 16,
    "start_time": "2023-04-14T18:08:15.262Z"
   },
   {
    "duration": 12,
    "start_time": "2023-04-14T18:08:15.281Z"
   },
   {
    "duration": 24,
    "start_time": "2023-04-14T18:08:15.295Z"
   },
   {
    "duration": 100,
    "start_time": "2023-04-14T18:08:15.321Z"
   },
   {
    "duration": 26,
    "start_time": "2023-04-14T18:08:15.494Z"
   },
   {
    "duration": 5,
    "start_time": "2023-04-14T18:08:15.524Z"
   },
   {
    "duration": 163,
    "start_time": "2023-04-14T18:08:15.537Z"
   },
   {
    "duration": 101,
    "start_time": "2023-04-14T18:08:15.711Z"
   },
   {
    "duration": 1095,
    "start_time": "2023-04-14T22:46:02.791Z"
   },
   {
    "duration": 100,
    "start_time": "2023-04-14T22:46:04.398Z"
   },
   {
    "duration": 12,
    "start_time": "2023-04-14T22:46:07.483Z"
   },
   {
    "duration": 3,
    "start_time": "2023-04-14T22:46:10.031Z"
   },
   {
    "duration": 4,
    "start_time": "2023-04-14T22:46:13.492Z"
   },
   {
    "duration": 5,
    "start_time": "2023-04-14T22:46:20.153Z"
   },
   {
    "duration": 3,
    "start_time": "2023-04-14T22:47:13.883Z"
   },
   {
    "duration": 4,
    "start_time": "2023-04-14T22:47:24.396Z"
   },
   {
    "duration": 7,
    "start_time": "2023-04-14T22:48:26.260Z"
   },
   {
    "duration": 11,
    "start_time": "2023-04-14T22:48:28.126Z"
   },
   {
    "duration": 10,
    "start_time": "2023-04-14T22:48:29.493Z"
   },
   {
    "duration": 3,
    "start_time": "2023-04-14T22:48:41.445Z"
   },
   {
    "duration": 3,
    "start_time": "2023-04-14T22:50:14.033Z"
   },
   {
    "duration": 9,
    "start_time": "2023-04-14T22:50:15.643Z"
   },
   {
    "duration": 11,
    "start_time": "2023-04-14T22:50:17.919Z"
   }
  ],
  "kernelspec": {
   "display_name": "Python 3 (ipykernel)",
   "language": "python",
   "name": "python3"
  },
  "language_info": {
   "codemirror_mode": {
    "name": "ipython",
    "version": 3
   },
   "file_extension": ".py",
   "mimetype": "text/x-python",
   "name": "python",
   "nbconvert_exporter": "python",
   "pygments_lexer": "ipython3",
   "version": "3.9.5"
  },
  "toc": {
   "base_numbering": 1,
   "nav_menu": {},
   "number_sections": true,
   "sideBar": true,
   "skip_h1_title": true,
   "title_cell": "Содержание",
   "title_sidebar": "Contents",
   "toc_cell": true,
   "toc_position": {},
   "toc_section_display": true,
   "toc_window_display": false
  }
 },
 "nbformat": 4,
 "nbformat_minor": 2
}
