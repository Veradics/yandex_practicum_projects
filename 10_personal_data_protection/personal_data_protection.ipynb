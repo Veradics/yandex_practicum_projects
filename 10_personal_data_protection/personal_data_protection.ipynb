{
 "cells": [
  {
   "cell_type": "markdown",
   "metadata": {},
   "source": [
    "<div style=\"border:solid green 2px; padding: 20px\">\n",
    "<b>Привет, Светлана!</b>\n",
    "\n",
    "Меня зовут Александр Пономаренко, и я буду проверять твой проект. Предлагаю общаться на «ты» :) Но если это не удобно - дай знать, и мы перейдем на \"вы\". \n",
    "\n",
    "Моя основная цель — не указать на совершенные тобою ошибки, а поделиться своим опытом и помочь тебе стать data science. Ты уже проделал большую работу над проектом, но давай сделаем его еще лучше. Ниже ты найдешь мои комментарии - **пожалуйста, не перемещай, не изменяй и не удаляй их**. Увидев у тебя ошибку, в первый раз я лишь укажу на ее наличие и дам тебе возможность самой найти и исправить ее. На реальной работе твой начальник будет поступать так же, а я пытаюсь подготовить тебя именно к работе аналитиком. Но если ты пока не справишься с такой задачей - при следующей проверке я дам более точную подсказку. Я буду использовать цветовую разметку:\n",
    "\n",
    "<div class=\"alert alert-danger\">\n",
    "<b>Комментарий ревьюера ❌:</b> Так выделены самые важные замечания. Без их отработки проект не будет принят. </div>\n",
    "\n",
    "<div class=\"alert alert-warning\">\n",
    "<b>Комментарий ревьюера ⚠️:</b> Так выделены небольшие замечания. Я надеюсь, что их ты тоже учтешь - твой проект от этого станет только лучше. Но настаивать на их отработке не буду.\n",
    "\n",
    "</div>\n",
    "\n",
    "<div class=\"alert alert-success\">\n",
    "<b>Комментарий ревьюера ✔️:</b> Так я выделяю все остальные комментарии.</div>\n",
    "\n",
    "Давай работать над проектом в диалоге: **если ты что-то меняешь в проекте или отвечаешь на мои комменатри — пиши об этом.** Мне будет легче отследить изменения, если ты выделишь свои комментарии:\n",
    "<div class=\"alert alert-info\"> <b>Комментарий студента:</b> Например, вот так.</div>\n",
    "\n",
    "Всё это поможет выполнить повторную проверку твоего проекта оперативнее. "
   ]
  },
  {
   "cell_type": "markdown",
   "metadata": {
    "toc": true
   },
   "source": [
    "<h1>Содержание<span class=\"tocSkip\"></span></h1>\n",
    "<div class=\"toc\"><ul class=\"toc-item\"><li><span><a href=\"#Загрузка-данных\" data-toc-modified-id=\"Загрузка-данных-1\"><span class=\"toc-item-num\">1&nbsp;&nbsp;</span>Загрузка данных</a></span></li><li><span><a href=\"#Умножение-матриц\" data-toc-modified-id=\"Умножение-матриц-2\"><span class=\"toc-item-num\">2&nbsp;&nbsp;</span>Умножение матриц</a></span></li><li><span><a href=\"#Алгоритм-преобразования\" data-toc-modified-id=\"Алгоритм-преобразования-3\"><span class=\"toc-item-num\">3&nbsp;&nbsp;</span>Алгоритм преобразования</a></span></li><li><span><a href=\"#Проверка-алгоритма\" data-toc-modified-id=\"Проверка-алгоритма-4\"><span class=\"toc-item-num\">4&nbsp;&nbsp;</span>Проверка алгоритма</a></span></li><li><span><a href=\"#Чек-лист-проверки\" data-toc-modified-id=\"Чек-лист-проверки-5\"><span class=\"toc-item-num\">5&nbsp;&nbsp;</span>Чек-лист проверки</a></span></li></ul></div>"
   ]
  },
  {
   "cell_type": "markdown",
   "metadata": {},
   "source": [
    "# Защита персональных данных клиентов"
   ]
  },
  {
   "cell_type": "markdown",
   "metadata": {},
   "source": [
    "Вам нужно защитить данные клиентов страховой компании «Хоть потоп». Разработайте такой метод преобразования данных, чтобы по ним было сложно восстановить персональную информацию. Обоснуйте корректность его работы.\n",
    "\n",
    "Нужно защитить данные, чтобы при преобразовании качество моделей машинного обучения не ухудшилось. Подбирать наилучшую модель не требуется.\n",
    "\n",
    "Таким образом, **целью проекта** является разработка алгоритма преобразования данных с объяснением его корректности.  "
   ]
  },
  {
   "cell_type": "markdown",
   "metadata": {},
   "source": [
    "## Загрузка данных"
   ]
  },
  {
   "cell_type": "code",
   "execution_count": 7,
   "metadata": {},
   "outputs": [],
   "source": [
    "# импорты\n",
    "import pandas as pd\n",
    "import numpy as np\n",
    "from numpy import linalg as LA\n",
    "\n",
    "from sklearn.linear_model import LinearRegression\n",
    "from sklearn.metrics import mean_squared_error, r2_score"
   ]
  },
  {
   "cell_type": "code",
   "execution_count": 2,
   "metadata": {},
   "outputs": [
    {
     "data": {
      "text/html": [
       "<div>\n",
       "<style scoped>\n",
       "    .dataframe tbody tr th:only-of-type {\n",
       "        vertical-align: middle;\n",
       "    }\n",
       "\n",
       "    .dataframe tbody tr th {\n",
       "        vertical-align: top;\n",
       "    }\n",
       "\n",
       "    .dataframe thead th {\n",
       "        text-align: right;\n",
       "    }\n",
       "</style>\n",
       "<table border=\"1\" class=\"dataframe\">\n",
       "  <thead>\n",
       "    <tr style=\"text-align: right;\">\n",
       "      <th></th>\n",
       "      <th>Пол</th>\n",
       "      <th>Возраст</th>\n",
       "      <th>Зарплата</th>\n",
       "      <th>Члены семьи</th>\n",
       "      <th>Страховые выплаты</th>\n",
       "    </tr>\n",
       "  </thead>\n",
       "  <tbody>\n",
       "    <tr>\n",
       "      <th>0</th>\n",
       "      <td>1</td>\n",
       "      <td>41.0</td>\n",
       "      <td>49600.0</td>\n",
       "      <td>1</td>\n",
       "      <td>0</td>\n",
       "    </tr>\n",
       "    <tr>\n",
       "      <th>1</th>\n",
       "      <td>0</td>\n",
       "      <td>46.0</td>\n",
       "      <td>38000.0</td>\n",
       "      <td>1</td>\n",
       "      <td>1</td>\n",
       "    </tr>\n",
       "    <tr>\n",
       "      <th>2</th>\n",
       "      <td>0</td>\n",
       "      <td>29.0</td>\n",
       "      <td>21000.0</td>\n",
       "      <td>0</td>\n",
       "      <td>0</td>\n",
       "    </tr>\n",
       "    <tr>\n",
       "      <th>3</th>\n",
       "      <td>0</td>\n",
       "      <td>21.0</td>\n",
       "      <td>41700.0</td>\n",
       "      <td>2</td>\n",
       "      <td>0</td>\n",
       "    </tr>\n",
       "    <tr>\n",
       "      <th>4</th>\n",
       "      <td>1</td>\n",
       "      <td>28.0</td>\n",
       "      <td>26100.0</td>\n",
       "      <td>0</td>\n",
       "      <td>0</td>\n",
       "    </tr>\n",
       "  </tbody>\n",
       "</table>\n",
       "</div>"
      ],
      "text/plain": [
       "   Пол  Возраст  Зарплата  Члены семьи  Страховые выплаты\n",
       "0    1     41.0   49600.0            1                  0\n",
       "1    0     46.0   38000.0            1                  1\n",
       "2    0     29.0   21000.0            0                  0\n",
       "3    0     21.0   41700.0            2                  0\n",
       "4    1     28.0   26100.0            0                  0"
      ]
     },
     "execution_count": 2,
     "metadata": {},
     "output_type": "execute_result"
    }
   ],
   "source": [
    "# data\n",
    "data = pd.read_csv('/datasets/insurance.csv')\n",
    "data.head()"
   ]
  },
  {
   "cell_type": "markdown",
   "metadata": {},
   "source": [
    "<div class=\"alert alert-success\">\n",
    "<b>Комментарий ревьюера ✔️:</b> Огонь, данные на месте:)</div>"
   ]
  },
  {
   "cell_type": "code",
   "execution_count": 3,
   "metadata": {},
   "outputs": [
    {
     "name": "stdout",
     "output_type": "stream",
     "text": [
      "<class 'pandas.core.frame.DataFrame'>\n",
      "RangeIndex: 5000 entries, 0 to 4999\n",
      "Data columns (total 5 columns):\n",
      " #   Column             Non-Null Count  Dtype  \n",
      "---  ------             --------------  -----  \n",
      " 0   Пол                5000 non-null   int64  \n",
      " 1   Возраст            5000 non-null   float64\n",
      " 2   Зарплата           5000 non-null   float64\n",
      " 3   Члены семьи        5000 non-null   int64  \n",
      " 4   Страховые выплаты  5000 non-null   int64  \n",
      "dtypes: float64(2), int64(3)\n",
      "memory usage: 195.4 KB\n"
     ]
    }
   ],
   "source": [
    "data.info()"
   ]
  },
  {
   "cell_type": "markdown",
   "metadata": {},
   "source": [
    "Датафрейм включает в себя 5 колонок. 4 из них являются признаками (`Пол`, `Возраст`, `Зарплата`, `Члены семьи`). \\\n",
    "Последний столбец `Страховые выплаты`(количество выплат за последние 5 лет) представляет собой целевую переменную.\n",
    "\n",
    "Пропусков в предоставленных данных не обнаружено. Все признаки выражены числами. \\\n",
    "Необходимо только привести `Возраст` и `Зарплату` к целочисленному типу данных."
   ]
  },
  {
   "cell_type": "code",
   "execution_count": 4,
   "metadata": {},
   "outputs": [],
   "source": [
    "data = data.astype(int)"
   ]
  },
  {
   "cell_type": "markdown",
   "metadata": {},
   "source": [
    "## Умножение матриц"
   ]
  },
  {
   "cell_type": "markdown",
   "metadata": {},
   "source": [
    "В этом задании вы можете записывать формулы в *Jupyter Notebook.*\n",
    "\n",
    "Чтобы записать формулу внутри текста, окружите её символами доллара \\\\$; если снаружи —  двойными символами \\\\$\\\\$. Эти формулы записываются на языке вёрстки *LaTeX.* \n",
    "\n",
    "Для примера мы записали формулы линейной регрессии. Можете их скопировать и отредактировать, чтобы решить задачу.\n",
    "\n",
    "Работать в *LaTeX* необязательно."
   ]
  },
  {
   "cell_type": "markdown",
   "metadata": {},
   "source": [
    "Обозначения:\n",
    "\n",
    "- $X$ — матрица признаков (нулевой столбец состоит из единиц)\n",
    "\n",
    "- $y$ — вектор целевого признака\n",
    "\n",
    "- $P$ — матрица, на которую умножаются признаки\n",
    "\n",
    "- $w$ — вектор весов линейной регрессии (нулевой элемент равен сдвигу)"
   ]
  },
  {
   "cell_type": "markdown",
   "metadata": {},
   "source": [
    "Предсказания:\n",
    "\n",
    "$$\n",
    "a = Xw\n",
    "$$\n",
    "\n",
    "Задача обучения:\n",
    "\n",
    "$$\n",
    "w = \\arg\\min_w MSE(Xw, y)\n",
    "$$\n",
    "\n",
    "Формула обучения:\n",
    "\n",
    "$$\n",
    "w = (X^T X)^{-1} X^T y\n",
    "$$"
   ]
  },
  {
   "cell_type": "markdown",
   "metadata": {},
   "source": [
    "**Вопрос:** Признаки умножают на обратимую матрицу. Изменится ли качество линейной регрессии?\n",
    "\n",
    "**Ответ:** Нет, не изменится.\n",
    "\n",
    "**Обоснование:** Оценить качество линейной регресии можно, например, по величине среднеквадратичной ошибки (MSE). Обучим две модели (с оригинальной матрицей признаков и с матрицей признаков, дополнительно умноженной на обратимую матрицу) и сравним результат."
   ]
  },
  {
   "cell_type": "code",
   "execution_count": 5,
   "metadata": {},
   "outputs": [],
   "source": [
    "X = data.drop(columns=['Страховые выплаты'])\n",
    "y = data['Страховые выплаты']"
   ]
  },
  {
   "cell_type": "code",
   "execution_count": 6,
   "metadata": {},
   "outputs": [
    {
     "data": {
      "text/plain": [
       "array([[15, 22, 14, 11],\n",
       "       [26, 15, 16, 25],\n",
       "       [18, 25,  4,  4],\n",
       "       [ 6,  6, 18, 26]])"
      ]
     },
     "execution_count": 6,
     "metadata": {},
     "output_type": "execute_result"
    }
   ],
   "source": [
    "# формирование матрицы P\n",
    "P = np.random.randint (1, 30, (4, 4)) # размер матрицы зависит от количества признаков\n",
    "P"
   ]
  },
  {
   "cell_type": "code",
   "execution_count": 8,
   "metadata": {},
   "outputs": [
    {
     "data": {
      "text/plain": [
       "44674.00000000003"
      ]
     },
     "execution_count": 8,
     "metadata": {},
     "output_type": "execute_result"
    }
   ],
   "source": [
    "# проверка на обратимость\n",
    "LA.det(P)"
   ]
  },
  {
   "cell_type": "markdown",
   "metadata": {},
   "source": [
    "<div class=\"alert alert-warning\">\n",
    "<b>Комментарий ревьюера ⚠️:</b> Хорошо, но еще необходимо проверить на обратимость. Это можно сделать вот так: Если определитель квадратной матрицы $P$ не равен нулю, значит у нее есть обратная\n",
    "\n",
    "</div>"
   ]
  },
  {
   "cell_type": "markdown",
   "metadata": {},
   "source": [
    "<div class=\"alert alert-info\"> <b>Комментарий студента:</b> Проверено! </div>"
   ]
  },
  {
   "cell_type": "markdown",
   "metadata": {},
   "source": [
    "<div class=\"alert alert-success\">\n",
    "<b>Комментарий ревьюера V2✔️:</b>Хорошо:)</div>"
   ]
  },
  {
   "cell_type": "code",
   "execution_count": 9,
   "metadata": {},
   "outputs": [
    {
     "data": {
      "text/html": [
       "<div>\n",
       "<style scoped>\n",
       "    .dataframe tbody tr th:only-of-type {\n",
       "        vertical-align: middle;\n",
       "    }\n",
       "\n",
       "    .dataframe tbody tr th {\n",
       "        vertical-align: top;\n",
       "    }\n",
       "\n",
       "    .dataframe thead th {\n",
       "        text-align: right;\n",
       "    }\n",
       "</style>\n",
       "<table border=\"1\" class=\"dataframe\">\n",
       "  <thead>\n",
       "    <tr style=\"text-align: right;\">\n",
       "      <th></th>\n",
       "      <th>Пол</th>\n",
       "      <th>Возраст</th>\n",
       "      <th>Зарплата</th>\n",
       "      <th>Члены семьи</th>\n",
       "    </tr>\n",
       "  </thead>\n",
       "  <tbody>\n",
       "    <tr>\n",
       "      <th>0</th>\n",
       "      <td>893887</td>\n",
       "      <td>1240643</td>\n",
       "      <td>199088</td>\n",
       "      <td>199462</td>\n",
       "    </tr>\n",
       "    <tr>\n",
       "      <th>1</th>\n",
       "      <td>685202</td>\n",
       "      <td>950696</td>\n",
       "      <td>152754</td>\n",
       "      <td>153176</td>\n",
       "    </tr>\n",
       "    <tr>\n",
       "      <th>2</th>\n",
       "      <td>378754</td>\n",
       "      <td>525435</td>\n",
       "      <td>84464</td>\n",
       "      <td>84725</td>\n",
       "    </tr>\n",
       "    <tr>\n",
       "      <th>3</th>\n",
       "      <td>751158</td>\n",
       "      <td>1042827</td>\n",
       "      <td>167172</td>\n",
       "      <td>167377</td>\n",
       "    </tr>\n",
       "    <tr>\n",
       "      <th>4</th>\n",
       "      <td>470543</td>\n",
       "      <td>652942</td>\n",
       "      <td>104862</td>\n",
       "      <td>105111</td>\n",
       "    </tr>\n",
       "  </tbody>\n",
       "</table>\n",
       "</div>"
      ],
      "text/plain": [
       "      Пол  Возраст  Зарплата  Члены семьи\n",
       "0  893887  1240643    199088       199462\n",
       "1  685202   950696    152754       153176\n",
       "2  378754   525435     84464        84725\n",
       "3  751158  1042827    167172       167377\n",
       "4  470543   652942    104862       105111"
      ]
     },
     "execution_count": 9,
     "metadata": {},
     "output_type": "execute_result"
    }
   ],
   "source": [
    "XP = pd.DataFrame(np.array(X) @ P, columns=X.columns).astype(int)\n",
    "XP.head()"
   ]
  },
  {
   "cell_type": "code",
   "execution_count": 10,
   "metadata": {},
   "outputs": [
    {
     "name": "stdout",
     "output_type": "stream",
     "text": [
      "MSE для модели, обученной на X: 0.1233468894\n"
     ]
    }
   ],
   "source": [
    "# обучение линейной регрессии на матрице признаков X\n",
    "model = LinearRegression()\n",
    "model.fit(X, y)\n",
    "predictions = model.predict(X)\n",
    "mse = mean_squared_error(y, predictions)\n",
    "\n",
    "print('MSE для модели, обученной на X:', round(mse, 10))"
   ]
  },
  {
   "cell_type": "code",
   "execution_count": 11,
   "metadata": {},
   "outputs": [
    {
     "name": "stdout",
     "output_type": "stream",
     "text": [
      "MSE для модели, обученной на XP: 0.1233468894\n"
     ]
    }
   ],
   "source": [
    "# обучение линейной регрессии на матрице признаков XP\n",
    "model = LinearRegression()\n",
    "model.fit(XP, y)\n",
    "predictions = model.predict(XP)\n",
    "mse = mean_squared_error(y, predictions)\n",
    "\n",
    "print('MSE для модели, обученной на XP:', round(mse, 10))"
   ]
  },
  {
   "cell_type": "markdown",
   "metadata": {},
   "source": [
    "Ошибки предсказания для обоих моделей одинаковы, что подтверждает правильность ответа."
   ]
  },
  {
   "cell_type": "markdown",
   "metadata": {},
   "source": [
    "## Алгоритм преобразования"
   ]
  },
  {
   "cell_type": "markdown",
   "metadata": {},
   "source": [
    "**Алгоритм** \n",
    "\n",
    "Для защиты персональных данных клиентов можно предложить следующий способ подготовки данных к обучению модели. После предобработки данных (нивелирования выбросов, пропусков и тд.) умножить матрицу признаков на обратимую матрицу со случайными числовыми значениями (матрицу-ключ). В дальнейшем, для получения предсказаний модели необходимо будет аналогичным образом умножить новую матрицу признаков на матрицу-ключ. \n",
    "\n",
    "Также дополнительно, если в качестве алгоритма машинного обучения используется линейная регрессия, после умножения матрицы признаков на матрицу-ключ, можно отшкалировать значения для получения более высоких результатов и обеспечения безопасности."
   ]
  },
  {
   "cell_type": "markdown",
   "metadata": {},
   "source": [
    "**Обоснование**\n",
    "\n",
    "При умножении матрицы признаков на матрицу-ключ качество модели не меняется, что объясняется равенством массивов предсказаний.\n",
    "\n",
    "Предсказания модели в оригинале выражаются формулой: $ a = Xw = X(X^T X)^{-1} X^T y $ \\\n",
    "Предсказания модели с использованием матрицы-ключа: $ a_{new} = XPw = XP ((XP)^T XP)^{-1} (XP)^T y $\n",
    "\n",
    "Используемые свойства матриц:\n",
    "$$(AB)^T = B^T A^T$$\n",
    "$$(AB)^{-1} = B^{-1} A^{-1}$$\n",
    "$$ A A^{-1} = A^{-1} A = E $$\n",
    "\n",
    "Доказательство:\n",
    "$$ a_{new} = XP (P^T X^T XP)^{-1} P^T X^T y $$\n",
    "$$ a_{new} = X (P P^{-1}) (X^TX)^{-1} ((P^T)^{-1} P^T) X^T y$$\n",
    "$$ a_{new} = XE (X^TX)^{-1} EX^T y$$\n",
    "$$ a_{new} = X(X^TX)^{-1}X^T y = a$$"
   ]
  },
  {
   "cell_type": "markdown",
   "metadata": {},
   "source": [
    "<div class=\"alert alert-success\">\n",
    "<b>Комментарий ревьюера ✔️:</b> Да, хорошо, все верно 10/10</div>"
   ]
  },
  {
   "cell_type": "markdown",
   "metadata": {},
   "source": [
    "## Проверка алгоритма"
   ]
  },
  {
   "cell_type": "code",
   "execution_count": 13,
   "metadata": {},
   "outputs": [],
   "source": [
    "# X - DataFrame, key_matrix - кв. матрица, кол-во строк в которой = кол-ву признаков\n",
    "def protected_data(X, key_matrix):\n",
    "    if LA.det(key_matrix) == 0:\n",
    "        print('Матрица-ключ необратима!')\n",
    "        return\n",
    "    \n",
    "    return pd.DataFrame(np.array(X) @ key_matrix, columns=X.columns)"
   ]
  },
  {
   "cell_type": "code",
   "execution_count": 14,
   "metadata": {},
   "outputs": [
    {
     "name": "stdout",
     "output_type": "stream",
     "text": [
      "R2 без шифрования: 0.4249455031\n"
     ]
    }
   ],
   "source": [
    "# без шифрования\n",
    "model = LinearRegression()\n",
    "model.fit(X, y)\n",
    "predictions = model.predict(X)\n",
    "r2 = r2_score(y, predictions)\n",
    "\n",
    "print('R2 без шифрования:', round(r2, 10))"
   ]
  },
  {
   "cell_type": "code",
   "execution_count": 15,
   "metadata": {},
   "outputs": [
    {
     "name": "stdout",
     "output_type": "stream",
     "text": [
      "R2 с использованием шифрования: 0.4249455031\n"
     ]
    }
   ],
   "source": [
    "# c шифрованием\n",
    "key_matrix = np.random.randint (1, 30, (4, 4))\n",
    "\n",
    "model = LinearRegression()\n",
    "model.fit(protected_data(X, key_matrix), y)\n",
    "predictions = model.predict(protected_data(X, key_matrix))\n",
    "r2 = r2_score(y, predictions)\n",
    "\n",
    "print('R2 с использованием шифрования:', round(r2, 10))"
   ]
  },
  {
   "cell_type": "markdown",
   "metadata": {},
   "source": [
    "Алгоритм работает, модель на оригинальных данных и зашифрованных показывает одинаковый результат."
   ]
  },
  {
   "cell_type": "markdown",
   "metadata": {},
   "source": [
    "<div class=\"alert alert-success\">\n",
    "<b>Комментарий ревьюера ✔️:</b> Да, хорошо;)\n",
    "\n",
    "\n",
    "Оставлю немного полезного материала:\n",
    "\n",
    "+  https://academy.yandex.ru/handbook/ml\n",
    "+  https://habr.com/ru/post/595281/\n",
    "</div>"
   ]
  },
  {
   "cell_type": "markdown",
   "metadata": {},
   "source": [
    "**Вывод:**\n",
    "    \n",
    "В рамках данного проекта был предложен алгоритм для шифрования клиентских данных по запросу компании \"Хоть потоп\". Он преобразует датафрейм признаков с помощью умножения на матрицу-ключ, делая его невосстанавливаемым для тех, кто не знает ключа. Обучение линейной регрессии на зашифрованном датафрейме признаков показывает те же результаты, что и обучение на оригинальном. Это доказано математическими формулами и проверено на реальном примере. "
   ]
  },
  {
   "cell_type": "markdown",
   "metadata": {},
   "source": [
    "## Чек-лист проверки"
   ]
  },
  {
   "cell_type": "markdown",
   "metadata": {},
   "source": [
    "Поставьте 'x' в выполненных пунктах. Далее нажмите Shift+Enter."
   ]
  },
  {
   "cell_type": "markdown",
   "metadata": {},
   "source": [
    "- [x]  Jupyter Notebook открыт\n",
    "- [x]  Весь код выполняется без ошибок\n",
    "- [x]  Ячейки с кодом расположены в порядке исполнения\n",
    "- [x]  Выполнен шаг 1: данные загружены\n",
    "- [x]  Выполнен шаг 2: получен ответ на вопрос об умножении матриц\n",
    "    - [x]  Указан правильный вариант ответа\n",
    "    - [x]  Вариант обоснован\n",
    "- [x]  Выполнен шаг 3: предложен алгоритм преобразования\n",
    "    - [x]  Алгоритм описан\n",
    "    - [x]  Алгоритм обоснован\n",
    "- [x]  Выполнен шаг 4: алгоритм проверен\n",
    "    - [x]  Алгоритм реализован\n",
    "    - [x]  Проведено сравнение качества моделей до и после преобразования"
   ]
  },
  {
   "cell_type": "markdown",
   "metadata": {},
   "source": [
    "<font color='blue'><b>Итоговый комментарий ревьюера</b></font>\n",
    "<div class=\"alert alert-success\">\n",
    "<b>Комментарий ревьюера ✔️:</b>Светлана, спасибо за хороший проект!!! Я готов принять работу, но хочу убедиться, что тебе все понятно.<br>\n",
    "Если есть какие либо вопросы я с удовольствием на них отвечу:)</div>\n"
   ]
  },
  {
   "cell_type": "markdown",
   "metadata": {},
   "source": [
    "<div class=\"alert alert-info\"> <b>Комментарий студента:</b> Привет! Вроде я более менее разобралась с темой, пока выполняла проект. Замечание про проверку определителя учла, добавила дополнительно проверку на это в свою функцию преобразования матрицы. Спасибо за ревью! </div>"
   ]
  },
  {
   "cell_type": "markdown",
   "metadata": {},
   "source": [
    "<div class=\"alert alert-success\">\n",
    "<b>Комментарий ревьюера V2✔️:</b>\n",
    "\n",
    "Оставлю хороший учебник по ML:\n",
    "+  https://academy.yandex.ru/handbook/ml\n",
    "    \n",
    "Немного новостей с мира DL(вдруг заинтересует):\n",
    "+  https://habr.com/ru/company/ods/blog/686962/\n",
    "    \n",
    "Вот тут проходят всякие соревнования, можешь себя попробовать:\n",
    "+  https://hacks-ai.ru/championships#competitions\n",
    "    \n",
    "    \n",
    "Если хочешь подтянуть Математику для DS то, например:\n",
    "+  https://mml-book.github.io/book/mml-book.pdf\n",
    "+  https://www.coursera.org/specializations/mathematics-machine-learning\n",
    "Coursera, к сожалению уходит из России...но все равно расскажу лайфхак как там получить курс бесплатно. https://techrocks.ru/2021/07/31/coursera-edx-udacity-free-learning-resources/#:~:text=%D0%9D%D0%BE%20%D0%B5%D1%81%D1%82%D1%8C%20%D0%B5%D1%89%D0%B5%20%D0%BE%D0%B4%D0%BD%D0%B0%20%D0%BE%D0%BF%D1%86%D0%B8%D1%8F,%D1%80%D0%B5%D1%88%D0%B5%D0%BD%D0%B8%D0%B5%20%D0%B2%20%D1%82%D0%B5%D1%87%D0%B5%D0%BD%D0%B8%D0%B5%20%D0%B4%D0%B2%D1%83%D1%85%20%D0%BD%D0%B5%D0%B4%D0%B5%D0%BB%D1%8C.\n",
    "    \n",
    "Возможно, что нить пригодится:  \n",
    "+  https://drive.google.com/file/d/1r8CJHH_hwDM16l1Pnpb4KJzoJFrJ5XRi/view\n",
    "+  https://arxiv.org/ftp/arxiv/papers/2201/2201.00650.pdf\n",
    "+  https://github.com/slgero/testovoe\n",
    "    \n",
    "    \n",
    "Курс от МФТИ математика для DS:\n",
    "    \n",
    "+  https://www.youtube.com/watch?v=xccjt6lOoow&list=PLk4h7dmY2eYHHTyfLyrl7HmP-H3mMAW08&index=1\n",
    "    \n",
    "    \n",
    "Тут много соревнований/лекций:\n",
    "    \n",
    "+  https://ods.ai/\n",
    "    \n",
    "stepic NLP/CV:\n",
    "    \n",
    "+  https://stepik.org/course/54098/syllabus\n",
    "+  https://stepik.org/course/50352/syllabus\n",
    "    \n",
    "Еще есть от ВШЭ:\n",
    "    \n",
    "+  https://www.youtube.com/watch?v=mwjQaNt8qxk&list=PLEwK9wdS5g0og-DcF1apxutSM0GDLHz_3&ab_channel=%D0%A4%D0%9A%D0%9D%D0%92%D0%A8%D0%AD%E2%80%94%D0%B4%D0%B8%D1%81%D1%82%D0%B0%D0%BD%D1%86%D0%B8%D0%BE%D0%BD%D0%BD%D1%8B%D0%B5%D0%B7%D0%B0%D0%BD%D1%8F%D1%82%D0%B8%D1%8F\n",
    "+  https://github.com/hse-ds/iad-deep-learning\n",
    "    \n",
    "    \n",
    "    \n",
    "    \n",
    "Удачи в следующих проектах!!!\n",
    "    \n",
    " \n",
    "\n",
    "\n",
    "</div>"
   ]
  }
 ],
 "metadata": {
  "ExecuteTimeLog": [
   {
    "duration": 439,
    "start_time": "2023-04-14T11:36:47.597Z"
   },
   {
    "duration": 79,
    "start_time": "2023-04-14T11:37:14.755Z"
   },
   {
    "duration": 103,
    "start_time": "2023-04-14T11:37:22.398Z"
   },
   {
    "duration": 16,
    "start_time": "2023-04-14T11:37:33.372Z"
   },
   {
    "duration": 1321,
    "start_time": "2023-04-14T15:54:21.363Z"
   },
   {
    "duration": 153,
    "start_time": "2023-04-14T15:54:24.229Z"
   },
   {
    "duration": 14,
    "start_time": "2023-04-14T15:54:27.348Z"
   },
   {
    "duration": 8,
    "start_time": "2023-04-14T15:54:54.575Z"
   },
   {
    "duration": 7,
    "start_time": "2023-04-14T15:55:40.548Z"
   },
   {
    "duration": 5,
    "start_time": "2023-04-14T15:56:11.471Z"
   },
   {
    "duration": 2,
    "start_time": "2023-04-14T15:56:16.022Z"
   },
   {
    "duration": 4,
    "start_time": "2023-04-14T15:56:19.936Z"
   },
   {
    "duration": 158,
    "start_time": "2023-04-14T15:59:43.716Z"
   },
   {
    "duration": 4,
    "start_time": "2023-04-14T15:59:46.886Z"
   },
   {
    "duration": 7,
    "start_time": "2023-04-14T15:59:48.318Z"
   },
   {
    "duration": 34,
    "start_time": "2023-04-14T16:00:21.286Z"
   },
   {
    "duration": 4,
    "start_time": "2023-04-14T16:01:13.413Z"
   },
   {
    "duration": 14,
    "start_time": "2023-04-14T16:01:23.492Z"
   },
   {
    "duration": 25,
    "start_time": "2023-04-14T16:03:23.985Z"
   },
   {
    "duration": 4,
    "start_time": "2023-04-14T16:04:30.023Z"
   },
   {
    "duration": 63,
    "start_time": "2023-04-14T16:05:29.336Z"
   },
   {
    "duration": 9,
    "start_time": "2023-04-14T16:05:38.859Z"
   },
   {
    "duration": 19,
    "start_time": "2023-04-14T16:06:05.715Z"
   },
   {
    "duration": 49,
    "start_time": "2023-04-14T16:06:16.078Z"
   },
   {
    "duration": 23,
    "start_time": "2023-04-14T16:06:19.304Z"
   },
   {
    "duration": 5,
    "start_time": "2023-04-14T16:06:21.517Z"
   },
   {
    "duration": 9,
    "start_time": "2023-04-14T16:06:24.292Z"
   },
   {
    "duration": 5,
    "start_time": "2023-04-14T16:06:26.021Z"
   },
   {
    "duration": 10,
    "start_time": "2023-04-14T16:06:28.253Z"
   },
   {
    "duration": 38,
    "start_time": "2023-04-14T16:06:30.390Z"
   },
   {
    "duration": 16,
    "start_time": "2023-04-14T16:06:32.222Z"
   },
   {
    "duration": 13,
    "start_time": "2023-04-14T16:07:03.912Z"
   },
   {
    "duration": 12,
    "start_time": "2023-04-14T16:07:07.028Z"
   },
   {
    "duration": 18,
    "start_time": "2023-04-14T16:07:33.710Z"
   },
   {
    "duration": 10,
    "start_time": "2023-04-14T16:07:35.426Z"
   },
   {
    "duration": 4,
    "start_time": "2023-04-14T17:35:05.285Z"
   },
   {
    "duration": 4,
    "start_time": "2023-04-14T17:58:35.302Z"
   },
   {
    "duration": 14,
    "start_time": "2023-04-14T17:59:55.109Z"
   },
   {
    "duration": 14,
    "start_time": "2023-04-14T17:59:57.163Z"
   },
   {
    "duration": 3,
    "start_time": "2023-04-14T18:00:01.456Z"
   },
   {
    "duration": 19,
    "start_time": "2023-04-14T18:00:03.012Z"
   },
   {
    "duration": 1247,
    "start_time": "2023-04-14T18:08:13.905Z"
   },
   {
    "duration": 73,
    "start_time": "2023-04-14T18:08:15.155Z"
   },
   {
    "duration": 18,
    "start_time": "2023-04-14T18:08:15.231Z"
   },
   {
    "duration": 4,
    "start_time": "2023-04-14T18:08:15.254Z"
   },
   {
    "duration": 16,
    "start_time": "2023-04-14T18:08:15.262Z"
   },
   {
    "duration": 12,
    "start_time": "2023-04-14T18:08:15.281Z"
   },
   {
    "duration": 24,
    "start_time": "2023-04-14T18:08:15.295Z"
   },
   {
    "duration": 100,
    "start_time": "2023-04-14T18:08:15.321Z"
   },
   {
    "duration": 26,
    "start_time": "2023-04-14T18:08:15.494Z"
   },
   {
    "duration": 5,
    "start_time": "2023-04-14T18:08:15.524Z"
   },
   {
    "duration": 163,
    "start_time": "2023-04-14T18:08:15.537Z"
   },
   {
    "duration": 101,
    "start_time": "2023-04-14T18:08:15.711Z"
   },
   {
    "duration": 1095,
    "start_time": "2023-04-14T22:46:02.791Z"
   },
   {
    "duration": 100,
    "start_time": "2023-04-14T22:46:04.398Z"
   },
   {
    "duration": 12,
    "start_time": "2023-04-14T22:46:07.483Z"
   },
   {
    "duration": 3,
    "start_time": "2023-04-14T22:46:10.031Z"
   },
   {
    "duration": 4,
    "start_time": "2023-04-14T22:46:13.492Z"
   },
   {
    "duration": 5,
    "start_time": "2023-04-14T22:46:20.153Z"
   },
   {
    "duration": 3,
    "start_time": "2023-04-14T22:47:13.883Z"
   },
   {
    "duration": 4,
    "start_time": "2023-04-14T22:47:24.396Z"
   },
   {
    "duration": 7,
    "start_time": "2023-04-14T22:48:26.260Z"
   },
   {
    "duration": 11,
    "start_time": "2023-04-14T22:48:28.126Z"
   },
   {
    "duration": 10,
    "start_time": "2023-04-14T22:48:29.493Z"
   },
   {
    "duration": 3,
    "start_time": "2023-04-14T22:48:41.445Z"
   },
   {
    "duration": 3,
    "start_time": "2023-04-14T22:50:14.033Z"
   },
   {
    "duration": 9,
    "start_time": "2023-04-14T22:50:15.643Z"
   },
   {
    "duration": 11,
    "start_time": "2023-04-14T22:50:17.919Z"
   }
  ],
  "kernelspec": {
   "display_name": "Python 3 (ipykernel)",
   "language": "python",
   "name": "python3"
  },
  "language_info": {
   "codemirror_mode": {
    "name": "ipython",
    "version": 3
   },
   "file_extension": ".py",
   "mimetype": "text/x-python",
   "name": "python",
   "nbconvert_exporter": "python",
   "pygments_lexer": "ipython3",
   "version": "3.9.5"
  },
  "toc": {
   "base_numbering": 1,
   "nav_menu": {},
   "number_sections": true,
   "sideBar": true,
   "skip_h1_title": true,
   "title_cell": "Содержание",
   "title_sidebar": "Contents",
   "toc_cell": true,
   "toc_position": {},
   "toc_section_display": true,
   "toc_window_display": false
  }
 },
 "nbformat": 4,
 "nbformat_minor": 2
}
