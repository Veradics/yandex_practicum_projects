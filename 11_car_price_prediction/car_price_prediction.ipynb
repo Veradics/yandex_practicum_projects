{
 "cells": [
  {
   "cell_type": "markdown",
   "metadata": {},
   "source": [
    "# Car price prediction"
   ]
  },
  {
   "cell_type": "markdown",
   "metadata": {},
   "source": [
    "The customer is a used car sales service that develops an application to attract new customers. \n",
    "\n",
    "**The main goal of the project** is to develop a model to predict the market value of a car. We have historical data at our disposal including vehicle specifications, equipment and prices.\n",
    "\n",
    "**Course of Work**:\n",
    "1. [Data preprocessing](#preprocessing)\n",
    "2. [Model selection](#models)\n",
    "3. [Final testing](#test)\n",
    "\n",
    "**The ML algorithms** under study are: **Random Forest*, *LightGBM* \\\n",
    "**Quality assessment metric**: RMSE\n",
    "\n",
    "Additionally, it is important for the customer to evaluate the training time and prediction speed of the model."
   ]
  },
  {
   "cell_type": "markdown",
   "metadata": {},
   "source": [
    "<a id='preprocessing'></a>\n",
    "## Data preprocessing"
   ]
  },
  {
   "cell_type": "markdown",
   "metadata": {},
   "source": [
    "### Data loading"
   ]
  },
  {
   "cell_type": "code",
   "execution_count": 1,
   "metadata": {},
   "outputs": [],
   "source": [
    "# imports\n",
    "import pandas as pd\n",
    "import numpy as np\n",
    "import matplotlib.pyplot as plt\n",
    "\n",
    "from sklearn.pipeline import Pipeline\n",
    "from sklearn.compose import ColumnTransformer\n",
    "from sklearn.model_selection import train_test_split, GridSearchCV\n",
    "from sklearn.preprocessing import StandardScaler, OrdinalEncoder\n",
    "from sklearn.metrics import mean_squared_error\n",
    "\n",
    "from sklearn.ensemble import RandomForestRegressor\n",
    "from lightgbm import LGBMRegressor"
   ]
  },
  {
   "cell_type": "code",
   "execution_count": 2,
   "metadata": {},
   "outputs": [
    {
     "data": {
      "text/html": [
       "<div>\n",
       "<style scoped>\n",
       "    .dataframe tbody tr th:only-of-type {\n",
       "        vertical-align: middle;\n",
       "    }\n",
       "\n",
       "    .dataframe tbody tr th {\n",
       "        vertical-align: top;\n",
       "    }\n",
       "\n",
       "    .dataframe thead th {\n",
       "        text-align: right;\n",
       "    }\n",
       "</style>\n",
       "<table border=\"1\" class=\"dataframe\">\n",
       "  <thead>\n",
       "    <tr style=\"text-align: right;\">\n",
       "      <th></th>\n",
       "      <th>DateCrawled</th>\n",
       "      <th>Price</th>\n",
       "      <th>VehicleType</th>\n",
       "      <th>RegistrationYear</th>\n",
       "      <th>Gearbox</th>\n",
       "      <th>Power</th>\n",
       "      <th>Model</th>\n",
       "      <th>Kilometer</th>\n",
       "      <th>RegistrationMonth</th>\n",
       "      <th>FuelType</th>\n",
       "      <th>Brand</th>\n",
       "      <th>Repaired</th>\n",
       "      <th>DateCreated</th>\n",
       "      <th>NumberOfPictures</th>\n",
       "      <th>PostalCode</th>\n",
       "      <th>LastSeen</th>\n",
       "    </tr>\n",
       "  </thead>\n",
       "  <tbody>\n",
       "    <tr>\n",
       "      <th>0</th>\n",
       "      <td>2016-03-24 11:52:17</td>\n",
       "      <td>480</td>\n",
       "      <td>NaN</td>\n",
       "      <td>1993</td>\n",
       "      <td>manual</td>\n",
       "      <td>0</td>\n",
       "      <td>golf</td>\n",
       "      <td>150000</td>\n",
       "      <td>0</td>\n",
       "      <td>petrol</td>\n",
       "      <td>volkswagen</td>\n",
       "      <td>NaN</td>\n",
       "      <td>2016-03-24 00:00:00</td>\n",
       "      <td>0</td>\n",
       "      <td>70435</td>\n",
       "      <td>2016-04-07 03:16:57</td>\n",
       "    </tr>\n",
       "    <tr>\n",
       "      <th>1</th>\n",
       "      <td>2016-03-24 10:58:45</td>\n",
       "      <td>18300</td>\n",
       "      <td>coupe</td>\n",
       "      <td>2011</td>\n",
       "      <td>manual</td>\n",
       "      <td>190</td>\n",
       "      <td>NaN</td>\n",
       "      <td>125000</td>\n",
       "      <td>5</td>\n",
       "      <td>gasoline</td>\n",
       "      <td>audi</td>\n",
       "      <td>yes</td>\n",
       "      <td>2016-03-24 00:00:00</td>\n",
       "      <td>0</td>\n",
       "      <td>66954</td>\n",
       "      <td>2016-04-07 01:46:50</td>\n",
       "    </tr>\n",
       "    <tr>\n",
       "      <th>2</th>\n",
       "      <td>2016-03-14 12:52:21</td>\n",
       "      <td>9800</td>\n",
       "      <td>suv</td>\n",
       "      <td>2004</td>\n",
       "      <td>auto</td>\n",
       "      <td>163</td>\n",
       "      <td>grand</td>\n",
       "      <td>125000</td>\n",
       "      <td>8</td>\n",
       "      <td>gasoline</td>\n",
       "      <td>jeep</td>\n",
       "      <td>NaN</td>\n",
       "      <td>2016-03-14 00:00:00</td>\n",
       "      <td>0</td>\n",
       "      <td>90480</td>\n",
       "      <td>2016-04-05 12:47:46</td>\n",
       "    </tr>\n",
       "    <tr>\n",
       "      <th>3</th>\n",
       "      <td>2016-03-17 16:54:04</td>\n",
       "      <td>1500</td>\n",
       "      <td>small</td>\n",
       "      <td>2001</td>\n",
       "      <td>manual</td>\n",
       "      <td>75</td>\n",
       "      <td>golf</td>\n",
       "      <td>150000</td>\n",
       "      <td>6</td>\n",
       "      <td>petrol</td>\n",
       "      <td>volkswagen</td>\n",
       "      <td>no</td>\n",
       "      <td>2016-03-17 00:00:00</td>\n",
       "      <td>0</td>\n",
       "      <td>91074</td>\n",
       "      <td>2016-03-17 17:40:17</td>\n",
       "    </tr>\n",
       "    <tr>\n",
       "      <th>4</th>\n",
       "      <td>2016-03-31 17:25:20</td>\n",
       "      <td>3600</td>\n",
       "      <td>small</td>\n",
       "      <td>2008</td>\n",
       "      <td>manual</td>\n",
       "      <td>69</td>\n",
       "      <td>fabia</td>\n",
       "      <td>90000</td>\n",
       "      <td>7</td>\n",
       "      <td>gasoline</td>\n",
       "      <td>skoda</td>\n",
       "      <td>no</td>\n",
       "      <td>2016-03-31 00:00:00</td>\n",
       "      <td>0</td>\n",
       "      <td>60437</td>\n",
       "      <td>2016-04-06 10:17:21</td>\n",
       "    </tr>\n",
       "  </tbody>\n",
       "</table>\n",
       "</div>"
      ],
      "text/plain": [
       "           DateCrawled  Price VehicleType  RegistrationYear Gearbox  Power  \\\n",
       "0  2016-03-24 11:52:17    480         NaN              1993  manual      0   \n",
       "1  2016-03-24 10:58:45  18300       coupe              2011  manual    190   \n",
       "2  2016-03-14 12:52:21   9800         suv              2004    auto    163   \n",
       "3  2016-03-17 16:54:04   1500       small              2001  manual     75   \n",
       "4  2016-03-31 17:25:20   3600       small              2008  manual     69   \n",
       "\n",
       "   Model  Kilometer  RegistrationMonth  FuelType       Brand Repaired  \\\n",
       "0   golf     150000                  0    petrol  volkswagen      NaN   \n",
       "1    NaN     125000                  5  gasoline        audi      yes   \n",
       "2  grand     125000                  8  gasoline        jeep      NaN   \n",
       "3   golf     150000                  6    petrol  volkswagen       no   \n",
       "4  fabia      90000                  7  gasoline       skoda       no   \n",
       "\n",
       "           DateCreated  NumberOfPictures  PostalCode             LastSeen  \n",
       "0  2016-03-24 00:00:00                 0       70435  2016-04-07 03:16:57  \n",
       "1  2016-03-24 00:00:00                 0       66954  2016-04-07 01:46:50  \n",
       "2  2016-03-14 00:00:00                 0       90480  2016-04-05 12:47:46  \n",
       "3  2016-03-17 00:00:00                 0       91074  2016-03-17 17:40:17  \n",
       "4  2016-03-31 00:00:00                 0       60437  2016-04-06 10:17:21  "
      ]
     },
     "execution_count": 2,
     "metadata": {},
     "output_type": "execute_result"
    }
   ],
   "source": [
    "# data\n",
    "data = pd.read_csv('/datasets/autos.csv')\n",
    "data.head()"
   ]
  },
  {
   "cell_type": "code",
   "execution_count": 3,
   "metadata": {},
   "outputs": [
    {
     "name": "stdout",
     "output_type": "stream",
     "text": [
      "<class 'pandas.core.frame.DataFrame'>\n",
      "RangeIndex: 354369 entries, 0 to 354368\n",
      "Data columns (total 16 columns):\n",
      " #   Column             Non-Null Count   Dtype \n",
      "---  ------             --------------   ----- \n",
      " 0   DateCrawled        354369 non-null  object\n",
      " 1   Price              354369 non-null  int64 \n",
      " 2   VehicleType        316879 non-null  object\n",
      " 3   RegistrationYear   354369 non-null  int64 \n",
      " 4   Gearbox            334536 non-null  object\n",
      " 5   Power              354369 non-null  int64 \n",
      " 6   Model              334664 non-null  object\n",
      " 7   Kilometer          354369 non-null  int64 \n",
      " 8   RegistrationMonth  354369 non-null  int64 \n",
      " 9   FuelType           321474 non-null  object\n",
      " 10  Brand              354369 non-null  object\n",
      " 11  Repaired           283215 non-null  object\n",
      " 12  DateCreated        354369 non-null  object\n",
      " 13  NumberOfPictures   354369 non-null  int64 \n",
      " 14  PostalCode         354369 non-null  int64 \n",
      " 15  LastSeen           354369 non-null  object\n",
      "dtypes: int64(7), object(9)\n",
      "memory usage: 43.3+ MB\n"
     ]
    }
   ],
   "source": [
    "data.info()"
   ]
  },
  {
   "cell_type": "markdown",
   "metadata": {},
   "source": [
    "### Data description\n",
    "There are a total of 15 columns and just over 350k rows in the dataset.\n",
    "\n",
    "**Attributes**.\n",
    "- `DateCrawled` - date when the questionnaire was downloaded from the database\n",
    "- `VehicleType` - car body type\n",
    "- `RegistrationYear` - vehicle registration year\n",
    "- `Gearbox` - type of gearbox\n",
    "- `Power` - power (hp)\n",
    "- `Model` - car model\n",
    "- `Kilometer` - mileage (km)\n",
    "- `RegistrationMonth` - vehicle registration month\n",
    "- `FuelType` - fuel type\n",
    "- `Brand` - car make\n",
    "- `Repaired` - whether the car has been repaired or not\n",
    "- `DateCreated` - date of questionnaire creation\n",
    "- `NumberOfPictures` - number of photos of the car\n",
    "- `PostalCode` - postal code of questionnaire owner (user)\n",
    "- `LastSeen` - date of the last activity of the user\n",
    "\n",
    "**Target attribute**\n",
    "- `Price` - price (euro)"
   ]
  },
  {
   "cell_type": "code",
   "execution_count": 4,
   "metadata": {},
   "outputs": [
    {
     "data": {
      "text/plain": [
       "DateCrawled              0\n",
       "Price                    0\n",
       "VehicleType          37490\n",
       "RegistrationYear         0\n",
       "Gearbox              19833\n",
       "Power                    0\n",
       "Model                19705\n",
       "Kilometer                0\n",
       "RegistrationMonth        0\n",
       "FuelType             32895\n",
       "Brand                    0\n",
       "Repaired             71154\n",
       "DateCreated              0\n",
       "NumberOfPictures         0\n",
       "PostalCode               0\n",
       "LastSeen                 0\n",
       "dtype: int64"
      ]
     },
     "execution_count": 4,
     "metadata": {},
     "output_type": "execute_result"
    }
   ],
   "source": [
    "# missing values\n",
    "data.isna().sum()"
   ]
  },
  {
   "cell_type": "code",
   "execution_count": 5,
   "metadata": {},
   "outputs": [
    {
     "data": {
      "image/png": "[encoded data removed]",
      "text/plain": [
       "<Figure size 864x504 with 9 Axes>"
      ]
     },
     "metadata": {
      "needs_background": "light"
     },
     "output_type": "display_data"
    }
   ],
   "source": [
    "data.hist(figsize=(12, 7))\n",
    "plt.show()"
   ]
  },
  {
   "cell_type": "markdown",
   "metadata": {},
   "source": [
    "Gaps are observed in 5 categorical columns - `VehicleType`, `Gearbox`, `FuelType`, `Model`, `Repaired`. These should be eliminated or filled in with suitable values. Also, some numeric should be checked for abnormal values. These include: `RegistrationYear`, `Power`, `NumberOfPictures`."
   ]
  },
  {
   "cell_type": "markdown",
   "metadata": {},
   "source": [
    "### Data preprocessing\n",
    "\n",
    "In the dataset there are 3 columns with dates + column with postal code, related to the questionnaire itself or to the user and not affecting the value of the car itself, i.e. useless for further training. Let's delete everything except the column with the date of questionnaire upload. It will be needed later to check the correctness of the registration year values."
   ]
  },
  {
   "cell_type": "code",
   "execution_count": 6,
   "metadata": {},
   "outputs": [],
   "source": [
    "data.drop(columns=['DateCreated', 'LastSeen', 'PostalCode'], inplace=True)"
   ]
  },
  {
   "cell_type": "code",
   "execution_count": 7,
   "metadata": {},
   "outputs": [
    {
     "data": {
      "text/plain": [
       "array([0])"
      ]
     },
     "execution_count": 7,
     "metadata": {},
     "output_type": "execute_result"
    }
   ],
   "source": [
    "# unique values in the column with picture info\n",
    "data['NumberOfPictures'].unique()"
   ]
  },
  {
   "cell_type": "markdown",
   "metadata": {},
   "source": [
    "The `NumberOfPictures` column consists entirely of 0, so it is not needed either."
   ]
  },
  {
   "cell_type": "code",
   "execution_count": 8,
   "metadata": {},
   "outputs": [],
   "source": [
    "data.drop(columns=['NumberOfPictures'], inplace=True)"
   ]
  },
  {
   "cell_type": "markdown",
   "metadata": {},
   "source": [
    "**Categorical features** \n",
    "\n",
    "`VehicleType`, `Gearbox`, `FuelType` and `Repaired` - all of these columns have quite a high number of omissions (>5%)."
   ]
  },
  {
   "cell_type": "code",
   "execution_count": 9,
   "metadata": {},
   "outputs": [
    {
     "data": {
      "text/plain": [
       "array([nan, 'coupe', 'suv', 'small', 'sedan', 'convertible', 'bus',\n",
       "       'wagon', 'other'], dtype=object)"
      ]
     },
     "execution_count": 9,
     "metadata": {},
     "output_type": "execute_result"
    }
   ],
   "source": [
    "data['VehicleType'].unique()"
   ]
  },
  {
   "cell_type": "code",
   "execution_count": 10,
   "metadata": {},
   "outputs": [
    {
     "data": {
      "text/plain": [
       "array(['petrol', 'gasoline', nan, 'lpg', 'other', 'hybrid', 'cng',\n",
       "       'electric'], dtype=object)"
      ]
     },
     "execution_count": 10,
     "metadata": {},
     "output_type": "execute_result"
    }
   ],
   "source": [
    "data['FuelType'].unique()"
   ]
  },
  {
   "cell_type": "code",
   "execution_count": 11,
   "metadata": {},
   "outputs": [
    {
     "data": {
      "text/plain": [
       "array(['manual', 'auto', nan], dtype=object)"
      ]
     },
     "execution_count": 11,
     "metadata": {},
     "output_type": "execute_result"
    }
   ],
   "source": [
    "data['Gearbox'].unique()"
   ]
  },
  {
   "cell_type": "code",
   "execution_count": 12,
   "metadata": {},
   "outputs": [
    {
     "data": {
      "text/plain": [
       "array([nan, 'yes', 'no'], dtype=object)"
      ]
     },
     "execution_count": 12,
     "metadata": {},
     "output_type": "execute_result"
    }
   ],
   "source": [
    "data['Repaired'].unique()"
   ]
  },
  {
   "cell_type": "markdown",
   "metadata": {},
   "source": [
    "Two of the listed attributes already have the category \"other\", so let's fill the missing values with it. In the `Gearbox` and `Repaired` columns there is no such category, so let's create a new one - \"unknown\"."
   ]
  },
  {
   "cell_type": "code",
   "execution_count": 13,
   "metadata": {},
   "outputs": [],
   "source": [
    "# filling in omissions\n",
    "data['VehicleType'].fillna('other', inplace=True)\n",
    "data['FuelType'].fillna('other', inplace=True)\n",
    "\n",
    "data['Gearbox'].fillna('unknown', inplace=True)\n",
    "data['Repaired'].fillna('unknown', inplace=True)"
   ]
  },
  {
   "cell_type": "code",
   "execution_count": 14,
   "metadata": {},
   "outputs": [
    {
     "data": {
      "text/plain": [
       "251"
      ]
     },
     "execution_count": 14,
     "metadata": {},
     "output_type": "execute_result"
    }
   ],
   "source": [
    "# unique car models\n",
    "len(data['Model'].unique())"
   ]
  },
  {
   "cell_type": "markdown",
   "metadata": {},
   "source": [
    "As for the `Model` column, it contains too many categories (>250 unique values). The `Brand` column is much more valuable, so let's keep it only."
   ]
  },
  {
   "cell_type": "code",
   "execution_count": 15,
   "metadata": {},
   "outputs": [],
   "source": [
    "data.drop(columns='Model', inplace=True)"
   ]
  },
  {
   "cell_type": "markdown",
   "metadata": {},
   "source": [
    "In the `FuelType` attribute there are two categories that denote the same thing - gasoline and petrol. Let's keep only one of them."
   ]
  },
  {
   "cell_type": "code",
   "execution_count": 16,
   "metadata": {},
   "outputs": [],
   "source": [
    "data['FuelType'] = data['FuelType'].replace('gasoline', 'petrol')"
   ]
  },
  {
   "cell_type": "markdown",
   "metadata": {},
   "source": [
    "**Numeric features** \\\n",
    "Vehicle power in horsepower:"
   ]
  },
  {
   "cell_type": "code",
   "execution_count": 17,
   "metadata": {},
   "outputs": [
    {
     "data": {
      "text/plain": [
       "count    354369.000000\n",
       "mean        110.094337\n",
       "std         189.850405\n",
       "min           0.000000\n",
       "25%          69.000000\n",
       "50%         105.000000\n",
       "75%         143.000000\n",
       "max       20000.000000\n",
       "Name: Power, dtype: float64"
      ]
     },
     "execution_count": 17,
     "metadata": {},
     "output_type": "execute_result"
    }
   ],
   "source": [
    "data['Power'].describe()"
   ]
  },
  {
   "cell_type": "code",
   "execution_count": 18,
   "metadata": {},
   "outputs": [
    {
     "data": {
      "image/png": "[encoded data removed]",
      "text/plain": [
       "<Figure size 432x288 with 1 Axes>"
      ]
     },
     "metadata": {
      "needs_background": "light"
     },
     "output_type": "display_data"
    }
   ],
   "source": [
    "data.boxplot('Power')\n",
    "plt.show()"
   ]
  },
  {
   "cell_type": "code",
   "execution_count": 19,
   "metadata": {},
   "outputs": [
    {
     "data": {
      "text/plain": [
       "0.0003386300720435478"
      ]
     },
     "execution_count": 19,
     "metadata": {},
     "output_type": "execute_result"
    }
   ],
   "source": [
    "# % of invalid values\n",
    "data.query('Power > 2000').shape[0] / data.shape[0]"
   ]
  },
  {
   "cell_type": "markdown",
   "metadata": {},
   "source": [
    "Maximum registered vehicle horsepower in horsepower - 2000 hp. Let's delete all lines containing incorrect values."
   ]
  },
  {
   "cell_type": "code",
   "execution_count": 20,
   "metadata": {},
   "outputs": [],
   "source": [
    "data = data.loc[data['Power'] <= 2000]"
   ]
  },
  {
   "cell_type": "code",
   "execution_count": 21,
   "metadata": {
    "scrolled": true
   },
   "outputs": [
    {
     "data": {
      "text/plain": [
       "0.11355007353584626"
      ]
     },
     "execution_count": 21,
     "metadata": {},
     "output_type": "execute_result"
    }
   ],
   "source": [
    "# % of values equal to 0\n",
    "data.query('Power == 0').shape[0] / data.shape[0]"
   ]
  },
  {
   "cell_type": "markdown",
   "metadata": {},
   "source": [
    "The power of the car also cannot be equal to 0 hp. However, there are many rows with such values - it is undesirable to delete them. Let's replace 0 with the column median."
   ]
  },
  {
   "cell_type": "code",
   "execution_count": 22,
   "metadata": {},
   "outputs": [
    {
     "data": {
      "text/plain": [
       "1050.0"
      ]
     },
     "execution_count": 22,
     "metadata": {},
     "output_type": "execute_result"
    }
   ],
   "source": [
    "data.query('Power == 0')['Price'].median() "
   ]
  },
  {
   "cell_type": "code",
   "execution_count": 23,
   "metadata": {},
   "outputs": [
    {
     "data": {
      "text/plain": [
       "800.0"
      ]
     },
     "execution_count": 23,
     "metadata": {},
     "output_type": "execute_result"
    }
   ],
   "source": [
    "data.query('Power != 0 and Power < 50')['Price'].median()"
   ]
  },
  {
   "cell_type": "code",
   "execution_count": 24,
   "metadata": {},
   "outputs": [],
   "source": [
    "data['Power'] = data['Power'].replace(0, int(data['Power'].median()))"
   ]
  },
  {
   "cell_type": "markdown",
   "metadata": {},
   "source": [
    "Registration year and month:"
   ]
  },
  {
   "cell_type": "code",
   "execution_count": 25,
   "metadata": {},
   "outputs": [
    {
     "data": {
      "text/plain": [
       "count    354249.000000\n",
       "mean       2004.223636\n",
       "std          90.087089\n",
       "min        1000.000000\n",
       "25%        1999.000000\n",
       "50%        2003.000000\n",
       "75%        2008.000000\n",
       "max        9999.000000\n",
       "Name: RegistrationYear, dtype: float64"
      ]
     },
     "execution_count": 25,
     "metadata": {},
     "output_type": "execute_result"
    }
   ],
   "source": [
    "data['RegistrationYear'].describe()"
   ]
  },
  {
   "cell_type": "code",
   "execution_count": 26,
   "metadata": {},
   "outputs": [
    {
     "data": {
      "image/png": "[encoded data removed]",
      "text/plain": [
       "<Figure size 432x288 with 1 Axes>"
      ]
     },
     "metadata": {
      "needs_background": "light"
     },
     "output_type": "display_data"
    }
   ],
   "source": [
    "data.boxplot('RegistrationYear')\n",
    "plt.show()"
   ]
  },
  {
   "cell_type": "code",
   "execution_count": 27,
   "metadata": {},
   "outputs": [
    {
     "data": {
      "image/png": "[encoded data removed]",
      "text/plain": [
       "<Figure size 432x288 with 1 Axes>"
      ]
     },
     "metadata": {
      "needs_background": "light"
     },
     "output_type": "display_data"
    }
   ],
   "source": [
    "data['RegistrationYear'].hist(range=(1960, 2023))\n",
    "plt.show()"
   ]
  },
  {
   "cell_type": "code",
   "execution_count": 28,
   "metadata": {},
   "outputs": [
    {
     "data": {
      "text/plain": [
       "0.9985179915821922"
      ]
     },
     "execution_count": 28,
     "metadata": {},
     "output_type": "execute_result"
    }
   ],
   "source": [
    "# % of valid values\n",
    "data.query('RegistrationYear >= 1960 and RegistrationYear <= 2023').shape[0] / data.shape[0]"
   ]
  },
  {
   "cell_type": "markdown",
   "metadata": {},
   "source": [
    "All values in the column with year of enrollment less than 1960 and greater than 2023 are outliers and represent less than 1% of the entire dataframe. Let's exclude them."
   ]
  },
  {
   "cell_type": "code",
   "execution_count": 29,
   "metadata": {},
   "outputs": [],
   "source": [
    "data = data.loc[(data['RegistrationYear'] >= 1960)&(data['RegistrationYear'] <= 2023)]"
   ]
  },
  {
   "cell_type": "code",
   "execution_count": 30,
   "metadata": {},
   "outputs": [
    {
     "data": {
      "text/plain": [
       "0.040754938878899936"
      ]
     },
     "execution_count": 30,
     "metadata": {},
     "output_type": "execute_result"
    }
   ],
   "source": [
    "# rows where the uploading year is less than the registration year\n",
    "data['YearCrawled'] = pd.to_datetime(data['DateCrawled']).dt.year\n",
    "data.query('YearCrawled < RegistrationYear')['Price'].count() / data.shape[0]"
   ]
  },
  {
   "cell_type": "markdown",
   "metadata": {},
   "source": [
    "In 4% of rows, the upload of the questionnaire occurred before the vehicle registration. That's a mistake. Let's delete these rows."
   ]
  },
  {
   "cell_type": "code",
   "execution_count": 31,
   "metadata": {},
   "outputs": [],
   "source": [
    "data = data.loc[data['YearCrawled'] >= data['RegistrationYear']]"
   ]
  },
  {
   "cell_type": "markdown",
   "metadata": {},
   "source": [
    "The columns related to the time of uploading questionnaires will not be needed in the future, so they can be deleted."
   ]
  },
  {
   "cell_type": "code",
   "execution_count": 32,
   "metadata": {},
   "outputs": [],
   "source": [
    "data.drop(columns=['YearCrawled', 'DateCrawled'], inplace=True)"
   ]
  },
  {
   "cell_type": "markdown",
   "metadata": {},
   "source": [
    "Unlike the year of registration, the month does not particularly affect the value of the car, as confirmed by the correlation coefficient. \\\n",
    "The column can be deleted."
   ]
  },
  {
   "cell_type": "code",
   "execution_count": 33,
   "metadata": {},
   "outputs": [
    {
     "data": {
      "text/plain": [
       "Price                1.000000\n",
       "RegistrationYear     0.453736\n",
       "Power                0.412029\n",
       "Kilometer           -0.337742\n",
       "RegistrationMonth    0.107361\n",
       "Name: Price, dtype: float64"
      ]
     },
     "execution_count": 33,
     "metadata": {},
     "output_type": "execute_result"
    }
   ],
   "source": [
    "# correlation coefficient\n",
    "data.corr()['Price']"
   ]
  },
  {
   "cell_type": "code",
   "execution_count": 34,
   "metadata": {},
   "outputs": [],
   "source": [
    "data.drop(columns='RegistrationMonth', inplace=True)"
   ]
  },
  {
   "cell_type": "markdown",
   "metadata": {},
   "source": [
    "Additionally, we consider anomalies in the target feature to ensure that the model learns only from the correct values."
   ]
  },
  {
   "cell_type": "code",
   "execution_count": 35,
   "metadata": {},
   "outputs": [
    {
     "data": {
      "image/png": "[encoded data removed]",
      "text/plain": [
       "<Figure size 432x288 with 1 Axes>"
      ]
     },
     "metadata": {
      "needs_background": "light"
     },
     "output_type": "display_data"
    }
   ],
   "source": [
    "data.boxplot('Price')\n",
    "plt.show()"
   ]
  },
  {
   "cell_type": "code",
   "execution_count": 36,
   "metadata": {},
   "outputs": [
    {
     "data": {
      "text/plain": [
       "count    339308.000000\n",
       "mean       4470.230941\n",
       "std        4543.893425\n",
       "min           0.000000\n",
       "25%        1100.000000\n",
       "50%        2799.000000\n",
       "75%        6500.000000\n",
       "max       20000.000000\n",
       "Name: Price, dtype: float64"
      ]
     },
     "execution_count": 36,
     "metadata": {},
     "output_type": "execute_result"
    }
   ],
   "source": [
    "data['Price'].describe()"
   ]
  },
  {
   "cell_type": "code",
   "execution_count": 37,
   "metadata": {},
   "outputs": [
    {
     "data": {
      "text/plain": [
       "9933"
      ]
     },
     "execution_count": 37,
     "metadata": {},
     "output_type": "execute_result"
    }
   ],
   "source": [
    "data.query('Price == 0')['Price'].count()"
   ]
  },
  {
   "cell_type": "code",
   "execution_count": 38,
   "metadata": {},
   "outputs": [
    {
     "data": {
      "text/plain": [
       "11098"
      ]
     },
     "execution_count": 38,
     "metadata": {},
     "output_type": "execute_result"
    }
   ],
   "source": [
    "data.query('Price < 10')['Price'].count()"
   ]
  },
  {
   "cell_type": "markdown",
   "metadata": {},
   "source": [
    "The upper limits of car prices are within realistic limits. However, it is unlikely that anyone would give a car away for free or for less than 10 euros. Since the incorrect values have been identified in the target feature, it would be wrong to fill them with some calculated value, as it may strongly affect the importance of the features and the correctness of the predictions. Let's delete the incorrect rows."
   ]
  },
  {
   "cell_type": "code",
   "execution_count": 39,
   "metadata": {},
   "outputs": [],
   "source": [
    "data = data.loc[data['Price'] >= 10]"
   ]
  },
  {
   "cell_type": "code",
   "execution_count": 40,
   "metadata": {},
   "outputs": [
    {
     "name": "stdout",
     "output_type": "stream",
     "text": [
      "<class 'pandas.core.frame.DataFrame'>\n",
      "Int64Index: 328210 entries, 0 to 354368\n",
      "Data columns (total 9 columns):\n",
      " #   Column            Non-Null Count   Dtype \n",
      "---  ------            --------------   ----- \n",
      " 0   Price             328210 non-null  int64 \n",
      " 1   VehicleType       328210 non-null  object\n",
      " 2   RegistrationYear  328210 non-null  int64 \n",
      " 3   Gearbox           328210 non-null  object\n",
      " 4   Power             328210 non-null  int64 \n",
      " 5   Kilometer         328210 non-null  int64 \n",
      " 6   FuelType          328210 non-null  object\n",
      " 7   Brand             328210 non-null  object\n",
      " 8   Repaired          328210 non-null  object\n",
      "dtypes: int64(4), object(5)\n",
      "memory usage: 25.0+ MB\n"
     ]
    }
   ],
   "source": [
    "# initial preprocessing result\n",
    "data.info()"
   ]
  },
  {
   "cell_type": "markdown",
   "metadata": {},
   "source": [
    "Thus, the number of features was reduced to 7, 3 of which are numeric. All gaps in the categorical columns were filled, mainly by using a blank value (\"other\" or \"unknown\"), all abnormal values in the numeric columns were eliminated or corrected. At the same time, the volume of the dataset was mostly preserved.\n",
    "\n",
    "Further preprocessing - scaling of numeric attributes, coding of categorical attributes will be conveniently used as part of the Pipeline."
   ]
  },
  {
   "cell_type": "code",
   "execution_count": 41,
   "metadata": {},
   "outputs": [],
   "source": [
    "# train and test sets\n",
    "features = data.drop(columns='Price')\n",
    "target = data['Price']\n",
    "\n",
    "features_train, features_test, target_train, target_test = train_test_split(features, target, test_size=0.25, random_state=123)"
   ]
  },
  {
   "cell_type": "markdown",
   "metadata": {},
   "source": [
    "<a id='models'></a>\n",
    "## Model selection"
   ]
  },
  {
   "cell_type": "markdown",
   "metadata": {},
   "source": [
    "Let's compare 2 most frequently used machine learning algorithms - *Random Forest* and *Gradient Busting*. We will select parameters using GridSearchCV. To encode categorical attributes, we will choose the *Label encoding* method, which does not increase the dataset size."
   ]
  },
  {
   "cell_type": "code",
   "execution_count": 42,
   "metadata": {},
   "outputs": [],
   "source": [
    "# categorical columns\n",
    "numeric = ['RegistrationYear', 'Power', 'Kilometer']\n",
    "categorical = ['VehicleType', 'Gearbox', 'FuelType', 'Brand', 'Repaired']\n",
    "\n",
    "preprocessor = ColumnTransformer(\n",
    "    transformers=[\n",
    "        ('num', StandardScaler(), numeric),\n",
    "        ('cat', OrdinalEncoder(), categorical)])"
   ]
  },
  {
   "cell_type": "code",
   "execution_count": 43,
   "metadata": {},
   "outputs": [],
   "source": [
    "# del data"
   ]
  },
  {
   "cell_type": "code",
   "execution_count": 44,
   "metadata": {},
   "outputs": [
    {
     "name": "stdout",
     "output_type": "stream",
     "text": [
      "Лучшие параметры: {'rf__max_depth': 8, 'rf__n_estimators': 80}\n",
      "Лучший результат (RMSE): 2063.50\n",
      "Временные результаты для лучшей модели:\n"
     ]
    },
    {
     "data": {
      "text/html": [
       "<div>\n",
       "<style scoped>\n",
       "    .dataframe tbody tr th:only-of-type {\n",
       "        vertical-align: middle;\n",
       "    }\n",
       "\n",
       "    .dataframe tbody tr th {\n",
       "        vertical-align: top;\n",
       "    }\n",
       "\n",
       "    .dataframe thead th {\n",
       "        text-align: right;\n",
       "    }\n",
       "</style>\n",
       "<table border=\"1\" class=\"dataframe\">\n",
       "  <thead>\n",
       "    <tr style=\"text-align: right;\">\n",
       "      <th></th>\n",
       "      <th>mean_fit_time</th>\n",
       "      <th>mean_score_time</th>\n",
       "    </tr>\n",
       "  </thead>\n",
       "  <tbody>\n",
       "    <tr>\n",
       "      <th>3</th>\n",
       "      <td>43.482743</td>\n",
       "      <td>0.964603</td>\n",
       "    </tr>\n",
       "  </tbody>\n",
       "</table>\n",
       "</div>"
      ],
      "text/plain": [
       "   mean_fit_time  mean_score_time\n",
       "3      43.482743         0.964603"
      ]
     },
     "metadata": {},
     "output_type": "display_data"
    },
    {
     "name": "stdout",
     "output_type": "stream",
     "text": [
      "CPU times: user 18.9 s, sys: 235 ms, total: 19.1 s\n",
      "Wall time: 2min 43s\n"
     ]
    }
   ],
   "source": [
    "%%time\n",
    "# Random Forest\n",
    "\n",
    "params = {'rf__n_estimators': [50, 80],\n",
    "          'rf__max_depth': [5, 8]}\n",
    "\n",
    "pipe = Pipeline(steps=[\n",
    "    ('preprocessor',  preprocessor),   \n",
    "    ('rf', RandomForestRegressor())])  \n",
    "\n",
    "grid = GridSearchCV(pipe, param_grid=params, scoring='neg_root_mean_squared_error', cv=3, n_jobs=4)\n",
    "grid.fit(features_train, target_train)\n",
    "\n",
    "print(\"Лучшие параметры: {}\".format(grid.best_params_))\n",
    "print(\"Лучший результат (RMSE): {:.2f}\".format(-grid.best_score_))\n",
    "print('Временные результаты для лучшей модели:')\n",
    "display(pd.DataFrame(grid.cv_results_).query('rank_test_score == 1')[['mean_fit_time', 'mean_score_time']])"
   ]
  },
  {
   "cell_type": "code",
   "execution_count": 45,
   "metadata": {},
   "outputs": [
    {
     "name": "stdout",
     "output_type": "stream",
     "text": [
      "Лучшие параметры: {'lgbm__learning_rate': 0.5, 'lgbm__max_depth': 8, 'lgbm__n_estimators': 80}\n",
      "Лучший результат (RMSE): 1711.53\n",
      "Временные результаты для лучшей модели:\n"
     ]
    },
    {
     "data": {
      "text/html": [
       "<div>\n",
       "<style scoped>\n",
       "    .dataframe tbody tr th:only-of-type {\n",
       "        vertical-align: middle;\n",
       "    }\n",
       "\n",
       "    .dataframe tbody tr th {\n",
       "        vertical-align: top;\n",
       "    }\n",
       "\n",
       "    .dataframe thead th {\n",
       "        text-align: right;\n",
       "    }\n",
       "</style>\n",
       "<table border=\"1\" class=\"dataframe\">\n",
       "  <thead>\n",
       "    <tr style=\"text-align: right;\">\n",
       "      <th></th>\n",
       "      <th>mean_fit_time</th>\n",
       "      <th>mean_score_time</th>\n",
       "    </tr>\n",
       "  </thead>\n",
       "  <tbody>\n",
       "    <tr>\n",
       "      <th>3</th>\n",
       "      <td>5.812782</td>\n",
       "      <td>0.968252</td>\n",
       "    </tr>\n",
       "  </tbody>\n",
       "</table>\n",
       "</div>"
      ],
      "text/plain": [
       "   mean_fit_time  mean_score_time\n",
       "3       5.812782         0.968252"
      ]
     },
     "metadata": {},
     "output_type": "display_data"
    },
    {
     "name": "stdout",
     "output_type": "stream",
     "text": [
      "CPU times: user 1min 21s, sys: 971 ms, total: 1min 22s\n",
      "Wall time: 2min 28s\n"
     ]
    }
   ],
   "source": [
    "%%time\n",
    "# Gradient boosting\n",
    "\n",
    "params = {'lgbm__n_estimators': [50, 80],\n",
    "          'lgbm__max_depth': [5, 8], \n",
    "          'lgbm__learning_rate': [0.5, 1]}\n",
    "\n",
    "pipe = Pipeline(steps=[\n",
    "    ('preprocessor',  preprocessor),  \n",
    "    ('lgbm', LGBMRegressor())])       \n",
    "\n",
    "grid = GridSearchCV(pipe, param_grid=params, scoring='neg_root_mean_squared_error', cv=5, n_jobs=4)\n",
    "grid.fit(features_train, target_train)\n",
    "\n",
    "print(\"Лучшие параметры: {}\".format(grid.best_params_))\n",
    "print(\"Лучший результат (RMSE): {:.2f}\".format(-grid.best_score_))\n",
    "print('Временные результаты для лучшей модели:')\n",
    "display(pd.DataFrame(grid.cv_results_).query('rank_test_score == 1')[['mean_fit_time', 'mean_score_time']])"
   ]
  },
  {
   "cell_type": "markdown",
   "metadata": {},
   "source": [
    "Gradient boosting performed the best judging from the RMSE and time metrics. The training time of the gradient boosting model is much shorter than the training time of the random forest model. The prediction time, on the other hand, is approximately the same."
   ]
  },
  {
   "cell_type": "markdown",
   "metadata": {},
   "source": [
    "<a id='test'></a>\n",
    "## Final testing and results"
   ]
  },
  {
   "cell_type": "markdown",
   "metadata": {},
   "source": [
    "We test the gradient boosting model with optimized hyperparameters on the test set:"
   ]
  },
  {
   "cell_type": "code",
   "execution_count": 46,
   "metadata": {},
   "outputs": [
    {
     "name": "stdout",
     "output_type": "stream",
     "text": [
      "RMSE бустинга на тестовом наборе: 1705.66\n",
      "CPU times: user 1min 10s, sys: 597 ms, total: 1min 10s\n",
      "Wall time: 1min 11s\n"
     ]
    }
   ],
   "source": [
    "%%time\n",
    "pipe = Pipeline(steps=[\n",
    "    ('preprocessor',  preprocessor),\n",
    "    ('lgbm', LGBMRegressor(n_estimators=80, max_depth=8, learning_rate=0.5))])\n",
    "\n",
    "pipe.fit(features_train, target_train)\n",
    "predictions = pipe.predict(features_test)\n",
    "\n",
    "rmse = mean_squared_error(target_test, predictions, squared=False)\n",
    "print(\"RMSE бустинга на тестовом наборе: {:.2f}\".format(rmse))"
   ]
  },
  {
   "cell_type": "code",
   "execution_count": 47,
   "metadata": {},
   "outputs": [
    {
     "data": {
      "image/png": "[encoded data removed]",
      "text/plain": [
       "<Figure size 432x288 with 1 Axes>"
      ]
     },
     "metadata": {
      "needs_background": "light"
     },
     "output_type": "display_data"
    }
   ],
   "source": [
    "# feature importance\n",
    "importances = pipe.named_steps['lgbm'].feature_importances_\n",
    "feature_importances = pd.DataFrame(pd.Series(importances, index=features_test.columns))\n",
    "feature_importances.sort_values(by=0, ascending=False).plot(kind='bar', title='Важность признаков')\n",
    "plt.xticks(rotation=45)\n",
    "plt.show()"
   ]
  },
  {
   "cell_type": "markdown",
   "metadata": {},
   "source": [
    "The biggest influence on the price of a car is the year of registration, car body type and brand name."
   ]
  },
  {
   "cell_type": "markdown",
   "metadata": {},
   "source": [
    "**Conclusion:**\n",
    "This project was to develop a machine learning model to predict the market value of a car based on its features. In the preprocessing stage, the data were cleaned: outliers and anomalous values were removed or corrected, some features were removed that did not significantly affect the target variable. Immediately before training, numerical features were scaled and categorical features were coded using the OHE method (these steps were included in the training payplan).\n",
    "\n",
    "The most commonly used machine learning algorithms, *random forest* and *gradient boosting*, were chosen for comparison. Since the dataset under study turned out to be quite large in volume, only the most significant hyperparameters within a limited range were selected for each algorithm. The metric for assessing the quality of the models was RMSE. \n",
    "\n",
    "Even under these conditions, **gradient boosting performed better**, both in terms of speed of model training and hyperparameter selection, and in terms of the quality of the resulting model. The lowest RMSE value for the finalized gradient boosting model was 1705.66 on the test set (1711.53 on the training set). The model training time is about 5 seconds, the time of fitting hyperparameters (number of trees, maximum tree depth + learning rate) is about 2 min."
   ]
  }
 ],
 "metadata": {
  "ExecuteTimeLog": [
   {
    "duration": 826,
    "start_time": "2023-04-30T21:08:45.692Z"
   },
   {
    "duration": 3282,
    "start_time": "2023-04-30T21:09:39.615Z"
   },
   {
    "duration": 133,
    "start_time": "2023-04-30T21:09:51.633Z"
   },
   {
    "duration": 165,
    "start_time": "2023-04-30T21:14:28.838Z"
   },
   {
    "duration": 666,
    "start_time": "2023-04-30T21:15:15.183Z"
   },
   {
    "duration": 790,
    "start_time": "2023-04-30T21:15:26.003Z"
   },
   {
    "duration": 707,
    "start_time": "2023-04-30T21:15:31.823Z"
   },
   {
    "duration": 872,
    "start_time": "2023-04-30T21:15:36.125Z"
   },
   {
    "duration": 824,
    "start_time": "2023-04-30T21:15:42.731Z"
   },
   {
    "duration": 81,
    "start_time": "2023-04-30T21:26:50.181Z"
   },
   {
    "duration": 90,
    "start_time": "2023-04-30T21:27:36.961Z"
   },
   {
    "duration": 327,
    "start_time": "2023-04-30T21:30:24.397Z"
   },
   {
    "duration": 865,
    "start_time": "2023-04-30T21:30:59.557Z"
   },
   {
    "duration": 22,
    "start_time": "2023-04-30T21:31:15.659Z"
   },
   {
    "duration": 17,
    "start_time": "2023-04-30T21:32:11.933Z"
   },
   {
    "duration": 52,
    "start_time": "2023-04-30T21:32:57.066Z"
   },
   {
    "duration": 35,
    "start_time": "2023-04-30T21:33:06.511Z"
   },
   {
    "duration": 28,
    "start_time": "2023-04-30T21:33:42.701Z"
   },
   {
    "duration": 18,
    "start_time": "2023-04-30T21:35:48.759Z"
   },
   {
    "duration": 481,
    "start_time": "2023-04-30T21:37:17.593Z"
   },
   {
    "duration": 507,
    "start_time": "2023-04-30T21:37:34.340Z"
   },
   {
    "duration": 17,
    "start_time": "2023-04-30T21:37:49.980Z"
   },
   {
    "duration": 166,
    "start_time": "2023-04-30T21:38:31.293Z"
   },
   {
    "duration": 160,
    "start_time": "2023-04-30T21:38:38.190Z"
   },
   {
    "duration": 150,
    "start_time": "2023-04-30T21:38:56.423Z"
   },
   {
    "duration": 150,
    "start_time": "2023-04-30T21:39:05.631Z"
   },
   {
    "duration": 290,
    "start_time": "2023-04-30T21:39:51.712Z"
   },
   {
    "duration": 70,
    "start_time": "2023-04-30T21:41:29.511Z"
   },
   {
    "duration": 39,
    "start_time": "2023-04-30T21:43:10.904Z"
   },
   {
    "duration": 24,
    "start_time": "2023-04-30T21:43:48.362Z"
   },
   {
    "duration": 29,
    "start_time": "2023-04-30T21:45:13.641Z"
   },
   {
    "duration": 34,
    "start_time": "2023-04-30T21:45:35.723Z"
   },
   {
    "duration": 23,
    "start_time": "2023-04-30T21:46:08.047Z"
   },
   {
    "duration": 427,
    "start_time": "2023-04-30T21:46:27.219Z"
   },
   {
    "duration": 393,
    "start_time": "2023-04-30T21:46:32.026Z"
   },
   {
    "duration": 13,
    "start_time": "2023-04-30T21:50:15.693Z"
   },
   {
    "duration": 23,
    "start_time": "2023-04-30T21:51:55.206Z"
   },
   {
    "duration": 44,
    "start_time": "2023-04-30T21:53:10.510Z"
   },
   {
    "duration": 46,
    "start_time": "2023-04-30T21:53:53.794Z"
   },
   {
    "duration": 20,
    "start_time": "2023-04-30T21:54:27.497Z"
   },
   {
    "duration": 21,
    "start_time": "2023-04-30T21:55:34.863Z"
   },
   {
    "duration": 27,
    "start_time": "2023-04-30T21:58:32.232Z"
   },
   {
    "duration": 26,
    "start_time": "2023-04-30T22:00:36.036Z"
   },
   {
    "duration": 209,
    "start_time": "2023-04-30T22:02:13.940Z"
   },
   {
    "duration": 212,
    "start_time": "2023-04-30T22:02:33.777Z"
   },
   {
    "duration": 6,
    "start_time": "2023-04-30T22:04:46.329Z"
   },
   {
    "duration": 5,
    "start_time": "2023-04-30T22:05:06.779Z"
   },
   {
    "duration": 7,
    "start_time": "2023-04-30T22:05:19.225Z"
   },
   {
    "duration": 10,
    "start_time": "2023-04-30T22:07:10.122Z"
   },
   {
    "duration": 70,
    "start_time": "2023-04-30T22:07:13.879Z"
   },
   {
    "duration": 66,
    "start_time": "2023-04-30T22:07:55.575Z"
   },
   {
    "duration": 78,
    "start_time": "2023-04-30T22:08:07.747Z"
   },
   {
    "duration": 20,
    "start_time": "2023-04-30T22:08:41.526Z"
   },
   {
    "duration": 31,
    "start_time": "2023-04-30T22:09:31.410Z"
   },
   {
    "duration": 27,
    "start_time": "2023-04-30T22:09:51.407Z"
   },
   {
    "duration": 17,
    "start_time": "2023-04-30T22:09:59.146Z"
   },
   {
    "duration": 30,
    "start_time": "2023-04-30T22:11:03.277Z"
   },
   {
    "duration": 23,
    "start_time": "2023-04-30T22:14:02.738Z"
   },
   {
    "duration": 25,
    "start_time": "2023-04-30T22:15:30.426Z"
   },
   {
    "duration": 230,
    "start_time": "2023-04-30T22:16:07.051Z"
   },
   {
    "duration": 398,
    "start_time": "2023-04-30T22:16:17.129Z"
   },
   {
    "duration": 402,
    "start_time": "2023-04-30T22:16:41.906Z"
   },
   {
    "duration": 498,
    "start_time": "2023-04-30T22:16:46.329Z"
   },
   {
    "duration": 35,
    "start_time": "2023-04-30T22:17:12.330Z"
   },
   {
    "duration": 16,
    "start_time": "2023-04-30T22:18:19.081Z"
   },
   {
    "duration": 36,
    "start_time": "2023-04-30T22:18:21.582Z"
   },
   {
    "duration": 37,
    "start_time": "2023-04-30T22:18:53.930Z"
   },
   {
    "duration": 40,
    "start_time": "2023-04-30T22:19:26.616Z"
   },
   {
    "duration": 20,
    "start_time": "2023-04-30T22:21:40.042Z"
   },
   {
    "duration": 85,
    "start_time": "2023-04-30T22:22:19.442Z"
   },
   {
    "duration": 15,
    "start_time": "2023-04-30T22:22:31.860Z"
   },
   {
    "duration": 15,
    "start_time": "2023-04-30T22:23:13.994Z"
   },
   {
    "duration": 160,
    "start_time": "2023-04-30T22:23:47.849Z"
   },
   {
    "duration": 173,
    "start_time": "2023-04-30T22:23:53.994Z"
   },
   {
    "duration": 20,
    "start_time": "2023-04-30T22:24:49.888Z"
   },
   {
    "duration": 946,
    "start_time": "2023-05-01T12:52:49.259Z"
   },
   {
    "duration": 3187,
    "start_time": "2023-05-01T12:52:52.131Z"
   },
   {
    "duration": 135,
    "start_time": "2023-05-01T12:52:55.321Z"
   },
   {
    "duration": 115,
    "start_time": "2023-05-01T12:52:59.545Z"
   },
   {
    "duration": 894,
    "start_time": "2023-05-01T12:53:01.984Z"
   },
   {
    "duration": 32,
    "start_time": "2023-05-01T12:59:53.616Z"
   },
   {
    "duration": 122,
    "start_time": "2023-05-01T13:01:10.091Z"
   },
   {
    "duration": 8,
    "start_time": "2023-05-01T13:01:19.536Z"
   },
   {
    "duration": 55,
    "start_time": "2023-05-01T13:02:27.001Z"
   },
   {
    "duration": 81,
    "start_time": "2023-05-01T13:22:20.289Z"
   },
   {
    "duration": 22,
    "start_time": "2023-05-01T13:39:35.819Z"
   },
   {
    "duration": 72,
    "start_time": "2023-05-01T13:45:33.491Z"
   },
   {
    "duration": 64,
    "start_time": "2023-05-01T13:46:35.048Z"
   },
   {
    "duration": 24,
    "start_time": "2023-05-01T13:47:12.847Z"
   },
   {
    "duration": 20,
    "start_time": "2023-05-01T13:47:42.638Z"
   },
   {
    "duration": 4,
    "start_time": "2023-05-01T14:47:30.509Z"
   },
   {
    "duration": 32,
    "start_time": "2023-05-01T14:52:00.855Z"
   },
   {
    "duration": 564,
    "start_time": "2023-05-01T14:52:02.935Z"
   },
   {
    "duration": 189,
    "start_time": "2023-05-01T14:52:05.307Z"
   },
   {
    "duration": 41,
    "start_time": "2023-05-01T14:52:07.684Z"
   },
   {
    "duration": 28,
    "start_time": "2023-05-01T14:52:09.809Z"
   },
   {
    "duration": 45,
    "start_time": "2023-05-01T14:52:11.606Z"
   },
   {
    "duration": 8,
    "start_time": "2023-05-01T14:53:48.218Z"
   },
   {
    "duration": 913,
    "start_time": "2023-05-01T16:09:42.427Z"
   },
   {
    "duration": 1191,
    "start_time": "2023-05-01T16:09:44.978Z"
   },
   {
    "duration": 117,
    "start_time": "2023-05-01T16:09:49.318Z"
   },
   {
    "duration": 208,
    "start_time": "2023-05-01T16:09:53.882Z"
   },
   {
    "duration": 811,
    "start_time": "2023-05-01T16:09:56.457Z"
   },
   {
    "duration": 30,
    "start_time": "2023-05-01T16:09:58.543Z"
   },
   {
    "duration": 6,
    "start_time": "2023-05-01T16:09:59.949Z"
   },
   {
    "duration": 32,
    "start_time": "2023-05-01T16:10:01.845Z"
   },
   {
    "duration": 37,
    "start_time": "2023-05-01T16:10:03.595Z"
   },
   {
    "duration": 21,
    "start_time": "2023-05-01T16:10:05.537Z"
   },
   {
    "duration": 21,
    "start_time": "2023-05-01T16:10:07.313Z"
   },
   {
    "duration": 27,
    "start_time": "2023-05-01T16:10:08.943Z"
   },
   {
    "duration": 63,
    "start_time": "2023-05-01T16:10:11.070Z"
   },
   {
    "duration": 24,
    "start_time": "2023-05-01T16:10:12.995Z"
   },
   {
    "duration": 17,
    "start_time": "2023-05-01T16:10:15.005Z"
   },
   {
    "duration": 28,
    "start_time": "2023-05-01T16:10:17.259Z"
   },
   {
    "duration": 508,
    "start_time": "2023-05-01T16:10:19.003Z"
   },
   {
    "duration": 193,
    "start_time": "2023-05-01T16:10:22.291Z"
   },
   {
    "duration": 32,
    "start_time": "2023-05-01T16:10:27.877Z"
   },
   {
    "duration": 33,
    "start_time": "2023-05-01T16:10:31.276Z"
   },
   {
    "duration": 9,
    "start_time": "2023-05-01T16:10:33.787Z"
   },
   {
    "duration": 38,
    "start_time": "2023-05-01T16:10:37.718Z"
   },
   {
    "duration": 29,
    "start_time": "2023-05-01T16:11:10.215Z"
   },
   {
    "duration": 44,
    "start_time": "2023-05-01T16:12:44.301Z"
   },
   {
    "duration": 39,
    "start_time": "2023-05-01T16:12:47.983Z"
   },
   {
    "duration": 19,
    "start_time": "2023-05-01T16:14:05.365Z"
   },
   {
    "duration": 350,
    "start_time": "2023-05-01T16:14:07.136Z"
   },
   {
    "duration": 17,
    "start_time": "2023-05-01T16:14:11.472Z"
   },
   {
    "duration": 11,
    "start_time": "2023-05-01T16:14:24.286Z"
   },
   {
    "duration": 22,
    "start_time": "2023-05-01T16:14:58.503Z"
   },
   {
    "duration": 13,
    "start_time": "2023-05-01T16:15:49.997Z"
   },
   {
    "duration": 76,
    "start_time": "2023-05-01T16:17:30.785Z"
   },
   {
    "duration": 43,
    "start_time": "2023-05-01T16:17:45.256Z"
   },
   {
    "duration": 20,
    "start_time": "2023-05-01T16:18:49.567Z"
   },
   {
    "duration": 133,
    "start_time": "2023-05-01T16:19:16.579Z"
   },
   {
    "duration": 25,
    "start_time": "2023-05-01T16:23:46.103Z"
   },
   {
    "duration": 69,
    "start_time": "2023-05-01T16:24:40.710Z"
   },
   {
    "duration": 3,
    "start_time": "2023-05-01T16:31:03.384Z"
   },
   {
    "duration": 856,
    "start_time": "2023-05-01T16:31:04.677Z"
   },
   {
    "duration": 144,
    "start_time": "2023-05-01T16:31:08.049Z"
   },
   {
    "duration": 117,
    "start_time": "2023-05-01T16:31:12.271Z"
   },
   {
    "duration": 802,
    "start_time": "2023-05-01T16:31:14.506Z"
   },
   {
    "duration": 25,
    "start_time": "2023-05-01T16:31:16.508Z"
   },
   {
    "duration": 8,
    "start_time": "2023-05-01T16:31:17.988Z"
   },
   {
    "duration": 22,
    "start_time": "2023-05-01T16:31:21.684Z"
   },
   {
    "duration": 32,
    "start_time": "2023-05-01T16:31:23.555Z"
   },
   {
    "duration": 20,
    "start_time": "2023-05-01T16:31:25.826Z"
   },
   {
    "duration": 24,
    "start_time": "2023-05-01T16:31:27.748Z"
   },
   {
    "duration": 81,
    "start_time": "2023-05-01T16:31:29.861Z"
   },
   {
    "duration": 21,
    "start_time": "2023-05-01T16:31:31.990Z"
   },
   {
    "duration": 17,
    "start_time": "2023-05-01T16:31:34.691Z"
   },
   {
    "duration": 16,
    "start_time": "2023-05-01T16:31:36.298Z"
   },
   {
    "duration": 358,
    "start_time": "2023-05-01T16:31:39.014Z"
   },
   {
    "duration": 9,
    "start_time": "2023-05-01T16:31:41.830Z"
   },
   {
    "duration": 30,
    "start_time": "2023-05-01T16:31:43.558Z"
   },
   {
    "duration": 13,
    "start_time": "2023-05-01T16:31:45.227Z"
   },
   {
    "duration": 14,
    "start_time": "2023-05-01T16:31:47.824Z"
   },
   {
    "duration": 21,
    "start_time": "2023-05-01T16:31:50.829Z"
   },
   {
    "duration": 402,
    "start_time": "2023-05-01T16:31:52.690Z"
   },
   {
    "duration": 156,
    "start_time": "2023-05-01T16:31:54.732Z"
   },
   {
    "duration": 26,
    "start_time": "2023-05-01T16:31:56.799Z"
   },
   {
    "duration": 27,
    "start_time": "2023-05-01T16:31:58.905Z"
   },
   {
    "duration": 37,
    "start_time": "2023-05-01T16:32:00.510Z"
   },
   {
    "duration": 18,
    "start_time": "2023-05-01T16:32:03.296Z"
   },
   {
    "duration": 86,
    "start_time": "2023-05-01T16:32:04.803Z"
   },
   {
    "duration": 769,
    "start_time": "2023-05-01T16:39:11.285Z"
   },
   {
    "duration": 94,
    "start_time": "2023-05-01T16:41:48.396Z"
   },
   {
    "duration": 131,
    "start_time": "2023-05-01T16:45:00.010Z"
   },
   {
    "duration": 3,
    "start_time": "2023-05-01T16:46:09.617Z"
   },
   {
    "duration": 3,
    "start_time": "2023-05-01T16:46:15.521Z"
   },
   {
    "duration": 77,
    "start_time": "2023-05-01T16:51:23.824Z"
   },
   {
    "duration": 6,
    "start_time": "2023-05-01T17:09:35.869Z"
   },
   {
    "duration": 63,
    "start_time": "2023-05-01T17:09:51.017Z"
   },
   {
    "duration": 5346,
    "start_time": "2023-05-01T17:10:14.745Z"
   },
   {
    "duration": 55,
    "start_time": "2023-05-01T17:17:29.209Z"
   },
   {
    "duration": 53,
    "start_time": "2023-05-01T17:19:30.465Z"
   },
   {
    "duration": 32243,
    "start_time": "2023-05-01T17:20:17.649Z"
   },
   {
    "duration": 32991,
    "start_time": "2023-05-01T17:21:40.511Z"
   },
   {
    "duration": 6898,
    "start_time": "2023-05-01T17:22:23.921Z"
   },
   {
    "duration": 8,
    "start_time": "2023-05-01T17:27:05.886Z"
   },
   {
    "duration": 5,
    "start_time": "2023-05-01T17:31:59.160Z"
   },
   {
    "duration": 15125,
    "start_time": "2023-05-01T17:32:24.560Z"
   },
   {
    "duration": 14886,
    "start_time": "2023-05-01T17:33:39.544Z"
   },
   {
    "duration": 4,
    "start_time": "2023-05-01T17:33:54.432Z"
   },
   {
    "duration": 551601,
    "start_time": "2023-05-01T17:33:55.167Z"
   },
   {
    "duration": 3108678,
    "start_time": "2023-05-01T17:43:27.746Z"
   },
   {
    "duration": 6,
    "start_time": "2023-05-01T18:35:53.353Z"
   },
   {
    "duration": 512689,
    "start_time": "2023-05-01T18:35:54.937Z"
   },
   {
    "duration": 1091300,
    "start_time": "2023-05-01T18:44:39.930Z"
   },
   {
    "duration": 262067,
    "start_time": "2023-05-01T19:02:58.986Z"
   },
   {
    "duration": 716835,
    "start_time": "2023-05-01T19:07:33.923Z"
   },
   {
    "duration": 688309,
    "start_time": "2023-05-01T19:22:49.238Z"
   },
   {
    "duration": 13190,
    "start_time": "2023-05-01T19:34:52.049Z"
   },
   {
    "duration": 298604,
    "start_time": "2023-05-01T19:35:09.857Z"
   },
   {
    "duration": 360889,
    "start_time": "2023-05-01T19:44:29.488Z"
   },
   {
    "duration": 10,
    "start_time": "2023-05-01T20:09:09.456Z"
   },
   {
    "duration": 49936,
    "start_time": "2023-05-01T20:09:16.915Z"
   },
   {
    "duration": 263151,
    "start_time": "2023-05-01T20:10:08.925Z"
   },
   {
    "duration": 1627,
    "start_time": "2023-05-08T15:04:01.931Z"
   },
   {
    "duration": 1263,
    "start_time": "2023-05-08T15:04:03.575Z"
   },
   {
    "duration": 150,
    "start_time": "2023-05-08T15:04:07.564Z"
   },
   {
    "duration": 128,
    "start_time": "2023-05-08T15:04:11.166Z"
   },
   {
    "duration": 910,
    "start_time": "2023-05-08T15:04:13.655Z"
   },
   {
    "duration": 28,
    "start_time": "2023-05-08T15:04:52.847Z"
   },
   {
    "duration": 7,
    "start_time": "2023-05-08T15:04:54.113Z"
   },
   {
    "duration": 30,
    "start_time": "2023-05-08T15:04:55.637Z"
   },
   {
    "duration": 26,
    "start_time": "2023-05-08T15:04:58.223Z"
   },
   {
    "duration": 21,
    "start_time": "2023-05-08T15:05:12.662Z"
   },
   {
    "duration": 26,
    "start_time": "2023-05-08T15:08:43.696Z"
   },
   {
    "duration": 26,
    "start_time": "2023-05-08T15:08:44.987Z"
   },
   {
    "duration": 67,
    "start_time": "2023-05-08T15:08:46.397Z"
   },
   {
    "duration": 23,
    "start_time": "2023-05-08T15:08:48.522Z"
   },
   {
    "duration": 34,
    "start_time": "2023-05-08T15:08:50.489Z"
   },
   {
    "duration": 28,
    "start_time": "2023-05-08T15:12:04.081Z"
   },
   {
    "duration": 486,
    "start_time": "2023-05-08T15:12:05.639Z"
   },
   {
    "duration": 14,
    "start_time": "2023-05-08T15:12:10.783Z"
   },
   {
    "duration": 29,
    "start_time": "2023-05-08T15:12:13.110Z"
   },
   {
    "duration": 12,
    "start_time": "2023-05-08T15:12:14.481Z"
   },
   {
    "duration": 23,
    "start_time": "2023-05-08T15:13:06.975Z"
   },
   {
    "duration": 27,
    "start_time": "2023-05-08T15:14:23.016Z"
   },
   {
    "duration": 35,
    "start_time": "2023-05-08T15:15:14.774Z"
   },
   {
    "duration": 13,
    "start_time": "2023-05-08T15:16:45.899Z"
   },
   {
    "duration": 21,
    "start_time": "2023-05-08T15:17:40.738Z"
   },
   {
    "duration": 13,
    "start_time": "2023-05-08T15:19:24.412Z"
   },
   {
    "duration": 17,
    "start_time": "2023-05-08T15:19:32.400Z"
   },
   {
    "duration": 402,
    "start_time": "2023-05-08T15:19:34.212Z"
   },
   {
    "duration": 137,
    "start_time": "2023-05-08T15:19:36.952Z"
   },
   {
    "duration": 31,
    "start_time": "2023-05-08T15:19:49.229Z"
   },
   {
    "duration": 768,
    "start_time": "2023-05-08T15:22:19.296Z"
   },
   {
    "duration": 128,
    "start_time": "2023-05-08T15:22:21.668Z"
   },
   {
    "duration": 119,
    "start_time": "2023-05-08T15:22:25.111Z"
   },
   {
    "duration": 749,
    "start_time": "2023-05-08T15:22:27.211Z"
   },
   {
    "duration": 29,
    "start_time": "2023-05-08T15:22:30.102Z"
   },
   {
    "duration": 6,
    "start_time": "2023-05-08T15:22:31.791Z"
   },
   {
    "duration": 36,
    "start_time": "2023-05-08T15:22:33.302Z"
   },
   {
    "duration": 20,
    "start_time": "2023-05-08T15:22:35.538Z"
   },
   {
    "duration": 21,
    "start_time": "2023-05-08T15:22:37.298Z"
   },
   {
    "duration": 19,
    "start_time": "2023-05-08T15:22:39.434Z"
   },
   {
    "duration": 20,
    "start_time": "2023-05-08T15:22:41.576Z"
   },
   {
    "duration": 65,
    "start_time": "2023-05-08T15:22:44.301Z"
   },
   {
    "duration": 21,
    "start_time": "2023-05-08T15:22:45.731Z"
   },
   {
    "duration": 26,
    "start_time": "2023-05-08T15:22:47.581Z"
   },
   {
    "duration": 21,
    "start_time": "2023-05-08T15:22:51.754Z"
   },
   {
    "duration": 333,
    "start_time": "2023-05-08T15:22:53.249Z"
   },
   {
    "duration": 8,
    "start_time": "2023-05-08T15:22:55.675Z"
   },
   {
    "duration": 41,
    "start_time": "2023-05-08T15:22:58.181Z"
   },
   {
    "duration": 15,
    "start_time": "2023-05-08T15:22:59.561Z"
   },
   {
    "duration": 16,
    "start_time": "2023-05-08T15:23:02.224Z"
   },
   {
    "duration": 24,
    "start_time": "2023-05-08T15:23:03.813Z"
   },
   {
    "duration": 12,
    "start_time": "2023-05-08T15:23:35.717Z"
   },
   {
    "duration": 13,
    "start_time": "2023-05-08T15:23:43.120Z"
   },
   {
    "duration": 17,
    "start_time": "2023-05-08T15:23:45.171Z"
   },
   {
    "duration": 396,
    "start_time": "2023-05-08T15:23:49.153Z"
   },
   {
    "duration": 147,
    "start_time": "2023-05-08T15:23:51.833Z"
   },
   {
    "duration": 38,
    "start_time": "2023-05-08T15:23:54.829Z"
   },
   {
    "duration": 30,
    "start_time": "2023-05-08T15:24:15.643Z"
   },
   {
    "duration": 5,
    "start_time": "2023-05-08T15:26:02.621Z"
   },
   {
    "duration": 91,
    "start_time": "2023-05-08T15:27:17.841Z"
   },
   {
    "duration": 114,
    "start_time": "2023-05-08T15:27:42.334Z"
   },
   {
    "duration": 100,
    "start_time": "2023-05-08T15:28:06.150Z"
   },
   {
    "duration": 87,
    "start_time": "2023-05-08T15:28:17.211Z"
   },
   {
    "duration": 95,
    "start_time": "2023-05-08T15:28:52.510Z"
   },
   {
    "duration": 23,
    "start_time": "2023-05-08T15:30:50.398Z"
   },
   {
    "duration": 129,
    "start_time": "2023-05-08T15:31:57.940Z"
   },
   {
    "duration": 24,
    "start_time": "2023-05-08T15:32:02.551Z"
   },
   {
    "duration": 36,
    "start_time": "2023-05-08T15:32:06.642Z"
   },
   {
    "duration": 419,
    "start_time": "2023-05-08T15:35:40.807Z"
   },
   {
    "duration": 529,
    "start_time": "2023-05-08T15:35:47.304Z"
   },
   {
    "duration": 22,
    "start_time": "2023-05-08T15:36:26.812Z"
   },
   {
    "duration": 14,
    "start_time": "2023-05-08T15:36:33.196Z"
   },
   {
    "duration": 11,
    "start_time": "2023-05-08T15:36:39.870Z"
   },
   {
    "duration": 11,
    "start_time": "2023-05-08T15:38:21.735Z"
   },
   {
    "duration": 11,
    "start_time": "2023-05-08T15:38:27.657Z"
   },
   {
    "duration": 20,
    "start_time": "2023-05-08T15:40:01.147Z"
   },
   {
    "duration": 92,
    "start_time": "2023-05-08T15:40:23.895Z"
   },
   {
    "duration": 74,
    "start_time": "2023-05-08T15:40:46.159Z"
   },
   {
    "duration": 3,
    "start_time": "2023-05-08T15:45:50.638Z"
   },
   {
    "duration": 10,
    "start_time": "2023-05-08T15:46:06.995Z"
   },
   {
    "duration": 5,
    "start_time": "2023-05-08T15:46:16.453Z"
   },
   {
    "duration": 4,
    "start_time": "2023-05-08T15:46:21.659Z"
   },
   {
    "duration": 6841,
    "start_time": "2023-05-08T15:46:25.075Z"
   },
   {
    "duration": 4,
    "start_time": "2023-05-08T15:53:12.113Z"
   },
   {
    "duration": 4,
    "start_time": "2023-05-08T15:53:21.086Z"
   },
   {
    "duration": 93898,
    "start_time": "2023-05-08T15:53:25.310Z"
   },
   {
    "duration": 184627,
    "start_time": "2023-05-08T15:55:43.804Z"
   },
   {
    "duration": 185528,
    "start_time": "2023-05-08T15:59:03.761Z"
   },
   {
    "duration": 18360,
    "start_time": "2023-05-08T16:05:40.983Z"
   },
   {
    "duration": 464,
    "start_time": "2023-05-08T16:06:33.065Z"
   },
   {
    "duration": 16587,
    "start_time": "2023-05-08T16:07:09.636Z"
   },
   {
    "duration": 16473,
    "start_time": "2023-05-08T16:07:49.172Z"
   },
   {
    "duration": 446,
    "start_time": "2023-05-08T16:08:05.647Z"
   },
   {
    "duration": 16719,
    "start_time": "2023-05-08T16:08:49.202Z"
   },
   {
    "duration": 455,
    "start_time": "2023-05-08T16:09:05.922Z"
   },
   {
    "duration": 9861,
    "start_time": "2023-05-08T16:09:10.629Z"
   },
   {
    "duration": 541,
    "start_time": "2023-05-08T16:09:53.054Z"
   },
   {
    "duration": 53487,
    "start_time": "2023-05-08T16:17:30.110Z"
   },
   {
    "duration": 80107,
    "start_time": "2023-05-08T16:18:23.599Z"
   },
   {
    "duration": 2,
    "start_time": "2023-05-08T16:19:43.708Z"
   },
   {
    "duration": 4,
    "start_time": "2023-05-08T16:20:50.542Z"
   },
   {
    "duration": 15,
    "start_time": "2023-05-08T16:22:00.038Z"
   },
   {
    "duration": 11,
    "start_time": "2023-05-08T16:23:05.317Z"
   },
   {
    "duration": 11,
    "start_time": "2023-05-08T16:23:17.855Z"
   },
   {
    "duration": 5,
    "start_time": "2023-05-08T16:23:37.017Z"
   },
   {
    "duration": 1483,
    "start_time": "2023-05-08T16:25:21.456Z"
   },
   {
    "duration": 911,
    "start_time": "2023-05-08T16:25:22.941Z"
   },
   {
    "duration": 219,
    "start_time": "2023-05-08T16:25:23.855Z"
   },
   {
    "duration": 240,
    "start_time": "2023-05-08T16:25:24.085Z"
   },
   {
    "duration": 893,
    "start_time": "2023-05-08T16:25:24.327Z"
   },
   {
    "duration": 32,
    "start_time": "2023-05-08T16:25:25.222Z"
   },
   {
    "duration": 7,
    "start_time": "2023-05-08T16:25:25.256Z"
   },
   {
    "duration": 57,
    "start_time": "2023-05-08T16:25:25.265Z"
   },
   {
    "duration": 21,
    "start_time": "2023-05-08T16:25:25.324Z"
   },
   {
    "duration": 40,
    "start_time": "2023-05-08T16:25:25.348Z"
   },
   {
    "duration": 26,
    "start_time": "2023-05-08T16:25:25.389Z"
   },
   {
    "duration": 30,
    "start_time": "2023-05-08T16:25:25.416Z"
   },
   {
    "duration": 91,
    "start_time": "2023-05-08T16:25:25.447Z"
   },
   {
    "duration": 24,
    "start_time": "2023-05-08T16:25:25.541Z"
   },
   {
    "duration": 124,
    "start_time": "2023-05-08T16:25:25.567Z"
   },
   {
    "duration": 30,
    "start_time": "2023-05-08T16:25:25.693Z"
   },
   {
    "duration": 423,
    "start_time": "2023-05-08T16:25:25.725Z"
   },
   {
    "duration": 10,
    "start_time": "2023-05-08T16:25:26.150Z"
   },
   {
    "duration": 56,
    "start_time": "2023-05-08T16:25:26.162Z"
   },
   {
    "duration": 17,
    "start_time": "2023-05-08T16:25:26.220Z"
   },
   {
    "duration": 21,
    "start_time": "2023-05-08T16:25:26.239Z"
   },
   {
    "duration": 38,
    "start_time": "2023-05-08T16:25:26.262Z"
   },
   {
    "duration": 15,
    "start_time": "2023-05-08T16:25:26.302Z"
   },
   {
    "duration": 20,
    "start_time": "2023-05-08T16:25:26.319Z"
   },
   {
    "duration": 528,
    "start_time": "2023-05-08T16:25:26.341Z"
   },
   {
    "duration": 167,
    "start_time": "2023-05-08T16:25:26.870Z"
   },
   {
    "duration": 55,
    "start_time": "2023-05-08T16:25:27.039Z"
   },
   {
    "duration": 41,
    "start_time": "2023-05-08T16:25:27.100Z"
   },
   {
    "duration": 130,
    "start_time": "2023-05-08T16:25:27.142Z"
   },
   {
    "duration": 54,
    "start_time": "2023-05-08T16:25:27.273Z"
   },
   {
    "duration": 22,
    "start_time": "2023-05-08T16:25:27.329Z"
   },
   {
    "duration": 78,
    "start_time": "2023-05-08T16:25:27.353Z"
   },
   {
    "duration": 18,
    "start_time": "2023-05-08T16:25:27.432Z"
   },
   {
    "duration": 514,
    "start_time": "2023-05-08T16:25:27.452Z"
   },
   {
    "duration": 26,
    "start_time": "2023-05-08T16:25:27.968Z"
   },
   {
    "duration": 22,
    "start_time": "2023-05-08T16:25:27.996Z"
   },
   {
    "duration": 76,
    "start_time": "2023-05-08T16:25:28.020Z"
   },
   {
    "duration": 98,
    "start_time": "2023-05-08T16:25:28.098Z"
   },
   {
    "duration": 5,
    "start_time": "2023-05-08T16:25:28.199Z"
   },
   {
    "duration": 6,
    "start_time": "2023-05-08T16:25:28.206Z"
   },
   {
    "duration": 190588,
    "start_time": "2023-05-08T16:25:28.214Z"
   },
   {
    "duration": 150692,
    "start_time": "2023-05-08T16:28:38.806Z"
   },
   {
    "duration": 20562,
    "start_time": "2023-05-08T16:31:09.501Z"
   },
   {
    "duration": 533,
    "start_time": "2023-05-08T16:31:30.065Z"
   },
   {
    "duration": 92403,
    "start_time": "2023-05-08T16:31:30.601Z"
   },
   {
    "duration": 496,
    "start_time": "2023-05-08T16:33:03.015Z"
   },
   {
    "duration": 77777,
    "start_time": "2023-05-08T16:33:03.514Z"
   },
   {
    "duration": 165,
    "start_time": "2023-05-08T16:34:21.294Z"
   },
   {
    "duration": 0,
    "start_time": "2023-05-08T16:34:21.460Z"
   },
   {
    "duration": 11992,
    "start_time": "2023-05-08T16:34:30.432Z"
   },
   {
    "duration": 356,
    "start_time": "2023-05-08T16:34:42.427Z"
   },
   {
    "duration": 68751,
    "start_time": "2023-05-08T16:35:16.147Z"
   },
   {
    "duration": 16,
    "start_time": "2023-05-08T16:36:24.900Z"
   },
   {
    "duration": 3,
    "start_time": "2023-05-08T16:38:09.816Z"
   },
   {
    "duration": 156007,
    "start_time": "2023-05-08T16:38:15.678Z"
   },
   {
    "duration": 71998,
    "start_time": "2023-05-08T16:40:51.687Z"
   },
   {
    "duration": 341,
    "start_time": "2023-05-08T16:42:16.022Z"
   },
   {
    "duration": 3623,
    "start_time": "2023-05-08T16:42:16.364Z"
   },
   {
    "duration": 496,
    "start_time": "2023-05-08T16:42:19.989Z"
   },
   {
    "duration": 3804,
    "start_time": "2023-05-08T16:42:20.487Z"
   },
   {
    "duration": 6,
    "start_time": "2023-05-08T16:42:24.293Z"
   },
   {
    "duration": 20578,
    "start_time": "2023-05-08T16:42:24.300Z"
   },
   {
    "duration": 485,
    "start_time": "2023-05-08T16:43:46.722Z"
   },
   {
    "duration": 3538,
    "start_time": "2023-05-08T16:43:49.259Z"
   },
   {
    "duration": 453,
    "start_time": "2023-05-08T16:43:53.945Z"
   },
   {
    "duration": 16,
    "start_time": "2023-05-08T16:45:55.569Z"
   },
   {
    "duration": 178,
    "start_time": "2023-05-08T16:46:00.552Z"
   },
   {
    "duration": 11,
    "start_time": "2023-05-08T16:46:15.967Z"
   },
   {
    "duration": 8,
    "start_time": "2023-05-08T16:46:39.013Z"
   },
   {
    "duration": 20,
    "start_time": "2023-05-08T16:46:45.554Z"
   },
   {
    "duration": 156,
    "start_time": "2023-05-08T16:46:49.425Z"
   },
   {
    "duration": 161,
    "start_time": "2023-05-08T16:46:58.242Z"
   },
   {
    "duration": 168,
    "start_time": "2023-05-08T16:47:33.566Z"
   },
   {
    "duration": 159,
    "start_time": "2023-05-08T16:47:48.311Z"
   },
   {
    "duration": 1461,
    "start_time": "2023-05-08T16:52:59.510Z"
   },
   {
    "duration": 888,
    "start_time": "2023-05-08T16:53:00.973Z"
   },
   {
    "duration": 138,
    "start_time": "2023-05-08T16:53:01.863Z"
   },
   {
    "duration": 132,
    "start_time": "2023-05-08T16:53:02.003Z"
   },
   {
    "duration": 766,
    "start_time": "2023-05-08T16:53:02.137Z"
   },
   {
    "duration": 34,
    "start_time": "2023-05-08T16:53:02.905Z"
   },
   {
    "duration": 38,
    "start_time": "2023-05-08T16:53:02.940Z"
   },
   {
    "duration": 47,
    "start_time": "2023-05-08T16:53:02.980Z"
   },
   {
    "duration": 37,
    "start_time": "2023-05-08T16:53:03.028Z"
   },
   {
    "duration": 36,
    "start_time": "2023-05-08T16:53:03.066Z"
   },
   {
    "duration": 27,
    "start_time": "2023-05-08T16:53:03.104Z"
   },
   {
    "duration": 60,
    "start_time": "2023-05-08T16:53:03.133Z"
   },
   {
    "duration": 70,
    "start_time": "2023-05-08T16:53:03.195Z"
   },
   {
    "duration": 106,
    "start_time": "2023-05-08T16:53:03.268Z"
   },
   {
    "duration": 44,
    "start_time": "2023-05-08T16:53:03.376Z"
   },
   {
    "duration": 18,
    "start_time": "2023-05-08T16:53:03.423Z"
   },
   {
    "duration": 350,
    "start_time": "2023-05-08T16:53:03.443Z"
   },
   {
    "duration": 11,
    "start_time": "2023-05-08T16:53:03.795Z"
   },
   {
    "duration": 44,
    "start_time": "2023-05-08T16:53:03.807Z"
   },
   {
    "duration": 32,
    "start_time": "2023-05-08T16:53:03.853Z"
   },
   {
    "duration": 16,
    "start_time": "2023-05-08T16:53:03.887Z"
   },
   {
    "duration": 12,
    "start_time": "2023-05-08T16:53:03.905Z"
   },
   {
    "duration": 13,
    "start_time": "2023-05-08T16:53:03.918Z"
   },
   {
    "duration": 18,
    "start_time": "2023-05-08T16:53:03.933Z"
   },
   {
    "duration": 468,
    "start_time": "2023-05-08T16:53:03.953Z"
   },
   {
    "duration": 155,
    "start_time": "2023-05-08T16:53:04.423Z"
   },
   {
    "duration": 38,
    "start_time": "2023-05-08T16:53:04.580Z"
   },
   {
    "duration": 29,
    "start_time": "2023-05-08T16:53:04.619Z"
   },
   {
    "duration": 124,
    "start_time": "2023-05-08T16:53:04.650Z"
   },
   {
    "duration": 42,
    "start_time": "2023-05-08T16:53:04.776Z"
   },
   {
    "duration": 19,
    "start_time": "2023-05-08T16:53:04.820Z"
   },
   {
    "duration": 48,
    "start_time": "2023-05-08T16:53:04.840Z"
   },
   {
    "duration": 15,
    "start_time": "2023-05-08T16:53:04.890Z"
   },
   {
    "duration": 408,
    "start_time": "2023-05-08T16:53:04.907Z"
   },
   {
    "duration": 11,
    "start_time": "2023-05-08T16:53:05.316Z"
   },
   {
    "duration": 23,
    "start_time": "2023-05-08T16:53:05.328Z"
   },
   {
    "duration": 87,
    "start_time": "2023-05-08T16:53:05.352Z"
   },
   {
    "duration": 86,
    "start_time": "2023-05-08T16:53:05.441Z"
   },
   {
    "duration": 2,
    "start_time": "2023-05-08T16:53:05.529Z"
   },
   {
    "duration": 6,
    "start_time": "2023-05-08T16:53:05.533Z"
   },
   {
    "duration": 146581,
    "start_time": "2023-05-08T16:53:05.543Z"
   },
   {
    "duration": 69462,
    "start_time": "2023-05-08T16:55:32.126Z"
   },
   {
    "duration": 19762,
    "start_time": "2023-05-08T16:56:41.589Z"
   },
   {
    "duration": 500,
    "start_time": "2023-05-08T16:57:01.353Z"
   },
   {
    "duration": 4141,
    "start_time": "2023-05-08T16:57:01.855Z"
   },
   {
    "duration": 499,
    "start_time": "2023-05-08T16:57:05.998Z"
   },
   {
    "duration": 3993,
    "start_time": "2023-05-08T16:57:06.499Z"
   },
   {
    "duration": 204,
    "start_time": "2023-05-08T16:57:10.493Z"
   },
   {
    "duration": 1681,
    "start_time": "2023-05-09T08:21:48.697Z"
   },
   {
    "duration": 2838,
    "start_time": "2023-05-09T08:21:51.161Z"
   },
   {
    "duration": 144,
    "start_time": "2023-05-09T08:21:54.001Z"
   },
   {
    "duration": 137,
    "start_time": "2023-05-09T08:21:58.273Z"
   },
   {
    "duration": 843,
    "start_time": "2023-05-09T08:22:00.276Z"
   },
   {
    "duration": 33,
    "start_time": "2023-05-09T08:22:04.675Z"
   },
   {
    "duration": 6,
    "start_time": "2023-05-09T08:22:06.263Z"
   },
   {
    "duration": 38,
    "start_time": "2023-05-09T08:22:10.153Z"
   },
   {
    "duration": 22,
    "start_time": "2023-05-09T08:22:12.440Z"
   },
   {
    "duration": 24,
    "start_time": "2023-05-09T08:22:14.487Z"
   },
   {
    "duration": 22,
    "start_time": "2023-05-09T08:22:16.829Z"
   },
   {
    "duration": 21,
    "start_time": "2023-05-09T08:22:26.503Z"
   },
   {
    "duration": 61,
    "start_time": "2023-05-09T08:22:29.622Z"
   },
   {
    "duration": 23,
    "start_time": "2023-05-09T08:22:31.257Z"
   },
   {
    "duration": 29,
    "start_time": "2023-05-09T08:22:32.883Z"
   },
   {
    "duration": 21,
    "start_time": "2023-05-09T08:27:32.103Z"
   },
   {
    "duration": 20,
    "start_time": "2023-05-09T08:27:34.850Z"
   },
   {
    "duration": 451,
    "start_time": "2023-05-09T08:27:36.926Z"
   },
   {
    "duration": 11,
    "start_time": "2023-05-09T08:27:39.443Z"
   },
   {
    "duration": 41,
    "start_time": "2023-05-09T08:27:41.808Z"
   },
   {
    "duration": 17,
    "start_time": "2023-05-09T08:27:43.861Z"
   },
   {
    "duration": 17,
    "start_time": "2023-05-09T08:27:49.042Z"
   },
   {
    "duration": 14,
    "start_time": "2023-05-09T08:27:50.667Z"
   },
   {
    "duration": 13,
    "start_time": "2023-05-09T08:27:55.183Z"
   },
   {
    "duration": 16,
    "start_time": "2023-05-09T08:27:56.651Z"
   },
   {
    "duration": 446,
    "start_time": "2023-05-09T08:27:58.386Z"
   },
   {
    "duration": 141,
    "start_time": "2023-05-09T08:28:00.868Z"
   },
   {
    "duration": 36,
    "start_time": "2023-05-09T08:28:03.625Z"
   },
   {
    "duration": 28,
    "start_time": "2023-05-09T08:28:06.046Z"
   },
   {
    "duration": 116,
    "start_time": "2023-05-09T08:28:10.003Z"
   },
   {
    "duration": 33,
    "start_time": "2023-05-09T08:28:12.234Z"
   },
   {
    "duration": 28,
    "start_time": "2023-05-09T08:28:15.873Z"
   },
   {
    "duration": 42,
    "start_time": "2023-05-09T08:28:17.524Z"
   },
   {
    "duration": 18,
    "start_time": "2023-05-09T08:28:24.729Z"
   },
   {
    "duration": 373,
    "start_time": "2023-05-09T08:28:27.144Z"
   },
   {
    "duration": 10,
    "start_time": "2023-05-09T08:28:29.279Z"
   },
   {
    "duration": 22,
    "start_time": "2023-05-09T08:29:07.155Z"
   },
   {
    "duration": 10,
    "start_time": "2023-05-09T08:29:16.345Z"
   },
   {
    "duration": 10,
    "start_time": "2023-05-09T08:29:33.618Z"
   },
   {
    "duration": 16,
    "start_time": "2023-05-09T08:30:37.276Z"
   },
   {
    "duration": 11,
    "start_time": "2023-05-09T08:30:49.177Z"
   },
   {
    "duration": 10,
    "start_time": "2023-05-09T08:30:56.791Z"
   },
   {
    "duration": 11,
    "start_time": "2023-05-09T08:31:14.679Z"
   },
   {
    "duration": 19,
    "start_time": "2023-05-09T08:31:55.639Z"
   },
   {
    "duration": 72,
    "start_time": "2023-05-09T08:31:57.868Z"
   },
   {
    "duration": 72,
    "start_time": "2023-05-09T08:32:01.450Z"
   },
   {
    "duration": 3,
    "start_time": "2023-05-09T08:32:05.743Z"
   },
   {
    "duration": 6,
    "start_time": "2023-05-09T08:32:10.723Z"
   },
   {
    "duration": 10139,
    "start_time": "2023-05-09T08:32:43.631Z"
   },
   {
    "duration": 17558,
    "start_time": "2023-05-09T08:32:59.323Z"
   },
   {
    "duration": 136450,
    "start_time": "2023-05-09T08:33:30.227Z"
   },
   {
    "duration": 151418,
    "start_time": "2023-05-09T08:38:54.667Z"
   },
   {
    "duration": 231184,
    "start_time": "2023-05-09T08:50:49.103Z"
   },
   {
    "duration": 1516,
    "start_time": "2023-05-09T08:55:03.073Z"
   },
   {
    "duration": 936,
    "start_time": "2023-05-09T08:55:04.591Z"
   },
   {
    "duration": 146,
    "start_time": "2023-05-09T08:55:05.528Z"
   },
   {
    "duration": 128,
    "start_time": "2023-05-09T08:55:05.682Z"
   },
   {
    "duration": 762,
    "start_time": "2023-05-09T08:55:05.811Z"
   },
   {
    "duration": 38,
    "start_time": "2023-05-09T08:55:06.575Z"
   },
   {
    "duration": 10,
    "start_time": "2023-05-09T08:55:06.615Z"
   },
   {
    "duration": 36,
    "start_time": "2023-05-09T08:55:06.627Z"
   },
   {
    "duration": 36,
    "start_time": "2023-05-09T08:55:06.665Z"
   },
   {
    "duration": 22,
    "start_time": "2023-05-09T08:55:06.704Z"
   },
   {
    "duration": 21,
    "start_time": "2023-05-09T08:55:06.728Z"
   },
   {
    "duration": 44,
    "start_time": "2023-05-09T08:55:06.751Z"
   },
   {
    "duration": 66,
    "start_time": "2023-05-09T08:55:06.797Z"
   },
   {
    "duration": 36,
    "start_time": "2023-05-09T08:55:06.864Z"
   },
   {
    "duration": 127,
    "start_time": "2023-05-09T08:55:06.902Z"
   },
   {
    "duration": 15,
    "start_time": "2023-05-09T08:55:07.031Z"
   },
   {
    "duration": 15,
    "start_time": "2023-05-09T08:55:07.048Z"
   },
   {
    "duration": 389,
    "start_time": "2023-05-09T08:55:07.064Z"
   },
   {
    "duration": 9,
    "start_time": "2023-05-09T08:55:07.455Z"
   },
   {
    "duration": 52,
    "start_time": "2023-05-09T08:55:07.466Z"
   },
   {
    "duration": 16,
    "start_time": "2023-05-09T08:55:07.519Z"
   },
   {
    "duration": 16,
    "start_time": "2023-05-09T08:55:07.537Z"
   },
   {
    "duration": 37,
    "start_time": "2023-05-09T08:55:07.554Z"
   },
   {
    "duration": 12,
    "start_time": "2023-05-09T08:55:07.592Z"
   },
   {
    "duration": 16,
    "start_time": "2023-05-09T08:55:07.606Z"
   },
   {
    "duration": 439,
    "start_time": "2023-05-09T08:55:07.624Z"
   },
   {
    "duration": 158,
    "start_time": "2023-05-09T08:55:08.065Z"
   },
   {
    "duration": 37,
    "start_time": "2023-05-09T08:55:08.227Z"
   },
   {
    "duration": 48,
    "start_time": "2023-05-09T08:55:08.266Z"
   },
   {
    "duration": 135,
    "start_time": "2023-05-09T08:55:08.316Z"
   },
   {
    "duration": 56,
    "start_time": "2023-05-09T08:55:08.453Z"
   },
   {
    "duration": 24,
    "start_time": "2023-05-09T08:55:08.511Z"
   },
   {
    "duration": 67,
    "start_time": "2023-05-09T08:55:08.538Z"
   },
   {
    "duration": 16,
    "start_time": "2023-05-09T08:55:08.607Z"
   },
   {
    "duration": 445,
    "start_time": "2023-05-09T08:55:08.625Z"
   },
   {
    "duration": 23,
    "start_time": "2023-05-09T08:55:09.072Z"
   },
   {
    "duration": 12,
    "start_time": "2023-05-09T08:55:09.096Z"
   },
   {
    "duration": 20,
    "start_time": "2023-05-09T08:55:09.110Z"
   },
   {
    "duration": 28,
    "start_time": "2023-05-09T08:55:09.132Z"
   },
   {
    "duration": 92,
    "start_time": "2023-05-09T08:55:09.162Z"
   },
   {
    "duration": 88,
    "start_time": "2023-05-09T08:55:09.256Z"
   },
   {
    "duration": 3,
    "start_time": "2023-05-09T08:55:09.346Z"
   },
   {
    "duration": 18,
    "start_time": "2023-05-09T08:55:09.351Z"
   },
   {
    "duration": 163040,
    "start_time": "2023-05-09T08:55:09.371Z"
   },
   {
    "duration": 148486,
    "start_time": "2023-05-09T08:57:52.413Z"
   },
   {
    "duration": 71405,
    "start_time": "2023-05-09T09:00:20.900Z"
   },
   {
    "duration": 220,
    "start_time": "2023-05-09T09:01:32.307Z"
   }
  ],
  "kernelspec": {
   "display_name": "Python 3 (ipykernel)",
   "language": "python",
   "name": "python3"
  },
  "language_info": {
   "codemirror_mode": {
    "name": "ipython",
    "version": 3
   },
   "file_extension": ".py",
   "mimetype": "text/x-python",
   "name": "python",
   "nbconvert_exporter": "python",
   "pygments_lexer": "ipython3",
   "version": "3.9.5"
  },
  "toc": {
   "base_numbering": 1,
   "nav_menu": {},
   "number_sections": true,
   "sideBar": true,
   "skip_h1_title": true,
   "title_cell": "Table of Contents",
   "title_sidebar": "Contents",
   "toc_cell": false,
   "toc_position": {},
   "toc_section_display": true,
   "toc_window_display": false
  }
 },
 "nbformat": 4,
 "nbformat_minor": 2
}
