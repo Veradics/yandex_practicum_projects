{
 "cells": [
  {
   "cell_type": "markdown",
   "metadata": {
    "id": "sRW85nPMDWKb"
   },
   "source": [
    "# SQL project\n",
    "\n",
    "This project requires writing several SQL queries to explore the data that are in the tables of the `stackoverflow` schema. We will connect to the database using SQLAlchemy.\n",
    "\n",
    "**Note**: in order to preserve confidential information, the information for connecting to the database is hidden."
   ]
  },
  {
   "cell_type": "code",
   "execution_count": 1,
   "metadata": {
    "id": "nlZBlglMDWKe"
   },
   "outputs": [],
   "source": [
    "import pandas as pd\n",
    "import matplotlib.pyplot as plt\n",
    "import seaborn as sns\n",
    "from sqlalchemy import create_engine\n",
    "\n",
    "# import dictionary containing db connection info\n",
    "from configs import db_config"
   ]
  },
  {
   "cell_type": "markdown",
   "metadata": {
    "id": "XnOE3n28DWKg"
   },
   "source": [
    "### Configuration for database connection"
   ]
  },
  {
   "cell_type": "code",
   "execution_count": 2,
   "metadata": {
    "id": "6p-yGp7qDWKg"
   },
   "outputs": [],
   "source": [
    "connection_string = 'postgresql://{}:{}@{}:{}/{}'.format(\n",
    "    db_config['user'], # user name\n",
    "    db_config['pwd'],  # password\n",
    "    db_config['host'], # host\n",
    "    db_config['port'], # port\n",
    "    db_config['db'],   # database name\n",
    ")"
   ]
  },
  {
   "cell_type": "markdown",
   "metadata": {
    "id": "2Rg8ZpS0DWKh"
   },
   "source": [
    "Creating a connection"
   ]
  },
  {
   "cell_type": "code",
   "execution_count": 3,
   "metadata": {
    "id": "DamCUTR6DWKi"
   },
   "outputs": [],
   "source": [
    "engine = create_engine(connection_string) "
   ]
  },
  {
   "cell_type": "markdown",
   "metadata": {
    "id": "bel8XeSlDWKj"
   },
   "source": [
    "Sample database query:"
   ]
  },
  {
   "cell_type": "code",
   "execution_count": 4,
   "metadata": {
    "id": "6Z_fw0yLDWKk"
   },
   "outputs": [],
   "source": [
    "query = '''\n",
    "SELECT *\n",
    "FROM stackoverflow.users\n",
    "LIMIT 10;\n",
    "'''\n",
    "\n",
    "sample_df = pd.read_sql_query(query, con=engine) "
   ]
  },
  {
   "cell_type": "code",
   "execution_count": 5,
   "metadata": {
    "id": "ZpuZ290oDWKk",
    "outputId": "22785a0a-e2bc-4559-ec3c-4879c4b377eb"
   },
   "outputs": [
    {
     "data": {
      "text/html": [
       "<div>\n",
       "<style scoped>\n",
       "    .dataframe tbody tr th:only-of-type {\n",
       "        vertical-align: middle;\n",
       "    }\n",
       "\n",
       "    .dataframe tbody tr th {\n",
       "        vertical-align: top;\n",
       "    }\n",
       "\n",
       "    .dataframe thead th {\n",
       "        text-align: right;\n",
       "    }\n",
       "</style>\n",
       "<table border=\"1\" class=\"dataframe\">\n",
       "  <thead>\n",
       "    <tr style=\"text-align: right;\">\n",
       "      <th></th>\n",
       "      <th>id</th>\n",
       "      <th>creation_date</th>\n",
       "      <th>display_name</th>\n",
       "      <th>last_access_date</th>\n",
       "      <th>location</th>\n",
       "      <th>reputation</th>\n",
       "      <th>views</th>\n",
       "    </tr>\n",
       "  </thead>\n",
       "  <tbody>\n",
       "    <tr>\n",
       "      <th>0</th>\n",
       "      <td>1</td>\n",
       "      <td>2008-07-31 14:22:31</td>\n",
       "      <td>Jeff Atwood</td>\n",
       "      <td>2018-08-29 02:34:23</td>\n",
       "      <td>El Cerrito, CA</td>\n",
       "      <td>44300</td>\n",
       "      <td>408587</td>\n",
       "    </tr>\n",
       "    <tr>\n",
       "      <th>1</th>\n",
       "      <td>2</td>\n",
       "      <td>2008-07-31 14:22:31</td>\n",
       "      <td>Geoff Dalgas</td>\n",
       "      <td>2018-08-23 17:31:56</td>\n",
       "      <td>Corvallis, OR</td>\n",
       "      <td>3491</td>\n",
       "      <td>23966</td>\n",
       "    </tr>\n",
       "    <tr>\n",
       "      <th>2</th>\n",
       "      <td>3</td>\n",
       "      <td>2008-07-31 14:22:31</td>\n",
       "      <td>Jarrod Dixon</td>\n",
       "      <td>2018-08-30 20:56:24</td>\n",
       "      <td>Raleigh, NC, United States</td>\n",
       "      <td>13418</td>\n",
       "      <td>24396</td>\n",
       "    </tr>\n",
       "    <tr>\n",
       "      <th>3</th>\n",
       "      <td>4</td>\n",
       "      <td>2008-07-31 14:22:31</td>\n",
       "      <td>Joel Spolsky</td>\n",
       "      <td>2018-08-14 22:18:15</td>\n",
       "      <td>New York, NY</td>\n",
       "      <td>28768</td>\n",
       "      <td>73755</td>\n",
       "    </tr>\n",
       "    <tr>\n",
       "      <th>4</th>\n",
       "      <td>5</td>\n",
       "      <td>2008-07-31 14:22:31</td>\n",
       "      <td>Jon Galloway</td>\n",
       "      <td>2018-08-29 16:48:36</td>\n",
       "      <td>San Diego, CA</td>\n",
       "      <td>39172</td>\n",
       "      <td>11700</td>\n",
       "    </tr>\n",
       "    <tr>\n",
       "      <th>5</th>\n",
       "      <td>8</td>\n",
       "      <td>2008-07-31 21:33:24</td>\n",
       "      <td>Eggs McLaren</td>\n",
       "      <td>2018-04-09 02:04:56</td>\n",
       "      <td>None</td>\n",
       "      <td>942</td>\n",
       "      <td>6372</td>\n",
       "    </tr>\n",
       "    <tr>\n",
       "      <th>6</th>\n",
       "      <td>9</td>\n",
       "      <td>2008-07-31 21:35:27</td>\n",
       "      <td>Kevin Dente</td>\n",
       "      <td>2018-08-30 18:18:03</td>\n",
       "      <td>Oakland, CA</td>\n",
       "      <td>14337</td>\n",
       "      <td>4949</td>\n",
       "    </tr>\n",
       "    <tr>\n",
       "      <th>7</th>\n",
       "      <td>11</td>\n",
       "      <td>2008-08-01 00:59:11</td>\n",
       "      <td>Anonymous User</td>\n",
       "      <td>2008-08-01 00:59:11</td>\n",
       "      <td>None</td>\n",
       "      <td>1890</td>\n",
       "      <td>2123</td>\n",
       "    </tr>\n",
       "    <tr>\n",
       "      <th>8</th>\n",
       "      <td>13</td>\n",
       "      <td>2008-08-01 04:18:05</td>\n",
       "      <td>Chris Jester-Young</td>\n",
       "      <td>2018-08-30 02:47:23</td>\n",
       "      <td>Raleigh, NC, United States</td>\n",
       "      <td>177138</td>\n",
       "      <td>35414</td>\n",
       "    </tr>\n",
       "    <tr>\n",
       "      <th>9</th>\n",
       "      <td>17</td>\n",
       "      <td>2008-08-01 12:02:22</td>\n",
       "      <td>Nick Berardi</td>\n",
       "      <td>2018-01-22 01:35:38</td>\n",
       "      <td>Issaquah, WA</td>\n",
       "      <td>44443</td>\n",
       "      <td>4786</td>\n",
       "    </tr>\n",
       "  </tbody>\n",
       "</table>\n",
       "</div>"
      ],
      "text/plain": [
       "   id       creation_date        display_name    last_access_date  \\\n",
       "0   1 2008-07-31 14:22:31         Jeff Atwood 2018-08-29 02:34:23   \n",
       "1   2 2008-07-31 14:22:31        Geoff Dalgas 2018-08-23 17:31:56   \n",
       "2   3 2008-07-31 14:22:31        Jarrod Dixon 2018-08-30 20:56:24   \n",
       "3   4 2008-07-31 14:22:31        Joel Spolsky 2018-08-14 22:18:15   \n",
       "4   5 2008-07-31 14:22:31        Jon Galloway 2018-08-29 16:48:36   \n",
       "5   8 2008-07-31 21:33:24        Eggs McLaren 2018-04-09 02:04:56   \n",
       "6   9 2008-07-31 21:35:27         Kevin Dente 2018-08-30 18:18:03   \n",
       "7  11 2008-08-01 00:59:11      Anonymous User 2008-08-01 00:59:11   \n",
       "8  13 2008-08-01 04:18:05  Chris Jester-Young 2018-08-30 02:47:23   \n",
       "9  17 2008-08-01 12:02:22        Nick Berardi 2018-01-22 01:35:38   \n",
       "\n",
       "                     location  reputation   views  \n",
       "0              El Cerrito, CA       44300  408587  \n",
       "1               Corvallis, OR        3491   23966  \n",
       "2  Raleigh, NC, United States       13418   24396  \n",
       "3                New York, NY       28768   73755  \n",
       "4               San Diego, CA       39172   11700  \n",
       "5                        None         942    6372  \n",
       "6                 Oakland, CA       14337    4949  \n",
       "7                        None        1890    2123  \n",
       "8  Raleigh, NC, United States      177138   35414  \n",
       "9                Issaquah, WA       44443    4786  "
      ]
     },
     "execution_count": 5,
     "metadata": {},
     "output_type": "execute_result"
    }
   ],
   "source": [
    "sample_df"
   ]
  },
  {
   "cell_type": "markdown",
   "metadata": {
    "id": "gnBMXkDBDWKm"
   },
   "source": [
    "# Problem 1"
   ]
  },
  {
   "cell_type": "markdown",
   "metadata": {
    "id": "vHsfOrrNDWKn"
   },
   "source": [
    "Print the total sum of post views for each month of 2008. If there is no data for any month in the database, you can skip this month. Sort the result in descending order of the total number of views."
   ]
  },
  {
   "cell_type": "markdown",
   "metadata": {
    "id": "N5rTgGNmDWKn"
   },
   "source": [
    "| month_date  | total_views |\n",
    "| ------------- | ------------- |\n",
    "| 2008-09-01  | 452928568  |\n",
    "| 2008-10-01  | 365400138  |\n",
    "| ...         | ... |"
   ]
  },
  {
   "cell_type": "code",
   "execution_count": 6,
   "metadata": {
    "id": "eWvykcXTDWKo"
   },
   "outputs": [
    {
     "data": {
      "text/html": [
       "<div>\n",
       "<style scoped>\n",
       "    .dataframe tbody tr th:only-of-type {\n",
       "        vertical-align: middle;\n",
       "    }\n",
       "\n",
       "    .dataframe tbody tr th {\n",
       "        vertical-align: top;\n",
       "    }\n",
       "\n",
       "    .dataframe thead th {\n",
       "        text-align: right;\n",
       "    }\n",
       "</style>\n",
       "<table border=\"1\" class=\"dataframe\">\n",
       "  <thead>\n",
       "    <tr style=\"text-align: right;\">\n",
       "      <th></th>\n",
       "      <th>month_date</th>\n",
       "      <th>total_views</th>\n",
       "    </tr>\n",
       "  </thead>\n",
       "  <tbody>\n",
       "    <tr>\n",
       "      <th>0</th>\n",
       "      <td>2008-09-01</td>\n",
       "      <td>452928568</td>\n",
       "    </tr>\n",
       "    <tr>\n",
       "      <th>1</th>\n",
       "      <td>2008-10-01</td>\n",
       "      <td>365400138</td>\n",
       "    </tr>\n",
       "    <tr>\n",
       "      <th>2</th>\n",
       "      <td>2008-11-01</td>\n",
       "      <td>221759651</td>\n",
       "    </tr>\n",
       "    <tr>\n",
       "      <th>3</th>\n",
       "      <td>2008-12-01</td>\n",
       "      <td>197792841</td>\n",
       "    </tr>\n",
       "    <tr>\n",
       "      <th>4</th>\n",
       "      <td>2008-08-01</td>\n",
       "      <td>131367083</td>\n",
       "    </tr>\n",
       "    <tr>\n",
       "      <th>5</th>\n",
       "      <td>2008-07-01</td>\n",
       "      <td>669895</td>\n",
       "    </tr>\n",
       "  </tbody>\n",
       "</table>\n",
       "</div>"
      ],
      "text/plain": [
       "  month_date  total_views\n",
       "0 2008-09-01    452928568\n",
       "1 2008-10-01    365400138\n",
       "2 2008-11-01    221759651\n",
       "3 2008-12-01    197792841\n",
       "4 2008-08-01    131367083\n",
       "5 2008-07-01       669895"
      ]
     },
     "execution_count": 6,
     "metadata": {},
     "output_type": "execute_result"
    }
   ],
   "source": [
    "query = '''\n",
    "SELECT DATE_TRUNC('month', creation_date) AS month_date, \n",
    "    SUM(views_count) AS total_views\n",
    "FROM stackoverflow.posts\n",
    "WHERE EXTRACT('year' FROM creation_date) = 2008\n",
    "GROUP BY DATE_TRUNC('month', creation_date)\n",
    "ORDER BY total_views DESC\n",
    "'''\n",
    "\n",
    "result_df = pd.read_sql_query(query, con=engine)\n",
    "result_df"
   ]
  },
  {
   "cell_type": "markdown",
   "metadata": {},
   "source": [
    "The smallest number of views in the first month of the present (in July). This may be due to the fact that the data started to be collected not from the first day.\n",
    "\n",
    "The peak of views is observed in September. This can probably be explained by the beginning of the academic year for students and the end of the summer vacation period for working people. In the following months, the number of views decreases."
   ]
  },
  {
   "cell_type": "markdown",
   "metadata": {
    "id": "FziIXkn5DWKr"
   },
   "source": [
    "# Problem 2"
   ]
  },
  {
   "cell_type": "markdown",
   "metadata": {
    "id": "fTGESZvYDWKr"
   },
   "source": [
    "Print the names of the most active users who gave more than 100 answers in the first month after registration (including the day of registration). Do not take into account the questions asked by users. Print the number of unique `user_id` values for each user name. Sort the result by the field with names in lexicographic order."
   ]
  },
  {
   "cell_type": "markdown",
   "metadata": {
    "id": "W5-tv6Y3DWKs"
   },
   "source": [
    "| display_name | count |\n",
    "| ------------ | ----- |\n",
    "| 1800 INFORMATION | 1 |\n",
    "| Adam Bellaire | 1 |\n",
    "| Adam Davis | 1 |\n",
    "| ... | ... |"
   ]
  },
  {
   "cell_type": "code",
   "execution_count": 7,
   "metadata": {
    "id": "fIO-y-YjDWKt"
   },
   "outputs": [
    {
     "data": {
      "text/html": [
       "<div>\n",
       "<style scoped>\n",
       "    .dataframe tbody tr th:only-of-type {\n",
       "        vertical-align: middle;\n",
       "    }\n",
       "\n",
       "    .dataframe tbody tr th {\n",
       "        vertical-align: top;\n",
       "    }\n",
       "\n",
       "    .dataframe thead th {\n",
       "        text-align: right;\n",
       "    }\n",
       "</style>\n",
       "<table border=\"1\" class=\"dataframe\">\n",
       "  <thead>\n",
       "    <tr style=\"text-align: right;\">\n",
       "      <th></th>\n",
       "      <th>display_name</th>\n",
       "      <th>count</th>\n",
       "    </tr>\n",
       "  </thead>\n",
       "  <tbody>\n",
       "    <tr>\n",
       "      <th>0</th>\n",
       "      <td>1800 INFORMATION</td>\n",
       "      <td>1</td>\n",
       "    </tr>\n",
       "    <tr>\n",
       "      <th>1</th>\n",
       "      <td>Adam Bellaire</td>\n",
       "      <td>1</td>\n",
       "    </tr>\n",
       "    <tr>\n",
       "      <th>2</th>\n",
       "      <td>Adam Davis</td>\n",
       "      <td>1</td>\n",
       "    </tr>\n",
       "    <tr>\n",
       "      <th>3</th>\n",
       "      <td>Adam Liss</td>\n",
       "      <td>1</td>\n",
       "    </tr>\n",
       "    <tr>\n",
       "      <th>4</th>\n",
       "      <td>Alan</td>\n",
       "      <td>8</td>\n",
       "    </tr>\n",
       "    <tr>\n",
       "      <th>...</th>\n",
       "      <td>...</td>\n",
       "      <td>...</td>\n",
       "    </tr>\n",
       "    <tr>\n",
       "      <th>74</th>\n",
       "      <td>lomaxx</td>\n",
       "      <td>1</td>\n",
       "    </tr>\n",
       "    <tr>\n",
       "      <th>75</th>\n",
       "      <td>mattlant</td>\n",
       "      <td>1</td>\n",
       "    </tr>\n",
       "    <tr>\n",
       "      <th>76</th>\n",
       "      <td>paxdiablo</td>\n",
       "      <td>1</td>\n",
       "    </tr>\n",
       "    <tr>\n",
       "      <th>77</th>\n",
       "      <td>tvanfosson</td>\n",
       "      <td>1</td>\n",
       "    </tr>\n",
       "    <tr>\n",
       "      <th>78</th>\n",
       "      <td>tzot</td>\n",
       "      <td>1</td>\n",
       "    </tr>\n",
       "  </tbody>\n",
       "</table>\n",
       "<p>79 rows × 2 columns</p>\n",
       "</div>"
      ],
      "text/plain": [
       "        display_name  count\n",
       "0   1800 INFORMATION      1\n",
       "1      Adam Bellaire      1\n",
       "2         Adam Davis      1\n",
       "3          Adam Liss      1\n",
       "4               Alan      8\n",
       "..               ...    ...\n",
       "74            lomaxx      1\n",
       "75          mattlant      1\n",
       "76         paxdiablo      1\n",
       "77        tvanfosson      1\n",
       "78              tzot      1\n",
       "\n",
       "[79 rows x 2 columns]"
      ]
     },
     "execution_count": 7,
     "metadata": {},
     "output_type": "execute_result"
    }
   ],
   "source": [
    "uery = '''\n",
    "SELECT us.display_name,\n",
    "    COUNT(DISTINCT us.id)\n",
    "    \n",
    "FROM stackoverflow.users AS us\n",
    "JOIN stackoverflow.posts AS p ON p.user_id = us.id\n",
    "JOIN stackoverflow.post_types AS pt ON pt.id = p.post_type_id\n",
    "\n",
    "WHERE pt.type = 'Answer' \n",
    "    AND p.creation_date::date BETWEEN us.creation_date::date AND us.creation_date::date + INTERVAL '1 month'\n",
    "    \n",
    "GROUP BY us.display_name\n",
    "HAVING COUNT(p.id) > 100\n",
    "ORDER BY us.display_name\n",
    "'''\n",
    "\n",
    "result_df = pd.read_sql_query(query, con=engine)\n",
    "result_df"
   ]
  },
  {
   "cell_type": "markdown",
   "metadata": {
    "id": "I3Wr82TplKpI"
   },
   "source": [
    "Let's see if there are any anomalies in the data."
   ]
  },
  {
   "cell_type": "code",
   "execution_count": 8,
   "metadata": {},
   "outputs": [
    {
     "data": {
      "text/html": [
       "<div>\n",
       "<style scoped>\n",
       "    .dataframe tbody tr th:only-of-type {\n",
       "        vertical-align: middle;\n",
       "    }\n",
       "\n",
       "    .dataframe tbody tr th {\n",
       "        vertical-align: top;\n",
       "    }\n",
       "\n",
       "    .dataframe thead th {\n",
       "        text-align: right;\n",
       "    }\n",
       "</style>\n",
       "<table border=\"1\" class=\"dataframe\">\n",
       "  <thead>\n",
       "    <tr style=\"text-align: right;\">\n",
       "      <th></th>\n",
       "      <th>display_name</th>\n",
       "      <th>count</th>\n",
       "    </tr>\n",
       "  </thead>\n",
       "  <tbody>\n",
       "    <tr>\n",
       "      <th>45</th>\n",
       "      <td>Matt</td>\n",
       "      <td>29</td>\n",
       "    </tr>\n",
       "    <tr>\n",
       "      <th>10</th>\n",
       "      <td>Chris</td>\n",
       "      <td>29</td>\n",
       "    </tr>\n",
       "    <tr>\n",
       "      <th>14</th>\n",
       "      <td>Dan</td>\n",
       "      <td>21</td>\n",
       "    </tr>\n",
       "    <tr>\n",
       "      <th>64</th>\n",
       "      <td>Tom</td>\n",
       "      <td>19</td>\n",
       "    </tr>\n",
       "    <tr>\n",
       "      <th>41</th>\n",
       "      <td>Mark</td>\n",
       "      <td>17</td>\n",
       "    </tr>\n",
       "    <tr>\n",
       "      <th>50</th>\n",
       "      <td>Nick</td>\n",
       "      <td>16</td>\n",
       "    </tr>\n",
       "    <tr>\n",
       "      <th>33</th>\n",
       "      <td>Josh</td>\n",
       "      <td>16</td>\n",
       "    </tr>\n",
       "    <tr>\n",
       "      <th>7</th>\n",
       "      <td>Brian</td>\n",
       "      <td>15</td>\n",
       "    </tr>\n",
       "    <tr>\n",
       "      <th>56</th>\n",
       "      <td>Rob</td>\n",
       "      <td>15</td>\n",
       "    </tr>\n",
       "    <tr>\n",
       "      <th>21</th>\n",
       "      <td>Greg</td>\n",
       "      <td>12</td>\n",
       "    </tr>\n",
       "    <tr>\n",
       "      <th>35</th>\n",
       "      <td>Kevin</td>\n",
       "      <td>11</td>\n",
       "    </tr>\n",
       "    <tr>\n",
       "      <th>59</th>\n",
       "      <td>Ryan</td>\n",
       "      <td>10</td>\n",
       "    </tr>\n",
       "    <tr>\n",
       "      <th>12</th>\n",
       "      <td>Craig</td>\n",
       "      <td>10</td>\n",
       "    </tr>\n",
       "    <tr>\n",
       "      <th>26</th>\n",
       "      <td>Joe</td>\n",
       "      <td>9</td>\n",
       "    </tr>\n",
       "    <tr>\n",
       "      <th>4</th>\n",
       "      <td>Alan</td>\n",
       "      <td>8</td>\n",
       "    </tr>\n",
       "    <tr>\n",
       "      <th>25</th>\n",
       "      <td>Jim</td>\n",
       "      <td>7</td>\n",
       "    </tr>\n",
       "    <tr>\n",
       "      <th>34</th>\n",
       "      <td>Keith</td>\n",
       "      <td>5</td>\n",
       "    </tr>\n",
       "    <tr>\n",
       "      <th>52</th>\n",
       "      <td>Oli</td>\n",
       "      <td>3</td>\n",
       "    </tr>\n",
       "    <tr>\n",
       "      <th>72</th>\n",
       "      <td>jfs</td>\n",
       "      <td>3</td>\n",
       "    </tr>\n",
       "    <tr>\n",
       "      <th>55</th>\n",
       "      <td>PhiLho</td>\n",
       "      <td>1</td>\n",
       "    </tr>\n",
       "    <tr>\n",
       "      <th>57</th>\n",
       "      <td>Rob Cooper</td>\n",
       "      <td>1</td>\n",
       "    </tr>\n",
       "    <tr>\n",
       "      <th>48</th>\n",
       "      <td>Michael Stum</td>\n",
       "      <td>1</td>\n",
       "    </tr>\n",
       "    <tr>\n",
       "      <th>53</th>\n",
       "      <td>Orion Edwards</td>\n",
       "      <td>1</td>\n",
       "    </tr>\n",
       "    <tr>\n",
       "      <th>54</th>\n",
       "      <td>Paul Nathan</td>\n",
       "      <td>1</td>\n",
       "    </tr>\n",
       "    <tr>\n",
       "      <th>51</th>\n",
       "      <td>Norman Ramsey</td>\n",
       "      <td>1</td>\n",
       "    </tr>\n",
       "    <tr>\n",
       "      <th>47</th>\n",
       "      <td>Michael Burr</td>\n",
       "      <td>1</td>\n",
       "    </tr>\n",
       "    <tr>\n",
       "      <th>49</th>\n",
       "      <td>Mitchel Sellers</td>\n",
       "      <td>1</td>\n",
       "    </tr>\n",
       "    <tr>\n",
       "      <th>58</th>\n",
       "      <td>Rob Walker</td>\n",
       "      <td>1</td>\n",
       "    </tr>\n",
       "    <tr>\n",
       "      <th>0</th>\n",
       "      <td>1800 INFORMATION</td>\n",
       "      <td>1</td>\n",
       "    </tr>\n",
       "    <tr>\n",
       "      <th>60</th>\n",
       "      <td>S.Lott</td>\n",
       "      <td>1</td>\n",
       "    </tr>\n",
       "  </tbody>\n",
       "</table>\n",
       "</div>"
      ],
      "text/plain": [
       "        display_name  count\n",
       "45              Matt     29\n",
       "10             Chris     29\n",
       "14               Dan     21\n",
       "64               Tom     19\n",
       "41              Mark     17\n",
       "50              Nick     16\n",
       "33              Josh     16\n",
       "7              Brian     15\n",
       "56               Rob     15\n",
       "21              Greg     12\n",
       "35             Kevin     11\n",
       "59              Ryan     10\n",
       "12             Craig     10\n",
       "26               Joe      9\n",
       "4               Alan      8\n",
       "25               Jim      7\n",
       "34             Keith      5\n",
       "52               Oli      3\n",
       "72               jfs      3\n",
       "55            PhiLho      1\n",
       "57        Rob Cooper      1\n",
       "48      Michael Stum      1\n",
       "53     Orion Edwards      1\n",
       "54       Paul Nathan      1\n",
       "51     Norman Ramsey      1\n",
       "47      Michael Burr      1\n",
       "49   Mitchel Sellers      1\n",
       "58        Rob Walker      1\n",
       "0   1800 INFORMATION      1\n",
       "60            S.Lott      1"
      ]
     },
     "execution_count": 8,
     "metadata": {},
     "output_type": "execute_result"
    }
   ],
   "source": [
    "result_df.sort_values(by='count', ascending=False).head(30)"
   ]
  },
  {
   "cell_type": "markdown",
   "metadata": {},
   "source": [
    "Interestingly, a higher number of responses are from users with short first names. Low-active users are mostly given a last name and first name or a longer first name. This may be due to the fact that there is no restriction on the uniqueness of the \"name\" on the site, so names of different users may be repeated, especially if they are short."
   ]
  },
  {
   "cell_type": "markdown",
   "metadata": {
    "id": "JhM2xXj5DWKu"
   },
   "source": [
    "# Problem 3"
   ]
  },
  {
   "cell_type": "markdown",
   "metadata": {
    "id": "IS6xPqyyDWKu"
   },
   "source": [
    "Print the number of posts for 2008 by month. Select posts from users who registered in September 2008 and made at least one post in December of the same year. Sort the table by descending month value."
   ]
  },
  {
   "cell_type": "markdown",
   "metadata": {
    "id": "WmjhjV2xDWKv"
   },
   "source": [
    "| month | count |\n",
    "| ------|------ |\n",
    "| 2008-12-01 | 17641 |\n",
    "| 2008-11-01 | 18294 |\n",
    "| ... | ... |"
   ]
  },
  {
   "cell_type": "code",
   "execution_count": 9,
   "metadata": {
    "id": "kVu0FB8WDWKv"
   },
   "outputs": [
    {
     "data": {
      "text/html": [
       "<div>\n",
       "<style scoped>\n",
       "    .dataframe tbody tr th:only-of-type {\n",
       "        vertical-align: middle;\n",
       "    }\n",
       "\n",
       "    .dataframe tbody tr th {\n",
       "        vertical-align: top;\n",
       "    }\n",
       "\n",
       "    .dataframe thead th {\n",
       "        text-align: right;\n",
       "    }\n",
       "</style>\n",
       "<table border=\"1\" class=\"dataframe\">\n",
       "  <thead>\n",
       "    <tr style=\"text-align: right;\">\n",
       "      <th></th>\n",
       "      <th>month</th>\n",
       "      <th>count</th>\n",
       "    </tr>\n",
       "  </thead>\n",
       "  <tbody>\n",
       "    <tr>\n",
       "      <th>0</th>\n",
       "      <td>2008-12-01</td>\n",
       "      <td>17641</td>\n",
       "    </tr>\n",
       "    <tr>\n",
       "      <th>1</th>\n",
       "      <td>2008-11-01</td>\n",
       "      <td>18294</td>\n",
       "    </tr>\n",
       "    <tr>\n",
       "      <th>2</th>\n",
       "      <td>2008-10-01</td>\n",
       "      <td>27171</td>\n",
       "    </tr>\n",
       "    <tr>\n",
       "      <th>3</th>\n",
       "      <td>2008-09-01</td>\n",
       "      <td>24870</td>\n",
       "    </tr>\n",
       "    <tr>\n",
       "      <th>4</th>\n",
       "      <td>2008-08-01</td>\n",
       "      <td>32</td>\n",
       "    </tr>\n",
       "  </tbody>\n",
       "</table>\n",
       "</div>"
      ],
      "text/plain": [
       "       month  count\n",
       "0 2008-12-01  17641\n",
       "1 2008-11-01  18294\n",
       "2 2008-10-01  27171\n",
       "3 2008-09-01  24870\n",
       "4 2008-08-01     32"
      ]
     },
     "execution_count": 9,
     "metadata": {},
     "output_type": "execute_result"
    }
   ],
   "source": [
    "query = '''\n",
    "WITH tt AS \n",
    "    (SELECT us.id AS user_id\n",
    "    FROM stackoverflow.users AS us\n",
    "    JOIN stackoverflow.posts AS p ON us.id = p.user_id\n",
    "    WHERE DATE_TRUNC('month', us.creation_date) = '2008-09-01'\n",
    "        AND DATE_TRUNC('month', p.creation_date) = '2008-12-01')\n",
    "    \n",
    "SELECT DATE_TRUNC('month', creation_date) AS month,\n",
    "    COUNT(id)\n",
    "FROM stackoverflow.posts\n",
    "WHERE user_id IN \n",
    "    (SELECT user_id FROM tt)\n",
    "GROUP BY DATE_TRUNC('month', creation_date)\n",
    "ORDER BY month DESC\n",
    "'''\n",
    "\n",
    "result_df = pd.read_sql_query(query, con=engine)\n",
    "result_df"
   ]
  },
  {
   "cell_type": "markdown",
   "metadata": {
    "id": "Vnxn9DVHDWKx"
   },
   "source": [
    "The number of posts in August seems anomalous, given that the query selected users who had only registered in September. This may be due to some error in the initial data collection or to different time zones."
   ]
  },
  {
   "cell_type": "markdown",
   "metadata": {
    "id": "5Pcizm0DDWKz"
   },
   "source": [
    "# Problem 4"
   ]
  },
  {
   "cell_type": "markdown",
   "metadata": {
    "id": "KUZPF6vHDWKz"
   },
   "source": [
    "Using the post data, output several fields:\n",
    "\n",
    "- ID of the user who wrote the post;\n",
    "- the date the post was created;\n",
    "- the number of views of the current post;\n",
    "- the sum of views of the author's posts with accumulation.\n",
    "\n",
    "The data in the table should be sorted by ascending order of user IDs, and data about the same user - by ascending order of post creation date."
   ]
  },
  {
   "cell_type": "markdown",
   "metadata": {
    "id": "ZpsTUVDYDWK0"
   },
   "source": [
    "| user_id | creation_date | views_count | cumulative_count |\n",
    "| ------ | -------------- | ----------- | ---------------- |\n",
    "| 1 | 2008-07-31 23:41:00  | 480476   | 480476  |\n",
    "| 1 | 2008-07-31 23:55:38  | 136033 | 616509  | \n",
    "| 1 | 2008-07-31 23:56:41  | 0 |  616509  |\n",
    "| ... | ... | ... | ... |\n",
    "| 2 | 2008-07-31 23:56:41 | 79087  | 79087 |\n",
    "| 2 | 2008-08-01 05:09:56 | 65443 | 144530 |\n",
    "| ... | ...  | ...  | ...  |"
   ]
  },
  {
   "cell_type": "code",
   "execution_count": 10,
   "metadata": {
    "id": "hDoJhMzfDWK0"
   },
   "outputs": [
    {
     "data": {
      "text/html": [
       "<div>\n",
       "<style scoped>\n",
       "    .dataframe tbody tr th:only-of-type {\n",
       "        vertical-align: middle;\n",
       "    }\n",
       "\n",
       "    .dataframe tbody tr th {\n",
       "        vertical-align: top;\n",
       "    }\n",
       "\n",
       "    .dataframe thead th {\n",
       "        text-align: right;\n",
       "    }\n",
       "</style>\n",
       "<table border=\"1\" class=\"dataframe\">\n",
       "  <thead>\n",
       "    <tr style=\"text-align: right;\">\n",
       "      <th></th>\n",
       "      <th>user_id</th>\n",
       "      <th>creation_date</th>\n",
       "      <th>views_count</th>\n",
       "      <th>cumulative_count</th>\n",
       "    </tr>\n",
       "  </thead>\n",
       "  <tbody>\n",
       "    <tr>\n",
       "      <th>0</th>\n",
       "      <td>1</td>\n",
       "      <td>2008-07-31 23:41:00</td>\n",
       "      <td>480476</td>\n",
       "      <td>480476</td>\n",
       "    </tr>\n",
       "    <tr>\n",
       "      <th>1</th>\n",
       "      <td>1</td>\n",
       "      <td>2008-07-31 23:55:38</td>\n",
       "      <td>136033</td>\n",
       "      <td>616509</td>\n",
       "    </tr>\n",
       "    <tr>\n",
       "      <th>2</th>\n",
       "      <td>1</td>\n",
       "      <td>2008-07-31 23:56:41</td>\n",
       "      <td>0</td>\n",
       "      <td>616509</td>\n",
       "    </tr>\n",
       "    <tr>\n",
       "      <th>3</th>\n",
       "      <td>1</td>\n",
       "      <td>2008-08-04 02:45:08</td>\n",
       "      <td>0</td>\n",
       "      <td>616509</td>\n",
       "    </tr>\n",
       "    <tr>\n",
       "      <th>4</th>\n",
       "      <td>1</td>\n",
       "      <td>2008-08-04 04:31:03</td>\n",
       "      <td>0</td>\n",
       "      <td>616509</td>\n",
       "    </tr>\n",
       "    <tr>\n",
       "      <th>...</th>\n",
       "      <td>...</td>\n",
       "      <td>...</td>\n",
       "      <td>...</td>\n",
       "      <td>...</td>\n",
       "    </tr>\n",
       "    <tr>\n",
       "      <th>243791</th>\n",
       "      <td>5696608</td>\n",
       "      <td>2008-12-23 16:00:37</td>\n",
       "      <td>0</td>\n",
       "      <td>2804</td>\n",
       "    </tr>\n",
       "    <tr>\n",
       "      <th>243792</th>\n",
       "      <td>5696608</td>\n",
       "      <td>2008-12-23 17:35:09</td>\n",
       "      <td>0</td>\n",
       "      <td>2804</td>\n",
       "    </tr>\n",
       "    <tr>\n",
       "      <th>243793</th>\n",
       "      <td>5696608</td>\n",
       "      <td>2008-12-24 01:02:48</td>\n",
       "      <td>0</td>\n",
       "      <td>2804</td>\n",
       "    </tr>\n",
       "    <tr>\n",
       "      <th>243794</th>\n",
       "      <td>5696608</td>\n",
       "      <td>2008-12-30 14:34:45</td>\n",
       "      <td>0</td>\n",
       "      <td>2804</td>\n",
       "    </tr>\n",
       "    <tr>\n",
       "      <th>243795</th>\n",
       "      <td>5696608</td>\n",
       "      <td>2008-12-30 16:32:12</td>\n",
       "      <td>0</td>\n",
       "      <td>2804</td>\n",
       "    </tr>\n",
       "  </tbody>\n",
       "</table>\n",
       "<p>243796 rows × 4 columns</p>\n",
       "</div>"
      ],
      "text/plain": [
       "        user_id       creation_date  views_count  cumulative_count\n",
       "0             1 2008-07-31 23:41:00       480476            480476\n",
       "1             1 2008-07-31 23:55:38       136033            616509\n",
       "2             1 2008-07-31 23:56:41            0            616509\n",
       "3             1 2008-08-04 02:45:08            0            616509\n",
       "4             1 2008-08-04 04:31:03            0            616509\n",
       "...         ...                 ...          ...               ...\n",
       "243791  5696608 2008-12-23 16:00:37            0              2804\n",
       "243792  5696608 2008-12-23 17:35:09            0              2804\n",
       "243793  5696608 2008-12-24 01:02:48            0              2804\n",
       "243794  5696608 2008-12-30 14:34:45            0              2804\n",
       "243795  5696608 2008-12-30 16:32:12            0              2804\n",
       "\n",
       "[243796 rows x 4 columns]"
      ]
     },
     "execution_count": 10,
     "metadata": {},
     "output_type": "execute_result"
    }
   ],
   "source": [
    "query = '''\n",
    "SELECT user_id,\n",
    "    creation_date,\n",
    "    views_count, \n",
    "    SUM(views_count) OVER (PARTITION BY user_id ORDER BY creation_date) AS cumulative_count\n",
    "FROM stackoverflow.posts\n",
    "ORDER BY user_id, creation_date\n",
    "'''\n",
    "\n",
    "result_df = pd.read_sql_query(query, con=engine)\n",
    "result_df"
   ]
  },
  {
   "cell_type": "markdown",
   "metadata": {
    "id": "N0kHRHvIDWK2"
   },
   "source": [
    "# Problem 5"
   ]
  },
  {
   "cell_type": "markdown",
   "metadata": {
    "id": "gBgvmPtODWK2"
   },
   "source": [
    "Find the average number of user posts per day for August 2008. Select data on users who published more than 120 posts in August. Do not count the days with no posts. \n",
    "\n",
    "Sort the result in ascending order of the average number of posts. You don't need to round the values."
   ]
  },
  {
   "cell_type": "markdown",
   "metadata": {
    "id": "nfzR08BODWK3"
   },
   "source": [
    "| user_id | avg_daily |\n",
    "| ------- | --------- |\n",
    "| 116     | 4.777778  |\n",
    "| 234     | 5.208333  |\n",
    "| ...     | ... |"
   ]
  },
  {
   "cell_type": "code",
   "execution_count": 11,
   "metadata": {
    "id": "YFyPNz5GDWK3"
   },
   "outputs": [
    {
     "data": {
      "text/html": [
       "<div>\n",
       "<style scoped>\n",
       "    .dataframe tbody tr th:only-of-type {\n",
       "        vertical-align: middle;\n",
       "    }\n",
       "\n",
       "    .dataframe tbody tr th {\n",
       "        vertical-align: top;\n",
       "    }\n",
       "\n",
       "    .dataframe thead th {\n",
       "        text-align: right;\n",
       "    }\n",
       "</style>\n",
       "<table border=\"1\" class=\"dataframe\">\n",
       "  <thead>\n",
       "    <tr style=\"text-align: right;\">\n",
       "      <th></th>\n",
       "      <th>user_id</th>\n",
       "      <th>avg_daily</th>\n",
       "    </tr>\n",
       "  </thead>\n",
       "  <tbody>\n",
       "    <tr>\n",
       "      <th>0</th>\n",
       "      <td>116</td>\n",
       "      <td>4.777778</td>\n",
       "    </tr>\n",
       "    <tr>\n",
       "      <th>1</th>\n",
       "      <td>234</td>\n",
       "      <td>5.208333</td>\n",
       "    </tr>\n",
       "    <tr>\n",
       "      <th>2</th>\n",
       "      <td>91</td>\n",
       "      <td>5.681818</td>\n",
       "    </tr>\n",
       "    <tr>\n",
       "      <th>3</th>\n",
       "      <td>905</td>\n",
       "      <td>7.000000</td>\n",
       "    </tr>\n",
       "    <tr>\n",
       "      <th>4</th>\n",
       "      <td>383</td>\n",
       "      <td>7.277778</td>\n",
       "    </tr>\n",
       "  </tbody>\n",
       "</table>\n",
       "</div>"
      ],
      "text/plain": [
       "   user_id  avg_daily\n",
       "0      116   4.777778\n",
       "1      234   5.208333\n",
       "2       91   5.681818\n",
       "3      905   7.000000\n",
       "4      383   7.277778"
      ]
     },
     "execution_count": 11,
     "metadata": {},
     "output_type": "execute_result"
    }
   ],
   "source": [
    "query = '''\n",
    "WITH tt AS\n",
    "    (SELECT user_id,\n",
    "        creation_date::date,\n",
    "        COUNT(id) AS post_count\n",
    "    FROM stackoverflow.posts\n",
    "    WHERE DATE_TRUNC('month', creation_date) = '2008-08-01'\n",
    "    GROUP BY user_id, creation_date::date)\n",
    "\n",
    "SELECT user_id, \n",
    "    AVG(post_count) AS avg_daily\n",
    "FROM tt\n",
    "GROUP BY user_id\n",
    "HAVING SUM(post_count) > 120\n",
    "ORDER BY avg_daily\n",
    "'''\n",
    "\n",
    "result_df = pd.read_sql_query(query, con=engine)\n",
    "result_df"
   ]
  },
  {
   "cell_type": "markdown",
   "metadata": {
    "id": "EQ0dcFH4DWK5"
   },
   "source": [
    "# Problem 6"
   ]
  },
  {
   "cell_type": "markdown",
   "metadata": {
    "id": "c7flfg_hDWK5"
   },
   "source": [
    "On average, how many days between December 1 and December 7, 2008 did users interact with the platform? For each user, select the days on which he or she published at least one post. You need to get a single integer - don't forget to round the result."
   ]
  },
  {
   "cell_type": "code",
   "execution_count": 12,
   "metadata": {
    "id": "kZ7LXTr6DWK6"
   },
   "outputs": [
    {
     "data": {
      "text/html": [
       "<div>\n",
       "<style scoped>\n",
       "    .dataframe tbody tr th:only-of-type {\n",
       "        vertical-align: middle;\n",
       "    }\n",
       "\n",
       "    .dataframe tbody tr th {\n",
       "        vertical-align: top;\n",
       "    }\n",
       "\n",
       "    .dataframe thead th {\n",
       "        text-align: right;\n",
       "    }\n",
       "</style>\n",
       "<table border=\"1\" class=\"dataframe\">\n",
       "  <thead>\n",
       "    <tr style=\"text-align: right;\">\n",
       "      <th></th>\n",
       "      <th>result</th>\n",
       "    </tr>\n",
       "  </thead>\n",
       "  <tbody>\n",
       "    <tr>\n",
       "      <th>0</th>\n",
       "      <td>2</td>\n",
       "    </tr>\n",
       "  </tbody>\n",
       "</table>\n",
       "</div>"
      ],
      "text/plain": [
       "   result\n",
       "0       2"
      ]
     },
     "execution_count": 12,
     "metadata": {},
     "output_type": "execute_result"
    }
   ],
   "source": [
    "query = '''\n",
    "WITH tt AS\n",
    "    (SELECT user_id, \n",
    "        COUNT(DISTINCT creation_date::date) AS days\n",
    "    FROM stackoverflow.posts\n",
    "    WHERE creation_date::date BETWEEN '2008-12-01' AND '2008-12-07'\n",
    "    GROUP BY user_id)\n",
    "\n",
    "SELECT CAST(AVG(days) AS integer) AS result\n",
    "FROM tt\n",
    "'''\n",
    "\n",
    "result_df = pd.read_sql_query(query, con=engine)\n",
    "result_df"
   ]
  },
  {
   "cell_type": "markdown",
   "metadata": {
    "id": "LfUuYz-1DWK8"
   },
   "source": [
    "On average, each user was active for 2 days (asking or answering questions) during a given week."
   ]
  },
  {
   "cell_type": "markdown",
   "metadata": {
    "id": "wfOmqmfLDWK8"
   },
   "source": [
    "# Problem 7"
   ]
  },
  {
   "cell_type": "markdown",
   "metadata": {
    "id": "X4ARQimADWK9"
   },
   "source": [
    "Print the activity history of each user in the following form: user ID, post publication date. Sort the output in ascending order of user IDs, and for each user - in ascending order of publication date.\n",
    "\n",
    "Add a new field to the table: for each post it will contain the name of the month of the penultimate publication of the user relative to the current one. If there is no such publication, specify `NULL`.  Python will automatically change `NULL` to `None`, but you don't need to convert `None` values additionally.\n",
    "\n",
    "Look closely at the sample table: for the first two posts, there is no penultimate publication, but starting with the third post, the new field includes the desired month. For the next user, the first two entries of the `second_last_month` field will also include `NULL`."
   ]
  },
  {
   "cell_type": "markdown",
   "metadata": {
    "id": "IGPjRP01DWK9"
   },
   "source": [
    "| user_id | creation_date | second_last_month |\n",
    "| ------- | ------------- | ----------------- |\n",
    "| 1       | 2008-07-31 23:41:00 | None |\n",
    "| 1       | 2008-07-31 23:55:38 | None |\n",
    "| 1       | 2008-07-31 23:56:41 | July |\n",
    "| 1       | 2008-08-04 02:45:08 | July |\n",
    "| 1       | 2008-08-04 04:31:03 | July |\n",
    "| 1       | 2008-08-04 08:04:42 | August |\n",
    "| ... | ... | ... |"
   ]
  },
  {
   "cell_type": "code",
   "execution_count": 13,
   "metadata": {
    "id": "HzI1vhaMDWK-"
   },
   "outputs": [
    {
     "data": {
      "text/html": [
       "<div>\n",
       "<style scoped>\n",
       "    .dataframe tbody tr th:only-of-type {\n",
       "        vertical-align: middle;\n",
       "    }\n",
       "\n",
       "    .dataframe tbody tr th {\n",
       "        vertical-align: top;\n",
       "    }\n",
       "\n",
       "    .dataframe thead th {\n",
       "        text-align: right;\n",
       "    }\n",
       "</style>\n",
       "<table border=\"1\" class=\"dataframe\">\n",
       "  <thead>\n",
       "    <tr style=\"text-align: right;\">\n",
       "      <th></th>\n",
       "      <th>user_id</th>\n",
       "      <th>creation_date</th>\n",
       "      <th>second_last_month</th>\n",
       "    </tr>\n",
       "  </thead>\n",
       "  <tbody>\n",
       "    <tr>\n",
       "      <th>0</th>\n",
       "      <td>1</td>\n",
       "      <td>2008-07-31 23:41:00</td>\n",
       "      <td>None</td>\n",
       "    </tr>\n",
       "    <tr>\n",
       "      <th>1</th>\n",
       "      <td>1</td>\n",
       "      <td>2008-07-31 23:55:38</td>\n",
       "      <td>None</td>\n",
       "    </tr>\n",
       "    <tr>\n",
       "      <th>2</th>\n",
       "      <td>1</td>\n",
       "      <td>2008-07-31 23:56:41</td>\n",
       "      <td>July</td>\n",
       "    </tr>\n",
       "    <tr>\n",
       "      <th>3</th>\n",
       "      <td>1</td>\n",
       "      <td>2008-08-04 02:45:08</td>\n",
       "      <td>July</td>\n",
       "    </tr>\n",
       "    <tr>\n",
       "      <th>4</th>\n",
       "      <td>1</td>\n",
       "      <td>2008-08-04 04:31:03</td>\n",
       "      <td>July</td>\n",
       "    </tr>\n",
       "    <tr>\n",
       "      <th>...</th>\n",
       "      <td>...</td>\n",
       "      <td>...</td>\n",
       "      <td>...</td>\n",
       "    </tr>\n",
       "    <tr>\n",
       "      <th>243791</th>\n",
       "      <td>5696608</td>\n",
       "      <td>2008-12-23 16:00:37</td>\n",
       "      <td>December</td>\n",
       "    </tr>\n",
       "    <tr>\n",
       "      <th>243792</th>\n",
       "      <td>5696608</td>\n",
       "      <td>2008-12-23 17:35:09</td>\n",
       "      <td>December</td>\n",
       "    </tr>\n",
       "    <tr>\n",
       "      <th>243793</th>\n",
       "      <td>5696608</td>\n",
       "      <td>2008-12-24 01:02:48</td>\n",
       "      <td>December</td>\n",
       "    </tr>\n",
       "    <tr>\n",
       "      <th>243794</th>\n",
       "      <td>5696608</td>\n",
       "      <td>2008-12-30 14:34:45</td>\n",
       "      <td>December</td>\n",
       "    </tr>\n",
       "    <tr>\n",
       "      <th>243795</th>\n",
       "      <td>5696608</td>\n",
       "      <td>2008-12-30 16:32:12</td>\n",
       "      <td>December</td>\n",
       "    </tr>\n",
       "  </tbody>\n",
       "</table>\n",
       "<p>243796 rows × 3 columns</p>\n",
       "</div>"
      ],
      "text/plain": [
       "        user_id       creation_date second_last_month\n",
       "0             1 2008-07-31 23:41:00              None\n",
       "1             1 2008-07-31 23:55:38              None\n",
       "2             1 2008-07-31 23:56:41         July     \n",
       "3             1 2008-08-04 02:45:08         July     \n",
       "4             1 2008-08-04 04:31:03         July     \n",
       "...         ...                 ...               ...\n",
       "243791  5696608 2008-12-23 16:00:37         December \n",
       "243792  5696608 2008-12-23 17:35:09         December \n",
       "243793  5696608 2008-12-24 01:02:48         December \n",
       "243794  5696608 2008-12-30 14:34:45         December \n",
       "243795  5696608 2008-12-30 16:32:12         December \n",
       "\n",
       "[243796 rows x 3 columns]"
      ]
     },
     "execution_count": 13,
     "metadata": {},
     "output_type": "execute_result"
    }
   ],
   "source": [
    "query = '''\n",
    "SELECT user_id,\n",
    "    creation_date, \n",
    "    LAG(TO_CHAR(creation_date, 'Month'), 2) OVER(PARTITION BY user_id ORDER BY creation_date) AS second_last_month\n",
    "FROM stackoverflow.posts\n",
    "ORDER BY user_id, creation_date\n",
    "'''\n",
    "\n",
    "result_df = pd.read_sql_query(query, con=engine)\n",
    "result_df"
   ]
  },
  {
   "cell_type": "markdown",
   "metadata": {
    "id": "tf9qq2yzDWK_"
   },
   "source": [
    "# Problem 8"
   ]
  },
  {
   "cell_type": "markdown",
   "metadata": {
    "id": "gfwLVXBYDWLA"
   },
   "source": [
    "Calculate the analog Retention Rate by month for StackOverflow users. Combine users into cohorts by the month of their first post. Determine the Retention Rate by the availability of a post in the current month."
   ]
  },
  {
   "cell_type": "markdown",
   "metadata": {
    "id": "kN2ic39WlKpl"
   },
   "source": [
    "| cohort_dt | session_date | users_cnt | cohort_users_cnt | retention_rate |\n",
    "| --- | --- | --- | --- | --- |\n",
    "| 2008-07-01 00:00:00 | 2008-07-01 00:00:00 | 3 | 3 | 100 |\n",
    "| 2008-07-01 00:00:00 | 2008-08-01 00:00:00 | 2 | 3 | 66,67 |\n",
    "| 2008-07-01 00:00:00 | 2008-09-01 00:00:00 | 1 | 3 | 33,33 |\n",
    "| 2008-07-01 00:00:00 | 2008-10-01 00:00:00 | 2 | 3 | 66,67 |\n",
    "| 2008-07-01 00:00:00 | 2008-11-01 00:00:00 | 1 | 3 | 33,33 |\n",
    "| 2008-07-01 00:00:00 | 2008-12-01 00:00:00 | 2 | 3 | 66,67 |\n",
    "| 2008-08-01 00:00:00 | 2008-08-01 00:00:00 | 2151 | 2151 | 100 |\n",
    "| ... | ... | ... | ... | ... |"
   ]
  },
  {
   "cell_type": "code",
   "execution_count": 14,
   "metadata": {
    "id": "LUgFmwmTDWLB"
   },
   "outputs": [
    {
     "data": {
      "text/html": [
       "<div>\n",
       "<style scoped>\n",
       "    .dataframe tbody tr th:only-of-type {\n",
       "        vertical-align: middle;\n",
       "    }\n",
       "\n",
       "    .dataframe tbody tr th {\n",
       "        vertical-align: top;\n",
       "    }\n",
       "\n",
       "    .dataframe thead th {\n",
       "        text-align: right;\n",
       "    }\n",
       "</style>\n",
       "<table border=\"1\" class=\"dataframe\">\n",
       "  <thead>\n",
       "    <tr style=\"text-align: right;\">\n",
       "      <th></th>\n",
       "      <th>cohort_dt</th>\n",
       "      <th>session_date</th>\n",
       "      <th>users_cnt</th>\n",
       "      <th>cohort_users_cnt</th>\n",
       "      <th>retention_rate</th>\n",
       "    </tr>\n",
       "  </thead>\n",
       "  <tbody>\n",
       "    <tr>\n",
       "      <th>0</th>\n",
       "      <td>2008-07-01</td>\n",
       "      <td>2008-07-01</td>\n",
       "      <td>3</td>\n",
       "      <td>3</td>\n",
       "      <td>100.00</td>\n",
       "    </tr>\n",
       "    <tr>\n",
       "      <th>1</th>\n",
       "      <td>2008-07-01</td>\n",
       "      <td>2008-08-01</td>\n",
       "      <td>2</td>\n",
       "      <td>3</td>\n",
       "      <td>66.67</td>\n",
       "    </tr>\n",
       "    <tr>\n",
       "      <th>2</th>\n",
       "      <td>2008-07-01</td>\n",
       "      <td>2008-09-01</td>\n",
       "      <td>1</td>\n",
       "      <td>3</td>\n",
       "      <td>33.33</td>\n",
       "    </tr>\n",
       "    <tr>\n",
       "      <th>3</th>\n",
       "      <td>2008-07-01</td>\n",
       "      <td>2008-10-01</td>\n",
       "      <td>2</td>\n",
       "      <td>3</td>\n",
       "      <td>66.67</td>\n",
       "    </tr>\n",
       "    <tr>\n",
       "      <th>4</th>\n",
       "      <td>2008-07-01</td>\n",
       "      <td>2008-11-01</td>\n",
       "      <td>1</td>\n",
       "      <td>3</td>\n",
       "      <td>33.33</td>\n",
       "    </tr>\n",
       "    <tr>\n",
       "      <th>5</th>\n",
       "      <td>2008-07-01</td>\n",
       "      <td>2008-12-01</td>\n",
       "      <td>2</td>\n",
       "      <td>3</td>\n",
       "      <td>66.67</td>\n",
       "    </tr>\n",
       "    <tr>\n",
       "      <th>6</th>\n",
       "      <td>2008-08-01</td>\n",
       "      <td>2008-08-01</td>\n",
       "      <td>2151</td>\n",
       "      <td>2151</td>\n",
       "      <td>100.00</td>\n",
       "    </tr>\n",
       "    <tr>\n",
       "      <th>7</th>\n",
       "      <td>2008-08-01</td>\n",
       "      <td>2008-09-01</td>\n",
       "      <td>1571</td>\n",
       "      <td>2151</td>\n",
       "      <td>73.04</td>\n",
       "    </tr>\n",
       "    <tr>\n",
       "      <th>8</th>\n",
       "      <td>2008-08-01</td>\n",
       "      <td>2008-10-01</td>\n",
       "      <td>1275</td>\n",
       "      <td>2151</td>\n",
       "      <td>59.27</td>\n",
       "    </tr>\n",
       "    <tr>\n",
       "      <th>9</th>\n",
       "      <td>2008-08-01</td>\n",
       "      <td>2008-11-01</td>\n",
       "      <td>1050</td>\n",
       "      <td>2151</td>\n",
       "      <td>48.81</td>\n",
       "    </tr>\n",
       "    <tr>\n",
       "      <th>10</th>\n",
       "      <td>2008-08-01</td>\n",
       "      <td>2008-12-01</td>\n",
       "      <td>894</td>\n",
       "      <td>2151</td>\n",
       "      <td>41.56</td>\n",
       "    </tr>\n",
       "    <tr>\n",
       "      <th>11</th>\n",
       "      <td>2008-09-01</td>\n",
       "      <td>2008-09-01</td>\n",
       "      <td>7678</td>\n",
       "      <td>7678</td>\n",
       "      <td>100.00</td>\n",
       "    </tr>\n",
       "    <tr>\n",
       "      <th>12</th>\n",
       "      <td>2008-09-01</td>\n",
       "      <td>2008-10-01</td>\n",
       "      <td>4132</td>\n",
       "      <td>7678</td>\n",
       "      <td>53.82</td>\n",
       "    </tr>\n",
       "    <tr>\n",
       "      <th>13</th>\n",
       "      <td>2008-09-01</td>\n",
       "      <td>2008-11-01</td>\n",
       "      <td>2966</td>\n",
       "      <td>7678</td>\n",
       "      <td>38.63</td>\n",
       "    </tr>\n",
       "    <tr>\n",
       "      <th>14</th>\n",
       "      <td>2008-09-01</td>\n",
       "      <td>2008-12-01</td>\n",
       "      <td>2500</td>\n",
       "      <td>7678</td>\n",
       "      <td>32.56</td>\n",
       "    </tr>\n",
       "    <tr>\n",
       "      <th>15</th>\n",
       "      <td>2008-10-01</td>\n",
       "      <td>2008-10-01</td>\n",
       "      <td>3629</td>\n",
       "      <td>3629</td>\n",
       "      <td>100.00</td>\n",
       "    </tr>\n",
       "    <tr>\n",
       "      <th>16</th>\n",
       "      <td>2008-10-01</td>\n",
       "      <td>2008-11-01</td>\n",
       "      <td>1640</td>\n",
       "      <td>3629</td>\n",
       "      <td>45.19</td>\n",
       "    </tr>\n",
       "    <tr>\n",
       "      <th>17</th>\n",
       "      <td>2008-10-01</td>\n",
       "      <td>2008-12-01</td>\n",
       "      <td>1221</td>\n",
       "      <td>3629</td>\n",
       "      <td>33.65</td>\n",
       "    </tr>\n",
       "    <tr>\n",
       "      <th>18</th>\n",
       "      <td>2008-11-01</td>\n",
       "      <td>2008-11-01</td>\n",
       "      <td>2852</td>\n",
       "      <td>2852</td>\n",
       "      <td>100.00</td>\n",
       "    </tr>\n",
       "    <tr>\n",
       "      <th>19</th>\n",
       "      <td>2008-11-01</td>\n",
       "      <td>2008-12-01</td>\n",
       "      <td>1151</td>\n",
       "      <td>2852</td>\n",
       "      <td>40.36</td>\n",
       "    </tr>\n",
       "    <tr>\n",
       "      <th>20</th>\n",
       "      <td>2008-12-01</td>\n",
       "      <td>2008-12-01</td>\n",
       "      <td>2536</td>\n",
       "      <td>2536</td>\n",
       "      <td>100.00</td>\n",
       "    </tr>\n",
       "  </tbody>\n",
       "</table>\n",
       "</div>"
      ],
      "text/plain": [
       "     cohort_dt session_date  users_cnt  cohort_users_cnt  retention_rate\n",
       "0   2008-07-01   2008-07-01          3                 3          100.00\n",
       "1   2008-07-01   2008-08-01          2                 3           66.67\n",
       "2   2008-07-01   2008-09-01          1                 3           33.33\n",
       "3   2008-07-01   2008-10-01          2                 3           66.67\n",
       "4   2008-07-01   2008-11-01          1                 3           33.33\n",
       "5   2008-07-01   2008-12-01          2                 3           66.67\n",
       "6   2008-08-01   2008-08-01       2151              2151          100.00\n",
       "7   2008-08-01   2008-09-01       1571              2151           73.04\n",
       "8   2008-08-01   2008-10-01       1275              2151           59.27\n",
       "9   2008-08-01   2008-11-01       1050              2151           48.81\n",
       "10  2008-08-01   2008-12-01        894              2151           41.56\n",
       "11  2008-09-01   2008-09-01       7678              7678          100.00\n",
       "12  2008-09-01   2008-10-01       4132              7678           53.82\n",
       "13  2008-09-01   2008-11-01       2966              7678           38.63\n",
       "14  2008-09-01   2008-12-01       2500              7678           32.56\n",
       "15  2008-10-01   2008-10-01       3629              3629          100.00\n",
       "16  2008-10-01   2008-11-01       1640              3629           45.19\n",
       "17  2008-10-01   2008-12-01       1221              3629           33.65\n",
       "18  2008-11-01   2008-11-01       2852              2852          100.00\n",
       "19  2008-11-01   2008-12-01       1151              2852           40.36\n",
       "20  2008-12-01   2008-12-01       2536              2536          100.00"
      ]
     },
     "execution_count": 14,
     "metadata": {},
     "output_type": "execute_result"
    }
   ],
   "source": [
    "query = '''\n",
    "WITH first_dates AS\n",
    "  (SELECT DISTINCT user_id,\n",
    "          FIRST_VALUE(DATE_TRUNC('month', creation_date)) OVER (PARTITION BY user_id ORDER BY creation_date) AS first_date\n",
    "   FROM stackoverflow.posts),\n",
    "   \n",
    "cohorts AS \n",
    "(SELECT user_id,\n",
    "    first_date::date AS cohort_dt,\n",
    "    COUNT(user_id) OVER (PARTITION BY first_date) AS cohort_users_cnt\n",
    "FROM first_dates),\n",
    "\n",
    "sessions AS \n",
    "(SELECT user_id,\n",
    "        DATE_TRUNC('month', creation_date) AS session_date\n",
    "FROM stackoverflow.posts\n",
    "GROUP BY user_id, DATE_TRUNC('month', creation_date))\n",
    "\n",
    "SELECT c.cohort_dt::date,\n",
    "    s.session_date::date,\n",
    "    COUNT(c.user_id) AS users_cnt,\n",
    "    c.cohort_users_cnt,\n",
    "    ROUND(COUNT(c.user_id)::numeric * 100 / cohort_users_cnt, 2) AS retention_rate\n",
    "FROM cohorts AS c\n",
    "JOIN sessions AS s ON c.user_id = s.user_id\n",
    "GROUP BY c.cohort_dt, s.session_date, c.cohort_users_cnt\n",
    "\n",
    "'''\n",
    "\n",
    "result_df = pd.read_sql_query(query, con=engine)\n",
    "result_df"
   ]
  },
  {
   "cell_type": "markdown",
   "metadata": {
    "id": "_msBtnb2DWLC"
   },
   "source": [
    "Retention Rate heatmap:"
   ]
  },
  {
   "cell_type": "code",
   "execution_count": 15,
   "metadata": {
    "id": "qAEJc8H1DWLC"
   },
   "outputs": [
    {
     "data": {
      "image/png": "[encoded data removed]",
      "text/plain": [
       "<Figure size 1800x720 with 2 Axes>"
      ]
     },
     "metadata": {
      "needs_background": "light"
     },
     "output_type": "display_data"
    }
   ],
   "source": [
    "# pivot table with results\n",
    "retention = result_df.pivot('cohort_dt', 'session_date', 'retention_rate')\n",
    "retention.index = [str(x)[0:10] for x in retention.index]\n",
    "retention.columns = [str(x)[0:10] for x in retention.columns]\n",
    "\n",
    "# heatmap\n",
    "plt.figure(figsize=(25, 10)) \n",
    "sns.heatmap(retention, \n",
    "            annot=True, \n",
    "            annot_kws={'fontsize':12}, \n",
    "            fmt='') \n",
    "plt.title('Тепловая карта Retention Rate')\n",
    "\n",
    "plt.show()"
   ]
  },
  {
   "cell_type": "code",
   "execution_count": 16,
   "metadata": {},
   "outputs": [
    {
     "data": {
      "text/plain": [
       "cohort_dt\n",
       "2008-07-01       3\n",
       "2008-08-01    2151\n",
       "2008-09-01    7678\n",
       "2008-10-01    3629\n",
       "2008-11-01    2852\n",
       "2008-12-01    2536\n",
       "Name: users_cnt, dtype: int64"
      ]
     },
     "execution_count": 16,
     "metadata": {},
     "output_type": "execute_result"
    }
   ],
   "source": [
    "result_df.groupby('cohort_dt')['users_cnt'].first()"
   ]
  },
  {
   "cell_type": "markdown",
   "metadata": {
    "id": "EgOfIsI4DWLC"
   },
   "source": [
    "The July 2008 cohort seems to be the most uninformative: it includes only 3 people, which is why the retention rate varies so unevenly over time. In other cases, the % of remaining users in the cohort decreases with each successive month, with the biggest jump observed when moving from the first month to the second. It is probably common for a user to register, be active in the same month, find an answer to a question of interest, and then leave.\n",
    "\n",
    "The highest retention rate for the second month is for users of the cohort from August. This may also be due to the beginning of the school year, since past queries have shown that the number of post views in September is maximal.\n",
    "\n",
    "Further, the older the cohort, the more the retention rate decreases. For example, the % of remaining active users from November to the second month is only 40%"
   ]
  },
  {
   "cell_type": "markdown",
   "metadata": {
    "id": "1k7oPWt5DWLK"
   },
   "source": [
    "# Problem 9\n"
   ]
  },
  {
   "cell_type": "markdown",
   "metadata": {
    "id": "ALsYVSyRDWLM"
   },
   "source": [
    "By how much percent did the number of posts change each month from September 1 to December 31, 2008? Display a table with the following fields:\n",
    "\n",
    "- month number;\n",
    "- the number of posts for the month;\n",
    "- a percentage that shows how much the number of posts in the current month changed from the previous month.\n",
    "\n",
    "If there are fewer posts, the percentage should be negative; if there are more posts, the percentage should be positive. Round the percentage value to two decimal places.\n",
    "\n",
    "Recall that when dividing one integer by another in PostgreSQL, the result will be an integer rounded down to the nearest integer. To avoid this, convert the divisor to the `numeric` type."
   ]
  },
  {
   "cell_type": "markdown",
   "metadata": {
    "id": "u4E2zF8DDWLM"
   },
   "source": [
    "| creation_month | posts_count | percentage |\n",
    "| -------------- | ----------- | ---------- |\n",
    "| 9 | 70731 | Nan |\n",
    "| 10 | 63102 | -10.33 |\n",
    "| ... | ... | ... |"
   ]
  },
  {
   "cell_type": "code",
   "execution_count": 17,
   "metadata": {
    "id": "Mb5pShStDWLN"
   },
   "outputs": [
    {
     "data": {
      "text/html": [
       "<div>\n",
       "<style scoped>\n",
       "    .dataframe tbody tr th:only-of-type {\n",
       "        vertical-align: middle;\n",
       "    }\n",
       "\n",
       "    .dataframe tbody tr th {\n",
       "        vertical-align: top;\n",
       "    }\n",
       "\n",
       "    .dataframe thead th {\n",
       "        text-align: right;\n",
       "    }\n",
       "</style>\n",
       "<table border=\"1\" class=\"dataframe\">\n",
       "  <thead>\n",
       "    <tr style=\"text-align: right;\">\n",
       "      <th></th>\n",
       "      <th>creation_month</th>\n",
       "      <th>post_count</th>\n",
       "      <th>percentage</th>\n",
       "    </tr>\n",
       "  </thead>\n",
       "  <tbody>\n",
       "    <tr>\n",
       "      <th>0</th>\n",
       "      <td>9</td>\n",
       "      <td>70371</td>\n",
       "      <td>NaN</td>\n",
       "    </tr>\n",
       "    <tr>\n",
       "      <th>1</th>\n",
       "      <td>10</td>\n",
       "      <td>63102</td>\n",
       "      <td>-10.33</td>\n",
       "    </tr>\n",
       "    <tr>\n",
       "      <th>2</th>\n",
       "      <td>11</td>\n",
       "      <td>46975</td>\n",
       "      <td>-25.56</td>\n",
       "    </tr>\n",
       "    <tr>\n",
       "      <th>3</th>\n",
       "      <td>12</td>\n",
       "      <td>44592</td>\n",
       "      <td>-5.07</td>\n",
       "    </tr>\n",
       "  </tbody>\n",
       "</table>\n",
       "</div>"
      ],
      "text/plain": [
       "   creation_month  post_count  percentage\n",
       "0               9       70371         NaN\n",
       "1              10       63102      -10.33\n",
       "2              11       46975      -25.56\n",
       "3              12       44592       -5.07"
      ]
     },
     "execution_count": 17,
     "metadata": {},
     "output_type": "execute_result"
    }
   ],
   "source": [
    "query = '''\n",
    "WITH tt AS\n",
    "    (SELECT EXTRACT(MONTH FROM creation_date) AS creation_month,\n",
    "    COUNT(id) AS post_count\n",
    "    FROM stackoverflow.posts\n",
    "    WHERE creation_date::date BETWEEN '2008-09-01' AND '2008-12-31'\n",
    "    GROUP BY EXTRACT(month FROM creation_date))\n",
    "\n",
    "SELECT creation_month::integer,\n",
    "    post_count, \n",
    "    ROUND((post_count::numeric / LAG(post_count) OVER (ORDER BY creation_month) - 1) * 100, 2) AS percentage\n",
    "FROM tt\n",
    "'''\n",
    "\n",
    "result_df = pd.read_sql_query(query, con=engine)\n",
    "result_df.head()"
   ]
  },
  {
   "cell_type": "code",
   "execution_count": 18,
   "metadata": {
    "id": "377ABjiVDWLP"
   },
   "outputs": [
    {
     "data": {
      "image/png": "[encoded data removed]",
      "text/plain": [
       "<Figure size 432x288 with 1 Axes>"
      ]
     },
     "metadata": {},
     "output_type": "display_data"
    }
   ],
   "source": [
    "# pie chart\n",
    "result_df['post_count'].plot(kind='pie', labels=['Сентябрь', 'Октябрь', 'Ноябрь', 'Декабрь'], autopct='%1.1f%%')\n",
    "plt.title('Количество постов по месяцам')\n",
    "plt.show()"
   ]
  },
  {
   "cell_type": "markdown",
   "metadata": {
    "id": "uw7qMtafDWLP"
   },
   "source": [
    "# Problem 10"
   ]
  },
  {
   "cell_type": "markdown",
   "metadata": {
    "id": "oRBpWKx3DWLQ"
   },
   "source": [
    "Unload the activity data of the user who has published the most posts over time. Output the data for October 2008 in this form:\n",
    "\n",
    "- week number;\n",
    "- date and time of the last post published this week."
   ]
  },
  {
   "cell_type": "markdown",
   "metadata": {
    "id": "XjAWSn_3DWLQ"
   },
   "source": [
    "| week_creation | creation_date |\n",
    "| ------------- | ------------- |\n",
    "| 40 | 2008-10-05 09:00:58 |\n",
    "| 41 | 2008-10-12 21:22:23 |\n",
    "| ... | ... |"
   ]
  },
  {
   "cell_type": "code",
   "execution_count": 19,
   "metadata": {
    "id": "r5F5fSkwDWLQ"
   },
   "outputs": [
    {
     "data": {
      "text/html": [
       "<div>\n",
       "<style scoped>\n",
       "    .dataframe tbody tr th:only-of-type {\n",
       "        vertical-align: middle;\n",
       "    }\n",
       "\n",
       "    .dataframe tbody tr th {\n",
       "        vertical-align: top;\n",
       "    }\n",
       "\n",
       "    .dataframe thead th {\n",
       "        text-align: right;\n",
       "    }\n",
       "</style>\n",
       "<table border=\"1\" class=\"dataframe\">\n",
       "  <thead>\n",
       "    <tr style=\"text-align: right;\">\n",
       "      <th></th>\n",
       "      <th>week_creation</th>\n",
       "      <th>max</th>\n",
       "    </tr>\n",
       "  </thead>\n",
       "  <tbody>\n",
       "    <tr>\n",
       "      <th>0</th>\n",
       "      <td>40</td>\n",
       "      <td>2008-10-05 09:00:58</td>\n",
       "    </tr>\n",
       "    <tr>\n",
       "      <th>1</th>\n",
       "      <td>41</td>\n",
       "      <td>2008-10-12 21:22:23</td>\n",
       "    </tr>\n",
       "    <tr>\n",
       "      <th>2</th>\n",
       "      <td>42</td>\n",
       "      <td>2008-10-19 06:49:30</td>\n",
       "    </tr>\n",
       "    <tr>\n",
       "      <th>3</th>\n",
       "      <td>43</td>\n",
       "      <td>2008-10-26 21:44:36</td>\n",
       "    </tr>\n",
       "    <tr>\n",
       "      <th>4</th>\n",
       "      <td>44</td>\n",
       "      <td>2008-10-31 22:16:01</td>\n",
       "    </tr>\n",
       "  </tbody>\n",
       "</table>\n",
       "</div>"
      ],
      "text/plain": [
       "   week_creation                 max\n",
       "0             40 2008-10-05 09:00:58\n",
       "1             41 2008-10-12 21:22:23\n",
       "2             42 2008-10-19 06:49:30\n",
       "3             43 2008-10-26 21:44:36\n",
       "4             44 2008-10-31 22:16:01"
      ]
     },
     "execution_count": 19,
     "metadata": {},
     "output_type": "execute_result"
    }
   ],
   "source": [
    "query = '''\n",
    "WITH tt AS\n",
    "    (SELECT user_id,\n",
    "        COUNT(id) AS post_count\n",
    "    FROM stackoverflow.posts\n",
    "    GROUP BY user_id\n",
    "    ORDER BY post_count DESC\n",
    "    LIMIT 1)\n",
    "    \n",
    "SELECT DISTINCT EXTRACT(WEEK FROM creation_date)::integer AS week_creation,\n",
    "    MAX(creation_date) OVER (PARTITION BY EXTRACT(WEEK FROM creation_date))\n",
    "    FROM stackoverflow.posts\n",
    "    WHERE user_id = (SELECT user_id FROM tt)\n",
    "        AND DATE_TRUNC('month', creation_date) = '2008-10-01'\n",
    "'''\n",
    "\n",
    "result_df = pd.read_sql_query(query, con=engine)\n",
    "result_df.head()"
   ]
  }
 ],
 "metadata": {
  "ExecuteTimeLog": [
   {
    "duration": 879,
    "start_time": "2023-06-09T07:53:10.745Z"
   },
   {
    "duration": 4,
    "start_time": "2023-06-09T07:54:51.739Z"
   },
   {
    "duration": 6113,
    "start_time": "2023-06-09T07:54:58.226Z"
   },
   {
    "duration": 44,
    "start_time": "2023-06-09T07:55:25.555Z"
   },
   {
    "duration": 14,
    "start_time": "2023-06-09T07:55:28.550Z"
   },
   {
    "duration": 74,
    "start_time": "2023-06-09T08:01:52.475Z"
   },
   {
    "duration": 192,
    "start_time": "2023-06-09T08:03:34.232Z"
   },
   {
    "duration": 81,
    "start_time": "2023-06-09T08:04:02.452Z"
   },
   {
    "duration": 8,
    "start_time": "2023-06-09T08:04:27.438Z"
   },
   {
    "duration": 57,
    "start_time": "2023-06-09T08:04:36.414Z"
   },
   {
    "duration": 315,
    "start_time": "2023-06-09T08:06:23.790Z"
   },
   {
    "duration": 913,
    "start_time": "2023-06-09T08:06:38.807Z"
   },
   {
    "duration": 148,
    "start_time": "2023-06-09T08:06:46.872Z"
   },
   {
    "duration": 125,
    "start_time": "2023-06-09T08:07:13.547Z"
   },
   {
    "duration": 145,
    "start_time": "2023-06-09T08:07:49.265Z"
   },
   {
    "duration": 142,
    "start_time": "2023-06-09T08:08:22.683Z"
   },
   {
    "duration": 120,
    "start_time": "2023-06-09T08:08:32.892Z"
   },
   {
    "duration": 138,
    "start_time": "2023-06-09T08:09:01.777Z"
   },
   {
    "duration": 76,
    "start_time": "2023-06-09T08:29:16.043Z"
   },
   {
    "duration": 146,
    "start_time": "2023-06-09T08:29:44.401Z"
   },
   {
    "duration": 14,
    "start_time": "2023-06-09T08:31:55.571Z"
   },
   {
    "duration": 20,
    "start_time": "2023-06-09T08:32:32.468Z"
   },
   {
    "duration": 14,
    "start_time": "2023-06-09T08:32:38.267Z"
   },
   {
    "duration": 9,
    "start_time": "2023-06-09T08:36:31.539Z"
   },
   {
    "duration": 113,
    "start_time": "2023-06-09T08:53:01.072Z"
   },
   {
    "duration": 3,
    "start_time": "2023-06-09T09:04:55.444Z"
   },
   {
    "duration": 1371,
    "start_time": "2023-06-09T09:05:04.949Z"
   },
   {
    "duration": 1210,
    "start_time": "2023-06-09T09:05:25.706Z"
   },
   {
    "duration": 54,
    "start_time": "2023-06-09T09:18:37.612Z"
   },
   {
    "duration": 72,
    "start_time": "2023-06-09T09:19:05.488Z"
   },
   {
    "duration": 96,
    "start_time": "2023-06-09T09:19:11.987Z"
   },
   {
    "duration": 57,
    "start_time": "2023-06-09T09:19:16.579Z"
   },
   {
    "duration": 43,
    "start_time": "2023-06-09T09:19:23.181Z"
   },
   {
    "duration": 54,
    "start_time": "2023-06-09T09:19:26.631Z"
   },
   {
    "duration": 44,
    "start_time": "2023-06-09T09:19:31.437Z"
   },
   {
    "duration": 65,
    "start_time": "2023-06-09T09:24:22.650Z"
   },
   {
    "duration": 33,
    "start_time": "2023-06-09T09:25:38.730Z"
   },
   {
    "duration": 69,
    "start_time": "2023-06-09T09:26:01.976Z"
   },
   {
    "duration": 32,
    "start_time": "2023-06-09T09:26:07.628Z"
   },
   {
    "duration": 40,
    "start_time": "2023-06-09T09:27:09.985Z"
   },
   {
    "duration": 42,
    "start_time": "2023-06-09T09:27:22.483Z"
   },
   {
    "duration": 35,
    "start_time": "2023-06-09T09:27:32.392Z"
   },
   {
    "duration": 1174,
    "start_time": "2023-06-09T09:37:33.848Z"
   },
   {
    "duration": 79,
    "start_time": "2023-06-09T09:56:32.508Z"
   },
   {
    "duration": 669,
    "start_time": "2023-06-09T09:56:47.249Z"
   },
   {
    "duration": 526,
    "start_time": "2023-06-09T09:57:52.816Z"
   },
   {
    "duration": 534,
    "start_time": "2023-06-09T09:57:59.796Z"
   },
   {
    "duration": 515,
    "start_time": "2023-06-09T09:58:23.209Z"
   },
   {
    "duration": 519,
    "start_time": "2023-06-09T09:59:04.988Z"
   },
   {
    "duration": 539,
    "start_time": "2023-06-09T10:00:23.726Z"
   },
   {
    "duration": 522,
    "start_time": "2023-06-09T10:03:19.084Z"
   },
   {
    "duration": 528,
    "start_time": "2023-06-09T10:04:25.829Z"
   },
   {
    "duration": 521,
    "start_time": "2023-06-09T10:04:29.476Z"
   },
   {
    "duration": 520,
    "start_time": "2023-06-09T10:04:47.900Z"
   },
   {
    "duration": 546,
    "start_time": "2023-06-09T10:05:02.189Z"
   },
   {
    "duration": 520,
    "start_time": "2023-06-09T10:05:19.057Z"
   },
   {
    "duration": 527,
    "start_time": "2023-06-09T10:05:25.117Z"
   },
   {
    "duration": 15,
    "start_time": "2023-06-09T10:06:50.173Z"
   },
   {
    "duration": 571,
    "start_time": "2023-06-09T10:07:30.220Z"
   },
   {
    "duration": 634,
    "start_time": "2023-06-09T10:07:42.837Z"
   },
   {
    "duration": 429,
    "start_time": "2023-06-09T10:07:51.054Z"
   },
   {
    "duration": 445,
    "start_time": "2023-06-09T10:08:15.372Z"
   },
   {
    "duration": 474,
    "start_time": "2023-06-09T10:08:22.162Z"
   },
   {
    "duration": 459,
    "start_time": "2023-06-09T10:08:29.359Z"
   },
   {
    "duration": 435,
    "start_time": "2023-06-09T10:08:41.849Z"
   },
   {
    "duration": 453,
    "start_time": "2023-06-09T10:09:03.533Z"
   },
   {
    "duration": 475,
    "start_time": "2023-06-09T10:09:39.312Z"
   },
   {
    "duration": 497,
    "start_time": "2023-06-09T10:09:43.747Z"
   },
   {
    "duration": 8,
    "start_time": "2023-06-09T10:13:52.379Z"
   },
   {
    "duration": 142,
    "start_time": "2023-06-09T10:30:21.402Z"
   },
   {
    "duration": 86,
    "start_time": "2023-06-09T10:30:37.644Z"
   },
   {
    "duration": 59,
    "start_time": "2023-06-09T10:30:49.442Z"
   },
   {
    "duration": 59,
    "start_time": "2023-06-09T10:31:19.275Z"
   },
   {
    "duration": 77,
    "start_time": "2023-06-09T10:31:50.917Z"
   },
   {
    "duration": 86,
    "start_time": "2023-06-09T10:32:08.170Z"
   },
   {
    "duration": 233,
    "start_time": "2023-06-09T10:34:01.472Z"
   },
   {
    "duration": 50,
    "start_time": "2023-06-09T10:34:15.867Z"
   },
   {
    "duration": 102,
    "start_time": "2023-06-09T10:35:26.384Z"
   },
   {
    "duration": 111,
    "start_time": "2023-06-09T10:35:36.356Z"
   },
   {
    "duration": 149,
    "start_time": "2023-06-09T10:37:09.959Z"
   },
   {
    "duration": 150,
    "start_time": "2023-06-09T10:37:20.643Z"
   },
   {
    "duration": 171,
    "start_time": "2023-06-09T10:37:23.846Z"
   },
   {
    "duration": 146,
    "start_time": "2023-06-09T10:37:27.307Z"
   },
   {
    "duration": 97,
    "start_time": "2023-06-09T10:37:30.910Z"
   },
   {
    "duration": 139,
    "start_time": "2023-06-09T10:37:34.786Z"
   },
   {
    "duration": 104,
    "start_time": "2023-06-09T10:37:55.494Z"
   },
   {
    "duration": 105,
    "start_time": "2023-06-09T10:43:33.966Z"
   },
   {
    "duration": 72,
    "start_time": "2023-06-09T10:44:07.835Z"
   },
   {
    "duration": 74,
    "start_time": "2023-06-09T10:44:17.822Z"
   },
   {
    "duration": 85,
    "start_time": "2023-06-09T10:44:28.591Z"
   },
   {
    "duration": 89,
    "start_time": "2023-06-09T10:44:34.527Z"
   },
   {
    "duration": 1329,
    "start_time": "2023-06-09T10:45:10.147Z"
   },
   {
    "duration": 4,
    "start_time": "2023-06-09T10:45:11.478Z"
   },
   {
    "duration": 5115,
    "start_time": "2023-06-09T10:45:11.483Z"
   },
   {
    "duration": 36,
    "start_time": "2023-06-09T10:45:16.600Z"
   },
   {
    "duration": 18,
    "start_time": "2023-06-09T10:45:16.638Z"
   },
   {
    "duration": 76,
    "start_time": "2023-06-09T10:45:16.659Z"
   },
   {
    "duration": 144,
    "start_time": "2023-06-09T10:45:16.736Z"
   },
   {
    "duration": 8,
    "start_time": "2023-06-09T10:45:16.882Z"
   },
   {
    "duration": 114,
    "start_time": "2023-06-09T10:45:16.892Z"
   },
   {
    "duration": 1280,
    "start_time": "2023-06-09T10:45:17.008Z"
   },
   {
    "duration": 43,
    "start_time": "2023-06-09T10:45:18.290Z"
   },
   {
    "duration": 35,
    "start_time": "2023-06-09T10:45:18.335Z"
   },
   {
    "duration": 1212,
    "start_time": "2023-06-09T10:45:18.373Z"
   },
   {
    "duration": 530,
    "start_time": "2023-06-09T10:45:19.587Z"
   },
   {
    "duration": 498,
    "start_time": "2023-06-09T10:45:20.118Z"
   },
   {
    "duration": 6,
    "start_time": "2023-06-09T10:45:20.618Z"
   },
   {
    "duration": 64,
    "start_time": "2023-06-09T10:45:20.626Z"
   },
   {
    "duration": 109,
    "start_time": "2023-06-09T10:45:20.692Z"
   },
   {
    "duration": 91,
    "start_time": "2023-06-09T10:45:20.803Z"
   },
   {
    "duration": 1355,
    "start_time": "2023-06-09T13:46:32.528Z"
   },
   {
    "duration": 4,
    "start_time": "2023-06-09T13:46:33.885Z"
   },
   {
    "duration": 12310,
    "start_time": "2023-06-09T13:46:33.890Z"
   },
   {
    "duration": 45,
    "start_time": "2023-06-09T13:46:46.202Z"
   },
   {
    "duration": 15,
    "start_time": "2023-06-09T13:46:46.249Z"
   },
   {
    "duration": 83,
    "start_time": "2023-06-09T13:46:46.265Z"
   },
   {
    "duration": 140,
    "start_time": "2023-06-09T13:46:46.350Z"
   },
   {
    "duration": 10,
    "start_time": "2023-06-09T13:46:46.492Z"
   },
   {
    "duration": 115,
    "start_time": "2023-06-09T13:46:46.503Z"
   },
   {
    "duration": 1207,
    "start_time": "2023-06-09T13:46:46.619Z"
   },
   {
    "duration": 43,
    "start_time": "2023-06-09T13:46:47.828Z"
   },
   {
    "duration": 31,
    "start_time": "2023-06-09T13:46:47.873Z"
   },
   {
    "duration": 1183,
    "start_time": "2023-06-09T13:46:47.906Z"
   },
   {
    "duration": 525,
    "start_time": "2023-06-09T13:46:49.093Z"
   },
   {
    "duration": 469,
    "start_time": "2023-06-09T13:46:49.619Z"
   },
   {
    "duration": 7,
    "start_time": "2023-06-09T13:46:50.089Z"
   },
   {
    "duration": 97,
    "start_time": "2023-06-09T13:46:50.097Z"
   },
   {
    "duration": 112,
    "start_time": "2023-06-09T13:46:50.196Z"
   },
   {
    "duration": 86,
    "start_time": "2023-06-09T13:46:50.309Z"
   },
   {
    "duration": 33,
    "start_time": "2023-06-09T13:50:34.501Z"
   },
   {
    "duration": 1195,
    "start_time": "2023-06-09T13:51:44.254Z"
   },
   {
    "duration": 512,
    "start_time": "2023-06-09T13:52:27.502Z"
   },
   {
    "duration": 86,
    "start_time": "2023-06-09T13:54:09.894Z"
   },
   {
    "duration": 86,
    "start_time": "2023-06-09T13:54:10.933Z"
   },
   {
    "duration": 83,
    "start_time": "2023-06-09T13:54:11.717Z"
   },
   {
    "duration": 89,
    "start_time": "2023-06-09T13:54:12.452Z"
   },
   {
    "duration": 85,
    "start_time": "2023-06-09T13:54:13.101Z"
   },
   {
    "duration": 88,
    "start_time": "2023-06-09T13:54:13.692Z"
   },
   {
    "duration": 1212,
    "start_time": "2023-06-09T13:54:38.504Z"
   },
   {
    "duration": 3,
    "start_time": "2023-06-09T13:54:39.718Z"
   },
   {
    "duration": 12583,
    "start_time": "2023-06-09T13:54:39.722Z"
   },
   {
    "duration": 47,
    "start_time": "2023-06-09T13:54:52.307Z"
   },
   {
    "duration": 14,
    "start_time": "2023-06-09T13:54:52.356Z"
   },
   {
    "duration": 77,
    "start_time": "2023-06-09T13:54:52.371Z"
   },
   {
    "duration": 146,
    "start_time": "2023-06-09T13:54:52.449Z"
   },
   {
    "duration": 8,
    "start_time": "2023-06-09T13:54:52.597Z"
   },
   {
    "duration": 134,
    "start_time": "2023-06-09T13:54:52.607Z"
   },
   {
    "duration": 1223,
    "start_time": "2023-06-09T13:54:52.743Z"
   },
   {
    "duration": 46,
    "start_time": "2023-06-09T13:54:53.967Z"
   },
   {
    "duration": 31,
    "start_time": "2023-06-09T13:54:54.015Z"
   },
   {
    "duration": 1135,
    "start_time": "2023-06-09T13:54:54.048Z"
   },
   {
    "duration": 519,
    "start_time": "2023-06-09T13:54:55.186Z"
   },
   {
    "duration": 468,
    "start_time": "2023-06-09T13:54:55.707Z"
   },
   {
    "duration": 6,
    "start_time": "2023-06-09T13:54:56.176Z"
   },
   {
    "duration": 72,
    "start_time": "2023-06-09T13:54:56.184Z"
   },
   {
    "duration": 100,
    "start_time": "2023-06-09T13:54:56.257Z"
   },
   {
    "duration": 85,
    "start_time": "2023-06-09T13:54:56.359Z"
   },
   {
    "duration": 1726,
    "start_time": "2023-06-09T16:43:28.232Z"
   },
   {
    "duration": 5,
    "start_time": "2023-06-09T16:43:31.458Z"
   },
   {
    "duration": 6415,
    "start_time": "2023-06-09T16:43:34.117Z"
   },
   {
    "duration": 61,
    "start_time": "2023-06-09T16:43:40.535Z"
   },
   {
    "duration": 20,
    "start_time": "2023-06-09T16:43:40.598Z"
   },
   {
    "duration": 78,
    "start_time": "2023-06-09T16:43:43.894Z"
   },
   {
    "duration": 165,
    "start_time": "2023-06-09T16:43:47.897Z"
   },
   {
    "duration": 10,
    "start_time": "2023-06-09T16:43:51.269Z"
   },
   {
    "duration": 120,
    "start_time": "2023-06-09T16:43:54.955Z"
   },
   {
    "duration": 1446,
    "start_time": "2023-06-09T16:44:00.054Z"
   },
   {
    "duration": 68,
    "start_time": "2023-06-09T16:44:05.339Z"
   },
   {
    "duration": 35,
    "start_time": "2023-06-09T16:44:26.488Z"
   },
   {
    "duration": 1363,
    "start_time": "2023-06-09T16:45:17.216Z"
   },
   {
    "duration": 539,
    "start_time": "2023-06-09T16:46:20.342Z"
   },
   {
    "duration": 71,
    "start_time": "2023-06-09T16:46:52.466Z"
   },
   {
    "duration": 198,
    "start_time": "2023-06-09T16:47:33.421Z"
   },
   {
    "duration": 1252,
    "start_time": "2023-06-09T21:04:26.139Z"
   },
   {
    "duration": 3,
    "start_time": "2023-06-09T21:04:27.393Z"
   },
   {
    "duration": 11876,
    "start_time": "2023-06-09T21:04:27.397Z"
   },
   {
    "duration": 219,
    "start_time": "2023-06-09T21:04:39.275Z"
   },
   {
    "duration": 13,
    "start_time": "2023-06-09T21:04:39.495Z"
   },
   {
    "duration": 122,
    "start_time": "2023-06-09T21:04:39.509Z"
   },
   {
    "duration": 167,
    "start_time": "2023-06-09T21:04:39.633Z"
   },
   {
    "duration": 8,
    "start_time": "2023-06-09T21:04:39.801Z"
   },
   {
    "duration": 144,
    "start_time": "2023-06-09T21:04:39.810Z"
   },
   {
    "duration": 1077,
    "start_time": "2023-06-09T21:04:39.956Z"
   },
   {
    "duration": 71,
    "start_time": "2023-06-09T21:04:41.035Z"
   },
   {
    "duration": 61,
    "start_time": "2023-06-09T21:04:41.107Z"
   },
   {
    "duration": 1067,
    "start_time": "2023-06-09T21:04:41.169Z"
   },
   {
    "duration": 887,
    "start_time": "2023-06-09T21:04:42.237Z"
   },
   {
    "duration": 427,
    "start_time": "2023-06-09T21:04:43.126Z"
   },
   {
    "duration": 7,
    "start_time": "2023-06-09T21:04:43.554Z"
   },
   {
    "duration": 94,
    "start_time": "2023-06-09T21:04:43.562Z"
   },
   {
    "duration": 79,
    "start_time": "2023-06-09T21:04:43.658Z"
   },
   {
    "duration": 115,
    "start_time": "2023-06-09T21:04:43.738Z"
   },
   {
    "duration": 1219,
    "start_time": "2023-06-09T21:06:58.260Z"
   },
   {
    "duration": 3,
    "start_time": "2023-06-09T21:06:59.482Z"
   },
   {
    "duration": 10294,
    "start_time": "2023-06-09T21:06:59.486Z"
   },
   {
    "duration": 217,
    "start_time": "2023-06-09T21:07:09.781Z"
   },
   {
    "duration": 12,
    "start_time": "2023-06-09T21:07:09.999Z"
   },
   {
    "duration": 137,
    "start_time": "2023-06-09T21:07:10.012Z"
   },
   {
    "duration": 165,
    "start_time": "2023-06-09T21:07:10.150Z"
   },
   {
    "duration": 9,
    "start_time": "2023-06-09T21:07:10.316Z"
   },
   {
    "duration": 155,
    "start_time": "2023-06-09T21:07:10.326Z"
   },
   {
    "duration": 1116,
    "start_time": "2023-06-09T21:07:10.483Z"
   },
   {
    "duration": 71,
    "start_time": "2023-06-09T21:07:11.600Z"
   },
   {
    "duration": 62,
    "start_time": "2023-06-09T21:07:11.672Z"
   },
   {
    "duration": 1117,
    "start_time": "2023-06-09T21:07:11.735Z"
   },
   {
    "duration": 550,
    "start_time": "2023-06-09T21:07:12.853Z"
   },
   {
    "duration": 410,
    "start_time": "2023-06-09T21:07:13.405Z"
   },
   {
    "duration": 5,
    "start_time": "2023-06-09T21:07:13.817Z"
   },
   {
    "duration": 97,
    "start_time": "2023-06-09T21:07:13.823Z"
   },
   {
    "duration": 86,
    "start_time": "2023-06-09T21:07:13.922Z"
   },
   {
    "duration": 115,
    "start_time": "2023-06-09T21:07:14.009Z"
   }
  ],
  "colab": {
   "provenance": []
  },
  "kernelspec": {
   "display_name": "Python 3 (ipykernel)",
   "language": "python",
   "name": "python3"
  },
  "language_info": {
   "codemirror_mode": {
    "name": "ipython",
    "version": 3
   },
   "file_extension": ".py",
   "mimetype": "text/x-python",
   "name": "python",
   "nbconvert_exporter": "python",
   "pygments_lexer": "ipython3",
   "version": "3.9.5"
  },
  "toc": {
   "base_numbering": 1,
   "nav_menu": {},
   "number_sections": true,
   "sideBar": true,
   "skip_h1_title": true,
   "title_cell": "Table of Contents",
   "title_sidebar": "Contents",
   "toc_cell": false,
   "toc_position": {},
   "toc_section_display": true,
   "toc_window_display": false
  }
 },
 "nbformat": 4,
 "nbformat_minor": 1
}
