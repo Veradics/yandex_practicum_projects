{
 "cells": [
  {
   "cell_type": "markdown",
   "id": "298f9d8e",
   "metadata": {},
   "source": [
    "Привет, меня зовут Максим и я буду проверять твой проект.\n",
    "<br>Небольшая вступительная часть и начнем работу)\n",
    "<br> Если не против, то предлагаю общаться на \"ты\". Если это не удобно - дай знать, и мы перейдем на \"вы\". Моя основная цель — не указать на совершенные ошибки, а поделиться своим опытом и помочь сделать твой проект лучше. Для этого я буду использовать разный стиль оформления комментариев. \n",
    "<div class=\"alert alert-block alert-success\">\n",
    "✔️ Все хорошо.\n",
    "</div>\n",
    "\n",
    "<div class=\"alert alert-warning\">\n",
    "⚠️ Критических замечаний нет, но есть возможность сделать твою работу лучше.\n",
    "</div>\n",
    "\n",
    "<div class=\"alert alert-block alert-danger\">\n",
    "❌ Если требуются исправления. Работа не может быть принята с красными комментариями.\n",
    "</div>\n",
    "\n",
    "\n",
    "Давай работать над проектом в диалоге: если ты что-то меняешь в проекте по моим рекомендациям — пиши об этом.\n",
    "Будет очень хорошо, если ты будешь помечать свои действия следующим образом:\n",
    "<div class=\"alert alert-block alert-info\">\n",
    "<b>Комментарий студента:</b> ...\n",
    "</div>\n",
    "Пожалуйста, не перемещай, не изменяй и не удаляй мои комментарии. Всё это поможет выполнить повторную проверку твоего проекта оперативнее».  "
   ]
  },
  {
   "cell_type": "markdown",
   "id": "76da7aa8",
   "metadata": {},
   "source": [
    "# Прогнозирование температуры звезды\n",
    "\n",
    "**Основной целью проекта** является создание нейронной сети, способной определять температуру на поверхности обнаруженных звезд. Заказчиком данного проекта выступает обсерватория \"Небо на ладони\". В распоряжении обсерватории имеются данные о характеристиках 240 изученных звезд.\n",
    "\n",
    "**Ход работы:**\n",
    "1. [Загрузка и описание данных](#loading)\n",
    "2. [Предобработка и анализ данных](#preprocessing)\n",
    "3. [Построение базовой нейронной сети](#basic)\n",
    "4. [Улучшение нейронной сети](#network)"
   ]
  },
  {
   "cell_type": "markdown",
   "id": "48fd5c2d",
   "metadata": {},
   "source": [
    "<div class=\"alert alert-success\">\n",
    "<h4>✔️ Комментарий ревьюера</h4>\n",
    "Здорово, что во вступлении к проекту есть заголовок, краткое описание проекта и его цель, а также план работы.\n",
    "\n",
    "Вступление станет лучше, если добавить в него описание данных, тогда получатель отчета сможет быстрей его понять.\n",
    "\n",
    "</div>"
   ]
  },
  {
   "cell_type": "markdown",
   "id": "corresponding-armstrong",
   "metadata": {
    "ExecuteTime": {
     "end_time": "2022-05-05T04:58:05.692448Z",
     "start_time": "2022-05-05T04:58:05.688565Z"
    }
   },
   "source": [
    "<a id='loading'></a>\n",
    "\n",
    "## Загрузка данных"
   ]
  },
  {
   "cell_type": "code",
   "execution_count": 294,
   "id": "spectacular-folder",
   "metadata": {},
   "outputs": [],
   "source": [
    "import pandas as pd\n",
    "import numpy as np\n",
    "import matplotlib.pyplot as plt\n",
    "from math import sqrt, ceil\n",
    "\n",
    "from sklearn.model_selection import train_test_split\n",
    "from sklearn.preprocessing import StandardScaler, OneHotEncoder\n",
    "from sklearn.metrics import mean_squared_error\n",
    "\n",
    "import torch\n",
    "import torch.nn as nn\n",
    "import torch.optim as optim\n",
    "\n",
    "import warnings\n",
    "warnings.filterwarnings(\"ignore\")"
   ]
  },
  {
   "cell_type": "markdown",
   "id": "7f50e8da",
   "metadata": {},
   "source": [
    "<div class=\"alert alert-success\">\n",
    "<h4>✔️ Комментарий ревьюера</h4>\n",
    "Отлично, все нужные библиотеки импортированы в начале ноутбука. Это хорошая практика.\n",
    "</div>"
   ]
  },
  {
   "cell_type": "code",
   "execution_count": 2,
   "id": "5b9a936b",
   "metadata": {},
   "outputs": [
    {
     "data": {
      "text/html": [
       "<div>\n",
       "<style scoped>\n",
       "    .dataframe tbody tr th:only-of-type {\n",
       "        vertical-align: middle;\n",
       "    }\n",
       "\n",
       "    .dataframe tbody tr th {\n",
       "        vertical-align: top;\n",
       "    }\n",
       "\n",
       "    .dataframe thead th {\n",
       "        text-align: right;\n",
       "    }\n",
       "</style>\n",
       "<table border=\"1\" class=\"dataframe\">\n",
       "  <thead>\n",
       "    <tr style=\"text-align: right;\">\n",
       "      <th></th>\n",
       "      <th>Unnamed: 0</th>\n",
       "      <th>Temperature (K)</th>\n",
       "      <th>Luminosity(L/Lo)</th>\n",
       "      <th>Radius(R/Ro)</th>\n",
       "      <th>Absolute magnitude(Mv)</th>\n",
       "      <th>Star type</th>\n",
       "      <th>Star color</th>\n",
       "    </tr>\n",
       "  </thead>\n",
       "  <tbody>\n",
       "    <tr>\n",
       "      <th>0</th>\n",
       "      <td>0</td>\n",
       "      <td>3068</td>\n",
       "      <td>0.002400</td>\n",
       "      <td>0.1700</td>\n",
       "      <td>16.12</td>\n",
       "      <td>0</td>\n",
       "      <td>Red</td>\n",
       "    </tr>\n",
       "    <tr>\n",
       "      <th>1</th>\n",
       "      <td>1</td>\n",
       "      <td>3042</td>\n",
       "      <td>0.000500</td>\n",
       "      <td>0.1542</td>\n",
       "      <td>16.60</td>\n",
       "      <td>0</td>\n",
       "      <td>Red</td>\n",
       "    </tr>\n",
       "    <tr>\n",
       "      <th>2</th>\n",
       "      <td>2</td>\n",
       "      <td>2600</td>\n",
       "      <td>0.000300</td>\n",
       "      <td>0.1020</td>\n",
       "      <td>18.70</td>\n",
       "      <td>0</td>\n",
       "      <td>Red</td>\n",
       "    </tr>\n",
       "    <tr>\n",
       "      <th>3</th>\n",
       "      <td>3</td>\n",
       "      <td>2800</td>\n",
       "      <td>0.000200</td>\n",
       "      <td>0.1600</td>\n",
       "      <td>16.65</td>\n",
       "      <td>0</td>\n",
       "      <td>Red</td>\n",
       "    </tr>\n",
       "    <tr>\n",
       "      <th>4</th>\n",
       "      <td>4</td>\n",
       "      <td>1939</td>\n",
       "      <td>0.000138</td>\n",
       "      <td>0.1030</td>\n",
       "      <td>20.06</td>\n",
       "      <td>0</td>\n",
       "      <td>Red</td>\n",
       "    </tr>\n",
       "  </tbody>\n",
       "</table>\n",
       "</div>"
      ],
      "text/plain": [
       "   Unnamed: 0  Temperature (K)  Luminosity(L/Lo)  Radius(R/Ro)  \\\n",
       "0           0             3068          0.002400        0.1700   \n",
       "1           1             3042          0.000500        0.1542   \n",
       "2           2             2600          0.000300        0.1020   \n",
       "3           3             2800          0.000200        0.1600   \n",
       "4           4             1939          0.000138        0.1030   \n",
       "\n",
       "   Absolute magnitude(Mv)  Star type Star color  \n",
       "0                   16.12          0        Red  \n",
       "1                   16.60          0        Red  \n",
       "2                   18.70          0        Red  \n",
       "3                   16.65          0        Red  \n",
       "4                   20.06          0        Red  "
      ]
     },
     "execution_count": 2,
     "metadata": {},
     "output_type": "execute_result"
    }
   ],
   "source": [
    "# загрузка данных\n",
    "data = pd.read_csv('/datasets/6_class.csv')\n",
    "data.head()"
   ]
  },
  {
   "cell_type": "markdown",
   "id": "a9e6b923",
   "metadata": {},
   "source": [
    "### Описание данных\n",
    "- `Luminosity(L/Lo)` — относительная светимость, светимость звезды относительно Солнца\n",
    "- `Radius(R/Ro)` — относительный радиус, радиус звезды относительно радиуса Солнца\n",
    "- `Absolute magnitude(Mv)` — абсолютная звёздная величина, физическая величина, характеризующая блеск звезды\n",
    "- `Star color` - звёздный цвет, цвет звезды, который определяют на основе спектрального анализа\n",
    "- `Star type` - тип звезды\n",
    "- `Temperature (K)` —  абсолютная температура, температура на поверхности звезды в Кельвинах\n",
    "\n",
    "Колонка `Unnamed` просто дублирует индекс - удалим ее. Остальные колонки переименуем, убрав пояснения в скобках, для простоты использования."
   ]
  },
  {
   "cell_type": "code",
   "execution_count": 3,
   "id": "184a8042",
   "metadata": {},
   "outputs": [
    {
     "data": {
      "text/html": [
       "<div>\n",
       "<style scoped>\n",
       "    .dataframe tbody tr th:only-of-type {\n",
       "        vertical-align: middle;\n",
       "    }\n",
       "\n",
       "    .dataframe tbody tr th {\n",
       "        vertical-align: top;\n",
       "    }\n",
       "\n",
       "    .dataframe thead th {\n",
       "        text-align: right;\n",
       "    }\n",
       "</style>\n",
       "<table border=\"1\" class=\"dataframe\">\n",
       "  <thead>\n",
       "    <tr style=\"text-align: right;\">\n",
       "      <th></th>\n",
       "      <th>temperature</th>\n",
       "      <th>luminosity</th>\n",
       "      <th>radius</th>\n",
       "      <th>magnitude</th>\n",
       "      <th>star_type</th>\n",
       "      <th>star_color</th>\n",
       "    </tr>\n",
       "  </thead>\n",
       "  <tbody>\n",
       "    <tr>\n",
       "      <th>0</th>\n",
       "      <td>3068</td>\n",
       "      <td>0.002400</td>\n",
       "      <td>0.1700</td>\n",
       "      <td>16.12</td>\n",
       "      <td>0</td>\n",
       "      <td>Red</td>\n",
       "    </tr>\n",
       "    <tr>\n",
       "      <th>1</th>\n",
       "      <td>3042</td>\n",
       "      <td>0.000500</td>\n",
       "      <td>0.1542</td>\n",
       "      <td>16.60</td>\n",
       "      <td>0</td>\n",
       "      <td>Red</td>\n",
       "    </tr>\n",
       "    <tr>\n",
       "      <th>2</th>\n",
       "      <td>2600</td>\n",
       "      <td>0.000300</td>\n",
       "      <td>0.1020</td>\n",
       "      <td>18.70</td>\n",
       "      <td>0</td>\n",
       "      <td>Red</td>\n",
       "    </tr>\n",
       "    <tr>\n",
       "      <th>3</th>\n",
       "      <td>2800</td>\n",
       "      <td>0.000200</td>\n",
       "      <td>0.1600</td>\n",
       "      <td>16.65</td>\n",
       "      <td>0</td>\n",
       "      <td>Red</td>\n",
       "    </tr>\n",
       "    <tr>\n",
       "      <th>4</th>\n",
       "      <td>1939</td>\n",
       "      <td>0.000138</td>\n",
       "      <td>0.1030</td>\n",
       "      <td>20.06</td>\n",
       "      <td>0</td>\n",
       "      <td>Red</td>\n",
       "    </tr>\n",
       "  </tbody>\n",
       "</table>\n",
       "</div>"
      ],
      "text/plain": [
       "   temperature  luminosity  radius  magnitude  star_type star_color\n",
       "0         3068    0.002400  0.1700      16.12          0        Red\n",
       "1         3042    0.000500  0.1542      16.60          0        Red\n",
       "2         2600    0.000300  0.1020      18.70          0        Red\n",
       "3         2800    0.000200  0.1600      16.65          0        Red\n",
       "4         1939    0.000138  0.1030      20.06          0        Red"
      ]
     },
     "execution_count": 3,
     "metadata": {},
     "output_type": "execute_result"
    }
   ],
   "source": [
    "data.drop(columns='Unnamed: 0', inplace=True)\n",
    "data.columns = ['temperature', 'luminosity', 'radius', 'magnitude', 'star_type', 'star_color']\n",
    "data.head()"
   ]
  },
  {
   "cell_type": "markdown",
   "id": "simple-subdivision",
   "metadata": {},
   "source": [
    "<a id='preprocessing'></a>\n",
    "## Предобработка и анализ данных"
   ]
  },
  {
   "cell_type": "code",
   "execution_count": 4,
   "id": "flush-dream",
   "metadata": {},
   "outputs": [
    {
     "name": "stdout",
     "output_type": "stream",
     "text": [
      "<class 'pandas.core.frame.DataFrame'>\n",
      "RangeIndex: 240 entries, 0 to 239\n",
      "Data columns (total 6 columns):\n",
      " #   Column       Non-Null Count  Dtype  \n",
      "---  ------       --------------  -----  \n",
      " 0   temperature  240 non-null    int64  \n",
      " 1   luminosity   240 non-null    float64\n",
      " 2   radius       240 non-null    float64\n",
      " 3   magnitude    240 non-null    float64\n",
      " 4   star_type    240 non-null    int64  \n",
      " 5   star_color   240 non-null    object \n",
      "dtypes: float64(3), int64(2), object(1)\n",
      "memory usage: 11.4+ KB\n"
     ]
    }
   ],
   "source": [
    "data.info()"
   ]
  },
  {
   "cell_type": "markdown",
   "id": "a6f90dd2",
   "metadata": {},
   "source": [
    "В датасете представлена информация о 240 звездах, пропусков не наблюдается. Типы данных соответствуют ожидаемым."
   ]
  },
  {
   "cell_type": "code",
   "execution_count": 9,
   "id": "79d112b9",
   "metadata": {},
   "outputs": [
    {
     "data": {
      "image/png": "[encoded data removed]",
      "text/plain": [
       "<Figure size 720x504 with 4 Axes>"
      ]
     },
     "metadata": {
      "needs_background": "light"
     },
     "output_type": "display_data"
    }
   ],
   "source": [
    "# temperature\n",
    "data[['temperature', 'luminosity', 'radius', 'magnitude']].hist(figsize=(10, 7))\n",
    "plt.show()"
   ]
  },
  {
   "cell_type": "markdown",
   "id": "f112956c",
   "metadata": {},
   "source": [
    "Данные в столбцах `temperature` и `luminosity` распределены экспоненциально, аномально выбивающихся значений не наблюдается. Рассмотрим столбец `radius` отдельно: "
   ]
  },
  {
   "cell_type": "code",
   "execution_count": 13,
   "id": "b49fece0",
   "metadata": {},
   "outputs": [
    {
     "data": {
      "image/png": "[encoded data removed]",
      "text/plain": [
       "<Figure size 432x288 with 1 Axes>"
      ]
     },
     "metadata": {
      "needs_background": "light"
     },
     "output_type": "display_data"
    },
    {
     "data": {
      "text/plain": [
       "count     240.000000\n",
       "mean      237.157781\n",
       "std       517.155763\n",
       "min         0.008400\n",
       "25%         0.102750\n",
       "50%         0.762500\n",
       "75%        42.750000\n",
       "max      1948.500000\n",
       "Name: radius, dtype: float64"
      ]
     },
     "execution_count": 13,
     "metadata": {},
     "output_type": "execute_result"
    }
   ],
   "source": [
    "data.boxplot('radius')\n",
    "plt.show()\n",
    "\n",
    "data['radius'].describe()"
   ]
  },
  {
   "cell_type": "markdown",
   "id": "648a2774",
   "metadata": {},
   "source": [
    "Судя по последнему графику, в столбце с радиусом наблюдается множество выбросов (значения больше 500)"
   ]
  },
  {
   "cell_type": "code",
   "execution_count": 19,
   "id": "2da82333",
   "metadata": {},
   "outputs": [
    {
     "name": "stdout",
     "output_type": "stream",
     "text": [
      "Процент выбросов: 16.67%\n",
      "Число строк: 40\n"
     ]
    }
   ],
   "source": [
    "print(f'Процент выбросов: {round(data[data[\"radius\"] > 500].shape[0] / data.shape[0]*100, 2)}%')\n",
    "print(f'Число строк: {data[data[\"radius\"] > 500].shape[0]}')"
   ]
  },
  {
   "cell_type": "markdown",
   "id": "e385fa70",
   "metadata": {},
   "source": [
    "Однако, нецелесообразно удалять эти выбросы из датасета, поскольку он имеет небольшой объем (всего 240 строк). Следует сохранить эти строки, так как в случае, если в будущем нейросети будут предоставлены характеристики звезд с большими радиусами, она не сможет корректно обработать такие данные.\n",
    "\n",
    "Что касается категориальных признаков, данные в столбце `star_type` уже закодированы. Посмотрим на столбец `star_color`:"
   ]
  },
  {
   "cell_type": "code",
   "execution_count": 20,
   "id": "0a256d8c",
   "metadata": {},
   "outputs": [
    {
     "data": {
      "text/plain": [
       "Red                   112\n",
       "Blue                   55\n",
       "Blue-white             26\n",
       "Blue White             10\n",
       "yellow-white            8\n",
       "White                   7\n",
       "Blue white              3\n",
       "white                   3\n",
       "Yellowish White         3\n",
       "Whitish                 2\n",
       "Orange                  2\n",
       "yellowish               2\n",
       "Blue white              1\n",
       "Blue                    1\n",
       "White-Yellow            1\n",
       "Pale yellow orange      1\n",
       "Blue-White              1\n",
       "Orange-Red              1\n",
       "Yellowish               1\n",
       "Name: star_color, dtype: int64"
      ]
     },
     "execution_count": 20,
     "metadata": {},
     "output_type": "execute_result"
    }
   ],
   "source": [
    "data['star_color'].value_counts()"
   ]
  },
  {
   "cell_type": "markdown",
   "id": "e6709c19",
   "metadata": {},
   "source": [
    "Можно заметить, что в столбце присутствует множество неявных дубликатов, обусловленных различным написанием одних и тех же цветов."
   ]
  },
  {
   "cell_type": "code",
   "execution_count": 23,
   "id": "f2255c0e",
   "metadata": {},
   "outputs": [
    {
     "data": {
      "text/plain": [
       "red                   112\n",
       "blue                   56\n",
       "blue-white             41\n",
       "white                  10\n",
       "yellow-white            8\n",
       "yellowish               3\n",
       "yellowish-white         3\n",
       "whitish                 2\n",
       "orange                  2\n",
       "pale-yellow-orange      1\n",
       "orange-red              1\n",
       "white-yellow            1\n",
       "Name: star_color, dtype: int64"
      ]
     },
     "execution_count": 23,
     "metadata": {},
     "output_type": "execute_result"
    }
   ],
   "source": [
    "data['star_color'] = data['star_color'].str.lower().str.strip().str.replace(' ', '-')\n",
    "data['star_color'].value_counts()"
   ]
  },
  {
   "cell_type": "markdown",
   "id": "1351c88c",
   "metadata": {},
   "source": [
    "Чтобы сократить количество категорий, выделим три основные: \"red\", \"blue\" и \"other\". \\\n",
    "В последнюю категорию войдут все остальные цвета (\"white\", \"yellow\" и т.д.)"
   ]
  },
  {
   "cell_type": "code",
   "execution_count": 30,
   "id": "22b639f1",
   "metadata": {},
   "outputs": [
    {
     "data": {
      "text/plain": [
       "red      113\n",
       "blue      97\n",
       "other     30\n",
       "Name: star_color, dtype: int64"
      ]
     },
     "execution_count": 30,
     "metadata": {},
     "output_type": "execute_result"
    }
   ],
   "source": [
    "def main_color(color):\n",
    "    if 'blue' in color:\n",
    "        return 'blue'\n",
    "    if 'red' in color:\n",
    "        return 'red'\n",
    "    \n",
    "    return 'other'\n",
    "\n",
    "data['star_color'] = data['star_color'].apply(main_color)\n",
    "data['star_color'].value_counts()    "
   ]
  },
  {
   "cell_type": "markdown",
   "id": "39f60c40",
   "metadata": {},
   "source": [
    "<div class=\"alert alert-success\">\n",
    "<h4>✔️ Комментарий ревьюера</h4>\n",
    "Хороший, подробный анализ данных. Наглядно показано, с чем идет работа в проекте. Отлично, что были замечены и исправлены неявные дубликаты в цветах звезд - они могли негативно повлиять на будущую модель.\n",
    "</div>"
   ]
  },
  {
   "cell_type": "markdown",
   "id": "258d5373",
   "metadata": {},
   "source": [
    "Разбиение данных на выборки:"
   ]
  },
  {
   "cell_type": "code",
   "execution_count": 443,
   "id": "df68d9b5",
   "metadata": {},
   "outputs": [
    {
     "name": "stdout",
     "output_type": "stream",
     "text": [
      "Размер обучающей выборки: 168\n",
      "Размер валидационной выборки: 36\n",
      "Размер тестовой выборки: 36\n"
     ]
    }
   ],
   "source": [
    "features = data.drop(columns=['temperature'])\n",
    "target = data['temperature']\n",
    "\n",
    "# выделение обучающей, валидационной и тестовой выборок\n",
    "features_train, features_test, target_train, target_test = train_test_split(features, target, test_size=0.30, \n",
    "                                                                            shuffle=True, random_state=42)\n",
    "\n",
    "features_test, features_valid, target_test, target_valid = train_test_split(features_test, target_test, test_size=0.5, \n",
    "                                                                            shuffle=True, random_state=42)\n",
    "\n",
    "\n",
    "print('Размер обучающей выборки:', features_train.shape[0])\n",
    "print('Размер валидационной выборки:', features_valid.shape[0])\n",
    "print('Размер тестовой выборки:', features_test.shape[0])"
   ]
  },
  {
   "cell_type": "markdown",
   "id": "24a23123",
   "metadata": {},
   "source": [
    "<div class=\"alert alert-warning\">\n",
    "<h4>⚠️ Комментарий ревьюера</h4>\n",
    "Как уже было отмечено выше, размер выборки совсем небольшой. Возможно, стоит отказаться от использования валидационной выборки в пользу расширения тренировочной и тестовой.\n",
    "</div> "
   ]
  },
  {
   "cell_type": "markdown",
   "id": "04d05864",
   "metadata": {},
   "source": [
    "<div class=\"alert alert-block alert-info\">\n",
    "<b>Комментарий студента:</b> Помню с прошлых проектов, что обычно ругают, если не проверяешь качество модели на тестовой выборке. Или же, если идет отказ от валидационной, стоит делать проверку качества и подбор оптимальных параметров только на тренировочной?\n",
    "</div>"
   ]
  },
  {
   "cell_type": "markdown",
   "id": "7c5482a9",
   "metadata": {},
   "source": [
    "<div class=\"alert alert-success\">\n",
    "<h4>✔️ Комментарий ревьюера v2</h4>\n",
    "Использование и тестовой, и валидационной выборки - это хорошая практика. Однако при недостаточном размере выборки, можно отказаться от разделения и обучать модель на тренировочной выборке, а net.eval проводить на тестовой. Таким образом, метрика, полученная при net.eval на тестовой выборке будет считаться итоговой метрикой модели.\n",
    "</div>"
   ]
  },
  {
   "cell_type": "markdown",
   "id": "b452bc7c",
   "metadata": {},
   "source": [
    "Шкалирование численных признаков + OHE категориальных:"
   ]
  },
  {
   "cell_type": "code",
   "execution_count": 444,
   "id": "a5d563b2",
   "metadata": {},
   "outputs": [],
   "source": [
    "# масштабирование\n",
    "numeric = ['luminosity', 'radius', 'magnitude']\n",
    "\n",
    "scaler = StandardScaler()\n",
    "scaler.fit(features_train[numeric])\n",
    "\n",
    "features_train[numeric] = scaler.transform(features_train[numeric])\n",
    "features_valid[numeric] = scaler.transform(features_valid[numeric])\n",
    "features_test[numeric] = scaler.transform(features_test[numeric])"
   ]
  },
  {
   "cell_type": "code",
   "execution_count": 445,
   "id": "75e94d67",
   "metadata": {},
   "outputs": [
    {
     "data": {
      "text/html": [
       "<div>\n",
       "<style scoped>\n",
       "    .dataframe tbody tr th:only-of-type {\n",
       "        vertical-align: middle;\n",
       "    }\n",
       "\n",
       "    .dataframe tbody tr th {\n",
       "        vertical-align: top;\n",
       "    }\n",
       "\n",
       "    .dataframe thead th {\n",
       "        text-align: right;\n",
       "    }\n",
       "</style>\n",
       "<table border=\"1\" class=\"dataframe\">\n",
       "  <thead>\n",
       "    <tr style=\"text-align: right;\">\n",
       "      <th></th>\n",
       "      <th>luminosity</th>\n",
       "      <th>radius</th>\n",
       "      <th>magnitude</th>\n",
       "      <th>star_type_1</th>\n",
       "      <th>star_type_2</th>\n",
       "      <th>star_type_3</th>\n",
       "      <th>star_type_4</th>\n",
       "      <th>star_type_5</th>\n",
       "      <th>star_color_other</th>\n",
       "      <th>star_color_red</th>\n",
       "    </tr>\n",
       "  </thead>\n",
       "  <tbody>\n",
       "    <tr>\n",
       "      <th>29</th>\n",
       "      <td>-0.605495</td>\n",
       "      <td>-0.432609</td>\n",
       "      <td>0.921181</td>\n",
       "      <td>0.0</td>\n",
       "      <td>1.0</td>\n",
       "      <td>0.0</td>\n",
       "      <td>0.0</td>\n",
       "      <td>0.0</td>\n",
       "      <td>1.0</td>\n",
       "      <td>0.0</td>\n",
       "    </tr>\n",
       "    <tr>\n",
       "      <th>124</th>\n",
       "      <td>-0.605495</td>\n",
       "      <td>-0.432415</td>\n",
       "      <td>1.215105</td>\n",
       "      <td>0.0</td>\n",
       "      <td>0.0</td>\n",
       "      <td>0.0</td>\n",
       "      <td>0.0</td>\n",
       "      <td>0.0</td>\n",
       "      <td>0.0</td>\n",
       "      <td>1.0</td>\n",
       "    </tr>\n",
       "    <tr>\n",
       "      <th>75</th>\n",
       "      <td>-0.605495</td>\n",
       "      <td>-0.431926</td>\n",
       "      <td>0.696871</td>\n",
       "      <td>1.0</td>\n",
       "      <td>0.0</td>\n",
       "      <td>0.0</td>\n",
       "      <td>0.0</td>\n",
       "      <td>0.0</td>\n",
       "      <td>0.0</td>\n",
       "      <td>1.0</td>\n",
       "    </tr>\n",
       "    <tr>\n",
       "      <th>82</th>\n",
       "      <td>-0.605495</td>\n",
       "      <td>-0.432616</td>\n",
       "      <td>0.892176</td>\n",
       "      <td>0.0</td>\n",
       "      <td>1.0</td>\n",
       "      <td>0.0</td>\n",
       "      <td>0.0</td>\n",
       "      <td>0.0</td>\n",
       "      <td>1.0</td>\n",
       "      <td>0.0</td>\n",
       "    </tr>\n",
       "    <tr>\n",
       "      <th>5</th>\n",
       "      <td>-0.605495</td>\n",
       "      <td>-0.432413</td>\n",
       "      <td>1.201569</td>\n",
       "      <td>0.0</td>\n",
       "      <td>0.0</td>\n",
       "      <td>0.0</td>\n",
       "      <td>0.0</td>\n",
       "      <td>0.0</td>\n",
       "      <td>0.0</td>\n",
       "      <td>1.0</td>\n",
       "    </tr>\n",
       "  </tbody>\n",
       "</table>\n",
       "</div>"
      ],
      "text/plain": [
       "     luminosity    radius  magnitude  star_type_1  star_type_2  star_type_3  \\\n",
       "29    -0.605495 -0.432609   0.921181          0.0          1.0          0.0   \n",
       "124   -0.605495 -0.432415   1.215105          0.0          0.0          0.0   \n",
       "75    -0.605495 -0.431926   0.696871          1.0          0.0          0.0   \n",
       "82    -0.605495 -0.432616   0.892176          0.0          1.0          0.0   \n",
       "5     -0.605495 -0.432413   1.201569          0.0          0.0          0.0   \n",
       "\n",
       "     star_type_4  star_type_5  star_color_other  star_color_red  \n",
       "29           0.0          0.0               1.0             0.0  \n",
       "124          0.0          0.0               0.0             1.0  \n",
       "75           0.0          0.0               0.0             1.0  \n",
       "82           0.0          0.0               1.0             0.0  \n",
       "5            0.0          0.0               0.0             1.0  "
      ]
     },
     "metadata": {},
     "output_type": "display_data"
    },
    {
     "data": {
      "text/html": [
       "<div>\n",
       "<style scoped>\n",
       "    .dataframe tbody tr th:only-of-type {\n",
       "        vertical-align: middle;\n",
       "    }\n",
       "\n",
       "    .dataframe tbody tr th {\n",
       "        vertical-align: top;\n",
       "    }\n",
       "\n",
       "    .dataframe thead th {\n",
       "        text-align: right;\n",
       "    }\n",
       "</style>\n",
       "<table border=\"1\" class=\"dataframe\">\n",
       "  <thead>\n",
       "    <tr style=\"text-align: right;\">\n",
       "      <th></th>\n",
       "      <th>luminosity</th>\n",
       "      <th>radius</th>\n",
       "      <th>magnitude</th>\n",
       "      <th>star_type_1</th>\n",
       "      <th>star_type_2</th>\n",
       "      <th>star_type_3</th>\n",
       "      <th>star_type_4</th>\n",
       "      <th>star_type_5</th>\n",
       "      <th>star_color_other</th>\n",
       "      <th>star_color_red</th>\n",
       "    </tr>\n",
       "  </thead>\n",
       "  <tbody>\n",
       "    <tr>\n",
       "      <th>101</th>\n",
       "      <td>4.246425</td>\n",
       "      <td>-0.404254</td>\n",
       "      <td>-1.042498</td>\n",
       "      <td>0.0</td>\n",
       "      <td>0.0</td>\n",
       "      <td>0.0</td>\n",
       "      <td>1.0</td>\n",
       "      <td>0.0</td>\n",
       "      <td>0.0</td>\n",
       "      <td>0.0</td>\n",
       "    </tr>\n",
       "    <tr>\n",
       "      <th>109</th>\n",
       "      <td>1.495213</td>\n",
       "      <td>-0.296807</td>\n",
       "      <td>-0.999957</td>\n",
       "      <td>0.0</td>\n",
       "      <td>0.0</td>\n",
       "      <td>0.0</td>\n",
       "      <td>1.0</td>\n",
       "      <td>0.0</td>\n",
       "      <td>0.0</td>\n",
       "      <td>0.0</td>\n",
       "    </tr>\n",
       "    <tr>\n",
       "      <th>15</th>\n",
       "      <td>-0.605495</td>\n",
       "      <td>-0.432149</td>\n",
       "      <td>0.823529</td>\n",
       "      <td>1.0</td>\n",
       "      <td>0.0</td>\n",
       "      <td>0.0</td>\n",
       "      <td>0.0</td>\n",
       "      <td>0.0</td>\n",
       "      <td>0.0</td>\n",
       "      <td>1.0</td>\n",
       "    </tr>\n",
       "    <tr>\n",
       "      <th>79</th>\n",
       "      <td>-0.605495</td>\n",
       "      <td>-0.432309</td>\n",
       "      <td>0.911513</td>\n",
       "      <td>1.0</td>\n",
       "      <td>0.0</td>\n",
       "      <td>0.0</td>\n",
       "      <td>0.0</td>\n",
       "      <td>0.0</td>\n",
       "      <td>0.0</td>\n",
       "      <td>1.0</td>\n",
       "    </tr>\n",
       "    <tr>\n",
       "      <th>9</th>\n",
       "      <td>-0.605495</td>\n",
       "      <td>-0.432372</td>\n",
       "      <td>1.111651</td>\n",
       "      <td>0.0</td>\n",
       "      <td>0.0</td>\n",
       "      <td>0.0</td>\n",
       "      <td>0.0</td>\n",
       "      <td>0.0</td>\n",
       "      <td>0.0</td>\n",
       "      <td>1.0</td>\n",
       "    </tr>\n",
       "  </tbody>\n",
       "</table>\n",
       "</div>"
      ],
      "text/plain": [
       "     luminosity    radius  magnitude  star_type_1  star_type_2  star_type_3  \\\n",
       "101    4.246425 -0.404254  -1.042498          0.0          0.0          0.0   \n",
       "109    1.495213 -0.296807  -0.999957          0.0          0.0          0.0   \n",
       "15    -0.605495 -0.432149   0.823529          1.0          0.0          0.0   \n",
       "79    -0.605495 -0.432309   0.911513          1.0          0.0          0.0   \n",
       "9     -0.605495 -0.432372   1.111651          0.0          0.0          0.0   \n",
       "\n",
       "     star_type_4  star_type_5  star_color_other  star_color_red  \n",
       "101          1.0          0.0               0.0             0.0  \n",
       "109          1.0          0.0               0.0             0.0  \n",
       "15           0.0          0.0               0.0             1.0  \n",
       "79           0.0          0.0               0.0             1.0  \n",
       "9            0.0          0.0               0.0             1.0  "
      ]
     },
     "metadata": {},
     "output_type": "display_data"
    }
   ],
   "source": [
    "# кодирование нечисловых столбцов (OHE)\n",
    "categorical = ['star_type', 'star_color']\n",
    "enc = OneHotEncoder(sparse=False, drop='first')\n",
    "enc.fit(features_train[categorical])\n",
    "\n",
    "# наименования столбцов\n",
    "ohe_column_names = []\n",
    "for feature, categories in zip(categorical, enc.categories_):\n",
    "    ohe_column_names.extend([f\"{feature}_{category}\" for category in categories[1:]])\n",
    "\n",
    "# train\n",
    "encoded_train = pd.DataFrame(enc.transform(features_train[categorical]), index=features_train.index, columns=ohe_column_names)\n",
    "features_train = pd.concat([features_train, encoded_train], axis=1)\n",
    "features_train.drop(columns=['star_type', 'star_color'], inplace=True)\n",
    "\n",
    "# valid\n",
    "encoded_valid = pd.DataFrame(enc.transform(features_valid[categorical]), index=features_valid.index, columns=ohe_column_names)\n",
    "features_valid = pd.concat([features_valid, encoded_valid], axis=1)\n",
    "features_valid.drop(columns=['star_type', 'star_color'], inplace=True)\n",
    "\n",
    "# test\n",
    "encoded_test = pd.DataFrame(enc.transform(features_test[categorical]), index=features_test.index, columns=ohe_column_names)\n",
    "features_test = pd.concat([features_test, encoded_test], axis=1)\n",
    "features_test.drop(columns=['star_type', 'star_color'], inplace=True)\n",
    "\n",
    "\n",
    "display(features_train.head())\n",
    "display(features_test.head())"
   ]
  },
  {
   "cell_type": "markdown",
   "id": "98e45034",
   "metadata": {},
   "source": [
    "<div class=\"alert alert-success\">\n",
    "<h4>✔️ Комментарий ревьюера</h4>\n",
    "Предобработка данных проведена корректно. Такие данные можно подавать в нейросеть.\n",
    "</div>"
   ]
  },
  {
   "cell_type": "markdown",
   "id": "7b54e1b1",
   "metadata": {},
   "source": [
    "<div class=\"alert alert-warning\">\n",
    "<h4>⚠️ Комментарий ревьюера</h4>\n",
    "Небольшое замечание по комментарию тут:\n",
    "    \n",
    "    enc = OneHotEncoder(sparse=False, drop='first') # неизвестные категории будут столбцами с 0\n",
    "    \n",
    "Зануляет неизвестные категории параметр handle_unknown='ignore', и он не используется с drop='first'.\n",
    "</div> "
   ]
  },
  {
   "cell_type": "markdown",
   "id": "6fdb2f27",
   "metadata": {},
   "source": [
    "<div class=\"alert alert-block alert-info\">\n",
    "<b>Комментарий студента:</b> Вот что бывает, когда пишешь проект поздно ночью и перебираешь несколько вариантов) Спасибо, что указали на неточность - убрала. \n",
    "</div>"
   ]
  },
  {
   "cell_type": "markdown",
   "id": "324fb5de",
   "metadata": {},
   "source": [
    "<div class=\"alert alert-success\">\n",
    "<h4>✔️ Комментарий ревьюера v2</h4>\n",
    "👍\n",
    "</div>"
   ]
  },
  {
   "cell_type": "markdown",
   "id": "funded-electric",
   "metadata": {},
   "source": [
    "<a id='basic'></a>\n",
    "## Построение базовой нейронной сети"
   ]
  },
  {
   "cell_type": "code",
   "execution_count": 446,
   "id": "forced-concentrate",
   "metadata": {},
   "outputs": [],
   "source": [
    "# тензоры\n",
    "X_train = torch.FloatTensor(features_train.values)\n",
    "X_valid = torch.FloatTensor(features_valid.values)\n",
    "X_test = torch.FloatTensor(features_test.values)\n",
    "\n",
    "y_train = torch.FloatTensor(target_train.values).reshape(-1, 1)\n",
    "y_valid = torch.FloatTensor(target_valid.values).reshape(-1, 1)\n",
    "y_test = torch.FloatTensor(target_test.values).reshape(-1, 1)"
   ]
  },
  {
   "cell_type": "markdown",
   "id": "4933a1c1",
   "metadata": {},
   "source": [
    "Попробуем создать нейросеть с одним скрытым слоем:"
   ]
  },
  {
   "cell_type": "code",
   "execution_count": 447,
   "id": "b54b1e16",
   "metadata": {},
   "outputs": [],
   "source": [
    "# функция потерь\n",
    "loss = nn.MSELoss()"
   ]
  },
  {
   "cell_type": "code",
   "execution_count": 448,
   "id": "8428f023",
   "metadata": {},
   "outputs": [],
   "source": [
    "# функция для вычисления RMSE\n",
    "def rmse(y_torch, y_pred):\n",
    "    return sqrt(mean_squared_error(y_torch.detach().numpy(), y_pred.detach().numpy()))"
   ]
  },
  {
   "cell_type": "code",
   "execution_count": 459,
   "id": "87036da5",
   "metadata": {},
   "outputs": [],
   "source": [
    "# функция для построения графика\n",
    "def plot_predictions(y_true, preds):\n",
    "    star_indices = [str(x) for x in np.arange(20)] # номера звезд\n",
    "    plt.figure(figsize=(15, 5))  # устанавливаем размер картинки (ширина, высота)\n",
    "\n",
    "    plt.bar(x=star_indices, height=y_true.detach().numpy().flatten()[:20], label='Факт', align='edge', width=0.5)\n",
    "    plt.bar(x=star_indices, height=preds.detach().numpy().flatten()[:20], label='Прогноз', width=0.5)\n",
    "\n",
    "    plt.xlabel('Порядковый номер звезды')\n",
    "    plt.ylabel('Температура (К)')\n",
    "    plt.title('Факт — Прогноз')\n",
    "\n",
    "    plt.legend()\n",
    "    plt.show()"
   ]
  },
  {
   "cell_type": "markdown",
   "id": "3c8903e1",
   "metadata": {},
   "source": [
    "<div class=\"alert alert-success\">\n",
    "<h4>✔️ Комментарий ревьюера</h4>\n",
    "Молодец, что используешь функцию для построения графиков. Так все графики будут в одном стиле, а код не будет дублироваться.\n",
    "</div>"
   ]
  },
  {
   "cell_type": "code",
   "execution_count": 486,
   "id": "336c0d62",
   "metadata": {},
   "outputs": [],
   "source": [
    "n_in_neurons = X_train.shape[1]    # входной слой\n",
    "n_hidden_neurons_1 = 500           # нейроны скрытого слоя\n",
    "n_hidden_neurons_2 = 1000          # нейроны скрытого слоя\n",
    "n_out_neurons = 1                  # выходной слой\n",
    "\n",
    "# класс нейронной сети\n",
    "net = nn.Sequential(\n",
    "    nn.Linear(n_in_neurons, n_hidden_neurons_1),\n",
    "    nn.ReLU(),\n",
    "    nn.Linear(n_hidden_neurons_1, n_hidden_neurons_2),\n",
    "    nn.ReLU(),\n",
    "    nn.Linear(n_hidden_neurons_2, n_out_neurons)\n",
    ")\n",
    "\n",
    "# оптимизатор\n",
    "optimizer = torch.optim.Adam(net.parameters(), lr=1e-3)"
   ]
  },
  {
   "cell_type": "markdown",
   "id": "d961357a",
   "metadata": {},
   "source": [
    "<div class=\"alert alert-warning\">\n",
    "<h4>⚠️ Комментарий ревьюера</h4>\n",
    "Небольшое замечание по формулировке в комментариях: сеть имеет один скрытый слой:\n",
    "    \n",
    "    nn.Linear(n_in_neurons, n_hidden_neurons_1) -- входной слой\n",
    "    nn.Linear(n_hidden_neurons_1, n_hidden_neurons_2) -- скрытый слой\n",
    "    nn.Linear(n_hidden_neurons_2, n_out_neurons) -- выходной слой\n",
    "\n",
    "</div> "
   ]
  },
  {
   "cell_type": "markdown",
   "id": "bf7e750b",
   "metadata": {},
   "source": [
    "<div class=\"alert alert-warning\">\n",
    "<h4>⚠️ Комментарий ревьюера</h4>\n",
    "Для выходного слоя может потребоваться функция активации, как и для всех остальных слоев. \n",
    "    \n",
    "Целевая характеристика, которую мы определяем - это температура звезды в Кельвинах. Физически температура в Кельвинах не может быть ниже нуля. Следовательно, для снижения ошибки стоит применить функцию активации для выходного слоя, которая не даст на выходе получить отрицательное значение (как ReLU), либо сильно его уменьшит (как LeakyReLU).\n",
    "    \n",
    "Добавление функции активации к выходному слою может изменить размерность выходного тензора (перевести строку в столбец), поэтому может потребоваться добавление метода flatten() в прямой проход и расчет метрики при обучении модели.\n",
    "</div>"
   ]
  },
  {
   "cell_type": "markdown",
   "id": "0b4dfc37",
   "metadata": {},
   "source": [
    "<div class=\"alert alert-block alert-info\">\n",
    "<b>Комментарий студента:</b> Комментарии по скрытому слою поправила. Насчет выходного слоя - учту на будущее, как один из вариантов. Просто в теории было сказано, что для задач регрессии стоит использовать линейную функцию активации на последнем слое, а это, как понимаю, оно и есть (без указания доп.функции).\n",
    "</div>"
   ]
  },
  {
   "cell_type": "markdown",
   "id": "f826b1e7",
   "metadata": {},
   "source": [
    "<div class=\"alert alert-success\">\n",
    "<h4>✔️ Комментарий ревьюера v2</h4>\n",
    "Да, линейная функция активации тут тоже подходит. Я и написал этот комментарий как \"на будущее\")\n",
    "</div>"
   ]
  },
  {
   "cell_type": "code",
   "execution_count": 487,
   "id": "12aa7495",
   "metadata": {},
   "outputs": [
    {
     "name": "stdout",
     "output_type": "stream",
     "text": [
      "Epoch: 0 RMSE (valid): 13456.192626445269\n",
      "Epoch: 200 RMSE (valid): 8129.4464756218185\n",
      "Epoch: 400 RMSE (valid): 6388.135252168664\n",
      "Epoch: 600 RMSE (valid): 5389.234268428122\n",
      "Epoch: 800 RMSE (valid): 4773.205002930421\n",
      "Epoch: 999 RMSE (valid): 4349.203375332085\n"
     ]
    },
    {
     "data": {
      "image/png": "[encoded data removed]",
      "text/plain": [
       "<Figure size 1080x360 with 1 Axes>"
      ]
     },
     "metadata": {
      "needs_background": "light"
     },
     "output_type": "display_data"
    },
    {
     "name": "stdout",
     "output_type": "stream",
     "text": [
      "RMSE 4349.203375332085\n",
      "CPU times: user 58.2 s, sys: 1.14 s, total: 59.4 s\n",
      "Wall time: 59.8 s\n"
     ]
    }
   ],
   "source": [
    "%%time\n",
    "num_epochs = 1000\n",
    "batch_size = len(X_train)\n",
    "\n",
    "def train_net(net, num_epochs, batch_size, epoch_check=200, plot_preds=False):\n",
    "    num_batches = ceil(len(X_train)/batch_size)     # количество батчей\n",
    "    \n",
    "    for epoch in range(num_epochs):\n",
    "        order = np.random.permutation(len(X_train)) # случайная перестановка индексов объектов\n",
    "        \n",
    "        for batch_idx in range(num_batches):\n",
    "            start_index = batch_idx * batch_size    # номер стартового объекта батча\n",
    "            optimizer.zero_grad()\n",
    "            \n",
    "            batch_indexes = order[start_index:start_index+batch_size] # индексы объектов текущего обатча\n",
    "            X_batch = X_train[batch_indexes]\n",
    "            y_batch = y_train[batch_indexes]\n",
    "  \n",
    "            preds = net.forward(X_batch)            # прямое распространение на обучающих данных\n",
    "            loss_value = loss(preds, y_batch)       # вычисление значения функции потерь\n",
    "            loss_value.backward()                   # вычисление градиентов\n",
    "    \n",
    "            optimizer.step()\n",
    "\n",
    "        if epoch % epoch_check == 0 or epoch == num_epochs-1:\n",
    "            net.eval()                         # перевод сети в режим предсказания\n",
    "            valid_preds = net.forward(X_valid) # прямое распространение на валидационных данных\n",
    "            rmse_valid = rmse(y_valid, valid_preds)\n",
    "            print('Epoch:', epoch, 'RMSE (valid):', rmse_valid)\n",
    "            \n",
    "            if epoch == num_epochs-1 and plot_preds == True:\n",
    "                plot_predictions(y_valid, valid_preds) # график\n",
    "            \n",
    "    return net, rmse_valid\n",
    "\n",
    "net, rmse_valid = train_net(net, num_epochs, batch_size, plot_preds=True)\n",
    "print('RMSE', rmse_valid)"
   ]
  },
  {
   "cell_type": "markdown",
   "id": "afad0ed1",
   "metadata": {},
   "source": [
    "В базовой нейронной сети с одним скрытым слоем удалось дойти до RMSE 4400 (округленно) на валидационных данных. Как видно по графику, модель достаточно хорошо предсказывает низкую и среднюю температуру звезд. С более высокими значениями температуры нейросеть справляется хуже.\n",
    "\n",
    "Попробуем усовершенствовать нейросеть. "
   ]
  },
  {
   "cell_type": "markdown",
   "id": "e8c5db98",
   "metadata": {},
   "source": [
    "<div class=\"alert alert-warning\">\n",
    "<h4>⚠️ Комментарий ревьюера</h4>\n",
    "Хороший результат обучения сети. В выводе небольшой недочет: у сети один скрытый слой. Также можно в выводе отметить, на каких звездах модель работает точно, а на каких часто ошибается.\n",
    "</div> "
   ]
  },
  {
   "cell_type": "markdown",
   "id": "8dd00482",
   "metadata": {},
   "source": [
    "<div class=\"alert alert-block alert-info\">\n",
    "<b>Комментарий студента:</b> Вывод подкорректировала.\n",
    "</div>"
   ]
  },
  {
   "cell_type": "markdown",
   "id": "c35641ed",
   "metadata": {},
   "source": [
    "<div class=\"alert alert-success\">\n",
    "<h4>✔️ Комментарий ревьюера v2</h4>\n",
    "👍\n",
    "</div>"
   ]
  },
  {
   "cell_type": "markdown",
   "id": "growing-supply",
   "metadata": {},
   "source": [
    "<a id='network'></a>\n",
    "## Улучшение нейронной сети"
   ]
  },
  {
   "cell_type": "code",
   "execution_count": 422,
   "id": "2ee49014",
   "metadata": {},
   "outputs": [],
   "source": [
    "# используемые параметры\n",
    "n_in_neurons = X_train.shape[1]    # входной слой\n",
    "n_hidden_neurons_1 = 500           # скрытый слой 1\n",
    "n_hidden_neurons_2 = 1000          # скрытый слой 2\n",
    "n_out_neurons = 1                  # выходной слой\n",
    "\n",
    "num_epochs = 1000                   # количество эпох"
   ]
  },
  {
   "cell_type": "markdown",
   "id": "43600920",
   "metadata": {},
   "source": [
    "Для начала определим оптимальный размер батча:"
   ]
  },
  {
   "cell_type": "code",
   "execution_count": 470,
   "id": "939350d7",
   "metadata": {},
   "outputs": [
    {
     "name": "stdout",
     "output_type": "stream",
     "text": [
      "Batch_size=168\n",
      "Epoch: 0 RMSE (valid): 13456.249105898716\n",
      "Epoch: 200 RMSE (valid): 8176.517596140792\n",
      "Epoch: 400 RMSE (valid): 6474.030274875149\n",
      "Epoch: 600 RMSE (valid): 5496.130275020781\n",
      "Epoch: 800 RMSE (valid): 4867.693498978751\n",
      "Epoch: 999 RMSE (valid): 4413.5758745035755\n",
      "\n",
      "Batch_size=50\n",
      "Epoch: 0 RMSE (valid): 13454.532619158497\n",
      "Epoch: 200 RMSE (valid): 5496.721204500006\n",
      "Epoch: 400 RMSE (valid): 4305.758469770454\n",
      "Epoch: 600 RMSE (valid): 4116.216952494123\n",
      "Epoch: 800 RMSE (valid): 4391.3382925937285\n",
      "Epoch: 999 RMSE (valid): 4499.575757779838\n",
      "\n",
      "Batch_size=25\n",
      "Epoch: 0 RMSE (valid): 13452.545930046104\n",
      "Epoch: 200 RMSE (valid): 4690.510633182703\n",
      "Epoch: 400 RMSE (valid): 4072.5436768683035\n",
      "Epoch: 600 RMSE (valid): 4232.274093203322\n",
      "Epoch: 800 RMSE (valid): 4607.129040953813\n",
      "Epoch: 999 RMSE (valid): 4820.192527275233\n",
      "\n",
      "CPU times: user 11min 49s, sys: 16.1 s, total: 12min 5s\n",
      "Wall time: 12min 10s\n"
     ]
    }
   ],
   "source": [
    "%%time\n",
    "batch_sizes = [X_train.shape[0], 50, 25]\n",
    "\n",
    "for batch_size in batch_sizes:\n",
    "    # класс нейронной сети\n",
    "    net = nn.Sequential(\n",
    "        nn.Linear(n_in_neurons, n_hidden_neurons_1),\n",
    "        nn.ReLU(),\n",
    "        nn.Linear(n_hidden_neurons_1, n_hidden_neurons_2),\n",
    "        nn.ReLU(),\n",
    "        nn.Linear(n_hidden_neurons_2, n_out_neurons)\n",
    "    )\n",
    "\n",
    "    # оптимизатор\n",
    "    optimizer = torch.optim.Adam(net.parameters(), lr=1e-3)\n",
    "        \n",
    "    # обучение нейросети\n",
    "    print(f'Batch_size={batch_size}')\n",
    "    new_net, rmse_score = train_net(net, num_epochs, batch_size)\n",
    "    print()"
   ]
  },
  {
   "cell_type": "markdown",
   "id": "e1ac2d23",
   "metadata": {},
   "source": [
    "Минимальное значение RMSE получено при размере батча 25 на 401-й эпохе обучения - 4072. Далее уже наблюдается переобучение нейронной сети и возрастание метрики. Теперь подберем значение параметра dropout:"
   ]
  },
  {
   "cell_type": "code",
   "execution_count": 488,
   "id": "acceptable-forwarding",
   "metadata": {},
   "outputs": [
    {
     "name": "stdout",
     "output_type": "stream",
     "text": [
      "Dropout p=0.2\n",
      "Epoch: 0 RMSE (valid): 13452.51262775843\n",
      "Epoch: 200 RMSE (valid): 4663.814962024116\n",
      "Epoch: 400 RMSE (valid): 4104.174947538178\n",
      "Epoch: 600 RMSE (valid): 4314.264711396369\n",
      "Epoch: 800 RMSE (valid): 4659.721450902403\n",
      "Epoch: 999 RMSE (valid): 4785.601111668209\n",
      "\n",
      "Dropout p=0.5\n",
      "Epoch: 0 RMSE (valid): 13452.839105556865\n",
      "Epoch: 200 RMSE (valid): 4699.93957407965\n",
      "Epoch: 400 RMSE (valid): 4111.362061409819\n",
      "Epoch: 600 RMSE (valid): 4240.96522032426\n",
      "Epoch: 800 RMSE (valid): 4612.822780033935\n",
      "Epoch: 999 RMSE (valid): 4734.810027868067\n",
      "\n",
      "Dropout p=0.8\n",
      "Epoch: 0 RMSE (valid): 13454.869750391492\n",
      "Epoch: 200 RMSE (valid): 4644.577268169838\n",
      "Epoch: 400 RMSE (valid): 4150.868101975779\n",
      "Epoch: 600 RMSE (valid): 4412.851232479971\n",
      "Epoch: 800 RMSE (valid): 4726.969853933913\n",
      "Epoch: 999 RMSE (valid): 4889.412030091144\n",
      "\n",
      "CPU times: user 14min 10s, sys: 18.4 s, total: 14min 29s\n",
      "Wall time: 14min 36s\n"
     ]
    }
   ],
   "source": [
    "%%time\n",
    "batch_size = 25\n",
    "num_epochs = 1000\n",
    "dropout_values = [0.2, 0.5, 0.8]\n",
    "\n",
    "for p in dropout_values:\n",
    "    # класс нейронной сети\n",
    "    net = nn.Sequential(\n",
    "        nn.Linear(n_in_neurons, n_hidden_neurons_1),\n",
    "        nn.ReLU(),\n",
    "        nn.Dropout(p=p),\n",
    "        nn.Linear(n_hidden_neurons_1, n_hidden_neurons_2),\n",
    "        nn.ReLU(),\n",
    "        nn.Dropout(p=p),\n",
    "        nn.Linear(n_hidden_neurons_2, n_out_neurons)\n",
    "    )\n",
    "\n",
    "    # оптимизатор\n",
    "    optimizer = torch.optim.Adam(net.parameters(), lr=1e-3)\n",
    "        \n",
    "    # обучение нейросети\n",
    "    print(f'Dropout p={p}')\n",
    "    new_net, rmse_score = train_net(net, num_epochs, batch_size)\n",
    "    print()"
   ]
  },
  {
   "cell_type": "markdown",
   "id": "4998eacb",
   "metadata": {},
   "source": [
    "Самое низкое значение ошибки получено на валидационных данных при p=0.2 с размером батча 25 на 401-й эпохе обучения - 4104"
   ]
  },
  {
   "cell_type": "markdown",
   "id": "accurate-infrastructure",
   "metadata": {},
   "source": [
    "## Выводы"
   ]
  },
  {
   "cell_type": "markdown",
   "id": "19f7cfc2",
   "metadata": {},
   "source": [
    "**Финальная проверка на тестовой выборке**: \\\n",
    "Соединим train и valid выборки, обучим модель полученных данных и проверим на тестовых."
   ]
  },
  {
   "cell_type": "code",
   "execution_count": 489,
   "id": "ab99e3c8",
   "metadata": {},
   "outputs": [],
   "source": [
    "X_train_valid = torch.cat((X_train, X_valid), 0)\n",
    "y_train_valid = torch.cat((y_train, y_valid), 0)"
   ]
  },
  {
   "cell_type": "code",
   "execution_count": 490,
   "id": "caf89fd8",
   "metadata": {},
   "outputs": [],
   "source": [
    "batch_size = 25\n",
    "num_batches = ceil(len(X_train_valid)/batch_size)     # количество батчей\n",
    "\n",
    "n_in_neurons = X_train.shape[1]    # входной слой\n",
    "n_hidden_neurons_1 = 500           # скрытый слой 1\n",
    "n_hidden_neurons_2 = 1000          # скрытый слой 2\n",
    "n_out_neurons = 1                  # выходной слой\n",
    "\n",
    "num_epochs = 401"
   ]
  },
  {
   "cell_type": "code",
   "execution_count": 491,
   "id": "e6bf0f23",
   "metadata": {},
   "outputs": [],
   "source": [
    "# класс нейронной сети\n",
    "net = nn.Sequential(\n",
    "    nn.Linear(n_in_neurons, n_hidden_neurons_1),\n",
    "    nn.ReLU(),\n",
    "    nn.Dropout(p=0.2),\n",
    "    nn.Linear(n_hidden_neurons_1, n_hidden_neurons_2),\n",
    "    nn.ReLU(),\n",
    "    nn.Dropout(p=0.2),\n",
    "    nn.Linear(n_hidden_neurons_2, n_out_neurons)\n",
    ")\n",
    "\n",
    "# оптимизатор\n",
    "optimizer = torch.optim.Adam(net.parameters(), lr=1e-3)"
   ]
  },
  {
   "cell_type": "code",
   "execution_count": 493,
   "id": "5ca946bf",
   "metadata": {},
   "outputs": [
    {
     "name": "stdout",
     "output_type": "stream",
     "text": [
      "RMSE (test): 6942.549675731532\n"
     ]
    },
    {
     "data": {
      "image/png": "[encoded data removed]",
      "text/plain": [
       "<Figure size 1080x360 with 1 Axes>"
      ]
     },
     "metadata": {
      "needs_background": "light"
     },
     "output_type": "display_data"
    },
    {
     "name": "stdout",
     "output_type": "stream",
     "text": [
      "CPU times: user 6min 14s, sys: 8.17 s, total: 6min 22s\n",
      "Wall time: 6min 25s\n"
     ]
    }
   ],
   "source": [
    "%%time\n",
    "for epoch in range(num_epochs):\n",
    "    order = np.random.permutation(len(X_train_valid)) # случайная перестановка индексов объектов\n",
    "        \n",
    "    for batch_idx in range(num_batches):\n",
    "        start_index = batch_idx * batch_size    # номер стартового объекта батча\n",
    "        optimizer.zero_grad()\n",
    "            \n",
    "        batch_indexes = order[start_index:start_index+batch_size] # индексы объектов текущего обатча\n",
    "        X_batch = X_train_valid[batch_indexes]\n",
    "        y_batch = y_train_valid[batch_indexes]\n",
    "  \n",
    "        preds = net.forward(X_batch)            # прямое распространение на обучающих данных\n",
    "        loss_value = loss(preds, y_batch)       # вычисление значения функции потерь\n",
    "        loss_value.backward()                   # вычисление градиентов\n",
    "    \n",
    "        optimizer.step()\n",
    "\n",
    "net.eval()                       # перевод сети в режим предсказания\n",
    "test_preds = net.forward(X_test) # прямое распространение на тестовых данных\n",
    "rmse_test = rmse(y_test, test_preds)\n",
    "print('RMSE (test):', rmse_test)\n",
    "            \n",
    "plot_predictions(y_test, test_preds) # график"
   ]
  },
  {
   "cell_type": "markdown",
   "id": "ec59c629",
   "metadata": {},
   "source": [
    "К сожалению, результаты на тестовой выборке оказались хуже. Полученная метрика RMSE: 6942."
   ]
  },
  {
   "cell_type": "markdown",
   "id": "b023982e",
   "metadata": {},
   "source": [
    "**Вывод:**\n",
    "\n",
    "В рамках данного проекта была создана нейросеть, позволяющая определять температуру на поверхности обнаруженных звезд. Данные перед обучением были исследованы на выбросы и некорректные значения, категориальные признаки закодированы методом OneHotEncoding, численные - отшкалированы.\n",
    "\n",
    "Нейросеть, показавшая лучшие результаты, содержала 2 скрытых слоя с 500 нейронами на первом и 1000 нейронами на втором и обучалась в течение 401 эпохи. Выбранный размер батча - 25 строк, значение параметра p=0.2 (для регуляризации методом dropout). На валидационной выборке удалось получить значение метрики меньше требуемого: **4104**. Однако на тестовом наборе нейросеть показала себя хуже - **6942**. К возможным причинам такого поведения нейросети, в частности, можно отнести маленький объем датасета, неравномерное распределение данных по выборкам и наличие большого количества выбросов в одном из столбце, удалять которые не стали, чтобы еще сильнее не урезать датасет."
   ]
  },
  {
   "cell_type": "markdown",
   "id": "cb39e011",
   "metadata": {},
   "source": [
    "<div class=\"alert alert-success\">\n",
    "<h4>✔️ Комментарий ревьюера</h4>\n",
    "Отличный итоговый вывод. Наглядно показана проделанная работа, и обоснованы полученные результаты.\n",
    "</div>"
   ]
  },
  {
   "cell_type": "markdown",
   "id": "482fed6a",
   "metadata": {},
   "source": [
    "<div style=\"border:solid Chocolate 2px; padding: 40px\">\n",
    "\n",
    "<h4>Резюме по работе:</h4>\n",
    "\n",
    "Проделана огромная работа, у тебя получился хороший проект! \n",
    "\n",
    "Особенно хочется отметить внимание к деталям при работе с данными и подробные выводы. Чувствуется хороший исследовательский подход.\n",
    "\n",
    "Стоит обратить внимание на некоторые формулировки в выводах и комментариях по ходу работы. В комментариях выше я указал, куда именно надо посмотреть)\n",
    "    \n",
    "Критических замечаний нет, работа может быть принята.\n",
    "    \n",
    "Возвращаю на доработку, чтобы была возможность внести последние правки, если есть такое желание. Также можно задать вопросы по проекту, если они остались. Можешь оформить их комментарием под этим резюме.\n",
    "    \n",
    "Если правки не планируются и вопросов нет, просто верни проект на ревью и я приму работу.\n",
    "\n",
    "</div> "
   ]
  },
  {
   "cell_type": "markdown",
   "id": "c6d160c9",
   "metadata": {},
   "source": [
    "<div class=\"alert alert-block alert-info\">\n",
    "<b>Комментарий студента:</b> Большое спасибо за ревью!\n",
    "</div>"
   ]
  }
 ],
 "metadata": {
  "ExecuteTimeLog": [
   {
    "duration": 399,
    "start_time": "2023-06-24T09:22:42.988Z"
   },
   {
    "duration": 82,
    "start_time": "2023-06-24T09:23:04.358Z"
   },
   {
    "duration": 12,
    "start_time": "2023-06-24T09:30:56.636Z"
   },
   {
    "duration": 11,
    "start_time": "2023-06-24T09:31:28.369Z"
   },
   {
    "duration": 627,
    "start_time": "2023-06-24T09:32:46.306Z"
   },
   {
    "duration": 436,
    "start_time": "2023-06-24T09:33:31.391Z"
   },
   {
    "duration": 621,
    "start_time": "2023-06-24T09:33:42.706Z"
   },
   {
    "duration": 4,
    "start_time": "2023-06-24T09:34:02.976Z"
   },
   {
    "duration": 425,
    "start_time": "2023-06-24T09:34:07.435Z"
   },
   {
    "duration": 9,
    "start_time": "2023-06-24T09:37:42.971Z"
   },
   {
    "duration": 111,
    "start_time": "2023-06-24T09:40:51.698Z"
   },
   {
    "duration": 102,
    "start_time": "2023-06-24T09:40:57.987Z"
   },
   {
    "duration": 125,
    "start_time": "2023-06-24T09:41:20.156Z"
   },
   {
    "duration": 82,
    "start_time": "2023-06-24T09:42:49.482Z"
   },
   {
    "duration": 7,
    "start_time": "2023-06-24T09:42:55.734Z"
   },
   {
    "duration": 75,
    "start_time": "2023-06-24T09:43:49.173Z"
   },
   {
    "duration": 5,
    "start_time": "2023-06-24T09:43:52.787Z"
   },
   {
    "duration": 5,
    "start_time": "2023-06-24T09:44:12.944Z"
   },
   {
    "duration": 6,
    "start_time": "2023-06-24T09:44:40.516Z"
   },
   {
    "duration": 8,
    "start_time": "2023-06-24T09:51:45.066Z"
   },
   {
    "duration": 10,
    "start_time": "2023-06-24T09:54:46.412Z"
   },
   {
    "duration": 8,
    "start_time": "2023-06-24T09:55:01.570Z"
   },
   {
    "duration": 11,
    "start_time": "2023-06-24T09:55:34.329Z"
   },
   {
    "duration": 8,
    "start_time": "2023-06-24T10:02:24.788Z"
   },
   {
    "duration": 13,
    "start_time": "2023-06-24T10:02:35.724Z"
   },
   {
    "duration": 8,
    "start_time": "2023-06-24T10:02:44.846Z"
   },
   {
    "duration": 10,
    "start_time": "2023-06-24T10:04:05.949Z"
   },
   {
    "duration": 9,
    "start_time": "2023-06-24T10:04:30.528Z"
   },
   {
    "duration": 7,
    "start_time": "2023-06-24T10:07:36.173Z"
   },
   {
    "duration": 10,
    "start_time": "2023-06-24T10:08:21.864Z"
   },
   {
    "duration": 860,
    "start_time": "2023-06-24T10:17:52.468Z"
   },
   {
    "duration": 3,
    "start_time": "2023-06-24T10:17:59.783Z"
   },
   {
    "duration": 125,
    "start_time": "2023-06-24T10:19:02.005Z"
   },
   {
    "duration": 12,
    "start_time": "2023-06-24T10:19:13.536Z"
   },
   {
    "duration": 11,
    "start_time": "2023-06-24T10:41:44.625Z"
   },
   {
    "duration": 12,
    "start_time": "2023-06-24T10:42:52.679Z"
   },
   {
    "duration": 3,
    "start_time": "2023-06-24T11:09:37.956Z"
   },
   {
    "duration": 17,
    "start_time": "2023-06-24T11:09:44.201Z"
   },
   {
    "duration": 16,
    "start_time": "2023-06-24T11:10:54.249Z"
   },
   {
    "duration": 4,
    "start_time": "2023-06-24T11:12:00.585Z"
   },
   {
    "duration": 12,
    "start_time": "2023-06-24T11:12:06.388Z"
   },
   {
    "duration": 17,
    "start_time": "2023-06-24T11:12:08.421Z"
   },
   {
    "duration": 13,
    "start_time": "2023-06-24T11:13:55.741Z"
   },
   {
    "duration": 13,
    "start_time": "2023-06-24T11:15:17.123Z"
   },
   {
    "duration": 52,
    "start_time": "2023-06-24T11:18:49.352Z"
   },
   {
    "duration": 10,
    "start_time": "2023-06-24T11:20:13.258Z"
   },
   {
    "duration": 18,
    "start_time": "2023-06-24T11:20:15.268Z"
   },
   {
    "duration": 44,
    "start_time": "2023-06-24T11:20:17.005Z"
   },
   {
    "duration": 11,
    "start_time": "2023-06-24T11:21:39.841Z"
   },
   {
    "duration": 19,
    "start_time": "2023-06-24T11:21:41.138Z"
   },
   {
    "duration": 27,
    "start_time": "2023-06-24T11:21:42.658Z"
   },
   {
    "duration": 9,
    "start_time": "2023-06-24T11:22:12.795Z"
   },
   {
    "duration": 46,
    "start_time": "2023-06-24T11:22:19.965Z"
   },
   {
    "duration": 22,
    "start_time": "2023-06-24T11:23:05.572Z"
   },
   {
    "duration": 11,
    "start_time": "2023-06-24T11:23:12.992Z"
   },
   {
    "duration": 17,
    "start_time": "2023-06-24T11:23:14.831Z"
   },
   {
    "duration": 26,
    "start_time": "2023-06-24T11:23:15.904Z"
   },
   {
    "duration": 39,
    "start_time": "2023-06-24T11:23:25.298Z"
   },
   {
    "duration": 635,
    "start_time": "2023-06-24T11:26:49.541Z"
   },
   {
    "duration": 40,
    "start_time": "2023-06-24T11:26:57.701Z"
   },
   {
    "duration": 11,
    "start_time": "2023-06-24T11:27:32.003Z"
   },
   {
    "duration": 3,
    "start_time": "2023-06-24T11:32:16.616Z"
   },
   {
    "duration": 17,
    "start_time": "2023-06-24T11:41:23.373Z"
   },
   {
    "duration": 13,
    "start_time": "2023-06-24T11:41:29.049Z"
   },
   {
    "duration": 4,
    "start_time": "2023-06-24T11:43:59.248Z"
   },
   {
    "duration": 3,
    "start_time": "2023-06-24T11:45:17.310Z"
   },
   {
    "duration": 2,
    "start_time": "2023-06-24T11:45:42.234Z"
   },
   {
    "duration": 3,
    "start_time": "2023-06-24T11:47:40.337Z"
   },
   {
    "duration": 13,
    "start_time": "2023-06-24T11:50:31.189Z"
   },
   {
    "duration": 4,
    "start_time": "2023-06-24T11:50:34.356Z"
   },
   {
    "duration": 25,
    "start_time": "2023-06-24T11:50:35.799Z"
   },
   {
    "duration": 14,
    "start_time": "2023-06-24T11:58:41.608Z"
   },
   {
    "duration": 3,
    "start_time": "2023-06-24T11:58:44.405Z"
   },
   {
    "duration": 7,
    "start_time": "2023-06-24T11:58:46.795Z"
   },
   {
    "duration": 3,
    "start_time": "2023-06-24T11:58:48.723Z"
   },
   {
    "duration": 7,
    "start_time": "2023-06-24T11:58:50.086Z"
   },
   {
    "duration": 7,
    "start_time": "2023-06-24T11:58:51.755Z"
   },
   {
    "duration": 4,
    "start_time": "2023-06-24T12:09:04.540Z"
   },
   {
    "duration": 6,
    "start_time": "2023-06-24T12:09:05.905Z"
   },
   {
    "duration": 4,
    "start_time": "2023-06-24T12:09:17.858Z"
   },
   {
    "duration": 8,
    "start_time": "2023-06-24T12:09:19.528Z"
   },
   {
    "duration": 3,
    "start_time": "2023-06-24T12:09:22.436Z"
   },
   {
    "duration": 4,
    "start_time": "2023-06-24T12:09:23.626Z"
   },
   {
    "duration": 21,
    "start_time": "2023-06-24T12:09:24.908Z"
   },
   {
    "duration": 5,
    "start_time": "2023-06-24T12:09:56.903Z"
   },
   {
    "duration": 7,
    "start_time": "2023-06-24T12:09:59.870Z"
   },
   {
    "duration": 3,
    "start_time": "2023-06-24T12:10:02.727Z"
   },
   {
    "duration": 8,
    "start_time": "2023-06-24T12:10:04.102Z"
   },
   {
    "duration": 5,
    "start_time": "2023-06-24T12:10:09.856Z"
   },
   {
    "duration": 8,
    "start_time": "2023-06-24T12:10:11.265Z"
   },
   {
    "duration": 6,
    "start_time": "2023-06-24T12:10:16.911Z"
   },
   {
    "duration": 8,
    "start_time": "2023-06-24T12:10:18.331Z"
   },
   {
    "duration": 15,
    "start_time": "2023-06-24T12:10:33.316Z"
   },
   {
    "duration": 7,
    "start_time": "2023-06-24T12:10:36.054Z"
   },
   {
    "duration": 14,
    "start_time": "2023-06-24T12:14:00.442Z"
   },
   {
    "duration": 5,
    "start_time": "2023-06-24T12:14:17.666Z"
   },
   {
    "duration": 22,
    "start_time": "2023-06-24T12:14:20.362Z"
   },
   {
    "duration": 5,
    "start_time": "2023-06-24T12:16:03.204Z"
   },
   {
    "duration": 13,
    "start_time": "2023-06-24T12:16:08.772Z"
   },
   {
    "duration": 5,
    "start_time": "2023-06-24T12:16:11.122Z"
   },
   {
    "duration": 22,
    "start_time": "2023-06-24T12:16:12.910Z"
   },
   {
    "duration": 11,
    "start_time": "2023-06-24T12:16:42.821Z"
   },
   {
    "duration": 8,
    "start_time": "2023-06-24T12:17:11.329Z"
   },
   {
    "duration": 26,
    "start_time": "2023-06-24T12:17:30.954Z"
   },
   {
    "duration": 13,
    "start_time": "2023-06-24T12:17:41.957Z"
   },
   {
    "duration": 6,
    "start_time": "2023-06-24T12:17:48.639Z"
   },
   {
    "duration": 9,
    "start_time": "2023-06-24T12:17:50.406Z"
   },
   {
    "duration": 6,
    "start_time": "2023-06-24T12:18:01.610Z"
   },
   {
    "duration": 12,
    "start_time": "2023-06-24T12:21:50.711Z"
   },
   {
    "duration": 5,
    "start_time": "2023-06-24T12:22:01.317Z"
   },
   {
    "duration": 11,
    "start_time": "2023-06-24T12:22:03.236Z"
   },
   {
    "duration": 3,
    "start_time": "2023-06-24T12:24:29.046Z"
   },
   {
    "duration": 3,
    "start_time": "2023-06-24T12:25:05.352Z"
   },
   {
    "duration": 14,
    "start_time": "2023-06-24T12:25:24.710Z"
   },
   {
    "duration": 11,
    "start_time": "2023-06-24T12:25:30.144Z"
   },
   {
    "duration": 3,
    "start_time": "2023-06-24T12:25:33.066Z"
   },
   {
    "duration": 5,
    "start_time": "2023-06-24T12:25:34.404Z"
   },
   {
    "duration": 8,
    "start_time": "2023-06-24T12:25:35.756Z"
   },
   {
    "duration": 12,
    "start_time": "2023-06-24T12:28:55.716Z"
   },
   {
    "duration": 4,
    "start_time": "2023-06-24T12:29:08.003Z"
   },
   {
    "duration": 7,
    "start_time": "2023-06-24T12:29:09.804Z"
   },
   {
    "duration": 5,
    "start_time": "2023-06-24T12:29:29.927Z"
   },
   {
    "duration": 9,
    "start_time": "2023-06-24T12:29:31.615Z"
   },
   {
    "duration": 5,
    "start_time": "2023-06-24T12:29:42.710Z"
   },
   {
    "duration": 8,
    "start_time": "2023-06-24T12:29:44.145Z"
   },
   {
    "duration": 9,
    "start_time": "2023-06-24T12:29:52.601Z"
   },
   {
    "duration": 14,
    "start_time": "2023-06-24T12:29:54.103Z"
   },
   {
    "duration": 5,
    "start_time": "2023-06-24T12:29:59.853Z"
   },
   {
    "duration": 9,
    "start_time": "2023-06-24T12:30:01.267Z"
   },
   {
    "duration": 6,
    "start_time": "2023-06-24T12:30:09.502Z"
   },
   {
    "duration": 9,
    "start_time": "2023-06-24T12:30:10.728Z"
   },
   {
    "duration": 5,
    "start_time": "2023-06-24T12:30:18.406Z"
   },
   {
    "duration": 5,
    "start_time": "2023-06-24T12:35:42.834Z"
   },
   {
    "duration": 8,
    "start_time": "2023-06-24T12:36:06.253Z"
   },
   {
    "duration": 8,
    "start_time": "2023-06-24T12:36:08.940Z"
   },
   {
    "duration": 5,
    "start_time": "2023-06-24T12:36:37.663Z"
   },
   {
    "duration": 10,
    "start_time": "2023-06-24T12:36:39.702Z"
   },
   {
    "duration": 5,
    "start_time": "2023-06-24T12:36:44.942Z"
   },
   {
    "duration": 8,
    "start_time": "2023-06-24T12:36:46.533Z"
   },
   {
    "duration": 4,
    "start_time": "2023-06-24T12:41:43.029Z"
   },
   {
    "duration": 11,
    "start_time": "2023-06-24T12:42:19.641Z"
   },
   {
    "duration": 4,
    "start_time": "2023-06-24T12:42:21.936Z"
   },
   {
    "duration": 10,
    "start_time": "2023-06-24T12:42:24.131Z"
   },
   {
    "duration": 5,
    "start_time": "2023-06-24T12:44:13.212Z"
   },
   {
    "duration": 9,
    "start_time": "2023-06-24T12:44:41.254Z"
   },
   {
    "duration": 4,
    "start_time": "2023-06-24T12:44:43.604Z"
   },
   {
    "duration": 12,
    "start_time": "2023-06-24T12:44:46.710Z"
   },
   {
    "duration": 4,
    "start_time": "2023-06-24T12:45:26.049Z"
   },
   {
    "duration": 9,
    "start_time": "2023-06-24T12:45:27.642Z"
   },
   {
    "duration": 4,
    "start_time": "2023-06-24T12:46:06.795Z"
   },
   {
    "duration": 15,
    "start_time": "2023-06-24T12:46:08.529Z"
   },
   {
    "duration": 26,
    "start_time": "2023-06-24T12:46:16.696Z"
   },
   {
    "duration": 7,
    "start_time": "2023-06-24T12:46:18.300Z"
   },
   {
    "duration": 8,
    "start_time": "2023-06-24T12:46:20.003Z"
   },
   {
    "duration": 5,
    "start_time": "2023-06-24T12:47:27.569Z"
   },
   {
    "duration": 145,
    "start_time": "2023-06-24T12:47:29.714Z"
   },
   {
    "duration": 7,
    "start_time": "2023-06-24T12:47:55.789Z"
   },
   {
    "duration": 142,
    "start_time": "2023-06-24T12:47:57.924Z"
   },
   {
    "duration": 4,
    "start_time": "2023-06-24T12:48:13.249Z"
   },
   {
    "duration": 132,
    "start_time": "2023-06-24T12:48:14.955Z"
   },
   {
    "duration": 8,
    "start_time": "2023-06-24T12:48:31.987Z"
   },
   {
    "duration": 140,
    "start_time": "2023-06-24T12:48:33.901Z"
   },
   {
    "duration": 4,
    "start_time": "2023-06-24T12:48:42.007Z"
   },
   {
    "duration": 132,
    "start_time": "2023-06-24T12:48:44.115Z"
   },
   {
    "duration": 5,
    "start_time": "2023-06-24T12:52:59.758Z"
   },
   {
    "duration": 160,
    "start_time": "2023-06-24T12:53:01.309Z"
   },
   {
    "duration": 8,
    "start_time": "2023-06-24T12:54:07.796Z"
   },
   {
    "duration": 188,
    "start_time": "2023-06-24T12:54:10.006Z"
   },
   {
    "duration": 5,
    "start_time": "2023-06-24T13:00:55.803Z"
   },
   {
    "duration": 8,
    "start_time": "2023-06-24T13:00:59.789Z"
   },
   {
    "duration": 4,
    "start_time": "2023-06-24T13:01:01.748Z"
   },
   {
    "duration": 151,
    "start_time": "2023-06-24T13:01:04.565Z"
   },
   {
    "duration": 5,
    "start_time": "2023-06-24T13:02:35.916Z"
   },
   {
    "duration": 167,
    "start_time": "2023-06-24T13:02:38.499Z"
   },
   {
    "duration": 6,
    "start_time": "2023-06-24T13:06:16.456Z"
   },
   {
    "duration": 4,
    "start_time": "2023-06-24T13:06:18.542Z"
   },
   {
    "duration": 3,
    "start_time": "2023-06-24T13:12:10.566Z"
   },
   {
    "duration": 16,
    "start_time": "2023-06-24T13:13:02.978Z"
   },
   {
    "duration": 3,
    "start_time": "2023-06-24T13:13:10.841Z"
   },
   {
    "duration": 5,
    "start_time": "2023-06-24T13:13:12.540Z"
   },
   {
    "duration": 5,
    "start_time": "2023-06-24T13:13:14.216Z"
   },
   {
    "duration": 202,
    "start_time": "2023-06-24T13:13:16.463Z"
   },
   {
    "duration": 4,
    "start_time": "2023-06-24T13:22:18.605Z"
   },
   {
    "duration": 5,
    "start_time": "2023-06-24T13:22:23.268Z"
   },
   {
    "duration": 6,
    "start_time": "2023-06-24T13:22:30.427Z"
   },
   {
    "duration": 189,
    "start_time": "2023-06-24T13:22:32.541Z"
   },
   {
    "duration": 6,
    "start_time": "2023-06-24T13:28:11.144Z"
   },
   {
    "duration": 6,
    "start_time": "2023-06-24T13:28:12.709Z"
   },
   {
    "duration": 5,
    "start_time": "2023-06-24T13:28:15.357Z"
   },
   {
    "duration": 6,
    "start_time": "2023-06-24T13:28:16.857Z"
   },
   {
    "duration": 43,
    "start_time": "2023-06-24T13:28:18.301Z"
   },
   {
    "duration": 6,
    "start_time": "2023-06-24T13:28:32.564Z"
   },
   {
    "duration": 1148,
    "start_time": "2023-06-24T13:28:33.955Z"
   },
   {
    "duration": 6,
    "start_time": "2023-06-24T13:30:33.760Z"
   },
   {
    "duration": 6,
    "start_time": "2023-06-24T13:30:35.337Z"
   },
   {
    "duration": 9,
    "start_time": "2023-06-24T13:30:46.814Z"
   },
   {
    "duration": 20881,
    "start_time": "2023-06-24T13:30:48.344Z"
   },
   {
    "duration": 4,
    "start_time": "2023-06-24T13:31:31.505Z"
   },
   {
    "duration": 6960,
    "start_time": "2023-06-24T13:31:33.534Z"
   },
   {
    "duration": 15,
    "start_time": "2023-06-24T13:31:43.687Z"
   },
   {
    "duration": 6,
    "start_time": "2023-06-24T13:31:46.531Z"
   },
   {
    "duration": 4,
    "start_time": "2023-06-24T13:31:49.023Z"
   },
   {
    "duration": 1836,
    "start_time": "2023-06-24T13:31:52.267Z"
   },
   {
    "duration": 4,
    "start_time": "2023-06-24T13:32:08.729Z"
   },
   {
    "duration": 5,
    "start_time": "2023-06-24T13:32:12.030Z"
   },
   {
    "duration": 5,
    "start_time": "2023-06-24T13:32:13.917Z"
   },
   {
    "duration": 2035,
    "start_time": "2023-06-24T13:32:15.462Z"
   },
   {
    "duration": 4,
    "start_time": "2023-06-24T13:32:35.958Z"
   },
   {
    "duration": 1307,
    "start_time": "2023-06-24T13:32:37.491Z"
   },
   {
    "duration": 3,
    "start_time": "2023-06-24T13:34:06.089Z"
   },
   {
    "duration": 3,
    "start_time": "2023-06-24T13:34:07.529Z"
   },
   {
    "duration": 5,
    "start_time": "2023-06-24T13:34:08.651Z"
   },
   {
    "duration": 931,
    "start_time": "2023-06-24T13:34:10.463Z"
   },
   {
    "duration": 5,
    "start_time": "2023-06-24T13:34:19.290Z"
   },
   {
    "duration": 2,
    "start_time": "2023-06-24T13:34:32.644Z"
   },
   {
    "duration": 3,
    "start_time": "2023-06-24T13:34:33.907Z"
   },
   {
    "duration": 3,
    "start_time": "2023-06-24T13:34:35.354Z"
   },
   {
    "duration": 5,
    "start_time": "2023-06-24T13:34:36.540Z"
   },
   {
    "duration": 1533,
    "start_time": "2023-06-24T13:34:38.062Z"
   },
   {
    "duration": 23,
    "start_time": "2023-06-24T13:40:05.532Z"
   },
   {
    "duration": 3290,
    "start_time": "2023-06-24T13:40:14.796Z"
   },
   {
    "duration": 8,
    "start_time": "2023-06-24T13:41:39.799Z"
   },
   {
    "duration": 1997,
    "start_time": "2023-06-24T13:41:41.305Z"
   },
   {
    "duration": 1853,
    "start_time": "2023-06-24T13:43:11.462Z"
   },
   {
    "duration": 2182,
    "start_time": "2023-06-24T13:49:38.201Z"
   },
   {
    "duration": 36,
    "start_time": "2023-06-24T13:52:27.026Z"
   },
   {
    "duration": 29,
    "start_time": "2023-06-24T13:52:48.866Z"
   },
   {
    "duration": 36,
    "start_time": "2023-06-24T13:53:01.161Z"
   },
   {
    "duration": 43,
    "start_time": "2023-06-24T13:53:08.471Z"
   },
   {
    "duration": 18,
    "start_time": "2023-06-24T13:53:34.302Z"
   },
   {
    "duration": 9,
    "start_time": "2023-06-24T13:55:55.208Z"
   },
   {
    "duration": 2416,
    "start_time": "2023-06-24T13:56:57.802Z"
   },
   {
    "duration": 8,
    "start_time": "2023-06-24T13:58:02.004Z"
   },
   {
    "duration": 8,
    "start_time": "2023-06-24T13:58:03.202Z"
   },
   {
    "duration": 3275,
    "start_time": "2023-06-24T13:58:04.852Z"
   },
   {
    "duration": 4142,
    "start_time": "2023-06-24T13:58:16.290Z"
   },
   {
    "duration": 3368,
    "start_time": "2023-06-24T13:58:24.721Z"
   },
   {
    "duration": 7,
    "start_time": "2023-06-24T13:58:34.516Z"
   },
   {
    "duration": 14774,
    "start_time": "2023-06-24T13:58:35.939Z"
   },
   {
    "duration": 4654,
    "start_time": "2023-06-24T13:58:53.956Z"
   },
   {
    "duration": 10,
    "start_time": "2023-06-24T13:58:59.801Z"
   },
   {
    "duration": 29607,
    "start_time": "2023-06-24T13:59:01.403Z"
   },
   {
    "duration": 6,
    "start_time": "2023-06-24T14:00:03.503Z"
   },
   {
    "duration": 39492,
    "start_time": "2023-06-24T14:00:05.143Z"
   },
   {
    "duration": 129,
    "start_time": "2023-06-24T14:01:32.902Z"
   },
   {
    "duration": 226,
    "start_time": "2023-06-24T14:01:46.519Z"
   },
   {
    "duration": 385,
    "start_time": "2023-06-24T14:02:46.162Z"
   },
   {
    "duration": 244,
    "start_time": "2023-06-24T14:03:08.254Z"
   },
   {
    "duration": 13,
    "start_time": "2023-06-24T14:03:23.523Z"
   },
   {
    "duration": 18,
    "start_time": "2023-06-24T14:03:28.816Z"
   },
   {
    "duration": 12,
    "start_time": "2023-06-24T14:03:38.941Z"
   },
   {
    "duration": 168,
    "start_time": "2023-06-24T14:03:47.456Z"
   },
   {
    "duration": 184,
    "start_time": "2023-06-24T14:04:36.230Z"
   },
   {
    "duration": 148,
    "start_time": "2023-06-24T14:05:11.474Z"
   },
   {
    "duration": 179,
    "start_time": "2023-06-24T14:05:42.021Z"
   },
   {
    "duration": 307,
    "start_time": "2023-06-24T14:05:53.773Z"
   },
   {
    "duration": 288,
    "start_time": "2023-06-24T14:06:08.356Z"
   },
   {
    "duration": 294,
    "start_time": "2023-06-24T14:06:41.272Z"
   },
   {
    "duration": 314,
    "start_time": "2023-06-24T14:07:04.821Z"
   },
   {
    "duration": 328,
    "start_time": "2023-06-24T14:07:13.516Z"
   },
   {
    "duration": 334,
    "start_time": "2023-06-24T14:07:18.364Z"
   },
   {
    "duration": 134,
    "start_time": "2023-06-24T14:07:37.217Z"
   },
   {
    "duration": 228,
    "start_time": "2023-06-24T14:08:23.157Z"
   },
   {
    "duration": 499,
    "start_time": "2023-06-24T14:08:32.318Z"
   },
   {
    "duration": 263,
    "start_time": "2023-06-24T14:08:42.005Z"
   },
   {
    "duration": 231,
    "start_time": "2023-06-24T14:09:10.514Z"
   },
   {
    "duration": 137,
    "start_time": "2023-06-24T14:09:31.629Z"
   },
   {
    "duration": 133,
    "start_time": "2023-06-24T14:09:37.367Z"
   },
   {
    "duration": 292,
    "start_time": "2023-06-24T14:09:49.787Z"
   },
   {
    "duration": 314,
    "start_time": "2023-06-24T14:11:15.766Z"
   },
   {
    "duration": 303,
    "start_time": "2023-06-24T14:11:19.954Z"
   },
   {
    "duration": 300,
    "start_time": "2023-06-24T14:12:46.096Z"
   },
   {
    "duration": 11,
    "start_time": "2023-06-24T14:13:13.830Z"
   },
   {
    "duration": 36360,
    "start_time": "2023-06-24T14:13:15.032Z"
   },
   {
    "duration": 9,
    "start_time": "2023-06-24T14:18:40.653Z"
   },
   {
    "duration": 60240,
    "start_time": "2023-06-24T14:18:48.063Z"
   },
   {
    "duration": 10,
    "start_time": "2023-06-24T14:19:56.134Z"
   },
   {
    "duration": 58385,
    "start_time": "2023-06-24T14:19:59.319Z"
   },
   {
    "duration": 272,
    "start_time": "2023-06-24T14:21:15.537Z"
   },
   {
    "duration": 490,
    "start_time": "2023-06-24T14:24:11.833Z"
   },
   {
    "duration": 282,
    "start_time": "2023-06-24T14:24:25.332Z"
   },
   {
    "duration": 289,
    "start_time": "2023-06-24T14:24:53.273Z"
   },
   {
    "duration": 284,
    "start_time": "2023-06-24T14:25:14.339Z"
   },
   {
    "duration": 10,
    "start_time": "2023-06-24T14:26:14.069Z"
   },
   {
    "duration": 29856,
    "start_time": "2023-06-24T14:26:16.225Z"
   },
   {
    "duration": 305,
    "start_time": "2023-06-24T14:26:57.179Z"
   },
   {
    "duration": 16351,
    "start_time": "2023-06-24T14:30:31.709Z"
   },
   {
    "duration": 13,
    "start_time": "2023-06-24T14:30:50.349Z"
   },
   {
    "duration": 29308,
    "start_time": "2023-06-24T14:30:51.780Z"
   },
   {
    "duration": 11,
    "start_time": "2023-06-24T14:31:37.882Z"
   },
   {
    "duration": 31312,
    "start_time": "2023-06-24T14:31:40.978Z"
   },
   {
    "duration": 89,
    "start_time": "2023-06-24T14:46:33.542Z"
   },
   {
    "duration": 185,
    "start_time": "2023-06-24T14:46:46.349Z"
   },
   {
    "duration": 4,
    "start_time": "2023-06-24T14:46:58.931Z"
   },
   {
    "duration": 20841,
    "start_time": "2023-06-24T14:47:14.596Z"
   },
   {
    "duration": 9566,
    "start_time": "2023-06-24T14:47:53.280Z"
   },
   {
    "duration": 10,
    "start_time": "2023-06-24T14:48:06.403Z"
   },
   {
    "duration": 2951,
    "start_time": "2023-06-24T14:48:07.840Z"
   },
   {
    "duration": 3217,
    "start_time": "2023-06-24T14:48:20.850Z"
   },
   {
    "duration": 8,
    "start_time": "2023-06-24T14:48:26.489Z"
   },
   {
    "duration": 29224,
    "start_time": "2023-06-24T14:48:27.771Z"
   },
   {
    "duration": 5852,
    "start_time": "2023-06-24T14:49:37.192Z"
   },
   {
    "duration": 7,
    "start_time": "2023-06-24T14:50:31.205Z"
   },
   {
    "duration": 6659,
    "start_time": "2023-06-24T14:50:32.732Z"
   },
   {
    "duration": 12,
    "start_time": "2023-06-24T14:50:54.191Z"
   },
   {
    "duration": 35483,
    "start_time": "2023-06-24T14:50:56.800Z"
   },
   {
    "duration": 12,
    "start_time": "2023-06-24T14:52:12.817Z"
   },
   {
    "duration": 26688,
    "start_time": "2023-06-24T14:52:16.305Z"
   },
   {
    "duration": 6,
    "start_time": "2023-06-24T14:52:58.856Z"
   },
   {
    "duration": 10592,
    "start_time": "2023-06-24T14:53:00.493Z"
   },
   {
    "duration": 6,
    "start_time": "2023-06-24T15:03:59.429Z"
   },
   {
    "duration": 10883,
    "start_time": "2023-06-24T15:04:00.613Z"
   },
   {
    "duration": 3919,
    "start_time": "2023-06-24T15:06:21.172Z"
   },
   {
    "duration": 6,
    "start_time": "2023-06-24T15:06:27.748Z"
   },
   {
    "duration": 12842,
    "start_time": "2023-06-24T15:06:29.044Z"
   },
   {
    "duration": 4871,
    "start_time": "2023-06-24T15:08:50.900Z"
   },
   {
    "duration": 27350,
    "start_time": "2023-06-24T15:09:04.397Z"
   },
   {
    "duration": 3253,
    "start_time": "2023-06-24T15:09:40.195Z"
   },
   {
    "duration": 5,
    "start_time": "2023-06-24T15:09:45.160Z"
   },
   {
    "duration": 5376,
    "start_time": "2023-06-24T15:09:46.405Z"
   },
   {
    "duration": 108403,
    "start_time": "2023-06-24T15:10:35.254Z"
   },
   {
    "duration": 225235,
    "start_time": "2023-06-24T15:12:43.861Z"
   },
   {
    "duration": 7,
    "start_time": "2023-06-24T15:18:58.232Z"
   },
   {
    "duration": 4390,
    "start_time": "2023-06-24T15:19:00.898Z"
   },
   {
    "duration": 276,
    "start_time": "2023-06-24T15:19:08.411Z"
   },
   {
    "duration": 3,
    "start_time": "2023-06-24T15:19:22.721Z"
   },
   {
    "duration": 214848,
    "start_time": "2023-06-24T15:19:24.739Z"
   },
   {
    "duration": 3164,
    "start_time": "2023-06-24T15:23:14.661Z"
   },
   {
    "duration": 7,
    "start_time": "2023-06-24T15:23:19.996Z"
   },
   {
    "duration": 9993,
    "start_time": "2023-06-24T15:23:28.496Z"
   },
   {
    "duration": 9,
    "start_time": "2023-06-24T15:23:58.159Z"
   },
   {
    "duration": 26710,
    "start_time": "2023-06-24T15:24:00.185Z"
   },
   {
    "duration": 265,
    "start_time": "2023-06-24T15:24:32.980Z"
   },
   {
    "duration": 3,
    "start_time": "2023-06-24T15:25:19.742Z"
   },
   {
    "duration": 128288,
    "start_time": "2023-06-24T15:25:34.132Z"
   },
   {
    "duration": 3,
    "start_time": "2023-06-24T15:28:08.651Z"
   },
   {
    "duration": 50240,
    "start_time": "2023-06-24T15:28:10.066Z"
   },
   {
    "duration": 7,
    "start_time": "2023-06-24T15:29:27.537Z"
   },
   {
    "duration": 60548,
    "start_time": "2023-06-24T15:29:31.644Z"
   },
   {
    "duration": 12,
    "start_time": "2023-06-24T15:30:47.798Z"
   },
   {
    "duration": 9,
    "start_time": "2023-06-24T15:30:52.154Z"
   },
   {
    "duration": 61917,
    "start_time": "2023-06-24T15:30:54.060Z"
   },
   {
    "duration": 8,
    "start_time": "2023-06-24T15:32:09.744Z"
   },
   {
    "duration": 50414,
    "start_time": "2023-06-24T15:32:11.700Z"
   },
   {
    "duration": 5,
    "start_time": "2023-06-24T15:33:15.006Z"
   },
   {
    "duration": 11376,
    "start_time": "2023-06-24T15:33:16.917Z"
   },
   {
    "duration": 26,
    "start_time": "2023-06-24T15:33:50.490Z"
   },
   {
    "duration": 65996,
    "start_time": "2023-06-24T15:33:52.338Z"
   },
   {
    "duration": 6,
    "start_time": "2023-06-24T15:35:09.403Z"
   },
   {
    "duration": 10184,
    "start_time": "2023-06-24T15:35:11.796Z"
   },
   {
    "duration": 5,
    "start_time": "2023-06-24T15:35:40.004Z"
   },
   {
    "duration": 9587,
    "start_time": "2023-06-24T15:35:43.002Z"
   },
   {
    "duration": 5,
    "start_time": "2023-06-24T15:36:05.452Z"
   },
   {
    "duration": 10062,
    "start_time": "2023-06-24T15:36:06.518Z"
   },
   {
    "duration": 5,
    "start_time": "2023-06-24T15:36:25.111Z"
   },
   {
    "duration": 9269,
    "start_time": "2023-06-24T15:36:27.828Z"
   },
   {
    "duration": 9,
    "start_time": "2023-06-24T15:36:48.157Z"
   },
   {
    "duration": 11644,
    "start_time": "2023-06-24T15:36:50.145Z"
   },
   {
    "duration": 6,
    "start_time": "2023-06-24T15:37:15.211Z"
   },
   {
    "duration": 10400,
    "start_time": "2023-06-24T15:37:17.193Z"
   },
   {
    "duration": 8,
    "start_time": "2023-06-24T15:37:40.280Z"
   },
   {
    "duration": 11278,
    "start_time": "2023-06-24T15:37:42.600Z"
   },
   {
    "duration": 8,
    "start_time": "2023-06-24T15:38:06.151Z"
   },
   {
    "duration": 10,
    "start_time": "2023-06-24T15:38:08.853Z"
   },
   {
    "duration": 26123,
    "start_time": "2023-06-24T15:38:10.555Z"
   },
   {
    "duration": 8,
    "start_time": "2023-06-24T15:38:59.217Z"
   },
   {
    "duration": 21711,
    "start_time": "2023-06-24T15:39:02.070Z"
   },
   {
    "duration": 13,
    "start_time": "2023-06-24T15:39:35.115Z"
   },
   {
    "duration": 19539,
    "start_time": "2023-06-24T15:39:38.155Z"
   },
   {
    "duration": 13,
    "start_time": "2023-06-24T15:40:06.062Z"
   },
   {
    "duration": 45344,
    "start_time": "2023-06-24T15:40:08.548Z"
   },
   {
    "duration": 4048,
    "start_time": "2023-06-24T15:42:53.736Z"
   },
   {
    "duration": 5,
    "start_time": "2023-06-24T15:42:58.689Z"
   },
   {
    "duration": 23341,
    "start_time": "2023-06-24T15:42:59.945Z"
   },
   {
    "duration": 6,
    "start_time": "2023-06-24T15:43:36.447Z"
   },
   {
    "duration": 26539,
    "start_time": "2023-06-24T15:43:38.639Z"
   },
   {
    "duration": 5,
    "start_time": "2023-06-24T15:44:14.214Z"
   },
   {
    "duration": 29408,
    "start_time": "2023-06-24T15:44:16.469Z"
   },
   {
    "duration": 20633,
    "start_time": "2023-06-24T15:45:18.847Z"
   },
   {
    "duration": 5,
    "start_time": "2023-06-24T15:45:43.025Z"
   },
   {
    "duration": 5,
    "start_time": "2023-06-24T15:45:53.346Z"
   },
   {
    "duration": 34519,
    "start_time": "2023-06-24T15:45:55.159Z"
   },
   {
    "duration": 269,
    "start_time": "2023-06-24T15:46:35.329Z"
   },
   {
    "duration": 116706,
    "start_time": "2023-06-24T15:47:51.257Z"
   },
   {
    "duration": 11,
    "start_time": "2023-06-24T15:52:33.939Z"
   },
   {
    "duration": 9,
    "start_time": "2023-06-24T15:52:56.138Z"
   },
   {
    "duration": 10,
    "start_time": "2023-06-24T15:52:57.611Z"
   },
   {
    "duration": 5,
    "start_time": "2023-06-24T15:53:03.927Z"
   },
   {
    "duration": 30863,
    "start_time": "2023-06-24T15:53:05.433Z"
   },
   {
    "duration": 273,
    "start_time": "2023-06-24T15:55:01.038Z"
   },
   {
    "duration": 4,
    "start_time": "2023-06-24T15:55:07.116Z"
   },
   {
    "duration": 1147408,
    "start_time": "2023-06-24T15:55:12.867Z"
   },
   {
    "duration": 12,
    "start_time": "2023-06-24T16:14:56.394Z"
   },
   {
    "duration": 10,
    "start_time": "2023-06-24T16:15:03.211Z"
   },
   {
    "duration": 10,
    "start_time": "2023-06-24T16:15:10.500Z"
   },
   {
    "duration": 15,
    "start_time": "2023-06-24T16:15:18.102Z"
   },
   {
    "duration": 36,
    "start_time": "2023-06-24T16:15:19.514Z"
   },
   {
    "duration": 5,
    "start_time": "2023-06-24T16:15:23.753Z"
   },
   {
    "duration": 2,
    "start_time": "2023-06-24T16:15:25.449Z"
   },
   {
    "duration": 3,
    "start_time": "2023-06-24T16:15:27.368Z"
   },
   {
    "duration": 4,
    "start_time": "2023-06-24T16:15:28.542Z"
   },
   {
    "duration": 27362,
    "start_time": "2023-06-24T16:15:30.907Z"
   },
   {
    "duration": 4,
    "start_time": "2023-06-24T16:16:08.360Z"
   },
   {
    "duration": 33565,
    "start_time": "2023-06-24T16:16:19.512Z"
   },
   {
    "duration": 6,
    "start_time": "2023-06-24T16:17:00.016Z"
   },
   {
    "duration": 45786,
    "start_time": "2023-06-24T16:17:01.995Z"
   },
   {
    "duration": 5,
    "start_time": "2023-06-24T16:17:53.509Z"
   },
   {
    "duration": 39153,
    "start_time": "2023-06-24T16:17:55.025Z"
   },
   {
    "duration": 5,
    "start_time": "2023-06-24T16:18:41.394Z"
   },
   {
    "duration": 26971,
    "start_time": "2023-06-24T16:18:43.026Z"
   },
   {
    "duration": 5,
    "start_time": "2023-06-24T16:19:18.129Z"
   },
   {
    "duration": 35368,
    "start_time": "2023-06-24T16:19:21.214Z"
   },
   {
    "duration": 6,
    "start_time": "2023-06-24T16:20:00.042Z"
   },
   {
    "duration": 31358,
    "start_time": "2023-06-24T16:20:01.438Z"
   },
   {
    "duration": 5,
    "start_time": "2023-06-24T16:20:38.795Z"
   },
   {
    "duration": 45046,
    "start_time": "2023-06-24T16:20:40.739Z"
   },
   {
    "duration": 5,
    "start_time": "2023-06-24T16:21:32.502Z"
   },
   {
    "duration": 52894,
    "start_time": "2023-06-24T16:21:34.294Z"
   },
   {
    "duration": 6,
    "start_time": "2023-06-24T16:22:32.732Z"
   },
   {
    "duration": 39322,
    "start_time": "2023-06-24T16:22:35.754Z"
   },
   {
    "duration": 272,
    "start_time": "2023-06-24T16:23:15.078Z"
   },
   {
    "duration": 3,
    "start_time": "2023-06-24T16:23:25.856Z"
   },
   {
    "duration": 1016277,
    "start_time": "2023-06-24T16:23:38.910Z"
   },
   {
    "duration": 5,
    "start_time": "2023-06-24T16:42:41.007Z"
   },
   {
    "duration": 20,
    "start_time": "2023-06-24T16:45:46.740Z"
   },
   {
    "duration": 5,
    "start_time": "2023-06-24T16:46:03.089Z"
   },
   {
    "duration": 7,
    "start_time": "2023-06-24T16:46:55.600Z"
   },
   {
    "duration": 10,
    "start_time": "2023-06-24T16:47:01.152Z"
   },
   {
    "duration": 18207,
    "start_time": "2023-06-24T16:47:02.555Z"
   },
   {
    "duration": 8,
    "start_time": "2023-06-24T16:47:23.455Z"
   },
   {
    "duration": 32217,
    "start_time": "2023-06-24T16:47:25.565Z"
   },
   {
    "duration": 12,
    "start_time": "2023-06-24T16:48:10.746Z"
   },
   {
    "duration": 10,
    "start_time": "2023-06-24T16:49:39.690Z"
   },
   {
    "duration": 9,
    "start_time": "2023-06-24T16:50:20.982Z"
   },
   {
    "duration": 10,
    "start_time": "2023-06-24T16:50:26.515Z"
   },
   {
    "duration": 18,
    "start_time": "2023-06-24T16:50:30.245Z"
   },
   {
    "duration": 37,
    "start_time": "2023-06-24T16:50:56.891Z"
   },
   {
    "duration": 5,
    "start_time": "2023-06-24T16:51:06.018Z"
   },
   {
    "duration": 3,
    "start_time": "2023-06-24T16:51:08.434Z"
   },
   {
    "duration": 4,
    "start_time": "2023-06-24T16:51:09.839Z"
   },
   {
    "duration": 11,
    "start_time": "2023-06-24T16:51:14.327Z"
   },
   {
    "duration": 44560,
    "start_time": "2023-06-24T16:51:17.039Z"
   },
   {
    "duration": 11,
    "start_time": "2023-06-24T16:52:21.450Z"
   },
   {
    "duration": 16,
    "start_time": "2023-06-24T16:52:25.648Z"
   },
   {
    "duration": 50,
    "start_time": "2023-06-24T16:52:26.858Z"
   },
   {
    "duration": 5,
    "start_time": "2023-06-24T16:52:29.961Z"
   },
   {
    "duration": 3,
    "start_time": "2023-06-24T16:52:31.334Z"
   },
   {
    "duration": 4,
    "start_time": "2023-06-24T16:52:32.588Z"
   },
   {
    "duration": 13,
    "start_time": "2023-06-24T16:52:34.945Z"
   },
   {
    "duration": 52757,
    "start_time": "2023-06-24T16:52:36.444Z"
   },
   {
    "duration": 366,
    "start_time": "2023-06-24T16:53:43.660Z"
   },
   {
    "duration": 3888,
    "start_time": "2023-06-24T16:55:10.458Z"
   },
   {
    "duration": 8,
    "start_time": "2023-06-24T16:55:17.093Z"
   },
   {
    "duration": 10194,
    "start_time": "2023-06-24T16:55:19.831Z"
   },
   {
    "duration": 11,
    "start_time": "2023-06-24T16:55:41.108Z"
   },
   {
    "duration": 60690,
    "start_time": "2023-06-24T16:55:42.208Z"
   },
   {
    "duration": 5,
    "start_time": "2023-06-24T16:59:10.822Z"
   },
   {
    "duration": 3170,
    "start_time": "2023-06-24T17:01:11.747Z"
   },
   {
    "duration": 8,
    "start_time": "2023-06-24T17:01:17.804Z"
   },
   {
    "duration": 11,
    "start_time": "2023-06-24T17:01:19.895Z"
   },
   {
    "duration": 98593,
    "start_time": "2023-06-24T17:01:22.773Z"
   },
   {
    "duration": 73,
    "start_time": "2023-06-24T17:03:21.958Z"
   },
   {
    "duration": 3592,
    "start_time": "2023-06-24T17:03:33.220Z"
   },
   {
    "duration": 11,
    "start_time": "2023-06-24T17:03:40.259Z"
   },
   {
    "duration": 84227,
    "start_time": "2023-06-24T17:03:42.514Z"
   },
   {
    "duration": 13,
    "start_time": "2023-06-24T17:05:46.824Z"
   },
   {
    "duration": 113030,
    "start_time": "2023-06-24T17:05:48.840Z"
   },
   {
    "duration": 9,
    "start_time": "2023-06-24T17:08:00.052Z"
   },
   {
    "duration": 83396,
    "start_time": "2023-06-24T17:08:02.960Z"
   },
   {
    "duration": 730954,
    "start_time": "2023-06-24T17:11:34.365Z"
   },
   {
    "duration": 515356,
    "start_time": "2023-06-24T17:27:05.059Z"
   },
   {
    "duration": 510747,
    "start_time": "2023-06-24T17:37:52.049Z"
   },
   {
    "duration": 40621,
    "start_time": "2023-06-24T17:48:52.405Z"
   },
   {
    "duration": 9,
    "start_time": "2023-06-24T17:49:34.402Z"
   },
   {
    "duration": 226742,
    "start_time": "2023-06-24T17:49:35.739Z"
   },
   {
    "duration": 3,
    "start_time": "2023-06-24T17:59:42.011Z"
   },
   {
    "duration": 5,
    "start_time": "2023-06-24T18:00:19.001Z"
   },
   {
    "duration": 11,
    "start_time": "2023-06-24T18:02:28.483Z"
   },
   {
    "duration": 10,
    "start_time": "2023-06-24T18:02:46.161Z"
   },
   {
    "duration": 3,
    "start_time": "2023-06-24T18:02:51.257Z"
   },
   {
    "duration": 3,
    "start_time": "2023-06-24T18:02:52.465Z"
   },
   {
    "duration": 8,
    "start_time": "2023-06-24T18:02:55.056Z"
   },
   {
    "duration": 114681,
    "start_time": "2023-06-24T18:04:05.719Z"
   },
   {
    "duration": 83,
    "start_time": "2023-06-24T18:06:54.418Z"
   },
   {
    "duration": 5600,
    "start_time": "2023-06-24T18:10:36.808Z"
   },
   {
    "duration": 10,
    "start_time": "2023-06-24T18:10:45.399Z"
   },
   {
    "duration": 59828,
    "start_time": "2023-06-24T18:10:47.605Z"
   },
   {
    "duration": 876530,
    "start_time": "2023-06-24T18:12:02.593Z"
   },
   {
    "duration": 3,
    "start_time": "2023-06-24T18:27:14.033Z"
   },
   {
    "duration": 4,
    "start_time": "2023-06-24T18:27:23.011Z"
   },
   {
    "duration": 8,
    "start_time": "2023-06-24T18:27:24.240Z"
   },
   {
    "duration": 453646,
    "start_time": "2023-06-24T18:27:26.416Z"
   },
   {
    "duration": 385624,
    "start_time": "2023-06-24T18:36:15.015Z"
   }
  ],
  "kernelspec": {
   "display_name": "Python 3 (ipykernel)",
   "language": "python",
   "name": "python3"
  },
  "language_info": {
   "codemirror_mode": {
    "name": "ipython",
    "version": 3
   },
   "file_extension": ".py",
   "mimetype": "text/x-python",
   "name": "python",
   "nbconvert_exporter": "python",
   "pygments_lexer": "ipython3",
   "version": "3.9.5"
  },
  "toc": {
   "base_numbering": 1,
   "nav_menu": {},
   "number_sections": false,
   "sideBar": true,
   "skip_h1_title": false,
   "title_cell": "Table of Contents",
   "title_sidebar": "Contents",
   "toc_cell": false,
   "toc_position": {},
   "toc_section_display": true,
   "toc_window_display": false
  },
  "varInspector": {
   "cols": {
    "lenName": 16,
    "lenType": 16,
    "lenVar": 40
   },
   "kernels_config": {
    "python": {
     "delete_cmd_postfix": "",
     "delete_cmd_prefix": "del ",
     "library": "var_list.py",
     "varRefreshCmd": "print(var_dic_list())"
    },
    "r": {
     "delete_cmd_postfix": ") ",
     "delete_cmd_prefix": "rm(",
     "library": "var_list.r",
     "varRefreshCmd": "cat(var_dic_list()) "
    }
   },
   "types_to_exclude": [
    "module",
    "function",
    "builtin_function_or_method",
    "instance",
    "_Feature"
   ],
   "window_display": false
  }
 },
 "nbformat": 4,
 "nbformat_minor": 5
}
