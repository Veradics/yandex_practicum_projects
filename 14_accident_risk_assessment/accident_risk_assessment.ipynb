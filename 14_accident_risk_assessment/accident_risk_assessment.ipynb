{
 "cells": [
  {
   "cell_type": "markdown",
   "id": "ceea4b06",
   "metadata": {},
   "source": [
    "<div style=\"border:solid Green 2px; padding: 40px\">\n",
    "    <b> Привет, Светлана!</b>🌸<br/>\n",
    "    <p>Меня зовут София, я буду ревьюером твоего проекта. Предлагаю обращаться на \"ты\", но если это неудобно - дай знать, и мы перейдем на \"вы\".</p>\n",
    "    <p>Для удобства мои комментарии в твоей работе раскрашены разными цветами:</p>\n",
    "    <br/>\n",
    "<div class=\"alert alert-success\">\n",
    "    <b> ✅**Комментарий ревьюера** </b>\n",
    "        <p>Такой комментарий означает что решение на отдельном шаге является полностью правильным и я хочу тебя похвалить за отлично выполненную работу. На решения, отмеченные этим комментарием, можно опираться в будущих проектах. </p>\n",
    "</div>\n",
    "    <br/>\n",
    "<div class=\"alert alert-warning\">\n",
    "    <b>💡**Комментарий ревьюера** </b>\n",
    "    <p> Такой комментарий я оставляю в случае, когда решение на отдельном шаге станет еще лучше, если внести небольшие коррективы. Ты можешь учесть эти комментарии при выполнении будущих заданий или доработать проект сейчас (однако это не обязательно). </p>\n",
    "</div>\n",
    "    <br/>\n",
    "<div class=\"alert alert-block alert-danger\">\n",
    "    <b> ❌**Комментарий ревьюера** </b> \n",
    "    <p> Такой комментарий оставлен в случае, когда решение на отдельном шаге требует существенной переработки и внесения правок. Проект не может быть принят пока есть, то что которые нужно доработать. </p>\n",
    "</div>\n",
    "      <p> Чтобы мы могли вместе эффективнее учиться и развиваться — оставляй свои комментарии и задавай вопросы. Для таких случаев, пожалуйста, выбери собственное оформление комментариев, которое будет отличаться от моего, чтобы не создавать путаницы:</p>\n",
    "    <div class=\"alert alert-info\"> <b>Комментарий студента:</b> Например, такое.</div>\n",
    "    <p>По этой же причине попрошу тебя не удалять и не изменять мои комментарии. Все это позволит лучше ориентироваться в нашем с тобой диалоге, а повторную проверку (в случае ее необходимости) выполнять оперативнее. </p>\n",
    "<p>Не спеши расстраиваться, если что-то не удалось с первого раза. Мы обязательно вместе разберемся со всеми трудностями! </p>\n",
    "</div>"
   ]
  },
  {
   "cell_type": "markdown",
   "id": "98f03be5",
   "metadata": {},
   "source": [
    "# Предсказание ДТП\n",
    "\n",
    "**Главной задачей проекта** является создание системы, которая могла бы оценить риск ДТП по выбранному маршруту движения. Под риском понимается вероятность ДТП с любым повреждением транспортного средства. Как только водитель забронировал автомобиль, сел за руль и выбрал маршрут, система должна оценить уровень риска. Если уровень риска высок, водитель увидит предупреждение и рекомендации по маршруту.\n",
    "\n",
    "**Идея решения задачи от заказчика**: \n",
    "1. Создать модель предсказания ДТП (целевое значение — at_fault (виновник) в таблице parties)\n",
    "    - Для модели выбрать тип виновника — только машина (car).\n",
    "    - Выбрать случаи, когда ДТП привело к любым повреждениям транспортного средства, кроме типа SCRATCH (царапина).\n",
    "    - Для моделирования ограничиться данными за 2012 год — они самые свежие.\n",
    "    - Обязательное условие — учесть фактор возраста автомобиля.\n",
    "2. На основе модели исследовать основные факторы ДТП.\n",
    "3. Понять, помогут ли результаты моделирования и анализ важности факторов ответить на вопросы:\n",
    "    - Возможно ли создать адекватную системы оценки водительского риска при выдаче авто?\n",
    "    - Какие ещё факторы нужно учесть?\n",
    "    - Нужно ли оборудовать автомобиль какими-либо датчиками или камерой?\n",
    "    \n",
    "Данные для анализа представлены в базе данных по происшествиям. **ER диаграмма**:"
   ]
  },
  {
   "cell_type": "markdown",
   "id": "cf573ed5",
   "metadata": {},
   "source": [
    "<div class=\"alert alert-success\">\n",
    "    <b> ✅**Комментарий ревьюера** </b>\n",
    "        <p>Отлично, что вставляешь задачу проекта и его содержание. Я бы порекомендовала тебе составлять план, больше похожий на книжное содержание.\n",
    "Например:\n",
    "\n",
    "# Определение **** <i>(название)</i>\n",
    "_____\n",
    "**В исследовании было задействовано несколько таблиц:** **** <i>(описание данных)</i>\n",
    "______\n",
    "\n",
    "**Разделим исследование на несколько частей.**\n",
    "\n",
    "**Часть 1. Изучение общей информации:**\n",
    "* [1. Изучение файлов с данными, получение общей информации, загрузка библиотек.](#1-bullet)\n",
    "* [2. Нахождение и ликвидация пропусков.](#2-bullet)\n",
    "\n",
    "**Часть 2. Подготовка данных:**\n",
    "* [1. Приведение данных к нужным типам.](#3-bullet)\n",
    "* [2. Нахождение и исправление аномалий и ошибок.](#4-bullet)\n",
    "и т.д. </p>\n",
    "    \n",
    "<p>Старайся выполнять свой проект в порядке, прописанном в твоем плане. Да, такое оформление займет больше времени, но позволит сделать проект легче в прочтении, не только для меня как ревьюера, но и для тебя, если ты через время решишь вернуться к нему и вспомнить определенные шаги, а также удобнее работодателям, которые будут смотреть портфолио с твоими исследованиями.</p>\n",
    "<p>Инструкцию по созданию содержания, которое будет удобно построено в виде ссылок на разделы можно найти в курсе: <i> <b> Полезные инструкции для учёбы -> Оформление проекта -> Изменения в Jupyter: автоматическое оглавление и горячие клавиши </b> </i>.</p>\n",
    "</div>"
   ]
  },
  {
   "cell_type": "markdown",
   "id": "48e242e2",
   "metadata": {},
   "source": [
    "![schema](данные.png)"
   ]
  },
  {
   "cell_type": "markdown",
   "id": "b2ad3523",
   "metadata": {},
   "source": [
    "<div class=\"alert alert-warning\">\n",
    "    <b>💡**Комментарий ревьюера** </b>\n",
    "    <p> Изображение скорее всего расположено локально, поэтому его не видно. </p>\n",
    "</div>"
   ]
  },
  {
   "cell_type": "markdown",
   "id": "0ea6e437",
   "metadata": {
    "ExecuteTime": {
     "end_time": "2022-05-05T04:58:05.692448Z",
     "start_time": "2022-05-05T04:58:05.688565Z"
    }
   },
   "source": [
    "## Подключитесь к базе. Загрузите таблицы sql"
   ]
  },
  {
   "cell_type": "code",
   "execution_count": 1,
   "id": "26bf59e4",
   "metadata": {},
   "outputs": [],
   "source": [
    "# библиотеки\n",
    "from sqlalchemy import create_engine\n",
    "\n",
    "import pandas as pd\n",
    "import numpy as np\n",
    "import matplotlib.pyplot as plt\n",
    "import seaborn as sns\n",
    "\n",
    "from sklearn.model_selection import train_test_split, GridSearchCV\n",
    "from sklearn.preprocessing import OneHotEncoder, OrdinalEncoder, StandardScaler\n",
    "from sklearn.pipeline import Pipeline\n",
    "from sklearn.compose import ColumnTransformer\n",
    "from sklearn.metrics import f1_score, precision_score, recall_score, confusion_matrix\n",
    "\n",
    "from sklearn.linear_model import LogisticRegression\n",
    "from sklearn.ensemble import RandomForestClassifier\n",
    "from lightgbm import LGBMClassifier\n",
    "\n",
    "import warnings\n",
    "warnings.filterwarnings('ignore')"
   ]
  },
  {
   "cell_type": "markdown",
   "id": "42e188d3",
   "metadata": {},
   "source": [
    "<div class=\"alert alert-success\">\n",
    "    <b> ✅**Комментарий ревьюера** </b>\n",
    "        <p>Отлично, что импорты корректно собраны в начале проекта: это соответствует стилевым рекомендациям (PEP 8), а также это удобно в работе (сразу видны используемые библиотеки и что надо доустановить в случае чего). И молодец, что делаешь все импорты из одной библиотеки в одну строку, так легче читать проект и следить за импортами. </p>\n",
    "</div>"
   ]
  },
  {
   "cell_type": "code",
   "execution_count": 2,
   "id": "e2744765",
   "metadata": {},
   "outputs": [],
   "source": [
    "db_config = {\n",
    "    'user': 'praktikum_student',                           # имя пользователя\n",
    "    'pwd': 'Sdf4$2;d-d30pp',                               # пароль\n",
    "    'host': 'rc1b-wcoijxj3yxfsf3fs.mdb.yandexcloud.net',\n",
    "    'port': 6432,                                          # порт подключения\n",
    "    'db': 'data-science-vehicle-db'                        # название базы данных\n",
    "}  \n",
    "\n",
    "connection_string = 'postgresql://{}:{}@{}:{}/{}'.format(\n",
    "    db_config['user'],\n",
    "    db_config['pwd'],\n",
    "    db_config['host'],\n",
    "    db_config['port'],\n",
    "    db_config['db'],\n",
    ")"
   ]
  },
  {
   "cell_type": "code",
   "execution_count": 3,
   "id": "c9e8d029",
   "metadata": {},
   "outputs": [],
   "source": [
    "# подключение к БД\n",
    "engine = create_engine(connection_string) "
   ]
  },
  {
   "cell_type": "markdown",
   "id": "cb7f16d4",
   "metadata": {},
   "source": [
    "## Проведите первичное исследование таблиц"
   ]
  },
  {
   "cell_type": "markdown",
   "id": "c60ce1cf",
   "metadata": {},
   "source": [
    "Перед началом работы проверим:\n",
    "\n",
    "- Соответствует ли количество таблиц условию задачи\n",
    "- Все ли таблицы имеют набор данных\n",
    "- Имеется ли общий ключ для связи таблиц"
   ]
  },
  {
   "cell_type": "code",
   "execution_count": 4,
   "id": "8a76c1a6",
   "metadata": {},
   "outputs": [
    {
     "data": {
      "text/html": [
       "<div>\n",
       "<style scoped>\n",
       "    .dataframe tbody tr th:only-of-type {\n",
       "        vertical-align: middle;\n",
       "    }\n",
       "\n",
       "    .dataframe tbody tr th {\n",
       "        vertical-align: top;\n",
       "    }\n",
       "\n",
       "    .dataframe thead th {\n",
       "        text-align: right;\n",
       "    }\n",
       "</style>\n",
       "<table border=\"1\" class=\"dataframe\">\n",
       "  <thead>\n",
       "    <tr style=\"text-align: right;\">\n",
       "      <th></th>\n",
       "      <th>table_name</th>\n",
       "    </tr>\n",
       "  </thead>\n",
       "  <tbody>\n",
       "    <tr>\n",
       "      <th>0</th>\n",
       "      <td>case_ids</td>\n",
       "    </tr>\n",
       "    <tr>\n",
       "      <th>1</th>\n",
       "      <td>collisions</td>\n",
       "    </tr>\n",
       "    <tr>\n",
       "      <th>2</th>\n",
       "      <td>parties</td>\n",
       "    </tr>\n",
       "    <tr>\n",
       "      <th>3</th>\n",
       "      <td>vehicles</td>\n",
       "    </tr>\n",
       "  </tbody>\n",
       "</table>\n",
       "</div>"
      ],
      "text/plain": [
       "   table_name\n",
       "0    case_ids\n",
       "1  collisions\n",
       "2     parties\n",
       "3    vehicles"
      ]
     },
     "execution_count": 4,
     "metadata": {},
     "output_type": "execute_result"
    }
   ],
   "source": [
    "query = \"\"\"\n",
    "SELECT table_name\n",
    "FROM \n",
    "    information_schema.tables\n",
    "WHERE \n",
    "    table_schema = 'public';\n",
    "\"\"\"\n",
    "\n",
    "tables = pd.read_sql_query(query, con=engine)\n",
    "tables"
   ]
  },
  {
   "cell_type": "markdown",
   "id": "cd7a7eab",
   "metadata": {},
   "source": [
    "Количество таблиц в схеме и их названия соответствуют представленным на схеме."
   ]
  },
  {
   "cell_type": "code",
   "execution_count": 5,
   "id": "77632d51",
   "metadata": {},
   "outputs": [
    {
     "data": {
      "text/html": [
       "<div>\n",
       "<style scoped>\n",
       "    .dataframe tbody tr th:only-of-type {\n",
       "        vertical-align: middle;\n",
       "    }\n",
       "\n",
       "    .dataframe tbody tr th {\n",
       "        vertical-align: top;\n",
       "    }\n",
       "\n",
       "    .dataframe thead th {\n",
       "        text-align: right;\n",
       "    }\n",
       "</style>\n",
       "<table border=\"1\" class=\"dataframe\">\n",
       "  <thead>\n",
       "    <tr style=\"text-align: right;\">\n",
       "      <th></th>\n",
       "      <th>table_name</th>\n",
       "      <th>row_count</th>\n",
       "    </tr>\n",
       "  </thead>\n",
       "  <tbody>\n",
       "    <tr>\n",
       "      <th>0</th>\n",
       "      <td>case_ids</td>\n",
       "      <td>1400000</td>\n",
       "    </tr>\n",
       "    <tr>\n",
       "      <th>1</th>\n",
       "      <td>collisions</td>\n",
       "      <td>1400000</td>\n",
       "    </tr>\n",
       "    <tr>\n",
       "      <th>2</th>\n",
       "      <td>parties</td>\n",
       "      <td>2752408</td>\n",
       "    </tr>\n",
       "    <tr>\n",
       "      <th>3</th>\n",
       "      <td>vehicles</td>\n",
       "      <td>1021234</td>\n",
       "    </tr>\n",
       "  </tbody>\n",
       "</table>\n",
       "</div>"
      ],
      "text/plain": [
       "   table_name row_count\n",
       "0    case_ids   1400000\n",
       "1  collisions   1400000\n",
       "2     parties   2752408\n",
       "3    vehicles   1021234"
      ]
     },
     "metadata": {},
     "output_type": "display_data"
    }
   ],
   "source": [
    "rows = pd.DataFrame(columns=['table_name', 'row_count'])\n",
    "\n",
    "def row_count(table):\n",
    "    query = f\"\"\"\n",
    "    SELECT COUNT(*)\n",
    "    FROM public.{table}\n",
    "    \"\"\"\n",
    "    return pd.read_sql_query(query, con=engine).values[0][0]\n",
    "    \n",
    "for table in tables['table_name'].to_list():\n",
    "    rows.loc[len(rows.index)] = [table, row_count(table)]\n",
    "    \n",
    "display(rows)"
   ]
  },
  {
   "cell_type": "markdown",
   "id": "f7c04571",
   "metadata": {},
   "source": [
    "Во всех таблицах есть данные (более 1 млн строк)."
   ]
  },
  {
   "cell_type": "code",
   "execution_count": 6,
   "id": "2f6dbd9f",
   "metadata": {},
   "outputs": [
    {
     "name": "stdout",
     "output_type": "stream",
     "text": [
      "case_ids: Ключ (case_id) есть\n",
      "collisions: Ключ (case_id) есть\n",
      "parties: Ключ (case_id) есть\n",
      "vehicles: Ключ (case_id) есть\n"
     ]
    }
   ],
   "source": [
    "def exist_case_id(table):\n",
    "    query = f\"\"\"\n",
    "    SELECT \n",
    "        column_name\n",
    "    FROM \n",
    "        information_schema.columns\n",
    "    WHERE \n",
    "        table_schema = 'public'\n",
    "        AND table_name = '{table}'\n",
    "        AND column_name = 'case_id';\n",
    "    \"\"\"\n",
    "    \n",
    "    if pd.read_sql_query(query, con=engine).shape[0] > 0:\n",
    "        return f'{table}: Ключ (case_id) есть'\n",
    "    return 'Общий ключ не найден'\n",
    "\n",
    "for table in tables['table_name'].to_list():\n",
    "    print(exist_case_id(table))"
   ]
  },
  {
   "cell_type": "markdown",
   "id": "9cd69441",
   "metadata": {},
   "source": [
    "Судя по представленной ER-диаграмме, общим ключом служит `case_id`. Колонка с таким наименованием присутствует в каждой из таблиц.\n",
    "\n",
    "Таким образом, **первичное исследование таблиц проведено успешно**: все таблицы содержат данные, количество таблиц и их названия соответствуют ожидаемым и общий ключ содержится в каждой из них. "
   ]
  },
  {
   "cell_type": "markdown",
   "id": "0685b655",
   "metadata": {},
   "source": [
    "<div class=\"alert alert-success\">\n",
    "    <b> ✅**Комментарий ревьюера** </b>\n",
    "        <p>Все отлично, проверено наличие таблиц в базе, проверено наличие общего ключа. </p>\n",
    "</div>"
   ]
  },
  {
   "cell_type": "markdown",
   "id": "f36ed31b",
   "metadata": {},
   "source": [
    "##  Проведите статистический анализ факторов ДТП"
   ]
  },
  {
   "cell_type": "markdown",
   "id": "4ceb7dd7",
   "metadata": {},
   "source": [
    "Посмотрим, в какие месяцы происходит наибольшее количество аварий:"
   ]
  },
  {
   "cell_type": "code",
   "execution_count": 7,
   "id": "1ed19c09",
   "metadata": {},
   "outputs": [
    {
     "data": {
      "image/png": "[encoded data removed]",
      "text/plain": [
       "<Figure size 720x216 with 1 Axes>"
      ]
     },
     "metadata": {
      "needs_background": "light"
     },
     "output_type": "display_data"
    },
    {
     "data": {
      "text/html": [
       "<style  type=\"text/css\" >\n",
       "#T_5682e_row0_col0{\n",
       "            background-color:  #157f3b;\n",
       "            color:  #f1f1f1;\n",
       "        }#T_5682e_row1_col0{\n",
       "            background-color:  #2c944c;\n",
       "            color:  #000000;\n",
       "        }#T_5682e_row2_col0{\n",
       "            background-color:  #00441b;\n",
       "            color:  #f1f1f1;\n",
       "        }#T_5682e_row3_col0{\n",
       "            background-color:  #238b45;\n",
       "            color:  #000000;\n",
       "        }#T_5682e_row4_col0{\n",
       "            background-color:  #228a44;\n",
       "            color:  #000000;\n",
       "        }#T_5682e_row5_col0{\n",
       "            background-color:  #f6fcf4;\n",
       "            color:  #000000;\n",
       "        }#T_5682e_row6_col0{\n",
       "            background-color:  #f7fcf5;\n",
       "            color:  #000000;\n",
       "        }#T_5682e_row7_col0{\n",
       "            background-color:  #f0f9ed;\n",
       "            color:  #000000;\n",
       "        }#T_5682e_row8_col0{\n",
       "            background-color:  #ecf8e8;\n",
       "            color:  #000000;\n",
       "        }#T_5682e_row9_col0{\n",
       "            background-color:  #c2e7bb;\n",
       "            color:  #000000;\n",
       "        }#T_5682e_row10_col0{\n",
       "            background-color:  #edf8ea;\n",
       "            color:  #000000;\n",
       "        }#T_5682e_row11_col0{\n",
       "            background-color:  #def2d9;\n",
       "            color:  #000000;\n",
       "        }</style><table id=\"T_5682e_\" ><thead>    <tr>        <th class=\"blank level0\" ></th>        <th class=\"col_heading level0 col0\" >collision_count</th>    </tr>    <tr>        <th class=\"index_name level0\" >month</th>        <th class=\"blank\" ></th>    </tr></thead><tbody>\n",
       "                <tr>\n",
       "                        <th id=\"T_5682e_level0_row0\" class=\"row_heading level0 row0\" >1</th>\n",
       "                        <td id=\"T_5682e_row0_col0\" class=\"data row0 col0\" >132044</td>\n",
       "            </tr>\n",
       "            <tr>\n",
       "                        <th id=\"T_5682e_level0_row1\" class=\"row_heading level0 row1\" >2</th>\n",
       "                        <td id=\"T_5682e_row1_col0\" class=\"data row1 col0\" >128858</td>\n",
       "            </tr>\n",
       "            <tr>\n",
       "                        <th id=\"T_5682e_level0_row2\" class=\"row_heading level0 row2\" >3</th>\n",
       "                        <td id=\"T_5682e_row2_col0\" class=\"data row2 col0\" >139581</td>\n",
       "            </tr>\n",
       "            <tr>\n",
       "                        <th id=\"T_5682e_level0_row3\" class=\"row_heading level0 row3\" >4</th>\n",
       "                        <td id=\"T_5682e_row3_col0\" class=\"data row3 col0\" >130180</td>\n",
       "            </tr>\n",
       "            <tr>\n",
       "                        <th id=\"T_5682e_level0_row4\" class=\"row_heading level0 row4\" >5</th>\n",
       "                        <td id=\"T_5682e_row4_col0\" class=\"data row4 col0\" >130316</td>\n",
       "            </tr>\n",
       "            <tr>\n",
       "                        <th id=\"T_5682e_level0_row5\" class=\"row_heading level0 row5\" >6</th>\n",
       "                        <td id=\"T_5682e_row5_col0\" class=\"data row5 col0\" >102594</td>\n",
       "            </tr>\n",
       "            <tr>\n",
       "                        <th id=\"T_5682e_level0_row6\" class=\"row_heading level0 row6\" >7</th>\n",
       "                        <td id=\"T_5682e_row6_col0\" class=\"data row6 col0\" >102227</td>\n",
       "            </tr>\n",
       "            <tr>\n",
       "                        <th id=\"T_5682e_level0_row7\" class=\"row_heading level0 row7\" >8</th>\n",
       "                        <td id=\"T_5682e_row7_col0\" class=\"data row7 col0\" >104089</td>\n",
       "            </tr>\n",
       "            <tr>\n",
       "                        <th id=\"T_5682e_level0_row8\" class=\"row_heading level0 row8\" >9</th>\n",
       "                        <td id=\"T_5682e_row8_col0\" class=\"data row8 col0\" >105159</td>\n",
       "            </tr>\n",
       "            <tr>\n",
       "                        <th id=\"T_5682e_level0_row9\" class=\"row_heading level0 row9\" >10</th>\n",
       "                        <td id=\"T_5682e_row9_col0\" class=\"data row9 col0\" >112237</td>\n",
       "            </tr>\n",
       "            <tr>\n",
       "                        <th id=\"T_5682e_level0_row10\" class=\"row_heading level0 row10\" >11</th>\n",
       "                        <td id=\"T_5682e_row10_col0\" class=\"data row10 col0\" >104770</td>\n",
       "            </tr>\n",
       "            <tr>\n",
       "                        <th id=\"T_5682e_level0_row11\" class=\"row_heading level0 row11\" >12</th>\n",
       "                        <td id=\"T_5682e_row11_col0\" class=\"data row11 col0\" >107945</td>\n",
       "            </tr>\n",
       "    </tbody></table>"
      ],
      "text/plain": [
       "<pandas.io.formats.style.Styler at 0x7f7351d4a0d0>"
      ]
     },
     "metadata": {},
     "output_type": "display_data"
    }
   ],
   "source": [
    "query = '''\n",
    "SELECT \n",
    "    EXTRACT(MONTH FROM collision_date)::integer AS month,\n",
    "    COUNT(*) AS collision_count\n",
    "FROM \n",
    "    collisions\n",
    "GROUP BY \n",
    "    month\n",
    "ORDER BY \n",
    "    month ASC;\n",
    "'''\n",
    "\n",
    "collisions_by_month = pd.read_sql_query(query, con=engine).set_index('month')\n",
    "\n",
    "# построение графика\n",
    "collisions_by_month.plot(kind='bar', title='Количество аварий по месяцам', figsize=(10, 3))\n",
    "plt.xticks(rotation=0)\n",
    "plt.show()\n",
    "\n",
    "# данные\n",
    "display(collisions_by_month.style.background_gradient('Greens'))"
   ]
  },
  {
   "cell_type": "markdown",
   "id": "eb042909",
   "metadata": {},
   "source": [
    "<div class=\"alert alert-warning\">\n",
    "    <b>💡**Комментарий ревьюера** </b>\n",
    "    <p> Чтобы было легче воспринимать месяцы, можно прочитать их не как числа, а как строки, для этого есть такая функция <code>to_char(<колонка с датами>::DATE, 'MONTH')</code>. </p>\n",
    "    <p> Так как мы работаем с реальными данными, нам стоит проверить полноту данных за разные месяца по годам. Вдруг, в каком-то году базу заполняли только до половины года, тогда выводы, которые мы будем делать на таких неполных, несбалансированных данных окажутся неверными.\n",
    "\n",
    "Также можно попробовать сгруппировать данные по сезонам и посмотреть на получившиеся значения, построить график. Это как вариант для более детального анализа.</p>\n",
    "</div>"
   ]
  },
  {
   "cell_type": "markdown",
   "id": "fa62be8b",
   "metadata": {},
   "source": [
    "Как видно, наибольшее количество аварий зарегистрировано в начале года - в зимние и весенние месяцы. Как раз в это время в некоторых регионах меняются погодные условия, появляется/сходит снег и многие переходят на летнюю резину раньше времени, что приводит к непростой ситуации на дорогах. Меньшее количество аварий наблюдается в летние месяцы. Осенью - наблюдается небольшой рост."
   ]
  },
  {
   "cell_type": "markdown",
   "id": "da5f25e1",
   "metadata": {},
   "source": [
    "### Задания для коллег:"
   ]
  },
  {
   "cell_type": "markdown",
   "id": "9517e7d1",
   "metadata": {},
   "source": [
    "1. Проанализировать распределение данных о ДТП по годам. Увеличилось ли число зарегистрированных случаев?\n",
    "2. При каких условиях наблюдаются наиболее серьезные повреждения в ДТП?\n",
    "3. Исследовать частоту ДТП, произошедших по вине водителя. В каком состоянии находились водители?\n",
    "4. Исследовать случаи с максимальным количеством участников ДТП\n",
    "5. Влияет ли возраст автомобиля на размер страховой выплаты в случае серьезного повреждения?\n",
    "6. Автомобили с каким типом кузова чаще всего попадали в ДТП не по вине водителя с серьезностью повреждения выше среднего?"
   ]
  },
  {
   "cell_type": "markdown",
   "id": "cae06149",
   "metadata": {},
   "source": [
    "<div class=\"alert alert-success\">\n",
    "    <b> ✅**Комментарий ревьюера** </b>\n",
    "        <p>Отличные задачи для получились! </p>\n",
    "</div>"
   ]
  },
  {
   "cell_type": "markdown",
   "id": "a0dddd5e",
   "metadata": {},
   "source": [
    "Для примера разберем пару вопросов. \n",
    "\n",
    "**Вопрос №5** \\\n",
    "\"Влияет ли возраст автомобиля на размер страховой выплаты в случае серьезного повреждения?\"\n",
    "\n",
    "*Порядок решения*:\n",
    "1. Составить sql запрос, связав все три таблицы по общему ключу. В запросе должна присутствовать группировка по возрасту автомобиля, фильтрация по степени серьезности повреждения и вычисление среднего размера страховой выплаты для каждой возрастной группы. Сортировка по увеличинению возраста автомобиля.\n",
    "2. Построить столбчатую диаграмму и вывести результативную таблицу\n",
    "3. Сделать вывод\n",
    "\n",
    "*Пример решения*:"
   ]
  },
  {
   "cell_type": "code",
   "execution_count": 8,
   "id": "b739b714",
   "metadata": {},
   "outputs": [
    {
     "data": {
      "image/png": "[encoded data removed]",
      "text/plain": [
       "<Figure size 720x216 with 1 Axes>"
      ]
     },
     "metadata": {
      "needs_background": "light"
     },
     "output_type": "display_data"
    },
    {
     "data": {
      "text/html": [
       "<style  type=\"text/css\" >\n",
       "#T_55feb_row0_col0{\n",
       "            background-color:  #f1faee;\n",
       "            color:  #000000;\n",
       "        }#T_55feb_row0_col1{\n",
       "            background-color:  #e4f5df;\n",
       "            color:  #000000;\n",
       "        }#T_55feb_row1_col0{\n",
       "            background-color:  #edf8e9;\n",
       "            color:  #000000;\n",
       "        }#T_55feb_row1_col1{\n",
       "            background-color:  #d8f0d2;\n",
       "            color:  #000000;\n",
       "        }#T_55feb_row2_col0,#T_55feb_row15_col1,#T_55feb_row16_col1{\n",
       "            background-color:  #f7fcf5;\n",
       "            color:  #000000;\n",
       "        }#T_55feb_row2_col1,#T_55feb_row8_col1{\n",
       "            background-color:  #72c375;\n",
       "            color:  #000000;\n",
       "        }#T_55feb_row3_col0{\n",
       "            background-color:  #f4fbf1;\n",
       "            color:  #000000;\n",
       "        }#T_55feb_row3_col1,#T_55feb_row15_col0{\n",
       "            background-color:  #00441b;\n",
       "            color:  #f1f1f1;\n",
       "        }#T_55feb_row4_col0{\n",
       "            background-color:  #e7f6e2;\n",
       "            color:  #000000;\n",
       "        }#T_55feb_row4_col1{\n",
       "            background-color:  #208843;\n",
       "            color:  #000000;\n",
       "        }#T_55feb_row5_col0{\n",
       "            background-color:  #ceecc8;\n",
       "            color:  #000000;\n",
       "        }#T_55feb_row5_col1{\n",
       "            background-color:  #42ab5d;\n",
       "            color:  #000000;\n",
       "        }#T_55feb_row6_col0{\n",
       "            background-color:  #b0dfaa;\n",
       "            color:  #000000;\n",
       "        }#T_55feb_row6_col1{\n",
       "            background-color:  #6bc072;\n",
       "            color:  #000000;\n",
       "        }#T_55feb_row7_col0{\n",
       "            background-color:  #98d594;\n",
       "            color:  #000000;\n",
       "        }#T_55feb_row7_col1{\n",
       "            background-color:  #63bc6e;\n",
       "            color:  #000000;\n",
       "        }#T_55feb_row8_col0{\n",
       "            background-color:  #7dc87e;\n",
       "            color:  #000000;\n",
       "        }#T_55feb_row9_col0{\n",
       "            background-color:  #55b567;\n",
       "            color:  #000000;\n",
       "        }#T_55feb_row9_col1{\n",
       "            background-color:  #a2d99c;\n",
       "            color:  #000000;\n",
       "        }#T_55feb_row10_col0{\n",
       "            background-color:  #3aa357;\n",
       "            color:  #000000;\n",
       "        }#T_55feb_row10_col1{\n",
       "            background-color:  #c9eac2;\n",
       "            color:  #000000;\n",
       "        }#T_55feb_row11_col0{\n",
       "            background-color:  #2a924a;\n",
       "            color:  #000000;\n",
       "        }#T_55feb_row11_col1{\n",
       "            background-color:  #dbf1d6;\n",
       "            color:  #000000;\n",
       "        }#T_55feb_row12_col0{\n",
       "            background-color:  #117b38;\n",
       "            color:  #f1f1f1;\n",
       "        }#T_55feb_row12_col1{\n",
       "            background-color:  #e9f7e5;\n",
       "            color:  #000000;\n",
       "        }#T_55feb_row13_col0{\n",
       "            background-color:  #006428;\n",
       "            color:  #f1f1f1;\n",
       "        }#T_55feb_row13_col1{\n",
       "            background-color:  #eef8ea;\n",
       "            color:  #000000;\n",
       "        }#T_55feb_row14_col0{\n",
       "            background-color:  #005221;\n",
       "            color:  #f1f1f1;\n",
       "        }#T_55feb_row14_col1{\n",
       "            background-color:  #f3faf0;\n",
       "            color:  #000000;\n",
       "        }#T_55feb_row16_col0{\n",
       "            background-color:  #7ac77b;\n",
       "            color:  #000000;\n",
       "        }</style><table id=\"T_55feb_\" ><thead>    <tr>        <th class=\"blank level0\" ></th>        <th class=\"col_heading level0 col0\" >insurance</th>        <th class=\"col_heading level0 col1\" >case_count</th>    </tr>    <tr>        <th class=\"index_name level0\" >vehicle_age</th>        <th class=\"blank\" ></th>        <th class=\"blank\" ></th>    </tr></thead><tbody>\n",
       "                <tr>\n",
       "                        <th id=\"T_55feb_level0_row0\" class=\"row_heading level0 row0\" >0</th>\n",
       "                        <td id=\"T_55feb_row0_col0\" class=\"data row0 col0\" >30.283896</td>\n",
       "                        <td id=\"T_55feb_row0_col1\" class=\"data row0 col1\" >1929</td>\n",
       "            </tr>\n",
       "            <tr>\n",
       "                        <th id=\"T_55feb_level0_row1\" class=\"row_heading level0 row1\" >1</th>\n",
       "                        <td id=\"T_55feb_row1_col0\" class=\"data row1 col0\" >31.285428</td>\n",
       "                        <td id=\"T_55feb_row1_col1\" class=\"data row1 col1\" >2636</td>\n",
       "            </tr>\n",
       "            <tr>\n",
       "                        <th id=\"T_55feb_level0_row2\" class=\"row_heading level0 row2\" >2</th>\n",
       "                        <td id=\"T_55feb_row2_col0\" class=\"data row2 col0\" >28.587217</td>\n",
       "                        <td id=\"T_55feb_row2_col1\" class=\"data row2 col1\" >7387</td>\n",
       "            </tr>\n",
       "            <tr>\n",
       "                        <th id=\"T_55feb_level0_row3\" class=\"row_heading level0 row3\" >3</th>\n",
       "                        <td id=\"T_55feb_row3_col0\" class=\"data row3 col0\" >29.588541</td>\n",
       "                        <td id=\"T_55feb_row3_col1\" class=\"data row3 col1\" >14586</td>\n",
       "            </tr>\n",
       "            <tr>\n",
       "                        <th id=\"T_55feb_level0_row4\" class=\"row_heading level0 row4\" >4</th>\n",
       "                        <td id=\"T_55feb_row4_col0\" class=\"data row4 col0\" >32.814542</td>\n",
       "                        <td id=\"T_55feb_row4_col1\" class=\"data row4 col1\" >11066</td>\n",
       "            </tr>\n",
       "            <tr>\n",
       "                        <th id=\"T_55feb_level0_row5\" class=\"row_heading level0 row5\" >5</th>\n",
       "                        <td id=\"T_55feb_row5_col0\" class=\"data row5 col0\" >36.828289</td>\n",
       "                        <td id=\"T_55feb_row5_col1\" class=\"data row5 col1\" >9091</td>\n",
       "            </tr>\n",
       "            <tr>\n",
       "                        <th id=\"T_55feb_level0_row6\" class=\"row_heading level0 row6\" >6</th>\n",
       "                        <td id=\"T_55feb_row6_col0\" class=\"data row6 col0\" >40.605540</td>\n",
       "                        <td id=\"T_55feb_row6_col1\" class=\"data row6 col1\" >7603</td>\n",
       "            </tr>\n",
       "            <tr>\n",
       "                        <th id=\"T_55feb_level0_row7\" class=\"row_heading level0 row7\" >7</th>\n",
       "                        <td id=\"T_55feb_row7_col0\" class=\"data row7 col0\" >43.479229</td>\n",
       "                        <td id=\"T_55feb_row7_col1\" class=\"data row7 col1\" >7867</td>\n",
       "            </tr>\n",
       "            <tr>\n",
       "                        <th id=\"T_55feb_level0_row8\" class=\"row_heading level0 row8\" >8</th>\n",
       "                        <td id=\"T_55feb_row8_col0\" class=\"data row8 col0\" >46.129659</td>\n",
       "                        <td id=\"T_55feb_row8_col1\" class=\"data row8 col1\" >7375</td>\n",
       "            </tr>\n",
       "            <tr>\n",
       "                        <th id=\"T_55feb_level0_row9\" class=\"row_heading level0 row9\" >9</th>\n",
       "                        <td id=\"T_55feb_row9_col0\" class=\"data row9 col0\" >49.957426</td>\n",
       "                        <td id=\"T_55feb_row9_col1\" class=\"data row9 col1\" >5457</td>\n",
       "            </tr>\n",
       "            <tr>\n",
       "                        <th id=\"T_55feb_level0_row10\" class=\"row_heading level0 row10\" >10</th>\n",
       "                        <td id=\"T_55feb_row10_col0\" class=\"data row10 col0\" >52.754967</td>\n",
       "                        <td id=\"T_55feb_row10_col1\" class=\"data row10 col1\" >3538</td>\n",
       "            </tr>\n",
       "            <tr>\n",
       "                        <th id=\"T_55feb_level0_row11\" class=\"row_heading level0 row11\" >11</th>\n",
       "                        <td id=\"T_55feb_row11_col0\" class=\"data row11 col0\" >55.256959</td>\n",
       "                        <td id=\"T_55feb_row11_col1\" class=\"data row11 col1\" >2445</td>\n",
       "            </tr>\n",
       "            <tr>\n",
       "                        <th id=\"T_55feb_level0_row12\" class=\"row_heading level0 row12\" >12</th>\n",
       "                        <td id=\"T_55feb_row12_col0\" class=\"data row12 col0\" >58.707669</td>\n",
       "                        <td id=\"T_55feb_row12_col1\" class=\"data row12 col1\" >1398</td>\n",
       "            </tr>\n",
       "            <tr>\n",
       "                        <th id=\"T_55feb_level0_row13\" class=\"row_heading level0 row13\" >13</th>\n",
       "                        <td id=\"T_55feb_row13_col0\" class=\"data row13 col0\" >61.913538</td>\n",
       "                        <td id=\"T_55feb_row13_col1\" class=\"data row13 col1\" >948</td>\n",
       "            </tr>\n",
       "            <tr>\n",
       "                        <th id=\"T_55feb_level0_row14\" class=\"row_heading level0 row14\" >14</th>\n",
       "                        <td id=\"T_55feb_row14_col0\" class=\"data row14 col0\" >63.965035</td>\n",
       "                        <td id=\"T_55feb_row14_col1\" class=\"data row14 col1\" >447</td>\n",
       "            </tr>\n",
       "            <tr>\n",
       "                        <th id=\"T_55feb_level0_row15\" class=\"row_heading level0 row15\" >15</th>\n",
       "                        <td id=\"T_55feb_row15_col0\" class=\"data row15 col0\" >65.625000</td>\n",
       "                        <td id=\"T_55feb_row15_col1\" class=\"data row15 col1\" >58</td>\n",
       "            </tr>\n",
       "            <tr>\n",
       "                        <th id=\"T_55feb_level0_row16\" class=\"row_heading level0 row16\" >16</th>\n",
       "                        <td id=\"T_55feb_row16_col0\" class=\"data row16 col0\" >46.400000</td>\n",
       "                        <td id=\"T_55feb_row16_col1\" class=\"data row16 col1\" >5</td>\n",
       "            </tr>\n",
       "    </tbody></table>"
      ],
      "text/plain": [
       "<pandas.io.formats.style.Styler at 0x7f73d848cc40>"
      ]
     },
     "execution_count": 8,
     "metadata": {},
     "output_type": "execute_result"
    }
   ],
   "source": [
    "query = \"\"\"\n",
    "SELECT v.vehicle_age,\n",
    "    AVG(p.insurance_premium) AS insurance, \n",
    "    COUNT(c.case_id) AS case_count\n",
    "FROM collisions AS c\n",
    "JOIN parties AS p ON c.case_id = p.case_id\n",
    "JOIN vehicles AS v ON v.case_id = p.case_id\n",
    "WHERE c.collision_damage = 'severe damage'\n",
    "    AND v.vehicle_age IS NOT NULL\n",
    "GROUP BY v.vehicle_age\n",
    "ORDER BY v.vehicle_age\n",
    "\"\"\"\n",
    "\n",
    "df_pivot = pd.read_sql_query(query, con=engine).set_index('vehicle_age')\n",
    "\n",
    "# построение графика\n",
    "df_pivot.plot(kind='bar', y='insurance', title='Стоимость страховки за серьезное повреждение от возраста автомобиля', figsize=(10, 3))\n",
    "plt.xticks(rotation=0)\n",
    "plt.show()\n",
    "\n",
    "# данные\n",
    "df_pivot.style.background_gradient('Greens')"
   ]
  },
  {
   "cell_type": "markdown",
   "id": "d3a8642b",
   "metadata": {},
   "source": [
    "Общая тенденция: чем старше автомобиль, тем больше средняя страховая выплата за серьезное повреждение. Резкий спад наблюдается для машин возрастом в 16 лет, что связано с крайне малым количеством зарегистрированных случаев.\n",
    "\n",
    "**Вопрос №6** \\\n",
    "\"Автомобили с каким типом кузова чаще всего попадали в ДТП не по вине водителя с серьезностью повреждения выше среднего?\"\n",
    "\n",
    "*Порядок решения*:\n",
    "1. Составить sql запрос с двумя временными таблицами: количество зарегистированных случаев для каждого типа кузова автомобиля и количество зарегистированных случаев с серьезными или фатальными повреждениями для каждого типа кузова автомобиля. Для решения понадобятся две таблицы - collisions и vehicles. Профильтровать данные по главному фактору дтп \"other than driver\". Вывести результаты в одной таблице + добавить столбец с процентом серьезных случаев.  \n",
    "2. Вывести результативную таблицу\n",
    "3. Сделать вывод\n",
    "\n",
    "*Пример решения:*"
   ]
  },
  {
   "cell_type": "code",
   "execution_count": 9,
   "id": "eddd511b",
   "metadata": {},
   "outputs": [
    {
     "data": {
      "text/html": [
       "<style  type=\"text/css\" >\n",
       "#T_2019f_row0_col1,#T_2019f_row1_col2,#T_2019f_row3_col3{\n",
       "            background-color:  #00441b;\n",
       "            color:  #f1f1f1;\n",
       "        }#T_2019f_row0_col2{\n",
       "            background-color:  #99d595;\n",
       "            color:  #000000;\n",
       "        }#T_2019f_row0_col3,#T_2019f_row4_col1,#T_2019f_row4_col2{\n",
       "            background-color:  #f7fcf5;\n",
       "            color:  #000000;\n",
       "        }#T_2019f_row1_col1{\n",
       "            background-color:  #37a055;\n",
       "            color:  #000000;\n",
       "        }#T_2019f_row1_col3{\n",
       "            background-color:  #9cd797;\n",
       "            color:  #000000;\n",
       "        }#T_2019f_row2_col1{\n",
       "            background-color:  #ebf7e7;\n",
       "            color:  #000000;\n",
       "        }#T_2019f_row2_col2{\n",
       "            background-color:  #c6e8bf;\n",
       "            color:  #000000;\n",
       "        }#T_2019f_row2_col3{\n",
       "            background-color:  #005b25;\n",
       "            color:  #f1f1f1;\n",
       "        }#T_2019f_row3_col1{\n",
       "            background-color:  #f0f9ec;\n",
       "            color:  #000000;\n",
       "        }#T_2019f_row3_col2{\n",
       "            background-color:  #d9f0d3;\n",
       "            color:  #000000;\n",
       "        }#T_2019f_row4_col3{\n",
       "            background-color:  #157f3b;\n",
       "            color:  #f1f1f1;\n",
       "        }</style><table id=\"T_2019f_\" ><thead>    <tr>        <th class=\"blank level0\" ></th>        <th class=\"col_heading level0 col0\" >vehicle_type</th>        <th class=\"col_heading level0 col1\" >all_cases_count</th>        <th class=\"col_heading level0 col2\" >serious_cases_count</th>        <th class=\"col_heading level0 col3\" >percent</th>    </tr></thead><tbody>\n",
       "                <tr>\n",
       "                        <th id=\"T_2019f_level0_row0\" class=\"row_heading level0 row0\" >0</th>\n",
       "                        <td id=\"T_2019f_row0_col0\" class=\"data row0 col0\" >sedan</td>\n",
       "                        <td id=\"T_2019f_row0_col1\" class=\"data row0 col1\" >8868</td>\n",
       "                        <td id=\"T_2019f_row0_col2\" class=\"data row0 col2\" >187</td>\n",
       "                        <td id=\"T_2019f_row0_col3\" class=\"data row0 col3\" >2.108705</td>\n",
       "            </tr>\n",
       "            <tr>\n",
       "                        <th id=\"T_2019f_level0_row1\" class=\"row_heading level0 row1\" >1</th>\n",
       "                        <td id=\"T_2019f_row1_col0\" class=\"data row1 col0\" >coupe</td>\n",
       "                        <td id=\"T_2019f_row1_col1\" class=\"data row1 col1\" >5935</td>\n",
       "                        <td id=\"T_2019f_row1_col2\" class=\"data row1 col2\" >459</td>\n",
       "                        <td id=\"T_2019f_row1_col3\" class=\"data row1 col3\" >7.733783</td>\n",
       "            </tr>\n",
       "            <tr>\n",
       "                        <th id=\"T_2019f_level0_row2\" class=\"row_heading level0 row2\" >2</th>\n",
       "                        <td id=\"T_2019f_row2_col0\" class=\"data row2 col0\" >minivan</td>\n",
       "                        <td id=\"T_2019f_row2_col1\" class=\"data row2 col1\" >782</td>\n",
       "                        <td id=\"T_2019f_row2_col2\" class=\"data row2 col2\" >122</td>\n",
       "                        <td id=\"T_2019f_row2_col3\" class=\"data row2 col3\" >15.601023</td>\n",
       "            </tr>\n",
       "            <tr>\n",
       "                        <th id=\"T_2019f_level0_row3\" class=\"row_heading level0 row3\" >3</th>\n",
       "                        <td id=\"T_2019f_row3_col0\" class=\"data row3 col0\" >hatchback</td>\n",
       "                        <td id=\"T_2019f_row3_col1\" class=\"data row3 col1\" >523</td>\n",
       "                        <td id=\"T_2019f_row3_col2\" class=\"data row3 col2\" >87</td>\n",
       "                        <td id=\"T_2019f_row3_col3\" class=\"data row3 col3\" >16.634799</td>\n",
       "            </tr>\n",
       "            <tr>\n",
       "                        <th id=\"T_2019f_level0_row4\" class=\"row_heading level0 row4\" >4</th>\n",
       "                        <td id=\"T_2019f_row4_col0\" class=\"data row4 col0\" >other</td>\n",
       "                        <td id=\"T_2019f_row4_col1\" class=\"data row4 col1\" >51</td>\n",
       "                        <td id=\"T_2019f_row4_col2\" class=\"data row4 col2\" >7</td>\n",
       "                        <td id=\"T_2019f_row4_col3\" class=\"data row4 col3\" >13.725490</td>\n",
       "            </tr>\n",
       "    </tbody></table>"
      ],
      "text/plain": [
       "<pandas.io.formats.style.Styler at 0x7f7351966220>"
      ]
     },
     "execution_count": 9,
     "metadata": {},
     "output_type": "execute_result"
    }
   ],
   "source": [
    "query = \"\"\"\n",
    "WITH serious_damage AS (\n",
    "    SELECT v.vehicle_type, \n",
    "        COUNT(c.case_id) AS case_count\n",
    "    FROM collisions AS c\n",
    "    JOIN vehicles AS v ON v.case_id = c.case_id\n",
    "    WHERE c.collision_damage IN ('severe damage', 'fatal tc')\n",
    "        AND c.primary_collision_factor = 'other than driver'\n",
    "    GROUP BY v.vehicle_type\n",
    "),\n",
    "all_cases AS (\n",
    "    SELECT v.vehicle_type,\n",
    "        COUNT(c.case_id) AS case_count\n",
    "    FROM collisions AS c\n",
    "    JOIN vehicles AS v ON v.case_id = c.case_id\n",
    "    WHERE c.collision_damage IS NOT NULL\n",
    "        AND c.primary_collision_factor = 'other than driver'\n",
    "    GROUP BY v.vehicle_type\n",
    ")\n",
    "    \n",
    "SELECT a.vehicle_type,\n",
    "    a.case_count AS all_cases_count,\n",
    "    s.case_count AS serious_cases_count,\n",
    "    (s.case_count::numeric / a.case_count::numeric * 100) AS percent\n",
    "FROM all_cases AS a\n",
    "JOIN serious_damage AS s ON s.vehicle_type = a.vehicle_type\n",
    "ORDER BY a.case_count DESC;\n",
    "\"\"\"\n",
    "\n",
    "df = pd.read_sql_query(query, con=engine)\n",
    "\n",
    "# данные\n",
    "df.style.background_gradient('Greens')"
   ]
  },
  {
   "cell_type": "markdown",
   "id": "71937c5a",
   "metadata": {},
   "source": [
    "Наибольшее количество случаев повреждения не по вине водителя зарегистрировано для автомобилей с типом кузова \"sedan\", однако, максимальное количество случаев серьезных/фатальных повреждений наблюдается для \"coupe\". В процентном соотношении же побеждает \"hatchback\" - 16% от всех представленных случаев не по вине водителя сопровождались крупным ущербом. "
   ]
  },
  {
   "cell_type": "markdown",
   "id": "b98d28c2",
   "metadata": {},
   "source": [
    "<div class=\"alert alert-warning\">\n",
    "    <b>💡**Комментарий ревьюера** </b>\n",
    "    <p> Было бы отлично нарисовать график по этому виду анализа, так как графики воспринимаются в разы легче и кажутся более информативными.\n",
    "</div>"
   ]
  },
  {
   "cell_type": "markdown",
   "id": "aa8b4010",
   "metadata": {},
   "source": [
    "## Подготовьте данные перед обучением модели"
   ]
  },
  {
   "cell_type": "markdown",
   "id": "e379cbf3",
   "metadata": {},
   "source": [
    "Подготовим набор данных для дальнейшего использования. **Требования:**\n",
    "\n",
    "1. Целевое значение — at_fault (виновник) в таблице parties\n",
    "2. Для модели выбрать тип виновника — только машина (car)\n",
    "3. Выбрать случаи, когда ДТП привело к любым повреждениям транспортного средства, кроме типа SCRATCH (царапина)\n",
    "4. Для моделирования ограничиться данными за 2012 год — они самые свежие\n",
    "5. Обязательное условие — учесть фактор возраста автомобиля\n",
    "\n",
    "Поскольку некоторые колонки в разных таблицах имеют одинаковые названия, перечислим названия всех столбцов и переименуем их при необходимости. Сразу отберем признаки, которые могут быть влиять на риск ДТП."
   ]
  },
  {
   "cell_type": "code",
   "execution_count": 10,
   "id": "d6061e87",
   "metadata": {},
   "outputs": [],
   "source": [
    "columns = [\n",
    "#     'c.case_id',                      # id происшествия - не нужен для модели\n",
    "#     'c.county_city_location',         # номер района - возьмем только название\n",
    "    'c.county_location',              # название района - категориальный признак, берем\n",
    "    'c.distance',                     # расстояние от главной дороги, может влиять\n",
    "    'c.direction',                    # направление движения, может влиять\n",
    "#     'c.intersection',                 # перекресток, частично дублируется в c.location_type\n",
    "    'c.weather_1',                    # погода, может влиять\n",
    "    'c.location_type',                # тип дороги, может влиять\n",
    "#     'c.collision_damage',             # серьезность ДТП, неизвестно до аварии\n",
    "    'c.party_count',                  # число участников - пока непонятно, оставим\n",
    "#     'c.primary_collision_factor',     # основной фактор аварии, неизвестно до аварии\n",
    "#     'c.pcf_violation_category',       # категория нарушения, неизвестно до аварии\n",
    "#     'c.type_of_collision',            # тип аварии, неизвестно до аварии\n",
    "    'c.motor_vehicle_involved_with',  # доп.участники ДТП, может влиять\n",
    "    'c.road_surface',                 # состояние дороги, может влиять\n",
    "    'c.road_condition_1',             # дорожное состояние, может влиять\n",
    "    'c.lighting',                     # освещенность, может влиять\n",
    "    'c.control_device',               # устройство управления - пока непонятно, оставим\n",
    "    'c.collision_date',               # можно будет преобразовать в день недели и месяц\n",
    "    'c.collision_time',               # можно будет преобразовать в часы или часть дня\n",
    "#     'v.id',                           # id таблицы vehicle\n",
    "#     'v.case_id',                      # повтор id происшествия\n",
    "#     'v.party_number',                 # нет в описании данных к таблице\n",
    "    'v.vehicle_type',                 # тип кузова, может влиять\n",
    "    'v.vehicle_transmission',         # тип КПП, может влиять\n",
    "    'v.vehicle_age',                  # возраст автомобиля, требование заказщика\n",
    "#     'p.id',                           # id таблицы parties\n",
    "#     'p.case_id',                      # повтор id происшествия\n",
    "#     'p.party_number',                 # номер участника, идентификатор\n",
    "#     'p.party_type',                   # тип участника, по условию только car, не нужен\n",
    "    'p.at_fault',                     # виновник (0/1) - целевой признак\n",
    "#     'p.insurance_premium',            # сумма страховки, неизвестно до аварии\n",
    "    'p.party_sobriety',               # трезвость участника, может влиять\n",
    "    'p.party_drug_physical',          # состояние участника, может влиять\n",
    "#     'p.cellphone_in_use'              # наличие телефона - не влияет\n",
    "]"
   ]
  },
  {
   "cell_type": "markdown",
   "id": "dde30111",
   "metadata": {},
   "source": [
    "<div class=\"alert alert-success\">\n",
    "    <b> ✅**Комментарий ревьюера** </b>\n",
    "        <p>Здорово, что есть пояснения по выбору признаков для моделирования. </p>\n",
    "</div>"
   ]
  },
  {
   "cell_type": "code",
   "execution_count": 11,
   "id": "5779ab5b",
   "metadata": {},
   "outputs": [
    {
     "data": {
      "text/html": [
       "<div>\n",
       "<style scoped>\n",
       "    .dataframe tbody tr th:only-of-type {\n",
       "        vertical-align: middle;\n",
       "    }\n",
       "\n",
       "    .dataframe tbody tr th {\n",
       "        vertical-align: top;\n",
       "    }\n",
       "\n",
       "    .dataframe thead th {\n",
       "        text-align: right;\n",
       "    }\n",
       "</style>\n",
       "<table border=\"1\" class=\"dataframe\">\n",
       "  <thead>\n",
       "    <tr style=\"text-align: right;\">\n",
       "      <th></th>\n",
       "      <th>county_location</th>\n",
       "      <th>distance</th>\n",
       "      <th>direction</th>\n",
       "      <th>weather_1</th>\n",
       "      <th>location_type</th>\n",
       "      <th>party_count</th>\n",
       "      <th>motor_vehicle_involved_with</th>\n",
       "      <th>road_surface</th>\n",
       "      <th>road_condition_1</th>\n",
       "      <th>lighting</th>\n",
       "      <th>control_device</th>\n",
       "      <th>collision_date</th>\n",
       "      <th>collision_time</th>\n",
       "      <th>vehicle_type</th>\n",
       "      <th>vehicle_transmission</th>\n",
       "      <th>vehicle_age</th>\n",
       "      <th>at_fault</th>\n",
       "      <th>party_sobriety</th>\n",
       "      <th>party_drug_physical</th>\n",
       "    </tr>\n",
       "  </thead>\n",
       "  <tbody>\n",
       "    <tr>\n",
       "      <th>0</th>\n",
       "      <td>los angeles</td>\n",
       "      <td>20.0</td>\n",
       "      <td>south</td>\n",
       "      <td>clear</td>\n",
       "      <td>None</td>\n",
       "      <td>2</td>\n",
       "      <td>other motor vehicle</td>\n",
       "      <td>dry</td>\n",
       "      <td>normal</td>\n",
       "      <td>daylight</td>\n",
       "      <td>functioning</td>\n",
       "      <td>2012-04-15</td>\n",
       "      <td>17:05:00</td>\n",
       "      <td>sedan</td>\n",
       "      <td>auto</td>\n",
       "      <td>2</td>\n",
       "      <td>0</td>\n",
       "      <td>had not been drinking</td>\n",
       "      <td>None</td>\n",
       "    </tr>\n",
       "    <tr>\n",
       "      <th>1</th>\n",
       "      <td>contra costa</td>\n",
       "      <td>21.0</td>\n",
       "      <td>east</td>\n",
       "      <td>clear</td>\n",
       "      <td>None</td>\n",
       "      <td>2</td>\n",
       "      <td>other motor vehicle</td>\n",
       "      <td>dry</td>\n",
       "      <td>normal</td>\n",
       "      <td>dark with street lights</td>\n",
       "      <td>functioning</td>\n",
       "      <td>2012-01-15</td>\n",
       "      <td>02:00:00</td>\n",
       "      <td>sedan</td>\n",
       "      <td>manual</td>\n",
       "      <td>10</td>\n",
       "      <td>0</td>\n",
       "      <td>had not been drinking</td>\n",
       "      <td>None</td>\n",
       "    </tr>\n",
       "    <tr>\n",
       "      <th>2</th>\n",
       "      <td>san joaquin</td>\n",
       "      <td>378.0</td>\n",
       "      <td>south</td>\n",
       "      <td>cloudy</td>\n",
       "      <td>None</td>\n",
       "      <td>2</td>\n",
       "      <td>other motor vehicle</td>\n",
       "      <td>dry</td>\n",
       "      <td>normal</td>\n",
       "      <td>daylight</td>\n",
       "      <td>none</td>\n",
       "      <td>2012-04-13</td>\n",
       "      <td>18:32:00</td>\n",
       "      <td>sedan</td>\n",
       "      <td>auto</td>\n",
       "      <td>2</td>\n",
       "      <td>0</td>\n",
       "      <td>had not been drinking</td>\n",
       "      <td>None</td>\n",
       "    </tr>\n",
       "    <tr>\n",
       "      <th>3</th>\n",
       "      <td>san bernardino</td>\n",
       "      <td>150.0</td>\n",
       "      <td>west</td>\n",
       "      <td>clear</td>\n",
       "      <td>None</td>\n",
       "      <td>2</td>\n",
       "      <td>other motor vehicle</td>\n",
       "      <td>dry</td>\n",
       "      <td>None</td>\n",
       "      <td>daylight</td>\n",
       "      <td>none</td>\n",
       "      <td>2012-04-29</td>\n",
       "      <td>17:10:00</td>\n",
       "      <td>sedan</td>\n",
       "      <td>auto</td>\n",
       "      <td>3</td>\n",
       "      <td>0</td>\n",
       "      <td>had not been drinking</td>\n",
       "      <td>None</td>\n",
       "    </tr>\n",
       "    <tr>\n",
       "      <th>4</th>\n",
       "      <td>los angeles</td>\n",
       "      <td>450.0</td>\n",
       "      <td>east</td>\n",
       "      <td>clear</td>\n",
       "      <td>highway</td>\n",
       "      <td>2</td>\n",
       "      <td>other motor vehicle</td>\n",
       "      <td>dry</td>\n",
       "      <td>normal</td>\n",
       "      <td>daylight</td>\n",
       "      <td>none</td>\n",
       "      <td>2012-04-18</td>\n",
       "      <td>17:15:00</td>\n",
       "      <td>sedan</td>\n",
       "      <td>auto</td>\n",
       "      <td>10</td>\n",
       "      <td>0</td>\n",
       "      <td>had not been drinking</td>\n",
       "      <td>None</td>\n",
       "    </tr>\n",
       "  </tbody>\n",
       "</table>\n",
       "</div>"
      ],
      "text/plain": [
       "  county_location  distance direction weather_1 location_type  party_count  \\\n",
       "0     los angeles      20.0     south     clear          None            2   \n",
       "1    contra costa      21.0      east     clear          None            2   \n",
       "2     san joaquin     378.0     south    cloudy          None            2   \n",
       "3  san bernardino     150.0      west     clear          None            2   \n",
       "4     los angeles     450.0      east     clear       highway            2   \n",
       "\n",
       "  motor_vehicle_involved_with road_surface road_condition_1  \\\n",
       "0         other motor vehicle          dry           normal   \n",
       "1         other motor vehicle          dry           normal   \n",
       "2         other motor vehicle          dry           normal   \n",
       "3         other motor vehicle          dry             None   \n",
       "4         other motor vehicle          dry           normal   \n",
       "\n",
       "                  lighting control_device collision_date collision_time  \\\n",
       "0                 daylight    functioning     2012-04-15       17:05:00   \n",
       "1  dark with street lights    functioning     2012-01-15       02:00:00   \n",
       "2                 daylight           none     2012-04-13       18:32:00   \n",
       "3                 daylight           none     2012-04-29       17:10:00   \n",
       "4                 daylight           none     2012-04-18       17:15:00   \n",
       "\n",
       "  vehicle_type vehicle_transmission  vehicle_age  at_fault  \\\n",
       "0        sedan                 auto            2         0   \n",
       "1        sedan               manual           10         0   \n",
       "2        sedan                 auto            2         0   \n",
       "3        sedan                 auto            3         0   \n",
       "4        sedan                 auto           10         0   \n",
       "\n",
       "          party_sobriety party_drug_physical  \n",
       "0  had not been drinking                None  \n",
       "1  had not been drinking                None  \n",
       "2  had not been drinking                None  \n",
       "3  had not been drinking                None  \n",
       "4  had not been drinking                None  "
      ]
     },
     "metadata": {},
     "output_type": "display_data"
    },
    {
     "name": "stdout",
     "output_type": "stream",
     "text": [
      "<class 'pandas.core.frame.DataFrame'>\n",
      "RangeIndex: 54554 entries, 0 to 54553\n",
      "Data columns (total 19 columns):\n",
      " #   Column                       Non-Null Count  Dtype  \n",
      "---  ------                       --------------  -----  \n",
      " 0   county_location              54554 non-null  object \n",
      " 1   distance                     54554 non-null  float64\n",
      " 2   direction                    42097 non-null  object \n",
      " 3   weather_1                    54389 non-null  object \n",
      " 4   location_type                25511 non-null  object \n",
      " 5   party_count                  54554 non-null  int64  \n",
      " 6   motor_vehicle_involved_with  54407 non-null  object \n",
      " 7   road_surface                 54225 non-null  object \n",
      " 8   road_condition_1             54317 non-null  object \n",
      " 9   lighting                     54402 non-null  object \n",
      " 10  control_device               54348 non-null  object \n",
      " 11  collision_date               54554 non-null  object \n",
      " 12  collision_time               54470 non-null  object \n",
      " 13  vehicle_type                 54554 non-null  object \n",
      " 14  vehicle_transmission         53979 non-null  object \n",
      " 15  vehicle_age                  54554 non-null  int64  \n",
      " 16  at_fault                     54554 non-null  int64  \n",
      " 17  party_sobriety               53718 non-null  object \n",
      " 18  party_drug_physical          2686 non-null   object \n",
      "dtypes: float64(1), int64(3), object(15)\n",
      "memory usage: 7.9+ MB\n"
     ]
    }
   ],
   "source": [
    "query = f\"\"\"\n",
    "SELECT {', '.join(columns)}    \n",
    "FROM collisions AS c\n",
    "FULL JOIN parties AS p ON c.case_id = p.case_id\n",
    "FULL JOIN vehicles AS v ON (c.case_id = v.case_id AND p.party_number = v.party_number)\n",
    "WHERE EXTRACT('year' FROM c.collision_date) = 2012\n",
    "    AND p.party_type = 'car'\n",
    "    AND c.collision_damage NOT IN ('scratch')\n",
    "    AND v.vehicle_age IS NOT NULL\n",
    "\"\"\"\n",
    "\n",
    "df = pd.read_sql_query(query, con=engine)\n",
    "display(df.head())\n",
    "df.info()"
   ]
  },
  {
   "cell_type": "markdown",
   "id": "b536e0a0",
   "metadata": {},
   "source": [
    "<div class=\"alert alert-warning\">\n",
    "    <b>💡**Комментарий ревьюера** </b>\n",
    "    <p> В целом, можно было попробовать заполнить пропущенные значения в возрасте, но тут, возможно, будет сложно проследить корреляцию с другими признаками. Поэтому тоже вариант. </p>\n",
    "</div>"
   ]
  },
  {
   "cell_type": "markdown",
   "id": "63747e91",
   "metadata": {},
   "source": [
    "Итого оставили 18 признаков + целевую переменную `at_fault`. Посмотрим на количество пропусков в колонках в процентном соотношении:"
   ]
  },
  {
   "cell_type": "code",
   "execution_count": 12,
   "id": "579ce67d",
   "metadata": {},
   "outputs": [
    {
     "data": {
      "text/html": [
       "<style  type=\"text/css\" >\n",
       "#T_cceb7_row0_col0,#T_cceb7_row1_col0,#T_cceb7_row3_col0,#T_cceb7_row5_col0,#T_cceb7_row6_col0,#T_cceb7_row9_col0,#T_cceb7_row11_col0,#T_cceb7_row12_col0,#T_cceb7_row13_col0,#T_cceb7_row15_col0,#T_cceb7_row16_col0{\n",
       "            background-color:  #f7fcf5;\n",
       "            color:  #000000;\n",
       "        }#T_cceb7_row2_col0{\n",
       "            background-color:  #caeac3;\n",
       "            color:  #000000;\n",
       "        }#T_cceb7_row4_col0{\n",
       "            background-color:  #5bb86a;\n",
       "            color:  #000000;\n",
       "        }#T_cceb7_row7_col0,#T_cceb7_row8_col0,#T_cceb7_row10_col0,#T_cceb7_row14_col0{\n",
       "            background-color:  #f6fcf4;\n",
       "            color:  #000000;\n",
       "        }#T_cceb7_row17_col0{\n",
       "            background-color:  #f5fbf2;\n",
       "            color:  #000000;\n",
       "        }#T_cceb7_row18_col0{\n",
       "            background-color:  #00441b;\n",
       "            color:  #f1f1f1;\n",
       "        }</style><table id=\"T_cceb7_\" ><thead>    <tr>        <th class=\"blank level0\" ></th>        <th class=\"col_heading level0 col0\" >0</th>    </tr></thead><tbody>\n",
       "                <tr>\n",
       "                        <th id=\"T_cceb7_level0_row0\" class=\"row_heading level0 row0\" >county_location</th>\n",
       "                        <td id=\"T_cceb7_row0_col0\" class=\"data row0 col0\" >0.000000</td>\n",
       "            </tr>\n",
       "            <tr>\n",
       "                        <th id=\"T_cceb7_level0_row1\" class=\"row_heading level0 row1\" >distance</th>\n",
       "                        <td id=\"T_cceb7_row1_col0\" class=\"data row1 col0\" >0.000000</td>\n",
       "            </tr>\n",
       "            <tr>\n",
       "                        <th id=\"T_cceb7_level0_row2\" class=\"row_heading level0 row2\" >direction</th>\n",
       "                        <td id=\"T_cceb7_row2_col0\" class=\"data row2 col0\" >22.834256</td>\n",
       "            </tr>\n",
       "            <tr>\n",
       "                        <th id=\"T_cceb7_level0_row3\" class=\"row_heading level0 row3\" >weather_1</th>\n",
       "                        <td id=\"T_cceb7_row3_col0\" class=\"data row3 col0\" >0.302453</td>\n",
       "            </tr>\n",
       "            <tr>\n",
       "                        <th id=\"T_cceb7_level0_row4\" class=\"row_heading level0 row4\" >location_type</th>\n",
       "                        <td id=\"T_cceb7_row4_col0\" class=\"data row4 col0\" >53.237160</td>\n",
       "            </tr>\n",
       "            <tr>\n",
       "                        <th id=\"T_cceb7_level0_row5\" class=\"row_heading level0 row5\" >party_count</th>\n",
       "                        <td id=\"T_cceb7_row5_col0\" class=\"data row5 col0\" >0.000000</td>\n",
       "            </tr>\n",
       "            <tr>\n",
       "                        <th id=\"T_cceb7_level0_row6\" class=\"row_heading level0 row6\" >motor_vehicle_involved_with</th>\n",
       "                        <td id=\"T_cceb7_row6_col0\" class=\"data row6 col0\" >0.269458</td>\n",
       "            </tr>\n",
       "            <tr>\n",
       "                        <th id=\"T_cceb7_level0_row7\" class=\"row_heading level0 row7\" >road_surface</th>\n",
       "                        <td id=\"T_cceb7_row7_col0\" class=\"data row7 col0\" >0.603072</td>\n",
       "            </tr>\n",
       "            <tr>\n",
       "                        <th id=\"T_cceb7_level0_row8\" class=\"row_heading level0 row8\" >road_condition_1</th>\n",
       "                        <td id=\"T_cceb7_row8_col0\" class=\"data row8 col0\" >0.434432</td>\n",
       "            </tr>\n",
       "            <tr>\n",
       "                        <th id=\"T_cceb7_level0_row9\" class=\"row_heading level0 row9\" >lighting</th>\n",
       "                        <td id=\"T_cceb7_row9_col0\" class=\"data row9 col0\" >0.278623</td>\n",
       "            </tr>\n",
       "            <tr>\n",
       "                        <th id=\"T_cceb7_level0_row10\" class=\"row_heading level0 row10\" >control_device</th>\n",
       "                        <td id=\"T_cceb7_row10_col0\" class=\"data row10 col0\" >0.377608</td>\n",
       "            </tr>\n",
       "            <tr>\n",
       "                        <th id=\"T_cceb7_level0_row11\" class=\"row_heading level0 row11\" >collision_date</th>\n",
       "                        <td id=\"T_cceb7_row11_col0\" class=\"data row11 col0\" >0.000000</td>\n",
       "            </tr>\n",
       "            <tr>\n",
       "                        <th id=\"T_cceb7_level0_row12\" class=\"row_heading level0 row12\" >collision_time</th>\n",
       "                        <td id=\"T_cceb7_row12_col0\" class=\"data row12 col0\" >0.153976</td>\n",
       "            </tr>\n",
       "            <tr>\n",
       "                        <th id=\"T_cceb7_level0_row13\" class=\"row_heading level0 row13\" >vehicle_type</th>\n",
       "                        <td id=\"T_cceb7_row13_col0\" class=\"data row13 col0\" >0.000000</td>\n",
       "            </tr>\n",
       "            <tr>\n",
       "                        <th id=\"T_cceb7_level0_row14\" class=\"row_heading level0 row14\" >vehicle_transmission</th>\n",
       "                        <td id=\"T_cceb7_row14_col0\" class=\"data row14 col0\" >1.054002</td>\n",
       "            </tr>\n",
       "            <tr>\n",
       "                        <th id=\"T_cceb7_level0_row15\" class=\"row_heading level0 row15\" >vehicle_age</th>\n",
       "                        <td id=\"T_cceb7_row15_col0\" class=\"data row15 col0\" >0.000000</td>\n",
       "            </tr>\n",
       "            <tr>\n",
       "                        <th id=\"T_cceb7_level0_row16\" class=\"row_heading level0 row16\" >at_fault</th>\n",
       "                        <td id=\"T_cceb7_row16_col0\" class=\"data row16 col0\" >0.000000</td>\n",
       "            </tr>\n",
       "            <tr>\n",
       "                        <th id=\"T_cceb7_level0_row17\" class=\"row_heading level0 row17\" >party_sobriety</th>\n",
       "                        <td id=\"T_cceb7_row17_col0\" class=\"data row17 col0\" >1.532427</td>\n",
       "            </tr>\n",
       "            <tr>\n",
       "                        <th id=\"T_cceb7_level0_row18\" class=\"row_heading level0 row18\" >party_drug_physical</th>\n",
       "                        <td id=\"T_cceb7_row18_col0\" class=\"data row18 col0\" >95.076438</td>\n",
       "            </tr>\n",
       "    </tbody></table>"
      ],
      "text/plain": [
       "<pandas.io.formats.style.Styler at 0x7f7357347070>"
      ]
     },
     "execution_count": 12,
     "metadata": {},
     "output_type": "execute_result"
    }
   ],
   "source": [
    "pd.DataFrame(df.isna().mean()*100).style.background_gradient('Greens')"
   ]
  },
  {
   "cell_type": "markdown",
   "id": "36f85510",
   "metadata": {},
   "source": [
    "В собранном датасете присутствуют три колонки с большим количеством пропусков (более 20%). Восстановить эти данные корректно вряд ли получится, а удалять такое количество строк с пропусками не хочется, поэтому удалим признаки `location_type`, `direction` и `party_drug_physical`. "
   ]
  },
  {
   "cell_type": "code",
   "execution_count": 13,
   "id": "aceb8847",
   "metadata": {},
   "outputs": [],
   "source": [
    "df.drop(columns=['direction', 'location_type', 'party_drug_physical'], inplace=True)"
   ]
  },
  {
   "cell_type": "markdown",
   "id": "e41e79e2",
   "metadata": {},
   "source": [
    "Остальные признаки рассмотрим по отдельности.\n",
    "\n",
    "***County_location***"
   ]
  },
  {
   "cell_type": "code",
   "execution_count": 14,
   "id": "851e0276",
   "metadata": {},
   "outputs": [
    {
     "data": {
      "text/plain": [
       "los angeles        15715\n",
       "orange              5079\n",
       "san diego           3675\n",
       "san bernardino      3592\n",
       "riverside           3205\n",
       "sacramento          2116\n",
       "alameda             1838\n",
       "santa clara         1779\n",
       "ventura             1441\n",
       "kern                1389\n",
       "fresno              1057\n",
       "contra costa         956\n",
       "san mateo            915\n",
       "san joaquin          892\n",
       "stanislaus           786\n",
       "santa barbara        704\n",
       "tulare               700\n",
       "sonoma               677\n",
       "placer               557\n",
       "monterey             550\n",
       "solano               540\n",
       "san francisco        483\n",
       "san luis obispo      428\n",
       "santa cruz           422\n",
       "merced               383\n",
       "marin                361\n",
       "madera               320\n",
       "humboldt             319\n",
       "butte                312\n",
       "el dorado            286\n",
       "shasta               275\n",
       "yolo                 266\n",
       "kings                244\n",
       "napa                 208\n",
       "imperial             205\n",
       "mendocino            189\n",
       "nevada               181\n",
       "tehama               145\n",
       "sutter               143\n",
       "tuolumne             122\n",
       "lake                 116\n",
       "calaveras            113\n",
       "yuba                 110\n",
       "siskiyou              85\n",
       "amador                85\n",
       "inyo                  71\n",
       "san benito            68\n",
       "colusa                63\n",
       "del norte             61\n",
       "mariposa              61\n",
       "lassen                58\n",
       "mono                  50\n",
       "glenn                 40\n",
       "plumas                34\n",
       "trinity               33\n",
       "alpine                20\n",
       "modoc                 17\n",
       "sierra                14\n",
       "Name: county_location, dtype: int64"
      ]
     },
     "execution_count": 14,
     "metadata": {},
     "output_type": "execute_result"
    }
   ],
   "source": [
    "df['county_location'].value_counts()"
   ]
  },
  {
   "cell_type": "markdown",
   "id": "889cea16",
   "metadata": {},
   "source": [
    "Категориальный признак с названием региона. Все значения уже приведены к нижнему регистру, неявных дубликатов и пропусков нет, однако, в сумме достаточно много уникальных значений. Поскольку объединять их в одну группу будет нецелесообразно, оставим так, как есть.\n",
    "\n",
    "***Distance***"
   ]
  },
  {
   "cell_type": "code",
   "execution_count": 15,
   "id": "ae5d5533",
   "metadata": {},
   "outputs": [
    {
     "data": {
      "image/png": "[encoded data removed]",
      "text/plain": [
       "<Figure size 432x288 with 1 Axes>"
      ]
     },
     "metadata": {
      "needs_background": "light"
     },
     "output_type": "display_data"
    },
    {
     "data": {
      "text/plain": [
       "count    5.455400e+04\n",
       "mean     8.761480e+02\n",
       "std      7.348699e+03\n",
       "min      0.000000e+00\n",
       "25%      9.000000e+00\n",
       "50%      1.430000e+02\n",
       "75%      5.757500e+02\n",
       "max      1.584000e+06\n",
       "Name: distance, dtype: float64"
      ]
     },
     "execution_count": 15,
     "metadata": {},
     "output_type": "execute_result"
    }
   ],
   "source": [
    "df.boxplot('distance')\n",
    "plt.show()\n",
    "\n",
    "df['distance'].describe()"
   ]
  },
  {
   "cell_type": "code",
   "execution_count": 16,
   "id": "55f06769",
   "metadata": {},
   "outputs": [
    {
     "data": {
      "text/plain": [
       "11616.0"
      ]
     },
     "execution_count": 16,
     "metadata": {},
     "output_type": "execute_result"
    }
   ],
   "source": [
    "df['distance'].quantile(0.99)"
   ]
  },
  {
   "cell_type": "markdown",
   "id": "3bc6f40c",
   "metadata": {},
   "source": [
    "99% всех данных распределены до значения 11616. Ограничим диапазон возможных значений сверху этим значением."
   ]
  },
  {
   "cell_type": "code",
   "execution_count": 17,
   "id": "a2e32672",
   "metadata": {},
   "outputs": [],
   "source": [
    "df = df.loc[df['distance'] <= 11616]"
   ]
  },
  {
   "cell_type": "markdown",
   "id": "40537f9d",
   "metadata": {},
   "source": [
    "***Weather_1***"
   ]
  },
  {
   "cell_type": "code",
   "execution_count": 18,
   "id": "38c627d4",
   "metadata": {},
   "outputs": [
    {
     "data": {
      "text/plain": [
       "clear      43327\n",
       "cloudy      8087\n",
       "raining     2097\n",
       "fog          168\n",
       "NaN          165\n",
       "snowing      144\n",
       "other         29\n",
       "wind          11\n",
       "Name: weather_1, dtype: int64"
      ]
     },
     "execution_count": 18,
     "metadata": {},
     "output_type": "execute_result"
    }
   ],
   "source": [
    "df['weather_1'].value_counts(dropna=False)"
   ]
  },
  {
   "cell_type": "markdown",
   "id": "b76dc452",
   "metadata": {},
   "source": [
    "Категориальный признак. Есть небольшое количество пропусков, заполним их уже существующей заглушкой \"other\". Также переименуем столбец для удобства."
   ]
  },
  {
   "cell_type": "code",
   "execution_count": 19,
   "id": "371b5c61",
   "metadata": {},
   "outputs": [],
   "source": [
    "df['weather_1'] = df['weather_1'].fillna('other')\n",
    "df.rename(columns={'weather_1': 'weather'}, inplace=True)"
   ]
  },
  {
   "cell_type": "markdown",
   "id": "ce7467c0",
   "metadata": {},
   "source": [
    "***Party_count***"
   ]
  },
  {
   "cell_type": "code",
   "execution_count": 20,
   "id": "922b161c",
   "metadata": {},
   "outputs": [
    {
     "data": {
      "image/png": "[encoded data removed]",
      "text/plain": [
       "<Figure size 432x288 with 1 Axes>"
      ]
     },
     "metadata": {
      "needs_background": "light"
     },
     "output_type": "display_data"
    }
   ],
   "source": [
    "df['party_count'].hist()\n",
    "plt.show()"
   ]
  },
  {
   "cell_type": "markdown",
   "id": "16e7005e",
   "metadata": {},
   "source": [
    "Все значения в пределах нормы, пропусков нет.\n",
    "\n",
    "***Motor_vehicle_involved_with***"
   ]
  },
  {
   "cell_type": "code",
   "execution_count": 21,
   "id": "4d548125",
   "metadata": {},
   "outputs": [
    {
     "data": {
      "text/plain": [
       "other motor vehicle               39725\n",
       "fixed object                       7947\n",
       "non-collision                      2129\n",
       "other object                       1632\n",
       "parked motor vehicle               1443\n",
       "motor vehicle on other roadway      393\n",
       "bicycle                             375\n",
       "animal                              222\n",
       "NaN                                 147\n",
       "train                                15\n",
       "Name: motor_vehicle_involved_with, dtype: int64"
      ]
     },
     "execution_count": 21,
     "metadata": {},
     "output_type": "execute_result"
    }
   ],
   "source": [
    "df['motor_vehicle_involved_with'].value_counts(dropna=False)"
   ]
  },
  {
   "cell_type": "markdown",
   "id": "c1010c0e",
   "metadata": {},
   "source": [
    "Есть пропущенные значения. Заполним значением-заглушкой \"unknown\"."
   ]
  },
  {
   "cell_type": "code",
   "execution_count": 22,
   "id": "cbd7f1ee",
   "metadata": {},
   "outputs": [],
   "source": [
    "df['motor_vehicle_involved_with'] = df['motor_vehicle_involved_with'].fillna('unknown')"
   ]
  },
  {
   "cell_type": "markdown",
   "id": "9ca1c32d",
   "metadata": {},
   "source": [
    "<div class=\"alert alert-warning\">\n",
    "    <b>💡**Комментарий ревьюера** </b>\n",
    "    <p>Если интересно, можно попробовать разные методы заполнения пропусков. <a href=\"https://www.dmitrymakarov.ru/data-analysis/missing-add/\">Вот отличная статья об этом c примерами</a>, а <a href=\"https://robotdreams.cc/blog/103-chto-takoe-propuski-dannyh-i-kak-s-nimi-rabotat\">по этой ссылке более кратко</a>.  </p>\n",
    "</div>"
   ]
  },
  {
   "cell_type": "markdown",
   "id": "3c3ea6a4",
   "metadata": {},
   "source": [
    "***Road_surface***"
   ]
  },
  {
   "cell_type": "code",
   "execution_count": 23,
   "id": "992fe0d9",
   "metadata": {},
   "outputs": [
    {
     "data": {
      "text/plain": [
       "dry         48290\n",
       "wet          5052\n",
       "NaN           325\n",
       "snowy         321\n",
       "slippery       40\n",
       "Name: road_surface, dtype: int64"
      ]
     },
     "execution_count": 23,
     "metadata": {},
     "output_type": "execute_result"
    }
   ],
   "source": [
    "df['road_surface'].value_counts(dropna=False)"
   ]
  },
  {
   "cell_type": "markdown",
   "id": "f109c9ec",
   "metadata": {},
   "source": [
    "Аналогично предыдущему случаю."
   ]
  },
  {
   "cell_type": "code",
   "execution_count": 24,
   "id": "92bdb1d9",
   "metadata": {},
   "outputs": [],
   "source": [
    "df['road_surface'] = df['road_surface'].fillna('unknown')"
   ]
  },
  {
   "cell_type": "markdown",
   "id": "6b9b4244",
   "metadata": {},
   "source": [
    "***Road_condition_1***"
   ]
  },
  {
   "cell_type": "code",
   "execution_count": 25,
   "id": "873e8ef5",
   "metadata": {},
   "outputs": [
    {
     "data": {
      "text/plain": [
       "normal            51947\n",
       "construction        979\n",
       "NaN                 237\n",
       "obstruction         235\n",
       "other               213\n",
       "holes               210\n",
       "loose material      115\n",
       "reduced width        62\n",
       "flooded              30\n",
       "Name: road_condition_1, dtype: int64"
      ]
     },
     "execution_count": 25,
     "metadata": {},
     "output_type": "execute_result"
    }
   ],
   "source": [
    "df['road_condition_1'].value_counts(dropna=False)"
   ]
  },
  {
   "cell_type": "markdown",
   "id": "7aae8608",
   "metadata": {},
   "source": [
    "В этом столбце уже есть категория \"other\". Заполним пропуски ей. Дополнительно изменим название столбца для удобства."
   ]
  },
  {
   "cell_type": "code",
   "execution_count": 26,
   "id": "e1d36261",
   "metadata": {},
   "outputs": [],
   "source": [
    "df['road_condition_1'] = df['road_condition_1'].fillna('other')\n",
    "df.rename(columns={'road_condition_1': 'road_condition'}, inplace=True)"
   ]
  },
  {
   "cell_type": "markdown",
   "id": "a669a7e9",
   "metadata": {},
   "source": [
    "***Lighting***"
   ]
  },
  {
   "cell_type": "code",
   "execution_count": 27,
   "id": "5ef0c9f4",
   "metadata": {},
   "outputs": [
    {
     "data": {
      "text/plain": [
       "daylight                                   36552\n",
       "dark with street lights                    10592\n",
       "dark with no street lights                  4902\n",
       "dusk or dawn                                1700\n",
       "NaN                                          151\n",
       "dark with street lights not functioning      131\n",
       "Name: lighting, dtype: int64"
      ]
     },
     "execution_count": 27,
     "metadata": {},
     "output_type": "execute_result"
    }
   ],
   "source": [
    "df['lighting'].value_counts(dropna=False)"
   ]
  },
  {
   "cell_type": "markdown",
   "id": "6769f93e",
   "metadata": {},
   "source": [
    "Объединим категории \"dark with no street lights\" и \"dark with street lights not functioning\" в одну, т.к. обозначают одно и то же. Пропуски здесь просто удалим."
   ]
  },
  {
   "cell_type": "code",
   "execution_count": 28,
   "id": "4d025247",
   "metadata": {},
   "outputs": [],
   "source": [
    "df['lighting'] = df['lighting'].replace('dark with street lights not functioning', 'dark with no street lights')\n",
    "df = df.loc[~df['lighting'].isna()]"
   ]
  },
  {
   "cell_type": "markdown",
   "id": "fc026303",
   "metadata": {},
   "source": [
    "***Control_device***"
   ]
  },
  {
   "cell_type": "code",
   "execution_count": 29,
   "id": "724f804d",
   "metadata": {},
   "outputs": [
    {
     "data": {
      "text/plain": [
       "none               36124\n",
       "functioning        17428\n",
       "NaN                  186\n",
       "not functioning      111\n",
       "obscured              28\n",
       "Name: control_device, dtype: int64"
      ]
     },
     "execution_count": 29,
     "metadata": {},
     "output_type": "execute_result"
    }
   ],
   "source": [
    "df['control_device'].value_counts(dropna=False)"
   ]
  },
  {
   "cell_type": "markdown",
   "id": "ce98337b",
   "metadata": {},
   "source": [
    "Заполним пропуски значением-заглушкой \"unknown\"."
   ]
  },
  {
   "cell_type": "code",
   "execution_count": 30,
   "id": "c91680fb",
   "metadata": {},
   "outputs": [],
   "source": [
    "df['control_device'] = df['control_device'].fillna('unknown')"
   ]
  },
  {
   "cell_type": "markdown",
   "id": "a2763725",
   "metadata": {},
   "source": [
    "***Collision_date***\n",
    "\n",
    "Преобразуем столбец в два - день недели и месяц. Пропусков в этом столбце нет."
   ]
  },
  {
   "cell_type": "code",
   "execution_count": 31,
   "id": "347c8375",
   "metadata": {},
   "outputs": [],
   "source": [
    "df['collision_date'] = pd.to_datetime(df['collision_date'])\n",
    "df['month'] = df['collision_date'].dt.month\n",
    "df['day_of_week'] = df['collision_date'].dt.dayofweek"
   ]
  },
  {
   "cell_type": "code",
   "execution_count": 32,
   "id": "98205207",
   "metadata": {},
   "outputs": [
    {
     "data": {
      "text/html": [
       "<div>\n",
       "<style scoped>\n",
       "    .dataframe tbody tr th:only-of-type {\n",
       "        vertical-align: middle;\n",
       "    }\n",
       "\n",
       "    .dataframe tbody tr th {\n",
       "        vertical-align: top;\n",
       "    }\n",
       "\n",
       "    .dataframe thead th {\n",
       "        text-align: right;\n",
       "    }\n",
       "</style>\n",
       "<table border=\"1\" class=\"dataframe\">\n",
       "  <thead>\n",
       "    <tr style=\"text-align: right;\">\n",
       "      <th></th>\n",
       "      <th>month</th>\n",
       "      <th>day_of_week</th>\n",
       "    </tr>\n",
       "  </thead>\n",
       "  <tbody>\n",
       "    <tr>\n",
       "      <th>32636</th>\n",
       "      <td>5</td>\n",
       "      <td>1</td>\n",
       "    </tr>\n",
       "    <tr>\n",
       "      <th>31567</th>\n",
       "      <td>5</td>\n",
       "      <td>5</td>\n",
       "    </tr>\n",
       "    <tr>\n",
       "      <th>44087</th>\n",
       "      <td>4</td>\n",
       "      <td>5</td>\n",
       "    </tr>\n",
       "  </tbody>\n",
       "</table>\n",
       "</div>"
      ],
      "text/plain": [
       "       month  day_of_week\n",
       "32636      5            1\n",
       "31567      5            5\n",
       "44087      4            5"
      ]
     },
     "execution_count": 32,
     "metadata": {},
     "output_type": "execute_result"
    }
   ],
   "source": [
    "df[['month', 'day_of_week']].sample(3)"
   ]
  },
  {
   "cell_type": "code",
   "execution_count": 33,
   "id": "d4b18d0f",
   "metadata": {},
   "outputs": [],
   "source": [
    "df.drop(columns=['collision_date'], inplace=True)"
   ]
  },
  {
   "cell_type": "markdown",
   "id": "914eefec",
   "metadata": {},
   "source": [
    "***Collision_time***\n",
    "\n",
    "Преобразуем столбец в часы, а часы определим в группы по времени суток. Пропуски удалим."
   ]
  },
  {
   "cell_type": "code",
   "execution_count": 34,
   "id": "07b17ee2",
   "metadata": {},
   "outputs": [
    {
     "data": {
      "text/plain": [
       "0        17:05:00\n",
       "1        02:00:00\n",
       "2        18:32:00\n",
       "3        17:10:00\n",
       "4        17:15:00\n",
       "           ...   \n",
       "54549    15:55:00\n",
       "54550    22:45:00\n",
       "54551    18:20:00\n",
       "54552    13:25:00\n",
       "54553    13:45:00\n",
       "Name: collision_time, Length: 53877, dtype: object"
      ]
     },
     "execution_count": 34,
     "metadata": {},
     "output_type": "execute_result"
    }
   ],
   "source": [
    "df['collision_time']"
   ]
  },
  {
   "cell_type": "code",
   "execution_count": 35,
   "id": "15e9e1d1",
   "metadata": {},
   "outputs": [],
   "source": [
    "# удаление пропусков\n",
    "df = df.loc[~df['collision_time'].isna()]"
   ]
  },
  {
   "cell_type": "code",
   "execution_count": 36,
   "id": "88297b7f",
   "metadata": {},
   "outputs": [],
   "source": [
    "def part_of_day(hour):\n",
    "    if hour in range(4, 12):\n",
    "        return 'morning'\n",
    "    if hour in range(12, 17):\n",
    "        return 'day'\n",
    "    if hour in range(17, 24):\n",
    "        return 'evening'\n",
    "    return 'night'\n",
    "\n",
    "df['hour'] = pd.to_datetime(df['collision_time'], format='%H:%M:%S').dt.hour\n",
    "df['part_day'] = df['hour'].apply(part_of_day)\n",
    "\n",
    "df.drop(columns=['collision_time', 'hour'], inplace=True)"
   ]
  },
  {
   "cell_type": "markdown",
   "id": "ef689637",
   "metadata": {},
   "source": [
    "***Vehicle_type***"
   ]
  },
  {
   "cell_type": "code",
   "execution_count": 37,
   "id": "bd9ba21b",
   "metadata": {},
   "outputs": [
    {
     "data": {
      "text/plain": [
       "sedan    35128\n",
       "coupe    18668\n",
       "other        3\n",
       "Name: vehicle_type, dtype: int64"
      ]
     },
     "execution_count": 37,
     "metadata": {},
     "output_type": "execute_result"
    }
   ],
   "source": [
    "df['vehicle_type'].value_counts(dropna=False)"
   ]
  },
  {
   "cell_type": "markdown",
   "id": "48727cb2",
   "metadata": {},
   "source": [
    "Пропусков в столбце нет, неявных дубликатов тоже. \n",
    "\n",
    "***Vehicle_transmission***"
   ]
  },
  {
   "cell_type": "code",
   "execution_count": 38,
   "id": "1df3c29b",
   "metadata": {},
   "outputs": [
    {
     "data": {
      "text/plain": [
       "manual    28126\n",
       "auto      25103\n",
       "NaN         570\n",
       "Name: vehicle_transmission, dtype: int64"
      ]
     },
     "execution_count": 38,
     "metadata": {},
     "output_type": "execute_result"
    }
   ],
   "source": [
    "df['vehicle_transmission'].value_counts(dropna=False)"
   ]
  },
  {
   "cell_type": "markdown",
   "id": "dc974275",
   "metadata": {},
   "source": [
    "Пропуски заполним \"unknown\"."
   ]
  },
  {
   "cell_type": "code",
   "execution_count": 39,
   "id": "a8d9db26",
   "metadata": {},
   "outputs": [],
   "source": [
    "df['vehicle_transmission'] = df['vehicle_transmission'].fillna('unknown')"
   ]
  },
  {
   "cell_type": "markdown",
   "id": "712ed0a8",
   "metadata": {},
   "source": [
    "***Vehicle_age***"
   ]
  },
  {
   "cell_type": "code",
   "execution_count": 40,
   "id": "15f24e94",
   "metadata": {},
   "outputs": [
    {
     "data": {
      "image/png": "[encoded data removed]",
      "text/plain": [
       "<Figure size 432x288 with 1 Axes>"
      ]
     },
     "metadata": {
      "needs_background": "light"
     },
     "output_type": "display_data"
    },
    {
     "data": {
      "text/plain": [
       "count    53799.000000\n",
       "mean         4.850443\n",
       "std          3.237982\n",
       "min          0.000000\n",
       "25%          3.000000\n",
       "50%          4.000000\n",
       "75%          7.000000\n",
       "max        161.000000\n",
       "Name: vehicle_age, dtype: float64"
      ]
     },
     "execution_count": 40,
     "metadata": {},
     "output_type": "execute_result"
    }
   ],
   "source": [
    "df.boxplot('vehicle_age')\n",
    "plt.show()\n",
    "\n",
    "df['vehicle_age'].describe()"
   ]
  },
  {
   "cell_type": "markdown",
   "id": "167a8f07",
   "metadata": {},
   "source": [
    "Есть выбросы (больше 100 лет автомобилю). Ограничим диапазон значений сверху - 20 лет."
   ]
  },
  {
   "cell_type": "code",
   "execution_count": 41,
   "id": "70e89b99",
   "metadata": {},
   "outputs": [],
   "source": [
    "df = df.loc[df['vehicle_age'] <= 20]"
   ]
  },
  {
   "cell_type": "markdown",
   "id": "eeda99d3",
   "metadata": {},
   "source": [
    "***Party_sobriety***"
   ]
  },
  {
   "cell_type": "code",
   "execution_count": 42,
   "id": "c1269b50",
   "metadata": {},
   "outputs": [
    {
     "data": {
      "text/plain": [
       "had not been drinking                     46591\n",
       "had been drinking, under influence         4298\n",
       "impairment unknown                         1069\n",
       "NaN                                         809\n",
       "had been drinking, not under influence      552\n",
       "had been drinking, impairment unknown       242\n",
       "not applicable                              236\n",
       "Name: party_sobriety, dtype: int64"
      ]
     },
     "execution_count": 42,
     "metadata": {},
     "output_type": "execute_result"
    }
   ],
   "source": [
    "df['party_sobriety'].value_counts(dropna=False)"
   ]
  },
  {
   "cell_type": "markdown",
   "id": "21f5ae2b",
   "metadata": {},
   "source": [
    "В столбце есть пропуски. Заполним их категорией \"not applicable\" (не оценивался)."
   ]
  },
  {
   "cell_type": "code",
   "execution_count": 43,
   "id": "4865f145",
   "metadata": {},
   "outputs": [],
   "source": [
    "df['party_sobriety'] = df['party_sobriety'].fillna('not applicable')"
   ]
  },
  {
   "cell_type": "markdown",
   "id": "9bc67017",
   "metadata": {},
   "source": [
    "Теперь удалим общие дубликаты строк. "
   ]
  },
  {
   "cell_type": "code",
   "execution_count": 44,
   "id": "7e2c577c",
   "metadata": {},
   "outputs": [],
   "source": [
    "df.drop_duplicates(inplace=True)"
   ]
  },
  {
   "cell_type": "markdown",
   "id": "c26e1d89",
   "metadata": {},
   "source": [
    "**Итого:**"
   ]
  },
  {
   "cell_type": "code",
   "execution_count": 45,
   "id": "326ea35e",
   "metadata": {},
   "outputs": [
    {
     "name": "stdout",
     "output_type": "stream",
     "text": [
      "<class 'pandas.core.frame.DataFrame'>\n",
      "Int64Index: 53372 entries, 0 to 54553\n",
      "Data columns (total 17 columns):\n",
      " #   Column                       Non-Null Count  Dtype  \n",
      "---  ------                       --------------  -----  \n",
      " 0   county_location              53372 non-null  object \n",
      " 1   distance                     53372 non-null  float64\n",
      " 2   weather                      53372 non-null  object \n",
      " 3   party_count                  53372 non-null  int64  \n",
      " 4   motor_vehicle_involved_with  53372 non-null  object \n",
      " 5   road_surface                 53372 non-null  object \n",
      " 6   road_condition               53372 non-null  object \n",
      " 7   lighting                     53372 non-null  object \n",
      " 8   control_device               53372 non-null  object \n",
      " 9   vehicle_type                 53372 non-null  object \n",
      " 10  vehicle_transmission         53372 non-null  object \n",
      " 11  vehicle_age                  53372 non-null  int64  \n",
      " 12  at_fault                     53372 non-null  int64  \n",
      " 13  party_sobriety               53372 non-null  object \n",
      " 14  month                        53372 non-null  int64  \n",
      " 15  day_of_week                  53372 non-null  int64  \n",
      " 16  part_day                     53372 non-null  object \n",
      "dtypes: float64(1), int64(5), object(11)\n",
      "memory usage: 7.3+ MB\n"
     ]
    }
   ],
   "source": [
    "df.info()"
   ]
  },
  {
   "cell_type": "markdown",
   "id": "42243083",
   "metadata": {},
   "source": [
    "<div class=\"alert alert-warning\">\n",
    "    <b>💡**Комментарий ревьюера** </b>\n",
    "    <p> Получилась отличная, подробная предобработка данных. </p>\n",
    "</div>"
   ]
  },
  {
   "cell_type": "markdown",
   "id": "71071389",
   "metadata": {},
   "source": [
    "**Финальный датасет** включает в себя 15 признаков (3 численных, остальные категориальные) и 1 целевую переменную `at_fault`. Всего 53372 строки. Все пропуски и выбросы устранены.\n",
    "\n",
    "Разбиение на выборки:"
   ]
  },
  {
   "cell_type": "code",
   "execution_count": 46,
   "id": "9f83a429",
   "metadata": {},
   "outputs": [],
   "source": [
    "features = df.drop(columns='at_fault')\n",
    "target = df['at_fault']\n",
    "\n",
    "features_train, features_test, target_train, target_test = train_test_split(features, target, test_size=0.25, random_state=123)"
   ]
  },
  {
   "cell_type": "markdown",
   "id": "fbb6789b",
   "metadata": {},
   "source": [
    "Шкалирование числовых признаков и кодирование категориальных в дальнейшем используем в составе пайплайна."
   ]
  },
  {
   "cell_type": "markdown",
   "id": "2f59908c",
   "metadata": {},
   "source": [
    "## Создайте модель для оценки водительского риска"
   ]
  },
  {
   "cell_type": "markdown",
   "id": "875ac939",
   "metadata": {},
   "source": [
    "Задача предсказания ДТП сводится к задаче классификации. Для оценки качества моделей выберем метрику **f1-score**, т.к. важен баланс между полнотой и точностью предсказания нарушителей. \n",
    "\n",
    "Сравним между собой **три ML алгоритма** разных типов для обучения моделей:\n",
    "1. *Логистическая регрессия*\n",
    "2. *Случайный лес*\n",
    "3. *Градиентный бустинг*\n",
    "\n",
    "Как известно, OHE как кодирование категориальных признаков, хорошо работает для линейных моделей, но для всех остальных, часто, не самый верный выбор. Поэтому будем использовать OHE для линейной регрессии, а OrdinalEncoding для случайного леса и бустинга."
   ]
  },
  {
   "cell_type": "code",
   "execution_count": 47,
   "id": "22fd5dc6",
   "metadata": {},
   "outputs": [],
   "source": [
    "# таблица для результатов\n",
    "results = pd.DataFrame(columns=['model', 'f1_score', 'mean_fit_time'])"
   ]
  },
  {
   "cell_type": "code",
   "execution_count": 48,
   "id": "63d563ad",
   "metadata": {},
   "outputs": [],
   "source": [
    "# численные признаки\n",
    "numeric = ['distance', 'party_count', 'vehicle_age']\n",
    "\n",
    "# категориальные признаки\n",
    "categorical = ['county_location', 'weather', 'motor_vehicle_involved_with', \n",
    "               'road_surface', 'road_condition', 'lighting', 'control_device', \n",
    "               'vehicle_type', 'vehicle_transmission', 'party_sobriety', \n",
    "               'month', 'day_of_week', 'part_day']\n",
    "\n",
    "# предобработчик данных для линейных моделей\n",
    "preprocessor_linear = ColumnTransformer(\n",
    "    transformers=[\n",
    "        ('num', StandardScaler(), numeric),\n",
    "        ('cat', OneHotEncoder(), categorical)])\n",
    "\n",
    "# предобработчик данных для нелинейных моделей\n",
    "preprocessor_non_linear = ColumnTransformer(\n",
    "    transformers=[\n",
    "        ('num', StandardScaler(), numeric),\n",
    "        ('cat', OrdinalEncoder(), categorical)])"
   ]
  },
  {
   "cell_type": "markdown",
   "id": "a64a0638",
   "metadata": {},
   "source": [
    "<div class=\"alert alert-success\">\n",
    "    <b> ✅**Комментарий ревьюера** </b>\n",
    "    <p> Супер, что используешь пайплайны! </p>\n",
    "</div>"
   ]
  },
  {
   "cell_type": "code",
   "execution_count": null,
   "id": "65514c96",
   "metadata": {},
   "outputs": [],
   "source": [
    "%%time\n",
    "# логистическая регрессия\n",
    "params = {'lr__solver': ['newton-cg', 'lbfgs', 'liblinear', 'sag', 'saga']}\n",
    "\n",
    "pipe = Pipeline(steps=[\n",
    "    ('preprocessor',  preprocessor_linear),   # предобработка\n",
    "    ('lr', LogisticRegression(random_state=123, class_weight='balanced', max_iter=1000))])  # классификатор\n",
    "\n",
    "grid = GridSearchCV(pipe, param_grid=params, scoring='f1', cv=5, n_jobs=4)\n",
    "grid.fit(features_train, target_train)\n",
    "\n",
    "print(\"Лучшие параметры: {}\".format(grid.best_params_))\n",
    "print(\"Лучший результат (f1): {:.2f}\".format(grid.best_score_))\n",
    "print()\n",
    "\n",
    "results.loc[len(results.index)] = ['Logistic regression', grid.best_score_, pd.DataFrame(grid.cv_results_).query('rank_test_score == 1')['mean_fit_time'].values[0]]"
   ]
  },
  {
   "cell_type": "code",
   "execution_count": null,
   "id": "63402ee3",
   "metadata": {},
   "outputs": [],
   "source": [
    "%%time\n",
    "# случайный лес\n",
    "params = {'rf__n_estimators': [50, 100, 250, 500],\n",
    "          'rf__max_depth': range(5, 10)}\n",
    "\n",
    "pipe = Pipeline(steps=[\n",
    "    ('preprocessor',  preprocessor_non_linear),  # предобработка\n",
    "    ('rf', RandomForestClassifier())])           # классификатор\n",
    "\n",
    "grid = GridSearchCV(pipe, param_grid=params, scoring='f1', cv=3, n_jobs=4)\n",
    "grid.fit(features_train, target_train)\n",
    "\n",
    "print(\"Лучшие параметры: {}\".format(grid.best_params_))\n",
    "print(\"Лучший результат (f1): {:.2f}\".format(grid.best_score_))\n",
    "print()\n",
    "\n",
    "results.loc[len(results.index)] = ['Random forest', grid.best_score_, pd.DataFrame(grid.cv_results_).query('rank_test_score == 1')['mean_fit_time'].values[0]]"
   ]
  },
  {
   "cell_type": "code",
   "execution_count": null,
   "id": "c786bf83",
   "metadata": {},
   "outputs": [],
   "source": [
    "%%time\n",
    "# градиентный бустинг\n",
    "params = {'lgbm__n_estimators': [50, 100, 250, 500],\n",
    "          'lgbm__max_depth': range(5, 10), \n",
    "          'lgbm__learning_rate': [0.5, 1]}\n",
    "\n",
    "pipe = Pipeline(steps=[\n",
    "    ('preprocessor',  preprocessor_non_linear),      # предобработка\n",
    "    ('lgbm', LGBMClassifier())])                     # классификатор\n",
    "\n",
    "grid = GridSearchCV(pipe, param_grid=params, scoring='f1', cv=3, n_jobs=4)\n",
    "grid.fit(features_train, target_train)\n",
    "\n",
    "print(\"Лучшие параметры: {}\".format(grid.best_params_))\n",
    "print(\"Лучший результат (f1): {:.2f}\".format(grid.best_score_))\n",
    "print()\n",
    "\n",
    "results.loc[len(results.index)] = ['LGBM', grid.best_score_, pd.DataFrame(grid.cv_results_).query('rank_test_score == 1')['mean_fit_time'].values[0]]"
   ]
  },
  {
   "cell_type": "markdown",
   "id": "fb7c7612",
   "metadata": {},
   "source": [
    "Результативная таблица:"
   ]
  },
  {
   "cell_type": "code",
   "execution_count": null,
   "id": "0b99d912",
   "metadata": {},
   "outputs": [],
   "source": [
    "results"
   ]
  },
  {
   "cell_type": "markdown",
   "id": "886756d4",
   "metadata": {},
   "source": [
    "Лучше всего себя показала модель градиентного бустинга как во времени обучения (примерно 1 сек), так и по качеству: **f1-score** 0.6436. \n",
    "\n",
    "**Финальное тестирование модели**"
   ]
  },
  {
   "cell_type": "code",
   "execution_count": null,
   "id": "46b992ee",
   "metadata": {},
   "outputs": [],
   "source": [
    "# обучение модели\n",
    "pipe = Pipeline(steps=[\n",
    "    ('preprocessor',  preprocessor_non_linear),\n",
    "    ('lgbm', LGBMClassifier(learning_rate=0.5, max_depth=5, n_estimators=50))])                     # классификатор\n",
    "\n",
    "pipe.fit(features_train, target_train)\n",
    "print()"
   ]
  },
  {
   "cell_type": "code",
   "execution_count": null,
   "id": "b506c10a",
   "metadata": {},
   "outputs": [],
   "source": [
    "# предсказания\n",
    "preds = pipe.predict(features_test)\n",
    "f1 = f1_score(target_test, preds)\n",
    "print('F1-score на тестовой выборке:', round(f1, 4))\n",
    "\n",
    "# матрица ошибок\n",
    "cm = confusion_matrix(target_test, preds)\n",
    "sns.heatmap(cm, annot=True, fmt='d', cmap='Greens')\n",
    "plt.xlabel('Предсказанные значения')\n",
    "plt.ylabel('Фактические значения')\n",
    "plt.title('Матрица ошибок')\n",
    "\n",
    "# вычисление полноты и точности\n",
    "precision = precision_score(target_test, preds)\n",
    "recall = recall_score(target_test, preds)\n",
    "\n",
    "print('Точность:', round(precision, 4))\n",
    "print('Полнота:', round(recall, 4))"
   ]
  },
  {
   "cell_type": "markdown",
   "id": "6f9b6136",
   "metadata": {},
   "source": [
    "Таким образом, на тестовой выборке модель градиентного бустинга показала себя примерно так же, как на тренировочной. Точность оказалась выше, чем полнота. Следовательно, модель достаточно точно отделяет один класс от другого (определяет виновника дтп), однако, определяет не всех представителей класса."
   ]
  },
  {
   "cell_type": "markdown",
   "id": "6e3117b4",
   "metadata": {},
   "source": [
    "## Проведите анализ важности факторов ДТП"
   ]
  },
  {
   "cell_type": "code",
   "execution_count": null,
   "id": "832a7407",
   "metadata": {},
   "outputs": [],
   "source": [
    "# важность признаков\n",
    "feature_importance = pipe.named_steps['lgbm'].feature_importances_\n",
    "\n",
    "# создание DataFrame с важностью признаков\n",
    "feature_importance_df = pd.DataFrame({'Feature': features_train.columns, 'Importance': feature_importance})\n",
    "\n",
    "# cортировка по важности признаков\n",
    "feature_importance_df = feature_importance_df.sort_values(by='Importance', ascending=False)\n",
    "\n",
    "# построение графика важности признаков\n",
    "plt.figure(figsize=(10, 6))\n",
    "sns.barplot(x='Importance', y='Feature', data=feature_importance_df, palette='viridis')\n",
    "plt.title('Важность признаков')\n",
    "plt.xlabel('Importance')\n",
    "plt.ylabel('Feature')\n",
    "plt.show()"
   ]
  },
  {
   "cell_type": "markdown",
   "id": "9766d6b3",
   "metadata": {},
   "source": [
    "Самым важным фактором оказалась локация (признак `county_location`). Далее - погода (`weather`) и количество участников (`party_count`). \n",
    "\n",
    "Для примера, влияние погодных условий на распределение классов:"
   ]
  },
  {
   "cell_type": "code",
   "execution_count": null,
   "id": "d6669894",
   "metadata": {},
   "outputs": [],
   "source": [
    "(pd.crosstab(df['weather'], df['at_fault'], normalize='index')\n",
    " .sort_values(by=1, ascending=False)\n",
    " .plot(kind='bar'))\n",
    " \n",
    "plt.xticks(rotation=45)\n",
    "plt.title('Распределение классов в зависимости от погодных условий')\n",
    "plt.ylabel('class_rate')\n",
    "plt.show()"
   ]
  },
  {
   "cell_type": "markdown",
   "id": "0eb957ae",
   "metadata": {},
   "source": [
    "Наибольшее количество аварий фиксируется при неблагоприятных погодных условиях: снег, туман и дождь. Когда же погода ясная, распределение классов равномерно. Чтобы учесть этот фактор, можно оборудовать автомобиль электроникой с установленными программами, показывающими прогноз погоды в регионе в течение всего маршрута и заранее предупреждающими о возможных изменениях. "
   ]
  },
  {
   "cell_type": "markdown",
   "id": "6422865a",
   "metadata": {},
   "source": [
    "## Выводы"
   ]
  },
  {
   "cell_type": "markdown",
   "id": "5b008254",
   "metadata": {},
   "source": [
    "В рамках данного проекта:\n",
    "1. Сформирована выгрузка данных из предоставленной БД в соответствии с поставленной задачей. \n",
    "2. Был проведен исследовательский анализ данных: некоторые признаки преобразованы, в остальных столбцах были устранены пропуски и выбросы. Перед обучением категориальные признаки были закодированы, а численные - отшкалированы.\n",
    "3. Были сравнены модели с оптимизированными гиперпараметрами, обученные тремя различными ML алгоритмами: *логистическая регрессия*, *случайный лес* и *градиентный бустинг*. Выбранная метрика оценки качества - *F1-score*.\n",
    "4. Лучший результат показала **LGBM модель** со следующими значениями гиперпараметров max_depth=5, n_estimators=50, learning_rate=0.5. Полученный F1-score на тренировочной выборке: **0.6436**. F1-score на тестовой: **0.6464**.\n",
    "5. Дополнительно был проведен анализ важности признаков для модели. Так, наиболее значимыми оказались локация (регион), погода и количество участников.\n",
    "\n",
    "Таким образом, создание адекватной системы оценки риска при выдаче авто возможно, однако, пока что качество предсказания модели не очень высокое. На улучшение результата, вероятно, сможет повлиять добавление новых признаков, например, водительского стажа. "
   ]
  },
  {
   "cell_type": "markdown",
   "id": "c977d9bf",
   "metadata": {},
   "source": [
    "<div style=\"border:solid Green 2px; padding: 40px\">\n",
    "\n",
    "<b>**Общий вывод по проекту**</b>\n",
    "\n",
    "Спасибо за твой проект! Видно, что в него вложено много сил и проведена большая работа. И проект получился отличным!\n",
    "    \n",
    "Кратко пройдусь по впечатлениям. \n",
    "\n",
    "<b>Отмечу положительные стороны проекта:</b>\n",
    " \n",
    "* Отличное владение SQL, ты умело используешь сложные конструкции языка!\n",
    "* Вдумчивая работа с данными, проведен их внимательный анализ, есть промежуточные выводы, пропуски заполнены осмысленно.\n",
    "* Придуманы отличные задания для анализа данных.\n",
    "* Хвалю за использование пайплайнов!\n",
    "* Умелое использование методов предобработки данных.\n",
    "* Протестированы три модели.\n",
    "* Есть перебор параметров моделей.\n",
    "\n",
    "<b>**Возвращаю проект тебе обратно, только чтобы убедиться, что все мои комментарии понятны и в целом по проекту все ясно. Если вдруг у тебя возникнут вопросы, то я с радостью отвечу на них.**</b>\n",
    "\n",
    "</div>"
   ]
  },
  {
   "cell_type": "markdown",
   "id": "41251fc9",
   "metadata": {},
   "source": [
    "<div class=\"alert alert-info\"> <b>Комментарий студента:</b> Спасибо большое за ревью проекта! Твои комментарии очень полезные и интересные, я обязательно учту все это в последующих проектах! </div>"
   ]
  }
 ],
 "metadata": {
  "ExecuteTimeLog": [
   {
    "duration": 1801,
    "start_time": "2023-06-30T08:01:31.184Z"
   },
   {
    "duration": 4,
    "start_time": "2023-06-30T08:06:18.440Z"
   },
   {
    "duration": 13333,
    "start_time": "2023-06-30T08:06:20.882Z"
   },
   {
    "duration": 353,
    "start_time": "2023-06-30T08:16:11.889Z"
   },
   {
    "duration": 55,
    "start_time": "2023-06-30T08:16:20.173Z"
   },
   {
    "duration": 273,
    "start_time": "2023-06-30T08:18:40.220Z"
   },
   {
    "duration": 500,
    "start_time": "2023-06-30T08:20:03.542Z"
   },
   {
    "duration": 69,
    "start_time": "2023-06-30T08:21:53.587Z"
   },
   {
    "duration": 311,
    "start_time": "2023-06-30T08:23:22.787Z"
   },
   {
    "duration": 196,
    "start_time": "2023-06-30T08:24:53.049Z"
   },
   {
    "duration": 44,
    "start_time": "2023-06-30T08:26:14.438Z"
   },
   {
    "duration": 48,
    "start_time": "2023-06-30T08:28:09.914Z"
   },
   {
    "duration": 40,
    "start_time": "2023-06-30T08:29:28.538Z"
   },
   {
    "duration": 103,
    "start_time": "2023-06-30T08:31:43.800Z"
   },
   {
    "duration": 80,
    "start_time": "2023-06-30T08:31:52.075Z"
   },
   {
    "duration": 120,
    "start_time": "2023-06-30T08:32:01.235Z"
   },
   {
    "duration": 118,
    "start_time": "2023-06-30T08:32:11.234Z"
   },
   {
    "duration": 80,
    "start_time": "2023-06-30T08:32:18.385Z"
   },
   {
    "duration": 98,
    "start_time": "2023-06-30T08:32:22.693Z"
   },
   {
    "duration": 8,
    "start_time": "2023-06-30T08:33:26.374Z"
   },
   {
    "duration": 173,
    "start_time": "2023-06-30T08:33:34.722Z"
   },
   {
    "duration": 514,
    "start_time": "2023-06-30T08:33:55.541Z"
   },
   {
    "duration": 472,
    "start_time": "2023-06-30T08:37:45.435Z"
   },
   {
    "duration": 420,
    "start_time": "2023-06-30T08:41:51.052Z"
   },
   {
    "duration": 56,
    "start_time": "2023-06-30T08:44:37.794Z"
   },
   {
    "duration": 49,
    "start_time": "2023-06-30T08:45:21.287Z"
   },
   {
    "duration": 40,
    "start_time": "2023-06-30T08:45:34.785Z"
   },
   {
    "duration": 40,
    "start_time": "2023-06-30T08:46:40.982Z"
   },
   {
    "duration": 118,
    "start_time": "2023-06-30T08:47:02.947Z"
   },
   {
    "duration": 138,
    "start_time": "2023-06-30T08:47:48.081Z"
   },
   {
    "duration": 165,
    "start_time": "2023-06-30T08:47:51.787Z"
   },
   {
    "duration": 148,
    "start_time": "2023-06-30T08:47:56.636Z"
   },
   {
    "duration": 173,
    "start_time": "2023-06-30T08:48:02.561Z"
   },
   {
    "duration": 145,
    "start_time": "2023-06-30T08:48:13.302Z"
   },
   {
    "duration": 283,
    "start_time": "2023-06-30T08:59:52.451Z"
   },
   {
    "duration": 270,
    "start_time": "2023-06-30T09:00:10.306Z"
   },
   {
    "duration": 437,
    "start_time": "2023-06-30T09:02:20.520Z"
   },
   {
    "duration": 434,
    "start_time": "2023-06-30T09:02:35.427Z"
   },
   {
    "duration": 454,
    "start_time": "2023-06-30T09:02:39.397Z"
   },
   {
    "duration": 427,
    "start_time": "2023-06-30T09:03:18.622Z"
   },
   {
    "duration": 435,
    "start_time": "2023-06-30T09:03:23.123Z"
   },
   {
    "duration": 482,
    "start_time": "2023-06-30T09:03:27.230Z"
   },
   {
    "duration": 521,
    "start_time": "2023-06-30T09:03:33.745Z"
   },
   {
    "duration": 447,
    "start_time": "2023-06-30T09:03:43.089Z"
   },
   {
    "duration": 456,
    "start_time": "2023-06-30T09:03:47.685Z"
   },
   {
    "duration": 509,
    "start_time": "2023-06-30T09:04:25.638Z"
   },
   {
    "duration": 513,
    "start_time": "2023-06-30T09:06:03.846Z"
   },
   {
    "duration": 7,
    "start_time": "2023-06-30T09:41:18.200Z"
   },
   {
    "duration": 333,
    "start_time": "2023-06-30T09:41:30.361Z"
   },
   {
    "duration": 145,
    "start_time": "2023-06-30T09:41:42.853Z"
   },
   {
    "duration": 181,
    "start_time": "2023-06-30T09:42:00.842Z"
   },
   {
    "duration": 165,
    "start_time": "2023-06-30T09:42:21.523Z"
   },
   {
    "duration": 188,
    "start_time": "2023-06-30T09:42:36.144Z"
   },
   {
    "duration": 175,
    "start_time": "2023-06-30T09:42:53.654Z"
   },
   {
    "duration": 0,
    "start_time": "2023-06-30T09:43:58.391Z"
   },
   {
    "duration": 9553,
    "start_time": "2023-06-30T09:44:01.118Z"
   },
   {
    "duration": 831,
    "start_time": "2023-06-30T09:46:03.862Z"
   },
   {
    "duration": 7833,
    "start_time": "2023-06-30T09:46:36.530Z"
   },
   {
    "duration": 5288,
    "start_time": "2023-06-30T09:47:13.932Z"
   },
   {
    "duration": 136,
    "start_time": "2023-06-30T09:47:47.138Z"
   },
   {
    "duration": 5396,
    "start_time": "2023-06-30T09:48:32.602Z"
   },
   {
    "duration": 4881,
    "start_time": "2023-06-30T09:49:11.253Z"
   },
   {
    "duration": 5658,
    "start_time": "2023-06-30T09:51:33.764Z"
   },
   {
    "duration": 5589,
    "start_time": "2023-06-30T09:52:32.090Z"
   },
   {
    "duration": 5585,
    "start_time": "2023-06-30T09:53:08.228Z"
   },
   {
    "duration": 5548,
    "start_time": "2023-06-30T09:53:41.734Z"
   },
   {
    "duration": 607,
    "start_time": "2023-06-30T10:00:08.016Z"
   },
   {
    "duration": 712,
    "start_time": "2023-06-30T10:00:38.962Z"
   },
   {
    "duration": 635,
    "start_time": "2023-06-30T10:01:31.193Z"
   },
   {
    "duration": 126,
    "start_time": "2023-06-30T10:08:27.097Z"
   },
   {
    "duration": 261,
    "start_time": "2023-06-30T10:08:42.112Z"
   },
   {
    "duration": 220,
    "start_time": "2023-06-30T10:09:02.520Z"
   },
   {
    "duration": 3392,
    "start_time": "2023-06-30T10:09:45.716Z"
   },
   {
    "duration": 340,
    "start_time": "2023-06-30T10:10:05.295Z"
   },
   {
    "duration": 359,
    "start_time": "2023-06-30T10:10:25.956Z"
   },
   {
    "duration": 322,
    "start_time": "2023-06-30T10:10:36.940Z"
   },
   {
    "duration": 319,
    "start_time": "2023-06-30T10:10:44.030Z"
   },
   {
    "duration": 343,
    "start_time": "2023-06-30T10:11:06.157Z"
   },
   {
    "duration": 501,
    "start_time": "2023-06-30T10:12:31.698Z"
   },
   {
    "duration": 503,
    "start_time": "2023-06-30T10:12:37.001Z"
   },
   {
    "duration": 516,
    "start_time": "2023-06-30T10:13:02.674Z"
   },
   {
    "duration": 127,
    "start_time": "2023-06-30T10:18:38.520Z"
   },
   {
    "duration": 200,
    "start_time": "2023-06-30T10:18:45.695Z"
   },
   {
    "duration": 183,
    "start_time": "2023-06-30T10:18:55.003Z"
   },
   {
    "duration": 176,
    "start_time": "2023-06-30T10:19:07.009Z"
   },
   {
    "duration": 186,
    "start_time": "2023-06-30T10:19:34.323Z"
   },
   {
    "duration": 141,
    "start_time": "2023-06-30T10:20:33.718Z"
   },
   {
    "duration": 149,
    "start_time": "2023-06-30T10:21:00.693Z"
   },
   {
    "duration": 119,
    "start_time": "2023-06-30T10:21:33.439Z"
   },
   {
    "duration": 162,
    "start_time": "2023-06-30T10:21:48.859Z"
   },
   {
    "duration": 133,
    "start_time": "2023-06-30T10:21:57.258Z"
   },
   {
    "duration": 2062,
    "start_time": "2023-06-30T10:22:03.210Z"
   },
   {
    "duration": 132,
    "start_time": "2023-06-30T10:23:00.791Z"
   },
   {
    "duration": 1992,
    "start_time": "2023-06-30T10:23:07.359Z"
   },
   {
    "duration": 682,
    "start_time": "2023-06-30T10:23:12.106Z"
   },
   {
    "duration": 680,
    "start_time": "2023-06-30T10:23:26.294Z"
   },
   {
    "duration": 710,
    "start_time": "2023-06-30T10:28:06.786Z"
   },
   {
    "duration": 594,
    "start_time": "2023-06-30T10:28:43.253Z"
   },
   {
    "duration": 727,
    "start_time": "2023-06-30T10:29:17.230Z"
   },
   {
    "duration": 712,
    "start_time": "2023-06-30T10:29:55.169Z"
   },
   {
    "duration": 1137,
    "start_time": "2023-06-30T10:30:09.465Z"
   },
   {
    "duration": 806,
    "start_time": "2023-06-30T10:30:18.637Z"
   },
   {
    "duration": 2823,
    "start_time": "2023-06-30T10:31:54.804Z"
   },
   {
    "duration": 730,
    "start_time": "2023-06-30T10:32:10.123Z"
   },
   {
    "duration": 723,
    "start_time": "2023-06-30T10:33:05.948Z"
   },
   {
    "duration": 736,
    "start_time": "2023-06-30T10:35:06.526Z"
   },
   {
    "duration": 735,
    "start_time": "2023-06-30T10:35:41.684Z"
   },
   {
    "duration": 720,
    "start_time": "2023-06-30T10:36:04.500Z"
   },
   {
    "duration": 719,
    "start_time": "2023-06-30T10:36:12.600Z"
   },
   {
    "duration": 730,
    "start_time": "2023-06-30T10:36:31.887Z"
   },
   {
    "duration": 710,
    "start_time": "2023-06-30T10:36:41.325Z"
   },
   {
    "duration": 711,
    "start_time": "2023-06-30T10:37:04.408Z"
   },
   {
    "duration": 116,
    "start_time": "2023-06-30T10:37:41.447Z"
   },
   {
    "duration": 403,
    "start_time": "2023-06-30T10:38:04.444Z"
   },
   {
    "duration": 408,
    "start_time": "2023-06-30T10:38:37.292Z"
   },
   {
    "duration": 1749,
    "start_time": "2023-06-30T10:38:47.892Z"
   },
   {
    "duration": 679,
    "start_time": "2023-06-30T11:00:21.887Z"
   },
   {
    "duration": 179,
    "start_time": "2023-06-30T11:06:03.444Z"
   },
   {
    "duration": 11385,
    "start_time": "2023-06-30T11:06:10.497Z"
   },
   {
    "duration": 11466,
    "start_time": "2023-06-30T11:06:39.649Z"
   },
   {
    "duration": 970,
    "start_time": "2023-07-01T06:47:27.847Z"
   },
   {
    "duration": 4,
    "start_time": "2023-07-01T06:47:32.649Z"
   },
   {
    "duration": 6881,
    "start_time": "2023-07-01T06:47:34.366Z"
   },
   {
    "duration": 10895,
    "start_time": "2023-07-01T07:04:54.122Z"
   },
   {
    "duration": 10,
    "start_time": "2023-07-01T07:05:59.562Z"
   },
   {
    "duration": 4,
    "start_time": "2023-07-01T07:10:08.805Z"
   },
   {
    "duration": 167,
    "start_time": "2023-07-01T07:10:25.257Z"
   },
   {
    "duration": 5,
    "start_time": "2023-07-01T07:10:32.789Z"
   },
   {
    "duration": 3,
    "start_time": "2023-07-01T07:11:23.059Z"
   },
   {
    "duration": 1002,
    "start_time": "2023-07-01T07:11:25.484Z"
   },
   {
    "duration": 3,
    "start_time": "2023-07-01T07:11:41.693Z"
   },
   {
    "duration": 953,
    "start_time": "2023-07-01T07:11:42.991Z"
   },
   {
    "duration": 5,
    "start_time": "2023-07-01T07:53:49.737Z"
   },
   {
    "duration": 2135,
    "start_time": "2023-07-01T07:54:02.756Z"
   },
   {
    "duration": 210,
    "start_time": "2023-07-01T07:59:01.237Z"
   },
   {
    "duration": 199,
    "start_time": "2023-07-01T07:59:05.294Z"
   },
   {
    "duration": 208,
    "start_time": "2023-07-01T07:59:25.283Z"
   },
   {
    "duration": 256,
    "start_time": "2023-07-01T08:00:30.477Z"
   },
   {
    "duration": 82,
    "start_time": "2023-07-01T08:07:05.814Z"
   },
   {
    "duration": 207,
    "start_time": "2023-07-01T08:07:27.350Z"
   },
   {
    "duration": 4,
    "start_time": "2023-07-01T08:09:16.175Z"
   },
   {
    "duration": 2228,
    "start_time": "2023-07-01T08:09:18.952Z"
   },
   {
    "duration": 213,
    "start_time": "2023-07-01T08:09:28.176Z"
   },
   {
    "duration": 78,
    "start_time": "2023-07-01T08:09:31.704Z"
   },
   {
    "duration": 178,
    "start_time": "2023-07-01T08:09:33.815Z"
   },
   {
    "duration": 44,
    "start_time": "2023-07-01T08:14:18.260Z"
   },
   {
    "duration": 181,
    "start_time": "2023-07-01T08:17:59.888Z"
   },
   {
    "duration": 278,
    "start_time": "2023-07-01T08:18:17.308Z"
   },
   {
    "duration": 248,
    "start_time": "2023-07-01T08:18:26.507Z"
   },
   {
    "duration": 6,
    "start_time": "2023-07-01T08:20:01.265Z"
   },
   {
    "duration": 186,
    "start_time": "2023-07-01T08:20:53.519Z"
   },
   {
    "duration": 4,
    "start_time": "2023-07-01T08:21:59.008Z"
   },
   {
    "duration": 4233,
    "start_time": "2023-07-01T08:22:00.848Z"
   },
   {
    "duration": 247,
    "start_time": "2023-07-01T08:22:05.084Z"
   },
   {
    "duration": 224,
    "start_time": "2023-07-01T08:22:08.481Z"
   },
   {
    "duration": 75,
    "start_time": "2023-07-01T08:22:11.219Z"
   },
   {
    "duration": 57,
    "start_time": "2023-07-01T08:22:14.221Z"
   },
   {
    "duration": 316,
    "start_time": "2023-07-01T08:22:17.388Z"
   },
   {
    "duration": 279,
    "start_time": "2023-07-01T08:22:42.023Z"
   },
   {
    "duration": 252,
    "start_time": "2023-07-01T08:22:55.488Z"
   },
   {
    "duration": 302,
    "start_time": "2023-07-01T08:23:08.496Z"
   },
   {
    "duration": 343,
    "start_time": "2023-07-01T08:24:14.344Z"
   },
   {
    "duration": 429,
    "start_time": "2023-07-01T08:24:30.447Z"
   },
   {
    "duration": 384,
    "start_time": "2023-07-01T08:25:06.641Z"
   },
   {
    "duration": 420,
    "start_time": "2023-07-01T08:25:15.807Z"
   },
   {
    "duration": 7,
    "start_time": "2023-07-01T08:26:23.910Z"
   },
   {
    "duration": 8,
    "start_time": "2023-07-01T08:26:50.328Z"
   },
   {
    "duration": 7,
    "start_time": "2023-07-01T08:27:01.744Z"
   },
   {
    "duration": 342,
    "start_time": "2023-07-01T08:27:56.705Z"
   },
   {
    "duration": 361,
    "start_time": "2023-07-01T08:28:14.573Z"
   },
   {
    "duration": 8,
    "start_time": "2023-07-01T08:29:34.521Z"
   },
   {
    "duration": 4,
    "start_time": "2023-07-01T08:29:42.449Z"
   },
   {
    "duration": 4148,
    "start_time": "2023-07-01T08:29:44.216Z"
   },
   {
    "duration": 219,
    "start_time": "2023-07-01T08:29:48.367Z"
   },
   {
    "duration": 85,
    "start_time": "2023-07-01T08:29:48.588Z"
   },
   {
    "duration": 15,
    "start_time": "2023-07-01T08:29:51.523Z"
   },
   {
    "duration": 4,
    "start_time": "2023-07-01T08:29:59.574Z"
   },
   {
    "duration": 2432,
    "start_time": "2023-07-01T08:30:01.175Z"
   },
   {
    "duration": 252,
    "start_time": "2023-07-01T08:30:06.532Z"
   },
   {
    "duration": 82,
    "start_time": "2023-07-01T08:30:09.529Z"
   },
   {
    "duration": 48,
    "start_time": "2023-07-01T08:30:11.369Z"
   },
   {
    "duration": 304,
    "start_time": "2023-07-01T08:30:13.935Z"
   },
   {
    "duration": 12,
    "start_time": "2023-07-01T08:30:16.217Z"
   },
   {
    "duration": 89,
    "start_time": "2023-07-01T08:30:18.178Z"
   },
   {
    "duration": 1683,
    "start_time": "2023-07-01T08:31:12.169Z"
   },
   {
    "duration": 53,
    "start_time": "2023-07-01T08:31:19.031Z"
   },
   {
    "duration": 64,
    "start_time": "2023-07-01T08:31:59.506Z"
   },
   {
    "duration": 37,
    "start_time": "2023-07-01T08:35:39.770Z"
   },
   {
    "duration": 6,
    "start_time": "2023-07-01T08:36:22.776Z"
   },
   {
    "duration": 138,
    "start_time": "2023-07-01T08:36:35.332Z"
   },
   {
    "duration": 141,
    "start_time": "2023-07-01T08:36:40.973Z"
   },
   {
    "duration": 40,
    "start_time": "2023-07-01T08:38:00.593Z"
   },
   {
    "duration": 38,
    "start_time": "2023-07-01T08:39:34.884Z"
   },
   {
    "duration": 32,
    "start_time": "2023-07-01T08:42:38.400Z"
   },
   {
    "duration": 53,
    "start_time": "2023-07-01T08:43:22.030Z"
   },
   {
    "duration": 60,
    "start_time": "2023-07-01T08:44:02.447Z"
   },
   {
    "duration": 57,
    "start_time": "2023-07-01T08:45:00.028Z"
   },
   {
    "duration": 56,
    "start_time": "2023-07-01T08:45:20.953Z"
   },
   {
    "duration": 45,
    "start_time": "2023-07-01T08:47:13.879Z"
   },
   {
    "duration": 52,
    "start_time": "2023-07-01T08:47:51.781Z"
   },
   {
    "duration": 116,
    "start_time": "2023-07-01T08:52:00.910Z"
   },
   {
    "duration": 45,
    "start_time": "2023-07-01T08:52:49.395Z"
   },
   {
    "duration": 43,
    "start_time": "2023-07-01T08:54:39.725Z"
   },
   {
    "duration": 48,
    "start_time": "2023-07-01T08:55:17.897Z"
   },
   {
    "duration": 8,
    "start_time": "2023-07-01T08:56:18.885Z"
   },
   {
    "duration": 35,
    "start_time": "2023-07-01T08:56:25.711Z"
   },
   {
    "duration": 5,
    "start_time": "2023-07-01T08:59:11.081Z"
   },
   {
    "duration": 103,
    "start_time": "2023-07-01T08:59:29.718Z"
   },
   {
    "duration": 43,
    "start_time": "2023-07-01T09:02:11.281Z"
   },
   {
    "duration": 22,
    "start_time": "2023-07-01T09:02:35.402Z"
   },
   {
    "duration": 77,
    "start_time": "2023-07-01T09:03:25.395Z"
   },
   {
    "duration": 7,
    "start_time": "2023-07-01T09:04:24.998Z"
   },
   {
    "duration": 1454,
    "start_time": "2023-07-01T09:06:08.191Z"
   },
   {
    "duration": 8,
    "start_time": "2023-07-01T09:07:10.391Z"
   },
   {
    "duration": 70,
    "start_time": "2023-07-01T09:07:27.129Z"
   },
   {
    "duration": 62,
    "start_time": "2023-07-01T09:07:38.694Z"
   },
   {
    "duration": 20,
    "start_time": "2023-07-01T09:15:09.194Z"
   },
   {
    "duration": 16,
    "start_time": "2023-07-01T09:15:13.098Z"
   },
   {
    "duration": 93,
    "start_time": "2023-07-01T09:15:39.748Z"
   },
   {
    "duration": 217,
    "start_time": "2023-07-01T09:16:01.560Z"
   },
   {
    "duration": 342,
    "start_time": "2023-07-01T09:16:25.522Z"
   },
   {
    "duration": 62,
    "start_time": "2023-07-01T09:17:02.874Z"
   },
   {
    "duration": 54,
    "start_time": "2023-07-01T09:17:10.817Z"
   },
   {
    "duration": 60,
    "start_time": "2023-07-01T09:19:06.890Z"
   },
   {
    "duration": 47,
    "start_time": "2023-07-01T09:20:28.075Z"
   },
   {
    "duration": 234,
    "start_time": "2023-07-01T09:21:08.858Z"
   },
   {
    "duration": 239,
    "start_time": "2023-07-01T09:21:35.203Z"
   },
   {
    "duration": 268,
    "start_time": "2023-07-01T09:21:51.219Z"
   },
   {
    "duration": 56,
    "start_time": "2023-07-01T09:23:10.781Z"
   },
   {
    "duration": 1492,
    "start_time": "2023-07-01T09:24:01.791Z"
   },
   {
    "duration": 31,
    "start_time": "2023-07-01T09:24:10.116Z"
   },
   {
    "duration": 29,
    "start_time": "2023-07-01T09:26:47.878Z"
   },
   {
    "duration": 217,
    "start_time": "2023-07-01T09:27:03.683Z"
   },
   {
    "duration": 474,
    "start_time": "2023-07-01T09:27:45.083Z"
   },
   {
    "duration": 176,
    "start_time": "2023-07-01T09:27:47.136Z"
   },
   {
    "duration": 6,
    "start_time": "2023-07-01T09:32:03.233Z"
   },
   {
    "duration": 8,
    "start_time": "2023-07-01T09:32:08.847Z"
   },
   {
    "duration": 1198,
    "start_time": "2023-07-01T09:35:45.915Z"
   },
   {
    "duration": 136,
    "start_time": "2023-07-01T09:36:29.258Z"
   },
   {
    "duration": 5,
    "start_time": "2023-07-01T10:04:18.597Z"
   },
   {
    "duration": 185,
    "start_time": "2023-07-01T10:12:50.108Z"
   },
   {
    "duration": 4,
    "start_time": "2023-07-01T10:13:20.104Z"
   },
   {
    "duration": 72,
    "start_time": "2023-07-01T10:17:21.344Z"
   },
   {
    "duration": 103860,
    "start_time": "2023-07-01T10:19:04.529Z"
   },
   {
    "duration": 25,
    "start_time": "2023-07-01T10:23:50.755Z"
   },
   {
    "duration": 156416,
    "start_time": "2023-07-01T10:24:01.633Z"
   },
   {
    "duration": 5,
    "start_time": "2023-07-01T10:26:59.650Z"
   },
   {
    "duration": 6,
    "start_time": "2023-07-01T10:29:44.825Z"
   },
   {
    "duration": 6,
    "start_time": "2023-07-01T10:29:55.357Z"
   },
   {
    "duration": 6,
    "start_time": "2023-07-01T10:30:05.080Z"
   },
   {
    "duration": 16,
    "start_time": "2023-07-01T10:30:35.603Z"
   },
   {
    "duration": 18310,
    "start_time": "2023-07-01T10:30:46.768Z"
   },
   {
    "duration": 74279,
    "start_time": "2023-07-01T10:31:06.093Z"
   },
   {
    "duration": 79,
    "start_time": "2023-07-01T10:32:21.461Z"
   },
   {
    "duration": 70865,
    "start_time": "2023-07-01T10:32:32.854Z"
   },
   {
    "duration": 4,
    "start_time": "2023-07-01T10:33:43.722Z"
   },
   {
    "duration": 6,
    "start_time": "2023-07-01T10:33:45.438Z"
   },
   {
    "duration": 104319,
    "start_time": "2023-07-01T10:33:57.456Z"
   },
   {
    "duration": 24430,
    "start_time": "2023-07-01T10:36:16.191Z"
   },
   {
    "duration": 87103,
    "start_time": "2023-07-01T10:37:23.569Z"
   },
   {
    "duration": 67010,
    "start_time": "2023-07-01T10:41:21.650Z"
   },
   {
    "duration": 64526,
    "start_time": "2023-07-01T10:46:44.546Z"
   },
   {
    "duration": 74350,
    "start_time": "2023-07-01T10:48:18.104Z"
   },
   {
    "duration": 1016511,
    "start_time": "2023-07-01T10:50:03.599Z"
   },
   {
    "duration": 954181,
    "start_time": "2023-07-01T11:07:40.286Z"
   },
   {
    "duration": 179,
    "start_time": "2023-07-01T11:25:08.824Z"
   },
   {
    "duration": 12557,
    "start_time": "2023-07-01T11:27:32.846Z"
   },
   {
    "duration": 10955,
    "start_time": "2023-07-01T11:28:49.630Z"
   },
   {
    "duration": 11276,
    "start_time": "2023-07-01T11:29:41.765Z"
   },
   {
    "duration": 126,
    "start_time": "2023-07-01T11:29:59.243Z"
   },
   {
    "duration": 57,
    "start_time": "2023-07-01T11:30:07.642Z"
   },
   {
    "duration": 29,
    "start_time": "2023-07-01T11:30:09.818Z"
   },
   {
    "duration": 185,
    "start_time": "2023-07-01T11:30:14.998Z"
   },
   {
    "duration": 6,
    "start_time": "2023-07-01T11:30:22.033Z"
   },
   {
    "duration": 43,
    "start_time": "2023-07-01T11:30:41.369Z"
   },
   {
    "duration": 28,
    "start_time": "2023-07-01T11:30:47.015Z"
   },
   {
    "duration": 18,
    "start_time": "2023-07-01T11:30:49.097Z"
   },
   {
    "duration": 134,
    "start_time": "2023-07-01T11:30:51.103Z"
   },
   {
    "duration": 25,
    "start_time": "2023-07-01T11:30:53.454Z"
   },
   {
    "duration": 18,
    "start_time": "2023-07-01T11:30:57.090Z"
   },
   {
    "duration": 26,
    "start_time": "2023-07-01T11:30:58.888Z"
   },
   {
    "duration": 19,
    "start_time": "2023-07-01T11:31:01.248Z"
   },
   {
    "duration": 27,
    "start_time": "2023-07-01T11:31:03.776Z"
   },
   {
    "duration": 23,
    "start_time": "2023-07-01T11:31:07.454Z"
   },
   {
    "duration": 29,
    "start_time": "2023-07-01T11:31:09.623Z"
   },
   {
    "duration": 58,
    "start_time": "2023-07-01T11:31:11.988Z"
   },
   {
    "duration": 28,
    "start_time": "2023-07-01T11:31:14.419Z"
   },
   {
    "duration": 19,
    "start_time": "2023-07-01T11:31:16.255Z"
   },
   {
    "duration": 68,
    "start_time": "2023-07-01T11:31:18.118Z"
   },
   {
    "duration": 10,
    "start_time": "2023-07-01T11:31:19.619Z"
   },
   {
    "duration": 33,
    "start_time": "2023-07-01T11:31:23.050Z"
   },
   {
    "duration": 6,
    "start_time": "2023-07-01T11:31:25.042Z"
   },
   {
    "duration": 36,
    "start_time": "2023-07-01T11:31:26.714Z"
   },
   {
    "duration": 149,
    "start_time": "2023-07-01T11:31:28.563Z"
   },
   {
    "duration": 28,
    "start_time": "2023-07-01T11:31:30.756Z"
   },
   {
    "duration": 26,
    "start_time": "2023-07-01T11:31:33.288Z"
   },
   {
    "duration": 19,
    "start_time": "2023-07-01T11:31:37.818Z"
   },
   {
    "duration": 166,
    "start_time": "2023-07-01T11:31:46.625Z"
   },
   {
    "duration": 38,
    "start_time": "2023-07-01T11:31:51.009Z"
   },
   {
    "duration": 23,
    "start_time": "2023-07-01T11:31:53.468Z"
   },
   {
    "duration": 14,
    "start_time": "2023-07-01T11:31:55.837Z"
   },
   {
    "duration": 203,
    "start_time": "2023-07-01T11:31:58.466Z"
   },
   {
    "duration": 121,
    "start_time": "2023-07-01T11:32:00.342Z"
   },
   {
    "duration": 131,
    "start_time": "2023-07-01T11:32:19.535Z"
   },
   {
    "duration": 6,
    "start_time": "2023-07-01T11:32:22.996Z"
   },
   {
    "duration": 61797,
    "start_time": "2023-07-01T11:32:25.057Z"
   },
   {
    "duration": 302985,
    "start_time": "2023-07-01T11:33:33.736Z"
   },
   {
    "duration": 234106,
    "start_time": "2023-07-01T11:40:10.973Z"
   },
   {
    "duration": 6,
    "start_time": "2023-07-01T11:50:25.369Z"
   },
   {
    "duration": 64008,
    "start_time": "2023-07-01T11:52:55.667Z"
   },
   {
    "duration": 12,
    "start_time": "2023-07-01T11:54:27.067Z"
   },
   {
    "duration": 5,
    "start_time": "2023-07-01T11:55:04.717Z"
   },
   {
    "duration": 5,
    "start_time": "2023-07-01T11:55:06.507Z"
   },
   {
    "duration": 60611,
    "start_time": "2023-07-01T11:55:11.892Z"
   },
   {
    "duration": 3753,
    "start_time": "2023-07-01T11:56:59.472Z"
   },
   {
    "duration": 6,
    "start_time": "2023-07-01T11:57:06.057Z"
   },
   {
    "duration": 59131,
    "start_time": "2023-07-01T11:57:08.318Z"
   },
   {
    "duration": 250738,
    "start_time": "2023-07-01T11:58:07.456Z"
   },
   {
    "duration": 201959,
    "start_time": "2023-07-01T12:02:18.196Z"
   },
   {
    "duration": 10,
    "start_time": "2023-07-01T12:05:40.158Z"
   },
   {
    "duration": 5,
    "start_time": "2023-07-01T12:12:59.466Z"
   },
   {
    "duration": 66,
    "start_time": "2023-07-01T12:14:23.816Z"
   },
   {
    "duration": 5366,
    "start_time": "2023-07-01T12:14:33.108Z"
   },
   {
    "duration": 4518,
    "start_time": "2023-07-01T12:14:49.875Z"
   },
   {
    "duration": 100582,
    "start_time": "2023-07-01T12:15:12.674Z"
   },
   {
    "duration": 97,
    "start_time": "2023-07-01T12:17:10.709Z"
   },
   {
    "duration": 23068,
    "start_time": "2023-07-01T12:17:12.617Z"
   },
   {
    "duration": 14268,
    "start_time": "2023-07-01T12:17:40.209Z"
   },
   {
    "duration": 516,
    "start_time": "2023-07-01T12:18:01.146Z"
   },
   {
    "duration": 548,
    "start_time": "2023-07-01T12:18:18.402Z"
   },
   {
    "duration": 424,
    "start_time": "2023-07-01T12:20:27.915Z"
   },
   {
    "duration": 272,
    "start_time": "2023-07-01T12:25:24.884Z"
   },
   {
    "duration": 489,
    "start_time": "2023-07-01T12:25:30.377Z"
   },
   {
    "duration": 5,
    "start_time": "2023-07-01T12:25:50.479Z"
   },
   {
    "duration": 11,
    "start_time": "2023-07-01T12:28:49.816Z"
   },
   {
    "duration": 239,
    "start_time": "2023-07-01T12:29:50.719Z"
   },
   {
    "duration": 6,
    "start_time": "2023-07-01T13:24:37.674Z"
   },
   {
    "duration": 299,
    "start_time": "2023-07-01T13:28:29.843Z"
   },
   {
    "duration": 113905,
    "start_time": "2023-07-01T13:28:40.563Z"
   },
   {
    "duration": 541,
    "start_time": "2023-07-01T13:30:37.914Z"
   },
   {
    "duration": 251,
    "start_time": "2023-07-01T13:30:46.784Z"
   },
   {
    "duration": 486,
    "start_time": "2023-07-01T13:33:58.293Z"
   },
   {
    "duration": 289,
    "start_time": "2023-07-01T13:34:37.019Z"
   },
   {
    "duration": 12,
    "start_time": "2023-07-01T13:36:11.519Z"
   },
   {
    "duration": 329,
    "start_time": "2023-07-01T13:36:25.982Z"
   },
   {
    "duration": 176,
    "start_time": "2023-07-01T13:36:51.456Z"
   },
   {
    "duration": 311,
    "start_time": "2023-07-01T13:36:59.940Z"
   },
   {
    "duration": 61,
    "start_time": "2023-07-01T13:37:20.498Z"
   },
   {
    "duration": 101,
    "start_time": "2023-07-01T13:37:32.545Z"
   },
   {
    "duration": 109,
    "start_time": "2023-07-01T13:37:41.251Z"
   },
   {
    "duration": 101,
    "start_time": "2023-07-01T13:37:47.033Z"
   },
   {
    "duration": 292,
    "start_time": "2023-07-01T13:37:56.396Z"
   },
   {
    "duration": 38,
    "start_time": "2023-07-01T13:38:39.633Z"
   },
   {
    "duration": 11,
    "start_time": "2023-07-01T13:39:10.544Z"
   },
   {
    "duration": 998,
    "start_time": "2023-07-01T13:39:14.870Z"
   },
   {
    "duration": 49,
    "start_time": "2023-07-01T13:39:23.446Z"
   },
   {
    "duration": 1109,
    "start_time": "2023-07-01T13:41:19.870Z"
   },
   {
    "duration": 44,
    "start_time": "2023-07-01T13:41:28.346Z"
   },
   {
    "duration": 39,
    "start_time": "2023-07-01T13:41:35.812Z"
   },
   {
    "duration": 217,
    "start_time": "2023-07-01T13:41:44.451Z"
   },
   {
    "duration": 221,
    "start_time": "2023-07-01T13:42:06.767Z"
   },
   {
    "duration": 226,
    "start_time": "2023-07-01T13:43:02.470Z"
   },
   {
    "duration": 364,
    "start_time": "2023-07-01T13:46:02.628Z"
   },
   {
    "duration": 236,
    "start_time": "2023-07-01T13:46:16.692Z"
   },
   {
    "duration": 1804,
    "start_time": "2023-07-01T14:07:48.189Z"
   },
   {
    "duration": 3,
    "start_time": "2023-07-01T14:07:49.996Z"
   },
   {
    "duration": 7659,
    "start_time": "2023-07-01T14:07:50.001Z"
   },
   {
    "duration": 131,
    "start_time": "2023-07-01T14:07:57.662Z"
   },
   {
    "duration": 322,
    "start_time": "2023-07-01T14:07:57.794Z"
   },
   {
    "duration": 27,
    "start_time": "2023-07-01T14:07:58.118Z"
   },
   {
    "duration": 474,
    "start_time": "2023-07-01T14:07:58.147Z"
   },
   {
    "duration": 619,
    "start_time": "2023-07-01T14:07:58.622Z"
   },
   {
    "duration": 369,
    "start_time": "2023-07-01T14:07:59.253Z"
   },
   {
    "duration": 5,
    "start_time": "2023-07-01T14:07:59.625Z"
   },
   {
    "duration": 11284,
    "start_time": "2023-07-01T14:07:59.632Z"
   },
   {
    "duration": 103,
    "start_time": "2023-07-01T14:08:10.918Z"
   },
   {
    "duration": 44,
    "start_time": "2023-07-01T14:08:11.023Z"
   },
   {
    "duration": 27,
    "start_time": "2023-07-01T14:08:11.068Z"
   },
   {
    "duration": 244,
    "start_time": "2023-07-01T14:08:11.097Z"
   },
   {
    "duration": 14,
    "start_time": "2023-07-01T14:08:11.343Z"
   },
   {
    "duration": 34,
    "start_time": "2023-07-01T14:08:11.359Z"
   },
   {
    "duration": 25,
    "start_time": "2023-07-01T14:08:11.395Z"
   },
   {
    "duration": 38,
    "start_time": "2023-07-01T14:08:11.422Z"
   },
   {
    "duration": 149,
    "start_time": "2023-07-01T14:08:11.461Z"
   },
   {
    "duration": 24,
    "start_time": "2023-07-01T14:08:11.612Z"
   },
   {
    "duration": 28,
    "start_time": "2023-07-01T14:08:11.638Z"
   },
   {
    "duration": 34,
    "start_time": "2023-07-01T14:08:11.668Z"
   },
   {
    "duration": 22,
    "start_time": "2023-07-01T14:08:11.704Z"
   },
   {
    "duration": 29,
    "start_time": "2023-07-01T14:08:11.728Z"
   },
   {
    "duration": 27,
    "start_time": "2023-07-01T14:08:11.759Z"
   },
   {
    "duration": 26,
    "start_time": "2023-07-01T14:08:11.788Z"
   },
   {
    "duration": 69,
    "start_time": "2023-07-01T14:08:11.820Z"
   },
   {
    "duration": 27,
    "start_time": "2023-07-01T14:08:11.891Z"
   },
   {
    "duration": 33,
    "start_time": "2023-07-01T14:08:11.921Z"
   },
   {
    "duration": 64,
    "start_time": "2023-07-01T14:08:11.956Z"
   },
   {
    "duration": 11,
    "start_time": "2023-07-01T14:08:12.021Z"
   },
   {
    "duration": 34,
    "start_time": "2023-07-01T14:08:12.034Z"
   },
   {
    "duration": 7,
    "start_time": "2023-07-01T14:08:12.070Z"
   },
   {
    "duration": 32,
    "start_time": "2023-07-01T14:08:12.080Z"
   },
   {
    "duration": 150,
    "start_time": "2023-07-01T14:08:12.114Z"
   },
   {
    "duration": 24,
    "start_time": "2023-07-01T14:08:12.267Z"
   },
   {
    "duration": 26,
    "start_time": "2023-07-01T14:08:12.293Z"
   },
   {
    "duration": 39,
    "start_time": "2023-07-01T14:08:12.321Z"
   },
   {
    "duration": 171,
    "start_time": "2023-07-01T14:08:12.362Z"
   },
   {
    "duration": 44,
    "start_time": "2023-07-01T14:08:12.536Z"
   },
   {
    "duration": 16,
    "start_time": "2023-07-01T14:08:12.582Z"
   },
   {
    "duration": 10,
    "start_time": "2023-07-01T14:08:12.600Z"
   },
   {
    "duration": 182,
    "start_time": "2023-07-01T14:08:12.612Z"
   },
   {
    "duration": 75,
    "start_time": "2023-07-01T14:08:12.795Z"
   },
   {
    "duration": 52,
    "start_time": "2023-07-01T14:08:12.872Z"
   },
   {
    "duration": 28,
    "start_time": "2023-07-01T14:08:12.926Z"
   },
   {
    "duration": 6,
    "start_time": "2023-07-01T14:08:12.957Z"
   },
   {
    "duration": 66853,
    "start_time": "2023-07-01T14:08:12.965Z"
   },
   {
    "duration": 274979,
    "start_time": "2023-07-01T14:09:19.820Z"
   },
   {
    "duration": 249866,
    "start_time": "2023-07-01T14:13:54.801Z"
   },
   {
    "duration": 9,
    "start_time": "2023-07-01T14:18:04.669Z"
   },
   {
    "duration": 1584,
    "start_time": "2023-07-01T14:18:04.679Z"
   },
   {
    "duration": 619,
    "start_time": "2023-07-01T14:18:06.266Z"
   },
   {
    "duration": 272,
    "start_time": "2023-07-01T14:18:06.887Z"
   },
   {
    "duration": 396,
    "start_time": "2023-07-01T14:18:07.162Z"
   },
   {
    "duration": 2199,
    "start_time": "2023-07-02T13:33:09.908Z"
   },
   {
    "duration": 5,
    "start_time": "2023-07-02T13:33:12.110Z"
   },
   {
    "duration": 12291,
    "start_time": "2023-07-02T13:33:12.118Z"
   },
   {
    "duration": 415,
    "start_time": "2023-07-02T13:33:24.412Z"
   },
   {
    "duration": 470,
    "start_time": "2023-07-02T13:33:24.828Z"
   },
   {
    "duration": 203,
    "start_time": "2023-07-02T13:33:25.300Z"
   },
   {
    "duration": 560,
    "start_time": "2023-07-02T13:33:25.505Z"
   },
   {
    "duration": 673,
    "start_time": "2023-07-02T13:33:26.067Z"
   },
   {
    "duration": 429,
    "start_time": "2023-07-02T13:33:26.742Z"
   },
   {
    "duration": 7,
    "start_time": "2023-07-02T13:33:27.173Z"
   },
   {
    "duration": 16779,
    "start_time": "2023-07-02T13:33:27.182Z"
   },
   {
    "duration": 134,
    "start_time": "2023-07-02T13:33:43.963Z"
   },
   {
    "duration": 86,
    "start_time": "2023-07-02T13:33:44.101Z"
   },
   {
    "duration": 33,
    "start_time": "2023-07-02T13:33:44.191Z"
   },
   {
    "duration": 296,
    "start_time": "2023-07-02T13:33:44.227Z"
   },
   {
    "duration": 9,
    "start_time": "2023-07-02T13:33:44.525Z"
   },
   {
    "duration": 84,
    "start_time": "2023-07-02T13:33:44.554Z"
   },
   {
    "duration": 37,
    "start_time": "2023-07-02T13:33:44.641Z"
   },
   {
    "duration": 46,
    "start_time": "2023-07-02T13:33:44.683Z"
   },
   {
    "duration": 164,
    "start_time": "2023-07-02T13:33:44.732Z"
   },
   {
    "duration": 26,
    "start_time": "2023-07-02T13:33:44.898Z"
   },
   {
    "duration": 60,
    "start_time": "2023-07-02T13:33:44.926Z"
   },
   {
    "duration": 28,
    "start_time": "2023-07-02T13:33:44.988Z"
   },
   {
    "duration": 79,
    "start_time": "2023-07-02T13:33:45.018Z"
   },
   {
    "duration": 47,
    "start_time": "2023-07-02T13:33:45.099Z"
   },
   {
    "duration": 47,
    "start_time": "2023-07-02T13:33:45.148Z"
   },
   {
    "duration": 33,
    "start_time": "2023-07-02T13:33:45.196Z"
   },
   {
    "duration": 86,
    "start_time": "2023-07-02T13:33:45.237Z"
   },
   {
    "duration": 58,
    "start_time": "2023-07-02T13:33:45.325Z"
   },
   {
    "duration": 31,
    "start_time": "2023-07-02T13:33:45.392Z"
   },
   {
    "duration": 66,
    "start_time": "2023-07-02T13:33:45.426Z"
   },
   {
    "duration": 19,
    "start_time": "2023-07-02T13:33:45.495Z"
   },
   {
    "duration": 77,
    "start_time": "2023-07-02T13:33:45.517Z"
   },
   {
    "duration": 10,
    "start_time": "2023-07-02T13:33:45.597Z"
   },
   {
    "duration": 59,
    "start_time": "2023-07-02T13:33:45.610Z"
   },
   {
    "duration": 159,
    "start_time": "2023-07-02T13:33:45.670Z"
   },
   {
    "duration": 43,
    "start_time": "2023-07-02T13:33:45.831Z"
   },
   {
    "duration": 31,
    "start_time": "2023-07-02T13:33:45.877Z"
   },
   {
    "duration": 31,
    "start_time": "2023-07-02T13:33:45.910Z"
   },
   {
    "duration": 232,
    "start_time": "2023-07-02T13:33:45.943Z"
   },
   {
    "duration": 56,
    "start_time": "2023-07-02T13:33:46.177Z"
   },
   {
    "duration": 59,
    "start_time": "2023-07-02T13:33:46.235Z"
   },
   {
    "duration": 139,
    "start_time": "2023-07-02T13:33:46.296Z"
   },
   {
    "duration": 233,
    "start_time": "2023-07-02T13:33:46.437Z"
   },
   {
    "duration": 100,
    "start_time": "2023-07-02T13:33:46.673Z"
   },
   {
    "duration": 68,
    "start_time": "2023-07-02T13:33:46.775Z"
   },
   {
    "duration": 9,
    "start_time": "2023-07-02T13:33:46.845Z"
   },
   {
    "duration": 19,
    "start_time": "2023-07-02T13:33:46.860Z"
   }
  ],
  "kernelspec": {
   "display_name": "Python 3 (ipykernel)",
   "language": "python",
   "name": "python3"
  },
  "language_info": {
   "codemirror_mode": {
    "name": "ipython",
    "version": 3
   },
   "file_extension": ".py",
   "mimetype": "text/x-python",
   "name": "python",
   "nbconvert_exporter": "python",
   "pygments_lexer": "ipython3",
   "version": "3.9.5"
  },
  "toc": {
   "base_numbering": 1,
   "nav_menu": {},
   "number_sections": false,
   "sideBar": true,
   "skip_h1_title": false,
   "title_cell": "Table of Contents",
   "title_sidebar": "Contents",
   "toc_cell": false,
   "toc_position": {},
   "toc_section_display": true,
   "toc_window_display": false
  },
  "varInspector": {
   "cols": {
    "lenName": 16,
    "lenType": 16,
    "lenVar": 40
   },
   "kernels_config": {
    "python": {
     "delete_cmd_postfix": "",
     "delete_cmd_prefix": "del ",
     "library": "var_list.py",
     "varRefreshCmd": "print(var_dic_list())"
    },
    "r": {
     "delete_cmd_postfix": ") ",
     "delete_cmd_prefix": "rm(",
     "library": "var_list.r",
     "varRefreshCmd": "cat(var_dic_list()) "
    }
   },
   "types_to_exclude": [
    "module",
    "function",
    "builtin_function_or_method",
    "instance",
    "_Feature"
   ],
   "window_display": false
  }
 },
 "nbformat": 4,
 "nbformat_minor": 5
}
