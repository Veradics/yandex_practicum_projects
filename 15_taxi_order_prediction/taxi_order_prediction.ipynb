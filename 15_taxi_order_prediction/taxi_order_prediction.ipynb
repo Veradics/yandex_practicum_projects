{
 "cells": [
  {
   "cell_type": "markdown",
   "metadata": {},
   "source": [
    "#  Taxi order prediction"
   ]
  },
  {
   "cell_type": "markdown",
   "metadata": {},
   "source": [
    "**The main objective of this project** is to predict the number of cab orders for the next hour in order to attract more drivers during peak periods. \n",
    "\n",
    "The customer has provided historical data on cab orders at airports. The number of orders is in the `num_orders` column.\n",
    "\n",
    "**Plan of action:**\n",
    "1. Load the data and resample it one hour at a time.\n",
    "2. Analyze the data.\n",
    "3. Train different models with different hyperparameters. Make a test sample of size 10% of the original data.\n",
    "4. Validate the data on the test sample and draw conclusions.\n",
    "\n",
    "*Metric for model quality assessment: RMSE*"
   ]
  },
  {
   "cell_type": "markdown",
   "metadata": {},
   "source": [
    "## Data preparation"
   ]
  },
  {
   "cell_type": "code",
   "execution_count": 1,
   "metadata": {},
   "outputs": [],
   "source": [
    "import pandas as pd\n",
    "import numpy as np\n",
    "import matplotlib.pyplot as plt\n",
    "\n",
    "from statsmodels.tsa.seasonal import seasonal_decompose\n",
    "\n",
    "from sklearn.preprocessing import StandardScaler\n",
    "from sklearn.model_selection import train_test_split, GridSearchCV, TimeSeriesSplit\n",
    "from sklearn.metrics import mean_squared_error\n",
    "from sklearn.ensemble import RandomForestRegressor\n",
    "\n",
    "from lightgbm import LGBMRegressor"
   ]
  },
  {
   "cell_type": "code",
   "execution_count": 2,
   "metadata": {},
   "outputs": [
    {
     "data": {
      "text/html": [
       "<div>\n",
       "<style scoped>\n",
       "    .dataframe tbody tr th:only-of-type {\n",
       "        vertical-align: middle;\n",
       "    }\n",
       "\n",
       "    .dataframe tbody tr th {\n",
       "        vertical-align: top;\n",
       "    }\n",
       "\n",
       "    .dataframe thead th {\n",
       "        text-align: right;\n",
       "    }\n",
       "</style>\n",
       "<table border=\"1\" class=\"dataframe\">\n",
       "  <thead>\n",
       "    <tr style=\"text-align: right;\">\n",
       "      <th></th>\n",
       "      <th>datetime</th>\n",
       "      <th>num_orders</th>\n",
       "    </tr>\n",
       "  </thead>\n",
       "  <tbody>\n",
       "    <tr>\n",
       "      <th>0</th>\n",
       "      <td>2018-03-01 00:00:00</td>\n",
       "      <td>9</td>\n",
       "    </tr>\n",
       "    <tr>\n",
       "      <th>1</th>\n",
       "      <td>2018-03-01 00:10:00</td>\n",
       "      <td>14</td>\n",
       "    </tr>\n",
       "    <tr>\n",
       "      <th>2</th>\n",
       "      <td>2018-03-01 00:20:00</td>\n",
       "      <td>28</td>\n",
       "    </tr>\n",
       "    <tr>\n",
       "      <th>3</th>\n",
       "      <td>2018-03-01 00:30:00</td>\n",
       "      <td>20</td>\n",
       "    </tr>\n",
       "    <tr>\n",
       "      <th>4</th>\n",
       "      <td>2018-03-01 00:40:00</td>\n",
       "      <td>32</td>\n",
       "    </tr>\n",
       "  </tbody>\n",
       "</table>\n",
       "</div>"
      ],
      "text/plain": [
       "              datetime  num_orders\n",
       "0  2018-03-01 00:00:00           9\n",
       "1  2018-03-01 00:10:00          14\n",
       "2  2018-03-01 00:20:00          28\n",
       "3  2018-03-01 00:30:00          20\n",
       "4  2018-03-01 00:40:00          32"
      ]
     },
     "execution_count": 2,
     "metadata": {},
     "output_type": "execute_result"
    }
   ],
   "source": [
    "data = pd.read_csv('/datasets/taxi.csv')\n",
    "data.head()"
   ]
  },
  {
   "cell_type": "code",
   "execution_count": 3,
   "metadata": {},
   "outputs": [
    {
     "name": "stdout",
     "output_type": "stream",
     "text": [
      "<class 'pandas.core.frame.DataFrame'>\n",
      "RangeIndex: 26496 entries, 0 to 26495\n",
      "Data columns (total 2 columns):\n",
      " #   Column      Non-Null Count  Dtype \n",
      "---  ------      --------------  ----- \n",
      " 0   datetime    26496 non-null  object\n",
      " 1   num_orders  26496 non-null  int64 \n",
      "dtypes: int64(1), object(1)\n",
      "memory usage: 414.1+ KB\n"
     ]
    }
   ],
   "source": [
    "data.info()"
   ]
  },
  {
   "cell_type": "markdown",
   "metadata": {},
   "source": [
    "Let's bring the `datetime` column to the expected data type and replace the existing index with it."
   ]
  },
  {
   "cell_type": "code",
   "execution_count": 4,
   "metadata": {},
   "outputs": [],
   "source": [
    "data['datetime'] = pd.to_datetime(data['datetime'])\n",
    "data.set_index('datetime', inplace=True)"
   ]
  },
  {
   "cell_type": "code",
   "execution_count": 5,
   "metadata": {},
   "outputs": [
    {
     "data": {
      "text/html": [
       "<div>\n",
       "<style scoped>\n",
       "    .dataframe tbody tr th:only-of-type {\n",
       "        vertical-align: middle;\n",
       "    }\n",
       "\n",
       "    .dataframe tbody tr th {\n",
       "        vertical-align: top;\n",
       "    }\n",
       "\n",
       "    .dataframe thead th {\n",
       "        text-align: right;\n",
       "    }\n",
       "</style>\n",
       "<table border=\"1\" class=\"dataframe\">\n",
       "  <thead>\n",
       "    <tr style=\"text-align: right;\">\n",
       "      <th></th>\n",
       "      <th>num_orders</th>\n",
       "    </tr>\n",
       "    <tr>\n",
       "      <th>datetime</th>\n",
       "      <th></th>\n",
       "    </tr>\n",
       "  </thead>\n",
       "  <tbody>\n",
       "    <tr>\n",
       "      <th>2018-03-01 00:00:00</th>\n",
       "      <td>9</td>\n",
       "    </tr>\n",
       "    <tr>\n",
       "      <th>2018-03-01 00:10:00</th>\n",
       "      <td>14</td>\n",
       "    </tr>\n",
       "    <tr>\n",
       "      <th>2018-03-01 00:20:00</th>\n",
       "      <td>28</td>\n",
       "    </tr>\n",
       "    <tr>\n",
       "      <th>2018-03-01 00:30:00</th>\n",
       "      <td>20</td>\n",
       "    </tr>\n",
       "    <tr>\n",
       "      <th>2018-03-01 00:40:00</th>\n",
       "      <td>32</td>\n",
       "    </tr>\n",
       "  </tbody>\n",
       "</table>\n",
       "</div>"
      ],
      "text/plain": [
       "                     num_orders\n",
       "datetime                       \n",
       "2018-03-01 00:00:00           9\n",
       "2018-03-01 00:10:00          14\n",
       "2018-03-01 00:20:00          28\n",
       "2018-03-01 00:30:00          20\n",
       "2018-03-01 00:40:00          32"
      ]
     },
     "execution_count": 5,
     "metadata": {},
     "output_type": "execute_result"
    }
   ],
   "source": [
    "data.head()"
   ]
  },
  {
   "cell_type": "code",
   "execution_count": 6,
   "metadata": {},
   "outputs": [
    {
     "data": {
      "text/plain": [
       "True"
      ]
     },
     "execution_count": 6,
     "metadata": {},
     "output_type": "execute_result"
    }
   ],
   "source": [
    "data.index.is_monotonic"
   ]
  },
  {
   "cell_type": "markdown",
   "metadata": {},
   "source": [
    "The index is monotonically arranged, you can resample for each hour, calculating the total number of cab orders."
   ]
  },
  {
   "cell_type": "code",
   "execution_count": 7,
   "metadata": {},
   "outputs": [
    {
     "data": {
      "text/html": [
       "<div>\n",
       "<style scoped>\n",
       "    .dataframe tbody tr th:only-of-type {\n",
       "        vertical-align: middle;\n",
       "    }\n",
       "\n",
       "    .dataframe tbody tr th {\n",
       "        vertical-align: top;\n",
       "    }\n",
       "\n",
       "    .dataframe thead th {\n",
       "        text-align: right;\n",
       "    }\n",
       "</style>\n",
       "<table border=\"1\" class=\"dataframe\">\n",
       "  <thead>\n",
       "    <tr style=\"text-align: right;\">\n",
       "      <th></th>\n",
       "      <th>num_orders</th>\n",
       "    </tr>\n",
       "    <tr>\n",
       "      <th>datetime</th>\n",
       "      <th></th>\n",
       "    </tr>\n",
       "  </thead>\n",
       "  <tbody>\n",
       "    <tr>\n",
       "      <th>2018-03-01 00:00:00</th>\n",
       "      <td>124</td>\n",
       "    </tr>\n",
       "    <tr>\n",
       "      <th>2018-03-01 01:00:00</th>\n",
       "      <td>85</td>\n",
       "    </tr>\n",
       "    <tr>\n",
       "      <th>2018-03-01 02:00:00</th>\n",
       "      <td>71</td>\n",
       "    </tr>\n",
       "    <tr>\n",
       "      <th>2018-03-01 03:00:00</th>\n",
       "      <td>66</td>\n",
       "    </tr>\n",
       "    <tr>\n",
       "      <th>2018-03-01 04:00:00</th>\n",
       "      <td>43</td>\n",
       "    </tr>\n",
       "  </tbody>\n",
       "</table>\n",
       "</div>"
      ],
      "text/plain": [
       "                     num_orders\n",
       "datetime                       \n",
       "2018-03-01 00:00:00         124\n",
       "2018-03-01 01:00:00          85\n",
       "2018-03-01 02:00:00          71\n",
       "2018-03-01 03:00:00          66\n",
       "2018-03-01 04:00:00          43"
      ]
     },
     "execution_count": 7,
     "metadata": {},
     "output_type": "execute_result"
    }
   ],
   "source": [
    "data = data.resample('1H').sum()\n",
    "data.head()"
   ]
  },
  {
   "cell_type": "markdown",
   "metadata": {},
   "source": [
    "## Data analysis"
   ]
  },
  {
   "cell_type": "markdown",
   "metadata": {},
   "source": [
    "Let's see what the data looks like on a graph:"
   ]
  },
  {
   "cell_type": "code",
   "execution_count": 8,
   "metadata": {},
   "outputs": [],
   "source": [
    "# rolling mean\n",
    "data['rolling_mean'] = data.rolling(3).mean()"
   ]
  },
  {
   "cell_type": "code",
   "execution_count": 9,
   "metadata": {},
   "outputs": [],
   "source": [
    "def component_plot(component, title):\n",
    "    if title == 'Тренд':\n",
    "        data['rolling_mean'].plot(ax=plt.gca())\n",
    "        \n",
    "    component.plot(ax=plt.gca())\n",
    "    plt.title(title)\n",
    "    plt.show()"
   ]
  },
  {
   "cell_type": "code",
   "execution_count": 10,
   "metadata": {},
   "outputs": [
    {
     "data": {
      "image/png": "[encoded data removed]",
      "text/plain": [
       "<Figure size 432x288 with 1 Axes>"
      ]
     },
     "metadata": {
      "needs_background": "light"
     },
     "output_type": "display_data"
    },
    {
     "data": {
      "image/png": "[encoded data removed]",
      "text/plain": [
       "<Figure size 432x288 with 1 Axes>"
      ]
     },
     "metadata": {
      "needs_background": "light"
     },
     "output_type": "display_data"
    }
   ],
   "source": [
    "decomposed_data = seasonal_decompose(data[['num_orders']])\n",
    "\n",
    "component_plot(decomposed_data.trend, 'Тренд')\n",
    "component_plot(decomposed_data.seasonal, 'Сезонность')"
   ]
  },
  {
   "cell_type": "markdown",
   "metadata": {},
   "source": [
    "The graph shows a smooth growth in the number of orders with each subsequent month.\n",
    "\n",
    "It is difficult to distinguish seasonality over such a long period of time. However, it can probably be observed on a daily basis. Let's consider the \"seasonality\" of the number of orders for March 1 and 2, 2018:"
   ]
  },
  {
   "cell_type": "code",
   "execution_count": 11,
   "metadata": {},
   "outputs": [
    {
     "data": {
      "image/png": "[encoded data removed]",
      "text/plain": [
       "<Figure size 432x288 with 1 Axes>"
      ]
     },
     "metadata": {
      "needs_background": "light"
     },
     "output_type": "display_data"
    }
   ],
   "source": [
    "component_plot(decomposed_data.seasonal['2018-03-01': '2018-03-02'], 'Сезонность')"
   ]
  },
  {
   "cell_type": "markdown",
   "metadata": {},
   "source": [
    "The peak of the total number of orders per hour is observed at midnight (we can assume that this is due to the end of public transportation), while the minimum is at 6 am."
   ]
  },
  {
   "cell_type": "markdown",
   "metadata": {},
   "source": [
    "## Model training"
   ]
  },
  {
   "cell_type": "markdown",
   "metadata": {},
   "source": [
    "Before training the model, let's add new attributes to our dataset:\n",
    "- calendar: month, day of the week, hour\n",
    "- \"lagged values\": previous values of the time series\n",
    "- moving average"
   ]
  },
  {
   "cell_type": "code",
   "execution_count": 12,
   "metadata": {},
   "outputs": [],
   "source": [
    "def add_features(data, max_lag=3, rolling_n=2):\n",
    "    new_data = data.copy(deep=True) \n",
    "    \n",
    "    # calendar features\n",
    "    new_data['month'] = new_data.index.month\n",
    "    new_data['day'] = new_data.index.day\n",
    "    new_data['dayofweek'] = new_data.index.dayofweek\n",
    "    new_data['hour'] = new_data.index.hour\n",
    "    \n",
    "    # \"lagged values\"\n",
    "    for lag in range(max_lag):\n",
    "        new_data[f'lag_{lag+1}'] = new_data['num_orders'].shift(lag+1)\n",
    "        \n",
    "    # rolling mean\n",
    "    new_data['rolling_mean'] = new_data['num_orders'].shift().rolling(rolling_n).mean()\n",
    "    \n",
    "    return new_data"
   ]
  },
  {
   "cell_type": "code",
   "execution_count": 13,
   "metadata": {},
   "outputs": [
    {
     "data": {
      "text/html": [
       "<div>\n",
       "<style scoped>\n",
       "    .dataframe tbody tr th:only-of-type {\n",
       "        vertical-align: middle;\n",
       "    }\n",
       "\n",
       "    .dataframe tbody tr th {\n",
       "        vertical-align: top;\n",
       "    }\n",
       "\n",
       "    .dataframe thead th {\n",
       "        text-align: right;\n",
       "    }\n",
       "</style>\n",
       "<table border=\"1\" class=\"dataframe\">\n",
       "  <thead>\n",
       "    <tr style=\"text-align: right;\">\n",
       "      <th></th>\n",
       "      <th>num_orders</th>\n",
       "      <th>rolling_mean</th>\n",
       "      <th>month</th>\n",
       "      <th>day</th>\n",
       "      <th>dayofweek</th>\n",
       "      <th>hour</th>\n",
       "      <th>lag_1</th>\n",
       "      <th>lag_2</th>\n",
       "      <th>lag_3</th>\n",
       "    </tr>\n",
       "    <tr>\n",
       "      <th>datetime</th>\n",
       "      <th></th>\n",
       "      <th></th>\n",
       "      <th></th>\n",
       "      <th></th>\n",
       "      <th></th>\n",
       "      <th></th>\n",
       "      <th></th>\n",
       "      <th></th>\n",
       "      <th></th>\n",
       "    </tr>\n",
       "  </thead>\n",
       "  <tbody>\n",
       "    <tr>\n",
       "      <th>2018-03-01 00:00:00</th>\n",
       "      <td>124</td>\n",
       "      <td>NaN</td>\n",
       "      <td>3</td>\n",
       "      <td>1</td>\n",
       "      <td>3</td>\n",
       "      <td>0</td>\n",
       "      <td>NaN</td>\n",
       "      <td>NaN</td>\n",
       "      <td>NaN</td>\n",
       "    </tr>\n",
       "    <tr>\n",
       "      <th>2018-03-01 01:00:00</th>\n",
       "      <td>85</td>\n",
       "      <td>NaN</td>\n",
       "      <td>3</td>\n",
       "      <td>1</td>\n",
       "      <td>3</td>\n",
       "      <td>1</td>\n",
       "      <td>124.0</td>\n",
       "      <td>NaN</td>\n",
       "      <td>NaN</td>\n",
       "    </tr>\n",
       "    <tr>\n",
       "      <th>2018-03-01 02:00:00</th>\n",
       "      <td>71</td>\n",
       "      <td>104.5</td>\n",
       "      <td>3</td>\n",
       "      <td>1</td>\n",
       "      <td>3</td>\n",
       "      <td>2</td>\n",
       "      <td>85.0</td>\n",
       "      <td>124.0</td>\n",
       "      <td>NaN</td>\n",
       "    </tr>\n",
       "    <tr>\n",
       "      <th>2018-03-01 03:00:00</th>\n",
       "      <td>66</td>\n",
       "      <td>78.0</td>\n",
       "      <td>3</td>\n",
       "      <td>1</td>\n",
       "      <td>3</td>\n",
       "      <td>3</td>\n",
       "      <td>71.0</td>\n",
       "      <td>85.0</td>\n",
       "      <td>124.0</td>\n",
       "    </tr>\n",
       "    <tr>\n",
       "      <th>2018-03-01 04:00:00</th>\n",
       "      <td>43</td>\n",
       "      <td>68.5</td>\n",
       "      <td>3</td>\n",
       "      <td>1</td>\n",
       "      <td>3</td>\n",
       "      <td>4</td>\n",
       "      <td>66.0</td>\n",
       "      <td>71.0</td>\n",
       "      <td>85.0</td>\n",
       "    </tr>\n",
       "  </tbody>\n",
       "</table>\n",
       "</div>"
      ],
      "text/plain": [
       "                     num_orders  rolling_mean  month  day  dayofweek  hour  \\\n",
       "datetime                                                                     \n",
       "2018-03-01 00:00:00         124           NaN      3    1          3     0   \n",
       "2018-03-01 01:00:00          85           NaN      3    1          3     1   \n",
       "2018-03-01 02:00:00          71         104.5      3    1          3     2   \n",
       "2018-03-01 03:00:00          66          78.0      3    1          3     3   \n",
       "2018-03-01 04:00:00          43          68.5      3    1          3     4   \n",
       "\n",
       "                     lag_1  lag_2  lag_3  \n",
       "datetime                                  \n",
       "2018-03-01 00:00:00    NaN    NaN    NaN  \n",
       "2018-03-01 01:00:00  124.0    NaN    NaN  \n",
       "2018-03-01 02:00:00   85.0  124.0    NaN  \n",
       "2018-03-01 03:00:00   71.0   85.0  124.0  \n",
       "2018-03-01 04:00:00   66.0   71.0   85.0  "
      ]
     },
     "execution_count": 13,
     "metadata": {},
     "output_type": "execute_result"
    }
   ],
   "source": [
    "data_with_features = add_features(data)\n",
    "data_with_features.head()"
   ]
  },
  {
   "cell_type": "markdown",
   "metadata": {},
   "source": [
    "Let's split the dataset into training and test sets:"
   ]
  },
  {
   "cell_type": "code",
   "execution_count": 14,
   "metadata": {},
   "outputs": [
    {
     "data": {
      "text/plain": [
       "((3971, 8), (442, 8))"
      ]
     },
     "execution_count": 14,
     "metadata": {},
     "output_type": "execute_result"
    }
   ],
   "source": [
    "train, test = train_test_split(data_with_features, shuffle=False, test_size=0.1)\n",
    "train = train.dropna()\n",
    "\n",
    "# train\n",
    "features_train = train.drop(columns=['num_orders'])\n",
    "target_train = train['num_orders']\n",
    "\n",
    "# test\n",
    "features_test = test.drop(columns=['num_orders'])\n",
    "target_test = test['num_orders']\n",
    "\n",
    "features_train.shape, features_test.shape"
   ]
  },
  {
   "cell_type": "code",
   "execution_count": 15,
   "metadata": {},
   "outputs": [],
   "source": [
    "# scaling\n",
    "scaler = StandardScaler()\n",
    "scaler.fit(features_train)\n",
    "cols = features_train.columns\n",
    "\n",
    "features_train = pd.DataFrame(scaler.transform(features_train), columns=cols)\n",
    "features_test = pd.DataFrame(scaler.transform(features_test), columns=cols)"
   ]
  },
  {
   "cell_type": "code",
   "execution_count": 16,
   "metadata": {},
   "outputs": [
    {
     "data": {
      "text/html": [
       "<div>\n",
       "<style scoped>\n",
       "    .dataframe tbody tr th:only-of-type {\n",
       "        vertical-align: middle;\n",
       "    }\n",
       "\n",
       "    .dataframe tbody tr th {\n",
       "        vertical-align: top;\n",
       "    }\n",
       "\n",
       "    .dataframe thead th {\n",
       "        text-align: right;\n",
       "    }\n",
       "</style>\n",
       "<table border=\"1\" class=\"dataframe\">\n",
       "  <thead>\n",
       "    <tr style=\"text-align: right;\">\n",
       "      <th></th>\n",
       "      <th>rolling_mean</th>\n",
       "      <th>month</th>\n",
       "      <th>day</th>\n",
       "      <th>dayofweek</th>\n",
       "      <th>hour</th>\n",
       "      <th>lag_1</th>\n",
       "      <th>lag_2</th>\n",
       "      <th>lag_3</th>\n",
       "    </tr>\n",
       "  </thead>\n",
       "  <tbody>\n",
       "    <tr>\n",
       "      <th>0</th>\n",
       "      <td>-0.007790</td>\n",
       "      <td>-1.412939</td>\n",
       "      <td>-1.592432</td>\n",
       "      <td>-0.01283</td>\n",
       "      <td>-1.227447</td>\n",
       "      <td>-0.187932</td>\n",
       "      <td>0.174161</td>\n",
       "      <td>1.183080</td>\n",
       "    </tr>\n",
       "    <tr>\n",
       "      <th>1</th>\n",
       "      <td>-0.285686</td>\n",
       "      <td>-1.412939</td>\n",
       "      <td>-1.592432</td>\n",
       "      <td>-0.01283</td>\n",
       "      <td>-1.082877</td>\n",
       "      <td>-0.317234</td>\n",
       "      <td>-0.187889</td>\n",
       "      <td>0.174324</td>\n",
       "    </tr>\n",
       "    <tr>\n",
       "      <th>2</th>\n",
       "      <td>-0.695217</td>\n",
       "      <td>-1.412939</td>\n",
       "      <td>-1.592432</td>\n",
       "      <td>-0.01283</td>\n",
       "      <td>-0.938306</td>\n",
       "      <td>-0.912023</td>\n",
       "      <td>-0.317192</td>\n",
       "      <td>-0.187794</td>\n",
       "    </tr>\n",
       "    <tr>\n",
       "      <th>3</th>\n",
       "      <td>-1.572782</td>\n",
       "      <td>-1.412939</td>\n",
       "      <td>-1.592432</td>\n",
       "      <td>-0.01283</td>\n",
       "      <td>-0.793736</td>\n",
       "      <td>-1.868857</td>\n",
       "      <td>-0.911988</td>\n",
       "      <td>-0.317122</td>\n",
       "    </tr>\n",
       "    <tr>\n",
       "      <th>4</th>\n",
       "      <td>-2.026192</td>\n",
       "      <td>-1.412939</td>\n",
       "      <td>-1.592432</td>\n",
       "      <td>-0.01283</td>\n",
       "      <td>-0.649165</td>\n",
       "      <td>-1.713694</td>\n",
       "      <td>-1.868834</td>\n",
       "      <td>-0.912029</td>\n",
       "    </tr>\n",
       "  </tbody>\n",
       "</table>\n",
       "</div>"
      ],
      "text/plain": [
       "   rolling_mean     month       day  dayofweek      hour     lag_1     lag_2  \\\n",
       "0     -0.007790 -1.412939 -1.592432   -0.01283 -1.227447 -0.187932  0.174161   \n",
       "1     -0.285686 -1.412939 -1.592432   -0.01283 -1.082877 -0.317234 -0.187889   \n",
       "2     -0.695217 -1.412939 -1.592432   -0.01283 -0.938306 -0.912023 -0.317192   \n",
       "3     -1.572782 -1.412939 -1.592432   -0.01283 -0.793736 -1.868857 -0.911988   \n",
       "4     -2.026192 -1.412939 -1.592432   -0.01283 -0.649165 -1.713694 -1.868834   \n",
       "\n",
       "      lag_3  \n",
       "0  1.183080  \n",
       "1  0.174324  \n",
       "2 -0.187794  \n",
       "3 -0.317122  \n",
       "4 -0.912029  "
      ]
     },
     "execution_count": 16,
     "metadata": {},
     "output_type": "execute_result"
    }
   ],
   "source": [
    "features_train.head()"
   ]
  },
  {
   "cell_type": "markdown",
   "metadata": {},
   "source": [
    "Let's compare 2 different algorithms, *Random Forest* and *Gradient boosting*."
   ]
  },
  {
   "cell_type": "code",
   "execution_count": 17,
   "metadata": {},
   "outputs": [
    {
     "name": "stdout",
     "output_type": "stream",
     "text": [
      "RMSE на обучающей выборке: 26.793346176893373\n",
      "Гиперпараметры: {'max_depth': 7, 'n_estimators': 50}\n",
      "CPU times: user 22.8 s, sys: 87.3 ms, total: 22.8 s\n",
      "Wall time: 22.9 s\n"
     ]
    }
   ],
   "source": [
    "%%time\n",
    "\n",
    "# Random forest\n",
    "params = {\n",
    "    'n_estimators': range(50, 200, 50),\n",
    "    'max_depth': range(3, 8)\n",
    "}\n",
    "\n",
    "model = RandomForestRegressor()\n",
    "\n",
    "cv = TimeSeriesSplit(n_splits=5)\n",
    "grid = GridSearchCV(estimator=model, cv=cv, param_grid=params, scoring='neg_root_mean_squared_error')\n",
    "grid.fit(features_train, target_train)\n",
    "\n",
    "# the best model\n",
    "forest_model = grid.best_estimator_\n",
    "\n",
    "print('RMSE на обучающей выборке:', -grid.best_score_)\n",
    "print('Гиперпараметры:', grid.best_params_)"
   ]
  },
  {
   "cell_type": "code",
   "execution_count": 18,
   "metadata": {},
   "outputs": [
    {
     "name": "stdout",
     "output_type": "stream",
     "text": [
      "RMSE на обучающей выборке: 25.82375298383868\n",
      "Гиперпараметры: {'learning_rate': 0.5, 'max_depth': 3, 'n_estimators': 50}\n",
      "CPU times: user 9min 22s, sys: 4.63 s, total: 9min 27s\n",
      "Wall time: 9min 35s\n"
     ]
    }
   ],
   "source": [
    "%%time\n",
    "\n",
    "# Gradient boosting\n",
    "params = {\n",
    "    'learning_rate': [0.5, 1],\n",
    "    'n_estimators': range(50, 200, 50),\n",
    "    'max_depth': range(3, 8)\n",
    "}\n",
    "\n",
    "model = LGBMRegressor()\n",
    "\n",
    "cv = TimeSeriesSplit(n_splits=5)\n",
    "grid = GridSearchCV(estimator=model, cv=cv, param_grid=params, scoring='neg_root_mean_squared_error')\n",
    "grid.fit(features_train, target_train)\n",
    "\n",
    "# the best model\n",
    "lgbm_model = grid.best_estimator_\n",
    "\n",
    "print('RMSE на обучающей выборке:', -grid.best_score_)\n",
    "print('Гиперпараметры:', grid.best_params_)"
   ]
  },
  {
   "cell_type": "markdown",
   "metadata": {},
   "source": [
    "The model trained by the gradient boosting algorithm showed the best results on the training set. Let's test it on the test set."
   ]
  },
  {
   "cell_type": "markdown",
   "metadata": {},
   "source": [
    "## Final testing"
   ]
  },
  {
   "cell_type": "code",
   "execution_count": 19,
   "metadata": {},
   "outputs": [
    {
     "name": "stdout",
     "output_type": "stream",
     "text": [
      "RMSE на тестовой выборке: 44.74145889798763\n"
     ]
    }
   ],
   "source": [
    "preds = lgbm_model.predict(features_test)\n",
    "print('RMSE на тестовой выборке:', mean_squared_error(target_test, preds, squared=False))"
   ]
  },
  {
   "cell_type": "code",
   "execution_count": 20,
   "metadata": {},
   "outputs": [
    {
     "data": {
      "image/png": "[encoded data removed]",
      "text/plain": [
       "<Figure size 1440x432 with 1 Axes>"
      ]
     },
     "metadata": {
      "needs_background": "light"
     },
     "output_type": "display_data"
    }
   ],
   "source": [
    "plt.figure(figsize=(20, 6))\n",
    "plt.plot(target_test.index, target_test, label='Фактические значения', alpha=0.8)\n",
    "plt.plot(target_test.index, preds, label='Предсказанные значения', alpha=0.8)\n",
    "plt.xlabel('Временной индекс')\n",
    "plt.ylabel('Значение временного ряда')\n",
    "plt.title('График предсказания временного ряда')\n",
    "plt.legend()\n",
    "plt.grid(True)\n",
    "plt.show()"
   ]
  },
  {
   "cell_type": "markdown",
   "metadata": {},
   "source": [
    "**Conclusion:**\n",
    "\n",
    "This project required building a model to predict the number of cab orders for the next hour. The provided data was processed and analyzed, also resampling by hour and adding several new features including time variables (month, day of the week, day, hour) and \"lagged values\". \n",
    "\n",
    "At the end of testing, the model trained with the *gradient boosting* algorithm performed the best compared to the *random forest* (although the difference in error was small). The lowest error value obtained was **RMSE=8.8** (*learning_rate=0.5, n_estimators=50, max_depth=3*)"
   ]
  }
 ],
 "metadata": {
  "ExecuteTimeLog": [
   {
    "duration": 821,
    "start_time": "2023-08-20T21:12:37.020Z"
   },
   {
    "duration": 131,
    "start_time": "2023-08-20T21:12:55.972Z"
   },
   {
    "duration": 55,
    "start_time": "2023-08-20T21:13:12.236Z"
   },
   {
    "duration": 57,
    "start_time": "2023-08-20T21:13:20.362Z"
   },
   {
    "duration": 220,
    "start_time": "2023-08-20T21:13:45.585Z"
   },
   {
    "duration": 11,
    "start_time": "2023-08-20T21:15:22.469Z"
   },
   {
    "duration": 11,
    "start_time": "2023-08-20T21:15:27.464Z"
   },
   {
    "duration": 9,
    "start_time": "2023-08-20T21:17:13.284Z"
   },
   {
    "duration": 5,
    "start_time": "2023-08-20T21:17:23.236Z"
   },
   {
    "duration": 12,
    "start_time": "2023-08-20T21:18:16.944Z"
   },
   {
    "duration": 11,
    "start_time": "2023-08-20T21:18:27.657Z"
   },
   {
    "duration": 16,
    "start_time": "2023-08-20T21:19:08.062Z"
   },
   {
    "duration": 7,
    "start_time": "2023-08-20T21:21:03.502Z"
   },
   {
    "duration": 3,
    "start_time": "2023-08-20T21:21:11.596Z"
   },
   {
    "duration": 13,
    "start_time": "2023-08-20T21:21:22.051Z"
   },
   {
    "duration": 47,
    "start_time": "2023-08-20T21:21:31.539Z"
   },
   {
    "duration": 10,
    "start_time": "2023-08-20T21:21:35.400Z"
   },
   {
    "duration": 8,
    "start_time": "2023-08-20T21:21:37.601Z"
   },
   {
    "duration": 6,
    "start_time": "2023-08-20T21:21:39.219Z"
   },
   {
    "duration": 3,
    "start_time": "2023-08-20T21:21:41.365Z"
   },
   {
    "duration": 9,
    "start_time": "2023-08-20T21:21:43.385Z"
   },
   {
    "duration": 721,
    "start_time": "2023-08-20T21:22:21.222Z"
   },
   {
    "duration": 45,
    "start_time": "2023-08-20T21:24:26.290Z"
   },
   {
    "duration": 270,
    "start_time": "2023-08-20T21:24:56.419Z"
   },
   {
    "duration": 3,
    "start_time": "2023-08-20T21:26:58.614Z"
   },
   {
    "duration": 646,
    "start_time": "2023-08-20T21:28:10.186Z"
   },
   {
    "duration": 6,
    "start_time": "2023-08-20T21:29:35.664Z"
   },
   {
    "duration": 11,
    "start_time": "2023-08-20T21:29:37.827Z"
   },
   {
    "duration": 11,
    "start_time": "2023-08-20T21:30:01.555Z"
   },
   {
    "duration": 51,
    "start_time": "2023-08-20T21:32:43.943Z"
   },
   {
    "duration": 14,
    "start_time": "2023-08-20T21:32:46.314Z"
   },
   {
    "duration": 8,
    "start_time": "2023-08-20T21:32:48.195Z"
   },
   {
    "duration": 10,
    "start_time": "2023-08-20T21:32:52.379Z"
   },
   {
    "duration": 2,
    "start_time": "2023-08-20T21:32:55.807Z"
   },
   {
    "duration": 592,
    "start_time": "2023-08-20T21:32:58.203Z"
   },
   {
    "duration": 4,
    "start_time": "2023-08-20T21:33:09.980Z"
   },
   {
    "duration": 6,
    "start_time": "2023-08-20T21:33:14.564Z"
   },
   {
    "duration": 5,
    "start_time": "2023-08-20T21:34:07.507Z"
   },
   {
    "duration": 640,
    "start_time": "2023-08-20T21:34:24.062Z"
   },
   {
    "duration": 3,
    "start_time": "2023-08-20T21:35:47.311Z"
   },
   {
    "duration": 634,
    "start_time": "2023-08-20T21:35:49.779Z"
   },
   {
    "duration": 4,
    "start_time": "2023-08-20T21:35:57.344Z"
   },
   {
    "duration": 705,
    "start_time": "2023-08-20T21:36:17.233Z"
   },
   {
    "duration": 5,
    "start_time": "2023-08-20T21:36:27.432Z"
   },
   {
    "duration": 623,
    "start_time": "2023-08-20T21:36:29.568Z"
   },
   {
    "duration": 4,
    "start_time": "2023-08-20T21:36:35.208Z"
   },
   {
    "duration": 723,
    "start_time": "2023-08-20T21:36:37.700Z"
   },
   {
    "duration": 398,
    "start_time": "2023-08-20T21:38:17.487Z"
   },
   {
    "duration": 138,
    "start_time": "2023-08-20T21:45:35.629Z"
   },
   {
    "duration": 123,
    "start_time": "2023-08-20T21:45:44.599Z"
   },
   {
    "duration": 384,
    "start_time": "2023-08-20T21:59:20.606Z"
   },
   {
    "duration": 2,
    "start_time": "2023-08-20T22:12:08.509Z"
   },
   {
    "duration": 12,
    "start_time": "2023-08-20T22:13:31.799Z"
   },
   {
    "duration": 5,
    "start_time": "2023-08-20T22:19:08.746Z"
   },
   {
    "duration": 4,
    "start_time": "2023-08-20T22:19:22.896Z"
   },
   {
    "duration": 33,
    "start_time": "2023-08-20T22:19:30.647Z"
   },
   {
    "duration": 5,
    "start_time": "2023-08-20T22:20:00.764Z"
   },
   {
    "duration": 38,
    "start_time": "2023-08-20T22:20:02.923Z"
   },
   {
    "duration": 20,
    "start_time": "2023-08-20T22:20:38.406Z"
   },
   {
    "duration": 1793,
    "start_time": "2023-09-02T09:16:08.332Z"
   },
   {
    "duration": 122,
    "start_time": "2023-09-02T09:16:11.669Z"
   },
   {
    "duration": 13,
    "start_time": "2023-09-02T09:16:15.071Z"
   },
   {
    "duration": 9,
    "start_time": "2023-09-02T09:16:17.751Z"
   },
   {
    "duration": 7,
    "start_time": "2023-09-02T09:16:20.342Z"
   },
   {
    "duration": 4,
    "start_time": "2023-09-02T09:16:23.468Z"
   },
   {
    "duration": 15,
    "start_time": "2023-09-02T09:16:25.668Z"
   },
   {
    "duration": 6,
    "start_time": "2023-09-02T09:16:29.218Z"
   },
   {
    "duration": 4,
    "start_time": "2023-09-02T09:16:31.308Z"
   },
   {
    "duration": 473,
    "start_time": "2023-09-02T09:16:34.332Z"
   },
   {
    "duration": 225,
    "start_time": "2023-09-02T09:16:39.730Z"
   },
   {
    "duration": 4,
    "start_time": "2023-09-02T09:16:46.114Z"
   },
   {
    "duration": 5,
    "start_time": "2023-09-02T09:17:20.382Z"
   },
   {
    "duration": 25,
    "start_time": "2023-09-02T09:17:23.110Z"
   },
   {
    "duration": 124,
    "start_time": "2023-09-02T09:27:32.183Z"
   },
   {
    "duration": 15,
    "start_time": "2023-09-02T09:27:56.348Z"
   },
   {
    "duration": 8,
    "start_time": "2023-09-02T09:27:58.391Z"
   },
   {
    "duration": 25,
    "start_time": "2023-09-02T09:28:11.052Z"
   },
   {
    "duration": 9,
    "start_time": "2023-09-02T09:28:14.110Z"
   },
   {
    "duration": 9,
    "start_time": "2023-09-02T09:28:41.019Z"
   },
   {
    "duration": 3,
    "start_time": "2023-09-02T09:29:09.299Z"
   },
   {
    "duration": 48,
    "start_time": "2023-09-02T09:29:11.683Z"
   },
   {
    "duration": 13,
    "start_time": "2023-09-02T09:29:13.651Z"
   },
   {
    "duration": 9,
    "start_time": "2023-09-02T09:29:17.299Z"
   },
   {
    "duration": 6,
    "start_time": "2023-09-02T09:29:20.223Z"
   },
   {
    "duration": 4,
    "start_time": "2023-09-02T09:29:22.711Z"
   },
   {
    "duration": 12,
    "start_time": "2023-09-02T09:29:24.872Z"
   },
   {
    "duration": 6,
    "start_time": "2023-09-02T09:29:34.094Z"
   },
   {
    "duration": 3,
    "start_time": "2023-09-02T09:29:36.395Z"
   },
   {
    "duration": 464,
    "start_time": "2023-09-02T09:29:38.740Z"
   },
   {
    "duration": 163,
    "start_time": "2023-09-02T09:29:43.091Z"
   },
   {
    "duration": 4,
    "start_time": "2023-09-02T09:29:46.590Z"
   },
   {
    "duration": 11,
    "start_time": "2023-09-02T09:29:52.113Z"
   },
   {
    "duration": 6,
    "start_time": "2023-09-02T09:30:22.626Z"
   },
   {
    "duration": 22,
    "start_time": "2023-09-02T09:30:36.123Z"
   },
   {
    "duration": 10,
    "start_time": "2023-09-02T09:30:38.575Z"
   },
   {
    "duration": 3,
    "start_time": "2023-09-02T09:32:13.435Z"
   },
   {
    "duration": 4,
    "start_time": "2023-09-02T09:35:58.303Z"
   },
   {
    "duration": 3,
    "start_time": "2023-09-02T09:38:59.125Z"
   },
   {
    "duration": 4,
    "start_time": "2023-09-02T09:40:08.315Z"
   },
   {
    "duration": 31,
    "start_time": "2023-09-02T09:40:11.137Z"
   },
   {
    "duration": 6,
    "start_time": "2023-09-02T09:41:17.755Z"
   },
   {
    "duration": 21,
    "start_time": "2023-09-02T09:41:20.227Z"
   },
   {
    "duration": 10,
    "start_time": "2023-09-02T09:41:26.367Z"
   },
   {
    "duration": 4,
    "start_time": "2023-09-02T09:41:28.967Z"
   },
   {
    "duration": 118,
    "start_time": "2023-09-02T09:41:31.299Z"
   },
   {
    "duration": 4,
    "start_time": "2023-09-02T09:42:21.293Z"
   },
   {
    "duration": 15,
    "start_time": "2023-09-02T09:42:23.955Z"
   },
   {
    "duration": 25,
    "start_time": "2023-09-02T09:42:49.599Z"
   },
   {
    "duration": 9,
    "start_time": "2023-09-02T09:42:53.042Z"
   },
   {
    "duration": 5,
    "start_time": "2023-09-02T09:42:56.262Z"
   },
   {
    "duration": 29,
    "start_time": "2023-09-02T09:42:59.286Z"
   },
   {
    "duration": 4,
    "start_time": "2023-09-02T09:44:08.603Z"
   },
   {
    "duration": 25,
    "start_time": "2023-09-02T09:44:14.103Z"
   },
   {
    "duration": 12,
    "start_time": "2023-09-02T09:44:17.203Z"
   },
   {
    "duration": 5,
    "start_time": "2023-09-02T09:44:19.598Z"
   },
   {
    "duration": 4,
    "start_time": "2023-09-02T09:45:17.091Z"
   },
   {
    "duration": 23,
    "start_time": "2023-09-02T09:45:19.103Z"
   },
   {
    "duration": 13,
    "start_time": "2023-09-02T09:45:33.620Z"
   },
   {
    "duration": 17,
    "start_time": "2023-09-02T09:45:42.543Z"
   },
   {
    "duration": 12,
    "start_time": "2023-09-02T09:45:52.995Z"
   },
   {
    "duration": 4,
    "start_time": "2023-09-02T09:45:55.520Z"
   },
   {
    "duration": 17,
    "start_time": "2023-09-02T09:45:57.734Z"
   },
   {
    "duration": 6672,
    "start_time": "2023-09-02T09:52:12.841Z"
   },
   {
    "duration": 6765,
    "start_time": "2023-09-02T09:52:24.345Z"
   },
   {
    "duration": 5,
    "start_time": "2023-09-02T09:54:28.322Z"
   },
   {
    "duration": 134,
    "start_time": "2023-09-02T09:54:30.179Z"
   },
   {
    "duration": 6986,
    "start_time": "2023-09-02T09:54:32.439Z"
   },
   {
    "duration": 5,
    "start_time": "2023-09-02T09:55:14.310Z"
   },
   {
    "duration": 132,
    "start_time": "2023-09-02T09:55:19.486Z"
   },
   {
    "duration": 9077,
    "start_time": "2023-09-02T09:56:50.136Z"
   },
   {
    "duration": 4,
    "start_time": "2023-09-02T09:58:44.715Z"
   },
   {
    "duration": 4,
    "start_time": "2023-09-02T10:03:08.234Z"
   },
   {
    "duration": 20,
    "start_time": "2023-09-02T10:03:10.290Z"
   },
   {
    "duration": 12,
    "start_time": "2023-09-02T10:03:12.993Z"
   },
   {
    "duration": 4,
    "start_time": "2023-09-02T10:03:17.601Z"
   },
   {
    "duration": 65,
    "start_time": "2023-09-02T10:03:18.843Z"
   },
   {
    "duration": 11606,
    "start_time": "2023-09-02T10:03:21.119Z"
   },
   {
    "duration": 4,
    "start_time": "2023-09-02T10:03:35.000Z"
   },
   {
    "duration": 1484,
    "start_time": "2023-09-02T10:08:44.336Z"
   },
   {
    "duration": 52,
    "start_time": "2023-09-02T10:08:45.822Z"
   },
   {
    "duration": 12,
    "start_time": "2023-09-02T10:08:45.875Z"
   },
   {
    "duration": 10,
    "start_time": "2023-09-02T10:08:45.890Z"
   },
   {
    "duration": 11,
    "start_time": "2023-09-02T10:08:45.902Z"
   },
   {
    "duration": 6,
    "start_time": "2023-09-02T10:08:45.915Z"
   },
   {
    "duration": 15,
    "start_time": "2023-09-02T10:08:45.923Z"
   },
   {
    "duration": 5,
    "start_time": "2023-09-02T10:08:45.940Z"
   },
   {
    "duration": 17,
    "start_time": "2023-09-02T10:08:45.947Z"
   },
   {
    "duration": 495,
    "start_time": "2023-09-02T10:08:45.967Z"
   },
   {
    "duration": 241,
    "start_time": "2023-09-02T10:08:46.464Z"
   },
   {
    "duration": 4,
    "start_time": "2023-09-02T10:08:46.709Z"
   },
   {
    "duration": 28,
    "start_time": "2023-09-02T10:08:46.715Z"
   },
   {
    "duration": 11,
    "start_time": "2023-09-02T10:08:46.745Z"
   },
   {
    "duration": 4,
    "start_time": "2023-09-02T10:08:46.757Z"
   },
   {
    "duration": 51,
    "start_time": "2023-09-02T10:08:46.763Z"
   },
   {
    "duration": 8801,
    "start_time": "2023-09-02T10:08:46.816Z"
   },
   {
    "duration": 3,
    "start_time": "2023-09-02T10:08:55.619Z"
   },
   {
    "duration": 1732,
    "start_time": "2023-09-03T16:04:29.743Z"
   },
   {
    "duration": 206,
    "start_time": "2023-09-03T16:04:33.371Z"
   },
   {
    "duration": 15,
    "start_time": "2023-09-03T16:04:35.896Z"
   },
   {
    "duration": 10,
    "start_time": "2023-09-03T16:04:37.979Z"
   },
   {
    "duration": 10,
    "start_time": "2023-09-03T16:04:40.118Z"
   },
   {
    "duration": 5,
    "start_time": "2023-09-03T16:04:42.828Z"
   },
   {
    "duration": 4,
    "start_time": "2023-09-03T16:07:41.746Z"
   },
   {
    "duration": 148,
    "start_time": "2023-09-03T16:19:09.049Z"
   },
   {
    "duration": 13,
    "start_time": "2023-09-03T16:19:28.998Z"
   },
   {
    "duration": 10,
    "start_time": "2023-09-03T16:19:35.512Z"
   },
   {
    "duration": 10,
    "start_time": "2023-09-03T16:19:39.885Z"
   },
   {
    "duration": 5,
    "start_time": "2023-09-03T16:19:42.478Z"
   },
   {
    "duration": 33,
    "start_time": "2023-09-03T16:19:45.224Z"
   },
   {
    "duration": 33,
    "start_time": "2023-09-03T16:19:47.962Z"
   },
   {
    "duration": 11808,
    "start_time": "2023-09-03T16:19:57.288Z"
   },
   {
    "duration": 9732,
    "start_time": "2023-09-03T16:20:14.369Z"
   },
   {
    "duration": 113474,
    "start_time": "2023-09-03T16:20:29.081Z"
   },
   {
    "duration": 81854,
    "start_time": "2023-09-03T16:24:48.597Z"
   },
   {
    "duration": 50,
    "start_time": "2023-09-03T16:51:44.660Z"
   },
   {
    "duration": 4,
    "start_time": "2023-09-03T16:52:02.077Z"
   },
   {
    "duration": 60627,
    "start_time": "2023-09-03T16:53:36.871Z"
   },
   {
    "duration": 100347,
    "start_time": "2023-09-03T16:54:56.702Z"
   },
   {
    "duration": 4,
    "start_time": "2023-09-03T17:21:53.773Z"
   },
   {
    "duration": 9,
    "start_time": "2023-09-03T17:23:07.417Z"
   },
   {
    "duration": 12,
    "start_time": "2023-09-03T17:23:31.019Z"
   },
   {
    "duration": 133518,
    "start_time": "2023-09-03T17:23:48.046Z"
   },
   {
    "duration": 35,
    "start_time": "2023-09-03T17:26:21.619Z"
   },
   {
    "duration": 7,
    "start_time": "2023-09-03T17:27:59.243Z"
   },
   {
    "duration": 4,
    "start_time": "2023-09-03T17:28:15.370Z"
   },
   {
    "duration": 4,
    "start_time": "2023-09-03T17:28:29.869Z"
   },
   {
    "duration": 54474,
    "start_time": "2023-09-03T17:29:58.445Z"
   },
   {
    "duration": 4,
    "start_time": "2023-09-03T17:32:44.349Z"
   },
   {
    "duration": 20,
    "start_time": "2023-09-03T17:32:51.235Z"
   },
   {
    "duration": 13,
    "start_time": "2023-09-03T17:33:23.304Z"
   },
   {
    "duration": 56914,
    "start_time": "2023-09-03T17:33:29.499Z"
   },
   {
    "duration": 34,
    "start_time": "2023-09-03T17:34:37.464Z"
   },
   {
    "duration": 56457,
    "start_time": "2023-09-03T17:34:48.609Z"
   },
   {
    "duration": 173563,
    "start_time": "2023-09-03T17:35:49.435Z"
   },
   {
    "duration": 85,
    "start_time": "2023-09-03T17:38:56.788Z"
   },
   {
    "duration": 5447,
    "start_time": "2023-09-03T17:39:13.496Z"
   },
   {
    "duration": 85410,
    "start_time": "2023-09-03T17:40:54.155Z"
   },
   {
    "duration": 53,
    "start_time": "2023-09-03T17:44:45.744Z"
   },
   {
    "duration": 83359,
    "start_time": "2023-09-03T17:44:49.191Z"
   },
   {
    "duration": 97,
    "start_time": "2023-09-03T17:46:12.554Z"
   },
   {
    "duration": 12,
    "start_time": "2023-09-03T17:46:16.127Z"
   },
   {
    "duration": 13,
    "start_time": "2023-09-03T17:47:13.076Z"
   },
   {
    "duration": 19,
    "start_time": "2023-09-03T17:47:23.824Z"
   },
   {
    "duration": 16,
    "start_time": "2023-09-03T17:47:25.482Z"
   },
   {
    "duration": 12,
    "start_time": "2023-09-03T17:47:27.637Z"
   },
   {
    "duration": 85463,
    "start_time": "2023-09-03T17:47:45.912Z"
   },
   {
    "duration": 52003,
    "start_time": "2023-09-03T17:50:52.068Z"
   },
   {
    "duration": 54376,
    "start_time": "2023-09-03T17:52:33.731Z"
   },
   {
    "duration": 166443,
    "start_time": "2023-09-03T17:53:28.110Z"
   },
   {
    "duration": 43,
    "start_time": "2023-09-03T17:56:40.221Z"
   },
   {
    "duration": 43,
    "start_time": "2023-09-03T17:56:47.893Z"
   },
   {
    "duration": 81324,
    "start_time": "2023-09-03T17:57:44.799Z"
   },
   {
    "duration": 120132,
    "start_time": "2023-09-03T17:59:06.125Z"
   },
   {
    "duration": 19,
    "start_time": "2023-09-03T18:01:21.445Z"
   },
   {
    "duration": 26,
    "start_time": "2023-09-03T18:08:29.543Z"
   },
   {
    "duration": 496,
    "start_time": "2023-09-03T18:09:11.426Z"
   },
   {
    "duration": 333,
    "start_time": "2023-09-03T18:10:18.097Z"
   },
   {
    "duration": 430,
    "start_time": "2023-09-03T18:10:28.021Z"
   },
   {
    "duration": 208,
    "start_time": "2023-09-03T18:13:57.105Z"
   },
   {
    "duration": 324,
    "start_time": "2023-09-03T18:14:04.127Z"
   },
   {
    "duration": 335,
    "start_time": "2023-09-03T18:14:13.854Z"
   },
   {
    "duration": 7048,
    "start_time": "2023-09-04T05:50:51.681Z"
   },
   {
    "duration": 155,
    "start_time": "2023-09-04T05:51:00.203Z"
   },
   {
    "duration": 12,
    "start_time": "2023-09-04T05:51:00.365Z"
   },
   {
    "duration": 9,
    "start_time": "2023-09-04T05:51:00.665Z"
   },
   {
    "duration": 7,
    "start_time": "2023-09-04T05:51:00.810Z"
   },
   {
    "duration": 4,
    "start_time": "2023-09-04T05:51:00.965Z"
   },
   {
    "duration": 13,
    "start_time": "2023-09-04T05:51:01.261Z"
   },
   {
    "duration": 6,
    "start_time": "2023-09-04T05:51:01.864Z"
   },
   {
    "duration": 3,
    "start_time": "2023-09-04T05:51:01.988Z"
   },
   {
    "duration": 626,
    "start_time": "2023-09-04T05:51:02.155Z"
   },
   {
    "duration": 145,
    "start_time": "2023-09-04T05:51:02.783Z"
   },
   {
    "duration": 4,
    "start_time": "2023-09-04T05:51:03.708Z"
   },
   {
    "duration": 22,
    "start_time": "2023-09-04T05:51:04.441Z"
   },
   {
    "duration": 10,
    "start_time": "2023-09-04T05:51:05.358Z"
   },
   {
    "duration": 9,
    "start_time": "2023-09-04T05:51:06.293Z"
   },
   {
    "duration": 13,
    "start_time": "2023-09-04T05:51:06.562Z"
   },
   {
    "duration": 22941,
    "start_time": "2023-09-04T05:51:07.116Z"
   },
   {
    "duration": 575998,
    "start_time": "2023-09-04T05:51:30.059Z"
   },
   {
    "duration": 9,
    "start_time": "2023-09-04T06:01:06.058Z"
   },
   {
    "duration": 427,
    "start_time": "2023-09-04T06:01:06.069Z"
   }
  ],
  "kernelspec": {
   "display_name": "Python 3 (ipykernel)",
   "language": "python",
   "name": "python3"
  },
  "language_info": {
   "codemirror_mode": {
    "name": "ipython",
    "version": 3
   },
   "file_extension": ".py",
   "mimetype": "text/x-python",
   "name": "python",
   "nbconvert_exporter": "python",
   "pygments_lexer": "ipython3",
   "version": "3.9.5"
  },
  "toc": {
   "base_numbering": 1,
   "nav_menu": {},
   "number_sections": true,
   "sideBar": true,
   "skip_h1_title": true,
   "title_cell": "Содержание",
   "title_sidebar": "Contents",
   "toc_cell": true,
   "toc_position": {
    "height": "calc(100% - 180px)",
    "left": "10px",
    "top": "150px",
    "width": "165px"
   },
   "toc_section_display": true,
   "toc_window_display": false
  }
 },
 "nbformat": 4,
 "nbformat_minor": 2
}
